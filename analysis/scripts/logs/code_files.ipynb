{
 "cells": [
  {
   "cell_type": "code",
   "execution_count": 1,
   "id": "informational-harvard",
   "metadata": {
    "execution": {
     "iopub.execute_input": "2022-11-07T13:56:22.718940Z",
     "iopub.status.busy": "2022-11-07T13:56:22.718749Z",
     "iopub.status.idle": "2022-11-07T13:56:23.052072Z",
     "shell.execute_reply": "2022-11-07T13:56:23.051471Z",
     "shell.execute_reply.started": "2022-11-07T13:56:22.718891Z"
    },
    "tags": []
   },
   "outputs": [],
   "source": [
    "import pandas as pd\n",
    "from pathlib import Path\n",
    "import os\n",
    "pd.set_option('display.max_columns', 1000, 'display.max_colwidth', None, 'display.max_rows',50)"
   ]
  },
  {
   "cell_type": "code",
   "execution_count": 2,
   "id": "negative-cincinnati",
   "metadata": {
    "execution": {
     "iopub.execute_input": "2022-11-07T13:56:23.053190Z",
     "iopub.status.busy": "2022-11-07T13:56:23.053026Z",
     "iopub.status.idle": "2022-11-07T13:56:23.612131Z",
     "shell.execute_reply": "2022-11-07T13:56:23.611304Z",
     "shell.execute_reply.started": "2022-11-07T13:56:23.053172Z"
    },
    "tags": []
   },
   "outputs": [
    {
     "name": "stdout",
     "output_type": "stream",
     "text": [
      "/home/jovyan/FCA_Fetal_Skin_priv\n"
     ]
    }
   ],
   "source": [
    "root = Path('~/FCA_Fetal_Skin_priv').expanduser()\n",
    "os.chdir(root)\n",
    "!pwd"
   ]
  },
  {
   "cell_type": "code",
   "execution_count": 11,
   "id": "celtic-premiere",
   "metadata": {
    "execution": {
     "iopub.execute_input": "2022-11-07T14:45:31.496315Z",
     "iopub.status.busy": "2022-11-07T14:45:31.496064Z",
     "iopub.status.idle": "2022-11-07T14:45:31.503657Z",
     "shell.execute_reply": "2022-11-07T14:45:31.503058Z",
     "shell.execute_reply.started": "2022-11-07T14:45:31.496295Z"
    },
    "tags": []
   },
   "outputs": [],
   "source": [
    "nbs_df = pd.read_csv(Path(root, 'logs', 'notebooks_list.csv'))"
   ]
  },
  {
   "cell_type": "code",
   "execution_count": 12,
   "id": "measured-literacy",
   "metadata": {
    "execution": {
     "iopub.execute_input": "2022-11-07T14:45:32.127137Z",
     "iopub.status.busy": "2022-11-07T14:45:32.126946Z",
     "iopub.status.idle": "2022-11-07T14:45:32.135877Z",
     "shell.execute_reply": "2022-11-07T14:45:32.135412Z",
     "shell.execute_reply.started": "2022-11-07T14:45:32.127117Z"
    },
    "tags": []
   },
   "outputs": [
    {
     "data": {
      "text/plain": [
       "Pej         20\n",
       "Stephane    20\n",
       "Name: assignee, dtype: int64"
      ]
     },
     "execution_count": 12,
     "metadata": {},
     "output_type": "execute_result"
    }
   ],
   "source": [
    "nbs_df['assignee'] = ['Pej' for i in range(int(len(nbs_df)/2))] + ['Stephane' for i in range(int(len(nbs_df)/2), len(nbs_df))]\n",
    "nbs_df['assignee'].value_counts()"
   ]
  },
  {
   "cell_type": "code",
   "execution_count": 5,
   "id": "characteristic-secretariat",
   "metadata": {
    "execution": {
     "iopub.execute_input": "2022-11-07T13:56:23.650112Z",
     "iopub.status.busy": "2022-11-07T13:56:23.649944Z",
     "iopub.status.idle": "2022-11-07T13:56:23.660709Z",
     "shell.execute_reply": "2022-11-07T13:56:23.660186Z",
     "shell.execute_reply.started": "2022-11-07T13:56:23.650095Z"
    },
    "tags": []
   },
   "outputs": [],
   "source": [
    "nbs_df.to_csv(Path(root, 'logs', 'notebooks_list.csv'))"
   ]
  },
  {
   "cell_type": "code",
   "execution_count": 20,
   "id": "honest-acting",
   "metadata": {
    "execution": {
     "iopub.execute_input": "2022-11-07T14:57:45.303539Z",
     "iopub.status.busy": "2022-11-07T14:57:45.303295Z",
     "iopub.status.idle": "2022-11-07T14:57:45.309511Z",
     "shell.execute_reply": "2022-11-07T14:57:45.309032Z",
     "shell.execute_reply.started": "2022-11-07T14:57:45.303508Z"
    },
    "tags": []
   },
   "outputs": [],
   "source": [
    "fig_only_files_df = nbs_df[nbs_df['fileName'].str.contains('fig', case=False)]\n",
    "fig_only_files_df = fig_only_files_df.drop(columns=['Unnamed: 0'])\n",
    "fig_only_files_df.to_csv(Path(root, 'logs', 'fig_only_files.csv'), index=False)"
   ]
  },
  {
   "cell_type": "code",
   "execution_count": 23,
   "id": "perfect-bride",
   "metadata": {
    "execution": {
     "iopub.execute_input": "2022-11-07T15:05:21.411547Z",
     "iopub.status.busy": "2022-11-07T15:05:21.411310Z",
     "iopub.status.idle": "2022-11-07T15:05:21.421901Z",
     "shell.execute_reply": "2022-11-07T15:05:21.421444Z",
     "shell.execute_reply.started": "2022-11-07T15:05:21.411525Z"
    },
    "tags": []
   },
   "outputs": [
    {
     "data": {
      "text/html": [
       "<div>\n",
       "<style scoped>\n",
       "    .dataframe tbody tr th:only-of-type {\n",
       "        vertical-align: middle;\n",
       "    }\n",
       "\n",
       "    .dataframe tbody tr th {\n",
       "        vertical-align: top;\n",
       "    }\n",
       "\n",
       "    .dataframe thead th {\n",
       "        text-align: right;\n",
       "    }\n",
       "</style>\n",
       "<table border=\"1\" class=\"dataframe\">\n",
       "  <thead>\n",
       "    <tr style=\"text-align: right;\">\n",
       "      <th></th>\n",
       "      <th>Unnamed: 0</th>\n",
       "      <th>fileName</th>\n",
       "      <th>analysisType</th>\n",
       "      <th>figNumber</th>\n",
       "      <th>aim</th>\n",
       "      <th>orderInFig</th>\n",
       "      <th>comment</th>\n",
       "      <th>assignee</th>\n",
       "    </tr>\n",
       "  </thead>\n",
       "  <tbody>\n",
       "    <tr>\n",
       "      <th>38</th>\n",
       "      <td>38</td>\n",
       "      <td>/lustre/scratch126/cellgen/team205/nh3/skin/20211022_final_figures/fig2D.ipynb</td>\n",
       "      <td>NaN</td>\n",
       "      <td>NaN</td>\n",
       "      <td>NaN</td>\n",
       "      <td>NaN</td>\n",
       "      <td>NaN</td>\n",
       "      <td>Pej</td>\n",
       "    </tr>\n",
       "    <tr>\n",
       "      <th>42</th>\n",
       "      <td>42</td>\n",
       "      <td>/lustre/scratch126/cellgen/team205/nh3/skin/20211022_final_figures/Fig2C.ipynb</td>\n",
       "      <td>NaN</td>\n",
       "      <td>NaN</td>\n",
       "      <td>NaN</td>\n",
       "      <td>NaN</td>\n",
       "      <td>NaN</td>\n",
       "      <td>Pej</td>\n",
       "    </tr>\n",
       "  </tbody>\n",
       "</table>\n",
       "</div>"
      ],
      "text/plain": [
       "    Unnamed: 0  \\\n",
       "38          38   \n",
       "42          42   \n",
       "\n",
       "                                                                          fileName  \\\n",
       "38  /lustre/scratch126/cellgen/team205/nh3/skin/20211022_final_figures/fig2D.ipynb   \n",
       "42  /lustre/scratch126/cellgen/team205/nh3/skin/20211022_final_figures/Fig2C.ipynb   \n",
       "\n",
       "    analysisType  figNumber  aim  orderInFig  comment assignee  \n",
       "38           NaN        NaN  NaN         NaN      NaN      Pej  \n",
       "42           NaN        NaN  NaN         NaN      NaN      Pej  "
      ]
     },
     "execution_count": 23,
     "metadata": {},
     "output_type": "execute_result"
    }
   ],
   "source": [
    "nbs_df[(nbs_df['fileName'].str.contains('20211022_final_figures/', case=False)) & \n",
    "       (nbs_df['fileName'].str.contains('fig2', case=False))]"
   ]
  },
  {
   "cell_type": "code",
   "execution_count": null,
   "id": "rocky-simon",
   "metadata": {},
   "outputs": [],
   "source": []
  }
 ],
 "metadata": {
  "kernelspec": {
   "display_name": "Python 3",
   "language": "python",
   "name": "python3"
  },
  "language_info": {
   "codemirror_mode": {
    "name": "ipython",
    "version": 3
   },
   "file_extension": ".py",
   "mimetype": "text/x-python",
   "name": "python",
   "nbconvert_exporter": "python",
   "pygments_lexer": "ipython3",
   "version": "3.8.8"
  },
  "widgets": {
   "application/vnd.jupyter.widget-state+json": {
    "state": {},
    "version_major": 2,
    "version_minor": 0
   }
  }
 },
 "nbformat": 4,
 "nbformat_minor": 5
}
