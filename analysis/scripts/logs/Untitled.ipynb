{
 "cells": [
  {
   "cell_type": "code",
   "execution_count": 1,
   "id": "intellectual-phone",
   "metadata": {
    "execution": {
     "iopub.execute_input": "2022-11-22T14:36:29.176391Z",
     "iopub.status.busy": "2022-11-22T14:36:29.176128Z",
     "iopub.status.idle": "2022-11-22T14:36:29.181289Z",
     "shell.execute_reply": "2022-11-22T14:36:29.180431Z",
     "shell.execute_reply.started": "2022-11-22T14:36:29.176332Z"
    },
    "tags": []
   },
   "outputs": [],
   "source": [
    "import subprocess\n",
    "from subprocess import Popen, PIPE, STDOUT\n",
    "from colorama import Fore, Style"
   ]
  },
  {
   "cell_type": "code",
   "execution_count": 17,
   "id": "identified-sense",
   "metadata": {
    "execution": {
     "iopub.execute_input": "2022-11-23T18:43:01.178844Z",
     "iopub.status.busy": "2022-11-23T18:43:01.178344Z",
     "iopub.status.idle": "2022-11-23T18:43:01.183103Z",
     "shell.execute_reply": "2022-11-23T18:43:01.182255Z",
     "shell.execute_reply.started": "2022-11-23T18:43:01.178816Z"
    },
    "tags": []
   },
   "outputs": [],
   "source": [
    "test_list = ['numpy', 'pandas']"
   ]
  },
  {
   "cell_type": "code",
   "execution_count": 19,
   "id": "monthly-picnic",
   "metadata": {
    "execution": {
     "iopub.execute_input": "2022-11-23T18:43:25.136319Z",
     "iopub.status.busy": "2022-11-23T18:43:25.135948Z",
     "iopub.status.idle": "2022-11-23T18:43:25.142919Z",
     "shell.execute_reply": "2022-11-23T18:43:25.142096Z",
     "shell.execute_reply.started": "2022-11-23T18:43:25.136276Z"
    },
    "tags": []
   },
   "outputs": [
    {
     "name": "stdout",
     "output_type": "stream",
     "text": [
      "['pandas', '1.5.1']\n",
      "python_abi 3.8.* *_cp38\n",
      "pandas==1.5.1 requires python_abi 3.8.* *_cp38\n"
     ]
    }
   ],
   "source": [
    "import re\n",
    "test_search = re.search(f\"{test_list[1]}.*(?=, but)\", \n",
    "                        'Problem: package pandas-1.5.1-py38h8f669ce_0 requires' + \n",
    "                        ' python_abi 3.8.* *_cp38, but none of the providers can be installed')\n",
    "prob1 = test_search.group(0).split(f'-')[:-1]\n",
    "prob2 = test_search.group(0).split(f' requires ')[-1]\n",
    "print(prob1)\n",
    "print(prob2)\n",
    "print('=='.join(prob1), 'requires', prob2)"
   ]
  },
  {
   "cell_type": "code",
   "execution_count": 41,
   "id": "wired-protein",
   "metadata": {
    "execution": {
     "iopub.execute_input": "2022-11-30T09:22:30.020735Z",
     "iopub.status.busy": "2022-11-30T09:22:30.019823Z",
     "iopub.status.idle": "2022-11-30T09:22:30.029513Z",
     "shell.execute_reply": "2022-11-30T09:22:30.028667Z",
     "shell.execute_reply.started": "2022-11-30T09:22:30.020694Z"
    },
    "tags": []
   },
   "outputs": [
    {
     "data": {
      "text/plain": [
       "'pandas'"
      ]
     },
     "execution_count": 41,
     "metadata": {},
     "output_type": "execute_result"
    }
   ],
   "source": [
    "'=='.join('pandas'.split(' '))"
   ]
  },
  {
   "cell_type": "code",
   "execution_count": 34,
   "id": "baking-hybrid",
   "metadata": {
    "execution": {
     "iopub.execute_input": "2022-11-29T14:06:57.604041Z",
     "iopub.status.busy": "2022-11-29T14:06:57.603634Z",
     "iopub.status.idle": "2022-11-29T14:06:57.612096Z",
     "shell.execute_reply": "2022-11-29T14:06:57.611245Z",
     "shell.execute_reply.started": "2022-11-29T14:06:57.603991Z"
    },
    "tags": []
   },
   "outputs": [
    {
     "data": {
      "text/plain": [
       "'pandass'"
      ]
     },
     "execution_count": 34,
     "metadata": {},
     "output_type": "execute_result"
    }
   ],
   "source": [
    "re.search(f\"(?<=nothing provides requested ).*\", \n",
    "                        'Problem: nothing provides requested pandass').group(0)"
   ]
  },
  {
   "cell_type": "code",
   "execution_count": 40,
   "id": "danish-purpose",
   "metadata": {
    "execution": {
     "iopub.execute_input": "2022-11-29T18:03:32.946503Z",
     "iopub.status.busy": "2022-11-29T18:03:32.946157Z",
     "iopub.status.idle": "2022-11-29T18:03:32.953538Z",
     "shell.execute_reply": "2022-11-29T18:03:32.952641Z",
     "shell.execute_reply.started": "2022-11-29T18:03:32.946477Z"
    },
    "tags": []
   },
   "outputs": [],
   "source": [
    "class PackageNotFound(Exception):\n",
    "    \"\"\"Raised when the target packages are not found\"\"\"\n",
    "    def __init__(self, message):\n",
    "        self.message = message\n",
    "    def __str__(self):\n",
    "        return str(self.message)\n",
    "    \n",
    "class Conflict(Exception):\n",
    "    \"\"\"Raised when the provided packages have incompatible \n",
    "    versions with each other or the existing environment's \n",
    "    packages.\"\"\"\n",
    "    def __init__(self, message, pack1=None, pack2=None):\n",
    "        self.message = message\n",
    "        self.pack1 = pack1\n",
    "        self.pack2 = pack2\n",
    "    def __str__(self):\n",
    "        return str(self.message)\n",
    "\n",
    "class ImpossibleEnv(Exception):\n",
    "    \"\"\"Raised when it is impossible to create an environment \n",
    "    with the given specifications.\"\"\"\n",
    "    def __init__(self, message):\n",
    "        self.message = message\n",
    "    def __str__(self):\n",
    "        if self.message:\n",
    "            return str(self.message)\n",
    "        else:\n",
    "            return \"The requested environement with the current specifications is impossible.\""
   ]
  },
  {
   "cell_type": "code",
   "execution_count": 37,
   "id": "heated-repository",
   "metadata": {
    "execution": {
     "iopub.execute_input": "2022-11-29T15:34:05.825105Z",
     "iopub.status.busy": "2022-11-29T15:34:05.823961Z",
     "iopub.status.idle": "2022-11-29T15:34:28.955733Z",
     "shell.execute_reply": "2022-11-29T15:34:28.954553Z",
     "shell.execute_reply.started": "2022-11-29T15:34:05.825048Z"
    },
    "tags": []
   },
   "outputs": [
    {
     "ename": "NameError",
     "evalue": "name 'line' is not defined",
     "output_type": "error",
     "traceback": [
      "\u001b[0;31m---------------------------------------------------------------------------\u001b[0m",
      "\u001b[0;31mCalledProcessError\u001b[0m                        Traceback (most recent call last)",
      "Input \u001b[0;32mIn [37]\u001b[0m, in \u001b[0;36m<cell line: 17>\u001b[0;34m()\u001b[0m\n\u001b[1;32m     17\u001b[0m \u001b[38;5;28;01mtry\u001b[39;00m:\n\u001b[0;32m---> 18\u001b[0m     \u001b[38;5;28;01mfor\u001b[39;00m path \u001b[38;5;129;01min\u001b[39;00m execute([\u001b[38;5;124m\"\u001b[39m\u001b[38;5;124mmamba\u001b[39m\u001b[38;5;124m\"\u001b[39m, \u001b[38;5;124m\"\u001b[39m\u001b[38;5;124minstall\u001b[39m\u001b[38;5;124m\"\u001b[39m, \u001b[38;5;124m\"\u001b[39m\u001b[38;5;124m-y\u001b[39m\u001b[38;5;124m\"\u001b[39m, \u001b[38;5;124m\"\u001b[39m\u001b[38;5;124m-c\u001b[39m\u001b[38;5;124m\"\u001b[39m, \u001b[38;5;124m\"\u001b[39m\u001b[38;5;124mconda-forge\u001b[39m\u001b[38;5;124m\"\u001b[39m, \u001b[38;5;124m\"\u001b[39m\u001b[38;5;124mpandas==1.5.1\u001b[39m\u001b[38;5;124m\"\u001b[39m, \u001b[38;5;124m\"\u001b[39m\u001b[38;5;124mnumpy==1.9.3\u001b[39m\u001b[38;5;124m\"\u001b[39m, \u001b[38;5;124m\"\u001b[39m\u001b[38;5;124mpython==3.7\u001b[39m\u001b[38;5;124m\"\u001b[39m, \u001b[38;5;124m\"\u001b[39m\u001b[38;5;124mrequests==2.28.1\u001b[39m\u001b[38;5;124m\"\u001b[39m, \u001b[38;5;124m\"\u001b[39m\u001b[38;5;124mcertifi==2017.4.17\u001b[39m\u001b[38;5;124m\"\u001b[39m]):\n\u001b[1;32m     19\u001b[0m         \u001b[38;5;28;01mif\u001b[39;00m (_print) \u001b[38;5;129;01mand\u001b[39;00m (\u001b[38;5;124m'\u001b[39m\u001b[38;5;124mproblem\u001b[39m\u001b[38;5;124m'\u001b[39m \u001b[38;5;129;01mnot\u001b[39;00m \u001b[38;5;129;01min\u001b[39;00m path):\n",
      "Input \u001b[0;32mIn [37]\u001b[0m, in \u001b[0;36mexecute\u001b[0;34m(cmd)\u001b[0m\n\u001b[1;32m      9\u001b[0m \u001b[38;5;28;01mif\u001b[39;00m return_code:\n\u001b[0;32m---> 10\u001b[0m     \u001b[38;5;28;01mraise\u001b[39;00m subprocess\u001b[38;5;241m.\u001b[39mCalledProcessError(return_code, cmd)\n",
      "\u001b[0;31mCalledProcessError\u001b[0m: Command '['mamba', 'install', '-y', '-c', 'conda-forge', 'pandas==1.5.1', 'numpy==1.9.3', 'python==3.7', 'requests==2.28.1', 'certifi==2017.4.17']' returned non-zero exit status 1.",
      "\nDuring handling of the above exception, another exception occurred:\n",
      "\u001b[0;31mNameError\u001b[0m                                 Traceback (most recent call last)",
      "Input \u001b[0;32mIn [37]\u001b[0m, in \u001b[0;36m<cell line: 17>\u001b[0;34m()\u001b[0m\n\u001b[1;32m     22\u001b[0m             _print \u001b[38;5;241m=\u001b[39m \u001b[38;5;28;01mTrue\u001b[39;00m\n\u001b[1;32m     24\u001b[0m \u001b[38;5;28;01mexcept\u001b[39;00m:\n\u001b[0;32m---> 25\u001b[0m     \u001b[38;5;28;01mif\u001b[39;00m \u001b[38;5;124m'\u001b[39m\u001b[38;5;124mProblem\u001b[39m\u001b[38;5;124m'\u001b[39m \u001b[38;5;129;01min\u001b[39;00m \u001b[43mline\u001b[49m:\n\u001b[1;32m     26\u001b[0m         \u001b[38;5;28;01mif\u001b[39;00m \u001b[38;5;124m'\u001b[39m\u001b[38;5;124mnothing provides requested\u001b[39m\u001b[38;5;124m'\u001b[39m \u001b[38;5;129;01min\u001b[39;00m line:\n\u001b[1;32m     27\u001b[0m             \u001b[38;5;28;01mtry\u001b[39;00m:\n",
      "\u001b[0;31mNameError\u001b[0m: name 'line' is not defined"
     ]
    }
   ],
   "source": [
    "import subprocess\n",
    "\n",
    "def execute(cmd):\n",
    "    popen = subprocess.Popen(cmd, stdout=subprocess.PIPE, universal_newlines=True)\n",
    "    for stdout_line in iter(popen.stdout.readline, \"\"):\n",
    "        yield stdout_line \n",
    "    popen.stdout.close()\n",
    "    return_code = popen.wait()\n",
    "    if return_code:\n",
    "        raise subprocess.CalledProcessError(return_code, cmd)\n",
    "\n",
    "prob_tup = tuple()\n",
    "conflicts = []\n",
    "missing_packages = []\n",
    "pip_only = dict()\n",
    "_print = False\n",
    "try:\n",
    "    for line in execute([\"mamba\", \"install\", \"-y\", \"-c\", \"conda-forge\", \"pandas==1.5.1\", \"numpy==1.9.3\", \"python==3.7\", \"requests==2.28.1\", \"certifi==2017.4.17\"]):\n",
    "        if (_print) and ('problem:' not in line) and ('problems' not in line):\n",
    "            print(line, end=\"\")\n",
    "        if 'looking for' in line:\n",
    "            _print = True\n",
    "        if 'nothing provides requested' in line:\n",
    "            raise PackageNotFound(f'{re.search(f\"(?<=nothing provides requested ).*\", line).group(0)} not found by conda. \\nTrying pip')\n",
    "        elif 'requires' in line:\n",
    "            raise Conflict(f'conflicts found in package versions:')\n",
    "\n",
    "except PackageNotFound as e:\n",
    "    try:\n",
    "        missing_pack = re.search(f\"(?<=nothing provides requested ).*\", line).group(0)\n",
    "        missing_pack = missing_pack.split(' **pip** ')[0]\n",
    "        pip_only[missing_pack] = get_pip_deps(missing_pack)\n",
    "        mambamia()\n",
    "    except CalledProcessError:\n",
    "        raise PackageNotFound(f\"{missing_pack} is not found nor by conda neither by pip.\\nMake sure you have provided the correct spelling.\\nExiting!\")\n",
    "except Conflict as e:\n",
    "    problem_search = re.search(f\"(?<=package).*(?=, but)\", path)\n",
    "    prob1 = test_search.group(0).split(f'-')[:-1]\n",
    "    prob2 = test_search.group(0).split(f' requires ')[-1]\n",
    "    print(f\"{'=='.join(prob1) + ' requires ' + prob2}\")\n",
    "    print(\"Try provodng fuzzy constraint for the requested package (e.g. '=ver.sion.x'), if the specified patch 'x' is not essential.\")\n",
    "    print(\"Alternatively, set constraint='fuzzy' if the env packages' patches are not essential\")\n",
    "    print('Exiting!')"
   ]
  },
  {
   "cell_type": "code",
   "execution_count": 15,
   "id": "mobile-settle",
   "metadata": {
    "execution": {
     "iopub.execute_input": "2022-11-23T18:14:50.457559Z",
     "iopub.status.busy": "2022-11-23T18:14:50.457216Z",
     "iopub.status.idle": "2022-11-23T18:14:50.463516Z",
     "shell.execute_reply": "2022-11-23T18:14:50.462772Z",
     "shell.execute_reply.started": "2022-11-23T18:14:50.457532Z"
    },
    "tags": []
   },
   "outputs": [
    {
     "data": {
      "text/plain": [
       "['nummmpy']"
      ]
     },
     "execution_count": 15,
     "metadata": {},
     "output_type": "execute_result"
    }
   ],
   "source": [
    "'nummmpy'.split(' ')"
   ]
  },
  {
   "cell_type": "code",
   "execution_count": 40,
   "id": "friendly-while",
   "metadata": {
    "execution": {
     "iopub.execute_input": "2022-11-22T09:48:18.247392Z",
     "iopub.status.busy": "2022-11-22T09:48:18.246990Z",
     "iopub.status.idle": "2022-11-22T09:48:22.221070Z",
     "shell.execute_reply": "2022-11-22T09:48:22.219723Z",
     "shell.execute_reply.started": "2022-11-22T09:48:18.247364Z"
    },
    "tags": []
   },
   "outputs": [],
   "source": [
    "test_sub = subprocess.run([\"mamba\", \"install\", \"-y\", \"-c\", \"conda-forge\", \"pandas==1.5.1\", \"numpy==1.9.3\"], stdout=PIPE)\n",
    "# streamdata = test_sub.communicate()[0]\n",
    "# rc = test_sub.returncode"
   ]
  },
  {
   "cell_type": "code",
   "execution_count": 41,
   "id": "sunrise-greek",
   "metadata": {
    "execution": {
     "iopub.execute_input": "2022-11-22T09:48:26.367387Z",
     "iopub.status.busy": "2022-11-22T09:48:26.367069Z",
     "iopub.status.idle": "2022-11-22T09:48:26.373901Z",
     "shell.execute_reply": "2022-11-22T09:48:26.373104Z",
     "shell.execute_reply.started": "2022-11-22T09:48:26.367361Z"
    },
    "tags": []
   },
   "outputs": [
    {
     "data": {
      "text/plain": [
       "b\"conda-forge/linux-64     Using cache\\nconda-forge/noarch       Using cache\\nbioconda/linux-64        Using cache\\nbioconda/noarch          Using cache\\n\\n                  __    __    __    __\\n                 /  \\\\  /  \\\\  /  \\\\  /  \\\\\\n                /    \\\\/    \\\\/    \\\\/    \\\\\\n\\xe2\\x96\\x88\\xe2\\x96\\x88\\xe2\\x96\\x88\\xe2\\x96\\x88\\xe2\\x96\\x88\\xe2\\x96\\x88\\xe2\\x96\\x88\\xe2\\x96\\x88\\xe2\\x96\\x88\\xe2\\x96\\x88\\xe2\\x96\\x88\\xe2\\x96\\x88\\xe2\\x96\\x88\\xe2\\x96\\x88\\xe2\\x96\\x88/  /\\xe2\\x96\\x88\\xe2\\x96\\x88/  /\\xe2\\x96\\x88\\xe2\\x96\\x88/  /\\xe2\\x96\\x88\\xe2\\x96\\x88/  /\\xe2\\x96\\x88\\xe2\\x96\\x88\\xe2\\x96\\x88\\xe2\\x96\\x88\\xe2\\x96\\x88\\xe2\\x96\\x88\\xe2\\x96\\x88\\xe2\\x96\\x88\\xe2\\x96\\x88\\xe2\\x96\\x88\\xe2\\x96\\x88\\xe2\\x96\\x88\\xe2\\x96\\x88\\xe2\\x96\\x88\\xe2\\x96\\x88\\xe2\\x96\\x88\\xe2\\x96\\x88\\xe2\\x96\\x88\\xe2\\x96\\x88\\xe2\\x96\\x88\\xe2\\x96\\x88\\xe2\\x96\\x88\\xe2\\x96\\x88\\xe2\\x96\\x88\\n              /  / \\\\   / \\\\   / \\\\   / \\\\  \\\\____\\n             /  /   \\\\_/   \\\\_/   \\\\_/   \\\\    o \\\\__,\\n            / _/                       \\\\_____/  `\\n            |/\\n        \\xe2\\x96\\x88\\xe2\\x96\\x88\\xe2\\x96\\x88\\xe2\\x95\\x97   \\xe2\\x96\\x88\\xe2\\x96\\x88\\xe2\\x96\\x88\\xe2\\x95\\x97 \\xe2\\x96\\x88\\xe2\\x96\\x88\\xe2\\x96\\x88\\xe2\\x96\\x88\\xe2\\x96\\x88\\xe2\\x95\\x97 \\xe2\\x96\\x88\\xe2\\x96\\x88\\xe2\\x96\\x88\\xe2\\x95\\x97   \\xe2\\x96\\x88\\xe2\\x96\\x88\\xe2\\x96\\x88\\xe2\\x95\\x97\\xe2\\x96\\x88\\xe2\\x96\\x88\\xe2\\x96\\x88\\xe2\\x96\\x88\\xe2\\x96\\x88\\xe2\\x96\\x88\\xe2\\x95\\x97  \\xe2\\x96\\x88\\xe2\\x96\\x88\\xe2\\x96\\x88\\xe2\\x96\\x88\\xe2\\x96\\x88\\xe2\\x95\\x97\\n        \\xe2\\x96\\x88\\xe2\\x96\\x88\\xe2\\x96\\x88\\xe2\\x96\\x88\\xe2\\x95\\x97 \\xe2\\x96\\x88\\xe2\\x96\\x88\\xe2\\x96\\x88\\xe2\\x96\\x88\\xe2\\x95\\x91\\xe2\\x96\\x88\\xe2\\x96\\x88\\xe2\\x95\\x94\\xe2\\x95\\x90\\xe2\\x95\\x90\\xe2\\x96\\x88\\xe2\\x96\\x88\\xe2\\x95\\x97\\xe2\\x96\\x88\\xe2\\x96\\x88\\xe2\\x96\\x88\\xe2\\x96\\x88\\xe2\\x95\\x97 \\xe2\\x96\\x88\\xe2\\x96\\x88\\xe2\\x96\\x88\\xe2\\x96\\x88\\xe2\\x95\\x91\\xe2\\x96\\x88\\xe2\\x96\\x88\\xe2\\x95\\x94\\xe2\\x95\\x90\\xe2\\x95\\x90\\xe2\\x96\\x88\\xe2\\x96\\x88\\xe2\\x95\\x97\\xe2\\x96\\x88\\xe2\\x96\\x88\\xe2\\x95\\x94\\xe2\\x95\\x90\\xe2\\x95\\x90\\xe2\\x96\\x88\\xe2\\x96\\x88\\xe2\\x95\\x97\\n        \\xe2\\x96\\x88\\xe2\\x96\\x88\\xe2\\x95\\x94\\xe2\\x96\\x88\\xe2\\x96\\x88\\xe2\\x96\\x88\\xe2\\x96\\x88\\xe2\\x95\\x94\\xe2\\x96\\x88\\xe2\\x96\\x88\\xe2\\x95\\x91\\xe2\\x96\\x88\\xe2\\x96\\x88\\xe2\\x96\\x88\\xe2\\x96\\x88\\xe2\\x96\\x88\\xe2\\x96\\x88\\xe2\\x96\\x88\\xe2\\x95\\x91\\xe2\\x96\\x88\\xe2\\x96\\x88\\xe2\\x95\\x94\\xe2\\x96\\x88\\xe2\\x96\\x88\\xe2\\x96\\x88\\xe2\\x96\\x88\\xe2\\x95\\x94\\xe2\\x96\\x88\\xe2\\x96\\x88\\xe2\\x95\\x91\\xe2\\x96\\x88\\xe2\\x96\\x88\\xe2\\x96\\x88\\xe2\\x96\\x88\\xe2\\x96\\x88\\xe2\\x96\\x88\\xe2\\x95\\x94\\xe2\\x95\\x9d\\xe2\\x96\\x88\\xe2\\x96\\x88\\xe2\\x96\\x88\\xe2\\x96\\x88\\xe2\\x96\\x88\\xe2\\x96\\x88\\xe2\\x96\\x88\\xe2\\x95\\x91\\n        \\xe2\\x96\\x88\\xe2\\x96\\x88\\xe2\\x95\\x91\\xe2\\x95\\x9a\\xe2\\x96\\x88\\xe2\\x96\\x88\\xe2\\x95\\x94\\xe2\\x95\\x9d\\xe2\\x96\\x88\\xe2\\x96\\x88\\xe2\\x95\\x91\\xe2\\x96\\x88\\xe2\\x96\\x88\\xe2\\x95\\x94\\xe2\\x95\\x90\\xe2\\x95\\x90\\xe2\\x96\\x88\\xe2\\x96\\x88\\xe2\\x95\\x91\\xe2\\x96\\x88\\xe2\\x96\\x88\\xe2\\x95\\x91\\xe2\\x95\\x9a\\xe2\\x96\\x88\\xe2\\x96\\x88\\xe2\\x95\\x94\\xe2\\x95\\x9d\\xe2\\x96\\x88\\xe2\\x96\\x88\\xe2\\x95\\x91\\xe2\\x96\\x88\\xe2\\x96\\x88\\xe2\\x95\\x94\\xe2\\x95\\x90\\xe2\\x95\\x90\\xe2\\x96\\x88\\xe2\\x96\\x88\\xe2\\x95\\x97\\xe2\\x96\\x88\\xe2\\x96\\x88\\xe2\\x95\\x94\\xe2\\x95\\x90\\xe2\\x95\\x90\\xe2\\x96\\x88\\xe2\\x96\\x88\\xe2\\x95\\x91\\n        \\xe2\\x96\\x88\\xe2\\x96\\x88\\xe2\\x95\\x91 \\xe2\\x95\\x9a\\xe2\\x95\\x90\\xe2\\x95\\x9d \\xe2\\x96\\x88\\xe2\\x96\\x88\\xe2\\x95\\x91\\xe2\\x96\\x88\\xe2\\x96\\x88\\xe2\\x95\\x91  \\xe2\\x96\\x88\\xe2\\x96\\x88\\xe2\\x95\\x91\\xe2\\x96\\x88\\xe2\\x96\\x88\\xe2\\x95\\x91 \\xe2\\x95\\x9a\\xe2\\x95\\x90\\xe2\\x95\\x9d \\xe2\\x96\\x88\\xe2\\x96\\x88\\xe2\\x95\\x91\\xe2\\x96\\x88\\xe2\\x96\\x88\\xe2\\x96\\x88\\xe2\\x96\\x88\\xe2\\x96\\x88\\xe2\\x96\\x88\\xe2\\x95\\x94\\xe2\\x95\\x9d\\xe2\\x96\\x88\\xe2\\x96\\x88\\xe2\\x95\\x91  \\xe2\\x96\\x88\\xe2\\x96\\x88\\xe2\\x95\\x91\\n        \\xe2\\x95\\x9a\\xe2\\x95\\x90\\xe2\\x95\\x9d     \\xe2\\x95\\x9a\\xe2\\x95\\x90\\xe2\\x95\\x9d\\xe2\\x95\\x9a\\xe2\\x95\\x90\\xe2\\x95\\x9d  \\xe2\\x95\\x9a\\xe2\\x95\\x90\\xe2\\x95\\x9d\\xe2\\x95\\x9a\\xe2\\x95\\x90\\xe2\\x95\\x9d     \\xe2\\x95\\x9a\\xe2\\x95\\x90\\xe2\\x95\\x9d\\xe2\\x95\\x9a\\xe2\\x95\\x90\\xe2\\x95\\x90\\xe2\\x95\\x90\\xe2\\x95\\x90\\xe2\\x95\\x90\\xe2\\x95\\x9d \\xe2\\x95\\x9a\\xe2\\x95\\x90\\xe2\\x95\\x9d  \\xe2\\x95\\x9a\\xe2\\x95\\x90\\xe2\\x95\\x9d\\n\\n        mamba (0.7.14) supported by @QuantStack\\n\\n        GitHub:  https://github.com/mamba-org/mamba\\n        Twitter: https://twitter.com/QuantStack\\n\\n\\xe2\\x96\\x88\\xe2\\x96\\x88\\xe2\\x96\\x88\\xe2\\x96\\x88\\xe2\\x96\\x88\\xe2\\x96\\x88\\xe2\\x96\\x88\\xe2\\x96\\x88\\xe2\\x96\\x88\\xe2\\x96\\x88\\xe2\\x96\\x88\\xe2\\x96\\x88\\xe2\\x96\\x88\\xe2\\x96\\x88\\xe2\\x96\\x88\\xe2\\x96\\x88\\xe2\\x96\\x88\\xe2\\x96\\x88\\xe2\\x96\\x88\\xe2\\x96\\x88\\xe2\\x96\\x88\\xe2\\x96\\x88\\xe2\\x96\\x88\\xe2\\x96\\x88\\xe2\\x96\\x88\\xe2\\x96\\x88\\xe2\\x96\\x88\\xe2\\x96\\x88\\xe2\\x96\\x88\\xe2\\x96\\x88\\xe2\\x96\\x88\\xe2\\x96\\x88\\xe2\\x96\\x88\\xe2\\x96\\x88\\xe2\\x96\\x88\\xe2\\x96\\x88\\xe2\\x96\\x88\\xe2\\x96\\x88\\xe2\\x96\\x88\\xe2\\x96\\x88\\xe2\\x96\\x88\\xe2\\x96\\x88\\xe2\\x96\\x88\\xe2\\x96\\x88\\xe2\\x96\\x88\\xe2\\x96\\x88\\xe2\\x96\\x88\\xe2\\x96\\x88\\xe2\\x96\\x88\\xe2\\x96\\x88\\xe2\\x96\\x88\\xe2\\x96\\x88\\xe2\\x96\\x88\\xe2\\x96\\x88\\xe2\\x96\\x88\\xe2\\x96\\x88\\xe2\\x96\\x88\\xe2\\x96\\x88\\xe2\\x96\\x88\\xe2\\x96\\x88\\xe2\\x96\\x88\\n\\n\\nLooking for: ['pandas==1.5.1', 'numpy==1.9.3']\\n\\nEncountered problems while solving.\\nProblem: package numpy-1.9.3-py37_blas_openblash1522bff_1006 requires python >=3.7,<3.8.0a0, but none of the providers can be installed\\n\\n\""
      ]
     },
     "execution_count": 41,
     "metadata": {},
     "output_type": "execute_result"
    }
   ],
   "source": [
    "test_sub.stdout"
   ]
  },
  {
   "cell_type": "code",
   "execution_count": 16,
   "id": "behavioral-technical",
   "metadata": {
    "execution": {
     "iopub.execute_input": "2022-11-22T09:41:58.381356Z",
     "iopub.status.busy": "2022-11-22T09:41:58.380946Z",
     "iopub.status.idle": "2022-11-22T09:41:58.448732Z",
     "shell.execute_reply": "2022-11-22T09:41:58.447187Z",
     "shell.execute_reply.started": "2022-11-22T09:41:58.381330Z"
    },
    "tags": []
   },
   "outputs": [
    {
     "ename": "ValueError",
     "evalue": "read of closed file",
     "output_type": "error",
     "traceback": [
      "\u001b[0;31m---------------------------------------------------------------------------\u001b[0m",
      "\u001b[0;31mValueError\u001b[0m                                Traceback (most recent call last)",
      "Input \u001b[0;32mIn [16]\u001b[0m, in \u001b[0;36m<cell line: 1>\u001b[0;34m()\u001b[0m\n\u001b[0;32m----> 1\u001b[0m \u001b[43mtest_sub\u001b[49m\u001b[38;5;241;43m.\u001b[39;49m\u001b[43mcommunicate\u001b[49m\u001b[43m(\u001b[49m\u001b[43m)\u001b[49m\n",
      "File \u001b[0;32m~/my-conda-envs/testenv/lib/python3.10/subprocess.py:1139\u001b[0m, in \u001b[0;36mPopen.communicate\u001b[0;34m(self, input, timeout)\u001b[0m\n\u001b[1;32m   1137\u001b[0m     \u001b[38;5;28mself\u001b[39m\u001b[38;5;241m.\u001b[39m_stdin_write(\u001b[38;5;28minput\u001b[39m)\n\u001b[1;32m   1138\u001b[0m \u001b[38;5;28;01melif\u001b[39;00m \u001b[38;5;28mself\u001b[39m\u001b[38;5;241m.\u001b[39mstdout:\n\u001b[0;32m-> 1139\u001b[0m     stdout \u001b[38;5;241m=\u001b[39m \u001b[38;5;28;43mself\u001b[39;49m\u001b[38;5;241;43m.\u001b[39;49m\u001b[43mstdout\u001b[49m\u001b[38;5;241;43m.\u001b[39;49m\u001b[43mread\u001b[49m\u001b[43m(\u001b[49m\u001b[43m)\u001b[49m\n\u001b[1;32m   1140\u001b[0m     \u001b[38;5;28mself\u001b[39m\u001b[38;5;241m.\u001b[39mstdout\u001b[38;5;241m.\u001b[39mclose()\n\u001b[1;32m   1141\u001b[0m \u001b[38;5;28;01melif\u001b[39;00m \u001b[38;5;28mself\u001b[39m\u001b[38;5;241m.\u001b[39mstderr:\n",
      "\u001b[0;31mValueError\u001b[0m: read of closed file"
     ]
    }
   ],
   "source": [
    "test_sub.communicate()"
   ]
  },
  {
   "cell_type": "markdown",
   "id": "requested-pitch",
   "metadata": {},
   "source": [
    "```mermaid\n",
    "graph TD;\n",
    "    A-->B;\n",
    "    A-->C;\n",
    "    B-->D;\n",
    "    C-->D;\n",
    "```"
   ]
  },
  {
   "cell_type": "code",
   "execution_count": null,
   "id": "weird-southeast",
   "metadata": {},
   "outputs": [],
   "source": []
  }
 ],
 "metadata": {
  "kernelspec": {
   "display_name": "env_manage",
   "language": "python",
   "name": "env_manage"
  },
  "language_info": {
   "codemirror_mode": {
    "name": "ipython",
    "version": 3
   },
   "file_extension": ".py",
   "mimetype": "text/x-python",
   "name": "python",
   "nbconvert_exporter": "python",
   "pygments_lexer": "ipython3",
   "version": "3.10.6"
  },
  "widgets": {
   "application/vnd.jupyter.widget-state+json": {
    "state": {},
    "version_major": 2,
    "version_minor": 0
   }
  }
 },
 "nbformat": 4,
 "nbformat_minor": 5
}
