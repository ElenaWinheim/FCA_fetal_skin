{
 "cells": [
  {
   "cell_type": "code",
   "execution_count": 1,
   "id": "deluxe-monte",
   "metadata": {
    "execution": {
     "iopub.execute_input": "2022-11-24T09:42:43.406719Z",
     "iopub.status.busy": "2022-11-24T09:42:43.406274Z",
     "iopub.status.idle": "2022-11-24T09:42:43.427178Z",
     "shell.execute_reply": "2022-11-24T09:42:43.426366Z",
     "shell.execute_reply.started": "2022-11-24T09:42:43.406645Z"
    },
    "metadata": {
     "deletable": false,
     "editable": false,
     "trusted": true
    },
    "tags": []
   },
   "outputs": [],
   "source": [
    "import yaml\n",
    "from pathlib import Path\n",
    "import os"
   ]
  },
  {
   "cell_type": "code",
   "execution_count": 2,
   "id": "several-lucas",
   "metadata": {
    "execution": {
     "iopub.execute_input": "2022-11-24T09:42:43.597189Z",
     "iopub.status.busy": "2022-11-24T09:42:43.596895Z",
     "iopub.status.idle": "2022-11-24T09:42:44.213873Z",
     "shell.execute_reply": "2022-11-24T09:42:44.212776Z",
     "shell.execute_reply.started": "2022-11-24T09:42:43.597152Z"
    },
    "tags": []
   },
   "outputs": [
    {
     "name": "stdout",
     "output_type": "stream",
     "text": [
      "/home/jovyan/FCA_Fetal_Skin_priv\n"
     ]
    }
   ],
   "source": [
    "root = Path('~/FCA_Fetal_Skin_priv').expanduser()\n",
    "os.chdir(root)\n",
    "!pwd"
   ]
  },
  {
   "cell_type": "markdown",
   "id": "angry-track",
   "metadata": {},
   "source": [
    "List of packages extracted from \"~/FCA_Fetal_Skin_priv/code/notebooks/figures/fig2D.ipynb\" as a starting reference for creating the base conda env (FCA_base) for the project."
   ]
  },
  {
   "cell_type": "code",
   "execution_count": 138,
   "id": "improved-north",
   "metadata": {
    "execution": {
     "iopub.execute_input": "2022-11-30T10:40:38.382148Z",
     "iopub.status.busy": "2022-11-30T10:40:38.381763Z",
     "iopub.status.idle": "2022-11-30T10:40:38.393111Z",
     "shell.execute_reply": "2022-11-30T10:40:38.392165Z",
     "shell.execute_reply.started": "2022-11-30T10:40:38.382119Z"
    },
    "tags": []
   },
   "outputs": [],
   "source": [
    "def load_env(yml_file):\n",
    "    \"\"\"Loads the contents of a conda environment into a dictionary.\n",
    "    --------------------------------------------------------------------\n",
    "    Parameters:\n",
    "    \n",
    "    - yml_file: Path to the query environment's .yml file. (str)\n",
    "    ----------\n",
    "    outputs:\n",
    "    \n",
    "    1. env : {package_1 : version, ... , package_n : version}\n",
    "    2. channels : [list, of, channels]\n",
    "    \"\"\"\n",
    "    \n",
    "    from collections import defaultdict\n",
    "    from collections import OrderedDict\n",
    "    from colorama import Fore, Style\n",
    "    from math import floor, ceil\n",
    "    \n",
    "    assert type(yml_file) == str, \"yml_file MUST be of type str!\"\n",
    "    \n",
    "    env = defaultdict(list)\n",
    "    channels = []\n",
    "    \n",
    "    with Path(yml_file).open(mode='r') as FCA_pakgs:\n",
    "        package_list = yaml.load(FCA_pakgs, Loader=yaml.FullLoader)\n",
    "        for item, doc in package_list.items():\n",
    "            if 'dependencies' in item:\n",
    "                for packg in doc:\n",
    "                    try:\n",
    "                        pack = '='.join(packg.split('==')).split('=')\n",
    "                        try:\n",
    "                            env['package'].append(pack[0])\n",
    "                            env['version'].append( pack[1])\n",
    "                            env['build'].append(pack[2])\n",
    "                        except IndexError:\n",
    "                            env['version'].append('unspecified')\n",
    "                            env['build'].append('unspecified')\n",
    "                    except AttributeError:\n",
    "                        if 'pip' in packg:\n",
    "                            for pip in packg['pip']:\n",
    "                                pack = '='.join(pip.split('==')).split('=')\n",
    "                                if pack[0] == pack[-1]:\n",
    "                                    env['package'].append(pack[0])\n",
    "                                    env['version'].append('unspecified')\n",
    "                                    env['build'].append('unspecified')\n",
    "                                else:\n",
    "                                    env['package'].append(f'{pack[0]} **pip**')\n",
    "                                    env['version'].append(pack[1])\n",
    "                                    env['build'].append('unspecified')\n",
    "                        else:\n",
    "                            print(f'{Fore.RED}{packg} includes unrecognised sources of installation. Skipping the rest of the .yml file!{Style.RESET_ALL}')\n",
    "                            break\n",
    "            elif 'channels' in item:\n",
    "                for ch in doc:\n",
    "                    channels.append(ch)\n",
    "                \n",
    "    return env, channels"
   ]
  },
  {
   "cell_type": "code",
   "execution_count": 34,
   "id": "national-clone",
   "metadata": {
    "execution": {
     "iopub.execute_input": "2022-11-24T23:14:27.372734Z",
     "iopub.status.busy": "2022-11-24T23:14:27.372322Z",
     "iopub.status.idle": "2022-11-24T23:14:27.409141Z",
     "shell.execute_reply": "2022-11-24T23:14:27.408067Z",
     "shell.execute_reply.started": "2022-11-24T23:14:27.372708Z"
    },
    "tags": []
   },
   "outputs": [],
   "source": [
    "class PackageNotFound(Exception):\n",
    "    \"\"\"Raised when the target packages are not found\"\"\"\n",
    "    pass"
   ]
  },
  {
   "cell_type": "code",
   "execution_count": null,
   "id": "local-multimedia",
   "metadata": {},
   "outputs": [],
   "source": [
    "class PackageNotFound(Exception):\n",
    "    \"\"\"Raised when the target packages are not found\"\"\"\n",
    "    def __init__(self, message, payload=None):\n",
    "        self.message = message\n",
    "        self.payload = payload # you could add more args\n",
    "    def __str__(self):\n",
    "        return str(self.message) # __str__() obviously expects a string to be returned, so make sure not to send any other data types and fetch them like:\n",
    "\n",
    "try:\n",
    "    raise CustomExceptionName(\"Very bad mistake.\", \"Forgot upgrading from Python 1\")\n",
    "except CustomExceptionName as error:\n",
    "    print(str(error)) # Very bad mistake\n",
    "    print(\"Detail: {}\".format(error.payload)) # Detail: Forgot upgrading from Python 1\n"
   ]
  },
  {
   "cell_type": "code",
   "execution_count": 34,
   "id": "accessible-miniature",
   "metadata": {
    "execution": {
     "iopub.execute_input": "2022-11-24T23:14:27.372734Z",
     "iopub.status.busy": "2022-11-24T23:14:27.372322Z",
     "iopub.status.idle": "2022-11-24T23:14:27.409141Z",
     "shell.execute_reply": "2022-11-24T23:14:27.408067Z",
     "shell.execute_reply.started": "2022-11-24T23:14:27.372708Z"
    },
    "tags": []
   },
   "outputs": [],
   "source": [
    "def crossref_2_envs(path_to_env1, path_to_env2, packages=None, diff_only=False, compare_build=False):\n",
    "    \"\"\"Takes .yml file from two envs and cross-references the packages\n",
    "    and version, if check_version is set to True.\"\"\"\n",
    "    \n",
    "    from collections import OrderedDict\n",
    "    from colorama import Fore, Style\n",
    "    from math import floor, ceil\n",
    "    \n",
    "    assert type(path_to_env1) == str, \"path_to_env1 must be a string\"\n",
    "    assert type(path_to_env2) == str, \"path_to_env2 must be a string\"\n",
    "    if type(packages) == list:\n",
    "        assert all(type(pckg) == str for pckg in packages), \"All specified packages in packages must of type string!\"\n",
    "    \n",
    "    env1, channels1 = load_env(path_to_env1)\n",
    "    env2, channels2 = load_env(path_to_env2)\n",
    "    if compare_build:\n",
    "        env1 = {p:''.join([env1['version'][i], ''.join([' ' for i in range(16-len(env1['version'][i]))]), env1['build'][i]]) for i, p in enumerate(env1['package'])}\n",
    "        env2 = {p:''.join([env2['version'][i], ''.join([' ' for i in range(16-len(env2['version'][i]))]), env2['build'][i]]) for i, p in enumerate(env2['package'])}\n",
    "    else:\n",
    "        env1 = {p:env1['version'][i] for i, p in enumerate(env1['package'])}\n",
    "        env2 = {p:env2['version'][i] for i, p in enumerate(env2['package'])}\n",
    "\n",
    "    env1_name = path_to_env1.split('/')[-1].split('.')[0]\n",
    "    env2_name = path_to_env2.split('/')[-1].split('.')[0]\n",
    "    crossref_diff = dict()\n",
    "    for p in env1:\n",
    "        if p not in env2.keys():\n",
    "            crossref_diff[p] = 'env1'\n",
    "        else:\n",
    "            crossref_diff[p] = 'both'\n",
    "    for p in env2:\n",
    "        if p not in env1.keys():\n",
    "            crossref_diff[p] = 'env2'\n",
    "        else:\n",
    "            continue\n",
    "    crossref_diff = OrderedDict(sorted(crossref_diff.items()))\n",
    "    if packages:\n",
    "        if type(packages) == list:\n",
    "            packages = [pckg.lower() for pckg in packages]\n",
    "            for pckg in packages:\n",
    "                if (pckg not in crossref_diff.keys()) and (f'{pckg} **pip**' not in crossref_diff.keys()):\n",
    "                    raise PackageNotFound(f'{pckg} not found in either of the environments!')\n",
    "        elif type(packages) == str:\n",
    "            packages = packages.lower()\n",
    "            if (packages not in crossref_diff.keys()) and (f'{packages} **pip**' not in crossref_diff.keys()):\n",
    "                    raise PackageNotFound(f'{packages} not found in either of the environments!')\n",
    "        else:\n",
    "            raise TypeError(f'packages must be of type str or list!')\n",
    "\n",
    "    p_max = 0\n",
    "    v_max = max([len(env1_name), len(env2_name)])\n",
    "    for p in crossref_diff:\n",
    "        if len(p) > p_max:\n",
    "            p_max = len(p)\n",
    "        try:\n",
    "            if len(env1[p]) > v_max:\n",
    "                v_max = len(env1[p])\n",
    "        except:\n",
    "            continue\n",
    "    p_max_spaces = ''.join([' ' for l in range(p_max+9)])\n",
    "    v_max_spaces = ''.join([' ' for l in range(((v_max-len(env1_name))+15))])\n",
    "    equal = True\n",
    "    for ind, p in enumerate(crossref_diff):\n",
    "        if crossref_diff[p] != 'both':\n",
    "            equal = False\n",
    "        else:\n",
    "            if env1[p] != env2[p]:\n",
    "                equal = False\n",
    "    if equal:\n",
    "        return print(f\"\\n{Fore.GREEN} No differences found between the two environments. Congratulations!{Style.RESET_ALL}\\n\")\n",
    "    for ind, p in enumerate(crossref_diff):\n",
    "        if ind == 0:\n",
    "            print('\\n')\n",
    "            if compare_build:\n",
    "                null = 'null            null'\n",
    "                env1_name_start = str(f\"{''.join([' ' for s in range(len(p_max_spaces))])}\" + \n",
    "                                    f\"{''.join([' ' for s in range(floor((v_max/2)-(ceil(2*(len(env1_name)/3)))))])}\")\n",
    "                env1_name_end = env1_name_start + ''.join([' ' for s in env1_name])\n",
    "                env2_start = f\"{''.join([' ' for s in range((len(p_max_spaces)+v_max+15))])}\"\n",
    "                env2_name_start = str(''.join([' ' for s in range(len(env2_start) - len(env1_name_end))]) + f\"{''.join([' ' for s in range((floor(max([len(v) for v in env2.values()])/2)-len(env2_name)))])}\")\n",
    "                print(f\"{env1_name_start}{Fore.CYAN}{env1_name}{Style.RESET_ALL}\"\n",
    "                      f\"{env2_name_start}{Fore.CYAN}{env2_name}{Style.RESET_ALL}\")\n",
    "                print('')\n",
    "                # 10 for 6 spaces used between first version and build (below) plus the length of 'build' (i.e. 5 characters) -1.\n",
    "                print(f\"{p_max_spaces}{Fore.BLUE}version{Style.RESET_ALL}\"\n",
    "                      f\"{''.join([' ' for s in range(16-len('build'))])}\"\n",
    "                      f\"{Fore.BLUE}build{Style.RESET_ALL}\"\n",
    "                      f\"{''.join([' ' for s in range(len(env2_start)-len(p_max_spaces)-max([len(v.split(' ')[0]) for v in env1.values()])-len('verion'+'build'))])}\"\n",
    "                      f\"{Fore.BLUE}version{Style.RESET_ALL}{''.join([' ' for s in range(max([len(v.split(' ')[0]) for v in env2.values()]))])}\"\n",
    "                      f\"{Fore.BLUE}build{Style.RESET_ALL}\")\n",
    "            else:\n",
    "                null = 'null'\n",
    "                print(f'{p_max_spaces}{Fore.CYAN}{env1_name}{Style.RESET_ALL}{v_max_spaces}{Fore.CYAN}{env2_name}{Style.RESET_ALL}')\n",
    "            print('')\n",
    "        if crossref_diff[p] == 'both':\n",
    "            pckg_spaces = ''.join([' ' for l in range((p_max+10)-len(p))])\n",
    "            version_spaces = ''.join([' ' for l in range((v_max+15)-len(env1[p]))])\n",
    "            if env1[p] == env2[p]:\n",
    "                if diff_only:\n",
    "                    continue\n",
    "                if (packages==None) or ((type(packages)==str) and (p!=packages)) or ((type(packages)==list) and (not any(p == pckg for pckg in packages)) and (not any(p.split(' **pip**')[0] == pckg for pckg in packages))):\n",
    "                    if '**pip**' not in p:\n",
    "                        print(f'{p}{pckg_spaces}{Fore.GREEN}{env1[p]}{Style.RESET_ALL}{version_spaces}{Fore.GREEN}{env2[p]}{Style.RESET_ALL}')\n",
    "                    else:\n",
    "                        print(f\"{p.split(' **pip**')[0]}{Fore.RED} **pip**{Style.RESET_ALL}{pckg_spaces}\"\n",
    "                              f\"{Fore.GREEN}{env1[p]}{Style.RESET_ALL}{version_spaces}{Fore.GREEN}{env2[p]}{Style.RESET_ALL}\")\n",
    "                else:\n",
    "                    if '**pip**' not in p:\n",
    "                        print(f'{Fore.MAGENTA}{p}{Style.RESET_ALL}{pckg_spaces}{Fore.GREEN}{env1[p]}{Style.RESET_ALL}'\n",
    "                              f'{version_spaces}{Fore.GREEN}{env2[p]}{Style.RESET_ALL}')\n",
    "                    else:\n",
    "                        print(f\"{Fore.MAGENTA}{p.split(' **pip**')[0]}{Style.RESET_ALL}{Fore.RED} **pip**{Style.RESET_ALL}\"\n",
    "                              f\"{pckg_spaces}{Fore.GREEN}{env1[p]}{Style.RESET_ALL}{version_spaces}{Fore.GREEN}{env2[p]}{Style.RESET_ALL}\")\n",
    "            else:\n",
    "                if (packages==None) or ((type(packages)==str) and (p!=packages)) or ((type(packages)==list) and (not any(p == pckg for pckg in packages)) and (not any(p.split(' **pip**')[0] == pckg for pckg in packages))):\n",
    "                    if '**pip**' not in p:\n",
    "                        print(f'{p}{pckg_spaces}{Fore.YELLOW}{env1[p]}{Style.RESET_ALL}{version_spaces}{Fore.YELLOW}{env2[p]}{Style.RESET_ALL}')\n",
    "                    else:\n",
    "                        print(f\"{p.split(' **pip**')[0]}{Fore.RED} **pip**{Style.RESET_ALL}{pckg_spaces}\"\n",
    "                              f\"{Fore.YELLOW}{env1[p]}{Style.RESET_ALL}{version_spaces}{Fore.YELLOW}{env2[p]}{Style.RESET_ALL}\")\n",
    "                else:\n",
    "                    if '**pip**' not in p:\n",
    "                        print(f'{Fore.MAGENTA}{p}{Style.RESET_ALL}{pckg_spaces}{Fore.YELLOW}{env1[p]}{Style.RESET_ALL}'\n",
    "                              f'{version_spaces}{Fore.YELLOW}{env2[p]}{Style.RESET_ALL}')\n",
    "                    else:\n",
    "                        print(f\"{Fore.MAGENTA}{p.split(' **pip**')[0]}{Style.RESET_ALL}{Fore.RED} **pip**{Style.RESET_ALL}\"\n",
    "                              f\"{pckg_spaces}{Fore.YELLOW}{env1[p]}{Style.RESET_ALL}{version_spaces}{Fore.YELLOW}{env2[p]}{Style.RESET_ALL}\")\n",
    "            header = False\n",
    "        elif crossref_diff[p] == 'env1':\n",
    "            pckg_spaces = ''.join([' ' for l in range((p_max+10)-len(p))])\n",
    "            version_spaces = ''.join([' ' for l in range((v_max+15)-len(env1[p]))])\n",
    "            if (packages==None) or ((type(packages)==str) and (p!=packages)) or ((type(packages)==list) and (not any(p == pckg for pckg in packages)) and (not any(p.split(' **pip**')[0] == pckg for pckg in packages))):\n",
    "                if '**pip**' not in p:\n",
    "                    print(f'{p}{pckg_spaces}{Fore.RED}{env1[p]}{Style.RESET_ALL}{version_spaces}{Fore.RED}{null}{Style.RESET_ALL}')\n",
    "                else:\n",
    "                    print(f\"{p.split(' **pip**')[0]}{Fore.RED} **pip**{Style.RESET_ALL}{pckg_spaces}{Fore.RED}{env1[p]}{Style.RESET_ALL}\"\n",
    "                          f\"{version_spaces}{Fore.RED}{null}{Style.RESET_ALL}\")\n",
    "            else:\n",
    "                if '**pip**' not in p:\n",
    "                    print(f'{Fore.MAGENTA}{p}{Style.RESET_ALL}{pckg_spaces}{Fore.RED}{env1[p]}{Style.RESET_ALL}'\n",
    "                          f'{version_spaces}{Fore.RED}{null}{Style.RESET_ALL}')\n",
    "                else:\n",
    "                    print(f\"{Fore.MAGENTA}{p.split(' **pip**')[0]}{Style.RESET_ALL}{Fore.RED} **pip**{Style.RESET_ALL}\"\n",
    "                          f\"{pckg_spaces}{Fore.RED}{env1[p]}{Style.RESET_ALL}{version_spaces}{Fore.RED}{null}{Style.RESET_ALL}\")\n",
    "            header = False\n",
    "        elif crossref_diff[p] == 'env2':\n",
    "            pckg_spaces = ''.join([' ' for l in range((p_max+10)-len(p))])\n",
    "            version_spaces = ''.join([' ' for l in range((v_max+15)-len(null))])\n",
    "            if (packages==None) or ((type(packages)==str) and (p!=packages)) or ((type(packages)==list) and (not any(p == pckg for pckg in packages)) and (not any(p.split(' **pip**')[0] == pckg for pckg in packages))):\n",
    "                if '**pip**' not in p:\n",
    "                    print(f'{p}{pckg_spaces}{Fore.RED}{null}{Style.RESET_ALL}{version_spaces}{Fore.RED}{env2[p]}{Style.RESET_ALL}')\n",
    "                else:\n",
    "                    print(f\"{p.split(' **pip**')[0]}{Fore.RED} **pip**{Style.RESET_ALL}{pckg_spaces}{Fore.RED}{null}{Style.RESET_ALL}\"\n",
    "                          f\"{version_spaces}{Fore.RED}{env2[p]}{Style.RESET_ALL}\")\n",
    "            else:\n",
    "                if '**pip**' not in p:\n",
    "                    print(f'{Fore.MAGENTA}{p}{Style.RESET_ALL}{pckg_spaces}{Fore.RED}{null}{Style.RESET_ALL}'\n",
    "                          f'{version_spaces}{Fore.RED}{env2[p]}{Style.RESET_ALL}')\n",
    "                else:\n",
    "                    print(f\"{Fore.MAGENTA}{p.split(' **pip**')[0]}{Style.RESET_ALL}{Fore.RED} **pip**{Style.RESET_ALL}\"\n",
    "                          f\"{pckg_spaces}{Fore.RED}{null}{Style.RESET_ALL}{version_spaces}{Fore.RED}{env2[p]}{Style.RESET_ALL}\")\n",
    "            header = False"
   ]
  },
  {
   "cell_type": "code",
   "execution_count": 54,
   "id": "built-musical",
   "metadata": {
    "execution": {
     "iopub.execute_input": "2022-11-21T12:18:17.436114Z",
     "iopub.status.busy": "2022-11-21T12:18:17.435753Z",
     "iopub.status.idle": "2022-11-21T12:18:18.134682Z",
     "shell.execute_reply": "2022-11-21T12:18:18.133551Z",
     "shell.execute_reply.started": "2022-11-21T12:18:17.436088Z"
    },
    "tags": []
   },
   "outputs": [
    {
     "data": {
      "text/plain": [
       "[\"stdout=b'#condaenvironments:\",\n",
       " 'n#',\n",
       " 'nFCA/home/jovyan/my-conda-envs/FCA',\n",
       " 'nFCA_base/home/jovyan/my-conda-envs/FCA_base',\n",
       " 'nFCA_test/home/jovyan/my-conda-envs/FCA_test',\n",
       " 'nVCS/home/jovyan/my-conda-envs/VCS',\n",
       " 'ncircos/home/jovyan/my-conda-envs/circos',\n",
       " 'nenv_manage/home/jovyan/my-conda-envs/env_manage',\n",
       " 'nfetal_skin/home/jovyan/my-conda-envs/fetal_skin',\n",
       " 'nmetaflow/home/jovyan/my-conda-envs/metaflow',\n",
       " 'nmilo/home/jovyan/my-conda-envs/milo',\n",
       " 'nmonocle3/home/jovyan/my-conda-envs/monocle3',\n",
       " 'nqc/home/jovyan/my-conda-envs/qc',\n",
       " 'ntestenv/home/jovyan/my-conda-envs/testenv',\n",
       " 'nbase*/opt/conda',\n",
       " 'nr-reticulate/opt/conda/envs/r-reticulate',\n",
       " 'n',\n",
       " \"n'\"]"
      ]
     },
     "execution_count": 54,
     "metadata": {},
     "output_type": "execute_result"
    }
   ],
   "source": [
    "[str(subprocess.run('bash -c \"conda env list\"', capture_output=True, shell=True)).split(',')[-2].replace(\" \", \"\").split('\\\\')]"
   ]
  },
  {
   "cell_type": "code",
   "execution_count": 123,
   "id": "official-healthcare",
   "metadata": {
    "execution": {
     "iopub.execute_input": "2022-11-22T08:13:12.234559Z",
     "iopub.status.busy": "2022-11-22T08:13:12.234214Z",
     "iopub.status.idle": "2022-11-22T08:13:12.248073Z",
     "shell.execute_reply": "2022-11-22T08:13:12.247224Z",
     "shell.execute_reply.started": "2022-11-22T08:13:12.234533Z"
    },
    "tags": []
   },
   "outputs": [],
   "source": [
    "def build_sub_env(yml_file, packages, new_env_name=None, mamba =True, overide_env=False, prefix=None, constraint='exact', image=False):\n",
    "    \"\"\"Takes in a yml file for the query env \n",
    "    and creates a new environment with additional\n",
    "    specified packages.\n",
    "    ----------------------------------------------------------\n",
    "    Parameters:\n",
    "    \n",
    "    \"\"\"\n",
    "    \n",
    "    import subprocess\n",
    "    import time\n",
    "    \n",
    "    assert type(yml_file) == str, \"'yml_file' must be a str\"\n",
    "    assert (type(packages) == list) or (type(packages) == dict), \"'packages' \" + \\\n",
    "    \"must be either a dict of package:versions or a list of package names.\"\n",
    "    constraint_type = {'fuzzy' : '=', 'exact' : '==', 'GoE' : '>=', \n",
    "                       'greater' : '>', 'SoE' : '<=', 'smaller' : '<'}\n",
    "    assert constraint in list(constraint_type.keys()), f\"'constraint' must be set \" + \\\n",
    "    \"to one of the {list(constraint_type.keys())}. See the docstring for more info.\"\n",
    "    if type(packages) == list:\n",
    "        assert all(type(p) == str for p in packages), \"All specified packages \" + \\\n",
    "        \"in packages must of type str!\"\n",
    "    elif type(packages) == dict:\n",
    "        assert all(type(p) == str for p in packages.keys()), \"All \" + \\\n",
    "        \"specified package names in packages must of type str!\"\n",
    "        assert all(type(v) == str for v in packages.values()), \"All \\\n",
    "        specified package versions in packages must of type str!\"\n",
    "        assert all(any(v.startswith(c) for c in list(constraint_type.values())) \\\n",
    "                   for v in packages.values() if v!=''), \"All specified versions \" + \\\n",
    "                   \"in packages must of type str!\"\n",
    "    \n",
    "    \n",
    "    ext_name = yml_file.split('/')[-1].split('.')[0]\n",
    "    all_envs = str(subprocess.run('bash -c \"conda env list\"', \n",
    "                                  capture_output=True, \n",
    "                                  shell=True))\n",
    "    if not new_env_name:\n",
    "        print(f\"No explicit name provided for the new environment. Falling back \" \n",
    "              f\"to the .yml file's name: '{ext_name}'.\")\n",
    "        new_env_name = ext_name\n",
    "    if new_env_name in all_envs:\n",
    "        assert overide_env==True, f\"{new_env_name} env already exists! If you \" + \\\n",
    "        \"wish to overwrite this env, you must set 'overide_env' to True.\"\n",
    "        print(f\"Removing the exisitng {new_env_name}, you have 10 seconds to halt\"\n",
    "              \"this process!\")\n",
    "        time.sleep(10)\n",
    "        subprocess.run(f\"bash -c 'conda env remove -n {new_env_name} -y'\", \n",
    "                       shell=True)\n",
    "    \n",
    "    env, channels = load_env(yml_file)\n",
    "    env = {p:env['version'][i] for i, p in enumerate(env['package'])}\n",
    "    channels = [f'-c {ch}' for ch in channels]\n",
    "    command = []\n",
    "    if mamba:\n",
    "        command.append(f'mamba create -n {new_env_name} -y')\n",
    "    else:\n",
    "        command.append(f'conda create -n {new_env_name} -y')\n",
    "    command.extend(channels)\n",
    "    \n",
    "    if image:\n",
    "        command.extend(['=='.join([s.split(' **pip**')[0], env['version'][i]]) for i, s in enumerate(env['package'])])\n",
    "    \n",
    "    if type(packages)==dict:\n",
    "        for pack in packages:\n",
    "            for s in constraint_type.values():\n",
    "                pack = pack.split(s)[-1]\n",
    "            if packages[pack] == '':\n",
    "                try:\n",
    "                    command.append(f'{pack}{constraint_type[constraint]}{env[pack]}')\n",
    "                except KeyError:\n",
    "                    try:\n",
    "                        command.append(f\"{pack}{constraint_type[constraint]}{env[f'{pack} **pip**']}\")\n",
    "                    except KeyError:\n",
    "                        command.append(pack)\n",
    "            else:\n",
    "                command.append(f'{pack}{packages[pack]}')\n",
    "    else:\n",
    "        for pack in packages:\n",
    "            for s in constraint_type.values():\n",
    "                pack = pack.split(s)[-1]\n",
    "            try:\n",
    "                command.append(f'{pack}{constraint_type[constraint]}{env[pack]}')\n",
    "            except KeyError:\n",
    "                try:\n",
    "                    command.append(f\"{pack}{constraint_type[constraint]}{env[f'{pack} **pip**']}\")\n",
    "                except KeyError:\n",
    "                    command.append(pack)\n",
    "            \n",
    "    command = ' '.join(command)\n",
    "    subprocess.run(f\"bash -c '{command}'\", \n",
    "                   shell=True)\n",
    "    "
   ]
  },
  {
   "cell_type": "code",
   "execution_count": null,
   "id": "pending-assets",
   "metadata": {},
   "outputs": [],
   "source": [
    "def rebuild_env(yml_file, packages, mamba=True):\n",
    "    \"\"\"\"\"\"\n",
    "    import johnnydep\n",
    "    \n",
    "    "
   ]
  },
  {
   "cell_type": "code",
   "execution_count": 4,
   "id": "excited-render",
   "metadata": {
    "execution": {
     "iopub.execute_input": "2022-11-24T09:42:58.007934Z",
     "iopub.status.busy": "2022-11-24T09:42:58.007519Z",
     "iopub.status.idle": "2022-11-24T09:42:58.067114Z",
     "shell.execute_reply": "2022-11-24T09:42:58.066236Z",
     "shell.execute_reply.started": "2022-11-24T09:42:58.007893Z"
    },
    "tags": []
   },
   "outputs": [],
   "source": [
    "import johnnydep, sys, os"
   ]
  },
  {
   "cell_type": "code",
   "execution_count": 5,
   "id": "dependent-frame",
   "metadata": {
    "execution": {
     "iopub.execute_input": "2022-11-24T09:43:02.275563Z",
     "iopub.status.busy": "2022-11-24T09:43:02.275189Z",
     "iopub.status.idle": "2022-11-24T09:43:02.280706Z",
     "shell.execute_reply": "2022-11-24T09:43:02.279909Z",
     "shell.execute_reply.started": "2022-11-24T09:43:02.275533Z"
    }
   },
   "outputs": [],
   "source": [
    "import os, sys\n",
    "\n",
    "class HiddenPrints:\n",
    "    def __enter__(self):\n",
    "        self._original_stdout = sys.stdout\n",
    "        sys.stdout = open(os.devnull, 'w')\n",
    "\n",
    "    def __exit__(self, exc_type, exc_val, exc_tb):\n",
    "        sys.stdout.close()\n",
    "        sys.stdout = self._original_stdout"
   ]
  },
  {
   "cell_type": "code",
   "execution_count": 31,
   "id": "offensive-equality",
   "metadata": {
    "execution": {
     "iopub.execute_input": "2022-11-24T11:10:15.986075Z",
     "iopub.status.busy": "2022-11-24T11:10:15.985692Z",
     "iopub.status.idle": "2022-11-24T11:10:15.991520Z",
     "shell.execute_reply": "2022-11-24T11:10:15.990694Z",
     "shell.execute_reply.started": "2022-11-24T11:10:15.986047Z"
    },
    "tags": []
   },
   "outputs": [],
   "source": [
    "def get_pip_deps(pack_name):\n",
    "    \"\"\"Get requirements of a pip package using johnnydep package.\"\"\"\n",
    "    \n",
    "    from colorama import Fore, Style\n",
    "    \n",
    "    assert type(pack_name)==str\n",
    "    \n",
    "    with HiddenPrints():\n",
    "        requirements = johnnydep.JohnnyDist(pack_name).requires\n",
    "    print(f\"{Fore.RED}{pack_name}{Style.RESET_ALL} requires : {requirements}\")\n",
    "    \n",
    "    return requirements"
   ]
  },
  {
   "cell_type": "code",
   "execution_count": 7,
   "id": "equivalent-financing",
   "metadata": {
    "execution": {
     "iopub.execute_input": "2022-11-24T09:43:36.326894Z",
     "iopub.status.busy": "2022-11-24T09:43:36.326478Z",
     "iopub.status.idle": "2022-11-24T09:43:37.226664Z",
     "shell.execute_reply": "2022-11-24T09:43:37.225868Z",
     "shell.execute_reply.started": "2022-11-24T09:43:36.326865Z"
    },
    "tags": []
   },
   "outputs": [
    {
     "name": "stdout",
     "output_type": "stream",
     "text": [
      "['click>=7.1.2', 'leidenalg>=0.8.3', 'numpy>=1.19.0', 'openpyxl>=3.0.4', 'pandas>=1.0.5', 'requests>=2.23.0', 'scanpy>=1.7.0', 'scikit-learn>=0.24.1']\n"
     ]
    }
   ],
   "source": [
    "test_jd_reqs = get_pip_deps('celltypist')"
   ]
  },
  {
   "cell_type": "code",
   "execution_count": 127,
   "id": "bacterial-activation",
   "metadata": {
    "execution": {
     "iopub.execute_input": "2022-11-30T09:31:48.399902Z",
     "iopub.status.busy": "2022-11-30T09:31:48.399484Z",
     "iopub.status.idle": "2022-11-30T09:31:49.942522Z",
     "shell.execute_reply": "2022-11-30T09:31:49.941701Z",
     "shell.execute_reply.started": "2022-11-30T09:31:48.399874Z"
    },
    "tags": []
   },
   "outputs": [
    {
     "name": "stdout",
     "output_type": "stream",
     "text": [
      "2022-11-30 09:31.48 [info     ] init johnnydist                dist=pandas==1.5.0 parent=None\n",
      "2022-11-30 09:31.48 [debug    ] fetching best wheel            dist=pandas==1.5.0\n",
      "2022-11-30 09:31.48 [debug    ] created scratch                dist_name=pandas==1.5.0 tmpdir=/tmp/tmp7vuh7n25\n",
      "2022-11-30 09:31.48 [debug    ] wheeling and dealing           args=/home/jovyan/my-conda-envs/env_manage/bin/python -m pip wheel -vvv --no-deps --no-cache-dir --disable-pip-version-check --progress-bar=off pandas==1.5.0 scratch_dir=/tmp/tmp7vuh7n25/tmp78yhj8uz\n",
      "2022-11-30 09:31.49 [debug    ] wheel command completed ok     dist_name=pandas==1.5.0\n",
      "2022-11-30 09:31.49 [debug    ] computing checksum             algorithm=md5 target=/tmp/tmp7vuh7n25/tmp78yhj8uz/pandas-1.5.0-cp310-cp310-manylinux_2_17_x86_64.manylinux2014_x86_64.whl\n",
      "2022-11-30 09:31.49 [debug    ] computed checksum              result=6fb3f1e0663a6f778a75e123e635e3c0\n",
      "2022-11-30 09:31.49 [debug    ] finding import names\n",
      "2022-11-30 09:31.49 [debug    ] searching metadata             whl_file=/tmp/tmp7vuh7n25/tmp78yhj8uz/pandas-1.5.0-cp310-cp310-manylinux_2_17_x86_64.manylinux2014_x86_64.whl\n",
      "2022-11-30 09:31.49 [debug    ] removing scratch               dist_name=pandas==1.5.0 tmpdir=/tmp/tmp7vuh7n25\n",
      "2022-11-30 09:31.49 [debug    ] dropped conditional dep        dist=pandas==1.5.0 req=numpy (>=1.20.3) ; python_version < \"3.10\"\n",
      "2022-11-30 09:31.49 [debug    ] included conditional dep       dist=pandas==1.5.0 req=numpy (>=1.21.0) ; python_version >= \"3.10\"\n",
      "2022-11-30 09:31.49 [debug    ] dropped conditional dep        dist=pandas==1.5.0 req=hypothesis (>=5.5.3) ; extra == 'test'\n",
      "2022-11-30 09:31.49 [debug    ] dropped conditional dep        dist=pandas==1.5.0 req=pytest (>=6.0) ; extra == 'test'\n",
      "2022-11-30 09:31.49 [debug    ] dropped conditional dep        dist=pandas==1.5.0 req=pytest-xdist (>=1.31) ; extra == 'test'\n"
     ]
    },
    {
     "data": {
      "text/plain": [
       "['numpy>=1.21.0', 'python-dateutil>=2.8.1', 'pytz>=2020.1']"
      ]
     },
     "execution_count": 127,
     "metadata": {},
     "output_type": "execute_result"
    }
   ],
   "source": [
    "johnnydep.JohnnyDist('pandas==1.5.0').requires"
   ]
  },
  {
   "cell_type": "code",
   "execution_count": 117,
   "id": "molecular-audience",
   "metadata": {
    "execution": {
     "iopub.execute_input": "2022-11-30T09:26:25.242057Z",
     "iopub.status.busy": "2022-11-30T09:26:25.241152Z",
     "iopub.status.idle": "2022-11-30T09:26:25.247235Z",
     "shell.execute_reply": "2022-11-30T09:26:25.246430Z",
     "shell.execute_reply.started": "2022-11-30T09:26:25.242027Z"
    },
    "tags": []
   },
   "outputs": [],
   "source": [
    "def seperate_pck_name(pack_version_str):\n",
    "    \"\"\"Takes a package-version string, e.g. 'scikit-learn>=0.24.1', \n",
    "    and returns the package name, e.g. scikit-learn\"\"\"\n",
    "    \n",
    "    import re\n",
    "    \n",
    "    if any(c in pack_version_str for c in ['<', '=', '>', ',', ' ']):\n",
    "        pack_name = re.search(r'.*?(?=(<|=|>|,))', pack_version_str).group(0)\n",
    "        print(_str)\n",
    "        return , _str.group(2)\n",
    "    else:\n",
    "        return pack_version_str"
   ]
  },
  {
   "cell_type": "code",
   "execution_count": 124,
   "id": "charitable-metadata",
   "metadata": {
    "execution": {
     "iopub.execute_input": "2022-11-30T09:29:43.026090Z",
     "iopub.status.busy": "2022-11-30T09:29:43.025603Z",
     "iopub.status.idle": "2022-11-30T09:29:43.032409Z",
     "shell.execute_reply": "2022-11-30T09:29:43.031548Z",
     "shell.execute_reply.started": "2022-11-30T09:29:43.026062Z"
    },
    "tags": []
   },
   "outputs": [
    {
     "data": {
      "text/plain": [
       "'=0.7.4'"
      ]
     },
     "execution_count": 124,
     "metadata": {},
     "output_type": "execute_result"
    }
   ],
   "source": [
    " re.search(r'(?<=(<|=|>|,)).*', 'anndata>=0.7.4').group(0)"
   ]
  },
  {
   "cell_type": "code",
   "execution_count": 131,
   "id": "protecting-respect",
   "metadata": {
    "execution": {
     "iopub.execute_input": "2022-11-30T09:35:47.444026Z",
     "iopub.status.busy": "2022-11-30T09:35:47.443608Z",
     "iopub.status.idle": "2022-11-30T09:35:47.449793Z",
     "shell.execute_reply": "2022-11-30T09:35:47.448979Z",
     "shell.execute_reply.started": "2022-11-30T09:35:47.443991Z"
    },
    "tags": []
   },
   "outputs": [
    {
     "data": {
      "text/plain": [
       "\"'certifi>=2017.4.17'\""
      ]
     },
     "execution_count": 131,
     "metadata": {},
     "output_type": "execute_result"
    }
   ],
   "source": [
    "get_pip_deps(missing_pack)"
   ]
  },
  {
   "cell_type": "code",
   "execution_count": 118,
   "id": "spoken-passion",
   "metadata": {
    "execution": {
     "iopub.execute_input": "2022-11-30T09:26:25.594689Z",
     "iopub.status.busy": "2022-11-30T09:26:25.593660Z",
     "iopub.status.idle": "2022-11-30T09:26:25.701633Z",
     "shell.execute_reply": "2022-11-30T09:26:25.700523Z",
     "shell.execute_reply.started": "2022-11-30T09:26:25.594646Z"
    },
    "tags": []
   },
   "outputs": [
    {
     "name": "stdout",
     "output_type": "stream",
     "text": [
      "\u001b[31mclick>=7.1.2\u001b[0m requires : []\n",
      "\u001b[31mleidenalg>=0.8.3\u001b[0m requires : ['igraph<0.11,>=0.10.0']\n",
      "\u001b[31mnumpy>=1.19.0\u001b[0m requires : []\n",
      "\u001b[31mopenpyxl>=3.0.4\u001b[0m requires : ['et-xmlfile']\n",
      "\u001b[31mpandas>=1.0.5\u001b[0m requires : ['numpy>=1.21.0', 'python-dateutil>=2.8.1', 'pytz>=2020.1']\n",
      "\u001b[31mrequests>=2.23.0\u001b[0m requires : ['certifi>=2017.4.17', 'charset-normalizer<3,>=2', 'idna<4,>=2.5', 'urllib3<1.27,>=1.21.1']\n",
      "\u001b[31mscanpy>=1.7.0\u001b[0m requires : ['anndata>=0.7.4', 'h5py>=3', 'joblib', 'matplotlib>=3.4', 'natsort', 'networkx>=2.3', 'numba>=0.41.0', 'numpy>=1.17.0', 'packaging', 'pandas>=1.0', 'patsy', 'scikit-learn>=0.22', 'scipy>=1.4', 'seaborn', 'session-info', 'statsmodels>=0.10.0rc2', 'tqdm', 'umap-learn>=0.3.10']\n",
      "\u001b[31mscikit-learn>=0.24.1\u001b[0m requires : ['joblib>=1.0.0', 'numpy>=1.17.3', 'scipy>=1.3.2', 'threadpoolctl>=2.0.0']\n",
      "<re.Match object; span=(0, 6), match='igraph'>\n"
     ]
    },
    {
     "ename": "IndexError",
     "evalue": "no such group",
     "output_type": "error",
     "traceback": [
      "\u001b[0;31m---------------------------------------------------------------------------\u001b[0m",
      "\u001b[0;31mIndexError\u001b[0m                                Traceback (most recent call last)",
      "Input \u001b[0;32mIn [118]\u001b[0m, in \u001b[0;36m<cell line: 5>\u001b[0;34m()\u001b[0m\n\u001b[1;32m      3\u001b[0m     compiled_packs\u001b[38;5;241m.\u001b[39mextend(get_pip_deps(p))\n\u001b[1;32m      5\u001b[0m \u001b[38;5;28;01mfor\u001b[39;00m p \u001b[38;5;129;01min\u001b[39;00m compiled_packs:\n\u001b[0;32m----> 6\u001b[0m     \u001b[38;5;28mprint\u001b[39m(\u001b[43mseperate_pck_name\u001b[49m\u001b[43m(\u001b[49m\u001b[43mp\u001b[49m\u001b[43m)\u001b[49m)\n",
      "Input \u001b[0;32mIn [117]\u001b[0m, in \u001b[0;36mseperate_pck_name\u001b[0;34m(pack_version_str)\u001b[0m\n\u001b[1;32m      8\u001b[0m     _str \u001b[38;5;241m=\u001b[39m re\u001b[38;5;241m.\u001b[39msearch(\u001b[38;5;124mr\u001b[39m\u001b[38;5;124m'\u001b[39m\u001b[38;5;124m.*?(?=(<|=|>|,))\u001b[39m\u001b[38;5;124m'\u001b[39m, pack_version_str)\n\u001b[1;32m      9\u001b[0m     \u001b[38;5;28mprint\u001b[39m(_str)\n\u001b[0;32m---> 10\u001b[0m     \u001b[38;5;28;01mreturn\u001b[39;00m _str\u001b[38;5;241m.\u001b[39mgroup(\u001b[38;5;241m0\u001b[39m), \u001b[43m_str\u001b[49m\u001b[38;5;241;43m.\u001b[39;49m\u001b[43mgroup\u001b[49m\u001b[43m(\u001b[49m\u001b[38;5;241;43m2\u001b[39;49m\u001b[43m)\u001b[49m\n\u001b[1;32m     11\u001b[0m \u001b[38;5;28;01melse\u001b[39;00m:\n\u001b[1;32m     12\u001b[0m     \u001b[38;5;28;01mreturn\u001b[39;00m pack_version_str\n",
      "\u001b[0;31mIndexError\u001b[0m: no such group"
     ]
    }
   ],
   "source": [
    "compiled_packs = []\n",
    "for p in test_jd_reqs:\n",
    "    compiled_packs.extend(get_pip_deps(p))\n",
    "\n",
    "for p in compiled_packs:\n",
    "    print(seperate_pck_name(p))"
   ]
  },
  {
   "cell_type": "code",
   "execution_count": null,
   "id": "laughing-stable",
   "metadata": {},
   "outputs": [],
   "source": [
    "import subprocess\n",
    "\n",
    "def execute(cmd):\n",
    "    popen = subprocess.Popen(cmd, stdout=subprocess.PIPE, universal_newlines=True)\n",
    "    for stdout_line in iter(popen.stdout.readline, \"\"):\n",
    "        yield stdout_line \n",
    "    popen.stdout.close()\n",
    "    return_code = popen.wait()\n",
    "    if return_code:\n",
    "        raise subprocess.CalledProcessError(return_code, cmd)\n",
    "\n",
    "prob_tup = tuple()\n",
    "conflicts = []\n",
    "missing_packages = []\n",
    "pip_only = []\n",
    "pip_only_deps = []\n",
    "try:\n",
    "    for line in execute([\"mamba\", \"install\", \"-y\", \"-c\", \"conda-forge\", \"pandas==1.5.1\", \"numpy==1.9.3\", \"python==3.7\"]):\n",
    "        \n",
    "        else:\n",
    "            print(path, end=\"\")\n",
    "except:\n",
    "    if 'nothing provides requested' in line:\n",
    "        try:\n",
    "            missing_pack = re.search(f\"(?<=nothing provides requested ).*\", line).group(0)\n",
    "            pip_only_deps.extend(get_pip_deps(missing_pack))\n",
    "            pip_only.append(missing_pack)\n",
    "        except CalledProcessError:\n",
    "            print(f\"{missing_pack} is not found nor by anaconda neither by pip.\")\n",
    "            print(f\"Make sure you have provided the correct spelling.\")\n",
    "            print(\"Exiting!\")\n",
    "    elif 'requires' in path:\n",
    "        problem_search = re.search(f\"(?<=package).*(?=, but)\", path)\n",
    "        prob1 = test_search.group(0).split(f'-')[:-1]\n",
    "        prob2 = test_search.group(0).split(f' requires ')[-1]\n",
    "        print(f\"{'=='.join(prob1) + ' requires ' + prob2}\")\n",
    "        print(\"Try provodng fuzzy constraint for the requested package (e.g. '=ver.sion.x'), if the specified patch 'x' is not essential.\")\n",
    "        print(\"Alternatively, set constraint='fuzzy' if the env packages' patches are not essential\")\n",
    "        print('Exiting!')"
   ]
  },
  {
   "cell_type": "code",
   "execution_count": 45,
   "id": "powered-mainstream",
   "metadata": {
    "execution": {
     "iopub.execute_input": "2022-11-28T08:17:19.777064Z",
     "iopub.status.busy": "2022-11-28T08:17:19.776712Z",
     "iopub.status.idle": "2022-11-28T08:17:19.782073Z",
     "shell.execute_reply": "2022-11-28T08:17:19.781217Z",
     "shell.execute_reply.started": "2022-11-28T08:17:19.777036Z"
    },
    "tags": []
   },
   "outputs": [
    {
     "name": "stdout",
     "output_type": "stream",
     "text": [
      "31\n",
      "27\n"
     ]
    }
   ],
   "source": [
    "print(len([seperate_pck_name(p) for p in compiled_packs]))\n",
    "print(len(set([seperate_pck_name(p) for p in compiled_packs])))"
   ]
  },
  {
   "cell_type": "code",
   "execution_count": 112,
   "id": "average-respect",
   "metadata": {
    "execution": {
     "iopub.execute_input": "2022-11-29T14:05:49.988891Z",
     "iopub.status.busy": "2022-11-29T14:05:49.988524Z",
     "iopub.status.idle": "2022-11-29T14:05:51.033415Z",
     "shell.execute_reply": "2022-11-29T14:05:51.032093Z",
     "shell.execute_reply.started": "2022-11-29T14:05:49.988863Z"
    },
    "tags": []
   },
   "outputs": [
    {
     "name": "stdout",
     "output_type": "stream",
     "text": [
      "2022-11-29 14:05.49 [info     ] init johnnydist                dist=requestss parent=None\n",
      "2022-11-29 14:05.49 [debug    ] fetching best wheel            dist=requestss\n",
      "2022-11-29 14:05.49 [debug    ] created scratch                dist_name=requestss tmpdir=/tmp/tmpc6tgv7c8\n",
      "2022-11-29 14:05.49 [debug    ] wheeling and dealing           args=/home/jovyan/my-conda-envs/env_manage/bin/python -m pip wheel -vvv --no-deps --no-cache-dir --disable-pip-version-check --progress-bar=off requestss scratch_dir=/tmp/tmpc6tgv7c8/tmp3647w2zd\n",
      "2022-11-29 14:05.50 [warning  ] Created temporary directory: /tmp/pip-ephem-wheel-cache-uvzuk_pg\n",
      "Created temporary directory: /tmp/pip-build-tracker-31n_55ea\n",
      "Initialized build tracking at /tmp/pip-build-tracker-31n_55ea\n",
      "Created build tracker: /tmp/pip-build-tracker-31n_55ea\n",
      "Entered build tracker: /tmp/pip-build-tracker-31n_55ea\n",
      "Created temporary directory: /tmp/pip-wheel-03ylydy1\n",
      "Created temporary directory: /tmp/pip-ephem-wheel-cache-sei5av_o\n",
      "1 location(s) to search for versions of requestss:\n",
      "* https://pypi.org/simple/requestss/\n",
      "Fetching project page and analyzing links: https://pypi.org/simple/requestss/\n",
      "Getting page https://pypi.org/simple/requestss/\n",
      "Found index url https://pypi.org/simple\n",
      "Starting new HTTPS connection (1): pypi.org:443\n",
      "https://pypi.org:443 \"GET /simple/requestss/ HTTP/1.1\" 404 13\n",
      "Could not fetch URL https://pypi.org/simple/requestss/: 404 Client Error: Not Found for url: https://pypi.org/simple/requestss/ - skipping\n",
      "Skipping link: not a file: https://pypi.org/simple/requestss/\n",
      "Given no hashes to check 0 links for project 'requestss': discarding no candidates\n",
      "ERROR: Could not find a version that satisfies the requirement requestss (from versions: none)\n",
      "ERROR: No matching distribution found for requestss\n",
      "Exception information:\n",
      "Traceback (most recent call last):\n",
      "  File \"/home/jovyan/my-conda-envs/env_manage/lib/python3.10/site-packages/pip/_vendor/resolvelib/resolvers.py\", line 348, in resolve\n",
      "    self._add_to_criteria(self.state.criteria, r, parent=None)\n",
      "  File \"/home/jovyan/my-conda-envs/env_manage/lib/python3.10/site-packages/pip/_vendor/resolvelib/resolvers.py\", line 173, in _add_to_criteria\n",
      "    raise RequirementsConflicted(criterion)\n",
      "pip._vendor.resolvelib.resolvers.RequirementsConflicted: Requirements conflict: SpecifierRequirement('requestss')\n",
      "\n",
      "During handling of the above exception, another exception occurred:\n",
      "\n",
      "Traceback (most recent call last):\n",
      "  File \"/home/jovyan/my-conda-envs/env_manage/lib/python3.10/site-packages/pip/_internal/resolution/resolvelib/resolver.py\", line 92, in resolve\n",
      "    result = self._result = resolver.resolve(\n",
      "  File \"/home/jovyan/my-conda-envs/env_manage/lib/python3.10/site-packages/pip/_vendor/resolvelib/resolvers.py\", line 481, in resolve\n",
      "    state = resolution.resolve(requirements, max_rounds=max_rounds)\n",
      "  File \"/home/jovyan/my-conda-envs/env_manage/lib/python3.10/site-packages/pip/_vendor/resolvelib/resolvers.py\", line 350, in resolve\n",
      "    raise ResolutionImpossible(e.criterion.information)\n",
      "pip._vendor.resolvelib.resolvers.ResolutionImpossible: [RequirementInformation(requirement=SpecifierRequirement('requestss'), parent=None)]\n",
      "\n",
      "The above exception was the direct cause of the following exception:\n",
      "\n",
      "Traceback (most recent call last):\n",
      "  File \"/home/jovyan/my-conda-envs/env_manage/lib/python3.10/site-packages/pip/_internal/cli/base_command.py\", line 160, in exc_logging_wrapper\n",
      "    status = run_func(*args)\n",
      "  File \"/home/jovyan/my-conda-envs/env_manage/lib/python3.10/site-packages/pip/_internal/cli/req_command.py\", line 247, in wrapper\n",
      "    return func(self, options, args)\n",
      "  File \"/home/jovyan/my-conda-envs/env_manage/lib/python3.10/site-packages/pip/_internal/commands/wheel.py\", line 170, in run\n",
      "    requirement_set = resolver.resolve(reqs, check_supported_wheels=True)\n",
      "  File \"/home/jovyan/my-conda-envs/env_manage/lib/python3.10/site-packages/pip/_internal/resolution/resolvelib/resolver.py\", line 101, in resolve\n",
      "    raise error from e\n",
      "pip._internal.exceptions.DistributionNotFound: No matching distribution found for requestss\n",
      "Removed build tracker: '/tmp/pip-build-tracker-31n_55ea'\n",
      "\n",
      "2022-11-29 14:05.50 [debug    ] removing scratch               dist_name=requestss tmpdir=/tmp/tmpc6tgv7c8\n"
     ]
    },
    {
     "ename": "CalledProcessError",
     "evalue": "Command '['/home/jovyan/my-conda-envs/env_manage/bin/python', '-m', 'pip', 'wheel', '-vvv', '--no-deps', '--no-cache-dir', '--disable-pip-version-check', '--progress-bar=off', 'requestss']' returned non-zero exit status 1.",
     "output_type": "error",
     "traceback": [
      "\u001b[0;31m---------------------------------------------------------------------------\u001b[0m",
      "\u001b[0;31mCalledProcessError\u001b[0m                        Traceback (most recent call last)",
      "Input \u001b[0;32mIn [112]\u001b[0m, in \u001b[0;36m<cell line: 3>\u001b[0;34m()\u001b[0m\n\u001b[1;32m      1\u001b[0m \u001b[38;5;28;01mimport\u001b[39;00m \u001b[38;5;21;01mjohnnydep\u001b[39;00m \n\u001b[0;32m----> 3\u001b[0m \u001b[43mjohnnydep\u001b[49m\u001b[38;5;241;43m.\u001b[39;49m\u001b[43mJohnnyDist\u001b[49m\u001b[43m(\u001b[49m\u001b[38;5;124;43m'\u001b[39;49m\u001b[38;5;124;43mrequestss\u001b[39;49m\u001b[38;5;124;43m'\u001b[39;49m\u001b[43m)\u001b[49m\u001b[38;5;241m.\u001b[39mrequires\n",
      "File \u001b[0;32m~/my-conda-envs/env_manage/lib/python3.10/site-packages/johnnydep/lib.py:70\u001b[0m, in \u001b[0;36mJohnnyDist.__init__\u001b[0;34m(self, req_string, parent, index_url, env, extra_index_url, ignore_errors)\u001b[0m\n\u001b[1;32m     68\u001b[0m log\u001b[38;5;241m.\u001b[39mdebug(\u001b[38;5;124m\"\u001b[39m\u001b[38;5;124mfetching best wheel\u001b[39m\u001b[38;5;124m\"\u001b[39m)\n\u001b[1;32m     69\u001b[0m \u001b[38;5;28;01mtry\u001b[39;00m:\n\u001b[0;32m---> 70\u001b[0m     \u001b[38;5;28mself\u001b[39m\u001b[38;5;241m.\u001b[39mimport_names, \u001b[38;5;28mself\u001b[39m\u001b[38;5;241m.\u001b[39mmetadata \u001b[38;5;241m=\u001b[39m \u001b[43m_get_info\u001b[49m\u001b[43m(\u001b[49m\n\u001b[1;32m     71\u001b[0m \u001b[43m        \u001b[49m\u001b[43mdist_name\u001b[49m\u001b[38;5;241;43m=\u001b[39;49m\u001b[43mreq_string\u001b[49m\u001b[43m,\u001b[49m\n\u001b[1;32m     72\u001b[0m \u001b[43m        \u001b[49m\u001b[43mindex_url\u001b[49m\u001b[38;5;241;43m=\u001b[39;49m\u001b[43mindex_url\u001b[49m\u001b[43m,\u001b[49m\n\u001b[1;32m     73\u001b[0m \u001b[43m        \u001b[49m\u001b[43menv\u001b[49m\u001b[38;5;241;43m=\u001b[39;49m\u001b[43menv\u001b[49m\u001b[43m,\u001b[49m\n\u001b[1;32m     74\u001b[0m \u001b[43m        \u001b[49m\u001b[43mextra_index_url\u001b[49m\u001b[38;5;241;43m=\u001b[39;49m\u001b[43mextra_index_url\u001b[49m\n\u001b[1;32m     75\u001b[0m \u001b[43m    \u001b[49m\u001b[43m)\u001b[49m\n\u001b[1;32m     76\u001b[0m \u001b[38;5;28;01mexcept\u001b[39;00m subprocess\u001b[38;5;241m.\u001b[39mCalledProcessError \u001b[38;5;28;01mas\u001b[39;00m err:\n\u001b[1;32m     77\u001b[0m     \u001b[38;5;28;01mif\u001b[39;00m \u001b[38;5;129;01mnot\u001b[39;00m \u001b[38;5;28mself\u001b[39m\u001b[38;5;241m.\u001b[39mignore_errors:\n",
      "File \u001b[0;32m~/my-conda-envs/env_manage/lib/python3.10/site-packages/cachetools/func.py:62\u001b[0m, in \u001b[0;36m_cache.<locals>.decorator.<locals>.wrapper\u001b[0;34m(*args, **kwargs)\u001b[0m\n\u001b[1;32m     60\u001b[0m     \u001b[38;5;28;01mexcept\u001b[39;00m \u001b[38;5;167;01mKeyError\u001b[39;00m:\n\u001b[1;32m     61\u001b[0m         misses \u001b[38;5;241m+\u001b[39m\u001b[38;5;241m=\u001b[39m \u001b[38;5;241m1\u001b[39m\n\u001b[0;32m---> 62\u001b[0m v \u001b[38;5;241m=\u001b[39m \u001b[43mfunc\u001b[49m\u001b[43m(\u001b[49m\u001b[38;5;241;43m*\u001b[39;49m\u001b[43margs\u001b[49m\u001b[43m,\u001b[49m\u001b[43m \u001b[49m\u001b[38;5;241;43m*\u001b[39;49m\u001b[38;5;241;43m*\u001b[39;49m\u001b[43mkwargs\u001b[49m\u001b[43m)\u001b[49m\n\u001b[1;32m     63\u001b[0m \u001b[38;5;66;03m# in case of a race, prefer the item already in the cache\u001b[39;00m\n\u001b[1;32m     64\u001b[0m \u001b[38;5;28;01mtry\u001b[39;00m:\n",
      "File \u001b[0;32m~/my-conda-envs/env_manage/lib/python3.10/site-packages/johnnydep/lib.py:416\u001b[0m, in \u001b[0;36m_get_info\u001b[0;34m(dist_name, index_url, env, extra_index_url)\u001b[0m\n\u001b[1;32m    414\u001b[0m log\u001b[38;5;241m.\u001b[39mdebug(\u001b[38;5;124m\"\u001b[39m\u001b[38;5;124mcreated scratch\u001b[39m\u001b[38;5;124m\"\u001b[39m, tmpdir\u001b[38;5;241m=\u001b[39mtmpdir)\n\u001b[1;32m    415\u001b[0m \u001b[38;5;28;01mtry\u001b[39;00m:\n\u001b[0;32m--> 416\u001b[0m     data \u001b[38;5;241m=\u001b[39m \u001b[43mpipper\u001b[49m\u001b[38;5;241;43m.\u001b[39;49m\u001b[43mget\u001b[49m\u001b[43m(\u001b[49m\n\u001b[1;32m    417\u001b[0m \u001b[43m        \u001b[49m\u001b[43mdist_name\u001b[49m\u001b[43m,\u001b[49m\n\u001b[1;32m    418\u001b[0m \u001b[43m        \u001b[49m\u001b[43mindex_url\u001b[49m\u001b[38;5;241;43m=\u001b[39;49m\u001b[43mindex_url\u001b[49m\u001b[43m,\u001b[49m\n\u001b[1;32m    419\u001b[0m \u001b[43m        \u001b[49m\u001b[43menv\u001b[49m\u001b[38;5;241;43m=\u001b[39;49m\u001b[43menv\u001b[49m\u001b[43m,\u001b[49m\n\u001b[1;32m    420\u001b[0m \u001b[43m        \u001b[49m\u001b[43mextra_index_url\u001b[49m\u001b[38;5;241;43m=\u001b[39;49m\u001b[43mextra_index_url\u001b[49m\u001b[43m,\u001b[49m\n\u001b[1;32m    421\u001b[0m \u001b[43m        \u001b[49m\u001b[43mtmpdir\u001b[49m\u001b[38;5;241;43m=\u001b[39;49m\u001b[43mtmpdir\u001b[49m\u001b[43m,\u001b[49m\n\u001b[1;32m    422\u001b[0m \u001b[43m    \u001b[49m\u001b[43m)\u001b[49m\n\u001b[1;32m    423\u001b[0m     dist_path \u001b[38;5;241m=\u001b[39m data[\u001b[38;5;124m\"\u001b[39m\u001b[38;5;124mpath\u001b[39m\u001b[38;5;124m\"\u001b[39m]\n\u001b[1;32m    424\u001b[0m     \u001b[38;5;66;03m# extract any info we may need from downloaded dist right now, so the\u001b[39;00m\n\u001b[1;32m    425\u001b[0m     \u001b[38;5;66;03m# downloaded file can be cleaned up immediately\u001b[39;00m\n",
      "File \u001b[0;32m~/my-conda-envs/env_manage/lib/python3.10/site-packages/cachetools/__init__.py:641\u001b[0m, in \u001b[0;36mcached.<locals>.decorator.<locals>.wrapper\u001b[0;34m(*args, **kwargs)\u001b[0m\n\u001b[1;32m    639\u001b[0m \u001b[38;5;28;01mexcept\u001b[39;00m \u001b[38;5;167;01mKeyError\u001b[39;00m:\n\u001b[1;32m    640\u001b[0m     \u001b[38;5;28;01mpass\u001b[39;00m  \u001b[38;5;66;03m# key not found\u001b[39;00m\n\u001b[0;32m--> 641\u001b[0m v \u001b[38;5;241m=\u001b[39m \u001b[43mfunc\u001b[49m\u001b[43m(\u001b[49m\u001b[38;5;241;43m*\u001b[39;49m\u001b[43margs\u001b[49m\u001b[43m,\u001b[49m\u001b[43m \u001b[49m\u001b[38;5;241;43m*\u001b[39;49m\u001b[38;5;241;43m*\u001b[39;49m\u001b[43mkwargs\u001b[49m\u001b[43m)\u001b[49m\n\u001b[1;32m    642\u001b[0m \u001b[38;5;28;01mtry\u001b[39;00m:\n\u001b[1;32m    643\u001b[0m     cache[k] \u001b[38;5;241m=\u001b[39m v\n",
      "File \u001b[0;32m~/my-conda-envs/env_manage/lib/python3.10/site-packages/johnnydep/pipper.py:159\u001b[0m, in \u001b[0;36mget\u001b[0;34m(dist_name, index_url, env, extra_index_url, tmpdir, ignore_errors)\u001b[0m\n\u001b[1;32m    157\u001b[0m log\u001b[38;5;241m.\u001b[39mdebug(\u001b[38;5;124m\"\u001b[39m\u001b[38;5;124mwheeling and dealing\u001b[39m\u001b[38;5;124m\"\u001b[39m, scratch_dir\u001b[38;5;241m=\u001b[39mos\u001b[38;5;241m.\u001b[39mpath\u001b[38;5;241m.\u001b[39mabspath(scratch_dir), args\u001b[38;5;241m=\u001b[39m\u001b[38;5;124m\"\u001b[39m\u001b[38;5;124m \u001b[39m\u001b[38;5;124m\"\u001b[39m\u001b[38;5;241m.\u001b[39mjoin(args))\n\u001b[1;32m    158\u001b[0m \u001b[38;5;28;01mtry\u001b[39;00m:\n\u001b[0;32m--> 159\u001b[0m     out \u001b[38;5;241m=\u001b[39m \u001b[43mcheck_output\u001b[49m\u001b[43m(\u001b[49m\u001b[43margs\u001b[49m\u001b[43m,\u001b[49m\u001b[43m \u001b[49m\u001b[43mstderr\u001b[49m\u001b[38;5;241;43m=\u001b[39;49m\u001b[43mSTDOUT\u001b[49m\u001b[43m,\u001b[49m\u001b[43m \u001b[49m\u001b[43mcwd\u001b[49m\u001b[38;5;241;43m=\u001b[39;49m\u001b[43mscratch_dir\u001b[49m\u001b[43m)\u001b[49m\u001b[38;5;241m.\u001b[39mdecode(\u001b[38;5;124m\"\u001b[39m\u001b[38;5;124mutf-8\u001b[39m\u001b[38;5;124m\"\u001b[39m)\n\u001b[1;32m    160\u001b[0m \u001b[38;5;28;01mexcept\u001b[39;00m CalledProcessError \u001b[38;5;28;01mas\u001b[39;00m err:\n\u001b[1;32m    161\u001b[0m     out \u001b[38;5;241m=\u001b[39m \u001b[38;5;28mgetattr\u001b[39m(err, \u001b[38;5;124m\"\u001b[39m\u001b[38;5;124moutput\u001b[39m\u001b[38;5;124m\"\u001b[39m, \u001b[38;5;124mb\u001b[39m\u001b[38;5;124m\"\u001b[39m\u001b[38;5;124m\"\u001b[39m)\u001b[38;5;241m.\u001b[39mdecode(\u001b[38;5;124m\"\u001b[39m\u001b[38;5;124mutf-8\u001b[39m\u001b[38;5;124m\"\u001b[39m)\n",
      "File \u001b[0;32m~/my-conda-envs/env_manage/lib/python3.10/subprocess.py:420\u001b[0m, in \u001b[0;36mcheck_output\u001b[0;34m(timeout, *popenargs, **kwargs)\u001b[0m\n\u001b[1;32m    417\u001b[0m         empty \u001b[38;5;241m=\u001b[39m \u001b[38;5;124mb\u001b[39m\u001b[38;5;124m'\u001b[39m\u001b[38;5;124m'\u001b[39m\n\u001b[1;32m    418\u001b[0m     kwargs[\u001b[38;5;124m'\u001b[39m\u001b[38;5;124minput\u001b[39m\u001b[38;5;124m'\u001b[39m] \u001b[38;5;241m=\u001b[39m empty\n\u001b[0;32m--> 420\u001b[0m \u001b[38;5;28;01mreturn\u001b[39;00m \u001b[43mrun\u001b[49m\u001b[43m(\u001b[49m\u001b[38;5;241;43m*\u001b[39;49m\u001b[43mpopenargs\u001b[49m\u001b[43m,\u001b[49m\u001b[43m \u001b[49m\u001b[43mstdout\u001b[49m\u001b[38;5;241;43m=\u001b[39;49m\u001b[43mPIPE\u001b[49m\u001b[43m,\u001b[49m\u001b[43m \u001b[49m\u001b[43mtimeout\u001b[49m\u001b[38;5;241;43m=\u001b[39;49m\u001b[43mtimeout\u001b[49m\u001b[43m,\u001b[49m\u001b[43m \u001b[49m\u001b[43mcheck\u001b[49m\u001b[38;5;241;43m=\u001b[39;49m\u001b[38;5;28;43;01mTrue\u001b[39;49;00m\u001b[43m,\u001b[49m\n\u001b[1;32m    421\u001b[0m \u001b[43m           \u001b[49m\u001b[38;5;241;43m*\u001b[39;49m\u001b[38;5;241;43m*\u001b[39;49m\u001b[43mkwargs\u001b[49m\u001b[43m)\u001b[49m\u001b[38;5;241m.\u001b[39mstdout\n",
      "File \u001b[0;32m~/my-conda-envs/env_manage/lib/python3.10/subprocess.py:524\u001b[0m, in \u001b[0;36mrun\u001b[0;34m(input, capture_output, timeout, check, *popenargs, **kwargs)\u001b[0m\n\u001b[1;32m    522\u001b[0m     retcode \u001b[38;5;241m=\u001b[39m process\u001b[38;5;241m.\u001b[39mpoll()\n\u001b[1;32m    523\u001b[0m     \u001b[38;5;28;01mif\u001b[39;00m check \u001b[38;5;129;01mand\u001b[39;00m retcode:\n\u001b[0;32m--> 524\u001b[0m         \u001b[38;5;28;01mraise\u001b[39;00m CalledProcessError(retcode, process\u001b[38;5;241m.\u001b[39margs,\n\u001b[1;32m    525\u001b[0m                                  output\u001b[38;5;241m=\u001b[39mstdout, stderr\u001b[38;5;241m=\u001b[39mstderr)\n\u001b[1;32m    526\u001b[0m \u001b[38;5;28;01mreturn\u001b[39;00m CompletedProcess(process\u001b[38;5;241m.\u001b[39margs, retcode, stdout, stderr)\n",
      "\u001b[0;31mCalledProcessError\u001b[0m: Command '['/home/jovyan/my-conda-envs/env_manage/bin/python', '-m', 'pip', 'wheel', '-vvv', '--no-deps', '--no-cache-dir', '--disable-pip-version-check', '--progress-bar=off', 'requestss']' returned non-zero exit status 1."
     ]
    }
   ],
   "source": [
    "import johnnydep \n",
    "\n",
    "johnnydep.JohnnyDist('requestss').requires"
   ]
  },
  {
   "cell_type": "code",
   "execution_count": 28,
   "id": "drawn-fantasy",
   "metadata": {
    "execution": {
     "iopub.execute_input": "2022-11-21T09:46:08.121036Z",
     "iopub.status.busy": "2022-11-21T09:46:08.120647Z",
     "iopub.status.idle": "2022-11-21T09:46:08.815431Z",
     "shell.execute_reply": "2022-11-21T09:46:08.814576Z",
     "shell.execute_reply.started": "2022-11-21T09:46:08.121011Z"
    },
    "tags": []
   },
   "outputs": [
    {
     "data": {
      "text/plain": [
       "True"
      ]
     },
     "execution_count": 28,
     "metadata": {},
     "output_type": "execute_result"
    }
   ],
   "source": [
    "import subprocess\n",
    "'FCA_base' in str(subprocess.run('bash -c \"conda env list\"', capture_output=True, shell=True))"
   ]
  },
  {
   "cell_type": "code",
   "execution_count": 125,
   "id": "least-glass",
   "metadata": {
    "execution": {
     "iopub.execute_input": "2022-11-22T08:14:35.272387Z",
     "iopub.status.busy": "2022-11-22T08:14:35.272047Z",
     "iopub.status.idle": "2022-11-22T08:14:35.318863Z",
     "shell.execute_reply": "2022-11-22T08:14:35.318022Z",
     "shell.execute_reply.started": "2022-11-22T08:14:35.272361Z"
    },
    "tags": []
   },
   "outputs": [
    {
     "name": "stdout",
     "output_type": "stream",
     "text": [
      "sctk not found in the .yaml file\n",
      "scirpy not found in the .yaml file\n"
     ]
    }
   ],
   "source": [
    "# fa2 is required, because sctk.fdg (_fdg.py) does not currently does not \n",
    "# currently allow \"fr\" layout, returned by scanpy.tl.draw_graph.\n",
    "init_package_ls = {'numpy', 'scanpy', 'anndata', 'sctk', 'cellrank', 'scvelo', \n",
    "              'seaborn', 'matplotlib', 'pandas', 'numpy_groupies', \n",
    "              'scikit-learn', 'plotnine', 'fa2', 'scirpy', 'harmonypy', 'umap-learn'}\n",
    "package_versions = dict()\n",
    "channels = []\n",
    "env, channels = load_env(str(Path(root, 'logs', 'FCA_init.yml').resolve()))\n",
    "for p in init_package_ls:\n",
    "    if not any(p==pkg for pkg in env['package']):\n",
    "        print(f'{p} not found in the .yaml file')\n",
    "    else:\n",
    "        package_versions[p] = env['version'][env['package'].index(p)]"
   ]
  },
  {
   "cell_type": "code",
   "execution_count": 60,
   "id": "molecular-strand",
   "metadata": {
    "execution": {
     "iopub.execute_input": "2022-11-21T12:57:36.021679Z",
     "iopub.status.busy": "2022-11-21T12:57:36.021288Z",
     "iopub.status.idle": "2022-11-21T12:57:36.027758Z",
     "shell.execute_reply": "2022-11-21T12:57:36.026864Z",
     "shell.execute_reply.started": "2022-11-21T12:57:36.021653Z"
    },
    "tags": []
   },
   "outputs": [
    {
     "data": {
      "text/plain": [
       "['conda-forge', 'bioconda', 'defaults']"
      ]
     },
     "execution_count": 60,
     "metadata": {},
     "output_type": "execute_result"
    }
   ],
   "source": [
    "channels"
   ]
  },
  {
   "cell_type": "markdown",
   "id": "jewish-light",
   "metadata": {},
   "source": [
    "- plotnine can be installed with ```conda install -c conda-forge plotnine```\n",
    "\n",
    "- SCTK can currently only be installed by```pip install``` exclusively.\n",
    "\n",
    "- SCTK was cloned from git by ```git clone git@github.com:Teichlab/sctk.git```.\n",
    "\n",
    "- plotnine was added to ```package_versions``` without a version (channel: conda-forge)"
   ]
  },
  {
   "cell_type": "code",
   "execution_count": 61,
   "id": "interstate-destiny",
   "metadata": {
    "execution": {
     "iopub.execute_input": "2022-11-21T12:57:37.914462Z",
     "iopub.status.busy": "2022-11-21T12:57:37.914102Z",
     "iopub.status.idle": "2022-11-21T12:57:37.920780Z",
     "shell.execute_reply": "2022-11-21T12:57:37.919826Z",
     "shell.execute_reply.started": "2022-11-21T12:57:37.914435Z"
    },
    "tags": []
   },
   "outputs": [
    {
     "data": {
      "text/plain": [
       "{'harmonypy': '0.0.5',\n",
       " 'seaborn': '0.10.1',\n",
       " 'numpy_groupies': '0.9.13',\n",
       " 'matplotlib': '3.3.2',\n",
       " 'umap-learn': '0.4.6',\n",
       " 'anndata': '0.7.5',\n",
       " 'scvelo': '0.2.2',\n",
       " 'scanpy': '1.7.0',\n",
       " 'numpy': '1.19.1',\n",
       " 'fa2': '0.3.5',\n",
       " 'pandas': '1.1.2',\n",
       " 'scikit-learn': '1.0.2',\n",
       " 'cellrank': '1.0.0',\n",
       " 'plotnine': '0.7.1'}"
      ]
     },
     "execution_count": 61,
     "metadata": {},
     "output_type": "execute_result"
    }
   ],
   "source": [
    "package_versions"
   ]
  },
  {
   "cell_type": "markdown",
   "id": "revolutionary-passing",
   "metadata": {},
   "source": [
    "<span style='color:salmon'> The environment with these specified dependencies was causing issues with reading of  ```.h5ad``` files; converting the strings, namely the column names, into bytes, i.e. ```b\"string\"``` format. <br /> This is a know issue caused by ```h5py>2.10.0``` mixed with ```anndata=0.7.x```. To fix, ```h5py=2.10.0``` is manually added to the ```package_versions``` (and ```fussy_deps```) and to [follow tested solutions](https://github.com/scverse/anndata/issues/442) ```~/FCA_Fetal_Skin_priv/logs/FCA_init.yml``` was modified by changing ```Anndata=0.7.4``` to ```Anndata=0.7.5``` <b>before running the following</b>. </span>"
   ]
  },
  {
   "cell_type": "markdown",
   "id": "modern-russian",
   "metadata": {},
   "source": [
    "<span style='color:salmon'> Furthermore, as ```SCTK``` (and subsequently its dependencies) must be installed exclusively through ```pip```, measures are taken to avoid the conflicts often caused by using ```pip``` in and environment managed by ```conda```.</span>:\n",
    "\n",
    "- [X] Dependencies which are already installed in the conda env are isolated (```adjustText=0.7.3, igraph=0.10.2, leidenalg=0.9.0, texttable-1.6.4```), manually added (see below) to ```package_versions``` (and ```fussy_deps```) and consequently installed via conda. \n",
    "- [X] ```SCTK``` is ```git clone```ed and installed via ```.../sctk$ pip install --no-deps .```."
   ]
  },
  {
   "cell_type": "code",
   "execution_count": 126,
   "id": "coordinated-robert",
   "metadata": {
    "execution": {
     "iopub.execute_input": "2022-11-22T08:14:39.447535Z",
     "iopub.status.busy": "2022-11-22T08:14:39.447198Z",
     "iopub.status.idle": "2022-11-22T08:14:39.454695Z",
     "shell.execute_reply": "2022-11-22T08:14:39.453797Z",
     "shell.execute_reply.started": "2022-11-22T08:14:39.447509Z"
    },
    "tags": []
   },
   "outputs": [
    {
     "data": {
      "text/plain": [
       "{'harmonypy': '==0.0.5',\n",
       " 'seaborn': '==0.10.1',\n",
       " 'numpy_groupies': '==0.9.13',\n",
       " 'matplotlib': '==3.3.2',\n",
       " 'umap-learn': '==0.5.1',\n",
       " 'anndata': '==0.7.5',\n",
       " 'scvelo': '==0.2.2',\n",
       " 'scanpy': '==1.7.0',\n",
       " 'numpy': '==1.19.1',\n",
       " 'fa2': '==0.3.5',\n",
       " 'pandas': '==1.1.2',\n",
       " 'scikit-learn': '==1.0.2',\n",
       " 'cellrank': '==1.0.0',\n",
       " 'plotnine': '==0.7.1',\n",
       " 'h5py': '==2.10.0',\n",
       " 'adjustText': '==0.7.3',\n",
       " 'igraph': '==0.10.2',\n",
       " 'leidenalg': '==0.9.0',\n",
       " 'texttable': '==1.6.4',\n",
       " 'scirpy': ''}"
      ]
     },
     "execution_count": 126,
     "metadata": {},
     "output_type": "execute_result"
    }
   ],
   "source": [
    "package_versions['h5py']='==2.10.0'\n",
    "package_versions['adjustText']='==0.7.3'\n",
    "package_versions['igraph']='==0.10.2'\n",
    "package_versions['leidenalg']='==0.9.0'\n",
    "package_versions['texttable']='==1.6.4'\n",
    "package_versions['scirpy']=''\n",
    "package_versions['umap-learn']='==0.5.1' # Most up-to-date version, which doesn't break the umap manifold. Ignoring, the one found in FCA_init.yml\n",
    "package_versions"
   ]
  },
  {
   "cell_type": "code",
   "execution_count": 131,
   "id": "removable-membership",
   "metadata": {
    "execution": {
     "iopub.execute_input": "2022-11-22T08:37:19.180593Z",
     "iopub.status.busy": "2022-11-22T08:37:19.180291Z",
     "iopub.status.idle": "2022-11-22T08:37:19.252368Z",
     "shell.execute_reply": "2022-11-22T08:37:19.251099Z",
     "shell.execute_reply.started": "2022-11-22T08:37:19.180568Z"
    },
    "tags": []
   },
   "outputs": [
    {
     "ename": "FileNotFoundError",
     "evalue": "[Errno 2] No such file or directory: 'lsd'",
     "output_type": "error",
     "traceback": [
      "\u001b[0;31m---------------------------------------------------------------------------\u001b[0m",
      "\u001b[0;31mFileNotFoundError\u001b[0m                         Traceback (most recent call last)",
      "Input \u001b[0;32mIn [131]\u001b[0m, in \u001b[0;36m<cell line: 1>\u001b[0;34m()\u001b[0m\n\u001b[0;32m----> 1\u001b[0m \u001b[43msubprocess\u001b[49m\u001b[38;5;241;43m.\u001b[39;49m\u001b[43mrun\u001b[49m\u001b[43m(\u001b[49m\u001b[43m[\u001b[49m\u001b[38;5;124;43m\"\u001b[39;49m\u001b[38;5;124;43mlsd\u001b[39;49m\u001b[38;5;124;43m\"\u001b[39;49m\u001b[43m,\u001b[49m\u001b[43m \u001b[49m\u001b[38;5;124;43m\"\u001b[39;49m\u001b[38;5;124;43m-l\u001b[39;49m\u001b[38;5;124;43m\"\u001b[39;49m\u001b[43m,\u001b[49m\u001b[43m \u001b[49m\u001b[38;5;124;43m\"\u001b[39;49m\u001b[38;5;124;43m/dev/null\u001b[39;49m\u001b[38;5;124;43m\"\u001b[39;49m\u001b[43m]\u001b[49m\u001b[43m,\u001b[49m\u001b[43m \u001b[49m\u001b[43mcapture_output\u001b[49m\u001b[38;5;241;43m=\u001b[39;49m\u001b[38;5;28;43;01mTrue\u001b[39;49;00m\u001b[43m)\u001b[49m\n",
      "File \u001b[0;32m~/my-conda-envs/env_manage/lib/python3.10/subprocess.py:501\u001b[0m, in \u001b[0;36mrun\u001b[0;34m(input, capture_output, timeout, check, *popenargs, **kwargs)\u001b[0m\n\u001b[1;32m    498\u001b[0m     kwargs[\u001b[38;5;124m'\u001b[39m\u001b[38;5;124mstdout\u001b[39m\u001b[38;5;124m'\u001b[39m] \u001b[38;5;241m=\u001b[39m PIPE\n\u001b[1;32m    499\u001b[0m     kwargs[\u001b[38;5;124m'\u001b[39m\u001b[38;5;124mstderr\u001b[39m\u001b[38;5;124m'\u001b[39m] \u001b[38;5;241m=\u001b[39m PIPE\n\u001b[0;32m--> 501\u001b[0m \u001b[38;5;28;01mwith\u001b[39;00m \u001b[43mPopen\u001b[49m\u001b[43m(\u001b[49m\u001b[38;5;241;43m*\u001b[39;49m\u001b[43mpopenargs\u001b[49m\u001b[43m,\u001b[49m\u001b[43m \u001b[49m\u001b[38;5;241;43m*\u001b[39;49m\u001b[38;5;241;43m*\u001b[39;49m\u001b[43mkwargs\u001b[49m\u001b[43m)\u001b[49m \u001b[38;5;28;01mas\u001b[39;00m process:\n\u001b[1;32m    502\u001b[0m     \u001b[38;5;28;01mtry\u001b[39;00m:\n\u001b[1;32m    503\u001b[0m         stdout, stderr \u001b[38;5;241m=\u001b[39m process\u001b[38;5;241m.\u001b[39mcommunicate(\u001b[38;5;28minput\u001b[39m, timeout\u001b[38;5;241m=\u001b[39mtimeout)\n",
      "File \u001b[0;32m~/my-conda-envs/env_manage/lib/python3.10/subprocess.py:969\u001b[0m, in \u001b[0;36mPopen.__init__\u001b[0;34m(self, args, bufsize, executable, stdin, stdout, stderr, preexec_fn, close_fds, shell, cwd, env, universal_newlines, startupinfo, creationflags, restore_signals, start_new_session, pass_fds, user, group, extra_groups, encoding, errors, text, umask, pipesize)\u001b[0m\n\u001b[1;32m    965\u001b[0m         \u001b[38;5;28;01mif\u001b[39;00m \u001b[38;5;28mself\u001b[39m\u001b[38;5;241m.\u001b[39mtext_mode:\n\u001b[1;32m    966\u001b[0m             \u001b[38;5;28mself\u001b[39m\u001b[38;5;241m.\u001b[39mstderr \u001b[38;5;241m=\u001b[39m io\u001b[38;5;241m.\u001b[39mTextIOWrapper(\u001b[38;5;28mself\u001b[39m\u001b[38;5;241m.\u001b[39mstderr,\n\u001b[1;32m    967\u001b[0m                     encoding\u001b[38;5;241m=\u001b[39mencoding, errors\u001b[38;5;241m=\u001b[39merrors)\n\u001b[0;32m--> 969\u001b[0m     \u001b[38;5;28;43mself\u001b[39;49m\u001b[38;5;241;43m.\u001b[39;49m\u001b[43m_execute_child\u001b[49m\u001b[43m(\u001b[49m\u001b[43margs\u001b[49m\u001b[43m,\u001b[49m\u001b[43m \u001b[49m\u001b[43mexecutable\u001b[49m\u001b[43m,\u001b[49m\u001b[43m \u001b[49m\u001b[43mpreexec_fn\u001b[49m\u001b[43m,\u001b[49m\u001b[43m \u001b[49m\u001b[43mclose_fds\u001b[49m\u001b[43m,\u001b[49m\n\u001b[1;32m    970\u001b[0m \u001b[43m                        \u001b[49m\u001b[43mpass_fds\u001b[49m\u001b[43m,\u001b[49m\u001b[43m \u001b[49m\u001b[43mcwd\u001b[49m\u001b[43m,\u001b[49m\u001b[43m \u001b[49m\u001b[43menv\u001b[49m\u001b[43m,\u001b[49m\n\u001b[1;32m    971\u001b[0m \u001b[43m                        \u001b[49m\u001b[43mstartupinfo\u001b[49m\u001b[43m,\u001b[49m\u001b[43m \u001b[49m\u001b[43mcreationflags\u001b[49m\u001b[43m,\u001b[49m\u001b[43m \u001b[49m\u001b[43mshell\u001b[49m\u001b[43m,\u001b[49m\n\u001b[1;32m    972\u001b[0m \u001b[43m                        \u001b[49m\u001b[43mp2cread\u001b[49m\u001b[43m,\u001b[49m\u001b[43m \u001b[49m\u001b[43mp2cwrite\u001b[49m\u001b[43m,\u001b[49m\n\u001b[1;32m    973\u001b[0m \u001b[43m                        \u001b[49m\u001b[43mc2pread\u001b[49m\u001b[43m,\u001b[49m\u001b[43m \u001b[49m\u001b[43mc2pwrite\u001b[49m\u001b[43m,\u001b[49m\n\u001b[1;32m    974\u001b[0m \u001b[43m                        \u001b[49m\u001b[43merrread\u001b[49m\u001b[43m,\u001b[49m\u001b[43m \u001b[49m\u001b[43merrwrite\u001b[49m\u001b[43m,\u001b[49m\n\u001b[1;32m    975\u001b[0m \u001b[43m                        \u001b[49m\u001b[43mrestore_signals\u001b[49m\u001b[43m,\u001b[49m\n\u001b[1;32m    976\u001b[0m \u001b[43m                        \u001b[49m\u001b[43mgid\u001b[49m\u001b[43m,\u001b[49m\u001b[43m \u001b[49m\u001b[43mgids\u001b[49m\u001b[43m,\u001b[49m\u001b[43m \u001b[49m\u001b[43muid\u001b[49m\u001b[43m,\u001b[49m\u001b[43m \u001b[49m\u001b[43mumask\u001b[49m\u001b[43m,\u001b[49m\n\u001b[1;32m    977\u001b[0m \u001b[43m                        \u001b[49m\u001b[43mstart_new_session\u001b[49m\u001b[43m)\u001b[49m\n\u001b[1;32m    978\u001b[0m \u001b[38;5;28;01mexcept\u001b[39;00m:\n\u001b[1;32m    979\u001b[0m     \u001b[38;5;66;03m# Cleanup if the child failed starting.\u001b[39;00m\n\u001b[1;32m    980\u001b[0m     \u001b[38;5;28;01mfor\u001b[39;00m f \u001b[38;5;129;01min\u001b[39;00m \u001b[38;5;28mfilter\u001b[39m(\u001b[38;5;28;01mNone\u001b[39;00m, (\u001b[38;5;28mself\u001b[39m\u001b[38;5;241m.\u001b[39mstdin, \u001b[38;5;28mself\u001b[39m\u001b[38;5;241m.\u001b[39mstdout, \u001b[38;5;28mself\u001b[39m\u001b[38;5;241m.\u001b[39mstderr)):\n",
      "File \u001b[0;32m~/my-conda-envs/env_manage/lib/python3.10/subprocess.py:1845\u001b[0m, in \u001b[0;36mPopen._execute_child\u001b[0;34m(self, args, executable, preexec_fn, close_fds, pass_fds, cwd, env, startupinfo, creationflags, shell, p2cread, p2cwrite, c2pread, c2pwrite, errread, errwrite, restore_signals, gid, gids, uid, umask, start_new_session)\u001b[0m\n\u001b[1;32m   1843\u001b[0m     \u001b[38;5;28;01mif\u001b[39;00m errno_num \u001b[38;5;241m!=\u001b[39m \u001b[38;5;241m0\u001b[39m:\n\u001b[1;32m   1844\u001b[0m         err_msg \u001b[38;5;241m=\u001b[39m os\u001b[38;5;241m.\u001b[39mstrerror(errno_num)\n\u001b[0;32m-> 1845\u001b[0m     \u001b[38;5;28;01mraise\u001b[39;00m child_exception_type(errno_num, err_msg, err_filename)\n\u001b[1;32m   1846\u001b[0m \u001b[38;5;28;01mraise\u001b[39;00m child_exception_type(err_msg)\n",
      "\u001b[0;31mFileNotFoundError\u001b[0m: [Errno 2] No such file or directory: 'lsd'"
     ]
    }
   ],
   "source": [
    "subprocess.run([\"conda\", \"\", \"/dev/null\"], capture_output=True)"
   ]
  },
  {
   "cell_type": "code",
   "execution_count": 127,
   "id": "labeled-shepherd",
   "metadata": {
    "execution": {
     "iopub.execute_input": "2022-11-22T08:14:44.264222Z",
     "iopub.status.busy": "2022-11-22T08:14:44.263669Z",
     "iopub.status.idle": "2022-11-22T08:14:45.002687Z",
     "shell.execute_reply": "2022-11-22T08:14:45.001570Z",
     "shell.execute_reply.started": "2022-11-22T08:14:44.264184Z"
    },
    "tags": []
   },
   "outputs": [
    {
     "name": "stdout",
     "output_type": "stream",
     "text": [
      "mamba create -n FCA_base_t -c conda-forge -c bioconda -c defaults harmonypy==0.0.5 seaborn==0.10.1 numpy_groupies==0.9.13 matplotlib==3.3.2 umap-learn==0.5.1 anndata==0.7.5 scvelo==0.2.2 scanpy==1.7.0 numpy==1.19.1 fa2==0.3.5 pandas==1.1.2 scikit-learn==1.0.2 cellrank==1.0.0 plotnine==0.7.1 h5py==2.10.0 adjustText==0.7.3 igraph==0.10.2 leidenalg==0.9.0 texttable==1.6.4 scirpy\n"
     ]
    }
   ],
   "source": [
    "build_sub_env(str(Path(root, 'logs', 'FCA_init.yml').resolve()), \n",
    "              package_versions, \n",
    "              'FCA_base_t', constraint='SoE')"
   ]
  },
  {
   "cell_type": "code",
   "execution_count": 155,
   "id": "square-session",
   "metadata": {
    "execution": {
     "iopub.execute_input": "2022-11-23T13:23:40.368204Z",
     "iopub.status.busy": "2022-11-23T13:23:40.367886Z",
     "iopub.status.idle": "2022-11-23T13:23:40.373217Z",
     "shell.execute_reply": "2022-11-23T13:23:40.372261Z",
     "shell.execute_reply.started": "2022-11-23T13:23:40.368166Z"
    },
    "tags": []
   },
   "outputs": [],
   "source": [
    "fussy_deps = ['anndata', 'scanpy', 'h5py',\n",
    "              'adjustText','igraph','leidenalg',\n",
    "              'texttable', 'umap-learn', 'harmonypy'] # list of version-specific packages"
   ]
  },
  {
   "cell_type": "code",
   "execution_count": 10,
   "id": "tribal-tuition",
   "metadata": {
    "execution": {
     "iopub.execute_input": "2022-11-16T19:26:53.455539Z",
     "iopub.status.busy": "2022-11-16T19:26:53.455322Z",
     "iopub.status.idle": "2022-11-16T19:26:53.464905Z",
     "shell.execute_reply": "2022-11-16T19:26:53.464209Z",
     "shell.execute_reply.started": "2022-11-16T19:26:53.455518Z"
    },
    "tags": []
   },
   "outputs": [],
   "source": [
    "with Path(root, 'logs', 'FCA_base.sh').open(mode='w') as conda_install:\n",
    "    conda_install.write(f'mamba create -n FCA_base')\n",
    "    conda_install.write(\" \")\n",
    "    for ch in channels:\n",
    "        conda_install.write(f'-c {ch}')\n",
    "        conda_install.write(\" \")\n",
    "    for pack in package_versions:\n",
    "        if pack in fussy_deps:\n",
    "            conda_install.write(f'{pack}={package_versions[pack]}')\n",
    "            conda_install.write(\" \")\n",
    "        else:\n",
    "            conda_install.write(f'{pack}')\n",
    "            conda_install.write(\" \")"
   ]
  },
  {
   "cell_type": "code",
   "execution_count": 11,
   "id": "ordinary-shark",
   "metadata": {
    "execution": {
     "iopub.execute_input": "2022-11-16T19:26:53.466056Z",
     "iopub.status.busy": "2022-11-16T19:26:53.465843Z",
     "iopub.status.idle": "2022-11-16T19:26:53.479462Z",
     "shell.execute_reply": "2022-11-16T19:26:53.478759Z",
     "shell.execute_reply.started": "2022-11-16T19:26:53.466033Z"
    },
    "tags": []
   },
   "outputs": [
    {
     "name": "stdout",
     "output_type": "stream",
     "text": [
      "mamba create -n FCA_base -c conda-forge -c bioconda -c defaults -c conda-forge -c bioconda -c defaults anndata=0.7.5 cellrank fa2 harmonypy=0.0.5 matplotlib numpy numpy_groupies pandas plotnine scanpy=1.7.0 scikit-learn scvelo seaborn umap-learn=0.5.1 h5py=2.10.0 adjustText=0.7.3 igraph=0.10.2 leidenalg=0.9.0 texttable=1.6.4 scirpy \n"
     ]
    }
   ],
   "source": [
    "with Path(root, 'logs', 'FCA_base.sh').open(mode='r') as conda_install:\n",
    "    for line in conda_install:\n",
    "        print(line)"
   ]
  },
  {
   "cell_type": "code",
   "execution_count": 12,
   "id": "tribal-netherlands",
   "metadata": {
    "execution": {
     "iopub.execute_input": "2022-11-16T19:26:53.481095Z",
     "iopub.status.busy": "2022-11-16T19:26:53.480890Z",
     "iopub.status.idle": "2022-11-16T19:26:53.487812Z",
     "shell.execute_reply": "2022-11-16T19:26:53.487154Z",
     "shell.execute_reply.started": "2022-11-16T19:26:53.481072Z"
    },
    "tags": []
   },
   "outputs": [],
   "source": [
    "# !chmod +x ~/FCA_Fetal_Skin_priv/logs/FCA_base.sh"
   ]
  },
  {
   "cell_type": "code",
   "execution_count": 13,
   "id": "durable-boards",
   "metadata": {
    "execution": {
     "iopub.execute_input": "2022-11-16T19:26:53.488867Z",
     "iopub.status.busy": "2022-11-16T19:26:53.488692Z",
     "iopub.status.idle": "2022-11-16T19:26:53.497371Z",
     "shell.execute_reply": "2022-11-16T19:26:53.496710Z",
     "shell.execute_reply.started": "2022-11-16T19:26:53.488846Z"
    }
   },
   "outputs": [],
   "source": [
    "# !~/FCA_Fetal_Skin_priv/logs/FCA_base.sh"
   ]
  },
  {
   "cell_type": "code",
   "execution_count": 14,
   "id": "hindu-sunglasses",
   "metadata": {
    "execution": {
     "iopub.execute_input": "2022-11-16T19:26:53.498437Z",
     "iopub.status.busy": "2022-11-16T19:26:53.498197Z",
     "iopub.status.idle": "2022-11-16T19:26:53.507102Z",
     "shell.execute_reply": "2022-11-16T19:26:53.506433Z",
     "shell.execute_reply.started": "2022-11-16T19:26:53.498415Z"
    },
    "tags": []
   },
   "outputs": [],
   "source": [
    "# !conda activate FCA_base\n",
    "# !cd ~/sctk\n",
    "# !pip install . --no-deps\n",
    "# !conda env export > ~/FCA_Fetal_Skin_priv/logs/FCA_base.yml"
   ]
  },
  {
   "cell_type": "markdown",
   "id": "center-blake",
   "metadata": {},
   "source": [
    "To cross-ref two ```conda envs```"
   ]
  },
  {
   "cell_type": "code",
   "execution_count": 67,
   "id": "joined-graphics",
   "metadata": {
    "execution": {
     "iopub.execute_input": "2022-11-28T15:16:02.192631Z",
     "iopub.status.busy": "2022-11-28T15:16:02.192290Z",
     "iopub.status.idle": "2022-11-28T15:16:02.199019Z",
     "shell.execute_reply": "2022-11-28T15:16:02.198182Z",
     "shell.execute_reply.started": "2022-11-28T15:16:02.192604Z"
    },
    "tags": []
   },
   "outputs": [
    {
     "data": {
      "text/plain": [
       "['/home/jovyan/my-conda-envs/monocle3/conda-meta/r-monocle3-1.0.0-r41h7d875b9_1.json']"
      ]
     },
     "execution_count": 67,
     "metadata": {},
     "output_type": "execute_result"
    }
   ],
   "source": [
    "p = Path(r'/home/jovyan/my-conda-envs/monocle3/conda-meta').expanduser().glob('r-monocle3*.json')\n",
    "files = [str(x) for x in p if x.is_file()]\n",
    "files"
   ]
  },
  {
   "cell_type": "code",
   "execution_count": 48,
   "id": "distant-blair",
   "metadata": {
    "execution": {
     "iopub.execute_input": "2022-11-28T12:13:16.484218Z",
     "iopub.status.busy": "2022-11-28T12:13:16.483163Z",
     "iopub.status.idle": "2022-11-28T12:13:16.489747Z",
     "shell.execute_reply": "2022-11-28T12:13:16.488923Z",
     "shell.execute_reply.started": "2022-11-28T12:13:16.484187Z"
    },
    "tags": []
   },
   "outputs": [
    {
     "data": {
      "text/plain": [
       "'r-monocle3-1.0.0-r41h7d875b9_1.json'"
      ]
     },
     "execution_count": 48,
     "metadata": {},
     "output_type": "execute_result"
    }
   ],
   "source": [
    "test_str = 'r-monocle3-1.0.0-r41h7d875b9_1.json'\n",
    "re.search(f'r-monocle.*.json', test_str).group(0)"
   ]
  },
  {
   "cell_type": "code",
   "execution_count": 80,
   "id": "fresh-tiffany",
   "metadata": {
    "execution": {
     "iopub.execute_input": "2022-11-28T15:32:45.178375Z",
     "iopub.status.busy": "2022-11-28T15:32:45.177705Z",
     "iopub.status.idle": "2022-11-28T15:32:45.187009Z",
     "shell.execute_reply": "2022-11-28T15:32:45.186037Z",
     "shell.execute_reply.started": "2022-11-28T15:32:45.178343Z"
    },
    "tags": []
   },
   "outputs": [],
   "source": [
    "def installed_package_reqs(env_dir, package_name, full_json_path=None):\n",
    "    \"\"\"Takes the path to the target conda env and query package and \n",
    "    extract the packages the query package depends on in that env.\"\"\"\n",
    "    \n",
    "    import json\n",
    "    from collections import defaultdict\n",
    "\n",
    "    req_dir = Path(env_dir, 'conda-meta').expanduser().glob(f'{package_name}*.json')\n",
    "    req_file = [str(x) for x in req_dir if x.is_file()][0]\n",
    "    req_file = json.load(open(req_file))\n",
    "    requirements = defaultdict(set)\n",
    "    for k, v in req_file.items():\n",
    "        if 'depends' in k:\n",
    "            for r in req_file[k]:\n",
    "                try:\n",
    "                    requirements[r.split(' ')[0]].add(r.split(' ')[1])\n",
    "                except IndexError:\n",
    "                    requirements[r.split(' ')[0]].add('')\n",
    "    \n",
    "    return requirements"
   ]
  },
  {
   "cell_type": "code",
   "execution_count": 100,
   "id": "advisory-manitoba",
   "metadata": {
    "execution": {
     "iopub.execute_input": "2022-11-28T15:45:36.760972Z",
     "iopub.status.busy": "2022-11-28T15:45:36.760588Z",
     "iopub.status.idle": "2022-11-28T15:45:36.775431Z",
     "shell.execute_reply": "2022-11-28T15:45:36.774615Z",
     "shell.execute_reply.started": "2022-11-28T15:45:36.760944Z"
    },
    "tags": []
   },
   "outputs": [
    {
     "data": {
      "text/plain": [
       "defaultdict(set,\n",
       "            {'libgcc-ng': {'>=12'},\n",
       "             'python': {'>=3.9,<3.10.0a0'},\n",
       "             'python_abi': {'3.9.*'},\n",
       "             'libstdcxx-ng': {'>=12'},\n",
       "             'numpy': {'>=1.20.3,<2.0a0'},\n",
       "             'python-dateutil': {'>=2.8.1'},\n",
       "             'pytz': {'>=2020.1'}})"
      ]
     },
     "execution_count": 100,
     "metadata": {},
     "output_type": "execute_result"
    }
   ],
   "source": [
    "installed_package_reqs('/home/jovyan/my-conda-envs/FCA_base/', 'pandas')"
   ]
  },
  {
   "cell_type": "code",
   "execution_count": 40,
   "id": "stainless-wages",
   "metadata": {
    "execution": {
     "iopub.execute_input": "2022-11-24T23:17:24.700101Z",
     "iopub.status.busy": "2022-11-24T23:17:24.699714Z",
     "iopub.status.idle": "2022-11-24T23:17:24.851062Z",
     "shell.execute_reply": "2022-11-24T23:17:24.850215Z",
     "shell.execute_reply.started": "2022-11-24T23:17:24.700074Z"
    },
    "tags": []
   },
   "outputs": [
    {
     "name": "stdout",
     "output_type": "stream",
     "text": [
      "\n",
      "\n",
      "                                               \u001b[36mFCA_base_monocle3_sb\u001b[0m                                       \u001b[36mmonocle3\u001b[0m\n",
      "\n",
      "                                          \u001b[34mversion\u001b[0m           \u001b[34mbuild\u001b[0m                              \u001b[34mversion\u001b[0m            \u001b[34mbuild\u001b[0m\n",
      "\n",
      "_libgcc_mutex                              \u001b[32m0.1             conda_forge\u001b[0m                          \u001b[32m0.1             conda_forge\u001b[0m\n",
      "_openmp_mutex                              \u001b[33m4.5             2_gnu\u001b[0m                                \u001b[33m4.5             1_gnu\u001b[0m\n",
      "_r-mutex                                   \u001b[32m1.0.1           anacondar_1\u001b[0m                          \u001b[32m1.0.1           anacondar_1\u001b[0m\n",
      "adjusttext                                 \u001b[31m0.7.3.1         py_1\u001b[0m                                 \u001b[31mnull            null\u001b[0m\n",
      "airr                                       \u001b[31m1.4.1           pyh5e36f6f_0\u001b[0m                         \u001b[31mnull            null\u001b[0m\n",
      "alsa-lib                                   \u001b[31m1.2.8           h166bdaf_0\u001b[0m                           \u001b[31mnull            null\u001b[0m\n",
      "anndata                                    \u001b[33m0.7.5           py39hf3d152e_0\u001b[0m                       \u001b[33m0.7.8           py39hf3d152e_0\u001b[0m\n",
      "argcomplete                                \u001b[31m1.12.3          pyhd8ed1ab_0\u001b[0m                         \u001b[31mnull            null\u001b[0m\n",
      "arpack                                     \u001b[31m3.7.0           hdefa2d7_2\u001b[0m                           \u001b[31mnull            null\u001b[0m\n",
      "asttokens                                  \u001b[31m2.1.0           pyhd8ed1ab_0\u001b[0m                         \u001b[31mnull            null\u001b[0m\n",
      "attr                                       \u001b[31m2.5.1           h166bdaf_1\u001b[0m                           \u001b[31mnull            null\u001b[0m\n",
      "attrs                                      \u001b[31m22.1.0          pyh71513ae_1\u001b[0m                         \u001b[31mnull            null\u001b[0m\n",
      "backcall                                   \u001b[31m0.2.0           pyh9f0ad1d_0\u001b[0m                         \u001b[31mnull            null\u001b[0m\n",
      "backports                                  \u001b[31m1.0             py_2\u001b[0m                                 \u001b[31mnull            null\u001b[0m\n",
      "backports.functools_lru_cache              \u001b[31m1.6.4           pyhd8ed1ab_0\u001b[0m                         \u001b[31mnull            null\u001b[0m\n",
      "backports.zoneinfo                         \u001b[31m0.2.1           py39hf3d152e_7\u001b[0m                       \u001b[31mnull            null\u001b[0m\n",
      "binutils_impl_linux-64                     \u001b[33m2.39            h6ceecb4_0\u001b[0m                           \u001b[33m2.36.1          h193b22a_2\u001b[0m\n",
      "binutils_linux-64                          \u001b[31mnull            null\u001b[0m                                 \u001b[31m2.36            hf3e587d_1\u001b[0m\n",
      "\u001b[35mbioconductor-batchelor\u001b[0m                     \u001b[33m1.14.0          r42hc247a5b_0\u001b[0m                        \u001b[33m1.8.0           r41h399db7b_0\u001b[0m\n",
      "bioconductor-beachmat                      \u001b[33m2.14.0          r42hc247a5b_0\u001b[0m                        \u001b[33m2.8.0           r41h399db7b_0\u001b[0m\n",
      "\u001b[35mbioconductor-biobase\u001b[0m                       \u001b[33m2.58.0          r42hc0cfd56_0\u001b[0m                        \u001b[33m2.52.0          r41hd029910_0\u001b[0m\n",
      "\u001b[35mbioconductor-biocgenerics\u001b[0m                  \u001b[33m0.44.0          r42hdfd78af_0\u001b[0m                        \u001b[33m0.38.0          r41hdfd78af_0\u001b[0m\n",
      "bioconductor-biocio                        \u001b[31m1.8.0           r42hdfd78af_0\u001b[0m                        \u001b[31mnull            null\u001b[0m\n",
      "bioconductor-biocneighbors                 \u001b[33m1.16.0          r42hc247a5b_0\u001b[0m                        \u001b[33m1.10.0          r41h399db7b_0\u001b[0m\n",
      "bioconductor-biocparallel                  \u001b[33m1.32.0          r42hc247a5b_0\u001b[0m                        \u001b[33m1.26.0          r41h399db7b_0\u001b[0m\n",
      "bioconductor-biocsingular                  \u001b[33m1.14.0          r42hc247a5b_0\u001b[0m                        \u001b[33m1.8.0           r41h399db7b_0\u001b[0m\n",
      "bioconductor-data-packages                 \u001b[31m20221112        hdfd78af_0\u001b[0m                           \u001b[31mnull            null\u001b[0m\n",
      "\u001b[35mbioconductor-delayedarray\u001b[0m                  \u001b[33m0.24.0          r42hc0cfd56_0\u001b[0m                        \u001b[33m0.18.0          r41hd029910_0\u001b[0m\n",
      "\u001b[35mbioconductor-delayedmatrixstats\u001b[0m            \u001b[33m1.20.0          r42hdfd78af_0\u001b[0m                        \u001b[33m1.14.0          r41hdfd78af_0\u001b[0m\n",
      "bioconductor-genomeinfodb                  \u001b[33m1.34.1          r42hdfd78af_0\u001b[0m                        \u001b[33m1.28.0          r41hdfd78af_0\u001b[0m\n",
      "bioconductor-genomeinfodbdata              \u001b[33m1.2.9           r42hdfd78af_0\u001b[0m                        \u001b[33m1.2.6           r41hdfd78af_0\u001b[0m\n",
      "bioconductor-genomicranges                 \u001b[33m1.50.0          r42hc0cfd56_0\u001b[0m                        \u001b[33m1.44.0          r41hd029910_0\u001b[0m\n",
      "bioconductor-hdf5array                     \u001b[31m1.26.0          r42h171f361_1\u001b[0m                        \u001b[31mnull            null\u001b[0m\n",
      "bioconductor-iranges                       \u001b[33m2.32.0          r42hc0cfd56_0\u001b[0m                        \u001b[33m2.26.0          r41hd029910_0\u001b[0m\n",
      "\u001b[35mbioconductor-limma\u001b[0m                         \u001b[33m3.54.0          r42hc0cfd56_0\u001b[0m                        \u001b[33m3.48.0          r41hd029910_0\u001b[0m\n",
      "bioconductor-loomexperiment                \u001b[31m1.16.0          r42hdfd78af_0\u001b[0m                        \u001b[31mnull            null\u001b[0m\n",
      "bioconductor-matrixgenerics                \u001b[33m1.10.0          r42hdfd78af_0\u001b[0m                        \u001b[33m1.4.0           r41hdfd78af_0\u001b[0m\n",
      "bioconductor-residualmatrix                \u001b[33m1.8.0           r42hdfd78af_0\u001b[0m                        \u001b[33m1.2.0           r41hdfd78af_0\u001b[0m\n",
      "bioconductor-rhdf5                         \u001b[31m2.42.0          r42hbe1951d_1\u001b[0m                        \u001b[31mnull            null\u001b[0m\n",
      "bioconductor-rhdf5filters                  \u001b[31m1.10.0          r42hc247a5b_0\u001b[0m                        \u001b[31mnull            null\u001b[0m\n",
      "bioconductor-rhdf5lib                      \u001b[31m1.20.0          r42hc0cfd56_0\u001b[0m                        \u001b[31mnull            null\u001b[0m\n",
      "\u001b[35mbioconductor-s4vectors\u001b[0m                     \u001b[33m0.36.0          r42hc0cfd56_0\u001b[0m                        \u001b[33m0.30.0          r41hd029910_0\u001b[0m\n",
      "bioconductor-scaledmatrix                  \u001b[33m1.6.0           r42hdfd78af_0\u001b[0m                        \u001b[33m1.0.0           r41hdfd78af_0\u001b[0m\n",
      "bioconductor-scuttle                       \u001b[33m1.8.0           r42hc247a5b_0\u001b[0m                        \u001b[33m1.2.0           r41h399db7b_0\u001b[0m\n",
      "\u001b[35mbioconductor-singlecellexperiment\u001b[0m          \u001b[33m1.20.0          r42hdfd78af_0\u001b[0m                        \u001b[33m1.14.1          r41hdfd78af_0\u001b[0m\n",
      "bioconductor-sparsematrixstats             \u001b[33m1.10.0          r42hc247a5b_0\u001b[0m                        \u001b[33m1.4.0           r41h399db7b_0\u001b[0m\n",
      "\u001b[35mbioconductor-summarizedexperiment\u001b[0m          \u001b[33m1.28.0          r42hdfd78af_0\u001b[0m                        \u001b[33m1.22.0          r41hdfd78af_0\u001b[0m\n",
      "bioconductor-xvector                       \u001b[33m0.38.0          r42hc0cfd56_0\u001b[0m                        \u001b[33m0.32.0          r41hd029910_0\u001b[0m\n",
      "bioconductor-zlibbioc                      \u001b[33m1.44.0          r42hc0cfd56_0\u001b[0m                        \u001b[33m1.38.0          r41hd029910_0\u001b[0m\n",
      "blosc                                      \u001b[31m1.21.1          h83bc5f7_3\u001b[0m                           \u001b[31mnull            null\u001b[0m\n",
      "boost-cpp                                  \u001b[33m1.78.0          h75c5d50_1\u001b[0m                           \u001b[33m1.74.0          h312852a_4\u001b[0m\n",
      "brotli                                     \u001b[31m1.0.9           h166bdaf_8\u001b[0m                           \u001b[31mnull            null\u001b[0m\n",
      "brotli-bin                                 \u001b[31m1.0.9           h166bdaf_8\u001b[0m                           \u001b[31mnull            null\u001b[0m\n",
      "bwidget                                    \u001b[32m1.9.14          ha770c72_1\u001b[0m                           \u001b[32m1.9.14          ha770c72_1\u001b[0m\n",
      "bzip2                                      \u001b[32m1.0.8           h7f98852_4\u001b[0m                           \u001b[32m1.0.8           h7f98852_4\u001b[0m\n",
      "c-ares                                     \u001b[32m1.18.1          h7f98852_0\u001b[0m                           \u001b[32m1.18.1          h7f98852_0\u001b[0m\n",
      "ca-certificates                            \u001b[33m2022.9.24       ha878542_0\u001b[0m                           \u001b[33m2022.5.18.1     ha878542_0\u001b[0m\n",
      "cached-property                            \u001b[32m1.5.2           hd8ed1ab_1\u001b[0m                           \u001b[32m1.5.2           hd8ed1ab_1\u001b[0m\n",
      "cached_property                            \u001b[32m1.5.2           pyha770c72_1\u001b[0m                         \u001b[32m1.5.2           pyha770c72_1\u001b[0m\n",
      "cairo                                      \u001b[33m1.16.0          ha61ee94_1014\u001b[0m                        \u001b[33m1.16.0          h6cf1ce9_1008\u001b[0m\n",
      "cellrank                                   \u001b[31m1.3.1           pyhdfd78af_0\u001b[0m                         \u001b[31mnull            null\u001b[0m\n",
      "certifi                                    \u001b[31m2022.9.24       pyhd8ed1ab_0\u001b[0m                         \u001b[31mnull            null\u001b[0m\n",
      "cfitsio                                    \u001b[33m4.1.0           hd9d235c_0\u001b[0m                           \u001b[33m3.470           hb418390_7\u001b[0m\n",
      "click                                      \u001b[31m8.1.3           py39hf3d152e_1\u001b[0m                       \u001b[31mnull            null\u001b[0m\n",
      "colorama                                   \u001b[31m0.4.6           pyhd8ed1ab_0\u001b[0m                         \u001b[31mnull            null\u001b[0m\n",
      "contourpy                                  \u001b[31m1.0.6           py39hf939315_0\u001b[0m                       \u001b[31mnull            null\u001b[0m\n",
      "curl                                       \u001b[33m7.86.0          h7bff187_1\u001b[0m                           \u001b[33m7.79.1          h2574ce0_1\u001b[0m\n",
      "cycler                                     \u001b[31m0.11.0          pyhd8ed1ab_0\u001b[0m                         \u001b[31mnull            null\u001b[0m\n",
      "dbus                                       \u001b[31m1.13.6          h5008d03_3\u001b[0m                           \u001b[31mnull            null\u001b[0m\n",
      "debugpy                                    \u001b[31m1.6.3           py39h5a03fae_1\u001b[0m                       \u001b[31mnull            null\u001b[0m\n",
      "decorator                                  \u001b[31m5.1.1           pyhd8ed1ab_0\u001b[0m                         \u001b[31mnull            null\u001b[0m\n",
      "docrep                                     \u001b[31m0.3.2           pyh44b312d_0\u001b[0m                         \u001b[31mnull            null\u001b[0m\n",
      "dunamai                                    \u001b[31m1.14.1          pyhd8ed1ab_0\u001b[0m                         \u001b[31mnull            null\u001b[0m\n",
      "entrypoints                                \u001b[31m0.4             pyhd8ed1ab_0\u001b[0m                         \u001b[31mnull            null\u001b[0m\n",
      "executing                                  \u001b[31m1.2.0           pyhd8ed1ab_0\u001b[0m                         \u001b[31mnull            null\u001b[0m\n",
      "expat                                      \u001b[33m2.5.0           h27087fc_0\u001b[0m                           \u001b[33m2.4.1           h9c3ff4c_0\u001b[0m\n",
      "fa2                                        \u001b[31m0.3.5           py39hb9d737c_2\u001b[0m                       \u001b[31mnull            null\u001b[0m\n",
      "fftw                                       \u001b[31m3.3.10          mpi_mpich_h3e343da_5\u001b[0m                 \u001b[31mnull            null\u001b[0m\n",
      "font-ttf-dejavu-sans-mono                  \u001b[32m2.37            hab24e00_0\u001b[0m                           \u001b[32m2.37            hab24e00_0\u001b[0m\n",
      "font-ttf-inconsolata                       \u001b[32m3.000           h77eed37_0\u001b[0m                           \u001b[32m3.000           h77eed37_0\u001b[0m\n",
      "font-ttf-source-code-pro                   \u001b[32m2.038           h77eed37_0\u001b[0m                           \u001b[32m2.038           h77eed37_0\u001b[0m\n",
      "font-ttf-ubuntu                            \u001b[32m0.83            hab24e00_0\u001b[0m                           \u001b[32m0.83            hab24e00_0\u001b[0m\n",
      "fontconfig                                 \u001b[33m2.14.1          hc2a2eb6_0\u001b[0m                           \u001b[33m2.13.1          hba837de_1005\u001b[0m\n",
      "fonts-conda-ecosystem                      \u001b[32m1               0\u001b[0m                                    \u001b[32m1               0\u001b[0m\n",
      "fonts-conda-forge                          \u001b[32m1               0\u001b[0m                                    \u001b[32m1               0\u001b[0m\n",
      "fonttools                                  \u001b[31m4.38.0          py39hb9d737c_1\u001b[0m                       \u001b[31mnull            null\u001b[0m\n",
      "freetype                                   \u001b[33m2.12.1          hca18f0e_0\u001b[0m                           \u001b[33m2.10.4          h0708190_1\u001b[0m\n",
      "freexl                                     \u001b[33m1.0.6           h166bdaf_1\u001b[0m                           \u001b[33m1.0.6           h7f98852_0\u001b[0m\n",
      "fribidi                                    \u001b[32m1.0.10          h36c2ea0_0\u001b[0m                           \u001b[32m1.0.10          h36c2ea0_0\u001b[0m\n",
      "future                                     \u001b[31m0.18.2          py39hf3d152e_5\u001b[0m                       \u001b[31mnull            null\u001b[0m\n",
      "future_fstrings                            \u001b[31m1.2.0           py39hf3d152e_4\u001b[0m                       \u001b[31mnull            null\u001b[0m\n",
      "gcc_impl_linux-64                          \u001b[33m12.2.0          hcc96c02_19\u001b[0m                          \u001b[33m9.4.0           h03d3576_11\u001b[0m\n",
      "gcc_linux-64                               \u001b[31mnull            null\u001b[0m                                 \u001b[31m9.4.0           h391b98a_1\u001b[0m\n",
      "geos                                       \u001b[33m3.11.0          h27087fc_0\u001b[0m                           \u001b[33m3.9.1           h9c3ff4c_2\u001b[0m\n",
      "geotiff                                    \u001b[33m1.7.1           ha76d385_4\u001b[0m                           \u001b[33m1.7.0           hcfb7246_3\u001b[0m\n",
      "get_version                                \u001b[31m3.5.4           pyhd8ed1ab_0\u001b[0m                         \u001b[31mnull            null\u001b[0m\n",
      "gettext                                    \u001b[33m0.21.1          h27087fc_0\u001b[0m                           \u001b[33m0.19.8.1        h73d1719_1008\u001b[0m\n",
      "gfortran_impl_linux-64                     \u001b[33m12.2.0          h55be85b_19\u001b[0m                          \u001b[33m9.4.0           h0003116_11\u001b[0m\n",
      "gfortran_linux-64                          \u001b[31mnull            null\u001b[0m                                 \u001b[31m9.4.0           hf0ab688_1\u001b[0m\n",
      "giflib                                     \u001b[32m5.2.1           h36c2ea0_2\u001b[0m                           \u001b[32m5.2.1           h36c2ea0_2\u001b[0m\n",
      "git                                        \u001b[31m2.38.1          pl5321h5e804b7_1\u001b[0m                     \u001b[31mnull            null\u001b[0m\n",
      "glib                                       \u001b[31m2.74.1          h6239696_1\u001b[0m                           \u001b[31mnull            null\u001b[0m\n",
      "glib-tools                                 \u001b[31m2.74.1          h6239696_1\u001b[0m                           \u001b[31mnull            null\u001b[0m\n",
      "glpk                                       \u001b[31m5.0             h445213a_0\u001b[0m                           \u001b[31mnull            null\u001b[0m\n",
      "gmp                                        \u001b[32m6.2.1           h58526e2_0\u001b[0m                           \u001b[32m6.2.1           h58526e2_0\u001b[0m\n",
      "graphite2                                  \u001b[32m1.3.13          h58526e2_1001\u001b[0m                        \u001b[32m1.3.13          h58526e2_1001\u001b[0m\n",
      "gsl                                        \u001b[32m2.7             he838d99_0\u001b[0m                           \u001b[32m2.7             he838d99_0\u001b[0m\n",
      "gst-plugins-base                           \u001b[31m1.21.1          h3e40eee_1\u001b[0m                           \u001b[31mnull            null\u001b[0m\n",
      "gstreamer                                  \u001b[31m1.21.1          hd4edc92_1\u001b[0m                           \u001b[31mnull            null\u001b[0m\n",
      "gxx_impl_linux-64                          \u001b[33m12.2.0          hcc96c02_19\u001b[0m                          \u001b[33m9.4.0           h03d3576_11\u001b[0m\n",
      "gxx_linux-64                               \u001b[31mnull            null\u001b[0m                                 \u001b[31m9.4.0           h0316aca_1\u001b[0m\n",
      "h5py                                       \u001b[33m3.7.0           nompi_py39h817c9c5_102\u001b[0m               \u001b[33m3.4.0           nompi_py39h7e08c79_101\u001b[0m\n",
      "harfbuzz                                   \u001b[33m5.3.0           h418a68e_0\u001b[0m                           \u001b[33m3.0.0           h83ec7ef_1\u001b[0m\n",
      "harmonypy                                  \u001b[31m0.0.5           py_0\u001b[0m                                 \u001b[31mnull            null\u001b[0m\n",
      "hdf4                                       \u001b[33m4.2.15          h9772cbc_5\u001b[0m                           \u001b[33m4.2.15          h10796ff_3\u001b[0m\n",
      "hdf5                                       \u001b[33m1.12.2          mpi_mpich_h08b82f9_0\u001b[0m                 \u001b[33m1.12.1          nompi_h2750804_101\u001b[0m\n",
      "hypre                                      \u001b[31m2.26.0          mpi_mpich_hed3a557_0\u001b[0m                 \u001b[31mnull            null\u001b[0m\n",
      "icu                                        \u001b[33m70.1            h27087fc_0\u001b[0m                           \u001b[33m68.2            h9c3ff4c_0\u001b[0m\n",
      "igraph                                     \u001b[31m0.10.2          ha1f048c_0\u001b[0m                           \u001b[31mnull            null\u001b[0m\n",
      "importlib-metadata                         \u001b[31m5.0.0           pyha770c72_1\u001b[0m                         \u001b[31mnull            null\u001b[0m\n",
      "importlib_metadata                         \u001b[31m5.0.0           hd8ed1ab_1\u001b[0m                           \u001b[31mnull            null\u001b[0m\n",
      "importlib_resources                        \u001b[31m5.10.0          pyhd8ed1ab_0\u001b[0m                         \u001b[31mnull            null\u001b[0m\n",
      "ipykernel                                  \u001b[31m6.17.1          pyh210e3f2_0\u001b[0m                         \u001b[31mnull            null\u001b[0m\n",
      "ipython                                    \u001b[31m8.6.0           pyh41d4057_1\u001b[0m                         \u001b[31mnull            null\u001b[0m\n",
      "ipywidgets                                 \u001b[31m8.0.2           pyhd8ed1ab_1\u001b[0m                         \u001b[31mnull            null\u001b[0m\n",
      "jack                                       \u001b[31m1.9.21          he978b8e_1\u001b[0m                           \u001b[31mnull            null\u001b[0m\n",
      "jbig                                       \u001b[31mnull            null\u001b[0m                                 \u001b[31m2.1             h7f98852_2003\u001b[0m\n",
      "jedi                                       \u001b[31m0.18.1          py39hf3d152e_1\u001b[0m                       \u001b[31mnull            null\u001b[0m\n",
      "joblib                                     \u001b[31m1.2.0           pyhd8ed1ab_0\u001b[0m                         \u001b[31mnull            null\u001b[0m\n",
      "jpeg                                       \u001b[33m9e              h166bdaf_2\u001b[0m                           \u001b[33m9d              h36c2ea0_0\u001b[0m\n",
      "jq                                         \u001b[31m1.5             0\u001b[0m                                    \u001b[31mnull            null\u001b[0m\n",
      "json-c                                     \u001b[33m0.16            hc379101_0\u001b[0m                           \u001b[33m0.15            h98cffda_0\u001b[0m\n",
      "jsonschema                                 \u001b[31m4.17.0          pyhd8ed1ab_0\u001b[0m                         \u001b[31mnull            null\u001b[0m\n",
      "jupyter_client                             \u001b[31m7.4.7           pyhd8ed1ab_0\u001b[0m                         \u001b[31mnull            null\u001b[0m\n",
      "jupyter_core                               \u001b[31m5.0.0           py39hf3d152e_0\u001b[0m                       \u001b[31mnull            null\u001b[0m\n",
      "jupyterlab_widgets                         \u001b[31m3.0.3           pyhd8ed1ab_0\u001b[0m                         \u001b[31mnull            null\u001b[0m\n",
      "kealib                                     \u001b[33m1.4.15          ha7026e8_1\u001b[0m                           \u001b[33m1.4.14          h87e4c3c_3\u001b[0m\n",
      "kernel-headers_linux-64                    \u001b[33m2.6.32          he073ed8_15\u001b[0m                          \u001b[33m2.6.32          he073ed8_14\u001b[0m\n",
      "keyutils                                   \u001b[31m1.6.1           h166bdaf_0\u001b[0m                           \u001b[31mnull            null\u001b[0m\n",
      "kiwisolver                                 \u001b[31m1.4.4           py39hf939315_1\u001b[0m                       \u001b[31mnull            null\u001b[0m\n",
      "krb5                                       \u001b[33m1.19.3          h3790be6_0\u001b[0m                           \u001b[33m1.19.2          hcc1bbae_2\u001b[0m\n",
      "lame                                       \u001b[31m3.100           h166bdaf_1003\u001b[0m                        \u001b[31mnull            null\u001b[0m\n",
      "lcms2                                      \u001b[33m2.14            h6ed2654_0\u001b[0m                           \u001b[33m2.12            hddcbb42_0\u001b[0m\n",
      "ld_impl_linux-64                           \u001b[33m2.39            hc81fddc_0\u001b[0m                           \u001b[33m2.36.1          hea4e1c9_2\u001b[0m\n",
      "legacy-api-wrap                            \u001b[31m1.2             py_0\u001b[0m                                 \u001b[31mnull            null\u001b[0m\n",
      "leidenalg                                  \u001b[31m0.9.0           py39h5a03fae_1\u001b[0m                       \u001b[31mnull            null\u001b[0m\n",
      "lerc                                       \u001b[33m4.0.0           h27087fc_0\u001b[0m                           \u001b[33m3.0             h9c3ff4c_0\u001b[0m\n",
      "levenshtein                                \u001b[31m0.20.8          py39h5a03fae_2\u001b[0m                       \u001b[31mnull            null\u001b[0m\n",
      "libblas                                    \u001b[33m3.9.0           16_linux64_openblas\u001b[0m                  \u001b[33m3.9.0           12_linux64_openblas\u001b[0m\n",
      "libbrotlicommon                            \u001b[31m1.0.9           h166bdaf_8\u001b[0m                           \u001b[31mnull            null\u001b[0m\n",
      "libbrotlidec                               \u001b[31m1.0.9           h166bdaf_8\u001b[0m                           \u001b[31mnull            null\u001b[0m\n",
      "libbrotlienc                               \u001b[31m1.0.9           h166bdaf_8\u001b[0m                           \u001b[31mnull            null\u001b[0m\n",
      "libcap                                     \u001b[31m2.66            ha37c62d_0\u001b[0m                           \u001b[31mnull            null\u001b[0m\n",
      "libcblas                                   \u001b[33m3.9.0           16_linux64_openblas\u001b[0m                  \u001b[33m3.9.0           12_linux64_openblas\u001b[0m\n",
      "libclang                                   \u001b[31m15.0.5          default_h2e3cab8_0\u001b[0m                   \u001b[31mnull            null\u001b[0m\n",
      "libclang13                                 \u001b[31m15.0.5          default_h3a83d3e_0\u001b[0m                   \u001b[31mnull            null\u001b[0m\n",
      "libcups                                    \u001b[31m2.3.3           h3e49a29_2\u001b[0m                           \u001b[31mnull            null\u001b[0m\n",
      "libcurl                                    \u001b[33m7.86.0          h7bff187_1\u001b[0m                           \u001b[33m7.79.1          h2574ce0_1\u001b[0m\n",
      "libdap4                                    \u001b[32m3.20.6          hd7c4107_2\u001b[0m                           \u001b[32m3.20.6          hd7c4107_2\u001b[0m\n",
      "libdb                                      \u001b[31m6.2.32          h9c3ff4c_0\u001b[0m                           \u001b[31mnull            null\u001b[0m\n",
      "libdeflate                                 \u001b[33m1.14            h166bdaf_0\u001b[0m                           \u001b[33m1.8             h7f98852_0\u001b[0m\n",
      "libedit                                    \u001b[32m3.1.20191231    he28a2e2_2\u001b[0m                           \u001b[32m3.1.20191231    he28a2e2_2\u001b[0m\n",
      "libev                                      \u001b[32m4.33            h516909a_1\u001b[0m                           \u001b[32m4.33            h516909a_1\u001b[0m\n",
      "libevent                                   \u001b[31m2.1.10          h9b69904_4\u001b[0m                           \u001b[31mnull            null\u001b[0m\n",
      "libffi                                     \u001b[33m3.4.2           h7f98852_5\u001b[0m                           \u001b[33m3.4.2           h9c3ff4c_4\u001b[0m\n",
      "libflac                                    \u001b[31m1.4.2           h27087fc_0\u001b[0m                           \u001b[31mnull            null\u001b[0m\n",
      "libgcc                                     \u001b[31m7.2.0           h69d50b8_2\u001b[0m                           \u001b[31mnull            null\u001b[0m\n",
      "libgcc-devel_linux-64                      \u001b[33m12.2.0          h3b97bd3_19\u001b[0m                          \u001b[33m9.4.0           hd854feb_11\u001b[0m\n",
      "\u001b[35mlibgcc-ng\u001b[0m                                  \u001b[33m12.2.0          h65d4601_19\u001b[0m                          \u001b[33m11.2.0          h1d223b6_11\u001b[0m\n",
      "libgdal                                    \u001b[33m3.5.3           h275edd5_1\u001b[0m                           \u001b[33m3.3.2           h9c9eb65_4\u001b[0m\n",
      "libgfortran-ng                             \u001b[33m12.2.0          h69a702a_19\u001b[0m                          \u001b[33m11.2.0          h69a702a_11\u001b[0m\n",
      "libgfortran5                               \u001b[33m12.2.0          h337968e_19\u001b[0m                          \u001b[33m11.2.0          h5c6108e_11\u001b[0m\n",
      "libglib                                    \u001b[33m2.74.1          h606061b_1\u001b[0m                           \u001b[33m2.70.0          h174f98d_1\u001b[0m\n",
      "libgomp                                    \u001b[33m12.2.0          h65d4601_19\u001b[0m                          \u001b[33m11.2.0          h1d223b6_11\u001b[0m\n",
      "libiconv                                   \u001b[33m1.17            h166bdaf_0\u001b[0m                           \u001b[33m1.16            h516909a_0\u001b[0m\n",
      "libkml                                     \u001b[33m1.3.0           h37653c0_1015\u001b[0m                        \u001b[33m1.3.0           h238a007_1014\u001b[0m\n",
      "liblapack                                  \u001b[33m3.9.0           16_linux64_openblas\u001b[0m                  \u001b[33m3.9.0           12_linux64_openblas\u001b[0m\n",
      "libllvm11                                  \u001b[31m11.1.0          he0ac6c6_5\u001b[0m                           \u001b[31mnull            null\u001b[0m\n",
      "libllvm15                                  \u001b[31m15.0.5          h63197d8_0\u001b[0m                           \u001b[31mnull            null\u001b[0m\n",
      "libnetcdf                                  \u001b[33m4.8.1           mpi_mpich_hcd871d9_6\u001b[0m                 \u001b[33m4.8.1           nompi_hb3fd0d9_101\u001b[0m\n",
      "libnghttp2                                 \u001b[33m1.47.0          hdcd2b5c_1\u001b[0m                           \u001b[33m1.43.0          h812cca2_1\u001b[0m\n",
      "libnsl                                     \u001b[32m2.0.0           h7f98852_0\u001b[0m                           \u001b[32m2.0.0           h7f98852_0\u001b[0m\n",
      "libogg                                     \u001b[31m1.3.4           h7f98852_1\u001b[0m                           \u001b[31mnull            null\u001b[0m\n",
      "libopenblas                                \u001b[33m0.3.21          pthreads_h78a6416_3\u001b[0m                  \u001b[33m0.3.18          pthreads_h8fe5266_0\u001b[0m\n",
      "libopus                                    \u001b[31m1.3.1           h7f98852_1\u001b[0m                           \u001b[31mnull            null\u001b[0m\n",
      "libpng                                     \u001b[33m1.6.38          h753d276_0\u001b[0m                           \u001b[33m1.6.37          h21135ba_2\u001b[0m\n",
      "libpq                                      \u001b[33m14.5            hd77ab85_1\u001b[0m                           \u001b[33m13.3            hd57d9b9_1\u001b[0m\n",
      "librttopo                                  \u001b[33m1.1.0           hf730bdb_11\u001b[0m                          \u001b[33m1.1.0           h1185371_6\u001b[0m\n",
      "libsanitizer                               \u001b[33m12.2.0          h46fd767_19\u001b[0m                          \u001b[33m9.4.0           h79bfe98_11\u001b[0m\n",
      "libsndfile                                 \u001b[31m1.1.0           h27087fc_0\u001b[0m                           \u001b[31mnull            null\u001b[0m\n",
      "libsodium                                  \u001b[31m1.0.18          h36c2ea0_1\u001b[0m                           \u001b[31mnull            null\u001b[0m\n",
      "libspatialite                              \u001b[33m5.0.1           hfbd986c_21\u001b[0m                          \u001b[33m5.0.1           h8796b1e_9\u001b[0m\n",
      "libsqlite                                  \u001b[31m3.40.0          h753d276_0\u001b[0m                           \u001b[31mnull            null\u001b[0m\n",
      "libssh2                                    \u001b[33m1.10.0          haa6b8db_3\u001b[0m                           \u001b[33m1.10.0          ha56f1ee_2\u001b[0m\n",
      "libstdcxx-devel_linux-64                   \u001b[33m12.2.0          h3b97bd3_19\u001b[0m                          \u001b[33m9.4.0           hd854feb_11\u001b[0m\n",
      "\u001b[35mlibstdcxx-ng\u001b[0m                               \u001b[33m12.2.0          h46fd767_19\u001b[0m                          \u001b[33m11.2.0          he4da1e4_11\u001b[0m\n",
      "libtiff                                    \u001b[33m4.4.0           h55922b4_4\u001b[0m                           \u001b[33m4.3.0           h6f004c6_2\u001b[0m\n",
      "libtool                                    \u001b[31m2.4.6           h9c3ff4c_1008\u001b[0m                        \u001b[31mnull            null\u001b[0m\n",
      "libudev1                                   \u001b[31m252             h166bdaf_0\u001b[0m                           \u001b[31mnull            null\u001b[0m\n",
      "libuuid                                    \u001b[32m2.32.1          h7f98852_1000\u001b[0m                        \u001b[32m2.32.1          h7f98852_1000\u001b[0m\n",
      "libvorbis                                  \u001b[31m1.3.7           h9c3ff4c_0\u001b[0m                           \u001b[31mnull            null\u001b[0m\n",
      "libwebp-base                               \u001b[33m1.2.4           h166bdaf_0\u001b[0m                           \u001b[33m1.2.1           h7f98852_0\u001b[0m\n",
      "libxcb                                     \u001b[33m1.13            h7f98852_1004\u001b[0m                        \u001b[33m1.13            h7f98852_1003\u001b[0m\n",
      "libxkbcommon                               \u001b[31m1.0.3           he3ba5ed_0\u001b[0m                           \u001b[31mnull            null\u001b[0m\n",
      "libxml2                                    \u001b[33m2.10.3          h7463322_0\u001b[0m                           \u001b[33m2.9.12          h72842e0_0\u001b[0m\n",
      "libzip                                     \u001b[33m1.9.2           hc869a4a_1\u001b[0m                           \u001b[33m1.8.0           h4de3113_1\u001b[0m\n",
      "libzlib                                    \u001b[33m1.2.13          h166bdaf_4\u001b[0m                           \u001b[33m1.2.11          h36c2ea0_1013\u001b[0m\n",
      "llvmlite                                   \u001b[31m0.39.1          py39h7d9a04d_1\u001b[0m                       \u001b[31mnull            null\u001b[0m\n",
      "loompy                                     \u001b[31m3.0.6           py_0\u001b[0m                                 \u001b[31mnull            null\u001b[0m\n",
      "lz4-c                                      \u001b[32m1.9.3           h9c3ff4c_1\u001b[0m                           \u001b[32m1.9.3           h9c3ff4c_1\u001b[0m\n",
      "lzo                                        \u001b[31m2.10            h516909a_1000\u001b[0m                        \u001b[31mnull            null\u001b[0m\n",
      "make                                       \u001b[32m4.3             hd18ef5c_1\u001b[0m                           \u001b[32m4.3             hd18ef5c_1\u001b[0m\n",
      "matplotlib                                 \u001b[31m3.6.2           py39hf3d152e_0\u001b[0m                       \u001b[31mnull            null\u001b[0m\n",
      "matplotlib-base                            \u001b[31m3.6.2           py39hf9fd14e_0\u001b[0m                       \u001b[31mnull            null\u001b[0m\n",
      "matplotlib-inline                          \u001b[31m0.1.6           pyhd8ed1ab_0\u001b[0m                         \u001b[31mnull            null\u001b[0m\n",
      "metis                                      \u001b[31m5.1.0           h58526e2_1006\u001b[0m                        \u001b[31mnull            null\u001b[0m\n",
      "mizani                                     \u001b[31m0.8.1           pyhd8ed1ab_0\u001b[0m                         \u001b[31mnull            null\u001b[0m\n",
      "mock                                       \u001b[31m4.0.3           py39hf3d152e_3\u001b[0m                       \u001b[31mnull            null\u001b[0m\n",
      "mpfr                                       \u001b[31m4.1.0           h9202a9a_1\u001b[0m                           \u001b[31mnull            null\u001b[0m\n",
      "mpg123                                     \u001b[31m1.30.2          h27087fc_1\u001b[0m                           \u001b[31mnull            null\u001b[0m\n",
      "mpi                                        \u001b[31m1.0             mpich\u001b[0m                                \u001b[31mnull            null\u001b[0m\n",
      "mpi4py                                     \u001b[31m3.1.4           py39h32b9844_0\u001b[0m                       \u001b[31mnull            null\u001b[0m\n",
      "mpich                                      \u001b[31m4.0.3           h846660c_100\u001b[0m                         \u001b[31mnull            null\u001b[0m\n",
      "mumps-include                              \u001b[31m5.2.1           ha770c72_11\u001b[0m                          \u001b[31mnull            null\u001b[0m\n",
      "mumps-mpi                                  \u001b[31m5.2.1           h7ee95aa_11\u001b[0m                          \u001b[31mnull            null\u001b[0m\n",
      "munkres                                    \u001b[31m1.1.4           pyh9f0ad1d_0\u001b[0m                         \u001b[31mnull            null\u001b[0m\n",
      "mysql-common                               \u001b[31m8.0.31          haf5c9bc_0\u001b[0m                           \u001b[31mnull            null\u001b[0m\n",
      "mysql-libs                                 \u001b[31m8.0.31          h28c427c_0\u001b[0m                           \u001b[31mnull            null\u001b[0m\n",
      "natsort                                    \u001b[33m8.2.0           pyhd8ed1ab_0\u001b[0m                         \u001b[33m8.0.0           pyhd8ed1ab_0\u001b[0m\n",
      "nbformat                                   \u001b[31m5.7.0           pyhd8ed1ab_0\u001b[0m                         \u001b[31mnull            null\u001b[0m\n",
      "ncurses                                    \u001b[33m6.3             h27087fc_1\u001b[0m                           \u001b[33m6.2             h58526e2_4\u001b[0m\n",
      "nest-asyncio                               \u001b[31m1.5.6           pyhd8ed1ab_0\u001b[0m                         \u001b[31mnull            null\u001b[0m\n",
      "networkx                                   \u001b[31m2.8.8           pyhd8ed1ab_0\u001b[0m                         \u001b[31mnull            null\u001b[0m\n",
      "nomkl                                      \u001b[31m1.0             h5ca1d4c_0\u001b[0m                           \u001b[31mnull            null\u001b[0m\n",
      "nspr                                       \u001b[33m4.32            h9c3ff4c_1\u001b[0m                           \u001b[33m4.30            h9c3ff4c_0\u001b[0m\n",
      "nss                                        \u001b[33m3.78            h2350873_0\u001b[0m                           \u001b[33m3.69            hb5efdd6_1\u001b[0m\n",
      "numba                                      \u001b[31m0.56.3          py39h61ddf18_0\u001b[0m                       \u001b[31mnull            null\u001b[0m\n",
      "numexpr                                    \u001b[31m2.8.3           py39hf625f34_101\u001b[0m                     \u001b[31mnull            null\u001b[0m\n",
      "numpy                                      \u001b[33m1.23.4          py39h3d75532_1\u001b[0m                       \u001b[33m1.21.4          py39hdbf815f_0\u001b[0m\n",
      "numpy_groupies                             \u001b[31m0.9.20          pyhd8ed1ab_0\u001b[0m                         \u001b[31mnull            null\u001b[0m\n",
      "openjpeg                                   \u001b[33m2.5.0           h7d73246_1\u001b[0m                           \u001b[33m2.4.0           hb52868f_1\u001b[0m\n",
      "openssl                                    \u001b[33m1.1.1s          h166bdaf_0\u001b[0m                           \u001b[33m1.1.1o          h166bdaf_0\u001b[0m\n",
      "packaging                                  \u001b[33m21.3            pyhd8ed1ab_0\u001b[0m                         \u001b[33m21.0            pyhd8ed1ab_0\u001b[0m\n",
      "palettable                                 \u001b[31m3.3.0           py_0\u001b[0m                                 \u001b[31mnull            null\u001b[0m\n",
      "pandas                                     \u001b[33m1.5.1           py39h4661b88_1\u001b[0m                       \u001b[33m1.3.4           py39hde0f152_1\u001b[0m\n",
      "pandoc                                     \u001b[33m2.19.2          h32600fe_1\u001b[0m                           \u001b[33m2.15            h7f98852_0\u001b[0m\n",
      "pango                                      \u001b[33m1.50.11         h382ae3d_0\u001b[0m                           \u001b[33m1.48.10         h54213e6_2\u001b[0m\n",
      "parasail-python                            \u001b[31m1.3.3           py39h2add14b_0\u001b[0m                       \u001b[31mnull            null\u001b[0m\n",
      "parmetis                                   \u001b[31m4.0.3           h2a9763c_1005\u001b[0m                        \u001b[31mnull            null\u001b[0m\n",
      "parso                                      \u001b[31m0.8.3           pyhd8ed1ab_0\u001b[0m                         \u001b[31mnull            null\u001b[0m\n",
      "patsy                                      \u001b[31m0.5.3           pyhd8ed1ab_0\u001b[0m                         \u001b[31mnull            null\u001b[0m\n",
      "pcre                                       \u001b[32m8.45            h9c3ff4c_0\u001b[0m                           \u001b[32m8.45            h9c3ff4c_0\u001b[0m\n",
      "pcre2                                      \u001b[33m10.40           hc3806b6_0\u001b[0m                           \u001b[33m10.37           h032f7d1_0\u001b[0m\n",
      "perl                                       \u001b[31m5.32.1          2_h7f98852_perl5\u001b[0m                     \u001b[31mnull            null\u001b[0m\n",
      "petsc                                      \u001b[31m3.18.1          real_h15390b8_100\u001b[0m                    \u001b[31mnull            null\u001b[0m\n",
      "petsc4py                                   \u001b[31m3.18.1          real_he552020_100\u001b[0m                    \u001b[31mnull            null\u001b[0m\n",
      "pexpect                                    \u001b[31m4.8.0           pyh1a96a4e_2\u001b[0m                         \u001b[31mnull            null\u001b[0m\n",
      "pickleshare                                \u001b[31m0.7.5           py39hde42818_1002\u001b[0m                    \u001b[31mnull            null\u001b[0m\n",
      "pillow                                     \u001b[31m9.2.0           py39hf3a2cdf_3\u001b[0m                       \u001b[31mnull            null\u001b[0m\n",
      "pip                                        \u001b[33m22.3.1          pyhd8ed1ab_0\u001b[0m                         \u001b[33m21.3.1          pyhd8ed1ab_0\u001b[0m\n",
      "pixman                                     \u001b[32m0.40.0          h36c2ea0_0\u001b[0m                           \u001b[32m0.40.0          h36c2ea0_0\u001b[0m\n",
      "pkgutil-resolve-name                       \u001b[31m1.3.10          pyhd8ed1ab_0\u001b[0m                         \u001b[31mnull            null\u001b[0m\n",
      "platformdirs                               \u001b[31m2.5.2           pyhd8ed1ab_1\u001b[0m                         \u001b[31mnull            null\u001b[0m\n",
      "plotnine                                   \u001b[31m0.10.1          pyhd8ed1ab_1\u001b[0m                         \u001b[31mnull            null\u001b[0m\n",
      "ply                                        \u001b[31m3.11            py_1\u001b[0m                                 \u001b[31mnull            null\u001b[0m\n",
      "poppler                                    \u001b[33m22.11.0         h92391eb_0\u001b[0m                           \u001b[33m21.09.0         ha39eefc_3\u001b[0m\n",
      "poppler-data                               \u001b[32m0.4.11          hd8ed1ab_0\u001b[0m                           \u001b[32m0.4.11          hd8ed1ab_0\u001b[0m\n",
      "postgresql                                 \u001b[33m14.5            hdeef612_1\u001b[0m                           \u001b[33m13.3            h2510834_1\u001b[0m\n",
      "progressbar2                               \u001b[31m4.2.0           pyhd8ed1ab_0\u001b[0m                         \u001b[31mnull            null\u001b[0m\n",
      "proj                                       \u001b[33m9.1.0           h93bde94_0\u001b[0m                           \u001b[33m8.1.1           h277dcde_2\u001b[0m\n",
      "prompt-toolkit                             \u001b[31m3.0.32          pyha770c72_0\u001b[0m                         \u001b[31mnull            null\u001b[0m\n",
      "psutil                                     \u001b[31m5.9.4           py39hb9d737c_0\u001b[0m                       \u001b[31mnull            null\u001b[0m\n",
      "pthread-stubs                              \u001b[32m0.4             h36c2ea0_1001\u001b[0m                        \u001b[32m0.4             h36c2ea0_1001\u001b[0m\n",
      "ptscotch                                   \u001b[31m6.0.9           hb499603_2\u001b[0m                           \u001b[31mnull            null\u001b[0m\n",
      "ptyprocess                                 \u001b[31m0.7.0           pyhd3deb0d_0\u001b[0m                         \u001b[31mnull            null\u001b[0m\n",
      "pulseaudio                                 \u001b[31m14.0            h0d2025b_11\u001b[0m                          \u001b[31mnull            null\u001b[0m\n",
      "pure_eval                                  \u001b[31m0.2.2           pyhd8ed1ab_0\u001b[0m                         \u001b[31mnull            null\u001b[0m\n",
      "pygam                                      \u001b[31m0.8.0           py_0\u001b[0m                                 \u001b[31mnull            null\u001b[0m\n",
      "pygments                                   \u001b[31m2.13.0          pyhd8ed1ab_0\u001b[0m                         \u001b[31mnull            null\u001b[0m\n",
      "pygpcca                                    \u001b[31m1.0.4           py39hf3d152e_0\u001b[0m                       \u001b[31mnull            null\u001b[0m\n",
      "pynndescent                                \u001b[31m0.5.8           pyh1a96a4e_0\u001b[0m                         \u001b[31mnull            null\u001b[0m\n",
      "pyparsing                                  \u001b[33m3.0.9           pyhd8ed1ab_0\u001b[0m                         \u001b[33m3.0.6           pyhd8ed1ab_0\u001b[0m\n",
      "pyqt                                       \u001b[31m5.15.7          py39h18e9c17_2\u001b[0m                       \u001b[31mnull            null\u001b[0m\n",
      "pyqt5-sip                                  \u001b[31m12.11.0         py39h5a03fae_2\u001b[0m                       \u001b[31mnull            null\u001b[0m\n",
      "pyrsistent                                 \u001b[31m0.19.2          py39hb9d737c_0\u001b[0m                       \u001b[31mnull            null\u001b[0m\n",
      "pytables                                   \u001b[31m3.7.0           py39h6a7961f_3\u001b[0m                       \u001b[31mnull            null\u001b[0m\n",
      "python                                     \u001b[33m3.9.13          h9a8a25e_0_cpython\u001b[0m                   \u001b[33m3.9.7           hb7a2778_3_cpython\u001b[0m\n",
      "python-dateutil                            \u001b[32m2.8.2           pyhd8ed1ab_0\u001b[0m                         \u001b[32m2.8.2           pyhd8ed1ab_0\u001b[0m\n",
      "python-fastjsonschema                      \u001b[31m2.16.2          pyhd8ed1ab_0\u001b[0m                         \u001b[31mnull            null\u001b[0m\n",
      "python-igraph                              \u001b[31m0.10.2          py39h441ba2a_1\u001b[0m                       \u001b[31mnull            null\u001b[0m\n",
      "python-levenshtein                         \u001b[31m0.20.8          pyhd8ed1ab_0\u001b[0m                         \u001b[31mnull            null\u001b[0m\n",
      "python-tzdata                              \u001b[31m2022.6          pyhd8ed1ab_0\u001b[0m                         \u001b[31mnull            null\u001b[0m\n",
      "python-utils                               \u001b[31m3.4.5           pyhd8ed1ab_0\u001b[0m                         \u001b[31mnull            null\u001b[0m\n",
      "python_abi                                 \u001b[32m3.9             2_cp39\u001b[0m                               \u001b[32m3.9             2_cp39\u001b[0m\n",
      "pytz                                       \u001b[33m2022.6          pyhd8ed1ab_0\u001b[0m                         \u001b[33m2021.3          pyhd8ed1ab_0\u001b[0m\n",
      "pytz-deprecation-shim                      \u001b[31m0.1.0.post0     py39hf3d152e_3\u001b[0m                       \u001b[31mnull            null\u001b[0m\n",
      "pyyaml                                     \u001b[31m6.0             py39hb9d737c_5\u001b[0m                       \u001b[31mnull            null\u001b[0m\n",
      "pyzmq                                      \u001b[31m24.0.1          py39headdf64_1\u001b[0m                       \u001b[31mnull            null\u001b[0m\n",
      "qt-main                                    \u001b[31m5.15.6          hd477bba_1\u001b[0m                           \u001b[31mnull            null\u001b[0m\n",
      "r-abind                                    \u001b[31m1.4_5           r42hc72bb7e_1004\u001b[0m                     \u001b[31mnull            null\u001b[0m\n",
      "r-askpass                                  \u001b[33m1.1             r42h06615bd_3\u001b[0m                        \u001b[33m1.1             r41hcfec24a_2\u001b[0m\n",
      "\u001b[35mr-assertthat\u001b[0m                               \u001b[33m0.2.1           r42hc72bb7e_3\u001b[0m                        \u001b[33m0.2.1           r41hc72bb7e_2\u001b[0m\n",
      "r-backports                                \u001b[33m1.4.1           r42h06615bd_1\u001b[0m                        \u001b[33m1.3.0           r41hcfec24a_0\u001b[0m\n",
      "\u001b[35mr-base\u001b[0m                                     \u001b[33m4.2.2           hb87df5d_1\u001b[0m                           \u001b[33m4.1.1           hb93adac_1\u001b[0m\n",
      "r-base64enc                                \u001b[33m0.1_3           r42h06615bd_1005\u001b[0m                     \u001b[33m0.1_3           r41hcfec24a_1004\u001b[0m\n",
      "r-bh                                       \u001b[33m1.78.0_0        r42hc72bb7e_1\u001b[0m                        \u001b[33m1.75.0_0        r41hc72bb7e_0\u001b[0m\n",
      "r-bit                                      \u001b[31mnull            null\u001b[0m                                 \u001b[31m4.0.4           r41hcfec24a_0\u001b[0m\n",
      "r-bit64                                    \u001b[31mnull            null\u001b[0m                                 \u001b[31m4.0.5           r41hcfec24a_0\u001b[0m\n",
      "r-bitops                                   \u001b[33m1.0_7           r42h06615bd_1\u001b[0m                        \u001b[33m1.0_7           r41hcfec24a_0\u001b[0m\n",
      "r-blob                                     \u001b[31mnull            null\u001b[0m                                 \u001b[31m1.2.2           r41hc72bb7e_0\u001b[0m\n",
      "r-boot                                     \u001b[33m1.3_28          r42hc72bb7e_1\u001b[0m                        \u001b[33m1.3_28          r41hc72bb7e_0\u001b[0m\n",
      "r-brio                                     \u001b[33m1.1.3           r42h06615bd_1\u001b[0m                        \u001b[33m1.1.2           r41hcfec24a_0\u001b[0m\n",
      "r-broom                                    \u001b[31mnull            null\u001b[0m                                 \u001b[31m0.7.9           r41hc72bb7e_0\u001b[0m\n",
      "r-bslib                                    \u001b[33m0.4.1           r42hc72bb7e_0\u001b[0m                        \u001b[33m0.3.1           r41hc72bb7e_0\u001b[0m\n",
      "r-cachem                                   \u001b[33m1.0.6           r42h06615bd_1\u001b[0m                        \u001b[33m1.0.6           r41hcfec24a_0\u001b[0m\n",
      "r-callr                                    \u001b[33m3.7.3           r42hc72bb7e_0\u001b[0m                        \u001b[33m3.7.0           r41hc72bb7e_0\u001b[0m\n",
      "r-catools                                  \u001b[33m1.18.2          r42h7525677_1\u001b[0m                        \u001b[33m1.18.2          r41h03ef668_0\u001b[0m\n",
      "r-cellranger                               \u001b[31mnull            null\u001b[0m                                 \u001b[31m1.1.0           r41hc72bb7e_1003\u001b[0m\n",
      "r-class                                    \u001b[33m7.3_20          r42h06615bd_1\u001b[0m                        \u001b[33m7.3_19          r41hcfec24a_0\u001b[0m\n",
      "r-classint                                 \u001b[33m0.4_8           r42h8da6f51_0\u001b[0m                        \u001b[33m0.4_3           r41h859d828_2\u001b[0m\n",
      "r-cli                                      \u001b[33m3.4.1           r42h7525677_1\u001b[0m                        \u001b[33m3.1.0           r41h03ef668_0\u001b[0m\n",
      "r-clipr                                    \u001b[31mnull            null\u001b[0m                                 \u001b[31m0.7.1           r41hc72bb7e_0\u001b[0m\n",
      "r-cluster                                  \u001b[33m2.1.4           r42h8da6f51_0\u001b[0m                        \u001b[33m2.1.2           r41h859d828_0\u001b[0m\n",
      "r-coda                                     \u001b[31mnull            null\u001b[0m                                 \u001b[31m0.19_4          r41hc72bb7e_0\u001b[0m\n",
      "r-codetools                                \u001b[33m0.2_18          r42hc72bb7e_1\u001b[0m                        \u001b[33m0.2_18          r41hc72bb7e_0\u001b[0m\n",
      "r-colorspace                               \u001b[33m2.0_3           r42h06615bd_1\u001b[0m                        \u001b[33m2.0_2           r41hcfec24a_0\u001b[0m\n",
      "r-commonmark                               \u001b[33m1.8.1           r42h06615bd_0\u001b[0m                        \u001b[33m1.7             r41hcfec24a_1002\u001b[0m\n",
      "r-cowplot                                  \u001b[31m1.1.1           r42hc72bb7e_1\u001b[0m                        \u001b[31mnull            null\u001b[0m\n",
      "r-cpp11                                    \u001b[33m0.4.3           r42hc72bb7e_0\u001b[0m                        \u001b[33m0.4.0           r41hc72bb7e_0\u001b[0m\n",
      "r-crayon                                   \u001b[33m1.5.2           r42hc72bb7e_1\u001b[0m                        \u001b[33m1.4.1           r41hc72bb7e_0\u001b[0m\n",
      "r-crosstalk                                \u001b[33m1.2.0           r42hc72bb7e_1\u001b[0m                        \u001b[33m1.1.1           r41hc72bb7e_0\u001b[0m\n",
      "r-curl                                     \u001b[33m4.3.3           r42h06615bd_1\u001b[0m                        \u001b[33m4.3.2           r41hcfec24a_0\u001b[0m\n",
      "r-cyclocomp                                \u001b[31mnull            null\u001b[0m                                 \u001b[31m1.1.0           r41hc72bb7e_1004\u001b[0m\n",
      "r-data.table                               \u001b[33m1.14.6          r42h06615bd_0\u001b[0m                        \u001b[33m1.14.2          r41hcfec24a_0\u001b[0m\n",
      "r-dbi                                      \u001b[33m1.1.3           r42hc72bb7e_1\u001b[0m                        \u001b[33m1.1.1           r41hc72bb7e_0\u001b[0m\n",
      "r-dbplyr                                   \u001b[31mnull            null\u001b[0m                                 \u001b[31m2.1.1           r41hc72bb7e_0\u001b[0m\n",
      "r-deldir                                   \u001b[33m1.0_6           r42h8da6f51_1\u001b[0m                        \u001b[33m1.0_6           r41h859d828_0\u001b[0m\n",
      "r-dendextend                               \u001b[31mnull            null\u001b[0m                                 \u001b[31m1.15.2          r41hc72bb7e_0\u001b[0m\n",
      "r-desc                                     \u001b[33m1.4.2           r42hc72bb7e_1\u001b[0m                        \u001b[33m1.4.0           r41hc72bb7e_0\u001b[0m\n",
      "r-diffobj                                  \u001b[33m0.3.5           r42h06615bd_1\u001b[0m                        \u001b[33m0.3.5           r41hcfec24a_0\u001b[0m\n",
      "r-digest                                   \u001b[33m0.6.30          r42h7525677_0\u001b[0m                        \u001b[33m0.6.28          r41h03ef668_0\u001b[0m\n",
      "\u001b[35mr-dplyr\u001b[0m                                    \u001b[33m1.0.10          r42h7525677_1\u001b[0m                        \u001b[33m1.0.7           r41h03ef668_0\u001b[0m\n",
      "r-dqrng                                    \u001b[33m0.3.0           r42h7525677_1\u001b[0m                        \u001b[33m0.3.0           r41h03ef668_0\u001b[0m\n",
      "r-dtplyr                                   \u001b[31mnull            null\u001b[0m                                 \u001b[31m1.1.0           r41hc72bb7e_0\u001b[0m\n",
      "r-e1071                                    \u001b[33m1.7_12          r42h7525677_0\u001b[0m                        \u001b[33m1.7_9           r41h03ef668_0\u001b[0m\n",
      "r-ellipsis                                 \u001b[33m0.3.2           r42h06615bd_1\u001b[0m                        \u001b[33m0.3.2           r41hcfec24a_0\u001b[0m\n",
      "r-evaluate                                 \u001b[33m0.18            r42hc72bb7e_0\u001b[0m                        \u001b[33m0.14            r41hc72bb7e_2\u001b[0m\n",
      "r-expm                                     \u001b[31mnull            null\u001b[0m                                 \u001b[31m0.999_6         r41h52d45c5_0\u001b[0m\n",
      "r-fansi                                    \u001b[33m1.0.3           r42h06615bd_1\u001b[0m                        \u001b[33m0.4.2           r41hcfec24a_0\u001b[0m\n",
      "r-farver                                   \u001b[33m2.1.1           r42h7525677_1\u001b[0m                        \u001b[33m2.1.0           r41h03ef668_0\u001b[0m\n",
      "r-fastmap                                  \u001b[33m1.1.0           r42h7525677_1\u001b[0m                        \u001b[33m1.1.0           r41h03ef668_0\u001b[0m\n",
      "r-fitdistrplus                             \u001b[31m1.1_8           r42hc72bb7e_1\u001b[0m                        \u001b[31mnull            null\u001b[0m\n",
      "r-fnn                                      \u001b[33m1.1.3.1         r42h7525677_1\u001b[0m                        \u001b[33m1.1.3           r41h03ef668_2\u001b[0m\n",
      "r-fontawesome                              \u001b[33m0.4.0           r42hc72bb7e_0\u001b[0m                        \u001b[33m0.2.2           r41hc72bb7e_0\u001b[0m\n",
      "r-forcats                                  \u001b[31mnull            null\u001b[0m                                 \u001b[31m0.5.1           r41hc72bb7e_0\u001b[0m\n",
      "r-foreach                                  \u001b[31mnull            null\u001b[0m                                 \u001b[31m1.5.2           r41hc72bb7e_0\u001b[0m\n",
      "r-formatr                                  \u001b[33m1.12            r42hc72bb7e_1\u001b[0m                        \u001b[33m1.11            r41hc72bb7e_0\u001b[0m\n",
      "r-fs                                       \u001b[33m1.5.2           r42h7525677_2\u001b[0m                        \u001b[33m1.5.0           r41h03ef668_0\u001b[0m\n",
      "r-furrr                                    \u001b[33m0.3.1           r42hc72bb7e_1\u001b[0m                        \u001b[33m0.2.3           r41hc72bb7e_0\u001b[0m\n",
      "r-futile.logger                            \u001b[33m1.4.3           r42hc72bb7e_1004\u001b[0m                     \u001b[33m1.4.3           r41hc72bb7e_1003\u001b[0m\n",
      "r-futile.options                           \u001b[33m1.0.1           r42hc72bb7e_1003\u001b[0m                     \u001b[33m1.0.1           r41hc72bb7e_1002\u001b[0m\n",
      "r-future                                   \u001b[33m1.29.0          r42hc72bb7e_0\u001b[0m                        \u001b[33m1.22.1          r41hc72bb7e_0\u001b[0m\n",
      "r-future.apply                             \u001b[31m1.10.0          r42hc72bb7e_0\u001b[0m                        \u001b[31mnull            null\u001b[0m\n",
      "r-gargle                                   \u001b[31mnull            null\u001b[0m                                 \u001b[31m1.2.0           r41hc72bb7e_0\u001b[0m\n",
      "r-gclus                                    \u001b[31mnull            null\u001b[0m                                 \u001b[31m1.3.2           r41hc72bb7e_2\u001b[0m\n",
      "r-gdata                                    \u001b[31mnull            null\u001b[0m                                 \u001b[31m2.18.0          r41hc72bb7e_1003\u001b[0m\n",
      "r-generics                                 \u001b[33m0.1.3           r42hc72bb7e_1\u001b[0m                        \u001b[33m0.1.1           r41hc72bb7e_0\u001b[0m\n",
      "r-ggnewscale                               \u001b[31mnull            null\u001b[0m                                 \u001b[31m0.4.7           r41hc72bb7e_0\u001b[0m\n",
      "\u001b[35mr-ggplot2\u001b[0m                                  \u001b[33m3.4.0           r42hc72bb7e_0\u001b[0m                        \u001b[33m3.3.5           r41hc72bb7e_0\u001b[0m\n",
      "\u001b[35mr-ggrepel\u001b[0m                                  \u001b[33m0.9.2           r42h7525677_0\u001b[0m                        \u001b[33m0.9.1           r41h03ef668_0\u001b[0m\n",
      "r-ggridges                                 \u001b[31m0.5.4           r42hc72bb7e_1\u001b[0m                        \u001b[31mnull            null\u001b[0m\n",
      "r-globals                                  \u001b[33m0.16.1          r42hc72bb7e_1\u001b[0m                        \u001b[33m0.14.0          r41hc72bb7e_0\u001b[0m\n",
      "r-glue                                     \u001b[33m1.6.2           r42h06615bd_1\u001b[0m                        \u001b[33m1.4.2           r41hcfec24a_0\u001b[0m\n",
      "r-gmodels                                  \u001b[31mnull            null\u001b[0m                                 \u001b[31m2.18.1          r41ha770c72_1003\u001b[0m\n",
      "r-goftest                                  \u001b[31m1.2_3           r42h06615bd_1\u001b[0m                        \u001b[31mnull            null\u001b[0m\n",
      "r-googledrive                              \u001b[31mnull            null\u001b[0m                                 \u001b[31m2.0.0           r41hc72bb7e_0\u001b[0m\n",
      "r-googlesheets4                            \u001b[31mnull            null\u001b[0m                                 \u001b[31m1.0.0           r41h785f33e_0\u001b[0m\n",
      "r-gplots                                   \u001b[33m3.1.3           r42hc72bb7e_1\u001b[0m                        \u001b[33m3.1.1           r41hc72bb7e_0\u001b[0m\n",
      "r-gridextra                                \u001b[33m2.3             r42hc72bb7e_1004\u001b[0m                     \u001b[33m2.3             r41hc72bb7e_1003\u001b[0m\n",
      "\u001b[35mr-grr\u001b[0m                                      \u001b[33m0.9.5           r42h7525677_1005\u001b[0m                     \u001b[33m0.9.5           r41h03ef668_1004\u001b[0m\n",
      "r-gtable                                   \u001b[33m0.3.1           r42hc72bb7e_1\u001b[0m                        \u001b[33m0.3.0           r41hc72bb7e_3\u001b[0m\n",
      "r-gtools                                   \u001b[33m3.9.3           r42h06615bd_1\u001b[0m                        \u001b[33m3.9.2           r41hcfec24a_0\u001b[0m\n",
      "r-haven                                    \u001b[31mnull            null\u001b[0m                                 \u001b[31m2.4.3           r41h2713e49_0\u001b[0m\n",
      "r-here                                     \u001b[33m1.0.1           r42hc72bb7e_1\u001b[0m                        \u001b[33m1.0.1           r41hc72bb7e_0\u001b[0m\n",
      "r-hexbin                                   \u001b[33m1.28.2          r42h8da6f51_1\u001b[0m                        \u001b[33m1.28.2          r41h859d828_0\u001b[0m\n",
      "r-highr                                    \u001b[33m0.9             r42hc72bb7e_1\u001b[0m                        \u001b[33m0.9             r41hc72bb7e_0\u001b[0m\n",
      "r-hms                                      \u001b[31mnull            null\u001b[0m                                 \u001b[31m1.1.1           r41hc72bb7e_0\u001b[0m\n",
      "r-htmltools                                \u001b[33m0.5.3           r42h7525677_1\u001b[0m                        \u001b[33m0.5.2           r41h03ef668_0\u001b[0m\n",
      "\u001b[35mr-htmlwidgets\u001b[0m                              \u001b[33m1.5.4           r42hc72bb7e_1\u001b[0m                        \u001b[33m1.5.4           r41hc72bb7e_0\u001b[0m\n",
      "r-httpuv                                   \u001b[33m1.6.6           r42h7525677_1\u001b[0m                        \u001b[33m1.6.3           r41h03ef668_0\u001b[0m\n",
      "r-httr                                     \u001b[33m1.4.4           r42hc72bb7e_1\u001b[0m                        \u001b[33m1.4.2           r41hc72bb7e_0\u001b[0m\n",
      "r-hunspell                                 \u001b[33m3.0.2           r42h7525677_1\u001b[0m                        \u001b[33m3.0.1           r41h03ef668_0\u001b[0m\n",
      "r-ica                                      \u001b[31m1.0_3           r42hc72bb7e_1\u001b[0m                        \u001b[31mnull            null\u001b[0m\n",
      "r-ids                                      \u001b[31mnull            null\u001b[0m                                 \u001b[31m1.0.1           r41hc72bb7e_1\u001b[0m\n",
      "\u001b[35mr-igraph\u001b[0m                                   \u001b[33m1.3.5           r42hb34fc8a_0\u001b[0m                        \u001b[33m1.2.7           r41he0372cf_0\u001b[0m\n",
      "\u001b[35mr-irlba\u001b[0m                                    \u001b[33m2.3.5.1         r42h5f7b363_0\u001b[0m                        \u001b[33m2.3.3           r41he454529_3\u001b[0m\n",
      "r-isoband                                  \u001b[33m0.2.6           r42h7525677_1\u001b[0m                        \u001b[33m0.2.5           r41h03ef668_0\u001b[0m\n",
      "r-iterators                                \u001b[31mnull            null\u001b[0m                                 \u001b[31m1.0.14          r41hc72bb7e_0\u001b[0m\n",
      "r-jquerylib                                \u001b[33m0.1.4           r42hc72bb7e_1\u001b[0m                        \u001b[33m0.1.4           r41hc72bb7e_0\u001b[0m\n",
      "r-jsonlite                                 \u001b[33m1.8.3           r42h06615bd_0\u001b[0m                        \u001b[33m1.7.2           r41hcfec24a_0\u001b[0m\n",
      "r-kernsmooth                               \u001b[33m2.23_20         r42hd009a43_1\u001b[0m                        \u001b[33m2.23_20         r41h742201e_0\u001b[0m\n",
      "\u001b[35mr-knitr\u001b[0m                                    \u001b[33m1.41            r42hc72bb7e_0\u001b[0m                        \u001b[33m1.35            r41hc72bb7e_0\u001b[0m\n",
      "r-labeling                                 \u001b[33m0.4.2           r42hc72bb7e_2\u001b[0m                        \u001b[33m0.4.2           r41hc72bb7e_0\u001b[0m\n",
      "r-lambda.r                                 \u001b[33m1.2.4           r42hc72bb7e_2\u001b[0m                        \u001b[33m1.2.4           r41hc72bb7e_1\u001b[0m\n",
      "r-later                                    \u001b[33m1.2.0           r42h7525677_1\u001b[0m                        \u001b[33m1.2.0           r41h03ef668_0\u001b[0m\n",
      "r-lattice                                  \u001b[33m0.20_45         r42h06615bd_1\u001b[0m                        \u001b[33m0.20_45         r41hcfec24a_0\u001b[0m\n",
      "r-lazyeval                                 \u001b[33m0.2.2           r42h06615bd_3\u001b[0m                        \u001b[33m0.2.2           r41hcfec24a_2\u001b[0m\n",
      "r-learnbayes                               \u001b[31mnull            null\u001b[0m                                 \u001b[31m2.15.1          r41hc72bb7e_1002\u001b[0m\n",
      "r-leiden                                   \u001b[31m0.4.3           r42hc72bb7e_1\u001b[0m                        \u001b[31mnull            null\u001b[0m\n",
      "\u001b[35mr-leidenbase\u001b[0m                               \u001b[33m0.1.3           r42h1aed7a7_3\u001b[0m                        \u001b[33m0.1.3           r41h8c3ec31_1\u001b[0m\n",
      "r-lifecycle                                \u001b[33m1.0.3           r42hc72bb7e_1\u001b[0m                        \u001b[33m1.0.1           r41hc72bb7e_0\u001b[0m\n",
      "r-lintr                                    \u001b[31mnull            null\u001b[0m                                 \u001b[31m2.0.1           r41hc72bb7e_1\u001b[0m\n",
      "r-listenv                                  \u001b[33m0.8.0           r42hc72bb7e_2\u001b[0m                        \u001b[33m0.8.0           r41hc72bb7e_1\u001b[0m\n",
      "\u001b[35mr-lmtest\u001b[0m                                   \u001b[33m0.9_40          r42h8da6f51_1\u001b[0m                        \u001b[33m0.9_38          r41h859d828_1\u001b[0m\n",
      "r-lobstr                                   \u001b[33m1.1.2           r42h7525677_1\u001b[0m                        \u001b[33m1.1.1           r41h03ef668_1\u001b[0m\n",
      "r-lsei                                     \u001b[31m1.3_0           r42hc3ea6d6_2\u001b[0m                        \u001b[31mnull            null\u001b[0m\n",
      "r-lubridate                                \u001b[31mnull            null\u001b[0m                                 \u001b[31m1.8.0           r41h03ef668_0\u001b[0m\n",
      "r-magrittr                                 \u001b[33m2.0.3           r42h06615bd_1\u001b[0m                        \u001b[33m2.0.1           r41hcfec24a_1\u001b[0m\n",
      "r-markdown                                 \u001b[31mnull            null\u001b[0m                                 \u001b[31m1.1             r41hcfec24a_1\u001b[0m\n",
      "\u001b[35mr-mass\u001b[0m                                     \u001b[33m7.3_58.1        r42h06615bd_1\u001b[0m                        \u001b[33m7.3_54          r41hcfec24a_0\u001b[0m\n",
      "\u001b[35mr-matrix\u001b[0m                                   \u001b[33m1.5_3           r42h5f7b363_0\u001b[0m                        \u001b[33m1.3_4           r41he454529_0\u001b[0m\n",
      "\u001b[35mr-matrix.utils\u001b[0m                             \u001b[33m0.9.8           r42hc72bb7e_2\u001b[0m                        \u001b[33m0.9.8           r41hc72bb7e_1\u001b[0m\n",
      "r-matrixstats                              \u001b[33m0.63.0          r42h06615bd_0\u001b[0m                        \u001b[33m0.61.0          r41hcfec24a_0\u001b[0m\n",
      "r-memoise                                  \u001b[31m2.0.1           r42hc72bb7e_1\u001b[0m                        \u001b[31mnull            null\u001b[0m\n",
      "r-mgcv                                     \u001b[33m1.8_41          r42h5f7b363_0\u001b[0m                        \u001b[33m1.8_38          r41he454529_0\u001b[0m\n",
      "r-mime                                     \u001b[33m0.12            r42h06615bd_1\u001b[0m                        \u001b[33m0.12            r41hcfec24a_0\u001b[0m\n",
      "r-miniui                                   \u001b[31m0.1.1.1         r42hc72bb7e_1003\u001b[0m                     \u001b[31mnull            null\u001b[0m\n",
      "r-modeldata                                \u001b[33m1.0.1           r42hc72bb7e_1\u001b[0m                        \u001b[33m0.1.1           r41hc72bb7e_0\u001b[0m\n",
      "r-modelr                                   \u001b[31mnull            null\u001b[0m                                 \u001b[31m0.1.8           r41hc72bb7e_0\u001b[0m\n",
      "\u001b[35mr-monocle3\u001b[0m                                 \u001b[33m1.0.0           r42h9f5acd7_3\u001b[0m                        \u001b[33m1.0.0           r41h7d875b9_1\u001b[0m\n",
      "r-munsell                                  \u001b[33m0.5.0           r42hc72bb7e_1005\u001b[0m                     \u001b[33m0.5.0           r41hc72bb7e_1003\u001b[0m\n",
      "r-nlme                                     \u001b[33m3.1_160         r42h8da6f51_0\u001b[0m                        \u001b[33m3.1_153         r41h859d828_0\u001b[0m\n",
      "r-npsurv                                   \u001b[31m0.5_0           r42hc72bb7e_1\u001b[0m                        \u001b[31mnull            null\u001b[0m\n",
      "r-openssl                                  \u001b[33m2.0.4           r42hfaab4ff_0\u001b[0m                        \u001b[33m1.4.5           r41he36bf35_1\u001b[0m\n",
      "r-paralleldist                             \u001b[31mnull            null\u001b[0m                                 \u001b[31m0.2.6           r41h03ef668_0\u001b[0m\n",
      "r-parallelly                               \u001b[33m1.32.1          r42hc72bb7e_1\u001b[0m                        \u001b[33m1.28.1          r41hc72bb7e_0\u001b[0m\n",
      "r-patchwork                                \u001b[31m1.1.2           r42hc72bb7e_1\u001b[0m                        \u001b[31mnull            null\u001b[0m\n",
      "\u001b[35mr-pbapply\u001b[0m                                  \u001b[33m1.6_0           r42hc72bb7e_0\u001b[0m                        \u001b[33m1.5_0           r41hc72bb7e_0\u001b[0m\n",
      "\u001b[35mr-pbmcapply\u001b[0m                                \u001b[33m1.5.1           r42h06615bd_1\u001b[0m                        \u001b[33m1.5.0           r41hcfec24a_1\u001b[0m\n",
      "\u001b[35mr-pheatmap\u001b[0m                                 \u001b[33m1.0.12          r42hc72bb7e_3\u001b[0m                        \u001b[33m1.0.12          r41hc72bb7e_2\u001b[0m\n",
      "r-pillar                                   \u001b[33m1.8.1           r42hc72bb7e_1\u001b[0m                        \u001b[33m1.6.4           r41hc72bb7e_0\u001b[0m\n",
      "r-pkgconfig                                \u001b[33m2.0.3           r42hc72bb7e_2\u001b[0m                        \u001b[33m2.0.3           r41hc72bb7e_1\u001b[0m\n",
      "r-pkgload                                  \u001b[33m1.3.2           r42hc72bb7e_0\u001b[0m                        \u001b[33m1.2.3           r41h03ef668_0\u001b[0m\n",
      "\u001b[35mr-plotly\u001b[0m                                   \u001b[33m4.10.1          r42hc72bb7e_0\u001b[0m                        \u001b[33m4.10.0          r41hc72bb7e_0\u001b[0m\n",
      "\u001b[35mr-plyr\u001b[0m                                     \u001b[33m1.8.8           r42h7525677_0\u001b[0m                        \u001b[33m1.8.6           r41h03ef668_1\u001b[0m\n",
      "r-png                                      \u001b[33m0.1_7           r42h06615bd_1006\u001b[0m                     \u001b[33m0.1_7           r41hcfec24a_1004\u001b[0m\n",
      "r-polychrome                               \u001b[31mnull            null\u001b[0m                                 \u001b[31m1.3.1           r41hc72bb7e_0\u001b[0m\n",
      "r-polyclip                                 \u001b[31m1.10_4          r42h7525677_0\u001b[0m                        \u001b[31mnull            null\u001b[0m\n",
      "r-praise                                   \u001b[33m1.0.0           r42hc72bb7e_1006\u001b[0m                     \u001b[33m1.0.0           r41hc72bb7e_1004\u001b[0m\n",
      "r-prettyunits                              \u001b[33m1.1.1           r42hc72bb7e_2\u001b[0m                        \u001b[33m1.1.1           r41hc72bb7e_1\u001b[0m\n",
      "r-processx                                 \u001b[33m3.8.0           r42h06615bd_0\u001b[0m                        \u001b[33m3.5.2           r41hcfec24a_0\u001b[0m\n",
      "r-progress                                 \u001b[31mnull            null\u001b[0m                                 \u001b[31m1.2.2           r41hc72bb7e_2\u001b[0m\n",
      "r-progressr                                \u001b[31m0.11.0          r42hc72bb7e_1\u001b[0m                        \u001b[31mnull            null\u001b[0m\n",
      "r-promises                                 \u001b[33m1.2.0.1         r42h7525677_1\u001b[0m                        \u001b[33m1.2.0.1         r41h03ef668_0\u001b[0m\n",
      "\u001b[35mr-proxy\u001b[0m                                    \u001b[33m0.4_27          r42h06615bd_1\u001b[0m                        \u001b[33m0.4_26          r41hcfec24a_0\u001b[0m\n",
      "\u001b[35mr-pryr\u001b[0m                                     \u001b[33m0.1.5           r42h7525677_1\u001b[0m                        \u001b[33m0.1.5           r41h03ef668_0\u001b[0m\n",
      "r-ps                                       \u001b[33m1.7.2           r42h06615bd_0\u001b[0m                        \u001b[33m1.6.0           r41hcfec24a_0\u001b[0m\n",
      "\u001b[35mr-pscl\u001b[0m                                     \u001b[33m1.5.5           r42h166bdaf_2\u001b[0m                        \u001b[33m1.5.5           r41h7f98852_1\u001b[0m\n",
      "\u001b[35mr-purrr\u001b[0m                                    \u001b[33m0.3.5           r42h06615bd_1\u001b[0m                        \u001b[33m0.3.4           r41hcfec24a_1\u001b[0m\n",
      "r-qap                                      \u001b[31mnull            null\u001b[0m                                 \u001b[31m0.1_1           r41h859d828_1006\u001b[0m\n",
      "r-r.cache                                  \u001b[31mnull            null\u001b[0m                                 \u001b[31m0.15.0          r41hc72bb7e_0\u001b[0m\n",
      "r-r.methodss3                              \u001b[31mnull            null\u001b[0m                                 \u001b[31m1.8.1           r41hc72bb7e_0\u001b[0m\n",
      "r-r.oo                                     \u001b[31mnull            null\u001b[0m                                 \u001b[31m1.24.0          r41hc72bb7e_0\u001b[0m\n",
      "r-r.utils                                  \u001b[31mnull            null\u001b[0m                                 \u001b[31m2.11.0          r41hc72bb7e_0\u001b[0m\n",
      "r-r6                                       \u001b[33m2.5.1           r42hc72bb7e_1\u001b[0m                        \u001b[33m2.5.1           r41hc72bb7e_0\u001b[0m\n",
      "\u001b[35mr-rann\u001b[0m                                     \u001b[33m2.6.1           r42h7525677_3\u001b[0m                        \u001b[33m2.6.1           r41h03ef668_2\u001b[0m\n",
      "r-rappdirs                                 \u001b[33m0.3.3           r42h06615bd_1\u001b[0m                        \u001b[33m0.3.3           r41hcfec24a_0\u001b[0m\n",
      "r-raster                                   \u001b[33m3.5_21          r42h7525677_1\u001b[0m                        \u001b[33m3.5_2           r41h03ef668_0\u001b[0m\n",
      "r-rcolorbrewer                             \u001b[33m1.1_3           r42h785f33e_1\u001b[0m                        \u001b[33m1.1_2           r41h785f33e_1003\u001b[0m\n",
      "\u001b[35mr-rcpp\u001b[0m                                     \u001b[33m1.0.9           r42h7525677_2\u001b[0m                        \u001b[33m1.0.7           r41h03ef668_0\u001b[0m\n",
      "r-rcppannoy                                \u001b[33m0.0.20          r42h7525677_0\u001b[0m                        \u001b[33m0.0.19          r41h03ef668_0\u001b[0m\n",
      "r-rcpparmadillo                            \u001b[33m0.11.4.2.1      r42h9f5de39_0\u001b[0m                        \u001b[33m0.10.8.1.0      r41h306847c_0\u001b[0m\n",
      "r-rcppeigen                                \u001b[33m0.3.3.9.3       r42h9f5de39_0\u001b[0m                        \u001b[33m0.3.3.9.1       r41h306847c_0\u001b[0m\n",
      "r-rcpphnsw                                 \u001b[33m0.4.1           r42h7525677_1\u001b[0m                        \u001b[33m0.3.0           r41h03ef668_0\u001b[0m\n",
      "\u001b[35mr-rcppparallel\u001b[0m                             \u001b[33m5.1.5           r42h7525677_1\u001b[0m                        \u001b[33m5.1.4           r41h03ef668_0\u001b[0m\n",
      "r-rcppprogress                             \u001b[33m0.4.2           r42hc72bb7e_2\u001b[0m                        \u001b[33m0.4.2           r41hc72bb7e_1\u001b[0m\n",
      "r-rcpptoml                                 \u001b[31m0.1.7           r42h7525677_2\u001b[0m                        \u001b[31mnull            null\u001b[0m\n",
      "r-rcurl                                    \u001b[33m1.98_1.9        r42h06615bd_1\u001b[0m                        \u001b[33m1.98_1.5        r41hcfec24a_0\u001b[0m\n",
      "r-readr                                    \u001b[31mnull            null\u001b[0m                                 \u001b[31m2.0.2           r41h03ef668_0\u001b[0m\n",
      "r-readxl                                   \u001b[31mnull            null\u001b[0m                                 \u001b[31m1.3.1           r41h2713e49_4\u001b[0m\n",
      "r-registry                                 \u001b[31mnull            null\u001b[0m                                 \u001b[31m0.5_1           r41hc72bb7e_2\u001b[0m\n",
      "r-rematch                                  \u001b[31mnull            null\u001b[0m                                 \u001b[31m1.0.1           r41hc72bb7e_1003\u001b[0m\n",
      "r-rematch2                                 \u001b[33m2.1.2           r42hc72bb7e_2\u001b[0m                        \u001b[33m2.1.2           r41hc72bb7e_1\u001b[0m\n",
      "r-remotes                                  \u001b[31mnull            null\u001b[0m                                 \u001b[31m2.4.2           r41hc72bb7e_0\u001b[0m\n",
      "r-reprex                                   \u001b[31mnull            null\u001b[0m                                 \u001b[31m2.0.1           r41hc72bb7e_0\u001b[0m\n",
      "\u001b[35mr-reshape2\u001b[0m                                 \u001b[33m1.4.4           r42h7525677_2\u001b[0m                        \u001b[33m1.4.4           r41h03ef668_1\u001b[0m\n",
      "\u001b[35mr-reticulate\u001b[0m                               \u001b[33m1.26            r42h7525677_1\u001b[0m                        \u001b[33m1.22            r41h03ef668_0\u001b[0m\n",
      "r-rex                                      \u001b[31mnull            null\u001b[0m                                 \u001b[31m1.2.1           r41hc72bb7e_0\u001b[0m\n",
      "r-rgeos                                    \u001b[31m0.5_9           r42hf730bdb_4\u001b[0m                        \u001b[31mnull            null\u001b[0m\n",
      "\u001b[35mr-rhpcblasctl\u001b[0m                              \u001b[33m0.21_247.1      r42h06615bd_1\u001b[0m                        \u001b[33m0.21_247        r41hcfec24a_0\u001b[0m\n",
      "r-rlang                                    \u001b[33m1.0.6           r42h7525677_1\u001b[0m                        \u001b[33m0.4.12          r41hcfec24a_0\u001b[0m\n",
      "\u001b[35mr-rmarkdown\u001b[0m                                \u001b[33m2.18            r42hc72bb7e_0\u001b[0m                        \u001b[33m2.11            r41hc72bb7e_0\u001b[0m\n",
      "r-rocr                                     \u001b[31m1.0_11          r42hc72bb7e_2\u001b[0m                        \u001b[31mnull            null\u001b[0m\n",
      "r-rprojroot                                \u001b[33m2.0.3           r42hc72bb7e_1\u001b[0m                        \u001b[33m2.0.2           r41hc72bb7e_0\u001b[0m\n",
      "\u001b[35mr-rsample\u001b[0m                                  \u001b[33m1.1.0           r42hc72bb7e_1\u001b[0m                        \u001b[33m0.1.0           r41hc72bb7e_0\u001b[0m\n",
      "r-rspectra                                 \u001b[33m0.16_1          r42h9f5de39_1\u001b[0m                        \u001b[33m0.16_0          r41h306847c_4\u001b[0m\n",
      "r-rstudioapi                               \u001b[31mnull            null\u001b[0m                                 \u001b[31m0.13            r41hc72bb7e_0\u001b[0m\n",
      "r-rsvd                                     \u001b[33m1.0.5           r42hc72bb7e_1\u001b[0m                        \u001b[33m1.0.5           r41hc72bb7e_0\u001b[0m\n",
      "\u001b[35mr-rtsne\u001b[0m                                    \u001b[33m0.16            r42h37cf8d7_1\u001b[0m                        \u001b[33m0.15            r41h6dc32e9_3\u001b[0m\n",
      "r-rvest                                    \u001b[31mnull            null\u001b[0m                                 \u001b[31m1.0.2           r41hc72bb7e_0\u001b[0m\n",
      "r-s2                                       \u001b[33m1.1.1           r42h438afc9_0\u001b[0m                        \u001b[33m1.0.7           r41h42b9fc4_1\u001b[0m\n",
      "r-sass                                     \u001b[33m0.4.2           r42h7525677_1\u001b[0m                        \u001b[33m0.4.0           r41h03ef668_0\u001b[0m\n",
      "r-scales                                   \u001b[33m1.2.1           r42hc72bb7e_1\u001b[0m                        \u001b[33m1.1.1           r41hc72bb7e_0\u001b[0m\n",
      "r-scattermore                              \u001b[31m0.8             r42h06615bd_1\u001b[0m                        \u001b[31mnull            null\u001b[0m\n",
      "r-scatterplot3d                            \u001b[31mnull            null\u001b[0m                                 \u001b[31m0.3_41          r41hc72bb7e_1003\u001b[0m\n",
      "r-sceasy                                   \u001b[31m0.0.7           r42hdfd78af_1\u001b[0m                        \u001b[31mnull            null\u001b[0m\n",
      "r-sctransform                              \u001b[31m0.3.5           r42h9f5de39_1\u001b[0m                        \u001b[31mnull            null\u001b[0m\n",
      "r-selectr                                  \u001b[31mnull            null\u001b[0m                                 \u001b[31m0.4_2           r41hc72bb7e_1\u001b[0m\n",
      "r-seriation                                \u001b[31mnull            null\u001b[0m                                 \u001b[31m1.3.2           r41h859d828_0\u001b[0m\n",
      "r-seurat                                   \u001b[31m4.3.0           r42h7525677_0\u001b[0m                        \u001b[31mnull            null\u001b[0m\n",
      "r-seuratobject                             \u001b[31m4.1.3           r42h7525677_0\u001b[0m                        \u001b[31mnull            null\u001b[0m\n",
      "r-sf                                       \u001b[33m1.0_7           r42h25da31b_5\u001b[0m                        \u001b[33m1.0_3           r41hc926485_0\u001b[0m\n",
      "\u001b[35mr-shiny\u001b[0m                                    \u001b[33m1.7.3           r42h785f33e_0\u001b[0m                        \u001b[33m1.7.1           r41h785f33e_0\u001b[0m\n",
      "r-sitmo                                    \u001b[33m2.0.2           r42h7525677_1\u001b[0m                        \u001b[33m2.0.2           r41h03ef668_0\u001b[0m\n",
      "\u001b[35mr-slam\u001b[0m                                     \u001b[33m0.1_50          r42h64d53c3_2\u001b[0m                        \u001b[33m0.1_48          r41hbfbffee_0\u001b[0m\n",
      "r-slider                                   \u001b[33m0.3.0           r42h06615bd_0\u001b[0m                        \u001b[33m0.2.2           r41hcfec24a_0\u001b[0m\n",
      "r-snow                                     \u001b[33m0.4_4           r42hc72bb7e_1\u001b[0m                        \u001b[33m0.4_4           r41hc72bb7e_0\u001b[0m\n",
      "r-sourcetools                              \u001b[33m0.1.7           r42h7525677_1003\u001b[0m                     \u001b[33m0.1.7           r41h9c3ff4c_1002\u001b[0m\n",
      "r-sp                                       \u001b[33m1.5_1           r42h06615bd_0\u001b[0m                        \u001b[33m1.4_5           r41hcfec24a_0\u001b[0m\n",
      "r-spatstat.data                            \u001b[31m3.0_0           r42hc72bb7e_0\u001b[0m                        \u001b[31mnull            null\u001b[0m\n",
      "r-spatstat.explore                         \u001b[31m3.0_5           r42h06615bd_0\u001b[0m                        \u001b[31mnull            null\u001b[0m\n",
      "r-spatstat.geom                            \u001b[31m3.0_3           r42h06615bd_0\u001b[0m                        \u001b[31mnull            null\u001b[0m\n",
      "r-spatstat.random                          \u001b[31m3.0_1           r42h7525677_0\u001b[0m                        \u001b[31mnull            null\u001b[0m\n",
      "r-spatstat.sparse                          \u001b[31m3.0_0           r42h06615bd_0\u001b[0m                        \u001b[31mnull            null\u001b[0m\n",
      "r-spatstat.utils                           \u001b[31m3.0_1           r42h06615bd_0\u001b[0m                        \u001b[31mnull            null\u001b[0m\n",
      "r-spdata                                   \u001b[33m2.2.1           r42hc72bb7e_0\u001b[0m                        \u001b[33m2.0.1           r41hc72bb7e_0\u001b[0m\n",
      "\u001b[35mr-spdep\u001b[0m                                    \u001b[33m1.2_7           r42h06615bd_1\u001b[0m                        \u001b[33m1.1_11          r41hbfbffee_1\u001b[0m\n",
      "\u001b[35mr-speedglm\u001b[0m                                 \u001b[33m0.3_4           r42hc72bb7e_1\u001b[0m                        \u001b[33m0.3_3           r41hc72bb7e_0\u001b[0m\n",
      "\u001b[35mr-spelling\u001b[0m                                 \u001b[33m2.2             r42hc72bb7e_1\u001b[0m                        \u001b[33m2.2             r41hc72bb7e_0\u001b[0m\n",
      "r-stringdist                               \u001b[31mnull            null\u001b[0m                                 \u001b[31m0.9.8           r41hcfec24a_1\u001b[0m\n",
      "r-stringi                                  \u001b[33m1.7.8           r42h30a9eb7_1\u001b[0m                        \u001b[33m1.7.5           r41hcabe038_0\u001b[0m\n",
      "\u001b[35mr-stringr\u001b[0m                                  \u001b[33m1.4.1           r42hc72bb7e_1\u001b[0m                        \u001b[33m1.4.0           r41hc72bb7e_2\u001b[0m\n",
      "r-styler                                   \u001b[31mnull            null\u001b[0m                                 \u001b[31m1.6.2           r41hc72bb7e_0\u001b[0m\n",
      "r-survival                                 \u001b[31m3.4_0           r42h06615bd_1\u001b[0m                        \u001b[31mnull            null\u001b[0m\n",
      "r-sys                                      \u001b[33m3.4.1           r42h06615bd_0\u001b[0m                        \u001b[33m3.4             r41hcfec24a_0\u001b[0m\n",
      "r-tensor                                   \u001b[31m1.5             r42hc72bb7e_1004\u001b[0m                     \u001b[31mnull            null\u001b[0m\n",
      "r-terra                                    \u001b[33m1.5_21          r42hb287aa1_7\u001b[0m                        \u001b[33m1.4_11          r41h15fcf7b_1\u001b[0m\n",
      "\u001b[35mr-testthat\u001b[0m                                 \u001b[33m3.1.5           r42h7525677_1\u001b[0m                        \u001b[33m3.1.0           r41h03ef668_0\u001b[0m\n",
      "\u001b[35mr-tibble\u001b[0m                                   \u001b[33m3.1.8           r42h06615bd_1\u001b[0m                        \u001b[33m3.1.5           r41hcfec24a_0\u001b[0m\n",
      "\u001b[35mr-tidyr\u001b[0m                                    \u001b[33m1.2.1           r42h7525677_1\u001b[0m                        \u001b[33m1.1.4           r41h03ef668_0\u001b[0m\n",
      "r-tidyselect                               \u001b[33m1.2.0           r42hc72bb7e_0\u001b[0m                        \u001b[33m1.1.1           r41hc72bb7e_0\u001b[0m\n",
      "r-tidyverse                                \u001b[31mnull            null\u001b[0m                                 \u001b[31m1.3.1           r41hc72bb7e_0\u001b[0m\n",
      "r-tinytex                                  \u001b[33m0.42            r42hc72bb7e_1\u001b[0m                        \u001b[33m0.34            r41hc72bb7e_0\u001b[0m\n",
      "r-tsp                                      \u001b[31mnull            null\u001b[0m                                 \u001b[31m1.2_0           r41h06615bd_0\u001b[0m\n",
      "r-tzdb                                     \u001b[31mnull            null\u001b[0m                                 \u001b[31m0.2.0           r41h03ef668_0\u001b[0m\n",
      "r-units                                    \u001b[33m0.8_0           r42h7525677_1\u001b[0m                        \u001b[33m0.7_2           r41h03ef668_0\u001b[0m\n",
      "r-utf8                                     \u001b[33m1.2.2           r42h06615bd_1\u001b[0m                        \u001b[33m1.2.2           r41hcfec24a_0\u001b[0m\n",
      "r-uuid                                     \u001b[31mnull            null\u001b[0m                                 \u001b[31m1.0_2           r41hcfec24a_0\u001b[0m\n",
      "\u001b[35mr-uwot\u001b[0m                                     \u001b[33m0.1.14          r42h7525677_1\u001b[0m                        \u001b[33m0.1.10          r41h03ef668_0\u001b[0m\n",
      "r-vctrs                                    \u001b[33m0.5.1           r42h7525677_0\u001b[0m                        \u001b[33m0.3.8           r41hcfec24a_1\u001b[0m\n",
      "\u001b[35mr-viridis\u001b[0m                                  \u001b[33m0.6.2           r42hc72bb7e_1\u001b[0m                        \u001b[33m0.6.2           r41hc72bb7e_0\u001b[0m\n",
      "r-viridislite                              \u001b[33m0.4.1           r42hc72bb7e_1\u001b[0m                        \u001b[33m0.4.0           r41hc72bb7e_0\u001b[0m\n",
      "r-vroom                                    \u001b[31mnull            null\u001b[0m                                 \u001b[31m1.5.5           r41h03ef668_1\u001b[0m\n",
      "r-waldo                                    \u001b[33m0.4.0           r42hc72bb7e_1\u001b[0m                        \u001b[33m0.3.1           r41hc72bb7e_0\u001b[0m\n",
      "r-warp                                     \u001b[33m0.2.0           r42h06615bd_2\u001b[0m                        \u001b[33m0.2.0           r41hcfec24a_1\u001b[0m\n",
      "r-withr                                    \u001b[33m2.5.0           r42hc72bb7e_1\u001b[0m                        \u001b[33m2.4.2           r41hc72bb7e_0\u001b[0m\n",
      "r-wk                                       \u001b[33m0.7.0           r42h7525677_0\u001b[0m                        \u001b[33m0.5.0           r41h03ef668_0\u001b[0m\n",
      "r-xfun                                     \u001b[33m0.35            r42h7525677_0\u001b[0m                        \u001b[33m0.27            r41h03ef668_0\u001b[0m\n",
      "r-xml2                                     \u001b[33m1.3.3           r42h044e5c7_2\u001b[0m                        \u001b[33m1.3.2           r41h03ef668_1\u001b[0m\n",
      "r-xmlparsedata                             \u001b[31mnull            null\u001b[0m                                 \u001b[31m1.0.5           r41hc72bb7e_0\u001b[0m\n",
      "r-xtable                                   \u001b[33m1.8_4           r42hc72bb7e_4\u001b[0m                        \u001b[33m1.8_4           r41hc72bb7e_3\u001b[0m\n",
      "r-yaml                                     \u001b[33m2.3.6           r42h06615bd_0\u001b[0m                        \u001b[33m2.2.1           r41hcfec24a_1\u001b[0m\n",
      "r-zoo                                      \u001b[33m1.8_11          r42h06615bd_1\u001b[0m                        \u001b[33m1.8_9           r41hcfec24a_1\u001b[0m\n",
      "rapidfuzz                                  \u001b[31m2.13.2          py39h5a03fae_0\u001b[0m                       \u001b[31mnull            null\u001b[0m\n",
      "readline                                   \u001b[33m8.1.2           h0f457ee_0\u001b[0m                           \u001b[33m8.1             h46c0cb4_0\u001b[0m\n",
      "scalapack                                  \u001b[31m2.2.0           hd931219_1\u001b[0m                           \u001b[31mnull            null\u001b[0m\n",
      "scanpy                                     \u001b[31m1.7.0           py_0\u001b[0m                                 \u001b[31mnull            null\u001b[0m\n",
      "scikit-learn                               \u001b[31m1.1.3           py39hd5c8da3_1\u001b[0m                       \u001b[31mnull            null\u001b[0m\n",
      "scipy                                      \u001b[33m1.9.3           py39hddc5342_2\u001b[0m                       \u001b[33m1.7.2           py39hee8e79c_0\u001b[0m\n",
      "scirpy                                     \u001b[31m0.6.1           py_0\u001b[0m                                 \u001b[31mnull            null\u001b[0m\n",
      "scotch                                     \u001b[31m6.0.9           hb2e6521_2\u001b[0m                           \u001b[31mnull            null\u001b[0m\n",
      "sctk\u001b[31m **pip**\u001b[0m                               \u001b[31m0.1.0           unspecified\u001b[0m                          \u001b[31mnull            null\u001b[0m\n",
      "scvelo                                     \u001b[31m0.2.5           pyhdfd78af_0\u001b[0m                         \u001b[31mnull            null\u001b[0m\n",
      "seaborn                                    \u001b[31m0.12.1          hd8ed1ab_0\u001b[0m                           \u001b[31mnull            null\u001b[0m\n",
      "seaborn-base                               \u001b[31m0.12.1          pyhd8ed1ab_0\u001b[0m                         \u001b[31mnull            null\u001b[0m\n",
      "sed                                        \u001b[32m4.8             he412f7d_0\u001b[0m                           \u001b[32m4.8             he412f7d_0\u001b[0m\n",
      "setuptools                                 \u001b[33m65.5.1          pyhd8ed1ab_0\u001b[0m                         \u001b[33m59.1.1          py39hf3d152e_0\u001b[0m\n",
      "setuptools-scm                             \u001b[31m7.0.5           pyhd8ed1ab_1\u001b[0m                         \u001b[31mnull            null\u001b[0m\n",
      "setuptools_scm                             \u001b[31m7.0.5           hd8ed1ab_1\u001b[0m                           \u001b[31mnull            null\u001b[0m\n",
      "sinfo                                      \u001b[31m0.3.1           py_0\u001b[0m                                 \u001b[31mnull            null\u001b[0m\n",
      "sip                                        \u001b[31m6.7.4           py39h5a03fae_0\u001b[0m                       \u001b[31mnull            null\u001b[0m\n",
      "six                                        \u001b[32m1.16.0          pyh6c4a22f_0\u001b[0m                         \u001b[32m1.16.0          pyh6c4a22f_0\u001b[0m\n",
      "slepc                                      \u001b[31m3.18.1          real_h9c84b4d_100\u001b[0m                    \u001b[31mnull            null\u001b[0m\n",
      "slepc4py                                   \u001b[31m3.18.1          real_hd6cab8d_100\u001b[0m                    \u001b[31mnull            null\u001b[0m\n",
      "snappy                                     \u001b[31m1.1.9           hbd366e4_2\u001b[0m                           \u001b[31mnull            null\u001b[0m\n",
      "sqlite                                     \u001b[33m3.40.0          h4ff8645_0\u001b[0m                           \u001b[33m3.36.0          h9cd32fc_2\u001b[0m\n",
      "squarify                                   \u001b[31m0.4.3           py_0\u001b[0m                                 \u001b[31mnull            null\u001b[0m\n",
      "stack_data                                 \u001b[31m0.6.1           pyhd8ed1ab_0\u001b[0m                         \u001b[31mnull            null\u001b[0m\n",
      "statsmodels                                \u001b[31m0.13.5          py39h2ae25f5_2\u001b[0m                       \u001b[31mnull            null\u001b[0m\n",
      "stdlib-list                                \u001b[31m0.8.0           pyhd8ed1ab_0\u001b[0m                         \u001b[31mnull            null\u001b[0m\n",
      "suitesparse                                \u001b[31m5.10.1          h9e50725_1\u001b[0m                           \u001b[31mnull            null\u001b[0m\n",
      "superlu                                    \u001b[31m5.2.2           h00795ac_0\u001b[0m                           \u001b[31mnull            null\u001b[0m\n",
      "superlu_dist                               \u001b[31m7.2.0           h25dcc4a_0\u001b[0m                           \u001b[31mnull            null\u001b[0m\n",
      "sysroot_linux-64                           \u001b[33m2.12            he073ed8_15\u001b[0m                          \u001b[33m2.12            he073ed8_14\u001b[0m\n",
      "tbb                                        \u001b[31m2021.7.0        h924138e_0\u001b[0m                           \u001b[31mnull            null\u001b[0m\n",
      "texttable                                  \u001b[31m1.6.4           pyhd8ed1ab_0\u001b[0m                         \u001b[31mnull            null\u001b[0m\n",
      "threadpoolctl                              \u001b[31m3.1.0           pyh8a188c0_0\u001b[0m                         \u001b[31mnull            null\u001b[0m\n",
      "tiledb                                     \u001b[33m2.11.3          h1e4a385_1\u001b[0m                           \u001b[33m2.3.4           he87e0bf_0\u001b[0m\n",
      "tk                                         \u001b[33m8.6.12          h27826a3_0\u001b[0m                           \u001b[33m8.6.11          h27826a3_1\u001b[0m\n",
      "tktable                                    \u001b[32m2.10            hb7b940f_3\u001b[0m                           \u001b[32m2.10            hb7b940f_3\u001b[0m\n",
      "tokenize-rt                                \u001b[31m5.0.0           pyhd8ed1ab_0\u001b[0m                         \u001b[31mnull            null\u001b[0m\n",
      "toml                                       \u001b[31m0.10.2          pyhd8ed1ab_0\u001b[0m                         \u001b[31mnull            null\u001b[0m\n",
      "tomli                                      \u001b[31m2.0.1           pyhd8ed1ab_0\u001b[0m                         \u001b[31mnull            null\u001b[0m\n",
      "tornado                                    \u001b[31m6.2             py39hb9d737c_1\u001b[0m                       \u001b[31mnull            null\u001b[0m\n",
      "tqdm                                       \u001b[31m4.64.1          pyhd8ed1ab_0\u001b[0m                         \u001b[31mnull            null\u001b[0m\n",
      "traitlets                                  \u001b[31m5.5.0           pyhd8ed1ab_0\u001b[0m                         \u001b[31mnull            null\u001b[0m\n",
      "typing-extensions                          \u001b[31m4.4.0           hd8ed1ab_0\u001b[0m                           \u001b[31mnull            null\u001b[0m\n",
      "typing_extensions                          \u001b[31m4.4.0           pyha770c72_0\u001b[0m                         \u001b[31mnull            null\u001b[0m\n",
      "tzcode                                     \u001b[33m2022f           h166bdaf_0\u001b[0m                           \u001b[33m2021e           h7f98852_0\u001b[0m\n",
      "tzdata                                     \u001b[33m2022f           h191b570_0\u001b[0m                           \u001b[33m2021e           he74cb21_0\u001b[0m\n",
      "tzlocal                                    \u001b[31m4.2             py39hf3d152e_2\u001b[0m                       \u001b[31mnull            null\u001b[0m\n",
      "udunits2                                   \u001b[33m2.2.28          hc3e0081_0\u001b[0m                           \u001b[33m2.2.27.27       hc3e0081_2\u001b[0m\n",
      "umap-learn                                 \u001b[31m0.5.1           py39hf3d152e_1\u001b[0m                       \u001b[31mnull            null\u001b[0m\n",
      "unicodedata2                               \u001b[31m15.0.0          py39hb9d737c_0\u001b[0m                       \u001b[31mnull            null\u001b[0m\n",
      "wcwidth                                    \u001b[31m0.2.5           pyh9f0ad1d_2\u001b[0m                         \u001b[31mnull            null\u001b[0m\n",
      "wheel                                      \u001b[33m0.38.4          pyhd8ed1ab_0\u001b[0m                         \u001b[33m0.37.0          pyhd8ed1ab_1\u001b[0m\n",
      "widgetsnbextension                         \u001b[31m4.0.3           pyhd8ed1ab_0\u001b[0m                         \u001b[31mnull            null\u001b[0m\n",
      "wrapt                                      \u001b[31m1.14.1          py39hb9d737c_1\u001b[0m                       \u001b[31mnull            null\u001b[0m\n",
      "xcb-util                                   \u001b[31m0.4.0           h516909a_0\u001b[0m                           \u001b[31mnull            null\u001b[0m\n",
      "xcb-util-image                             \u001b[31m0.4.0           h166bdaf_0\u001b[0m                           \u001b[31mnull            null\u001b[0m\n",
      "xcb-util-keysyms                           \u001b[31m0.4.0           h516909a_0\u001b[0m                           \u001b[31mnull            null\u001b[0m\n",
      "xcb-util-renderutil                        \u001b[31m0.3.9           h166bdaf_0\u001b[0m                           \u001b[31mnull            null\u001b[0m\n",
      "xcb-util-wm                                \u001b[31m0.4.1           h516909a_0\u001b[0m                           \u001b[31mnull            null\u001b[0m\n",
      "xerces-c                                   \u001b[33m3.2.4           h55805fa_1\u001b[0m                           \u001b[33m3.2.3           h9d8b166_3\u001b[0m\n",
      "xmltodict                                  \u001b[31m0.13.0          pyhd8ed1ab_0\u001b[0m                         \u001b[31mnull            null\u001b[0m\n",
      "xorg-kbproto                               \u001b[32m1.0.7           h7f98852_1002\u001b[0m                        \u001b[32m1.0.7           h7f98852_1002\u001b[0m\n",
      "xorg-libice                                \u001b[32m1.0.10          h7f98852_0\u001b[0m                           \u001b[32m1.0.10          h7f98852_0\u001b[0m\n",
      "xorg-libsm                                 \u001b[32m1.2.3           hd9c2040_1000\u001b[0m                        \u001b[32m1.2.3           hd9c2040_1000\u001b[0m\n",
      "xorg-libx11                                \u001b[32m1.7.2           h7f98852_0\u001b[0m                           \u001b[32m1.7.2           h7f98852_0\u001b[0m\n",
      "xorg-libxau                                \u001b[32m1.0.9           h7f98852_0\u001b[0m                           \u001b[32m1.0.9           h7f98852_0\u001b[0m\n",
      "xorg-libxdmcp                              \u001b[32m1.1.3           h7f98852_0\u001b[0m                           \u001b[32m1.1.3           h7f98852_0\u001b[0m\n",
      "xorg-libxext                               \u001b[32m1.3.4           h7f98852_1\u001b[0m                           \u001b[32m1.3.4           h7f98852_1\u001b[0m\n",
      "xorg-libxrender                            \u001b[32m0.9.10          h7f98852_1003\u001b[0m                        \u001b[32m0.9.10          h7f98852_1003\u001b[0m\n",
      "xorg-libxt                                 \u001b[32m1.2.1           h7f98852_2\u001b[0m                           \u001b[32m1.2.1           h7f98852_2\u001b[0m\n",
      "xorg-renderproto                           \u001b[32m0.11.1          h7f98852_1002\u001b[0m                        \u001b[32m0.11.1          h7f98852_1002\u001b[0m\n",
      "xorg-xextproto                             \u001b[32m7.3.0           h7f98852_1002\u001b[0m                        \u001b[32m7.3.0           h7f98852_1002\u001b[0m\n",
      "xorg-xproto                                \u001b[32m7.0.31          h7f98852_1007\u001b[0m                        \u001b[32m7.0.31          h7f98852_1007\u001b[0m\n",
      "xz                                         \u001b[33m5.2.6           h166bdaf_0\u001b[0m                           \u001b[33m5.2.5           h516909a_1\u001b[0m\n",
      "yaml                                       \u001b[31m0.2.5           h7f98852_2\u001b[0m                           \u001b[31mnull            null\u001b[0m\n",
      "yamlordereddictloader                      \u001b[31m0.4.0           py_0\u001b[0m                                 \u001b[31mnull            null\u001b[0m\n",
      "yq                                         \u001b[31m2.13.0          pyhd8ed1ab_0\u001b[0m                         \u001b[31mnull            null\u001b[0m\n",
      "zeromq                                     \u001b[31m4.3.4           h9c3ff4c_1\u001b[0m                           \u001b[31mnull            null\u001b[0m\n",
      "zipp                                       \u001b[31m3.10.0          pyhd8ed1ab_0\u001b[0m                         \u001b[31mnull            null\u001b[0m\n",
      "zlib                                       \u001b[33m1.2.13          h166bdaf_4\u001b[0m                           \u001b[33m1.2.11          h36c2ea0_1013\u001b[0m\n",
      "zstd                                       \u001b[33m1.5.2           h6239696_4\u001b[0m                           \u001b[33m1.5.0           ha95c52a_0\u001b[0m\n"
     ]
    }
   ],
   "source": [
    "crossref_2_envs(str(Path(root, 'logs', 'FCA_base_monocle3_sb.yml').resolve()), \n",
    "                str(Path(root, 'logs', 'monocle3.yml').resolve()), \n",
    "                dependencies+['r-monocle3'], compare_build=True) # try compare_build=True if you think the build difference maybe important"
   ]
  },
  {
   "cell_type": "markdown",
   "id": "processed-document",
   "metadata": {},
   "source": [
    "```sceasy``` not found in ```monocle3```!"
   ]
  },
  {
   "cell_type": "markdown",
   "id": "respective-syndication",
   "metadata": {},
   "source": [
    "Do the above process done for ```FCA_base``` for ```monocle3``` but this time add all the packages to the ```fussy_deps``` and then add ```r-sceasy``` without a specified version to the created ```monocle3.sh``` file. "
   ]
  },
  {
   "cell_type": "code",
   "execution_count": 234,
   "id": "pressed-tactics",
   "metadata": {
    "execution": {
     "iopub.execute_input": "2022-11-19T09:53:06.197314Z",
     "iopub.status.busy": "2022-11-19T09:53:06.196970Z",
     "iopub.status.idle": "2022-11-19T09:53:06.362952Z",
     "shell.execute_reply": "2022-11-19T09:53:06.362054Z",
     "shell.execute_reply.started": "2022-11-19T09:53:06.197233Z"
    }
   },
   "outputs": [
    {
     "name": "stdout",
     "output_type": "stream",
     "text": [
      "['absl-py (>=1.0.0)', 'astunparse (>=1.6.0)', 'flatbuffers (>=2.0)', 'gast (<=0.4.0,>=0.2.1)', 'google-pasta (>=0.1.1)', 'h5py (>=2.9.0)', 'libclang (>=13.0.0)', 'numpy (>=1.20)', 'opt-einsum (>=2.3.2)', 'packaging', 'protobuf (<3.20,>=3.9.2)', 'setuptools', 'six (>=1.12.0)', 'termcolor (>=1.1.0)', 'typing-extensions (>=3.6.6)', 'wrapt (>=1.11.0)', 'grpcio (<2.0,>=1.24.3)', 'tensorboard (<2.12,>=2.11)', 'tensorflow-estimator (<2.12,>=2.11.0)', 'keras (<2.12,>=2.11.0)', 'tensorflow-io-gcs-filesystem (>=0.23.1) ; platform_machine != \"arm64\" or platform_system != \"Darwin\"']\n"
     ]
    }
   ],
   "source": [
    "import json\n",
    "\n",
    "import requests\n",
    "\n",
    "package_name = 'tensorflow'\n",
    "url = 'https://pypi.python.org/pypi/' + str(package_name) + '/json'\n",
    "data = requests.get(url).json()\n",
    "\n",
    "print(data['info']['requires_dist'])"
   ]
  },
  {
   "cell_type": "code",
   "execution_count": null,
   "id": "finished-allowance",
   "metadata": {},
   "outputs": [],
   "source": []
  }
 ],
 "metadata": {
  "kernelspec": {
   "display_name": "env_manage",
   "language": "python",
   "name": "env_manage"
  },
  "language_info": {
   "codemirror_mode": {
    "name": "ipython",
    "version": 3
   },
   "file_extension": ".py",
   "mimetype": "text/x-python",
   "name": "python",
   "nbconvert_exporter": "python",
   "pygments_lexer": "ipython3",
   "version": "3.10.6"
  },
  "widgets": {
   "application/vnd.jupyter.widget-state+json": {
    "state": {},
    "version_major": 2,
    "version_minor": 0
   }
  }
 },
 "nbformat": 4,
 "nbformat_minor": 5
}
