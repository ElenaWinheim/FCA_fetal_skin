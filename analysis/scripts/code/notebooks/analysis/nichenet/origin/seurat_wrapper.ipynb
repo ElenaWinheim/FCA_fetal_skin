{
    "cells": [
        {
            "cell_type": "markdown",
            "metadata": {},
            "source": [
                "Perform NicheNet analysis starting from a Seurat object \n",
                "================ \n",
                "Robin Browaeys \n",
                "2019-11-08 \n",
                " \n",
                "<!-- github markdown built using  \n",
                "rmarkdown::render(\"vignettes/seurat_wrapper.Rmd\", output_format = \"github_document\") \n",
                "--> \n",
                " \n",
                "In this vignette, you can learn how to perform a basic NicheNet analysis \n",
                "on a Seurat v3 object. Such a NicheNet analysis can help you to generate \n",
                "hypotheses about an intercellular communication process of interest for \n",
                "which you have single-cell gene expression data as a Seurat object. \n",
                "Specifically, NicheNet can predict 1) which ligands from one or more \n",
                "cell population(s) (“sender/niche”) are most likely to affect target \n",
                "gene expression in an interacting cell population (“receiver/target”) \n",
                "and 2) which specific target genes are affected by which of these \n",
                "predicted ligands. \n",
                " \n",
                "Because NicheNet studies how ligands affect gene expression in \n",
                "putatively neighboring/interacting cells, you need to have data about \n",
                "this effect in gene expression you want to study. So, there need to be \n",
                "‘some kind of’ differential expression in a receiver cell population, \n",
                "caused by ligands from one of more interacting sender cell populations. \n",
                " \n",
                "In this vignette, we demonstrate the use of NicheNet on a Seurat Object. \n",
                "The wrapper function we will show consists of the same different steps \n",
                "that are discussed in detail in the main, basis, NicheNet vignette \n",
                "[NicheNet’s ligand activity analysis on a gene set of interest: predict \n",
                "active ligands and their target \n",
                "genes](ligand_activity_geneset.md):`vignette(\"ligand_activity_geneset\", package=\"nichenetr\")`. \n",
                "Make sure you understand the different steps in a NicheNet analysis that \n",
                "are described in that vignette before proceeding with this vignette and \n",
                "performing a real NicheNet analysis on your data. In another vignette \n",
                "[Perform NicheNet analysis starting from a Seurat object: step-by-step \n",
                "analysis](seurat_steps.md):`vignette(\"seurat_steps\", package=\"nichenetr\")`, \n",
                "we also show the execution of these steps one for one, but in contrast \n",
                "to the main vignette now specifically for a Seurat Object. This allows \n",
                "users to adapt specific steps of the pipeline to make them more \n",
                "appropriate for their data (recommended). \n",
                " \n",
                "As example expression data of interacting cells, we will use mouse \n",
                "NICHE-seq data from Medaglia et al. to explore intercellular \n",
                "communication in the T cell area in the inguinal lymph node before and \n",
                "72 hours after lymphocytic choriomeningitis virus (LCMV) infection (See \n",
                "Medaglia et al. 2017). We will NicheNet to explore immune cell crosstalk \n",
                "in response to this LCMV infection. \n",
                " \n",
                "In this dataset, differential expression is observed between CD8 T cells \n",
                "in steady-state and CD8 T cells after LCMV infection. NicheNet can be \n",
                "applied to look at how several immune cell populations in the lymph node \n",
                "(i.e., monocytes, dendritic cells, NK cells, B cells, CD4 T cells) can \n",
                "regulate and induce these observed gene expression changes. NicheNet \n",
                "will specifically prioritize ligands from these immune cells and their \n",
                "target genes that change in expression upon LCMV infection. \n",
                " \n",
                "The used NicheNet networks, ligand-target matrix and example expression \n",
                "data of interacting cells can be downloaded from Zenodo. The NicheNet \n",
                "networks and ligand-target matrix at \n",
                "[![DOI](https://zenodo.org/badge/DOI/10.5281/zenodo.3260758.svg)](https://doi.org/10.5281/zenodo.3260758) \n",
                "and the Seurat object of the processed NICHE-seq single-cell data at \n",
                "[![DOI](https://zenodo.org/badge/DOI/10.5281/zenodo.3531889.svg)](https://doi.org/10.5281/zenodo.3531889). \n",
                " \n",
                "# Prepare NicheNet analysis \n",
                " \n",
                "## Load required packages, read in the Seurat object with processed expression data of interacting cells and NicheNet’s ligand-target prior model, ligand-receptor network and weighted integrated networks. \n",
                " \n",
                "The NicheNet ligand-receptor network and weighted networks are necessary \n",
                "to define and show possible ligand-receptor interactions between two \n",
                "cell populations. The ligand-target matrix denotes the prior potential \n",
                "that particular ligands might regulate the expression of particular \n",
                "target genes. This matrix is necessary to prioritize possible \n",
                "ligand-receptor interactions based on observed gene expression effects \n",
                "(i.e. NicheNet’s ligand activity analysis) and infer affected target \n",
                "genes of these prioritized ligands. \n",
                " \n",
                "### Load Packages: \n",
                " \n"
            ]
        },
        {
            "cell_type": "code",
            "execution_count": null,
            "metadata": {},
            "outputs": [],
            "source": [
                "library(nichenetr) \n",
                "library(Seurat) # please update to Seurat V4 \n",
                "library(tidyverse) \n"
            ]
        },
        {
            "cell_type": "markdown",
            "metadata": {},
            "source": [
                " \n",
                "If you would use and load other packages, we recommend to load these 3 \n",
                "packages after the others. \n",
                " \n",
                "### Read in NicheNet’s ligand-target prior model, ligand-receptor network and weighted integrated networks: \n",
                " \n"
            ]
        },
        {
            "cell_type": "code",
            "execution_count": null,
            "metadata": {},
            "outputs": [],
            "source": [
                "ligand_target_matrix = readRDS(url(\"https://zenodo.org/record/3260758/files/ligand_target_matrix.rds\")) \n",
                "ligand_target_matrix[1:5,1:5] # target genes in rows, ligands in columns \n",
                "##                 CXCL1        CXCL2        CXCL3        CXCL5         PPBP \n",
                "## A1BG     3.534343e-04 4.041324e-04 3.729920e-04 3.080640e-04 2.628388e-04 \n",
                "## A1BG-AS1 1.650894e-04 1.509213e-04 1.583594e-04 1.317253e-04 1.231819e-04 \n",
                "## A1CF     5.787175e-04 4.596295e-04 3.895907e-04 3.293275e-04 3.211944e-04 \n",
                "## A2M      6.027058e-04 5.996617e-04 5.164365e-04 4.517236e-04 4.590521e-04 \n",
                "## A2M-AS1  8.898724e-05 8.243341e-05 7.484018e-05 4.912514e-05 5.120439e-05 \n",
                " \n",
                "lr_network = readRDS(url(\"https://zenodo.org/record/3260758/files/lr_network.rds\")) \n",
                "head(lr_network) \n",
                "## # A tibble: 6 x 4 \n",
                "##   from  to    source         database \n",
                "##   <chr> <chr> <chr>          <chr>    \n",
                "## 1 CXCL1 CXCR2 kegg_cytokines kegg     \n",
                "## 2 CXCL2 CXCR2 kegg_cytokines kegg     \n",
                "## 3 CXCL3 CXCR2 kegg_cytokines kegg     \n",
                "## 4 CXCL5 CXCR2 kegg_cytokines kegg     \n",
                "## 5 PPBP  CXCR2 kegg_cytokines kegg     \n",
                "## 6 CXCL6 CXCR2 kegg_cytokines kegg \n",
                " \n",
                "weighted_networks = readRDS(url(\"https://zenodo.org/record/3260758/files/weighted_networks.rds\")) \n",
                "head(weighted_networks$lr_sig) # interactions and their weights in the ligand-receptor + signaling network \n",
                "## # A tibble: 6 x 3 \n",
                "##   from  to     weight \n",
                "##   <chr> <chr>   <dbl> \n",
                "## 1 A1BG  ABCC6  0.422  \n",
                "## 2 A1BG  ACE2   0.101  \n",
                "## 3 A1BG  ADAM10 0.0970 \n",
                "## 4 A1BG  AGO1   0.0525 \n",
                "## 5 A1BG  AKT1   0.0855 \n",
                "## 6 A1BG  ANXA7  0.457 \n",
                "head(weighted_networks$gr) # interactions and their weights in the gene regulatory network \n",
                "## # A tibble: 6 x 3 \n",
                "##   from  to     weight \n",
                "##   <chr> <chr>   <dbl> \n",
                "## 1 A1BG  A2M    0.0294 \n",
                "## 2 AAAS  GFAP   0.0290 \n",
                "## 3 AADAC CYP3A4 0.0422 \n",
                "## 4 AADAC IRF8   0.0275 \n",
                "## 5 AATF  ATM    0.0330 \n",
                "## 6 AATF  ATR    0.0355 \n"
            ]
        },
        {
            "cell_type": "markdown",
            "metadata": {},
            "source": [
                " \n",
                "### Read in the expression data of interacting cells: \n",
                " \n",
                "The dataset used here is publicly available single-cell data from immune \n",
                "cells in the T cell area of the inguinal lymph node. The data was \n",
                "processed and aggregated by applying the Seurat alignment pipeline. The \n",
                "Seurat object contains this aggregated data. Note that this should be a \n",
                "Seurat v3 object and that gene should be named by their official \n",
                "mouse/human gene symbol. \n",
                " \n"
            ]
        },
        {
            "cell_type": "code",
            "execution_count": null,
            "metadata": {},
            "outputs": [],
            "source": [
                "seuratObj = readRDS(url(\"https://zenodo.org/record/3531889/files/seuratObj.rds\")) \n",
                "seuratObj@meta.data %>% head() \n",
                "##         nGene nUMI orig.ident aggregate res.0.6 celltype nCount_RNA nFeature_RNA \n",
                "## W380370   880 1611      LN_SS        SS       1    CD8 T       1607          876 \n",
                "## W380372   541  891      LN_SS        SS       0    CD4 T        885          536 \n",
                "## W380374   742 1229      LN_SS        SS       0    CD4 T       1223          737 \n",
                "## W380378   847 1546      LN_SS        SS       1    CD8 T       1537          838 \n",
                "## W380379   839 1606      LN_SS        SS       0    CD4 T       1603          836 \n",
                "## W380381   517  844      LN_SS        SS       0    CD4 T        840          513 \n"
            ]
        },
        {
            "cell_type": "markdown",
            "metadata": {},
            "source": [
                " \n",
                "Visualize which cell populations are present: CD4 T cells (including \n",
                "regulatory T cells), CD8 T cells, B cells, NK cells, dendritic cells \n",
                "(DCs) and inflammatory monocytes \n",
                " \n"
            ]
        },
        {
            "cell_type": "code",
            "execution_count": null,
            "metadata": {},
            "outputs": [],
            "source": [
                "seuratObj@meta.data$celltype %>% table() # note that the number of cells of some cell types is very low and should preferably be higher for a real application \n",
                "## . \n",
                "##     B CD4 T CD8 T    DC  Mono    NK  Treg  \n",
                "##   382  2562  1645    18    90   131   199 \n",
                "DimPlot(seuratObj, reduction = \"tsne\") \n"
            ]
        },
        {
            "cell_type": "markdown",
            "metadata": {},
            "source": [
                " \n",
                "![](seurat_wrapper_files/figure-gfm/unnamed-chunk-4-1.png)<!-- --> \n",
                " \n",
                "Visualize the data to see to which condition cells belong. The metadata \n",
                "dataframe column that denotes the condition (steady-state or after LCMV \n",
                "infection) is here called ‘aggregate.’ \n",
                " \n"
            ]
        },
        {
            "cell_type": "code",
            "execution_count": null,
            "metadata": {},
            "outputs": [],
            "source": [
                "seuratObj@meta.data$aggregate %>% table() \n",
                "## . \n",
                "## LCMV   SS  \n",
                "## 3886 1141 \n",
                "DimPlot(seuratObj, reduction = \"tsne\", group.by = \"aggregate\") \n"
            ]
        },
        {
            "cell_type": "markdown",
            "metadata": {},
            "source": [
                " \n",
                "![](seurat_wrapper_files/figure-gfm/unnamed-chunk-5-1.png)<!-- --> \n",
                " \n",
                "# Perform the NicheNet analysis \n",
                " \n",
                "In this case study, we want to apply NicheNet to predict which ligands \n",
                "expressed by all immune cells in the T cell area of the lymph node are \n",
                "most likely to have induced the differential expression in CD8 T cells \n",
                "after LCMV infection. \n",
                " \n",
                "As described in the main vignette, the pipeline of a basic NicheNet \n",
                "analysis consist of the following steps: \n",
                " \n",
                "-   1.  Define a “sender/niche” cell population and a “receiver/target” \n",
                "        cell population present in your expression data and determine \n",
                "        which genes are expressed in both populations \n",
                " \n",
                "-   2.  Define a gene set of interest: these are the genes in the \n",
                "        “receiver/target” cell population that are potentially affected \n",
                "        by ligands expressed by interacting cells (e.g. genes \n",
                "        differentially expressed upon cell-cell interaction) \n",
                " \n",
                "-   3.  Define a set of potential ligands: these are ligands that are \n",
                "        expressed by the “sender/niche” cell population and bind a \n",
                "        (putative) receptor expressed by the “receiver/target” \n",
                "        population \n",
                " \n",
                "-   4.  Perform NicheNet ligand activity analysis: rank the potential \n",
                "        ligands based on the presence of their target genes in the gene \n",
                "        set of interest (compared to the background set of genes) \n",
                " \n",
                "-   5.  Infer receptors and top-predicted target genes of ligands that \n",
                "        are top-ranked in the ligand activity analysis \n",
                " \n",
                "All these steps are contained in one of three following similar single \n",
                "functions: `nichenet_seuratobj_aggregate`, \n",
                "`nichenet_seuratobj_cluster_de` and \n",
                "`nichenet_seuratobj_aggregate_cluster_de`. \n",
                " \n",
                "In addition to these steps, the function `nichenet_seuratobj_aggregate` \n",
                "that is used for the analysis when having two conditions will also \n",
                "calculate differential expression of the ligands in the sender cell \n",
                "type. Note that this ligand differential expression is not used for \n",
                "prioritization and ranking of the ligands! \n",
                " \n",
                "## NicheNet analysis on Seurat object: explain differential expression between two conditions \n",
                " \n",
                "In this case study, the receiver cell population is the ‘CD8 T’ cell \n",
                "population, whereas the sender cell populations are ‘CD4 T,’ ‘Treg,’ \n",
                "‘Mono,’ ‘NK,’ ‘B’ and ‘DC.’ The above described functions will consider \n",
                "a gene to be expressed when it is expressed in at least a predefined \n",
                "fraction of cells in one cluster (default: 10%). \n",
                " \n",
                "The gene set of interest are the genes differentially expressed in CD8 T \n",
                "cells after LCMV infection. The condition of interest is thus ‘LCMV,’ \n",
                "whereas the reference/steady-state condition is ‘SS.’ The notion of \n",
                "conditions can be extracted from the metadata column ‘aggregate,’ the \n",
                "method to calculate the differential expression is the standard Seurat \n",
                "Wilcoxon test. \n",
                " \n",
                "The number of top-ranked ligands that are further used to predict active \n",
                "target genes and construct an active ligand-receptor network is 20 by \n",
                "default. \n",
                " \n",
                "To perform the NicheNet analysis with these specifications, run the \n",
                "following: \n",
                " \n"
            ]
        },
        {
            "cell_type": "code",
            "execution_count": null,
            "metadata": {},
            "outputs": [],
            "source": [
                "# indicated cell types should be cell class identities \n",
                "# check via:  \n",
                "# seuratObj %>% Idents() %>% table() \n",
                "nichenet_output = nichenet_seuratobj_aggregate( \n",
                "  seurat_obj = seuratObj,  \n",
                "  receiver = \"CD8 T\",  \n",
                "  condition_colname = \"aggregate\", condition_oi = \"LCMV\", condition_reference = \"SS\",  \n",
                "  sender = c(\"CD4 T\",\"Treg\", \"Mono\", \"NK\", \"B\", \"DC\"),  \n",
                "  ligand_target_matrix = ligand_target_matrix, lr_network = lr_network, weighted_networks = weighted_networks, organism = \"mouse\") \n",
                "## [1] \"Read in and process NicheNet's networks\" \n",
                "## [1] \"Define expressed ligands and receptors in receiver and sender cells\" \n",
                "## [1] \"Perform DE analysis in receiver cell\" \n",
                "## [1] \"Perform NicheNet ligand activity analysis\" \n",
                "## [1] \"Infer active target genes of the prioritized ligands\" \n",
                "## [1] \"Infer receptors of the prioritized ligands\" \n",
                "## [1] \"Perform DE analysis in sender cells\" \n"
            ]
        },
        {
            "cell_type": "markdown",
            "metadata": {},
            "source": [
                " \n",
                "### Interpret the NicheNet analysis output \n",
                " \n",
                "#### Ligand activity analysis results \n",
                " \n",
                "A first thing NicheNet does, is prioritizing ligands based on predicted \n",
                "ligand activity. To see the ranking of these ligands, run the following \n",
                "command: \n",
                " \n"
            ]
        },
        {
            "cell_type": "code",
            "execution_count": null,
            "metadata": {},
            "outputs": [],
            "source": [
                "nichenet_output$ligand_activities \n",
                "## # A tibble: 44 x 6 \n",
                "##    test_ligand auroc  aupr pearson  rank bona_fide_ligand \n",
                "##    <chr>       <dbl> <dbl>   <dbl> <dbl> <lgl>            \n",
                "##  1 Ebi3        0.638 0.234  0.197      1 FALSE            \n",
                "##  2 Il15        0.582 0.163  0.0961     2 TRUE             \n",
                "##  3 Crlf2       0.549 0.163  0.0758     3 FALSE            \n",
                "##  4 App         0.499 0.141  0.0655     4 TRUE             \n",
                "##  5 Tgfb1       0.494 0.140  0.0558     5 TRUE             \n",
                "##  6 Ptprc       0.536 0.149  0.0554     6 TRUE             \n",
                "##  7 H2-M3       0.525 0.157  0.0528     7 TRUE             \n",
                "##  8 Icam1       0.543 0.142  0.0486     8 TRUE             \n",
                "##  9 Cxcl10      0.531 0.141  0.0408     9 TRUE             \n",
                "## 10 Adam17      0.517 0.137  0.0359    10 TRUE             \n",
                "## # ... with 34 more rows \n"
            ]
        },
        {
            "cell_type": "markdown",
            "metadata": {},
            "source": [
                " \n",
                "The different ligand activity measures (auroc, aupr, pearson correlation \n",
                "coefficient) are a measure for how well a ligand can predict the \n",
                "observed differentially expressed genes compared to the background of \n",
                "expressed genes. In our validation study, we showed that the pearson \n",
                "correlation coefficient between a ligand’s target predictions and the \n",
                "observed transcriptional response was the most informative measure to \n",
                "define ligand activity. Therefore, NicheNet ranks the ligands based on \n",
                "their pearson correlation coefficient. This allows us to prioritize \n",
                "ligands inducing the antiviral response in CD8 T cells. \n",
                " \n",
                "The column ‘bona\\_fide\\_ligand’ indicates whether the ligand is part of \n",
                "ligand-receptor interactions that are documented in public databases \n",
                "(‘bona\\_fide\\_ligand = TRUE’) and not of ligand-receptor interactions \n",
                "that we predicted based on annotation as ligand/receptor and \n",
                "protein-protein interaction databases (‘bona\\_fide\\_ligand = FALSE’). \n",
                " \n",
                "To get a list of the 20 top-ranked ligands: run the following command \n",
                " \n"
            ]
        },
        {
            "cell_type": "code",
            "execution_count": null,
            "metadata": {},
            "outputs": [],
            "source": [
                "nichenet_output$top_ligands \n",
                "##  [1] \"Ebi3\"   \"Il15\"   \"Crlf2\"  \"App\"    \"Tgfb1\"  \"Ptprc\"  \"H2-M3\"  \"Icam1\"  \"Cxcl10\" \"Adam17\" \"Cxcl11\" \"Cxcl9\"  \"H2-T23\" \"Sema4d\" \"Ccl5\"   \"C3\"     \"Cxcl16\" \"Itgb1\"  \"Anxa1\"  \"Sell\" \n"
            ]
        },
        {
            "cell_type": "markdown",
            "metadata": {},
            "source": [
                " \n",
                "These ligands are expressed by one or more of the input sender cells. To \n",
                "see which cell population expresses which of these top-ranked ligands, \n",
                "you can run the following: \n",
                " \n"
            ]
        },
        {
            "cell_type": "code",
            "execution_count": null,
            "metadata": {},
            "outputs": [],
            "source": [
                "nichenet_output$ligand_expression_dotplot \n",
                "\n"
            ]
        },
        {
            "cell_type": "markdown",
            "metadata": {},
            "source": [
                " \n",
                "![](seurat_wrapper_files/figure-gfm/unnamed-chunk-9-1.png)<!-- --> \n",
                " \n",
                "As you can see, most op the top-ranked ligands seem to be mainly \n",
                "expressed by dendritic cells and monocytes. \n",
                " \n",
                "It could also be interesting to see whether some of these ligands are \n",
                "differentially expressed after LCMV infection. \n",
                " \n"
            ]
        },
        {
            "cell_type": "code",
            "execution_count": null,
            "metadata": {},
            "outputs": [],
            "source": [
                "nichenet_output$ligand_differential_expression_heatmap \n",
                "\n"
            ]
        },
        {
            "cell_type": "markdown",
            "metadata": {},
            "source": [
                " \n",
                "![](seurat_wrapper_files/figure-gfm/unnamed-chunk-10-1.png)<!-- --> \n",
                " \n",
                "As you can see, most op the top-ranked ligands seem also to be \n",
                "upregulated themselves in monocytes after viral infection. This is not a \n",
                "prerequisite to be top-ranked (cf: ranking only determined based on \n",
                "enrichment of target genes among DE genes in the receiver, CD8T cells), \n",
                "but is nice additional “evidence” that these ligands might indeed be \n",
                "important. \n",
                " \n",
                "#### Inferred active ligand-target links \n",
                " \n",
                "NicheNet also infers active target genes of these top-ranked ligands. To \n",
                "see which top-ranked ligands are predicted to have regulated the \n",
                "expression of which differentially expressed genes, you can run \n",
                "following command for a heatmap visualization: \n",
                " \n"
            ]
        },
        {
            "cell_type": "code",
            "execution_count": null,
            "metadata": {},
            "outputs": [],
            "source": [
                "nichenet_output$ligand_target_heatmap \n",
                "\n"
            ]
        },
        {
            "cell_type": "markdown",
            "metadata": {},
            "source": [
                " \n",
                "![](seurat_wrapper_files/figure-gfm/unnamed-chunk-11-1.png)<!-- --> \n",
                " \n",
                "This is a normal ggplot object that can be adapted likewise. For example \n",
                "if you want to change the color code to blue instead of purple, change \n",
                "the axis ticks of the legend, and change the axis labels of the heatmap, \n",
                "you can do the following: \n",
                " \n"
            ]
        },
        {
            "cell_type": "code",
            "execution_count": null,
            "metadata": {},
            "outputs": [],
            "source": [
                "nichenet_output$ligand_target_heatmap + scale_fill_gradient2(low = \"whitesmoke\",  high = \"royalblue\", breaks = c(0,0.0045,0.009)) + xlab(\"anti-LCMV response genes in CD8 T cells\") + ylab(\"Prioritized immmune cell ligands\") \n",
                "\n"
            ]
        },
        {
            "cell_type": "markdown",
            "metadata": {},
            "source": [
                " \n",
                "![](seurat_wrapper_files/figure-gfm/unnamed-chunk-12-1.png)<!-- --> \n",
                " \n",
                "If you want, you can also extract the ligand-target links and their \n",
                "regulatory potential scores in matrix or data frame format (e.g. for \n",
                "visualization in other ways or output to a csv file). \n",
                " \n"
            ]
        },
        {
            "cell_type": "code",
            "execution_count": null,
            "metadata": {},
            "outputs": [],
            "source": [
                "nichenet_output$ligand_target_matrix %>% .[1:10,1:6] \n",
                "##              Cd274 Cd53       Ddit4         Id3 Ifit3        Irf1 \n",
                "## Sell   0.000000000    0 0.001290863 0.001222706     0 0.001095100 \n",
                "## Itgb1  0.000000000    0 0.001162142 0.001214922     0 0.001069406 \n",
                "## C3     0.000000000    0 0.001105490 0.000000000     0 0.000000000 \n",
                "## Ccl5   0.000000000    0 0.001281096 0.001228147     0 0.001155790 \n",
                "## Sema4d 0.000000000    0 0.001103465 0.001179496     0 0.000000000 \n",
                "## H2.T23 0.000000000    0 0.001112018 0.001110184     0 0.000000000 \n",
                "## Adam17 0.002280965    0 0.001760241 0.001546186     0 0.001637201 \n",
                "## Cxcl10 0.000000000    0 0.001354334 0.001372142     0 0.001393116 \n",
                "## Icam1  0.000000000    0 0.001325195 0.001314746     0 0.001375860 \n",
                "## H2.M3  0.000000000    0 0.001436893 0.001506164     0 0.001329158 \n"
            ]
        },
        {
            "cell_type": "markdown",
            "metadata": {},
            "source": " \n"
        },
        {
            "cell_type": "code",
            "execution_count": null,
            "metadata": {},
            "outputs": [],
            "source": [
                "nichenet_output$ligand_target_df # weight column = regulatory potential \n",
                "## # A tibble: 155 x 3 \n",
                "##    ligand target  weight \n",
                "##    <chr>  <chr>    <dbl> \n",
                "##  1 Ebi3   Cd274  0.00325 \n",
                "##  2 Ebi3   Cd53   0.00321 \n",
                "##  3 Ebi3   Ddit4  0.00335 \n",
                "##  4 Ebi3   Id3    0.00373 \n",
                "##  5 Ebi3   Ifit3  0.00320 \n",
                "##  6 Ebi3   Irf1   0.00692 \n",
                "##  7 Ebi3   Irf7   0.00312 \n",
                "##  8 Ebi3   Irf9   0.00543 \n",
                "##  9 Ebi3   Parp14 0.00336 \n",
                "## 10 Ebi3   Pdcd4  0.00335 \n",
                "## # ... with 145 more rows \n"
            ]
        },
        {
            "cell_type": "markdown",
            "metadata": {},
            "source": [
                " \n",
                "To get a list of the top-predicted target genes of the 20 top-ranked \n",
                "ligands: run the following command \n",
                " \n"
            ]
        },
        {
            "cell_type": "code",
            "execution_count": null,
            "metadata": {},
            "outputs": [],
            "source": [
                "nichenet_output$top_targets \n",
                "##  [1] \"Cd274\"  \"Cd53\"   \"Ddit4\"  \"Id3\"    \"Ifit3\"  \"Irf1\"   \"Irf7\"   \"Irf9\"   \"Parp14\" \"Pdcd4\"  \"Pml\"    \"Psmb9\"  \"Rnf213\" \"Stat1\"  \"Stat2\"  \"Tap1\"   \"Ubc\"    \"Zbp1\"   \"Cd69\"   \"Gbp4\"   \"Basp1\"  \"Casp8\"  \n",
                "## [23] \"Cxcl10\" \"Nlrc5\"  \"Vim\"    \"Actb\"   \"Ifih1\"  \"Myh9\"   \"B2m\"    \"H2-T23\" \"Rpl13a\" \"Cxcr4\" \n"
            ]
        },
        {
            "cell_type": "markdown",
            "metadata": {},
            "source": [
                " \n",
                "You can visualize the expression of these as well. Because we only focus \n",
                "on CD8 T cells as receiver cells, we will only show expression in these \n",
                "cells. To emphasize that these target genes are differentially \n",
                "expressed, we split cells up in steadys-state cells and cells after \n",
                "response to LCMV infection. \n",
                " \n"
            ]
        },
        {
            "cell_type": "code",
            "execution_count": null,
            "metadata": {},
            "outputs": [],
            "source": [
                "DotPlot(seuratObj %>% subset(idents = \"CD8 T\"), features = nichenet_output$top_targets %>% rev(), split.by = \"aggregate\") + RotatedAxis() \n",
                "\n"
            ]
        },
        {
            "cell_type": "markdown",
            "metadata": {},
            "source": [
                " \n",
                "![](seurat_wrapper_files/figure-gfm/unnamed-chunk-16-1.png)<!-- --> \n",
                " \n"
            ]
        },
        {
            "cell_type": "code",
            "execution_count": null,
            "metadata": {},
            "outputs": [],
            "source": [
                "VlnPlot(seuratObj %>% subset(idents = \"CD8 T\"), features = c(\"Zbp1\",\"Ifit3\",\"Irf7\"), split.by = \"aggregate\",    pt.size = 0, combine = FALSE) \n",
                "## [[1]] \n"
            ]
        },
        {
            "cell_type": "markdown",
            "metadata": {},
            "source": [
                " \n",
                "![](seurat_wrapper_files/figure-gfm/unnamed-chunk-17-1.png)<!-- --> \n",
                " \n",
                "    ##  \n",
                "    ## [[2]] \n",
                " \n",
                "![](seurat_wrapper_files/figure-gfm/unnamed-chunk-17-2.png)<!-- --> \n",
                " \n",
                "    ##  \n",
                "    ## [[3]] \n",
                " \n",
                "![](seurat_wrapper_files/figure-gfm/unnamed-chunk-17-3.png)<!-- --> \n",
                " \n",
                "To visualize ligand activities, expression, differential expression and \n",
                "target genes of ligands, run the following command \n",
                " \n"
            ]
        },
        {
            "cell_type": "code",
            "execution_count": null,
            "metadata": {},
            "outputs": [],
            "source": [
                "nichenet_output$ligand_activity_target_heatmap \n",
                "\n"
            ]
        },
        {
            "cell_type": "markdown",
            "metadata": {},
            "source": [
                " \n",
                "![](seurat_wrapper_files/figure-gfm/unnamed-chunk-18-1.png)<!-- --> \n",
                " \n",
                "**important: above figure can be considered as one of the most important \n",
                "summary figures of the NicheNet analysis. Here you can see which \n",
                "ligand-receptor pairs have both high differential expression and ligand \n",
                "activity (=target gene enrichment). These are very interesting \n",
                "predictions as key regulators of your intercellular communication \n",
                "process of interest ! ** \n",
                " \n",
                "#### Inferred ligand-receptor interactions for top-ranked ligands \n",
                " \n",
                "NicheNet also infers the receiver cell receptors of these top-ranked \n",
                "ligands. You can run following command for a heatmap visualization of \n",
                "the ligand-receptor links: \n",
                " \n"
            ]
        },
        {
            "cell_type": "code",
            "execution_count": null,
            "metadata": {},
            "outputs": [],
            "source": [
                "nichenet_output$ligand_receptor_heatmap \n",
                "\n"
            ]
        },
        {
            "cell_type": "markdown",
            "metadata": {},
            "source": [
                " \n",
                "![](seurat_wrapper_files/figure-gfm/unnamed-chunk-19-1.png)<!-- --> \n",
                " \n",
                "If you want, you can also extract the ligand-receptor links and their \n",
                "interaction confidence scores in matrix or data frame format (e.g. for \n",
                "visualization in other ways or output to a csv file). \n",
                " \n"
            ]
        },
        {
            "cell_type": "code",
            "execution_count": null,
            "metadata": {},
            "outputs": [],
            "source": [
                "nichenet_output$ligand_receptor_matrix %>% .[1:10,1:6] \n",
                "##           Cxcl9    Cxcl16    Cxcl11      Ccl5    Cxcl10       App \n",
                "## Cxcr6 0.3629049 0.6598705 0.2255185 0.2627207 0.4001071 0.2255185 \n",
                "## Ccr7  0.2217117 0.2217117 0.3567789 0.3933531 0.2582858 0.2217117 \n",
                "## Ccr9  0.1357118 0.2374693 0.2374693 0.1357118 0.1357118 0.1357118 \n",
                "## Gpr18 0.1374828 0.1374828 0.1374828 0.1374828 0.1374828 0.0000000 \n",
                "## S1pr1 0.1263826 0.1263826 0.1263826 0.1263826 0.1263826 0.0000000 \n",
                "## Itga4 0.0000000 0.0000000 0.0000000 0.0000000 0.0000000 0.0000000 \n",
                "## Cd47  0.0000000 0.0000000 0.0000000 0.0000000 0.0000000 0.0000000 \n",
                "## Ptk2b 0.0000000 0.0000000 0.0000000 0.0000000 0.0000000 0.0000000 \n",
                "## Il2rb 0.0000000 0.0000000 0.0000000 0.0000000 0.0000000 0.0000000 \n",
                "## Il2rg 0.0000000 0.0000000 0.0000000 0.0000000 0.0000000 0.0000000 \n"
            ]
        },
        {
            "cell_type": "markdown",
            "metadata": {},
            "source": " \n"
        },
        {
            "cell_type": "code",
            "execution_count": null,
            "metadata": {},
            "outputs": [],
            "source": [
                "nichenet_output$ligand_receptor_df # weight column accords to number of data sources that document this interaction \n",
                "## # A tibble: 61 x 3 \n",
                "##    ligand receptor weight \n",
                "##    <chr>  <chr>     <dbl> \n",
                "##  1 Adam17 Notch1    0.482 \n",
                "##  2 Anxa1  Ccr7      0.222 \n",
                "##  3 Anxa1  Ccr9      0.237 \n",
                "##  4 Anxa1  Cxcr6     0.226 \n",
                "##  5 Anxa1  Itga4     0.201 \n",
                "##  6 App    Ccr7      0.222 \n",
                "##  7 App    Ccr9      0.136 \n",
                "##  8 App    Cxcr6     0.226 \n",
                "##  9 App    Notch1    0.354 \n",
                "## 10 App    Tgfbr2    0.441 \n",
                "## # ... with 51 more rows \n"
            ]
        },
        {
            "cell_type": "markdown",
            "metadata": {},
            "source": [
                " \n",
                "To get a list of the receptors of the 20 top-ranked ligands: run the \n",
                "following command \n",
                " \n"
            ]
        },
        {
            "cell_type": "code",
            "execution_count": null,
            "metadata": {},
            "outputs": [],
            "source": [
                "nichenet_output$top_receptors \n",
                "##  [1] \"Notch1\" \"Ccr7\"   \"Ccr9\"   \"Cxcr6\"  \"Itga4\"  \"Tgfbr2\" \"Itgb2\"  \"Gpr18\"  \"S1pr1\"  \"Il7r\"   \"Il27ra\" \"Cd8a\"   \"Klrd1\"  \"Il2rg\"  \"Itgal\"  \"Spn\"    \"Il2rb\"  \"Cd47\"   \"Ptk2b\"  \"Cd2\"    \"Cd28\"   \"Selplg\" \n",
                "## [23] \"Ptprc\" \n"
            ]
        },
        {
            "cell_type": "markdown",
            "metadata": {},
            "source": [
                " \n",
                "You can visualize the expression of these as well. Because we only focus \n",
                "on CD8 T cells as receiver cells, we will only show expression in these \n",
                "cells. \n",
                " \n"
            ]
        },
        {
            "cell_type": "code",
            "execution_count": null,
            "metadata": {},
            "outputs": [],
            "source": [
                "DotPlot(seuratObj %>% subset(idents = \"CD8 T\"), features = nichenet_output$top_receptors %>% rev(), split.by = \"aggregate\") + RotatedAxis() \n",
                "\n"
            ]
        },
        {
            "cell_type": "markdown",
            "metadata": {},
            "source": [
                " \n",
                "![](seurat_wrapper_files/figure-gfm/unnamed-chunk-23-1.png)<!-- --> \n",
                " \n",
                "You also can just show ‘bona fide’ ligand-receptor links that are \n",
                "described in the literature and not predicted based on protein-protein \n",
                "interactions: \n",
                " \n"
            ]
        },
        {
            "cell_type": "code",
            "execution_count": null,
            "metadata": {},
            "outputs": [],
            "source": [
                "nichenet_output$ligand_receptor_heatmap_bonafide \n",
                "\n"
            ]
        },
        {
            "cell_type": "markdown",
            "metadata": {},
            "source": [
                " \n",
                "![](seurat_wrapper_files/figure-gfm/unnamed-chunk-24-1.png)<!-- --> \n",
                " \n"
            ]
        },
        {
            "cell_type": "code",
            "execution_count": null,
            "metadata": {},
            "outputs": [],
            "source": [
                "nichenet_output$ligand_receptor_matrix_bonafide \n",
                "##            H2.M3     H2.T23        C3      Icam1     Tgfb1    Cxcl16      Il15 \n",
                "## Il2rb  0.0000000 0.00000000 0.0000000 0.00000000 0.0000000 0.0000000 0.8714269 \n",
                "## Il2rg  0.0000000 0.00000000 0.0000000 0.00000000 0.0000000 0.0000000 0.8587859 \n",
                "## Itgal  0.0000000 0.00000000 0.0000000 0.06542904 0.0000000 0.0000000 0.0000000 \n",
                "## Itgb2  0.0000000 0.00000000 0.2916032 0.06113009 0.0000000 0.0000000 0.0000000 \n",
                "## Tgfbr2 0.0000000 0.00000000 0.0000000 0.00000000 0.7665905 0.0000000 0.0000000 \n",
                "## Cxcr6  0.0000000 0.00000000 0.0000000 0.00000000 0.0000000 0.6598705 0.0000000 \n",
                "## Klrd1  0.8334165 0.05478448 0.0000000 0.00000000 0.0000000 0.0000000 0.0000000 \n",
                "nichenet_output$ligand_receptor_df_bonafide \n",
                "## # A tibble: 9 x 3 \n",
                "##   ligand receptor weight \n",
                "##   <chr>  <chr>     <dbl> \n",
                "## 1 C3     Itgb2    0.292  \n",
                "## 2 Cxcl16 Cxcr6    0.660  \n",
                "## 3 H2-T23 Klrd1    0.0548 \n",
                "## 4 H2-M3  Klrd1    0.833  \n",
                "## 5 Icam1  Itgal    0.0654 \n",
                "## 6 Icam1  Itgb2    0.0611 \n",
                "## 7 Il15   Il2rb    0.871  \n",
                "## 8 Il15   Il2rg    0.859  \n",
                "## 9 Tgfb1  Tgfbr2   0.767 \n"
            ]
        },
        {
            "cell_type": "markdown",
            "metadata": {},
            "source": [
                " \n",
                "If you are interested in checking which geneset (and background set of \n",
                "genes) was used during the ligand activity analysis: \n",
                " \n"
            ]
        },
        {
            "cell_type": "code",
            "execution_count": null,
            "metadata": {},
            "outputs": [],
            "source": [
                "nichenet_output$geneset_oi \n",
                "##   [1] \"Irf7\"          \"Stat1\"         \"Ifit3\"         \"Ifit1\"         \"Bst2\"          \"B2m\"           \"Rnf213\"        \"Plac8\"         \"Isg15\"         \"Shisa5\"        \"Zbp1\"          \"Isg20\"         \n",
                "##  [13] \"Samhd1\"        \"Usp18\"         \"H2-T23\"        \"Gbp2\"          \"Ifi203\"        \"Tmsb4x\"        \"Rsad2\"         \"Ly6e\"          \"Rtp4\"          \"Ifit2\"         \"Xaf1\"          \"Smchd1\"        \n",
                "##  [25] \"Daxx\"          \"Alb\"           \"Samd9l\"        \"Actb\"          \"Parp9\"         \"Gbp4\"          \"Lgals3bp\"      \"Mx1\"           \"Gbp7\"          \"Cmpk2\"         \"Dtx3l\"         \"Slfn5\"         \n",
                "##  [37] \"Oasl1\"         \"Herc6\"         \"Ifih1\"         \"Rpsa\"          \"P2ry13\"        \"Irgm2\"         \"Tapbp\"         \"Rps8\"          \"Stat2\"         \"Ifi44\"         \"Rpl8\"          \"Psmb8\"         \n",
                "##  [49] \"Igfbp4\"        \"Ddx58\"         \"Rac2\"          \"Trafd1\"        \"Pml\"           \"Oas2\"          \"Psme1\"         \"Apoe\"          \"Basp1\"         \"Rps27a\"        \"Znfx1\"         \"Rpl13\"         \n",
                "##  [61] \"Oas3\"          \"Nt5c3\"         \"Rnf114\"        \"Tap1\"          \"Rps28\"         \"Rplp0\"         \"Ddx60\"         \"Vim\"           \"Ifi35\"         \"Itm2b\"         \"Ctss\"          \"Pabpc1\"        \n",
                "##  [73] \"Parp14\"        \"Hspa8\"         \"Tor3a\"         \"Rpl23\"         \"Tmbim6\"        \"Thy1\"          \"Ncoa7\"         \"Dhx58\"         \"Rps10\"         \"Rps19\"         \"Psmb9\"         \"Il2rg\"         \n",
                "##  [85] \"Etnk1\"         \"Irf9\"          \"1600014C10Rik\" \"Parp12\"        \"Eif2ak2\"       \"Eef1b2\"        \"Eef2\"          \"Npc2\"          \"Rps2\"          \"Rps3\"          \"Sp110\"         \"Ube2l6\"        \n",
                "##  [97] \"Nmi\"           \"Uba7\"          \"Psmb10\"        \"Cxcl10\"        \"Rpl13a\"        \"Nhp2\"          \"Tbrg1\"         \"Usp25\"         \"Tor1aip2\"      \"Adar\"          \"Gzma\"          \"Cd53\"          \n",
                "## [109] \"Hspa5\"         \"Cfl1\"          \"Crip1\"         \"Slco3a1\"       \"Tlr7\"          \"Trim21\"        \"Rpl10\"         \"Mycbp2\"        \"Rps16\"         \"Nlrc5\"         \"Rplp2\"         \"Acadl\"         \n",
                "## [121] \"Trim12c\"       \"Rps4x\"         \"Irf1\"          \"Psma2\"         \"Nme2\"          \"Zcchc11\"       \"Snord12\"       \"Phip\"          \"Ifitm3\"        \"Sp140\"         \"Dusp2\"         \"Mrpl30\"        \n",
                "## [133] \"H2-M3\"         \"Gbp3\"          \"Dtx1\"          \"Eef1g\"         \"Rbl1\"          \"Xpo1\"          \"Gm9844\"        \"Rpl35\"         \"Rps26\"         \"Cxcr4\"         \"Eif3m\"         \"Treml2\"        \n",
                "## [145] \"Rpl35a\"        \"Pdcd4\"         \"Arrb2\"         \"Ubc\"           \"Clic4\"         \"Rpl10a\"        \"Lcp1\"          \"Cd274\"         \"Ddit4\"         \"Cnn2\"          \"Nampt\"         \"Ascc3\"         \n",
                "## [157] \"Cd47\"          \"Snord49b\"      \"D17Wsu92e\"     \"Fam26f\"        \"Hcst\"          \"Myh9\"          \"Rps27\"         \"Mov10\"         \"Arf4\"          \"Arhgdib\"       \"Ppib\"          \"Trim25\"        \n",
                "## [169] \"Tspo\"          \"Id3\"           \"Snord35a\"      \"Rnf8\"          \"Casp8\"         \"Ptpn7\"         \"Itk\"           \"Cd69\"          \"Nop10\"         \"Anxa6\"         \"Hk1\"           \"Prkcb\"         \n",
                "## [181] \"Iqgap1\"        \"Keap1\"         \"Rpl7\"          \"Parp10\" \n",
                "nichenet_output$background_expressed_genes %>% length() \n",
                "## [1] 1487 \n"
            ]
        },
        {
            "cell_type": "markdown",
            "metadata": {},
            "source": [
                " \n",
                "### Rerun the NicheNet analysis with different sender cell definition \n",
                " \n",
                "Instead of focusing on multiple sender cell types, it is possible that \n",
                "you are only interested in doing the analyis for one sender cell type, \n",
                "such as dendritic cells in this case. \n",
                " \n"
            ]
        },
        {
            "cell_type": "code",
            "execution_count": null,
            "metadata": {},
            "outputs": [],
            "source": [
                "nichenet_output = nichenet_seuratobj_aggregate(seurat_obj = seuratObj, receiver = \"CD8 T\", condition_colname = \"aggregate\", condition_oi = \"LCMV\", condition_reference = \"SS\", sender = \"DC\", ligand_target_matrix = ligand_target_matrix, lr_network = lr_network, weighted_networks = weighted_networks, organism = \"mouse\") \n",
                "## [1] \"Read in and process NicheNet's networks\" \n",
                "## [1] \"Define expressed ligands and receptors in receiver and sender cells\" \n",
                "## [1] \"Perform DE analysis in receiver cell\" \n",
                "## [1] \"Perform NicheNet ligand activity analysis\" \n",
                "## [1] \"Infer active target genes of the prioritized ligands\" \n",
                "## [1] \"Infer receptors of the prioritized ligands\" \n",
                "## [1] \"Perform DE analysis in sender cells\" \n",
                " \n",
                "nichenet_output$ligand_activity_target_heatmap \n"
            ]
        },
        {
            "cell_type": "markdown",
            "metadata": {},
            "source": [
                " \n",
                "![](seurat_wrapper_files/figure-gfm/unnamed-chunk-26-1.png)<!-- --> \n",
                " \n",
                "Instead of focusing on one or multiple predefined sender cell types, it \n",
                "is also possible that you want to consider all cell types present as \n",
                "possible sender cell. This also includes the receiver cell type, making \n",
                "that you can look at autocrine signaling as well. \n",
                " \n"
            ]
        },
        {
            "cell_type": "code",
            "execution_count": null,
            "metadata": {},
            "outputs": [],
            "source": [
                "nichenet_output = nichenet_seuratobj_aggregate(seurat_obj = seuratObj, receiver = \"CD8 T\", condition_colname = \"aggregate\", condition_oi = \"LCMV\", condition_reference = \"SS\", sender = \"all\", ligand_target_matrix = ligand_target_matrix, lr_network = lr_network, weighted_networks = weighted_networks, organism = \"mouse\") \n",
                "## [1] \"Read in and process NicheNet's networks\" \n",
                "## [1] \"Define expressed ligands and receptors in receiver and sender cells\" \n",
                "## [1] \"Perform DE analysis in receiver cell\" \n",
                "## [1] \"Perform NicheNet ligand activity analysis\" \n",
                "## [1] \"Infer active target genes of the prioritized ligands\" \n",
                "## [1] \"Infer receptors of the prioritized ligands\" \n",
                "## [1] \"Perform DE analysis in sender cells\" \n",
                " \n",
                "nichenet_output$ligand_activity_target_heatmap \n"
            ]
        },
        {
            "cell_type": "markdown",
            "metadata": {},
            "source": [
                " \n",
                "![](seurat_wrapper_files/figure-gfm/unnamed-chunk-27-1.png)<!-- --> \n",
                " \n",
                "In some cases, it could be possible that you don’t have data of \n",
                "potential sender cells. If you still want to predict possible upstream \n",
                "ligands that could have been responsible for the observed differential \n",
                "expression in your cell type, you can do this by following command. This \n",
                "will consider all possible ligands in the NicheNet databases for which a \n",
                "receptor is expressed by the receiver cell of interest. \n",
                " \n"
            ]
        },
        {
            "cell_type": "code",
            "execution_count": null,
            "metadata": {},
            "outputs": [],
            "source": [
                "nichenet_output = nichenet_seuratobj_aggregate(seurat_obj = seuratObj, receiver = \"CD8 T\", condition_colname = \"aggregate\", condition_oi = \"LCMV\", condition_reference = \"SS\", sender = \"undefined\", ligand_target_matrix = ligand_target_matrix, lr_network = lr_network, weighted_networks = weighted_networks, organism = \"mouse\") \n",
                "## [1] \"Read in and process NicheNet's networks\" \n",
                "## [1] \"Define expressed ligands and receptors in receiver and sender cells\" \n",
                "## [1] \"Perform DE analysis in receiver cell\" \n",
                "## [1] \"Perform NicheNet ligand activity analysis\" \n",
                "## [1] \"Infer active target genes of the prioritized ligands\" \n",
                "## [1] \"Infer receptors of the prioritized ligands\" \n",
                " \n",
                "nichenet_output$ligand_activity_target_heatmap \n"
            ]
        },
        {
            "cell_type": "markdown",
            "metadata": {},
            "source": [
                " \n",
                "![](seurat_wrapper_files/figure-gfm/unnamed-chunk-28-1.png)<!-- --> \n",
                " \n",
                "As you can see in this analysis result, many genes DE in CD8 T cells \n",
                "after LCMV infection are strongly predicted type I interferon targets. \n",
                "The presence of a type I interferon signature in the receiver cell type, \n",
                "but the absence of expression of type I interferons in sender cell \n",
                "types, might indicate that type I interferons are expressed by a \n",
                "different, non-profiled cell type, or at a time point before sampling. \n",
                "The latter could make sense, because there always is a time delay \n",
                "between expression of a ligand-encoding gene and the effect of the \n",
                "ligand on a target/receiver cell (i.e. expression of target genes). \n",
                " \n",
                "### Run multiple NicheNet analyses on different receiver cell populations \n",
                " \n",
                "In some cases, you might be interested in multiple target/receiver cell \n",
                "populations. You can decide to run this for every cell type separately, \n",
                "or in one line of code as demonstrated here (results are the same). As \n",
                "example, we could have been interested in explaining DE between \n",
                "steady-state and LCMV infection in both CD8 and CD4 T cells. \n",
                " \n"
            ]
        },
        {
            "cell_type": "code",
            "execution_count": null,
            "metadata": {},
            "outputs": [],
            "source": [
                "receiver_celltypes_oi = c(\"CD4 T\", \"CD8 T\") \n",
                "# receiver_celltypes_oi = seuratObj %>% Idents() %>% unique() # for all celltypes in the dataset: use only when this would make sense biologically \n",
                " \n",
                "nichenet_output = receiver_celltypes_oi %>% lapply(nichenet_seuratobj_aggregate, seurat_obj = seuratObj, condition_colname = \"aggregate\", condition_oi = \"LCMV\", condition_reference = \"SS\", sender = c(\"CD4 T\",\"Treg\", \"Mono\", \"NK\", \"B\", \"DC\"), ligand_target_matrix = ligand_target_matrix, lr_network = lr_network, weighted_networks = weighted_networks, organism = \"mouse\") \n",
                "## [1] \"Read in and process NicheNet's networks\" \n",
                "## [1] \"Define expressed ligands and receptors in receiver and sender cells\" \n",
                "## [1] \"Perform DE analysis in receiver cell\" \n",
                "## [1] \"Perform NicheNet ligand activity analysis\" \n",
                "## [1] \"Infer active target genes of the prioritized ligands\" \n",
                "## [1] \"Infer receptors of the prioritized ligands\" \n",
                "## [1] \"Perform DE analysis in sender cells\" \n",
                "## [1] \"Read in and process NicheNet's networks\" \n",
                "## [1] \"Define expressed ligands and receptors in receiver and sender cells\" \n",
                "## [1] \"Perform DE analysis in receiver cell\" \n",
                "## [1] \"Perform NicheNet ligand activity analysis\" \n",
                "## [1] \"Infer active target genes of the prioritized ligands\" \n",
                "## [1] \"Infer receptors of the prioritized ligands\" \n",
                "## [1] \"Perform DE analysis in sender cells\" \n",
                " \n",
                "names(nichenet_output) = receiver_celltypes_oi \n"
            ]
        },
        {
            "cell_type": "markdown",
            "metadata": {},
            "source": [
                " \n",
                "Check which ligands were top-ranked for both CD8T and CD4T and which \n",
                "ligands were more cell-type specific \n",
                " \n"
            ]
        },
        {
            "cell_type": "code",
            "execution_count": null,
            "metadata": {},
            "outputs": [],
            "source": [
                "common_ligands = intersect(nichenet_output$`CD4 T`$top_ligands, nichenet_output$`CD8 T`$top_ligands) \n",
                "print(\"common ligands are: \") \n",
                "## [1] \"common ligands are: \" \n",
                "print(common_ligands) \n",
                "##  [1] \"Ebi3\"   \"Il15\"   \"Crlf2\"  \"H2-M3\"  \"App\"    \"Ptprc\"  \"Icam1\"  \"Ccl5\"   \"Cxcl10\" \"Tgfb1\"  \"Cxcl11\" \"Sema4d\" \"Cxcl9\"  \"H2-T23\" \"Cxcl16\" \"C3\"     \"Itgb1\" \n",
                " \n",
                "cd4_ligands = nichenet_output$`CD4 T`$top_ligands %>% setdiff(nichenet_output$`CD8 T`$top_ligands) \n",
                "cd8_ligands = nichenet_output$`CD8 T`$top_ligands %>% setdiff(nichenet_output$`CD4 T`$top_ligands) \n",
                " \n",
                "print(\"Ligands specifically regulating DE in CD4T: \") \n",
                "## [1] \"Ligands specifically regulating DE in CD4T: \" \n",
                "print(cd4_ligands) \n",
                "## [1] \"Cd274\" \"Hmgb1\" \"Cd28\" \n",
                " \n",
                "print(\"Ligands specifically regulating DE in CD8T: \") \n",
                "## [1] \"Ligands specifically regulating DE in CD8T: \" \n",
                "print(cd8_ligands) \n",
                "## [1] \"Adam17\" \"Anxa1\"  \"Sell\" \n"
            ]
        },
        {
            "cell_type": "markdown",
            "metadata": {},
            "source": [
                " \n",
                "## NicheNet analysis on Seurat object: explain differential expression between two cell populations \n",
                " \n",
                "Previously, we demonstrated the use of a wrapper function for applying \n",
                "NicheNet to explain differential expression between two conditions in \n",
                "one cell type. However, also differential expression between two cell \n",
                "populations might sometimes be (partially) caused by communication with \n",
                "cells in the neighborhood. For example, differentiation from a \n",
                "progenitor cell to the differentiated cell might be induced by niche \n",
                "cells. A concrete example is discussed in this paper: [Stellate Cells, \n",
                "Hepatocytes, and Endothelial Cells Imprint the Kupffer Cell Identity on \n",
                "Monocytes Colonizing the Liver Macrophage \n",
                "Niche](https://www.cell.com/immunity/fulltext/S1074-7613(19)30368-1). \n",
                " \n",
                "Therefore, we will now also demonstrate the use of another Seurat \n",
                "wrapper function that can be used in the case of explaining differential \n",
                "expression between cell populations. But keep in mind that the \n",
                "comparison that you make should be biologically relevant. It is possible \n",
                "to use NicheNet to explain differential expression beween any two cell \n",
                "populations in your dataset, but in most cases, differential expression \n",
                "between cell populations will be a result of cell-intrinisc properties \n",
                "(i.e. different cell types have a different gene expression profile) and \n",
                "not of intercellular communication processes. In such a case, it does \n",
                "not make any sense to use NicheNet. \n",
                " \n",
                "For demonstration purposes, we will here first change the seuratObject \n",
                "of the data described above, such that it can be used in this setting. \n",
                " \n"
            ]
        },
        {
            "cell_type": "code",
            "execution_count": null,
            "metadata": {},
            "outputs": [],
            "source": [
                "seuratObj@meta.data$celltype = paste(seuratObj@meta.data$celltype,seuratObj@meta.data$aggregate, sep = \"_\") \n",
                " \n",
                "seuratObj@meta.data$celltype %>% table() \n",
                "## . \n",
                "##     B_LCMV       B_SS CD4 T_LCMV   CD4 T_SS CD8 T_LCMV   CD8 T_SS    DC_LCMV      DC_SS  Mono_LCMV    Mono_SS    NK_LCMV      NK_SS  Treg_LCMV    Treg_SS  \n",
                "##        344         38       1961        601       1252        393         14          4         75         15         94         37        146         53 \n",
                " \n",
                "seuratObj = SetIdent(seuratObj,value = \"celltype\") \n"
            ]
        },
        {
            "cell_type": "markdown",
            "metadata": {},
            "source": [
                " \n",
                "Now perform the NicheNet analysis to explain differential expression \n",
                "between the ‘affected’ cell population ‘CD8 T cells after LCMV \n",
                "infection’ and the reference cell population ‘CD8 T cells in \n",
                "steady-state’ by ligands expressed by monocytes and DCs after LCMV \n",
                "infection. \n",
                " \n"
            ]
        },
        {
            "cell_type": "code",
            "execution_count": null,
            "metadata": {},
            "outputs": [],
            "source": [
                "nichenet_output = nichenet_seuratobj_cluster_de( \n",
                "  seurat_obj = seuratObj,  \n",
                "  receiver_reference = \"CD8 T_SS\", receiver_affected = \"CD8 T_LCMV\",  \n",
                "  sender = c(\"DC_LCMV\",\"Mono_LCMV\"),  \n",
                "  ligand_target_matrix = ligand_target_matrix, lr_network = lr_network, weighted_networks = weighted_networks, organism = \"mouse\") \n",
                "## [1] \"Read in and process NicheNet's networks\" \n",
                "## [1] \"Define expressed ligands and receptors in receiver and sender cells\" \n",
                "## [1] \"Perform DE analysis between two receiver cell clusters\" \n",
                "## [1] \"Perform NicheNet ligand activity analysis\" \n",
                "## [1] \"Infer active target genes of the prioritized ligands\" \n",
                "## [1] \"Infer receptors of the prioritized ligands\" \n"
            ]
        },
        {
            "cell_type": "markdown",
            "metadata": {},
            "source": [
                " \n",
                "Check the top-ranked ligands and their target genes \n",
                " \n"
            ]
        },
        {
            "cell_type": "code",
            "execution_count": null,
            "metadata": {},
            "outputs": [],
            "source": [
                "nichenet_output$ligand_activity_target_heatmap \n",
                "\n"
            ]
        },
        {
            "cell_type": "markdown",
            "metadata": {},
            "source": [
                " \n",
                "![](seurat_wrapper_files/figure-gfm/unnamed-chunk-33-1.png)<!-- --> \n",
                " \n",
                "Check the expression of the top-ranked ligands \n",
                " \n"
            ]
        },
        {
            "cell_type": "code",
            "execution_count": null,
            "metadata": {},
            "outputs": [],
            "source": [
                "DotPlot(seuratObj, features = nichenet_output$top_ligands %>% rev(), cols = \"RdYlBu\") + RotatedAxis() \n",
                "\n"
            ]
        },
        {
            "cell_type": "markdown",
            "metadata": {},
            "source": [
                " \n",
                "![](seurat_wrapper_files/figure-gfm/unnamed-chunk-34-1.png)<!-- --> \n",
                " \n",
                "It could be interested to check which top-ranked ligands are \n",
                "differentially expressed in monocytes after LCMV infection \n",
                " \n"
            ]
        },
        {
            "cell_type": "code",
            "execution_count": null,
            "metadata": {},
            "outputs": [],
            "source": [
                "Mono_upregulated_ligands = FindMarkers(seuratObj, ident.1 = \"Mono_LCMV\", ident.2 = \"Mono_SS\") %>% rownames_to_column(\"gene\") %>% filter(avg_log2FC > 0.25 & p_val_adj <= 0.05) %>% pull(gene) %>% intersect(nichenet_output$top_ligands) \n",
                " \n",
                "print(\"Monocyte ligands upregulated after LCMV infection and explaining DE between CD8T-StSt and CD8T-LCMV are: \") \n",
                "## [1] \"Monocyte ligands upregulated after LCMV infection and explaining DE between CD8T-StSt and CD8T-LCMV are: \" \n",
                "print(Mono_upregulated_ligands) \n",
                "## [1] \"Cxcl10\" \n"
            ]
        },
        {
            "cell_type": "markdown",
            "metadata": {},
            "source": [
                " \n",
                "# Remarks \n",
                " \n",
                "1.  Top-ranked ligands and target genes shown here differ from the \n",
                "    predictions shown in the respective case study in the NicheNet paper \n",
                "    because a different definition of expressed genes was used. \n",
                "2.  Differential expression is here done via the classical Wilcoxon test \n",
                "    used in Seurat to define marker genes of a cell cluster by comparing \n",
                "    it to other clusters. This is not optimal if you would have repeated \n",
                "    samples for your conditions. In such a case, we recommend to follow \n",
                "    the vignette [Perform NicheNet analysis starting from a Seurat \n",
                "    object: step-by-step \n",
                "    analysis](seurat_steps.md):`vignette(\"seurat_steps\", package=\"nichenetr\")` \n",
                "    and tweak the differential expression step there (and perform the \n",
                "    analysis e.g. as discussed in <https://github.com/HelenaLC/muscat>). \n",
                " \n",
                "# References \n",
                " \n",
                "Bonnardel et al., 2019, Immunity 51, 1–17, [Stellate Cells, Hepatocytes, \n",
                "and Endothelial Cells Imprint the Kupffer Cell Identity on Monocytes \n",
                "Colonizing the Liver Macrophage \n",
                "Niche](https://doi.org/10.1016/j.immuni.2019.08.017) \n",
                " \n",
                "<div id=\"refs\" class=\"references csl-bib-body hanging-indent\"> \n",
                " \n",
                "<div id=\"ref-medaglia_spatial_2017\" class=\"csl-entry\"> \n",
                " \n",
                "Medaglia, Chiara, Amir Giladi, Liat Stoler-Barak, Marco De Giovanni, \n",
                "Tomer Meir Salame, Adi Biram, Eyal David, et al. 2017. “Spatial \n",
                "Reconstruction of Immune Niches by Combining Photoactivatable Reporters \n",
                "and <span class=\"nocase\">scRNA<\/span>-Seq.” *Science*, December, \n",
                "eaao4277. <https://doi.org/10.1126/science.aao4277>. \n",
                " \n",
                "<\/div> \n",
                " \n",
                "<\/div> \n"
            ]
        }
    ],
    "metadata": {
        "anaconda-cloud": "",
        "kernelspec": {
            "display_name": "R",
            "langauge": "R",
            "name": "ir"
        },
        "language_info": {
            "codemirror_mode": "r",
            "file_extension": ".r",
            "mimetype": "text/x-r-source",
            "name": "R",
            "pygments_lexer": "r",
            "version": "3.4.1"
        }
    },
    "nbformat": 4,
    "nbformat_minor": 1
}
