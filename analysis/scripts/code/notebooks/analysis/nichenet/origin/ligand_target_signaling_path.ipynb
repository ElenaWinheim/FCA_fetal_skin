{
    "cells": [
        {
            "cell_type": "markdown",
            "metadata": {},
            "source": [
                "Inferring ligand-to-target signaling paths \n",
                "================ \n",
                "Robin Browaeys \n",
                "2019-01-17 \n",
                " \n",
                "<!-- github markdown built using  \n",
                "rmarkdown::render(\"vignettes/ligand_target_signaling_path.Rmd\", output_format = \"github_document\") \n",
                "--> \n",
                " \n",
                "### Infer signaling paths beween ligand(s) and target(s) of interest \n",
                " \n",
                "To determine signaling paths between a ligand and target of interest, we \n",
                "look at which transcription factors are best regulating the target genes \n",
                "and are most closely downstream of the ligand (based on the weights of \n",
                "the edges in the integrated ligand-signaling and gene regulatory \n",
                "networks). Then, the shortest paths between these transcription factors \n",
                "and the ligand of interests are determined and genes forming part in \n",
                "this path are considered as important signaling mediators. Finally, we \n",
                "look in our collected data source networks for all interactions between \n",
                "the ligand, signaling mediators, transcription factors and target genes. \n",
                "This allows to both prioritize signaling mediators and check which of \n",
                "all collected data sources support the ligand-target predictions of \n",
                "interest. \n",
                " \n",
                "For this analysis, you need to define: \n",
                " \n",
                "  - one or more ligands of interest \n",
                "  - one or more target genes of interest \n",
                " \n",
                "In this vignette, we will demonstrate how to infer signaling paths \n",
                "between a CAF-ligand (CAF = cancer-associated fibroblast) of interest \n",
                "and some of its top-predicted p-EMT target genes. The output of this \n",
                "analysis can be easily imported into Cytoscape for exploration of the \n",
                "networks. \n",
                " \n",
                "First, we will load the necessary packages and networks to infer \n",
                "signaling paths between ligand and target genes of interest. \n",
                " \n"
            ]
        },
        {
            "cell_type": "code",
            "execution_count": null,
            "metadata": {},
            "outputs": [],
            "source": [
                "library(nichenetr) \n",
                "library(tidyverse) \n",
                " \n",
                "weighted_networks = readRDS(url(\"https://zenodo.org/record/3260758/files/weighted_networks.rds\")) \n",
                "ligand_tf_matrix = readRDS(url(\"https://zenodo.org/record/3260758/files/ligand_tf_matrix.rds\")) \n",
                " \n",
                "lr_network = readRDS(url(\"https://zenodo.org/record/3260758/files/lr_network.rds\")) \n",
                "sig_network = readRDS(url(\"https://zenodo.org/record/3260758/files/signaling_network.rds\")) \n",
                "gr_network = readRDS(url(\"https://zenodo.org/record/3260758/files/gr_network.rds\")) \n"
            ]
        },
        {
            "cell_type": "markdown",
            "metadata": {},
            "source": [
                " \n",
                "As example, we will infer signaling paths between the CAF-ligand TGFB3 \n",
                "and its top-predicted p-EMT target genes TGFBI, LAMC2 and \n",
                "TNC. \n",
                " \n"
            ]
        },
        {
            "cell_type": "code",
            "execution_count": null,
            "metadata": {},
            "outputs": [],
            "source": [
                "ligands_all = \"TGFB3\" # this can be a list of multiple ligands if required \n",
                "targets_all = c(\"TGFBI\",\"LAMC2\",\"TNC\") \n",
                " \n",
                "active_signaling_network = get_ligand_signaling_path(ligand_tf_matrix = ligand_tf_matrix, ligands_all = ligands_all, targets_all = targets_all, weighted_networks = weighted_networks) \n",
                " \n",
                "# For better visualization of edge weigths: normalize edge weights to make them comparable between signaling and gene regulatory interactions \n",
                "active_signaling_network_min_max = active_signaling_network \n",
                "active_signaling_network_min_max$sig = active_signaling_network_min_max$sig %>% mutate(weight = ((weight-min(weight))/(max(weight)-min(weight))) + 0.75) \n",
                "active_signaling_network_min_max$gr = active_signaling_network_min_max$gr %>% mutate(weight = ((weight-min(weight))/(max(weight)-min(weight))) + 0.75) \n",
                " \n",
                "graph_min_max = diagrammer_format_signaling_graph(signaling_graph_list = active_signaling_network_min_max, ligands_all = ligands_all, targets_all = targets_all, sig_color = \"indianred\", gr_color = \"steelblue\") \n",
                " \n",
                "# To render the graph: uncomment following line of code \n",
                "# DiagrammeR::render_graph(graph_min_max, layout = \"tree\") \n"
            ]
        },
        {
            "cell_type": "markdown",
            "metadata": {},
            "source": [
                " \n",
                "![](tgfb3_targets_signaling_path.png) \n",
                " \n",
                "We will now look which of the collected data sources support the \n",
                "interactions in this \n",
                "network. \n",
                " \n"
            ]
        },
        {
            "cell_type": "code",
            "execution_count": null,
            "metadata": {},
            "outputs": [],
            "source": [
                "data_source_network = infer_supporting_datasources(signaling_graph_list = active_signaling_network,lr_network = lr_network, sig_network = sig_network, gr_network = gr_network) \n",
                "head(data_source_network)  \n",
                "## # A tibble: 6 x 5 \n",
                "##   from  to    source            database       layer      \n",
                "##   <chr> <chr> <chr>             <chr>          <chr>      \n",
                "## 1 SMAD1 TGFBI regnetwork_source regnetwork     regulatory \n",
                "## 2 SMAD1 TGFBI Remap_5           Remap          regulatory \n",
                "## 3 SMAD2 LAMC2 harmonizome_CHEA  harmonizome_gr regulatory \n",
                "## 4 SMAD2 TGFBI harmonizome_CHEA  harmonizome_gr regulatory \n",
                "## 5 SMAD2 TNC   harmonizome_CHEA  harmonizome_gr regulatory \n",
                "## 6 SMAD2 TNC   regnetwork_source regnetwork     regulatory \n"
            ]
        },
        {
            "cell_type": "markdown",
            "metadata": {},
            "source": [
                " \n",
                "For information of all mentioned data sources in the source column (link \n",
                "to the website of the database, etc), see [Data source \n",
                "information](data_sources.xlsx) \n",
                " \n",
                "### Export to Cytoscape \n",
                " \n",
                "Export the following to e.g. Cytoscape for exploration of the networks \n",
                " \n"
            ]
        },
        {
            "cell_type": "code",
            "execution_count": null,
            "metadata": {},
            "outputs": [],
            "source": [
                "output_path = \"\" \n",
                "write_output = FALSE # change to TRUE for writing output \n",
                " \n",
                "# weighted networks ('import network' in Cytoscape) \n",
                "if(write_output){ \n",
                "  bind_rows(active_signaling_network$sig %>% mutate(layer = \"signaling\"), active_signaling_network$gr %>% mutate(layer = \"regulatory\")) %>% write_tsv(paste0(output_path,\"weighted_signaling_network.txt\"))  \n",
                "} \n",
                " \n",
                "# networks with information of supporting data sources ('import network' in Cytoscape) \n",
                "if(write_output){ \n",
                "data_source_network %>% write_tsv(paste0(output_path,\"data_source_network.txt\")) \n",
                "} \n",
                " \n",
                "# Node annotation table ('import table' in Cytoscape) \n",
                "specific_annotation_tbl = bind_rows( \n",
                "  tibble(gene = ligands_all, annotation = \"ligand\"), \n",
                "  tibble(gene = targets_all, annotation = \"target\"), \n",
                "  tibble(gene = c(data_source_network$from, data_source_network$to) %>% unique() %>% setdiff(c(targets_all,ligands_all)) %>% intersect(lr_network$to %>% unique()), annotation = \"receptor\"), \n",
                "  tibble(gene = c(data_source_network$from, data_source_network$to) %>% unique() %>% setdiff(c(targets_all,ligands_all)) %>% intersect(gr_network$from %>% unique()) %>% setdiff(c(data_source_network$from, data_source_network$to) %>% unique() %>% intersect(lr_network$to %>% unique())),annotation = \"transcriptional regulator\") \n",
                ") \n",
                "non_specific_annotation_tbl = tibble(gene = c(data_source_network$from, data_source_network$to) %>% unique() %>% setdiff(specific_annotation_tbl$gene), annotation = \"signaling mediator\") \n",
                " \n",
                "if(write_output){ \n",
                "bind_rows(specific_annotation_tbl,non_specific_annotation_tbl) %>% write_tsv(paste0(output_path,\"annotation_table.txt\")) \n",
                "} \n"
            ]
        }
    ],
    "metadata": {
        "anaconda-cloud": "",
        "kernelspec": {
            "display_name": "R",
            "langauge": "R",
            "name": "ir"
        },
        "language_info": {
            "codemirror_mode": "r",
            "file_extension": ".r",
            "mimetype": "text/x-r-source",
            "name": "R",
            "pygments_lexer": "r",
            "version": "3.4.1"
        }
    },
    "nbformat": 4,
    "nbformat_minor": 1
}
