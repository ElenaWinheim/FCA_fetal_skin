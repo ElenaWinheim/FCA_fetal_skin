{
    "cells": [
        {
            "cell_type": "markdown",
            "metadata": {},
            "source": [
                "Assess how well top-ranked ligands can predict a gene set of interest \n",
                "================ \n",
                "Robin Browaeys \n",
                "2019-02-19 \n",
                " \n",
                "<!-- github markdown built using \n",
                "rmarkdown::render(\"vignettes/target_prediction_evaluation_geneset.Rmd\", output_format = \"github_document\") \n",
                "--> \n",
                " \n",
                "This vignette shows how NicheNet can be used to to predict which ligands \n",
                "might regulate a given set of genes and how well they do this \n",
                "prediction. For this analysis, you need to define: \n",
                " \n",
                "  - a set of genes of which expression in a “receiver cell” is possibly \n",
                "    affected by extracellular protein signals (ligands) (e.g. genes \n",
                "    differentially expressed upon cell-cell interaction ) \n",
                "  - a set of potentially active ligands (e.g. ligands expressed by \n",
                "    interacting “sender cells”) \n",
                " \n",
                "Therefore, you often first need to process expression data of \n",
                "interacting cells to define both. \n",
                " \n",
                "In this example, we will use data from Puram et al. to explore \n",
                "intercellular communication in the tumor microenvironment in head and \n",
                "neck squamous cell carcinoma (HNSCC) (See Puram et al. 2017). More \n",
                "specifically, we will look at which ligands expressed by \n",
                "cancer-associated fibroblasts (CAFs) can induce a specific gene program \n",
                "in neighboring malignant cells. This program, a partial \n",
                "epithelial-mesenschymal transition (p-EMT) program, could be linked by \n",
                "Puram et al. to metastasis. \n",
                " \n",
                "For this analysis, we will first assess the ligand activity of each \n",
                "ligand, or in other words, we will assess how well each CAF-ligand can \n",
                "predict the p-EMT gene set compared to the background of expressed \n",
                "genes. This allows us to prioritize p-EMT-regulating ligands. Then, we \n",
                "will assess how well the prioritized ligands together can predict \n",
                "whether genes belong to the gene set of interest or not. \n",
                " \n",
                "The used ligand-target matrix and example expression data of interacting \n",
                "cells can be downloaded from Zenodo. \n",
                "[![DOI](https://zenodo.org/badge/DOI/10.5281/zenodo.3260758.svg)](https://doi.org/10.5281/zenodo.3260758) \n",
                " \n",
                "### Load packages required for this vignette \n",
                " \n"
            ]
        },
        {
            "cell_type": "code",
            "execution_count": null,
            "metadata": {},
            "outputs": [],
            "source": [
                "library(nichenetr) \n",
                "library(tidyverse) \n"
            ]
        },
        {
            "cell_type": "markdown",
            "metadata": {},
            "source": [
                " \n",
                "### Read in expression data of interacting cells \n",
                " \n",
                "First, we will read in the publicly available single-cell data from CAF \n",
                "and malignant cells from HNSCC \n",
                "tumors. \n",
                " \n"
            ]
        },
        {
            "cell_type": "code",
            "execution_count": null,
            "metadata": {},
            "outputs": [],
            "source": [
                "hnscc_expression = readRDS(url(\"https://zenodo.org/record/3260758/files/hnscc_expression.rds\")) \n",
                "expression = hnscc_expression$expression \n",
                "sample_info = hnscc_expression$sample_info # contains meta-information about the cells \n"
            ]
        },
        {
            "cell_type": "markdown",
            "metadata": {},
            "source": [
                " \n",
                "Secondly, we will determine which genes are expressed in CAFs and \n",
                "malignant cells from high quality primary tumors. Therefore, we wil not \n",
                "consider cells from tumor samples of less quality or from lymph node \n",
                "metastases. To determine expressed genes, we use the definition used by \n",
                "of Puram et \n",
                "al. \n",
                " \n"
            ]
        },
        {
            "cell_type": "code",
            "execution_count": null,
            "metadata": {},
            "outputs": [],
            "source": [
                "tumors_remove = c(\"HN10\",\"HN\",\"HN12\", \"HN13\", \"HN24\", \"HN7\", \"HN8\",\"HN23\") \n",
                " \n",
                "CAF_ids = sample_info %>% filter(`Lymph node` == 0 & !(tumor %in% tumors_remove) & `non-cancer cell type` == \"CAF\") %>% pull(cell) \n",
                "malignant_ids = sample_info %>% filter(`Lymph node` == 0 & !(tumor %in% tumors_remove) & `classified  as cancer cell` == 1) %>% pull(cell) \n",
                " \n",
                "expressed_genes_CAFs = expression[CAF_ids,] %>% apply(2,function(x){10*(2**x - 1)}) %>% apply(2,function(x){log2(mean(x) + 1)}) %>% .[. >= 4] %>% names() \n",
                "expressed_genes_malignant = expression[malignant_ids,] %>% apply(2,function(x){10*(2**x - 1)}) %>% apply(2,function(x){log2(mean(x) + 1)}) %>% .[. >= 4] %>% names() \n"
            ]
        },
        {
            "cell_type": "markdown",
            "metadata": {},
            "source": [
                " \n",
                "### Load the ligand-target model we want to use \n",
                " \n"
            ]
        },
        {
            "cell_type": "code",
            "execution_count": null,
            "metadata": {},
            "outputs": [],
            "source": [
                "ligand_target_matrix = readRDS(url(\"https://zenodo.org/record/3260758/files/ligand_target_matrix.rds\")) \n",
                "ligand_target_matrix[1:5,1:5] # target genes in rows, ligands in columns \n",
                "##                 CXCL1        CXCL2        CXCL3        CXCL5         PPBP \n",
                "## A1BG     3.534343e-04 4.041324e-04 3.729920e-04 3.080640e-04 2.628388e-04 \n",
                "## A1BG-AS1 1.650894e-04 1.509213e-04 1.583594e-04 1.317253e-04 1.231819e-04 \n",
                "## A1CF     5.787175e-04 4.596295e-04 3.895907e-04 3.293275e-04 3.211944e-04 \n",
                "## A2M      6.027058e-04 5.996617e-04 5.164365e-04 4.517236e-04 4.590521e-04 \n",
                "## A2M-AS1  8.898724e-05 8.243341e-05 7.484018e-05 4.912514e-05 5.120439e-05 \n"
            ]
        },
        {
            "cell_type": "markdown",
            "metadata": {},
            "source": [
                " \n",
                "### Load the gene set of interest and background of genes \n",
                " \n",
                "As gene set of interest, we consider the genes of which the expression \n",
                "is possibly affected due to communication with other cells. \n",
                " \n",
                "Because we here want to investigate how CAF regulate the expression of \n",
                "p-EMT genes in malignant cells, we will use the p-EMT gene set defined \n",
                "by Puram et al. as gene set of interset and use all genes expressed in \n",
                "malignant cells as background of \n",
                "genes. \n",
                " \n"
            ]
        },
        {
            "cell_type": "code",
            "execution_count": null,
            "metadata": {},
            "outputs": [],
            "source": [
                "pemt_geneset = readr::read_tsv(url(\"https://zenodo.org/record/3260758/files/pemt_signature.txt\"), col_names = \"gene\") %>% pull(gene) %>% .[. %in% rownames(ligand_target_matrix)] # only consider genes also present in the NicheNet model - this excludes genes from the gene list for which the official HGNC symbol was not used by Puram et al. \n",
                "head(pemt_geneset) \n",
                "## [1] \"SERPINE1\" \"TGFBI\"    \"MMP10\"    \"LAMC2\"    \"P4HA2\"    \"PDPN\" \n",
                "background_expressed_genes = expressed_genes_malignant %>% .[. %in% rownames(ligand_target_matrix)] \n",
                "head(background_expressed_genes) \n",
                "## [1] \"RPS11\"   \"ELMO2\"   \"PNMA1\"   \"MMP2\"    \"TMEM216\" \"ERCC5\" \n"
            ]
        },
        {
            "cell_type": "markdown",
            "metadata": {},
            "source": [
                " \n",
                "### Perform NicheNet’s ligand activity analysis on the gene set of interest \n",
                " \n",
                "In a first step, we will define a set of potentially active ligands. As \n",
                "potentially active ligands, we will use ligands that are 1) expressed by \n",
                "CAFs and 2) can bind a (putative) receptor expressed by malignant cells. \n",
                "Putative ligand-receptor links were gathered from NicheNet’s \n",
                "ligand-receptor data \n",
                "sources. \n",
                " \n"
            ]
        },
        {
            "cell_type": "code",
            "execution_count": null,
            "metadata": {},
            "outputs": [],
            "source": [
                "lr_network = readRDS(url(\"https://zenodo.org/record/3260758/files/lr_network.rds\")) \n",
                " \n",
                "ligands = lr_network %>% pull(from) %>% unique() \n",
                "expressed_ligands = intersect(ligands,expressed_genes_CAFs) \n",
                " \n",
                "receptors = lr_network %>% pull(to) %>% unique() \n",
                "expressed_receptors = intersect(receptors,expressed_genes_malignant) \n",
                " \n",
                "potential_ligands = lr_network %>% filter(from %in% expressed_ligands & to %in% expressed_receptors) %>% pull(from) %>% unique() \n",
                "head(potential_ligands) \n",
                "## [1] \"HGF\"     \"TNFSF10\" \"TGFB2\"   \"TGFB3\"   \"INHBA\"   \"CD99\" \n"
            ]
        },
        {
            "cell_type": "markdown",
            "metadata": {},
            "source": [
                " \n",
                "Now perform the ligand activity analysis: infer how well NicheNet’s \n",
                "ligand-target potential scores can predict whether a gene belongs to the \n",
                "p-EMT program or \n",
                "not. \n",
                " \n"
            ]
        },
        {
            "cell_type": "code",
            "execution_count": null,
            "metadata": {},
            "outputs": [],
            "source": [
                "ligand_activities = predict_ligand_activities(geneset = pemt_geneset, background_expressed_genes = background_expressed_genes, ligand_target_matrix = ligand_target_matrix, potential_ligands = potential_ligands) \n",
                "\n"
            ]
        },
        {
            "cell_type": "markdown",
            "metadata": {},
            "source": [
                " \n",
                "Now, we want to rank the ligands based on their ligand activity. In our \n",
                "validation study, we showed that the pearson correlation between a \n",
                "ligand’s target predictions and the observed transcriptional response \n",
                "was the most informative measure to define ligand activity. Therefore, \n",
                "we will rank the ligands based on their pearson correlation coefficient. \n",
                " \n"
            ]
        },
        {
            "cell_type": "code",
            "execution_count": null,
            "metadata": {},
            "outputs": [],
            "source": [
                "ligand_activities %>% arrange(-pearson) \n",
                "## # A tibble: 131 x 4 \n",
                "##    test_ligand auroc   aupr pearson \n",
                "##    <chr>       <dbl>  <dbl>   <dbl> \n",
                "##  1 PTHLH       0.667 0.0720   0.128 \n",
                "##  2 CXCL12      0.680 0.0507   0.123 \n",
                "##  3 AGT         0.676 0.0581   0.120 \n",
                "##  4 TGFB3       0.689 0.0454   0.117 \n",
                "##  5 IL6         0.693 0.0510   0.115 \n",
                "##  6 INHBA       0.695 0.0502   0.113 \n",
                "##  7 ADAM17      0.672 0.0526   0.113 \n",
                "##  8 TNC         0.700 0.0444   0.109 \n",
                "##  9 CTGF        0.680 0.0473   0.108 \n",
                "## 10 FN1         0.679 0.0505   0.108 \n",
                "## # ... with 121 more rows \n",
                "best_upstream_ligands = ligand_activities %>% top_n(20, pearson) %>% arrange(-pearson) %>% pull(test_ligand) \n",
                "head(best_upstream_ligands) \n",
                "## [1] \"PTHLH\"  \"CXCL12\" \"AGT\"    \"TGFB3\"  \"IL6\"    \"INHBA\" \n"
            ]
        },
        {
            "cell_type": "markdown",
            "metadata": {},
            "source": [
                " \n",
                "For the top 20 ligands, we will now build a multi-ligand model that uses \n",
                "all top-ranked ligands to predict whether a gene belongs to the p-EMT \n",
                "program of not. This classification model will be trained via \n",
                "cross-validation and returns a probability for every \n",
                "gene. \n",
                " \n"
            ]
        },
        {
            "cell_type": "code",
            "execution_count": null,
            "metadata": {},
            "outputs": [],
            "source": [
                "# change rounds and folds here, to two rounds to reduce time: normally: do multiple rounds \n",
                "k = 3 # 3-fold \n",
                "n = 2 # 2 rounds \n",
                " \n",
                "pemt_gene_predictions_top20_list = seq(n) %>% lapply(assess_rf_class_probabilities, folds = k, geneset = pemt_geneset, background_expressed_genes = background_expressed_genes, ligands_oi = best_upstream_ligands, ligand_target_matrix = ligand_target_matrix) \n"
            ]
        },
        {
            "cell_type": "markdown",
            "metadata": {},
            "source": [
                " \n",
                "Evaluate now how well the target gene probabilies accord to the gene set \n",
                "assignments \n",
                " \n"
            ]
        },
        {
            "cell_type": "code",
            "execution_count": null,
            "metadata": {},
            "outputs": [],
            "source": [
                "# get performance: auroc-aupr-pearson \n",
                "target_prediction_performances_cv = pemt_gene_predictions_top20_list %>% lapply(classification_evaluation_continuous_pred_wrapper) %>% bind_rows() %>% mutate(round=seq(1:nrow(.))) \n"
            ]
        },
        {
            "cell_type": "markdown",
            "metadata": {},
            "source": [
                " \n",
                "What is the AUROC, AUPR and PCC of this model (averaged over \n",
                "cross-validation rounds)? \n",
                " \n"
            ]
        },
        {
            "cell_type": "code",
            "execution_count": null,
            "metadata": {},
            "outputs": [],
            "source": [
                "target_prediction_performances_cv$auroc %>% mean() \n",
                "## [1] 0.7295863 \n",
                "target_prediction_performances_cv$aupr %>% mean() \n",
                "## [1] 0.07603073 \n",
                "target_prediction_performances_cv$pearson %>% mean() \n",
                "## [1] 0.1660327 \n"
            ]
        },
        {
            "cell_type": "markdown",
            "metadata": {},
            "source": [
                " \n",
                "Evaluate now whether genes belonging to the gene set are more likely to \n",
                "be top-predicted. We will look at the top 5% of predicted targets \n",
                "here. \n",
                " \n"
            ]
        },
        {
            "cell_type": "code",
            "execution_count": null,
            "metadata": {},
            "outputs": [],
            "source": [
                "# get performance: how many p-EMT genes and non-p-EMT-genes among top 5% predicted targets \n",
                "target_prediction_performances_discrete_cv = pemt_gene_predictions_top20_list %>% lapply(calculate_fraction_top_predicted, quantile_cutoff = 0.95) %>% bind_rows() %>% ungroup() %>% mutate(round=rep(1:length(pemt_gene_predictions_top20_list), each = 2)) \n"
            ]
        },
        {
            "cell_type": "markdown",
            "metadata": {},
            "source": [
                " \n",
                "What is the fraction of p-EMT genes that belongs to the top 5% predicted \n",
                "targets? \n",
                " \n"
            ]
        },
        {
            "cell_type": "code",
            "execution_count": null,
            "metadata": {},
            "outputs": [],
            "source": [
                "target_prediction_performances_discrete_cv %>% filter(true_target) %>% .$fraction_positive_predicted %>% mean() \n",
                "## [1] 0.25 \n"
            ]
        },
        {
            "cell_type": "markdown",
            "metadata": {},
            "source": [
                " \n",
                "What is the fraction of non-p-EMT genes that belongs to the top 5% \n",
                "predicted \n",
                "targets? \n",
                " \n"
            ]
        },
        {
            "cell_type": "code",
            "execution_count": null,
            "metadata": {},
            "outputs": [],
            "source": [
                "target_prediction_performances_discrete_cv %>% filter(!true_target) %>% .$fraction_positive_predicted %>% mean() \n",
                "## [1] 0.04769076 \n"
            ]
        },
        {
            "cell_type": "markdown",
            "metadata": {},
            "source": [
                " \n",
                "We see that the p-EMT genes are enriched in the top-predicted target \n",
                "genes. To test this, we will now apply a Fisher’s exact test for every \n",
                "cross-validation round and report the average \n",
                "p-value. \n",
                " \n"
            ]
        },
        {
            "cell_type": "code",
            "execution_count": null,
            "metadata": {},
            "outputs": [],
            "source": [
                "target_prediction_performances_discrete_fisher = pemt_gene_predictions_top20_list %>% lapply(calculate_fraction_top_predicted_fisher, quantile_cutoff = 0.95)  \n",
                "target_prediction_performances_discrete_fisher %>% unlist() %>% mean() \n",
                "## [1] 5.647773e-10 \n"
            ]
        },
        {
            "cell_type": "markdown",
            "metadata": {},
            "source": [
                " \n",
                "Finally, we will look at which p-EMT genes are well-predicted in every \n",
                "cross-validation round. \n",
                " \n"
            ]
        },
        {
            "cell_type": "code",
            "execution_count": null,
            "metadata": {},
            "outputs": [],
            "source": [
                "# get top predicted genes \n",
                "top_predicted_genes = seq(length(pemt_gene_predictions_top20_list)) %>% lapply(get_top_predicted_genes,pemt_gene_predictions_top20_list) %>% reduce(full_join, by = c(\"gene\",\"true_target\")) \n",
                "top_predicted_genes %>% filter(true_target) \n",
                "## # A tibble: 28 x 4 \n",
                "##    gene    true_target predicted_top_target_roun~ predicted_top_target_rou~ \n",
                "##    <chr>   <lgl>       <lgl>                      <lgl>                     \n",
                "##  1 COL1A1  TRUE        TRUE                       TRUE                      \n",
                "##  2 MMP2    TRUE        TRUE                       TRUE                      \n",
                "##  3 MMP1    TRUE        TRUE                       TRUE                      \n",
                "##  4 PLAU    TRUE        TRUE                       TRUE                      \n",
                "##  5 TIMP3   TRUE        TRUE                       TRUE                      \n",
                "##  6 MT2A    TRUE        TRUE                       TRUE                      \n",
                "##  7 INHBA   TRUE        TRUE                       TRUE                      \n",
                "##  8 COL4A2  TRUE        TRUE                       TRUE                      \n",
                "##  9 MMP10   TRUE        TRUE                       TRUE                      \n",
                "## 10 COL17A1 TRUE        TRUE                       TRUE                      \n",
                "## # ... with 18 more rows \n"
            ]
        },
        {
            "cell_type": "markdown",
            "metadata": {},
            "source": [
                " \n",
                "### References \n",
                " \n",
                "<div id=\"refs\" class=\"references\"> \n",
                " \n",
                "<div id=\"ref-puram_single-cell_2017\"> \n",
                " \n",
                "Puram, Sidharth V., Itay Tirosh, Anuraag S. Parikh, Anoop P. Patel, \n",
                "Keren Yizhak, Shawn Gillespie, Christopher Rodman, et al. 2017. \n",
                "“Single-Cell Transcriptomic Analysis of Primary and Metastatic Tumor \n",
                "Ecosystems in Head and Neck Cancer.” *Cell* 171 (7): 1611–1624.e24. \n",
                "<https://doi.org/10.1016/j.cell.2017.10.044>. \n",
                " \n",
                "<\/div> \n",
                " \n",
                "<\/div> \n"
            ]
        }
    ],
    "metadata": {
        "anaconda-cloud": "",
        "kernelspec": {
            "display_name": "R",
            "langauge": "R",
            "name": "ir"
        },
        "language_info": {
            "codemirror_mode": "r",
            "file_extension": ".r",
            "mimetype": "text/x-r-source",
            "name": "R",
            "pygments_lexer": "r",
            "version": "3.4.1"
        }
    },
    "nbformat": 4,
    "nbformat_minor": 1
}
