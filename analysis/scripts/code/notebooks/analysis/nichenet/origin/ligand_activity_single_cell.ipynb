{
 "cells": [
  {
   "cell_type": "markdown",
   "metadata": {},
   "source": [
    "Single-cell NicheNet’s ligand activity analysis \n",
    "================ \n",
    "Robin Browaeys \n",
    "2018-11-12 \n",
    " \n",
    "<!-- github markdown built using  \n",
    "rmarkdown::render(\"vignettes/ligand_activity_single_cell.Rmd\", output_format = \"github_document\") \n",
    "--> \n",
    " \n",
    "This vignette shows how NicheNet can be used to predict which ligands \n",
    "might be active in single-cells. If a ligand has a high activity in a \n",
    "cell, this means that target genes of that ligand are stronger expressed \n",
    "in that cell than in other cells. In this example, we will use data from \n",
    "Puram et al. to explore intercellular communication in the tumor \n",
    "microenvironment in head and neck squamous cell carcinoma (HNSCC) (See \n",
    "Puram et al. 2017). More specifically, we will assess the activity of \n",
    "cancer-associated fibroblast (CAF) ligands in malignant cells. The used \n",
    "ligand-target matrix and example expression data of interacting cells \n",
    "can be downloaded from Zenodo \n",
    "[![DOI](https://zenodo.org/badge/DOI/10.5281/zenodo.3260758.svg)](https://doi.org/10.5281/zenodo.3260758). \n",
    " \n",
    "In order to prioritize ligands regulating a process of interest, you can \n",
    "perform a regression/correlation analysis between ligand activities in \n",
    "cells, and scores of a cell corresponding to the process of interest. \n",
    "For example, in this case study we were interested in finding ligands \n",
    "regulating p-EMT. Therefore we correlated ligand activities to the p-EMT \n",
    "scores of cells. \n",
    " \n",
    "The purpose of this single-cell ligand activity analysis is to offer a \n",
    "complementary way to prioritize ligands driving the process of interest \n",
    "and to better analyze heterogeneity in ligand activity between different \n",
    "cells. \n",
    " \n",
    "### Load nichenetr and tidyverse \n",
    " \n"
   ]
  },
  {
   "cell_type": "code",
   "execution_count": null,
   "metadata": {},
   "outputs": [],
   "source": [
    "library(nichenetr) \n",
    "library(tidyverse) \n"
   ]
  },
  {
   "cell_type": "markdown",
   "metadata": {},
   "source": [
    " \n",
    "### Read in expression data of interacting cells \n",
    " \n",
    "First, we will read in the single-cell data from CAF and malignant cells \n",
    "from HNSCC tumors (See Puram et al. \n",
    "2017). \n",
    " \n"
   ]
  },
  {
   "cell_type": "code",
   "execution_count": null,
   "metadata": {},
   "outputs": [],
   "source": [
    "hnscc_expression = readRDS(url(\"https://zenodo.org/record/3260758/files/hnscc_expression.rds\")) \n",
    "expression = hnscc_expression$expression \n",
    "sample_info = hnscc_expression$sample_info # contains meta-information about the cells \n"
   ]
  },
  {
   "cell_type": "markdown",
   "metadata": {},
   "source": [
    " \n",
    "Secondly, we will determine which genes are expressed in CAFs and \n",
    "malignant cells from high quality primary tumors. Therefore, we wil not \n",
    "consider cells from tumor samples of less quality or from lymph node \n",
    "metastases. To determine expressed genes, we use the definition used by \n",
    "of Puram et \n",
    "al. \n",
    " \n"
   ]
  },
  {
   "cell_type": "code",
   "execution_count": null,
   "metadata": {},
   "outputs": [],
   "source": [
    "tumors_remove = c(\"HN10\",\"HN\",\"HN12\", \"HN13\", \"HN24\", \"HN7\", \"HN8\",\"HN23\") \n",
    " \n",
    "CAF_ids = sample_info %>% filter(`Lymph node` == 0) %>% filter((tumor %in% tumors_remove == FALSE)) %>% filter(`non-cancer cell type` == \"CAF\") %>% .$cell \n",
    "malignant_ids = sample_info %>% filter(`Lymph node` == 0) %>% filter(`classified  as cancer cell` == 1) %>% filter((tumor %in% tumors_remove == FALSE)) %>% .$cell \n",
    " \n",
    "expressed_genes_CAFs = expression[CAF_ids,] %>% apply(2,function(x){10*(2**x - 1)}) %>% apply(2,function(x){log2(mean(x) + 1)}) %>% .[. >= 4] %>% names() \n",
    "expressed_genes_malignant = expression[malignant_ids,] %>% apply(2,function(x){10*(2**x - 1)}) %>% apply(2,function(x){log2(mean(x) + 1)}) %>% .[. >= 4] %>% names() \n"
   ]
  },
  {
   "cell_type": "markdown",
   "metadata": {},
   "source": [
    " \n",
    "### Load the ligand-target model we want to use \n",
    " \n"
   ]
  },
  {
   "cell_type": "code",
   "execution_count": null,
   "metadata": {},
   "outputs": [],
   "source": [
    "ligand_target_matrix = readRDS(url(\"https://zenodo.org/record/3260758/files/ligand_target_matrix.rds\")) \n",
    "ligand_target_matrix[1:5,1:5] # target genes in rows, ligands in columns \n",
    "##                 CXCL1        CXCL2        CXCL3        CXCL5         PPBP \n",
    "## A1BG     3.534343e-04 4.041324e-04 3.729920e-04 3.080640e-04 2.628388e-04 \n",
    "## A1BG-AS1 1.650894e-04 1.509213e-04 1.583594e-04 1.317253e-04 1.231819e-04 \n",
    "## A1CF     5.787175e-04 4.596295e-04 3.895907e-04 3.293275e-04 3.211944e-04 \n",
    "## A2M      6.027058e-04 5.996617e-04 5.164365e-04 4.517236e-04 4.590521e-04 \n",
    "## A2M-AS1  8.898724e-05 8.243341e-05 7.484018e-05 4.912514e-05 5.120439e-05 \n"
   ]
  },
  {
   "cell_type": "markdown",
   "metadata": {},
   "source": [
    " \n",
    "### Perform NicheNet’s single-cell ligand activity analysis \n",
    " \n",
    "In a first step, we will define a set of potentially active ligands. As \n",
    "potentially active ligands, we will use ligands that are 1) expressed by \n",
    "CAFs and 2) can bind a (putative) receptor expressed by malignant cells. \n",
    "Putative ligand-receptor links were gathered from NicheNet’s \n",
    "ligand-receptor data \n",
    "sources. \n",
    " \n"
   ]
  },
  {
   "cell_type": "code",
   "execution_count": null,
   "metadata": {},
   "outputs": [],
   "source": [
    "lr_network = readRDS(url(\"https://zenodo.org/record/3260758/files/lr_network.rds\")) \n",
    "ligands = lr_network$from %>% unique() \n",
    "expressed_ligands = intersect(ligands,expressed_genes_CAFs) \n",
    "receptors = lr_network$to %>% unique() \n",
    "expressed_receptors = intersect(receptors,expressed_genes_malignant) \n",
    " \n",
    "potential_ligands = lr_network %>% filter(from %in% expressed_ligands & to %in% expressed_receptors) %>% .$from %>% unique() \n",
    "head(potential_ligands) \n",
    "## [1] \"HGF\"     \"TNFSF10\" \"TGFB2\"   \"TGFB3\"   \"INHBA\"   \"CD99\" \n"
   ]
  },
  {
   "cell_type": "markdown",
   "metadata": {},
   "source": [
    " \n",
    "In a second step, we will scale the single-cell expression data \n",
    "(including only expressed \n",
    "genes). \n",
    " \n"
   ]
  },
  {
   "cell_type": "code",
   "execution_count": null,
   "metadata": {},
   "outputs": [],
   "source": [
    "background_expressed_genes = expressed_genes_malignant %>% .[. %in% rownames(ligand_target_matrix)] \n",
    "expression_scaled = expression %>% .[malignant_ids,background_expressed_genes] %>% scale_quantile() \n"
   ]
  },
  {
   "cell_type": "markdown",
   "metadata": {},
   "source": [
    " \n",
    "Now perform the ligand activity analysis: infer how well NicheNet’s \n",
    "ligand-target potential scores can predict whether a gene belongs to \n",
    "most strongly expressed genes in a cell compared to other cells. To \n",
    "reduce the running time for this vignette, we will perform the analysis \n",
    "only on 10 example cells from the HN5 tumor. This vignette’s only \n",
    "purpose is to illustrate the analysis. \n",
    " \n",
    "In practice, ligand activity analysis for several cells can be better \n",
    "run in parallel (via \n",
    "e.g. parallel::mclapply)\\! \n",
    " \n"
   ]
  },
  {
   "cell_type": "code",
   "execution_count": null,
   "metadata": {},
   "outputs": [],
   "source": [
    "malignant_hn5_ids = sample_info %>% filter(tumor == \"HN5\") %>% filter(`Lymph node` == 0) %>% filter(`classified  as cancer cell` == 1)  %>% .$cell %>% head(10) \n",
    " \n",
    "ligand_activities = predict_single_cell_ligand_activities(cell_ids = malignant_hn5_ids, expression_scaled = expression_scaled, ligand_target_matrix = ligand_target_matrix, potential_ligands = potential_ligands) \n"
   ]
  },
  {
   "cell_type": "markdown",
   "metadata": {},
   "source": [
    " \n",
    "### Ligand prioritization by regression analysis \n",
    " \n",
    "Furthermore, we will also show how you can perform additional analyses \n",
    "by linking the ligand activity in cells to other properties of cells in \n",
    "order to prioritize ligands. As toy example, we will score malignant \n",
    "cells here on the extent to which they express the core p-EMT gene \n",
    "“TGFBI”. \n",
    " \n"
   ]
  },
  {
   "cell_type": "code",
   "execution_count": null,
   "metadata": {},
   "outputs": [],
   "source": [
    "cell_scores_tbl = tibble(cell = malignant_hn5_ids, score = expression_scaled[malignant_hn5_ids,\"TGFBI\"]) \n",
    "\n"
   ]
  },
  {
   "cell_type": "markdown",
   "metadata": {},
   "source": [
    " \n",
    "Then, we will determine the correlation between these p-EMT scores and \n",
    "ligand activities over all cells to prioritize p-EMT-inducing ligands. \n",
    "We hypothesize that ligands might be potential regulators of the p-EMT \n",
    "program if higher ligand activities are associated with higher p-EMT \n",
    "scores. Based on this correlation, we obtained a ranking of potential \n",
    "p-EMT-inducing ligands. \n",
    " \n",
    "To do so, we frist need to process and normalize the ligand activities \n",
    "(i.e. pearson correlation values) to make different cells comparable. \n",
    "Here we use modified z-score \n",
    "normalization. \n",
    " \n"
   ]
  },
  {
   "cell_type": "code",
   "execution_count": null,
   "metadata": {},
   "outputs": [],
   "source": [
    "normalized_ligand_activities = normalize_single_cell_ligand_activities(ligand_activities) \n",
    "\n"
   ]
  },
  {
   "cell_type": "markdown",
   "metadata": {},
   "source": [
    " \n",
    "Then, we combine the ligand activities and cell property scores and \n",
    "perform correlation and regression analysis. We can prioritize ligands \n",
    "by ranking them based on the pearson correlation between activity scores \n",
    "and property \n",
    "scores. \n",
    " \n"
   ]
  },
  {
   "cell_type": "code",
   "execution_count": null,
   "metadata": {},
   "outputs": [],
   "source": [
    "output_correlation_analysis = single_ligand_activity_score_regression(normalized_ligand_activities,cell_scores_tbl) \n",
    "output_correlation_analysis %>% arrange(-pearson_regression) %>% select(pearson_regression, ligand) \n",
    "## # A tibble: 131 x 2 \n",
    "##    pearson_regression ligand   \n",
    "##                 <dbl> <chr>    \n",
    "##  1              0.525 TNC      \n",
    "##  2              0.497 TFPI     \n",
    "##  3              0.491 SEMA5A   \n",
    "##  4              0.488 ANXA1    \n",
    "##  5              0.473 TNFSF13B \n",
    "##  6              0.462 IBSP     \n",
    "##  7              0.449 HDGF     \n",
    "##  8              0.443 HSP90B1  \n",
    "##  9              0.431 CALM3    \n",
    "## 10              0.428 CXCL11   \n",
    "## # ... with 121 more rows \n"
   ]
  },
  {
   "cell_type": "markdown",
   "metadata": {},
   "source": [
    " \n",
    "Visualize the relation between ligand activity \n",
    "and the cell's property score of interest \n",
    " \n"
   ]
  },
  {
   "cell_type": "code",
   "execution_count": null,
   "metadata": {},
   "outputs": [],
   "source": [
    "inner_join(cell_scores_tbl,normalized_ligand_activities) %>% ggplot(aes(score,TNC)) + geom_point() + geom_smooth(method = \"lm\") \n",
    "\n"
   ]
  },
  {
   "cell_type": "markdown",
   "metadata": {},
   "source": [
    " \n",
    "![](ligand_activity_single_cell_files/figure-gfm/unnamed-chunk-22-1.png)<!-- --> \n",
    " \n",
    "### References \n",
    " \n",
    "<div id=\"refs\" class=\"references\"> \n",
    " \n",
    "<div id=\"ref-puram_single-cell_2017\"> \n",
    " \n",
    "Puram, Sidharth V., Itay Tirosh, Anuraag S. Parikh, Anoop P. Patel, \n",
    "Keren Yizhak, Shawn Gillespie, Christopher Rodman, et al. 2017. \n",
    "“Single-Cell Transcriptomic Analysis of Primary and Metastatic Tumor \n",
    "Ecosystems in Head and Neck Cancer.” *Cell* 171 (7): 1611–1624.e24. \n",
    "<https://doi.org/10.1016/j.cell.2017.10.044>. \n",
    " \n",
    "</div> \n",
    " \n",
    "</div> \n"
   ]
  }
 ],
 "metadata": {
  "anaconda-cloud": "",
  "kernelspec": {
   "display_name": "R",
   "language": "R",
   "name": "ir"
  },
  "language_info": {
   "codemirror_mode": "r",
   "file_extension": ".r",
   "mimetype": "text/x-r-source",
   "name": "R",
   "pygments_lexer": "r",
   "version": "4.1.1"
  },
  "widgets": {
   "application/vnd.jupyter.widget-state+json": {
    "state": {},
    "version_major": 2,
    "version_minor": 0
   }
  }
 },
 "nbformat": 4,
 "nbformat_minor": 4
}
