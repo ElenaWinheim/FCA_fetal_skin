{
    "cells": [
        {
            "cell_type": "markdown",
            "metadata": {},
            "source": [
                "Seurat Wrapper + Circos visualization \n",
                "================ \n",
                "Robin Browaeys \n",
                "18-1-2021 \n",
                " \n",
                "<!-- github markdown built using  \n",
                "rmarkdown::render(\"vignettes/seurat_wrapper_circos.Rmd\", output_format = \"github_document\") \n",
                "--> \n",
                " \n",
                "In this vignette, you can learn how to perform a basic NicheNet analysis \n",
                "on a Seurat v3 object - and how to visualize the output in a circos \n",
                "plot. This vignette demonstrates the same workflow as shown in [Perform \n",
                "NicheNet analysis starting from a Seurat \n",
                "object](seurat_wrapper.md):`vignette(\"seurat_wrapper\", package=\"nichenetr\")`, \n",
                "but adds a circos plot visualization as shown in [Circos plot \n",
                "visualization to show active ligand-target links between interacting \n",
                "cells](circos.md):`vignette(\"circos\", package=\"nichenetr\")`. For more \n",
                "detailed information about the NicheNet workflow, check those vignettes. \n",
                "This vignette was made upon popular request to demonstrate how those two \n",
                "vignettes can be combined into one analysis workflow. Note that we as \n",
                "developers of NicheNet generally recommend a visualization of the output \n",
                "by combining several heatmaps (ligand activity, ligand-target links, \n",
                "ligand-receptor links, ligand expression, ligand LFC,…) over using a \n",
                "circos plot visualization. Certainly for cases with many sender cell \n",
                "types and ligands that are expressed by more than one sender cell type. \n",
                "Because in those cases, the circos plot is much less informative and \n",
                "could lead to wrong interpretation of the results. \n",
                " \n",
                "As example expression data of interacting cells, we will use mouse \n",
                "NICHE-seq data from Medaglia et al. to explore intercellular \n",
                "communication in the T cell area in the inguinal lymph node before and \n",
                "72 hours after lymphocytic choriomeningitis virus (LCMV) infection \\[See \n",
                "@medaglia\\_spatial\\_2017\\]. We will NicheNet to explore immune cell \n",
                "crosstalk in response to this LCMV infection. \n",
                " \n",
                "In this dataset, differential expression is observed between CD8 T cells \n",
                "in steady-state and CD8 T cells after LCMV infection. NicheNet can be \n",
                "applied to look at how several immune cell populations in the lymph node \n",
                "(i.e., monocytes, dendritic cells, NK cells, B cells, CD4 T cells) can \n",
                "regulate and induce these observed gene expression changes. NicheNet \n",
                "will specifically prioritize ligands from these immune cells and their \n",
                "target genes that change in expression upon LCMV infection. \n",
                " \n",
                "The used NicheNet networks, ligand-target matrix and example expression \n",
                "data of interacting cells can be downloaded from Zenodo. The NicheNet \n",
                "networks and ligand-target matrix at \n",
                "[![DOI](https://zenodo.org/badge/DOI/10.5281/zenodo.3260758.svg)](https://doi.org/10.5281/zenodo.3260758) \n",
                "and the Seurat object of the processed NICHE-seq single-cell data at \n",
                "[![DOI](https://zenodo.org/badge/DOI/10.5281/zenodo.3531889.svg)](https://doi.org/10.5281/zenodo.3531889). \n",
                " \n",
                "# Prepare NicheNet analysis \n",
                " \n",
                "## Load required packages, read in the Seurat object with processed expression data of interacting cells and NicheNet’s ligand-target prior model, ligand-receptor network and weighted integrated networks. \n",
                " \n",
                "### Load Packages: \n",
                " \n"
            ]
        },
        {
            "cell_type": "code",
            "execution_count": null,
            "metadata": {},
            "outputs": [],
            "source": [
                "library(nichenetr) \n",
                "library(Seurat) # Please update to Seurat v4 \n",
                "library(tidyverse) \n",
                "library(circlize) \n"
            ]
        },
        {
            "cell_type": "markdown",
            "metadata": {},
            "source": [
                " \n",
                "If you would use and load other packages, we recommend to load these 3 \n",
                "packages after the others. \n",
                " \n",
                "### Read in NicheNet’s ligand-target prior model, ligand-receptor network and weighted integrated networks: \n",
                " \n"
            ]
        },
        {
            "cell_type": "code",
            "execution_count": null,
            "metadata": {},
            "outputs": [],
            "source": [
                "ligand_target_matrix = readRDS(url(\"https://zenodo.org/record/3260758/files/ligand_target_matrix.rds\")) \n",
                "ligand_target_matrix[1:5,1:5] # target genes in rows, ligands in columns \n",
                "##                 CXCL1        CXCL2        CXCL3        CXCL5         PPBP \n",
                "## A1BG     3.534343e-04 4.041324e-04 3.729920e-04 3.080640e-04 2.628388e-04 \n",
                "## A1BG-AS1 1.650894e-04 1.509213e-04 1.583594e-04 1.317253e-04 1.231819e-04 \n",
                "## A1CF     5.787175e-04 4.596295e-04 3.895907e-04 3.293275e-04 3.211944e-04 \n",
                "## A2M      6.027058e-04 5.996617e-04 5.164365e-04 4.517236e-04 4.590521e-04 \n",
                "## A2M-AS1  8.898724e-05 8.243341e-05 7.484018e-05 4.912514e-05 5.120439e-05 \n",
                " \n",
                "lr_network = readRDS(url(\"https://zenodo.org/record/3260758/files/lr_network.rds\")) \n",
                "head(lr_network) \n",
                "## # A tibble: 6 x 4 \n",
                "##   from  to    source         database \n",
                "##   <chr> <chr> <chr>          <chr>    \n",
                "## 1 CXCL1 CXCR2 kegg_cytokines kegg     \n",
                "## 2 CXCL2 CXCR2 kegg_cytokines kegg     \n",
                "## 3 CXCL3 CXCR2 kegg_cytokines kegg     \n",
                "## 4 CXCL5 CXCR2 kegg_cytokines kegg     \n",
                "## 5 PPBP  CXCR2 kegg_cytokines kegg     \n",
                "## 6 CXCL6 CXCR2 kegg_cytokines kegg \n",
                " \n",
                "weighted_networks = readRDS(url(\"https://zenodo.org/record/3260758/files/weighted_networks.rds\")) \n",
                "head(weighted_networks$lr_sig) # interactions and their weights in the ligand-receptor + signaling network \n",
                "## # A tibble: 6 x 3 \n",
                "##   from  to     weight \n",
                "##   <chr> <chr>   <dbl> \n",
                "## 1 A1BG  ABCC6  0.422  \n",
                "## 2 A1BG  ACE2   0.101  \n",
                "## 3 A1BG  ADAM10 0.0970 \n",
                "## 4 A1BG  AGO1   0.0525 \n",
                "## 5 A1BG  AKT1   0.0855 \n",
                "## 6 A1BG  ANXA7  0.457 \n",
                "head(weighted_networks$gr) # interactions and their weights in the gene regulatory network \n",
                "## # A tibble: 6 x 3 \n",
                "##   from  to     weight \n",
                "##   <chr> <chr>   <dbl> \n",
                "## 1 A1BG  A2M    0.0294 \n",
                "## 2 AAAS  GFAP   0.0290 \n",
                "## 3 AADAC CYP3A4 0.0422 \n",
                "## 4 AADAC IRF8   0.0275 \n",
                "## 5 AATF  ATM    0.0330 \n",
                "## 6 AATF  ATR    0.0355 \n"
            ]
        },
        {
            "cell_type": "markdown",
            "metadata": {},
            "source": [
                " \n",
                "### Read in the expression data of interacting cells: \n",
                " \n"
            ]
        },
        {
            "cell_type": "code",
            "execution_count": null,
            "metadata": {},
            "outputs": [],
            "source": [
                "seuratObj = readRDS(url(\"https://zenodo.org/record/3531889/files/seuratObj.rds\")) \n",
                "seuratObj@meta.data %>% head() \n",
                "##         nGene nUMI orig.ident aggregate res.0.6 celltype nCount_RNA nFeature_RNA \n",
                "## W380370   880 1611      LN_SS        SS       1    CD8 T       1607          876 \n",
                "## W380372   541  891      LN_SS        SS       0    CD4 T        885          536 \n",
                "## W380374   742 1229      LN_SS        SS       0    CD4 T       1223          737 \n",
                "## W380378   847 1546      LN_SS        SS       1    CD8 T       1537          838 \n",
                "## W380379   839 1606      LN_SS        SS       0    CD4 T       1603          836 \n",
                "## W380381   517  844      LN_SS        SS       0    CD4 T        840          513 \n"
            ]
        },
        {
            "cell_type": "markdown",
            "metadata": {},
            "source": [
                " \n",
                "Visualize which cell populations are present: CD4 T cells (including \n",
                "regulatory T cells), CD8 T cells, B cells, NK cells, dendritic cells \n",
                "(DCs) and inflammatory monocytes \n",
                " \n"
            ]
        },
        {
            "cell_type": "code",
            "execution_count": null,
            "metadata": {},
            "outputs": [],
            "source": [
                "seuratObj@meta.data$celltype %>% table() # note that the number of cells of some cell types is very low and should preferably be higher for a real application \n",
                "## . \n",
                "##     B CD4 T CD8 T    DC  Mono    NK  Treg  \n",
                "##   382  2562  1645    18    90   131   199 \n",
                "DimPlot(seuratObj, reduction = \"tsne\") \n"
            ]
        },
        {
            "cell_type": "markdown",
            "metadata": {},
            "source": [
                " \n",
                "![](seurat_wrapper_circos_files/figure-gfm/unnamed-chunk-4-1.png)<!-- --> \n",
                " \n"
            ]
        },
        {
            "cell_type": "code",
            "execution_count": null,
            "metadata": {},
            "outputs": [],
            "source": [
                "seuratObj@meta.data$aggregate %>% table() \n",
                "## . \n",
                "## LCMV   SS  \n",
                "## 3886 1141 \n",
                "DimPlot(seuratObj, reduction = \"tsne\", group.by = \"aggregate\") \n"
            ]
        },
        {
            "cell_type": "markdown",
            "metadata": {},
            "source": [
                " \n",
                "![](seurat_wrapper_circos_files/figure-gfm/unnamed-chunk-5-1.png)<!-- --> \n",
                " \n",
                "# Perform the NicheNet analysis \n",
                " \n",
                "## NicheNet analysis on Seurat object: explain differential expression between two conditions \n",
                " \n",
                "In this case study, the receiver cell population is the ‘CD8 T’ cell \n",
                "population, whereas the sender cell populations are ‘CD4 T’, ‘Treg’, \n",
                "‘Mono’, ‘NK’, ‘B’ and ‘DC’. The above described functions will consider \n",
                "a gene to be expressed when it is expressed in at least a predefined \n",
                "fraction of cells in one cluster (default: 10%). \n",
                " \n",
                "The gene set of interest are the genes differentially expressed in CD8 T \n",
                "cells after LCMV infection. The condition of interest is thus ‘LCMV’, \n",
                "whereas the reference/steady-state condition is ‘SS’. The notion of \n",
                "conditions can be extracted from the metadata column ‘aggregate’, the \n",
                "method to calculate the differential expression is the standard Seurat \n",
                "Wilcoxon test. \n",
                " \n",
                "The number of top-ranked ligands that are further used to predict active \n",
                "target genes and construct an active ligand-receptor network is 20 by \n",
                "default. \n",
                " \n",
                "To perform the NicheNet analysis with these specifications, run the \n",
                "following: \n",
                " \n"
            ]
        },
        {
            "cell_type": "code",
            "execution_count": null,
            "metadata": {},
            "outputs": [],
            "source": [
                "# indicated cell types should be cell class identities \n",
                "# check via:  \n",
                "# seuratObj %>% Idents() %>% table() \n",
                "sender_celltypes = c(\"CD4 T\",\"Treg\", \"Mono\", \"NK\", \"B\", \"DC\") \n",
                "nichenet_output = nichenet_seuratobj_aggregate( \n",
                "  seurat_obj = seuratObj,  \n",
                "  receiver = \"CD8 T\",  \n",
                "  condition_colname = \"aggregate\", condition_oi = \"LCMV\", condition_reference = \"SS\",  \n",
                "  sender = sender_celltypes,  \n",
                "  ligand_target_matrix = ligand_target_matrix, lr_network = lr_network, weighted_networks = weighted_networks, organism = \"mouse\") \n",
                "## [1] \"Read in and process NicheNet's networks\" \n",
                "## [1] \"Define expressed ligands and receptors in receiver and sender cells\" \n",
                "## [1] \"Perform DE analysis in receiver cell\" \n",
                "## [1] \"Perform NicheNet ligand activity analysis\" \n",
                "## [1] \"Infer active target genes of the prioritized ligands\" \n",
                "## [1] \"Infer receptors of the prioritized ligands\" \n"
            ]
        },
        {
            "cell_type": "markdown",
            "metadata": {},
            "source": [
                " \n",
                "### Interpret the NicheNet analysis output \n",
                " \n",
                "#### Ligand activity analysis results \n",
                " \n",
                "A first thing NicheNet does, is prioritizing ligands based on predicted \n",
                "ligand activity. To see the ranking of these ligands, run the following \n",
                "command: \n",
                " \n"
            ]
        },
        {
            "cell_type": "code",
            "execution_count": null,
            "metadata": {},
            "outputs": [],
            "source": [
                "nichenet_output$ligand_activities \n",
                "## # A tibble: 44 x 6 \n",
                "##    test_ligand auroc  aupr pearson  rank bona_fide_ligand \n",
                "##    <chr>       <dbl> <dbl>   <dbl> <dbl> <lgl>            \n",
                "##  1 Ebi3        0.638 0.234  0.197      1 FALSE            \n",
                "##  2 Il15        0.582 0.163  0.0961     2 TRUE             \n",
                "##  3 Crlf2       0.549 0.163  0.0758     3 FALSE            \n",
                "##  4 App         0.499 0.141  0.0655     4 TRUE             \n",
                "##  5 Tgfb1       0.494 0.140  0.0558     5 TRUE             \n",
                "##  6 Ptprc       0.536 0.149  0.0554     6 TRUE             \n",
                "##  7 H2-M3       0.525 0.157  0.0528     7 TRUE             \n",
                "##  8 Icam1       0.543 0.142  0.0486     8 TRUE             \n",
                "##  9 Cxcl10      0.531 0.141  0.0408     9 TRUE             \n",
                "## 10 Adam17      0.517 0.137  0.0359    10 TRUE             \n",
                "## # ... with 34 more rows \n"
            ]
        },
        {
            "cell_type": "markdown",
            "metadata": {},
            "source": [
                " \n",
                "These ligands are expressed by one or more of the input sender cells. To \n",
                "see which cell population expresses which of these top-ranked ligands, \n",
                "you can run the following: \n",
                " \n"
            ]
        },
        {
            "cell_type": "code",
            "execution_count": null,
            "metadata": {},
            "outputs": [],
            "source": [
                "DotPlot(seuratObj, features = nichenet_output$top_ligands %>% rev(), cols = \"RdYlBu\") + RotatedAxis() \n",
                "\n"
            ]
        },
        {
            "cell_type": "markdown",
            "metadata": {},
            "source": [
                " \n",
                "![](seurat_wrapper_circos_files/figure-gfm/unnamed-chunk-8-1.png)<!-- --> \n",
                " \n",
                "As you can see, most op the top-ranked ligands seem to be mainly \n",
                "expressed by dendritic cells and monocytes. \n",
                " \n",
                "It could also be interesting to see whether some of these ligands are \n",
                "differentially expressed after LCMV infection. \n",
                " \n"
            ]
        },
        {
            "cell_type": "code",
            "execution_count": null,
            "metadata": {},
            "outputs": [],
            "source": [
                "DotPlot(seuratObj, features = nichenet_output$top_ligands %>% rev(), split.by = \"aggregate\") + RotatedAxis() \n",
                "\n"
            ]
        },
        {
            "cell_type": "markdown",
            "metadata": {},
            "source": [
                " \n",
                "![](seurat_wrapper_circos_files/figure-gfm/unnamed-chunk-9-1.png)<!-- --> \n",
                " \n"
            ]
        },
        {
            "cell_type": "code",
            "execution_count": null,
            "metadata": {},
            "outputs": [],
            "source": [
                "VlnPlot(seuratObj, features = c(\"Il15\", \"Cxcl10\",\"Cxcl16\"), split.by = \"aggregate\", pt.size = 0, combine = FALSE) \n",
                "## [[1]] \n"
            ]
        },
        {
            "cell_type": "markdown",
            "metadata": {},
            "source": [
                " \n",
                "![](seurat_wrapper_circos_files/figure-gfm/unnamed-chunk-10-1.png)<!-- --> \n",
                " \n",
                "    ##  \n",
                "    ## [[2]] \n",
                " \n",
                "![](seurat_wrapper_circos_files/figure-gfm/unnamed-chunk-10-2.png)<!-- --> \n",
                " \n",
                "    ##  \n",
                "    ## [[3]] \n",
                " \n",
                "![](seurat_wrapper_circos_files/figure-gfm/unnamed-chunk-10-3.png)<!-- --> \n",
                " \n",
                "#### Inferred active ligand-target links \n",
                " \n",
                "NicheNet also infers active target genes of these top-ranked ligands. To \n",
                "see which top-ranked ligands are predicted to have regulated the \n",
                "expression of which differentially expressed genes, you can run \n",
                "following command for a heatmap visualization: \n",
                " \n"
            ]
        },
        {
            "cell_type": "code",
            "execution_count": null,
            "metadata": {},
            "outputs": [],
            "source": [
                "nichenet_output$ligand_target_heatmap \n",
                "\n"
            ]
        },
        {
            "cell_type": "markdown",
            "metadata": {},
            "source": [
                " \n",
                "![](seurat_wrapper_circos_files/figure-gfm/unnamed-chunk-11-1.png)<!-- --> \n",
                " \n",
                "## Circos plots to visualize ligand-target and ligand-receptor interactions \n",
                " \n",
                "This visualization groups the top predicted active ligands according to \n",
                "the strongest expressing cell type. Therefore we need to determine per \n",
                "cell type which ligands they express more strongly than the other cell \n",
                "types. \n",
                " \n",
                "### Calculate average ligand expression in sender cells \n",
                " \n"
            ]
        },
        {
            "cell_type": "code",
            "execution_count": null,
            "metadata": {},
            "outputs": [],
            "source": [
                "# avg_expression_ligands = AverageExpression(seuratObj %>% subset(subset = aggregate == \"LCMV\"),features = nichenet_output$top_ligands) # if want to look specifically in LCMV-only cells \n",
                "avg_expression_ligands = AverageExpression(seuratObj, features = nichenet_output$top_ligands) \n"
            ]
        },
        {
            "cell_type": "markdown",
            "metadata": {},
            "source": [
                " \n",
                "### Assign ligands to sender cells \n",
                " \n",
                "To assign ligands to sender cell type, we can e.g. look for which sender \n",
                "cell types show an expression that is higher than the average + SD. \n",
                " \n"
            ]
        },
        {
            "cell_type": "code",
            "execution_count": null,
            "metadata": {},
            "outputs": [],
            "source": [
                "sender_ligand_assignment = avg_expression_ligands$RNA %>% apply(1, function(ligand_expression){ \n",
                "  ligand_expression > (ligand_expression %>% mean() + ligand_expression %>% sd()) \n",
                "  }) %>% t() \n",
                "sender_ligand_assignment = sender_ligand_assignment %>% apply(2, function(x){x[x == TRUE]}) %>% purrr::keep(function(x){length(x) > 0}) \n",
                "names(sender_ligand_assignment) \n",
                "## [1] \"B\"    \"NK\"   \"Mono\" \"DC\" \n"
            ]
        },
        {
            "cell_type": "markdown",
            "metadata": {},
            "source": [
                " \n",
                "The top ligands seem to be most strongly expressed by B cells, NK cells, \n",
                "monocytes and DCs. We will know also look at which ligands are common \n",
                "across multiple cell types (= those that are specific to &gt; 1 cell \n",
                "type, or those that were not assigned to a cell type in the previous \n",
                "block of code) \n",
                " \n",
                "Determine now which prioritized ligands are expressed by CAFs and or \n",
                "endothelial cells \n",
                " \n"
            ]
        },
        {
            "cell_type": "code",
            "execution_count": null,
            "metadata": {},
            "outputs": [],
            "source": [
                "all_assigned_ligands = sender_ligand_assignment %>% lapply(function(x){names(x)}) %>% unlist() \n",
                "unique_ligands = all_assigned_ligands %>% table() %>% .[. == 1] %>% names() \n",
                "general_ligands = nichenet_output$top_ligands %>% setdiff(unique_ligands) \n",
                " \n",
                "B_specific_ligands = sender_ligand_assignment$B %>% names() %>% setdiff(general_ligands) \n",
                "NK_specific_ligands = sender_ligand_assignment$NK %>% names() %>% setdiff(general_ligands) \n",
                "Mono_specific_ligands = sender_ligand_assignment$Mono %>% names() %>% setdiff(general_ligands) \n",
                "DC_specific_ligands = sender_ligand_assignment$DC %>% names() %>% setdiff(general_ligands) \n",
                " \n",
                "ligand_type_indication_df = tibble( \n",
                "  ligand_type = c(rep(\"B-specific\", times = B_specific_ligands %>% length()), \n",
                "                  rep(\"NK-specific\", times = NK_specific_ligands %>% length()), \n",
                "                  rep(\"Mono-specific\", times = Mono_specific_ligands %>% length()), \n",
                "                  rep(\"DC-specific\", times = DC_specific_ligands %>% length()), \n",
                "                  rep(\"General\", times = general_ligands %>% length())), \n",
                "  ligand = c(B_specific_ligands, NK_specific_ligands, Mono_specific_ligands, DC_specific_ligands, general_ligands)) \n"
            ]
        },
        {
            "cell_type": "markdown",
            "metadata": {},
            "source": [
                " \n",
                "### Define the ligand-target links of interest \n",
                " \n",
                "To avoid making a circos plots with too many ligand-target links, we \n",
                "will show only links with a weight higher than a predefined cutoff: \n",
                "links belonging to the 40% of lowest scores were removed. Not that this \n",
                "cutoffs and other cutoffs used for this visualization can be changed \n",
                "according to the user’s needs. \n",
                " \n"
            ]
        },
        {
            "cell_type": "code",
            "execution_count": null,
            "metadata": {},
            "outputs": [],
            "source": [
                "active_ligand_target_links_df = nichenet_output$ligand_target_df %>% mutate(target_type = \"LCMV-DE\") %>% inner_join(ligand_type_indication_df) # if you want ot make circos plots for multiple gene sets, combine the different data frames and differentiate which target belongs to which gene set via the target type \n",
                " \n",
                "cutoff_include_all_ligands = active_ligand_target_links_df$weight %>% quantile(0.40) \n",
                " \n",
                "active_ligand_target_links_df_circos = active_ligand_target_links_df %>% filter(weight > cutoff_include_all_ligands) \n",
                " \n",
                "ligands_to_remove = setdiff(active_ligand_target_links_df$ligand %>% unique(), active_ligand_target_links_df_circos$ligand %>% unique()) \n",
                "targets_to_remove = setdiff(active_ligand_target_links_df$target %>% unique(), active_ligand_target_links_df_circos$target %>% unique()) \n",
                "   \n",
                "circos_links = active_ligand_target_links_df %>% filter(!target %in% targets_to_remove &!ligand %in% ligands_to_remove) \n"
            ]
        },
        {
            "cell_type": "markdown",
            "metadata": {},
            "source": [
                " \n",
                "Prepare the circos visualization: give each segment of ligands and \n",
                "targets a specific color and order \n",
                " \n"
            ]
        },
        {
            "cell_type": "code",
            "execution_count": null,
            "metadata": {},
            "outputs": [],
            "source": [
                "grid_col_ligand =c(\"General\" = \"lawngreen\", \n",
                "            \"NK-specific\" = \"royalblue\", \n",
                "            \"B-specific\" = \"darkgreen\", \n",
                "            \"Mono-specific\" = \"violet\", \n",
                "            \"DC-specific\" = \"steelblue2\") \n",
                "grid_col_target =c( \n",
                "            \"LCMV-DE\" = \"tomato\") \n",
                " \n",
                "grid_col_tbl_ligand = tibble(ligand_type = grid_col_ligand %>% names(), color_ligand_type = grid_col_ligand) \n",
                "grid_col_tbl_target = tibble(target_type = grid_col_target %>% names(), color_target_type = grid_col_target) \n",
                " \n",
                "circos_links = circos_links %>% mutate(ligand = paste(ligand,\" \")) # extra space: make a difference between a gene as ligand and a gene as target! \n",
                "circos_links = circos_links %>% inner_join(grid_col_tbl_ligand) %>% inner_join(grid_col_tbl_target) \n",
                "links_circle = circos_links %>% select(ligand,target, weight) \n",
                " \n",
                "ligand_color = circos_links %>% distinct(ligand,color_ligand_type) \n",
                "grid_ligand_color = ligand_color$color_ligand_type %>% set_names(ligand_color$ligand) \n",
                "target_color = circos_links %>% distinct(target,color_target_type) \n",
                "grid_target_color = target_color$color_target_type %>% set_names(target_color$target) \n",
                " \n",
                "grid_col =c(grid_ligand_color,grid_target_color) \n",
                " \n",
                "# give the option that links in the circos plot will be transparant ~ ligand-target potential score \n",
                "transparency = circos_links %>% mutate(weight =(weight-min(weight))/(max(weight)-min(weight))) %>% mutate(transparency = 1-weight) %>% .$transparency  \n"
            ]
        },
        {
            "cell_type": "markdown",
            "metadata": {},
            "source": [
                " \n",
                "Prepare the circos visualization: order ligands and targets \n",
                " \n"
            ]
        },
        {
            "cell_type": "code",
            "execution_count": null,
            "metadata": {},
            "outputs": [],
            "source": [
                "target_order = circos_links$target %>% unique() \n",
                "ligand_order = c(Mono_specific_ligands, DC_specific_ligands, NK_specific_ligands,B_specific_ligands, general_ligands) %>% c(paste(.,\" \")) %>% intersect(circos_links$ligand) \n",
                "order = c(ligand_order,target_order) \n"
            ]
        },
        {
            "cell_type": "markdown",
            "metadata": {},
            "source": [
                " \n",
                "Prepare the circos visualization: define the gaps between the different \n",
                "segments \n",
                " \n"
            ]
        },
        {
            "cell_type": "code",
            "execution_count": null,
            "metadata": {},
            "outputs": [],
            "source": [
                "width_same_cell_same_ligand_type = 0.5 \n",
                "width_different_cell = 6 \n",
                "width_ligand_target = 15 \n",
                "width_same_cell_same_target_type = 0.5 \n",
                " \n",
                "gaps = c( \n",
                "  # width_ligand_target, \n",
                "  rep(width_same_cell_same_ligand_type, times = (circos_links %>% filter(ligand_type == \"Mono-specific\") %>% distinct(ligand) %>% nrow() -1)), \n",
                "  width_different_cell, \n",
                "  rep(width_same_cell_same_ligand_type, times = (circos_links %>% filter(ligand_type == \"DC-specific\") %>% distinct(ligand) %>% nrow() -1)), \n",
                "  width_different_cell, \n",
                "  rep(width_same_cell_same_ligand_type, times = (circos_links %>% filter(ligand_type == \"NK-specific\") %>% distinct(ligand) %>% nrow() -1)), \n",
                "  width_different_cell, \n",
                "  rep(width_same_cell_same_ligand_type, times = (circos_links %>% filter(ligand_type == \"B-specific\") %>% distinct(ligand) %>% nrow() -1)), \n",
                "  width_different_cell, \n",
                "  rep(width_same_cell_same_ligand_type, times = (circos_links %>% filter(ligand_type == \"General\") %>% distinct(ligand) %>% nrow() -1)), \n",
                "  width_ligand_target, \n",
                "  rep(width_same_cell_same_target_type, times = (circos_links %>% filter(target_type == \"LCMV-DE\") %>% distinct(target) %>% nrow() -1)), \n",
                "  width_ligand_target \n",
                "  ) \n"
            ]
        },
        {
            "cell_type": "markdown",
            "metadata": {},
            "source": [
                " \n",
                "Render the circos plot (all links same transparancy). Only the widths of \n",
                "the blocks that indicate each target gene is proportional the \n",
                "ligand-target regulatory potential (\\~prior knowledge supporting the \n",
                "regulatory interaction). \n",
                " \n"
            ]
        },
        {
            "cell_type": "code",
            "execution_count": null,
            "metadata": {},
            "outputs": [],
            "source": [
                "circos.par(gap.degree = gaps) \n",
                "chordDiagram(links_circle, directional = 1,order=order,link.sort = TRUE, link.decreasing = FALSE, grid.col = grid_col,transparency = 0, diffHeight = 0.005, direction.type = c(\"diffHeight\", \"arrows\"),link.arr.type = \"big.arrow\", link.visible = links_circle$weight >= cutoff_include_all_ligands,annotationTrack = \"grid\",  \n",
                "    preAllocateTracks = list(track.height = 0.075)) \n",
                "# we go back to the first track and customize sector labels \n",
                "circos.track(track.index = 1, panel.fun = function(x, y) { \n",
                "    circos.text(CELL_META$xcenter, CELL_META$ylim[1], CELL_META$sector.index, \n",
                "        facing = \"clockwise\", niceFacing = TRUE, adj = c(0, 0.55), cex = 1) \n",
                "}, bg.border = NA) # \n"
            ]
        },
        {
            "cell_type": "markdown",
            "metadata": {},
            "source": [
                " \n",
                "![](seurat_wrapper_circos_files/figure-gfm/unnamed-chunk-19-1.png)<!-- --> \n",
                " \n"
            ]
        },
        {
            "cell_type": "code",
            "execution_count": null,
            "metadata": {},
            "outputs": [],
            "source": [
                "circos.clear() \n",
                "\n"
            ]
        },
        {
            "cell_type": "markdown",
            "metadata": {},
            "source": [
                " \n",
                "Render the circos plot (degree of transparancy determined by the \n",
                "regulatory potential value of a ligand-target interaction) \n",
                " \n"
            ]
        },
        {
            "cell_type": "code",
            "execution_count": null,
            "metadata": {},
            "outputs": [],
            "source": [
                "circos.par(gap.degree = gaps) \n",
                "chordDiagram(links_circle, directional = 1,order=order,link.sort = TRUE, link.decreasing = FALSE, grid.col = grid_col,transparency = transparency, diffHeight = 0.005, direction.type = c(\"diffHeight\", \"arrows\"),link.arr.type = \"big.arrow\", link.visible = links_circle$weight >= cutoff_include_all_ligands,annotationTrack = \"grid\",  \n",
                "    preAllocateTracks = list(track.height = 0.075)) \n",
                "# we go back to the first track and customize sector labels \n",
                "circos.track(track.index = 1, panel.fun = function(x, y) { \n",
                "    circos.text(CELL_META$xcenter, CELL_META$ylim[1], CELL_META$sector.index, \n",
                "        facing = \"clockwise\", niceFacing = TRUE, adj = c(0, 0.55), cex = 1) \n",
                "}, bg.border = NA) # \n"
            ]
        },
        {
            "cell_type": "markdown",
            "metadata": {},
            "source": [
                " \n",
                "![](seurat_wrapper_circos_files/figure-gfm/unnamed-chunk-20-1.png)<!-- --> \n",
                " \n"
            ]
        },
        {
            "cell_type": "code",
            "execution_count": null,
            "metadata": {},
            "outputs": [],
            "source": [
                "circos.clear() \n",
                "\n"
            ]
        },
        {
            "cell_type": "markdown",
            "metadata": {},
            "source": [
                " \n",
                "Save circos plot to an svg file \n",
                " \n"
            ]
        },
        {
            "cell_type": "code",
            "execution_count": null,
            "metadata": {},
            "outputs": [],
            "source": [
                "svg(\"ligand_target_circos.svg\", width = 10, height = 10) \n",
                "circos.par(gap.degree = gaps) \n",
                "chordDiagram(links_circle, directional = 1,order=order,link.sort = TRUE, link.decreasing = FALSE, grid.col = grid_col,transparency = transparency, diffHeight = 0.005, direction.type = c(\"diffHeight\", \"arrows\"),link.arr.type = \"big.arrow\", link.visible = links_circle$weight >= cutoff_include_all_ligands,annotationTrack = \"grid\", \n",
                "    preAllocateTracks = list(track.height = 0.075)) \n",
                "# we go back to the first track and customize sector labels \n",
                "circos.track(track.index = 1, panel.fun = function(x, y) { \n",
                "    circos.text(CELL_META$xcenter, CELL_META$ylim[1], CELL_META$sector.index, \n",
                "        facing = \"clockwise\", niceFacing = TRUE, adj = c(0, 0.55), cex = 1) \n",
                "}, bg.border = NA) # \n",
                "circos.clear() \n",
                "dev.off() \n",
                "## png  \n",
                "##   2 \n"
            ]
        },
        {
            "cell_type": "markdown",
            "metadata": {},
            "source": [
                " \n",
                "### Visualize ligand-receptor interactions of the prioritized ligands in a circos plot \n",
                " \n"
            ]
        },
        {
            "cell_type": "code",
            "execution_count": null,
            "metadata": {},
            "outputs": [],
            "source": [
                "lr_network_top_df = nichenet_output$ligand_receptor_df %>% mutate(receptor_type = \"LCMV_CD8T_receptor\") %>% inner_join(ligand_type_indication_df) \n",
                "\n"
            ]
        },
        {
            "cell_type": "markdown",
            "metadata": {},
            "source": " \n"
        },
        {
            "cell_type": "code",
            "execution_count": null,
            "metadata": {},
            "outputs": [],
            "source": [
                "grid_col_ligand =c(\"General\" = \"lawngreen\", \n",
                "            \"NK-specific\" = \"royalblue\", \n",
                "            \"B-specific\" = \"darkgreen\", \n",
                "            \"Mono-specific\" = \"violet\", \n",
                "            \"DC-specific\" = \"steelblue2\") \n",
                "grid_col_receptor =c( \n",
                "            \"LCMV_CD8T_receptor\" = \"darkred\") \n",
                " \n",
                "grid_col_tbl_ligand = tibble(ligand_type = grid_col_ligand %>% names(), color_ligand_type = grid_col_ligand) \n",
                "grid_col_tbl_receptor = tibble(receptor_type = grid_col_receptor %>% names(), color_receptor_type = grid_col_receptor) \n",
                " \n",
                "circos_links = lr_network_top_df %>% mutate(ligand = paste(ligand,\" \")) # extra space: make a difference between a gene as ligand and a gene as receptor! \n",
                "circos_links = circos_links %>% inner_join(grid_col_tbl_ligand) %>% inner_join(grid_col_tbl_receptor) \n",
                "links_circle = circos_links %>% select(ligand,receptor, weight) \n",
                " \n",
                "ligand_color = circos_links %>% distinct(ligand,color_ligand_type) \n",
                "grid_ligand_color = ligand_color$color_ligand_type %>% set_names(ligand_color$ligand) \n",
                "receptor_color = circos_links %>% distinct(receptor,color_receptor_type) \n",
                "grid_receptor_color = receptor_color$color_receptor_type %>% set_names(receptor_color$receptor) \n",
                " \n",
                "grid_col =c(grid_ligand_color,grid_receptor_color) \n",
                " \n",
                "# give the option that links in the circos plot will be transparant ~ ligand-receptor potential score \n",
                "transparency = circos_links %>% mutate(weight =(weight-min(weight))/(max(weight)-min(weight))) %>% mutate(transparency = 1-weight) %>% .$transparency  \n"
            ]
        },
        {
            "cell_type": "markdown",
            "metadata": {},
            "source": [
                " \n",
                "Prepare the circos visualization: order ligands and receptors \n",
                " \n"
            ]
        },
        {
            "cell_type": "code",
            "execution_count": null,
            "metadata": {},
            "outputs": [],
            "source": [
                "receptor_order = circos_links$receptor %>% unique() \n",
                "ligand_order = c(Mono_specific_ligands, DC_specific_ligands, NK_specific_ligands,B_specific_ligands, general_ligands) %>% c(paste(.,\" \")) %>% intersect(circos_links$ligand) \n",
                "order = c(ligand_order,receptor_order) \n"
            ]
        },
        {
            "cell_type": "markdown",
            "metadata": {},
            "source": [
                " \n",
                "Prepare the circos visualization: define the gaps between the different \n",
                "segments \n",
                " \n"
            ]
        },
        {
            "cell_type": "code",
            "execution_count": null,
            "metadata": {},
            "outputs": [],
            "source": [
                "width_same_cell_same_ligand_type = 0.5 \n",
                "width_different_cell = 6 \n",
                "width_ligand_receptor = 15 \n",
                "width_same_cell_same_receptor_type = 0.5 \n",
                " \n",
                "gaps = c( \n",
                "  # width_ligand_target, \n",
                "  rep(width_same_cell_same_ligand_type, times = (circos_links %>% filter(ligand_type == \"Mono-specific\") %>% distinct(ligand) %>% nrow() -1)), \n",
                "  width_different_cell, \n",
                "  rep(width_same_cell_same_ligand_type, times = (circos_links %>% filter(ligand_type == \"DC-specific\") %>% distinct(ligand) %>% nrow() -1)), \n",
                "  width_different_cell, \n",
                "  rep(width_same_cell_same_ligand_type, times = (circos_links %>% filter(ligand_type == \"NK-specific\") %>% distinct(ligand) %>% nrow() -1)), \n",
                "  width_different_cell, \n",
                "  rep(width_same_cell_same_ligand_type, times = (circos_links %>% filter(ligand_type == \"B-specific\") %>% distinct(ligand) %>% nrow() -1)), \n",
                "  width_different_cell, \n",
                "  rep(width_same_cell_same_ligand_type, times = (circos_links %>% filter(ligand_type == \"General\") %>% distinct(ligand) %>% nrow() -1)), \n",
                "  width_ligand_receptor, \n",
                "  rep(width_same_cell_same_receptor_type, times = (circos_links %>% filter(receptor_type == \"LCMV_CD8T_receptor\") %>% distinct(receptor) %>% nrow() -1)), \n",
                "  width_ligand_receptor \n",
                "  ) \n"
            ]
        },
        {
            "cell_type": "markdown",
            "metadata": {},
            "source": [
                " \n",
                "Render the circos plot (all links same transparancy). Only the widths of \n",
                "the blocks that indicate each receptor is proportional the \n",
                "ligand-receptor interaction weight (\\~prior knowledge supporting the \n",
                "interaction). \n",
                " \n"
            ]
        },
        {
            "cell_type": "code",
            "execution_count": null,
            "metadata": {},
            "outputs": [],
            "source": [
                "circos.par(gap.degree = gaps) \n",
                "chordDiagram(links_circle, directional = 1,order=order,link.sort = TRUE, link.decreasing = FALSE, grid.col = grid_col,transparency = 0, diffHeight = 0.005, direction.type = c(\"diffHeight\", \"arrows\"),link.arr.type = \"big.arrow\", link.visible = links_circle$weight >= cutoff_include_all_ligands,annotationTrack = \"grid\",  \n",
                "    preAllocateTracks = list(track.height = 0.075)) \n",
                "# we go back to the first track and customize sector labels \n",
                "circos.track(track.index = 1, panel.fun = function(x, y) { \n",
                "    circos.text(CELL_META$xcenter, CELL_META$ylim[1], CELL_META$sector.index, \n",
                "        facing = \"clockwise\", niceFacing = TRUE, adj = c(0, 0.55), cex = 0.8) \n",
                "}, bg.border = NA) # \n"
            ]
        },
        {
            "cell_type": "markdown",
            "metadata": {},
            "source": [
                " \n",
                "![](seurat_wrapper_circos_files/figure-gfm/unnamed-chunk-26-1.png)<!-- --> \n",
                " \n"
            ]
        },
        {
            "cell_type": "code",
            "execution_count": null,
            "metadata": {},
            "outputs": [],
            "source": [
                "circos.clear() \n",
                "\n"
            ]
        },
        {
            "cell_type": "markdown",
            "metadata": {},
            "source": [
                " \n",
                "Render the circos plot (degree of transparancy determined by the prior \n",
                "interaction weight of the ligand-receptor interaction - just as the \n",
                "widths of the blocks indicating each receptor) \n",
                " \n"
            ]
        },
        {
            "cell_type": "code",
            "execution_count": null,
            "metadata": {},
            "outputs": [],
            "source": [
                "circos.par(gap.degree = gaps) \n",
                "chordDiagram(links_circle, directional = 1,order=order,link.sort = TRUE, link.decreasing = FALSE, grid.col = grid_col,transparency = transparency, diffHeight = 0.005, direction.type = c(\"diffHeight\", \"arrows\"),link.arr.type = \"big.arrow\", link.visible = links_circle$weight >= cutoff_include_all_ligands,annotationTrack = \"grid\",  \n",
                "    preAllocateTracks = list(track.height = 0.075)) \n",
                "# we go back to the first track and customize sector labels \n",
                "circos.track(track.index = 1, panel.fun = function(x, y) { \n",
                "    circos.text(CELL_META$xcenter, CELL_META$ylim[1], CELL_META$sector.index, \n",
                "        facing = \"clockwise\", niceFacing = TRUE, adj = c(0, 0.55), cex = 0.8) \n",
                "}, bg.border = NA) # \n"
            ]
        },
        {
            "cell_type": "markdown",
            "metadata": {},
            "source": [
                " \n",
                "![](seurat_wrapper_circos_files/figure-gfm/unnamed-chunk-27-1.png)<!-- --> \n",
                " \n"
            ]
        },
        {
            "cell_type": "code",
            "execution_count": null,
            "metadata": {},
            "outputs": [],
            "source": [
                "circos.clear() \n",
                "\n"
            ]
        },
        {
            "cell_type": "markdown",
            "metadata": {},
            "source": [
                " \n",
                "Save circos plot to an svg file \n",
                " \n"
            ]
        },
        {
            "cell_type": "code",
            "execution_count": null,
            "metadata": {},
            "outputs": [],
            "source": [
                "svg(\"ligand_receptor_circos.svg\", width = 15, height = 15) \n",
                "circos.par(gap.degree = gaps) \n",
                "chordDiagram(links_circle, directional = 1,order=order,link.sort = TRUE, link.decreasing = FALSE, grid.col = grid_col,transparency = transparency, diffHeight = 0.005, direction.type = c(\"diffHeight\", \"arrows\"),link.arr.type = \"big.arrow\", link.visible = links_circle$weight >= cutoff_include_all_ligands,annotationTrack = \"grid\", \n",
                "    preAllocateTracks = list(track.height = 0.075)) \n",
                "# we go back to the first track and customize sector labels \n",
                "circos.track(track.index = 1, panel.fun = function(x, y) { \n",
                "    circos.text(CELL_META$xcenter, CELL_META$ylim[1], CELL_META$sector.index, \n",
                "        facing = \"clockwise\", niceFacing = TRUE, adj = c(0, 0.55), cex = 0.8) \n",
                "}, bg.border = NA) # \n",
                "circos.clear() \n",
                "dev.off() \n",
                "## png  \n",
                "##   2 \n"
            ]
        }
    ],
    "metadata": {
        "anaconda-cloud": "",
        "kernelspec": {
            "display_name": "R",
            "langauge": "R",
            "name": "ir"
        },
        "language_info": {
            "codemirror_mode": "r",
            "file_extension": ".r",
            "mimetype": "text/x-r-source",
            "name": "R",
            "pygments_lexer": "r",
            "version": "3.4.1"
        }
    },
    "nbformat": 4,
    "nbformat_minor": 1
}
