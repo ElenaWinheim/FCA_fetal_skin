{
 "cells": [
  {
   "cell_type": "markdown",
   "metadata": {},
   "source": [
    "# Import and settings"
   ]
  },
  {
   "cell_type": "code",
   "execution_count": 1,
   "metadata": {
    "execution": {
     "iopub.execute_input": "2023-01-31T07:11:29.491201Z",
     "iopub.status.busy": "2023-01-31T07:11:29.490961Z",
     "iopub.status.idle": "2023-01-31T07:11:30.017615Z",
     "shell.execute_reply": "2023-01-31T07:11:30.016979Z",
     "shell.execute_reply.started": "2023-01-31T07:11:29.491149Z"
    },
    "tags": []
   },
   "outputs": [],
   "source": [
    "%load_ext autoreload\n",
    "%autoreload 2\n",
    "%matplotlib inline"
   ]
  },
  {
   "cell_type": "code",
   "execution_count": 2,
   "metadata": {
    "execution": {
     "iopub.execute_input": "2023-01-31T07:11:30.018814Z",
     "iopub.status.busy": "2023-01-31T07:11:30.018418Z",
     "iopub.status.idle": "2023-01-31T07:11:31.336019Z",
     "shell.execute_reply": "2023-01-31T07:11:31.335028Z",
     "shell.execute_reply.started": "2023-01-31T07:11:30.018792Z"
    },
    "tags": []
   },
   "outputs": [],
   "source": [
    "import os, sys, joblib, gc\n",
    "import numpy as np\n",
    "import pandas as pd\n",
    "import matplotlib.pyplot as plt\n",
    "import anndata\n",
    "import scanpy as sc\n",
    "import sctk as sk\n",
    "# import bbknn\n",
    "\n",
    "expr_cmap = sk.expression_colormap()\n",
    "np.set_printoptions(linewidth=180)\n",
    "sc.settings.verbosity = 1"
   ]
  },
  {
   "cell_type": "markdown",
   "metadata": {},
   "source": [
    "# Load data"
   ]
  },
  {
   "cell_type": "code",
   "execution_count": 4,
   "metadata": {
    "execution": {
     "iopub.execute_input": "2023-01-31T14:34:20.921258Z",
     "iopub.status.busy": "2023-01-31T14:34:20.920314Z",
     "iopub.status.idle": "2023-01-31T14:34:45.954452Z",
     "shell.execute_reply": "2023-01-31T14:34:45.953284Z",
     "shell.execute_reply.started": "2023-01-31T14:34:20.921221Z"
    },
    "tags": []
   },
   "outputs": [],
   "source": [
    "fetal_ad = sc.read(\"/lustre/scratch126/cellgen/team205/nh3/skin/20211022_final_figures/h5ad/pooled_fetal_organoid_adult.processed.h5ad\")"
   ]
  },
  {
   "cell_type": "code",
   "execution_count": 127,
   "metadata": {
    "execution": {
     "iopub.execute_input": "2023-01-29T10:13:20.450791Z",
     "iopub.status.busy": "2023-01-29T10:13:20.450479Z",
     "iopub.status.idle": "2023-01-29T10:13:20.522826Z",
     "shell.execute_reply": "2023-01-29T10:13:20.522158Z",
     "shell.execute_reply.started": "2023-01-29T10:13:20.450769Z"
    },
    "tags": []
   },
   "outputs": [],
   "source": [
    "fetal_copy = fetal_ad[fetal_ad.obs.dataset == \"fetal\"]"
   ]
  },
  {
   "cell_type": "code",
   "execution_count": 125,
   "metadata": {
    "execution": {
     "iopub.execute_input": "2023-01-29T10:13:06.668378Z",
     "iopub.status.busy": "2023-01-29T10:13:06.668043Z",
     "iopub.status.idle": "2023-01-29T10:13:06.691085Z",
     "shell.execute_reply": "2023-01-29T10:13:06.690528Z",
     "shell.execute_reply.started": "2023-01-29T10:13:06.668354Z"
    },
    "tags": []
   },
   "outputs": [
    {
     "data": {
      "text/plain": [
       "46794"
      ]
     },
     "execution_count": 125,
     "metadata": {},
     "output_type": "execute_result"
    }
   ],
   "source": [
    "len(fetal_copy.var.index.unique())"
   ]
  },
  {
   "cell_type": "code",
   "execution_count": 128,
   "metadata": {
    "collapsed": true,
    "execution": {
     "iopub.execute_input": "2023-01-29T10:13:22.352639Z",
     "iopub.status.busy": "2023-01-29T10:13:22.352335Z",
     "iopub.status.idle": "2023-01-29T10:13:35.454264Z",
     "shell.execute_reply": "2023-01-29T10:13:35.453562Z",
     "shell.execute_reply.started": "2023-01-29T10:13:22.352615Z"
    },
    "jupyter": {
     "outputs_hidden": true
    },
    "tags": []
   },
   "outputs": [
    {
     "name": "stderr",
     "output_type": "stream",
     "text": [
      "Trying to set attribute `.var` of view, copying.\n",
      "Trying to set attribute `.var` of view, copying.\n",
      "Trying to set attribute `.var` of view, copying.\n",
      "Trying to set attribute `.var` of view, copying.\n",
      "Trying to set attribute `.var` of view, copying.\n",
      "Trying to set attribute `.var` of view, copying.\n",
      "Trying to set attribute `.var` of view, copying.\n",
      "Trying to set attribute `.var` of view, copying.\n",
      "Trying to set attribute `.var` of view, copying.\n",
      "Trying to set attribute `.var` of view, copying.\n",
      "Trying to set attribute `.var` of view, copying.\n",
      "Trying to set attribute `.var` of view, copying.\n",
      "Trying to set attribute `.var` of view, copying.\n",
      "Trying to set attribute `.var` of view, copying.\n",
      "Trying to set attribute `.var` of view, copying.\n",
      "Trying to set attribute `.var` of view, copying.\n",
      "Trying to set attribute `.var` of view, copying.\n",
      "Trying to set attribute `.var` of view, copying.\n",
      "Trying to set attribute `.var` of view, copying.\n",
      "Trying to set attribute `.var` of view, copying.\n",
      "Trying to set attribute `.var` of view, copying.\n",
      "Trying to set attribute `.var` of view, copying.\n",
      "Trying to set attribute `.var` of view, copying.\n",
      "Trying to set attribute `.var` of view, copying.\n",
      "Trying to set attribute `.var` of view, copying.\n",
      "Trying to set attribute `.var` of view, copying.\n",
      "Trying to set attribute `.var` of view, copying.\n",
      "Trying to set attribute `.var` of view, copying.\n",
      "Trying to set attribute `.var` of view, copying.\n",
      "Trying to set attribute `.var` of view, copying.\n",
      "Trying to set attribute `.var` of view, copying.\n",
      "Trying to set attribute `.var` of view, copying.\n",
      "Trying to set attribute `.var` of view, copying.\n",
      "Trying to set attribute `.var` of view, copying.\n",
      "Trying to set attribute `.var` of view, copying.\n",
      "Trying to set attribute `.var` of view, copying.\n",
      "Trying to set attribute `.var` of view, copying.\n",
      "Trying to set attribute `.var` of view, copying.\n",
      "Trying to set attribute `.var` of view, copying.\n",
      "Trying to set attribute `.var` of view, copying.\n",
      "Trying to set attribute `.var` of view, copying.\n",
      "Trying to set attribute `.var` of view, copying.\n",
      "Trying to set attribute `.var` of view, copying.\n",
      "Trying to set attribute `.var` of view, copying.\n",
      "Trying to set attribute `.var` of view, copying.\n",
      "Trying to set attribute `.var` of view, copying.\n",
      "Trying to set attribute `.var` of view, copying.\n",
      "Trying to set attribute `.var` of view, copying.\n",
      "Trying to set attribute `.var` of view, copying.\n",
      "Trying to set attribute `.var` of view, copying.\n",
      "Trying to set attribute `.var` of view, copying.\n",
      "Trying to set attribute `.var` of view, copying.\n",
      "Trying to set attribute `.var` of view, copying.\n",
      "Trying to set attribute `.var` of view, copying.\n",
      "Trying to set attribute `.var` of view, copying.\n",
      "Trying to set attribute `.var` of view, copying.\n",
      "Trying to set attribute `.var` of view, copying.\n",
      "Trying to set attribute `.var` of view, copying.\n",
      "Trying to set attribute `.var` of view, copying.\n",
      "Trying to set attribute `.var` of view, copying.\n",
      "Trying to set attribute `.var` of view, copying.\n",
      "Trying to set attribute `.var` of view, copying.\n",
      "Trying to set attribute `.var` of view, copying.\n",
      "Trying to set attribute `.var` of view, copying.\n",
      "Trying to set attribute `.var` of view, copying.\n",
      "Trying to set attribute `.var` of view, copying.\n",
      "Trying to set attribute `.var` of view, copying.\n",
      "Trying to set attribute `.var` of view, copying.\n",
      "Trying to set attribute `.var` of view, copying.\n",
      "Trying to set attribute `.var` of view, copying.\n",
      "Trying to set attribute `.var` of view, copying.\n",
      "Trying to set attribute `.var` of view, copying.\n",
      "Trying to set attribute `.var` of view, copying.\n",
      "Trying to set attribute `.var` of view, copying.\n",
      "Trying to set attribute `.var` of view, copying.\n",
      "Trying to set attribute `.var` of view, copying.\n",
      "Trying to set attribute `.var` of view, copying.\n",
      "Trying to set attribute `.var` of view, copying.\n",
      "Trying to set attribute `.var` of view, copying.\n",
      "Trying to set attribute `.var` of view, copying.\n",
      "Trying to set attribute `.var` of view, copying.\n",
      "Trying to set attribute `.var` of view, copying.\n",
      "Trying to set attribute `.var` of view, copying.\n"
     ]
    },
    {
     "data": {
      "text/plain": [
       "22380"
      ]
     },
     "execution_count": 128,
     "metadata": {},
     "output_type": "execute_result"
    }
   ],
   "source": [
    "all_anns = fetal_copy.obs.fetal_annot.unique().tolist()\n",
    "genes_list = set()\n",
    "for ann in all_anns:\n",
    "    tmp_obj = fetal_copy[fetal_copy.obs.fetal_annot == ann]\n",
    "    sc.pp.filter_genes(tmp_obj, min_counts=1)\n",
    "    sc.pp.filter_genes(tmp_obj, min_cells=tmp_obj.n_obs*0.01)\n",
    "    for g in tmp_obj.var.index.to_list():\n",
    "        genes_list.add(g)\n",
    "len(genes_list)"
   ]
  },
  {
   "cell_type": "code",
   "execution_count": 130,
   "metadata": {
    "execution": {
     "iopub.execute_input": "2023-01-29T10:14:56.735567Z",
     "iopub.status.busy": "2023-01-29T10:14:56.734778Z",
     "iopub.status.idle": "2023-01-29T10:14:56.794055Z",
     "shell.execute_reply": "2023-01-29T10:14:56.793229Z",
     "shell.execute_reply.started": "2023-01-29T10:14:56.735536Z"
    }
   },
   "outputs": [],
   "source": [
    "org_copy = fetal_ad[fetal_ad.obs.dataset == \"organoid\"]"
   ]
  },
  {
   "cell_type": "code",
   "execution_count": 131,
   "metadata": {
    "execution": {
     "iopub.execute_input": "2023-01-29T10:15:20.452652Z",
     "iopub.status.busy": "2023-01-29T10:15:20.452204Z",
     "iopub.status.idle": "2023-01-29T10:15:20.476607Z",
     "shell.execute_reply": "2023-01-29T10:15:20.475761Z",
     "shell.execute_reply.started": "2023-01-29T10:15:20.452623Z"
    }
   },
   "outputs": [
    {
     "data": {
      "text/plain": [
       "46794"
      ]
     },
     "execution_count": 131,
     "metadata": {},
     "output_type": "execute_result"
    }
   ],
   "source": [
    "len(org_copy.var.index.unique())"
   ]
  },
  {
   "cell_type": "code",
   "execution_count": 133,
   "metadata": {
    "execution": {
     "iopub.execute_input": "2023-01-29T10:16:24.935026Z",
     "iopub.status.busy": "2023-01-29T10:16:24.934656Z",
     "iopub.status.idle": "2023-01-29T10:16:24.959438Z",
     "shell.execute_reply": "2023-01-29T10:16:24.958815Z",
     "shell.execute_reply.started": "2023-01-29T10:16:24.934999Z"
    },
    "tags": []
   },
   "outputs": [
    {
     "data": {
      "text/plain": [
       "34"
      ]
     },
     "execution_count": 133,
     "metadata": {},
     "output_type": "execute_result"
    }
   ],
   "source": [
    "len(org_copy.obs.organoid_annot.unique())"
   ]
  },
  {
   "cell_type": "code",
   "execution_count": 134,
   "metadata": {
    "collapsed": true,
    "execution": {
     "iopub.execute_input": "2023-01-29T10:16:54.260872Z",
     "iopub.status.busy": "2023-01-29T10:16:54.260000Z",
     "iopub.status.idle": "2023-01-29T10:17:03.696909Z",
     "shell.execute_reply": "2023-01-29T10:17:03.696292Z",
     "shell.execute_reply.started": "2023-01-29T10:16:54.260833Z"
    },
    "jupyter": {
     "outputs_hidden": true
    },
    "tags": []
   },
   "outputs": [
    {
     "name": "stderr",
     "output_type": "stream",
     "text": [
      "Trying to set attribute `.var` of view, copying.\n",
      "Trying to set attribute `.var` of view, copying.\n",
      "Trying to set attribute `.var` of view, copying.\n",
      "Trying to set attribute `.var` of view, copying.\n",
      "Trying to set attribute `.var` of view, copying.\n",
      "Trying to set attribute `.var` of view, copying.\n",
      "Trying to set attribute `.var` of view, copying.\n",
      "Trying to set attribute `.var` of view, copying.\n",
      "Trying to set attribute `.var` of view, copying.\n",
      "Trying to set attribute `.var` of view, copying.\n",
      "Trying to set attribute `.var` of view, copying.\n",
      "Trying to set attribute `.var` of view, copying.\n",
      "Trying to set attribute `.var` of view, copying.\n",
      "Trying to set attribute `.var` of view, copying.\n",
      "Trying to set attribute `.var` of view, copying.\n",
      "Trying to set attribute `.var` of view, copying.\n",
      "Trying to set attribute `.var` of view, copying.\n",
      "Trying to set attribute `.var` of view, copying.\n",
      "Trying to set attribute `.var` of view, copying.\n",
      "Trying to set attribute `.var` of view, copying.\n",
      "Trying to set attribute `.var` of view, copying.\n",
      "Trying to set attribute `.var` of view, copying.\n",
      "Trying to set attribute `.var` of view, copying.\n",
      "Trying to set attribute `.var` of view, copying.\n",
      "Trying to set attribute `.var` of view, copying.\n",
      "Trying to set attribute `.var` of view, copying.\n",
      "Trying to set attribute `.var` of view, copying.\n",
      "Trying to set attribute `.var` of view, copying.\n",
      "Trying to set attribute `.var` of view, copying.\n",
      "Trying to set attribute `.var` of view, copying.\n",
      "Trying to set attribute `.var` of view, copying.\n",
      "Trying to set attribute `.var` of view, copying.\n",
      "Trying to set attribute `.var` of view, copying.\n",
      "Trying to set attribute `.var` of view, copying.\n"
     ]
    },
    {
     "data": {
      "text/plain": [
       "26721"
      ]
     },
     "execution_count": 134,
     "metadata": {},
     "output_type": "execute_result"
    }
   ],
   "source": [
    "all_anns = org_copy.obs.organoid_annot.unique().tolist()\n",
    "for ann in all_anns:\n",
    "    tmp_obj = org_copy[org_copy.obs.organoid_annot == ann]\n",
    "    sc.pp.filter_genes(tmp_obj, min_counts=1)\n",
    "    sc.pp.filter_genes(tmp_obj, min_cells=tmp_obj.n_obs*0.01)\n",
    "    for g in tmp_obj.var.index.to_list():\n",
    "        genes_list.add(g)\n",
    "len(genes_list)"
   ]
  },
  {
   "cell_type": "code",
   "execution_count": 140,
   "metadata": {
    "execution": {
     "iopub.execute_input": "2023-01-29T10:30:53.574582Z",
     "iopub.status.busy": "2023-01-29T10:30:53.574035Z",
     "iopub.status.idle": "2023-01-29T10:30:53.670403Z",
     "shell.execute_reply": "2023-01-29T10:30:53.669780Z",
     "shell.execute_reply.started": "2023-01-29T10:30:53.574553Z"
    },
    "tags": []
   },
   "outputs": [
    {
     "data": {
      "text/plain": [
       "View of AnnData object with n_obs × n_vars = 310368 × 26721\n",
       "    obs: 'dataset', 'donor', 'pcw', 'day', 'sample_id', 'fetal_annot', 'organoid_annot', 'pooled_annot', 'chemistry', 'gender', 'sorting'\n",
       "    var: 'mito', 'ribo', 'hb', 'n_counts', 'n_cells'"
      ]
     },
     "execution_count": 140,
     "metadata": {},
     "output_type": "execute_result"
    }
   ],
   "source": [
    "pooled_obj = fetal_ad[:, fetal_ad.var.index.isin(genes_list)]\n",
    "pooled_obj"
   ]
  },
  {
   "cell_type": "code",
   "execution_count": 142,
   "metadata": {
    "execution": {
     "iopub.execute_input": "2023-01-29T10:37:48.450030Z",
     "iopub.status.busy": "2023-01-29T10:37:48.449341Z",
     "iopub.status.idle": "2023-01-29T10:39:54.628741Z",
     "shell.execute_reply": "2023-01-29T10:39:54.627623Z",
     "shell.execute_reply.started": "2023-01-29T10:37:48.450000Z"
    },
    "tags": []
   },
   "outputs": [],
   "source": [
    "sc.write(filename='/home/jovyan/FCA_Fetal_Skin_priv/data/QCed_pooled_fsk_org_count.h5ad', adata=pooled_obj)"
   ]
  }
 ],
 "metadata": {
  "kernelspec": {
   "display_name": "FCA_base",
   "language": "python",
   "name": "fca_base"
  },
  "language_info": {
   "codemirror_mode": {
    "name": "ipython",
    "version": 3
   },
   "file_extension": ".py",
   "mimetype": "text/x-python",
   "name": "python",
   "nbconvert_exporter": "python",
   "pygments_lexer": "ipython3",
   "version": "3.9.13"
  },
  "widgets": {
   "application/vnd.jupyter.widget-state+json": {
    "state": {},
    "version_major": 2,
    "version_minor": 0
   }
  }
 },
 "nbformat": 4,
 "nbformat_minor": 4
}
