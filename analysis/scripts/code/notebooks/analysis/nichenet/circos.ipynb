{
    "cells": [
        {
            "cell_type": "markdown",
            "metadata": {},
            "source": [
                "Circos plot visualization to show active ligand-target links between \n",
                "interacting cells \n",
                "================ \n",
                "Robin Browaeys \n",
                "3-7-2019 \n",
                " \n",
                "<!-- github markdown built using  \n",
                "rmarkdown::render(\"vignettes/circos.Rmd\", output_format = \"github_document\") \n",
                "--> \n",
                " \n",
                "This vignette shows how NicheNet can be used to predict active \n",
                "ligand-target links between multiple interacting cells and how you can \n",
                "make a circos plot to summarize the top-predicted links (via the \n",
                "circlize package). This vignette starts in the same way as the main, \n",
                "basis, NicheNet vignette [NicheNet’s ligand activity analysis on a gene \n",
                "set of interest: predict active ligands and their target \n",
                "genes](ligand_activity_geneset.md):`vignette(\"ligand_activity_geneset\", \n",
                "package=\"nichenetr\")`. Make sure you understand the different steps \n",
                "described in that vignette before proceeding with this vignette. In \n",
                "contrast to the basic vignette, we will look communication between \n",
                "multiple cell types. More specifically, we will predict which ligands \n",
                "expressed by both CAFs and endothelial cells can induce the p-EMT \n",
                "program in neighboring malignant cells (See Puram et al. 2017). \n",
                " \n",
                "### Load packages required for this vignette \n",
                " \n"
            ]
        },
        {
            "cell_type": "code",
            "execution_count": null,
            "metadata": {},
            "outputs": [],
            "source": [
                "library(nichenetr) \n",
                "library(tidyverse) \n",
                "library(circlize) \n"
            ]
        },
        {
            "cell_type": "markdown",
            "metadata": {},
            "source": [
                " \n",
                "### Read in expression data of interacting cells \n",
                " \n",
                "First, we will read in the publicly available single-cell data from \n",
                "CAFs, endothelial cells and malignant cells from HNSCC \n",
                "tumors. \n",
                " \n"
            ]
        },
        {
            "cell_type": "code",
            "execution_count": null,
            "metadata": {},
            "outputs": [],
            "source": [
                "hnscc_expression = readRDS(url(\"https://zenodo.org/record/3260758/files/hnscc_expression.rds\")) \n",
                "expression = hnscc_expression$expression \n",
                "sample_info = hnscc_expression$sample_info # contains meta-information about the cells \n"
            ]
        },
        {
            "cell_type": "markdown",
            "metadata": {},
            "source": [
                " \n",
                "Secondly, we will determine which genes are expressed in CAFs, \n",
                "endothelial and malignant cells from high quality primary tumors. \n",
                "Therefore, we wil not consider cells from tumor samples of less quality \n",
                "or from lymph node metastases. To determine expressed genes, we use the \n",
                "definition used by of Puram et \n",
                "al. \n",
                " \n"
            ]
        },
        {
            "cell_type": "code",
            "execution_count": null,
            "metadata": {},
            "outputs": [],
            "source": [
                "tumors_remove = c(\"HN10\",\"HN\",\"HN12\", \"HN13\", \"HN24\", \"HN7\", \"HN8\",\"HN23\") \n",
                " \n",
                "CAF_ids = sample_info %>% filter(`Lymph node` == 0 & !(tumor %in% tumors_remove) & `non-cancer cell type` == \"CAF\") %>% pull(cell) \n",
                "endothelial_ids = sample_info %>% filter(`Lymph node` == 0 & !(tumor %in% tumors_remove) & `non-cancer cell type` == \"Endothelial\") %>% pull(cell) \n",
                "malignant_ids = sample_info %>% filter(`Lymph node` == 0 & !(tumor %in% tumors_remove) & `classified  as cancer cell` == 1) %>% pull(cell) \n",
                " \n",
                "expressed_genes_CAFs = expression[CAF_ids,] %>% apply(2,function(x){10*(2**x - 1)}) %>% apply(2,function(x){log2(mean(x) + 1)}) %>% .[. >= 4] %>% names() \n",
                "expressed_genes_endothelial = expression[endothelial_ids,] %>% apply(2,function(x){10*(2**x - 1)}) %>% apply(2,function(x){log2(mean(x) + 1)}) %>% .[. >= 4] %>% names() \n",
                "expressed_genes_malignant = expression[malignant_ids,] %>% apply(2,function(x){10*(2**x - 1)}) %>% apply(2,function(x){log2(mean(x) + 1)}) %>% .[. >= 4] %>% names() \n"
            ]
        },
        {
            "cell_type": "markdown",
            "metadata": {},
            "source": [
                " \n",
                "### Load the ligand-target model we want to use \n",
                " \n"
            ]
        },
        {
            "cell_type": "code",
            "execution_count": null,
            "metadata": {},
            "outputs": [],
            "source": [
                "ligand_target_matrix = readRDS(url(\"https://zenodo.org/record/3260758/files/ligand_target_matrix.rds\")) \n",
                "ligand_target_matrix[1:5,1:5] # target genes in rows, ligands in columns \n",
                "##                 CXCL1        CXCL2        CXCL3        CXCL5         PPBP \n",
                "## A1BG     3.534343e-04 4.041324e-04 3.729920e-04 3.080640e-04 2.628388e-04 \n",
                "## A1BG-AS1 1.650894e-04 1.509213e-04 1.583594e-04 1.317253e-04 1.231819e-04 \n",
                "## A1CF     5.787175e-04 4.596295e-04 3.895907e-04 3.293275e-04 3.211944e-04 \n",
                "## A2M      6.027058e-04 5.996617e-04 5.164365e-04 4.517236e-04 4.590521e-04 \n",
                "## A2M-AS1  8.898724e-05 8.243341e-05 7.484018e-05 4.912514e-05 5.120439e-05 \n"
            ]
        },
        {
            "cell_type": "markdown",
            "metadata": {},
            "source": [
                " \n",
                "### Load the gene set of interest and background of genes \n",
                " \n",
                "As gene set of interest, we consider the genes of which the expression \n",
                "is possibly affected due to communication with other cells. \n",
                " \n",
                "Because we here want to investigate how CAFs and endothelial cells \n",
                "regulate the expression of p-EMT genes in malignant cells, we will use \n",
                "the p-EMT gene set defined by Puram et al. as gene set of interset and \n",
                "use all genes expressed in malignant cells as background of \n",
                "genes. \n",
                " \n"
            ]
        },
        {
            "cell_type": "code",
            "execution_count": null,
            "metadata": {},
            "outputs": [],
            "source": [
                "pemt_geneset = readr::read_tsv(url(\"https://zenodo.org/record/3260758/files/pemt_signature.txt\"), col_names = \"gene\") %>% pull(gene) %>% .[. %in% rownames(ligand_target_matrix)] # only consider genes also present in the NicheNet model - this excludes genes from the gene list for which the official HGNC symbol was not used by Puram et al. \n",
                "head(pemt_geneset) \n",
                "## [1] \"SERPINE1\" \"TGFBI\"    \"MMP10\"    \"LAMC2\"    \"P4HA2\"    \"PDPN\" \n",
                " \n",
                "background_expressed_genes = expressed_genes_malignant %>% .[. %in% rownames(ligand_target_matrix)] \n",
                "head(background_expressed_genes) \n",
                "## [1] \"RPS11\"   \"ELMO2\"   \"PNMA1\"   \"MMP2\"    \"TMEM216\" \"ERCC5\" \n"
            ]
        },
        {
            "cell_type": "markdown",
            "metadata": {},
            "source": [
                " \n",
                "### Perform NicheNet’s ligand activity analysis on the gene set of interest \n",
                " \n",
                "In a first step, we will define a set of potentially active ligands. As \n",
                "potentially active ligands, we will use ligands that are 1) expressed by \n",
                "CAFs and/or endothelial cells and 2) can bind a (putative) receptor \n",
                "expressed by malignant cells. Putative ligand-receptor links were \n",
                "gathered from NicheNet’s ligand-receptor data sources. \n",
                " \n",
                "Note that we combine the ligands from CAFs and endothelial cells in one \n",
                "ligand activity analysis now. Later on, we will look which of the \n",
                "top-ranked ligands is mainly expressed by which of both cell \n",
                "types. \n",
                " \n"
            ]
        },
        {
            "cell_type": "code",
            "execution_count": null,
            "metadata": {},
            "outputs": [],
            "source": [
                "lr_network = readRDS(url(\"https://zenodo.org/record/3260758/files/lr_network.rds\")) \n",
                " \n",
                "ligands = lr_network %>% pull(from) %>% unique() \n",
                "expressed_ligands_CAFs = intersect(ligands,expressed_genes_CAFs) \n",
                "expressed_ligands_endothelial = intersect(ligands,expressed_genes_endothelial) \n",
                "expressed_ligands = union(expressed_ligands_CAFs, expressed_genes_endothelial) \n",
                " \n",
                "receptors = lr_network %>% pull(to) %>% unique() \n",
                "expressed_receptors = intersect(receptors,expressed_genes_malignant) \n",
                " \n",
                "potential_ligands = lr_network %>% filter(from %in% expressed_ligands & to %in% expressed_receptors) %>% pull(from) %>% unique() \n",
                "head(potential_ligands) \n",
                "## [1] \"IL15\"    \"HGF\"     \"TNFSF10\" \"TGFB2\"   \"TGFB3\"   \"INHBA\" \n"
            ]
        },
        {
            "cell_type": "markdown",
            "metadata": {},
            "source": [
                " \n",
                "Now perform the ligand activity analysis: infer how well NicheNet’s \n",
                "ligand-target potential scores can predict whether a gene belongs to the \n",
                "p-EMT program or \n",
                "not. \n",
                " \n"
            ]
        },
        {
            "cell_type": "code",
            "execution_count": null,
            "metadata": {},
            "outputs": [],
            "source": [
                "ligand_activities = predict_ligand_activities(geneset = pemt_geneset, background_expressed_genes = background_expressed_genes, ligand_target_matrix = ligand_target_matrix, potential_ligands = potential_ligands) \n",
                "\n"
            ]
        },
        {
            "cell_type": "markdown",
            "metadata": {},
            "source": [
                " \n",
                "Now, we want to rank the ligands based on their ligand activity. In our \n",
                "validation study, we showed that the pearson correlation between a \n",
                "ligand’s target predictions and the observed transcriptional response \n",
                "was the most informative measure to define ligand activity. Therefore, \n",
                "we will rank the ligands based on their pearson correlation coefficient. \n",
                " \n"
            ]
        },
        {
            "cell_type": "code",
            "execution_count": null,
            "metadata": {},
            "outputs": [],
            "source": [
                "ligand_activities %>% arrange(-pearson)  \n",
                "## # A tibble: 154 x 4 \n",
                "##    test_ligand auroc   aupr pearson \n",
                "##    <chr>       <dbl>  <dbl>   <dbl> \n",
                "##  1 PTHLH       0.667 0.0720   0.128 \n",
                "##  2 EDN1        0.682 0.0586   0.126 \n",
                "##  3 CXCL12      0.680 0.0507   0.123 \n",
                "##  4 AGT         0.676 0.0581   0.120 \n",
                "##  5 TGFB3       0.689 0.0454   0.117 \n",
                "##  6 IL6         0.693 0.0510   0.115 \n",
                "##  7 INHBA       0.695 0.0502   0.113 \n",
                "##  8 ADAM17      0.672 0.0526   0.113 \n",
                "##  9 TNC         0.700 0.0444   0.109 \n",
                "## 10 VWF         0.685 0.0490   0.109 \n",
                "## # … with 144 more rows \n",
                "best_upstream_ligands = ligand_activities %>% top_n(20, pearson) %>% arrange(-pearson) %>% pull(test_ligand) \n",
                "head(best_upstream_ligands) \n",
                "## [1] \"PTHLH\"  \"EDN1\"   \"CXCL12\" \"AGT\"    \"TGFB3\"  \"IL6\" \n"
            ]
        },
        {
            "cell_type": "markdown",
            "metadata": {},
            "source": [
                " \n",
                "We see here that the top-ranked ligands can predict the p-EMT genes \n",
                "reasonably, this implies that ranking of the ligands might be accurate \n",
                "as shown in our study. However, it is possible that for some gene sets, \n",
                "the target gene prediction performance of the top-ranked ligands would \n",
                "not be much better than random prediction. In that case, prioritization \n",
                "of ligands will be less trustworthy. \n",
                " \n",
                "Determine now which prioritized ligands are expressed by CAFs and or \n",
                "endothelial cells \n",
                " \n"
            ]
        },
        {
            "cell_type": "code",
            "execution_count": null,
            "metadata": {},
            "outputs": [],
            "source": [
                "best_upstream_ligands %>% intersect(expressed_ligands_CAFs)  \n",
                "##  [1] \"PTHLH\"  \"CXCL12\" \"AGT\"    \"TGFB3\"  \"IL6\"    \"INHBA\"  \"ADAM17\" \"TNC\"    \"CTGF\"   \"FN1\"    \"BMP5\"   \"IL24\"   \n",
                "## [13] \"CXCL11\" \"MMP9\"   \"COL4A1\" \"PSEN1\"  \"CXCL9\" \n",
                "best_upstream_ligands %>% intersect(expressed_ligands_endothelial) \n",
                "##  [1] \"EDN1\"   \"CXCL12\" \"IL6\"    \"ADAM17\" \"VWF\"    \"CTGF\"   \"FN1\"    \"SPP1\"   \"CXCL11\" \"COL4A1\" \"PSEN1\"  \"CXCL9\" \n",
                " \n",
                "# lot of overlap between both cell types in terms of expressed ligands \n",
                "# therefore, determine which ligands are more strongly expressed in which of the two \n",
                "ligand_expression_tbl = tibble( \n",
                "  ligand = best_upstream_ligands,  \n",
                "  CAF = expression[CAF_ids,best_upstream_ligands] %>% apply(2,function(x){10*(2**x - 1)}) %>% apply(2,function(x){log2(mean(x) + 1)}), \n",
                "  endothelial = expression[endothelial_ids,best_upstream_ligands] %>% apply(2,function(x){10*(2**x - 1)}) %>% apply(2,function(x){log2(mean(x) + 1)})) \n",
                " \n",
                "CAF_specific_ligands = ligand_expression_tbl %>% filter(CAF > endothelial + 2) %>% pull(ligand) \n",
                "endothelial_specific_ligands = ligand_expression_tbl %>% filter(endothelial > CAF + 2) %>% pull(ligand) \n",
                "general_ligands = setdiff(best_upstream_ligands,c(CAF_specific_ligands,endothelial_specific_ligands)) \n",
                " \n",
                "ligand_type_indication_df = tibble( \n",
                "  ligand_type = c(rep(\"CAF-specific\", times = CAF_specific_ligands %>% length()), \n",
                "                  rep(\"General\", times = general_ligands %>% length()), \n",
                "                  rep(\"Endothelial-specific\", times = endothelial_specific_ligands %>% length())), \n",
                "  ligand = c(CAF_specific_ligands, general_ligands, endothelial_specific_ligands)) \n"
            ]
        },
        {
            "cell_type": "markdown",
            "metadata": {},
            "source": [
                " \n",
                "### Infer target genes of top-ranked ligands and visualize in a circos plot \n",
                " \n",
                "Now we will show how you can look at the regulatory potential scores \n",
                "between ligands and target genes of interest. In this case, we will look \n",
                "at links between top-ranked p-EMT-regulating ligands and p-EMT genes. In \n",
                "this example, inferred target genes should belong to the p-EMT gene set \n",
                "and to the 250 most strongly predicted targets of at least one of the \n",
                "selected top-ranked ligands (the top 250 targets according to the \n",
                "general prior model, so not the top 250 targets for this dataset). \n",
                " \n",
                "Get first the active ligand-target links by looking which of the p-EMT \n",
                "genes are among the top-predicted target genes for the prioritized \n",
                "ligands: \n",
                " \n"
            ]
        },
        {
            "cell_type": "code",
            "execution_count": null,
            "metadata": {},
            "outputs": [],
            "source": [
                "active_ligand_target_links_df = best_upstream_ligands %>% lapply(get_weighted_ligand_target_links,geneset = pemt_geneset, ligand_target_matrix = ligand_target_matrix, n = 250) %>% bind_rows() \n",
                " \n",
                "active_ligand_target_links_df = active_ligand_target_links_df %>% mutate(target_type = \"p_emt\") %>% inner_join(ligand_type_indication_df) # if you want ot make circos plots for multiple gene sets, combine the different data frames and differentiate which target belongs to which gene set via the target type \n"
            ]
        },
        {
            "cell_type": "markdown",
            "metadata": {},
            "source": [
                " \n",
                "To avoid making a circos plots with too many ligand-target links, we \n",
                "will show only links with a weight higher than a predefined cutoff: \n",
                "links belonging to the 66% of lowest scores were removed. Not that this \n",
                "cutoffs and other cutoffs used for this visualization can be changed \n",
                "according to the user’s \n",
                "needs. \n",
                " \n"
            ]
        },
        {
            "cell_type": "code",
            "execution_count": null,
            "metadata": {},
            "outputs": [],
            "source": [
                "cutoff_include_all_ligands = active_ligand_target_links_df$weight %>% quantile(0.66) \n",
                " \n",
                "active_ligand_target_links_df_circos = active_ligand_target_links_df %>% filter(weight > cutoff_include_all_ligands) \n",
                " \n",
                "ligands_to_remove = setdiff(active_ligand_target_links_df$ligand %>% unique(), active_ligand_target_links_df_circos$ligand %>% unique()) \n",
                "targets_to_remove = setdiff(active_ligand_target_links_df$target %>% unique(), active_ligand_target_links_df_circos$target %>% unique()) \n",
                "   \n",
                "circos_links = active_ligand_target_links_df %>% filter(!target %in% targets_to_remove &!ligand %in% ligands_to_remove) \n"
            ]
        },
        {
            "cell_type": "markdown",
            "metadata": {},
            "source": [
                " \n",
                "Prepare the circos visualization: give each segment of ligands and \n",
                "targets a specific color and order \n",
                " \n"
            ]
        },
        {
            "cell_type": "code",
            "execution_count": null,
            "metadata": {},
            "outputs": [],
            "source": [
                "grid_col_ligand =c(\"General\" = \"lawngreen\", \n",
                "            \"CAF-specific\" = \"royalblue\", \n",
                "            \"Endothelial-specific\" = \"gold\") \n",
                "grid_col_target =c( \n",
                "            \"p_emt\" = \"tomato\") \n",
                " \n",
                "grid_col_tbl_ligand = tibble(ligand_type = grid_col_ligand %>% names(), color_ligand_type = grid_col_ligand) \n",
                "grid_col_tbl_target = tibble(target_type = grid_col_target %>% names(), color_target_type = grid_col_target) \n",
                " \n",
                "circos_links = circos_links %>% mutate(ligand = paste(ligand,\" \")) # extra space: make a difference between a gene as ligand and a gene as target! \n",
                "circos_links = circos_links %>% inner_join(grid_col_tbl_ligand) %>% inner_join(grid_col_tbl_target) \n",
                "links_circle = circos_links %>% select(ligand,target, weight) \n",
                " \n",
                "ligand_color = circos_links %>% distinct(ligand,color_ligand_type) \n",
                "grid_ligand_color = ligand_color$color_ligand_type %>% set_names(ligand_color$ligand) \n",
                "target_color = circos_links %>% distinct(target,color_target_type) \n",
                "grid_target_color = target_color$color_target_type %>% set_names(target_color$target) \n",
                " \n",
                "grid_col =c(grid_ligand_color,grid_target_color) \n",
                " \n",
                "# give the option that links in the circos plot will be transparant ~ ligand-target potential score \n",
                "transparency = circos_links %>% mutate(weight =(weight-min(weight))/(max(weight)-min(weight))) %>% mutate(transparency = 1-weight) %>% .$transparency  \n"
            ]
        },
        {
            "cell_type": "markdown",
            "metadata": {},
            "source": [
                " \n",
                "Prepare the circos visualization: order ligands and targets \n",
                " \n"
            ]
        },
        {
            "cell_type": "code",
            "execution_count": null,
            "metadata": {},
            "outputs": [],
            "source": [
                "target_order = circos_links$target %>% unique() \n",
                "ligand_order = c(CAF_specific_ligands,general_ligands,endothelial_specific_ligands) %>% c(paste(.,\" \")) %>% intersect(circos_links$ligand) \n",
                "order = c(ligand_order,target_order) \n"
            ]
        },
        {
            "cell_type": "markdown",
            "metadata": {},
            "source": [
                " \n",
                "Prepare the circos visualization: define the gaps between the different \n",
                "segments \n",
                " \n"
            ]
        },
        {
            "cell_type": "code",
            "execution_count": null,
            "metadata": {},
            "outputs": [],
            "source": [
                "width_same_cell_same_ligand_type = 0.5 \n",
                "width_different_cell = 6 \n",
                "width_ligand_target = 15 \n",
                "width_same_cell_same_target_type = 0.5 \n",
                " \n",
                "gaps = c( \n",
                "  # width_ligand_target, \n",
                "  rep(width_same_cell_same_ligand_type, times = (circos_links %>% filter(ligand_type == \"CAF-specific\") %>% distinct(ligand) %>% nrow() -1)), \n",
                "  width_different_cell, \n",
                "  rep(width_same_cell_same_ligand_type, times = (circos_links %>% filter(ligand_type == \"General\") %>% distinct(ligand) %>% nrow() -1)), \n",
                "  width_different_cell, \n",
                "  rep(width_same_cell_same_ligand_type, times = (circos_links %>% filter(ligand_type == \"Endothelial-specific\") %>% distinct(ligand) %>% nrow() -1)),  \n",
                "  width_ligand_target, \n",
                "  rep(width_same_cell_same_target_type, times = (circos_links %>% filter(target_type == \"p_emt\") %>% distinct(target) %>% nrow() -1)), \n",
                "  width_ligand_target \n",
                "  ) \n"
            ]
        },
        {
            "cell_type": "markdown",
            "metadata": {},
            "source": [
                " \n",
                "Render the circos plot (all links same transparancy). Only the widths of \n",
                "the blocks that indicate each target gene is proportional the \n",
                "ligand-target regulatory potential (\\~prior knowledge supporting the \n",
                "regulatory interaction). \n",
                " \n"
            ]
        },
        {
            "cell_type": "code",
            "execution_count": null,
            "metadata": {},
            "outputs": [],
            "source": [
                "circos.par(gap.degree = gaps) \n",
                "chordDiagram(links_circle, directional = 1,order=order,link.sort = TRUE, link.decreasing = FALSE, grid.col = grid_col,transparency = 0, diffHeight = 0.005, direction.type = c(\"diffHeight\", \"arrows\"),link.arr.type = \"big.arrow\", link.visible = links_circle$weight >= cutoff_include_all_ligands,annotationTrack = \"grid\",  \n",
                "    preAllocateTracks = list(track.height = 0.075)) \n",
                "# we go back to the first track and customize sector labels \n",
                "circos.track(track.index = 1, panel.fun = function(x, y) { \n",
                "    circos.text(CELL_META$xcenter, CELL_META$ylim[1], CELL_META$sector.index, \n",
                "        facing = \"clockwise\", niceFacing = TRUE, adj = c(0, 0.55), cex = 1) \n",
                "}, bg.border = NA) # \n"
            ]
        },
        {
            "cell_type": "markdown",
            "metadata": {},
            "source": [
                " \n",
                "![](circos_files/figure-gfm/unnamed-chunk-15-1.png)<!-- --> \n",
                " \n"
            ]
        },
        {
            "cell_type": "code",
            "execution_count": null,
            "metadata": {},
            "outputs": [],
            "source": [
                "circos.clear() \n",
                "\n"
            ]
        },
        {
            "cell_type": "markdown",
            "metadata": {},
            "source": [
                " \n",
                "Render the circos plot (degree of transparancy determined by the \n",
                "regulatory potential value of a ligand-target interaction) \n",
                " \n"
            ]
        },
        {
            "cell_type": "code",
            "execution_count": null,
            "metadata": {},
            "outputs": [],
            "source": [
                "circos.par(gap.degree = gaps) \n",
                "chordDiagram(links_circle, directional = 1,order=order,link.sort = TRUE, link.decreasing = FALSE, grid.col = grid_col,transparency = transparency, diffHeight = 0.005, direction.type = c(\"diffHeight\", \"arrows\"),link.arr.type = \"big.arrow\", link.visible = links_circle$weight >= cutoff_include_all_ligands,annotationTrack = \"grid\",  \n",
                "    preAllocateTracks = list(track.height = 0.075)) \n",
                "# we go back to the first track and customize sector labels \n",
                "circos.track(track.index = 1, panel.fun = function(x, y) { \n",
                "    circos.text(CELL_META$xcenter, CELL_META$ylim[1], CELL_META$sector.index, \n",
                "        facing = \"clockwise\", niceFacing = TRUE, adj = c(0, 0.55), cex = 1) \n",
                "}, bg.border = NA) # \n"
            ]
        },
        {
            "cell_type": "markdown",
            "metadata": {},
            "source": [
                " \n",
                "![](circos_files/figure-gfm/unnamed-chunk-16-1.png)<!-- --> \n",
                " \n"
            ]
        },
        {
            "cell_type": "code",
            "execution_count": null,
            "metadata": {},
            "outputs": [],
            "source": [
                "circos.clear() \n",
                "\n"
            ]
        },
        {
            "cell_type": "markdown",
            "metadata": {},
            "source": [
                " \n",
                "Save circos plot to an svg file \n",
                " \n"
            ]
        },
        {
            "cell_type": "code",
            "execution_count": null,
            "metadata": {},
            "outputs": [],
            "source": [
                "svg(\"ligand_target_circos.svg\", width = 10, height = 10) \n",
                "circos.par(gap.degree = gaps) \n",
                "chordDiagram(links_circle, directional = 1,order=order,link.sort = TRUE, link.decreasing = FALSE, grid.col = grid_col,transparency = transparency, diffHeight = 0.005, direction.type = c(\"diffHeight\", \"arrows\"),link.arr.type = \"big.arrow\", link.visible = links_circle$weight >= cutoff_include_all_ligands,annotationTrack = \"grid\", \n",
                "    preAllocateTracks = list(track.height = 0.075)) \n",
                "# we go back to the first track and customize sector labels \n",
                "circos.track(track.index = 1, panel.fun = function(x, y) { \n",
                "    circos.text(CELL_META$xcenter, CELL_META$ylim[1], CELL_META$sector.index, \n",
                "        facing = \"clockwise\", niceFacing = TRUE, adj = c(0, 0.55), cex = 1) \n",
                "}, bg.border = NA) # \n",
                "circos.clear() \n",
                "dev.off() \n",
                "## png  \n",
                "##   2 \n"
            ]
        },
        {
            "cell_type": "markdown",
            "metadata": {},
            "source": [
                " \n",
                "### Visualize ligand-receptor interactions of the prioritized ligands in a circos plot \n",
                " \n"
            ]
        },
        {
            "cell_type": "code",
            "execution_count": null,
            "metadata": {},
            "outputs": [],
            "source": [
                "# get the ligand-receptor network of the top-ranked ligands \n",
                "lr_network_top = lr_network %>% filter(from %in% best_upstream_ligands & to %in% expressed_receptors) %>% distinct(from,to) \n",
                "best_upstream_receptors = lr_network_top %>% pull(to) %>% unique() \n",
                " \n",
                "# get the weights of the ligand-receptor interactions as used in the NicheNet model \n",
                "weighted_networks = readRDS(url(\"https://zenodo.org/record/3260758/files/weighted_networks.rds\")) \n",
                "lr_network_top_df = weighted_networks$lr_sig %>% filter(from %in% best_upstream_ligands & to %in% best_upstream_receptors) %>% rename(ligand = from, receptor = to) \n",
                " \n",
                "lr_network_top_df = lr_network_top_df %>% mutate(receptor_type = \"p_emt_receptor\") %>% inner_join(ligand_type_indication_df) \n"
            ]
        },
        {
            "cell_type": "markdown",
            "metadata": {},
            "source": " \n"
        },
        {
            "cell_type": "code",
            "execution_count": null,
            "metadata": {},
            "outputs": [],
            "source": [
                "grid_col_ligand =c(\"General\" = \"lawngreen\", \n",
                "            \"CAF-specific\" = \"royalblue\", \n",
                "            \"Endothelial-specific\" = \"gold\") \n",
                "grid_col_receptor =c( \n",
                "            \"p_emt_receptor\" = \"darkred\") \n",
                " \n",
                "grid_col_tbl_ligand = tibble(ligand_type = grid_col_ligand %>% names(), color_ligand_type = grid_col_ligand) \n",
                "grid_col_tbl_receptor = tibble(receptor_type = grid_col_receptor %>% names(), color_receptor_type = grid_col_receptor) \n",
                " \n",
                "circos_links = lr_network_top_df %>% mutate(ligand = paste(ligand,\" \")) # extra space: make a difference between a gene as ligand and a gene as receptor! \n",
                "circos_links = circos_links %>% inner_join(grid_col_tbl_ligand) %>% inner_join(grid_col_tbl_receptor) \n",
                "links_circle = circos_links %>% select(ligand,receptor, weight) \n",
                " \n",
                "ligand_color = circos_links %>% distinct(ligand,color_ligand_type) \n",
                "grid_ligand_color = ligand_color$color_ligand_type %>% set_names(ligand_color$ligand) \n",
                "receptor_color = circos_links %>% distinct(receptor,color_receptor_type) \n",
                "grid_receptor_color = receptor_color$color_receptor_type %>% set_names(receptor_color$receptor) \n",
                " \n",
                "grid_col =c(grid_ligand_color,grid_receptor_color) \n",
                " \n",
                "# give the option that links in the circos plot will be transparant ~ ligand-receptor potential score \n",
                "transparency = circos_links %>% mutate(weight =(weight-min(weight))/(max(weight)-min(weight))) %>% mutate(transparency = 1-weight) %>% .$transparency  \n"
            ]
        },
        {
            "cell_type": "markdown",
            "metadata": {},
            "source": [
                " \n",
                "Prepare the circos visualization: order ligands and receptors \n",
                " \n"
            ]
        },
        {
            "cell_type": "code",
            "execution_count": null,
            "metadata": {},
            "outputs": [],
            "source": [
                "receptor_order = circos_links$receptor %>% unique() \n",
                "ligand_order = c(CAF_specific_ligands,general_ligands,endothelial_specific_ligands) %>% c(paste(.,\" \")) %>% intersect(circos_links$ligand) \n",
                "order = c(ligand_order,receptor_order) \n"
            ]
        },
        {
            "cell_type": "markdown",
            "metadata": {},
            "source": [
                " \n",
                "Prepare the circos visualization: define the gaps between the different \n",
                "segments \n",
                " \n"
            ]
        },
        {
            "cell_type": "code",
            "execution_count": null,
            "metadata": {},
            "outputs": [],
            "source": [
                "width_same_cell_same_ligand_type = 0.5 \n",
                "width_different_cell = 6 \n",
                "width_ligand_receptor = 15 \n",
                "width_same_cell_same_receptor_type = 0.5 \n",
                " \n",
                "gaps = c( \n",
                "  # width_ligand_receptor, \n",
                "  rep(width_same_cell_same_ligand_type, times = (circos_links %>% filter(ligand_type == \"CAF-specific\") %>% distinct(ligand) %>% nrow() -1)), \n",
                "  width_different_cell, \n",
                "  rep(width_same_cell_same_ligand_type, times = (circos_links %>% filter(ligand_type == \"General\") %>% distinct(ligand) %>% nrow() -1)), \n",
                "  width_different_cell, \n",
                "  rep(width_same_cell_same_ligand_type, times = (circos_links %>% filter(ligand_type == \"Endothelial-specific\") %>% distinct(ligand) %>% nrow() -1)),  \n",
                "  width_ligand_receptor, \n",
                "  rep(width_same_cell_same_receptor_type, times = (circos_links %>% filter(receptor_type == \"p_emt_receptor\") %>% distinct(receptor) %>% nrow() -1)), \n",
                "  width_ligand_receptor \n",
                "  ) \n"
            ]
        },
        {
            "cell_type": "markdown",
            "metadata": {},
            "source": [
                " \n",
                "Render the circos plot (all links same transparancy). Only the widths of \n",
                "the blocks that indicate each receptor is proportional the \n",
                "ligand-receptor interaction weight (\\~prior knowledge supporting the \n",
                "interaction). \n",
                " \n"
            ]
        },
        {
            "cell_type": "code",
            "execution_count": null,
            "metadata": {},
            "outputs": [],
            "source": [
                "circos.par(gap.degree = gaps) \n",
                "chordDiagram(links_circle, directional = 1,order=order,link.sort = TRUE, link.decreasing = FALSE, grid.col = grid_col,transparency = 0, diffHeight = 0.005, direction.type = c(\"diffHeight\", \"arrows\"),link.arr.type = \"big.arrow\", link.visible = links_circle$weight >= cutoff_include_all_ligands,annotationTrack = \"grid\",  \n",
                "    preAllocateTracks = list(track.height = 0.075)) \n",
                "# we go back to the first track and customize sector labels \n",
                "circos.track(track.index = 1, panel.fun = function(x, y) { \n",
                "    circos.text(CELL_META$xcenter, CELL_META$ylim[1], CELL_META$sector.index, \n",
                "        facing = \"clockwise\", niceFacing = TRUE, adj = c(0, 0.55), cex = 0.8) \n",
                "}, bg.border = NA) # \n"
            ]
        },
        {
            "cell_type": "markdown",
            "metadata": {},
            "source": [
                " \n",
                "![](circos_files/figure-gfm/unnamed-chunk-22-1.png)<!-- --> \n",
                " \n"
            ]
        },
        {
            "cell_type": "code",
            "execution_count": null,
            "metadata": {},
            "outputs": [],
            "source": [
                "circos.clear() \n",
                "\n"
            ]
        },
        {
            "cell_type": "markdown",
            "metadata": {},
            "source": [
                " \n",
                "Render the circos plot (degree of transparancy determined by the prior \n",
                "interaction weight of the ligand-receptor interaction - just as the \n",
                "widths of the blocks indicating each receptor) \n",
                " \n"
            ]
        },
        {
            "cell_type": "code",
            "execution_count": null,
            "metadata": {},
            "outputs": [],
            "source": [
                "circos.par(gap.degree = gaps) \n",
                "chordDiagram(links_circle, directional = 1,order=order,link.sort = TRUE, link.decreasing = FALSE, grid.col = grid_col,transparency = transparency, diffHeight = 0.005, direction.type = c(\"diffHeight\", \"arrows\"),link.arr.type = \"big.arrow\", link.visible = links_circle$weight >= cutoff_include_all_ligands,annotationTrack = \"grid\",  \n",
                "    preAllocateTracks = list(track.height = 0.075)) \n",
                "# we go back to the first track and customize sector labels \n",
                "circos.track(track.index = 1, panel.fun = function(x, y) { \n",
                "    circos.text(CELL_META$xcenter, CELL_META$ylim[1], CELL_META$sector.index, \n",
                "        facing = \"clockwise\", niceFacing = TRUE, adj = c(0, 0.55), cex = 0.8) \n",
                "}, bg.border = NA) # \n"
            ]
        },
        {
            "cell_type": "markdown",
            "metadata": {},
            "source": [
                " \n",
                "![](circos_files/figure-gfm/unnamed-chunk-23-1.png)<!-- --> \n",
                " \n"
            ]
        },
        {
            "cell_type": "code",
            "execution_count": null,
            "metadata": {},
            "outputs": [],
            "source": [
                "circos.clear() \n",
                "\n"
            ]
        },
        {
            "cell_type": "markdown",
            "metadata": {},
            "source": [
                " \n",
                "Save circos plot to an svg file \n",
                " \n"
            ]
        },
        {
            "cell_type": "code",
            "execution_count": null,
            "metadata": {},
            "outputs": [],
            "source": [
                "svg(\"ligand_receptor_circos.svg\", width = 15, height = 15) \n",
                "circos.par(gap.degree = gaps) \n",
                "chordDiagram(links_circle, directional = 1,order=order,link.sort = TRUE, link.decreasing = FALSE, grid.col = grid_col,transparency = transparency, diffHeight = 0.005, direction.type = c(\"diffHeight\", \"arrows\"),link.arr.type = \"big.arrow\", link.visible = links_circle$weight >= cutoff_include_all_ligands,annotationTrack = \"grid\", \n",
                "    preAllocateTracks = list(track.height = 0.075)) \n",
                "# we go back to the first track and customize sector labels \n",
                "circos.track(track.index = 1, panel.fun = function(x, y) { \n",
                "    circos.text(CELL_META$xcenter, CELL_META$ylim[1], CELL_META$sector.index, \n",
                "        facing = \"clockwise\", niceFacing = TRUE, adj = c(0, 0.55), cex = 0.8) \n",
                "}, bg.border = NA) # \n",
                "circos.clear() \n",
                "dev.off() \n",
                "## png  \n",
                "##   2 \n"
            ]
        },
        {
            "cell_type": "markdown",
            "metadata": {},
            "source": [
                " \n",
                "### Remark on making a ligand-receptor-target circos plot \n",
                " \n",
                "In the paper of Bonnardel, T’Jonck et al. [Stellate Cells, Hepatocytes, \n",
                "and Endothelial Cells Imprint the Kupffer Cell Identity on Monocytes \n",
                "Colonizing the Liver Macrophage \n",
                "Niche](https://www.cell.com/immunity/fulltext/S1074-7613\\(19\\)30368-1), \n",
                "we showed in Fig. 6B a ligand-receptor-target circos plot to visualize \n",
                "the main NicheNet predictions. This “ligand-receptor-target” circos plot \n",
                "was made by making first two separate circos plots: the ligand-target \n",
                "and ligand-receptor circos plot. Then these circos plots were overlayed \n",
                "in Inkscape (with the center of the two circles at the same location and \n",
                "the ligand-receptor circos plot bigger than the ligand-target one). To \n",
                "generate the combined circos plot as shown ni Fig. 6B, we then manually \n",
                "removed all elements of the ligand-receptor circos plot except the outer \n",
                "receptor layer. In the near future, we will be working on a solution to \n",
                "generate this ligand-receptor-target circos plot in a fully automated \n",
                "manner. \n",
                " \n",
                "If you would want to split up target genes and receptors in different \n",
                "groups according to signaling pathway (as done in mentioned paper), then \n",
                "you first need to define these groups in a specific data frame in \n",
                "advance (cf what is shown for ligands in the \n",
                "`ligand_type_indication_df`in the vignette). When you then want to \n",
                "overlay receptors in this case, you need to make sure that the \n",
                "ligand-receptor weights of receptors in one group are proportional to \n",
                "the ligand-target weights of the targets in that group (to generate the \n",
                "nice overlay effect). So in that case, the ligand-receptor weights are \n",
                "proportional to the ‘underlying’ ligand-target regulatory potential \n",
                "scores and not reflective of prior information supporting the specific \n",
                "ligand-receptor interaction (as shown in this vignette for \n",
                "ligand-receptor circos plots). \n",
                " \n",
                "### References \n",
                " \n",
                "Bonnardel et al., 2019, Immunity 51, 1–17, [Stellate Cells, Hepatocytes, \n",
                "and Endothelial Cells Imprint the Kupffer Cell Identity on Monocytes \n",
                "Colonizing the Liver Macrophage \n",
                "Niche](https://doi.org/10.1016/j.immuni.2019.08.017) \n",
                " \n",
                "<div id=\"refs\" class=\"references\"> \n",
                " \n",
                "<div id=\"ref-puram_single-cell_2017\"> \n",
                " \n",
                "Puram, Sidharth V., Itay Tirosh, Anuraag S. Parikh, Anoop P. Patel, \n",
                "Keren Yizhak, Shawn Gillespie, Christopher Rodman, et al. 2017. \n",
                "“Single-Cell Transcriptomic Analysis of Primary and Metastatic Tumor \n",
                "Ecosystems in Head and Neck Cancer.” *Cell* 171 (7): 1611–1624.e24. \n",
                "<https://doi.org/10.1016/j.cell.2017.10.044>. \n",
                " \n",
                "<\/div> \n",
                " \n",
                "<\/div> \n"
            ]
        }
    ],
    "metadata": {
        "anaconda-cloud": "",
        "kernelspec": {
            "display_name": "R",
            "langauge": "R",
            "name": "ir"
        },
        "language_info": {
            "codemirror_mode": "r",
            "file_extension": ".r",
            "mimetype": "text/x-r-source",
            "name": "R",
            "pygments_lexer": "r",
            "version": "3.4.1"
        }
    },
    "nbformat": 4,
    "nbformat_minor": 1
}
