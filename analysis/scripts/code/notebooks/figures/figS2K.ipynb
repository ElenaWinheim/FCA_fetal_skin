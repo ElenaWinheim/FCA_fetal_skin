{
 "cells": [
  {
   "cell_type": "markdown",
   "id": "impressed-worship",
   "metadata": {},
   "source": [
    "# Import and settings"
   ]
  },
  {
   "cell_type": "code",
   "execution_count": 1,
   "id": "played-southwest",
   "metadata": {
    "execution": {
     "iopub.execute_input": "2022-11-12T16:25:03.506422Z",
     "iopub.status.busy": "2022-11-12T16:25:03.506123Z",
     "iopub.status.idle": "2022-11-12T16:25:03.522265Z",
     "shell.execute_reply": "2022-11-12T16:25:03.521389Z",
     "shell.execute_reply.started": "2022-11-12T16:25:03.506347Z"
    },
    "tags": []
   },
   "outputs": [],
   "source": [
    "%load_ext autoreload\n",
    "%autoreload 2"
   ]
  },
  {
   "cell_type": "code",
   "execution_count": 2,
   "id": "incredible-exemption",
   "metadata": {
    "execution": {
     "iopub.execute_input": "2022-11-12T16:25:03.523851Z",
     "iopub.status.busy": "2022-11-12T16:25:03.523609Z",
     "iopub.status.idle": "2022-11-12T16:25:05.336934Z",
     "shell.execute_reply": "2022-11-12T16:25:05.335678Z",
     "shell.execute_reply.started": "2022-11-12T16:25:03.523827Z"
    },
    "tags": []
   },
   "outputs": [],
   "source": [
    "import warnings\n",
    "\n",
    "warnings.simplefilter(action=\"ignore\", category=FutureWarning)\n",
    "warnings.simplefilter(action=\"ignore\", category=DeprecationWarning)\n",
    "\n",
    "import os, sys, re, gc, joblib\n",
    "from pathlib import Path\n",
    "import numpy as np\n",
    "import numpy_groupies as npg\n",
    "import pandas as pd\n",
    "import scipy.sparse as sp\n",
    "\n",
    "import matplotlib.pyplot as plt\n",
    "from matplotlib import rcParams\n",
    "from matplotlib.colors import ListedColormap\n",
    "\n",
    "import seaborn as sn\n",
    "\n",
    "import anndata\n",
    "import scanpy as sc\n",
    "import sctk as sk\n",
    "\n",
    "\n",
    "rcParams[\"pdf.fonttype\"] = 42\n",
    "rcParams[\"ps.fonttype\"] = 42\n",
    "np.set_printoptions(linewidth=180)\n",
    "sc.settings.verbosity = 1\n",
    "sk.set_figsize((4, 4))\n",
    "expr_cmap = sk.expression_colormap()"
   ]
  },
  {
   "cell_type": "code",
   "execution_count": 3,
   "id": "painful-consent",
   "metadata": {
    "execution": {
     "iopub.execute_input": "2022-11-12T16:25:05.339060Z",
     "iopub.status.busy": "2022-11-12T16:25:05.338440Z",
     "iopub.status.idle": "2022-11-12T16:25:05.988695Z",
     "shell.execute_reply": "2022-11-12T16:25:05.987457Z",
     "shell.execute_reply.started": "2022-11-12T16:25:05.339027Z"
    }
   },
   "outputs": [
    {
     "name": "stdout",
     "output_type": "stream",
     "text": [
      "/home/jovyan/FCA_Fetal_Skin_priv\n"
     ]
    }
   ],
   "source": [
    "data_root = Path('/lustre/scratch126/cellgen/team205/nh3/skin').resolve()\n",
    "proj_root = Path('~/FCA_Fetal_Skin_priv/').expanduser()\n",
    "os.chdir(proj_root)\n",
    "!pwd"
   ]
  },
  {
   "cell_type": "markdown",
   "id": "assisted-clause",
   "metadata": {},
   "source": [
    "# Load data"
   ]
  },
  {
   "cell_type": "code",
   "execution_count": 4,
   "id": "guided-laugh",
   "metadata": {
    "execution": {
     "iopub.execute_input": "2022-11-12T16:25:05.991008Z",
     "iopub.status.busy": "2022-11-12T16:25:05.990441Z",
     "iopub.status.idle": "2022-11-12T16:25:31.058299Z",
     "shell.execute_reply": "2022-11-12T16:25:31.057144Z",
     "shell.execute_reply.started": "2022-11-12T16:25:05.990971Z"
    },
    "tags": []
   },
   "outputs": [],
   "source": [
    "pooled_ad = sc.read(Path(data_root, \"20211022_final_figures/h5ad/pooled_fetal_organoid.count_with_annot.h5ad\"))"
   ]
  },
  {
   "cell_type": "code",
   "execution_count": 5,
   "id": "cultural-container",
   "metadata": {
    "execution": {
     "iopub.execute_input": "2022-11-12T16:25:31.060935Z",
     "iopub.status.busy": "2022-11-12T16:25:31.060675Z",
     "iopub.status.idle": "2022-11-12T16:25:31.092964Z",
     "shell.execute_reply": "2022-11-12T16:25:31.092071Z",
     "shell.execute_reply.started": "2022-11-12T16:25:31.060910Z"
    },
    "tags": []
   },
   "outputs": [
    {
     "data": {
      "text/plain": [
       "AnnData object with n_obs × n_vars = 310368 × 46794\n",
       "    obs: 'dataset', 'donor', 'pcw', 'day', 'sample_id', 'fetal_annot', 'organoid_annot', 'pooled_annot', 'chemistry', 'gender', 'sorting'\n",
       "    var: 'mito', 'ribo', 'hb', 'n_counts', 'n_cells'"
      ]
     },
     "execution_count": 5,
     "metadata": {},
     "output_type": "execute_result"
    }
   ],
   "source": [
    "pooled_ad"
   ]
  },
  {
   "cell_type": "code",
   "execution_count": 6,
   "id": "opening-network",
   "metadata": {
    "execution": {
     "iopub.execute_input": "2022-11-12T16:25:31.094094Z",
     "iopub.status.busy": "2022-11-12T16:25:31.093839Z",
     "iopub.status.idle": "2022-11-12T16:25:31.159487Z",
     "shell.execute_reply": "2022-11-12T16:25:31.158696Z",
     "shell.execute_reply.started": "2022-11-12T16:25:31.094071Z"
    },
    "tags": []
   },
   "outputs": [
    {
     "data": {
      "text/plain": [
       "array([5., 1., 1., ..., 1., 1., 1.], dtype=float32)"
      ]
     },
     "execution_count": 6,
     "metadata": {},
     "output_type": "execute_result"
    }
   ],
   "source": [
    "pooled_ad.X.data"
   ]
  },
  {
   "cell_type": "code",
   "execution_count": 7,
   "id": "medium-technology",
   "metadata": {
    "execution": {
     "iopub.execute_input": "2022-11-12T16:25:31.160844Z",
     "iopub.status.busy": "2022-11-12T16:25:31.160548Z",
     "iopub.status.idle": "2022-11-12T16:25:31.185107Z",
     "shell.execute_reply": "2022-11-12T16:25:31.184325Z",
     "shell.execute_reply.started": "2022-11-12T16:25:31.160821Z"
    },
    "tags": []
   },
   "outputs": [
    {
     "data": {
      "text/plain": [
       "['fetal_ASDC',\n",
       " 'fetal_Adipocytes',\n",
       " 'fetal_Arterial',\n",
       " 'fetal_B cell',\n",
       " 'fetal_Basal',\n",
       " 'fetal_CD4 T cell',\n",
       " 'fetal_CD8 T cell',\n",
       " 'fetal_Capillary (venular tip)',\n",
       " 'fetal_Capillary/postcapillary venule',\n",
       " 'fetal_Companion layer',\n",
       " 'fetal_Cuticle/cortex',\n",
       " 'fetal_DC1',\n",
       " 'fetal_DC2',\n",
       " 'fetal_Dermal condensate',\n",
       " 'fetal_Dermal papillia',\n",
       " 'fetal_Early LE',\n",
       " 'fetal_Early endothelial cell',\n",
       " 'fetal_Early erythroid',\n",
       " 'fetal_Early erythroid (embryonic)',\n",
       " 'fetal_Early myocytes',\n",
       " 'fetal_Eo/baso/mast cell progenitor',\n",
       " 'fetal_Erythroid (embryonic)',\n",
       " 'fetal_Erythroid (fetal)',\n",
       " 'fetal_FRZB+ early fibroblast',\n",
       " 'fetal_HOXC5+ early fibroblast',\n",
       " 'fetal_HSC',\n",
       " 'fetal_ILC2',\n",
       " 'fetal_ILC3',\n",
       " 'fetal_Immature basal',\n",
       " 'fetal_Immature suprabasal',\n",
       " 'fetal_Inflammatory DC',\n",
       " 'fetal_Innate T type1',\n",
       " 'fetal_Innate T type3',\n",
       " 'fetal_Inner root sheath',\n",
       " 'fetal_Iron-recycling macrophage',\n",
       " 'fetal_LC',\n",
       " 'fetal_LE',\n",
       " 'fetal_LMCD1+ mural cell',\n",
       " 'fetal_LTi',\n",
       " 'fetal_LYVE1++ macrophage',\n",
       " 'fetal_Lymphoid progenitor',\n",
       " 'fetal_MEMP - Early erythroid',\n",
       " 'fetal_MEMP - Megak',\n",
       " 'fetal_MHCII+ macrophage',\n",
       " 'fetal_Mast cell (earliest)',\n",
       " 'fetal_Mast cell (medium)',\n",
       " 'fetal_Mast cell (most mature)',\n",
       " 'fetal_Matrix/placode',\n",
       " 'fetal_Megakaryocyte',\n",
       " 'fetal_Melanoblast',\n",
       " 'fetal_Melanocyte',\n",
       " 'fetal_Monocyte',\n",
       " 'fetal_Monocyte (activated/differentiating)',\n",
       " 'fetal_Monocyte precursor',\n",
       " 'fetal_Myelinating Schwann cells',\n",
       " 'fetal_Myoblasts',\n",
       " 'fetal_Myocytes',\n",
       " 'fetal_Myofibroblasts',\n",
       " 'fetal_NK cell',\n",
       " 'fetal_Neuroendocrine',\n",
       " 'fetal_Neuron progenitors',\n",
       " 'fetal_Neutrophil1',\n",
       " 'fetal_Neutrophil2',\n",
       " 'fetal_Outer root sheath',\n",
       " 'fetal_PEAR1+ fibroblast',\n",
       " 'fetal_PID1+ schwann cellls',\n",
       " 'fetal_PLN+ mural cell',\n",
       " 'fetal_POSTN+ basal',\n",
       " 'fetal_Pericytes',\n",
       " 'fetal_Periderm',\n",
       " 'fetal_Postcapillary venule',\n",
       " 'fetal_Pre B cell',\n",
       " 'fetal_Pre pro B cell',\n",
       " 'fetal_Pre-dermal condensate',\n",
       " 'fetal_Pro B cell',\n",
       " 'fetal_SPP1+ proliferating neuron proneitors',\n",
       " 'fetal_Schwann/Schwann precursors',\n",
       " 'fetal_Suprabasal IFE',\n",
       " 'fetal_TREM2+ macrophage',\n",
       " 'fetal_Tip cell (arterial)',\n",
       " 'fetal_Treg',\n",
       " 'fetal_WNT2+ fibroblast',\n",
       " 'fetal_pDC',\n",
       " 'organoid_Adipocytes',\n",
       " 'organoid_Basal',\n",
       " 'organoid_Companion layer',\n",
       " 'organoid_Cuticle/cortex',\n",
       " 'organoid_Dermal condensate',\n",
       " 'organoid_Dermal papillia',\n",
       " 'organoid_Early myocytes',\n",
       " 'organoid_FRZB+ early fibroblast',\n",
       " 'organoid_HOXC5+ early fibroblast',\n",
       " 'organoid_Immature basal',\n",
       " 'organoid_Immature suprabasal',\n",
       " 'organoid_Inner root sheath',\n",
       " 'organoid_Matrix/placode',\n",
       " 'organoid_Melanoblast',\n",
       " 'organoid_Melanocyte',\n",
       " 'organoid_Merkel cells',\n",
       " 'organoid_Mural cell',\n",
       " 'organoid_Myelinating Schwann cells',\n",
       " 'organoid_Myoblasts',\n",
       " 'organoid_Myocytes',\n",
       " 'organoid_Neuroepithelial cells',\n",
       " 'organoid_Neuron progenitors',\n",
       " 'organoid_Outer root sheath',\n",
       " 'organoid_POSTN+ basal',\n",
       " 'organoid_POSTN+ fibroblast',\n",
       " 'organoid_Periderm',\n",
       " 'organoid_Pre-dermal condensate',\n",
       " 'organoid_Proliferating melanoblasts',\n",
       " 'organoid_SPP1+ proliferating neuron proneitors',\n",
       " 'organoid_Schwann/Schwann precursors',\n",
       " 'organoid_Secreting neuron',\n",
       " 'organoid_Suprabasal IFE',\n",
       " 'organoid_Tip cell (arterial)',\n",
       " 'organoid_Uncertain']"
      ]
     },
     "execution_count": 7,
     "metadata": {},
     "output_type": "execute_result"
    }
   ],
   "source": [
    "pooled_ad.obs.pooled_annot.cat.categories.tolist()"
   ]
  },
  {
   "cell_type": "markdown",
   "id": "relevant-halloween",
   "metadata": {},
   "source": [
    "# Process"
   ]
  },
  {
   "cell_type": "markdown",
   "id": "lightweight-picking",
   "metadata": {},
   "source": [
    "## Subset, split, normalise, etc"
   ]
  },
  {
   "cell_type": "code",
   "execution_count": 8,
   "id": "conscious-significance",
   "metadata": {
    "execution": {
     "iopub.execute_input": "2022-11-12T16:25:31.186316Z",
     "iopub.status.busy": "2022-11-12T16:25:31.186047Z",
     "iopub.status.idle": "2022-11-12T16:25:31.207481Z",
     "shell.execute_reply": "2022-11-12T16:25:31.206611Z",
     "shell.execute_reply.started": "2022-11-12T16:25:31.186277Z"
    },
    "tags": []
   },
   "outputs": [],
   "source": [
    "pooled_ad.obs.pooled_annot.cat.rename_categories(\n",
    "    {\"organoid_POSTN+ fibroblast\": \"organoid_WNT2+ fibroblast\"}, inplace=True\n",
    ")"
   ]
  },
  {
   "cell_type": "code",
   "execution_count": 9,
   "id": "complete-mayor",
   "metadata": {
    "execution": {
     "iopub.execute_input": "2022-11-12T16:25:31.208597Z",
     "iopub.status.busy": "2022-11-12T16:25:31.208365Z",
     "iopub.status.idle": "2022-11-12T16:25:31.235163Z",
     "shell.execute_reply": "2022-11-12T16:25:31.234316Z",
     "shell.execute_reply.started": "2022-11-12T16:25:31.208575Z"
    },
    "tags": []
   },
   "outputs": [],
   "source": [
    "k_included = pooled_ad.obs.pooled_annot.isin(\n",
    "    [\n",
    "        \"fetal_Basal\",\n",
    "        \"fetal_Companion layer\",\n",
    "        \"fetal_Cuticle/cortex\",\n",
    "        \"fetal_Immature basal\",\n",
    "        \"fetal_Immature suprabasal\",\n",
    "        \"fetal_Inner root sheath\",\n",
    "        \"fetal_Matrix/placode\",\n",
    "        \"fetal_Outer root sheath\",\n",
    "        \"fetal_Periderm\",\n",
    "        \"fetal_POSTN+ basal\",\n",
    "        \"fetal_Suprabasal IFE\",\n",
    "        \"fetal_FRZB+ early fibroblast\",\n",
    "        \"fetal_HOXC5+ early fibroblast\",\n",
    "        \"fetal_WNT2+ fibroblast\",\n",
    "        # \"fetal_PEAR1+ fibroblast\",\n",
    "        \"fetal_Pre-dermal condensate\",\n",
    "        \"fetal_Dermal condensate\",\n",
    "        \"fetal_Dermal papillia\",\n",
    "        \"organoid_Basal\",\n",
    "        \"organoid_Companion layer\",\n",
    "        \"organoid_Cuticle/cortex\",\n",
    "        \"organoid_Immature basal\",\n",
    "        \"organoid_Immature suprabasal\",\n",
    "        \"organoid_Inner root sheath\",\n",
    "        \"organoid_Matrix/placode\",\n",
    "        \"organoid_Outer root sheath\",\n",
    "        \"organoid_Periderm\",\n",
    "        \"organoid_POSTN+ basal\",\n",
    "        \"organoid_Suprabasal IFE\",\n",
    "        \"organoid_FRZB+ early fibroblast\",\n",
    "        \"organoid_HOXC5+ early fibroblast\",\n",
    "        \"organoid_WNT2+ fibroblast\",\n",
    "        # \"organoid_PEAR1+ fibroblast\",\n",
    "        \"organoid_Pre-dermal condensate\",\n",
    "        \"organoid_Dermal condensate\",\n",
    "        \"organoid_Dermal papillia\",\n",
    "    ]\n",
    ")"
   ]
  },
  {
   "cell_type": "code",
   "execution_count": 10,
   "id": "sudden-spelling",
   "metadata": {
    "execution": {
     "iopub.execute_input": "2022-11-12T16:25:31.236588Z",
     "iopub.status.busy": "2022-11-12T16:25:31.236313Z",
     "iopub.status.idle": "2022-11-12T16:25:31.314065Z",
     "shell.execute_reply": "2022-11-12T16:25:31.312974Z",
     "shell.execute_reply.started": "2022-11-12T16:25:31.236565Z"
    },
    "tags": []
   },
   "outputs": [],
   "source": [
    "ad1 = pooled_ad[k_included]"
   ]
  },
  {
   "cell_type": "code",
   "execution_count": 11,
   "id": "surprising-runner",
   "metadata": {
    "execution": {
     "iopub.execute_input": "2022-11-12T16:25:31.315348Z",
     "iopub.status.busy": "2022-11-12T16:25:31.315128Z",
     "iopub.status.idle": "2022-11-12T16:25:34.632435Z",
     "shell.execute_reply": "2022-11-12T16:25:34.631524Z",
     "shell.execute_reply.started": "2022-11-12T16:25:31.315326Z"
    },
    "tags": []
   },
   "outputs": [],
   "source": [
    "ads = sk.split_by_group(ad1, groupby=\"dataset\")"
   ]
  },
  {
   "cell_type": "code",
   "execution_count": 12,
   "id": "historic-poster",
   "metadata": {
    "execution": {
     "iopub.execute_input": "2022-11-12T16:25:34.633732Z",
     "iopub.status.busy": "2022-11-12T16:25:34.633473Z",
     "iopub.status.idle": "2022-11-12T16:25:34.660666Z",
     "shell.execute_reply": "2022-11-12T16:25:34.659853Z",
     "shell.execute_reply.started": "2022-11-12T16:25:34.633707Z"
    },
    "tags": []
   },
   "outputs": [
    {
     "data": {
      "text/plain": [
       "{'fetal': AnnData object with n_obs × n_vars = 90104 × 46794\n",
       "     obs: 'dataset', 'donor', 'pcw', 'day', 'sample_id', 'fetal_annot', 'organoid_annot', 'pooled_annot', 'chemistry', 'gender', 'sorting'\n",
       "     var: 'mito', 'ribo', 'hb', 'n_counts', 'n_cells',\n",
       " 'organoid': AnnData object with n_obs × n_vars = 105303 × 46794\n",
       "     obs: 'dataset', 'donor', 'pcw', 'day', 'sample_id', 'fetal_annot', 'organoid_annot', 'pooled_annot', 'chemistry', 'gender', 'sorting'\n",
       "     var: 'mito', 'ribo', 'hb', 'n_counts', 'n_cells'}"
      ]
     },
     "execution_count": 12,
     "metadata": {},
     "output_type": "execute_result"
    }
   ],
   "source": [
    "ads"
   ]
  },
  {
   "cell_type": "code",
   "execution_count": 13,
   "id": "liked-irish",
   "metadata": {
    "execution": {
     "iopub.execute_input": "2022-11-12T16:25:34.662028Z",
     "iopub.status.busy": "2022-11-12T16:25:34.661761Z",
     "iopub.status.idle": "2022-11-12T16:25:48.708229Z",
     "shell.execute_reply": "2022-11-12T16:25:48.707301Z",
     "shell.execute_reply.started": "2022-11-12T16:25:34.662005Z"
    },
    "tags": []
   },
   "outputs": [],
   "source": [
    "for name, ad in ads.items():\n",
    "    sc.pp.filter_genes(ad, min_counts=1)\n",
    "    sc.pp.normalize_total(ad, target_sum=1e4)\n",
    "    sc.pp.log1p(ad)"
   ]
  },
  {
   "cell_type": "code",
   "execution_count": 14,
   "id": "civil-graduation",
   "metadata": {
    "execution": {
     "iopub.execute_input": "2022-11-12T16:25:48.711565Z",
     "iopub.status.busy": "2022-11-12T16:25:48.711300Z",
     "iopub.status.idle": "2022-11-12T16:25:48.739506Z",
     "shell.execute_reply": "2022-11-12T16:25:48.738728Z",
     "shell.execute_reply.started": "2022-11-12T16:25:48.711540Z"
    },
    "tags": []
   },
   "outputs": [
    {
     "data": {
      "text/plain": [
       "array([0.43932745, 0.43932745, 0.9764408 , ..., 1.5827801 , 1.5827801 , 1.5827801 ], dtype=float32)"
      ]
     },
     "execution_count": 14,
     "metadata": {},
     "output_type": "execute_result"
    }
   ],
   "source": [
    "ads[\"fetal\"].X.data"
   ]
  },
  {
   "cell_type": "markdown",
   "id": "green-infection",
   "metadata": {},
   "source": [
    "## Extract and prepare data to plot"
   ]
  },
  {
   "cell_type": "code",
   "execution_count": 15,
   "id": "characteristic-native",
   "metadata": {
    "execution": {
     "iopub.execute_input": "2022-11-12T16:25:48.740633Z",
     "iopub.status.busy": "2022-11-12T16:25:48.740337Z",
     "iopub.status.idle": "2022-11-12T16:25:48.796724Z",
     "shell.execute_reply": "2022-11-12T16:25:48.795883Z",
     "shell.execute_reply.started": "2022-11-12T16:25:48.740610Z"
    },
    "tags": []
   },
   "outputs": [],
   "source": [
    "fetal_genes = [\"ALPL\", \"MEF2C\", \"TWIST2\"]\n",
    "organoid_genes = fetal_genes"
   ]
  },
  {
   "cell_type": "code",
   "execution_count": 16,
   "id": "polyphonic-projector",
   "metadata": {
    "execution": {
     "iopub.execute_input": "2022-11-12T16:25:48.797894Z",
     "iopub.status.busy": "2022-11-12T16:25:48.797650Z",
     "iopub.status.idle": "2022-11-12T16:25:49.695131Z",
     "shell.execute_reply": "2022-11-12T16:25:49.694054Z",
     "shell.execute_reply.started": "2022-11-12T16:25:48.797871Z"
    },
    "tags": []
   },
   "outputs": [],
   "source": [
    "fetal_x = (\n",
    "    pd.concat(\n",
    "        [pd.Series(ads[\"fetal\"].obs_vector(g), index=ads[\"fetal\"].obs_names) for g in fetal_genes],\n",
    "        axis=1,\n",
    "    )\n",
    "    .rename(columns={i: g for i, g in enumerate(fetal_genes)})\n",
    "    .assign(annot=ads[\"fetal\"].obs.pooled_annot.str.replace(\"fetal_\", \"\"))\n",
    ")"
   ]
  },
  {
   "cell_type": "code",
   "execution_count": 17,
   "id": "constant-crime",
   "metadata": {
    "execution": {
     "iopub.execute_input": "2022-11-12T16:25:49.696494Z",
     "iopub.status.busy": "2022-11-12T16:25:49.696225Z",
     "iopub.status.idle": "2022-11-12T16:25:49.785679Z",
     "shell.execute_reply": "2022-11-12T16:25:49.784795Z",
     "shell.execute_reply.started": "2022-11-12T16:25:49.696470Z"
    },
    "tags": []
   },
   "outputs": [],
   "source": [
    "fetal_df = (\n",
    "    fetal_x.melt(id_vars=[\"annot\"], var_name=\"gene\", value_name=\"expression\")\n",
    "    .groupby([\"annot\", \"gene\"])\n",
    "    .agg(\n",
    "        mean=pd.NamedAgg(column=\"expression\", aggfunc=\"mean\"),\n",
    "        frac=pd.NamedAgg(column=\"expression\", aggfunc=lambda x: (x > 0).mean()),\n",
    "    )\n",
    "    .reset_index()\n",
    "    .assign(dataset=\"fetal\")\n",
    ")"
   ]
  },
  {
   "cell_type": "code",
   "execution_count": 18,
   "id": "rolled-aggregate",
   "metadata": {
    "execution": {
     "iopub.execute_input": "2022-11-12T16:25:49.787015Z",
     "iopub.status.busy": "2022-11-12T16:25:49.786773Z",
     "iopub.status.idle": "2022-11-12T16:25:50.758059Z",
     "shell.execute_reply": "2022-11-12T16:25:50.757039Z",
     "shell.execute_reply.started": "2022-11-12T16:25:49.786991Z"
    },
    "tags": []
   },
   "outputs": [],
   "source": [
    "organoid_x = (\n",
    "    pd.concat(\n",
    "        [\n",
    "            pd.Series(ads[\"organoid\"].obs_vector(g), index=ads[\"organoid\"].obs_names)\n",
    "            for g in organoid_genes\n",
    "        ],\n",
    "        axis=1,\n",
    "    )\n",
    "    .rename(columns={i: g for i, g in enumerate(organoid_genes)})\n",
    "    .assign(annot=ads[\"organoid\"].obs.pooled_annot.str.replace(\"organoid_\", \"\"))\n",
    ")"
   ]
  },
  {
   "cell_type": "code",
   "execution_count": 19,
   "id": "developmental-irrigation",
   "metadata": {
    "execution": {
     "iopub.execute_input": "2022-11-12T16:25:50.759465Z",
     "iopub.status.busy": "2022-11-12T16:25:50.759188Z",
     "iopub.status.idle": "2022-11-12T16:25:50.856331Z",
     "shell.execute_reply": "2022-11-12T16:25:50.855499Z",
     "shell.execute_reply.started": "2022-11-12T16:25:50.759440Z"
    },
    "tags": []
   },
   "outputs": [],
   "source": [
    "organoid_df = (\n",
    "    organoid_x.melt(id_vars=[\"annot\"], var_name=\"gene\", value_name=\"expression\")\n",
    "    .groupby([\"annot\", \"gene\"])\n",
    "    .agg(\n",
    "        mean=pd.NamedAgg(column=\"expression\", aggfunc=\"mean\"),\n",
    "        frac=pd.NamedAgg(column=\"expression\", aggfunc=lambda x: (x > 0).mean()),\n",
    "    )\n",
    "    .reset_index()\n",
    "    .assign(dataset=\"organoid\")\n",
    ")"
   ]
  },
  {
   "cell_type": "code",
   "execution_count": 20,
   "id": "clinical-acceptance",
   "metadata": {
    "execution": {
     "iopub.execute_input": "2022-11-12T16:25:50.857579Z",
     "iopub.status.busy": "2022-11-12T16:25:50.857333Z",
     "iopub.status.idle": "2022-11-12T16:25:50.883284Z",
     "shell.execute_reply": "2022-11-12T16:25:50.882479Z",
     "shell.execute_reply.started": "2022-11-12T16:25:50.857555Z"
    },
    "tags": []
   },
   "outputs": [],
   "source": [
    "df = pd.concat([fetal_df, organoid_df])"
   ]
  },
  {
   "cell_type": "code",
   "execution_count": 21,
   "id": "living-wisdom",
   "metadata": {
    "execution": {
     "iopub.execute_input": "2022-11-12T16:25:50.884444Z",
     "iopub.status.busy": "2022-11-12T16:25:50.884210Z",
     "iopub.status.idle": "2022-11-12T16:25:50.906120Z",
     "shell.execute_reply": "2022-11-12T16:25:50.905244Z",
     "shell.execute_reply.started": "2022-11-12T16:25:50.884422Z"
    },
    "tags": []
   },
   "outputs": [],
   "source": [
    "df[\"gene2\"] = df.dataset.astype(str) + \" \" + df.gene.astype(str)"
   ]
  },
  {
   "cell_type": "code",
   "execution_count": 22,
   "id": "documented-survey",
   "metadata": {
    "execution": {
     "iopub.execute_input": "2022-11-12T16:25:50.907267Z",
     "iopub.status.busy": "2022-11-12T16:25:50.907019Z",
     "iopub.status.idle": "2022-11-12T16:25:50.933328Z",
     "shell.execute_reply": "2022-11-12T16:25:50.932528Z",
     "shell.execute_reply.started": "2022-11-12T16:25:50.907245Z"
    },
    "tags": []
   },
   "outputs": [],
   "source": [
    "df[\"annot\"] = df[\"annot\"].astype(\n",
    "    pd.CategoricalDtype(\n",
    "        categories=[\n",
    "            \"Periderm\",\n",
    "            \"Immature basal\",\n",
    "            \"Immature suprabasal\",\n",
    "            \"POSTN+ basal\",\n",
    "            \"Basal\",\n",
    "            \"Suprabasal IFE\",\n",
    "            \"Outer root sheath\",\n",
    "            \"Companion layer\",\n",
    "            \"Inner root sheath\",\n",
    "            \"Matrix/placode\",\n",
    "            \"Cuticle/cortex\",\n",
    "            \"FRZB+ early fibroblast\",\n",
    "            \"HOXC5+ early fibroblast\",\n",
    "            \"WNT2+ fibroblast\",\n",
    "            # \"PEAR1+ fibroblast\",\n",
    "            \"Pre-dermal condensate\",\n",
    "            \"Dermal condensate\",\n",
    "            \"Dermal papillia\",\n",
    "        ],\n",
    "        ordered=True,\n",
    "    )\n",
    ")\n",
    "df[\"x\"] = df.annot.cat.codes\n",
    "df[\"gene2\"] = df[\"gene2\"].astype(\n",
    "    pd.CategoricalDtype(\n",
    "        categories=[\n",
    "            \"fetal ALPL\",\n",
    "            \"organoid ALPL\",\n",
    "            \"fetal MEF2C\",\n",
    "            \"organoid MEF2C\",\n",
    "            \"fetal TWIST2\",\n",
    "            \"organoid TWIST2\",\n",
    "        ],\n",
    "        ordered=True,\n",
    "    )\n",
    ")\n",
    "df[\"y\"] = df.gene2.cat.codes"
   ]
  },
  {
   "cell_type": "code",
   "execution_count": 23,
   "id": "colonial-garbage",
   "metadata": {
    "execution": {
     "iopub.execute_input": "2022-11-12T16:25:50.934403Z",
     "iopub.status.busy": "2022-11-12T16:25:50.934170Z",
     "iopub.status.idle": "2022-11-12T16:25:50.963870Z",
     "shell.execute_reply": "2022-11-12T16:25:50.962999Z",
     "shell.execute_reply.started": "2022-11-12T16:25:50.934381Z"
    },
    "tags": []
   },
   "outputs": [],
   "source": [
    "df = df.merge(\n",
    "    df.groupby(\"gene2\")[\"mean\"].max().rename(\"max_mean\"),\n",
    "    how=\"left\",\n",
    "    left_on=\"gene2\",\n",
    "    right_index=True,\n",
    ")\n",
    "df[\"mean2\"] = df[\"mean\"] / df[\"max_mean\"]"
   ]
  },
  {
   "cell_type": "code",
   "execution_count": 24,
   "id": "returning-wyoming",
   "metadata": {
    "execution": {
     "iopub.execute_input": "2022-11-12T16:25:50.964940Z",
     "iopub.status.busy": "2022-11-12T16:25:50.964694Z",
     "iopub.status.idle": "2022-11-12T16:25:50.986770Z",
     "shell.execute_reply": "2022-11-12T16:25:50.986030Z",
     "shell.execute_reply.started": "2022-11-12T16:25:50.964918Z"
    },
    "tags": []
   },
   "outputs": [
    {
     "data": {
      "text/plain": [
       "Index(['Periderm', 'Immature basal', 'Immature suprabasal', 'POSTN+ basal',\n",
       "       'Basal', 'Suprabasal IFE', 'Outer root sheath', 'Companion layer',\n",
       "       'Inner root sheath', 'Matrix/placode', 'Cuticle/cortex',\n",
       "       'FRZB+ early fibroblast', 'HOXC5+ early fibroblast', 'WNT2+ fibroblast',\n",
       "       'Pre-dermal condensate', 'Dermal condensate', 'Dermal papillia'],\n",
       "      dtype='object')"
      ]
     },
     "execution_count": 24,
     "metadata": {},
     "output_type": "execute_result"
    }
   ],
   "source": [
    "df.annot.cat.categories"
   ]
  },
  {
   "cell_type": "code",
   "execution_count": 25,
   "id": "beneficial-regard",
   "metadata": {
    "execution": {
     "iopub.execute_input": "2022-11-12T16:25:50.987896Z",
     "iopub.status.busy": "2022-11-12T16:25:50.987616Z",
     "iopub.status.idle": "2022-11-12T16:25:51.022690Z",
     "shell.execute_reply": "2022-11-12T16:25:51.021906Z",
     "shell.execute_reply.started": "2022-11-12T16:25:50.987874Z"
    },
    "tags": []
   },
   "outputs": [
    {
     "data": {
      "text/html": [
       "<div>\n",
       "<style scoped>\n",
       "    .dataframe tbody tr th:only-of-type {\n",
       "        vertical-align: middle;\n",
       "    }\n",
       "\n",
       "    .dataframe tbody tr th {\n",
       "        vertical-align: top;\n",
       "    }\n",
       "\n",
       "    .dataframe thead th {\n",
       "        text-align: right;\n",
       "    }\n",
       "</style>\n",
       "<table border=\"1\" class=\"dataframe\">\n",
       "  <thead>\n",
       "    <tr style=\"text-align: right;\">\n",
       "      <th></th>\n",
       "      <th>annot</th>\n",
       "      <th>gene</th>\n",
       "      <th>mean</th>\n",
       "      <th>frac</th>\n",
       "      <th>dataset</th>\n",
       "      <th>gene2</th>\n",
       "      <th>x</th>\n",
       "      <th>y</th>\n",
       "      <th>max_mean</th>\n",
       "      <th>mean2</th>\n",
       "    </tr>\n",
       "  </thead>\n",
       "  <tbody>\n",
       "    <tr>\n",
       "      <th>0</th>\n",
       "      <td>Basal</td>\n",
       "      <td>ALPL</td>\n",
       "      <td>0.005966</td>\n",
       "      <td>0.011043</td>\n",
       "      <td>fetal</td>\n",
       "      <td>fetal ALPL</td>\n",
       "      <td>4</td>\n",
       "      <td>0</td>\n",
       "      <td>1.422544</td>\n",
       "      <td>0.004194</td>\n",
       "    </tr>\n",
       "    <tr>\n",
       "      <th>1</th>\n",
       "      <td>Basal</td>\n",
       "      <td>MEF2C</td>\n",
       "      <td>0.007456</td>\n",
       "      <td>0.009816</td>\n",
       "      <td>fetal</td>\n",
       "      <td>fetal MEF2C</td>\n",
       "      <td>4</td>\n",
       "      <td>2</td>\n",
       "      <td>0.982398</td>\n",
       "      <td>0.007590</td>\n",
       "    </tr>\n",
       "    <tr>\n",
       "      <th>2</th>\n",
       "      <td>Basal</td>\n",
       "      <td>TWIST2</td>\n",
       "      <td>0.006778</td>\n",
       "      <td>0.008589</td>\n",
       "      <td>fetal</td>\n",
       "      <td>fetal TWIST2</td>\n",
       "      <td>4</td>\n",
       "      <td>4</td>\n",
       "      <td>1.514085</td>\n",
       "      <td>0.004477</td>\n",
       "    </tr>\n",
       "    <tr>\n",
       "      <th>3</th>\n",
       "      <td>Companion layer</td>\n",
       "      <td>ALPL</td>\n",
       "      <td>0.040703</td>\n",
       "      <td>0.074074</td>\n",
       "      <td>fetal</td>\n",
       "      <td>fetal ALPL</td>\n",
       "      <td>7</td>\n",
       "      <td>0</td>\n",
       "      <td>1.422544</td>\n",
       "      <td>0.028613</td>\n",
       "    </tr>\n",
       "    <tr>\n",
       "      <th>4</th>\n",
       "      <td>Companion layer</td>\n",
       "      <td>MEF2C</td>\n",
       "      <td>0.000000</td>\n",
       "      <td>0.000000</td>\n",
       "      <td>fetal</td>\n",
       "      <td>fetal MEF2C</td>\n",
       "      <td>7</td>\n",
       "      <td>2</td>\n",
       "      <td>0.982398</td>\n",
       "      <td>0.000000</td>\n",
       "    </tr>\n",
       "  </tbody>\n",
       "</table>\n",
       "</div>"
      ],
      "text/plain": [
       "             annot    gene      mean      frac dataset         gene2  x  y  \\\n",
       "0            Basal    ALPL  0.005966  0.011043   fetal    fetal ALPL  4  0   \n",
       "1            Basal   MEF2C  0.007456  0.009816   fetal   fetal MEF2C  4  2   \n",
       "2            Basal  TWIST2  0.006778  0.008589   fetal  fetal TWIST2  4  4   \n",
       "3  Companion layer    ALPL  0.040703  0.074074   fetal    fetal ALPL  7  0   \n",
       "4  Companion layer   MEF2C  0.000000  0.000000   fetal   fetal MEF2C  7  2   \n",
       "\n",
       "   max_mean     mean2  \n",
       "0  1.422544  0.004194  \n",
       "1  0.982398  0.007590  \n",
       "2  1.514085  0.004477  \n",
       "3  1.422544  0.028613  \n",
       "4  0.982398  0.000000  "
      ]
     },
     "execution_count": 25,
     "metadata": {},
     "output_type": "execute_result"
    }
   ],
   "source": [
    "df.head()"
   ]
  },
  {
   "cell_type": "markdown",
   "id": "reverse-wisconsin",
   "metadata": {},
   "source": [
    "## Plot"
   ]
  },
  {
   "cell_type": "code",
   "execution_count": 26,
   "id": "creative-groove",
   "metadata": {
    "execution": {
     "iopub.execute_input": "2022-11-12T16:25:51.023897Z",
     "iopub.status.busy": "2022-11-12T16:25:51.023637Z",
     "iopub.status.idle": "2022-11-12T16:25:51.474099Z",
     "shell.execute_reply": "2022-11-12T16:25:51.473159Z",
     "shell.execute_reply.started": "2022-11-12T16:25:51.023874Z"
    },
    "tags": []
   },
   "outputs": [
    {
     "data": {
      "image/png": "[encoded data removed]",
      "text/plain": [
       "<Figure size 800x250 with 3 Axes>"
      ]
     },
     "metadata": {},
     "output_type": "display_data"
    }
   ],
   "source": [
    "sk.set_figsize((8, 2.5))\n",
    "\n",
    "# Main axes\n",
    "ax = sn.scatterplot(\n",
    "    data=df,\n",
    "    x=\"x\",\n",
    "    y=\"y\",\n",
    "    hue=\"mean2\",\n",
    "    size=\"frac\",\n",
    "    palette=\"OrRd\",\n",
    "    edgecolor=\"k\",\n",
    "    sizes=(0, 200),\n",
    "    legend=False,\n",
    ")\n",
    "ax.set_xticks(np.arange(df.annot.cat.categories.size))\n",
    "ax.set_xticklabels(df.annot.cat.categories, rotation=90)\n",
    "ax.set_yticks(np.arange(df.gene2.cat.categories.size))\n",
    "ax.set_yticklabels(df.gene2.cat.categories)\n",
    "ax.set_ylim(df.gene2.cat.categories.size - 0.5, -0.5)\n",
    "for ypos in [i - 0.5 for i in range(df.gene2.cat.categories.size) if i > 0 and i % 2 == 0]:\n",
    "    ax.axhline(y=ypos, linewidth=1, c=\"k\", linestyle=\"--\")\n",
    "ax.set_xlabel(\"\")\n",
    "ax.set_ylabel(\"\")\n",
    "\n",
    "# Make legend\n",
    "fig = ax.get_figure()\n",
    "main_width = 0.8\n",
    "gap_width = 0.025\n",
    "fig.subplots_adjust(right=main_width)\n",
    "\n",
    "# Dot size legend\n",
    "dlg_ax = fig.add_axes([main_width + gap_width, 0.55, 1 - main_width - gap_width, 0.1])\n",
    "sn.scatterplot(\n",
    "    x=[20, 40, 60, 80, 100],\n",
    "    y=[0, 0, 0, 0, 0],\n",
    "    size=[20, 40, 60, 80, 100],\n",
    "    sizes=(40, 200),\n",
    "    color=[(0.5, 0.5, 0.5)],\n",
    "    edgecolor=\"black\",\n",
    "    ax=dlg_ax,\n",
    "    legend=False,\n",
    ")\n",
    "sn.despine(ax=dlg_ax, left=True, bottom=True)\n",
    "dlg_ax.get_yaxis().set_visible(False)\n",
    "dlg_ax.set_xticks([20, 40, 60, 80, 100])\n",
    "dlg_ax.set_xlim(10, 110)\n",
    "dlg_ax.set_title(\"Fraction of cells\\nin group (%)\")\n",
    "\n",
    "# Colorbar\n",
    "cb_ax = fig.add_axes([main_width + gap_width, 0.2, 1 - main_width - gap_width, 0.05])\n",
    "cb_ax.set_title(\"Mean expression\\nin group\")\n",
    "fig.colorbar(\n",
    "    plt.cm.ScalarMappable(\n",
    "        cmap=\"OrRd\",\n",
    "    ),\n",
    "    cax=cb_ax,\n",
    "    orientation=\"horizontal\",\n",
    ")\n",
    "sn.despine(ax=cb_ax, left=True, bottom=True)\n",
    "cb_ax.get_yaxis().set_visible(False)"
   ]
  },
  {
   "cell_type": "code",
   "execution_count": 27,
   "id": "mathematical-bennett",
   "metadata": {
    "execution": {
     "iopub.execute_input": "2022-11-12T16:25:51.475318Z",
     "iopub.status.busy": "2022-11-12T16:25:51.475071Z",
     "iopub.status.idle": "2022-11-12T16:25:52.007773Z",
     "shell.execute_reply": "2022-11-12T16:25:52.006781Z",
     "shell.execute_reply.started": "2022-11-12T16:25:51.475292Z"
    },
    "tags": []
   },
   "outputs": [],
   "source": [
    "fig.savefig(\"figures/final/figS3N.20220920.pdf\", bbox_inches=\"tight\")"
   ]
  }
 ],
 "metadata": {
  "kernelspec": {
   "display_name": "FCA_base",
   "language": "python",
   "name": "fca_base"
  },
  "language_info": {
   "codemirror_mode": {
    "name": "ipython",
    "version": 3
   },
   "file_extension": ".py",
   "mimetype": "text/x-python",
   "name": "python",
   "nbconvert_exporter": "python",
   "pygments_lexer": "ipython3",
   "version": "3.9.13"
  },
  "widgets": {
   "application/vnd.jupyter.widget-state+json": {
    "state": {},
    "version_major": 2,
    "version_minor": 0
   }
  }
 },
 "nbformat": 4,
 "nbformat_minor": 5
}
