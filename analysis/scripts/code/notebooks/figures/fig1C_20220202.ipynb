{
 "cells": [
  {
   "cell_type": "markdown",
   "id": "refined-disposal",
   "metadata": {},
   "source": [
    "fig1c: milo cell type abundance analaysis"
   ]
  },
  {
   "cell_type": "markdown",
   "id": "cheap-cookbook",
   "metadata": {},
   "source": [
    "# Import and settings"
   ]
  },
  {
   "cell_type": "code",
   "execution_count": 1,
   "id": "early-plain",
   "metadata": {
    "execution": {
     "iopub.execute_input": "2022-11-10T21:33:47.920498Z",
     "iopub.status.busy": "2022-11-10T21:33:47.920097Z",
     "iopub.status.idle": "2022-11-10T21:33:48.217218Z",
     "shell.execute_reply": "2022-11-10T21:33:48.216124Z",
     "shell.execute_reply.started": "2022-11-10T21:33:47.920442Z"
    },
    "tags": []
   },
   "outputs": [
    {
     "ename": "ModuleNotFoundError",
     "evalue": "No module named 'rmagic'",
     "output_type": "error",
     "traceback": [
      "\u001b[0;31m---------------------------------------------------------------------------\u001b[0m",
      "\u001b[0;31mModuleNotFoundError\u001b[0m                       Traceback (most recent call last)",
      "Input \u001b[0;32mIn [1]\u001b[0m, in \u001b[0;36m<cell line: 3>\u001b[0;34m()\u001b[0m\n\u001b[1;32m      1\u001b[0m get_ipython()\u001b[38;5;241m.\u001b[39mrun_line_magic(\u001b[38;5;124m'\u001b[39m\u001b[38;5;124mload_ext\u001b[39m\u001b[38;5;124m'\u001b[39m, \u001b[38;5;124m'\u001b[39m\u001b[38;5;124mautoreload\u001b[39m\u001b[38;5;124m'\u001b[39m)\n\u001b[1;32m      2\u001b[0m get_ipython()\u001b[38;5;241m.\u001b[39mrun_line_magic(\u001b[38;5;124m'\u001b[39m\u001b[38;5;124mautoreload\u001b[39m\u001b[38;5;124m'\u001b[39m, \u001b[38;5;124m'\u001b[39m\u001b[38;5;124m2\u001b[39m\u001b[38;5;124m'\u001b[39m)\n\u001b[0;32m----> 3\u001b[0m \u001b[43mget_ipython\u001b[49m\u001b[43m(\u001b[49m\u001b[43m)\u001b[49m\u001b[38;5;241;43m.\u001b[39;49m\u001b[43mrun_line_magic\u001b[49m\u001b[43m(\u001b[49m\u001b[38;5;124;43m'\u001b[39;49m\u001b[38;5;124;43mload_ext\u001b[39;49m\u001b[38;5;124;43m'\u001b[39;49m\u001b[43m,\u001b[49m\u001b[43m \u001b[49m\u001b[38;5;124;43m'\u001b[39;49m\u001b[38;5;124;43mrmagic\u001b[39;49m\u001b[38;5;124;43m'\u001b[39;49m\u001b[43m)\u001b[49m\n\u001b[1;32m      5\u001b[0m \u001b[38;5;28;01mimport\u001b[39;00m \u001b[38;5;21;01mos\u001b[39;00m\u001b[38;5;241m,\u001b[39m \u001b[38;5;21;01mre\u001b[39;00m\u001b[38;5;241m,\u001b[39m \u001b[38;5;21;01mgc\u001b[39;00m\u001b[38;5;241m,\u001b[39m \u001b[38;5;21;01mjoblib\u001b[39;00m\n\u001b[1;32m      6\u001b[0m \u001b[38;5;28;01mfrom\u001b[39;00m \u001b[38;5;21;01mpathlib\u001b[39;00m \u001b[38;5;28;01mimport\u001b[39;00m Path\n",
      "File \u001b[0;32m~/my-conda-envs/FCA_base/lib/python3.9/site-packages/IPython/core/interactiveshell.py:2305\u001b[0m, in \u001b[0;36mInteractiveShell.run_line_magic\u001b[0;34m(self, magic_name, line, _stack_depth)\u001b[0m\n\u001b[1;32m   2303\u001b[0m     kwargs[\u001b[38;5;124m'\u001b[39m\u001b[38;5;124mlocal_ns\u001b[39m\u001b[38;5;124m'\u001b[39m] \u001b[38;5;241m=\u001b[39m \u001b[38;5;28mself\u001b[39m\u001b[38;5;241m.\u001b[39mget_local_scope(stack_depth)\n\u001b[1;32m   2304\u001b[0m \u001b[38;5;28;01mwith\u001b[39;00m \u001b[38;5;28mself\u001b[39m\u001b[38;5;241m.\u001b[39mbuiltin_trap:\n\u001b[0;32m-> 2305\u001b[0m     result \u001b[38;5;241m=\u001b[39m \u001b[43mfn\u001b[49m\u001b[43m(\u001b[49m\u001b[38;5;241;43m*\u001b[39;49m\u001b[43margs\u001b[49m\u001b[43m,\u001b[49m\u001b[43m \u001b[49m\u001b[38;5;241;43m*\u001b[39;49m\u001b[38;5;241;43m*\u001b[39;49m\u001b[43mkwargs\u001b[49m\u001b[43m)\u001b[49m\n\u001b[1;32m   2306\u001b[0m \u001b[38;5;28;01mreturn\u001b[39;00m result\n",
      "File \u001b[0;32m~/my-conda-envs/FCA_base/lib/python3.9/site-packages/IPython/core/magics/extension.py:33\u001b[0m, in \u001b[0;36mExtensionMagics.load_ext\u001b[0;34m(self, module_str)\u001b[0m\n\u001b[1;32m     31\u001b[0m \u001b[38;5;28;01mif\u001b[39;00m \u001b[38;5;129;01mnot\u001b[39;00m module_str:\n\u001b[1;32m     32\u001b[0m     \u001b[38;5;28;01mraise\u001b[39;00m UsageError(\u001b[38;5;124m'\u001b[39m\u001b[38;5;124mMissing module name.\u001b[39m\u001b[38;5;124m'\u001b[39m)\n\u001b[0;32m---> 33\u001b[0m res \u001b[38;5;241m=\u001b[39m \u001b[38;5;28;43mself\u001b[39;49m\u001b[38;5;241;43m.\u001b[39;49m\u001b[43mshell\u001b[49m\u001b[38;5;241;43m.\u001b[39;49m\u001b[43mextension_manager\u001b[49m\u001b[38;5;241;43m.\u001b[39;49m\u001b[43mload_extension\u001b[49m\u001b[43m(\u001b[49m\u001b[43mmodule_str\u001b[49m\u001b[43m)\u001b[49m\n\u001b[1;32m     35\u001b[0m \u001b[38;5;28;01mif\u001b[39;00m res \u001b[38;5;241m==\u001b[39m \u001b[38;5;124m'\u001b[39m\u001b[38;5;124malready loaded\u001b[39m\u001b[38;5;124m'\u001b[39m:\n\u001b[1;32m     36\u001b[0m     \u001b[38;5;28mprint\u001b[39m(\u001b[38;5;124m\"\u001b[39m\u001b[38;5;124mThe \u001b[39m\u001b[38;5;132;01m%s\u001b[39;00m\u001b[38;5;124m extension is already loaded. To reload it, use:\u001b[39m\u001b[38;5;124m\"\u001b[39m \u001b[38;5;241m%\u001b[39m module_str)\n",
      "File \u001b[0;32m~/my-conda-envs/FCA_base/lib/python3.9/site-packages/IPython/core/extensions.py:76\u001b[0m, in \u001b[0;36mExtensionManager.load_extension\u001b[0;34m(self, module_str)\u001b[0m\n\u001b[1;32m     69\u001b[0m \u001b[38;5;124;03m\"\"\"Load an IPython extension by its module name.\u001b[39;00m\n\u001b[1;32m     70\u001b[0m \n\u001b[1;32m     71\u001b[0m \u001b[38;5;124;03mReturns the string \"already loaded\" if the extension is already loaded,\u001b[39;00m\n\u001b[1;32m     72\u001b[0m \u001b[38;5;124;03m\"no load function\" if the module doesn't have a load_ipython_extension\u001b[39;00m\n\u001b[1;32m     73\u001b[0m \u001b[38;5;124;03mfunction, or None if it succeeded.\u001b[39;00m\n\u001b[1;32m     74\u001b[0m \u001b[38;5;124;03m\"\"\"\u001b[39;00m\n\u001b[1;32m     75\u001b[0m \u001b[38;5;28;01mtry\u001b[39;00m:\n\u001b[0;32m---> 76\u001b[0m     \u001b[38;5;28;01mreturn\u001b[39;00m \u001b[38;5;28;43mself\u001b[39;49m\u001b[38;5;241;43m.\u001b[39;49m\u001b[43m_load_extension\u001b[49m\u001b[43m(\u001b[49m\u001b[43mmodule_str\u001b[49m\u001b[43m)\u001b[49m\n\u001b[1;32m     77\u001b[0m \u001b[38;5;28;01mexcept\u001b[39;00m \u001b[38;5;167;01mModuleNotFoundError\u001b[39;00m:\n\u001b[1;32m     78\u001b[0m     \u001b[38;5;28;01mif\u001b[39;00m module_str \u001b[38;5;129;01min\u001b[39;00m BUILTINS_EXTS:\n",
      "File \u001b[0;32m~/my-conda-envs/FCA_base/lib/python3.9/site-packages/IPython/core/extensions.py:92\u001b[0m, in \u001b[0;36mExtensionManager._load_extension\u001b[0;34m(self, module_str)\u001b[0m\n\u001b[1;32m     90\u001b[0m \u001b[38;5;28;01mif\u001b[39;00m module_str \u001b[38;5;129;01mnot\u001b[39;00m \u001b[38;5;129;01min\u001b[39;00m sys\u001b[38;5;241m.\u001b[39mmodules:\n\u001b[1;32m     91\u001b[0m     \u001b[38;5;28;01mwith\u001b[39;00m prepended_to_syspath(\u001b[38;5;28mself\u001b[39m\u001b[38;5;241m.\u001b[39mipython_extension_dir):\n\u001b[0;32m---> 92\u001b[0m         mod \u001b[38;5;241m=\u001b[39m \u001b[43mimport_module\u001b[49m\u001b[43m(\u001b[49m\u001b[43mmodule_str\u001b[49m\u001b[43m)\u001b[49m\n\u001b[1;32m     93\u001b[0m         \u001b[38;5;28;01mif\u001b[39;00m mod\u001b[38;5;241m.\u001b[39m\u001b[38;5;18m__file__\u001b[39m\u001b[38;5;241m.\u001b[39mstartswith(\u001b[38;5;28mself\u001b[39m\u001b[38;5;241m.\u001b[39mipython_extension_dir):\n\u001b[1;32m     94\u001b[0m             \u001b[38;5;28mprint\u001b[39m((\u001b[38;5;124m\"\u001b[39m\u001b[38;5;124mLoading extensions from \u001b[39m\u001b[38;5;132;01m{dir}\u001b[39;00m\u001b[38;5;124m is deprecated. \u001b[39m\u001b[38;5;124m\"\u001b[39m\n\u001b[1;32m     95\u001b[0m                    \u001b[38;5;124m\"\u001b[39m\u001b[38;5;124mWe recommend managing extensions like any \u001b[39m\u001b[38;5;124m\"\u001b[39m\n\u001b[1;32m     96\u001b[0m                    \u001b[38;5;124m\"\u001b[39m\u001b[38;5;124mother Python packages, in site-packages.\u001b[39m\u001b[38;5;124m\"\u001b[39m)\u001b[38;5;241m.\u001b[39mformat(\n\u001b[1;32m     97\u001b[0m                   \u001b[38;5;28mdir\u001b[39m\u001b[38;5;241m=\u001b[39mcompress_user(\u001b[38;5;28mself\u001b[39m\u001b[38;5;241m.\u001b[39mipython_extension_dir)))\n",
      "File \u001b[0;32m~/my-conda-envs/FCA_base/lib/python3.9/importlib/__init__.py:127\u001b[0m, in \u001b[0;36mimport_module\u001b[0;34m(name, package)\u001b[0m\n\u001b[1;32m    125\u001b[0m             \u001b[38;5;28;01mbreak\u001b[39;00m\n\u001b[1;32m    126\u001b[0m         level \u001b[38;5;241m+\u001b[39m\u001b[38;5;241m=\u001b[39m \u001b[38;5;241m1\u001b[39m\n\u001b[0;32m--> 127\u001b[0m \u001b[38;5;28;01mreturn\u001b[39;00m \u001b[43m_bootstrap\u001b[49m\u001b[38;5;241;43m.\u001b[39;49m\u001b[43m_gcd_import\u001b[49m\u001b[43m(\u001b[49m\u001b[43mname\u001b[49m\u001b[43m[\u001b[49m\u001b[43mlevel\u001b[49m\u001b[43m:\u001b[49m\u001b[43m]\u001b[49m\u001b[43m,\u001b[49m\u001b[43m \u001b[49m\u001b[43mpackage\u001b[49m\u001b[43m,\u001b[49m\u001b[43m \u001b[49m\u001b[43mlevel\u001b[49m\u001b[43m)\u001b[49m\n",
      "File \u001b[0;32m<frozen importlib._bootstrap>:1030\u001b[0m, in \u001b[0;36m_gcd_import\u001b[0;34m(name, package, level)\u001b[0m\n",
      "File \u001b[0;32m<frozen importlib._bootstrap>:1007\u001b[0m, in \u001b[0;36m_find_and_load\u001b[0;34m(name, import_)\u001b[0m\n",
      "File \u001b[0;32m<frozen importlib._bootstrap>:984\u001b[0m, in \u001b[0;36m_find_and_load_unlocked\u001b[0;34m(name, import_)\u001b[0m\n",
      "\u001b[0;31mModuleNotFoundError\u001b[0m: No module named 'rmagic'"
     ]
    }
   ],
   "source": [
    "%load_ext autoreload\n",
    "%autoreload 2\n",
    "%load_ext rmagic\n",
    "\n",
    "import os, re, gc, joblib\n",
    "from pathlib import Path\n",
    "import numpy as np\n",
    "import numpy_groupies as npg\n",
    "import pandas as pd\n",
    "\n",
    "import anndata\n",
    "import scanpy as sc\n",
    "import sctk as sk\n",
    "\n",
    "import matplotlib.pyplot as plt\n",
    "from matplotlib import rcParams\n",
    "from matplotlib.backends.backend_pdf import PdfPages"
   ]
  },
  {
   "cell_type": "code",
   "execution_count": 3,
   "id": "wrong-bronze",
   "metadata": {
    "execution": {
     "iopub.execute_input": "2022-11-10T17:16:04.132994Z",
     "iopub.status.busy": "2022-11-10T17:16:04.132398Z",
     "iopub.status.idle": "2022-11-10T17:16:04.158505Z",
     "shell.execute_reply": "2022-11-10T17:16:04.157835Z",
     "shell.execute_reply.started": "2022-11-10T17:16:04.132959Z"
    },
    "tags": []
   },
   "outputs": [],
   "source": [
    "np.set_printoptions(linewidth=150)\n",
    "\n",
    "rcParams[\"pdf.fonttype\"] = 42\n",
    "rcParams[\"ps.fonttype\"] = 42\n",
    "\n",
    "sc.settings.verbosity = 0\n",
    "sk.set_figsize((4, 4))"
   ]
  },
  {
   "cell_type": "code",
   "execution_count": 4,
   "id": "leading-verification",
   "metadata": {
    "execution": {
     "iopub.execute_input": "2022-11-10T17:16:04.553516Z",
     "iopub.status.busy": "2022-11-10T17:16:04.552738Z",
     "iopub.status.idle": "2022-11-10T17:16:04.577533Z",
     "shell.execute_reply": "2022-11-10T17:16:04.576818Z",
     "shell.execute_reply.started": "2022-11-10T17:16:04.553486Z"
    },
    "tags": []
   },
   "outputs": [],
   "source": [
    "from time import localtime, strftime\n",
    "\n",
    "\n",
    "def timestamp(date_only=True):\n",
    "    stamp_format = \"%Y%m%d\" if date_only else \"%Y%m%d-%H%M\"\n",
    "    return strftime(stamp_format, localtime())"
   ]
  },
  {
   "cell_type": "code",
   "execution_count": 5,
   "id": "genetic-james",
   "metadata": {
    "execution": {
     "iopub.execute_input": "2022-11-10T17:16:10.387874Z",
     "iopub.status.busy": "2022-11-10T17:16:10.386856Z",
     "iopub.status.idle": "2022-11-10T17:16:10.411780Z",
     "shell.execute_reply": "2022-11-10T17:16:10.411015Z",
     "shell.execute_reply.started": "2022-11-10T17:16:10.387838Z"
    },
    "tags": []
   },
   "outputs": [],
   "source": [
    "os.environ[\"R_HOME\"] = \"/home/ubuntu/miniconda/envs/milo/lib/R\""
   ]
  },
  {
   "cell_type": "code",
   "execution_count": 6,
   "id": "earlier-michael",
   "metadata": {
    "execution": {
     "iopub.execute_input": "2022-11-10T17:16:13.012326Z",
     "iopub.status.busy": "2022-11-10T17:16:13.011554Z",
     "iopub.status.idle": "2022-11-10T17:16:13.604950Z",
     "shell.execute_reply": "2022-11-10T17:16:13.603744Z",
     "shell.execute_reply.started": "2022-11-10T17:16:13.012298Z"
    }
   },
   "outputs": [
    {
     "name": "stdout",
     "output_type": "stream",
     "text": [
      "/home/jovyan/FCA_Fetal_Skin_priv\n"
     ]
    }
   ],
   "source": [
    "data_root = Path('/lustre/scratch126/cellgen/team205/nh3/skin').resolve()\n",
    "proj_root = Path('~/FCA_Fetal_Skin_priv/').expanduser()\n",
    "os.chdir(proj_root)\n",
    "!pwd"
   ]
  },
  {
   "cell_type": "markdown",
   "id": "earlier-token",
   "metadata": {},
   "source": [
    "# Load data"
   ]
  },
  {
   "cell_type": "code",
   "execution_count": 7,
   "id": "deadly-terrace",
   "metadata": {
    "execution": {
     "iopub.execute_input": "2022-11-10T17:16:52.590934Z",
     "iopub.status.busy": "2022-11-10T17:16:52.590380Z",
     "iopub.status.idle": "2022-11-10T17:16:52.887857Z",
     "shell.execute_reply": "2022-11-10T17:16:52.886671Z",
     "shell.execute_reply.started": "2022-11-10T17:16:52.590905Z"
    },
    "tags": []
   },
   "outputs": [],
   "source": [
    "fsk_all_obs = sk.read_h5ad(Path(data_root, \n",
    "                                \"20210611_final_object/fetal_skin.norm.maternal_removed.20220202.h5ad\"), \n",
    "                           component=\"obs\")"
   ]
  },
  {
   "cell_type": "code",
   "execution_count": 8,
   "id": "otherwise-compact",
   "metadata": {
    "execution": {
     "iopub.execute_input": "2022-11-10T17:16:54.057842Z",
     "iopub.status.busy": "2022-11-10T17:16:54.057248Z",
     "iopub.status.idle": "2022-11-10T17:16:54.090961Z",
     "shell.execute_reply": "2022-11-10T17:16:54.090304Z",
     "shell.execute_reply.started": "2022-11-10T17:16:54.057812Z"
    },
    "tags": []
   },
   "outputs": [
    {
     "data": {
      "text/plain": [
       "Index(['sanger_id', 'chemistry', 'donor', 'gender', 'pcw', 'sorting', 'sample',\n",
       "       'chemistry_sorting', 'cell_caller', 'scrublet_score',\n",
       "       'cluster_scrublet_score', 'doublet_pval', 'bh_doublet_pval', 'n_counts',\n",
       "       'n_genes', 'percent_mito', 'percent_ribo', 'percent_hb',\n",
       "       'independent_annotation_refined', 'independent_annotation_broad1',\n",
       "       'independent_annotation_broad2', 'independent_annotation_broad3',\n",
       "       'independent_annotation_broad4', 'independent_annotation_broad5',\n",
       "       'joint_annotation', 'is_maternal', 'fig1b_annotation',\n",
       "       'independent_annotation_refined_20220201a',\n",
       "       'independent_annotation_refined_20220201b',\n",
       "       'independent_annotation_broad1_20220201',\n",
       "       'independent_annotation_broad2_20220201',\n",
       "       'independent_annotation_broad3_20220201', 'joint_annotation_20220201a',\n",
       "       'joint_annotation_20220201b', 'fig1b_annotation_20220201',\n",
       "       'joint_annotation_20220202', 'independent_annotation_refined_20220202',\n",
       "       'fig1b_annotation_20220202'],\n",
       "      dtype='object')"
      ]
     },
     "execution_count": 8,
     "metadata": {},
     "output_type": "execute_result"
    }
   ],
   "source": [
    "fsk_all_obs.columns"
   ]
  },
  {
   "cell_type": "code",
   "execution_count": 9,
   "id": "buried-attempt",
   "metadata": {
    "execution": {
     "iopub.execute_input": "2022-11-10T17:17:00.758651Z",
     "iopub.status.busy": "2022-11-10T17:17:00.757959Z",
     "iopub.status.idle": "2022-11-10T17:17:00.790323Z",
     "shell.execute_reply": "2022-11-10T17:17:00.789615Z",
     "shell.execute_reply.started": "2022-11-10T17:17:00.758576Z"
    },
    "tags": []
   },
   "outputs": [],
   "source": [
    "# fsk_all_obs.to_csv(\"../20210611_final_object/fetal_skin.norm.maternal_removed.20220202.obs.csv.gz\")"
   ]
  },
  {
   "cell_type": "code",
   "execution_count": 10,
   "id": "grateful-scanner",
   "metadata": {
    "execution": {
     "iopub.execute_input": "2022-11-10T17:17:05.291185Z",
     "iopub.status.busy": "2022-11-10T17:17:05.290238Z",
     "iopub.status.idle": "2022-11-10T17:17:05.317527Z",
     "shell.execute_reply": "2022-11-10T17:17:05.316496Z",
     "shell.execute_reply.started": "2022-11-10T17:17:05.291150Z"
    }
   },
   "outputs": [
    {
     "name": "stderr",
     "output_type": "stream",
     "text": [
      "UsageError: Cell magic `%%R` not found.\n"
     ]
    }
   ],
   "source": [
    "%%R\n",
    "# conda activate milo\n",
    "\n",
    "loadPackage(miloR)\n",
    "loadPackage(SingleCellExperiment)\n",
    "loadPackage(scater)\n",
    "loadPackage(dplyr)\n",
    "loadPackage(Matrix)\n",
    "\n",
    "\n",
    "# new analysis 20220202\n",
    "sce <- readRDS('fetal_skin.scvi_donor.norm.sce.rds')\n",
    "\n",
    "obs <- read.csv(\"../20210611_final_object/fetal_skin.norm.maternal_removed.20220202.obs.csv.gz\", row.names=1)\n",
    "\n",
    "sce <- sce[, colnames(sce) %in% rownames(obs)]\n",
    "\n",
    "milo <- Milo(sce)\n",
    "milo <- buildGraph(milo, k=15, d=30, reduced.dim = \"X_scvi_donor\")\n",
    "milo <- makeNhoods(milo, prop=0.05, k=15, d=30, refined=T, reduced_dims='X_scvi_donor')\n",
    "milo <- calcNhoodDistance(milo, d=30, reduced.dim='X_scvi_donor')\n",
    "milo <- countCells(milo, meta.data=as.data.frame(colData(milo)), sample='sanger_id')\n",
    "saveRDS(milo, 'fetal_skin.scvi_donor.milo.20220202.rds')\n",
    "\n",
    "milo_design <- data.frame(colData(milo)[, c('donor', 'pcw', 'sorting', 'sanger_id')])\n",
    "milo_design <- distinct(milo_design)\n",
    "rownames(milo_design) <- milo_design$sanger_id\n",
    "\n",
    "results <- testNhoods(milo, design=~sorting + pcw, design.df=milo_design, norm.method='TMM')\n",
    "saveRDS(results, 'fetal_skin.scvi_donor.milo_results.20220202.rds')\n",
    "\n",
    "## fig1b_annotation\n",
    "\n",
    "fig1b_annotation <- obs$fig1b_annotation_20220202 %>% as.character()\n",
    "fig1b_annotation[fig1b_annotation=='Progenitor'] = 'Haem progenitors'\n",
    "fig1b_annotation[fig1b_annotation=='Neuronal cells'] = 'Neuronal cell'\n",
    "fig1b_order <- c(\n",
    "    'Haem progenitors', 'ILC', 'T cell', 'B cell', 'pDC', 'cDC', 'Langerhans cell',\n",
    "    'Macrophage', 'Monocyte', 'Neutrophil', 'Mast cell', 'Megakaryocyte', 'Erythroid', 'Vascular endothelium',\n",
    "    'Lymphatic endothelium', 'Mural cell', 'Skeletal muscle', 'Myofibroblast', 'Fibroblast', 'Dermal condensate',\n",
    "    'Adipocyte', 'Keratinocyte', 'Melanocyte', 'Schwann cell', 'Neuronal cell'\n",
    ")\n",
    "colData(milo)$fig1b_annotation <- factor(fig1b_annotation, levels=fig1b_order)\n",
    "\n",
    "colData(milo)$independent_annotation_refined <- obs$independent_annotation_refined_20220202\n",
    "colData(milo)$joint_annotation <- obs$joint_annotation_20220202\n",
    "\n",
    "ct_results <- annotateNhoods(milo, results, coldata_col='fig1b_annotation')\n",
    "ct_results$nhood_annotation <- ifelse(ct_results$fig1b_annotation_fraction < 0.7, 'Mixed', ct_results$fig1b_annotation)\n",
    "ordered_ct <- (ct_results %>% group_by(fig1b_annotation) %>% summarise(mean_logFC=-mean(logFC)) %>% arrange(mean_logFC))$fig1b_annotation\n",
    "\n",
    "p1 <- (\n",
    "    plotDAbeeswarm(ct_results %>% filter(nhood_annotation != 'Mixed'), group.by='nhood_annotation', alpha=0.05)\n",
    "    + theme(axis.text.y=element_text(size=8))\n",
    ")\n",
    "p1a <- p1 + scale_x_discrete(limits=rev(fig1b_order))\n",
    "q1a <- ggplot_build(p1a)\n",
    "q1a$data[[1]]$size <- 0.5\n",
    "gp1a <- ggplot_gtable(q1a)\n",
    "\n",
    "p1b <- p1 + scale_x_discrete(limits=ordered_ct)\n",
    "q1b <- ggplot_build(p1b)\n",
    "q1b$data[[1]]$size <- 0.5\n",
    "gp1b <- ggplot_gtable(q1b)\n",
    "\n",
    "pdf(file='fetal_skin.scvi_donor.milo.fig1b_annotation_vs_pcw.20220202.pdf')\n",
    "plot(gp1a)\n",
    "plot(gp1b)\n",
    "dev.off()"
   ]
  },
  {
   "cell_type": "code",
   "execution_count": null,
   "id": "personalized-youth",
   "metadata": {},
   "outputs": [],
   "source": []
  }
 ],
 "metadata": {
  "kernelspec": {
   "display_name": "FCA_base",
   "language": "python",
   "name": "fca_base"
  },
  "language_info": {
   "codemirror_mode": {
    "name": "ipython",
    "version": 3
   },
   "file_extension": ".py",
   "mimetype": "text/x-python",
   "name": "python",
   "nbconvert_exporter": "python",
   "pygments_lexer": "ipython3",
   "version": "3.9.13"
  },
  "widgets": {
   "application/vnd.jupyter.widget-state+json": {
    "state": {},
    "version_major": 2,
    "version_minor": 0
   }
  }
 },
 "nbformat": 4,
 "nbformat_minor": 5
}
