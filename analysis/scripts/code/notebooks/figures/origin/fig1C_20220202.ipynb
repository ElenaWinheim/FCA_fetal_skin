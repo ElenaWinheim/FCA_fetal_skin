{
 "cells": [
  {
   "cell_type": "markdown",
   "id": "b26cb034-af43-4805-9d51-5d1b2e4f1555",
   "metadata": {},
   "source": [
    "fig1c: milo cell type abundance analaysis"
   ]
  },
  {
   "cell_type": "markdown",
   "id": "89cd1368-2136-4b20-88f9-128b4b23f8d3",
   "metadata": {},
   "source": [
    "# Import and settings"
   ]
  },
  {
   "cell_type": "code",
   "execution_count": 1,
   "id": "171c3376-d3fb-49c1-b9eb-bab37ec4b1f0",
   "metadata": {
    "execution": {
     "iopub.execute_input": "2022-02-07T10:46:42.157227Z",
     "iopub.status.busy": "2022-02-07T10:46:42.156564Z",
     "iopub.status.idle": "2022-02-07T10:46:43.761922Z",
     "shell.execute_reply": "2022-02-07T10:46:43.761064Z",
     "shell.execute_reply.started": "2022-02-07T10:46:42.157167Z"
    },
    "tags": []
   },
   "outputs": [],
   "source": [
    "%load_ext autoreload\n",
    "%autoreload 2\n",
    "%load_ext rmagic\n",
    "\n",
    "import os, re, gc, joblib\n",
    "import numpy as np\n",
    "import numpy_groupies as npg\n",
    "import pandas as pd\n",
    "\n",
    "import anndata\n",
    "import scanpy as sc\n",
    "import sctk as sk\n",
    "\n",
    "import matplotlib.pyplot as plt\n",
    "from matplotlib import rcParams\n",
    "from matplotlib.backends.backend_pdf import PdfPages"
   ]
  },
  {
   "cell_type": "code",
   "execution_count": 2,
   "id": "212d9613-3144-4996-ba02-145af5f4b872",
   "metadata": {
    "execution": {
     "iopub.execute_input": "2022-02-07T10:46:43.763358Z",
     "iopub.status.busy": "2022-02-07T10:46:43.763179Z",
     "iopub.status.idle": "2022-02-07T10:46:43.782535Z",
     "shell.execute_reply": "2022-02-07T10:46:43.781856Z",
     "shell.execute_reply.started": "2022-02-07T10:46:43.763337Z"
    },
    "tags": []
   },
   "outputs": [],
   "source": [
    "np.set_printoptions(linewidth=150)\n",
    "\n",
    "rcParams[\"pdf.fonttype\"] = 42\n",
    "rcParams[\"ps.fonttype\"] = 42\n",
    "\n",
    "sc.settings.verbosity = 0\n",
    "sk.set_figsize((4, 4))"
   ]
  },
  {
   "cell_type": "code",
   "execution_count": 3,
   "id": "1e17eb6e-0f7a-4729-8eaf-cf3bbba289a3",
   "metadata": {
    "execution": {
     "iopub.execute_input": "2022-02-07T10:46:43.783696Z",
     "iopub.status.busy": "2022-02-07T10:46:43.783498Z",
     "iopub.status.idle": "2022-02-07T10:46:43.799609Z",
     "shell.execute_reply": "2022-02-07T10:46:43.799008Z",
     "shell.execute_reply.started": "2022-02-07T10:46:43.783666Z"
    },
    "tags": []
   },
   "outputs": [],
   "source": [
    "from time import localtime, strftime\n",
    "\n",
    "\n",
    "def timestamp(date_only=True):\n",
    "    stamp_format = \"%Y%m%d\" if date_only else \"%Y%m%d-%H%M\"\n",
    "    return strftime(stamp_format, localtime())"
   ]
  },
  {
   "cell_type": "code",
   "execution_count": 4,
   "id": "3fe149ef-01bc-4578-8c22-2efdd89b29b3",
   "metadata": {
    "execution": {
     "iopub.execute_input": "2022-02-07T10:47:22.338469Z",
     "iopub.status.busy": "2022-02-07T10:47:22.338243Z",
     "iopub.status.idle": "2022-02-07T10:47:22.360128Z",
     "shell.execute_reply": "2022-02-07T10:47:22.359361Z",
     "shell.execute_reply.started": "2022-02-07T10:47:22.338446Z"
    }
   },
   "outputs": [],
   "source": [
    "os.environ[\"R_HOME\"] = \"/home/ubuntu/miniconda/envs/milo/lib/R\""
   ]
  },
  {
   "cell_type": "markdown",
   "id": "d46d4288-c0df-46a3-8958-df27719ee160",
   "metadata": {},
   "source": [
    "# Load data"
   ]
  },
  {
   "cell_type": "code",
   "execution_count": 5,
   "id": "ab304d5d-bcdd-4ba8-848c-c22cffcfd235",
   "metadata": {
    "execution": {
     "iopub.execute_input": "2022-02-07T10:49:31.831439Z",
     "iopub.status.busy": "2022-02-07T10:49:31.831170Z",
     "iopub.status.idle": "2022-02-07T10:49:32.742043Z",
     "shell.execute_reply": "2022-02-07T10:49:32.741148Z",
     "shell.execute_reply.started": "2022-02-07T10:49:31.831414Z"
    }
   },
   "outputs": [],
   "source": [
    "fsk_all_obs = sk.read_h5ad(\n",
    "    \"../20210611_final_object/fetal_skin.norm.maternal_removed.20220202.h5ad\", component=\"obs\"\n",
    ")"
   ]
  },
  {
   "cell_type": "code",
   "execution_count": 6,
   "id": "5b5e3017-0dec-4081-a3d9-4bdf62b98a33",
   "metadata": {
    "execution": {
     "iopub.execute_input": "2022-02-07T10:50:35.037217Z",
     "iopub.status.busy": "2022-02-07T10:50:35.036995Z",
     "iopub.status.idle": "2022-02-07T10:50:35.061949Z",
     "shell.execute_reply": "2022-02-07T10:50:35.061257Z",
     "shell.execute_reply.started": "2022-02-07T10:50:35.037193Z"
    },
    "tags": []
   },
   "outputs": [
    {
     "data": {
      "text/plain": [
       "Index(['sanger_id', 'chemistry', 'donor', 'gender', 'pcw', 'sorting', 'sample',\n",
       "       'chemistry_sorting', 'cell_caller', 'scrublet_score',\n",
       "       'cluster_scrublet_score', 'doublet_pval', 'bh_doublet_pval', 'n_counts',\n",
       "       'n_genes', 'percent_mito', 'percent_ribo', 'percent_hb',\n",
       "       'independent_annotation_refined', 'independent_annotation_broad1',\n",
       "       'independent_annotation_broad2', 'independent_annotation_broad3',\n",
       "       'independent_annotation_broad4', 'independent_annotation_broad5',\n",
       "       'joint_annotation', 'is_maternal', 'fig1b_annotation',\n",
       "       'independent_annotation_refined_20220201a',\n",
       "       'independent_annotation_refined_20220201b',\n",
       "       'independent_annotation_broad1_20220201',\n",
       "       'independent_annotation_broad2_20220201',\n",
       "       'independent_annotation_broad3_20220201', 'joint_annotation_20220201a',\n",
       "       'joint_annotation_20220201b', 'fig1b_annotation_20220201',\n",
       "       'joint_annotation_20220202', 'independent_annotation_refined_20220202',\n",
       "       'fig1b_annotation_20220202'],\n",
       "      dtype='object')"
      ]
     },
     "execution_count": 6,
     "metadata": {},
     "output_type": "execute_result"
    }
   ],
   "source": [
    "fsk_all_obs.columns"
   ]
  },
  {
   "cell_type": "code",
   "execution_count": 7,
   "id": "f9ee8815-c097-4bc6-9f28-2e741951628c",
   "metadata": {
    "execution": {
     "iopub.execute_input": "2022-02-07T10:51:22.226186Z",
     "iopub.status.busy": "2022-02-07T10:51:22.225907Z",
     "iopub.status.idle": "2022-02-07T10:51:27.878650Z",
     "shell.execute_reply": "2022-02-07T10:51:27.877813Z",
     "shell.execute_reply.started": "2022-02-07T10:51:22.226162Z"
    },
    "tags": []
   },
   "outputs": [],
   "source": [
    "fsk_all_obs.to_csv(\"../20210611_final_object/fetal_skin.norm.maternal_removed.20220202.obs.csv.gz\")"
   ]
  },
  {
   "cell_type": "code",
   "execution_count": null,
   "id": "4faf89c9-7989-40f2-948a-4e5391ea050e",
   "metadata": {},
   "outputs": [],
   "source": [
    "%%R\n",
    "# conda activate milo\n",
    "\n",
    "loadPackage(miloR)\n",
    "loadPackage(SingleCellExperiment)\n",
    "loadPackage(scater)\n",
    "loadPackage(dplyr)\n",
    "loadPackage(Matrix)\n",
    "\n",
    "\n",
    "# new analysis 20220202\n",
    "sce <- readRDS('fetal_skin.scvi_donor.norm.sce.rds')\n",
    "\n",
    "obs <- read.csv(\"../20210611_final_object/fetal_skin.norm.maternal_removed.20220202.obs.csv.gz\", row.names=1)\n",
    "\n",
    "sce <- sce[, colnames(sce) %in% rownames(obs)]\n",
    "\n",
    "milo <- Milo(sce)\n",
    "milo <- buildGraph(milo, k=15, d=30, reduced.dim = \"X_scvi_donor\")\n",
    "milo <- makeNhoods(milo, prop=0.05, k=15, d=30, refined=T, reduced_dims='X_scvi_donor')\n",
    "milo <- calcNhoodDistance(milo, d=30, reduced.dim='X_scvi_donor')\n",
    "milo <- countCells(milo, meta.data=as.data.frame(colData(milo)), sample='sanger_id')\n",
    "saveRDS(milo, 'fetal_skin.scvi_donor.milo.20220202.rds')\n",
    "\n",
    "milo_design <- data.frame(colData(milo)[, c('donor', 'pcw', 'sorting', 'sanger_id')])\n",
    "milo_design <- distinct(milo_design)\n",
    "rownames(milo_design) <- milo_design$sanger_id\n",
    "\n",
    "results <- testNhoods(milo, design=~sorting + pcw, design.df=milo_design, norm.method='TMM')\n",
    "saveRDS(results, 'fetal_skin.scvi_donor.milo_results.20220202.rds')\n",
    "\n",
    "## fig1b_annotation\n",
    "\n",
    "fig1b_annotation <- obs$fig1b_annotation_20220202 %>% as.character()\n",
    "fig1b_annotation[fig1b_annotation=='Progenitor'] = 'Haem progenitors'\n",
    "fig1b_annotation[fig1b_annotation=='Neuronal cells'] = 'Neuronal cell'\n",
    "fig1b_order <- c(\n",
    "    'Haem progenitors', 'ILC', 'T cell', 'B cell', 'pDC', 'cDC', 'Langerhans cell',\n",
    "    'Macrophage', 'Monocyte', 'Neutrophil', 'Mast cell', 'Megakaryocyte', 'Erythroid', 'Vascular endothelium',\n",
    "    'Lymphatic endothelium', 'Mural cell', 'Skeletal muscle', 'Myofibroblast', 'Fibroblast', 'Dermal condensate',\n",
    "    'Adipocyte', 'Keratinocyte', 'Melanocyte', 'Schwann cell', 'Neuronal cell'\n",
    ")\n",
    "colData(milo)$fig1b_annotation <- factor(fig1b_annotation, levels=fig1b_order)\n",
    "\n",
    "colData(milo)$independent_annotation_refined <- obs$independent_annotation_refined_20220202\n",
    "colData(milo)$joint_annotation <- obs$joint_annotation_20220202\n",
    "\n",
    "ct_results <- annotateNhoods(milo, results, coldata_col='fig1b_annotation')\n",
    "ct_results$nhood_annotation <- ifelse(ct_results$fig1b_annotation_fraction < 0.7, 'Mixed', ct_results$fig1b_annotation)\n",
    "ordered_ct <- (ct_results %>% group_by(fig1b_annotation) %>% summarise(mean_logFC=-mean(logFC)) %>% arrange(mean_logFC))$fig1b_annotation\n",
    "\n",
    "p1 <- (\n",
    "    plotDAbeeswarm(ct_results %>% filter(nhood_annotation != 'Mixed'), group.by='nhood_annotation', alpha=0.05)\n",
    "    + theme(axis.text.y=element_text(size=8))\n",
    ")\n",
    "p1a <- p1 + scale_x_discrete(limits=rev(fig1b_order))\n",
    "q1a <- ggplot_build(p1a)\n",
    "q1a$data[[1]]$size <- 0.5\n",
    "gp1a <- ggplot_gtable(q1a)\n",
    "\n",
    "p1b <- p1 + scale_x_discrete(limits=ordered_ct)\n",
    "q1b <- ggplot_build(p1b)\n",
    "q1b$data[[1]]$size <- 0.5\n",
    "gp1b <- ggplot_gtable(q1b)\n",
    "\n",
    "pdf(file='fetal_skin.scvi_donor.milo.fig1b_annotation_vs_pcw.20220202.pdf')\n",
    "plot(gp1a)\n",
    "plot(gp1b)\n",
    "dev.off()"
   ]
  }
 ],
 "metadata": {
  "kernelspec": {
   "display_name": "scanpy16",
   "language": "python",
   "name": "scanpy-new"
  },
  "language_info": {
   "codemirror_mode": {
    "name": "ipython",
    "version": 3
   },
   "file_extension": ".py",
   "mimetype": "text/x-python",
   "name": "python",
   "nbconvert_exporter": "python",
   "pygments_lexer": "ipython3",
   "version": "3.8.5"
  }
 },
 "nbformat": 4,
 "nbformat_minor": 5
}
