{
 "cells": [
  {
   "cell_type": "code",
   "execution_count": null,
   "id": "93d93ab5-bffe-4507-8d2f-228739f4e46a",
   "metadata": {},
   "outputs": [],
   "source": []
  },
  {
   "cell_type": "markdown",
   "id": "9e4c8d65-fa36-48ca-8900-0f95aaa972e2",
   "metadata": {},
   "source": [
    "# Import and settings"
   ]
  },
  {
   "cell_type": "code",
   "execution_count": 1,
   "id": "fbb5c2cc-d176-4b9d-ab39-af15cae0eaa8",
   "metadata": {
    "execution": {
     "iopub.execute_input": "2022-09-20T09:27:23.109849Z",
     "iopub.status.busy": "2022-09-20T09:27:23.109515Z",
     "iopub.status.idle": "2022-09-20T09:27:23.124388Z",
     "shell.execute_reply": "2022-09-20T09:27:23.123618Z",
     "shell.execute_reply.started": "2022-09-20T09:27:23.109803Z"
    },
    "tags": []
   },
   "outputs": [],
   "source": [
    "%load_ext autoreload\n",
    "%autoreload 2"
   ]
  },
  {
   "cell_type": "code",
   "execution_count": 2,
   "id": "fbfe0e12-c412-45d7-82d6-49b6b64e492b",
   "metadata": {
    "execution": {
     "iopub.execute_input": "2022-09-20T09:27:24.059025Z",
     "iopub.status.busy": "2022-09-20T09:27:24.058799Z",
     "iopub.status.idle": "2022-09-20T09:27:25.735145Z",
     "shell.execute_reply": "2022-09-20T09:27:25.734279Z",
     "shell.execute_reply.started": "2022-09-20T09:27:24.059004Z"
    },
    "tags": []
   },
   "outputs": [],
   "source": [
    "import warnings\n",
    "\n",
    "warnings.simplefilter(action=\"ignore\", category=FutureWarning)\n",
    "warnings.simplefilter(action=\"ignore\", category=DeprecationWarning)\n",
    "\n",
    "import os, sys, re, gc, joblib\n",
    "import numpy as np\n",
    "import numpy_groupies as npg\n",
    "import pandas as pd\n",
    "import scipy.sparse as sp\n",
    "\n",
    "import matplotlib.pyplot as plt\n",
    "from matplotlib import rcParams\n",
    "from matplotlib.colors import ListedColormap\n",
    "\n",
    "import seaborn as sn\n",
    "\n",
    "import anndata\n",
    "import scanpy as sc\n",
    "import sctk as sk\n",
    "\n",
    "\n",
    "rcParams[\"pdf.fonttype\"] = 42\n",
    "rcParams[\"ps.fonttype\"] = 42\n",
    "np.set_printoptions(linewidth=180)\n",
    "sc.settings.verbosity = 1\n",
    "sk.set_figsize((4, 4))\n",
    "expr_cmap = sk.expression_colormap()"
   ]
  },
  {
   "cell_type": "markdown",
   "id": "d4c50d57-853c-4647-a768-3a9f2cba9a86",
   "metadata": {},
   "source": [
    "# Load data"
   ]
  },
  {
   "cell_type": "code",
   "execution_count": 3,
   "id": "70676161-5980-433b-894d-41189d73be36",
   "metadata": {
    "execution": {
     "iopub.execute_input": "2022-09-20T09:27:28.909781Z",
     "iopub.status.busy": "2022-09-20T09:27:28.909466Z",
     "iopub.status.idle": "2022-09-20T09:27:53.607994Z",
     "shell.execute_reply": "2022-09-20T09:27:53.607269Z",
     "shell.execute_reply.started": "2022-09-20T09:27:28.909736Z"
    },
    "tags": []
   },
   "outputs": [],
   "source": [
    "pooled_ad = sc.read(\"h5ad/pooled_fetal_organoid.count_with_annot.h5ad\")"
   ]
  },
  {
   "cell_type": "code",
   "execution_count": 4,
   "id": "ded44731-e699-442a-9a53-9827d20692c0",
   "metadata": {
    "execution": {
     "iopub.execute_input": "2022-09-20T09:27:53.609318Z",
     "iopub.status.busy": "2022-09-20T09:27:53.609094Z",
     "iopub.status.idle": "2022-09-20T09:27:53.633043Z",
     "shell.execute_reply": "2022-09-20T09:27:53.632366Z",
     "shell.execute_reply.started": "2022-09-20T09:27:53.609295Z"
    },
    "tags": []
   },
   "outputs": [
    {
     "data": {
      "text/plain": [
       "AnnData object with n_obs × n_vars = 310368 × 46794\n",
       "    obs: 'dataset', 'donor', 'pcw', 'day', 'sample_id', 'fetal_annot', 'organoid_annot', 'pooled_annot', 'chemistry', 'gender', 'sorting'\n",
       "    var: 'mito', 'ribo', 'hb', 'n_counts', 'n_cells'"
      ]
     },
     "execution_count": 4,
     "metadata": {},
     "output_type": "execute_result"
    }
   ],
   "source": [
    "pooled_ad"
   ]
  },
  {
   "cell_type": "code",
   "execution_count": 5,
   "id": "d9750e1c-4d94-4200-af7f-3e64e18347dc",
   "metadata": {
    "execution": {
     "iopub.execute_input": "2022-09-20T09:27:53.634358Z",
     "iopub.status.busy": "2022-09-20T09:27:53.634151Z",
     "iopub.status.idle": "2022-09-20T09:27:53.655229Z",
     "shell.execute_reply": "2022-09-20T09:27:53.654655Z",
     "shell.execute_reply.started": "2022-09-20T09:27:53.634336Z"
    },
    "tags": []
   },
   "outputs": [
    {
     "data": {
      "text/plain": [
       "array([5., 1., 1., ..., 1., 1., 1.], dtype=float32)"
      ]
     },
     "execution_count": 5,
     "metadata": {},
     "output_type": "execute_result"
    }
   ],
   "source": [
    "pooled_ad.X.data"
   ]
  },
  {
   "cell_type": "code",
   "execution_count": 6,
   "id": "2a7ad75d-e11f-454a-9345-1d92e156fa1b",
   "metadata": {
    "execution": {
     "iopub.execute_input": "2022-09-20T09:27:53.656440Z",
     "iopub.status.busy": "2022-09-20T09:27:53.656237Z",
     "iopub.status.idle": "2022-09-20T09:27:53.676018Z",
     "shell.execute_reply": "2022-09-20T09:27:53.675399Z",
     "shell.execute_reply.started": "2022-09-20T09:27:53.656419Z"
    },
    "tags": []
   },
   "outputs": [
    {
     "data": {
      "text/plain": [
       "['fetal_ASDC',\n",
       " 'fetal_Adipocytes',\n",
       " 'fetal_Arterial',\n",
       " 'fetal_B cell',\n",
       " 'fetal_Basal',\n",
       " 'fetal_CD4 T cell',\n",
       " 'fetal_CD8 T cell',\n",
       " 'fetal_Capillary (venular tip)',\n",
       " 'fetal_Capillary/postcapillary venule',\n",
       " 'fetal_Companion layer',\n",
       " 'fetal_Cuticle/cortex',\n",
       " 'fetal_DC1',\n",
       " 'fetal_DC2',\n",
       " 'fetal_Dermal condensate',\n",
       " 'fetal_Dermal papillia',\n",
       " 'fetal_Early LE',\n",
       " 'fetal_Early endothelial cell',\n",
       " 'fetal_Early erythroid',\n",
       " 'fetal_Early erythroid (embryonic)',\n",
       " 'fetal_Early myocytes',\n",
       " 'fetal_Eo/baso/mast cell progenitor',\n",
       " 'fetal_Erythroid (embryonic)',\n",
       " 'fetal_Erythroid (fetal)',\n",
       " 'fetal_FRZB+ early fibroblast',\n",
       " 'fetal_HOXC5+ early fibroblast',\n",
       " 'fetal_HSC',\n",
       " 'fetal_ILC2',\n",
       " 'fetal_ILC3',\n",
       " 'fetal_Immature basal',\n",
       " 'fetal_Immature suprabasal',\n",
       " 'fetal_Inflammatory DC',\n",
       " 'fetal_Innate T type1',\n",
       " 'fetal_Innate T type3',\n",
       " 'fetal_Inner root sheath',\n",
       " 'fetal_Iron-recycling macrophage',\n",
       " 'fetal_LC',\n",
       " 'fetal_LE',\n",
       " 'fetal_LMCD1+ mural cell',\n",
       " 'fetal_LTi',\n",
       " 'fetal_LYVE1++ macrophage',\n",
       " 'fetal_Lymphoid progenitor',\n",
       " 'fetal_MEMP - Early erythroid',\n",
       " 'fetal_MEMP - Megak',\n",
       " 'fetal_MHCII+ macrophage',\n",
       " 'fetal_Mast cell (earliest)',\n",
       " 'fetal_Mast cell (medium)',\n",
       " 'fetal_Mast cell (most mature)',\n",
       " 'fetal_Matrix/placode',\n",
       " 'fetal_Megakaryocyte',\n",
       " 'fetal_Melanoblast',\n",
       " 'fetal_Melanocyte',\n",
       " 'fetal_Monocyte',\n",
       " 'fetal_Monocyte (activated/differentiating)',\n",
       " 'fetal_Monocyte precursor',\n",
       " 'fetal_Myelinating Schwann cells',\n",
       " 'fetal_Myoblasts',\n",
       " 'fetal_Myocytes',\n",
       " 'fetal_Myofibroblasts',\n",
       " 'fetal_NK cell',\n",
       " 'fetal_Neuroendocrine',\n",
       " 'fetal_Neuron progenitors',\n",
       " 'fetal_Neutrophil1',\n",
       " 'fetal_Neutrophil2',\n",
       " 'fetal_Outer root sheath',\n",
       " 'fetal_PEAR1+ fibroblast',\n",
       " 'fetal_PID1+ schwann cellls',\n",
       " 'fetal_PLN+ mural cell',\n",
       " 'fetal_POSTN+ basal',\n",
       " 'fetal_Pericytes',\n",
       " 'fetal_Periderm',\n",
       " 'fetal_Postcapillary venule',\n",
       " 'fetal_Pre B cell',\n",
       " 'fetal_Pre pro B cell',\n",
       " 'fetal_Pre-dermal condensate',\n",
       " 'fetal_Pro B cell',\n",
       " 'fetal_SPP1+ proliferating neuron proneitors',\n",
       " 'fetal_Schwann/Schwann precursors',\n",
       " 'fetal_Suprabasal IFE',\n",
       " 'fetal_TREM2+ macrophage',\n",
       " 'fetal_Tip cell (arterial)',\n",
       " 'fetal_Treg',\n",
       " 'fetal_WNT2+ fibroblast',\n",
       " 'fetal_pDC',\n",
       " 'organoid_Adipocytes',\n",
       " 'organoid_Basal',\n",
       " 'organoid_Companion layer',\n",
       " 'organoid_Cuticle/cortex',\n",
       " 'organoid_Dermal condensate',\n",
       " 'organoid_Dermal papillia',\n",
       " 'organoid_Early myocytes',\n",
       " 'organoid_FRZB+ early fibroblast',\n",
       " 'organoid_HOXC5+ early fibroblast',\n",
       " 'organoid_Immature basal',\n",
       " 'organoid_Immature suprabasal',\n",
       " 'organoid_Inner root sheath',\n",
       " 'organoid_Matrix/placode',\n",
       " 'organoid_Melanoblast',\n",
       " 'organoid_Melanocyte',\n",
       " 'organoid_Merkel cells',\n",
       " 'organoid_Mural cell',\n",
       " 'organoid_Myelinating Schwann cells',\n",
       " 'organoid_Myoblasts',\n",
       " 'organoid_Myocytes',\n",
       " 'organoid_Neuroepithelial cells',\n",
       " 'organoid_Neuron progenitors',\n",
       " 'organoid_Outer root sheath',\n",
       " 'organoid_POSTN+ basal',\n",
       " 'organoid_POSTN+ fibroblast',\n",
       " 'organoid_Periderm',\n",
       " 'organoid_Pre-dermal condensate',\n",
       " 'organoid_Proliferating melanoblasts',\n",
       " 'organoid_SPP1+ proliferating neuron proneitors',\n",
       " 'organoid_Schwann/Schwann precursors',\n",
       " 'organoid_Secreting neuron',\n",
       " 'organoid_Suprabasal IFE',\n",
       " 'organoid_Tip cell (arterial)',\n",
       " 'organoid_Uncertain']"
      ]
     },
     "execution_count": 6,
     "metadata": {},
     "output_type": "execute_result"
    }
   ],
   "source": [
    "pooled_ad.obs.pooled_annot.cat.categories.tolist()"
   ]
  },
  {
   "cell_type": "markdown",
   "id": "07026ff4-e3a4-41d0-bac0-88434dd98bec",
   "metadata": {},
   "source": [
    "# Process"
   ]
  },
  {
   "cell_type": "markdown",
   "id": "3bca43e4-b500-4d13-a8a4-da50ef85a4d2",
   "metadata": {},
   "source": [
    "## Subset, split, normalise, etc"
   ]
  },
  {
   "cell_type": "code",
   "execution_count": 7,
   "id": "416697d4-ad1b-4b84-b91e-9a1eab48127b",
   "metadata": {
    "execution": {
     "iopub.execute_input": "2022-09-20T09:29:01.699217Z",
     "iopub.status.busy": "2022-09-20T09:29:01.698894Z",
     "iopub.status.idle": "2022-09-20T09:29:01.721294Z",
     "shell.execute_reply": "2022-09-20T09:29:01.720575Z",
     "shell.execute_reply.started": "2022-09-20T09:29:01.699182Z"
    },
    "tags": []
   },
   "outputs": [],
   "source": [
    "pooled_ad.obs.pooled_annot.cat.rename_categories(\n",
    "    {\"organoid_POSTN+ fibroblast\": \"organoid_WNT2+ fibroblast\"}, inplace=True\n",
    ")"
   ]
  },
  {
   "cell_type": "code",
   "execution_count": 47,
   "id": "6deda495-477a-4933-a1a6-7c8962da6449",
   "metadata": {
    "execution": {
     "iopub.execute_input": "2022-09-20T11:02:50.802770Z",
     "iopub.status.busy": "2022-09-20T11:02:50.802259Z",
     "iopub.status.idle": "2022-09-20T11:02:50.853323Z",
     "shell.execute_reply": "2022-09-20T11:02:50.852548Z",
     "shell.execute_reply.started": "2022-09-20T11:02:50.802736Z"
    },
    "tags": []
   },
   "outputs": [],
   "source": [
    "k_included = pooled_ad.obs.pooled_annot.isin(\n",
    "    [\n",
    "        \"fetal_Basal\",\n",
    "        \"fetal_Companion layer\",\n",
    "        \"fetal_Cuticle/cortex\",\n",
    "        \"fetal_Immature basal\",\n",
    "        \"fetal_Immature suprabasal\",\n",
    "        \"fetal_Inner root sheath\",\n",
    "        \"fetal_Matrix/placode\",\n",
    "        \"fetal_Outer root sheath\",\n",
    "        \"fetal_Periderm\",\n",
    "        \"fetal_POSTN+ basal\",\n",
    "        \"fetal_Suprabasal IFE\",\n",
    "        \"fetal_FRZB+ early fibroblast\",\n",
    "        \"fetal_HOXC5+ early fibroblast\",\n",
    "        \"fetal_WNT2+ fibroblast\",\n",
    "        # \"fetal_PEAR1+ fibroblast\",\n",
    "        \"fetal_Pre-dermal condensate\",\n",
    "        \"fetal_Dermal condensate\",\n",
    "        \"fetal_Dermal papillia\",\n",
    "        \"organoid_Basal\",\n",
    "        \"organoid_Companion layer\",\n",
    "        \"organoid_Cuticle/cortex\",\n",
    "        \"organoid_Immature basal\",\n",
    "        \"organoid_Immature suprabasal\",\n",
    "        \"organoid_Inner root sheath\",\n",
    "        \"organoid_Matrix/placode\",\n",
    "        \"organoid_Outer root sheath\",\n",
    "        \"organoid_Periderm\",\n",
    "        \"organoid_POSTN+ basal\",\n",
    "        \"organoid_Suprabasal IFE\",\n",
    "        \"organoid_FRZB+ early fibroblast\",\n",
    "        \"organoid_HOXC5+ early fibroblast\",\n",
    "        \"organoid_WNT2+ fibroblast\",\n",
    "        # \"organoid_PEAR1+ fibroblast\",\n",
    "        \"organoid_Pre-dermal condensate\",\n",
    "        \"organoid_Dermal condensate\",\n",
    "        \"organoid_Dermal papillia\",\n",
    "    ]\n",
    ")"
   ]
  },
  {
   "cell_type": "code",
   "execution_count": 48,
   "id": "ee0e2850-c19e-48a6-bf0a-c5923424b480",
   "metadata": {
    "execution": {
     "iopub.execute_input": "2022-09-20T11:02:54.914776Z",
     "iopub.status.busy": "2022-09-20T11:02:54.914528Z",
     "iopub.status.idle": "2022-09-20T11:02:55.024090Z",
     "shell.execute_reply": "2022-09-20T11:02:55.023353Z",
     "shell.execute_reply.started": "2022-09-20T11:02:54.914752Z"
    },
    "tags": []
   },
   "outputs": [],
   "source": [
    "ad1 = pooled_ad[k_included]"
   ]
  },
  {
   "cell_type": "code",
   "execution_count": 49,
   "id": "1501814f-f980-4bf0-beed-d02a65f8cd49",
   "metadata": {
    "execution": {
     "iopub.execute_input": "2022-09-20T11:02:55.179040Z",
     "iopub.status.busy": "2022-09-20T11:02:55.178830Z",
     "iopub.status.idle": "2022-09-20T11:02:58.731311Z",
     "shell.execute_reply": "2022-09-20T11:02:58.730606Z",
     "shell.execute_reply.started": "2022-09-20T11:02:55.179001Z"
    },
    "tags": []
   },
   "outputs": [],
   "source": [
    "ads = sk.split_by_group(ad1, groupby=\"dataset\")"
   ]
  },
  {
   "cell_type": "code",
   "execution_count": 50,
   "id": "4da4d0de-76a8-4b34-b64a-ca491b9423ed",
   "metadata": {
    "execution": {
     "iopub.execute_input": "2022-09-20T11:02:58.732725Z",
     "iopub.status.busy": "2022-09-20T11:02:58.732524Z",
     "iopub.status.idle": "2022-09-20T11:02:58.757433Z",
     "shell.execute_reply": "2022-09-20T11:02:58.756762Z",
     "shell.execute_reply.started": "2022-09-20T11:02:58.732692Z"
    },
    "tags": []
   },
   "outputs": [
    {
     "data": {
      "text/plain": [
       "{'fetal': AnnData object with n_obs × n_vars = 90104 × 46794\n",
       "     obs: 'dataset', 'donor', 'pcw', 'day', 'sample_id', 'fetal_annot', 'organoid_annot', 'pooled_annot', 'chemistry', 'gender', 'sorting'\n",
       "     var: 'mito', 'ribo', 'hb', 'n_counts', 'n_cells',\n",
       " 'organoid': AnnData object with n_obs × n_vars = 105303 × 46794\n",
       "     obs: 'dataset', 'donor', 'pcw', 'day', 'sample_id', 'fetal_annot', 'organoid_annot', 'pooled_annot', 'chemistry', 'gender', 'sorting'\n",
       "     var: 'mito', 'ribo', 'hb', 'n_counts', 'n_cells'}"
      ]
     },
     "execution_count": 50,
     "metadata": {},
     "output_type": "execute_result"
    }
   ],
   "source": [
    "ads"
   ]
  },
  {
   "cell_type": "code",
   "execution_count": 51,
   "id": "6bdeac1f-e80c-4d1a-87e0-903d38df8475",
   "metadata": {
    "execution": {
     "iopub.execute_input": "2022-09-20T11:02:58.758859Z",
     "iopub.status.busy": "2022-09-20T11:02:58.758663Z",
     "iopub.status.idle": "2022-09-20T11:03:12.558348Z",
     "shell.execute_reply": "2022-09-20T11:03:12.557057Z",
     "shell.execute_reply.started": "2022-09-20T11:02:58.758837Z"
    },
    "tags": []
   },
   "outputs": [],
   "source": [
    "for name, ad in ads.items():\n",
    "    sc.pp.filter_genes(ad, min_counts=1)\n",
    "    sc.pp.normalize_total(ad, target_sum=1e4)\n",
    "    sc.pp.log1p(ad)"
   ]
  },
  {
   "cell_type": "code",
   "execution_count": 52,
   "id": "b92f9808-d362-4b24-9838-bb2347611c3a",
   "metadata": {
    "execution": {
     "iopub.execute_input": "2022-09-20T11:03:12.559915Z",
     "iopub.status.busy": "2022-09-20T11:03:12.559681Z",
     "iopub.status.idle": "2022-09-20T11:03:12.583563Z",
     "shell.execute_reply": "2022-09-20T11:03:12.582835Z",
     "shell.execute_reply.started": "2022-09-20T11:03:12.559892Z"
    },
    "tags": []
   },
   "outputs": [
    {
     "data": {
      "text/plain": [
       "array([0.43932745, 0.43932745, 0.9764408 , ..., 1.5827801 , 1.5827801 , 1.5827801 ], dtype=float32)"
      ]
     },
     "execution_count": 52,
     "metadata": {},
     "output_type": "execute_result"
    }
   ],
   "source": [
    "ads[\"fetal\"].X.data"
   ]
  },
  {
   "cell_type": "markdown",
   "id": "86e260f5-e1ab-453a-a4f1-3ca0a1728d96",
   "metadata": {},
   "source": [
    "## Extract and prepare data to plot"
   ]
  },
  {
   "cell_type": "code",
   "execution_count": 53,
   "id": "b6f80398-bad5-43de-baeb-28a50c723f26",
   "metadata": {
    "execution": {
     "iopub.execute_input": "2022-09-20T11:03:12.584674Z",
     "iopub.status.busy": "2022-09-20T11:03:12.584480Z",
     "iopub.status.idle": "2022-09-20T11:03:12.621225Z",
     "shell.execute_reply": "2022-09-20T11:03:12.620499Z",
     "shell.execute_reply.started": "2022-09-20T11:03:12.584653Z"
    },
    "tags": []
   },
   "outputs": [],
   "source": [
    "fetal_genes = [\"ALPL\", \"MEF2C\", \"TWIST2\"]\n",
    "organoid_genes = fetal_genes"
   ]
  },
  {
   "cell_type": "code",
   "execution_count": 54,
   "id": "8368b917-b810-43ff-b55a-3045b6a38a1a",
   "metadata": {
    "execution": {
     "iopub.execute_input": "2022-09-20T11:03:12.622347Z",
     "iopub.status.busy": "2022-09-20T11:03:12.622171Z",
     "iopub.status.idle": "2022-09-20T11:03:13.529480Z",
     "shell.execute_reply": "2022-09-20T11:03:13.528572Z",
     "shell.execute_reply.started": "2022-09-20T11:03:12.622327Z"
    },
    "tags": []
   },
   "outputs": [],
   "source": [
    "fetal_x = (\n",
    "    pd.concat(\n",
    "        [pd.Series(ads[\"fetal\"].obs_vector(g), index=ads[\"fetal\"].obs_names) for g in fetal_genes],\n",
    "        axis=1,\n",
    "    )\n",
    "    .rename(columns={i: g for i, g in enumerate(fetal_genes)})\n",
    "    .assign(annot=ads[\"fetal\"].obs.pooled_annot.str.replace(\"fetal_\", \"\"))\n",
    ")"
   ]
  },
  {
   "cell_type": "code",
   "execution_count": 55,
   "id": "c33a2f14-18e0-4a24-95c0-d692b781f6e7",
   "metadata": {
    "execution": {
     "iopub.execute_input": "2022-09-20T11:03:13.530850Z",
     "iopub.status.busy": "2022-09-20T11:03:13.530640Z",
     "iopub.status.idle": "2022-09-20T11:03:13.647376Z",
     "shell.execute_reply": "2022-09-20T11:03:13.646572Z",
     "shell.execute_reply.started": "2022-09-20T11:03:13.530826Z"
    },
    "tags": []
   },
   "outputs": [],
   "source": [
    "fetal_df = (\n",
    "    fetal_x.melt(id_vars=[\"annot\"], var_name=\"gene\", value_name=\"expression\")\n",
    "    .groupby([\"annot\", \"gene\"])\n",
    "    .agg(\n",
    "        mean=pd.NamedAgg(column=\"expression\", aggfunc=\"mean\"),\n",
    "        frac=pd.NamedAgg(column=\"expression\", aggfunc=lambda x: (x > 0).mean()),\n",
    "    )\n",
    "    .reset_index()\n",
    "    .assign(dataset=\"fetal\")\n",
    ")"
   ]
  },
  {
   "cell_type": "code",
   "execution_count": 56,
   "id": "c64e59c1-14f1-4079-b46b-8b7802283300",
   "metadata": {
    "execution": {
     "iopub.execute_input": "2022-09-20T11:03:13.649341Z",
     "iopub.status.busy": "2022-09-20T11:03:13.649125Z",
     "iopub.status.idle": "2022-09-20T11:03:14.564433Z",
     "shell.execute_reply": "2022-09-20T11:03:14.563310Z",
     "shell.execute_reply.started": "2022-09-20T11:03:13.649318Z"
    },
    "tags": []
   },
   "outputs": [],
   "source": [
    "organoid_x = (\n",
    "    pd.concat(\n",
    "        [\n",
    "            pd.Series(ads[\"organoid\"].obs_vector(g), index=ads[\"organoid\"].obs_names)\n",
    "            for g in organoid_genes\n",
    "        ],\n",
    "        axis=1,\n",
    "    )\n",
    "    .rename(columns={i: g for i, g in enumerate(organoid_genes)})\n",
    "    .assign(annot=ads[\"organoid\"].obs.pooled_annot.str.replace(\"organoid_\", \"\"))\n",
    ")"
   ]
  },
  {
   "cell_type": "code",
   "execution_count": 57,
   "id": "c748d6b0-5ec4-45d8-8e65-648df145273c",
   "metadata": {
    "execution": {
     "iopub.execute_input": "2022-09-20T11:03:14.565951Z",
     "iopub.status.busy": "2022-09-20T11:03:14.565761Z",
     "iopub.status.idle": "2022-09-20T11:03:14.687663Z",
     "shell.execute_reply": "2022-09-20T11:03:14.686885Z",
     "shell.execute_reply.started": "2022-09-20T11:03:14.565927Z"
    },
    "tags": []
   },
   "outputs": [],
   "source": [
    "organoid_df = (\n",
    "    organoid_x.melt(id_vars=[\"annot\"], var_name=\"gene\", value_name=\"expression\")\n",
    "    .groupby([\"annot\", \"gene\"])\n",
    "    .agg(\n",
    "        mean=pd.NamedAgg(column=\"expression\", aggfunc=\"mean\"),\n",
    "        frac=pd.NamedAgg(column=\"expression\", aggfunc=lambda x: (x > 0).mean()),\n",
    "    )\n",
    "    .reset_index()\n",
    "    .assign(dataset=\"organoid\")\n",
    ")"
   ]
  },
  {
   "cell_type": "code",
   "execution_count": 58,
   "id": "5062d591-fbfd-4362-8bed-f23445d46119",
   "metadata": {
    "execution": {
     "iopub.execute_input": "2022-09-20T11:03:14.689083Z",
     "iopub.status.busy": "2022-09-20T11:03:14.688866Z",
     "iopub.status.idle": "2022-09-20T11:03:14.712076Z",
     "shell.execute_reply": "2022-09-20T11:03:14.711343Z",
     "shell.execute_reply.started": "2022-09-20T11:03:14.689061Z"
    },
    "tags": []
   },
   "outputs": [],
   "source": [
    "df = pd.concat([fetal_df, organoid_df])"
   ]
  },
  {
   "cell_type": "code",
   "execution_count": 59,
   "id": "c776a817-df94-4251-9d57-edec373cc206",
   "metadata": {
    "execution": {
     "iopub.execute_input": "2022-09-20T11:03:14.713078Z",
     "iopub.status.busy": "2022-09-20T11:03:14.712890Z",
     "iopub.status.idle": "2022-09-20T11:03:14.731382Z",
     "shell.execute_reply": "2022-09-20T11:03:14.730749Z",
     "shell.execute_reply.started": "2022-09-20T11:03:14.713040Z"
    },
    "tags": []
   },
   "outputs": [],
   "source": [
    "df[\"gene2\"] = df.dataset.astype(str) + \" \" + df.gene.astype(str)"
   ]
  },
  {
   "cell_type": "code",
   "execution_count": 60,
   "id": "46f3d075-7193-4568-867b-988881dc9ad3",
   "metadata": {
    "execution": {
     "iopub.execute_input": "2022-09-20T11:03:14.732416Z",
     "iopub.status.busy": "2022-09-20T11:03:14.732209Z",
     "iopub.status.idle": "2022-09-20T11:03:14.753892Z",
     "shell.execute_reply": "2022-09-20T11:03:14.753236Z",
     "shell.execute_reply.started": "2022-09-20T11:03:14.732394Z"
    },
    "tags": []
   },
   "outputs": [],
   "source": [
    "df[\"annot\"] = df[\"annot\"].astype(\n",
    "    pd.CategoricalDtype(\n",
    "        categories=[\n",
    "            \"Periderm\",\n",
    "            \"Immature basal\",\n",
    "            \"Immature suprabasal\",\n",
    "            \"POSTN+ basal\",\n",
    "            \"Basal\",\n",
    "            \"Suprabasal IFE\",\n",
    "            \"Outer root sheath\",\n",
    "            \"Companion layer\",\n",
    "            \"Inner root sheath\",\n",
    "            \"Matrix/placode\",\n",
    "            \"Cuticle/cortex\",\n",
    "            \"FRZB+ early fibroblast\",\n",
    "            \"HOXC5+ early fibroblast\",\n",
    "            \"WNT2+ fibroblast\",\n",
    "            # \"PEAR1+ fibroblast\",\n",
    "            \"Pre-dermal condensate\",\n",
    "            \"Dermal condensate\",\n",
    "            \"Dermal papillia\",\n",
    "        ],\n",
    "        ordered=True,\n",
    "    )\n",
    ")\n",
    "df[\"x\"] = df.annot.cat.codes\n",
    "df[\"gene2\"] = df[\"gene2\"].astype(\n",
    "    pd.CategoricalDtype(\n",
    "        categories=[\n",
    "            \"fetal ALPL\",\n",
    "            \"organoid ALPL\",\n",
    "            \"fetal MEF2C\",\n",
    "            \"organoid MEF2C\",\n",
    "            \"fetal TWIST2\",\n",
    "            \"organoid TWIST2\",\n",
    "        ],\n",
    "        ordered=True,\n",
    "    )\n",
    ")\n",
    "df[\"y\"] = df.gene2.cat.codes"
   ]
  },
  {
   "cell_type": "code",
   "execution_count": 61,
   "id": "28dd966e-896f-43ec-b497-b2babeaea345",
   "metadata": {
    "execution": {
     "iopub.execute_input": "2022-09-20T11:03:14.754943Z",
     "iopub.status.busy": "2022-09-20T11:03:14.754767Z",
     "iopub.status.idle": "2022-09-20T11:03:14.792305Z",
     "shell.execute_reply": "2022-09-20T11:03:14.791629Z",
     "shell.execute_reply.started": "2022-09-20T11:03:14.754921Z"
    },
    "tags": []
   },
   "outputs": [],
   "source": [
    "df = df.merge(\n",
    "    df.groupby(\"gene2\")[\"mean\"].max().rename(\"max_mean\"),\n",
    "    how=\"left\",\n",
    "    left_on=\"gene2\",\n",
    "    right_index=True,\n",
    ")\n",
    "df[\"mean2\"] = df[\"mean\"] / df[\"max_mean\"]"
   ]
  },
  {
   "cell_type": "code",
   "execution_count": 62,
   "id": "ba64e984-1bed-4eaf-8c83-42523f81e6ef",
   "metadata": {
    "execution": {
     "iopub.execute_input": "2022-09-20T11:03:14.793244Z",
     "iopub.status.busy": "2022-09-20T11:03:14.793032Z",
     "iopub.status.idle": "2022-09-20T11:03:14.812320Z",
     "shell.execute_reply": "2022-09-20T11:03:14.811610Z",
     "shell.execute_reply.started": "2022-09-20T11:03:14.793223Z"
    },
    "tags": []
   },
   "outputs": [
    {
     "data": {
      "text/plain": [
       "Index(['Periderm', 'Immature basal', 'Immature suprabasal', 'POSTN+ basal',\n",
       "       'Basal', 'Suprabasal IFE', 'Outer root sheath', 'Companion layer',\n",
       "       'Inner root sheath', 'Matrix/placode', 'Cuticle/cortex',\n",
       "       'FRZB+ early fibroblast', 'HOXC5+ early fibroblast', 'WNT2+ fibroblast',\n",
       "       'Pre-dermal condensate', 'Dermal condensate', 'Dermal papillia'],\n",
       "      dtype='object')"
      ]
     },
     "execution_count": 62,
     "metadata": {},
     "output_type": "execute_result"
    }
   ],
   "source": [
    "df.annot.cat.categories"
   ]
  },
  {
   "cell_type": "code",
   "execution_count": 63,
   "id": "26b192b3-c2b9-43bc-aa86-370be17d5235",
   "metadata": {
    "execution": {
     "iopub.execute_input": "2022-09-20T11:03:14.813267Z",
     "iopub.status.busy": "2022-09-20T11:03:14.813105Z",
     "iopub.status.idle": "2022-09-20T11:03:14.840189Z",
     "shell.execute_reply": "2022-09-20T11:03:14.839547Z",
     "shell.execute_reply.started": "2022-09-20T11:03:14.813247Z"
    },
    "tags": []
   },
   "outputs": [
    {
     "data": {
      "text/html": [
       "<div>\n",
       "<style scoped>\n",
       "    .dataframe tbody tr th:only-of-type {\n",
       "        vertical-align: middle;\n",
       "    }\n",
       "\n",
       "    .dataframe tbody tr th {\n",
       "        vertical-align: top;\n",
       "    }\n",
       "\n",
       "    .dataframe thead th {\n",
       "        text-align: right;\n",
       "    }\n",
       "</style>\n",
       "<table border=\"1\" class=\"dataframe\">\n",
       "  <thead>\n",
       "    <tr style=\"text-align: right;\">\n",
       "      <th></th>\n",
       "      <th>annot</th>\n",
       "      <th>gene</th>\n",
       "      <th>mean</th>\n",
       "      <th>frac</th>\n",
       "      <th>dataset</th>\n",
       "      <th>gene2</th>\n",
       "      <th>x</th>\n",
       "      <th>y</th>\n",
       "      <th>max_mean</th>\n",
       "      <th>mean2</th>\n",
       "    </tr>\n",
       "  </thead>\n",
       "  <tbody>\n",
       "    <tr>\n",
       "      <th>0</th>\n",
       "      <td>Basal</td>\n",
       "      <td>ALPL</td>\n",
       "      <td>0.005966</td>\n",
       "      <td>0.011043</td>\n",
       "      <td>fetal</td>\n",
       "      <td>fetal ALPL</td>\n",
       "      <td>4</td>\n",
       "      <td>0</td>\n",
       "      <td>1.422544</td>\n",
       "      <td>0.004194</td>\n",
       "    </tr>\n",
       "    <tr>\n",
       "      <th>1</th>\n",
       "      <td>Basal</td>\n",
       "      <td>MEF2C</td>\n",
       "      <td>0.007456</td>\n",
       "      <td>0.009816</td>\n",
       "      <td>fetal</td>\n",
       "      <td>fetal MEF2C</td>\n",
       "      <td>4</td>\n",
       "      <td>2</td>\n",
       "      <td>0.982398</td>\n",
       "      <td>0.007590</td>\n",
       "    </tr>\n",
       "    <tr>\n",
       "      <th>2</th>\n",
       "      <td>Basal</td>\n",
       "      <td>TWIST2</td>\n",
       "      <td>0.006778</td>\n",
       "      <td>0.008589</td>\n",
       "      <td>fetal</td>\n",
       "      <td>fetal TWIST2</td>\n",
       "      <td>4</td>\n",
       "      <td>4</td>\n",
       "      <td>1.514085</td>\n",
       "      <td>0.004477</td>\n",
       "    </tr>\n",
       "    <tr>\n",
       "      <th>3</th>\n",
       "      <td>Companion layer</td>\n",
       "      <td>ALPL</td>\n",
       "      <td>0.040703</td>\n",
       "      <td>0.074074</td>\n",
       "      <td>fetal</td>\n",
       "      <td>fetal ALPL</td>\n",
       "      <td>7</td>\n",
       "      <td>0</td>\n",
       "      <td>1.422544</td>\n",
       "      <td>0.028613</td>\n",
       "    </tr>\n",
       "    <tr>\n",
       "      <th>4</th>\n",
       "      <td>Companion layer</td>\n",
       "      <td>MEF2C</td>\n",
       "      <td>0.000000</td>\n",
       "      <td>0.000000</td>\n",
       "      <td>fetal</td>\n",
       "      <td>fetal MEF2C</td>\n",
       "      <td>7</td>\n",
       "      <td>2</td>\n",
       "      <td>0.982398</td>\n",
       "      <td>0.000000</td>\n",
       "    </tr>\n",
       "  </tbody>\n",
       "</table>\n",
       "</div>"
      ],
      "text/plain": [
       "             annot    gene      mean      frac dataset         gene2  x  y  \\\n",
       "0            Basal    ALPL  0.005966  0.011043   fetal    fetal ALPL  4  0   \n",
       "1            Basal   MEF2C  0.007456  0.009816   fetal   fetal MEF2C  4  2   \n",
       "2            Basal  TWIST2  0.006778  0.008589   fetal  fetal TWIST2  4  4   \n",
       "3  Companion layer    ALPL  0.040703  0.074074   fetal    fetal ALPL  7  0   \n",
       "4  Companion layer   MEF2C  0.000000  0.000000   fetal   fetal MEF2C  7  2   \n",
       "\n",
       "   max_mean     mean2  \n",
       "0  1.422544  0.004194  \n",
       "1  0.982398  0.007590  \n",
       "2  1.514085  0.004477  \n",
       "3  1.422544  0.028613  \n",
       "4  0.982398  0.000000  "
      ]
     },
     "execution_count": 63,
     "metadata": {},
     "output_type": "execute_result"
    }
   ],
   "source": [
    "df.head()"
   ]
  },
  {
   "cell_type": "markdown",
   "id": "5ad0e153-d2c3-4100-9f78-836697856999",
   "metadata": {},
   "source": [
    "## Plot"
   ]
  },
  {
   "cell_type": "code",
   "execution_count": 64,
   "id": "7a6c6c02-83f8-4e33-b224-abf75501bb19",
   "metadata": {
    "execution": {
     "iopub.execute_input": "2022-09-20T11:03:14.841330Z",
     "iopub.status.busy": "2022-09-20T11:03:14.841130Z",
     "iopub.status.idle": "2022-09-20T11:03:15.514275Z",
     "shell.execute_reply": "2022-09-20T11:03:15.513478Z",
     "shell.execute_reply.started": "2022-09-20T11:03:14.841292Z"
    },
    "tags": []
   },
   "outputs": [
    {
     "data": {
      "image/png": "[encoded data removed]",
      "text/plain": [
       "<Figure size 576x180 with 3 Axes>"
      ]
     },
     "metadata": {
      "needs_background": "light"
     },
     "output_type": "display_data"
    }
   ],
   "source": [
    "sk.set_figsize((8, 2.5))\n",
    "\n",
    "# Main axes\n",
    "ax = sn.scatterplot(\n",
    "    data=df,\n",
    "    x=\"x\",\n",
    "    y=\"y\",\n",
    "    hue=\"mean2\",\n",
    "    size=\"frac\",\n",
    "    palette=\"OrRd\",\n",
    "    edgecolor=\"k\",\n",
    "    sizes=(0, 200),\n",
    "    legend=False,\n",
    ")\n",
    "ax.set_xticks(np.arange(df.annot.cat.categories.size))\n",
    "ax.set_xticklabels(df.annot.cat.categories, rotation=90)\n",
    "ax.set_yticks(np.arange(df.gene2.cat.categories.size))\n",
    "ax.set_yticklabels(df.gene2.cat.categories)\n",
    "ax.set_ylim(df.gene2.cat.categories.size - 0.5, -0.5)\n",
    "for ypos in [i - 0.5 for i in range(df.gene2.cat.categories.size) if i > 0 and i % 2 == 0]:\n",
    "    ax.axhline(y=ypos, linewidth=1, c=\"k\", linestyle=\"--\")\n",
    "ax.set_xlabel(\"\")\n",
    "ax.set_ylabel(\"\")\n",
    "\n",
    "# Make legend\n",
    "fig = ax.get_figure()\n",
    "main_width = 0.8\n",
    "gap_width = 0.025\n",
    "fig.subplots_adjust(right=main_width)\n",
    "\n",
    "# Dot size legend\n",
    "dlg_ax = fig.add_axes([main_width + gap_width, 0.55, 1 - main_width - gap_width, 0.1])\n",
    "sn.scatterplot(\n",
    "    x=[20, 40, 60, 80, 100],\n",
    "    y=[0, 0, 0, 0, 0],\n",
    "    size=[20, 40, 60, 80, 100],\n",
    "    sizes=(40, 200),\n",
    "    color=[(0.5, 0.5, 0.5)],\n",
    "    edgecolor=\"black\",\n",
    "    ax=dlg_ax,\n",
    "    legend=False,\n",
    ")\n",
    "sn.despine(ax=dlg_ax, left=True, bottom=True)\n",
    "dlg_ax.get_yaxis().set_visible(False)\n",
    "dlg_ax.set_xticks([20, 40, 60, 80, 100])\n",
    "dlg_ax.set_xlim(10, 110)\n",
    "dlg_ax.set_title(\"Fraction of cells\\nin group (%)\")\n",
    "\n",
    "# Colorbar\n",
    "cb_ax = fig.add_axes([main_width + gap_width, 0.2, 1 - main_width - gap_width, 0.05])\n",
    "cb_ax.set_title(\"Mean expression\\nin group\")\n",
    "fig.colorbar(\n",
    "    plt.cm.ScalarMappable(\n",
    "        cmap=\"OrRd\",\n",
    "    ),\n",
    "    cax=cb_ax,\n",
    "    orientation=\"horizontal\",\n",
    ")\n",
    "sn.despine(ax=cb_ax, left=True, bottom=True)\n",
    "cb_ax.get_yaxis().set_visible(False)"
   ]
  },
  {
   "cell_type": "code",
   "execution_count": 65,
   "id": "432050ab-7924-4156-a7b1-2bb1534e1546",
   "metadata": {
    "execution": {
     "iopub.execute_input": "2022-09-20T11:03:19.394097Z",
     "iopub.status.busy": "2022-09-20T11:03:19.393784Z",
     "iopub.status.idle": "2022-09-20T11:03:19.635951Z",
     "shell.execute_reply": "2022-09-20T11:03:19.635202Z",
     "shell.execute_reply.started": "2022-09-20T11:03:19.394054Z"
    },
    "tags": []
   },
   "outputs": [],
   "source": [
    "fig.savefig(\"figures/fig3G.20220920.pdf\", bbox_inches=\"tight\")"
   ]
  },
  {
   "cell_type": "code",
   "execution_count": 66,
   "id": "4676fc05-7368-4b1a-8f87-4cd4ed560aff",
   "metadata": {
    "execution": {
     "iopub.execute_input": "2022-09-20T11:03:24.512354Z",
     "iopub.status.busy": "2022-09-20T11:03:24.512077Z",
     "iopub.status.idle": "2022-09-20T11:03:27.284981Z",
     "shell.execute_reply": "2022-09-20T11:03:27.284012Z",
     "shell.execute_reply.started": "2022-09-20T11:03:24.512328Z"
    },
    "tags": []
   },
   "outputs": [],
   "source": [
    "!rclone copy --drive-shared-with-me figures/fig3G.20220920.pdf \"google:/Fetal Skin/Figures/Figs_from_Ni/\""
   ]
  },
  {
   "cell_type": "code",
   "execution_count": null,
   "id": "5688e273-eceb-4847-920c-ec09c31fee62",
   "metadata": {},
   "outputs": [],
   "source": []
  }
 ],
 "metadata": {
  "kernelspec": {
   "display_name": "scanpy16",
   "language": "python",
   "name": "scanpy-new"
  },
  "language_info": {
   "codemirror_mode": {
    "name": "ipython",
    "version": 3
   },
   "file_extension": ".py",
   "mimetype": "text/x-python",
   "name": "python",
   "nbconvert_exporter": "python",
   "pygments_lexer": "ipython3",
   "version": "3.8.5"
  }
 },
 "nbformat": 4,
 "nbformat_minor": 5
}
