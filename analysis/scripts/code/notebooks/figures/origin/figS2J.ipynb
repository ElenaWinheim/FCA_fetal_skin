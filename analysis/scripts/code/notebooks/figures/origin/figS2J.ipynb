{
 "cells": [
  {
   "cell_type": "code",
   "execution_count": null,
   "id": "93d93ab5-bffe-4507-8d2f-228739f4e46a",
   "metadata": {},
   "outputs": [],
   "source": []
  },
  {
   "cell_type": "markdown",
   "id": "9e4c8d65-fa36-48ca-8900-0f95aaa972e2",
   "metadata": {},
   "source": [
    "# Import and settings"
   ]
  },
  {
   "cell_type": "code",
   "execution_count": 1,
   "id": "fbb5c2cc-d176-4b9d-ab39-af15cae0eaa8",
   "metadata": {
    "execution": {
     "iopub.execute_input": "2022-09-20T10:55:33.652170Z",
     "iopub.status.busy": "2022-09-20T10:55:33.651854Z",
     "iopub.status.idle": "2022-09-20T10:55:33.668728Z",
     "shell.execute_reply": "2022-09-20T10:55:33.667999Z",
     "shell.execute_reply.started": "2022-09-20T10:55:33.652107Z"
    },
    "tags": []
   },
   "outputs": [],
   "source": [
    "%load_ext autoreload\n",
    "%autoreload 2"
   ]
  },
  {
   "cell_type": "code",
   "execution_count": 2,
   "id": "fbfe0e12-c412-45d7-82d6-49b6b64e492b",
   "metadata": {
    "execution": {
     "iopub.execute_input": "2022-09-20T10:55:34.442809Z",
     "iopub.status.busy": "2022-09-20T10:55:34.442621Z",
     "iopub.status.idle": "2022-09-20T10:55:36.290364Z",
     "shell.execute_reply": "2022-09-20T10:55:36.289191Z",
     "shell.execute_reply.started": "2022-09-20T10:55:34.442786Z"
    },
    "tags": []
   },
   "outputs": [],
   "source": [
    "import warnings\n",
    "\n",
    "warnings.simplefilter(action=\"ignore\", category=FutureWarning)\n",
    "warnings.simplefilter(action=\"ignore\", category=DeprecationWarning)\n",
    "\n",
    "import os, sys, re, gc, joblib\n",
    "import numpy as np\n",
    "import numpy_groupies as npg\n",
    "import pandas as pd\n",
    "import scipy.sparse as sp\n",
    "\n",
    "import matplotlib.pyplot as plt\n",
    "from matplotlib import rcParams\n",
    "from matplotlib.colors import ListedColormap\n",
    "\n",
    "import seaborn as sn\n",
    "\n",
    "import anndata\n",
    "import scanpy as sc\n",
    "import sctk as sk\n",
    "\n",
    "\n",
    "rcParams[\"pdf.fonttype\"] = 42\n",
    "rcParams[\"ps.fonttype\"] = 42\n",
    "np.set_printoptions(linewidth=180)\n",
    "sc.settings.verbosity = 1\n",
    "sk.set_figsize((4, 4))\n",
    "expr_cmap = sk.expression_colormap()"
   ]
  },
  {
   "cell_type": "markdown",
   "id": "d4c50d57-853c-4647-a768-3a9f2cba9a86",
   "metadata": {},
   "source": [
    "# Load data"
   ]
  },
  {
   "cell_type": "code",
   "execution_count": 3,
   "id": "70676161-5980-433b-894d-41189d73be36",
   "metadata": {
    "execution": {
     "iopub.execute_input": "2022-09-20T10:55:36.640970Z",
     "iopub.status.busy": "2022-09-20T10:55:36.640750Z",
     "iopub.status.idle": "2022-09-20T10:56:00.693452Z",
     "shell.execute_reply": "2022-09-20T10:56:00.692290Z",
     "shell.execute_reply.started": "2022-09-20T10:55:36.640941Z"
    },
    "tags": []
   },
   "outputs": [],
   "source": [
    "pooled_ad = sc.read(\"h5ad/pooled_fetal_organoid.count_with_annot.h5ad\")"
   ]
  },
  {
   "cell_type": "code",
   "execution_count": 4,
   "id": "ded44731-e699-442a-9a53-9827d20692c0",
   "metadata": {
    "execution": {
     "iopub.execute_input": "2022-09-20T10:56:00.695066Z",
     "iopub.status.busy": "2022-09-20T10:56:00.694873Z",
     "iopub.status.idle": "2022-09-20T10:56:00.719293Z",
     "shell.execute_reply": "2022-09-20T10:56:00.718558Z",
     "shell.execute_reply.started": "2022-09-20T10:56:00.695043Z"
    },
    "tags": []
   },
   "outputs": [
    {
     "data": {
      "text/plain": [
       "AnnData object with n_obs × n_vars = 310368 × 46794\n",
       "    obs: 'dataset', 'donor', 'pcw', 'day', 'sample_id', 'fetal_annot', 'organoid_annot', 'pooled_annot', 'chemistry', 'gender', 'sorting'\n",
       "    var: 'mito', 'ribo', 'hb', 'n_counts', 'n_cells'"
      ]
     },
     "execution_count": 4,
     "metadata": {},
     "output_type": "execute_result"
    }
   ],
   "source": [
    "pooled_ad"
   ]
  },
  {
   "cell_type": "code",
   "execution_count": 5,
   "id": "d9750e1c-4d94-4200-af7f-3e64e18347dc",
   "metadata": {
    "execution": {
     "iopub.execute_input": "2022-09-20T10:56:00.720758Z",
     "iopub.status.busy": "2022-09-20T10:56:00.720579Z",
     "iopub.status.idle": "2022-09-20T10:56:00.743709Z",
     "shell.execute_reply": "2022-09-20T10:56:00.742915Z",
     "shell.execute_reply.started": "2022-09-20T10:56:00.720738Z"
    },
    "tags": []
   },
   "outputs": [
    {
     "data": {
      "text/plain": [
       "array([5., 1., 1., ..., 1., 1., 1.], dtype=float32)"
      ]
     },
     "execution_count": 5,
     "metadata": {},
     "output_type": "execute_result"
    }
   ],
   "source": [
    "pooled_ad.X.data"
   ]
  },
  {
   "cell_type": "code",
   "execution_count": 6,
   "id": "2a7ad75d-e11f-454a-9345-1d92e156fa1b",
   "metadata": {
    "execution": {
     "iopub.execute_input": "2022-09-20T10:56:00.744824Z",
     "iopub.status.busy": "2022-09-20T10:56:00.744633Z",
     "iopub.status.idle": "2022-09-20T10:56:00.765197Z",
     "shell.execute_reply": "2022-09-20T10:56:00.764404Z",
     "shell.execute_reply.started": "2022-09-20T10:56:00.744804Z"
    },
    "tags": []
   },
   "outputs": [
    {
     "data": {
      "text/plain": [
       "['fetal_ASDC',\n",
       " 'fetal_Adipocytes',\n",
       " 'fetal_Arterial',\n",
       " 'fetal_B cell',\n",
       " 'fetal_Basal',\n",
       " 'fetal_CD4 T cell',\n",
       " 'fetal_CD8 T cell',\n",
       " 'fetal_Capillary (venular tip)',\n",
       " 'fetal_Capillary/postcapillary venule',\n",
       " 'fetal_Companion layer',\n",
       " 'fetal_Cuticle/cortex',\n",
       " 'fetal_DC1',\n",
       " 'fetal_DC2',\n",
       " 'fetal_Dermal condensate',\n",
       " 'fetal_Dermal papillia',\n",
       " 'fetal_Early LE',\n",
       " 'fetal_Early endothelial cell',\n",
       " 'fetal_Early erythroid',\n",
       " 'fetal_Early erythroid (embryonic)',\n",
       " 'fetal_Early myocytes',\n",
       " 'fetal_Eo/baso/mast cell progenitor',\n",
       " 'fetal_Erythroid (embryonic)',\n",
       " 'fetal_Erythroid (fetal)',\n",
       " 'fetal_FRZB+ early fibroblast',\n",
       " 'fetal_HOXC5+ early fibroblast',\n",
       " 'fetal_HSC',\n",
       " 'fetal_ILC2',\n",
       " 'fetal_ILC3',\n",
       " 'fetal_Immature basal',\n",
       " 'fetal_Immature suprabasal',\n",
       " 'fetal_Inflammatory DC',\n",
       " 'fetal_Innate T type1',\n",
       " 'fetal_Innate T type3',\n",
       " 'fetal_Inner root sheath',\n",
       " 'fetal_Iron-recycling macrophage',\n",
       " 'fetal_LC',\n",
       " 'fetal_LE',\n",
       " 'fetal_LMCD1+ mural cell',\n",
       " 'fetal_LTi',\n",
       " 'fetal_LYVE1++ macrophage',\n",
       " 'fetal_Lymphoid progenitor',\n",
       " 'fetal_MEMP - Early erythroid',\n",
       " 'fetal_MEMP - Megak',\n",
       " 'fetal_MHCII+ macrophage',\n",
       " 'fetal_Mast cell (earliest)',\n",
       " 'fetal_Mast cell (medium)',\n",
       " 'fetal_Mast cell (most mature)',\n",
       " 'fetal_Matrix/placode',\n",
       " 'fetal_Megakaryocyte',\n",
       " 'fetal_Melanoblast',\n",
       " 'fetal_Melanocyte',\n",
       " 'fetal_Monocyte',\n",
       " 'fetal_Monocyte (activated/differentiating)',\n",
       " 'fetal_Monocyte precursor',\n",
       " 'fetal_Myelinating Schwann cells',\n",
       " 'fetal_Myoblasts',\n",
       " 'fetal_Myocytes',\n",
       " 'fetal_Myofibroblasts',\n",
       " 'fetal_NK cell',\n",
       " 'fetal_Neuroendocrine',\n",
       " 'fetal_Neuron progenitors',\n",
       " 'fetal_Neutrophil1',\n",
       " 'fetal_Neutrophil2',\n",
       " 'fetal_Outer root sheath',\n",
       " 'fetal_PEAR1+ fibroblast',\n",
       " 'fetal_PID1+ schwann cellls',\n",
       " 'fetal_PLN+ mural cell',\n",
       " 'fetal_POSTN+ basal',\n",
       " 'fetal_Pericytes',\n",
       " 'fetal_Periderm',\n",
       " 'fetal_Postcapillary venule',\n",
       " 'fetal_Pre B cell',\n",
       " 'fetal_Pre pro B cell',\n",
       " 'fetal_Pre-dermal condensate',\n",
       " 'fetal_Pro B cell',\n",
       " 'fetal_SPP1+ proliferating neuron proneitors',\n",
       " 'fetal_Schwann/Schwann precursors',\n",
       " 'fetal_Suprabasal IFE',\n",
       " 'fetal_TREM2+ macrophage',\n",
       " 'fetal_Tip cell (arterial)',\n",
       " 'fetal_Treg',\n",
       " 'fetal_WNT2+ fibroblast',\n",
       " 'fetal_pDC',\n",
       " 'organoid_Adipocytes',\n",
       " 'organoid_Basal',\n",
       " 'organoid_Companion layer',\n",
       " 'organoid_Cuticle/cortex',\n",
       " 'organoid_Dermal condensate',\n",
       " 'organoid_Dermal papillia',\n",
       " 'organoid_Early myocytes',\n",
       " 'organoid_FRZB+ early fibroblast',\n",
       " 'organoid_HOXC5+ early fibroblast',\n",
       " 'organoid_Immature basal',\n",
       " 'organoid_Immature suprabasal',\n",
       " 'organoid_Inner root sheath',\n",
       " 'organoid_Matrix/placode',\n",
       " 'organoid_Melanoblast',\n",
       " 'organoid_Melanocyte',\n",
       " 'organoid_Merkel cells',\n",
       " 'organoid_Mural cell',\n",
       " 'organoid_Myelinating Schwann cells',\n",
       " 'organoid_Myoblasts',\n",
       " 'organoid_Myocytes',\n",
       " 'organoid_Neuroepithelial cells',\n",
       " 'organoid_Neuron progenitors',\n",
       " 'organoid_Outer root sheath',\n",
       " 'organoid_POSTN+ basal',\n",
       " 'organoid_POSTN+ fibroblast',\n",
       " 'organoid_Periderm',\n",
       " 'organoid_Pre-dermal condensate',\n",
       " 'organoid_Proliferating melanoblasts',\n",
       " 'organoid_SPP1+ proliferating neuron proneitors',\n",
       " 'organoid_Schwann/Schwann precursors',\n",
       " 'organoid_Secreting neuron',\n",
       " 'organoid_Suprabasal IFE',\n",
       " 'organoid_Tip cell (arterial)',\n",
       " 'organoid_Uncertain']"
      ]
     },
     "execution_count": 6,
     "metadata": {},
     "output_type": "execute_result"
    }
   ],
   "source": [
    "pooled_ad.obs.pooled_annot.cat.categories.tolist()"
   ]
  },
  {
   "cell_type": "markdown",
   "id": "07026ff4-e3a4-41d0-bac0-88434dd98bec",
   "metadata": {},
   "source": [
    "# Process"
   ]
  },
  {
   "cell_type": "markdown",
   "id": "3bca43e4-b500-4d13-a8a4-da50ef85a4d2",
   "metadata": {},
   "source": [
    "## Subset, split, normalise, etc"
   ]
  },
  {
   "cell_type": "code",
   "execution_count": 7,
   "id": "42488060-aaa9-4309-8370-497529df2810",
   "metadata": {
    "execution": {
     "iopub.execute_input": "2022-09-20T10:56:00.766188Z",
     "iopub.status.busy": "2022-09-20T10:56:00.766004Z",
     "iopub.status.idle": "2022-09-20T10:56:00.784504Z",
     "shell.execute_reply": "2022-09-20T10:56:00.783767Z",
     "shell.execute_reply.started": "2022-09-20T10:56:00.766167Z"
    },
    "tags": []
   },
   "outputs": [],
   "source": [
    "pooled_ad.obs.pooled_annot.cat.rename_categories(\n",
    "    {\"organoid_POSTN+ fibroblast\": \"organoid_WNT2+ fibroblast\"}, inplace=True\n",
    ")"
   ]
  },
  {
   "cell_type": "code",
   "execution_count": 32,
   "id": "cef72284-ccf0-4bfd-a471-56503ee6301a",
   "metadata": {
    "execution": {
     "iopub.execute_input": "2022-09-20T11:01:17.633226Z",
     "iopub.status.busy": "2022-09-20T11:01:17.632888Z",
     "iopub.status.idle": "2022-09-20T11:01:17.660238Z",
     "shell.execute_reply": "2022-09-20T11:01:17.659553Z",
     "shell.execute_reply.started": "2022-09-20T11:01:17.633183Z"
    },
    "tags": []
   },
   "outputs": [],
   "source": [
    "k_included = pooled_ad.obs.pooled_annot.isin(\n",
    "    [\n",
    "        \"fetal_Basal\",\n",
    "        \"fetal_Companion layer\",\n",
    "        \"fetal_Cuticle/cortex\",\n",
    "        \"fetal_Immature basal\",\n",
    "        \"fetal_Immature suprabasal\",\n",
    "        \"fetal_Inner root sheath\",\n",
    "        \"fetal_Matrix/placode\",\n",
    "        \"fetal_Outer root sheath\",\n",
    "        \"fetal_Periderm\",\n",
    "        \"fetal_POSTN+ basal\",\n",
    "        \"fetal_Suprabasal IFE\",\n",
    "        \"fetal_FRZB+ early fibroblast\",\n",
    "        \"fetal_HOXC5+ early fibroblast\",\n",
    "        \"fetal_WNT2+ fibroblast\",\n",
    "        # \"fetal_PEAR1+ fibroblast\",\n",
    "        \"fetal_Pre-dermal condensate\",\n",
    "        \"fetal_Dermal condensate\",\n",
    "        \"fetal_Dermal papillia\",\n",
    "        \"organoid_Basal\",\n",
    "        \"organoid_Companion layer\",\n",
    "        \"organoid_Cuticle/cortex\",\n",
    "        \"organoid_Immature basal\",\n",
    "        \"organoid_Immature suprabasal\",\n",
    "        \"organoid_Inner root sheath\",\n",
    "        \"organoid_Matrix/placode\",\n",
    "        \"organoid_Outer root sheath\",\n",
    "        \"organoid_Periderm\",\n",
    "        \"organoid_POSTN+ basal\",\n",
    "        \"organoid_Suprabasal IFE\",\n",
    "        \"organoid_FRZB+ early fibroblast\",\n",
    "        \"organoid_HOXC5+ early fibroblast\",\n",
    "        \"organoid_WNT2+ fibroblast\",\n",
    "        # \"organoid_PEAR1+ fibroblast\",\n",
    "        \"organoid_Pre-dermal condensate\",\n",
    "        \"organoid_Dermal condensate\",\n",
    "        \"organoid_Dermal papillia\",\n",
    "    ]\n",
    ")"
   ]
  },
  {
   "cell_type": "raw",
   "id": "dea17902-00a6-493e-ac0f-72562102dc37",
   "metadata": {
    "execution": {
     "iopub.execute_input": "2022-09-20T09:24:59.338351Z",
     "iopub.status.busy": "2022-09-20T09:24:59.338179Z",
     "iopub.status.idle": "2022-09-20T09:24:59.361710Z",
     "shell.execute_reply": "2022-09-20T09:24:59.361042Z",
     "shell.execute_reply.started": "2022-09-20T09:24:59.338331Z"
    },
    "tags": []
   },
   "source": [
    "k_keratinocytes = pooled_ad.obs.pooled_annot.isin(\n",
    "    [\n",
    "        \"fetal_Basal\",\n",
    "        \"fetal_Companion layer\",\n",
    "        \"fetal_Cuticle/cortex\",\n",
    "        \"fetal_Immature basal\",\n",
    "        \"fetal_Immature suprabasal\",\n",
    "        \"fetal_Inner root sheath\",\n",
    "        \"fetal_Matrix/placode\",\n",
    "        \"fetal_Outer root sheath\",\n",
    "        \"fetal_Periderm\",\n",
    "        \"fetal_POSTN+ basal\",\n",
    "        \"fetal_Suprabasal IFE\",\n",
    "        \"organoid_Basal\",\n",
    "        \"organoid_Companion layer\",\n",
    "        \"organoid_Cuticle/cortex\",\n",
    "        \"organoid_Immature basal\",\n",
    "        \"organoid_Immature suprabasal\",\n",
    "        \"organoid_Inner root sheath\",\n",
    "        \"organoid_Matrix/placode\",\n",
    "        \"organoid_Outer root sheath\",\n",
    "        \"organoid_Periderm\",\n",
    "        \"organoid_POSTN+ basal\",\n",
    "        \"organoid_Suprabasal IFE\",\n",
    "    ]\n",
    ")"
   ]
  },
  {
   "cell_type": "code",
   "execution_count": 33,
   "id": "ee0e2850-c19e-48a6-bf0a-c5923424b480",
   "metadata": {
    "execution": {
     "iopub.execute_input": "2022-09-20T11:01:35.138160Z",
     "iopub.status.busy": "2022-09-20T11:01:35.137854Z",
     "iopub.status.idle": "2022-09-20T11:01:35.217415Z",
     "shell.execute_reply": "2022-09-20T11:01:35.216661Z",
     "shell.execute_reply.started": "2022-09-20T11:01:35.138135Z"
    },
    "tags": []
   },
   "outputs": [],
   "source": [
    "ad1 = pooled_ad[k_included]"
   ]
  },
  {
   "cell_type": "code",
   "execution_count": 34,
   "id": "1501814f-f980-4bf0-beed-d02a65f8cd49",
   "metadata": {
    "execution": {
     "iopub.execute_input": "2022-09-20T11:01:36.164526Z",
     "iopub.status.busy": "2022-09-20T11:01:36.164330Z",
     "iopub.status.idle": "2022-09-20T11:01:39.331649Z",
     "shell.execute_reply": "2022-09-20T11:01:39.330892Z",
     "shell.execute_reply.started": "2022-09-20T11:01:36.164503Z"
    },
    "tags": []
   },
   "outputs": [],
   "source": [
    "ads = sk.split_by_group(ad1, groupby=\"dataset\")"
   ]
  },
  {
   "cell_type": "code",
   "execution_count": 35,
   "id": "4da4d0de-76a8-4b34-b64a-ca491b9423ed",
   "metadata": {
    "execution": {
     "iopub.execute_input": "2022-09-20T11:01:39.332988Z",
     "iopub.status.busy": "2022-09-20T11:01:39.332772Z",
     "iopub.status.idle": "2022-09-20T11:01:39.354330Z",
     "shell.execute_reply": "2022-09-20T11:01:39.353696Z",
     "shell.execute_reply.started": "2022-09-20T11:01:39.332951Z"
    },
    "tags": []
   },
   "outputs": [
    {
     "data": {
      "text/plain": [
       "{'fetal': AnnData object with n_obs × n_vars = 90104 × 46794\n",
       "     obs: 'dataset', 'donor', 'pcw', 'day', 'sample_id', 'fetal_annot', 'organoid_annot', 'pooled_annot', 'chemistry', 'gender', 'sorting'\n",
       "     var: 'mito', 'ribo', 'hb', 'n_counts', 'n_cells',\n",
       " 'organoid': AnnData object with n_obs × n_vars = 105303 × 46794\n",
       "     obs: 'dataset', 'donor', 'pcw', 'day', 'sample_id', 'fetal_annot', 'organoid_annot', 'pooled_annot', 'chemistry', 'gender', 'sorting'\n",
       "     var: 'mito', 'ribo', 'hb', 'n_counts', 'n_cells'}"
      ]
     },
     "execution_count": 35,
     "metadata": {},
     "output_type": "execute_result"
    }
   ],
   "source": [
    "ads"
   ]
  },
  {
   "cell_type": "code",
   "execution_count": 36,
   "id": "6bdeac1f-e80c-4d1a-87e0-903d38df8475",
   "metadata": {
    "execution": {
     "iopub.execute_input": "2022-09-20T11:01:39.355539Z",
     "iopub.status.busy": "2022-09-20T11:01:39.355345Z",
     "iopub.status.idle": "2022-09-20T11:01:52.497064Z",
     "shell.execute_reply": "2022-09-20T11:01:52.496190Z",
     "shell.execute_reply.started": "2022-09-20T11:01:39.355518Z"
    },
    "tags": []
   },
   "outputs": [],
   "source": [
    "for name, ad in ads.items():\n",
    "    sc.pp.filter_genes(ad, min_counts=1)\n",
    "    sc.pp.normalize_total(ad, target_sum=1e4)\n",
    "    sc.pp.log1p(ad)"
   ]
  },
  {
   "cell_type": "code",
   "execution_count": 37,
   "id": "b92f9808-d362-4b24-9838-bb2347611c3a",
   "metadata": {
    "execution": {
     "iopub.execute_input": "2022-09-20T11:01:52.498423Z",
     "iopub.status.busy": "2022-09-20T11:01:52.498228Z",
     "iopub.status.idle": "2022-09-20T11:01:52.520400Z",
     "shell.execute_reply": "2022-09-20T11:01:52.519733Z",
     "shell.execute_reply.started": "2022-09-20T11:01:52.498401Z"
    },
    "tags": []
   },
   "outputs": [
    {
     "data": {
      "text/plain": [
       "array([0.43932745, 0.43932745, 0.9764408 , ..., 1.5827801 , 1.5827801 , 1.5827801 ], dtype=float32)"
      ]
     },
     "execution_count": 37,
     "metadata": {},
     "output_type": "execute_result"
    }
   ],
   "source": [
    "ads[\"fetal\"].X.data"
   ]
  },
  {
   "cell_type": "markdown",
   "id": "86e260f5-e1ab-453a-a4f1-3ca0a1728d96",
   "metadata": {},
   "source": [
    "## Extract and prepare data to plot"
   ]
  },
  {
   "cell_type": "code",
   "execution_count": 38,
   "id": "b6f80398-bad5-43de-baeb-28a50c723f26",
   "metadata": {
    "execution": {
     "iopub.execute_input": "2022-09-20T11:01:52.521370Z",
     "iopub.status.busy": "2022-09-20T11:01:52.521171Z",
     "iopub.status.idle": "2022-09-20T11:01:52.554454Z",
     "shell.execute_reply": "2022-09-20T11:01:52.553804Z",
     "shell.execute_reply.started": "2022-09-20T11:01:52.521350Z"
    },
    "tags": []
   },
   "outputs": [],
   "source": [
    "fetal_genes = [\"DSC3\", \"DSP\", \"GJB6\", \"PVRL4\"]\n",
    "organoid_genes = [\"DSC3\", \"DSP\", \"GJB6\", \"NECTIN4\"]"
   ]
  },
  {
   "cell_type": "code",
   "execution_count": 39,
   "id": "8368b917-b810-43ff-b55a-3045b6a38a1a",
   "metadata": {
    "execution": {
     "iopub.execute_input": "2022-09-20T11:01:52.555842Z",
     "iopub.status.busy": "2022-09-20T11:01:52.555666Z",
     "iopub.status.idle": "2022-09-20T11:01:53.638042Z",
     "shell.execute_reply": "2022-09-20T11:01:53.637222Z",
     "shell.execute_reply.started": "2022-09-20T11:01:52.555822Z"
    },
    "tags": []
   },
   "outputs": [],
   "source": [
    "fetal_x = (\n",
    "    pd.concat(\n",
    "        [pd.Series(ads[\"fetal\"].obs_vector(g), index=ads[\"fetal\"].obs_names) for g in fetal_genes],\n",
    "        axis=1,\n",
    "    )\n",
    "    .rename(columns={i: g for i, g in enumerate(fetal_genes)})\n",
    "    .assign(annot=ads[\"fetal\"].obs.pooled_annot.str.replace(\"fetal_\", \"\"))\n",
    ")"
   ]
  },
  {
   "cell_type": "code",
   "execution_count": 40,
   "id": "c33a2f14-18e0-4a24-95c0-d692b781f6e7",
   "metadata": {
    "execution": {
     "iopub.execute_input": "2022-09-20T11:01:53.639498Z",
     "iopub.status.busy": "2022-09-20T11:01:53.639286Z",
     "iopub.status.idle": "2022-09-20T11:01:53.782541Z",
     "shell.execute_reply": "2022-09-20T11:01:53.781718Z",
     "shell.execute_reply.started": "2022-09-20T11:01:53.639476Z"
    },
    "tags": []
   },
   "outputs": [],
   "source": [
    "fetal_df = (\n",
    "    fetal_x.melt(id_vars=[\"annot\"], var_name=\"gene\", value_name=\"expression\")\n",
    "    .groupby([\"annot\", \"gene\"])\n",
    "    .agg(\n",
    "        mean=pd.NamedAgg(column=\"expression\", aggfunc=\"mean\"),\n",
    "        frac=pd.NamedAgg(column=\"expression\", aggfunc=lambda x: (x > 0).mean()),\n",
    "    )\n",
    "    .reset_index()\n",
    "    .assign(dataset=\"fetal\")\n",
    ")"
   ]
  },
  {
   "cell_type": "code",
   "execution_count": 41,
   "id": "c64e59c1-14f1-4079-b46b-8b7802283300",
   "metadata": {
    "execution": {
     "iopub.execute_input": "2022-09-20T11:01:53.783730Z",
     "iopub.status.busy": "2022-09-20T11:01:53.783536Z",
     "iopub.status.idle": "2022-09-20T11:01:54.977035Z",
     "shell.execute_reply": "2022-09-20T11:01:54.976146Z",
     "shell.execute_reply.started": "2022-09-20T11:01:53.783707Z"
    },
    "tags": []
   },
   "outputs": [],
   "source": [
    "organoid_x = (\n",
    "    pd.concat(\n",
    "        [\n",
    "            pd.Series(ads[\"organoid\"].obs_vector(g), index=ads[\"organoid\"].obs_names)\n",
    "            for g in organoid_genes\n",
    "        ],\n",
    "        axis=1,\n",
    "    )\n",
    "    .rename(columns={i: g for i, g in enumerate(organoid_genes)})\n",
    "    .assign(annot=ads[\"organoid\"].obs.pooled_annot.str.replace(\"organoid_\", \"\"))\n",
    ")"
   ]
  },
  {
   "cell_type": "code",
   "execution_count": 42,
   "id": "c748d6b0-5ec4-45d8-8e65-648df145273c",
   "metadata": {
    "execution": {
     "iopub.execute_input": "2022-09-20T11:01:54.978504Z",
     "iopub.status.busy": "2022-09-20T11:01:54.978318Z",
     "iopub.status.idle": "2022-09-20T11:01:55.132270Z",
     "shell.execute_reply": "2022-09-20T11:01:55.131344Z",
     "shell.execute_reply.started": "2022-09-20T11:01:54.978482Z"
    },
    "tags": []
   },
   "outputs": [],
   "source": [
    "organoid_df = (\n",
    "    organoid_x.melt(id_vars=[\"annot\"], var_name=\"gene\", value_name=\"expression\")\n",
    "    .groupby([\"annot\", \"gene\"])\n",
    "    .agg(\n",
    "        mean=pd.NamedAgg(column=\"expression\", aggfunc=\"mean\"),\n",
    "        frac=pd.NamedAgg(column=\"expression\", aggfunc=lambda x: (x > 0).mean()),\n",
    "    )\n",
    "    .reset_index()\n",
    "    .assign(dataset=\"organoid\")\n",
    ")"
   ]
  },
  {
   "cell_type": "code",
   "execution_count": null,
   "id": "c9266a7a-21ae-4ee2-8f51-1f02e691a7f9",
   "metadata": {},
   "outputs": [],
   "source": []
  },
  {
   "cell_type": "code",
   "execution_count": 43,
   "id": "5062d591-fbfd-4362-8bed-f23445d46119",
   "metadata": {
    "execution": {
     "iopub.execute_input": "2022-09-20T11:01:55.133513Z",
     "iopub.status.busy": "2022-09-20T11:01:55.133342Z",
     "iopub.status.idle": "2022-09-20T11:01:55.156118Z",
     "shell.execute_reply": "2022-09-20T11:01:55.155363Z",
     "shell.execute_reply.started": "2022-09-20T11:01:55.133492Z"
    },
    "tags": []
   },
   "outputs": [],
   "source": [
    "df = pd.concat([fetal_df, organoid_df])"
   ]
  },
  {
   "cell_type": "code",
   "execution_count": 44,
   "id": "c776a817-df94-4251-9d57-edec373cc206",
   "metadata": {
    "execution": {
     "iopub.execute_input": "2022-09-20T11:01:55.157252Z",
     "iopub.status.busy": "2022-09-20T11:01:55.157070Z",
     "iopub.status.idle": "2022-09-20T11:01:55.176083Z",
     "shell.execute_reply": "2022-09-20T11:01:55.175312Z",
     "shell.execute_reply.started": "2022-09-20T11:01:55.157232Z"
    },
    "tags": []
   },
   "outputs": [],
   "source": [
    "df[\"gene2\"] = df.dataset.astype(str) + \" \" + df.gene.astype(str)"
   ]
  },
  {
   "cell_type": "code",
   "execution_count": 45,
   "id": "46f3d075-7193-4568-867b-988881dc9ad3",
   "metadata": {
    "execution": {
     "iopub.execute_input": "2022-09-20T11:01:55.177133Z",
     "iopub.status.busy": "2022-09-20T11:01:55.176961Z",
     "iopub.status.idle": "2022-09-20T11:01:55.200050Z",
     "shell.execute_reply": "2022-09-20T11:01:55.199161Z",
     "shell.execute_reply.started": "2022-09-20T11:01:55.177113Z"
    },
    "tags": []
   },
   "outputs": [],
   "source": [
    "df[\"annot\"] = df[\"annot\"].astype(\n",
    "    pd.CategoricalDtype(\n",
    "        categories=[\n",
    "            \"Periderm\",\n",
    "            \"Immature basal\",\n",
    "            \"Immature suprabasal\",\n",
    "            \"POSTN+ basal\",\n",
    "            \"Basal\",\n",
    "            \"Suprabasal IFE\",\n",
    "            \"Outer root sheath\",\n",
    "            \"Companion layer\",\n",
    "            \"Inner root sheath\",\n",
    "            \"Matrix/placode\",\n",
    "            \"Cuticle/cortex\",\n",
    "            \"FRZB+ early fibroblast\",\n",
    "            \"HOXC5+ early fibroblast\",\n",
    "            \"WNT2+ fibroblast\",\n",
    "            # \"PEAR1+ fibroblast\",\n",
    "            \"Pre-dermal condensate\",\n",
    "            \"Dermal condensate\",\n",
    "            \"Dermal papillia\",\n",
    "        ],\n",
    "        ordered=True,\n",
    "    )\n",
    ")\n",
    "df[\"x\"] = df.annot.cat.codes\n",
    "df[\"gene2\"] = df[\"gene2\"].astype(\n",
    "    pd.CategoricalDtype(\n",
    "        categories=[\n",
    "            \"fetal DSC3\",\n",
    "            \"organoid DSC3\",\n",
    "            \"fetal DSP\",\n",
    "            \"organoid DSP\",\n",
    "            \"fetal GJB6\",\n",
    "            \"organoid GJB6\",\n",
    "            \"fetal PVRL4\",\n",
    "            \"organoid NECTIN4\",\n",
    "        ],\n",
    "        ordered=True,\n",
    "    )\n",
    ")\n",
    "df[\"y\"] = df.gene2.cat.codes"
   ]
  },
  {
   "cell_type": "code",
   "execution_count": 46,
   "id": "28dd966e-896f-43ec-b497-b2babeaea345",
   "metadata": {
    "execution": {
     "iopub.execute_input": "2022-09-20T11:01:55.201116Z",
     "iopub.status.busy": "2022-09-20T11:01:55.200931Z",
     "iopub.status.idle": "2022-09-20T11:01:55.223199Z",
     "shell.execute_reply": "2022-09-20T11:01:55.222463Z",
     "shell.execute_reply.started": "2022-09-20T11:01:55.201095Z"
    },
    "tags": []
   },
   "outputs": [],
   "source": [
    "df = df.merge(\n",
    "    df.groupby(\"gene2\")[\"mean\"].max().rename(\"max_mean\"),\n",
    "    how=\"left\",\n",
    "    left_on=\"gene2\",\n",
    "    right_index=True,\n",
    ")\n",
    "df[\"mean2\"] = df[\"mean\"] / df[\"max_mean\"]"
   ]
  },
  {
   "cell_type": "code",
   "execution_count": 47,
   "id": "ba64e984-1bed-4eaf-8c83-42523f81e6ef",
   "metadata": {
    "execution": {
     "iopub.execute_input": "2022-09-20T11:01:55.225006Z",
     "iopub.status.busy": "2022-09-20T11:01:55.224797Z",
     "iopub.status.idle": "2022-09-20T11:01:55.243288Z",
     "shell.execute_reply": "2022-09-20T11:01:55.242540Z",
     "shell.execute_reply.started": "2022-09-20T11:01:55.224969Z"
    },
    "tags": []
   },
   "outputs": [
    {
     "data": {
      "text/plain": [
       "Index(['Periderm', 'Immature basal', 'Immature suprabasal', 'POSTN+ basal',\n",
       "       'Basal', 'Suprabasal IFE', 'Outer root sheath', 'Companion layer',\n",
       "       'Inner root sheath', 'Matrix/placode', 'Cuticle/cortex',\n",
       "       'FRZB+ early fibroblast', 'HOXC5+ early fibroblast', 'WNT2+ fibroblast',\n",
       "       'Pre-dermal condensate', 'Dermal condensate', 'Dermal papillia'],\n",
       "      dtype='object')"
      ]
     },
     "execution_count": 47,
     "metadata": {},
     "output_type": "execute_result"
    }
   ],
   "source": [
    "df.annot.cat.categories"
   ]
  },
  {
   "cell_type": "code",
   "execution_count": 48,
   "id": "26b192b3-c2b9-43bc-aa86-370be17d5235",
   "metadata": {
    "execution": {
     "iopub.execute_input": "2022-09-20T11:01:55.244323Z",
     "iopub.status.busy": "2022-09-20T11:01:55.244141Z",
     "iopub.status.idle": "2022-09-20T11:01:55.271118Z",
     "shell.execute_reply": "2022-09-20T11:01:55.270429Z",
     "shell.execute_reply.started": "2022-09-20T11:01:55.244302Z"
    },
    "tags": []
   },
   "outputs": [
    {
     "data": {
      "text/html": [
       "<div>\n",
       "<style scoped>\n",
       "    .dataframe tbody tr th:only-of-type {\n",
       "        vertical-align: middle;\n",
       "    }\n",
       "\n",
       "    .dataframe tbody tr th {\n",
       "        vertical-align: top;\n",
       "    }\n",
       "\n",
       "    .dataframe thead th {\n",
       "        text-align: right;\n",
       "    }\n",
       "</style>\n",
       "<table border=\"1\" class=\"dataframe\">\n",
       "  <thead>\n",
       "    <tr style=\"text-align: right;\">\n",
       "      <th></th>\n",
       "      <th>annot</th>\n",
       "      <th>gene</th>\n",
       "      <th>mean</th>\n",
       "      <th>frac</th>\n",
       "      <th>dataset</th>\n",
       "      <th>gene2</th>\n",
       "      <th>x</th>\n",
       "      <th>y</th>\n",
       "      <th>max_mean</th>\n",
       "      <th>mean2</th>\n",
       "    </tr>\n",
       "  </thead>\n",
       "  <tbody>\n",
       "    <tr>\n",
       "      <th>0</th>\n",
       "      <td>Basal</td>\n",
       "      <td>DSC3</td>\n",
       "      <td>0.500099</td>\n",
       "      <td>0.557055</td>\n",
       "      <td>fetal</td>\n",
       "      <td>fetal DSC3</td>\n",
       "      <td>4</td>\n",
       "      <td>0</td>\n",
       "      <td>2.148966</td>\n",
       "      <td>0.232716</td>\n",
       "    </tr>\n",
       "    <tr>\n",
       "      <th>1</th>\n",
       "      <td>Basal</td>\n",
       "      <td>DSP</td>\n",
       "      <td>1.120920</td>\n",
       "      <td>0.869939</td>\n",
       "      <td>fetal</td>\n",
       "      <td>fetal DSP</td>\n",
       "      <td>4</td>\n",
       "      <td>2</td>\n",
       "      <td>3.022784</td>\n",
       "      <td>0.370824</td>\n",
       "    </tr>\n",
       "    <tr>\n",
       "      <th>2</th>\n",
       "      <td>Basal</td>\n",
       "      <td>GJB6</td>\n",
       "      <td>1.486292</td>\n",
       "      <td>0.883436</td>\n",
       "      <td>fetal</td>\n",
       "      <td>fetal GJB6</td>\n",
       "      <td>4</td>\n",
       "      <td>4</td>\n",
       "      <td>1.611308</td>\n",
       "      <td>0.922413</td>\n",
       "    </tr>\n",
       "    <tr>\n",
       "      <th>3</th>\n",
       "      <td>Basal</td>\n",
       "      <td>PVRL4</td>\n",
       "      <td>0.025657</td>\n",
       "      <td>0.040491</td>\n",
       "      <td>fetal</td>\n",
       "      <td>fetal PVRL4</td>\n",
       "      <td>4</td>\n",
       "      <td>6</td>\n",
       "      <td>1.557022</td>\n",
       "      <td>0.016478</td>\n",
       "    </tr>\n",
       "    <tr>\n",
       "      <th>4</th>\n",
       "      <td>Companion layer</td>\n",
       "      <td>DSC3</td>\n",
       "      <td>1.560662</td>\n",
       "      <td>0.777778</td>\n",
       "      <td>fetal</td>\n",
       "      <td>fetal DSC3</td>\n",
       "      <td>7</td>\n",
       "      <td>0</td>\n",
       "      <td>2.148966</td>\n",
       "      <td>0.726239</td>\n",
       "    </tr>\n",
       "  </tbody>\n",
       "</table>\n",
       "</div>"
      ],
      "text/plain": [
       "             annot   gene      mean      frac dataset        gene2  x  y  \\\n",
       "0            Basal   DSC3  0.500099  0.557055   fetal   fetal DSC3  4  0   \n",
       "1            Basal    DSP  1.120920  0.869939   fetal    fetal DSP  4  2   \n",
       "2            Basal   GJB6  1.486292  0.883436   fetal   fetal GJB6  4  4   \n",
       "3            Basal  PVRL4  0.025657  0.040491   fetal  fetal PVRL4  4  6   \n",
       "4  Companion layer   DSC3  1.560662  0.777778   fetal   fetal DSC3  7  0   \n",
       "\n",
       "   max_mean     mean2  \n",
       "0  2.148966  0.232716  \n",
       "1  3.022784  0.370824  \n",
       "2  1.611308  0.922413  \n",
       "3  1.557022  0.016478  \n",
       "4  2.148966  0.726239  "
      ]
     },
     "execution_count": 48,
     "metadata": {},
     "output_type": "execute_result"
    }
   ],
   "source": [
    "df.head()"
   ]
  },
  {
   "cell_type": "markdown",
   "id": "5ad0e153-d2c3-4100-9f78-836697856999",
   "metadata": {},
   "source": [
    "## Plot"
   ]
  },
  {
   "cell_type": "code",
   "execution_count": 49,
   "id": "7a6c6c02-83f8-4e33-b224-abf75501bb19",
   "metadata": {
    "execution": {
     "iopub.execute_input": "2022-09-20T11:01:55.272102Z",
     "iopub.status.busy": "2022-09-20T11:01:55.271918Z",
     "iopub.status.idle": "2022-09-20T11:01:55.614303Z",
     "shell.execute_reply": "2022-09-20T11:01:55.613468Z",
     "shell.execute_reply.started": "2022-09-20T11:01:55.272081Z"
    },
    "tags": []
   },
   "outputs": [
    {
     "data": {
      "image/png": "[encoded data removed]",
      "text/plain": [
       "<Figure size 576x216 with 3 Axes>"
      ]
     },
     "metadata": {
      "needs_background": "light"
     },
     "output_type": "display_data"
    }
   ],
   "source": [
    "sk.set_figsize((8, 3))\n",
    "\n",
    "# Main axes\n",
    "ax = sn.scatterplot(\n",
    "    data=df,\n",
    "    x=\"x\",\n",
    "    y=\"y\",\n",
    "    hue=\"mean2\",\n",
    "    size=\"frac\",\n",
    "    palette=\"OrRd\",\n",
    "    edgecolor=\"k\",\n",
    "    sizes=(0, 200),\n",
    "    legend=False,\n",
    ")\n",
    "ax.set_xticks(np.arange(17))\n",
    "ax.set_xticklabels(df.annot.cat.categories, rotation=90)\n",
    "ax.set_yticks([0, 1, 2, 3, 4, 5, 6, 7])\n",
    "ax.set_yticklabels(df.gene2.cat.categories)\n",
    "# ax.legend(loc=\"center left\", bbox_to_anchor=(1, 0.5), ncol=1)\n",
    "ax.set_ylim(7.5, -0.5)\n",
    "for ypos in (1.5, 3.5, 5.5):\n",
    "    ax.axhline(y=ypos, linewidth=1, c=\"k\", linestyle=\"--\")\n",
    "ax.set_xlabel(\"\")\n",
    "ax.set_ylabel(\"\")\n",
    "\n",
    "# Make legend\n",
    "fig = ax.get_figure()\n",
    "fig.subplots_adjust(right=0.7)\n",
    "\n",
    "# Dot size legend\n",
    "dlg_ax = fig.add_axes([0.75, 0.55, 0.25, 0.1])\n",
    "sn.scatterplot(\n",
    "    x=[20, 40, 60, 80, 100],\n",
    "    y=[0, 0, 0, 0, 0],\n",
    "    size=[20, 40, 60, 80, 100],\n",
    "    sizes=(40, 200),\n",
    "    color=[(0.5, 0.5, 0.5)],\n",
    "    edgecolor=\"black\",\n",
    "    ax=dlg_ax,\n",
    "    legend=False,\n",
    ")\n",
    "sn.despine(ax=dlg_ax, left=True, bottom=True)\n",
    "dlg_ax.get_yaxis().set_visible(False)\n",
    "dlg_ax.set_xticks([20, 40, 60, 80, 100])\n",
    "dlg_ax.set_xlim(10, 110)\n",
    "dlg_ax.set_title(\"Fraction of cells\\nin group (%)\")\n",
    "\n",
    "# Colorbar\n",
    "cb_ax = fig.add_axes([0.75, 0.25, 0.25, 0.05])\n",
    "cb_ax.set_title(\"Mean expression\\nin group\")\n",
    "fig.colorbar(\n",
    "    plt.cm.ScalarMappable(\n",
    "        cmap=\"OrRd\",\n",
    "    ),\n",
    "    cax=cb_ax,\n",
    "    orientation=\"horizontal\",\n",
    ")\n",
    "sn.despine(ax=cb_ax, left=True, bottom=True)\n",
    "cb_ax.get_yaxis().set_visible(False)"
   ]
  },
  {
   "cell_type": "code",
   "execution_count": 51,
   "id": "432050ab-7924-4156-a7b1-2bb1534e1546",
   "metadata": {
    "execution": {
     "iopub.execute_input": "2022-09-20T11:02:17.037570Z",
     "iopub.status.busy": "2022-09-20T11:02:17.037301Z",
     "iopub.status.idle": "2022-09-20T11:02:17.356181Z",
     "shell.execute_reply": "2022-09-20T11:02:17.355213Z",
     "shell.execute_reply.started": "2022-09-20T11:02:17.037533Z"
    },
    "tags": []
   },
   "outputs": [],
   "source": [
    "fig.savefig(\"figures/fig3F.20220920.pdf\", bbox_inches=\"tight\")"
   ]
  },
  {
   "cell_type": "code",
   "execution_count": 52,
   "id": "4676fc05-7368-4b1a-8f87-4cd4ed560aff",
   "metadata": {
    "execution": {
     "iopub.execute_input": "2022-09-20T11:02:19.781917Z",
     "iopub.status.busy": "2022-09-20T11:02:19.781599Z",
     "iopub.status.idle": "2022-09-20T11:02:26.282592Z",
     "shell.execute_reply": "2022-09-20T11:02:26.281785Z",
     "shell.execute_reply.started": "2022-09-20T11:02:19.781890Z"
    },
    "tags": []
   },
   "outputs": [],
   "source": [
    "!rclone copy --drive-shared-with-me figures/fig3F.20220920.pdf \"google:/Fetal Skin/Figures/Figs_from_Ni/\""
   ]
  },
  {
   "cell_type": "code",
   "execution_count": null,
   "id": "bdd610c1-6477-4724-81f5-11ec6c63358b",
   "metadata": {},
   "outputs": [],
   "source": []
  }
 ],
 "metadata": {
  "kernelspec": {
   "display_name": "scanpy16",
   "language": "python",
   "name": "scanpy-new"
  },
  "language_info": {
   "codemirror_mode": {
    "name": "ipython",
    "version": 3
   },
   "file_extension": ".py",
   "mimetype": "text/x-python",
   "name": "python",
   "nbconvert_exporter": "python",
   "pygments_lexer": "ipython3",
   "version": "3.8.5"
  }
 },
 "nbformat": 4,
 "nbformat_minor": 5
}
