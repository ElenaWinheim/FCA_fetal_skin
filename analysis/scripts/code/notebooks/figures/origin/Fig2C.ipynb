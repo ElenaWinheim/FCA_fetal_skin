{
 "cells": [
  {
   "cell_type": "code",
   "execution_count": null,
   "id": "f1e5a96f-d7cb-4924-aec8-b2848784a763",
   "metadata": {},
   "outputs": [],
   "source": []
  },
  {
   "cell_type": "markdown",
   "id": "66c3ac91-69d7-424b-8b2b-c1a54da56707",
   "metadata": {},
   "source": [
    "# Import and settings"
   ]
  },
  {
   "cell_type": "code",
   "execution_count": 1,
   "id": "536f3c21-374f-4bf4-902c-35ed402e0bf1",
   "metadata": {
    "execution": {
     "iopub.execute_input": "2022-09-06T08:43:21.591186Z",
     "iopub.status.busy": "2022-09-06T08:43:21.590862Z",
     "iopub.status.idle": "2022-09-06T08:43:21.605374Z",
     "shell.execute_reply": "2022-09-06T08:43:21.604638Z",
     "shell.execute_reply.started": "2022-09-06T08:43:21.591145Z"
    },
    "tags": []
   },
   "outputs": [],
   "source": [
    "%load_ext autoreload\n",
    "%autoreload 2"
   ]
  },
  {
   "cell_type": "code",
   "execution_count": 1,
   "id": "189e7554-efec-4300-b291-9af63910ccb9",
   "metadata": {
    "execution": {
     "iopub.execute_input": "2022-09-06T09:11:53.211097Z",
     "iopub.status.busy": "2022-09-06T09:11:53.210861Z",
     "iopub.status.idle": "2022-09-06T09:11:54.821634Z",
     "shell.execute_reply": "2022-09-06T09:11:54.820802Z",
     "shell.execute_reply.started": "2022-09-06T09:11:53.211070Z"
    },
    "tags": []
   },
   "outputs": [],
   "source": [
    "import warnings\n",
    "\n",
    "warnings.simplefilter(action=\"ignore\", category=FutureWarning)\n",
    "warnings.simplefilter(action=\"ignore\", category=DeprecationWarning)\n",
    "\n",
    "import os, sys, re, gc, joblib\n",
    "import numpy as np\n",
    "import numpy_groupies as npg\n",
    "import pandas as pd\n",
    "import scipy.sparse as sp\n",
    "\n",
    "import matplotlib.pyplot as plt\n",
    "from matplotlib import rcParams\n",
    "from matplotlib.colors import ListedColormap\n",
    "\n",
    "import seaborn as sn\n",
    "\n",
    "import anndata\n",
    "import scanpy as sc\n",
    "import sctk as sk\n",
    "\n",
    "\n",
    "rcParams[\"pdf.fonttype\"] = 42\n",
    "rcParams[\"ps.fonttype\"] = 42\n",
    "np.set_printoptions(linewidth=180)\n",
    "sc.settings.verbosity = 1\n",
    "sk.set_figsize((4, 4))\n",
    "expr_cmap = sk.expression_colormap()"
   ]
  },
  {
   "cell_type": "markdown",
   "id": "99dc0275-5dba-4e18-bc57-d27bf6f43788",
   "metadata": {},
   "source": [
    "# Load data"
   ]
  },
  {
   "cell_type": "code",
   "execution_count": 2,
   "id": "48125930-5d85-4a62-a520-25237f3df4ad",
   "metadata": {
    "execution": {
     "iopub.execute_input": "2022-09-06T09:11:54.823145Z",
     "iopub.status.busy": "2022-09-06T09:11:54.822906Z",
     "iopub.status.idle": "2022-09-06T09:12:13.262288Z",
     "shell.execute_reply": "2022-09-06T09:12:13.261540Z",
     "shell.execute_reply.started": "2022-09-06T09:11:54.823120Z"
    },
    "tags": []
   },
   "outputs": [
    {
     "name": "stderr",
     "output_type": "stream",
     "text": [
      "WARNING: Your filename has more than two extensions: ['.norm', '.maternal_removed', '.20220202', '.h5ad'].\n",
      "Only considering the two last: ['.20220202', '.h5ad'].\n",
      "WARNING: Your filename has more than two extensions: ['.norm', '.maternal_removed', '.20220202', '.h5ad'].\n",
      "Only considering the two last: ['.20220202', '.h5ad'].\n"
     ]
    }
   ],
   "source": [
    "fetal_ad = sc.read(\"../20210611_final_object/fetal_skin.norm.maternal_removed.20220202.h5ad\")"
   ]
  },
  {
   "cell_type": "code",
   "execution_count": 3,
   "id": "a37782c5-8a35-4bed-ba08-eb86316e2fbb",
   "metadata": {
    "execution": {
     "iopub.execute_input": "2022-09-06T09:12:13.263764Z",
     "iopub.status.busy": "2022-09-06T09:12:13.263560Z",
     "iopub.status.idle": "2022-09-06T09:12:13.269562Z",
     "shell.execute_reply": "2022-09-06T09:12:13.268902Z",
     "shell.execute_reply.started": "2022-09-06T09:12:13.263725Z"
    },
    "tags": []
   },
   "outputs": [
    {
     "data": {
      "text/plain": [
       "array([1.8038048, 1.4774609, 1.4774609, ..., 1.6299081, 2.2199435, 2.8572528], dtype=float32)"
      ]
     },
     "execution_count": 3,
     "metadata": {},
     "output_type": "execute_result"
    }
   ],
   "source": [
    "fetal_ad.X.data"
   ]
  },
  {
   "cell_type": "code",
   "execution_count": 4,
   "id": "fee31d99-b0df-4933-be8f-b4b21503f99e",
   "metadata": {
    "execution": {
     "iopub.execute_input": "2022-09-06T09:12:13.270762Z",
     "iopub.status.busy": "2022-09-06T09:12:13.270569Z",
     "iopub.status.idle": "2022-09-06T09:12:13.311855Z",
     "shell.execute_reply": "2022-09-06T09:12:13.311170Z",
     "shell.execute_reply.started": "2022-09-06T09:12:13.270741Z"
    },
    "tags": []
   },
   "outputs": [
    {
     "data": {
      "text/plain": [
       "['ASDC',\n",
       " 'Iron-recycling macrophage',\n",
       " 'Adipocytes',\n",
       " 'Arterial',\n",
       " 'B cell',\n",
       " 'Basal',\n",
       " 'POSTN+ basal',\n",
       " 'CD4 T cell',\n",
       " 'CD8 T cell',\n",
       " 'Capillary (venular tip)',\n",
       " 'Capillary/postcapillary venule',\n",
       " 'Companion layer',\n",
       " 'Cuticle/cortex',\n",
       " 'DC1',\n",
       " 'DC2',\n",
       " 'Dermal condensate',\n",
       " 'Dermal papillia',\n",
       " 'Early LE',\n",
       " 'Early endothelial cell',\n",
       " 'Early erythroid',\n",
       " 'Early erythroid (embryonic)',\n",
       " 'FRZB+ early fibroblast',\n",
       " 'HOXC5+ early fibroblast',\n",
       " 'Early myocytes',\n",
       " 'Eo/baso/mast cell progenitor',\n",
       " 'Erythroid (embryonic)',\n",
       " 'Erythroid (fetal)',\n",
       " 'PEAR1+ fibroblast',\n",
       " 'WNT2+ fibroblast',\n",
       " 'HSC',\n",
       " 'ILC2',\n",
       " 'ILC3',\n",
       " 'Immature basal',\n",
       " 'Immature suprabasal',\n",
       " 'Inflammatory DC',\n",
       " 'Innate T type1',\n",
       " 'Innate T type3',\n",
       " 'Inner root sheath',\n",
       " 'LC',\n",
       " 'LE',\n",
       " 'LTi',\n",
       " 'Lymphoid progenitor',\n",
       " 'MEMP - Early erythroid',\n",
       " 'MEMP - Megak',\n",
       " 'MHCII+ macrophage',\n",
       " 'LYVE1++ macrophage',\n",
       " 'Mast cell (earliest)',\n",
       " 'Mast cell (medium)',\n",
       " 'Mast cell (most mature)',\n",
       " 'Matrix/placode',\n",
       " 'Megakaryocyte',\n",
       " 'Melanoblast',\n",
       " 'Melanocyte',\n",
       " 'TREM2+ macrophage',\n",
       " 'Monocyte',\n",
       " 'Monocyte (activated/differentiating)',\n",
       " 'Monocyte precursor',\n",
       " 'LMCD1+ mural cell',\n",
       " 'PLN+ mural cell',\n",
       " 'Myelinating Schwann cells',\n",
       " 'Myoblasts',\n",
       " 'Myocytes',\n",
       " 'Myofibroblasts',\n",
       " 'NK cell',\n",
       " 'Neuroendocrine',\n",
       " 'Neuron progenitors',\n",
       " 'Neutrophil1',\n",
       " 'Neutrophil2',\n",
       " 'Outer root sheath',\n",
       " 'Pericytes',\n",
       " 'Periderm',\n",
       " 'Postcapillary venule',\n",
       " 'Pre B cell',\n",
       " 'Pre pro B cell',\n",
       " 'Pre-dermal condensate',\n",
       " 'Pro B cell',\n",
       " 'SPP1+ proliferating neuron proneitors',\n",
       " 'PID1+ schwann cellls',\n",
       " 'Schwann/Schwann precursors',\n",
       " 'Suprabasal IFE',\n",
       " 'Tip cell (arterial)',\n",
       " 'Treg',\n",
       " 'pDC']"
      ]
     },
     "execution_count": 4,
     "metadata": {},
     "output_type": "execute_result"
    }
   ],
   "source": [
    "fetal_ad.obs.joint_annotation_20220202.cat.categories.tolist()"
   ]
  },
  {
   "cell_type": "markdown",
   "id": "2a2487c8-aaac-48d5-b416-ef88dd7781a9",
   "metadata": {},
   "source": [
    "# Process"
   ]
  },
  {
   "cell_type": "markdown",
   "id": "ff0ab926-8b49-41b6-a07a-7f745d0138cb",
   "metadata": {},
   "source": [
    "## Subset, prepare variables"
   ]
  },
  {
   "cell_type": "code",
   "execution_count": 5,
   "id": "981dbcda-efe8-4bfd-91d6-e390aad5c7c0",
   "metadata": {
    "execution": {
     "iopub.execute_input": "2022-09-06T09:12:13.312874Z",
     "iopub.status.busy": "2022-09-06T09:12:13.312697Z",
     "iopub.status.idle": "2022-09-06T09:12:13.320860Z",
     "shell.execute_reply": "2022-09-06T09:12:13.320201Z",
     "shell.execute_reply.started": "2022-09-06T09:12:13.312852Z"
    },
    "tags": []
   },
   "outputs": [],
   "source": [
    "nonHF_KCs = [\n",
    "    \"Periderm\",\n",
    "    \"Immature basal\",\n",
    "    \"Immature suprabasal\",\n",
    "    \"POSTN+ basal\",\n",
    "    \"Basal\",\n",
    "    \"Suprabasal IFE\",\n",
    "]"
   ]
  },
  {
   "cell_type": "code",
   "execution_count": 95,
   "id": "4ef4ee1c-7dc2-4bca-8349-aedddf3e3d53",
   "metadata": {
    "execution": {
     "iopub.execute_input": "2022-09-06T10:50:37.658580Z",
     "iopub.status.busy": "2022-09-06T10:50:37.658273Z",
     "iopub.status.idle": "2022-09-06T10:50:37.662073Z",
     "shell.execute_reply": "2022-09-06T10:50:37.661375Z",
     "shell.execute_reply.started": "2022-09-06T10:50:37.658553Z"
    },
    "tags": []
   },
   "outputs": [],
   "source": [
    "stages = [\"7-8\", \"9-11\", \"12-16\"]"
   ]
  },
  {
   "cell_type": "code",
   "execution_count": 6,
   "id": "3ce36bd4-1281-4941-b922-f6b18618d090",
   "metadata": {
    "execution": {
     "iopub.execute_input": "2022-09-06T09:12:13.321838Z",
     "iopub.status.busy": "2022-09-06T09:12:13.321648Z",
     "iopub.status.idle": "2022-09-06T09:12:13.333441Z",
     "shell.execute_reply": "2022-09-06T09:12:13.332805Z",
     "shell.execute_reply.started": "2022-09-06T09:12:13.321816Z"
    },
    "tags": []
   },
   "outputs": [],
   "source": [
    "genes = [\n",
    "    \"HES1\",\n",
    "    \"SPP1\",\n",
    "    \"SLC2A3\",\n",
    "    \"SVIL\",\n",
    "    \"KRT18\",\n",
    "    \"ITM2C\",\n",
    "    \"PCP4\",\n",
    "    \"ELF3\",\n",
    "    \"EGLN3\",\n",
    "    \"CLDN4\",\n",
    "    \"KRT13\",\n",
    "    \"RTN1\",\n",
    "    \"LUM\",\n",
    "    \"C2orf40\",\n",
    "    \"BST1\",\n",
    "    \"SFRP2\",\n",
    "    \"PHACTR3\",\n",
    "    \"KRTDAP\",\n",
    "    \"MAL2\",\n",
    "    \"TTR\",\n",
    "    \"ABI3BP\",\n",
    "    \"GABARAP\",\n",
    "    \"TM4SF1\",\n",
    "    \"WIF1\",\n",
    "    \"COL14A1\",\n",
    "    \"EMP2\",\n",
    "    \"KRT14\",\n",
    "    \"PTCH2\",\n",
    "    \"PCBP2\",\n",
    "    \"ATP6V0C\",\n",
    "]"
   ]
  },
  {
   "cell_type": "code",
   "execution_count": 7,
   "id": "8fa63eb9-b9bc-4bb4-8414-227fe0186e01",
   "metadata": {
    "execution": {
     "iopub.execute_input": "2022-09-06T09:12:13.334797Z",
     "iopub.status.busy": "2022-09-06T09:12:13.334620Z",
     "iopub.status.idle": "2022-09-06T09:12:13.346150Z",
     "shell.execute_reply": "2022-09-06T09:12:13.345475Z",
     "shell.execute_reply.started": "2022-09-06T09:12:13.334775Z"
    },
    "tags": []
   },
   "outputs": [],
   "source": [
    "k_nonHF_KC = fetal_ad.obs.joint_annotation_20220202.isin(nonHF_KCs)"
   ]
  },
  {
   "cell_type": "code",
   "execution_count": 8,
   "id": "0434c31f-e7a9-41db-8f30-8a807b5d4de8",
   "metadata": {
    "execution": {
     "iopub.execute_input": "2022-09-06T09:12:13.347145Z",
     "iopub.status.busy": "2022-09-06T09:12:13.346968Z",
     "iopub.status.idle": "2022-09-06T09:12:13.375729Z",
     "shell.execute_reply": "2022-09-06T09:12:13.374830Z",
     "shell.execute_reply.started": "2022-09-06T09:12:13.347123Z"
    },
    "tags": []
   },
   "outputs": [],
   "source": [
    "ad1 = fetal_ad[k_nonHF_KC]"
   ]
  },
  {
   "cell_type": "code",
   "execution_count": 9,
   "id": "f4bf068d-3bbe-4b57-8409-455253d8ba30",
   "metadata": {
    "execution": {
     "iopub.execute_input": "2022-09-06T09:12:13.376747Z",
     "iopub.status.busy": "2022-09-06T09:12:13.376569Z",
     "iopub.status.idle": "2022-09-06T09:12:13.425115Z",
     "shell.execute_reply": "2022-09-06T09:12:13.424411Z",
     "shell.execute_reply.started": "2022-09-06T09:12:13.376724Z"
    },
    "tags": []
   },
   "outputs": [
    {
     "name": "stderr",
     "output_type": "stream",
     "text": [
      "Trying to set attribute `.obs` of view, copying.\n"
     ]
    }
   ],
   "source": [
    "ad1.obs[\"joint_annotation_20220202\"] = ad1.obs.joint_annotation_20220202.cat.reorder_categories(\n",
    "    nonHF_KCs\n",
    ")"
   ]
  },
  {
   "cell_type": "code",
   "execution_count": 11,
   "id": "36782a2c-8f4a-4cdd-b2c6-fee86bf45fa1",
   "metadata": {
    "execution": {
     "iopub.execute_input": "2022-09-06T09:13:21.085753Z",
     "iopub.status.busy": "2022-09-06T09:13:21.085489Z",
     "iopub.status.idle": "2022-09-06T09:13:21.091095Z",
     "shell.execute_reply": "2022-09-06T09:13:21.090453Z",
     "shell.execute_reply.started": "2022-09-06T09:13:21.085727Z"
    },
    "tags": []
   },
   "outputs": [
    {
     "data": {
      "text/plain": [
       "[7, 8, 9, 10, 11, 12, 13, 14, 15, 16]"
      ]
     },
     "execution_count": 11,
     "metadata": {},
     "output_type": "execute_result"
    }
   ],
   "source": [
    "sorted(list(fetal_ad.obs.pcw.unique()))"
   ]
  },
  {
   "cell_type": "code",
   "execution_count": 10,
   "id": "35f2932b-a5a2-4208-a5ea-3f6bd5f75355",
   "metadata": {
    "execution": {
     "iopub.execute_input": "2022-09-06T09:12:26.078050Z",
     "iopub.status.busy": "2022-09-06T09:12:26.077740Z",
     "iopub.status.idle": "2022-09-06T09:12:26.083409Z",
     "shell.execute_reply": "2022-09-06T09:12:26.082779Z",
     "shell.execute_reply.started": "2022-09-06T09:12:26.078024Z"
    },
    "tags": []
   },
   "outputs": [
    {
     "data": {
      "text/plain": [
       "[7, 8, 9, 11, 14, 15, 16]"
      ]
     },
     "execution_count": 10,
     "metadata": {},
     "output_type": "execute_result"
    }
   ],
   "source": [
    "sorted(list(ad1.obs.pcw.unique()))"
   ]
  },
  {
   "cell_type": "code",
   "execution_count": 12,
   "id": "efa7c8b7-f581-46e6-a495-830643fe66a5",
   "metadata": {
    "execution": {
     "iopub.execute_input": "2022-09-06T09:13:30.009350Z",
     "iopub.status.busy": "2022-09-06T09:13:30.009059Z",
     "iopub.status.idle": "2022-09-06T09:13:30.029649Z",
     "shell.execute_reply": "2022-09-06T09:13:30.028942Z",
     "shell.execute_reply.started": "2022-09-06T09:13:30.009324Z"
    },
    "tags": []
   },
   "outputs": [],
   "source": [
    "ad1.obs[\"pcw_text\"] = ad1.obs.pcw.astype(str)\n",
    "\n",
    "ad1.obs[\"stage\"] = sk.regroup(\n",
    "    ad1,\n",
    "    groupby=\"pcw_text\",\n",
    "    regroups={\n",
    "        \"7-8\": [\"7\", \"8\"],\n",
    "        \"9-11\": [\"9\", \"11\"],\n",
    "        \"12-16\": [\"14\", \"15\", \"16\"],\n",
    "    },\n",
    ")"
   ]
  },
  {
   "cell_type": "markdown",
   "id": "2be00747-60a0-4a66-a7a9-d8aefece1062",
   "metadata": {},
   "source": [
    "## Extract and prepare data to plot"
   ]
  },
  {
   "cell_type": "code",
   "execution_count": 22,
   "id": "199f5bfd-cda7-43e2-83b1-e83d137912ad",
   "metadata": {
    "execution": {
     "iopub.execute_input": "2022-09-06T09:24:42.523710Z",
     "iopub.status.busy": "2022-09-06T09:24:42.523388Z",
     "iopub.status.idle": "2022-09-06T09:24:42.643324Z",
     "shell.execute_reply": "2022-09-06T09:24:42.642362Z",
     "shell.execute_reply.started": "2022-09-06T09:24:42.523667Z"
    },
    "tags": []
   },
   "outputs": [],
   "source": [
    "X = (\n",
    "    pd.concat(\n",
    "        [pd.Series(ad1.obs_vector(g), index=ad1.obs_names) for g in genes],\n",
    "        axis=1,\n",
    "    )\n",
    "    .rename(columns={i: g for i, g in enumerate(genes)})\n",
    "    .assign(annot=ad1.obs.joint_annotation_20220202, stage=ad1.obs.stage)\n",
    ")"
   ]
  },
  {
   "cell_type": "code",
   "execution_count": 87,
   "id": "c4dea680-e443-4642-a50a-30d988b25b68",
   "metadata": {
    "execution": {
     "iopub.execute_input": "2022-09-06T10:46:41.284533Z",
     "iopub.status.busy": "2022-09-06T10:46:41.284200Z",
     "iopub.status.idle": "2022-09-06T10:46:41.378814Z",
     "shell.execute_reply": "2022-09-06T10:46:41.377984Z",
     "shell.execute_reply.started": "2022-09-06T10:46:41.284505Z"
    },
    "tags": []
   },
   "outputs": [],
   "source": [
    "ct_df = (\n",
    "    X.melt(id_vars=[\"annot\", \"stage\"], var_name=\"gene\", value_name=\"expression\")\n",
    "    .groupby([\"annot\", \"gene\"])\n",
    "    .agg(\n",
    "        mean=pd.NamedAgg(column=\"expression\", aggfunc=\"mean\"),\n",
    "        frac=pd.NamedAgg(column=\"expression\", aggfunc=lambda x: (x > 0).mean()),\n",
    "    )\n",
    "    .reset_index()\n",
    ")\n",
    "ct_df[\"gene\"] = ct_df[\"gene\"].astype(pd.CategoricalDtype(categories=genes, ordered=True))\n",
    "ct_df[\"x\"] = ct_df.gene.cat.codes\n",
    "ct_df[\"annot\"] = ct_df[\"annot\"].astype(\n",
    "    pd.CategoricalDtype(categories=nonHF_KCs[::-1], ordered=True)\n",
    ")\n",
    "ct_df[\"y\"] = ct_df.annot.cat.codes\n",
    "ct_df = ct_df.merge(\n",
    "    ct_df.groupby(\"gene\")[\"mean\"].max().rename(\"max_mean\"),\n",
    "    how=\"left\",\n",
    "    left_on=\"gene\",\n",
    "    right_index=True,\n",
    ")\n",
    "ct_df[\"mean2\"] = ct_df[\"mean\"] / ct_df[\"max_mean\"]"
   ]
  },
  {
   "cell_type": "code",
   "execution_count": 88,
   "id": "5db0086f-ad3d-4edd-9f2f-2f69edf61d91",
   "metadata": {
    "execution": {
     "iopub.execute_input": "2022-09-06T10:46:42.103917Z",
     "iopub.status.busy": "2022-09-06T10:46:42.103738Z",
     "iopub.status.idle": "2022-09-06T10:46:42.172736Z",
     "shell.execute_reply": "2022-09-06T10:46:42.172138Z",
     "shell.execute_reply.started": "2022-09-06T10:46:42.103895Z"
    },
    "tags": []
   },
   "outputs": [],
   "source": [
    "st_df = (\n",
    "    X.melt(id_vars=[\"annot\", \"stage\"], var_name=\"gene\", value_name=\"expression\")\n",
    "    .groupby([\"stage\", \"gene\"])\n",
    "    .agg(\n",
    "        mean=pd.NamedAgg(column=\"expression\", aggfunc=\"mean\"),\n",
    "        frac=pd.NamedAgg(column=\"expression\", aggfunc=lambda x: (x > 0).mean()),\n",
    "    )\n",
    "    .reset_index()\n",
    ")\n",
    "st_df[\"gene\"] = st_df[\"gene\"].astype(pd.CategoricalDtype(categories=genes, ordered=True))\n",
    "st_df[\"x\"] = st_df.gene.cat.codes\n",
    "st_df[\"stage\"] = st_df[\"stage\"].astype(pd.CategoricalDtype(categories=stages[::-1], ordered=True))\n",
    "st_df[\"y\"] = st_df.stage.cat.codes\n",
    "st_df = st_df.merge(\n",
    "    st_df.groupby(\"gene\")[\"mean\"].max().rename(\"max_mean\"),\n",
    "    how=\"left\",\n",
    "    left_on=\"gene\",\n",
    "    right_index=True,\n",
    ")\n",
    "st_df[\"mean2\"] = st_df[\"mean\"] / st_df[\"max_mean\"]"
   ]
  },
  {
   "cell_type": "code",
   "execution_count": 89,
   "id": "92f82bb8-6a08-46a5-80e7-a9a054510c58",
   "metadata": {
    "execution": {
     "iopub.execute_input": "2022-09-06T10:47:27.574537Z",
     "iopub.status.busy": "2022-09-06T10:47:27.574225Z",
     "iopub.status.idle": "2022-09-06T10:47:27.591095Z",
     "shell.execute_reply": "2022-09-06T10:47:27.590478Z",
     "shell.execute_reply.started": "2022-09-06T10:47:27.574510Z"
    },
    "tags": []
   },
   "outputs": [],
   "source": [
    "df = pd.concat(\n",
    "    [\n",
    "        st_df.melt(id_vars=[\"gene\", \"mean\", \"max_mean\", \"mean2\", \"frac\", \"x\", \"y\"]),\n",
    "        ct_df.melt(id_vars=[\"gene\", \"mean\", \"max_mean\", \"mean2\", \"frac\", \"x\", \"y\"]),\n",
    "    ]\n",
    ")"
   ]
  },
  {
   "cell_type": "markdown",
   "id": "16163ec6-3e0e-4287-9fc0-5a7160ac0b9e",
   "metadata": {},
   "source": [
    "## Plot"
   ]
  },
  {
   "cell_type": "code",
   "execution_count": 180,
   "id": "881f9152-585b-4112-843f-9ffb5952230a",
   "metadata": {
    "execution": {
     "iopub.execute_input": "2022-09-06T11:23:25.694507Z",
     "iopub.status.busy": "2022-09-06T11:23:25.694203Z",
     "iopub.status.idle": "2022-09-06T11:23:26.145945Z",
     "shell.execute_reply": "2022-09-06T11:23:26.145157Z",
     "shell.execute_reply.started": "2022-09-06T11:23:25.694480Z"
    },
    "tags": []
   },
   "outputs": [
    {
     "data": {
      "image/png": "[encoded data removed]",
      "text/plain": [
       "<Figure size 691.2x230.4 with 4 Axes>"
      ]
     },
     "metadata": {
      "needs_background": "light"
     },
     "output_type": "display_data"
    }
   ],
   "source": [
    "# Main axes\n",
    "g = sn.relplot(\n",
    "    data=df,\n",
    "    x=\"x\",\n",
    "    y=\"y\",\n",
    "    hue=\"mean2\",\n",
    "    size=\"frac\",\n",
    "    sizes=(0, 200),\n",
    "    edgecolor=\"k\",\n",
    "    row=\"variable\",\n",
    "    facet_kws={\n",
    "        \"sharex\": False,\n",
    "        \"sharey\": False,\n",
    "        \"gridspec_kws\": dict(hspace=0.05, height_ratios=[0.333, 0.667]),\n",
    "    },\n",
    "    legend=False,\n",
    "    height=1.6,\n",
    "    aspect=6,\n",
    "    palette=\"OrRd\",\n",
    ")\n",
    "g.set_titles(\"\")\n",
    "sn.despine(fig=g.fig, right=False, top=False)\n",
    "\n",
    "g.axes[0, 0].margins(0.02, 0.25)\n",
    "g.axes[0, 0].set_xticks([])\n",
    "g.axes[0, 0].set_yticks(np.arange(len(stages)))\n",
    "g.axes[0, 0].set_yticklabels(stages[::-1])\n",
    "g.axes[0, 0].set_ylabel(\"PCW\", labelpad=20, rotation=0, va=\"center_baseline\")\n",
    "\n",
    "g.axes[1, 0].margins(0.02, 0.125)\n",
    "g.axes[1, 0].set_xticks(np.arange(len(genes)))\n",
    "g.axes[1, 0].set_xticklabels(genes, rotation=90)\n",
    "g.axes[1, 0].set_xlabel(\"\")\n",
    "g.axes[1, 0].set_yticks(np.arange(len(nonHF_KCs)))\n",
    "g.axes[1, 0].set_yticklabels(nonHF_KCs[::-1])\n",
    "g.axes[1, 0].set_ylabel(\"\")\n",
    "\n",
    "# Make legend\n",
    "fig = g.fig\n",
    "main_width = 0.875\n",
    "gap_width = 0.015\n",
    "fig.subplots_adjust(right=main_width)\n",
    "\n",
    "# Dot size legend\n",
    "dlg_ax = fig.add_axes([main_width + gap_width, 0.55, 1 - main_width - gap_width, 0.1])\n",
    "sn.scatterplot(\n",
    "    x=[20, 40, 60, 80, 100],\n",
    "    y=[0, 0, 0, 0, 0],\n",
    "    size=[20, 40, 60, 80, 100],\n",
    "    sizes=(40, 200),\n",
    "    color=[(0.5, 0.5, 0.5)],\n",
    "    edgecolor=\"black\",\n",
    "    ax=dlg_ax,\n",
    "    legend=False,\n",
    ")\n",
    "sn.despine(ax=dlg_ax, left=True, bottom=True)\n",
    "dlg_ax.get_yaxis().set_visible(False)\n",
    "dlg_ax.set_xticks([20, 40, 60, 80, 100])\n",
    "dlg_ax.set_xticklabels([20, 40, 60, 80, 100], size=8)\n",
    "dlg_ax.set_xlim(10, 110)\n",
    "dlg_ax.set_title(\"Fraction of cells\\nin group (%)\", size=10)\n",
    "\n",
    "# Colorbar\n",
    "cb_ax = fig.add_axes([main_width + gap_width, 0.25, 1 - main_width - gap_width, 0.03])\n",
    "fig.colorbar(\n",
    "    plt.cm.ScalarMappable(\n",
    "        cmap=\"OrRd\",\n",
    "    ),\n",
    "    cax=cb_ax,\n",
    "    orientation=\"horizontal\",\n",
    ")\n",
    "sn.despine(ax=cb_ax, left=True, bottom=True)\n",
    "cb_ax.get_yaxis().set_visible(False)\n",
    "cb_ax.set_xticks([0, 0.5, 1])\n",
    "cb_ax.set_xticklabels([0.0, 0.5, 1.0], size=8)\n",
    "cb_ax.set_title(\"Mean expression\\nin group\", size=10);"
   ]
  },
  {
   "cell_type": "code",
   "execution_count": 181,
   "id": "accf20bb-7087-458d-91de-2264e41d9cdc",
   "metadata": {
    "execution": {
     "iopub.execute_input": "2022-09-06T11:23:32.003214Z",
     "iopub.status.busy": "2022-09-06T11:23:32.002930Z",
     "iopub.status.idle": "2022-09-06T11:23:32.315049Z",
     "shell.execute_reply": "2022-09-06T11:23:32.314272Z",
     "shell.execute_reply.started": "2022-09-06T11:23:32.003189Z"
    },
    "tags": []
   },
   "outputs": [],
   "source": [
    "fig.savefig(\"figures/fig2C.20220906.pdf\", bbox_inches=\"tight\")"
   ]
  },
  {
   "cell_type": "code",
   "execution_count": 182,
   "id": "4676fc05-7368-4b1a-8f87-4cd4ed560aff",
   "metadata": {
    "execution": {
     "iopub.execute_input": "2022-09-06T11:23:32.316353Z",
     "iopub.status.busy": "2022-09-06T11:23:32.316181Z",
     "iopub.status.idle": "2022-09-06T11:23:34.984672Z",
     "shell.execute_reply": "2022-09-06T11:23:34.983572Z",
     "shell.execute_reply.started": "2022-09-06T11:23:32.316331Z"
    },
    "tags": []
   },
   "outputs": [],
   "source": [
    "!rclone copy --drive-shared-with-me figures/fig2C.20220906.pdf \"google:/Fetal Skin/Figures/Figs_from_Ni/\""
   ]
  }
 ],
 "metadata": {
  "kernelspec": {
   "display_name": "scanpy16",
   "language": "python",
   "name": "scanpy-new"
  },
  "language_info": {
   "codemirror_mode": {
    "name": "ipython",
    "version": 3
   },
   "file_extension": ".py",
   "mimetype": "text/x-python",
   "name": "python",
   "nbconvert_exporter": "python",
   "pygments_lexer": "ipython3",
   "version": "3.8.5"
  }
 },
 "nbformat": 4,
 "nbformat_minor": 5
}
