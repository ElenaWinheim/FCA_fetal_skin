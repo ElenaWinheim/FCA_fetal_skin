{
 "cells": [
  {
   "cell_type": "markdown",
   "id": "6572cd96-3160-4f5a-957f-fa6b89e3db6b",
   "metadata": {
    "execution": {
     "iopub.execute_input": "2022-10-17T08:38:48.764878Z",
     "iopub.status.busy": "2022-10-17T08:38:48.764578Z",
     "iopub.status.idle": "2022-10-17T08:38:48.769464Z",
     "shell.execute_reply": "2022-10-17T08:38:48.768595Z",
     "shell.execute_reply.started": "2022-10-17T08:38:48.764833Z"
    }
   },
   "source": [
    "dotplot showing DEGs between early/late milo neighborhoods of WNT2 fibroblasts"
   ]
  },
  {
   "cell_type": "markdown",
   "id": "d77dd332-2a7d-4a2c-a528-9732c9f0c66e",
   "metadata": {},
   "source": [
    "# Import and settings"
   ]
  },
  {
   "cell_type": "code",
   "execution_count": 1,
   "id": "b9dd0d74-8a02-408e-a849-da40a3356148",
   "metadata": {
    "execution": {
     "iopub.execute_input": "2022-10-17T09:02:08.932689Z",
     "iopub.status.busy": "2022-10-17T09:02:08.932408Z",
     "iopub.status.idle": "2022-10-17T09:02:08.944973Z",
     "shell.execute_reply": "2022-10-17T09:02:08.944300Z",
     "shell.execute_reply.started": "2022-10-17T09:02:08.932659Z"
    },
    "tags": []
   },
   "outputs": [],
   "source": [
    "%load_ext autoreload\n",
    "%autoreload 2"
   ]
  },
  {
   "cell_type": "code",
   "execution_count": 2,
   "id": "b2ab4a56-d23c-4fa2-a2f3-659a5f2a3b7f",
   "metadata": {
    "execution": {
     "iopub.execute_input": "2022-10-17T09:02:09.535608Z",
     "iopub.status.busy": "2022-10-17T09:02:09.535401Z",
     "iopub.status.idle": "2022-10-17T09:02:11.272403Z",
     "shell.execute_reply": "2022-10-17T09:02:11.271468Z",
     "shell.execute_reply.started": "2022-10-17T09:02:09.535587Z"
    },
    "tags": []
   },
   "outputs": [],
   "source": [
    "import warnings\n",
    "\n",
    "warnings.simplefilter(action=\"ignore\", category=FutureWarning)\n",
    "warnings.simplefilter(action=\"ignore\", category=DeprecationWarning)\n",
    "\n",
    "import os, sys, re, gc, joblib\n",
    "import numpy as np\n",
    "import numpy_groupies as npg\n",
    "import pandas as pd\n",
    "import scipy.sparse as sp\n",
    "\n",
    "import matplotlib.pyplot as plt\n",
    "from matplotlib import rcParams\n",
    "from matplotlib.colors import ListedColormap, LogNorm\n",
    "\n",
    "import seaborn as sn\n",
    "\n",
    "import anndata\n",
    "import scanpy as sc\n",
    "import sctk as sk\n",
    "\n",
    "\n",
    "rcParams[\"pdf.fonttype\"] = 42\n",
    "rcParams[\"ps.fonttype\"] = 42\n",
    "np.set_printoptions(linewidth=180)\n",
    "sc.settings.verbosity = 1\n",
    "sk.set_figsize((4, 4))\n",
    "expr_cmap = sk.expression_colormap()"
   ]
  },
  {
   "cell_type": "markdown",
   "id": "03aa52a5-a638-4a90-94b9-06695e08fd79",
   "metadata": {},
   "source": [
    "# Load data"
   ]
  },
  {
   "cell_type": "code",
   "execution_count": 3,
   "id": "01f22dd5-0ab5-4ae1-9cee-ab0803b0676e",
   "metadata": {
    "execution": {
     "iopub.execute_input": "2022-10-17T09:02:11.480125Z",
     "iopub.status.busy": "2022-10-17T09:02:11.479930Z",
     "iopub.status.idle": "2022-10-17T09:03:07.166574Z",
     "shell.execute_reply": "2022-10-17T09:03:07.165064Z",
     "shell.execute_reply.started": "2022-10-17T09:02:11.480101Z"
    },
    "tags": []
   },
   "outputs": [
    {
     "name": "stderr",
     "output_type": "stream",
     "text": [
      "WARNING: Your filename has more than two extensions: ['.norm', '.maternal_removed', '.20220202', '.h5ad'].\n",
      "Only considering the two last: ['.20220202', '.h5ad'].\n",
      "WARNING: Your filename has more than two extensions: ['.norm', '.maternal_removed', '.20220202', '.h5ad'].\n",
      "Only considering the two last: ['.20220202', '.h5ad'].\n"
     ]
    }
   ],
   "source": [
    "fsk_ad = sc.read(\"../20210611_final_object/fetal_skin.norm.maternal_removed.20220202.h5ad\")"
   ]
  },
  {
   "cell_type": "code",
   "execution_count": 4,
   "id": "6f27ffef-ff30-4b16-92e7-802928b364c5",
   "metadata": {
    "execution": {
     "iopub.execute_input": "2022-10-17T09:03:14.770580Z",
     "iopub.status.busy": "2022-10-17T09:03:14.770280Z",
     "iopub.status.idle": "2022-10-17T09:03:14.927877Z",
     "shell.execute_reply": "2022-10-17T09:03:14.927144Z",
     "shell.execute_reply.started": "2022-10-17T09:03:14.770556Z"
    }
   },
   "outputs": [],
   "source": [
    "early_cells = sk.read_list(\n",
    "    \"milo/fetal_skin.scvi_donor.milo.fig1b_annotation_vs_pcw.early_cells.list\"\n",
    ")\n",
    "late_cells = sk.read_list(\"milo/fetal_skin.scvi_donor.milo.fig1b_annotation_vs_pcw.late_cells.list\")"
   ]
  },
  {
   "cell_type": "code",
   "execution_count": 6,
   "id": "e5d516d3-ddb7-49b7-81b8-baa3b2063353",
   "metadata": {
    "execution": {
     "iopub.execute_input": "2022-10-17T09:03:35.388117Z",
     "iopub.status.busy": "2022-10-17T09:03:35.387850Z",
     "iopub.status.idle": "2022-10-17T09:03:35.409324Z",
     "shell.execute_reply": "2022-10-17T09:03:35.408670Z",
     "shell.execute_reply.started": "2022-10-17T09:03:35.388091Z"
    },
    "tags": []
   },
   "outputs": [
    {
     "data": {
      "text/plain": [
       "AnnData object with n_obs × n_vars = 186533 × 28885\n",
       "    obs: 'sanger_id', 'chemistry', 'donor', 'gender', 'pcw', 'sorting', 'sample', 'chemistry_sorting', 'cell_caller', 'scrublet_score', 'cluster_scrublet_score', 'doublet_pval', 'bh_doublet_pval', 'n_counts', 'n_genes', 'percent_mito', 'percent_ribo', 'percent_hb', 'independent_annotation_refined', 'independent_annotation_broad1', 'independent_annotation_broad2', 'independent_annotation_broad3', 'independent_annotation_broad4', 'independent_annotation_broad5', 'joint_annotation', 'is_maternal', 'fig1b_annotation', 'independent_annotation_refined_20220201a', 'independent_annotation_refined_20220201b', 'independent_annotation_broad1_20220201', 'independent_annotation_broad2_20220201', 'independent_annotation_broad3_20220201', 'joint_annotation_20220201a', 'joint_annotation_20220201b', 'fig1b_annotation_20220201', 'joint_annotation_20220202', 'independent_annotation_refined_20220202', 'fig1b_annotation_20220202'\n",
       "    var: 'gene_ids', 'mito', 'ribo', 'hb', 'n_cells', 'cc', 'n_counts'\n",
       "    obsm: 'X_umap1', 'X_umap2'"
      ]
     },
     "execution_count": 6,
     "metadata": {},
     "output_type": "execute_result"
    }
   ],
   "source": [
    "fsk_ad"
   ]
  },
  {
   "cell_type": "code",
   "execution_count": 7,
   "id": "da86f066-9214-421b-97d0-857a25ffb3b3",
   "metadata": {
    "execution": {
     "iopub.execute_input": "2022-10-17T09:04:21.152398Z",
     "iopub.status.busy": "2022-10-17T09:04:21.152086Z",
     "iopub.status.idle": "2022-10-17T09:04:21.174938Z",
     "shell.execute_reply": "2022-10-17T09:04:21.174226Z",
     "shell.execute_reply.started": "2022-10-17T09:04:21.152370Z"
    },
    "tags": []
   },
   "outputs": [
    {
     "data": {
      "text/plain": [
       "Index(['ASDC', 'Iron-recycling macrophage', 'Adipocytes', 'Arterial', 'B cell',\n",
       "       'Basal KC', 'CD4 T cell', 'CD8 T cell', 'Capillary (venular tip)',\n",
       "       'Capillary/postcapillary venule', 'DC1', 'DC2', 'Dermal condensate',\n",
       "       'Dermal papillia', 'Early KC (stem cell)', 'Early LE',\n",
       "       'Early endothelial cell', 'Early erythroid',\n",
       "       'Early erythroid (embryonic)', 'FRZB+ early fibroblast',\n",
       "       'HOXC5+ early fibroblast', 'Early myocytes',\n",
       "       'Eo/baso/mast cell progenitor', 'Erythroid (embryonic)',\n",
       "       'Erythroid (fetal)', 'PEAR1+ fibroblast', 'WNT2+ fibroblast', 'HSC',\n",
       "       'Hair follicle', 'ILC2', 'ILC3', 'Inflammatory DC', 'Innate T type1',\n",
       "       'Innate T type3', 'LC', 'LE', 'LTi cell', 'Lymphoid progenitor',\n",
       "       'MEMP - Early erythroid', 'MEMP - Megak', 'MHCII+ macrophage',\n",
       "       'LYVE1++ macrophage', 'Mast cell (earliest)', 'Mast cell (medium)',\n",
       "       'Mast cell (most mature)', 'Megakaryocyte', 'Melanoblast', 'Melanocyte',\n",
       "       'TREM2+ macrophage', 'Monocyte', 'Monocyte (activated/differentiating)',\n",
       "       'Monocyte precursor', 'LMCD1+ mural cell', 'PLN+ mural cell',\n",
       "       'Myelinating Schwann cells', 'Myoblasts', 'Myocytes', 'Myofibroblasts',\n",
       "       'NK cell', 'Neuroendocrine', 'Neuron progenitors', 'Neutrophil1',\n",
       "       'Neutrophil2', 'Pericytes', 'Periderm', 'Postcapillary venule',\n",
       "       'Pre B cell', 'Pre pro B cell', 'Pre-dermal condensate', 'Pro B cell',\n",
       "       'SPP1+ proliferating neuron proneitors', 'PID1+ schwann cellls',\n",
       "       'Schwann/Schwann precursors', 'Suprabasal', 'Tip cell (arterial)',\n",
       "       'Treg', 'pDC'],\n",
       "      dtype='object')"
      ]
     },
     "execution_count": 7,
     "metadata": {},
     "output_type": "execute_result"
    }
   ],
   "source": [
    "fsk_ad.obs.independent_annotation_refined_20220202.cat.categories"
   ]
  },
  {
   "cell_type": "code",
   "execution_count": 8,
   "id": "483b85b9-3d73-4856-bb94-cef58b31ff33",
   "metadata": {
    "execution": {
     "iopub.execute_input": "2022-10-17T09:05:05.878400Z",
     "iopub.status.busy": "2022-10-17T09:05:05.878087Z",
     "iopub.status.idle": "2022-10-17T09:05:05.958924Z",
     "shell.execute_reply": "2022-10-17T09:05:05.958166Z",
     "shell.execute_reply.started": "2022-10-17T09:05:05.878374Z"
    }
   },
   "outputs": [],
   "source": [
    "k_wnt2 = fsk_ad.obs.independent_annotation_refined_20220202 == \"WNT2+ fibroblast\"\n",
    "k_early = fsk_ad.obs_names.isin(early_cells)\n",
    "k_late = fsk_ad.obs_names.isin(late_cells)"
   ]
  },
  {
   "cell_type": "code",
   "execution_count": 9,
   "id": "c914b5d5-3976-4d45-8734-3503b1086b39",
   "metadata": {
    "execution": {
     "iopub.execute_input": "2022-10-17T09:05:31.009138Z",
     "iopub.status.busy": "2022-10-17T09:05:31.008869Z",
     "iopub.status.idle": "2022-10-17T09:05:31.184020Z",
     "shell.execute_reply": "2022-10-17T09:05:31.183123Z",
     "shell.execute_reply.started": "2022-10-17T09:05:31.009111Z"
    }
   },
   "outputs": [],
   "source": [
    "wnt2_ad = fsk_ad[k_wnt2 & (k_early | k_late)]"
   ]
  },
  {
   "cell_type": "code",
   "execution_count": 10,
   "id": "c3d1c828-33be-4270-9f53-190237a1f7ba",
   "metadata": {
    "execution": {
     "iopub.execute_input": "2022-10-17T09:05:34.621506Z",
     "iopub.status.busy": "2022-10-17T09:05:34.621238Z",
     "iopub.status.idle": "2022-10-17T09:05:34.643077Z",
     "shell.execute_reply": "2022-10-17T09:05:34.642277Z",
     "shell.execute_reply.started": "2022-10-17T09:05:34.621480Z"
    },
    "tags": []
   },
   "outputs": [
    {
     "data": {
      "text/plain": [
       "View of AnnData object with n_obs × n_vars = 16437 × 28885\n",
       "    obs: 'sanger_id', 'chemistry', 'donor', 'gender', 'pcw', 'sorting', 'sample', 'chemistry_sorting', 'cell_caller', 'scrublet_score', 'cluster_scrublet_score', 'doublet_pval', 'bh_doublet_pval', 'n_counts', 'n_genes', 'percent_mito', 'percent_ribo', 'percent_hb', 'independent_annotation_refined', 'independent_annotation_broad1', 'independent_annotation_broad2', 'independent_annotation_broad3', 'independent_annotation_broad4', 'independent_annotation_broad5', 'joint_annotation', 'is_maternal', 'fig1b_annotation', 'independent_annotation_refined_20220201a', 'independent_annotation_refined_20220201b', 'independent_annotation_broad1_20220201', 'independent_annotation_broad2_20220201', 'independent_annotation_broad3_20220201', 'joint_annotation_20220201a', 'joint_annotation_20220201b', 'fig1b_annotation_20220201', 'joint_annotation_20220202', 'independent_annotation_refined_20220202', 'fig1b_annotation_20220202'\n",
       "    var: 'gene_ids', 'mito', 'ribo', 'hb', 'n_cells', 'cc', 'n_counts'\n",
       "    obsm: 'X_umap1', 'X_umap2'"
      ]
     },
     "execution_count": 10,
     "metadata": {},
     "output_type": "execute_result"
    }
   ],
   "source": [
    "wnt2_ad"
   ]
  },
  {
   "cell_type": "markdown",
   "id": "8e3fd417-896a-4fd6-9890-b2a80c2de5ad",
   "metadata": {},
   "source": [
    "# Process"
   ]
  },
  {
   "cell_type": "code",
   "execution_count": 11,
   "id": "7e0b7c82-d0db-4e10-a5b3-61f530638821",
   "metadata": {
    "execution": {
     "iopub.execute_input": "2022-10-17T09:07:28.248586Z",
     "iopub.status.busy": "2022-10-17T09:07:28.248273Z",
     "iopub.status.idle": "2022-10-17T09:07:28.691529Z",
     "shell.execute_reply": "2022-10-17T09:07:28.690794Z",
     "shell.execute_reply.started": "2022-10-17T09:07:28.248562Z"
    },
    "tags": []
   },
   "outputs": [
    {
     "name": "stderr",
     "output_type": "stream",
     "text": [
      "Trying to set attribute `.obs` of view, copying.\n"
     ]
    }
   ],
   "source": [
    "wnt2_ad.obs[\"milo_stage\"] = \"Early\"\n",
    "wnt2_ad.obs.loc[wnt2_ad.obs_names.isin(late_cells), \"milo_stage\"] = \"Late\"\n",
    "wnt2_ad.obs[\"milo_stage\"] = wnt2_ad.obs[\"milo_stage\"].astype(\n",
    "    pd.CategoricalDtype([\"Early\", \"Late\"], ordered=True)\n",
    ")"
   ]
  },
  {
   "cell_type": "code",
   "execution_count": 101,
   "id": "5aa8884d-0c28-4eee-9567-cdf514eeec41",
   "metadata": {
    "execution": {
     "iopub.execute_input": "2022-10-17T10:16:58.096325Z",
     "iopub.status.busy": "2022-10-17T10:16:58.096024Z",
     "iopub.status.idle": "2022-10-17T10:16:58.136578Z",
     "shell.execute_reply": "2022-10-17T10:16:58.135656Z",
     "shell.execute_reply.started": "2022-10-17T10:16:58.096296Z"
    },
    "tags": []
   },
   "outputs": [],
   "source": [
    "wnt2_ad.obs[\"pcw_stage\"] = pd.cut(\n",
    "    wnt2_ad.obs.pcw, bins=[7, 9, 12, 14, 17], right=False, include_lowest=True\n",
    ")"
   ]
  },
  {
   "cell_type": "code",
   "execution_count": 102,
   "id": "16a84145-28c4-4111-b75b-04b126eb07a3",
   "metadata": {
    "execution": {
     "iopub.execute_input": "2022-10-17T10:16:59.095951Z",
     "iopub.status.busy": "2022-10-17T10:16:59.095725Z",
     "iopub.status.idle": "2022-10-17T10:16:59.119498Z",
     "shell.execute_reply": "2022-10-17T10:16:59.118894Z",
     "shell.execute_reply.started": "2022-10-17T10:16:59.095927Z"
    },
    "tags": []
   },
   "outputs": [],
   "source": [
    "wnt2_ad.obs.pcw_stage.cat.categories = wnt2_ad.obs.pcw_stage.cat.categories.astype(str)"
   ]
  },
  {
   "cell_type": "markdown",
   "id": "d27ffdb0-b10a-4e59-913a-13b285293642",
   "metadata": {},
   "source": [
    "## scanpy's DE"
   ]
  },
  {
   "cell_type": "code",
   "execution_count": 15,
   "id": "54fa8588-e663-4958-9ed9-3d88a5ccca4d",
   "metadata": {
    "execution": {
     "iopub.execute_input": "2022-10-17T09:08:59.879853Z",
     "iopub.status.busy": "2022-10-17T09:08:59.879534Z",
     "iopub.status.idle": "2022-10-17T09:10:08.163700Z",
     "shell.execute_reply": "2022-10-17T09:10:08.163001Z",
     "shell.execute_reply.started": "2022-10-17T09:08:59.879827Z"
    },
    "tags": []
   },
   "outputs": [],
   "source": [
    "degs = sk.diffexp_paired(wnt2_ad, groupby=\"milo_stage\", pair=[\"Early\", \"Late\"], method=\"wilcoxon\")"
   ]
  },
  {
   "cell_type": "code",
   "execution_count": 18,
   "id": "8a740753-767a-4cf8-a938-08282efe6446",
   "metadata": {
    "execution": {
     "iopub.execute_input": "2022-10-17T09:10:58.662843Z",
     "iopub.status.busy": "2022-10-17T09:10:58.662398Z",
     "iopub.status.idle": "2022-10-17T09:10:58.683060Z",
     "shell.execute_reply": "2022-10-17T09:10:58.682482Z",
     "shell.execute_reply.started": "2022-10-17T09:10:58.662817Z"
    },
    "tags": []
   },
   "outputs": [],
   "source": [
    "early_deg, late_deg = degs"
   ]
  },
  {
   "cell_type": "code",
   "execution_count": 24,
   "id": "b5e800d1-49ec-40b0-aaa3-1191fec4d21e",
   "metadata": {
    "execution": {
     "iopub.execute_input": "2022-10-17T09:14:11.860693Z",
     "iopub.status.busy": "2022-10-17T09:14:11.860259Z",
     "iopub.status.idle": "2022-10-17T09:14:11.888487Z",
     "shell.execute_reply": "2022-10-17T09:14:11.887943Z",
     "shell.execute_reply.started": "2022-10-17T09:14:11.860668Z"
    },
    "tags": []
   },
   "outputs": [],
   "source": [
    "early_deg1 = early_deg.loc[\n",
    "    ~early_deg.genes.isin(wnt2_ad.var_names[wnt2_ad.var.ribo | wnt2_ad.var.mito])\n",
    "    & (early_deg.logfoldchanges > 1)\n",
    "    & (early_deg.pvals_adj < 0.05)\n",
    "].sort_values([\"pvals_adj\", \"logfoldchanges\"], ascending=[True, False])"
   ]
  },
  {
   "cell_type": "code",
   "execution_count": 25,
   "id": "8765df4d-0cc5-4b33-82e4-e4b2a7d4d3e7",
   "metadata": {
    "execution": {
     "iopub.execute_input": "2022-10-17T09:14:34.193325Z",
     "iopub.status.busy": "2022-10-17T09:14:34.192905Z",
     "iopub.status.idle": "2022-10-17T09:14:34.222689Z",
     "shell.execute_reply": "2022-10-17T09:14:34.222202Z",
     "shell.execute_reply.started": "2022-10-17T09:14:34.193298Z"
    },
    "tags": []
   },
   "outputs": [],
   "source": [
    "late_deg1 = late_deg.loc[\n",
    "    ~late_deg.genes.isin(wnt2_ad.var_names[wnt2_ad.var.ribo | wnt2_ad.var.mito])\n",
    "    & (late_deg.logfoldchanges > 1)\n",
    "    & (late_deg.pvals_adj < 0.05)\n",
    "].sort_values([\"pvals_adj\", \"logfoldchanges\"], ascending=[True, False])"
   ]
  },
  {
   "cell_type": "code",
   "execution_count": 26,
   "id": "2c520a0f-7a92-4689-9e27-038548084e12",
   "metadata": {
    "execution": {
     "iopub.execute_input": "2022-10-17T09:14:41.637580Z",
     "iopub.status.busy": "2022-10-17T09:14:41.637252Z",
     "iopub.status.idle": "2022-10-17T09:14:41.667839Z",
     "shell.execute_reply": "2022-10-17T09:14:41.667343Z",
     "shell.execute_reply.started": "2022-10-17T09:14:41.637556Z"
    }
   },
   "outputs": [
    {
     "data": {
      "text/html": [
       "<div>\n",
       "<style scoped>\n",
       "    .dataframe tbody tr th:only-of-type {\n",
       "        vertical-align: middle;\n",
       "    }\n",
       "\n",
       "    .dataframe tbody tr th {\n",
       "        vertical-align: top;\n",
       "    }\n",
       "\n",
       "    .dataframe thead th {\n",
       "        text-align: right;\n",
       "    }\n",
       "</style>\n",
       "<table border=\"1\" class=\"dataframe\">\n",
       "  <thead>\n",
       "    <tr style=\"text-align: right;\">\n",
       "      <th></th>\n",
       "      <th>cluster</th>\n",
       "      <th>ref</th>\n",
       "      <th>rank</th>\n",
       "      <th>genes</th>\n",
       "      <th>scores</th>\n",
       "      <th>logfoldchanges</th>\n",
       "      <th>pvals</th>\n",
       "      <th>pvals_adj</th>\n",
       "    </tr>\n",
       "  </thead>\n",
       "  <tbody>\n",
       "    <tr>\n",
       "      <th>44</th>\n",
       "      <td>Early</td>\n",
       "      <td>Late</td>\n",
       "      <td>44</td>\n",
       "      <td>CCL2</td>\n",
       "      <td>58.095142</td>\n",
       "      <td>3.949052</td>\n",
       "      <td>0.0</td>\n",
       "      <td>0.0</td>\n",
       "    </tr>\n",
       "    <tr>\n",
       "      <th>35</th>\n",
       "      <td>Early</td>\n",
       "      <td>Late</td>\n",
       "      <td>35</td>\n",
       "      <td>DONSON</td>\n",
       "      <td>64.006927</td>\n",
       "      <td>3.848431</td>\n",
       "      <td>0.0</td>\n",
       "      <td>0.0</td>\n",
       "    </tr>\n",
       "    <tr>\n",
       "      <th>100</th>\n",
       "      <td>Early</td>\n",
       "      <td>Late</td>\n",
       "      <td>100</td>\n",
       "      <td>INHBA</td>\n",
       "      <td>45.408318</td>\n",
       "      <td>3.179961</td>\n",
       "      <td>0.0</td>\n",
       "      <td>0.0</td>\n",
       "    </tr>\n",
       "    <tr>\n",
       "      <th>93</th>\n",
       "      <td>Early</td>\n",
       "      <td>Late</td>\n",
       "      <td>93</td>\n",
       "      <td>ATF3</td>\n",
       "      <td>46.411491</td>\n",
       "      <td>2.994122</td>\n",
       "      <td>0.0</td>\n",
       "      <td>0.0</td>\n",
       "    </tr>\n",
       "    <tr>\n",
       "      <th>108</th>\n",
       "      <td>Early</td>\n",
       "      <td>Late</td>\n",
       "      <td>108</td>\n",
       "      <td>TAGLN</td>\n",
       "      <td>43.271980</td>\n",
       "      <td>2.958413</td>\n",
       "      <td>0.0</td>\n",
       "      <td>0.0</td>\n",
       "    </tr>\n",
       "    <tr>\n",
       "      <th>36</th>\n",
       "      <td>Early</td>\n",
       "      <td>Late</td>\n",
       "      <td>36</td>\n",
       "      <td>IRF1</td>\n",
       "      <td>63.233753</td>\n",
       "      <td>2.923013</td>\n",
       "      <td>0.0</td>\n",
       "      <td>0.0</td>\n",
       "    </tr>\n",
       "    <tr>\n",
       "      <th>24</th>\n",
       "      <td>Early</td>\n",
       "      <td>Late</td>\n",
       "      <td>24</td>\n",
       "      <td>ATP5O</td>\n",
       "      <td>71.916008</td>\n",
       "      <td>2.670044</td>\n",
       "      <td>0.0</td>\n",
       "      <td>0.0</td>\n",
       "    </tr>\n",
       "    <tr>\n",
       "      <th>20</th>\n",
       "      <td>Early</td>\n",
       "      <td>Late</td>\n",
       "      <td>20</td>\n",
       "      <td>TPM1</td>\n",
       "      <td>73.188675</td>\n",
       "      <td>2.644712</td>\n",
       "      <td>0.0</td>\n",
       "      <td>0.0</td>\n",
       "    </tr>\n",
       "    <tr>\n",
       "      <th>41</th>\n",
       "      <td>Early</td>\n",
       "      <td>Late</td>\n",
       "      <td>41</td>\n",
       "      <td>NDUFB8</td>\n",
       "      <td>59.342072</td>\n",
       "      <td>2.617155</td>\n",
       "      <td>0.0</td>\n",
       "      <td>0.0</td>\n",
       "    </tr>\n",
       "    <tr>\n",
       "      <th>119</th>\n",
       "      <td>Early</td>\n",
       "      <td>Late</td>\n",
       "      <td>119</td>\n",
       "      <td>HNRNPA1L2</td>\n",
       "      <td>39.844765</td>\n",
       "      <td>2.571094</td>\n",
       "      <td>0.0</td>\n",
       "      <td>0.0</td>\n",
       "    </tr>\n",
       "    <tr>\n",
       "      <th>69</th>\n",
       "      <td>Early</td>\n",
       "      <td>Late</td>\n",
       "      <td>69</td>\n",
       "      <td>QPRT</td>\n",
       "      <td>53.329670</td>\n",
       "      <td>2.522860</td>\n",
       "      <td>0.0</td>\n",
       "      <td>0.0</td>\n",
       "    </tr>\n",
       "    <tr>\n",
       "      <th>88</th>\n",
       "      <td>Early</td>\n",
       "      <td>Late</td>\n",
       "      <td>88</td>\n",
       "      <td>IER3</td>\n",
       "      <td>47.405552</td>\n",
       "      <td>2.497437</td>\n",
       "      <td>0.0</td>\n",
       "      <td>0.0</td>\n",
       "    </tr>\n",
       "    <tr>\n",
       "      <th>30</th>\n",
       "      <td>Early</td>\n",
       "      <td>Late</td>\n",
       "      <td>30</td>\n",
       "      <td>TUBB2B</td>\n",
       "      <td>68.758308</td>\n",
       "      <td>2.487979</td>\n",
       "      <td>0.0</td>\n",
       "      <td>0.0</td>\n",
       "    </tr>\n",
       "    <tr>\n",
       "      <th>120</th>\n",
       "      <td>Early</td>\n",
       "      <td>Late</td>\n",
       "      <td>120</td>\n",
       "      <td>APCDD1</td>\n",
       "      <td>39.678501</td>\n",
       "      <td>2.481530</td>\n",
       "      <td>0.0</td>\n",
       "      <td>0.0</td>\n",
       "    </tr>\n",
       "    <tr>\n",
       "      <th>116</th>\n",
       "      <td>Early</td>\n",
       "      <td>Late</td>\n",
       "      <td>116</td>\n",
       "      <td>SFRP1</td>\n",
       "      <td>41.082455</td>\n",
       "      <td>2.444870</td>\n",
       "      <td>0.0</td>\n",
       "      <td>0.0</td>\n",
       "    </tr>\n",
       "    <tr>\n",
       "      <th>70</th>\n",
       "      <td>Early</td>\n",
       "      <td>Late</td>\n",
       "      <td>70</td>\n",
       "      <td>PSMA2</td>\n",
       "      <td>53.125744</td>\n",
       "      <td>2.415668</td>\n",
       "      <td>0.0</td>\n",
       "      <td>0.0</td>\n",
       "    </tr>\n",
       "    <tr>\n",
       "      <th>110</th>\n",
       "      <td>Early</td>\n",
       "      <td>Late</td>\n",
       "      <td>110</td>\n",
       "      <td>NFKBIZ</td>\n",
       "      <td>42.316120</td>\n",
       "      <td>2.412626</td>\n",
       "      <td>0.0</td>\n",
       "      <td>0.0</td>\n",
       "    </tr>\n",
       "    <tr>\n",
       "      <th>111</th>\n",
       "      <td>Early</td>\n",
       "      <td>Late</td>\n",
       "      <td>111</td>\n",
       "      <td>INTS6</td>\n",
       "      <td>41.925907</td>\n",
       "      <td>2.356945</td>\n",
       "      <td>0.0</td>\n",
       "      <td>0.0</td>\n",
       "    </tr>\n",
       "    <tr>\n",
       "      <th>75</th>\n",
       "      <td>Early</td>\n",
       "      <td>Late</td>\n",
       "      <td>75</td>\n",
       "      <td>NME1</td>\n",
       "      <td>50.984371</td>\n",
       "      <td>2.340773</td>\n",
       "      <td>0.0</td>\n",
       "      <td>0.0</td>\n",
       "    </tr>\n",
       "    <tr>\n",
       "      <th>106</th>\n",
       "      <td>Early</td>\n",
       "      <td>Late</td>\n",
       "      <td>106</td>\n",
       "      <td>TWIST1</td>\n",
       "      <td>43.644581</td>\n",
       "      <td>2.292178</td>\n",
       "      <td>0.0</td>\n",
       "      <td>0.0</td>\n",
       "    </tr>\n",
       "  </tbody>\n",
       "</table>\n",
       "</div>"
      ],
      "text/plain": [
       "    cluster   ref  rank      genes     scores  logfoldchanges  pvals  \\\n",
       "44    Early  Late    44       CCL2  58.095142        3.949052    0.0   \n",
       "35    Early  Late    35     DONSON  64.006927        3.848431    0.0   \n",
       "100   Early  Late   100      INHBA  45.408318        3.179961    0.0   \n",
       "93    Early  Late    93       ATF3  46.411491        2.994122    0.0   \n",
       "108   Early  Late   108      TAGLN  43.271980        2.958413    0.0   \n",
       "36    Early  Late    36       IRF1  63.233753        2.923013    0.0   \n",
       "24    Early  Late    24      ATP5O  71.916008        2.670044    0.0   \n",
       "20    Early  Late    20       TPM1  73.188675        2.644712    0.0   \n",
       "41    Early  Late    41     NDUFB8  59.342072        2.617155    0.0   \n",
       "119   Early  Late   119  HNRNPA1L2  39.844765        2.571094    0.0   \n",
       "69    Early  Late    69       QPRT  53.329670        2.522860    0.0   \n",
       "88    Early  Late    88       IER3  47.405552        2.497437    0.0   \n",
       "30    Early  Late    30     TUBB2B  68.758308        2.487979    0.0   \n",
       "120   Early  Late   120     APCDD1  39.678501        2.481530    0.0   \n",
       "116   Early  Late   116      SFRP1  41.082455        2.444870    0.0   \n",
       "70    Early  Late    70      PSMA2  53.125744        2.415668    0.0   \n",
       "110   Early  Late   110     NFKBIZ  42.316120        2.412626    0.0   \n",
       "111   Early  Late   111      INTS6  41.925907        2.356945    0.0   \n",
       "75    Early  Late    75       NME1  50.984371        2.340773    0.0   \n",
       "106   Early  Late   106     TWIST1  43.644581        2.292178    0.0   \n",
       "\n",
       "     pvals_adj  \n",
       "44         0.0  \n",
       "35         0.0  \n",
       "100        0.0  \n",
       "93         0.0  \n",
       "108        0.0  \n",
       "36         0.0  \n",
       "24         0.0  \n",
       "20         0.0  \n",
       "41         0.0  \n",
       "119        0.0  \n",
       "69         0.0  \n",
       "88         0.0  \n",
       "30         0.0  \n",
       "120        0.0  \n",
       "116        0.0  \n",
       "70         0.0  \n",
       "110        0.0  \n",
       "111        0.0  \n",
       "75         0.0  \n",
       "106        0.0  "
      ]
     },
     "execution_count": 26,
     "metadata": {},
     "output_type": "execute_result"
    }
   ],
   "source": [
    "early_deg1.head(20)"
   ]
  },
  {
   "cell_type": "code",
   "execution_count": 27,
   "id": "1e1a8fbe-f6ee-4e6f-a2b9-47e2395369ed",
   "metadata": {
    "execution": {
     "iopub.execute_input": "2022-10-17T09:14:53.475015Z",
     "iopub.status.busy": "2022-10-17T09:14:53.474637Z",
     "iopub.status.idle": "2022-10-17T09:14:53.505258Z",
     "shell.execute_reply": "2022-10-17T09:14:53.504772Z",
     "shell.execute_reply.started": "2022-10-17T09:14:53.474990Z"
    },
    "tags": []
   },
   "outputs": [
    {
     "data": {
      "text/html": [
       "<div>\n",
       "<style scoped>\n",
       "    .dataframe tbody tr th:only-of-type {\n",
       "        vertical-align: middle;\n",
       "    }\n",
       "\n",
       "    .dataframe tbody tr th {\n",
       "        vertical-align: top;\n",
       "    }\n",
       "\n",
       "    .dataframe thead th {\n",
       "        text-align: right;\n",
       "    }\n",
       "</style>\n",
       "<table border=\"1\" class=\"dataframe\">\n",
       "  <thead>\n",
       "    <tr style=\"text-align: right;\">\n",
       "      <th></th>\n",
       "      <th>cluster</th>\n",
       "      <th>ref</th>\n",
       "      <th>rank</th>\n",
       "      <th>genes</th>\n",
       "      <th>scores</th>\n",
       "      <th>logfoldchanges</th>\n",
       "      <th>pvals</th>\n",
       "      <th>pvals_adj</th>\n",
       "    </tr>\n",
       "  </thead>\n",
       "  <tbody>\n",
       "    <tr>\n",
       "      <th>49</th>\n",
       "      <td>Late</td>\n",
       "      <td>Early</td>\n",
       "      <td>49</td>\n",
       "      <td>CLEC3B</td>\n",
       "      <td>52.871700</td>\n",
       "      <td>5.008867</td>\n",
       "      <td>0.0</td>\n",
       "      <td>0.0</td>\n",
       "    </tr>\n",
       "    <tr>\n",
       "      <th>2</th>\n",
       "      <td>Late</td>\n",
       "      <td>Early</td>\n",
       "      <td>2</td>\n",
       "      <td>DPT</td>\n",
       "      <td>80.845528</td>\n",
       "      <td>4.209752</td>\n",
       "      <td>0.0</td>\n",
       "      <td>0.0</td>\n",
       "    </tr>\n",
       "    <tr>\n",
       "      <th>87</th>\n",
       "      <td>Late</td>\n",
       "      <td>Early</td>\n",
       "      <td>87</td>\n",
       "      <td>CFD</td>\n",
       "      <td>43.787663</td>\n",
       "      <td>4.175316</td>\n",
       "      <td>0.0</td>\n",
       "      <td>0.0</td>\n",
       "    </tr>\n",
       "    <tr>\n",
       "      <th>108</th>\n",
       "      <td>Late</td>\n",
       "      <td>Early</td>\n",
       "      <td>108</td>\n",
       "      <td>PI16</td>\n",
       "      <td>39.563667</td>\n",
       "      <td>3.923158</td>\n",
       "      <td>0.0</td>\n",
       "      <td>0.0</td>\n",
       "    </tr>\n",
       "    <tr>\n",
       "      <th>73</th>\n",
       "      <td>Late</td>\n",
       "      <td>Early</td>\n",
       "      <td>73</td>\n",
       "      <td>ATP6V0C</td>\n",
       "      <td>46.982391</td>\n",
       "      <td>3.781868</td>\n",
       "      <td>0.0</td>\n",
       "      <td>0.0</td>\n",
       "    </tr>\n",
       "    <tr>\n",
       "      <th>5</th>\n",
       "      <td>Late</td>\n",
       "      <td>Early</td>\n",
       "      <td>5</td>\n",
       "      <td>GABARAP</td>\n",
       "      <td>77.298546</td>\n",
       "      <td>3.048984</td>\n",
       "      <td>0.0</td>\n",
       "      <td>0.0</td>\n",
       "    </tr>\n",
       "    <tr>\n",
       "      <th>37</th>\n",
       "      <td>Late</td>\n",
       "      <td>Early</td>\n",
       "      <td>37</td>\n",
       "      <td>MFAP5</td>\n",
       "      <td>55.508789</td>\n",
       "      <td>3.014041</td>\n",
       "      <td>0.0</td>\n",
       "      <td>0.0</td>\n",
       "    </tr>\n",
       "    <tr>\n",
       "      <th>17</th>\n",
       "      <td>Late</td>\n",
       "      <td>Early</td>\n",
       "      <td>17</td>\n",
       "      <td>MTRNR2L12</td>\n",
       "      <td>66.814796</td>\n",
       "      <td>3.010262</td>\n",
       "      <td>0.0</td>\n",
       "      <td>0.0</td>\n",
       "    </tr>\n",
       "    <tr>\n",
       "      <th>115</th>\n",
       "      <td>Late</td>\n",
       "      <td>Early</td>\n",
       "      <td>115</td>\n",
       "      <td>NRK</td>\n",
       "      <td>39.073212</td>\n",
       "      <td>2.943544</td>\n",
       "      <td>0.0</td>\n",
       "      <td>0.0</td>\n",
       "    </tr>\n",
       "    <tr>\n",
       "      <th>6</th>\n",
       "      <td>Late</td>\n",
       "      <td>Early</td>\n",
       "      <td>6</td>\n",
       "      <td>POSTN</td>\n",
       "      <td>76.916000</td>\n",
       "      <td>2.907179</td>\n",
       "      <td>0.0</td>\n",
       "      <td>0.0</td>\n",
       "    </tr>\n",
       "    <tr>\n",
       "      <th>60</th>\n",
       "      <td>Late</td>\n",
       "      <td>Early</td>\n",
       "      <td>60</td>\n",
       "      <td>TNXB</td>\n",
       "      <td>49.762993</td>\n",
       "      <td>2.892610</td>\n",
       "      <td>0.0</td>\n",
       "      <td>0.0</td>\n",
       "    </tr>\n",
       "    <tr>\n",
       "      <th>28</th>\n",
       "      <td>Late</td>\n",
       "      <td>Early</td>\n",
       "      <td>28</td>\n",
       "      <td>IGFBP3</td>\n",
       "      <td>60.728466</td>\n",
       "      <td>2.845206</td>\n",
       "      <td>0.0</td>\n",
       "      <td>0.0</td>\n",
       "    </tr>\n",
       "    <tr>\n",
       "      <th>24</th>\n",
       "      <td>Late</td>\n",
       "      <td>Early</td>\n",
       "      <td>24</td>\n",
       "      <td>ASPN</td>\n",
       "      <td>63.028725</td>\n",
       "      <td>2.845138</td>\n",
       "      <td>0.0</td>\n",
       "      <td>0.0</td>\n",
       "    </tr>\n",
       "    <tr>\n",
       "      <th>42</th>\n",
       "      <td>Late</td>\n",
       "      <td>Early</td>\n",
       "      <td>42</td>\n",
       "      <td>GSTM2</td>\n",
       "      <td>54.264317</td>\n",
       "      <td>2.843066</td>\n",
       "      <td>0.0</td>\n",
       "      <td>0.0</td>\n",
       "    </tr>\n",
       "    <tr>\n",
       "      <th>23</th>\n",
       "      <td>Late</td>\n",
       "      <td>Early</td>\n",
       "      <td>23</td>\n",
       "      <td>MXRA8</td>\n",
       "      <td>64.349403</td>\n",
       "      <td>2.777847</td>\n",
       "      <td>0.0</td>\n",
       "      <td>0.0</td>\n",
       "    </tr>\n",
       "    <tr>\n",
       "      <th>9</th>\n",
       "      <td>Late</td>\n",
       "      <td>Early</td>\n",
       "      <td>9</td>\n",
       "      <td>DLK1</td>\n",
       "      <td>75.299568</td>\n",
       "      <td>2.709290</td>\n",
       "      <td>0.0</td>\n",
       "      <td>0.0</td>\n",
       "    </tr>\n",
       "    <tr>\n",
       "      <th>74</th>\n",
       "      <td>Late</td>\n",
       "      <td>Early</td>\n",
       "      <td>74</td>\n",
       "      <td>SOD3</td>\n",
       "      <td>46.976612</td>\n",
       "      <td>2.678651</td>\n",
       "      <td>0.0</td>\n",
       "      <td>0.0</td>\n",
       "    </tr>\n",
       "    <tr>\n",
       "      <th>59</th>\n",
       "      <td>Late</td>\n",
       "      <td>Early</td>\n",
       "      <td>59</td>\n",
       "      <td>HSPB6</td>\n",
       "      <td>49.828224</td>\n",
       "      <td>2.667490</td>\n",
       "      <td>0.0</td>\n",
       "      <td>0.0</td>\n",
       "    </tr>\n",
       "    <tr>\n",
       "      <th>14</th>\n",
       "      <td>Late</td>\n",
       "      <td>Early</td>\n",
       "      <td>14</td>\n",
       "      <td>FNDC1</td>\n",
       "      <td>67.375046</td>\n",
       "      <td>2.644728</td>\n",
       "      <td>0.0</td>\n",
       "      <td>0.0</td>\n",
       "    </tr>\n",
       "    <tr>\n",
       "      <th>25</th>\n",
       "      <td>Late</td>\n",
       "      <td>Early</td>\n",
       "      <td>25</td>\n",
       "      <td>ANGPTL1</td>\n",
       "      <td>62.738136</td>\n",
       "      <td>2.624948</td>\n",
       "      <td>0.0</td>\n",
       "      <td>0.0</td>\n",
       "    </tr>\n",
       "  </tbody>\n",
       "</table>\n",
       "</div>"
      ],
      "text/plain": [
       "    cluster    ref  rank      genes     scores  logfoldchanges  pvals  \\\n",
       "49     Late  Early    49     CLEC3B  52.871700        5.008867    0.0   \n",
       "2      Late  Early     2        DPT  80.845528        4.209752    0.0   \n",
       "87     Late  Early    87        CFD  43.787663        4.175316    0.0   \n",
       "108    Late  Early   108       PI16  39.563667        3.923158    0.0   \n",
       "73     Late  Early    73    ATP6V0C  46.982391        3.781868    0.0   \n",
       "5      Late  Early     5    GABARAP  77.298546        3.048984    0.0   \n",
       "37     Late  Early    37      MFAP5  55.508789        3.014041    0.0   \n",
       "17     Late  Early    17  MTRNR2L12  66.814796        3.010262    0.0   \n",
       "115    Late  Early   115        NRK  39.073212        2.943544    0.0   \n",
       "6      Late  Early     6      POSTN  76.916000        2.907179    0.0   \n",
       "60     Late  Early    60       TNXB  49.762993        2.892610    0.0   \n",
       "28     Late  Early    28     IGFBP3  60.728466        2.845206    0.0   \n",
       "24     Late  Early    24       ASPN  63.028725        2.845138    0.0   \n",
       "42     Late  Early    42      GSTM2  54.264317        2.843066    0.0   \n",
       "23     Late  Early    23      MXRA8  64.349403        2.777847    0.0   \n",
       "9      Late  Early     9       DLK1  75.299568        2.709290    0.0   \n",
       "74     Late  Early    74       SOD3  46.976612        2.678651    0.0   \n",
       "59     Late  Early    59      HSPB6  49.828224        2.667490    0.0   \n",
       "14     Late  Early    14      FNDC1  67.375046        2.644728    0.0   \n",
       "25     Late  Early    25    ANGPTL1  62.738136        2.624948    0.0   \n",
       "\n",
       "     pvals_adj  \n",
       "49         0.0  \n",
       "2          0.0  \n",
       "87         0.0  \n",
       "108        0.0  \n",
       "73         0.0  \n",
       "5          0.0  \n",
       "37         0.0  \n",
       "17         0.0  \n",
       "115        0.0  \n",
       "6          0.0  \n",
       "60         0.0  \n",
       "28         0.0  \n",
       "24         0.0  \n",
       "42         0.0  \n",
       "23         0.0  \n",
       "9          0.0  \n",
       "74         0.0  \n",
       "59         0.0  \n",
       "14         0.0  \n",
       "25         0.0  "
      ]
     },
     "execution_count": 27,
     "metadata": {},
     "output_type": "execute_result"
    }
   ],
   "source": [
    "late_deg1.head(20)"
   ]
  },
  {
   "cell_type": "code",
   "execution_count": 139,
   "id": "cad6295d-2d01-4e3c-81ed-7c8cb35f14c3",
   "metadata": {
    "execution": {
     "iopub.execute_input": "2022-10-17T10:40:28.433727Z",
     "iopub.status.busy": "2022-10-17T10:40:28.433403Z",
     "iopub.status.idle": "2022-10-17T10:40:29.371923Z",
     "shell.execute_reply": "2022-10-17T10:40:29.371177Z",
     "shell.execute_reply.started": "2022-10-17T10:40:28.433700Z"
    },
    "tags": []
   },
   "outputs": [
    {
     "data": {
      "image/png": "[encoded data removed]",
      "text/plain": [
       "<Figure size 1173.6x180 with 5 Axes>"
      ]
     },
     "metadata": {
      "needs_background": "light"
     },
     "output_type": "display_data"
    }
   ],
   "source": [
    "ax = sc.pl.dotplot(\n",
    "    wnt2_ad,\n",
    "    var_names={\"Early\": early_deg1.genes[0:20].to_list(), \"Late\": late_deg1.genes[0:20].to_list()},\n",
    "    groupby=\"milo_stage\",\n",
    "    var_group_rotation=0,\n",
    "    show=False,\n",
    ")\n",
    "ax[\"mainplot_ax\"].set_ylabel(\"Stage of WNT2+\\nfibroblast\")\n",
    "fig1 = ax[\"mainplot_ax\"].get_figure()"
   ]
  },
  {
   "cell_type": "code",
   "execution_count": 103,
   "id": "2879e077-4d1d-42a4-904b-c03d22c2f914",
   "metadata": {
    "execution": {
     "iopub.execute_input": "2022-10-17T10:17:14.875297Z",
     "iopub.status.busy": "2022-10-17T10:17:14.874996Z",
     "iopub.status.idle": "2022-10-17T10:17:46.668015Z",
     "shell.execute_reply": "2022-10-17T10:17:46.667164Z",
     "shell.execute_reply.started": "2022-10-17T10:17:14.875271Z"
    },
    "tags": []
   },
   "outputs": [],
   "source": [
    "sc.tl.rank_genes_groups(wnt2_ad, groupby=\"pcw_stage\", method=\"wilcoxon\")"
   ]
  },
  {
   "cell_type": "code",
   "execution_count": 121,
   "id": "e1810c3d-9283-4299-9a14-75c212412d9b",
   "metadata": {
    "execution": {
     "iopub.execute_input": "2022-10-17T10:24:44.077544Z",
     "iopub.status.busy": "2022-10-17T10:24:44.077264Z",
     "iopub.status.idle": "2022-10-17T10:24:46.551362Z",
     "shell.execute_reply": "2022-10-17T10:24:46.550547Z",
     "shell.execute_reply.started": "2022-10-17T10:24:44.077508Z"
    },
    "tags": []
   },
   "outputs": [],
   "source": [
    "sc.tl.filter_rank_genes_groups(\n",
    "    wnt2_ad, max_out_group_fraction=0.3, min_in_group_fraction=0.5, min_fold_change=1.5\n",
    ")"
   ]
  },
  {
   "cell_type": "code",
   "execution_count": 128,
   "id": "11659b48-691d-4d53-9952-b9e2a828d9c8",
   "metadata": {
    "execution": {
     "iopub.execute_input": "2022-10-17T10:34:55.847679Z",
     "iopub.status.busy": "2022-10-17T10:34:55.847382Z",
     "iopub.status.idle": "2022-10-17T10:34:56.762611Z",
     "shell.execute_reply": "2022-10-17T10:34:56.761834Z",
     "shell.execute_reply.started": "2022-10-17T10:34:55.847649Z"
    },
    "tags": []
   },
   "outputs": [
    {
     "data": {
      "image/png": "[encoded data removed]",
      "text/plain": [
       "<Figure size 1067.04x180 with 5 Axes>"
      ]
     },
     "metadata": {
      "needs_background": "light"
     },
     "output_type": "display_data"
    }
   ],
   "source": [
    "ax = sc.pl.rank_genes_groups_dotplot(\n",
    "    wnt2_ad,\n",
    "    n_genes=10,\n",
    "    groupby=\"pcw_stage\",\n",
    "    dendrogram=False,\n",
    "    key=\"rank_genes_groups_filtered\",\n",
    "    var_group_rotation=0,\n",
    "    standard_scale=\"var\",\n",
    "    show=False,\n",
    ")\n",
    "ax[\"mainplot_ax\"].set_ylabel(\"Stage (PCW) of\\nWNT2+ fibroblast\")\n",
    "fig2 = ax[\"mainplot_ax\"].get_figure()"
   ]
  },
  {
   "cell_type": "markdown",
   "id": "e7c8e954-8305-455b-81fb-fc0816a938de",
   "metadata": {},
   "source": [
    "## sctk's DE"
   ]
  },
  {
   "cell_type": "code",
   "execution_count": 59,
   "id": "2d3faab6-b79b-4eec-a85f-c3df735cc898",
   "metadata": {
    "execution": {
     "iopub.execute_input": "2022-10-17T09:49:03.245585Z",
     "iopub.status.busy": "2022-10-17T09:49:03.245255Z",
     "iopub.status.idle": "2022-10-17T09:49:07.214363Z",
     "shell.execute_reply": "2022-10-17T09:49:07.213433Z",
     "shell.execute_reply.started": "2022-10-17T09:49:03.245558Z"
    },
    "tags": []
   },
   "outputs": [],
   "source": [
    "mkst1 = sk.calc_marker_stats(wnt2_ad, groupby=\"pcw_stage\")"
   ]
  },
  {
   "cell_type": "code",
   "execution_count": 60,
   "id": "e98a7b81-4774-43d2-8cb7-a57f94ac0c90",
   "metadata": {
    "execution": {
     "iopub.execute_input": "2022-10-17T09:49:07.215690Z",
     "iopub.status.busy": "2022-10-17T09:49:07.215505Z",
     "iopub.status.idle": "2022-10-17T09:49:07.245906Z",
     "shell.execute_reply": "2022-10-17T09:49:07.245230Z",
     "shell.execute_reply.started": "2022-10-17T09:49:07.215667Z"
    },
    "tags": []
   },
   "outputs": [],
   "source": [
    "mks1 = sk.filter_marker_stats(mkst1[2], max_next_frac=0.5, how=\"and\")"
   ]
  },
  {
   "cell_type": "code",
   "execution_count": 61,
   "id": "339b099c-94c7-4c28-8c21-568a140af7de",
   "metadata": {
    "execution": {
     "iopub.execute_input": "2022-10-17T09:49:07.247190Z",
     "iopub.status.busy": "2022-10-17T09:49:07.246988Z",
     "iopub.status.idle": "2022-10-17T09:49:07.284433Z",
     "shell.execute_reply": "2022-10-17T09:49:07.283836Z",
     "shell.execute_reply.started": "2022-10-17T09:49:07.247168Z"
    },
    "tags": []
   },
   "outputs": [],
   "source": [
    "mks1 = mks1.loc[\n",
    "    ~mks1.index.isin(wnt2_ad.var_names[wnt2_ad.var.ribo | wnt2_ad.var.mito | wnt2_ad.var.hb])\n",
    "]"
   ]
  },
  {
   "cell_type": "code",
   "execution_count": 62,
   "id": "051e9c9a-1544-49d2-b6a0-3341bef9a0c9",
   "metadata": {
    "execution": {
     "iopub.execute_input": "2022-10-17T09:49:07.285455Z",
     "iopub.status.busy": "2022-10-17T09:49:07.285273Z",
     "iopub.status.idle": "2022-10-17T09:49:07.325289Z",
     "shell.execute_reply": "2022-10-17T09:49:07.324614Z",
     "shell.execute_reply.started": "2022-10-17T09:49:07.285424Z"
    },
    "tags": []
   },
   "outputs": [
    {
     "data": {
      "text/html": [
       "<div>\n",
       "<style scoped>\n",
       "    .dataframe tbody tr th:only-of-type {\n",
       "        vertical-align: middle;\n",
       "    }\n",
       "\n",
       "    .dataframe tbody tr th {\n",
       "        vertical-align: top;\n",
       "    }\n",
       "\n",
       "    .dataframe thead th {\n",
       "        text-align: right;\n",
       "    }\n",
       "</style>\n",
       "<table border=\"1\" class=\"dataframe\">\n",
       "  <thead>\n",
       "    <tr style=\"text-align: right;\">\n",
       "      <th></th>\n",
       "      <th>top_frac_group</th>\n",
       "      <th>top_frac</th>\n",
       "      <th>frac_diff</th>\n",
       "      <th>max_frac_diff</th>\n",
       "      <th>top_mean_group</th>\n",
       "      <th>top_mean</th>\n",
       "      <th>mean_diff</th>\n",
       "      <th>max_mean_diff</th>\n",
       "    </tr>\n",
       "  </thead>\n",
       "  <tbody>\n",
       "    <tr>\n",
       "      <th>SFRP1</th>\n",
       "      <td>[7, 9)</td>\n",
       "      <td>0.722933</td>\n",
       "      <td>0.493617</td>\n",
       "      <td>0.572429</td>\n",
       "      <td>[7, 9)</td>\n",
       "      <td>0.284921</td>\n",
       "      <td>0.215818</td>\n",
       "      <td>0.240902</td>\n",
       "    </tr>\n",
       "    <tr>\n",
       "      <th>QPRT</th>\n",
       "      <td>[7, 9)</td>\n",
       "      <td>0.747733</td>\n",
       "      <td>0.254345</td>\n",
       "      <td>0.291566</td>\n",
       "      <td>[7, 9)</td>\n",
       "      <td>0.332629</td>\n",
       "      <td>0.167191</td>\n",
       "      <td>0.178154</td>\n",
       "    </tr>\n",
       "    <tr>\n",
       "      <th>APCDD1</th>\n",
       "      <td>[7, 9)</td>\n",
       "      <td>0.624000</td>\n",
       "      <td>0.348594</td>\n",
       "      <td>0.470393</td>\n",
       "      <td>[7, 9)</td>\n",
       "      <td>0.249933</td>\n",
       "      <td>0.161929</td>\n",
       "      <td>0.196465</td>\n",
       "    </tr>\n",
       "    <tr>\n",
       "      <th>CRABP1</th>\n",
       "      <td>[7, 9)</td>\n",
       "      <td>0.818133</td>\n",
       "      <td>0.382924</td>\n",
       "      <td>0.531089</td>\n",
       "      <td>[7, 9)</td>\n",
       "      <td>0.289255</td>\n",
       "      <td>0.160404</td>\n",
       "      <td>0.186210</td>\n",
       "    </tr>\n",
       "    <tr>\n",
       "      <th>FABP7</th>\n",
       "      <td>[7, 9)</td>\n",
       "      <td>0.474400</td>\n",
       "      <td>0.395443</td>\n",
       "      <td>0.459202</td>\n",
       "      <td>[7, 9)</td>\n",
       "      <td>0.169517</td>\n",
       "      <td>0.150767</td>\n",
       "      <td>0.165635</td>\n",
       "    </tr>\n",
       "    <tr>\n",
       "      <th>PRSS23</th>\n",
       "      <td>[9, 12)</td>\n",
       "      <td>0.771062</td>\n",
       "      <td>0.271576</td>\n",
       "      <td>0.374528</td>\n",
       "      <td>[9, 12)</td>\n",
       "      <td>0.352834</td>\n",
       "      <td>0.204006</td>\n",
       "      <td>0.261556</td>\n",
       "    </tr>\n",
       "    <tr>\n",
       "      <th>CTGF</th>\n",
       "      <td>[9, 12)</td>\n",
       "      <td>0.718927</td>\n",
       "      <td>0.320801</td>\n",
       "      <td>0.374127</td>\n",
       "      <td>[9, 12)</td>\n",
       "      <td>0.314158</td>\n",
       "      <td>0.182805</td>\n",
       "      <td>0.231522</td>\n",
       "    </tr>\n",
       "    <tr>\n",
       "      <th>GAS1</th>\n",
       "      <td>[9, 12)</td>\n",
       "      <td>0.703060</td>\n",
       "      <td>0.244393</td>\n",
       "      <td>0.338436</td>\n",
       "      <td>[9, 12)</td>\n",
       "      <td>0.294703</td>\n",
       "      <td>0.161229</td>\n",
       "      <td>0.172379</td>\n",
       "    </tr>\n",
       "    <tr>\n",
       "      <th>PENK</th>\n",
       "      <td>[9, 12)</td>\n",
       "      <td>0.478655</td>\n",
       "      <td>0.358655</td>\n",
       "      <td>0.400035</td>\n",
       "      <td>[9, 12)</td>\n",
       "      <td>0.165675</td>\n",
       "      <td>0.138183</td>\n",
       "      <td>0.143818</td>\n",
       "    </tr>\n",
       "    <tr>\n",
       "      <th>SEMA3A</th>\n",
       "      <td>[9, 12)</td>\n",
       "      <td>0.451454</td>\n",
       "      <td>0.308521</td>\n",
       "      <td>0.350601</td>\n",
       "      <td>[9, 12)</td>\n",
       "      <td>0.184605</td>\n",
       "      <td>0.135013</td>\n",
       "      <td>0.145660</td>\n",
       "    </tr>\n",
       "    <tr>\n",
       "      <th>HIST1H1D</th>\n",
       "      <td>[12, 14)</td>\n",
       "      <td>0.656323</td>\n",
       "      <td>0.434748</td>\n",
       "      <td>0.576323</td>\n",
       "      <td>[12, 14)</td>\n",
       "      <td>0.238047</td>\n",
       "      <td>0.173952</td>\n",
       "      <td>0.221490</td>\n",
       "    </tr>\n",
       "    <tr>\n",
       "      <th>ARRDC3</th>\n",
       "      <td>[12, 14)</td>\n",
       "      <td>0.782002</td>\n",
       "      <td>0.223335</td>\n",
       "      <td>0.376637</td>\n",
       "      <td>[12, 14)</td>\n",
       "      <td>0.303679</td>\n",
       "      <td>0.140324</td>\n",
       "      <td>0.196766</td>\n",
       "    </tr>\n",
       "    <tr>\n",
       "      <th>NCALD</th>\n",
       "      <td>[12, 14)</td>\n",
       "      <td>0.703646</td>\n",
       "      <td>0.232980</td>\n",
       "      <td>0.233300</td>\n",
       "      <td>[12, 14)</td>\n",
       "      <td>0.291965</td>\n",
       "      <td>0.120402</td>\n",
       "      <td>0.151290</td>\n",
       "    </tr>\n",
       "    <tr>\n",
       "      <th>DDX3Y</th>\n",
       "      <td>[12, 14)</td>\n",
       "      <td>0.278510</td>\n",
       "      <td>0.256221</td>\n",
       "      <td>0.259844</td>\n",
       "      <td>[12, 14)</td>\n",
       "      <td>0.126255</td>\n",
       "      <td>0.119163</td>\n",
       "      <td>0.119804</td>\n",
       "    </tr>\n",
       "    <tr>\n",
       "      <th>C1R</th>\n",
       "      <td>[12, 14)</td>\n",
       "      <td>0.754073</td>\n",
       "      <td>0.123548</td>\n",
       "      <td>0.293806</td>\n",
       "      <td>[12, 14)</td>\n",
       "      <td>0.302527</td>\n",
       "      <td>0.115970</td>\n",
       "      <td>0.159753</td>\n",
       "    </tr>\n",
       "    <tr>\n",
       "      <th>GSTM2</th>\n",
       "      <td>[14, 18)</td>\n",
       "      <td>0.738658</td>\n",
       "      <td>0.481386</td>\n",
       "      <td>0.571725</td>\n",
       "      <td>[14, 18)</td>\n",
       "      <td>0.340083</td>\n",
       "      <td>0.253677</td>\n",
       "      <td>0.286138</td>\n",
       "    </tr>\n",
       "    <tr>\n",
       "      <th>MTRNR2L12</th>\n",
       "      <td>[14, 18)</td>\n",
       "      <td>0.878985</td>\n",
       "      <td>0.399544</td>\n",
       "      <td>0.428286</td>\n",
       "      <td>[14, 18)</td>\n",
       "      <td>0.340601</td>\n",
       "      <td>0.207117</td>\n",
       "      <td>0.228513</td>\n",
       "    </tr>\n",
       "    <tr>\n",
       "      <th>NGRN</th>\n",
       "      <td>[14, 18)</td>\n",
       "      <td>0.537653</td>\n",
       "      <td>0.371049</td>\n",
       "      <td>0.402453</td>\n",
       "      <td>[14, 18)</td>\n",
       "      <td>0.235717</td>\n",
       "      <td>0.180806</td>\n",
       "      <td>0.187358</td>\n",
       "    </tr>\n",
       "    <tr>\n",
       "      <th>MXRA8</th>\n",
       "      <td>[14, 18)</td>\n",
       "      <td>0.814878</td>\n",
       "      <td>0.262512</td>\n",
       "      <td>0.349446</td>\n",
       "      <td>[14, 18)</td>\n",
       "      <td>0.383978</td>\n",
       "      <td>0.180466</td>\n",
       "      <td>0.243511</td>\n",
       "    </tr>\n",
       "    <tr>\n",
       "      <th>CLEC3B</th>\n",
       "      <td>[14, 18)</td>\n",
       "      <td>0.589875</td>\n",
       "      <td>0.234561</td>\n",
       "      <td>0.419872</td>\n",
       "      <td>[14, 18)</td>\n",
       "      <td>0.291382</td>\n",
       "      <td>0.179914</td>\n",
       "      <td>0.223668</td>\n",
       "    </tr>\n",
       "  </tbody>\n",
       "</table>\n",
       "</div>"
      ],
      "text/plain": [
       "          top_frac_group  top_frac  frac_diff  max_frac_diff top_mean_group  \\\n",
       "SFRP1             [7, 9)  0.722933   0.493617       0.572429         [7, 9)   \n",
       "QPRT              [7, 9)  0.747733   0.254345       0.291566         [7, 9)   \n",
       "APCDD1            [7, 9)  0.624000   0.348594       0.470393         [7, 9)   \n",
       "CRABP1            [7, 9)  0.818133   0.382924       0.531089         [7, 9)   \n",
       "FABP7             [7, 9)  0.474400   0.395443       0.459202         [7, 9)   \n",
       "PRSS23           [9, 12)  0.771062   0.271576       0.374528        [9, 12)   \n",
       "CTGF             [9, 12)  0.718927   0.320801       0.374127        [9, 12)   \n",
       "GAS1             [9, 12)  0.703060   0.244393       0.338436        [9, 12)   \n",
       "PENK             [9, 12)  0.478655   0.358655       0.400035        [9, 12)   \n",
       "SEMA3A           [9, 12)  0.451454   0.308521       0.350601        [9, 12)   \n",
       "HIST1H1D        [12, 14)  0.656323   0.434748       0.576323       [12, 14)   \n",
       "ARRDC3          [12, 14)  0.782002   0.223335       0.376637       [12, 14)   \n",
       "NCALD           [12, 14)  0.703646   0.232980       0.233300       [12, 14)   \n",
       "DDX3Y           [12, 14)  0.278510   0.256221       0.259844       [12, 14)   \n",
       "C1R             [12, 14)  0.754073   0.123548       0.293806       [12, 14)   \n",
       "GSTM2           [14, 18)  0.738658   0.481386       0.571725       [14, 18)   \n",
       "MTRNR2L12       [14, 18)  0.878985   0.399544       0.428286       [14, 18)   \n",
       "NGRN            [14, 18)  0.537653   0.371049       0.402453       [14, 18)   \n",
       "MXRA8           [14, 18)  0.814878   0.262512       0.349446       [14, 18)   \n",
       "CLEC3B          [14, 18)  0.589875   0.234561       0.419872       [14, 18)   \n",
       "\n",
       "           top_mean  mean_diff  max_mean_diff  \n",
       "SFRP1      0.284921   0.215818       0.240902  \n",
       "QPRT       0.332629   0.167191       0.178154  \n",
       "APCDD1     0.249933   0.161929       0.196465  \n",
       "CRABP1     0.289255   0.160404       0.186210  \n",
       "FABP7      0.169517   0.150767       0.165635  \n",
       "PRSS23     0.352834   0.204006       0.261556  \n",
       "CTGF       0.314158   0.182805       0.231522  \n",
       "GAS1       0.294703   0.161229       0.172379  \n",
       "PENK       0.165675   0.138183       0.143818  \n",
       "SEMA3A     0.184605   0.135013       0.145660  \n",
       "HIST1H1D   0.238047   0.173952       0.221490  \n",
       "ARRDC3     0.303679   0.140324       0.196766  \n",
       "NCALD      0.291965   0.120402       0.151290  \n",
       "DDX3Y      0.126255   0.119163       0.119804  \n",
       "C1R        0.302527   0.115970       0.159753  \n",
       "GSTM2      0.340083   0.253677       0.286138  \n",
       "MTRNR2L12  0.340601   0.207117       0.228513  \n",
       "NGRN       0.235717   0.180806       0.187358  \n",
       "MXRA8      0.383978   0.180466       0.243511  \n",
       "CLEC3B     0.291382   0.179914       0.223668  "
      ]
     },
     "execution_count": 62,
     "metadata": {},
     "output_type": "execute_result"
    }
   ],
   "source": [
    "mks1.groupby(\"top_frac_group\").head(5)"
   ]
  },
  {
   "cell_type": "code",
   "execution_count": 136,
   "id": "9250f1be-12e2-4af6-ba80-d21a4114e8dd",
   "metadata": {
    "execution": {
     "iopub.execute_input": "2022-10-17T10:38:32.647929Z",
     "iopub.status.busy": "2022-10-17T10:38:32.647658Z",
     "iopub.status.idle": "2022-10-17T10:38:34.106802Z",
     "shell.execute_reply": "2022-10-17T10:38:34.106000Z",
     "shell.execute_reply.started": "2022-10-17T10:38:32.647903Z"
    },
    "tags": []
   },
   "outputs": [
    {
     "data": {
      "image/png": "[encoded data removed]",
      "text/plain": [
       "<Figure size 1173.6x180 with 5 Axes>"
      ]
     },
     "metadata": {
      "needs_background": "light"
     },
     "output_type": "display_data"
    }
   ],
   "source": [
    "ax = sk.plot_markers(\n",
    "    wnt2_ad,\n",
    "    groupby=\"pcw_stage\",\n",
    "    mks=mks1,\n",
    "    n_genes=10,\n",
    "    standard_scale=\"var\",\n",
    "    var_group_rotation=0,\n",
    "    show=False,\n",
    ")\n",
    "ax[\"mainplot_ax\"].set_ylabel(\"Stage (PCW) of\\nWNT2+ fibroblast\")\n",
    "fig4 = ax[\"mainplot_ax\"].get_figure()"
   ]
  },
  {
   "cell_type": "code",
   "execution_count": 64,
   "id": "355806af-a84f-4ca3-90ef-109f2f0bb89e",
   "metadata": {
    "execution": {
     "iopub.execute_input": "2022-10-17T09:49:28.386751Z",
     "iopub.status.busy": "2022-10-17T09:49:28.386439Z",
     "iopub.status.idle": "2022-10-17T09:49:32.508117Z",
     "shell.execute_reply": "2022-10-17T09:49:32.507319Z",
     "shell.execute_reply.started": "2022-10-17T09:49:28.386723Z"
    },
    "tags": []
   },
   "outputs": [],
   "source": [
    "mkst2 = sk.calc_marker_stats(wnt2_ad, groupby=\"milo_stage\")"
   ]
  },
  {
   "cell_type": "code",
   "execution_count": 65,
   "id": "7a69aeb1-bd87-4e26-a2dc-27e06d301e3c",
   "metadata": {
    "execution": {
     "iopub.execute_input": "2022-10-17T09:49:33.813606Z",
     "iopub.status.busy": "2022-10-17T09:49:33.813346Z",
     "iopub.status.idle": "2022-10-17T09:49:33.847156Z",
     "shell.execute_reply": "2022-10-17T09:49:33.846290Z",
     "shell.execute_reply.started": "2022-10-17T09:49:33.813581Z"
    },
    "tags": []
   },
   "outputs": [],
   "source": [
    "mks2 = sk.filter_marker_stats(mkst2[2], max_next_frac=0.5, how=\"and\")"
   ]
  },
  {
   "cell_type": "code",
   "execution_count": 68,
   "id": "a7e6118f-4a96-48a9-b781-4b4864e10ce1",
   "metadata": {
    "execution": {
     "iopub.execute_input": "2022-10-17T09:53:35.582133Z",
     "iopub.status.busy": "2022-10-17T09:53:35.581845Z",
     "iopub.status.idle": "2022-10-17T09:53:35.605054Z",
     "shell.execute_reply": "2022-10-17T09:53:35.604405Z",
     "shell.execute_reply.started": "2022-10-17T09:53:35.582107Z"
    },
    "tags": []
   },
   "outputs": [],
   "source": [
    "mks2 = mks2.loc[\n",
    "    ~mks2.index.isin(wnt2_ad.var_names[wnt2_ad.var.ribo | wnt2_ad.var.mito | wnt2_ad.var.hb])\n",
    "]"
   ]
  },
  {
   "cell_type": "code",
   "execution_count": 130,
   "id": "351a5e3d-591e-4c52-9375-4cd0999a0dc9",
   "metadata": {
    "execution": {
     "iopub.execute_input": "2022-10-17T10:36:20.307621Z",
     "iopub.status.busy": "2022-10-17T10:36:20.307323Z",
     "iopub.status.idle": "2022-10-17T10:36:21.208169Z",
     "shell.execute_reply": "2022-10-17T10:36:21.207154Z",
     "shell.execute_reply.started": "2022-10-17T10:36:20.307595Z"
    },
    "tags": []
   },
   "outputs": [
    {
     "data": {
      "image/png": "[encoded data removed]",
      "text/plain": [
       "<Figure size 1173.6x180 with 5 Axes>"
      ]
     },
     "metadata": {
      "needs_background": "light"
     },
     "output_type": "display_data"
    }
   ],
   "source": [
    "ax = sk.plot_markers(\n",
    "    wnt2_ad, groupby=\"milo_stage\", mks=mks2, n_genes=20, var_group_rotation=0, show=False\n",
    ")\n",
    "ax[\"mainplot_ax\"].set_ylabel(\"Stage of WNT2+\\nfibroblast\")\n",
    "fig3 = ax[\"mainplot_ax\"].get_figure()"
   ]
  },
  {
   "cell_type": "markdown",
   "id": "17334623-cca6-48bd-8846-b0fc32b4d514",
   "metadata": {},
   "source": [
    "## a predined set of genes"
   ]
  },
  {
   "cell_type": "code",
   "execution_count": 91,
   "id": "6c301f84-07b2-42d3-9ee6-474300926b20",
   "metadata": {
    "execution": {
     "iopub.execute_input": "2022-10-17T10:10:46.770591Z",
     "iopub.status.busy": "2022-10-17T10:10:46.770328Z",
     "iopub.status.idle": "2022-10-17T10:10:46.792809Z",
     "shell.execute_reply": "2022-10-17T10:10:46.792021Z",
     "shell.execute_reply.started": "2022-10-17T10:10:46.770566Z"
    },
    "tags": []
   },
   "outputs": [],
   "source": [
    "genes = {\n",
    "    \"Biosynthetic process\\nand transcriptioin\": [\n",
    "        \"EGR1\",\n",
    "        \"RDX\",\n",
    "        \"RPL23\",\n",
    "        \"SOX11\",\n",
    "        \"TWIST1\",\n",
    "    ],\n",
    "    \"WNT Signalling\": [\n",
    "        \"MDK\",\n",
    "        \"SFRP1\",\n",
    "        \"SFRP4\",\n",
    "        \"SOSTDC1\",\n",
    "        \"WIF1\",\n",
    "    ],\n",
    "    \"Extracellular matrix organoisation\\nand collagen deposition\": [\n",
    "        \"ADAMTS5\",\n",
    "        \"ADAMTSL4\",\n",
    "        \"COL1A1\",\n",
    "        \"COL1A2\",\n",
    "        \"COL3A1\",\n",
    "        \"COL5A1\",\n",
    "        \"COL6A3\",\n",
    "        \"COL12A1\",\n",
    "        \"COL14A1\",\n",
    "        \"MFAP2\",\n",
    "        \"MFAP5\",\n",
    "        \"MMP14\",\n",
    "        \"POSTN\",\n",
    "        \"SPARC\",\n",
    "    ],\n",
    "}"
   ]
  },
  {
   "cell_type": "code",
   "execution_count": 131,
   "id": "9b62d7ab-546d-40b0-bfc2-47e003f2493a",
   "metadata": {
    "execution": {
     "iopub.execute_input": "2022-10-17T10:36:43.992069Z",
     "iopub.status.busy": "2022-10-17T10:36:43.991757Z",
     "iopub.status.idle": "2022-10-17T10:36:44.704639Z",
     "shell.execute_reply": "2022-10-17T10:36:44.703966Z",
     "shell.execute_reply.started": "2022-10-17T10:36:43.992044Z"
    },
    "tags": []
   },
   "outputs": [
    {
     "data": {
      "image/png": "[encoded data removed]",
      "text/plain": [
       "<Figure size 747.36x180 with 5 Axes>"
      ]
     },
     "metadata": {
      "needs_background": "light"
     },
     "output_type": "display_data"
    }
   ],
   "source": [
    "ax = sc.pl.dotplot(\n",
    "    wnt2_ad,\n",
    "    var_names=genes,\n",
    "    groupby=\"pcw_stage\",\n",
    "    standard_scale=\"var\",\n",
    "    var_group_rotation=0,\n",
    "    show=False,\n",
    ")\n",
    "ax[\"mainplot_ax\"].set_ylabel(\"Stage (PCW) of\\nWNT2+ fibroblast\")\n",
    "fig6 = ax[\"mainplot_ax\"].get_figure()"
   ]
  },
  {
   "cell_type": "code",
   "execution_count": 132,
   "id": "c6563acf-c98e-401b-9166-6f92ea96cfb8",
   "metadata": {
    "execution": {
     "iopub.execute_input": "2022-10-17T10:37:21.632433Z",
     "iopub.status.busy": "2022-10-17T10:37:21.632169Z",
     "iopub.status.idle": "2022-10-17T10:37:22.302455Z",
     "shell.execute_reply": "2022-10-17T10:37:22.301622Z",
     "shell.execute_reply.started": "2022-10-17T10:37:21.632408Z"
    },
    "tags": []
   },
   "outputs": [
    {
     "data": {
      "image/png": "[encoded data removed]",
      "text/plain": [
       "<Figure size 747.36x180 with 5 Axes>"
      ]
     },
     "metadata": {
      "needs_background": "light"
     },
     "output_type": "display_data"
    }
   ],
   "source": [
    "ax = sc.pl.dotplot(wnt2_ad, var_names=genes, groupby=\"milo_stage\", var_group_rotation=0, show=False)\n",
    "ax[\"mainplot_ax\"].set_ylabel(\"Stage of WNT2+\\nfibroblast\")\n",
    "fig5 = ax[\"mainplot_ax\"].get_figure()"
   ]
  },
  {
   "cell_type": "code",
   "execution_count": 86,
   "id": "93399b21-0939-4275-8daa-7d0e6237d363",
   "metadata": {
    "execution": {
     "iopub.execute_input": "2022-10-17T10:05:56.396066Z",
     "iopub.status.busy": "2022-10-17T10:05:56.395805Z",
     "iopub.status.idle": "2022-10-17T10:05:56.576718Z",
     "shell.execute_reply": "2022-10-17T10:05:56.575909Z",
     "shell.execute_reply.started": "2022-10-17T10:05:56.396041Z"
    },
    "tags": []
   },
   "outputs": [
    {
     "data": {
      "text/plain": [
       "<AxesSubplot:xlabel='pcw_stage', ylabel='milo_stage'>"
      ]
     },
     "execution_count": 86,
     "metadata": {},
     "output_type": "execute_result"
    },
    {
     "data": {
      "image/png": "[encoded data removed]",
      "text/plain": [
       "<Figure size 180x72 with 2 Axes>"
      ]
     },
     "metadata": {
      "needs_background": "light"
     },
     "output_type": "display_data"
    }
   ],
   "source": [
    "sk.heatmap(\n",
    "    sk.cross_table(wnt2_ad, \"milo_stage\", \"pcw_stage\", normalise=\"jaccard\"),\n",
    "    cmap=\"viridis_r\",\n",
    "    figsize=(2.5, 1),\n",
    ")"
   ]
  },
  {
   "cell_type": "code",
   "execution_count": 134,
   "id": "e72f7b72-c68e-4ceb-ac31-274ddadb6e5d",
   "metadata": {
    "execution": {
     "iopub.execute_input": "2022-10-17T10:38:18.896853Z",
     "iopub.status.busy": "2022-10-17T10:38:18.896586Z",
     "iopub.status.idle": "2022-10-17T10:38:18.923891Z",
     "shell.execute_reply": "2022-10-17T10:38:18.923080Z",
     "shell.execute_reply.started": "2022-10-17T10:38:18.896827Z"
    }
   },
   "outputs": [],
   "source": [
    "from matplotlib.backends.backend_pdf import PdfPages"
   ]
  },
  {
   "cell_type": "code",
   "execution_count": 140,
   "id": "58b20ab6-0419-4e0e-86e9-50a9e89afa05",
   "metadata": {
    "execution": {
     "iopub.execute_input": "2022-10-17T10:40:34.555534Z",
     "iopub.status.busy": "2022-10-17T10:40:34.555257Z",
     "iopub.status.idle": "2022-10-17T10:40:36.821249Z",
     "shell.execute_reply": "2022-10-17T10:40:36.820283Z",
     "shell.execute_reply.started": "2022-10-17T10:40:34.555508Z"
    },
    "tags": []
   },
   "outputs": [],
   "source": [
    "with PdfPages(filename=\"fig3C_candidates.20221017.pdf\") as pdf:\n",
    "    pdf.savefig(fig1, bbox_inches=\"tight\")\n",
    "    pdf.savefig(fig2, bbox_inches=\"tight\")\n",
    "    pdf.savefig(fig3, bbox_inches=\"tight\")\n",
    "    pdf.savefig(fig4, bbox_inches=\"tight\")\n",
    "    pdf.savefig(fig5, bbox_inches=\"tight\")\n",
    "    pdf.savefig(fig6, bbox_inches=\"tight\")"
   ]
  },
  {
   "cell_type": "code",
   "execution_count": 141,
   "id": "85b1152c-6b84-441a-9c77-3756bcc45d47",
   "metadata": {
    "execution": {
     "iopub.execute_input": "2022-10-17T10:42:16.467332Z",
     "iopub.status.busy": "2022-10-17T10:42:16.467079Z",
     "iopub.status.idle": "2022-10-17T10:42:20.349702Z",
     "shell.execute_reply": "2022-10-17T10:42:20.348590Z",
     "shell.execute_reply.started": "2022-10-17T10:42:16.467308Z"
    },
    "tags": []
   },
   "outputs": [],
   "source": [
    "!rclone copy --drive-shared-with-me \"fig3C_candidates.20221017.pdf\" \"google:/Fetal Skin/Figures/Figs_from_Ni/\""
   ]
  }
 ],
 "metadata": {
  "kernelspec": {
   "display_name": "scanpy16",
   "language": "python",
   "name": "scanpy-new"
  },
  "language_info": {
   "codemirror_mode": {
    "name": "ipython",
    "version": 3
   },
   "file_extension": ".py",
   "mimetype": "text/x-python",
   "name": "python",
   "nbconvert_exporter": "python",
   "pygments_lexer": "ipython3",
   "version": "3.8.5"
  }
 },
 "nbformat": 4,
 "nbformat_minor": 5
}
