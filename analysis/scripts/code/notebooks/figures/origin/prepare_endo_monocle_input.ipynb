{
 "cells": [
  {
   "cell_type": "markdown",
   "metadata": {},
   "source": [
    "# Import and settings"
   ]
  },
  {
   "cell_type": "code",
   "execution_count": 1,
   "metadata": {
    "execution": {
     "iopub.execute_input": "2022-06-07T03:35:56.567775Z",
     "iopub.status.busy": "2022-06-07T03:35:56.567549Z",
     "iopub.status.idle": "2022-06-07T03:35:58.535755Z",
     "shell.execute_reply": "2022-06-07T03:35:58.534893Z",
     "shell.execute_reply.started": "2022-06-07T03:35:56.567750Z"
    },
    "tags": []
   },
   "outputs": [],
   "source": [
    "%load_ext autoreload\n",
    "%autoreload 2\n",
    "\n",
    "import os, re, gc, joblib\n",
    "import numpy as np\n",
    "import pandas as pd\n",
    "import matplotlib.pyplot as plt\n",
    "from matplotlib import rcParams\n",
    "from matplotlib.colors import ListedColormap\n",
    "import seaborn as sn\n",
    "import plotnine as pln\n",
    "import anndata\n",
    "import scanpy as sc\n",
    "import sctk as sk\n",
    "\n",
    "rcParams[\"pdf.fonttype\"] = 42\n",
    "rcParams[\"ps.fonttype\"] = 42\n",
    "expr_cmap = sk.expression_colormap()\n",
    "np.set_printoptions(linewidth=150)\n",
    "\n",
    "import numpy_groupies as npg\n",
    "from sklearn.preprocessing import minmax_scale\n",
    "import plotnine as pln\n",
    "from plotnine import ggplot, aes"
   ]
  },
  {
   "cell_type": "code",
   "execution_count": 2,
   "metadata": {
    "execution": {
     "iopub.execute_input": "2022-06-07T03:35:59.014310Z",
     "iopub.status.busy": "2022-06-07T03:35:59.014088Z",
     "iopub.status.idle": "2022-06-07T03:35:59.038255Z",
     "shell.execute_reply": "2022-06-07T03:35:59.037619Z",
     "shell.execute_reply.started": "2022-06-07T03:35:59.014282Z"
    },
    "tags": []
   },
   "outputs": [],
   "source": [
    "import scipy.sparse as sp"
   ]
  },
  {
   "cell_type": "markdown",
   "metadata": {},
   "source": [
    "# Load data"
   ]
  },
  {
   "cell_type": "code",
   "execution_count": 3,
   "metadata": {
    "execution": {
     "iopub.execute_input": "2022-06-07T03:36:00.534145Z",
     "iopub.status.busy": "2022-06-07T03:36:00.533797Z",
     "iopub.status.idle": "2022-06-07T03:36:00.567736Z",
     "shell.execute_reply": "2022-06-07T03:36:00.566958Z",
     "shell.execute_reply.started": "2022-06-07T03:36:00.534120Z"
    },
    "tags": []
   },
   "outputs": [],
   "source": [
    "cc_genes = sk.read_list(\"../data/misc/JP_cycle_genes.list\")"
   ]
  },
  {
   "cell_type": "code",
   "execution_count": 4,
   "metadata": {
    "execution": {
     "iopub.execute_input": "2022-06-07T03:36:01.282922Z",
     "iopub.status.busy": "2022-06-07T03:36:01.282683Z",
     "iopub.status.idle": "2022-06-07T03:36:02.324245Z",
     "shell.execute_reply": "2022-06-07T03:36:02.323507Z",
     "shell.execute_reply.started": "2022-06-07T03:36:01.282900Z"
    },
    "tags": []
   },
   "outputs": [],
   "source": [
    "pooled_ad = sc.read(\"../20200626_make_figure_for_Muzz/pooled_endothelium.processed.h5ad\")"
   ]
  },
  {
   "cell_type": "code",
   "execution_count": 5,
   "metadata": {
    "execution": {
     "iopub.execute_input": "2022-06-07T03:36:03.203293Z",
     "iopub.status.busy": "2022-06-07T03:36:03.203078Z",
     "iopub.status.idle": "2022-06-07T03:36:03.423539Z",
     "shell.execute_reply": "2022-06-07T03:36:03.422777Z",
     "shell.execute_reply.started": "2022-06-07T03:36:03.203270Z"
    },
    "tags": []
   },
   "outputs": [
    {
     "name": "stderr",
     "output_type": "stream",
     "text": [
      "WARNING: genes are not in var_names and ignored: ['AC004381.6', 'AP000251.3', 'ARHGAP11B', 'ATP5G1', 'C4orf27', 'CASC5', 'CTC-260E6.6', 'FAM64A', 'GSG2', 'HN1', 'KIAA0101', 'KIAA1524', 'PRSS21', 'RP11-196G18.23', 'RPL39L', 'RPS4Y1', 'SGOL1', 'SGOL2', 'WHSC1', 'XRCC6BP1']\n"
     ]
    }
   ],
   "source": [
    "sc.tl.score_genes(\n",
    "    pooled_ad, gene_list=cc_genes, ctrl_size=len(cc_genes), use_raw=True, score_name=\"cc_score\"\n",
    ")"
   ]
  },
  {
   "cell_type": "code",
   "execution_count": 6,
   "metadata": {
    "execution": {
     "iopub.execute_input": "2022-06-07T03:36:04.029232Z",
     "iopub.status.busy": "2022-06-07T03:36:04.029011Z",
     "iopub.status.idle": "2022-06-07T03:36:04.055501Z",
     "shell.execute_reply": "2022-06-07T03:36:04.054922Z",
     "shell.execute_reply.started": "2022-06-07T03:36:04.029210Z"
    },
    "tags": []
   },
   "outputs": [
    {
     "data": {
      "text/plain": [
       "AnnData object with n_obs × n_vars = 2048 × 14908\n",
       "    obs: 'batch', 'chemistry_sorting', 'dataset', 'day', 'donor', 'gender', 'n_counts', 'n_genes', 'nh3_annot1', 'percent_hb', 'percent_mito', 'percent_ribo', 'percent_top50', 'rachel_annot3', 'sample_id', 'strain', 'week', 'annot', 'leiden_hm_r0_1', 'leiden_hm_r0_3', 'leiden_hm_r0_5', 'leiden_hm_r0_7', 'leiden_hm_r0_9', 'leiden_hm_split1', 'joint_annot', '__is_in_cluster__', 'leiden_r0_1', 'leiden_r0_3', 'leiden_r0_5', 'leiden_r0_7', 'leiden_r0_9', 'cc_score'\n",
       "    var: 'gene_ids', 'hb', 'cc', 'mito', 'ribo', 'n_counts', 'n_cells', 'highly_variable', 'means', 'dispersions', 'dispersions_norm', 'hvg_full'\n",
       "    uns: 'dendrogram_joint_annot', 'leiden', 'neighbors', 'neighbors_hm', 'pca', 'rank_genes_groups_de.Capillary (arterial tip)-Capillary (venular tip)', 'rank_genes_groups_de.Capillary (arterial tip)-Capillary (venular tip)_filtered', 'rank_genes_groups_de.Capillary (venular tip)-Capillary (arterial tip)', 'rank_genes_groups_de.Capillary (venular tip)-Capillary (arterial tip)_filtered', 'rank_genes_groups_hm1', 'rank_genes_groups_hm1_filtered', 'rank_genes_groups_ja', 'rank_genes_groups_ja_filtered'\n",
       "    obsm: 'X_pca', 'X_pca_hm', 'X_umap_hm', 'X_umap'\n",
       "    varm: 'PCs'\n",
       "    obsp: 'distances', 'connectivities'"
      ]
     },
     "execution_count": 6,
     "metadata": {},
     "output_type": "execute_result"
    }
   ],
   "source": [
    "pooled_ad"
   ]
  },
  {
   "cell_type": "code",
   "execution_count": 7,
   "metadata": {
    "execution": {
     "iopub.execute_input": "2022-06-07T03:36:05.099632Z",
     "iopub.status.busy": "2022-06-07T03:36:05.099388Z",
     "iopub.status.idle": "2022-06-07T03:36:05.123399Z",
     "shell.execute_reply": "2022-06-07T03:36:05.122578Z",
     "shell.execute_reply.started": "2022-06-07T03:36:05.099610Z"
    },
    "tags": []
   },
   "outputs": [
    {
     "data": {
      "text/plain": [
       "Index(['Early endothelial cell', 'Early LE', 'LE', 'Arterial',\n",
       "       'Tip cell (arterial)', 'Capillary (venular tip)',\n",
       "       'Capillary/postcapillary venule', 'Postcapillary venule'],\n",
       "      dtype='object')"
      ]
     },
     "execution_count": 7,
     "metadata": {},
     "output_type": "execute_result"
    }
   ],
   "source": [
    "pooled_ad.obs.joint_annot.cat.categories"
   ]
  },
  {
   "cell_type": "code",
   "execution_count": 8,
   "metadata": {
    "execution": {
     "iopub.execute_input": "2022-06-07T03:36:08.421484Z",
     "iopub.status.busy": "2022-06-07T03:36:08.421202Z",
     "iopub.status.idle": "2022-06-07T03:36:08.446762Z",
     "shell.execute_reply": "2022-06-07T03:36:08.445869Z",
     "shell.execute_reply.started": "2022-06-07T03:36:08.421460Z"
    },
    "tags": []
   },
   "outputs": [
    {
     "data": {
      "text/plain": [
       "Index(['FCAImmP7241241', 'FCAImmP7316886', 'FCAImmP7316887', 'FCAImmP7316888',\n",
       "       'FCAImmP7316896', 'FCAImmP7316897', 'FCAImmP7352190', 'FCAImmP7352191',\n",
       "       'FCAImmP7462241', 'FCAImmP7528290', 'FCAImmP7528291', 'FCAImmP7555848',\n",
       "       'FCAImmP7579213', 'FCAImmP7803024', 'FCAImmP7803025', 'FCAImmP7803026',\n",
       "       'FCAImmP7803027', 'FCAImmP7803034', 'FCAImmP7803035', 'FCAImmP7803042',\n",
       "       'FCAImmP7803043', 'FCAImmP7862095', 'FCAImmP7862096', 'FCAImmP7964503',\n",
       "       'FCAImmP7964504', 'FCAImmP7964505', 'FCAImmP7964506', 'FCAImmP7964507',\n",
       "       'FCAImmP7964508', 'FCAImmP7964509', 'FCAImmP7964510', 'v2_DSP',\n",
       "       'v2_WA25', 'v3_DSP', 'v3_WA25'],\n",
       "      dtype='object')"
      ]
     },
     "execution_count": 8,
     "metadata": {},
     "output_type": "execute_result"
    }
   ],
   "source": [
    "pooled_ad.obs.batch.cat.categories"
   ]
  },
  {
   "cell_type": "code",
   "execution_count": 9,
   "metadata": {
    "execution": {
     "iopub.execute_input": "2022-06-07T03:36:09.143016Z",
     "iopub.status.busy": "2022-06-07T03:36:09.142833Z",
     "iopub.status.idle": "2022-06-07T03:36:09.164919Z",
     "shell.execute_reply": "2022-06-07T03:36:09.164246Z",
     "shell.execute_reply.started": "2022-06-07T03:36:09.142995Z"
    },
    "tags": []
   },
   "outputs": [
    {
     "data": {
      "text/plain": [
       "Index(['0', '4', '5', '7', '8', '9', '10', '11', 'nan'], dtype='object')"
      ]
     },
     "execution_count": 9,
     "metadata": {},
     "output_type": "execute_result"
    }
   ],
   "source": [
    "pooled_ad.obs.sample_id.cat.categories"
   ]
  },
  {
   "cell_type": "code",
   "execution_count": 10,
   "metadata": {
    "execution": {
     "iopub.execute_input": "2022-06-07T03:36:09.764513Z",
     "iopub.status.busy": "2022-06-07T03:36:09.764292Z",
     "iopub.status.idle": "2022-06-07T03:36:09.789128Z",
     "shell.execute_reply": "2022-06-07T03:36:09.788463Z",
     "shell.execute_reply.started": "2022-06-07T03:36:09.764490Z"
    },
    "tags": []
   },
   "outputs": [
    {
     "data": {
      "text/plain": [
       "Index(['fetal_skin', 'organoid'], dtype='object')"
      ]
     },
     "execution_count": 10,
     "metadata": {},
     "output_type": "execute_result"
    }
   ],
   "source": [
    "pooled_ad.obs.dataset.cat.categories"
   ]
  },
  {
   "cell_type": "code",
   "execution_count": 11,
   "metadata": {
    "execution": {
     "iopub.execute_input": "2022-06-07T03:36:10.635548Z",
     "iopub.status.busy": "2022-06-07T03:36:10.635378Z",
     "iopub.status.idle": "2022-06-07T03:36:10.655392Z",
     "shell.execute_reply": "2022-06-07T03:36:10.654736Z",
     "shell.execute_reply.started": "2022-06-07T03:36:10.635528Z"
    },
    "tags": []
   },
   "outputs": [],
   "source": [
    "pooled_ad.obs.dataset.cat.rename_categories({\"fetal_skin\": \"fsk\", \"organoid\": \"org\"}, inplace=True)"
   ]
  },
  {
   "cell_type": "code",
   "execution_count": 12,
   "metadata": {
    "execution": {
     "iopub.execute_input": "2022-06-07T03:36:11.814862Z",
     "iopub.status.busy": "2022-06-07T03:36:11.814678Z",
     "iopub.status.idle": "2022-06-07T03:36:12.569336Z",
     "shell.execute_reply": "2022-06-07T03:36:12.568416Z",
     "shell.execute_reply.started": "2022-06-07T03:36:11.814841Z"
    },
    "tags": []
   },
   "outputs": [],
   "source": [
    "pooled_count_ad = sk.restore_adata(\n",
    "    pooled_ad, use_raw=True, use_n_counts=True, obsm_keys=[\"X_pca_hm\", \"X_umap_hm\"]\n",
    ")"
   ]
  },
  {
   "cell_type": "code",
   "execution_count": 13,
   "metadata": {
    "execution": {
     "iopub.execute_input": "2022-06-07T03:36:14.273149Z",
     "iopub.status.busy": "2022-06-07T03:36:14.272958Z",
     "iopub.status.idle": "2022-06-07T03:36:14.300888Z",
     "shell.execute_reply": "2022-06-07T03:36:14.300168Z",
     "shell.execute_reply.started": "2022-06-07T03:36:14.273127Z"
    },
    "tags": []
   },
   "outputs": [],
   "source": [
    "pooled_count_ad.var = pooled_count_ad.var[\n",
    "    [x for x in pooled_count_ad.var.columns if x.endswith(\"fetal_skin\")]\n",
    "].rename(columns=lambda x: x.replace(\"-fetal_skin\", \"\"))[[\"gene_ids\", \"cc\", \"mito\", \"ribo\", \"hb\"]]"
   ]
  },
  {
   "cell_type": "code",
   "execution_count": 16,
   "metadata": {
    "execution": {
     "iopub.execute_input": "2022-06-07T03:37:10.397129Z",
     "iopub.status.busy": "2022-06-07T03:37:10.396848Z",
     "iopub.status.idle": "2022-06-07T03:37:10.423390Z",
     "shell.execute_reply": "2022-06-07T03:37:10.422670Z",
     "shell.execute_reply.started": "2022-06-07T03:37:10.397105Z"
    },
    "tags": []
   },
   "outputs": [],
   "source": [
    "pooled_count_ad.obs = pooled_count_ad.obs[\n",
    "    [\n",
    "        \"batch\",\n",
    "        \"chemistry_sorting\",\n",
    "        \"dataset\",\n",
    "        \"day\",\n",
    "        \"donor\",\n",
    "        \"gender\",\n",
    "        \"n_counts\",\n",
    "        \"n_genes\",\n",
    "        \"percent_hb\",\n",
    "        \"percent_mito\",\n",
    "        \"percent_ribo\",\n",
    "        \"percent_top50\",\n",
    "        \"cc_score\",\n",
    "        \"strain\",\n",
    "        \"week\",\n",
    "        \"annot\",\n",
    "        \"joint_annot\",\n",
    "    ]\n",
    "]"
   ]
  },
  {
   "cell_type": "code",
   "execution_count": 14,
   "metadata": {
    "execution": {
     "iopub.execute_input": "2022-06-07T03:36:15.433784Z",
     "iopub.status.busy": "2022-06-07T03:36:15.433473Z",
     "iopub.status.idle": "2022-06-07T03:36:15.457832Z",
     "shell.execute_reply": "2022-06-07T03:36:15.457088Z",
     "shell.execute_reply.started": "2022-06-07T03:36:15.433758Z"
    },
    "tags": []
   },
   "outputs": [],
   "source": [
    "sk._obj_utils._rename_obsm_key(pooled_count_ad, \"X_pca_hm\", \"X_pca\")\n",
    "sk._obj_utils._rename_obsm_key(pooled_count_ad, \"X_umap_hm\", \"X_umap\")"
   ]
  },
  {
   "cell_type": "code",
   "execution_count": 17,
   "metadata": {
    "execution": {
     "iopub.execute_input": "2022-06-07T03:37:12.687984Z",
     "iopub.status.busy": "2022-06-07T03:37:12.687798Z",
     "iopub.status.idle": "2022-06-07T03:37:12.710369Z",
     "shell.execute_reply": "2022-06-07T03:37:12.709782Z",
     "shell.execute_reply.started": "2022-06-07T03:37:12.687963Z"
    },
    "tags": []
   },
   "outputs": [
    {
     "data": {
      "text/plain": [
       "AnnData object with n_obs × n_vars = 2048 × 15445\n",
       "    obs: 'batch', 'chemistry_sorting', 'dataset', 'day', 'donor', 'gender', 'n_counts', 'n_genes', 'percent_hb', 'percent_mito', 'percent_ribo', 'percent_top50', 'cc_score', 'strain', 'week', 'annot', 'joint_annot'\n",
       "    var: 'gene_ids', 'cc', 'mito', 'ribo', 'hb'\n",
       "    obsm: 'X_pca', 'X_umap'"
      ]
     },
     "execution_count": 17,
     "metadata": {},
     "output_type": "execute_result"
    }
   ],
   "source": [
    "pooled_count_ad"
   ]
  },
  {
   "cell_type": "code",
   "execution_count": 18,
   "metadata": {
    "execution": {
     "iopub.execute_input": "2022-06-07T03:37:17.670252Z",
     "iopub.status.busy": "2022-06-07T03:37:17.670001Z",
     "iopub.status.idle": "2022-06-07T03:37:17.753874Z",
     "shell.execute_reply": "2022-06-07T03:37:17.752957Z",
     "shell.execute_reply.started": "2022-06-07T03:37:17.670229Z"
    },
    "tags": []
   },
   "outputs": [],
   "source": [
    "count_ads = sk.split_by_group(pooled_count_ad, groupby=\"dataset\")"
   ]
  },
  {
   "cell_type": "code",
   "execution_count": 19,
   "metadata": {
    "execution": {
     "iopub.execute_input": "2022-06-07T03:37:18.853896Z",
     "iopub.status.busy": "2022-06-07T03:37:18.853671Z",
     "iopub.status.idle": "2022-06-07T03:37:18.876722Z",
     "shell.execute_reply": "2022-06-07T03:37:18.876007Z",
     "shell.execute_reply.started": "2022-06-07T03:37:18.853872Z"
    },
    "tags": []
   },
   "outputs": [],
   "source": [
    "count_ads[\"pooled\"] = pooled_count_ad"
   ]
  },
  {
   "cell_type": "code",
   "execution_count": 20,
   "metadata": {
    "execution": {
     "iopub.execute_input": "2022-06-07T03:37:30.774811Z",
     "iopub.status.busy": "2022-06-07T03:37:30.774521Z",
     "iopub.status.idle": "2022-06-07T03:37:31.620867Z",
     "shell.execute_reply": "2022-06-07T03:37:31.620174Z",
     "shell.execute_reply.started": "2022-06-07T03:37:30.774785Z"
    },
    "tags": []
   },
   "outputs": [],
   "source": [
    "for name, ad in count_ads.items():\n",
    "    ad = ad[~ad.obs.joint_annot.isin([\"LE\", \"Early LE\"])].copy()\n",
    "    ad.write(f\"{name}.vascular_endothelium.count_with_PCA_UMAP_for_monocle.20220531.h5ad\", compression=\"lzf\")"
   ]
  },
  {
   "cell_type": "code",
   "execution_count": 21,
   "metadata": {
    "execution": {
     "iopub.execute_input": "2022-06-07T03:37:35.035472Z",
     "iopub.status.busy": "2022-06-07T03:37:35.035213Z",
     "iopub.status.idle": "2022-06-07T03:37:35.060404Z",
     "shell.execute_reply": "2022-06-07T03:37:35.059751Z",
     "shell.execute_reply.started": "2022-06-07T03:37:35.035447Z"
    },
    "tags": []
   },
   "outputs": [
    {
     "data": {
      "text/plain": [
       "{'fsk': AnnData object with n_obs × n_vars = 1944 × 15445\n",
       "     obs: 'batch', 'chemistry_sorting', 'dataset', 'day', 'donor', 'gender', 'n_counts', 'n_genes', 'percent_hb', 'percent_mito', 'percent_ribo', 'percent_top50', 'cc_score', 'strain', 'week', 'annot', 'joint_annot'\n",
       "     var: 'gene_ids', 'cc', 'mito', 'ribo', 'hb'\n",
       "     obsm: 'X_pca', 'X_umap',\n",
       " 'org': AnnData object with n_obs × n_vars = 104 × 15445\n",
       "     obs: 'batch', 'chemistry_sorting', 'dataset', 'day', 'donor', 'gender', 'n_counts', 'n_genes', 'percent_hb', 'percent_mito', 'percent_ribo', 'percent_top50', 'cc_score', 'strain', 'week', 'annot', 'joint_annot'\n",
       "     var: 'gene_ids', 'cc', 'mito', 'ribo', 'hb'\n",
       "     obsm: 'X_pca', 'X_umap',\n",
       " 'pooled': AnnData object with n_obs × n_vars = 2048 × 15445\n",
       "     obs: 'batch', 'chemistry_sorting', 'dataset', 'day', 'donor', 'gender', 'n_counts', 'n_genes', 'percent_hb', 'percent_mito', 'percent_ribo', 'percent_top50', 'cc_score', 'strain', 'week', 'annot', 'joint_annot'\n",
       "     var: 'gene_ids', 'cc', 'mito', 'ribo', 'hb'\n",
       "     obsm: 'X_pca', 'X_umap'}"
      ]
     },
     "execution_count": 21,
     "metadata": {},
     "output_type": "execute_result"
    }
   ],
   "source": [
    "count_ads"
   ]
  }
 ],
 "metadata": {
  "kernelspec": {
   "display_name": "scanpy16",
   "language": "python",
   "name": "scanpy-new"
  },
  "language_info": {
   "codemirror_mode": {
    "name": "ipython",
    "version": 3
   },
   "file_extension": ".py",
   "mimetype": "text/x-python",
   "name": "python",
   "nbconvert_exporter": "python",
   "pygments_lexer": "ipython3",
   "version": "3.8.5"
  }
 },
 "nbformat": 4,
 "nbformat_minor": 4
}
