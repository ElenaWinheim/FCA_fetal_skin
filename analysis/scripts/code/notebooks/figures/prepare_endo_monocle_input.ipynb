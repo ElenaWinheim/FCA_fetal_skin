{
 "cells": [
  {
   "cell_type": "markdown",
   "metadata": {},
   "source": [
    "# Import and settings"
   ]
  },
  {
   "cell_type": "code",
   "execution_count": 1,
   "metadata": {
    "execution": {
     "iopub.execute_input": "2022-11-10T17:06:28.601221Z",
     "iopub.status.busy": "2022-11-10T17:06:28.600399Z",
     "iopub.status.idle": "2022-11-10T17:06:31.088894Z",
     "shell.execute_reply": "2022-11-10T17:06:31.087287Z",
     "shell.execute_reply.started": "2022-11-10T17:06:28.601114Z"
    },
    "tags": []
   },
   "outputs": [],
   "source": [
    "%load_ext autoreload\n",
    "%autoreload 2\n",
    "\n",
    "import os, re, gc, joblib\n",
    "from pathlib import Path\n",
    "import numpy as np\n",
    "import pandas as pd\n",
    "import matplotlib.pyplot as plt\n",
    "from matplotlib import rcParams\n",
    "from matplotlib.colors import ListedColormap\n",
    "import seaborn as sn\n",
    "import plotnine as pln\n",
    "import anndata\n",
    "import scanpy as sc\n",
    "import sctk as sk\n",
    "\n",
    "rcParams[\"pdf.fonttype\"] = 42\n",
    "rcParams[\"ps.fonttype\"] = 42\n",
    "expr_cmap = sk.expression_colormap()\n",
    "np.set_printoptions(linewidth=150)\n",
    "\n",
    "import numpy_groupies as npg\n",
    "from sklearn.preprocessing import minmax_scale\n",
    "import plotnine as pln\n",
    "from plotnine import ggplot, aes"
   ]
  },
  {
   "cell_type": "code",
   "execution_count": 2,
   "metadata": {
    "execution": {
     "iopub.execute_input": "2022-11-10T17:06:31.094971Z",
     "iopub.status.busy": "2022-11-10T17:06:31.094483Z",
     "iopub.status.idle": "2022-11-10T17:06:31.127412Z",
     "shell.execute_reply": "2022-11-10T17:06:31.126760Z",
     "shell.execute_reply.started": "2022-11-10T17:06:31.094937Z"
    },
    "tags": []
   },
   "outputs": [],
   "source": [
    "import scipy.sparse as sp"
   ]
  },
  {
   "cell_type": "code",
   "execution_count": 3,
   "metadata": {
    "execution": {
     "iopub.execute_input": "2022-11-10T17:06:31.134117Z",
     "iopub.status.busy": "2022-11-10T17:06:31.133827Z",
     "iopub.status.idle": "2022-11-10T17:06:31.751584Z",
     "shell.execute_reply": "2022-11-10T17:06:31.750739Z",
     "shell.execute_reply.started": "2022-11-10T17:06:31.134097Z"
    }
   },
   "outputs": [
    {
     "name": "stdout",
     "output_type": "stream",
     "text": [
      "/home/jovyan/FCA_Fetal_Skin_priv\n"
     ]
    }
   ],
   "source": [
    "data_root = Path('/lustre/scratch126/cellgen/team205/nh3/skin').resolve()\n",
    "proj_root = Path('~/FCA_Fetal_Skin_priv/').expanduser()\n",
    "os.chdir(proj_root)\n",
    "!pwd"
   ]
  },
  {
   "cell_type": "markdown",
   "metadata": {},
   "source": [
    "# Load data"
   ]
  },
  {
   "cell_type": "code",
   "execution_count": 4,
   "metadata": {
    "execution": {
     "iopub.execute_input": "2022-11-10T17:06:51.808864Z",
     "iopub.status.busy": "2022-11-10T17:06:51.807550Z",
     "iopub.status.idle": "2022-11-10T17:06:51.859468Z",
     "shell.execute_reply": "2022-11-10T17:06:51.858583Z",
     "shell.execute_reply.started": "2022-11-10T17:06:51.808811Z"
    },
    "tags": []
   },
   "outputs": [],
   "source": [
    "cc_genes = sk.read_list(Path(data_root, \"data/misc/JP_cycle_genes.list\"))"
   ]
  },
  {
   "cell_type": "code",
   "execution_count": 5,
   "metadata": {
    "execution": {
     "iopub.execute_input": "2022-11-10T17:07:07.527285Z",
     "iopub.status.busy": "2022-11-10T17:07:07.526664Z",
     "iopub.status.idle": "2022-11-10T17:07:09.495851Z",
     "shell.execute_reply": "2022-11-10T17:07:09.494584Z",
     "shell.execute_reply.started": "2022-11-10T17:07:07.527257Z"
    },
    "tags": []
   },
   "outputs": [],
   "source": [
    "pooled_ad = sc.read(Path(data_root, \"20200626_make_figure_for_Muzz/pooled_endothelium.processed.h5ad\"))"
   ]
  },
  {
   "cell_type": "code",
   "execution_count": 6,
   "metadata": {
    "execution": {
     "iopub.execute_input": "2022-11-10T17:07:17.479566Z",
     "iopub.status.busy": "2022-11-10T17:07:17.478863Z",
     "iopub.status.idle": "2022-11-10T17:07:17.704092Z",
     "shell.execute_reply": "2022-11-10T17:07:17.703171Z",
     "shell.execute_reply.started": "2022-11-10T17:07:17.479539Z"
    },
    "tags": []
   },
   "outputs": [
    {
     "name": "stderr",
     "output_type": "stream",
     "text": [
      "WARNING: genes are not in var_names and ignored: ['AC004381.6', 'AP000251.3', 'ARHGAP11B', 'ATP5G1', 'C4orf27', 'CASC5', 'CTC-260E6.6', 'FAM64A', 'GSG2', 'HN1', 'KIAA0101', 'KIAA1524', 'PRSS21', 'RP11-196G18.23', 'RPL39L', 'RPS4Y1', 'SGOL1', 'SGOL2', 'WHSC1', 'XRCC6BP1']\n"
     ]
    }
   ],
   "source": [
    "sc.tl.score_genes(\n",
    "    pooled_ad, gene_list=cc_genes, ctrl_size=len(cc_genes), use_raw=True, score_name=\"cc_score\"\n",
    ")"
   ]
  },
  {
   "cell_type": "code",
   "execution_count": 7,
   "metadata": {
    "execution": {
     "iopub.execute_input": "2022-11-10T17:07:17.943396Z",
     "iopub.status.busy": "2022-11-10T17:07:17.943026Z",
     "iopub.status.idle": "2022-11-10T17:07:17.976805Z",
     "shell.execute_reply": "2022-11-10T17:07:17.975876Z",
     "shell.execute_reply.started": "2022-11-10T17:07:17.943372Z"
    },
    "tags": []
   },
   "outputs": [
    {
     "data": {
      "text/plain": [
       "AnnData object with n_obs × n_vars = 2048 × 14908\n",
       "    obs: 'batch', 'chemistry_sorting', 'dataset', 'day', 'donor', 'gender', 'n_counts', 'n_genes', 'nh3_annot1', 'percent_hb', 'percent_mito', 'percent_ribo', 'percent_top50', 'rachel_annot3', 'sample_id', 'strain', 'week', 'annot', 'leiden_hm_r0_1', 'leiden_hm_r0_3', 'leiden_hm_r0_5', 'leiden_hm_r0_7', 'leiden_hm_r0_9', 'leiden_hm_split1', 'joint_annot', '__is_in_cluster__', 'leiden_r0_1', 'leiden_r0_3', 'leiden_r0_5', 'leiden_r0_7', 'leiden_r0_9', 'cc_score'\n",
       "    var: 'gene_ids', 'hb', 'cc', 'mito', 'ribo', 'n_counts', 'n_cells', 'highly_variable', 'means', 'dispersions', 'dispersions_norm', 'hvg_full'\n",
       "    uns: 'dendrogram_joint_annot', 'leiden', 'neighbors', 'neighbors_hm', 'pca', 'rank_genes_groups_de.Capillary (arterial tip)-Capillary (venular tip)', 'rank_genes_groups_de.Capillary (arterial tip)-Capillary (venular tip)_filtered', 'rank_genes_groups_de.Capillary (venular tip)-Capillary (arterial tip)', 'rank_genes_groups_de.Capillary (venular tip)-Capillary (arterial tip)_filtered', 'rank_genes_groups_hm1', 'rank_genes_groups_hm1_filtered', 'rank_genes_groups_ja', 'rank_genes_groups_ja_filtered'\n",
       "    obsm: 'X_pca', 'X_pca_hm', 'X_umap_hm', 'X_umap'\n",
       "    varm: 'PCs'\n",
       "    obsp: 'distances', 'connectivities'"
      ]
     },
     "execution_count": 7,
     "metadata": {},
     "output_type": "execute_result"
    }
   ],
   "source": [
    "pooled_ad"
   ]
  },
  {
   "cell_type": "code",
   "execution_count": 8,
   "metadata": {
    "execution": {
     "iopub.execute_input": "2022-11-10T17:07:21.644088Z",
     "iopub.status.busy": "2022-11-10T17:07:21.643068Z",
     "iopub.status.idle": "2022-11-10T17:07:21.680790Z",
     "shell.execute_reply": "2022-11-10T17:07:21.679778Z",
     "shell.execute_reply.started": "2022-11-10T17:07:21.644058Z"
    },
    "tags": []
   },
   "outputs": [
    {
     "data": {
      "text/plain": [
       "Index(['Early endothelial cell', 'Early LE', 'LE', 'Arterial',\n",
       "       'Tip cell (arterial)', 'Capillary (venular tip)',\n",
       "       'Capillary/postcapillary venule', 'Postcapillary venule'],\n",
       "      dtype='object')"
      ]
     },
     "execution_count": 8,
     "metadata": {},
     "output_type": "execute_result"
    }
   ],
   "source": [
    "pooled_ad.obs.joint_annot.cat.categories"
   ]
  },
  {
   "cell_type": "code",
   "execution_count": 9,
   "metadata": {
    "execution": {
     "iopub.execute_input": "2022-11-10T17:07:22.549663Z",
     "iopub.status.busy": "2022-11-10T17:07:22.549065Z",
     "iopub.status.idle": "2022-11-10T17:07:22.579077Z",
     "shell.execute_reply": "2022-11-10T17:07:22.578418Z",
     "shell.execute_reply.started": "2022-11-10T17:07:22.549638Z"
    },
    "tags": []
   },
   "outputs": [
    {
     "data": {
      "text/plain": [
       "Index(['FCAImmP7241241', 'FCAImmP7316886', 'FCAImmP7316887', 'FCAImmP7316888',\n",
       "       'FCAImmP7316896', 'FCAImmP7316897', 'FCAImmP7352190', 'FCAImmP7352191',\n",
       "       'FCAImmP7462241', 'FCAImmP7528290', 'FCAImmP7528291', 'FCAImmP7555848',\n",
       "       'FCAImmP7579213', 'FCAImmP7803024', 'FCAImmP7803025', 'FCAImmP7803026',\n",
       "       'FCAImmP7803027', 'FCAImmP7803034', 'FCAImmP7803035', 'FCAImmP7803042',\n",
       "       'FCAImmP7803043', 'FCAImmP7862095', 'FCAImmP7862096', 'FCAImmP7964503',\n",
       "       'FCAImmP7964504', 'FCAImmP7964505', 'FCAImmP7964506', 'FCAImmP7964507',\n",
       "       'FCAImmP7964508', 'FCAImmP7964509', 'FCAImmP7964510', 'v2_DSP',\n",
       "       'v2_WA25', 'v3_DSP', 'v3_WA25'],\n",
       "      dtype='object')"
      ]
     },
     "execution_count": 9,
     "metadata": {},
     "output_type": "execute_result"
    }
   ],
   "source": [
    "pooled_ad.obs.batch.cat.categories"
   ]
  },
  {
   "cell_type": "code",
   "execution_count": 10,
   "metadata": {
    "execution": {
     "iopub.execute_input": "2022-11-10T17:07:23.700590Z",
     "iopub.status.busy": "2022-11-10T17:07:23.699630Z",
     "iopub.status.idle": "2022-11-10T17:07:23.734209Z",
     "shell.execute_reply": "2022-11-10T17:07:23.733464Z",
     "shell.execute_reply.started": "2022-11-10T17:07:23.700556Z"
    },
    "tags": []
   },
   "outputs": [
    {
     "data": {
      "text/plain": [
       "Index(['0', '4', '5', '7', '8', '9', '10', '11', 'nan'], dtype='object')"
      ]
     },
     "execution_count": 10,
     "metadata": {},
     "output_type": "execute_result"
    }
   ],
   "source": [
    "pooled_ad.obs.sample_id.cat.categories"
   ]
  },
  {
   "cell_type": "code",
   "execution_count": 11,
   "metadata": {
    "execution": {
     "iopub.execute_input": "2022-11-10T17:07:24.324601Z",
     "iopub.status.busy": "2022-11-10T17:07:24.323551Z",
     "iopub.status.idle": "2022-11-10T17:07:24.353343Z",
     "shell.execute_reply": "2022-11-10T17:07:24.352616Z",
     "shell.execute_reply.started": "2022-11-10T17:07:24.324573Z"
    },
    "tags": []
   },
   "outputs": [
    {
     "data": {
      "text/plain": [
       "Index(['fetal_skin', 'organoid'], dtype='object')"
      ]
     },
     "execution_count": 11,
     "metadata": {},
     "output_type": "execute_result"
    }
   ],
   "source": [
    "pooled_ad.obs.dataset.cat.categories"
   ]
  },
  {
   "cell_type": "code",
   "execution_count": 12,
   "metadata": {
    "execution": {
     "iopub.execute_input": "2022-11-10T17:07:25.706436Z",
     "iopub.status.busy": "2022-11-10T17:07:25.705992Z",
     "iopub.status.idle": "2022-11-10T17:07:25.735015Z",
     "shell.execute_reply": "2022-11-10T17:07:25.734329Z",
     "shell.execute_reply.started": "2022-11-10T17:07:25.706409Z"
    },
    "tags": []
   },
   "outputs": [],
   "source": [
    "pooled_ad.obs.dataset.cat.rename_categories({\"fetal_skin\": \"fsk\", \"organoid\": \"org\"}, inplace=True)"
   ]
  },
  {
   "cell_type": "code",
   "execution_count": 13,
   "metadata": {
    "execution": {
     "iopub.execute_input": "2022-11-10T17:07:30.485492Z",
     "iopub.status.busy": "2022-11-10T17:07:30.484848Z",
     "iopub.status.idle": "2022-11-10T17:07:31.128513Z",
     "shell.execute_reply": "2022-11-10T17:07:31.127513Z",
     "shell.execute_reply.started": "2022-11-10T17:07:30.485454Z"
    },
    "tags": []
   },
   "outputs": [],
   "source": [
    "pooled_count_ad = sk.restore_adata(\n",
    "    pooled_ad, use_raw=True, use_n_counts=True, obsm_keys=[\"X_pca_hm\", \"X_umap_hm\"]\n",
    ")"
   ]
  },
  {
   "cell_type": "code",
   "execution_count": 14,
   "metadata": {
    "execution": {
     "iopub.execute_input": "2022-11-10T17:07:33.037252Z",
     "iopub.status.busy": "2022-11-10T17:07:33.036662Z",
     "iopub.status.idle": "2022-11-10T17:07:33.070115Z",
     "shell.execute_reply": "2022-11-10T17:07:33.069219Z",
     "shell.execute_reply.started": "2022-11-10T17:07:33.037218Z"
    },
    "tags": []
   },
   "outputs": [],
   "source": [
    "pooled_count_ad.var = pooled_count_ad.var[\n",
    "    [x for x in pooled_count_ad.var.columns if x.endswith(\"fetal_skin\")]\n",
    "].rename(columns=lambda x: x.replace(\"-fetal_skin\", \"\"))[[\"gene_ids\", \"cc\", \"mito\", \"ribo\", \"hb\"]]"
   ]
  },
  {
   "cell_type": "code",
   "execution_count": 15,
   "metadata": {
    "execution": {
     "iopub.execute_input": "2022-11-10T17:07:34.351296Z",
     "iopub.status.busy": "2022-11-10T17:07:34.350489Z",
     "iopub.status.idle": "2022-11-10T17:07:34.380717Z",
     "shell.execute_reply": "2022-11-10T17:07:34.379831Z",
     "shell.execute_reply.started": "2022-11-10T17:07:34.351270Z"
    },
    "tags": []
   },
   "outputs": [],
   "source": [
    "pooled_count_ad.obs = pooled_count_ad.obs[\n",
    "    [\n",
    "        \"batch\",\n",
    "        \"chemistry_sorting\",\n",
    "        \"dataset\",\n",
    "        \"day\",\n",
    "        \"donor\",\n",
    "        \"gender\",\n",
    "        \"n_counts\",\n",
    "        \"n_genes\",\n",
    "        \"percent_hb\",\n",
    "        \"percent_mito\",\n",
    "        \"percent_ribo\",\n",
    "        \"percent_top50\",\n",
    "        \"cc_score\",\n",
    "        \"strain\",\n",
    "        \"week\",\n",
    "        \"annot\",\n",
    "        \"joint_annot\",\n",
    "    ]\n",
    "]"
   ]
  },
  {
   "cell_type": "code",
   "execution_count": 16,
   "metadata": {
    "execution": {
     "iopub.execute_input": "2022-11-10T17:07:36.437285Z",
     "iopub.status.busy": "2022-11-10T17:07:36.436679Z",
     "iopub.status.idle": "2022-11-10T17:07:36.464513Z",
     "shell.execute_reply": "2022-11-10T17:07:36.463671Z",
     "shell.execute_reply.started": "2022-11-10T17:07:36.437261Z"
    },
    "tags": []
   },
   "outputs": [],
   "source": [
    "sk._obj_utils._rename_obsm_key(pooled_count_ad, \"X_pca_hm\", \"X_pca\")\n",
    "sk._obj_utils._rename_obsm_key(pooled_count_ad, \"X_umap_hm\", \"X_umap\")"
   ]
  },
  {
   "cell_type": "code",
   "execution_count": 17,
   "metadata": {
    "execution": {
     "iopub.execute_input": "2022-11-10T17:07:37.610729Z",
     "iopub.status.busy": "2022-11-10T17:07:37.610294Z",
     "iopub.status.idle": "2022-11-10T17:07:37.639764Z",
     "shell.execute_reply": "2022-11-10T17:07:37.639169Z",
     "shell.execute_reply.started": "2022-11-10T17:07:37.610703Z"
    },
    "tags": []
   },
   "outputs": [
    {
     "data": {
      "text/plain": [
       "AnnData object with n_obs × n_vars = 2048 × 15445\n",
       "    obs: 'batch', 'chemistry_sorting', 'dataset', 'day', 'donor', 'gender', 'n_counts', 'n_genes', 'percent_hb', 'percent_mito', 'percent_ribo', 'percent_top50', 'cc_score', 'strain', 'week', 'annot', 'joint_annot'\n",
       "    var: 'gene_ids', 'cc', 'mito', 'ribo', 'hb'\n",
       "    obsm: 'X_pca', 'X_umap'"
      ]
     },
     "execution_count": 17,
     "metadata": {},
     "output_type": "execute_result"
    }
   ],
   "source": [
    "pooled_count_ad"
   ]
  },
  {
   "cell_type": "code",
   "execution_count": 18,
   "metadata": {
    "execution": {
     "iopub.execute_input": "2022-11-10T17:07:45.469208Z",
     "iopub.status.busy": "2022-11-10T17:07:45.468887Z",
     "iopub.status.idle": "2022-11-10T17:07:45.553771Z",
     "shell.execute_reply": "2022-11-10T17:07:45.552815Z",
     "shell.execute_reply.started": "2022-11-10T17:07:45.469187Z"
    },
    "tags": []
   },
   "outputs": [],
   "source": [
    "count_ads = sk.split_by_group(pooled_count_ad, groupby=\"dataset\")"
   ]
  },
  {
   "cell_type": "code",
   "execution_count": 19,
   "metadata": {
    "execution": {
     "iopub.execute_input": "2022-11-10T17:07:45.995699Z",
     "iopub.status.busy": "2022-11-10T17:07:45.995199Z",
     "iopub.status.idle": "2022-11-10T17:07:46.033201Z",
     "shell.execute_reply": "2022-11-10T17:07:46.032470Z",
     "shell.execute_reply.started": "2022-11-10T17:07:45.995671Z"
    },
    "tags": []
   },
   "outputs": [],
   "source": [
    "count_ads[\"pooled\"] = pooled_count_ad"
   ]
  },
  {
   "cell_type": "code",
   "execution_count": 20,
   "metadata": {
    "execution": {
     "iopub.execute_input": "2022-11-10T17:08:06.846569Z",
     "iopub.status.busy": "2022-11-10T17:08:06.845841Z",
     "iopub.status.idle": "2022-11-10T17:08:06.929808Z",
     "shell.execute_reply": "2022-11-10T17:08:06.929128Z",
     "shell.execute_reply.started": "2022-11-10T17:08:06.846543Z"
    },
    "tags": []
   },
   "outputs": [],
   "source": [
    "for name, ad in count_ads.items():\n",
    "    ad = ad[~ad.obs.joint_annot.isin([\"LE\", \"Early LE\"])].copy()\n",
    "#     ad.write(f\"{name}.vascular_endothelium.count_with_PCA_UMAP_for_monocle.20220531.h5ad\", compression=\"lzf\")"
   ]
  },
  {
   "cell_type": "code",
   "execution_count": 21,
   "metadata": {
    "execution": {
     "iopub.execute_input": "2022-11-10T17:08:08.007366Z",
     "iopub.status.busy": "2022-11-10T17:08:08.006558Z",
     "iopub.status.idle": "2022-11-10T17:08:08.035251Z",
     "shell.execute_reply": "2022-11-10T17:08:08.034592Z",
     "shell.execute_reply.started": "2022-11-10T17:08:08.007339Z"
    },
    "tags": []
   },
   "outputs": [
    {
     "data": {
      "text/plain": [
       "{'fsk': AnnData object with n_obs × n_vars = 1944 × 15445\n",
       "     obs: 'batch', 'chemistry_sorting', 'dataset', 'day', 'donor', 'gender', 'n_counts', 'n_genes', 'percent_hb', 'percent_mito', 'percent_ribo', 'percent_top50', 'cc_score', 'strain', 'week', 'annot', 'joint_annot'\n",
       "     var: 'gene_ids', 'cc', 'mito', 'ribo', 'hb'\n",
       "     obsm: 'X_pca', 'X_umap',\n",
       " 'org': AnnData object with n_obs × n_vars = 104 × 15445\n",
       "     obs: 'batch', 'chemistry_sorting', 'dataset', 'day', 'donor', 'gender', 'n_counts', 'n_genes', 'percent_hb', 'percent_mito', 'percent_ribo', 'percent_top50', 'cc_score', 'strain', 'week', 'annot', 'joint_annot'\n",
       "     var: 'gene_ids', 'cc', 'mito', 'ribo', 'hb'\n",
       "     obsm: 'X_pca', 'X_umap',\n",
       " 'pooled': AnnData object with n_obs × n_vars = 2048 × 15445\n",
       "     obs: 'batch', 'chemistry_sorting', 'dataset', 'day', 'donor', 'gender', 'n_counts', 'n_genes', 'percent_hb', 'percent_mito', 'percent_ribo', 'percent_top50', 'cc_score', 'strain', 'week', 'annot', 'joint_annot'\n",
       "     var: 'gene_ids', 'cc', 'mito', 'ribo', 'hb'\n",
       "     obsm: 'X_pca', 'X_umap'}"
      ]
     },
     "execution_count": 21,
     "metadata": {},
     "output_type": "execute_result"
    }
   ],
   "source": [
    "count_ads"
   ]
  }
 ],
 "metadata": {
  "kernelspec": {
   "display_name": "FCA_base",
   "language": "python",
   "name": "fca_base"
  },
  "language_info": {
   "codemirror_mode": {
    "name": "ipython",
    "version": 3
   },
   "file_extension": ".py",
   "mimetype": "text/x-python",
   "name": "python",
   "nbconvert_exporter": "python",
   "pygments_lexer": "ipython3",
   "version": "3.9.13"
  },
  "widgets": {
   "application/vnd.jupyter.widget-state+json": {
    "state": {},
    "version_major": 2,
    "version_minor": 0
   }
  }
 },
 "nbformat": 4,
 "nbformat_minor": 4
}
