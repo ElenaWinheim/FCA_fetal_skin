{
 "cells": [
  {
   "cell_type": "code",
   "execution_count": 1,
   "metadata": {},
   "outputs": [],
   "source": [
    "%load_ext autoreload\n",
    "%autoreload 2\n",
    "\n",
    "import numpy as np\n",
    "import pandas as pd\n",
    "import matplotlib.pyplot as plt\n",
    "import anndata\n",
    "import scanpy as sc\n",
    "import scanpy_scripts as ss\n",
    "import bbknn\n",
    "import phate\n",
    "\n",
    "np.set_printoptions(linewidth=180)\n",
    "sc.settings.verbosity = 1\n",
    "expr_cmap = ss.lib.expression_colormap()\n",
    "ss.lib.set_figsize((4, 4))"
   ]
  },
  {
   "cell_type": "code",
   "execution_count": 65,
   "metadata": {},
   "outputs": [],
   "source": [
    "def read_10x_mtx(path, genome='GRCh38', **kwargs):\n",
    "    try:\n",
    "        ad = sc.read_10x_mtx(path, **kwargs)\n",
    "        version = 'v3'\n",
    "    except:\n",
    "        ad = sc.read_10x_mtx(f'{path}/{genome}', **kwargs)\n",
    "        version = 'v2'\n",
    "    return ad, version"
   ]
  },
  {
   "cell_type": "code",
   "execution_count": null,
   "metadata": {},
   "outputs": [],
   "source": []
  },
  {
   "cell_type": "code",
   "execution_count": 2,
   "metadata": {},
   "outputs": [],
   "source": [
    "cellranger_dir = '../data/skin_organoid_koehler'"
   ]
  },
  {
   "cell_type": "code",
   "execution_count": 35,
   "metadata": {},
   "outputs": [],
   "source": [
    "sample_info = pd.read_csv(f'{cellranger_dir}/samples.tsv', sep='\\t')"
   ]
  },
  {
   "cell_type": "code",
   "execution_count": 36,
   "metadata": {},
   "outputs": [
    {
     "data": {
      "text/html": [
       "<div>\n",
       "<style scoped>\n",
       "    .dataframe tbody tr th:only-of-type {\n",
       "        vertical-align: middle;\n",
       "    }\n",
       "\n",
       "    .dataframe tbody tr th {\n",
       "        vertical-align: top;\n",
       "    }\n",
       "\n",
       "    .dataframe thead th {\n",
       "        text-align: right;\n",
       "    }\n",
       "</style>\n",
       "<table border=\"1\" class=\"dataframe\">\n",
       "  <thead>\n",
       "    <tr style=\"text-align: right;\">\n",
       "      <th></th>\n",
       "      <th>day</th>\n",
       "      <th>week</th>\n",
       "      <th>strain</th>\n",
       "      <th>path</th>\n",
       "    </tr>\n",
       "  </thead>\n",
       "  <tbody>\n",
       "    <tr>\n",
       "      <th>0</th>\n",
       "      <td>day-133</td>\n",
       "      <td>17-20_fetal_wks</td>\n",
       "      <td>DSP-1</td>\n",
       "      <td>filtered_feature_bc_matrix</td>\n",
       "    </tr>\n",
       "    <tr>\n",
       "      <th>1</th>\n",
       "      <td>day-133</td>\n",
       "      <td>17-20_fetal_wks</td>\n",
       "      <td>DSP-2</td>\n",
       "      <td>filtered_feature_bc_matrix</td>\n",
       "    </tr>\n",
       "    <tr>\n",
       "      <th>2</th>\n",
       "      <td>day-133</td>\n",
       "      <td>17-20_fetal_wks</td>\n",
       "      <td>DSP-3</td>\n",
       "      <td>filtered_feature_bc_matrix</td>\n",
       "    </tr>\n",
       "    <tr>\n",
       "      <th>3</th>\n",
       "      <td>day-133</td>\n",
       "      <td>17-20_fetal_wks</td>\n",
       "      <td>WA25-1</td>\n",
       "      <td>filtered_feature_bc_matrix</td>\n",
       "    </tr>\n",
       "    <tr>\n",
       "      <th>4</th>\n",
       "      <td>day-133</td>\n",
       "      <td>17-20_fetal_wks</td>\n",
       "      <td>WA25-2</td>\n",
       "      <td>filtered_feature_bc_matrix</td>\n",
       "    </tr>\n",
       "    <tr>\n",
       "      <th>5</th>\n",
       "      <td>day-133</td>\n",
       "      <td>17-20_fetal_wks</td>\n",
       "      <td>WA25-3</td>\n",
       "      <td>filtered_feature_bc_matrix</td>\n",
       "    </tr>\n",
       "    <tr>\n",
       "      <th>6</th>\n",
       "      <td>day-29</td>\n",
       "      <td>4-7_fetal_wks</td>\n",
       "      <td>DSP</td>\n",
       "      <td>filtered_gene_bc_matrices/GRCh38</td>\n",
       "    </tr>\n",
       "    <tr>\n",
       "      <th>7</th>\n",
       "      <td>day-29</td>\n",
       "      <td>4-7_fetal_wks</td>\n",
       "      <td>WA25</td>\n",
       "      <td>filtered_gene_bc_matrices/GRCh38</td>\n",
       "    </tr>\n",
       "    <tr>\n",
       "      <th>8</th>\n",
       "      <td>day-48</td>\n",
       "      <td>7-10_fetal_wks</td>\n",
       "      <td>DSP</td>\n",
       "      <td>filtered_feature_bc_matrix</td>\n",
       "    </tr>\n",
       "    <tr>\n",
       "      <th>9</th>\n",
       "      <td>day-48</td>\n",
       "      <td>7-10_fetal_wks</td>\n",
       "      <td>WA25</td>\n",
       "      <td>filtered_feature_bc_matrix</td>\n",
       "    </tr>\n",
       "    <tr>\n",
       "      <th>10</th>\n",
       "      <td>day-85</td>\n",
       "      <td>14-16_fetal_wks</td>\n",
       "      <td>DSP</td>\n",
       "      <td>filtered_gene_bc_matrices/GRCh38</td>\n",
       "    </tr>\n",
       "    <tr>\n",
       "      <th>11</th>\n",
       "      <td>day-85</td>\n",
       "      <td>14-16_fetal_wks</td>\n",
       "      <td>WA25</td>\n",
       "      <td>filtered_gene_bc_matrices2/GRCh38</td>\n",
       "    </tr>\n",
       "  </tbody>\n",
       "</table>\n",
       "</div>"
      ],
      "text/plain": [
       "        day             week  strain                               path\n",
       "0   day-133  17-20_fetal_wks   DSP-1         filtered_feature_bc_matrix\n",
       "1   day-133  17-20_fetal_wks   DSP-2         filtered_feature_bc_matrix\n",
       "2   day-133  17-20_fetal_wks   DSP-3         filtered_feature_bc_matrix\n",
       "3   day-133  17-20_fetal_wks  WA25-1         filtered_feature_bc_matrix\n",
       "4   day-133  17-20_fetal_wks  WA25-2         filtered_feature_bc_matrix\n",
       "5   day-133  17-20_fetal_wks  WA25-3         filtered_feature_bc_matrix\n",
       "6    day-29    4-7_fetal_wks     DSP   filtered_gene_bc_matrices/GRCh38\n",
       "7    day-29    4-7_fetal_wks    WA25   filtered_gene_bc_matrices/GRCh38\n",
       "8    day-48   7-10_fetal_wks     DSP         filtered_feature_bc_matrix\n",
       "9    day-48   7-10_fetal_wks    WA25         filtered_feature_bc_matrix\n",
       "10   day-85  14-16_fetal_wks     DSP   filtered_gene_bc_matrices/GRCh38\n",
       "11   day-85  14-16_fetal_wks    WA25  filtered_gene_bc_matrices2/GRCh38"
      ]
     },
     "execution_count": 36,
     "metadata": {},
     "output_type": "execute_result"
    }
   ],
   "source": [
    "sample_info"
   ]
  },
  {
   "cell_type": "code",
   "execution_count": 66,
   "metadata": {},
   "outputs": [],
   "source": [
    "ads = []"
   ]
  },
  {
   "cell_type": "code",
   "execution_count": 67,
   "metadata": {},
   "outputs": [],
   "source": [
    "for i, row in sample_info.iterrows():\n",
    "    mtx_dir = f'{cellranger_dir}/{row[\"day\"]}_skin_organoids_{row[\"week\"]}/cellranger_outputs/{row[\"strain\"]}/outs/{row[\"path\"]}'\n",
    "    ad, version = read_10x_mtx(mtx_dir, var_names='gene_ids')\n",
    "    ad.obs['day'] = row['day']\n",
    "    ad.obs['week'] = row['week']\n",
    "    ad.obs['strain'] = row['strain']\n",
    "    ad.obs['version'] = version\n",
    "    ads.append(ad)"
   ]
  },
  {
   "cell_type": "code",
   "execution_count": 77,
   "metadata": {},
   "outputs": [
    {
     "name": "stderr",
     "output_type": "stream",
     "text": [
      "... storing 'day' as categorical\n",
      "... storing 'week' as categorical\n",
      "... storing 'strain' as categorical\n",
      "... storing 'version' as categorical\n",
      "... storing 'gene_symbols' as categorical\n",
      "... storing 'feature_types' as categorical\n",
      "... storing 'day' as categorical\n",
      "... storing 'week' as categorical\n",
      "... storing 'strain' as categorical\n",
      "... storing 'version' as categorical\n",
      "... storing 'gene_symbols' as categorical\n",
      "... storing 'feature_types' as categorical\n",
      "... storing 'day' as categorical\n",
      "... storing 'week' as categorical\n",
      "... storing 'strain' as categorical\n",
      "... storing 'version' as categorical\n",
      "... storing 'gene_symbols' as categorical\n",
      "... storing 'feature_types' as categorical\n",
      "... storing 'day' as categorical\n",
      "... storing 'week' as categorical\n",
      "... storing 'strain' as categorical\n",
      "... storing 'version' as categorical\n",
      "... storing 'gene_symbols' as categorical\n",
      "... storing 'feature_types' as categorical\n",
      "... storing 'day' as categorical\n",
      "... storing 'week' as categorical\n",
      "... storing 'strain' as categorical\n",
      "... storing 'version' as categorical\n",
      "... storing 'gene_symbols' as categorical\n",
      "... storing 'feature_types' as categorical\n",
      "... storing 'day' as categorical\n",
      "... storing 'week' as categorical\n",
      "... storing 'strain' as categorical\n",
      "... storing 'version' as categorical\n",
      "... storing 'gene_symbols' as categorical\n",
      "... storing 'feature_types' as categorical\n",
      "... storing 'day' as categorical\n",
      "... storing 'week' as categorical\n",
      "... storing 'strain' as categorical\n",
      "... storing 'version' as categorical\n",
      "... storing 'gene_symbols' as categorical\n",
      "... storing 'day' as categorical\n",
      "... storing 'week' as categorical\n",
      "... storing 'strain' as categorical\n",
      "... storing 'version' as categorical\n",
      "... storing 'gene_symbols' as categorical\n",
      "... storing 'day' as categorical\n",
      "... storing 'week' as categorical\n",
      "... storing 'strain' as categorical\n",
      "... storing 'version' as categorical\n",
      "... storing 'gene_symbols' as categorical\n",
      "... storing 'feature_types' as categorical\n",
      "... storing 'day' as categorical\n",
      "... storing 'week' as categorical\n",
      "... storing 'strain' as categorical\n",
      "... storing 'version' as categorical\n",
      "... storing 'gene_symbols' as categorical\n",
      "... storing 'feature_types' as categorical\n",
      "... storing 'day' as categorical\n",
      "... storing 'week' as categorical\n",
      "... storing 'strain' as categorical\n",
      "... storing 'version' as categorical\n",
      "... storing 'gene_symbols' as categorical\n",
      "... storing 'day' as categorical\n",
      "... storing 'week' as categorical\n",
      "... storing 'strain' as categorical\n",
      "... storing 'version' as categorical\n",
      "... storing 'gene_symbols' as categorical\n"
     ]
    }
   ],
   "source": [
    "for ad in ads:\n",
    "    day = ad.obs['day'][0]\n",
    "    week = ad.obs['week'][0]\n",
    "    strain = ad.obs['strain'][0]\n",
    "    ad.write(f'{day}_{week}_{strain}.raw.h5ad', compression='lzf')"
   ]
  },
  {
   "cell_type": "code",
   "execution_count": 95,
   "metadata": {},
   "outputs": [
    {
     "data": {
      "text/plain": [
       "[AnnData object with n_obs × n_vars = 12403 × 33538 \n",
       "     obs: 'day', 'week', 'strain', 'version'\n",
       "     var: 'gene_symbols', 'feature_types',\n",
       " AnnData object with n_obs × n_vars = 11330 × 33538 \n",
       "     obs: 'day', 'week', 'strain', 'version'\n",
       "     var: 'gene_symbols', 'feature_types',\n",
       " AnnData object with n_obs × n_vars = 14624 × 33538 \n",
       "     obs: 'day', 'week', 'strain', 'version'\n",
       "     var: 'gene_symbols', 'feature_types',\n",
       " AnnData object with n_obs × n_vars = 13184 × 33538 \n",
       "     obs: 'day', 'week', 'strain', 'version'\n",
       "     var: 'gene_symbols', 'feature_types',\n",
       " AnnData object with n_obs × n_vars = 16779 × 33538 \n",
       "     obs: 'day', 'week', 'strain', 'version'\n",
       "     var: 'gene_symbols', 'feature_types',\n",
       " AnnData object with n_obs × n_vars = 11960 × 33538 \n",
       "     obs: 'day', 'week', 'strain', 'version'\n",
       "     var: 'gene_symbols', 'feature_types',\n",
       " AnnData object with n_obs × n_vars = 9144 × 33694 \n",
       "     obs: 'day', 'week', 'strain', 'version'\n",
       "     var: 'gene_symbols',\n",
       " AnnData object with n_obs × n_vars = 9356 × 33694 \n",
       "     obs: 'day', 'week', 'strain', 'version'\n",
       "     var: 'gene_symbols',\n",
       " AnnData object with n_obs × n_vars = 13914 × 33538 \n",
       "     obs: 'day', 'week', 'strain', 'version'\n",
       "     var: 'gene_symbols', 'feature_types',\n",
       " AnnData object with n_obs × n_vars = 15903 × 33538 \n",
       "     obs: 'day', 'week', 'strain', 'version'\n",
       "     var: 'gene_symbols', 'feature_types',\n",
       " AnnData object with n_obs × n_vars = 9556 × 33694 \n",
       "     obs: 'day', 'week', 'strain', 'version'\n",
       "     var: 'gene_symbols',\n",
       " AnnData object with n_obs × n_vars = 8936 × 33694 \n",
       "     obs: 'day', 'week', 'strain', 'version'\n",
       "     var: 'gene_symbols']"
      ]
     },
     "execution_count": 95,
     "metadata": {},
     "output_type": "execute_result"
    }
   ],
   "source": [
    "for ad in ads:\n",
    "    ss.lib.run_scrublet(ad)"
   ]
  },
  {
   "cell_type": "code",
   "execution_count": 68,
   "metadata": {},
   "outputs": [],
   "source": [
    "organoid_ad = anndata.AnnData.concatenate(*ads, batch_key='sample_id')"
   ]
  },
  {
   "cell_type": "code",
   "execution_count": 69,
   "metadata": {},
   "outputs": [
    {
     "data": {
      "text/plain": [
       "AnnData object with n_obs × n_vars = 147089 × 32991 \n",
       "    obs: 'day', 'sample_id', 'strain', 'version', 'week'\n",
       "    var: 'gene_symbols-0', 'feature_types-0', 'gene_symbols-1', 'feature_types-1', 'gene_symbols-2', 'feature_types-2', 'gene_symbols-3', 'feature_types-3', 'gene_symbols-4', 'feature_types-4', 'gene_symbols-5', 'feature_types-5', 'gene_symbols-6', 'gene_symbols-7', 'gene_symbols-8', 'feature_types-8', 'gene_symbols-9', 'feature_types-9', 'gene_symbols-10', 'gene_symbols-11'"
      ]
     },
     "execution_count": 69,
     "metadata": {},
     "output_type": "execute_result"
    }
   ],
   "source": [
    "organoid_ad"
   ]
  },
  {
   "cell_type": "code",
   "execution_count": 72,
   "metadata": {},
   "outputs": [],
   "source": [
    "organoid_ad.var = organoid_ad.var[['gene_symbols-0']].rename(columns={'gene_symbols-0': 'gene_symbols'})"
   ]
  },
  {
   "cell_type": "code",
   "execution_count": 88,
   "metadata": {},
   "outputs": [
    {
     "data": {
      "text/plain": [
       "AnnData object with n_obs × n_vars = 147089 × 32991 \n",
       "    obs: 'day', 'sample_id', 'strain', 'version', 'week'\n",
       "    var: 'gene_symbols', 'gene_ids'"
      ]
     },
     "execution_count": 88,
     "metadata": {},
     "output_type": "execute_result"
    }
   ],
   "source": [
    "organoid_ad"
   ]
  },
  {
   "cell_type": "code",
   "execution_count": 80,
   "metadata": {},
   "outputs": [
    {
     "data": {
      "text/plain": [
       "0     12403\n",
       "1     11330\n",
       "2     14624\n",
       "3     13184\n",
       "4     16779\n",
       "5     11960\n",
       "6      9144\n",
       "7      9356\n",
       "8     13914\n",
       "9     15903\n",
       "10     9556\n",
       "11     8936\n",
       "Name: sample_id, dtype: int64"
      ]
     },
     "execution_count": 80,
     "metadata": {},
     "output_type": "execute_result"
    }
   ],
   "source": [
    "organoid_ad.obs.sample_id.value_counts().sort_index()"
   ]
  },
  {
   "cell_type": "code",
   "execution_count": 85,
   "metadata": {},
   "outputs": [],
   "source": [
    "organoid_ad.obs['version'] = organoid_ad.obs['version'].astype(str)\n",
    "organoid_ad.obs.loc[organoid_ad.obs.sample_id.isin(['6','7','10','11']), 'version'] = 'v2'\n",
    "organoid_ad.obs['version'] = organoid_ad.obs['version'].astype('category')"
   ]
  },
  {
   "cell_type": "code",
   "execution_count": 86,
   "metadata": {},
   "outputs": [
    {
     "data": {
      "text/plain": [
       "v2     36992\n",
       "v3    110097\n",
       "Name: version, dtype: int64"
      ]
     },
     "execution_count": 86,
     "metadata": {},
     "output_type": "execute_result"
    }
   ],
   "source": [
    "organoid_ad.obs.version.value_counts().sort_index()"
   ]
  },
  {
   "cell_type": "code",
   "execution_count": 89,
   "metadata": {},
   "outputs": [
    {
     "data": {
      "text/plain": [
       "DSP       32614\n",
       "DSP-1     12403\n",
       "DSP-2     11330\n",
       "DSP-3     14624\n",
       "WA25      34195\n",
       "WA25-1    13184\n",
       "WA25-2    16779\n",
       "WA25-3    11960\n",
       "Name: strain, dtype: int64"
      ]
     },
     "execution_count": 89,
     "metadata": {},
     "output_type": "execute_result"
    }
   ],
   "source": [
    "organoid_ad.obs.strain.value_counts().sort_index()"
   ]
  },
  {
   "cell_type": "code",
   "execution_count": 92,
   "metadata": {},
   "outputs": [
    {
     "data": {
      "text/plain": [
       "AAACCCAAGAAATTGC-1-0      DSP\n",
       "AAACCCAAGAATACAC-1-0      DSP\n",
       "AAACCCAAGCTAAACA-1-0      DSP\n",
       "AAACCCAAGTGAACAT-1-0      DSP\n",
       "AAACCCACAATAGTCC-1-0      DSP\n",
       "                         ... \n",
       "TTTGTCACATGCCCGA-1-11    WA25\n",
       "TTTGTCAGTAGTACCT-1-11    WA25\n",
       "TTTGTCATCAAGAAGT-1-11    WA25\n",
       "TTTGTCATCAGGCAAG-1-11    WA25\n",
       "TTTGTCATCTTGTACT-1-11    WA25\n",
       "Name: 0, Length: 147089, dtype: object"
      ]
     },
     "execution_count": 92,
     "metadata": {},
     "output_type": "execute_result"
    }
   ],
   "source": [
    "organoid_ad.obs['strain'].str.partition('-')[0]"
   ]
  },
  {
   "cell_type": "code",
   "execution_count": 93,
   "metadata": {},
   "outputs": [],
   "source": [
    "organoid_ad.obs['strain'] = organoid_ad.obs['strain'].astype(str).str.partition('-')[0].values\n",
    "organoid_ad.obs['strain'] = organoid_ad.obs['strain'].astype('category')"
   ]
  },
  {
   "cell_type": "code",
   "execution_count": 3,
   "metadata": {},
   "outputs": [],
   "source": [
    "organoid_ad.var['gene_ids'] = organoid_ad.var_names"
   ]
  },
  {
   "cell_type": "code",
   "execution_count": 4,
   "metadata": {},
   "outputs": [
    {
     "name": "stderr",
     "output_type": "stream",
     "text": [
      "Variable names are not unique. To make them unique, call `.var_names_make_unique`.\n"
     ]
    }
   ],
   "source": [
    "organoid_ad.var_names = organoid_ad.var['gene_symbols'].values"
   ]
  },
  {
   "cell_type": "code",
   "execution_count": 94,
   "metadata": {},
   "outputs": [],
   "source": [
    "organoid_ad.write('organoid_concatenated.raw.h5ad', compression='lzf')"
   ]
  },
  {
   "cell_type": "code",
   "execution_count": null,
   "metadata": {},
   "outputs": [],
   "source": []
  }
 ],
 "metadata": {
  "kernelspec": {
   "display_name": "Python 3",
   "language": "python",
   "name": "python3"
  },
  "language_info": {
   "codemirror_mode": {
    "name": "ipython",
    "version": 3
   },
   "file_extension": ".py",
   "mimetype": "text/x-python",
   "name": "python",
   "nbconvert_exporter": "python",
   "pygments_lexer": "ipython3",
   "version": "3.7.3"
  }
 },
 "nbformat": 4,
 "nbformat_minor": 4
}
