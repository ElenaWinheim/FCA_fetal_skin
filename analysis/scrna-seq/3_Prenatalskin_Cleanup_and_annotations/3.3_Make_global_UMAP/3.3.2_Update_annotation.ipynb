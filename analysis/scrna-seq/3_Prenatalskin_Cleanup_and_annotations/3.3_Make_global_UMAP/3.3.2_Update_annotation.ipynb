{
 "cells": [
  {
   "cell_type": "markdown",
   "metadata": {},
   "source": [
    "# Import and settings"
   ]
  },
  {
   "cell_type": "code",
   "execution_count": 1,
   "metadata": {},
   "outputs": [],
   "source": [
    "%load_ext autoreload\n",
    "%autoreload 2\n",
    "\n",
    "%run ../../common_settings.py"
   ]
  },
  {
   "cell_type": "markdown",
   "metadata": {},
   "source": [
    "# Load data"
   ]
  },
  {
   "cell_type": "code",
   "execution_count": 2,
   "metadata": {},
   "outputs": [
    {
     "name": "stdout",
     "output_type": "stream",
     "text": [
      "WARNING: Your filename has more than two extensions: ['.norm', '.20200829', '.h5ad'].\n",
      "Only considering the two last: ['.20200829', '.h5ad'].\n",
      "WARNING: Your filename has more than two extensions: ['.norm', '.20200829', '.h5ad'].\n",
      "Only considering the two last: ['.20200829', '.h5ad'].\n"
     ]
    }
   ],
   "source": [
    "fsk_ad = sc.read('h5ad/fetal_skin.norm.20200829.h5ad')"
   ]
  },
  {
   "cell_type": "code",
   "execution_count": 3,
   "metadata": {},
   "outputs": [
    {
     "data": {
      "text/plain": [
       "AnnData object with n_obs × n_vars = 187293 × 28885\n",
       "    obs: 'bh_doublet_pval', 'cell_caller', 'cluster_scrublet_score', 'doublet_pval', 'mt_prop', 'n_counts', 'n_genes', 'sanger_id', 'scrublet_score', 'chemistry', 'donor', 'gender', 'pcw', 'sorting', 'sample', 'chemistry_sorting', 'percent_mito', 'percent_ribo', 'percent_hb', 'leiden_r0_1', 'leiden_r0_3', 'leiden_r0_5', 'leiden_r0_7', 'leiden_r1_5', 'doublet', 'annot', 'lr_annot', 'leiden_r0_3_annot', 'leiden_r0_1_annot', 'hierarchy1', 'leiden_r1_5_annot', 'celltype', 'annotation', 'annot1'\n",
       "    var: 'gene_ids', 'mito', 'ribo', 'hb', 'n_cells', 'cc', 'n_counts'"
      ]
     },
     "execution_count": 3,
     "metadata": {},
     "output_type": "execute_result"
    }
   ],
   "source": [
    "fsk_ad"
   ]
  },
  {
   "cell_type": "code",
   "execution_count": 4,
   "metadata": {},
   "outputs": [],
   "source": [
    "fsk_celltype_df = pd.read_csv('fetal_skin.independent_annot_celltypes.20200829.tsv', sep='\\t')"
   ]
  },
  {
   "cell_type": "code",
   "execution_count": 5,
   "metadata": {},
   "outputs": [
    {
     "data": {
      "text/html": [
       "<div>\n",
       "<style scoped>\n",
       "    .dataframe tbody tr th:only-of-type {\n",
       "        vertical-align: middle;\n",
       "    }\n",
       "\n",
       "    .dataframe tbody tr th {\n",
       "        vertical-align: top;\n",
       "    }\n",
       "\n",
       "    .dataframe thead th {\n",
       "        text-align: right;\n",
       "    }\n",
       "</style>\n",
       "<table border=\"1\" class=\"dataframe\">\n",
       "  <thead>\n",
       "    <tr style=\"text-align: right;\">\n",
       "      <th></th>\n",
       "      <th>Refined</th>\n",
       "      <th>Broad_1</th>\n",
       "      <th>Broad_2</th>\n",
       "      <th>Broad_3</th>\n",
       "      <th>Broad_4</th>\n",
       "      <th>Broad_5</th>\n",
       "    </tr>\n",
       "  </thead>\n",
       "  <tbody>\n",
       "    <tr>\n",
       "      <th>0</th>\n",
       "      <td>ASDC</td>\n",
       "      <td>ASDC</td>\n",
       "      <td>cDC</td>\n",
       "      <td>DC</td>\n",
       "      <td>Antigen Presenting Cells</td>\n",
       "      <td>Immune</td>\n",
       "    </tr>\n",
       "    <tr>\n",
       "      <th>1</th>\n",
       "      <td>Activated mac</td>\n",
       "      <td>Macrophage</td>\n",
       "      <td>Macrophage</td>\n",
       "      <td>Macrophage</td>\n",
       "      <td>Antigen Presenting Cells</td>\n",
       "      <td>Immune</td>\n",
       "    </tr>\n",
       "  </tbody>\n",
       "</table>\n",
       "</div>"
      ],
      "text/plain": [
       "         Refined     Broad_1     Broad_2     Broad_3  \\\n",
       "0           ASDC        ASDC         cDC          DC   \n",
       "1  Activated mac  Macrophage  Macrophage  Macrophage   \n",
       "\n",
       "                    Broad_4 Broad_5  \n",
       "0  Antigen Presenting Cells  Immune  \n",
       "1  Antigen Presenting Cells  Immune  "
      ]
     },
     "execution_count": 5,
     "metadata": {},
     "output_type": "execute_result"
    }
   ],
   "source": [
    "fsk_celltype_df.head(2)"
   ]
  },
  {
   "cell_type": "code",
   "execution_count": 6,
   "metadata": {},
   "outputs": [],
   "source": [
    "fsk_obs_df = pd.read_csv('fetal_skin.annotation_with_UMAP.20200829.tsv.gz', sep='\\t', index_col=0)"
   ]
  },
  {
   "cell_type": "code",
   "execution_count": 7,
   "metadata": {},
   "outputs": [
    {
     "data": {
      "text/html": [
       "<div>\n",
       "<style scoped>\n",
       "    .dataframe tbody tr th:only-of-type {\n",
       "        vertical-align: middle;\n",
       "    }\n",
       "\n",
       "    .dataframe tbody tr th {\n",
       "        vertical-align: top;\n",
       "    }\n",
       "\n",
       "    .dataframe thead th {\n",
       "        text-align: right;\n",
       "    }\n",
       "</style>\n",
       "<table border=\"1\" class=\"dataframe\">\n",
       "  <thead>\n",
       "    <tr style=\"text-align: right;\">\n",
       "      <th></th>\n",
       "      <th>annot1</th>\n",
       "      <th>annot2</th>\n",
       "      <th>Refined</th>\n",
       "      <th>UMAP1a</th>\n",
       "      <th>UMAP2a</th>\n",
       "      <th>UMAP1b</th>\n",
       "      <th>UMAP2b</th>\n",
       "    </tr>\n",
       "    <tr>\n",
       "      <th>index</th>\n",
       "      <th></th>\n",
       "      <th></th>\n",
       "      <th></th>\n",
       "      <th></th>\n",
       "      <th></th>\n",
       "      <th></th>\n",
       "      <th></th>\n",
       "    </tr>\n",
       "  </thead>\n",
       "  <tbody>\n",
       "    <tr>\n",
       "      <th>AAACCTGGTCAGTGGA-1-4834STDY7002879</th>\n",
       "      <td>Macrophage1</td>\n",
       "      <td>Macrophage1</td>\n",
       "      <td>Macrophage1</td>\n",
       "      <td>-3.399764</td>\n",
       "      <td>2.545173</td>\n",
       "      <td>5.223035</td>\n",
       "      <td>5.191351</td>\n",
       "    </tr>\n",
       "    <tr>\n",
       "      <th>AAAGATGGTCGATTGT-1-4834STDY7002879</th>\n",
       "      <td>Monocyte (activated/differentiating)</td>\n",
       "      <td>Monocyte (activated/differentiating)</td>\n",
       "      <td>Monocyte (activated/differentiating)</td>\n",
       "      <td>-9.924801</td>\n",
       "      <td>6.754182</td>\n",
       "      <td>12.605454</td>\n",
       "      <td>1.062857</td>\n",
       "    </tr>\n",
       "  </tbody>\n",
       "</table>\n",
       "</div>"
      ],
      "text/plain": [
       "                                                                  annot1  \\\n",
       "index                                                                      \n",
       "AAACCTGGTCAGTGGA-1-4834STDY7002879                           Macrophage1   \n",
       "AAAGATGGTCGATTGT-1-4834STDY7002879  Monocyte (activated/differentiating)   \n",
       "\n",
       "                                                                  annot2  \\\n",
       "index                                                                      \n",
       "AAACCTGGTCAGTGGA-1-4834STDY7002879                           Macrophage1   \n",
       "AAAGATGGTCGATTGT-1-4834STDY7002879  Monocyte (activated/differentiating)   \n",
       "\n",
       "                                                                 Refined  \\\n",
       "index                                                                      \n",
       "AAACCTGGTCAGTGGA-1-4834STDY7002879                           Macrophage1   \n",
       "AAAGATGGTCGATTGT-1-4834STDY7002879  Monocyte (activated/differentiating)   \n",
       "\n",
       "                                      UMAP1a    UMAP2a     UMAP1b    UMAP2b  \n",
       "index                                                                        \n",
       "AAACCTGGTCAGTGGA-1-4834STDY7002879 -3.399764  2.545173   5.223035  5.191351  \n",
       "AAAGATGGTCGATTGT-1-4834STDY7002879 -9.924801  6.754182  12.605454  1.062857  "
      ]
     },
     "execution_count": 7,
     "metadata": {},
     "output_type": "execute_result"
    }
   ],
   "source": [
    "fsk_obs_df[['annot1', 'annot2', 'Refined', 'UMAP1a', 'UMAP2a', 'UMAP1b', 'UMAP2b']].head(2)"
   ]
  },
  {
   "cell_type": "code",
   "execution_count": 8,
   "metadata": {},
   "outputs": [],
   "source": [
    "fsk_obs_df.loc[fsk_obs_df.annot2 == 'MSC', 'annot2'] = 'Dermal papillia'\n",
    "fsk_obs_df.loc[fsk_obs_df.annot2 == 'Schwann/Schwann precusors', 'annot2'] = 'Schwann/Schwann precursors'\n",
    "fsk_obs_df.loc[fsk_obs_df.annot2 == 'Neut-myeloid progenitor', 'annot2'] = 'Monocyte precursor'"
   ]
  },
  {
   "cell_type": "markdown",
   "metadata": {},
   "source": [
    "# Process"
   ]
  },
  {
   "cell_type": "markdown",
   "metadata": {},
   "source": [
    "## Copy UMAP"
   ]
  },
  {
   "cell_type": "code",
   "execution_count": 9,
   "metadata": {},
   "outputs": [],
   "source": [
    "fsk_ad.obsm['X_umap1'] = fsk_obs_df[['UMAP1a', 'UMAP2a']].values"
   ]
  },
  {
   "cell_type": "code",
   "execution_count": 10,
   "metadata": {},
   "outputs": [],
   "source": [
    "fsk_ad.obsm['X_umap2'] = fsk_obs_df[['UMAP1b', 'UMAP2b']].values"
   ]
  },
  {
   "cell_type": "markdown",
   "metadata": {},
   "source": [
    "## Compare annotations"
   ]
  },
  {
   "cell_type": "code",
   "execution_count": 11,
   "metadata": {},
   "outputs": [],
   "source": [
    "set1 = set(fsk_ad.obs.annotation)\n",
    "set2 = set(fsk_celltype_df.Refined)\n",
    "set3 = set(fsk_obs_df.annot1)\n",
    "set4 = set(fsk_obs_df.annot2)"
   ]
  },
  {
   "cell_type": "code",
   "execution_count": 12,
   "metadata": {},
   "outputs": [
    {
     "data": {
      "text/plain": [
       "{'Fibroblast POSTN+',\n",
       " 'Fibroblasts 1',\n",
       " 'Fibroblasts 2',\n",
       " 'Fibroblasts 3',\n",
       " 'MSC',\n",
       " 'Myelinating Schwann cells',\n",
       " 'Neuroendocrine',\n",
       " 'Neuron progenitors',\n",
       " 'SPP1+ proliferating neuron proneitors',\n",
       " 'Schwann cellls PID1+',\n",
       " 'Schwann/Schwann precusors'}"
      ]
     },
     "execution_count": 12,
     "metadata": {},
     "output_type": "execute_result"
    }
   ],
   "source": [
    "set1 - set3"
   ]
  },
  {
   "cell_type": "code",
   "execution_count": 13,
   "metadata": {},
   "outputs": [
    {
     "data": {
      "text/plain": [
       "{'Dermal condensate',\n",
       " 'Dermal papillia',\n",
       " 'Fibroblast WNT2+',\n",
       " 'Fibroblasts unknown',\n",
       " 'Neuronal cells',\n",
       " 'Pre-dermal condensate',\n",
       " 'Schwann cells'}"
      ]
     },
     "execution_count": 13,
     "metadata": {},
     "output_type": "execute_result"
    }
   ],
   "source": [
    "set3 - set1"
   ]
  },
  {
   "cell_type": "code",
   "execution_count": 14,
   "metadata": {},
   "outputs": [
    {
     "data": {
      "text/plain": [
       "{'Fibroblast POSTN+',\n",
       " 'Fibroblasts 1',\n",
       " 'Fibroblasts 2',\n",
       " 'Fibroblasts 3',\n",
       " 'MSC',\n",
       " 'Neut-myeloid progenitor',\n",
       " 'Schwann/Schwann precusors'}"
      ]
     },
     "execution_count": 14,
     "metadata": {},
     "output_type": "execute_result"
    }
   ],
   "source": [
    "set1 - set2"
   ]
  },
  {
   "cell_type": "code",
   "execution_count": 15,
   "metadata": {},
   "outputs": [
    {
     "data": {
      "text/plain": [
       "{'Dermal condensate',\n",
       " 'Dermal papillia',\n",
       " 'Fibroblast WNT2+',\n",
       " 'Fibroblasts unknown',\n",
       " 'Monocyte precursor',\n",
       " 'Pre-dermal condensate',\n",
       " 'Schwann/Schwann precursors'}"
      ]
     },
     "execution_count": 15,
     "metadata": {},
     "output_type": "execute_result"
    }
   ],
   "source": [
    "set2 - set1"
   ]
  },
  {
   "cell_type": "code",
   "execution_count": 16,
   "metadata": {},
   "outputs": [
    {
     "data": {
      "image/png": "[encoded data removed]",
      "text/plain": [
       "<Figure size 360x324 with 4 Axes>"
      ]
     },
     "metadata": {
      "needs_background": "light"
     },
     "output_type": "display_data"
    }
   ],
   "source": [
    "v1 = fsk_ad.obs.annotation\n",
    "v2 = fsk_obs_df.Refined\n",
    "k_diff = v1 != v2\n",
    "if k_diff.sum() > 0:\n",
    "    sn.clustermap(pd.crosstab(v1[k_diff], v2[k_diff])>0, cmap='viridis_r', linewidth=0.01, figsize=(5, 4.5));\n",
    "else:\n",
    "    print('same')"
   ]
  },
  {
   "cell_type": "code",
   "execution_count": 17,
   "metadata": {},
   "outputs": [
    {
     "data": {
      "image/png": "[encoded data removed]",
      "text/plain": [
       "<Figure size 432x360 with 4 Axes>"
      ]
     },
     "metadata": {
      "needs_background": "light"
     },
     "output_type": "display_data"
    }
   ],
   "source": [
    "v1 = fsk_obs_df.annot1\n",
    "v2 = fsk_obs_df.annot2\n",
    "k_diff = v1 != v2\n",
    "if k_diff.sum() > 0:\n",
    "    sn.clustermap(pd.crosstab(v1[k_diff], v2[k_diff])>0, cmap='viridis_r', linewidth=0.01, figsize=(6, 5));\n",
    "else:\n",
    "    print('same')"
   ]
  },
  {
   "cell_type": "markdown",
   "metadata": {},
   "source": [
    "## Update annotatio and clean up"
   ]
  },
  {
   "cell_type": "markdown",
   "metadata": {},
   "source": [
    "update fibroblast annotations"
   ]
  },
  {
   "cell_type": "code",
   "execution_count": 18,
   "metadata": {},
   "outputs": [],
   "source": [
    "fsk_ad.obs.annotation.cat.rename_categories({\n",
    "    'MSC': 'Dermal papillia',\n",
    "    'Fibroblasts 2': 'Dermal condensate',\n",
    "    'Fibroblasts 1': 'Pre-dermal condensate',\n",
    "    'Fibroblasts 3': 'Fibroblasts unknown',\n",
    "    'Fibroblast POSTN+': 'Fibroblast WNT2+',\n",
    "    'Neut-myeloid progenitor': 'Monocyte precursor',\n",
    "    'Schwann/Schwann precusors': 'Schwann/Schwann precursors'\n",
    "}, inplace=True)"
   ]
  },
  {
   "cell_type": "code",
   "execution_count": 19,
   "metadata": {},
   "outputs": [
    {
     "data": {
      "text/plain": [
       "set()"
      ]
     },
     "execution_count": 19,
     "metadata": {},
     "output_type": "execute_result"
    }
   ],
   "source": [
    "set(fsk_ad.obs.annotation).symmetric_difference(set(fsk_celltype_df.Refined))"
   ]
  },
  {
   "cell_type": "code",
   "execution_count": 20,
   "metadata": {},
   "outputs": [],
   "source": [
    "new_obs_df = fsk_ad.obs.reset_index().merge(fsk_celltype_df.rename(columns={'Refined': 'annotation'}), how='left', left_on='annotation', right_on='annotation').set_index('index')"
   ]
  },
  {
   "cell_type": "code",
   "execution_count": 21,
   "metadata": {},
   "outputs": [
    {
     "data": {
      "text/html": [
       "<div>\n",
       "<style scoped>\n",
       "    .dataframe tbody tr th:only-of-type {\n",
       "        vertical-align: middle;\n",
       "    }\n",
       "\n",
       "    .dataframe tbody tr th {\n",
       "        vertical-align: top;\n",
       "    }\n",
       "\n",
       "    .dataframe thead th {\n",
       "        text-align: right;\n",
       "    }\n",
       "</style>\n",
       "<table border=\"1\" class=\"dataframe\">\n",
       "  <thead>\n",
       "    <tr style=\"text-align: right;\">\n",
       "      <th>index</th>\n",
       "      <th>AAACCTGGTCAGTGGA-1-4834STDY7002879</th>\n",
       "      <th>AAAGATGGTCGATTGT-1-4834STDY7002879</th>\n",
       "    </tr>\n",
       "  </thead>\n",
       "  <tbody>\n",
       "    <tr>\n",
       "      <th>bh_doublet_pval</th>\n",
       "      <td>0.907861</td>\n",
       "      <td>0.907861</td>\n",
       "    </tr>\n",
       "    <tr>\n",
       "      <th>cell_caller</th>\n",
       "      <td>Both</td>\n",
       "      <td>Both</td>\n",
       "    </tr>\n",
       "    <tr>\n",
       "      <th>cluster_scrublet_score</th>\n",
       "      <td>0.157082</td>\n",
       "      <td>0.157082</td>\n",
       "    </tr>\n",
       "    <tr>\n",
       "      <th>doublet_pval</th>\n",
       "      <td>0.5</td>\n",
       "      <td>0.5</td>\n",
       "    </tr>\n",
       "    <tr>\n",
       "      <th>mt_prop</th>\n",
       "      <td>0.0625317</td>\n",
       "      <td>0.0308937</td>\n",
       "    </tr>\n",
       "    <tr>\n",
       "      <th>n_counts</th>\n",
       "      <td>5917</td>\n",
       "      <td>10261</td>\n",
       "    </tr>\n",
       "    <tr>\n",
       "      <th>n_genes</th>\n",
       "      <td>1776</td>\n",
       "      <td>2750</td>\n",
       "    </tr>\n",
       "    <tr>\n",
       "      <th>sanger_id</th>\n",
       "      <td>4834STDY7002879</td>\n",
       "      <td>4834STDY7002879</td>\n",
       "    </tr>\n",
       "    <tr>\n",
       "      <th>scrublet_score</th>\n",
       "      <td>0.225806</td>\n",
       "      <td>0.149606</td>\n",
       "    </tr>\n",
       "    <tr>\n",
       "      <th>chemistry</th>\n",
       "      <td>SC3Pv2</td>\n",
       "      <td>SC3Pv2</td>\n",
       "    </tr>\n",
       "    <tr>\n",
       "      <th>donor</th>\n",
       "      <td>F16</td>\n",
       "      <td>F16</td>\n",
       "    </tr>\n",
       "    <tr>\n",
       "      <th>gender</th>\n",
       "      <td>male</td>\n",
       "      <td>male</td>\n",
       "    </tr>\n",
       "    <tr>\n",
       "      <th>pcw</th>\n",
       "      <td>8</td>\n",
       "      <td>8</td>\n",
       "    </tr>\n",
       "    <tr>\n",
       "      <th>sorting</th>\n",
       "      <td>CD45P</td>\n",
       "      <td>CD45P</td>\n",
       "    </tr>\n",
       "    <tr>\n",
       "      <th>sample</th>\n",
       "      <td>F16_male_8+1PCW</td>\n",
       "      <td>F16_male_8+1PCW</td>\n",
       "    </tr>\n",
       "    <tr>\n",
       "      <th>chemistry_sorting</th>\n",
       "      <td>SC3Pv2_CD45P</td>\n",
       "      <td>SC3Pv2_CD45P</td>\n",
       "    </tr>\n",
       "    <tr>\n",
       "      <th>percent_mito</th>\n",
       "      <td>6.25317</td>\n",
       "      <td>3.08937</td>\n",
       "    </tr>\n",
       "    <tr>\n",
       "      <th>percent_ribo</th>\n",
       "      <td>26.2295</td>\n",
       "      <td>24.8806</td>\n",
       "    </tr>\n",
       "    <tr>\n",
       "      <th>percent_hb</th>\n",
       "      <td>0.135204</td>\n",
       "      <td>0.15593</td>\n",
       "    </tr>\n",
       "    <tr>\n",
       "      <th>leiden_r0_1</th>\n",
       "      <td>1</td>\n",
       "      <td>1</td>\n",
       "    </tr>\n",
       "    <tr>\n",
       "      <th>leiden_r0_3</th>\n",
       "      <td>2</td>\n",
       "      <td>4</td>\n",
       "    </tr>\n",
       "    <tr>\n",
       "      <th>leiden_r0_5</th>\n",
       "      <td>1</td>\n",
       "      <td>6</td>\n",
       "    </tr>\n",
       "    <tr>\n",
       "      <th>leiden_r0_7</th>\n",
       "      <td>1</td>\n",
       "      <td>6</td>\n",
       "    </tr>\n",
       "    <tr>\n",
       "      <th>leiden_r1_5</th>\n",
       "      <td>0</td>\n",
       "      <td>9</td>\n",
       "    </tr>\n",
       "    <tr>\n",
       "      <th>doublet</th>\n",
       "      <td>False</td>\n",
       "      <td>False</td>\n",
       "    </tr>\n",
       "    <tr>\n",
       "      <th>annot</th>\n",
       "      <td>fs_Macrophage</td>\n",
       "      <td>fs_Monocyte</td>\n",
       "    </tr>\n",
       "    <tr>\n",
       "      <th>lr_annot</th>\n",
       "      <td>fs_Macrophage</td>\n",
       "      <td>fs_Monocyte</td>\n",
       "    </tr>\n",
       "    <tr>\n",
       "      <th>leiden_r0_3_annot</th>\n",
       "      <td>fs_Macrophage</td>\n",
       "      <td>fs_Monocyte</td>\n",
       "    </tr>\n",
       "    <tr>\n",
       "      <th>leiden_r0_1_annot</th>\n",
       "      <td>fs_Macrophage</td>\n",
       "      <td>fs_Macrophage</td>\n",
       "    </tr>\n",
       "    <tr>\n",
       "      <th>hierarchy1</th>\n",
       "      <td>1</td>\n",
       "      <td>1</td>\n",
       "    </tr>\n",
       "    <tr>\n",
       "      <th>leiden_r1_5_annot</th>\n",
       "      <td>fs_Macrophage1</td>\n",
       "      <td>fs_Monocyte1</td>\n",
       "    </tr>\n",
       "    <tr>\n",
       "      <th>celltype</th>\n",
       "      <td>Macrophage1</td>\n",
       "      <td>Monocyte (activated/differentiating?)</td>\n",
       "    </tr>\n",
       "    <tr>\n",
       "      <th>annotation</th>\n",
       "      <td>Macrophage1</td>\n",
       "      <td>Monocyte (activated/differentiating)</td>\n",
       "    </tr>\n",
       "    <tr>\n",
       "      <th>annot1</th>\n",
       "      <td>Macrophage1</td>\n",
       "      <td>Monocyte (activated/differentiating)</td>\n",
       "    </tr>\n",
       "    <tr>\n",
       "      <th>Broad_1</th>\n",
       "      <td>Macrophage</td>\n",
       "      <td>Monocyte</td>\n",
       "    </tr>\n",
       "    <tr>\n",
       "      <th>Broad_2</th>\n",
       "      <td>Macrophage</td>\n",
       "      <td>Monocyte</td>\n",
       "    </tr>\n",
       "    <tr>\n",
       "      <th>Broad_3</th>\n",
       "      <td>Macrophage</td>\n",
       "      <td>Monocyte</td>\n",
       "    </tr>\n",
       "    <tr>\n",
       "      <th>Broad_4</th>\n",
       "      <td>Antigen Presenting Cells</td>\n",
       "      <td>Antigen Presenting Cells</td>\n",
       "    </tr>\n",
       "    <tr>\n",
       "      <th>Broad_5</th>\n",
       "      <td>Immune</td>\n",
       "      <td>Immune</td>\n",
       "    </tr>\n",
       "  </tbody>\n",
       "</table>\n",
       "</div>"
      ],
      "text/plain": [
       "index                  AAACCTGGTCAGTGGA-1-4834STDY7002879  \\\n",
       "bh_doublet_pval                                  0.907861   \n",
       "cell_caller                                          Both   \n",
       "cluster_scrublet_score                           0.157082   \n",
       "doublet_pval                                          0.5   \n",
       "mt_prop                                         0.0625317   \n",
       "n_counts                                             5917   \n",
       "n_genes                                              1776   \n",
       "sanger_id                                 4834STDY7002879   \n",
       "scrublet_score                                   0.225806   \n",
       "chemistry                                          SC3Pv2   \n",
       "donor                                                 F16   \n",
       "gender                                               male   \n",
       "pcw                                                     8   \n",
       "sorting                                             CD45P   \n",
       "sample                                    F16_male_8+1PCW   \n",
       "chemistry_sorting                            SC3Pv2_CD45P   \n",
       "percent_mito                                      6.25317   \n",
       "percent_ribo                                      26.2295   \n",
       "percent_hb                                       0.135204   \n",
       "leiden_r0_1                                             1   \n",
       "leiden_r0_3                                             2   \n",
       "leiden_r0_5                                             1   \n",
       "leiden_r0_7                                             1   \n",
       "leiden_r1_5                                             0   \n",
       "doublet                                             False   \n",
       "annot                                       fs_Macrophage   \n",
       "lr_annot                                    fs_Macrophage   \n",
       "leiden_r0_3_annot                           fs_Macrophage   \n",
       "leiden_r0_1_annot                           fs_Macrophage   \n",
       "hierarchy1                                              1   \n",
       "leiden_r1_5_annot                          fs_Macrophage1   \n",
       "celltype                                      Macrophage1   \n",
       "annotation                                    Macrophage1   \n",
       "annot1                                        Macrophage1   \n",
       "Broad_1                                        Macrophage   \n",
       "Broad_2                                        Macrophage   \n",
       "Broad_3                                        Macrophage   \n",
       "Broad_4                          Antigen Presenting Cells   \n",
       "Broad_5                                            Immune   \n",
       "\n",
       "index                      AAAGATGGTCGATTGT-1-4834STDY7002879  \n",
       "bh_doublet_pval                                      0.907861  \n",
       "cell_caller                                              Both  \n",
       "cluster_scrublet_score                               0.157082  \n",
       "doublet_pval                                              0.5  \n",
       "mt_prop                                             0.0308937  \n",
       "n_counts                                                10261  \n",
       "n_genes                                                  2750  \n",
       "sanger_id                                     4834STDY7002879  \n",
       "scrublet_score                                       0.149606  \n",
       "chemistry                                              SC3Pv2  \n",
       "donor                                                     F16  \n",
       "gender                                                   male  \n",
       "pcw                                                         8  \n",
       "sorting                                                 CD45P  \n",
       "sample                                        F16_male_8+1PCW  \n",
       "chemistry_sorting                                SC3Pv2_CD45P  \n",
       "percent_mito                                          3.08937  \n",
       "percent_ribo                                          24.8806  \n",
       "percent_hb                                            0.15593  \n",
       "leiden_r0_1                                                 1  \n",
       "leiden_r0_3                                                 4  \n",
       "leiden_r0_5                                                 6  \n",
       "leiden_r0_7                                                 6  \n",
       "leiden_r1_5                                                 9  \n",
       "doublet                                                 False  \n",
       "annot                                             fs_Monocyte  \n",
       "lr_annot                                          fs_Monocyte  \n",
       "leiden_r0_3_annot                                 fs_Monocyte  \n",
       "leiden_r0_1_annot                               fs_Macrophage  \n",
       "hierarchy1                                                  1  \n",
       "leiden_r1_5_annot                                fs_Monocyte1  \n",
       "celltype                Monocyte (activated/differentiating?)  \n",
       "annotation               Monocyte (activated/differentiating)  \n",
       "annot1                   Monocyte (activated/differentiating)  \n",
       "Broad_1                                              Monocyte  \n",
       "Broad_2                                              Monocyte  \n",
       "Broad_3                                              Monocyte  \n",
       "Broad_4                              Antigen Presenting Cells  \n",
       "Broad_5                                                Immune  "
      ]
     },
     "execution_count": 21,
     "metadata": {},
     "output_type": "execute_result"
    }
   ],
   "source": [
    "new_obs_df.head(2).T"
   ]
  },
  {
   "cell_type": "code",
   "execution_count": 22,
   "metadata": {},
   "outputs": [
    {
     "data": {
      "text/plain": [
       "Index(['bh_doublet_pval', 'cell_caller', 'cluster_scrublet_score',\n",
       "       'doublet_pval', 'mt_prop', 'n_counts', 'n_genes', 'sanger_id',\n",
       "       'scrublet_score', 'chemistry', 'donor', 'gender', 'pcw', 'sorting',\n",
       "       'sample', 'chemistry_sorting', 'percent_mito', 'percent_ribo',\n",
       "       'percent_hb', 'leiden_r0_1', 'leiden_r0_3', 'leiden_r0_5',\n",
       "       'leiden_r0_7', 'leiden_r1_5', 'doublet', 'annot', 'lr_annot',\n",
       "       'leiden_r0_3_annot', 'leiden_r0_1_annot', 'hierarchy1',\n",
       "       'leiden_r1_5_annot', 'celltype', 'annotation', 'annot1', 'Broad_1',\n",
       "       'Broad_2', 'Broad_3', 'Broad_4', 'Broad_5'],\n",
       "      dtype='object')"
      ]
     },
     "execution_count": 22,
     "metadata": {},
     "output_type": "execute_result"
    }
   ],
   "source": [
    "new_obs_df.columns"
   ]
  },
  {
   "cell_type": "code",
   "execution_count": 23,
   "metadata": {},
   "outputs": [],
   "source": [
    "new_obs_df2 = new_obs_df[[\n",
    "    'sanger_id', 'chemistry', 'donor', 'gender', 'pcw', 'sorting', 'sample', 'chemistry_sorting',\n",
    "    'cell_caller', 'scrublet_score', 'cluster_scrublet_score', 'doublet_pval', 'bh_doublet_pval',\n",
    "    'n_counts', 'n_genes', 'percent_mito', 'percent_ribo', 'percent_hb',\n",
    "    'annotation', 'Broad_1', 'Broad_2', 'Broad_3', 'Broad_4', 'Broad_5'\n",
    "]].copy()"
   ]
  },
  {
   "cell_type": "code",
   "execution_count": 24,
   "metadata": {},
   "outputs": [
    {
     "data": {
      "text/html": [
       "<div>\n",
       "<style scoped>\n",
       "    .dataframe tbody tr th:only-of-type {\n",
       "        vertical-align: middle;\n",
       "    }\n",
       "\n",
       "    .dataframe tbody tr th {\n",
       "        vertical-align: top;\n",
       "    }\n",
       "\n",
       "    .dataframe thead th {\n",
       "        text-align: right;\n",
       "    }\n",
       "</style>\n",
       "<table border=\"1\" class=\"dataframe\">\n",
       "  <thead>\n",
       "    <tr style=\"text-align: right;\">\n",
       "      <th>annotation</th>\n",
       "      <th>Basal KC</th>\n",
       "      <th>Early KC (stem cell)</th>\n",
       "      <th>Hair follicle</th>\n",
       "      <th>Periderm</th>\n",
       "      <th>Suprabasal</th>\n",
       "    </tr>\n",
       "    <tr>\n",
       "      <th>annot2</th>\n",
       "      <th></th>\n",
       "      <th></th>\n",
       "      <th></th>\n",
       "      <th></th>\n",
       "      <th></th>\n",
       "    </tr>\n",
       "  </thead>\n",
       "  <tbody>\n",
       "    <tr>\n",
       "      <th>Basal</th>\n",
       "      <td>547</td>\n",
       "      <td>8</td>\n",
       "      <td>254</td>\n",
       "      <td>2</td>\n",
       "      <td>4</td>\n",
       "    </tr>\n",
       "    <tr>\n",
       "      <th>Basal POSTN+</th>\n",
       "      <td>1</td>\n",
       "      <td>45</td>\n",
       "      <td>0</td>\n",
       "      <td>0</td>\n",
       "      <td>0</td>\n",
       "    </tr>\n",
       "    <tr>\n",
       "      <th>Basal SHH+</th>\n",
       "      <td>0</td>\n",
       "      <td>0</td>\n",
       "      <td>254</td>\n",
       "      <td>0</td>\n",
       "      <td>0</td>\n",
       "    </tr>\n",
       "    <tr>\n",
       "      <th>Companion layer</th>\n",
       "      <td>0</td>\n",
       "      <td>0</td>\n",
       "      <td>1</td>\n",
       "      <td>0</td>\n",
       "      <td>26</td>\n",
       "    </tr>\n",
       "    <tr>\n",
       "      <th>Cuticle/cortex</th>\n",
       "      <td>0</td>\n",
       "      <td>0</td>\n",
       "      <td>18</td>\n",
       "      <td>0</td>\n",
       "      <td>3</td>\n",
       "    </tr>\n",
       "    <tr>\n",
       "      <th>Immature basal</th>\n",
       "      <td>0</td>\n",
       "      <td>61</td>\n",
       "      <td>0</td>\n",
       "      <td>1</td>\n",
       "      <td>3</td>\n",
       "    </tr>\n",
       "    <tr>\n",
       "      <th>Immature suprabasal</th>\n",
       "      <td>0</td>\n",
       "      <td>0</td>\n",
       "      <td>0</td>\n",
       "      <td>6</td>\n",
       "      <td>9</td>\n",
       "    </tr>\n",
       "    <tr>\n",
       "      <th>Inner root sheath</th>\n",
       "      <td>1</td>\n",
       "      <td>0</td>\n",
       "      <td>4</td>\n",
       "      <td>0</td>\n",
       "      <td>13</td>\n",
       "    </tr>\n",
       "    <tr>\n",
       "      <th>Outer root sheath</th>\n",
       "      <td>7</td>\n",
       "      <td>0</td>\n",
       "      <td>0</td>\n",
       "      <td>1</td>\n",
       "      <td>17</td>\n",
       "    </tr>\n",
       "    <tr>\n",
       "      <th>Periderm</th>\n",
       "      <td>0</td>\n",
       "      <td>0</td>\n",
       "      <td>0</td>\n",
       "      <td>0</td>\n",
       "      <td>2</td>\n",
       "    </tr>\n",
       "    <tr>\n",
       "      <th>Suprabasal IFE</th>\n",
       "      <td>0</td>\n",
       "      <td>0</td>\n",
       "      <td>0</td>\n",
       "      <td>1</td>\n",
       "      <td>29</td>\n",
       "    </tr>\n",
       "  </tbody>\n",
       "</table>\n",
       "</div>"
      ],
      "text/plain": [
       "annotation           Basal KC  Early KC (stem cell)  Hair follicle  Periderm  \\\n",
       "annot2                                                                         \n",
       "Basal                     547                     8            254         2   \n",
       "Basal POSTN+                1                    45              0         0   \n",
       "Basal SHH+                  0                     0            254         0   \n",
       "Companion layer             0                     0              1         0   \n",
       "Cuticle/cortex              0                     0             18         0   \n",
       "Immature basal              0                    61              0         1   \n",
       "Immature suprabasal         0                     0              0         6   \n",
       "Inner root sheath           1                     0              4         0   \n",
       "Outer root sheath           7                     0              0         1   \n",
       "Periderm                    0                     0              0         0   \n",
       "Suprabasal IFE              0                     0              0         1   \n",
       "\n",
       "annotation           Suprabasal  \n",
       "annot2                           \n",
       "Basal                         4  \n",
       "Basal POSTN+                  0  \n",
       "Basal SHH+                    0  \n",
       "Companion layer              26  \n",
       "Cuticle/cortex                3  \n",
       "Immature basal                3  \n",
       "Immature suprabasal           9  \n",
       "Inner root sheath            13  \n",
       "Outer root sheath            17  \n",
       "Periderm                      2  \n",
       "Suprabasal IFE               29  "
      ]
     },
     "execution_count": 24,
     "metadata": {},
     "output_type": "execute_result"
    }
   ],
   "source": [
    "v1 = new_obs_df2.annotation\n",
    "v2 = fsk_obs_df.annot2\n",
    "k_diff = v1 != v2\n",
    "pd.crosstab(v2[k_diff], v1[k_diff])"
   ]
  },
  {
   "cell_type": "code",
   "execution_count": 27,
   "metadata": {},
   "outputs": [],
   "source": [
    "new_obs_df2['joint_annotation'] = fsk_obs_df.annot2"
   ]
  },
  {
   "cell_type": "code",
   "execution_count": 28,
   "metadata": {},
   "outputs": [],
   "source": [
    "new_obs_df2.rename(columns={\n",
    "    'annotation': 'independent_annotation_refined',\n",
    "    'Broad_1': 'independent_annotation_broad1',\n",
    "    'Broad_2': 'independent_annotation_broad2',\n",
    "    'Broad_3': 'independent_annotation_broad3',\n",
    "    'Broad_4': 'independent_annotation_broad4',\n",
    "    'Broad_5': 'independent_annotation_broad5',\n",
    "}, inplace=True)"
   ]
  },
  {
   "cell_type": "code",
   "execution_count": 29,
   "metadata": {},
   "outputs": [
    {
     "data": {
      "text/html": [
       "<div>\n",
       "<style scoped>\n",
       "    .dataframe tbody tr th:only-of-type {\n",
       "        vertical-align: middle;\n",
       "    }\n",
       "\n",
       "    .dataframe tbody tr th {\n",
       "        vertical-align: top;\n",
       "    }\n",
       "\n",
       "    .dataframe thead th {\n",
       "        text-align: right;\n",
       "    }\n",
       "</style>\n",
       "<table border=\"1\" class=\"dataframe\">\n",
       "  <thead>\n",
       "    <tr style=\"text-align: right;\">\n",
       "      <th>index</th>\n",
       "      <th>AAACCTGGTCAGTGGA-1-4834STDY7002879</th>\n",
       "      <th>AAAGATGGTCGATTGT-1-4834STDY7002879</th>\n",
       "    </tr>\n",
       "  </thead>\n",
       "  <tbody>\n",
       "    <tr>\n",
       "      <th>sanger_id</th>\n",
       "      <td>4834STDY7002879</td>\n",
       "      <td>4834STDY7002879</td>\n",
       "    </tr>\n",
       "    <tr>\n",
       "      <th>chemistry</th>\n",
       "      <td>SC3Pv2</td>\n",
       "      <td>SC3Pv2</td>\n",
       "    </tr>\n",
       "    <tr>\n",
       "      <th>donor</th>\n",
       "      <td>F16</td>\n",
       "      <td>F16</td>\n",
       "    </tr>\n",
       "    <tr>\n",
       "      <th>gender</th>\n",
       "      <td>male</td>\n",
       "      <td>male</td>\n",
       "    </tr>\n",
       "    <tr>\n",
       "      <th>pcw</th>\n",
       "      <td>8</td>\n",
       "      <td>8</td>\n",
       "    </tr>\n",
       "    <tr>\n",
       "      <th>sorting</th>\n",
       "      <td>CD45P</td>\n",
       "      <td>CD45P</td>\n",
       "    </tr>\n",
       "    <tr>\n",
       "      <th>sample</th>\n",
       "      <td>F16_male_8+1PCW</td>\n",
       "      <td>F16_male_8+1PCW</td>\n",
       "    </tr>\n",
       "    <tr>\n",
       "      <th>chemistry_sorting</th>\n",
       "      <td>SC3Pv2_CD45P</td>\n",
       "      <td>SC3Pv2_CD45P</td>\n",
       "    </tr>\n",
       "    <tr>\n",
       "      <th>cell_caller</th>\n",
       "      <td>Both</td>\n",
       "      <td>Both</td>\n",
       "    </tr>\n",
       "    <tr>\n",
       "      <th>scrublet_score</th>\n",
       "      <td>0.225806</td>\n",
       "      <td>0.149606</td>\n",
       "    </tr>\n",
       "    <tr>\n",
       "      <th>cluster_scrublet_score</th>\n",
       "      <td>0.157082</td>\n",
       "      <td>0.157082</td>\n",
       "    </tr>\n",
       "    <tr>\n",
       "      <th>doublet_pval</th>\n",
       "      <td>0.5</td>\n",
       "      <td>0.5</td>\n",
       "    </tr>\n",
       "    <tr>\n",
       "      <th>bh_doublet_pval</th>\n",
       "      <td>0.907861</td>\n",
       "      <td>0.907861</td>\n",
       "    </tr>\n",
       "    <tr>\n",
       "      <th>n_counts</th>\n",
       "      <td>5917</td>\n",
       "      <td>10261</td>\n",
       "    </tr>\n",
       "    <tr>\n",
       "      <th>n_genes</th>\n",
       "      <td>1776</td>\n",
       "      <td>2750</td>\n",
       "    </tr>\n",
       "    <tr>\n",
       "      <th>percent_mito</th>\n",
       "      <td>6.25317</td>\n",
       "      <td>3.08937</td>\n",
       "    </tr>\n",
       "    <tr>\n",
       "      <th>percent_ribo</th>\n",
       "      <td>26.2295</td>\n",
       "      <td>24.8806</td>\n",
       "    </tr>\n",
       "    <tr>\n",
       "      <th>percent_hb</th>\n",
       "      <td>0.135204</td>\n",
       "      <td>0.15593</td>\n",
       "    </tr>\n",
       "    <tr>\n",
       "      <th>independent_annotation_refined</th>\n",
       "      <td>Macrophage1</td>\n",
       "      <td>Monocyte (activated/differentiating)</td>\n",
       "    </tr>\n",
       "    <tr>\n",
       "      <th>independent_annotation_broad1</th>\n",
       "      <td>Macrophage</td>\n",
       "      <td>Monocyte</td>\n",
       "    </tr>\n",
       "    <tr>\n",
       "      <th>independent_annotation_broad2</th>\n",
       "      <td>Macrophage</td>\n",
       "      <td>Monocyte</td>\n",
       "    </tr>\n",
       "    <tr>\n",
       "      <th>independent_annotation_broad3</th>\n",
       "      <td>Macrophage</td>\n",
       "      <td>Monocyte</td>\n",
       "    </tr>\n",
       "    <tr>\n",
       "      <th>independent_annotation_broad4</th>\n",
       "      <td>Antigen Presenting Cells</td>\n",
       "      <td>Antigen Presenting Cells</td>\n",
       "    </tr>\n",
       "    <tr>\n",
       "      <th>independent_annotation_broad5</th>\n",
       "      <td>Immune</td>\n",
       "      <td>Immune</td>\n",
       "    </tr>\n",
       "    <tr>\n",
       "      <th>joint_annotation</th>\n",
       "      <td>Macrophage1</td>\n",
       "      <td>Monocyte (activated/differentiating)</td>\n",
       "    </tr>\n",
       "  </tbody>\n",
       "</table>\n",
       "</div>"
      ],
      "text/plain": [
       "index                          AAACCTGGTCAGTGGA-1-4834STDY7002879  \\\n",
       "sanger_id                                         4834STDY7002879   \n",
       "chemistry                                                  SC3Pv2   \n",
       "donor                                                         F16   \n",
       "gender                                                       male   \n",
       "pcw                                                             8   \n",
       "sorting                                                     CD45P   \n",
       "sample                                            F16_male_8+1PCW   \n",
       "chemistry_sorting                                    SC3Pv2_CD45P   \n",
       "cell_caller                                                  Both   \n",
       "scrublet_score                                           0.225806   \n",
       "cluster_scrublet_score                                   0.157082   \n",
       "doublet_pval                                                  0.5   \n",
       "bh_doublet_pval                                          0.907861   \n",
       "n_counts                                                     5917   \n",
       "n_genes                                                      1776   \n",
       "percent_mito                                              6.25317   \n",
       "percent_ribo                                              26.2295   \n",
       "percent_hb                                               0.135204   \n",
       "independent_annotation_refined                        Macrophage1   \n",
       "independent_annotation_broad1                          Macrophage   \n",
       "independent_annotation_broad2                          Macrophage   \n",
       "independent_annotation_broad3                          Macrophage   \n",
       "independent_annotation_broad4            Antigen Presenting Cells   \n",
       "independent_annotation_broad5                              Immune   \n",
       "joint_annotation                                      Macrophage1   \n",
       "\n",
       "index                             AAAGATGGTCGATTGT-1-4834STDY7002879  \n",
       "sanger_id                                            4834STDY7002879  \n",
       "chemistry                                                     SC3Pv2  \n",
       "donor                                                            F16  \n",
       "gender                                                          male  \n",
       "pcw                                                                8  \n",
       "sorting                                                        CD45P  \n",
       "sample                                               F16_male_8+1PCW  \n",
       "chemistry_sorting                                       SC3Pv2_CD45P  \n",
       "cell_caller                                                     Both  \n",
       "scrublet_score                                              0.149606  \n",
       "cluster_scrublet_score                                      0.157082  \n",
       "doublet_pval                                                     0.5  \n",
       "bh_doublet_pval                                             0.907861  \n",
       "n_counts                                                       10261  \n",
       "n_genes                                                         2750  \n",
       "percent_mito                                                 3.08937  \n",
       "percent_ribo                                                 24.8806  \n",
       "percent_hb                                                   0.15593  \n",
       "independent_annotation_refined  Monocyte (activated/differentiating)  \n",
       "independent_annotation_broad1                               Monocyte  \n",
       "independent_annotation_broad2                               Monocyte  \n",
       "independent_annotation_broad3                               Monocyte  \n",
       "independent_annotation_broad4               Antigen Presenting Cells  \n",
       "independent_annotation_broad5                                 Immune  \n",
       "joint_annotation                Monocyte (activated/differentiating)  "
      ]
     },
     "execution_count": 29,
     "metadata": {},
     "output_type": "execute_result"
    }
   ],
   "source": [
    "new_obs_df2.head(2).T"
   ]
  },
  {
   "cell_type": "code",
   "execution_count": 30,
   "metadata": {},
   "outputs": [],
   "source": [
    "fsk_ad.obs = new_obs_df2.copy()"
   ]
  },
  {
   "cell_type": "code",
   "execution_count": 32,
   "metadata": {},
   "outputs": [
    {
     "name": "stderr",
     "output_type": "stream",
     "text": [
      "... storing 'independent_annotation_refined' as categorical\n",
      "... storing 'independent_annotation_broad1' as categorical\n",
      "... storing 'independent_annotation_broad2' as categorical\n",
      "... storing 'independent_annotation_broad3' as categorical\n",
      "... storing 'independent_annotation_broad4' as categorical\n",
      "... storing 'independent_annotation_broad5' as categorical\n",
      "... storing 'joint_annotation' as categorical\n"
     ]
    }
   ],
   "source": [
    "fsk_ad.write('h5ad/fetal_skin.norm.20210401.h5ad', compression='lzf')"
   ]
  }
 ],
 "metadata": {
  "kernelspec": {
   "display_name": "scanpy16",
   "language": "python",
   "name": "scanpy-new"
  },
  "language_info": {
   "codemirror_mode": {
    "name": "ipython",
    "version": 3
   },
   "file_extension": ".py",
   "mimetype": "text/x-python",
   "name": "python",
   "nbconvert_exporter": "python",
   "pygments_lexer": "ipython3",
   "version": "3.8.5"
  }
 },
 "nbformat": 4,
 "nbformat_minor": 4
}
