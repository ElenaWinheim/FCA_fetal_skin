{
 "cells": [
  {
   "cell_type": "markdown",
   "id": "f45d7031-bf20-4c06-9ed5-6e56424aa905",
   "metadata": {},
   "source": [
    "# Import and settings"
   ]
  },
  {
   "cell_type": "code",
   "execution_count": 1,
   "id": "a3f31277-5094-407e-880c-b9e2f3be4a2e",
   "metadata": {
    "execution": {
     "iopub.execute_input": "2022-02-15T10:20:05.139003Z",
     "iopub.status.busy": "2022-02-15T10:20:05.138740Z",
     "iopub.status.idle": "2022-02-15T10:20:06.764752Z",
     "shell.execute_reply": "2022-02-15T10:20:06.763545Z",
     "shell.execute_reply.started": "2022-02-15T10:20:05.138971Z"
    },
    "tags": []
   },
   "outputs": [
    {
     "name": "stderr",
     "output_type": "stream",
     "text": [
      "/home/ubuntu/miniconda/envs/scanpy-new/lib/python3.8/site-packages/IPython/extensions/rmagic.py:11: UserWarning: The rmagic extension in IPython has moved to `rpy2.ipython`, please see `rpy2` documentation.\n",
      "  warnings.warn(\"The rmagic extension in IPython has moved to \"\n"
     ]
    }
   ],
   "source": [
    "%load_ext autoreload\n",
    "%autoreload 2\n",
    "%load_ext rmagic\n",
    "\n",
    "import os, re, gc, joblib\n",
    "import numpy as np\n",
    "import numpy_groupies as npg\n",
    "import pandas as pd\n",
    "\n",
    "import anndata\n",
    "import scanpy as sc\n",
    "import sctk as sk\n",
    "\n",
    "import matplotlib.pyplot as plt\n",
    "from matplotlib import rcParams\n",
    "from matplotlib.backends.backend_pdf import PdfPages"
   ]
  },
  {
   "cell_type": "code",
   "execution_count": 2,
   "id": "29ec3568-af1d-473f-ba84-dcad5371c0ac",
   "metadata": {
    "execution": {
     "iopub.execute_input": "2022-02-15T10:20:08.791760Z",
     "iopub.status.busy": "2022-02-15T10:20:08.791488Z",
     "iopub.status.idle": "2022-02-15T10:20:08.814330Z",
     "shell.execute_reply": "2022-02-15T10:20:08.813466Z",
     "shell.execute_reply.started": "2022-02-15T10:20:08.791736Z"
    },
    "tags": []
   },
   "outputs": [],
   "source": [
    "np.set_printoptions(linewidth=150)\n",
    "\n",
    "rcParams[\"pdf.fonttype\"] = 42\n",
    "rcParams[\"ps.fonttype\"] = 42\n",
    "\n",
    "sc.settings.verbosity = 0\n",
    "sk.set_figsize((4, 4))"
   ]
  },
  {
   "cell_type": "code",
   "execution_count": 3,
   "id": "dc56413a-53a4-4983-878f-39f92993c2dd",
   "metadata": {
    "execution": {
     "iopub.execute_input": "2022-02-15T10:20:10.133903Z",
     "iopub.status.busy": "2022-02-15T10:20:10.133556Z",
     "iopub.status.idle": "2022-02-15T10:20:10.156181Z",
     "shell.execute_reply": "2022-02-15T10:20:10.155453Z",
     "shell.execute_reply.started": "2022-02-15T10:20:10.133860Z"
    },
    "tags": []
   },
   "outputs": [],
   "source": [
    "from time import localtime, strftime\n",
    "\n",
    "\n",
    "def timestamp(date_only=True):\n",
    "    stamp_format = \"%Y%m%d\" if date_only else \"%Y%m%d-%H%M\"\n",
    "    return strftime(stamp_format, localtime())"
   ]
  },
  {
   "cell_type": "markdown",
   "id": "0754d452-a5f5-4acf-b96c-2df4f12e1768",
   "metadata": {},
   "source": [
    "# Load data"
   ]
  },
  {
   "cell_type": "code",
   "execution_count": 4,
   "id": "250083d0-eb8e-4558-98b1-a114c23f2d30",
   "metadata": {
    "execution": {
     "iopub.execute_input": "2022-02-15T10:21:10.968331Z",
     "iopub.status.busy": "2022-02-15T10:21:10.967989Z",
     "iopub.status.idle": "2022-02-15T10:21:29.461170Z",
     "shell.execute_reply": "2022-02-15T10:21:29.460417Z",
     "shell.execute_reply.started": "2022-02-15T10:21:10.968304Z"
    }
   },
   "outputs": [],
   "source": [
    "fsk_ad = sc.read(\"../20210611_final_object/fetal_skin.norm.maternal_removed.20220202.h5ad\")"
   ]
  },
  {
   "cell_type": "code",
   "execution_count": 6,
   "id": "0d017de7-aab8-4f98-89b2-7c73af530fc0",
   "metadata": {
    "execution": {
     "iopub.execute_input": "2022-02-15T10:34:42.731889Z",
     "iopub.status.busy": "2022-02-15T10:34:42.731600Z",
     "iopub.status.idle": "2022-02-15T10:34:42.756355Z",
     "shell.execute_reply": "2022-02-15T10:34:42.755579Z",
     "shell.execute_reply.started": "2022-02-15T10:34:42.731864Z"
    },
    "tags": []
   },
   "outputs": [
    {
     "data": {
      "text/plain": [
       "AnnData object with n_obs × n_vars = 186533 × 28885\n",
       "    obs: 'sanger_id', 'chemistry', 'donor', 'gender', 'pcw', 'sorting', 'sample', 'chemistry_sorting', 'cell_caller', 'scrublet_score', 'cluster_scrublet_score', 'doublet_pval', 'bh_doublet_pval', 'n_counts', 'n_genes', 'percent_mito', 'percent_ribo', 'percent_hb', 'independent_annotation_refined', 'independent_annotation_broad1', 'independent_annotation_broad2', 'independent_annotation_broad3', 'independent_annotation_broad4', 'independent_annotation_broad5', 'joint_annotation', 'is_maternal', 'fig1b_annotation', 'independent_annotation_refined_20220201a', 'independent_annotation_refined_20220201b', 'independent_annotation_broad1_20220201', 'independent_annotation_broad2_20220201', 'independent_annotation_broad3_20220201', 'joint_annotation_20220201a', 'joint_annotation_20220201b', 'fig1b_annotation_20220201', 'joint_annotation_20220202', 'independent_annotation_refined_20220202', 'fig1b_annotation_20220202'\n",
       "    var: 'gene_ids', 'mito', 'ribo', 'hb', 'n_cells', 'cc', 'n_counts'\n",
       "    obsm: 'X_umap1', 'X_umap2'"
      ]
     },
     "execution_count": 6,
     "metadata": {},
     "output_type": "execute_result"
    }
   ],
   "source": [
    "fsk_ad"
   ]
  },
  {
   "cell_type": "code",
   "execution_count": 13,
   "id": "965b95f1-a4b3-4454-81e5-57cdc64164ee",
   "metadata": {
    "execution": {
     "iopub.execute_input": "2022-02-15T10:45:11.982987Z",
     "iopub.status.busy": "2022-02-15T10:45:11.982635Z",
     "iopub.status.idle": "2022-02-15T10:45:13.640194Z",
     "shell.execute_reply": "2022-02-15T10:45:13.639410Z",
     "shell.execute_reply.started": "2022-02-15T10:45:11.982943Z"
    },
    "tags": []
   },
   "outputs": [],
   "source": [
    "fsk_adS = sk.subsample(\n",
    "    fsk_ad, 1, groupby=\"independent_annotation_refined_20220202\", min_n=200, max_n=200\n",
    ")"
   ]
  },
  {
   "cell_type": "code",
   "execution_count": 19,
   "id": "3f25db35-56b0-499a-aa5b-fb6f49f936ee",
   "metadata": {
    "execution": {
     "iopub.execute_input": "2022-02-15T11:14:13.098364Z",
     "iopub.status.busy": "2022-02-15T11:14:13.098077Z",
     "iopub.status.idle": "2022-02-15T11:35:56.947009Z",
     "shell.execute_reply": "2022-02-15T11:35:56.945622Z",
     "shell.execute_reply.started": "2022-02-15T11:14:13.098323Z"
    },
    "tags": []
   },
   "outputs": [],
   "source": [
    "sk._utils.run_cellphonedb(\n",
    "    fsk_adS,\n",
    "    groupby=\"independent_annotation_refined_20220202\",\n",
    "    cpdb_path=\"/home/ubuntu/miniconda/envs/cpdb/bin/cellphonedb\",\n",
    "    outpath=\"final_fetal_cellphonedb\",\n",
    ")"
   ]
  },
  {
   "cell_type": "code",
   "execution_count": 21,
   "id": "6e320e0d-23af-4a84-8be3-c3c2944eb7d7",
   "metadata": {
    "execution": {
     "iopub.execute_input": "2022-02-15T12:46:31.889161Z",
     "iopub.status.busy": "2022-02-15T12:46:31.888858Z",
     "iopub.status.idle": "2022-02-15T12:46:43.145463Z",
     "shell.execute_reply": "2022-02-15T12:46:43.144309Z",
     "shell.execute_reply.started": "2022-02-15T12:46:31.889134Z"
    },
    "tags": []
   },
   "outputs": [],
   "source": [
    "!rclone copy final_fetal_cellphonedb google:/projects/fetal_skin/data/cellphonedb/20220201_final_all_fetal"
   ]
  },
  {
   "cell_type": "code",
   "execution_count": 22,
   "id": "e484d824-39c4-425f-be71-e08a0a9de29b",
   "metadata": {
    "execution": {
     "iopub.execute_input": "2022-02-15T17:16:53.510647Z",
     "iopub.status.busy": "2022-02-15T17:16:53.510143Z",
     "iopub.status.idle": "2022-02-15T17:16:55.402136Z",
     "shell.execute_reply": "2022-02-15T17:16:55.401235Z",
     "shell.execute_reply.started": "2022-02-15T17:16:53.510578Z"
    },
    "tags": []
   },
   "outputs": [],
   "source": [
    "fsk_adS2 = sk.subsample(\n",
    "    fsk_ad, 1, groupby=\"joint_annotation_20220202\", min_n=200, max_n=200\n",
    ")"
   ]
  },
  {
   "cell_type": "code",
   "execution_count": 23,
   "id": "6ab8d0d7-05a2-4622-81ec-73bdfd738e5d",
   "metadata": {
    "execution": {
     "iopub.execute_input": "2022-02-15T17:17:27.137320Z",
     "iopub.status.busy": "2022-02-15T17:17:27.137008Z",
     "iopub.status.idle": "2022-02-15T17:17:27.296623Z",
     "shell.execute_reply": "2022-02-15T17:17:27.295582Z",
     "shell.execute_reply.started": "2022-02-15T17:17:27.137292Z"
    },
    "tags": []
   },
   "outputs": [],
   "source": [
    "!mkdir final_fetal_cellphonedb2"
   ]
  },
  {
   "cell_type": "code",
   "execution_count": null,
   "id": "0d4ef357-a4c9-4747-af9f-a2bbfb6c20b4",
   "metadata": {
    "execution": {
     "iopub.execute_input": "2022-02-15T17:17:43.493206Z",
     "iopub.status.busy": "2022-02-15T17:17:43.492928Z"
    },
    "tags": []
   },
   "outputs": [],
   "source": [
    "sk._utils.run_cellphonedb(\n",
    "    fsk_adS2,\n",
    "    groupby=\"joint_annotation_20220202\",\n",
    "    cpdb_path=\"/home/ubuntu/miniconda/envs/cpdb/bin/cellphonedb\",\n",
    "    outpath=\"final_fetal_cellphonedb2\",\n",
    ")"
   ]
  },
  {
   "cell_type": "code",
   "execution_count": 26,
   "id": "dff7a582-2949-47e4-8781-e0f06555de85",
   "metadata": {
    "execution": {
     "iopub.execute_input": "2022-02-16T10:55:37.442912Z",
     "iopub.status.busy": "2022-02-16T10:55:37.442492Z",
     "iopub.status.idle": "2022-02-16T10:55:48.746390Z",
     "shell.execute_reply": "2022-02-16T10:55:48.745258Z",
     "shell.execute_reply.started": "2022-02-16T10:55:37.442859Z"
    },
    "tags": []
   },
   "outputs": [],
   "source": [
    "!rclone copy final_fetal_cellphonedb2 google:/projects/fetal_skin/data/cellphonedb/20220201_final_all_fetal/joint_annotation_20220202"
   ]
  }
 ],
 "metadata": {
  "kernelspec": {
   "display_name": "scanpy16",
   "language": "python",
   "name": "scanpy-new"
  },
  "language_info": {
   "codemirror_mode": {
    "name": "ipython",
    "version": 3
   },
   "file_extension": ".py",
   "mimetype": "text/x-python",
   "name": "python",
   "nbconvert_exporter": "python",
   "pygments_lexer": "ipython3",
   "version": "3.8.5"
  }
 },
 "nbformat": 4,
 "nbformat_minor": 5
}
