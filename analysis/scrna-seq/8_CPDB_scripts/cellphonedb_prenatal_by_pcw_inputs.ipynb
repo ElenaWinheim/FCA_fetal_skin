{
 "cells": [
  {
   "cell_type": "markdown",
   "metadata": {},
   "source": [
    "Prepare fetal skin data for cellphonedb, separately for <=pcw11 and >=pcw12"
   ]
  },
  {
   "cell_type": "markdown",
   "metadata": {},
   "source": [
    "# Import and settings"
   ]
  },
  {
   "cell_type": "code",
   "execution_count": 1,
   "metadata": {
    "execution": {
     "iopub.execute_input": "2022-10-21T15:46:28.218892Z",
     "iopub.status.busy": "2022-10-21T15:46:28.218574Z",
     "iopub.status.idle": "2022-10-21T15:46:29.858574Z",
     "shell.execute_reply": "2022-10-21T15:46:29.857405Z",
     "shell.execute_reply.started": "2022-10-21T15:46:28.218860Z"
    },
    "tags": []
   },
   "outputs": [],
   "source": [
    "%load_ext autoreload\n",
    "%autoreload 2\n",
    "\n",
    "%run ../../common_settings.py"
   ]
  },
  {
   "cell_type": "markdown",
   "metadata": {},
   "source": [
    "# Load data"
   ]
  },
  {
   "cell_type": "code",
   "execution_count": 2,
   "metadata": {
    "execution": {
     "iopub.execute_input": "2022-10-18T08:48:57.563170Z",
     "iopub.status.busy": "2022-10-18T08:48:57.562889Z",
     "iopub.status.idle": "2022-10-18T08:49:17.153986Z",
     "shell.execute_reply": "2022-10-18T08:49:17.153190Z",
     "shell.execute_reply.started": "2022-10-18T08:48:57.563143Z"
    }
   },
   "outputs": [
    {
     "name": "stderr",
     "output_type": "stream",
     "text": [
      "WARNING: Your filename has more than two extensions: ['.norm', '.maternal_removed', '.20220202', '.h5ad'].\n",
      "Only considering the two last: ['.20220202', '.h5ad'].\n",
      "WARNING: Your filename has more than two extensions: ['.norm', '.maternal_removed', '.20220202', '.h5ad'].\n",
      "Only considering the two last: ['.20220202', '.h5ad'].\n"
     ]
    }
   ],
   "source": [
    "fsk_ad = sc.read(\"../20210611_final_object/fetal_skin.norm.maternal_removed.20220202.h5ad\")"
   ]
  },
  {
   "cell_type": "code",
   "execution_count": 2,
   "metadata": {
    "execution": {
     "iopub.execute_input": "2022-10-21T15:46:51.517761Z",
     "iopub.status.busy": "2022-10-21T15:46:51.517461Z",
     "iopub.status.idle": "2022-10-21T15:46:51.869384Z",
     "shell.execute_reply": "2022-10-21T15:46:51.868546Z",
     "shell.execute_reply.started": "2022-10-21T15:46:51.517737Z"
    },
    "tags": []
   },
   "outputs": [
    {
     "name": "stderr",
     "output_type": "stream",
     "text": [
      "WARNING: Your filename has more than two extensions: ['.norm', '.maternal_removed', '.20220202', '.h5ad'].\n",
      "Only considering the two last: ['.20220202', '.h5ad'].\n",
      "WARNING: Your filename has more than two extensions: ['.norm', '.maternal_removed', '.20220202', '.h5ad'].\n",
      "Only considering the two last: ['.20220202', '.h5ad'].\n"
     ]
    }
   ],
   "source": [
    "fsk_ad = sc.read(\n",
    "    \"../20210611_final_object/fetal_skin.norm.maternal_removed.20220202.h5ad\", backed=\"r\"\n",
    ")"
   ]
  },
  {
   "cell_type": "code",
   "execution_count": 3,
   "metadata": {
    "execution": {
     "iopub.execute_input": "2022-10-18T08:49:50.082412Z",
     "iopub.status.busy": "2022-10-18T08:49:50.082118Z",
     "iopub.status.idle": "2022-10-18T08:49:50.106918Z",
     "shell.execute_reply": "2022-10-18T08:49:50.106270Z",
     "shell.execute_reply.started": "2022-10-18T08:49:50.082385Z"
    }
   },
   "outputs": [
    {
     "data": {
      "text/plain": [
       "AnnData object with n_obs × n_vars = 186533 × 28885\n",
       "    obs: 'sanger_id', 'chemistry', 'donor', 'gender', 'pcw', 'sorting', 'sample', 'chemistry_sorting', 'cell_caller', 'scrublet_score', 'cluster_scrublet_score', 'doublet_pval', 'bh_doublet_pval', 'n_counts', 'n_genes', 'percent_mito', 'percent_ribo', 'percent_hb', 'independent_annotation_refined', 'independent_annotation_broad1', 'independent_annotation_broad2', 'independent_annotation_broad3', 'independent_annotation_broad4', 'independent_annotation_broad5', 'joint_annotation', 'is_maternal', 'fig1b_annotation', 'independent_annotation_refined_20220201a', 'independent_annotation_refined_20220201b', 'independent_annotation_broad1_20220201', 'independent_annotation_broad2_20220201', 'independent_annotation_broad3_20220201', 'joint_annotation_20220201a', 'joint_annotation_20220201b', 'fig1b_annotation_20220201', 'joint_annotation_20220202', 'independent_annotation_refined_20220202', 'fig1b_annotation_20220202'\n",
       "    var: 'gene_ids', 'mito', 'ribo', 'hb', 'n_cells', 'cc', 'n_counts'\n",
       "    obsm: 'X_umap1', 'X_umap2'"
      ]
     },
     "execution_count": 3,
     "metadata": {},
     "output_type": "execute_result"
    }
   ],
   "source": [
    "fsk_ad"
   ]
  },
  {
   "cell_type": "code",
   "execution_count": 4,
   "metadata": {
    "execution": {
     "iopub.execute_input": "2022-10-18T08:50:01.150526Z",
     "iopub.status.busy": "2022-10-18T08:50:01.150177Z",
     "iopub.status.idle": "2022-10-18T08:50:01.176524Z",
     "shell.execute_reply": "2022-10-18T08:50:01.175861Z",
     "shell.execute_reply.started": "2022-10-18T08:50:01.150496Z"
    },
    "tags": []
   },
   "outputs": [
    {
     "data": {
      "text/plain": [
       "Index(['ASDC', 'Iron-recycling macrophage', 'Adipocytes', 'Arterial', 'B cell',\n",
       "       'Basal', 'POSTN+ basal', 'CD4 T cell', 'CD8 T cell',\n",
       "       'Capillary (venular tip)', 'Capillary/postcapillary venule',\n",
       "       'Companion layer', 'Cuticle/cortex', 'DC1', 'DC2', 'Dermal condensate',\n",
       "       'Dermal papillia', 'Early LE', 'Early endothelial cell',\n",
       "       'Early erythroid', 'Early erythroid (embryonic)',\n",
       "       'FRZB+ early fibroblast', 'HOXC5+ early fibroblast', 'Early myocytes',\n",
       "       'Eo/baso/mast cell progenitor', 'Erythroid (embryonic)',\n",
       "       'Erythroid (fetal)', 'PEAR1+ fibroblast', 'WNT2+ fibroblast', 'HSC',\n",
       "       'ILC2', 'ILC3', 'Immature basal', 'Immature suprabasal',\n",
       "       'Inflammatory DC', 'Innate T type1', 'Innate T type3',\n",
       "       'Inner root sheath', 'LC', 'LE', 'LTi', 'Lymphoid progenitor',\n",
       "       'MEMP - Early erythroid', 'MEMP - Megak', 'MHCII+ macrophage',\n",
       "       'LYVE1++ macrophage', 'Mast cell (earliest)', 'Mast cell (medium)',\n",
       "       'Mast cell (most mature)', 'Matrix/placode', 'Megakaryocyte',\n",
       "       'Melanoblast', 'Melanocyte', 'TREM2+ macrophage', 'Monocyte',\n",
       "       'Monocyte (activated/differentiating)', 'Monocyte precursor',\n",
       "       'LMCD1+ mural cell', 'PLN+ mural cell', 'Myelinating Schwann cells',\n",
       "       'Myoblasts', 'Myocytes', 'Myofibroblasts', 'NK cell', 'Neuroendocrine',\n",
       "       'Neuron progenitors', 'Neutrophil1', 'Neutrophil2', 'Outer root sheath',\n",
       "       'Pericytes', 'Periderm', 'Postcapillary venule', 'Pre B cell',\n",
       "       'Pre pro B cell', 'Pre-dermal condensate', 'Pro B cell',\n",
       "       'SPP1+ proliferating neuron proneitors', 'PID1+ schwann cellls',\n",
       "       'Schwann/Schwann precursors', 'Suprabasal IFE', 'Tip cell (arterial)',\n",
       "       'Treg', 'pDC'],\n",
       "      dtype='object')"
      ]
     },
     "execution_count": 4,
     "metadata": {},
     "output_type": "execute_result"
    }
   ],
   "source": [
    "fsk_ad.obs.joint_annotation_20220202.cat.categories"
   ]
  },
  {
   "cell_type": "markdown",
   "metadata": {},
   "source": [
    "# Prepare cellphonedb input"
   ]
  },
  {
   "cell_type": "markdown",
   "metadata": {},
   "source": [
    "## Split by pcw"
   ]
  },
  {
   "cell_type": "code",
   "execution_count": null,
   "metadata": {
    "execution": {
     "iopub.execute_input": "2022-10-18T10:01:59.703763Z",
     "iopub.status.busy": "2022-10-18T10:01:59.703503Z",
     "iopub.status.idle": "2022-10-18T10:01:59.991474Z",
     "shell.execute_reply": "2022-10-18T10:01:59.990806Z",
     "shell.execute_reply.started": "2022-10-18T10:01:59.703736Z"
    }
   },
   "outputs": [
    {
     "data": {
      "text/plain": [
       "4693"
      ]
     },
     "execution_count": 23,
     "metadata": {},
     "output_type": "execute_result"
    }
   ],
   "source": [
    "del pre_pcw11_ad, post_pcw12_ad\n",
    "gc.collect()"
   ]
  },
  {
   "cell_type": "code",
   "execution_count": 24,
   "metadata": {
    "execution": {
     "iopub.execute_input": "2022-10-18T10:02:16.774465Z",
     "iopub.status.busy": "2022-10-18T10:02:16.774139Z",
     "iopub.status.idle": "2022-10-18T10:02:17.543411Z",
     "shell.execute_reply": "2022-10-18T10:02:17.542664Z",
     "shell.execute_reply.started": "2022-10-18T10:02:16.774424Z"
    },
    "tags": []
   },
   "outputs": [],
   "source": [
    "pre_pcw11_ad = fsk_ad[fsk_ad.obs.pcw <= 11]"
   ]
  },
  {
   "cell_type": "code",
   "execution_count": 25,
   "metadata": {
    "execution": {
     "iopub.execute_input": "2022-10-18T10:02:17.828716Z",
     "iopub.status.busy": "2022-10-18T10:02:17.828539Z",
     "iopub.status.idle": "2022-10-18T10:02:17.849442Z",
     "shell.execute_reply": "2022-10-18T10:02:17.848827Z",
     "shell.execute_reply.started": "2022-10-18T10:02:17.828695Z"
    },
    "tags": []
   },
   "outputs": [
    {
     "data": {
      "text/plain": [
       "View of AnnData object with n_obs × n_vars = 87212 × 28885\n",
       "    obs: 'sanger_id', 'chemistry', 'donor', 'gender', 'pcw', 'sorting', 'sample', 'chemistry_sorting', 'cell_caller', 'scrublet_score', 'cluster_scrublet_score', 'doublet_pval', 'bh_doublet_pval', 'n_counts', 'n_genes', 'percent_mito', 'percent_ribo', 'percent_hb', 'independent_annotation_refined', 'independent_annotation_broad1', 'independent_annotation_broad2', 'independent_annotation_broad3', 'independent_annotation_broad4', 'independent_annotation_broad5', 'joint_annotation', 'is_maternal', 'fig1b_annotation', 'independent_annotation_refined_20220201a', 'independent_annotation_refined_20220201b', 'independent_annotation_broad1_20220201', 'independent_annotation_broad2_20220201', 'independent_annotation_broad3_20220201', 'joint_annotation_20220201a', 'joint_annotation_20220201b', 'fig1b_annotation_20220201', 'joint_annotation_20220202', 'independent_annotation_refined_20220202', 'fig1b_annotation_20220202'\n",
       "    var: 'gene_ids', 'mito', 'ribo', 'hb', 'n_cells', 'cc', 'n_counts'\n",
       "    obsm: 'X_umap1', 'X_umap2'"
      ]
     },
     "execution_count": 25,
     "metadata": {},
     "output_type": "execute_result"
    }
   ],
   "source": [
    "pre_pcw11_ad"
   ]
  },
  {
   "cell_type": "code",
   "execution_count": 26,
   "metadata": {
    "execution": {
     "iopub.execute_input": "2022-10-18T10:02:18.627358Z",
     "iopub.status.busy": "2022-10-18T10:02:18.627112Z",
     "iopub.status.idle": "2022-10-18T10:02:19.398060Z",
     "shell.execute_reply": "2022-10-18T10:02:19.397123Z",
     "shell.execute_reply.started": "2022-10-18T10:02:18.627339Z"
    },
    "tags": []
   },
   "outputs": [],
   "source": [
    "post_pcw12_ad = fsk_ad[fsk_ad.obs.pcw >= 12]"
   ]
  },
  {
   "cell_type": "code",
   "execution_count": 27,
   "metadata": {
    "execution": {
     "iopub.execute_input": "2022-10-18T10:02:19.399345Z",
     "iopub.status.busy": "2022-10-18T10:02:19.399162Z",
     "iopub.status.idle": "2022-10-18T10:02:19.420069Z",
     "shell.execute_reply": "2022-10-18T10:02:19.419409Z",
     "shell.execute_reply.started": "2022-10-18T10:02:19.399322Z"
    },
    "tags": []
   },
   "outputs": [
    {
     "data": {
      "text/plain": [
       "View of AnnData object with n_obs × n_vars = 99321 × 28885\n",
       "    obs: 'sanger_id', 'chemistry', 'donor', 'gender', 'pcw', 'sorting', 'sample', 'chemistry_sorting', 'cell_caller', 'scrublet_score', 'cluster_scrublet_score', 'doublet_pval', 'bh_doublet_pval', 'n_counts', 'n_genes', 'percent_mito', 'percent_ribo', 'percent_hb', 'independent_annotation_refined', 'independent_annotation_broad1', 'independent_annotation_broad2', 'independent_annotation_broad3', 'independent_annotation_broad4', 'independent_annotation_broad5', 'joint_annotation', 'is_maternal', 'fig1b_annotation', 'independent_annotation_refined_20220201a', 'independent_annotation_refined_20220201b', 'independent_annotation_broad1_20220201', 'independent_annotation_broad2_20220201', 'independent_annotation_broad3_20220201', 'joint_annotation_20220201a', 'joint_annotation_20220201b', 'fig1b_annotation_20220201', 'joint_annotation_20220202', 'independent_annotation_refined_20220202', 'fig1b_annotation_20220202'\n",
       "    var: 'gene_ids', 'mito', 'ribo', 'hb', 'n_cells', 'cc', 'n_counts'\n",
       "    obsm: 'X_umap1', 'X_umap2'"
      ]
     },
     "execution_count": 27,
     "metadata": {},
     "output_type": "execute_result"
    }
   ],
   "source": [
    "post_pcw12_ad"
   ]
  },
  {
   "cell_type": "markdown",
   "metadata": {},
   "source": [
    "## Filter genes"
   ]
  },
  {
   "cell_type": "code",
   "execution_count": 28,
   "metadata": {
    "execution": {
     "iopub.execute_input": "2022-10-18T10:02:22.209766Z",
     "iopub.status.busy": "2022-10-18T10:02:22.209469Z",
     "iopub.status.idle": "2022-10-18T10:02:26.295694Z",
     "shell.execute_reply": "2022-10-18T10:02:26.294938Z",
     "shell.execute_reply.started": "2022-10-18T10:02:22.209740Z"
    },
    "tags": []
   },
   "outputs": [
    {
     "name": "stderr",
     "output_type": "stream",
     "text": [
      "Trying to set attribute `.var` of view, copying.\n"
     ]
    }
   ],
   "source": [
    "pre_pcw11_ad.var[\"n_cells\"] = (pre_pcw11_ad.X > 0).sum(axis=0).A1"
   ]
  },
  {
   "cell_type": "code",
   "execution_count": 29,
   "metadata": {
    "execution": {
     "iopub.execute_input": "2022-10-18T10:02:26.296973Z",
     "iopub.status.busy": "2022-10-18T10:02:26.296757Z",
     "iopub.status.idle": "2022-10-18T10:02:30.348828Z",
     "shell.execute_reply": "2022-10-18T10:02:30.348083Z",
     "shell.execute_reply.started": "2022-10-18T10:02:26.296951Z"
    },
    "tags": []
   },
   "outputs": [
    {
     "name": "stderr",
     "output_type": "stream",
     "text": [
      "Trying to set attribute `.var` of view, copying.\n"
     ]
    }
   ],
   "source": [
    "post_pcw12_ad.var[\"n_cells\"] = (post_pcw12_ad.X > 0).sum(axis=0).A1"
   ]
  },
  {
   "cell_type": "code",
   "execution_count": 30,
   "metadata": {
    "execution": {
     "iopub.execute_input": "2022-10-18T10:02:30.350411Z",
     "iopub.status.busy": "2022-10-18T10:02:30.350200Z",
     "iopub.status.idle": "2022-10-18T10:02:30.371835Z",
     "shell.execute_reply": "2022-10-18T10:02:30.371171Z",
     "shell.execute_reply.started": "2022-10-18T10:02:30.350388Z"
    },
    "tags": []
   },
   "outputs": [
    {
     "data": {
      "text/plain": [
       "4442"
      ]
     },
     "execution_count": 30,
     "metadata": {},
     "output_type": "execute_result"
    }
   ],
   "source": [
    "(pre_pcw11_ad.var.n_cells < 10).sum()"
   ]
  },
  {
   "cell_type": "code",
   "execution_count": 31,
   "metadata": {
    "execution": {
     "iopub.execute_input": "2022-10-18T10:02:30.372863Z",
     "iopub.status.busy": "2022-10-18T10:02:30.372686Z",
     "iopub.status.idle": "2022-10-18T10:02:30.396435Z",
     "shell.execute_reply": "2022-10-18T10:02:30.395775Z",
     "shell.execute_reply.started": "2022-10-18T10:02:30.372842Z"
    },
    "tags": []
   },
   "outputs": [
    {
     "data": {
      "text/plain": [
       "4987"
      ]
     },
     "execution_count": 31,
     "metadata": {},
     "output_type": "execute_result"
    }
   ],
   "source": [
    "(post_pcw12_ad.var.n_cells < 10).sum()"
   ]
  },
  {
   "cell_type": "code",
   "execution_count": 32,
   "metadata": {
    "execution": {
     "iopub.execute_input": "2022-10-18T10:02:30.397441Z",
     "iopub.status.busy": "2022-10-18T10:02:30.397221Z",
     "iopub.status.idle": "2022-10-18T10:02:31.043046Z",
     "shell.execute_reply": "2022-10-18T10:02:31.042291Z",
     "shell.execute_reply.started": "2022-10-18T10:02:30.397420Z"
    },
    "tags": []
   },
   "outputs": [],
   "source": [
    "pre_pcw11_ad = pre_pcw11_ad[:, pre_pcw11_ad.var.n_cells >= 10]"
   ]
  },
  {
   "cell_type": "code",
   "execution_count": 33,
   "metadata": {
    "execution": {
     "iopub.execute_input": "2022-10-18T10:02:35.998759Z",
     "iopub.status.busy": "2022-10-18T10:02:35.998513Z",
     "iopub.status.idle": "2022-10-18T10:02:36.661026Z",
     "shell.execute_reply": "2022-10-18T10:02:36.660091Z",
     "shell.execute_reply.started": "2022-10-18T10:02:35.998735Z"
    },
    "tags": []
   },
   "outputs": [],
   "source": [
    "post_pcw12_ad = post_pcw12_ad[:, post_pcw12_ad.var.n_cells >= 10]"
   ]
  },
  {
   "cell_type": "code",
   "execution_count": 19,
   "metadata": {
    "execution": {
     "iopub.execute_input": "2022-10-18T09:39:16.924466Z",
     "iopub.status.busy": "2022-10-18T09:39:16.924137Z",
     "iopub.status.idle": "2022-10-18T09:39:16.990212Z",
     "shell.execute_reply": "2022-10-18T09:39:16.989517Z",
     "shell.execute_reply.started": "2022-10-18T09:39:16.924439Z"
    },
    "tags": []
   },
   "outputs": [
    {
     "data": {
      "text/html": [
       "<div>\n",
       "<style scoped>\n",
       "    .dataframe tbody tr th:only-of-type {\n",
       "        vertical-align: middle;\n",
       "    }\n",
       "\n",
       "    .dataframe tbody tr th {\n",
       "        vertical-align: top;\n",
       "    }\n",
       "\n",
       "    .dataframe thead th {\n",
       "        text-align: right;\n",
       "    }\n",
       "</style>\n",
       "<table border=\"1\" class=\"dataframe\">\n",
       "  <thead>\n",
       "    <tr style=\"text-align: right;\">\n",
       "      <th>pcw</th>\n",
       "      <th>False</th>\n",
       "      <th>True</th>\n",
       "    </tr>\n",
       "    <tr>\n",
       "      <th>joint_annotation_20220202</th>\n",
       "      <th></th>\n",
       "      <th></th>\n",
       "    </tr>\n",
       "  </thead>\n",
       "  <tbody>\n",
       "    <tr>\n",
       "      <th>ASDC</th>\n",
       "      <td>72</td>\n",
       "      <td>18</td>\n",
       "    </tr>\n",
       "    <tr>\n",
       "      <th>Iron-recycling macrophage</th>\n",
       "      <td>178</td>\n",
       "      <td>121</td>\n",
       "    </tr>\n",
       "    <tr>\n",
       "      <th>Adipocytes</th>\n",
       "      <td>3199</td>\n",
       "      <td>4</td>\n",
       "    </tr>\n",
       "    <tr>\n",
       "      <th>Arterial</th>\n",
       "      <td>131</td>\n",
       "      <td>41</td>\n",
       "    </tr>\n",
       "    <tr>\n",
       "      <th>B cell</th>\n",
       "      <td>1907</td>\n",
       "      <td>75</td>\n",
       "    </tr>\n",
       "    <tr>\n",
       "      <th>Basal</th>\n",
       "      <td>814</td>\n",
       "      <td>1</td>\n",
       "    </tr>\n",
       "    <tr>\n",
       "      <th>POSTN+ basal</th>\n",
       "      <td>45</td>\n",
       "      <td>1</td>\n",
       "    </tr>\n",
       "    <tr>\n",
       "      <th>CD4 T cell</th>\n",
       "      <td>4570</td>\n",
       "      <td>105</td>\n",
       "    </tr>\n",
       "    <tr>\n",
       "      <th>CD8 T cell</th>\n",
       "      <td>1502</td>\n",
       "      <td>17</td>\n",
       "    </tr>\n",
       "    <tr>\n",
       "      <th>Capillary (venular tip)</th>\n",
       "      <td>349</td>\n",
       "      <td>138</td>\n",
       "    </tr>\n",
       "    <tr>\n",
       "      <th>Capillary/postcapillary venule</th>\n",
       "      <td>545</td>\n",
       "      <td>64</td>\n",
       "    </tr>\n",
       "    <tr>\n",
       "      <th>Companion layer</th>\n",
       "      <td>27</td>\n",
       "      <td>0</td>\n",
       "    </tr>\n",
       "    <tr>\n",
       "      <th>Cuticle/cortex</th>\n",
       "      <td>21</td>\n",
       "      <td>0</td>\n",
       "    </tr>\n",
       "    <tr>\n",
       "      <th>DC1</th>\n",
       "      <td>568</td>\n",
       "      <td>180</td>\n",
       "    </tr>\n",
       "    <tr>\n",
       "      <th>DC2</th>\n",
       "      <td>1722</td>\n",
       "      <td>807</td>\n",
       "    </tr>\n",
       "    <tr>\n",
       "      <th>Dermal condensate</th>\n",
       "      <td>4999</td>\n",
       "      <td>14</td>\n",
       "    </tr>\n",
       "    <tr>\n",
       "      <th>Dermal papillia</th>\n",
       "      <td>5637</td>\n",
       "      <td>0</td>\n",
       "    </tr>\n",
       "    <tr>\n",
       "      <th>Early LE</th>\n",
       "      <td>58</td>\n",
       "      <td>7</td>\n",
       "    </tr>\n",
       "    <tr>\n",
       "      <th>Early endothelial cell</th>\n",
       "      <td>3</td>\n",
       "      <td>138</td>\n",
       "    </tr>\n",
       "    <tr>\n",
       "      <th>Early erythroid</th>\n",
       "      <td>350</td>\n",
       "      <td>77</td>\n",
       "    </tr>\n",
       "    <tr>\n",
       "      <th>Early erythroid (embryonic)</th>\n",
       "      <td>41</td>\n",
       "      <td>379</td>\n",
       "    </tr>\n",
       "    <tr>\n",
       "      <th>FRZB+ early fibroblast</th>\n",
       "      <td>42</td>\n",
       "      <td>10835</td>\n",
       "    </tr>\n",
       "    <tr>\n",
       "      <th>HOXC5+ early fibroblast</th>\n",
       "      <td>0</td>\n",
       "      <td>15275</td>\n",
       "    </tr>\n",
       "    <tr>\n",
       "      <th>Early myocytes</th>\n",
       "      <td>123</td>\n",
       "      <td>462</td>\n",
       "    </tr>\n",
       "    <tr>\n",
       "      <th>Eo/baso/mast cell progenitor</th>\n",
       "      <td>127</td>\n",
       "      <td>11</td>\n",
       "    </tr>\n",
       "    <tr>\n",
       "      <th>Erythroid (embryonic)</th>\n",
       "      <td>1</td>\n",
       "      <td>681</td>\n",
       "    </tr>\n",
       "    <tr>\n",
       "      <th>Erythroid (fetal)</th>\n",
       "      <td>1729</td>\n",
       "      <td>210</td>\n",
       "    </tr>\n",
       "    <tr>\n",
       "      <th>PEAR1+ fibroblast</th>\n",
       "      <td>3334</td>\n",
       "      <td>453</td>\n",
       "    </tr>\n",
       "    <tr>\n",
       "      <th>WNT2+ fibroblast</th>\n",
       "      <td>16198</td>\n",
       "      <td>12911</td>\n",
       "    </tr>\n",
       "    <tr>\n",
       "      <th>HSC</th>\n",
       "      <td>87</td>\n",
       "      <td>25</td>\n",
       "    </tr>\n",
       "    <tr>\n",
       "      <th>ILC2</th>\n",
       "      <td>310</td>\n",
       "      <td>95</td>\n",
       "    </tr>\n",
       "    <tr>\n",
       "      <th>ILC3</th>\n",
       "      <td>424</td>\n",
       "      <td>1010</td>\n",
       "    </tr>\n",
       "    <tr>\n",
       "      <th>Immature basal</th>\n",
       "      <td>0</td>\n",
       "      <td>65</td>\n",
       "    </tr>\n",
       "    <tr>\n",
       "      <th>Immature suprabasal</th>\n",
       "      <td>4</td>\n",
       "      <td>11</td>\n",
       "    </tr>\n",
       "    <tr>\n",
       "      <th>Inflammatory DC</th>\n",
       "      <td>58</td>\n",
       "      <td>20</td>\n",
       "    </tr>\n",
       "    <tr>\n",
       "      <th>Innate T type1</th>\n",
       "      <td>634</td>\n",
       "      <td>38</td>\n",
       "    </tr>\n",
       "    <tr>\n",
       "      <th>Innate T type3</th>\n",
       "      <td>209</td>\n",
       "      <td>16</td>\n",
       "    </tr>\n",
       "    <tr>\n",
       "      <th>Inner root sheath</th>\n",
       "      <td>18</td>\n",
       "      <td>0</td>\n",
       "    </tr>\n",
       "    <tr>\n",
       "      <th>LC</th>\n",
       "      <td>137</td>\n",
       "      <td>242</td>\n",
       "    </tr>\n",
       "    <tr>\n",
       "      <th>LE</th>\n",
       "      <td>448</td>\n",
       "      <td>69</td>\n",
       "    </tr>\n",
       "    <tr>\n",
       "      <th>LTi</th>\n",
       "      <td>436</td>\n",
       "      <td>255</td>\n",
       "    </tr>\n",
       "    <tr>\n",
       "      <th>Lymphoid progenitor</th>\n",
       "      <td>44</td>\n",
       "      <td>77</td>\n",
       "    </tr>\n",
       "    <tr>\n",
       "      <th>MEMP - Early erythroid</th>\n",
       "      <td>67</td>\n",
       "      <td>22</td>\n",
       "    </tr>\n",
       "    <tr>\n",
       "      <th>MEMP - Megak</th>\n",
       "      <td>184</td>\n",
       "      <td>59</td>\n",
       "    </tr>\n",
       "    <tr>\n",
       "      <th>MHCII+ macrophage</th>\n",
       "      <td>1453</td>\n",
       "      <td>743</td>\n",
       "    </tr>\n",
       "    <tr>\n",
       "      <th>LYVE1++ macrophage</th>\n",
       "      <td>11190</td>\n",
       "      <td>9090</td>\n",
       "    </tr>\n",
       "    <tr>\n",
       "      <th>Mast cell (earliest)</th>\n",
       "      <td>135</td>\n",
       "      <td>54</td>\n",
       "    </tr>\n",
       "    <tr>\n",
       "      <th>Mast cell (medium)</th>\n",
       "      <td>668</td>\n",
       "      <td>94</td>\n",
       "    </tr>\n",
       "    <tr>\n",
       "      <th>Mast cell (most mature)</th>\n",
       "      <td>919</td>\n",
       "      <td>16</td>\n",
       "    </tr>\n",
       "    <tr>\n",
       "      <th>Matrix/placode</th>\n",
       "      <td>254</td>\n",
       "      <td>0</td>\n",
       "    </tr>\n",
       "    <tr>\n",
       "      <th>Megakaryocyte</th>\n",
       "      <td>61</td>\n",
       "      <td>112</td>\n",
       "    </tr>\n",
       "    <tr>\n",
       "      <th>Melanoblast</th>\n",
       "      <td>29</td>\n",
       "      <td>161</td>\n",
       "    </tr>\n",
       "    <tr>\n",
       "      <th>Melanocyte</th>\n",
       "      <td>423</td>\n",
       "      <td>181</td>\n",
       "    </tr>\n",
       "    <tr>\n",
       "      <th>TREM2+ macrophage</th>\n",
       "      <td>279</td>\n",
       "      <td>1338</td>\n",
       "    </tr>\n",
       "    <tr>\n",
       "      <th>Monocyte</th>\n",
       "      <td>2305</td>\n",
       "      <td>739</td>\n",
       "    </tr>\n",
       "    <tr>\n",
       "      <th>Monocyte (activated/differentiating)</th>\n",
       "      <td>1553</td>\n",
       "      <td>342</td>\n",
       "    </tr>\n",
       "    <tr>\n",
       "      <th>Monocyte precursor</th>\n",
       "      <td>1261</td>\n",
       "      <td>473</td>\n",
       "    </tr>\n",
       "    <tr>\n",
       "      <th>LMCD1+ mural cell</th>\n",
       "      <td>982</td>\n",
       "      <td>217</td>\n",
       "    </tr>\n",
       "    <tr>\n",
       "      <th>PLN+ mural cell</th>\n",
       "      <td>1593</td>\n",
       "      <td>335</td>\n",
       "    </tr>\n",
       "    <tr>\n",
       "      <th>Myelinating Schwann cells</th>\n",
       "      <td>786</td>\n",
       "      <td>425</td>\n",
       "    </tr>\n",
       "    <tr>\n",
       "      <th>Myoblasts</th>\n",
       "      <td>909</td>\n",
       "      <td>4266</td>\n",
       "    </tr>\n",
       "    <tr>\n",
       "      <th>Myocytes</th>\n",
       "      <td>13</td>\n",
       "      <td>38</td>\n",
       "    </tr>\n",
       "    <tr>\n",
       "      <th>Myofibroblasts</th>\n",
       "      <td>363</td>\n",
       "      <td>2791</td>\n",
       "    </tr>\n",
       "    <tr>\n",
       "      <th>NK cell</th>\n",
       "      <td>4964</td>\n",
       "      <td>1858</td>\n",
       "    </tr>\n",
       "    <tr>\n",
       "      <th>Neuroendocrine</th>\n",
       "      <td>0</td>\n",
       "      <td>281</td>\n",
       "    </tr>\n",
       "    <tr>\n",
       "      <th>Neuron progenitors</th>\n",
       "      <td>0</td>\n",
       "      <td>649</td>\n",
       "    </tr>\n",
       "    <tr>\n",
       "      <th>Neutrophil1</th>\n",
       "      <td>78</td>\n",
       "      <td>10</td>\n",
       "    </tr>\n",
       "    <tr>\n",
       "      <th>Neutrophil2</th>\n",
       "      <td>103</td>\n",
       "      <td>71</td>\n",
       "    </tr>\n",
       "    <tr>\n",
       "      <th>Outer root sheath</th>\n",
       "      <td>25</td>\n",
       "      <td>0</td>\n",
       "    </tr>\n",
       "    <tr>\n",
       "      <th>Pericytes</th>\n",
       "      <td>4594</td>\n",
       "      <td>1656</td>\n",
       "    </tr>\n",
       "    <tr>\n",
       "      <th>Periderm</th>\n",
       "      <td>0</td>\n",
       "      <td>153</td>\n",
       "    </tr>\n",
       "    <tr>\n",
       "      <th>Postcapillary venule</th>\n",
       "      <td>48</td>\n",
       "      <td>0</td>\n",
       "    </tr>\n",
       "    <tr>\n",
       "      <th>Pre B cell</th>\n",
       "      <td>501</td>\n",
       "      <td>40</td>\n",
       "    </tr>\n",
       "    <tr>\n",
       "      <th>Pre pro B cell</th>\n",
       "      <td>116</td>\n",
       "      <td>60</td>\n",
       "    </tr>\n",
       "    <tr>\n",
       "      <th>Pre-dermal condensate</th>\n",
       "      <td>8602</td>\n",
       "      <td>14122</td>\n",
       "    </tr>\n",
       "    <tr>\n",
       "      <th>Pro B cell</th>\n",
       "      <td>351</td>\n",
       "      <td>37</td>\n",
       "    </tr>\n",
       "    <tr>\n",
       "      <th>SPP1+ proliferating neuron proneitors</th>\n",
       "      <td>43</td>\n",
       "      <td>731</td>\n",
       "    </tr>\n",
       "    <tr>\n",
       "      <th>PID1+ schwann cellls</th>\n",
       "      <td>27</td>\n",
       "      <td>131</td>\n",
       "    </tr>\n",
       "    <tr>\n",
       "      <th>Schwann/Schwann precursors</th>\n",
       "      <td>1731</td>\n",
       "      <td>839</td>\n",
       "    </tr>\n",
       "    <tr>\n",
       "      <th>Suprabasal IFE</th>\n",
       "      <td>29</td>\n",
       "      <td>1</td>\n",
       "    </tr>\n",
       "    <tr>\n",
       "      <th>Tip cell (arterial)</th>\n",
       "      <td>92</td>\n",
       "      <td>42</td>\n",
       "    </tr>\n",
       "    <tr>\n",
       "      <th>Treg</th>\n",
       "      <td>977</td>\n",
       "      <td>10</td>\n",
       "    </tr>\n",
       "    <tr>\n",
       "      <th>pDC</th>\n",
       "      <td>512</td>\n",
       "      <td>77</td>\n",
       "    </tr>\n",
       "  </tbody>\n",
       "</table>\n",
       "</div>"
      ],
      "text/plain": [
       "pcw                                    False  True \n",
       "joint_annotation_20220202                          \n",
       "ASDC                                      72     18\n",
       "Iron-recycling macrophage                178    121\n",
       "Adipocytes                              3199      4\n",
       "Arterial                                 131     41\n",
       "B cell                                  1907     75\n",
       "Basal                                    814      1\n",
       "POSTN+ basal                              45      1\n",
       "CD4 T cell                              4570    105\n",
       "CD8 T cell                              1502     17\n",
       "Capillary (venular tip)                  349    138\n",
       "Capillary/postcapillary venule           545     64\n",
       "Companion layer                           27      0\n",
       "Cuticle/cortex                            21      0\n",
       "DC1                                      568    180\n",
       "DC2                                     1722    807\n",
       "Dermal condensate                       4999     14\n",
       "Dermal papillia                         5637      0\n",
       "Early LE                                  58      7\n",
       "Early endothelial cell                     3    138\n",
       "Early erythroid                          350     77\n",
       "Early erythroid (embryonic)               41    379\n",
       "FRZB+ early fibroblast                    42  10835\n",
       "HOXC5+ early fibroblast                    0  15275\n",
       "Early myocytes                           123    462\n",
       "Eo/baso/mast cell progenitor             127     11\n",
       "Erythroid (embryonic)                      1    681\n",
       "Erythroid (fetal)                       1729    210\n",
       "PEAR1+ fibroblast                       3334    453\n",
       "WNT2+ fibroblast                       16198  12911\n",
       "HSC                                       87     25\n",
       "ILC2                                     310     95\n",
       "ILC3                                     424   1010\n",
       "Immature basal                             0     65\n",
       "Immature suprabasal                        4     11\n",
       "Inflammatory DC                           58     20\n",
       "Innate T type1                           634     38\n",
       "Innate T type3                           209     16\n",
       "Inner root sheath                         18      0\n",
       "LC                                       137    242\n",
       "LE                                       448     69\n",
       "LTi                                      436    255\n",
       "Lymphoid progenitor                       44     77\n",
       "MEMP - Early erythroid                    67     22\n",
       "MEMP - Megak                             184     59\n",
       "MHCII+ macrophage                       1453    743\n",
       "LYVE1++ macrophage                     11190   9090\n",
       "Mast cell (earliest)                     135     54\n",
       "Mast cell (medium)                       668     94\n",
       "Mast cell (most mature)                  919     16\n",
       "Matrix/placode                           254      0\n",
       "Megakaryocyte                             61    112\n",
       "Melanoblast                               29    161\n",
       "Melanocyte                               423    181\n",
       "TREM2+ macrophage                        279   1338\n",
       "Monocyte                                2305    739\n",
       "Monocyte (activated/differentiating)    1553    342\n",
       "Monocyte precursor                      1261    473\n",
       "LMCD1+ mural cell                        982    217\n",
       "PLN+ mural cell                         1593    335\n",
       "Myelinating Schwann cells                786    425\n",
       "Myoblasts                                909   4266\n",
       "Myocytes                                  13     38\n",
       "Myofibroblasts                           363   2791\n",
       "NK cell                                 4964   1858\n",
       "Neuroendocrine                             0    281\n",
       "Neuron progenitors                         0    649\n",
       "Neutrophil1                               78     10\n",
       "Neutrophil2                              103     71\n",
       "Outer root sheath                         25      0\n",
       "Pericytes                               4594   1656\n",
       "Periderm                                   0    153\n",
       "Postcapillary venule                      48      0\n",
       "Pre B cell                               501     40\n",
       "Pre pro B cell                           116     60\n",
       "Pre-dermal condensate                   8602  14122\n",
       "Pro B cell                               351     37\n",
       "SPP1+ proliferating neuron proneitors     43    731\n",
       "PID1+ schwann cellls                      27    131\n",
       "Schwann/Schwann precursors              1731    839\n",
       "Suprabasal IFE                            29      1\n",
       "Tip cell (arterial)                       92     42\n",
       "Treg                                     977     10\n",
       "pDC                                      512     77"
      ]
     },
     "execution_count": 19,
     "metadata": {},
     "output_type": "execute_result"
    }
   ],
   "source": [
    "pd.set_option(\"display.max_rows\", None)\n",
    "pd.crosstab(fsk_ad.obs.joint_annotation_20220202, (fsk_ad.obs.pcw <= 11))"
   ]
  },
  {
   "cell_type": "code",
   "execution_count": 6,
   "metadata": {
    "execution": {
     "iopub.execute_input": "2022-10-21T15:50:20.007598Z",
     "iopub.status.busy": "2022-10-21T15:50:20.007381Z",
     "iopub.status.idle": "2022-10-21T15:50:20.028907Z",
     "shell.execute_reply": "2022-10-21T15:50:20.028141Z",
     "shell.execute_reply.started": "2022-10-21T15:50:20.007576Z"
    },
    "tags": []
   },
   "outputs": [
    {
     "data": {
      "text/plain": [
       "Index(['Adipocyte', 'B cell', 'DC', 'Dermal condensate', 'Erythroid',\n",
       "       'Fibroblast', 'Granulocyte progenitor', 'HSC', 'ILC', 'KC',\n",
       "       'Langerhans cell', 'Lymphatic endothelium', 'MEMP', 'Macrophage',\n",
       "       'Mast cell', 'Megakaryocyte', 'Melanocyte', 'Microglia', 'Monocyte',\n",
       "       'Monocyte precursor', 'Muscle', 'Myofibroblast', 'NK cell',\n",
       "       'Neuronal cells', 'Neutrophil', 'Pericyte', 'T cell',\n",
       "       'Vascular endothelium'],\n",
       "      dtype='object')"
      ]
     },
     "execution_count": 6,
     "metadata": {},
     "output_type": "execute_result"
    }
   ],
   "source": [
    "fsk_ad.obs.independent_annotation_broad3.cat.categories == \"KC\""
   ]
  },
  {
   "cell_type": "code",
   "execution_count": 8,
   "metadata": {
    "execution": {
     "iopub.execute_input": "2022-10-21T15:51:00.741317Z",
     "iopub.status.busy": "2022-10-21T15:51:00.741000Z",
     "iopub.status.idle": "2022-10-21T15:51:00.790827Z",
     "shell.execute_reply": "2022-10-21T15:51:00.790018Z",
     "shell.execute_reply.started": "2022-10-21T15:51:00.741266Z"
    },
    "tags": []
   },
   "outputs": [
    {
     "data": {
      "text/html": [
       "<div>\n",
       "<style scoped>\n",
       "    .dataframe tbody tr th:only-of-type {\n",
       "        vertical-align: middle;\n",
       "    }\n",
       "\n",
       "    .dataframe tbody tr th {\n",
       "        vertical-align: top;\n",
       "    }\n",
       "\n",
       "    .dataframe thead th {\n",
       "        text-align: right;\n",
       "    }\n",
       "</style>\n",
       "<table border=\"1\" class=\"dataframe\">\n",
       "  <thead>\n",
       "    <tr style=\"text-align: right;\">\n",
       "      <th>pcw</th>\n",
       "      <th>7</th>\n",
       "      <th>8</th>\n",
       "      <th>9</th>\n",
       "      <th>11</th>\n",
       "      <th>14</th>\n",
       "      <th>15</th>\n",
       "      <th>16</th>\n",
       "    </tr>\n",
       "    <tr>\n",
       "      <th>joint_annotation_20220202</th>\n",
       "      <th></th>\n",
       "      <th></th>\n",
       "      <th></th>\n",
       "      <th></th>\n",
       "      <th></th>\n",
       "      <th></th>\n",
       "      <th></th>\n",
       "    </tr>\n",
       "  </thead>\n",
       "  <tbody>\n",
       "    <tr>\n",
       "      <th>Basal</th>\n",
       "      <td>0</td>\n",
       "      <td>0</td>\n",
       "      <td>0</td>\n",
       "      <td>1</td>\n",
       "      <td>325</td>\n",
       "      <td>462</td>\n",
       "      <td>27</td>\n",
       "    </tr>\n",
       "    <tr>\n",
       "      <th>POSTN+ basal</th>\n",
       "      <td>0</td>\n",
       "      <td>0</td>\n",
       "      <td>0</td>\n",
       "      <td>1</td>\n",
       "      <td>26</td>\n",
       "      <td>14</td>\n",
       "      <td>5</td>\n",
       "    </tr>\n",
       "    <tr>\n",
       "      <th>Companion layer</th>\n",
       "      <td>0</td>\n",
       "      <td>0</td>\n",
       "      <td>0</td>\n",
       "      <td>0</td>\n",
       "      <td>7</td>\n",
       "      <td>19</td>\n",
       "      <td>1</td>\n",
       "    </tr>\n",
       "    <tr>\n",
       "      <th>Cuticle/cortex</th>\n",
       "      <td>0</td>\n",
       "      <td>0</td>\n",
       "      <td>0</td>\n",
       "      <td>0</td>\n",
       "      <td>2</td>\n",
       "      <td>18</td>\n",
       "      <td>1</td>\n",
       "    </tr>\n",
       "    <tr>\n",
       "      <th>Immature basal</th>\n",
       "      <td>46</td>\n",
       "      <td>7</td>\n",
       "      <td>10</td>\n",
       "      <td>2</td>\n",
       "      <td>0</td>\n",
       "      <td>0</td>\n",
       "      <td>0</td>\n",
       "    </tr>\n",
       "    <tr>\n",
       "      <th>Immature suprabasal</th>\n",
       "      <td>2</td>\n",
       "      <td>5</td>\n",
       "      <td>0</td>\n",
       "      <td>4</td>\n",
       "      <td>2</td>\n",
       "      <td>1</td>\n",
       "      <td>1</td>\n",
       "    </tr>\n",
       "    <tr>\n",
       "      <th>Inner root sheath</th>\n",
       "      <td>0</td>\n",
       "      <td>0</td>\n",
       "      <td>0</td>\n",
       "      <td>0</td>\n",
       "      <td>7</td>\n",
       "      <td>11</td>\n",
       "      <td>0</td>\n",
       "    </tr>\n",
       "    <tr>\n",
       "      <th>Matrix/placode</th>\n",
       "      <td>0</td>\n",
       "      <td>0</td>\n",
       "      <td>0</td>\n",
       "      <td>0</td>\n",
       "      <td>80</td>\n",
       "      <td>165</td>\n",
       "      <td>9</td>\n",
       "    </tr>\n",
       "    <tr>\n",
       "      <th>Outer root sheath</th>\n",
       "      <td>0</td>\n",
       "      <td>0</td>\n",
       "      <td>0</td>\n",
       "      <td>0</td>\n",
       "      <td>10</td>\n",
       "      <td>10</td>\n",
       "      <td>5</td>\n",
       "    </tr>\n",
       "    <tr>\n",
       "      <th>Periderm</th>\n",
       "      <td>66</td>\n",
       "      <td>59</td>\n",
       "      <td>26</td>\n",
       "      <td>2</td>\n",
       "      <td>0</td>\n",
       "      <td>0</td>\n",
       "      <td>0</td>\n",
       "    </tr>\n",
       "    <tr>\n",
       "      <th>Suprabasal IFE</th>\n",
       "      <td>0</td>\n",
       "      <td>0</td>\n",
       "      <td>0</td>\n",
       "      <td>1</td>\n",
       "      <td>21</td>\n",
       "      <td>5</td>\n",
       "      <td>3</td>\n",
       "    </tr>\n",
       "  </tbody>\n",
       "</table>\n",
       "</div>"
      ],
      "text/plain": [
       "pcw                        7   8   9   11   14   15  16\n",
       "joint_annotation_20220202                              \n",
       "Basal                       0   0   0   1  325  462  27\n",
       "POSTN+ basal                0   0   0   1   26   14   5\n",
       "Companion layer             0   0   0   0    7   19   1\n",
       "Cuticle/cortex              0   0   0   0    2   18   1\n",
       "Immature basal             46   7  10   2    0    0   0\n",
       "Immature suprabasal         2   5   0   4    2    1   1\n",
       "Inner root sheath           0   0   0   0    7   11   0\n",
       "Matrix/placode              0   0   0   0   80  165   9\n",
       "Outer root sheath           0   0   0   0   10   10   5\n",
       "Periderm                   66  59  26   2    0    0   0\n",
       "Suprabasal IFE              0   0   0   1   21    5   3"
      ]
     },
     "execution_count": 8,
     "metadata": {},
     "output_type": "execute_result"
    }
   ],
   "source": [
    "pd.set_option(\"display.max_rows\", None)\n",
    "pd.crosstab(\n",
    "    fsk_ad.obs.joint_annotation_20220202[\n",
    "        fsk_ad.obs.independent_annotation_broad3 == \"KC\"\n",
    "    ],\n",
    "    fsk_ad.obs.pcw[fsk_ad.obs.independent_annotation_broad3 == \"KC\"],\n",
    ")"
   ]
  },
  {
   "cell_type": "code",
   "execution_count": 4,
   "metadata": {
    "execution": {
     "iopub.execute_input": "2022-10-21T15:48:32.112441Z",
     "iopub.status.busy": "2022-10-21T15:48:32.112196Z",
     "iopub.status.idle": "2022-10-21T15:48:32.187452Z",
     "shell.execute_reply": "2022-10-21T15:48:32.186511Z",
     "shell.execute_reply.started": "2022-10-21T15:48:32.112419Z"
    },
    "tags": []
   },
   "outputs": [
    {
     "data": {
      "text/html": [
       "<div>\n",
       "<style scoped>\n",
       "    .dataframe tbody tr th:only-of-type {\n",
       "        vertical-align: middle;\n",
       "    }\n",
       "\n",
       "    .dataframe tbody tr th {\n",
       "        vertical-align: top;\n",
       "    }\n",
       "\n",
       "    .dataframe thead th {\n",
       "        text-align: right;\n",
       "    }\n",
       "</style>\n",
       "<table border=\"1\" class=\"dataframe\">\n",
       "  <thead>\n",
       "    <tr style=\"text-align: right;\">\n",
       "      <th>pcw</th>\n",
       "      <th>7</th>\n",
       "      <th>8</th>\n",
       "      <th>9</th>\n",
       "      <th>10</th>\n",
       "      <th>11</th>\n",
       "      <th>12</th>\n",
       "      <th>13</th>\n",
       "      <th>14</th>\n",
       "      <th>15</th>\n",
       "      <th>16</th>\n",
       "    </tr>\n",
       "    <tr>\n",
       "      <th>joint_annotation_20220202</th>\n",
       "      <th></th>\n",
       "      <th></th>\n",
       "      <th></th>\n",
       "      <th></th>\n",
       "      <th></th>\n",
       "      <th></th>\n",
       "      <th></th>\n",
       "      <th></th>\n",
       "      <th></th>\n",
       "      <th></th>\n",
       "    </tr>\n",
       "  </thead>\n",
       "  <tbody>\n",
       "    <tr>\n",
       "      <th>Basal</th>\n",
       "      <td>0</td>\n",
       "      <td>0</td>\n",
       "      <td>0</td>\n",
       "      <td>0</td>\n",
       "      <td>1</td>\n",
       "      <td>0</td>\n",
       "      <td>0</td>\n",
       "      <td>325</td>\n",
       "      <td>462</td>\n",
       "      <td>27</td>\n",
       "    </tr>\n",
       "    <tr>\n",
       "      <th>POSTN+ basal</th>\n",
       "      <td>0</td>\n",
       "      <td>0</td>\n",
       "      <td>0</td>\n",
       "      <td>0</td>\n",
       "      <td>1</td>\n",
       "      <td>0</td>\n",
       "      <td>0</td>\n",
       "      <td>26</td>\n",
       "      <td>14</td>\n",
       "      <td>5</td>\n",
       "    </tr>\n",
       "    <tr>\n",
       "      <th>HOXC5+ early fibroblast</th>\n",
       "      <td>8084</td>\n",
       "      <td>6993</td>\n",
       "      <td>192</td>\n",
       "      <td>2</td>\n",
       "      <td>4</td>\n",
       "      <td>0</td>\n",
       "      <td>0</td>\n",
       "      <td>0</td>\n",
       "      <td>0</td>\n",
       "      <td>0</td>\n",
       "    </tr>\n",
       "    <tr>\n",
       "      <th>Pre-dermal condensate</th>\n",
       "      <td>425</td>\n",
       "      <td>531</td>\n",
       "      <td>5068</td>\n",
       "      <td>3583</td>\n",
       "      <td>4515</td>\n",
       "      <td>2066</td>\n",
       "      <td>1289</td>\n",
       "      <td>1432</td>\n",
       "      <td>3611</td>\n",
       "      <td>204</td>\n",
       "    </tr>\n",
       "  </tbody>\n",
       "</table>\n",
       "</div>"
      ],
      "text/plain": [
       "pcw                          7     8     9     10    11    12    13    14  \\\n",
       "joint_annotation_20220202                                                   \n",
       "Basal                         0     0     0     0     1     0     0   325   \n",
       "POSTN+ basal                  0     0     0     0     1     0     0    26   \n",
       "HOXC5+ early fibroblast    8084  6993   192     2     4     0     0     0   \n",
       "Pre-dermal condensate       425   531  5068  3583  4515  2066  1289  1432   \n",
       "\n",
       "pcw                          15   16  \n",
       "joint_annotation_20220202             \n",
       "Basal                       462   27  \n",
       "POSTN+ basal                 14    5  \n",
       "HOXC5+ early fibroblast       0    0  \n",
       "Pre-dermal condensate      3611  204  "
      ]
     },
     "execution_count": 4,
     "metadata": {},
     "output_type": "execute_result"
    }
   ],
   "source": [
    "pd.set_option(\"display.max_rows\", None)\n",
    "pd.crosstab(fsk_ad.obs.joint_annotation_20220202, fsk_ad.obs.pcw).loc[\n",
    "    [\"Basal\", \"POSTN+ basal\", \"HOXC5+ early fibroblast\", \"Pre-dermal condensate\"]\n",
    "]"
   ]
  },
  {
   "cell_type": "code",
   "execution_count": 21,
   "metadata": {
    "execution": {
     "iopub.execute_input": "2022-10-18T09:47:22.920467Z",
     "iopub.status.busy": "2022-10-18T09:47:22.920150Z",
     "iopub.status.idle": "2022-10-18T09:47:22.941169Z",
     "shell.execute_reply": "2022-10-18T09:47:22.940501Z",
     "shell.execute_reply.started": "2022-10-18T09:47:22.920444Z"
    },
    "tags": []
   },
   "outputs": [],
   "source": [
    "pd.set_option(\"display.max_rows\", 10)"
   ]
  },
  {
   "cell_type": "code",
   "execution_count": 34,
   "metadata": {
    "execution": {
     "iopub.execute_input": "2022-10-18T10:02:51.677131Z",
     "iopub.status.busy": "2022-10-18T10:02:51.676872Z",
     "iopub.status.idle": "2022-10-18T10:02:55.498717Z",
     "shell.execute_reply": "2022-10-18T10:02:55.497911Z",
     "shell.execute_reply.started": "2022-10-18T10:02:51.677108Z"
    },
    "tags": []
   },
   "outputs": [],
   "source": [
    "pre_pcw11_ad = pre_pcw11_ad[\n",
    "    pre_pcw11_ad.obs.joint_annotation_20220202.isin(\n",
    "        sk.get_good_sized_batch(pre_pcw11_ad.obs.joint_annotation_20220202, 10)\n",
    "    )\n",
    "].copy()"
   ]
  },
  {
   "cell_type": "code",
   "execution_count": 35,
   "metadata": {
    "execution": {
     "iopub.execute_input": "2022-10-18T10:03:19.206679Z",
     "iopub.status.busy": "2022-10-18T10:03:19.206460Z",
     "iopub.status.idle": "2022-10-18T10:03:23.005066Z",
     "shell.execute_reply": "2022-10-18T10:03:23.004197Z",
     "shell.execute_reply.started": "2022-10-18T10:03:19.206657Z"
    },
    "tags": []
   },
   "outputs": [],
   "source": [
    "post_pcw12_ad = post_pcw12_ad[\n",
    "    post_pcw12_ad.obs.joint_annotation_20220202.isin(\n",
    "        sk.get_good_sized_batch(post_pcw12_ad.obs.joint_annotation_20220202, 10)\n",
    "    )\n",
    "].copy()"
   ]
  },
  {
   "cell_type": "code",
   "execution_count": 36,
   "metadata": {
    "execution": {
     "iopub.execute_input": "2022-10-18T10:03:25.629423Z",
     "iopub.status.busy": "2022-10-18T10:03:25.629148Z",
     "iopub.status.idle": "2022-10-18T10:03:25.889130Z",
     "shell.execute_reply": "2022-10-18T10:03:25.888392Z",
     "shell.execute_reply.started": "2022-10-18T10:03:25.629400Z"
    }
   },
   "outputs": [
    {
     "data": {
      "text/plain": [
       "4525"
      ]
     },
     "execution_count": 36,
     "metadata": {},
     "output_type": "execute_result"
    }
   ],
   "source": [
    "gc.collect()"
   ]
  },
  {
   "cell_type": "code",
   "execution_count": 37,
   "metadata": {
    "execution": {
     "iopub.execute_input": "2022-10-18T10:03:35.654029Z",
     "iopub.status.busy": "2022-10-18T10:03:35.653708Z",
     "iopub.status.idle": "2022-10-18T10:03:35.679122Z",
     "shell.execute_reply": "2022-10-18T10:03:35.678471Z",
     "shell.execute_reply.started": "2022-10-18T10:03:35.654004Z"
    },
    "tags": []
   },
   "outputs": [
    {
     "data": {
      "text/plain": [
       "HOXC5+ early fibroblast         15275\n",
       "Pre-dermal condensate           14122\n",
       "WNT2+ fibroblast                12911\n",
       "FRZB+ early fibroblast          10835\n",
       "LYVE1++ macrophage               9090\n",
       "                                ...  \n",
       "Dermal condensate                  14\n",
       "Eo/baso/mast cell progenitor       11\n",
       "Immature suprabasal                11\n",
       "Treg                               10\n",
       "Neutrophil1                        10\n",
       "Name: joint_annotation_20220202, Length: 71, dtype: int64"
      ]
     },
     "execution_count": 37,
     "metadata": {},
     "output_type": "execute_result"
    }
   ],
   "source": [
    "pre_pcw11_ad.obs.joint_annotation_20220202.value_counts()"
   ]
  },
  {
   "cell_type": "code",
   "execution_count": 38,
   "metadata": {
    "execution": {
     "iopub.execute_input": "2022-10-18T10:03:37.955940Z",
     "iopub.status.busy": "2022-10-18T10:03:37.955697Z",
     "iopub.status.idle": "2022-10-18T10:03:37.978868Z",
     "shell.execute_reply": "2022-10-18T10:03:37.978229Z",
     "shell.execute_reply.started": "2022-10-18T10:03:37.955917Z"
    },
    "tags": []
   },
   "outputs": [
    {
     "data": {
      "text/plain": [
       "WNT2+ fibroblast         16198\n",
       "LYVE1++ macrophage       11190\n",
       "Pre-dermal condensate     8602\n",
       "Dermal papillia           5637\n",
       "Dermal condensate         4999\n",
       "                         ...  \n",
       "PID1+ schwann cellls        27\n",
       "Outer root sheath           25\n",
       "Cuticle/cortex              21\n",
       "Inner root sheath           18\n",
       "Myocytes                    13\n",
       "Name: joint_annotation_20220202, Length: 75, dtype: int64"
      ]
     },
     "execution_count": 38,
     "metadata": {},
     "output_type": "execute_result"
    }
   ],
   "source": [
    "post_pcw12_ad.obs.joint_annotation_20220202.value_counts()"
   ]
  },
  {
   "cell_type": "code",
   "execution_count": 40,
   "metadata": {
    "execution": {
     "iopub.execute_input": "2022-10-18T10:04:28.179477Z",
     "iopub.status.busy": "2022-10-18T10:04:28.179219Z",
     "iopub.status.idle": "2022-10-18T10:04:29.052316Z",
     "shell.execute_reply": "2022-10-18T10:04:29.051532Z",
     "shell.execute_reply.started": "2022-10-18T10:04:28.179454Z"
    },
    "tags": []
   },
   "outputs": [],
   "source": [
    "pre_pcw11_adS = sk.subsample(pre_pcw11_ad, 1, groupby=\"joint_annotation_20220202\", max_n=300)"
   ]
  },
  {
   "cell_type": "code",
   "execution_count": 41,
   "metadata": {
    "execution": {
     "iopub.execute_input": "2022-10-18T10:04:34.502716Z",
     "iopub.status.busy": "2022-10-18T10:04:34.502411Z",
     "iopub.status.idle": "2022-10-18T10:04:34.524293Z",
     "shell.execute_reply": "2022-10-18T10:04:34.523597Z",
     "shell.execute_reply.started": "2022-10-18T10:04:34.502692Z"
    },
    "tags": []
   },
   "outputs": [
    {
     "data": {
      "text/plain": [
       "AnnData object with n_obs × n_vars = 11488 × 24443\n",
       "    obs: 'sanger_id', 'chemistry', 'donor', 'gender', 'pcw', 'sorting', 'sample', 'chemistry_sorting', 'cell_caller', 'scrublet_score', 'cluster_scrublet_score', 'doublet_pval', 'bh_doublet_pval', 'n_counts', 'n_genes', 'percent_mito', 'percent_ribo', 'percent_hb', 'independent_annotation_refined', 'independent_annotation_broad1', 'independent_annotation_broad2', 'independent_annotation_broad3', 'independent_annotation_broad4', 'independent_annotation_broad5', 'joint_annotation', 'is_maternal', 'fig1b_annotation', 'independent_annotation_refined_20220201a', 'independent_annotation_refined_20220201b', 'independent_annotation_broad1_20220201', 'independent_annotation_broad2_20220201', 'independent_annotation_broad3_20220201', 'joint_annotation_20220201a', 'joint_annotation_20220201b', 'fig1b_annotation_20220201', 'joint_annotation_20220202', 'independent_annotation_refined_20220202', 'fig1b_annotation_20220202'\n",
       "    var: 'gene_ids', 'mito', 'ribo', 'hb', 'n_cells', 'cc', 'n_counts'\n",
       "    obsm: 'X_umap1', 'X_umap2'"
      ]
     },
     "execution_count": 41,
     "metadata": {},
     "output_type": "execute_result"
    }
   ],
   "source": [
    "pre_pcw11_adS"
   ]
  },
  {
   "cell_type": "code",
   "execution_count": 42,
   "metadata": {
    "execution": {
     "iopub.execute_input": "2022-10-18T10:05:16.500677Z",
     "iopub.status.busy": "2022-10-18T10:05:16.500414Z",
     "iopub.status.idle": "2022-10-18T10:05:24.908321Z",
     "shell.execute_reply": "2022-10-18T10:05:24.907417Z",
     "shell.execute_reply.started": "2022-10-18T10:05:16.500654Z"
    },
    "tags": []
   },
   "outputs": [],
   "source": [
    "pre_pcw11_adS.write(\n",
    "    \"fetal_skin/fetal_skin_pre-pcw11_downsampled_for_cellphonedb.h5ad\", compression=\"gzip\"\n",
    ")"
   ]
  },
  {
   "cell_type": "code",
   "execution_count": 49,
   "metadata": {
    "execution": {
     "iopub.execute_input": "2022-10-19T09:18:11.872447Z",
     "iopub.status.busy": "2022-10-19T09:18:11.872146Z",
     "iopub.status.idle": "2022-10-19T09:18:11.913015Z",
     "shell.execute_reply": "2022-10-19T09:18:11.912264Z",
     "shell.execute_reply.started": "2022-10-19T09:18:11.872422Z"
    },
    "tags": []
   },
   "outputs": [],
   "source": [
    "pre_pcw11_adS.obs[[\"joint_annotation_20220202\"]].to_csv(\n",
    "    \"fetal_skin/fetal_skin_pre-pcw11_downsampled_for_cellphonedb.obs.tsv\", sep=\"\\t\"\n",
    ")"
   ]
  },
  {
   "cell_type": "code",
   "execution_count": 44,
   "metadata": {
    "execution": {
     "iopub.execute_input": "2022-10-18T10:06:45.528047Z",
     "iopub.status.busy": "2022-10-18T10:06:45.527770Z",
     "iopub.status.idle": "2022-10-18T10:06:46.610444Z",
     "shell.execute_reply": "2022-10-18T10:06:46.609640Z",
     "shell.execute_reply.started": "2022-10-18T10:06:45.528022Z"
    },
    "tags": []
   },
   "outputs": [],
   "source": [
    "post_pcw12_adS = sk.subsample(post_pcw12_ad, 1, groupby=\"joint_annotation_20220202\", max_n=300)"
   ]
  },
  {
   "cell_type": "code",
   "execution_count": 45,
   "metadata": {
    "execution": {
     "iopub.execute_input": "2022-10-18T10:06:47.726708Z",
     "iopub.status.busy": "2022-10-18T10:06:47.726529Z",
     "iopub.status.idle": "2022-10-18T10:06:47.747652Z",
     "shell.execute_reply": "2022-10-18T10:06:47.747029Z",
     "shell.execute_reply.started": "2022-10-18T10:06:47.726686Z"
    },
    "tags": []
   },
   "outputs": [
    {
     "data": {
      "text/plain": [
       "AnnData object with n_obs × n_vars = 15301 × 23898\n",
       "    obs: 'sanger_id', 'chemistry', 'donor', 'gender', 'pcw', 'sorting', 'sample', 'chemistry_sorting', 'cell_caller', 'scrublet_score', 'cluster_scrublet_score', 'doublet_pval', 'bh_doublet_pval', 'n_counts', 'n_genes', 'percent_mito', 'percent_ribo', 'percent_hb', 'independent_annotation_refined', 'independent_annotation_broad1', 'independent_annotation_broad2', 'independent_annotation_broad3', 'independent_annotation_broad4', 'independent_annotation_broad5', 'joint_annotation', 'is_maternal', 'fig1b_annotation', 'independent_annotation_refined_20220201a', 'independent_annotation_refined_20220201b', 'independent_annotation_broad1_20220201', 'independent_annotation_broad2_20220201', 'independent_annotation_broad3_20220201', 'joint_annotation_20220201a', 'joint_annotation_20220201b', 'fig1b_annotation_20220201', 'joint_annotation_20220202', 'independent_annotation_refined_20220202', 'fig1b_annotation_20220202'\n",
       "    var: 'gene_ids', 'mito', 'ribo', 'hb', 'n_cells', 'cc', 'n_counts'\n",
       "    obsm: 'X_umap1', 'X_umap2'"
      ]
     },
     "execution_count": 45,
     "metadata": {},
     "output_type": "execute_result"
    }
   ],
   "source": [
    "post_pcw12_adS"
   ]
  },
  {
   "cell_type": "code",
   "execution_count": 46,
   "metadata": {
    "execution": {
     "iopub.execute_input": "2022-10-18T10:06:52.310400Z",
     "iopub.status.busy": "2022-10-18T10:06:52.310132Z",
     "iopub.status.idle": "2022-10-18T10:07:03.331552Z",
     "shell.execute_reply": "2022-10-18T10:07:03.330759Z",
     "shell.execute_reply.started": "2022-10-18T10:06:52.310377Z"
    },
    "tags": []
   },
   "outputs": [],
   "source": [
    "post_pcw12_adS.write(\n",
    "    \"fetal_skin/fetal_skin_post-pcw12_downsampled_for_cellphonedb.h5ad\", compression=\"gzip\"\n",
    ")"
   ]
  },
  {
   "cell_type": "code",
   "execution_count": 48,
   "metadata": {
    "execution": {
     "iopub.execute_input": "2022-10-19T09:18:00.840580Z",
     "iopub.status.busy": "2022-10-19T09:18:00.840238Z",
     "iopub.status.idle": "2022-10-19T09:18:00.898335Z",
     "shell.execute_reply": "2022-10-19T09:18:00.897225Z",
     "shell.execute_reply.started": "2022-10-19T09:18:00.840554Z"
    },
    "tags": []
   },
   "outputs": [],
   "source": [
    "post_pcw12_adS.obs[[\"joint_annotation_20220202\"]].to_csv(\n",
    "    \"fetal_skin/fetal_skin_post-pcw12_downsampled_for_cellphonedb.obs.tsv\", sep=\"\\t\"\n",
    ")"
   ]
  },
  {
   "cell_type": "code",
   "execution_count": null,
   "metadata": {},
   "outputs": [],
   "source": []
  }
 ],
 "metadata": {
  "kernelspec": {
   "display_name": "scanpy16",
   "language": "python",
   "name": "scanpy-new"
  },
  "language_info": {
   "codemirror_mode": {
    "name": "ipython",
    "version": 3
   },
   "file_extension": ".py",
   "mimetype": "text/x-python",
   "name": "python",
   "nbconvert_exporter": "python",
   "pygments_lexer": "ipython3",
   "version": "3.8.5"
  },
  "toc-autonumbering": true
 },
 "nbformat": 4,
 "nbformat_minor": 4
}
