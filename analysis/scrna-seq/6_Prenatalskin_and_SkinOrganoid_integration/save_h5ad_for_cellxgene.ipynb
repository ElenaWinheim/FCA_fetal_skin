{
 "cells": [
  {
   "cell_type": "code",
   "execution_count": 1,
   "metadata": {},
   "outputs": [],
   "source": [
    "%load_ext autoreload\n",
    "%autoreload 2\n",
    "\n",
    "import numpy as np\n",
    "import pandas as pd\n",
    "import matplotlib.pyplot as plt\n",
    "import anndata\n",
    "import scanpy as sc\n",
    "import scanpy_scripts as ss\n",
    "import bbknn\n",
    "import phate\n",
    "\n",
    "np.set_printoptions(linewidth=180)\n",
    "sc.settings.verbosity = 1\n",
    "expr_cmap = ss.lib.expression_colormap()\n",
    "ss.lib.set_figsize((4, 4))"
   ]
  },
  {
   "cell_type": "code",
   "execution_count": 23,
   "metadata": {},
   "outputs": [
    {
     "name": "stdout",
     "output_type": "stream",
     "text": [
      "neuronal\n"
     ]
    }
   ],
   "source": [
    "new_ads = {}\n",
    "for ct in ['endothelium', 'keratinocytes', 'melanocytes', 'neuronal', 'stroma']:\n",
    "    print(ct)\n",
    "    ad = sc.read(f'pooled_{ct}.processed.h5ad')\n",
    "    rachel_annot = 'rachel_annot3' if 'rachel_annot3' in ad.obs.columns else 'rachel_annot2' if 'rachel_annot2' in ad.obs.columns else 'rachel_annot1'\n",
    "    new_ad = anndata.AnnData(\n",
    "        X=ad.raw.X,\n",
    "        obs=ad.obs[[\n",
    "            'batch', 'chemistry_sorting', 'dataset', 'day', 'donor', 'gender', 'nh3_annot1', rachel_annot, 'sample_id', 'strain', 'week', 'annot',\n",
    "            'n_counts', 'n_genes', 'percent_hb', 'percent_mito', 'percent_ribo', 'percent_top50',\n",
    "            'leiden_hm_r0_1', 'leiden_hm_r0_3', 'leiden_hm_r0_5', 'leiden_hm_r0_7', 'leiden_hm_r0_9'\n",
    "        ]].copy(),\n",
    "        var=ad.var[['highly_variable', 'means', 'dispersions', 'dispersions_norm']].copy(),\n",
    "        obsm=ad.obsm\n",
    "    )\n",
    "    del new_ad.obsm['X_pca'], new_ad.obsm['X_pca_hm']\n",
    "    new_ads[ct] = new_ad"
   ]
  },
  {
   "cell_type": "code",
   "execution_count": 26,
   "metadata": {},
   "outputs": [
    {
     "data": {
      "text/plain": [
       "{'keratinocytes': AnnData object with n_obs × n_vars = 4036 × 15277 \n",
       "     obs: 'batch', 'chemistry_sorting', 'dataset', 'day', 'donor', 'gender', 'nh3_annot1', 'rachel_annot3', 'sample_id', 'strain', 'week', 'annot', 'n_counts', 'n_genes', 'percent_hb', 'percent_mito', 'percent_ribo', 'percent_top50', 'leiden_hm_r0_1', 'leiden_hm_r0_3', 'leiden_hm_r0_5', 'leiden_hm_r0_7', 'leiden_hm_r0_9'\n",
       "     var: 'highly_variable', 'means', 'dispersions', 'dispersions_norm'\n",
       "     obsm: 'X_umap_hm',\n",
       " 'melanocytes': AnnData object with n_obs × n_vars = 2184 × 13449 \n",
       "     obs: 'batch', 'chemistry_sorting', 'dataset', 'day', 'donor', 'gender', 'nh3_annot1', 'rachel_annot3', 'sample_id', 'strain', 'week', 'annot', 'n_counts', 'n_genes', 'percent_hb', 'percent_mito', 'percent_ribo', 'percent_top50', 'leiden_hm_r0_1', 'leiden_hm_r0_3', 'leiden_hm_r0_5', 'leiden_hm_r0_7', 'leiden_hm_r0_9'\n",
       "     var: 'highly_variable'\n",
       "     obsm: 'X_umap_hm',\n",
       " 'neuronal': AnnData object with n_obs × n_vars = 13350 × 18812 \n",
       "     obs: 'batch', 'chemistry_sorting', 'dataset', 'day', 'donor', 'gender', 'nh3_annot1', 'rachel_annot2', 'sample_id', 'strain', 'week', 'annot', 'n_counts', 'n_genes', 'percent_hb', 'percent_mito', 'percent_ribo', 'percent_top50', 'leiden_hm_r0_1', 'leiden_hm_r0_3', 'leiden_hm_r0_5', 'leiden_hm_r0_7', 'leiden_hm_r0_9'\n",
       "     var: 'highly_variable'\n",
       "     uns: 'annot_colors'\n",
       "     obsm: 'X_umap_hm',\n",
       " 'stroma': AnnData object with n_obs × n_vars = 6213 × 18812 \n",
       "     obs: 'batch', 'chemistry_sorting', 'dataset', 'day', 'donor', 'gender', 'nh3_annot1', 'rachel_annot2', 'sample_id', 'strain', 'week', 'annot', 'n_counts', 'n_genes', 'percent_hb', 'percent_mito', 'percent_ribo', 'percent_top50', 'leiden_hm_r0_1', 'leiden_hm_r0_3', 'leiden_hm_r0_5', 'leiden_hm_r0_7', 'leiden_hm_r0_9'\n",
       "     var: 'highly_variable', 'means', 'dispersions', 'dispersions_norm'\n",
       "     obsm: 'X_umap_hm',\n",
       " 'endothelium': AnnData object with n_obs × n_vars = 2303 × 15445 \n",
       "     obs: 'batch', 'chemistry_sorting', 'dataset', 'day', 'donor', 'gender', 'nh3_annot1', 'rachel_annot3', 'sample_id', 'strain', 'week', 'annot', 'n_counts', 'n_genes', 'percent_hb', 'percent_mito', 'percent_ribo', 'percent_top50', 'leiden_hm_r0_1', 'leiden_hm_r0_3', 'leiden_hm_r0_5', 'leiden_hm_r0_7', 'leiden_hm_r0_9'\n",
       "     var: 'highly_variable', 'means', 'dispersions', 'dispersions_norm'\n",
       "     obsm: 'X_umap_hm'}"
      ]
     },
     "execution_count": 26,
     "metadata": {},
     "output_type": "execute_result"
    }
   ],
   "source": [
    "new_ads"
   ]
  },
  {
   "cell_type": "code",
   "execution_count": 24,
   "metadata": {},
   "outputs": [],
   "source": [
    "for ct in ['endothelium', 'keratinocytes', 'melanocytes', 'neuronal', 'stroma']:\n",
    "    new_ads[ct].write(f'pooled_{ct}.cellxgene.h5ad', compression='lzf')"
   ]
  }
 ],
 "metadata": {
  "kernelspec": {
   "display_name": "Python 3",
   "language": "python",
   "name": "python3"
  },
  "language_info": {
   "codemirror_mode": {
    "name": "ipython",
    "version": 3
   },
   "file_extension": ".py",
   "mimetype": "text/x-python",
   "name": "python",
   "nbconvert_exporter": "python",
   "pygments_lexer": "ipython3",
   "version": "3.6.7"
  }
 },
 "nbformat": 4,
 "nbformat_minor": 4
}
