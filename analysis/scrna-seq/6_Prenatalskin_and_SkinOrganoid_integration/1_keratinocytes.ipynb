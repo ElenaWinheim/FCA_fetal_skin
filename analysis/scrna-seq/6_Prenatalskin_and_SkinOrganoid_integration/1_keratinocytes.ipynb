{
 "cells": [
  {
   "cell_type": "markdown",
   "metadata": {},
   "source": [
    "# Import and settings"
   ]
  },
  {
   "cell_type": "code",
   "execution_count": 1,
   "metadata": {},
   "outputs": [],
   "source": [
    "%load_ext autoreload\n",
    "%autoreload 2\n",
    "\n",
    "import numpy as np\n",
    "import pandas as pd\n",
    "import matplotlib.pyplot as plt\n",
    "import anndata\n",
    "import scanpy as sc\n",
    "import scanpy_scripts as ss\n",
    "import bbknn\n",
    "import phate\n",
    "\n",
    "np.set_printoptions(linewidth=180)\n",
    "sc.settings.verbosity = 1\n",
    "expr_cmap = ss.lib.expression_colormap()\n",
    "ss.lib.set_figsize((4, 4))"
   ]
  },
  {
   "cell_type": "markdown",
   "metadata": {},
   "source": [
    "# Processing"
   ]
  },
  {
   "cell_type": "code",
   "execution_count": 2,
   "metadata": {},
   "outputs": [],
   "source": [
    "organoid_ad = sc.read('organoid.cellxgene.h5ad')"
   ]
  },
  {
   "cell_type": "code",
   "execution_count": 6,
   "metadata": {},
   "outputs": [
    {
     "data": {
      "text/plain": [
       "AnnData object with n_obs × n_vars = 130811 × 27320 \n",
       "    obs: 'sample_id', 'version', 'week', 'day', 'strain', 'batch', 'n_counts', 'n_genes', 'percent_mito', 'percent_ribo', 'percent_hb', 'percent_top50', 'leiden_bk_split5', 'nh3_annot1', 'nh3_broad_annot1'\n",
       "    var: 'gene_ids', 'gene_symbols', 'highly_variable'\n",
       "    obsm: 'X_umap_hm', 'X_umap_bk'"
      ]
     },
     "execution_count": 6,
     "metadata": {},
     "output_type": "execute_result"
    }
   ],
   "source": [
    "organoid_ad"
   ]
  },
  {
   "cell_type": "code",
   "execution_count": null,
   "metadata": {},
   "outputs": [],
   "source": [
    "ss.lib.plot_embedding(organoid_ad, basis='umap_bk', groupby='nh3_broad_annot1')"
   ]
  },
  {
   "cell_type": "code",
   "execution_count": 171,
   "metadata": {},
   "outputs": [
    {
     "data": {
      "text/html": [
       "<div>\n",
       "<style scoped>\n",
       "    .dataframe tbody tr th:only-of-type {\n",
       "        vertical-align: middle;\n",
       "    }\n",
       "\n",
       "    .dataframe tbody tr th {\n",
       "        vertical-align: top;\n",
       "    }\n",
       "\n",
       "    .dataframe thead th {\n",
       "        text-align: right;\n",
       "    }\n",
       "</style>\n",
       "<table border=\"1\" class=\"dataframe\">\n",
       "  <thead>\n",
       "    <tr style=\"text-align: right;\">\n",
       "      <th>strain</th>\n",
       "      <th>DSP</th>\n",
       "      <th>WA25</th>\n",
       "    </tr>\n",
       "    <tr>\n",
       "      <th>nh3_annot1</th>\n",
       "      <th></th>\n",
       "      <th></th>\n",
       "    </tr>\n",
       "  </thead>\n",
       "  <tbody>\n",
       "    <tr>\n",
       "      <th>Endothelium</th>\n",
       "      <td>63</td>\n",
       "      <td>67</td>\n",
       "    </tr>\n",
       "    <tr>\n",
       "      <th>Merkel</th>\n",
       "      <td>56</td>\n",
       "      <td>83</td>\n",
       "    </tr>\n",
       "    <tr>\n",
       "      <th>Melanocytes</th>\n",
       "      <td>605</td>\n",
       "      <td>785</td>\n",
       "    </tr>\n",
       "    <tr>\n",
       "      <th>CNCC-like / Schwann</th>\n",
       "      <td>810</td>\n",
       "      <td>1612</td>\n",
       "    </tr>\n",
       "    <tr>\n",
       "      <th>CNCC-like</th>\n",
       "      <td>1415</td>\n",
       "      <td>685</td>\n",
       "    </tr>\n",
       "    <tr>\n",
       "      <th>Neuron progenitors</th>\n",
       "      <td>562</td>\n",
       "      <td>931</td>\n",
       "    </tr>\n",
       "    <tr>\n",
       "      <th>Immature neurons</th>\n",
       "      <td>761</td>\n",
       "      <td>754</td>\n",
       "    </tr>\n",
       "    <tr>\n",
       "      <th>Peridermal KC</th>\n",
       "      <td>465</td>\n",
       "      <td>689</td>\n",
       "    </tr>\n",
       "    <tr>\n",
       "      <th>Basal stem-like KC</th>\n",
       "      <td>1183</td>\n",
       "      <td>1526</td>\n",
       "    </tr>\n",
       "    <tr>\n",
       "      <th>Basal KC</th>\n",
       "      <td>5351</td>\n",
       "      <td>7076</td>\n",
       "    </tr>\n",
       "    <tr>\n",
       "      <th>HF Basal KC</th>\n",
       "      <td>505</td>\n",
       "      <td>238</td>\n",
       "    </tr>\n",
       "    <tr>\n",
       "      <th>Suprabasal KC</th>\n",
       "      <td>3045</td>\n",
       "      <td>3477</td>\n",
       "    </tr>\n",
       "    <tr>\n",
       "      <th>Pericyte-like</th>\n",
       "      <td>488</td>\n",
       "      <td>316</td>\n",
       "    </tr>\n",
       "    <tr>\n",
       "      <th>Myocyte-like</th>\n",
       "      <td>302</td>\n",
       "      <td>205</td>\n",
       "    </tr>\n",
       "    <tr>\n",
       "      <th>MSC / HF bud</th>\n",
       "      <td>3918</td>\n",
       "      <td>2719</td>\n",
       "    </tr>\n",
       "    <tr>\n",
       "      <th>Mesenchymal</th>\n",
       "      <td>41623</td>\n",
       "      <td>43866</td>\n",
       "    </tr>\n",
       "    <tr>\n",
       "      <th>Proliferating mesenchymal</th>\n",
       "      <td>2395</td>\n",
       "      <td>2235</td>\n",
       "    </tr>\n",
       "  </tbody>\n",
       "</table>\n",
       "</div>"
      ],
      "text/plain": [
       "strain                       DSP   WA25\n",
       "nh3_annot1                             \n",
       "Endothelium                   63     67\n",
       "Merkel                        56     83\n",
       "Melanocytes                  605    785\n",
       "CNCC-like / Schwann          810   1612\n",
       "CNCC-like                   1415    685\n",
       "Neuron progenitors           562    931\n",
       "Immature neurons             761    754\n",
       "Peridermal KC                465    689\n",
       "Basal stem-like KC          1183   1526\n",
       "Basal KC                    5351   7076\n",
       "HF Basal KC                  505    238\n",
       "Suprabasal KC               3045   3477\n",
       "Pericyte-like                488    316\n",
       "Myocyte-like                 302    205\n",
       "MSC / HF bud                3918   2719\n",
       "Mesenchymal                41623  43866\n",
       "Proliferating mesenchymal   2395   2235"
      ]
     },
     "execution_count": 171,
     "metadata": {},
     "output_type": "execute_result"
    }
   ],
   "source": [
    "ss.lib.cross_table(organoid_ad, 'nh3_annot1', 'strain')"
   ]
  },
  {
   "cell_type": "code",
   "execution_count": 173,
   "metadata": {},
   "outputs": [
    {
     "data": {
      "text/plain": [
       "17-20_fetal_wks    72164\n",
       "7-10_fetal_wks     21803\n",
       "14-16_fetal_wks    18440\n",
       "4-7_fetal_wks      18404\n",
       "Name: week, dtype: int64"
      ]
     },
     "execution_count": 173,
     "metadata": {},
     "output_type": "execute_result"
    }
   ],
   "source": [
    "organoid_ad.obs['week'].value_counts()"
   ]
  },
  {
   "cell_type": "code",
   "execution_count": 172,
   "metadata": {},
   "outputs": [
    {
     "data": {
      "text/plain": [
       "day-133    72164\n",
       "day-48     21803\n",
       "day-85     18440\n",
       "day-29     18404\n",
       "Name: day, dtype: int64"
      ]
     },
     "execution_count": 172,
     "metadata": {},
     "output_type": "execute_result"
    }
   ],
   "source": [
    "organoid_ad.obs['day'].value_counts()"
   ]
  },
  {
   "cell_type": "code",
   "execution_count": 128,
   "metadata": {},
   "outputs": [
    {
     "data": {
      "text/plain": [
       "Stroma           98067\n",
       "Keratinocytes    23555\n",
       "Neuronal          7530\n",
       "Melanocytes       1390\n",
       "Merkel             139\n",
       "Endothelium        130\n",
       "Name: nh3_broad_annot1, dtype: int64"
      ]
     },
     "execution_count": 128,
     "metadata": {},
     "output_type": "execute_result"
    }
   ],
   "source": [
    "organoid_ad.obs['nh3_broad_annot1'].value_counts()"
   ]
  },
  {
   "cell_type": "code",
   "execution_count": 3,
   "metadata": {},
   "outputs": [],
   "source": [
    "ads = ss.lib.split_by_group(organoid_ad, groupby='nh3_broad_annot1')"
   ]
  },
  {
   "cell_type": "code",
   "execution_count": 8,
   "metadata": {},
   "outputs": [
    {
     "data": {
      "text/plain": [
       "{'Endothelium': AnnData object with n_obs × n_vars = 130 × 27320 \n",
       "     obs: 'sample_id', 'version', 'week', 'day', 'strain', 'batch', 'n_counts', 'n_genes', 'percent_mito', 'percent_ribo', 'percent_hb', 'percent_top50', 'leiden_bk_split5', 'nh3_annot1', 'nh3_broad_annot1'\n",
       "     var: 'gene_ids', 'gene_symbols', 'highly_variable'\n",
       "     obsm: 'X_umap_hm', 'X_umap_bk',\n",
       " 'Keratinocytes': AnnData object with n_obs × n_vars = 23555 × 27320 \n",
       "     obs: 'sample_id', 'version', 'week', 'day', 'strain', 'batch', 'n_counts', 'n_genes', 'percent_mito', 'percent_ribo', 'percent_hb', 'percent_top50', 'leiden_bk_split5', 'nh3_annot1', 'nh3_broad_annot1'\n",
       "     var: 'gene_ids', 'gene_symbols', 'highly_variable'\n",
       "     obsm: 'X_umap_hm', 'X_umap_bk',\n",
       " 'Melanocytes': AnnData object with n_obs × n_vars = 1390 × 27320 \n",
       "     obs: 'sample_id', 'version', 'week', 'day', 'strain', 'batch', 'n_counts', 'n_genes', 'percent_mito', 'percent_ribo', 'percent_hb', 'percent_top50', 'leiden_bk_split5', 'nh3_annot1', 'nh3_broad_annot1'\n",
       "     var: 'gene_ids', 'gene_symbols', 'highly_variable'\n",
       "     obsm: 'X_umap_hm', 'X_umap_bk',\n",
       " 'Merkel': AnnData object with n_obs × n_vars = 139 × 27320 \n",
       "     obs: 'sample_id', 'version', 'week', 'day', 'strain', 'batch', 'n_counts', 'n_genes', 'percent_mito', 'percent_ribo', 'percent_hb', 'percent_top50', 'leiden_bk_split5', 'nh3_annot1', 'nh3_broad_annot1'\n",
       "     var: 'gene_ids', 'gene_symbols', 'highly_variable'\n",
       "     obsm: 'X_umap_hm', 'X_umap_bk',\n",
       " 'Neuronal': AnnData object with n_obs × n_vars = 7530 × 27320 \n",
       "     obs: 'sample_id', 'version', 'week', 'day', 'strain', 'batch', 'n_counts', 'n_genes', 'percent_mito', 'percent_ribo', 'percent_hb', 'percent_top50', 'leiden_bk_split5', 'nh3_annot1', 'nh3_broad_annot1'\n",
       "     var: 'gene_ids', 'gene_symbols', 'highly_variable'\n",
       "     obsm: 'X_umap_hm', 'X_umap_bk',\n",
       " 'Stroma': AnnData object with n_obs × n_vars = 98067 × 27320 \n",
       "     obs: 'sample_id', 'version', 'week', 'day', 'strain', 'batch', 'n_counts', 'n_genes', 'percent_mito', 'percent_ribo', 'percent_hb', 'percent_top50', 'leiden_bk_split5', 'nh3_annot1', 'nh3_broad_annot1'\n",
       "     var: 'gene_ids', 'gene_symbols', 'highly_variable'\n",
       "     obsm: 'X_umap_hm', 'X_umap_bk'}"
      ]
     },
     "execution_count": 8,
     "metadata": {},
     "output_type": "execute_result"
    }
   ],
   "source": [
    "ads"
   ]
  },
  {
   "cell_type": "markdown",
   "metadata": {},
   "source": [
    "### Keratinocytes"
   ]
  },
  {
   "cell_type": "code",
   "execution_count": 9,
   "metadata": {},
   "outputs": [
    {
     "name": "stdout",
     "output_type": "stream",
     "text": [
      "WARNING: Your filename has more than two extensions: ['.keratinocytes', '.doublet_removed_processed', '.20200403', '.h5ad'].\n",
      "Only considering the two last: ['.20200403', '.h5ad'].\n",
      "WARNING: Your filename has more than two extensions: ['.keratinocytes', '.doublet_removed_processed', '.20200403', '.h5ad'].\n",
      "Only considering the two last: ['.20200403', '.h5ad'].\n"
     ]
    }
   ],
   "source": [
    "fKC_ad = sc.read('../20200403_post_annot3_cleanup/fetal_skin.keratinocytes.doublet_removed_processed.20200403.h5ad')"
   ]
  },
  {
   "cell_type": "code",
   "execution_count": 55,
   "metadata": {},
   "outputs": [],
   "source": [
    "fKC_ad.X = fKC_ad.raw.X"
   ]
  },
  {
   "cell_type": "code",
   "execution_count": 62,
   "metadata": {},
   "outputs": [
    {
     "data": {
      "text/plain": [
       "AnnData object with n_obs × n_vars = 1469 × 17905 \n",
       "    obs: 'bh_doublet_pval', 'cell_caller', 'cluster_scrublet_score', 'doublet_pval', 'mt_prop', 'n_counts', 'n_genes', 'sanger_id', 'scrublet_score', 'chemistry', 'donor', 'gender', 'pcw', 'sorting', 'sample', 'chemistry_sorting', 'annot', 'hierarchy1', 'rachel_annot1', 'percent_mito', 'percent_ribo', 'percent_hb', 'percent_top50', 'leiden_hm_r0_1', 'leiden_hm_r0_2', 'leiden_hm_r0_3', 'leiden_hm_r0_4', 'leiden_hm_r0_5', 'leiden_bk_r0_1', 'leiden_bk_r0_2', 'leiden_bk_r0_3', 'leiden_bk_r0_4', 'leiden_bk_r0_5', 'rachel_annot2', 'rachel_annot3'\n",
       "    var: 'gene_ids', 'cc', 'mito', 'ribo', 'hb', 'n_cells', 'highly_variable', 'means', 'dispersions', 'dispersions_norm', 'highly_variable_nbatches', 'highly_variable_intersection', 'hvg_full'\n",
       "    uns: 'leiden', 'neighbors', 'neighbors_bk', 'neighbors_hm', 'pca'\n",
       "    obsm: 'X_pca', 'X_pca_hm', 'X_umap_hm', 'X_umap_bk'\n",
       "    varm: 'PCs'"
      ]
     },
     "execution_count": 62,
     "metadata": {},
     "output_type": "execute_result"
    }
   ],
   "source": [
    "fKC_ad"
   ]
  },
  {
   "cell_type": "code",
   "execution_count": 66,
   "metadata": {},
   "outputs": [],
   "source": [
    "fKC_ad.obs = fKC_ad.obs[[\n",
    "    'sanger_id', 'chemistry_sorting', 'donor', 'gender', 'pcw', 'n_counts', 'n_genes', 'percent_mito', 'percent_ribo', 'percent_hb', 'percent_top50', 'rachel_annot3',\n",
    "]].rename(columns={'pcw': 'week'})"
   ]
  },
  {
   "cell_type": "code",
   "execution_count": 70,
   "metadata": {},
   "outputs": [],
   "source": [
    "ads['Keratinocytes'].obs = ads['Keratinocytes'].obs[[\n",
    "    'sample_id', 'batch', 'day', 'week', 'strain', 'n_counts', 'n_genes', 'percent_mito', 'percent_ribo', 'percent_hb', 'percent_top50', 'nh3_annot1'\n",
    "]]"
   ]
  },
  {
   "cell_type": "code",
   "execution_count": 85,
   "metadata": {},
   "outputs": [],
   "source": [
    "oKC_ad = ss.lib.subsample(ads['Keratinocytes'], groupby='nh3_annot1', fraction=0.1, min_n=200)"
   ]
  },
  {
   "cell_type": "code",
   "execution_count": 86,
   "metadata": {},
   "outputs": [],
   "source": [
    "kc_pooled = anndata.AnnData.concatenate(fKC_ad, oKC_ad, batch_key='dataset', batch_categories=['fetal_skin', 'organoid'])"
   ]
  },
  {
   "cell_type": "code",
   "execution_count": 91,
   "metadata": {},
   "outputs": [],
   "source": [
    "k_org = kc_pooled.obs.dataset=='organoid'"
   ]
  },
  {
   "cell_type": "code",
   "execution_count": 92,
   "metadata": {},
   "outputs": [],
   "source": [
    "kc_pooled.obs['annot'] = 'fsk_' + kc_pooled.obs['rachel_annot3'].astype(str)\n",
    "kc_pooled.obs.loc[k_org, 'annot'] = 'org_' + kc_pooled.obs.loc[k_org, 'nh3_annot1'].astype(str)\n",
    "kc_pooled.obs['annot'] = kc_pooled.obs['annot'].astype('category')"
   ]
  },
  {
   "cell_type": "code",
   "execution_count": 93,
   "metadata": {},
   "outputs": [],
   "source": [
    "kc_pooled.obs.loc[~k_org, 'batch'] = kc_pooled.obs.loc[~k_org, 'sanger_id'].values\n",
    "kc_pooled.obs['batch'] = kc_pooled.obs['batch'].astype('category')"
   ]
  },
  {
   "cell_type": "code",
   "execution_count": 94,
   "metadata": {},
   "outputs": [
    {
     "data": {
      "text/plain": [
       "v3_WA25           1000\n",
       "v3_DSP             914\n",
       "v2_WA25            413\n",
       "FCAImmP7964510     298\n",
       "v2_DSP             240\n",
       "FCAImmP7803042     231\n",
       "FCAImmP7803043     180\n",
       "FCAImmP7803026     148\n",
       "FCAImmP7803027     119\n",
       "FCAImmP7316897      94\n",
       "FCAImmP7964508      93\n",
       "FCAImmP7964509      89\n",
       "FCAImmP7555848      52\n",
       "FCAImmP7352191      43\n",
       "FCAImmP7316888      36\n",
       "FCAImmP7352190      28\n",
       "FCAImmP7803034      14\n",
       "FCAImmP7803024      13\n",
       "FCAImmP7964505      11\n",
       "FCAImmP7862096      11\n",
       "FCAImmP7862095       9\n",
       "Name: batch, dtype: int64"
      ]
     },
     "execution_count": 94,
     "metadata": {},
     "output_type": "execute_result"
    }
   ],
   "source": [
    "kc_pooled.obs.batch.value_counts()"
   ]
  },
  {
   "cell_type": "code",
   "execution_count": 74,
   "metadata": {},
   "outputs": [
    {
     "data": {
      "text/html": [
       "<div>\n",
       "<style scoped>\n",
       "    .dataframe tbody tr th:only-of-type {\n",
       "        vertical-align: middle;\n",
       "    }\n",
       "\n",
       "    .dataframe tbody tr th {\n",
       "        vertical-align: top;\n",
       "    }\n",
       "\n",
       "    .dataframe thead th {\n",
       "        text-align: right;\n",
       "    }\n",
       "</style>\n",
       "<table border=\"1\" class=\"dataframe\">\n",
       "  <thead>\n",
       "    <tr style=\"text-align: right;\">\n",
       "      <th></th>\n",
       "      <th>batch</th>\n",
       "      <th>chemistry_sorting</th>\n",
       "      <th>dataset</th>\n",
       "      <th>day</th>\n",
       "      <th>donor</th>\n",
       "      <th>gender</th>\n",
       "      <th>n_counts</th>\n",
       "      <th>n_genes</th>\n",
       "      <th>nh3_annot1</th>\n",
       "      <th>percent_hb</th>\n",
       "      <th>percent_mito</th>\n",
       "      <th>percent_ribo</th>\n",
       "      <th>percent_top50</th>\n",
       "      <th>rachel_annot3</th>\n",
       "      <th>sample_id</th>\n",
       "      <th>sanger_id</th>\n",
       "      <th>strain</th>\n",
       "      <th>week</th>\n",
       "      <th>annot</th>\n",
       "    </tr>\n",
       "  </thead>\n",
       "  <tbody>\n",
       "    <tr>\n",
       "      <th>AAAGTAGAGTATCGAA-1-FCAImmP7316888-fetal_skin</th>\n",
       "      <td>NaN</td>\n",
       "      <td>SC3Pv2_CD45N</td>\n",
       "      <td>fetal_skin</td>\n",
       "      <td>NaN</td>\n",
       "      <td>F33</td>\n",
       "      <td>female</td>\n",
       "      <td>15891.0</td>\n",
       "      <td>2870</td>\n",
       "      <td>NaN</td>\n",
       "      <td>0.018879</td>\n",
       "      <td>2.045183</td>\n",
       "      <td>54.080929</td>\n",
       "      <td>44.509471</td>\n",
       "      <td>Periderm</td>\n",
       "      <td>NaN</td>\n",
       "      <td>FCAImmP7316888</td>\n",
       "      <td>NaN</td>\n",
       "      <td>9</td>\n",
       "      <td>fsk_Periderm</td>\n",
       "    </tr>\n",
       "    <tr>\n",
       "      <th>AACCATGAGATTACCC-1-FCAImmP7316888-fetal_skin</th>\n",
       "      <td>NaN</td>\n",
       "      <td>SC3Pv2_CD45N</td>\n",
       "      <td>fetal_skin</td>\n",
       "      <td>NaN</td>\n",
       "      <td>F33</td>\n",
       "      <td>female</td>\n",
       "      <td>9631.0</td>\n",
       "      <td>2614</td>\n",
       "      <td>NaN</td>\n",
       "      <td>0.020766</td>\n",
       "      <td>2.959194</td>\n",
       "      <td>35.011940</td>\n",
       "      <td>34.575849</td>\n",
       "      <td>Periderm</td>\n",
       "      <td>NaN</td>\n",
       "      <td>FCAImmP7316888</td>\n",
       "      <td>NaN</td>\n",
       "      <td>9</td>\n",
       "      <td>fsk_Periderm</td>\n",
       "    </tr>\n",
       "    <tr>\n",
       "      <th>ACCTTTAGTTCCACAA-1-FCAImmP7316888-fetal_skin</th>\n",
       "      <td>NaN</td>\n",
       "      <td>SC3Pv2_CD45N</td>\n",
       "      <td>fetal_skin</td>\n",
       "      <td>NaN</td>\n",
       "      <td>F33</td>\n",
       "      <td>female</td>\n",
       "      <td>5422.0</td>\n",
       "      <td>1885</td>\n",
       "      <td>NaN</td>\n",
       "      <td>0.018443</td>\n",
       "      <td>3.430469</td>\n",
       "      <td>30.616009</td>\n",
       "      <td>34.267798</td>\n",
       "      <td>Periderm</td>\n",
       "      <td>NaN</td>\n",
       "      <td>FCAImmP7316888</td>\n",
       "      <td>NaN</td>\n",
       "      <td>9</td>\n",
       "      <td>fsk_Periderm</td>\n",
       "    </tr>\n",
       "    <tr>\n",
       "      <th>AGAGTGGTCGAACTGT-1-FCAImmP7316888-fetal_skin</th>\n",
       "      <td>NaN</td>\n",
       "      <td>SC3Pv2_CD45N</td>\n",
       "      <td>fetal_skin</td>\n",
       "      <td>NaN</td>\n",
       "      <td>F33</td>\n",
       "      <td>female</td>\n",
       "      <td>3173.0</td>\n",
       "      <td>1198</td>\n",
       "      <td>NaN</td>\n",
       "      <td>0.000000</td>\n",
       "      <td>1.922471</td>\n",
       "      <td>38.985188</td>\n",
       "      <td>33.217775</td>\n",
       "      <td>Periderm</td>\n",
       "      <td>NaN</td>\n",
       "      <td>FCAImmP7316888</td>\n",
       "      <td>NaN</td>\n",
       "      <td>9</td>\n",
       "      <td>fsk_Periderm</td>\n",
       "    </tr>\n",
       "    <tr>\n",
       "      <th>AGCGTCGTCAGAGCTT-1-FCAImmP7316888-fetal_skin</th>\n",
       "      <td>NaN</td>\n",
       "      <td>SC3Pv2_CD45N</td>\n",
       "      <td>fetal_skin</td>\n",
       "      <td>NaN</td>\n",
       "      <td>F33</td>\n",
       "      <td>female</td>\n",
       "      <td>5515.0</td>\n",
       "      <td>1528</td>\n",
       "      <td>NaN</td>\n",
       "      <td>0.000000</td>\n",
       "      <td>1.831369</td>\n",
       "      <td>47.978241</td>\n",
       "      <td>41.233001</td>\n",
       "      <td>Periderm</td>\n",
       "      <td>NaN</td>\n",
       "      <td>FCAImmP7316888</td>\n",
       "      <td>NaN</td>\n",
       "      <td>9</td>\n",
       "      <td>fsk_Periderm</td>\n",
       "    </tr>\n",
       "  </tbody>\n",
       "</table>\n",
       "</div>"
      ],
      "text/plain": [
       "                                             batch chemistry_sorting  \\\n",
       "AAAGTAGAGTATCGAA-1-FCAImmP7316888-fetal_skin   NaN      SC3Pv2_CD45N   \n",
       "AACCATGAGATTACCC-1-FCAImmP7316888-fetal_skin   NaN      SC3Pv2_CD45N   \n",
       "ACCTTTAGTTCCACAA-1-FCAImmP7316888-fetal_skin   NaN      SC3Pv2_CD45N   \n",
       "AGAGTGGTCGAACTGT-1-FCAImmP7316888-fetal_skin   NaN      SC3Pv2_CD45N   \n",
       "AGCGTCGTCAGAGCTT-1-FCAImmP7316888-fetal_skin   NaN      SC3Pv2_CD45N   \n",
       "\n",
       "                                                 dataset  day donor  gender  \\\n",
       "AAAGTAGAGTATCGAA-1-FCAImmP7316888-fetal_skin  fetal_skin  NaN   F33  female   \n",
       "AACCATGAGATTACCC-1-FCAImmP7316888-fetal_skin  fetal_skin  NaN   F33  female   \n",
       "ACCTTTAGTTCCACAA-1-FCAImmP7316888-fetal_skin  fetal_skin  NaN   F33  female   \n",
       "AGAGTGGTCGAACTGT-1-FCAImmP7316888-fetal_skin  fetal_skin  NaN   F33  female   \n",
       "AGCGTCGTCAGAGCTT-1-FCAImmP7316888-fetal_skin  fetal_skin  NaN   F33  female   \n",
       "\n",
       "                                              n_counts  n_genes nh3_annot1  \\\n",
       "AAAGTAGAGTATCGAA-1-FCAImmP7316888-fetal_skin   15891.0     2870        NaN   \n",
       "AACCATGAGATTACCC-1-FCAImmP7316888-fetal_skin    9631.0     2614        NaN   \n",
       "ACCTTTAGTTCCACAA-1-FCAImmP7316888-fetal_skin    5422.0     1885        NaN   \n",
       "AGAGTGGTCGAACTGT-1-FCAImmP7316888-fetal_skin    3173.0     1198        NaN   \n",
       "AGCGTCGTCAGAGCTT-1-FCAImmP7316888-fetal_skin    5515.0     1528        NaN   \n",
       "\n",
       "                                              percent_hb  percent_mito  \\\n",
       "AAAGTAGAGTATCGAA-1-FCAImmP7316888-fetal_skin    0.018879      2.045183   \n",
       "AACCATGAGATTACCC-1-FCAImmP7316888-fetal_skin    0.020766      2.959194   \n",
       "ACCTTTAGTTCCACAA-1-FCAImmP7316888-fetal_skin    0.018443      3.430469   \n",
       "AGAGTGGTCGAACTGT-1-FCAImmP7316888-fetal_skin    0.000000      1.922471   \n",
       "AGCGTCGTCAGAGCTT-1-FCAImmP7316888-fetal_skin    0.000000      1.831369   \n",
       "\n",
       "                                              percent_ribo  percent_top50  \\\n",
       "AAAGTAGAGTATCGAA-1-FCAImmP7316888-fetal_skin     54.080929      44.509471   \n",
       "AACCATGAGATTACCC-1-FCAImmP7316888-fetal_skin     35.011940      34.575849   \n",
       "ACCTTTAGTTCCACAA-1-FCAImmP7316888-fetal_skin     30.616009      34.267798   \n",
       "AGAGTGGTCGAACTGT-1-FCAImmP7316888-fetal_skin     38.985188      33.217775   \n",
       "AGCGTCGTCAGAGCTT-1-FCAImmP7316888-fetal_skin     47.978241      41.233001   \n",
       "\n",
       "                                             rachel_annot3 sample_id  \\\n",
       "AAAGTAGAGTATCGAA-1-FCAImmP7316888-fetal_skin      Periderm       NaN   \n",
       "AACCATGAGATTACCC-1-FCAImmP7316888-fetal_skin      Periderm       NaN   \n",
       "ACCTTTAGTTCCACAA-1-FCAImmP7316888-fetal_skin      Periderm       NaN   \n",
       "AGAGTGGTCGAACTGT-1-FCAImmP7316888-fetal_skin      Periderm       NaN   \n",
       "AGCGTCGTCAGAGCTT-1-FCAImmP7316888-fetal_skin      Periderm       NaN   \n",
       "\n",
       "                                                   sanger_id strain week  \\\n",
       "AAAGTAGAGTATCGAA-1-FCAImmP7316888-fetal_skin  FCAImmP7316888    NaN    9   \n",
       "AACCATGAGATTACCC-1-FCAImmP7316888-fetal_skin  FCAImmP7316888    NaN    9   \n",
       "ACCTTTAGTTCCACAA-1-FCAImmP7316888-fetal_skin  FCAImmP7316888    NaN    9   \n",
       "AGAGTGGTCGAACTGT-1-FCAImmP7316888-fetal_skin  FCAImmP7316888    NaN    9   \n",
       "AGCGTCGTCAGAGCTT-1-FCAImmP7316888-fetal_skin  FCAImmP7316888    NaN    9   \n",
       "\n",
       "                                                     annot  \n",
       "AAAGTAGAGTATCGAA-1-FCAImmP7316888-fetal_skin  fsk_Periderm  \n",
       "AACCATGAGATTACCC-1-FCAImmP7316888-fetal_skin  fsk_Periderm  \n",
       "ACCTTTAGTTCCACAA-1-FCAImmP7316888-fetal_skin  fsk_Periderm  \n",
       "AGAGTGGTCGAACTGT-1-FCAImmP7316888-fetal_skin  fsk_Periderm  \n",
       "AGCGTCGTCAGAGCTT-1-FCAImmP7316888-fetal_skin  fsk_Periderm  "
      ]
     },
     "execution_count": 74,
     "metadata": {},
     "output_type": "execute_result"
    }
   ],
   "source": [
    "kc_pooled.obs.head()"
   ]
  },
  {
   "cell_type": "code",
   "execution_count": 95,
   "metadata": {},
   "outputs": [
    {
     "data": {
      "text/plain": [
       "AnnData object with n_obs × n_vars = 4036 × 15277 \n",
       "    obs: 'batch', 'chemistry_sorting', 'dataset', 'day', 'donor', 'gender', 'n_counts', 'n_genes', 'nh3_annot1', 'percent_hb', 'percent_mito', 'percent_ribo', 'percent_top50', 'rachel_annot3', 'sample_id', 'sanger_id', 'strain', 'week', 'annot', 'leiden_hm_r0_1', 'leiden_hm_r0_3', 'leiden_hm_r0_5', 'leiden_hm_r0_7', 'leiden_hm_r0_9'\n",
       "    var: 'gene_ids-fetal_skin', 'cc-fetal_skin', 'mito-fetal_skin', 'ribo-fetal_skin', 'hb-fetal_skin', 'n_cells-fetal_skin', 'highly_variable-fetal_skin', 'means-fetal_skin', 'dispersions-fetal_skin', 'dispersions_norm-fetal_skin', 'highly_variable_nbatches-fetal_skin', 'highly_variable_intersection-fetal_skin', 'hvg_full-fetal_skin', 'gene_ids-organoid', 'gene_symbols-organoid', 'highly_variable-organoid', 'highly_variable', 'means', 'dispersions', 'dispersions_norm'\n",
       "    uns: 'pca', 'neighbors_hm', 'neighbors', 'leiden'\n",
       "    obsm: 'X_pca', 'X_pca_hm', 'X_umap_hm'\n",
       "    varm: 'PCs'"
      ]
     },
     "execution_count": 95,
     "metadata": {},
     "output_type": "execute_result"
    }
   ],
   "source": [
    "ss.lib.simple_default_pipeline(kc_pooled, post_norm_only=True, batch='batch')"
   ]
  },
  {
   "cell_type": "code",
   "execution_count": 103,
   "metadata": {},
   "outputs": [
    {
     "data": {
      "text/plain": [
       "AnnData object with n_obs × n_vars = 4036 × 15277 \n",
       "    obs: 'batch', 'chemistry_sorting', 'dataset', 'day', 'donor', 'gender', 'n_counts', 'n_genes', 'nh3_annot1', 'percent_hb', 'percent_mito', 'percent_ribo', 'percent_top50', 'rachel_annot3', 'sample_id', 'sanger_id', 'strain', 'week', 'annot', 'leiden_hm_r0_1', 'leiden_hm_r0_3', 'leiden_hm_r0_5', 'leiden_hm_r0_7', 'leiden_hm_r0_9'\n",
       "    var: 'gene_ids-fetal_skin', 'cc-fetal_skin', 'mito-fetal_skin', 'ribo-fetal_skin', 'hb-fetal_skin', 'n_cells-fetal_skin', 'highly_variable-fetal_skin', 'means-fetal_skin', 'dispersions-fetal_skin', 'dispersions_norm-fetal_skin', 'highly_variable_nbatches-fetal_skin', 'highly_variable_intersection-fetal_skin', 'hvg_full-fetal_skin', 'gene_ids-organoid', 'gene_symbols-organoid', 'highly_variable-organoid', 'highly_variable', 'means', 'dispersions', 'dispersions_norm'\n",
       "    uns: 'pca', 'neighbors_hm', 'leiden', 'annot_colors', 'neighbors'\n",
       "    obsm: 'X_pca', 'X_pca_hm', 'X_umap_hm'\n",
       "    varm: 'PCs'"
      ]
     },
     "execution_count": 103,
     "metadata": {},
     "output_type": "execute_result"
    }
   ],
   "source": [
    "ss.lib.simple_default_pipeline(kc_pooled, post_pca_only=True, batch=['dataset', 'batch'])"
   ]
  },
  {
   "cell_type": "code",
   "execution_count": null,
   "metadata": {},
   "outputs": [],
   "source": [
    "ss.lib.plot_embedding(kc_pooled, basis='umap_hm', groupby='annot', figsize=(6,6))"
   ]
  },
  {
   "cell_type": "code",
   "execution_count": 118,
   "metadata": {},
   "outputs": [
    {
     "data": {
      "text/plain": [
       "[fsk_Periderm, fsk_Early KC (stem cell?), fsk_Suprabasal, fsk_Hair follicle?, fsk_Basal KC, org_HF Basal KC, org_Suprabasal KC, org_Basal KC, org_Peridermal KC, org_Basal stem-like KC]\n",
       "Categories (10, object): [fsk_Periderm, fsk_Early KC (stem cell?), fsk_Suprabasal, fsk_Hair follicle?, ..., org_Suprabasal KC, org_Basal KC, org_Peridermal KC, org_Basal stem-like KC]"
      ]
     },
     "execution_count": 118,
     "metadata": {},
     "output_type": "execute_result"
    }
   ],
   "source": [
    "kc_pooled.obs['annot'].unique()"
   ]
  },
  {
   "cell_type": "code",
   "execution_count": null,
   "metadata": {},
   "outputs": [],
   "source": [
    "ss.lib.highlight(kc_pooled, basis='umap_hm', groupby='annot', groups={\n",
    "    'fetal skin': ['fsk_Periderm', 'fsk_Early KC (stem cell?)', 'fsk_Basal KC', 'fsk_Hair follicle?', 'fsk_Suprabasal'],\n",
    "    'organoid': ['org_Peridermal KC', 'org_Basal stem-like KC', 'org_Basal KC', 'org_HF Basal KC', 'org_Suprabasal KC']\n",
    "}, wspace=0.6, figsize=((4,4)))"
   ]
  },
  {
   "cell_type": "code",
   "execution_count": null,
   "metadata": {},
   "outputs": [],
   "source": [
    "ss.lib.set_figsize((4,4))\n",
    "ss.lib.plot_scatter(kc_pooled, basis='umap_hm', color=['dataset', 'batch'], ncols=6, wspace=0.5)"
   ]
  },
  {
   "cell_type": "code",
   "execution_count": null,
   "metadata": {},
   "outputs": [],
   "source": [
    "ss.lib.set_figsize((4,4))\n",
    "ss.lib.plot_scatter(kc_pooled, basis='umap_hm', color=['week'], ncols=6, wspace=0.5, palette='viridis')"
   ]
  },
  {
   "cell_type": "code",
   "execution_count": null,
   "metadata": {},
   "outputs": [],
   "source": [
    "ss.lib.set_figsize((3.5,3.5))\n",
    "ss.lib.plot_scatter(kc_pooled, basis='umap_hm', color=['KRT4', 'SOX6', 'KRT14', 'KRT85', 'KRT1', 'CDK1', 'PRRX1'], ncols=7, color_map=expr_cmap)"
   ]
  },
  {
   "cell_type": "code",
   "execution_count": 169,
   "metadata": {},
   "outputs": [],
   "source": [
    "kc_pooled = sc.read('pooled_keratinocytes.processed.h5ad')"
   ]
  },
  {
   "cell_type": "code",
   "execution_count": 176,
   "metadata": {},
   "outputs": [],
   "source": [
    "ss.lib.clear_colors(kc_pooled)\n",
    "kc_pooled.write('pooled_keratinocytes.processed.h5ad', compression='lzf')"
   ]
  },
  {
   "cell_type": "code",
   "execution_count": null,
   "metadata": {},
   "outputs": [],
   "source": []
  }
 ],
 "metadata": {
  "kernelspec": {
   "display_name": "Python 3",
   "language": "python",
   "name": "python3"
  },
  "language_info": {
   "codemirror_mode": {
    "name": "ipython",
    "version": 3
   },
   "file_extension": ".py",
   "mimetype": "text/x-python",
   "name": "python",
   "nbconvert_exporter": "python",
   "pygments_lexer": "ipython3",
   "version": "3.7.3"
  }
 },
 "nbformat": 4,
 "nbformat_minor": 4
}
