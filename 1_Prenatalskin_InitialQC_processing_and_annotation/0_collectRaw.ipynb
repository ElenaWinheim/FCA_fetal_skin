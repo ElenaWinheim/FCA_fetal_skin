{
 "cells": [
  {
   "cell_type": "markdown",
   "metadata": {},
   "source": [
    "# Import and settings"
   ]
  },
  {
   "cell_type": "code",
   "execution_count": 1,
   "metadata": {
    "execution": {
     "iopub.execute_input": "2022-11-03T13:15:18.337664Z",
     "iopub.status.busy": "2022-11-03T13:15:18.337007Z",
     "iopub.status.idle": "2022-11-03T13:15:19.351110Z",
     "shell.execute_reply": "2022-11-03T13:15:19.349510Z",
     "shell.execute_reply.started": "2022-11-03T13:15:18.337499Z"
    },
    "tags": []
   },
   "outputs": [],
   "source": [
    "%load_ext autoreload\n",
    "%autoreload 2\n",
    "%matplotlib inline"
   ]
  },
  {
   "cell_type": "code",
   "execution_count": 2,
   "metadata": {
    "execution": {
     "iopub.execute_input": "2022-11-03T13:15:19.353810Z",
     "iopub.status.busy": "2022-11-03T13:15:19.353522Z",
     "iopub.status.idle": "2022-11-03T13:15:25.039806Z",
     "shell.execute_reply": "2022-11-03T13:15:25.039019Z",
     "shell.execute_reply.started": "2022-11-03T13:15:19.353778Z"
    },
    "tags": []
   },
   "outputs": [
    {
     "name": "stderr",
     "output_type": "stream",
     "text": [
      "/nfs/team205/nh3/miniconda2/envs/scanpy-new/lib/python3.8/site-packages/sklearn/utils/deprecation.py:143: FutureWarning: The sklearn.utils.testing module is  deprecated in version 0.22 and will be removed in version 0.24. The corresponding classes / functions should instead be imported from sklearn.utils. Anything that cannot be imported from sklearn.utils is now part of the private API.\n",
      "  warnings.warn(message, FutureWarning)\n"
     ]
    }
   ],
   "source": [
    "import os, sys, joblib, gc\n",
    "import numpy as np\n",
    "import pandas as pd\n",
    "import matplotlib.pyplot as plt\n",
    "from matplotlib import rcParams\n",
    "import anndata\n",
    "import scanpy as sc\n",
    "import sctk as sk\n",
    "import scrublet\n",
    "\n",
    "expr_cmap = sk.expression_colormap()\n",
    "np.set_printoptions(linewidth=180)\n",
    "sc.settings.verbosity = 1"
   ]
  },
  {
   "cell_type": "markdown",
   "metadata": {},
   "source": [
    "# Load data"
   ]
  },
  {
   "cell_type": "markdown",
   "metadata": {},
   "source": [
    "## Read metadata"
   ]
  },
  {
   "cell_type": "code",
   "execution_count": 3,
   "metadata": {
    "execution": {
     "iopub.execute_input": "2022-11-03T13:15:40.762165Z",
     "iopub.status.busy": "2022-11-03T13:15:40.761685Z",
     "iopub.status.idle": "2022-11-03T13:15:40.805259Z",
     "shell.execute_reply": "2022-11-03T13:15:40.804290Z",
     "shell.execute_reply.started": "2022-11-03T13:15:40.762115Z"
    },
    "tags": []
   },
   "outputs": [],
   "source": [
    "METADATA_TSV = \"../data/misc/fetal_skin_samples.txt\"\n",
    "RACHEL19_ANNOT_TSV = \"../data/misc/fetal_annotation_rachel-201904.txt\""
   ]
  },
  {
   "cell_type": "code",
   "execution_count": 4,
   "metadata": {
    "execution": {
     "iopub.execute_input": "2022-11-03T12:12:06.648054Z",
     "iopub.status.busy": "2022-11-03T12:12:06.647578Z",
     "iopub.status.idle": "2022-11-03T12:12:06.697562Z",
     "shell.execute_reply": "2022-11-03T12:12:06.696374Z",
     "shell.execute_reply.started": "2022-11-03T12:12:06.648004Z"
    },
    "tags": []
   },
   "outputs": [],
   "source": [
    "df = pd.read_csv(METADATA_TSV, sep=\"\\t\")"
   ]
  },
  {
   "cell_type": "code",
   "execution_count": 5,
   "metadata": {
    "execution": {
     "iopub.execute_input": "2022-11-03T12:12:07.155934Z",
     "iopub.status.busy": "2022-11-03T12:12:07.155613Z",
     "iopub.status.idle": "2022-11-03T12:12:07.232510Z",
     "shell.execute_reply": "2022-11-03T12:12:07.231567Z",
     "shell.execute_reply.started": "2022-11-03T12:12:07.155902Z"
    },
    "tags": []
   },
   "outputs": [
    {
     "data": {
      "text/html": [
       "<div>\n",
       "<style scoped>\n",
       "    .dataframe tbody tr th:only-of-type {\n",
       "        vertical-align: middle;\n",
       "    }\n",
       "\n",
       "    .dataframe tbody tr th {\n",
       "        vertical-align: top;\n",
       "    }\n",
       "\n",
       "    .dataframe thead th {\n",
       "        text-align: right;\n",
       "    }\n",
       "</style>\n",
       "<table border=\"1\" class=\"dataframe\">\n",
       "  <thead>\n",
       "    <tr style=\"text-align: right;\">\n",
       "      <th></th>\n",
       "      <th>sanger_id</th>\n",
       "      <th>chemistry</th>\n",
       "      <th>donor</th>\n",
       "      <th>gender</th>\n",
       "      <th>pcw</th>\n",
       "      <th>sorting</th>\n",
       "      <th>sample</th>\n",
       "    </tr>\n",
       "  </thead>\n",
       "  <tbody>\n",
       "    <tr>\n",
       "      <th>0</th>\n",
       "      <td>4834STDY7002871</td>\n",
       "      <td>SC3Pv2</td>\n",
       "      <td>F15</td>\n",
       "      <td>male</td>\n",
       "      <td>12</td>\n",
       "      <td>CD45P</td>\n",
       "      <td>F15_male_12+0PCW</td>\n",
       "    </tr>\n",
       "    <tr>\n",
       "      <th>1</th>\n",
       "      <td>4834STDY7002872</td>\n",
       "      <td>SC3Pv2</td>\n",
       "      <td>F15</td>\n",
       "      <td>male</td>\n",
       "      <td>12</td>\n",
       "      <td>CD45N</td>\n",
       "      <td>F15_male_12+0PCW</td>\n",
       "    </tr>\n",
       "    <tr>\n",
       "      <th>2</th>\n",
       "      <td>4834STDY7002879</td>\n",
       "      <td>SC3Pv2</td>\n",
       "      <td>F16</td>\n",
       "      <td>male</td>\n",
       "      <td>8</td>\n",
       "      <td>CD45P</td>\n",
       "      <td>F16_male_8+1PCW</td>\n",
       "    </tr>\n",
       "    <tr>\n",
       "      <th>3</th>\n",
       "      <td>4834STDY7002880</td>\n",
       "      <td>SC3Pv2</td>\n",
       "      <td>F16</td>\n",
       "      <td>male</td>\n",
       "      <td>8</td>\n",
       "      <td>CD45N</td>\n",
       "      <td>F16_male_8+1PCW</td>\n",
       "    </tr>\n",
       "    <tr>\n",
       "      <th>4</th>\n",
       "      <td>4834STDY7002883</td>\n",
       "      <td>SC3Pv2</td>\n",
       "      <td>F17</td>\n",
       "      <td>male</td>\n",
       "      <td>9</td>\n",
       "      <td>Total</td>\n",
       "      <td>F17_male_9+1PCW</td>\n",
       "    </tr>\n",
       "    <tr>\n",
       "      <th>5</th>\n",
       "      <td>4834STDY7038752</td>\n",
       "      <td>SC3Pv2</td>\n",
       "      <td>F17</td>\n",
       "      <td>male</td>\n",
       "      <td>9</td>\n",
       "      <td>CD45P</td>\n",
       "      <td>F17_male_9+1PCW</td>\n",
       "    </tr>\n",
       "    <tr>\n",
       "      <th>6</th>\n",
       "      <td>4834STDY7038753</td>\n",
       "      <td>SC3Pv2</td>\n",
       "      <td>F17</td>\n",
       "      <td>male</td>\n",
       "      <td>9</td>\n",
       "      <td>CD45N</td>\n",
       "      <td>F17_male_9+1PCW</td>\n",
       "    </tr>\n",
       "    <tr>\n",
       "      <th>7</th>\n",
       "      <td>FCAImmP7241240</td>\n",
       "      <td>SC3Pv2</td>\n",
       "      <td>F19</td>\n",
       "      <td>female</td>\n",
       "      <td>10</td>\n",
       "      <td>CD45P</td>\n",
       "      <td>F19_female_10+2PCW</td>\n",
       "    </tr>\n",
       "    <tr>\n",
       "      <th>8</th>\n",
       "      <td>FCAImmP7241241</td>\n",
       "      <td>SC3Pv2</td>\n",
       "      <td>F19</td>\n",
       "      <td>female</td>\n",
       "      <td>10</td>\n",
       "      <td>CD45N</td>\n",
       "      <td>F19_female_10+2PCW</td>\n",
       "    </tr>\n",
       "    <tr>\n",
       "      <th>9</th>\n",
       "      <td>FCAImmP7316886</td>\n",
       "      <td>SC3Pv2</td>\n",
       "      <td>F33</td>\n",
       "      <td>female</td>\n",
       "      <td>9</td>\n",
       "      <td>CD45P</td>\n",
       "      <td>F33_female_9+5PCW</td>\n",
       "    </tr>\n",
       "    <tr>\n",
       "      <th>10</th>\n",
       "      <td>FCAImmP7316887</td>\n",
       "      <td>SC3Pv2</td>\n",
       "      <td>F33</td>\n",
       "      <td>female</td>\n",
       "      <td>9</td>\n",
       "      <td>CD45P</td>\n",
       "      <td>F33_female_9+5PCW</td>\n",
       "    </tr>\n",
       "    <tr>\n",
       "      <th>11</th>\n",
       "      <td>FCAImmP7316888</td>\n",
       "      <td>SC3Pv2</td>\n",
       "      <td>F33</td>\n",
       "      <td>female</td>\n",
       "      <td>9</td>\n",
       "      <td>CD45N</td>\n",
       "      <td>F33_female_9+5PCW</td>\n",
       "    </tr>\n",
       "    <tr>\n",
       "      <th>12</th>\n",
       "      <td>FCAImmP7316896</td>\n",
       "      <td>SC3Pv2</td>\n",
       "      <td>F32</td>\n",
       "      <td>female</td>\n",
       "      <td>7</td>\n",
       "      <td>CD45P</td>\n",
       "      <td>F32_female_7+6PCW</td>\n",
       "    </tr>\n",
       "    <tr>\n",
       "      <th>13</th>\n",
       "      <td>FCAImmP7316897</td>\n",
       "      <td>SC3Pv2</td>\n",
       "      <td>F32</td>\n",
       "      <td>female</td>\n",
       "      <td>7</td>\n",
       "      <td>CD45N</td>\n",
       "      <td>F32_female_7+6PCW</td>\n",
       "    </tr>\n",
       "    <tr>\n",
       "      <th>14</th>\n",
       "      <td>FCAImmP7352189</td>\n",
       "      <td>SC3Pv2</td>\n",
       "      <td>F34</td>\n",
       "      <td>female</td>\n",
       "      <td>8</td>\n",
       "      <td>CD45P</td>\n",
       "      <td>F34_female_8+1PCW</td>\n",
       "    </tr>\n",
       "    <tr>\n",
       "      <th>15</th>\n",
       "      <td>FCAImmP7352190</td>\n",
       "      <td>SC3Pv2</td>\n",
       "      <td>F34</td>\n",
       "      <td>female</td>\n",
       "      <td>8</td>\n",
       "      <td>CD45N</td>\n",
       "      <td>F34_female_8+1PCW</td>\n",
       "    </tr>\n",
       "    <tr>\n",
       "      <th>16</th>\n",
       "      <td>FCAImmP7352191</td>\n",
       "      <td>SC3Pv2</td>\n",
       "      <td>F34</td>\n",
       "      <td>female</td>\n",
       "      <td>8</td>\n",
       "      <td>CD45N</td>\n",
       "      <td>F34_female_8+1PCW</td>\n",
       "    </tr>\n",
       "    <tr>\n",
       "      <th>17</th>\n",
       "      <td>FCAImmP7462240</td>\n",
       "      <td>SC3Pv2</td>\n",
       "      <td>F35</td>\n",
       "      <td>female</td>\n",
       "      <td>7</td>\n",
       "      <td>CD45P</td>\n",
       "      <td>F35_female_7+6PCW</td>\n",
       "    </tr>\n",
       "    <tr>\n",
       "      <th>18</th>\n",
       "      <td>FCAImmP7462241</td>\n",
       "      <td>SC3Pv2</td>\n",
       "      <td>F35</td>\n",
       "      <td>female</td>\n",
       "      <td>7</td>\n",
       "      <td>CD45N</td>\n",
       "      <td>F35_female_7+6PCW</td>\n",
       "    </tr>\n",
       "    <tr>\n",
       "      <th>19</th>\n",
       "      <td>FCAImmP7528290</td>\n",
       "      <td>SC3Pv2</td>\n",
       "      <td>F38</td>\n",
       "      <td>male</td>\n",
       "      <td>12</td>\n",
       "      <td>CD45P</td>\n",
       "      <td>F38_male_12PCW</td>\n",
       "    </tr>\n",
       "    <tr>\n",
       "      <th>20</th>\n",
       "      <td>FCAImmP7528291</td>\n",
       "      <td>SC3Pv2</td>\n",
       "      <td>F38</td>\n",
       "      <td>male</td>\n",
       "      <td>12</td>\n",
       "      <td>CD45N</td>\n",
       "      <td>F38_male_12PCW</td>\n",
       "    </tr>\n",
       "    <tr>\n",
       "      <th>21</th>\n",
       "      <td>FCAImmP7528296</td>\n",
       "      <td>SC3Pv2</td>\n",
       "      <td>F38</td>\n",
       "      <td>male</td>\n",
       "      <td>12</td>\n",
       "      <td>CD45P</td>\n",
       "      <td>F38_male_12PCW</td>\n",
       "    </tr>\n",
       "    <tr>\n",
       "      <th>22</th>\n",
       "      <td>FCAImmP7555848</td>\n",
       "      <td>SC3Pv2</td>\n",
       "      <td>F41</td>\n",
       "      <td>female</td>\n",
       "      <td>16</td>\n",
       "      <td>CD45N</td>\n",
       "      <td>F41_female_16PCW</td>\n",
       "    </tr>\n",
       "    <tr>\n",
       "      <th>23</th>\n",
       "      <td>FCAImmP7555858</td>\n",
       "      <td>SC3Pv2</td>\n",
       "      <td>F41</td>\n",
       "      <td>female</td>\n",
       "      <td>16</td>\n",
       "      <td>CD45P</td>\n",
       "      <td>F41_female_16PCW</td>\n",
       "    </tr>\n",
       "    <tr>\n",
       "      <th>24</th>\n",
       "      <td>FCAImmP7579212</td>\n",
       "      <td>SC3Pv2</td>\n",
       "      <td>F45</td>\n",
       "      <td>female</td>\n",
       "      <td>13</td>\n",
       "      <td>CD45P</td>\n",
       "      <td>F45_female_13+6PCW</td>\n",
       "    </tr>\n",
       "    <tr>\n",
       "      <th>25</th>\n",
       "      <td>FCAImmP7579213</td>\n",
       "      <td>SC3Pv2</td>\n",
       "      <td>F45</td>\n",
       "      <td>female</td>\n",
       "      <td>13</td>\n",
       "      <td>CD45N</td>\n",
       "      <td>F45_female_13+6PCW</td>\n",
       "    </tr>\n",
       "    <tr>\n",
       "      <th>26</th>\n",
       "      <td>FCAImmP7579224</td>\n",
       "      <td>SC5P-R2</td>\n",
       "      <td>F45</td>\n",
       "      <td>female</td>\n",
       "      <td>13</td>\n",
       "      <td>CD45P</td>\n",
       "      <td>F45_female_13+6PCW</td>\n",
       "    </tr>\n",
       "    <tr>\n",
       "      <th>27</th>\n",
       "      <td>FCAImmP7803024</td>\n",
       "      <td>SC5P-R2</td>\n",
       "      <td>F50</td>\n",
       "      <td>female</td>\n",
       "      <td>15</td>\n",
       "      <td>CD45P</td>\n",
       "      <td>F50_SK_CD45P_5</td>\n",
       "    </tr>\n",
       "    <tr>\n",
       "      <th>28</th>\n",
       "      <td>FCAImmP7803025</td>\n",
       "      <td>SC5P-R2</td>\n",
       "      <td>F50</td>\n",
       "      <td>female</td>\n",
       "      <td>15</td>\n",
       "      <td>CD45P</td>\n",
       "      <td>F50_SK_CD45P_6</td>\n",
       "    </tr>\n",
       "    <tr>\n",
       "      <th>29</th>\n",
       "      <td>FCAImmP7803026</td>\n",
       "      <td>SC5P-R2</td>\n",
       "      <td>F50</td>\n",
       "      <td>female</td>\n",
       "      <td>15</td>\n",
       "      <td>CD45N</td>\n",
       "      <td>F50_SK_CD45N_1</td>\n",
       "    </tr>\n",
       "    <tr>\n",
       "      <th>30</th>\n",
       "      <td>FCAImmP7803027</td>\n",
       "      <td>SC5P-R2</td>\n",
       "      <td>F50</td>\n",
       "      <td>female</td>\n",
       "      <td>15</td>\n",
       "      <td>CD45N</td>\n",
       "      <td>F50_SK_CD45N_2</td>\n",
       "    </tr>\n",
       "    <tr>\n",
       "      <th>31</th>\n",
       "      <td>FCAImmP7803034</td>\n",
       "      <td>SC5P-R2</td>\n",
       "      <td>F51</td>\n",
       "      <td>female</td>\n",
       "      <td>15</td>\n",
       "      <td>CD45P</td>\n",
       "      <td>F51_SK_CD45P_5</td>\n",
       "    </tr>\n",
       "    <tr>\n",
       "      <th>32</th>\n",
       "      <td>FCAImmP7803035</td>\n",
       "      <td>SC5P-R2</td>\n",
       "      <td>F51</td>\n",
       "      <td>female</td>\n",
       "      <td>15</td>\n",
       "      <td>CD45P</td>\n",
       "      <td>F51_SK_CD45P_6</td>\n",
       "    </tr>\n",
       "    <tr>\n",
       "      <th>33</th>\n",
       "      <td>FCAImmP7803042</td>\n",
       "      <td>SC5P-R2</td>\n",
       "      <td>F51</td>\n",
       "      <td>female</td>\n",
       "      <td>15</td>\n",
       "      <td>CD45N</td>\n",
       "      <td>F51_SK_CD45N_1</td>\n",
       "    </tr>\n",
       "    <tr>\n",
       "      <th>34</th>\n",
       "      <td>FCAImmP7803043</td>\n",
       "      <td>SC5P-R2</td>\n",
       "      <td>F51</td>\n",
       "      <td>female</td>\n",
       "      <td>15</td>\n",
       "      <td>CD45N</td>\n",
       "      <td>F51_SK_CD45N_2</td>\n",
       "    </tr>\n",
       "    <tr>\n",
       "      <th>35</th>\n",
       "      <td>FCAImmP7812645</td>\n",
       "      <td>SC5P-R2-VDJ</td>\n",
       "      <td>F50</td>\n",
       "      <td>female</td>\n",
       "      <td>15</td>\n",
       "      <td>CD45P</td>\n",
       "      <td>F50_SK_CD45P_1</td>\n",
       "    </tr>\n",
       "    <tr>\n",
       "      <th>36</th>\n",
       "      <td>FCAImmP7812646</td>\n",
       "      <td>SC5P-R2-VDJ</td>\n",
       "      <td>F50</td>\n",
       "      <td>female</td>\n",
       "      <td>15</td>\n",
       "      <td>CD45P</td>\n",
       "      <td>F50_SK_CD45P_2</td>\n",
       "    </tr>\n",
       "    <tr>\n",
       "      <th>37</th>\n",
       "      <td>FCAImmP7812651</td>\n",
       "      <td>SC5P-R2-VDJ</td>\n",
       "      <td>F50</td>\n",
       "      <td>female</td>\n",
       "      <td>15</td>\n",
       "      <td>CD45P</td>\n",
       "      <td>F50_SK_CD45P_3</td>\n",
       "    </tr>\n",
       "    <tr>\n",
       "      <th>38</th>\n",
       "      <td>FCAImmP7812652</td>\n",
       "      <td>SC5P-R2-VDJ</td>\n",
       "      <td>F50</td>\n",
       "      <td>female</td>\n",
       "      <td>15</td>\n",
       "      <td>CD45P</td>\n",
       "      <td>F50_SK_CD45P_4</td>\n",
       "    </tr>\n",
       "    <tr>\n",
       "      <th>39</th>\n",
       "      <td>FCAImmP7812656</td>\n",
       "      <td>SC5P-R2-VDJ</td>\n",
       "      <td>F51</td>\n",
       "      <td>female</td>\n",
       "      <td>15</td>\n",
       "      <td>CD45P</td>\n",
       "      <td>F51_SK_CD45P_1</td>\n",
       "    </tr>\n",
       "    <tr>\n",
       "      <th>40</th>\n",
       "      <td>FCAImmP7812657</td>\n",
       "      <td>SC5P-R2-VDJ</td>\n",
       "      <td>F51</td>\n",
       "      <td>female</td>\n",
       "      <td>15</td>\n",
       "      <td>CD45P</td>\n",
       "      <td>F51_SK_CD45P_2</td>\n",
       "    </tr>\n",
       "    <tr>\n",
       "      <th>41</th>\n",
       "      <td>FCAImmP7812661</td>\n",
       "      <td>SC5P-R2-VDJ</td>\n",
       "      <td>F51</td>\n",
       "      <td>female</td>\n",
       "      <td>15</td>\n",
       "      <td>CD45P</td>\n",
       "      <td>F51_SK_CD45P_3</td>\n",
       "    </tr>\n",
       "    <tr>\n",
       "      <th>42</th>\n",
       "      <td>FCAImmP7812662</td>\n",
       "      <td>SC5P-R2-VDJ</td>\n",
       "      <td>F51</td>\n",
       "      <td>female</td>\n",
       "      <td>15</td>\n",
       "      <td>CD45P</td>\n",
       "      <td>F51_SK_CD45P_4</td>\n",
       "    </tr>\n",
       "    <tr>\n",
       "      <th>43</th>\n",
       "      <td>FCAImmP7862094</td>\n",
       "      <td>SC5P-R2</td>\n",
       "      <td>F61</td>\n",
       "      <td>male</td>\n",
       "      <td>7</td>\n",
       "      <td>CD45P</td>\n",
       "      <td>F61_SK_CD45P_1</td>\n",
       "    </tr>\n",
       "    <tr>\n",
       "      <th>44</th>\n",
       "      <td>FCAImmP7862095</td>\n",
       "      <td>SC5P-R2</td>\n",
       "      <td>F61</td>\n",
       "      <td>male</td>\n",
       "      <td>7</td>\n",
       "      <td>CD45N</td>\n",
       "      <td>F61_SK_CD45N_1</td>\n",
       "    </tr>\n",
       "    <tr>\n",
       "      <th>45</th>\n",
       "      <td>FCAImmP7862096</td>\n",
       "      <td>SC5P-R2</td>\n",
       "      <td>F61</td>\n",
       "      <td>male</td>\n",
       "      <td>7</td>\n",
       "      <td>CD45N</td>\n",
       "      <td>F61_SK_CD45N_2</td>\n",
       "    </tr>\n",
       "    <tr>\n",
       "      <th>46</th>\n",
       "      <td>FCAImmP7964494</td>\n",
       "      <td>SC5P-R2-VDJ</td>\n",
       "      <td>F69</td>\n",
       "      <td>female</td>\n",
       "      <td>11</td>\n",
       "      <td>CD45P</td>\n",
       "      <td>F69-TCELL_8_SKI_45P</td>\n",
       "    </tr>\n",
       "    <tr>\n",
       "      <th>47</th>\n",
       "      <td>FCAImmP7964495</td>\n",
       "      <td>SC5P-R2-VDJ</td>\n",
       "      <td>F71</td>\n",
       "      <td>female</td>\n",
       "      <td>14</td>\n",
       "      <td>CD45P</td>\n",
       "      <td>F71-BCELL_6_SKI_45P</td>\n",
       "    </tr>\n",
       "    <tr>\n",
       "      <th>48</th>\n",
       "      <td>FCAImmP7964496</td>\n",
       "      <td>SC5P-R2-VDJ</td>\n",
       "      <td>F71</td>\n",
       "      <td>female</td>\n",
       "      <td>14</td>\n",
       "      <td>CD45P</td>\n",
       "      <td>F71-BCELL_7_SKI_45P</td>\n",
       "    </tr>\n",
       "    <tr>\n",
       "      <th>49</th>\n",
       "      <td>FCAImmP7964497</td>\n",
       "      <td>SC5P-R2-VDJ</td>\n",
       "      <td>F71</td>\n",
       "      <td>female</td>\n",
       "      <td>14</td>\n",
       "      <td>CD45P</td>\n",
       "      <td>F71-TCELL_8_SKI_45P</td>\n",
       "    </tr>\n",
       "    <tr>\n",
       "      <th>50</th>\n",
       "      <td>FCAImmP7964498</td>\n",
       "      <td>SC5P-R2-VDJ</td>\n",
       "      <td>F71</td>\n",
       "      <td>female</td>\n",
       "      <td>14</td>\n",
       "      <td>CD45P</td>\n",
       "      <td>F71-TCELL_9_SKI_45P</td>\n",
       "    </tr>\n",
       "    <tr>\n",
       "      <th>51</th>\n",
       "      <td>FCAImmP7964502</td>\n",
       "      <td>SC5P-R2</td>\n",
       "      <td>F69</td>\n",
       "      <td>female</td>\n",
       "      <td>11</td>\n",
       "      <td>CD45P</td>\n",
       "      <td>F69-GEX_4_SKI_45P</td>\n",
       "    </tr>\n",
       "    <tr>\n",
       "      <th>52</th>\n",
       "      <td>FCAImmP7964503</td>\n",
       "      <td>SC5P-R2</td>\n",
       "      <td>F69</td>\n",
       "      <td>female</td>\n",
       "      <td>11</td>\n",
       "      <td>CD45N</td>\n",
       "      <td>F69-GEX_5_SKI_45N</td>\n",
       "    </tr>\n",
       "    <tr>\n",
       "      <th>53</th>\n",
       "      <td>FCAImmP7964504</td>\n",
       "      <td>SC5P-R2</td>\n",
       "      <td>F69</td>\n",
       "      <td>female</td>\n",
       "      <td>11</td>\n",
       "      <td>CD45N</td>\n",
       "      <td>F69-GEX_6_SKI_45N</td>\n",
       "    </tr>\n",
       "    <tr>\n",
       "      <th>54</th>\n",
       "      <td>FCAImmP7964505</td>\n",
       "      <td>SC5P-R2</td>\n",
       "      <td>F69</td>\n",
       "      <td>female</td>\n",
       "      <td>11</td>\n",
       "      <td>CD45en</td>\n",
       "      <td>F69-GEX_7_SKI_45en</td>\n",
       "    </tr>\n",
       "    <tr>\n",
       "      <th>55</th>\n",
       "      <td>FCAImmP7964506</td>\n",
       "      <td>SC5P-R2</td>\n",
       "      <td>F71</td>\n",
       "      <td>female</td>\n",
       "      <td>14</td>\n",
       "      <td>CD45P</td>\n",
       "      <td>F71-GEX_1_SKI_45P</td>\n",
       "    </tr>\n",
       "    <tr>\n",
       "      <th>56</th>\n",
       "      <td>FCAImmP7964507</td>\n",
       "      <td>SC5P-R2</td>\n",
       "      <td>F71</td>\n",
       "      <td>female</td>\n",
       "      <td>14</td>\n",
       "      <td>CD45P</td>\n",
       "      <td>F71-GEX_2_SKI_45P</td>\n",
       "    </tr>\n",
       "    <tr>\n",
       "      <th>57</th>\n",
       "      <td>FCAImmP7964508</td>\n",
       "      <td>SC5P-R2</td>\n",
       "      <td>F71</td>\n",
       "      <td>female</td>\n",
       "      <td>14</td>\n",
       "      <td>CD45N</td>\n",
       "      <td>F71-GEX_3_SKI_45N</td>\n",
       "    </tr>\n",
       "    <tr>\n",
       "      <th>58</th>\n",
       "      <td>FCAImmP7964509</td>\n",
       "      <td>SC5P-R2</td>\n",
       "      <td>F71</td>\n",
       "      <td>female</td>\n",
       "      <td>14</td>\n",
       "      <td>CD45N</td>\n",
       "      <td>F71-GEX_4_SKI_45N</td>\n",
       "    </tr>\n",
       "    <tr>\n",
       "      <th>59</th>\n",
       "      <td>FCAImmP7964510</td>\n",
       "      <td>SC5P-R2</td>\n",
       "      <td>F71</td>\n",
       "      <td>female</td>\n",
       "      <td>14</td>\n",
       "      <td>CD45en</td>\n",
       "      <td>F71-GEX_5_SKI_45en</td>\n",
       "    </tr>\n",
       "  </tbody>\n",
       "</table>\n",
       "</div>"
      ],
      "text/plain": [
       "          sanger_id    chemistry donor  gender  pcw sorting  \\\n",
       "0   4834STDY7002871       SC3Pv2   F15    male   12   CD45P   \n",
       "1   4834STDY7002872       SC3Pv2   F15    male   12   CD45N   \n",
       "2   4834STDY7002879       SC3Pv2   F16    male    8   CD45P   \n",
       "3   4834STDY7002880       SC3Pv2   F16    male    8   CD45N   \n",
       "4   4834STDY7002883       SC3Pv2   F17    male    9   Total   \n",
       "5   4834STDY7038752       SC3Pv2   F17    male    9   CD45P   \n",
       "6   4834STDY7038753       SC3Pv2   F17    male    9   CD45N   \n",
       "7    FCAImmP7241240       SC3Pv2   F19  female   10   CD45P   \n",
       "8    FCAImmP7241241       SC3Pv2   F19  female   10   CD45N   \n",
       "9    FCAImmP7316886       SC3Pv2   F33  female    9   CD45P   \n",
       "10   FCAImmP7316887       SC3Pv2   F33  female    9   CD45P   \n",
       "11   FCAImmP7316888       SC3Pv2   F33  female    9   CD45N   \n",
       "12   FCAImmP7316896       SC3Pv2   F32  female    7   CD45P   \n",
       "13   FCAImmP7316897       SC3Pv2   F32  female    7   CD45N   \n",
       "14   FCAImmP7352189       SC3Pv2   F34  female    8   CD45P   \n",
       "15   FCAImmP7352190       SC3Pv2   F34  female    8   CD45N   \n",
       "16   FCAImmP7352191       SC3Pv2   F34  female    8   CD45N   \n",
       "17   FCAImmP7462240       SC3Pv2   F35  female    7   CD45P   \n",
       "18   FCAImmP7462241       SC3Pv2   F35  female    7   CD45N   \n",
       "19   FCAImmP7528290       SC3Pv2   F38    male   12   CD45P   \n",
       "20   FCAImmP7528291       SC3Pv2   F38    male   12   CD45N   \n",
       "21   FCAImmP7528296       SC3Pv2   F38    male   12   CD45P   \n",
       "22   FCAImmP7555848       SC3Pv2   F41  female   16   CD45N   \n",
       "23   FCAImmP7555858       SC3Pv2   F41  female   16   CD45P   \n",
       "24   FCAImmP7579212       SC3Pv2   F45  female   13   CD45P   \n",
       "25   FCAImmP7579213       SC3Pv2   F45  female   13   CD45N   \n",
       "26   FCAImmP7579224      SC5P-R2   F45  female   13   CD45P   \n",
       "27   FCAImmP7803024      SC5P-R2   F50  female   15   CD45P   \n",
       "28   FCAImmP7803025      SC5P-R2   F50  female   15   CD45P   \n",
       "29   FCAImmP7803026      SC5P-R2   F50  female   15   CD45N   \n",
       "30   FCAImmP7803027      SC5P-R2   F50  female   15   CD45N   \n",
       "31   FCAImmP7803034      SC5P-R2   F51  female   15   CD45P   \n",
       "32   FCAImmP7803035      SC5P-R2   F51  female   15   CD45P   \n",
       "33   FCAImmP7803042      SC5P-R2   F51  female   15   CD45N   \n",
       "34   FCAImmP7803043      SC5P-R2   F51  female   15   CD45N   \n",
       "35   FCAImmP7812645  SC5P-R2-VDJ   F50  female   15   CD45P   \n",
       "36   FCAImmP7812646  SC5P-R2-VDJ   F50  female   15   CD45P   \n",
       "37   FCAImmP7812651  SC5P-R2-VDJ   F50  female   15   CD45P   \n",
       "38   FCAImmP7812652  SC5P-R2-VDJ   F50  female   15   CD45P   \n",
       "39   FCAImmP7812656  SC5P-R2-VDJ   F51  female   15   CD45P   \n",
       "40   FCAImmP7812657  SC5P-R2-VDJ   F51  female   15   CD45P   \n",
       "41   FCAImmP7812661  SC5P-R2-VDJ   F51  female   15   CD45P   \n",
       "42   FCAImmP7812662  SC5P-R2-VDJ   F51  female   15   CD45P   \n",
       "43   FCAImmP7862094      SC5P-R2   F61    male    7   CD45P   \n",
       "44   FCAImmP7862095      SC5P-R2   F61    male    7   CD45N   \n",
       "45   FCAImmP7862096      SC5P-R2   F61    male    7   CD45N   \n",
       "46   FCAImmP7964494  SC5P-R2-VDJ   F69  female   11   CD45P   \n",
       "47   FCAImmP7964495  SC5P-R2-VDJ   F71  female   14   CD45P   \n",
       "48   FCAImmP7964496  SC5P-R2-VDJ   F71  female   14   CD45P   \n",
       "49   FCAImmP7964497  SC5P-R2-VDJ   F71  female   14   CD45P   \n",
       "50   FCAImmP7964498  SC5P-R2-VDJ   F71  female   14   CD45P   \n",
       "51   FCAImmP7964502      SC5P-R2   F69  female   11   CD45P   \n",
       "52   FCAImmP7964503      SC5P-R2   F69  female   11   CD45N   \n",
       "53   FCAImmP7964504      SC5P-R2   F69  female   11   CD45N   \n",
       "54   FCAImmP7964505      SC5P-R2   F69  female   11  CD45en   \n",
       "55   FCAImmP7964506      SC5P-R2   F71  female   14   CD45P   \n",
       "56   FCAImmP7964507      SC5P-R2   F71  female   14   CD45P   \n",
       "57   FCAImmP7964508      SC5P-R2   F71  female   14   CD45N   \n",
       "58   FCAImmP7964509      SC5P-R2   F71  female   14   CD45N   \n",
       "59   FCAImmP7964510      SC5P-R2   F71  female   14  CD45en   \n",
       "\n",
       "                 sample  \n",
       "0      F15_male_12+0PCW  \n",
       "1      F15_male_12+0PCW  \n",
       "2       F16_male_8+1PCW  \n",
       "3       F16_male_8+1PCW  \n",
       "4       F17_male_9+1PCW  \n",
       "5       F17_male_9+1PCW  \n",
       "6       F17_male_9+1PCW  \n",
       "7    F19_female_10+2PCW  \n",
       "8    F19_female_10+2PCW  \n",
       "9     F33_female_9+5PCW  \n",
       "10    F33_female_9+5PCW  \n",
       "11    F33_female_9+5PCW  \n",
       "12    F32_female_7+6PCW  \n",
       "13    F32_female_7+6PCW  \n",
       "14    F34_female_8+1PCW  \n",
       "15    F34_female_8+1PCW  \n",
       "16    F34_female_8+1PCW  \n",
       "17    F35_female_7+6PCW  \n",
       "18    F35_female_7+6PCW  \n",
       "19       F38_male_12PCW  \n",
       "20       F38_male_12PCW  \n",
       "21       F38_male_12PCW  \n",
       "22     F41_female_16PCW  \n",
       "23     F41_female_16PCW  \n",
       "24   F45_female_13+6PCW  \n",
       "25   F45_female_13+6PCW  \n",
       "26   F45_female_13+6PCW  \n",
       "27       F50_SK_CD45P_5  \n",
       "28       F50_SK_CD45P_6  \n",
       "29       F50_SK_CD45N_1  \n",
       "30       F50_SK_CD45N_2  \n",
       "31       F51_SK_CD45P_5  \n",
       "32       F51_SK_CD45P_6  \n",
       "33       F51_SK_CD45N_1  \n",
       "34       F51_SK_CD45N_2  \n",
       "35       F50_SK_CD45P_1  \n",
       "36       F50_SK_CD45P_2  \n",
       "37       F50_SK_CD45P_3  \n",
       "38       F50_SK_CD45P_4  \n",
       "39       F51_SK_CD45P_1  \n",
       "40       F51_SK_CD45P_2  \n",
       "41       F51_SK_CD45P_3  \n",
       "42       F51_SK_CD45P_4  \n",
       "43       F61_SK_CD45P_1  \n",
       "44       F61_SK_CD45N_1  \n",
       "45       F61_SK_CD45N_2  \n",
       "46  F69-TCELL_8_SKI_45P  \n",
       "47  F71-BCELL_6_SKI_45P  \n",
       "48  F71-BCELL_7_SKI_45P  \n",
       "49  F71-TCELL_8_SKI_45P  \n",
       "50  F71-TCELL_9_SKI_45P  \n",
       "51    F69-GEX_4_SKI_45P  \n",
       "52    F69-GEX_5_SKI_45N  \n",
       "53    F69-GEX_6_SKI_45N  \n",
       "54   F69-GEX_7_SKI_45en  \n",
       "55    F71-GEX_1_SKI_45P  \n",
       "56    F71-GEX_2_SKI_45P  \n",
       "57    F71-GEX_3_SKI_45N  \n",
       "58    F71-GEX_4_SKI_45N  \n",
       "59   F71-GEX_5_SKI_45en  "
      ]
     },
     "execution_count": 5,
     "metadata": {},
     "output_type": "execute_result"
    }
   ],
   "source": [
    "df"
   ]
  },
  {
   "cell_type": "code",
   "execution_count": 6,
   "metadata": {
    "execution": {
     "iopub.execute_input": "2022-11-03T12:12:12.591575Z",
     "iopub.status.busy": "2022-11-03T12:12:12.591119Z",
     "iopub.status.idle": "2022-11-03T12:12:12.638409Z",
     "shell.execute_reply": "2022-11-03T12:12:12.637139Z",
     "shell.execute_reply.started": "2022-11-03T12:12:12.591526Z"
    },
    "tags": []
   },
   "outputs": [],
   "source": [
    "df = df[~df.chemistry.str.endswith(\"VDJ\") & ~df.donor.isin([\"F15\"])].reset_index(\n",
    "    drop=True\n",
    ")"
   ]
  },
  {
   "cell_type": "code",
   "execution_count": 7,
   "metadata": {
    "execution": {
     "iopub.execute_input": "2022-11-03T12:12:17.522549Z",
     "iopub.status.busy": "2022-11-03T12:12:17.522087Z",
     "iopub.status.idle": "2022-11-03T12:12:17.567956Z",
     "shell.execute_reply": "2022-11-03T12:12:17.567029Z",
     "shell.execute_reply.started": "2022-11-03T12:12:17.522499Z"
    },
    "tags": []
   },
   "outputs": [
    {
     "data": {
      "text/plain": [
       "45"
      ]
     },
     "execution_count": 7,
     "metadata": {},
     "output_type": "execute_result"
    }
   ],
   "source": [
    "len(df.sanger_id.unique())"
   ]
  },
  {
   "cell_type": "code",
   "execution_count": 8,
   "metadata": {
    "execution": {
     "iopub.execute_input": "2022-11-03T12:12:17.777745Z",
     "iopub.status.busy": "2022-11-03T12:12:17.777319Z",
     "iopub.status.idle": "2022-11-03T12:12:17.822447Z",
     "shell.execute_reply": "2022-11-03T12:12:17.821541Z",
     "shell.execute_reply.started": "2022-11-03T12:12:17.777699Z"
    },
    "tags": []
   },
   "outputs": [
    {
     "data": {
      "text/plain": [
       "CD45N     21\n",
       "CD45P     21\n",
       "CD45en     2\n",
       "Total      1\n",
       "Name: sorting, dtype: int64"
      ]
     },
     "execution_count": 8,
     "metadata": {},
     "output_type": "execute_result"
    }
   ],
   "source": [
    "df.sorting.value_counts()"
   ]
  },
  {
   "cell_type": "code",
   "execution_count": 9,
   "metadata": {
    "execution": {
     "iopub.execute_input": "2022-11-03T12:12:18.047524Z",
     "iopub.status.busy": "2022-11-03T12:12:18.046133Z",
     "iopub.status.idle": "2022-11-03T12:12:18.113577Z",
     "shell.execute_reply": "2022-11-03T12:12:18.112196Z",
     "shell.execute_reply.started": "2022-11-03T12:12:18.047445Z"
    },
    "tags": []
   },
   "outputs": [
    {
     "data": {
      "text/plain": [
       "SC3Pv2     24\n",
       "SC5P-R2    21\n",
       "Name: chemistry, dtype: int64"
      ]
     },
     "execution_count": 9,
     "metadata": {},
     "output_type": "execute_result"
    }
   ],
   "source": [
    "df.chemistry.value_counts()"
   ]
  },
  {
   "cell_type": "code",
   "execution_count": 10,
   "metadata": {
    "execution": {
     "iopub.execute_input": "2022-11-03T12:12:19.776698Z",
     "iopub.status.busy": "2022-11-03T12:12:19.776317Z",
     "iopub.status.idle": "2022-11-03T12:12:19.819146Z",
     "shell.execute_reply": "2022-11-03T12:12:19.818129Z",
     "shell.execute_reply.started": "2022-11-03T12:12:19.776657Z"
    },
    "tags": []
   },
   "outputs": [
    {
     "data": {
      "text/plain": [
       "15"
      ]
     },
     "execution_count": 10,
     "metadata": {},
     "output_type": "execute_result"
    }
   ],
   "source": [
    "len(df.donor.unique())"
   ]
  },
  {
   "cell_type": "markdown",
   "metadata": {},
   "source": [
    "## Read count matrices"
   ]
  },
  {
   "cell_type": "code",
   "execution_count": 11,
   "metadata": {
    "execution": {
     "iopub.execute_input": "2022-11-03T12:12:53.248791Z",
     "iopub.status.busy": "2022-11-03T12:12:53.248283Z",
     "iopub.status.idle": "2022-11-03T12:27:19.672102Z",
     "shell.execute_reply": "2022-11-03T12:27:19.671038Z",
     "shell.execute_reply.started": "2022-11-03T12:12:53.248740Z"
    },
    "tags": []
   },
   "outputs": [
    {
     "name": "stdout",
     "output_type": "stream",
     "text": [
      "4834STDY7002879\n"
     ]
    },
    {
     "name": "stderr",
     "output_type": "stream",
     "text": [
      "Variable names are not unique. To make them unique, call `.var_names_make_unique`.\n",
      "Trying to set attribute `.obs` of view, copying.\n"
     ]
    },
    {
     "name": "stdout",
     "output_type": "stream",
     "text": [
      "4834STDY7002880\n"
     ]
    },
    {
     "name": "stderr",
     "output_type": "stream",
     "text": [
      "Variable names are not unique. To make them unique, call `.var_names_make_unique`.\n",
      "Trying to set attribute `.obs` of view, copying.\n"
     ]
    },
    {
     "name": "stdout",
     "output_type": "stream",
     "text": [
      "4834STDY7002883\n"
     ]
    },
    {
     "name": "stderr",
     "output_type": "stream",
     "text": [
      "Variable names are not unique. To make them unique, call `.var_names_make_unique`.\n",
      "Trying to set attribute `.obs` of view, copying.\n"
     ]
    },
    {
     "name": "stdout",
     "output_type": "stream",
     "text": [
      "4834STDY7038752\n"
     ]
    },
    {
     "name": "stderr",
     "output_type": "stream",
     "text": [
      "Variable names are not unique. To make them unique, call `.var_names_make_unique`.\n",
      "Trying to set attribute `.obs` of view, copying.\n"
     ]
    },
    {
     "name": "stdout",
     "output_type": "stream",
     "text": [
      "4834STDY7038753\n"
     ]
    },
    {
     "name": "stderr",
     "output_type": "stream",
     "text": [
      "Variable names are not unique. To make them unique, call `.var_names_make_unique`.\n",
      "Trying to set attribute `.obs` of view, copying.\n"
     ]
    },
    {
     "name": "stdout",
     "output_type": "stream",
     "text": [
      "FCAImmP7241240\n"
     ]
    },
    {
     "name": "stderr",
     "output_type": "stream",
     "text": [
      "Variable names are not unique. To make them unique, call `.var_names_make_unique`.\n",
      "Trying to set attribute `.obs` of view, copying.\n"
     ]
    },
    {
     "name": "stdout",
     "output_type": "stream",
     "text": [
      "FCAImmP7241241\n"
     ]
    },
    {
     "name": "stderr",
     "output_type": "stream",
     "text": [
      "Variable names are not unique. To make them unique, call `.var_names_make_unique`.\n",
      "Trying to set attribute `.obs` of view, copying.\n"
     ]
    },
    {
     "name": "stdout",
     "output_type": "stream",
     "text": [
      "FCAImmP7316886\n"
     ]
    },
    {
     "name": "stderr",
     "output_type": "stream",
     "text": [
      "Variable names are not unique. To make them unique, call `.var_names_make_unique`.\n",
      "Trying to set attribute `.obs` of view, copying.\n"
     ]
    },
    {
     "name": "stdout",
     "output_type": "stream",
     "text": [
      "FCAImmP7316887\n"
     ]
    },
    {
     "name": "stderr",
     "output_type": "stream",
     "text": [
      "Variable names are not unique. To make them unique, call `.var_names_make_unique`.\n",
      "Trying to set attribute `.obs` of view, copying.\n"
     ]
    },
    {
     "name": "stdout",
     "output_type": "stream",
     "text": [
      "FCAImmP7316888\n"
     ]
    },
    {
     "name": "stderr",
     "output_type": "stream",
     "text": [
      "Variable names are not unique. To make them unique, call `.var_names_make_unique`.\n",
      "Trying to set attribute `.obs` of view, copying.\n"
     ]
    },
    {
     "name": "stdout",
     "output_type": "stream",
     "text": [
      "FCAImmP7316896\n"
     ]
    },
    {
     "name": "stderr",
     "output_type": "stream",
     "text": [
      "Variable names are not unique. To make them unique, call `.var_names_make_unique`.\n",
      "Trying to set attribute `.obs` of view, copying.\n"
     ]
    },
    {
     "name": "stdout",
     "output_type": "stream",
     "text": [
      "FCAImmP7316897\n"
     ]
    },
    {
     "name": "stderr",
     "output_type": "stream",
     "text": [
      "Variable names are not unique. To make them unique, call `.var_names_make_unique`.\n",
      "Trying to set attribute `.obs` of view, copying.\n"
     ]
    },
    {
     "name": "stdout",
     "output_type": "stream",
     "text": [
      "FCAImmP7352189\n"
     ]
    },
    {
     "name": "stderr",
     "output_type": "stream",
     "text": [
      "Variable names are not unique. To make them unique, call `.var_names_make_unique`.\n",
      "Trying to set attribute `.obs` of view, copying.\n"
     ]
    },
    {
     "name": "stdout",
     "output_type": "stream",
     "text": [
      "FCAImmP7352190\n"
     ]
    },
    {
     "name": "stderr",
     "output_type": "stream",
     "text": [
      "Variable names are not unique. To make them unique, call `.var_names_make_unique`.\n",
      "Trying to set attribute `.obs` of view, copying.\n"
     ]
    },
    {
     "name": "stdout",
     "output_type": "stream",
     "text": [
      "FCAImmP7352191\n"
     ]
    },
    {
     "name": "stderr",
     "output_type": "stream",
     "text": [
      "Variable names are not unique. To make them unique, call `.var_names_make_unique`.\n",
      "Trying to set attribute `.obs` of view, copying.\n"
     ]
    },
    {
     "name": "stdout",
     "output_type": "stream",
     "text": [
      "FCAImmP7462240\n"
     ]
    },
    {
     "name": "stderr",
     "output_type": "stream",
     "text": [
      "Variable names are not unique. To make them unique, call `.var_names_make_unique`.\n",
      "Trying to set attribute `.obs` of view, copying.\n"
     ]
    },
    {
     "name": "stdout",
     "output_type": "stream",
     "text": [
      "FCAImmP7462241\n"
     ]
    },
    {
     "name": "stderr",
     "output_type": "stream",
     "text": [
      "Variable names are not unique. To make them unique, call `.var_names_make_unique`.\n",
      "Trying to set attribute `.obs` of view, copying.\n"
     ]
    },
    {
     "name": "stdout",
     "output_type": "stream",
     "text": [
      "FCAImmP7528290\n"
     ]
    },
    {
     "name": "stderr",
     "output_type": "stream",
     "text": [
      "Variable names are not unique. To make them unique, call `.var_names_make_unique`.\n",
      "Trying to set attribute `.obs` of view, copying.\n"
     ]
    },
    {
     "name": "stdout",
     "output_type": "stream",
     "text": [
      "FCAImmP7528291\n"
     ]
    },
    {
     "name": "stderr",
     "output_type": "stream",
     "text": [
      "Variable names are not unique. To make them unique, call `.var_names_make_unique`.\n",
      "Trying to set attribute `.obs` of view, copying.\n"
     ]
    },
    {
     "name": "stdout",
     "output_type": "stream",
     "text": [
      "FCAImmP7528296\n"
     ]
    },
    {
     "name": "stderr",
     "output_type": "stream",
     "text": [
      "Variable names are not unique. To make them unique, call `.var_names_make_unique`.\n",
      "Trying to set attribute `.obs` of view, copying.\n"
     ]
    },
    {
     "name": "stdout",
     "output_type": "stream",
     "text": [
      "FCAImmP7555848\n"
     ]
    },
    {
     "name": "stderr",
     "output_type": "stream",
     "text": [
      "Variable names are not unique. To make them unique, call `.var_names_make_unique`.\n",
      "Trying to set attribute `.obs` of view, copying.\n"
     ]
    },
    {
     "name": "stdout",
     "output_type": "stream",
     "text": [
      "FCAImmP7555858\n"
     ]
    },
    {
     "name": "stderr",
     "output_type": "stream",
     "text": [
      "Variable names are not unique. To make them unique, call `.var_names_make_unique`.\n",
      "Trying to set attribute `.obs` of view, copying.\n"
     ]
    },
    {
     "name": "stdout",
     "output_type": "stream",
     "text": [
      "FCAImmP7579212\n"
     ]
    },
    {
     "name": "stderr",
     "output_type": "stream",
     "text": [
      "Variable names are not unique. To make them unique, call `.var_names_make_unique`.\n",
      "Trying to set attribute `.obs` of view, copying.\n"
     ]
    },
    {
     "name": "stdout",
     "output_type": "stream",
     "text": [
      "FCAImmP7579213\n"
     ]
    },
    {
     "name": "stderr",
     "output_type": "stream",
     "text": [
      "Variable names are not unique. To make them unique, call `.var_names_make_unique`.\n",
      "Trying to set attribute `.obs` of view, copying.\n"
     ]
    },
    {
     "name": "stdout",
     "output_type": "stream",
     "text": [
      "FCAImmP7579224\n"
     ]
    },
    {
     "name": "stderr",
     "output_type": "stream",
     "text": [
      "Variable names are not unique. To make them unique, call `.var_names_make_unique`.\n",
      "Trying to set attribute `.obs` of view, copying.\n"
     ]
    },
    {
     "name": "stdout",
     "output_type": "stream",
     "text": [
      "FCAImmP7803024\n"
     ]
    },
    {
     "name": "stderr",
     "output_type": "stream",
     "text": [
      "Variable names are not unique. To make them unique, call `.var_names_make_unique`.\n",
      "Trying to set attribute `.obs` of view, copying.\n"
     ]
    },
    {
     "name": "stdout",
     "output_type": "stream",
     "text": [
      "FCAImmP7803025\n"
     ]
    },
    {
     "name": "stderr",
     "output_type": "stream",
     "text": [
      "Variable names are not unique. To make them unique, call `.var_names_make_unique`.\n",
      "Trying to set attribute `.obs` of view, copying.\n"
     ]
    },
    {
     "name": "stdout",
     "output_type": "stream",
     "text": [
      "FCAImmP7803026\n"
     ]
    },
    {
     "name": "stderr",
     "output_type": "stream",
     "text": [
      "Variable names are not unique. To make them unique, call `.var_names_make_unique`.\n",
      "Trying to set attribute `.obs` of view, copying.\n"
     ]
    },
    {
     "name": "stdout",
     "output_type": "stream",
     "text": [
      "FCAImmP7803027\n"
     ]
    },
    {
     "name": "stderr",
     "output_type": "stream",
     "text": [
      "Variable names are not unique. To make them unique, call `.var_names_make_unique`.\n",
      "Trying to set attribute `.obs` of view, copying.\n"
     ]
    },
    {
     "name": "stdout",
     "output_type": "stream",
     "text": [
      "FCAImmP7803034\n"
     ]
    },
    {
     "name": "stderr",
     "output_type": "stream",
     "text": [
      "Variable names are not unique. To make them unique, call `.var_names_make_unique`.\n",
      "Trying to set attribute `.obs` of view, copying.\n"
     ]
    },
    {
     "name": "stdout",
     "output_type": "stream",
     "text": [
      "FCAImmP7803035\n"
     ]
    },
    {
     "name": "stderr",
     "output_type": "stream",
     "text": [
      "Variable names are not unique. To make them unique, call `.var_names_make_unique`.\n",
      "Trying to set attribute `.obs` of view, copying.\n"
     ]
    },
    {
     "name": "stdout",
     "output_type": "stream",
     "text": [
      "FCAImmP7803042\n"
     ]
    },
    {
     "name": "stderr",
     "output_type": "stream",
     "text": [
      "Variable names are not unique. To make them unique, call `.var_names_make_unique`.\n",
      "Trying to set attribute `.obs` of view, copying.\n"
     ]
    },
    {
     "name": "stdout",
     "output_type": "stream",
     "text": [
      "FCAImmP7803043\n"
     ]
    },
    {
     "name": "stderr",
     "output_type": "stream",
     "text": [
      "Variable names are not unique. To make them unique, call `.var_names_make_unique`.\n",
      "Trying to set attribute `.obs` of view, copying.\n"
     ]
    },
    {
     "name": "stdout",
     "output_type": "stream",
     "text": [
      "FCAImmP7862094\n"
     ]
    },
    {
     "name": "stderr",
     "output_type": "stream",
     "text": [
      "Variable names are not unique. To make them unique, call `.var_names_make_unique`.\n",
      "Trying to set attribute `.obs` of view, copying.\n"
     ]
    },
    {
     "name": "stdout",
     "output_type": "stream",
     "text": [
      "FCAImmP7862095\n"
     ]
    },
    {
     "name": "stderr",
     "output_type": "stream",
     "text": [
      "Variable names are not unique. To make them unique, call `.var_names_make_unique`.\n",
      "Trying to set attribute `.obs` of view, copying.\n"
     ]
    },
    {
     "name": "stdout",
     "output_type": "stream",
     "text": [
      "FCAImmP7862096\n"
     ]
    },
    {
     "name": "stderr",
     "output_type": "stream",
     "text": [
      "Variable names are not unique. To make them unique, call `.var_names_make_unique`.\n",
      "Trying to set attribute `.obs` of view, copying.\n"
     ]
    },
    {
     "name": "stdout",
     "output_type": "stream",
     "text": [
      "FCAImmP7964502\n"
     ]
    },
    {
     "name": "stderr",
     "output_type": "stream",
     "text": [
      "Variable names are not unique. To make them unique, call `.var_names_make_unique`.\n",
      "Trying to set attribute `.obs` of view, copying.\n"
     ]
    },
    {
     "name": "stdout",
     "output_type": "stream",
     "text": [
      "FCAImmP7964503\n"
     ]
    },
    {
     "name": "stderr",
     "output_type": "stream",
     "text": [
      "Variable names are not unique. To make them unique, call `.var_names_make_unique`.\n",
      "Trying to set attribute `.obs` of view, copying.\n"
     ]
    },
    {
     "name": "stdout",
     "output_type": "stream",
     "text": [
      "FCAImmP7964504\n"
     ]
    },
    {
     "name": "stderr",
     "output_type": "stream",
     "text": [
      "Variable names are not unique. To make them unique, call `.var_names_make_unique`.\n",
      "Trying to set attribute `.obs` of view, copying.\n"
     ]
    },
    {
     "name": "stdout",
     "output_type": "stream",
     "text": [
      "FCAImmP7964505\n"
     ]
    },
    {
     "name": "stderr",
     "output_type": "stream",
     "text": [
      "Variable names are not unique. To make them unique, call `.var_names_make_unique`.\n",
      "Trying to set attribute `.obs` of view, copying.\n"
     ]
    },
    {
     "name": "stdout",
     "output_type": "stream",
     "text": [
      "FCAImmP7964506\n"
     ]
    },
    {
     "name": "stderr",
     "output_type": "stream",
     "text": [
      "Variable names are not unique. To make them unique, call `.var_names_make_unique`.\n",
      "Trying to set attribute `.obs` of view, copying.\n"
     ]
    },
    {
     "name": "stdout",
     "output_type": "stream",
     "text": [
      "FCAImmP7964507\n"
     ]
    },
    {
     "name": "stderr",
     "output_type": "stream",
     "text": [
      "Variable names are not unique. To make them unique, call `.var_names_make_unique`.\n",
      "Trying to set attribute `.obs` of view, copying.\n"
     ]
    },
    {
     "name": "stdout",
     "output_type": "stream",
     "text": [
      "FCAImmP7964508\n"
     ]
    },
    {
     "name": "stderr",
     "output_type": "stream",
     "text": [
      "Variable names are not unique. To make them unique, call `.var_names_make_unique`.\n",
      "Trying to set attribute `.obs` of view, copying.\n"
     ]
    },
    {
     "name": "stdout",
     "output_type": "stream",
     "text": [
      "FCAImmP7964509\n"
     ]
    },
    {
     "name": "stderr",
     "output_type": "stream",
     "text": [
      "Variable names are not unique. To make them unique, call `.var_names_make_unique`.\n",
      "Trying to set attribute `.obs` of view, copying.\n"
     ]
    },
    {
     "name": "stdout",
     "output_type": "stream",
     "text": [
      "FCAImmP7964510\n"
     ]
    },
    {
     "name": "stderr",
     "output_type": "stream",
     "text": [
      "Variable names are not unique. To make them unique, call `.var_names_make_unique`.\n",
      "Trying to set attribute `.obs` of view, copying.\n"
     ]
    }
   ],
   "source": [
    "samples = []\n",
    "ads = []\n",
    "n_sample = df.shape[0]\n",
    "fig, axs = plt.subplots(\n",
    "    ncols=5,\n",
    "    nrows=int(np.ceil(n_sample / 5)),\n",
    "    sharex=True,\n",
    "    sharey=True,\n",
    "    figsize=(25, np.ceil(n_sample / 5) * 5),\n",
    ")\n",
    "sc.settings.verbosity = 0\n",
    "for i, sid in enumerate(df[\"sanger_id\"]):\n",
    "    h5cr = f\"../data/h5cr/{sid}_raw.h5\"\n",
    "    source_csv = f\"../data/h5cr/{sid}_cell_source.csv\"\n",
    "\n",
    "    if not (os.path.exists(h5cr) and os.path.exists(source_csv)):\n",
    "        continue\n",
    "    samples.append(sid)\n",
    "    print(sid)\n",
    "\n",
    "    # Read 10X raw matrix here to make knee plot, will subset to called cells later\n",
    "    ad = sc.read_10x_h5(h5cr)\n",
    "    ad.var_names_make_unique()\n",
    "    src = pd.read_csv(source_csv)\n",
    "    sc.pp.filter_cells(ad, min_counts=1)\n",
    "\n",
    "    # Make knee plot\n",
    "    colors = pd.Series([\"k\"] * ad.shape[0])\n",
    "    k_cr_called = ad.obs_names.str.replace(\"-1\", \"\").isin(\n",
    "        src.Barcode[src.CellSource == \"CellRanger\"]\n",
    "    )\n",
    "    k_ed_called = ad.obs_names.str.replace(\"-1\", \"\").isin(\n",
    "        src.Barcode[src.CellSource == \"EmptyDrops\"]\n",
    "    )\n",
    "    k_both_called = ad.obs_names.str.replace(\"-1\", \"\").isin(\n",
    "        src.Barcode[src.CellSource == \"Both\"]\n",
    "    )\n",
    "    colors[k_both_called] = \"g\"\n",
    "    colors[k_cr_called] = \"b\"\n",
    "    colors[k_ed_called] = \"r\"\n",
    "    sk.plot_metric_by_rank(\n",
    "        ad,\n",
    "        ax=axs[i // 5, i - (i // 5) * 5],\n",
    "        c=colors.values,\n",
    "        swap_axis=True,\n",
    "        title=f\"{sid}, {df.chemistry[df.sanger_id==sid].iloc[0]}, {df.sorting[df.sanger_id==sid].iloc[0]}\",\n",
    "        s=5,\n",
    "    )\n",
    "\n",
    "    # Now subset to called cells\n",
    "    ad = ad[ad.obs_names.str.replace(\"-1\", \"\").isin(src.Barcode.values), :]\n",
    "    k_cr_called = ad.obs_names.str.replace(\"-1\", \"\").isin(\n",
    "        src.Barcode[src.CellSource == \"CellRanger\"]\n",
    "    )\n",
    "    k_ed_called = ad.obs_names.str.replace(\"-1\", \"\").isin(\n",
    "        src.Barcode[src.CellSource == \"EmptyDrops\"]\n",
    "    )\n",
    "    k_both_called = ad.obs_names.str.replace(\"-1\", \"\").isin(\n",
    "        src.Barcode[src.CellSource == \"Both\"]\n",
    "    )\n",
    "    cell_caller = np.array([\"Both\"] * ad.shape[0])\n",
    "    cell_caller[k_cr_called] = \"CellRanger\"\n",
    "    cell_caller[k_ed_called] = \"EmptyDrops\"\n",
    "    ad.obs[\"cell_caller\"] = cell_caller\n",
    "\n",
    "    # Run scrublet\n",
    "    sk.run_scrublet(ad)\n",
    "    ad.obs.rename(columns={\"bh_pval\": \"bh_doublet_pval\"}, inplace=True)\n",
    "    ads.append(ad)\n",
    "\n",
    "fig.savefig(\"knee_plots_per_run.png\", bbox_inches=\"tight\")\n",
    "sc.settings.verbosity = 1"
   ]
  },
  {
   "cell_type": "markdown",
   "metadata": {},
   "source": [
    "# Process"
   ]
  },
  {
   "cell_type": "markdown",
   "metadata": {},
   "source": [
    "## Pool samples"
   ]
  },
  {
   "cell_type": "code",
   "execution_count": 12,
   "metadata": {
    "execution": {
     "iopub.execute_input": "2022-11-03T12:27:19.673954Z",
     "iopub.status.busy": "2022-11-03T12:27:19.673742Z",
     "iopub.status.idle": "2022-11-03T12:27:25.152451Z",
     "shell.execute_reply": "2022-11-03T12:27:25.151315Z",
     "shell.execute_reply.started": "2022-11-03T12:27:19.673930Z"
    }
   },
   "outputs": [],
   "source": [
    "fetal_ad = anndata.AnnData.concatenate(\n",
    "    *ads, batch_key=\"sanger_id\", batch_categories=samples\n",
    ")"
   ]
  },
  {
   "cell_type": "code",
   "execution_count": 13,
   "metadata": {
    "execution": {
     "iopub.execute_input": "2022-11-03T12:33:43.131887Z",
     "iopub.status.busy": "2022-11-03T12:33:43.131432Z",
     "iopub.status.idle": "2022-11-03T12:33:43.825283Z",
     "shell.execute_reply": "2022-11-03T12:33:43.824118Z",
     "shell.execute_reply.started": "2022-11-03T12:33:43.131837Z"
    },
    "tags": []
   },
   "outputs": [
    {
     "data": {
      "text/plain": [
       "AnnData object with n_obs × n_vars = 235201 × 33694\n",
       "    obs: 'n_counts', 'cell_caller', 'scrublet_score', 'scrublet_score_z', 'cluster_scrublet_score', 'bh_doublet_pval', 'scrublet_done', 'sanger_id'\n",
       "    var: 'gene_ids'"
      ]
     },
     "execution_count": 13,
     "metadata": {},
     "output_type": "execute_result"
    }
   ],
   "source": [
    "fetal_ad"
   ]
  },
  {
   "cell_type": "code",
   "execution_count": 14,
   "metadata": {
    "execution": {
     "iopub.execute_input": "2022-11-03T12:34:40.678687Z",
     "iopub.status.busy": "2022-11-03T12:34:40.678011Z",
     "iopub.status.idle": "2022-11-03T12:34:40.941213Z",
     "shell.execute_reply": "2022-11-03T12:34:40.940361Z",
     "shell.execute_reply.started": "2022-11-03T12:34:40.678584Z"
    },
    "tags": []
   },
   "outputs": [],
   "source": [
    "fetal_ad.obs = (\n",
    "    fetal_ad.obs.reset_index()\n",
    "    .merge(df, how=\"left\", on=[\"sanger_id\"])\n",
    "    .set_index(\"index\")\n",
    ")"
   ]
  },
  {
   "cell_type": "code",
   "execution_count": 15,
   "metadata": {
    "execution": {
     "iopub.execute_input": "2022-11-03T12:34:52.824855Z",
     "iopub.status.busy": "2022-11-03T12:34:52.824369Z",
     "iopub.status.idle": "2022-11-03T12:34:53.607870Z",
     "shell.execute_reply": "2022-11-03T12:34:53.606978Z",
     "shell.execute_reply.started": "2022-11-03T12:34:52.824802Z"
    },
    "tags": []
   },
   "outputs": [
    {
     "data": {
      "text/plain": [
       "Both    193381\n",
       "Empt     35637\n",
       "Cell      6183\n",
       "Name: cell_caller, dtype: int64"
      ]
     },
     "execution_count": 15,
     "metadata": {},
     "output_type": "execute_result"
    }
   ],
   "source": [
    "fetal_ad.obs.cell_caller.value_counts()"
   ]
  },
  {
   "cell_type": "code",
   "execution_count": 16,
   "metadata": {
    "execution": {
     "iopub.execute_input": "2022-11-03T12:34:56.248870Z",
     "iopub.status.busy": "2022-11-03T12:34:56.248395Z",
     "iopub.status.idle": "2022-11-03T12:34:56.351309Z",
     "shell.execute_reply": "2022-11-03T12:34:56.350510Z",
     "shell.execute_reply.started": "2022-11-03T12:34:56.248801Z"
    },
    "tags": []
   },
   "outputs": [],
   "source": [
    "fetal_ad.obs[\"chemistry_sorting\"] = fetal_ad.obs.chemistry + \"_\" + fetal_ad.obs.sorting"
   ]
  },
  {
   "cell_type": "code",
   "execution_count": 17,
   "metadata": {
    "execution": {
     "iopub.execute_input": "2022-11-03T12:36:20.707093Z",
     "iopub.status.busy": "2022-11-03T12:36:20.706575Z",
     "iopub.status.idle": "2022-11-03T12:36:21.435192Z",
     "shell.execute_reply": "2022-11-03T12:36:21.434267Z",
     "shell.execute_reply.started": "2022-11-03T12:36:20.707038Z"
    },
    "tags": []
   },
   "outputs": [
    {
     "data": {
      "text/plain": [
       "chemistry_sorting\n",
       "SC3Pv2_CD45N      5001.090909\n",
       "SC3Pv2_CD45P      3251.750000\n",
       "SC3Pv2_Total      1374.000000\n",
       "SC5P-R2_CD45N     8103.800000\n",
       "SC5P-R2_CD45P     4978.777778\n",
       "SC5P-R2_CD45en    6973.500000\n",
       "dtype: float64"
      ]
     },
     "execution_count": 17,
     "metadata": {},
     "output_type": "execute_result"
    }
   ],
   "source": [
    "fetal_ad.obs.groupby([\"chemistry_sorting\", \"sanger_id\"]).size().groupby(\n",
    "    \"chemistry_sorting\"\n",
    ").mean()"
   ]
  },
  {
   "cell_type": "code",
   "execution_count": 7,
   "metadata": {
    "execution": {
     "iopub.execute_input": "2022-11-03T13:16:48.951288Z",
     "iopub.status.busy": "2022-11-03T13:16:48.950825Z",
     "iopub.status.idle": "2022-11-03T13:16:48.995573Z",
     "shell.execute_reply": "2022-11-03T13:16:48.994619Z",
     "shell.execute_reply.started": "2022-11-03T13:16:48.951236Z"
    },
    "tags": []
   },
   "outputs": [
    {
     "data": {
      "text/plain": [
       "AnnData object with n_obs × n_vars = 235201 × 33694\n",
       "    obs: 'bh_doublet_pval', 'cell_caller', 'cluster_scrublet_score', 'doublet_pval', 'mt_prop', 'n_counts', 'n_genes', 'sanger_id', 'scrublet_score', 'chemistry', 'donor', 'gender', 'pcw', 'sorting', 'sample', 'chemistry_sorting'\n",
       "    var: 'gene_ids', 'cc'"
      ]
     },
     "execution_count": 7,
     "metadata": {},
     "output_type": "execute_result"
    }
   ],
   "source": [
    "fetal_ad"
   ]
  },
  {
   "cell_type": "code",
   "execution_count": 8,
   "metadata": {
    "execution": {
     "iopub.execute_input": "2022-11-03T13:16:53.518270Z",
     "iopub.status.busy": "2022-11-03T13:16:53.517844Z",
     "iopub.status.idle": "2022-11-03T13:16:53.683420Z",
     "shell.execute_reply": "2022-11-03T13:16:53.682474Z",
     "shell.execute_reply.started": "2022-11-03T13:16:53.518220Z"
    },
    "tags": []
   },
   "outputs": [],
   "source": [
    "annot = pd.read_csv(\n",
    "    RACHEL19_ANNOT_TSV,\n",
    "    sep=\"\\t\",\n",
    "    header=None,\n",
    "    names=[\"index\", \"annot\"],\n",
    "    index_col=0,\n",
    ")"
   ]
  },
  {
   "cell_type": "code",
   "execution_count": 14,
   "metadata": {
    "execution": {
     "iopub.execute_input": "2022-11-03T13:18:03.952978Z",
     "iopub.status.busy": "2022-11-03T13:18:03.952410Z",
     "iopub.status.idle": "2022-11-03T13:18:04.143017Z",
     "shell.execute_reply": "2022-11-03T13:18:04.142270Z",
     "shell.execute_reply.started": "2022-11-03T13:18:03.952921Z"
    },
    "tags": []
   },
   "outputs": [],
   "source": [
    "fetal_ad.obs[\"annot\"] = fetal_ad.obs.merge(\n",
    "    annot, how=\"left\", left_index=True, right_index=True\n",
    ")[\"annot\"].astype(str)"
   ]
  },
  {
   "cell_type": "code",
   "execution_count": 15,
   "metadata": {
    "execution": {
     "iopub.execute_input": "2022-11-03T13:18:05.127086Z",
     "iopub.status.busy": "2022-11-03T13:18:05.126667Z",
     "iopub.status.idle": "2022-11-03T13:18:05.199571Z",
     "shell.execute_reply": "2022-11-03T13:18:05.198606Z",
     "shell.execute_reply.started": "2022-11-03T13:18:05.127038Z"
    },
    "tags": []
   },
   "outputs": [
    {
     "data": {
      "text/html": [
       "<div>\n",
       "<style scoped>\n",
       "    .dataframe tbody tr th:only-of-type {\n",
       "        vertical-align: middle;\n",
       "    }\n",
       "\n",
       "    .dataframe tbody tr th {\n",
       "        vertical-align: top;\n",
       "    }\n",
       "\n",
       "    .dataframe thead th {\n",
       "        text-align: right;\n",
       "    }\n",
       "</style>\n",
       "<table border=\"1\" class=\"dataframe\">\n",
       "  <thead>\n",
       "    <tr style=\"text-align: right;\">\n",
       "      <th></th>\n",
       "      <th>bh_doublet_pval</th>\n",
       "      <th>cell_caller</th>\n",
       "      <th>cluster_scrublet_score</th>\n",
       "      <th>doublet_pval</th>\n",
       "      <th>mt_prop</th>\n",
       "      <th>n_counts</th>\n",
       "      <th>n_genes</th>\n",
       "      <th>sanger_id</th>\n",
       "      <th>scrublet_score</th>\n",
       "      <th>chemistry</th>\n",
       "      <th>donor</th>\n",
       "      <th>gender</th>\n",
       "      <th>pcw</th>\n",
       "      <th>sorting</th>\n",
       "      <th>sample</th>\n",
       "      <th>chemistry_sorting</th>\n",
       "      <th>annot</th>\n",
       "    </tr>\n",
       "    <tr>\n",
       "      <th>index</th>\n",
       "      <th></th>\n",
       "      <th></th>\n",
       "      <th></th>\n",
       "      <th></th>\n",
       "      <th></th>\n",
       "      <th></th>\n",
       "      <th></th>\n",
       "      <th></th>\n",
       "      <th></th>\n",
       "      <th></th>\n",
       "      <th></th>\n",
       "      <th></th>\n",
       "      <th></th>\n",
       "      <th></th>\n",
       "      <th></th>\n",
       "      <th></th>\n",
       "      <th></th>\n",
       "    </tr>\n",
       "  </thead>\n",
       "  <tbody>\n",
       "    <tr>\n",
       "      <th>AAACCTGCACTCTGTC-1-4834STDY7002879</th>\n",
       "      <td>0.907861</td>\n",
       "      <td>Empt</td>\n",
       "      <td>0.164557</td>\n",
       "      <td>0.455284</td>\n",
       "      <td>0.202597</td>\n",
       "      <td>385.0</td>\n",
       "      <td>239</td>\n",
       "      <td>4834STDY7002879</td>\n",
       "      <td>0.105590</td>\n",
       "      <td>SC3Pv2</td>\n",
       "      <td>F16</td>\n",
       "      <td>male</td>\n",
       "      <td>8</td>\n",
       "      <td>CD45P</td>\n",
       "      <td>F16_male_8+1PCW</td>\n",
       "      <td>SC3Pv2_CD45P</td>\n",
       "      <td>nan</td>\n",
       "    </tr>\n",
       "    <tr>\n",
       "      <th>AAACCTGGTCAGTGGA-1-4834STDY7002879</th>\n",
       "      <td>0.907861</td>\n",
       "      <td>Both</td>\n",
       "      <td>0.157082</td>\n",
       "      <td>0.500000</td>\n",
       "      <td>0.062532</td>\n",
       "      <td>5917.0</td>\n",
       "      <td>1776</td>\n",
       "      <td>4834STDY7002879</td>\n",
       "      <td>0.225806</td>\n",
       "      <td>SC3Pv2</td>\n",
       "      <td>F16</td>\n",
       "      <td>male</td>\n",
       "      <td>8</td>\n",
       "      <td>CD45P</td>\n",
       "      <td>F16_male_8+1PCW</td>\n",
       "      <td>SC3Pv2_CD45P</td>\n",
       "      <td>fs_Macrophage</td>\n",
       "    </tr>\n",
       "    <tr>\n",
       "      <th>AAAGATGGTCGATTGT-1-4834STDY7002879</th>\n",
       "      <td>0.907861</td>\n",
       "      <td>Both</td>\n",
       "      <td>0.157082</td>\n",
       "      <td>0.500000</td>\n",
       "      <td>0.030894</td>\n",
       "      <td>10261.0</td>\n",
       "      <td>2750</td>\n",
       "      <td>4834STDY7002879</td>\n",
       "      <td>0.149606</td>\n",
       "      <td>SC3Pv2</td>\n",
       "      <td>F16</td>\n",
       "      <td>male</td>\n",
       "      <td>8</td>\n",
       "      <td>CD45P</td>\n",
       "      <td>F16_male_8+1PCW</td>\n",
       "      <td>SC3Pv2_CD45P</td>\n",
       "      <td>fs_Monocyte</td>\n",
       "    </tr>\n",
       "    <tr>\n",
       "      <th>AAAGCAAAGATGTGGC-1-4834STDY7002879</th>\n",
       "      <td>0.882352</td>\n",
       "      <td>Both</td>\n",
       "      <td>0.225806</td>\n",
       "      <td>0.150885</td>\n",
       "      <td>0.012647</td>\n",
       "      <td>7749.0</td>\n",
       "      <td>2308</td>\n",
       "      <td>4834STDY7002879</td>\n",
       "      <td>0.201970</td>\n",
       "      <td>SC3Pv2</td>\n",
       "      <td>F16</td>\n",
       "      <td>male</td>\n",
       "      <td>8</td>\n",
       "      <td>CD45P</td>\n",
       "      <td>F16_male_8+1PCW</td>\n",
       "      <td>SC3Pv2_CD45P</td>\n",
       "      <td>fs_Macrophage</td>\n",
       "    </tr>\n",
       "    <tr>\n",
       "      <th>AAAGCAACAAGCCGTC-1-4834STDY7002879</th>\n",
       "      <td>0.907861</td>\n",
       "      <td>Empt</td>\n",
       "      <td>0.164557</td>\n",
       "      <td>0.455284</td>\n",
       "      <td>0.197686</td>\n",
       "      <td>1037.0</td>\n",
       "      <td>606</td>\n",
       "      <td>4834STDY7002879</td>\n",
       "      <td>0.225806</td>\n",
       "      <td>SC3Pv2</td>\n",
       "      <td>F16</td>\n",
       "      <td>male</td>\n",
       "      <td>8</td>\n",
       "      <td>CD45P</td>\n",
       "      <td>F16_male_8+1PCW</td>\n",
       "      <td>SC3Pv2_CD45P</td>\n",
       "      <td>nan</td>\n",
       "    </tr>\n",
       "  </tbody>\n",
       "</table>\n",
       "</div>"
      ],
      "text/plain": [
       "                                    bh_doublet_pval cell_caller  \\\n",
       "index                                                             \n",
       "AAACCTGCACTCTGTC-1-4834STDY7002879         0.907861        Empt   \n",
       "AAACCTGGTCAGTGGA-1-4834STDY7002879         0.907861        Both   \n",
       "AAAGATGGTCGATTGT-1-4834STDY7002879         0.907861        Both   \n",
       "AAAGCAAAGATGTGGC-1-4834STDY7002879         0.882352        Both   \n",
       "AAAGCAACAAGCCGTC-1-4834STDY7002879         0.907861        Empt   \n",
       "\n",
       "                                    cluster_scrublet_score  doublet_pval  \\\n",
       "index                                                                      \n",
       "AAACCTGCACTCTGTC-1-4834STDY7002879                0.164557      0.455284   \n",
       "AAACCTGGTCAGTGGA-1-4834STDY7002879                0.157082      0.500000   \n",
       "AAAGATGGTCGATTGT-1-4834STDY7002879                0.157082      0.500000   \n",
       "AAAGCAAAGATGTGGC-1-4834STDY7002879                0.225806      0.150885   \n",
       "AAAGCAACAAGCCGTC-1-4834STDY7002879                0.164557      0.455284   \n",
       "\n",
       "                                     mt_prop  n_counts  n_genes  \\\n",
       "index                                                             \n",
       "AAACCTGCACTCTGTC-1-4834STDY7002879  0.202597     385.0      239   \n",
       "AAACCTGGTCAGTGGA-1-4834STDY7002879  0.062532    5917.0     1776   \n",
       "AAAGATGGTCGATTGT-1-4834STDY7002879  0.030894   10261.0     2750   \n",
       "AAAGCAAAGATGTGGC-1-4834STDY7002879  0.012647    7749.0     2308   \n",
       "AAAGCAACAAGCCGTC-1-4834STDY7002879  0.197686    1037.0      606   \n",
       "\n",
       "                                          sanger_id  scrublet_score chemistry  \\\n",
       "index                                                                           \n",
       "AAACCTGCACTCTGTC-1-4834STDY7002879  4834STDY7002879        0.105590    SC3Pv2   \n",
       "AAACCTGGTCAGTGGA-1-4834STDY7002879  4834STDY7002879        0.225806    SC3Pv2   \n",
       "AAAGATGGTCGATTGT-1-4834STDY7002879  4834STDY7002879        0.149606    SC3Pv2   \n",
       "AAAGCAAAGATGTGGC-1-4834STDY7002879  4834STDY7002879        0.201970    SC3Pv2   \n",
       "AAAGCAACAAGCCGTC-1-4834STDY7002879  4834STDY7002879        0.225806    SC3Pv2   \n",
       "\n",
       "                                   donor gender  pcw sorting           sample  \\\n",
       "index                                                                           \n",
       "AAACCTGCACTCTGTC-1-4834STDY7002879   F16   male    8   CD45P  F16_male_8+1PCW   \n",
       "AAACCTGGTCAGTGGA-1-4834STDY7002879   F16   male    8   CD45P  F16_male_8+1PCW   \n",
       "AAAGATGGTCGATTGT-1-4834STDY7002879   F16   male    8   CD45P  F16_male_8+1PCW   \n",
       "AAAGCAAAGATGTGGC-1-4834STDY7002879   F16   male    8   CD45P  F16_male_8+1PCW   \n",
       "AAAGCAACAAGCCGTC-1-4834STDY7002879   F16   male    8   CD45P  F16_male_8+1PCW   \n",
       "\n",
       "                                   chemistry_sorting          annot  \n",
       "index                                                                \n",
       "AAACCTGCACTCTGTC-1-4834STDY7002879      SC3Pv2_CD45P            nan  \n",
       "AAACCTGGTCAGTGGA-1-4834STDY7002879      SC3Pv2_CD45P  fs_Macrophage  \n",
       "AAAGATGGTCGATTGT-1-4834STDY7002879      SC3Pv2_CD45P    fs_Monocyte  \n",
       "AAAGCAAAGATGTGGC-1-4834STDY7002879      SC3Pv2_CD45P  fs_Macrophage  \n",
       "AAAGCAACAAGCCGTC-1-4834STDY7002879      SC3Pv2_CD45P            nan  "
      ]
     },
     "execution_count": 15,
     "metadata": {},
     "output_type": "execute_result"
    }
   ],
   "source": [
    "fetal_ad.obs.head()"
   ]
  },
  {
   "cell_type": "markdown",
   "metadata": {},
   "source": [
    "## Save object"
   ]
  },
  {
   "cell_type": "code",
   "execution_count": 26,
   "metadata": {},
   "outputs": [
    {
     "name": "stderr",
     "output_type": "stream",
     "text": [
      "... storing 'cell_caller' as categorical\n",
      "... storing 'sanger_id' as categorical\n",
      "... storing 'chemistry' as categorical\n",
      "... storing 'donor' as categorical\n",
      "... storing 'gender' as categorical\n",
      "... storing 'sorting' as categorical\n",
      "... storing 'sample' as categorical\n",
      "... storing 'chemistry_sorting' as categorical\n"
     ]
    }
   ],
   "source": [
    "fetal_ad.write(\"../data/h5ad/fetal_skin_raw.20190926.h5ad\", compression=\"gzip\")"
   ]
  }
 ],
 "metadata": {
  "kernelspec": {
   "display_name": "env_manage",
   "language": "python",
   "name": "env_manage"
  },
  "language_info": {
   "codemirror_mode": {
    "name": "ipython",
    "version": 3
   },
   "file_extension": ".py",
   "mimetype": "text/x-python",
   "name": "python",
   "nbconvert_exporter": "python",
   "pygments_lexer": "ipython3",
   "version": "3.10.6"
  },
  "toc-autonumbering": true,
  "widgets": {
   "application/vnd.jupyter.widget-state+json": {
    "state": {},
    "version_major": 2,
    "version_minor": 0
   }
  }
 },
 "nbformat": 4,
 "nbformat_minor": 4
}
