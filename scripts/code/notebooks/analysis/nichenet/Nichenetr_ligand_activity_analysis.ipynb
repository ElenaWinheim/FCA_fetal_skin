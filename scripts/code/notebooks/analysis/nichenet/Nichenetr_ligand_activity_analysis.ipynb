{
 "cells": [
  {
   "cell_type": "markdown",
   "id": "driven-donor",
   "metadata": {},
   "source": [
    "NicheNet’s ligand activity analysis on a gene set of interest: predict\n",
    "active ligands and their target genes\n",
    "================\n",
    "Robin Browaeys\n",
    "2019-01-17\n",
    "\n",
    "<!-- github markdown built using \n",
    "rmarkdown::render(\"vignettes/ligand_activity_geneset.Rmd\", output_format = \"github_document\")\n",
    "-->\n",
    "\n",
    "In this vignette, you can learn how to perform a basic NicheNet\n",
    "analysis. A NicheNet analysis can help you to generate hypotheses about\n",
    "an intercellular communication process of interest for which you have\n",
    "bulk or single-cell gene expression data. Specifically, NicheNet can\n",
    "predict 1) which ligands from one cell population (“sender/niche”) are\n",
    "most likely to affect target gene expression in an interacting cell\n",
    "population (“receiver/target”) and 2) which specific target genes are\n",
    "affected by which of these predicted ligands.\n",
    "\n",
    "Because NicheNet studies how ligands affect gene expression in\n",
    "neighboring cells, you need to have data about this effect in gene\n",
    "expression you want to study. So, you need to have a clear set of genes\n",
    "that are putatively affected by ligands from one of more interacting\n",
    "cells.\n",
    "\n",
    "The pipeline of a basic NicheNet analysis consist mainly of the\n",
    "following steps:\n",
    "\n",
    "  - 1.  Define a “sender/niche” cell population and a “receiver/target”\n",
    "        cell population present in your expression data and determine\n",
    "        which genes are expressed in both populations\n",
    "\n",
    "  - 2.  Define a gene set of interest: these are the genes in the\n",
    "        “receiver/target” cell population that are potentially\n",
    "        affected by ligands expressed by interacting cells (e.g. genes\n",
    "        differentially expressed upon cell-cell interaction)\n",
    "\n",
    "  - 3.  Define a set of potential ligands: these are ligands that are\n",
    "        expressed by the “sender/niche” cell population and bind a\n",
    "        (putative) receptor expressed by the “receiver/target”\n",
    "        population\n",
    "\n",
    "  - 4)  Perform NicheNet ligand activity analysis: rank the potential\n",
    "        ligands based on the presence of their target genes in the gene\n",
    "        set of interest (compared to the background set of genes)\n",
    "\n",
    "  - 5)  Infer top-predicted target genes of ligands that are top-ranked\n",
    "        in the ligand activity analysis\n",
    "\n",
    "This vignette guides you in detail through all these steps. As example\n",
    "expression data of interacting cells, we will use data from Puram et\n",
    "al. to explore intercellular communication in the tumor\n",
    "microenvironment in head and neck squamous cell carcinoma (HNSCC) (See\n",
    "Puram et al. 2017). More specifically, we will look at which ligands\n",
    "expressed by cancer-associated fibroblasts (CAFs) can induce a specific\n",
    "gene program in neighboring malignant cells. This program, a partial\n",
    "epithelial-mesenschymal transition (p-EMT) program, could be linked to\n",
    "metastasis by Puram et al. \n",
    "\n",
    "The used ligand-target matrix and example expression data of interacting\n",
    "cells can be downloaded from Zenodo.\n",
    "[![DOI](https://zenodo.org/badge/DOI/10.5281/zenodo.3260758.svg)](https://doi.org/10.5281/zenodo.3260758)\n",
    "\n",
    "## Step 0: Load required packages, NicheNet’s ligand-target prior model and processed expression data of interacting cells\n",
    "\n",
    "Packages:"
   ]
  },
  {
   "cell_type": "markdown",
   "id": "proprietary-cargo",
   "metadata": {},
   "source": [
    "``` r"
   ]
  },
  {
   "cell_type": "code",
   "execution_count": null,
   "id": "working-spokesman",
   "metadata": {},
   "outputs": [],
   "source": [
    "conda install -c conda-forge -c bioconda -c defaults r-essentials r-remotes geos cmake -y && R -e 'options(Ncpus = 20); install.packages(c(\"BiocManager\", \"rstatix\", \"Seurat\"), repos=\"https://mirror.truenetwork.ru/CRAN/\"); q()' && R -e 'BiocManager::install(c(\"ComplexHeatmap\", \"limma\", )); q()' && R -e 'remotes::install_github(\"saeyslab/nichenetr\", upgrade = \"always\"); q()'"
   ]
  },
  {
   "cell_type": "code",
   "execution_count": null,
   "id": "objective-sword",
   "metadata": {},
   "outputs": [],
   "source": [
    "# mamba create -n FCA_omnipathR -c conda-forge -c bioconda bioconductor-omnipathr r-seurat r-seuratobject seurat-scripts r-recommended r-irkernel Jupyter"
   ]
  },
  {
   "cell_type": "code",
   "execution_count": null,
   "id": "municipal-ireland",
   "metadata": {
    "tags": []
   },
   "outputs": [],
   "source": [
    "/lustre/scratch126/cellgen/team205/nh3/skin/20200406_microglia/compare_fetal_skin_microglial_macrophages_to_embryo_macrophages.h5ad\n",
    "/lustre/scratch126/cellgen/team205/nh3/skin/20200406_microglia/compare_fetal_skin_microglial_macrophages_to_other_tissues.h5ad\n",
    "/lustre/scratch126/cellgen/team205/nh3/skin/20200804_fig1/fetal_skin.processed_with_norm_X_counts_layer.maternal_removed.20211029.h5ad\n",
    "/lustre/scratch126/cellgen/team205/nh3/skin/20210611_final_object/fetal_skin.TREM2_macrophage.count.h5ad\n",
    "/lustre/scratch126/cellgen/team205/nh3/skin/20211022_final_figures/fetal_skin.processed_with_norm_X_counts_layer.maternal_removed.20211029.sce.rds\n",
    "/lustre/scratch126/cellgen/team205/nh3/skin/20211022_final_figures/h5ad/fetal_skin.processed_with_norm_X_counts_layer.maternal_removed.20211029.h5ad\n",
    "/lustre/scratch126/cellgen/team205/nh3/skin/20211022_final_figures/h5ad/fsk.vascular_endothelium.count_with_PCA_UMAP_for_monocle.20220503.h5ad\n",
    "/lustre/scratch126/cellgen/team205/nh3/skin/20211022_final_figures/h5ad/fsk.vascular_endothelium.count_with_PCA_UMAP_for_monocle.20220531.h5ad\n",
    "/lustre/scratch126/cellgen/team205/nh3/skin/20211022_final_figures/h5ad/org.vascular_endothelium.count_with_PCA_UMAP_for_monocle.20220531.h5ad\n",
    "/lustre/scratch126/cellgen/team205/nh3/skin/20211022_final_figures/h5ad/pooled_adult_fetal_skin.counts.h5ad\n",
    "/lustre/scratch126/cellgen/team205/nh3/skin/20211022_final_figures/h5ad/pooled_fetal_organoid.count_with_annot.h5ad\n",
    "/lustre/scratch126/cellgen/team205/nh3/skin/20211022_final_figures/h5ad/pooled_fsk_org.keratinocytes.count_with_PCA_for_monocle.20220214.h5ad\n",
    "/lustre/scratch126/cellgen/team205/nh3/skin/20211022_final_figures/h5ad/pooled_fsk_org.keratinocytes.count_with_PCA_for_monocle.20220223.h5ad\n",
    "/lustre/scratch126/cellgen/team205/nh3/skin/20211022_final_figures/h5ad/pooled_fsk_org.mesenchymal.count_with_PCA_UMAP_for_monocle.20220228.downsampled.h5ad\n",
    "/lustre/scratch126/cellgen/team205/nh3/skin/20211022_final_figures/h5ad/pooled_fsk_org.mesenchymal.count_with_PCA_UMAP_for_monocle.20220228.h5ad\n",
    "/lustre/scratch126/cellgen/team205/nh3/skin/20211022_final_figures/h5ad/pooled_fsk_org.mesenchymal.count_with_PCA_UMAP_for_monocle.20220308.downsampled.h5ad\n",
    "/lustre/scratch126/cellgen/team205/nh3/skin/20211022_final_figures/h5ad/pooled.vascular_endothelium.count_with_PCA_UMAP_for_monocle.20220531.h5ad\n",
    "/lustre/scratch126/cellgen/team205/nh3/skin/20211022_final_figures/monocle/fsk.vascular_endothelium.count_with_PCA_UMAP_for_monocle.20220503.cds.rds\n",
    "/lustre/scratch126/cellgen/team205/nh3/skin/20211022_final_figures/monocle/pooled_fsk_org.keratinocytes.count_with_PCA_for_monocle.20220214.cds.rds\n",
    "/lustre/scratch126/cellgen/team205/nh3/skin/20211022_final_figures/monocle/pooled_fsk_org.keratinocytes.count_with_PCA_for_monocle.20220223.cds.rds\n",
    "/lustre/scratch126/cellgen/team205/nh3/skin/20211022_final_figures/monocle/pooled_fsk_org.mesenchymal.count_with_PCA_UMAP_for_monocle.20220228.cds.rds\n",
    "/lustre/scratch126/cellgen/team205/nh3/skin/20211022_final_figures/monocle/pooled_fsk_org.mesenchymal.count_with_PCA_UMAP_for_monocle.20220228.downsampled.cds.rds\n",
    "/lustre/scratch126/cellgen/team205/nh3/skin/20211022_final_figures/monocle/pooled_fsk_org.mesenchymal.count_with_PCA_UMAP_for_monocle.20220308.downsampled.cds.rds\n",
    "/lustre/scratch126/cellgen/team205/nh3/skin/20211022_final_figures/monocle/pooled.vascular_endothelium.count_with_PCA_UMAP_for_monocle.20220531.cds.rds\n",
    "/lustre/scratch126/cellgen/team205/nh3/skin/20211022_final_figures/pooled_adult_fetal_skin.counts.cds.rds\n",
    "/lustre/scratch126/cellgen/team205/nh3/skin/20211022_final_figures/pooled_adult_fetal_skin.counts.sce.rds\n",
    "/lustre/scratch126/cellgen/team205/nh3/skin/20211214_include_orgnoid_day6/organoid_day6to133_fibro_endo.raw_autoqc.counts.cds.rds\n",
    "/lustre/scratch126/cellgen/team205/nh3/skin/20211214_include_orgnoid_day6/organoid_day6to133_fibro_endo.raw_autoqc.downsampled.counts.cds.rds"
   ]
  },
  {
   "cell_type": "code",
   "execution_count": null,
   "id": "enormous-layer",
   "metadata": {
    "jupyter": {
     "source_hidden": true
    },
    "tags": []
   },
   "outputs": [],
   "source": [
    "/lustre/scratch126/cellgen/team205/nh3/skin/20200218_extract_fetal_endothelium_for_gary/fetal_endothelium.raw.20200218.h5ad\n",
    "/lustre/scratch126/cellgen/team205/nh3/skin/20200427_organoid_integration/organoid_concatenated.raw.h5ad\n",
    "/lustre/scratch126/cellgen/team205/nh3/skin/20200626_make_figure_for_Muzz/fetal_skin_bbknn.annotated.20200626.downsampled.raw.h5ad\n",
    "/lustre/scratch126/cellgen/team205/nh3/skin/20200911_scvelo/fsk_B.velocity.raw.h5ad\n",
    "/lustre/scratch126/cellgen/team205/nh3/skin/20200911_scvelo/fsk_KC.velocity.raw.h5ad\n",
    "/lustre/scratch126/cellgen/team205/nh3/skin/20200911_scvelo/fsk_skeletal_muscle.velocity.raw.h5ad\n",
    "/lustre/scratch126/cellgen/team205/nh3/skin/20200911_scvelo/fsk_smooth_muscle.velocity.raw.h5ad\n",
    "/lustre/scratch126/cellgen/team205/nh3/skin/20200911_scvelo/fsk_T_NK_ILC.velocity.raw.h5ad\n",
    "/lustre/scratch126/cellgen/team205/nh3/skin/20201107_organoid_cellphonedb/organoid_concatenated.raw.h5ad\n",
    "/lustre/scratch126/cellgen/team205/nh3/skin/20210423_TNK_reclustering/reitermaier21/GSE156972_raw_gene_bc_matrices_h5.h5\n",
    "/lustre/scratch126/cellgen/team205/nh3/skin/20210520_compare_with_cao20/hildreth21.raw.h5ad\n",
    "/lustre/scratch126/cellgen/team205/nh3/skin/20211124_integrate_rie20/rie20.raw.h5ad\n",
    "/lustre/scratch126/cellgen/team205/nh3/skin/20211214_include_orgnoid_day6/day-6_1-3_fetal_wks_DSP.raw.h5ad\n",
    "/lustre/scratch126/cellgen/team205/nh3/skin/20211214_include_orgnoid_day6/day-6_1-3_fetal_wks_WA25.raw.h5ad\n",
    "/lustre/scratch126/cellgen/team205/nh3/skin/20211214_include_orgnoid_day6/organoid_day6to133_fibro_endo.raw_autoqc.counts.cds.rds\n",
    "/lustre/scratch126/cellgen/team205/nh3/skin/20211214_include_orgnoid_day6/organoid_day6to133_fibro_endo.raw_autoqc.downsampled.counts.cds.rds\n",
    "/lustre/scratch126/cellgen/team205/nh3/skin/20211214_include_orgnoid_day6/organoid_day6to133_fibro_endo.raw_autoqc.downsampled.h5ad\n",
    "/lustre/scratch126/cellgen/team205/nh3/skin/20211214_include_orgnoid_day6/organoid_day6to133_fibro_endo.raw_autoqc.h5ad\n",
    "/lustre/scratch126/cellgen/team205/nh3/skin/20211214_include_orgnoid_day6/organoid_day6to133.raw_autoqc.h5ad\n",
    "/lustre/scratch126/cellgen/team205/nh3/skin/20211214_include_orgnoid_day6/organoid_day6to133.raw.h5ad\n",
    "/lustre/scratch126/cellgen/team205/nh3/skin/data/h5ad/adata_HM_ipsc_raw_qc_PCA_LR_150522.h5ad\n",
    "/lustre/scratch126/cellgen/team205/nh3/skin/data/h5ad/adult_skin.v8_raw.h5ad\n",
    "/lustre/scratch126/cellgen/team205/nh3/skin/data/h5ad/adult_skin.v8_raw.melanocytes.h5ad\n",
    "/lustre/scratch126/cellgen/team205/nh3/skin/data/h5ad/fetal_skin_raw.20190926.h5ad\n",
    "/lustre/scratch126/cellgen/team205/nh3/skin/data/h5ad/fetal_skin_raw.h5ad\n",
    "/lustre/scratch126/cellgen/team205/nh3/skin/data/h5ad/fetal_skin_velocyto_raw.h5ad\n",
    "/lustre/scratch126/cellgen/team205/nh3/skin/data/h5ad/V6_IPSC_DC_qc_total_raw_data_150522.h5ad"
   ]
  },
  {
   "cell_type": "code",
   "execution_count": 1,
   "id": "cardiovascular-diagnosis",
   "metadata": {
    "execution": {
     "iopub.execute_input": "2023-01-19T11:36:50.965140Z",
     "iopub.status.busy": "2023-01-19T11:36:50.961691Z",
     "iopub.status.idle": "2023-01-19T11:36:59.570356Z",
     "shell.execute_reply": "2023-01-19T11:36:59.568475Z"
    },
    "tags": []
   },
   "outputs": [
    {
     "name": "stderr",
     "output_type": "stream",
     "text": [
      "Warning message in system(\"timedatectl\", intern = TRUE):\n",
      "“running command 'timedatectl' had status 1”\n",
      "── \u001b[1mAttaching packages\u001b[22m ─────────────────────────────────────── tidyverse 1.3.2 ──\n",
      "\u001b[32m✔\u001b[39m \u001b[34mggplot2\u001b[39m 3.4.0      \u001b[32m✔\u001b[39m \u001b[34mpurrr  \u001b[39m 1.0.1 \n",
      "\u001b[32m✔\u001b[39m \u001b[34mtibble \u001b[39m 3.1.8      \u001b[32m✔\u001b[39m \u001b[34mdplyr  \u001b[39m 1.0.10\n",
      "\u001b[32m✔\u001b[39m \u001b[34mtidyr  \u001b[39m 1.2.1      \u001b[32m✔\u001b[39m \u001b[34mstringr\u001b[39m 1.5.0 \n",
      "\u001b[32m✔\u001b[39m \u001b[34mreadr  \u001b[39m 2.1.3      \u001b[32m✔\u001b[39m \u001b[34mforcats\u001b[39m 0.5.2 \n",
      "── \u001b[1mConflicts\u001b[22m ────────────────────────────────────────── tidyverse_conflicts() ──\n",
      "\u001b[31m✖\u001b[39m \u001b[34mdplyr\u001b[39m::\u001b[32mfilter()\u001b[39m masks \u001b[34mstats\u001b[39m::filter()\n",
      "\u001b[31m✖\u001b[39m \u001b[34mdplyr\u001b[39m::\u001b[32mlag()\u001b[39m    masks \u001b[34mstats\u001b[39m::lag()\n",
      "Registered S3 method overwritten by 'SeuratDisk':\n",
      "  method            from  \n",
      "  as.sparse.H5Group Seurat\n",
      "\n",
      "Attaching SeuratObject\n",
      "\n"
     ]
    }
   ],
   "source": [
    "library(nichenetr)\n",
    "library(tidyverse)\n",
    "library(SeuratDisk)\n",
    "library(Seurat)"
   ]
  },
  {
   "cell_type": "markdown",
   "id": "sensitive-chocolate",
   "metadata": {},
   "source": [
    "Ligand-target model:\n",
    "\n",
    "This model denotes the prior potential that a particular ligand might\n",
    "regulate the expression of a specific target gene."
   ]
  },
  {
   "cell_type": "code",
   "execution_count": 8,
   "id": "minor-sweden",
   "metadata": {
    "execution": {
     "iopub.execute_input": "2023-01-17T08:42:33.692362Z",
     "iopub.status.busy": "2023-01-17T08:42:33.690665Z",
     "iopub.status.idle": "2023-01-17T08:42:54.733704Z",
     "shell.execute_reply": "2023-01-17T08:42:54.732013Z"
    },
    "tags": []
   },
   "outputs": [],
   "source": [
    "ligand_target_matrix <- SeuratDisk:::Convert(\"/lustre/scratch126/cellgen/team205/nh3/skin/20211022_final_figures/h5ad/pooled_fetal_organoid.count_with_annot.h5ad\", \n",
    "                                            dest=\"../../../data/pooled_fetal_organoid.count_with_annot.h5seurat\", overwrite=FALSE)"
   ]
  },
  {
   "cell_type": "code",
   "execution_count": 2,
   "id": "elder-overview",
   "metadata": {
    "execution": {
     "iopub.execute_input": "2023-01-19T11:37:18.011497Z",
     "iopub.status.busy": "2023-01-19T11:37:17.973929Z",
     "iopub.status.idle": "2023-01-19T11:45:29.729200Z",
     "shell.execute_reply": "2023-01-19T11:45:29.727336Z"
    },
    "tags": []
   },
   "outputs": [
    {
     "name": "stderr",
     "output_type": "stream",
     "text": [
      "Validating h5Seurat file\n",
      "\n",
      "Warning message:\n",
      "“Feature names cannot have underscores ('_'), replacing with dashes ('-')”\n",
      "Initializing RNA with data\n",
      "\n",
      "Adding counts for RNA\n",
      "\n",
      "Adding feature-level metadata for RNA\n",
      "\n",
      "Adding command information\n",
      "\n",
      "Adding cell-level metadata\n",
      "\n",
      "Adding miscellaneous information\n",
      "\n",
      "Adding tool-specific results\n",
      "\n"
     ]
    }
   ],
   "source": [
    "ligand_target_matrix = LoadH5Seurat(\"../../../data/pooled_fetal_organoid.count_with_annot.h5seurat\")"
   ]
  },
  {
   "cell_type": "code",
   "execution_count": 4,
   "id": "victorian-region",
   "metadata": {
    "execution": {
     "iopub.execute_input": "2023-01-19T11:15:39.649024Z",
     "iopub.status.busy": "2023-01-19T11:15:39.645646Z",
     "iopub.status.idle": "2023-01-19T11:15:39.689510Z",
     "shell.execute_reply": "2023-01-19T11:15:39.687364Z"
    },
    "tags": []
   },
   "outputs": [
    {
     "data": {
      "text/html": [
       "<table class=\"dataframe\">\n",
       "<caption>A data.frame: 5 × 11</caption>\n",
       "<thead>\n",
       "\t<tr><th></th><th scope=col>dataset</th><th scope=col>donor</th><th scope=col>pcw</th><th scope=col>day</th><th scope=col>sample_id</th><th scope=col>fetal_annot</th><th scope=col>organoid_annot</th><th scope=col>pooled_annot</th><th scope=col>chemistry</th><th scope=col>gender</th><th scope=col>sorting</th></tr>\n",
       "\t<tr><th></th><th scope=col>&lt;fct&gt;</th><th scope=col>&lt;fct&gt;</th><th scope=col>&lt;int&gt;</th><th scope=col>&lt;dbl&gt;</th><th scope=col>&lt;fct&gt;</th><th scope=col>&lt;fct&gt;</th><th scope=col>&lt;fct&gt;</th><th scope=col>&lt;fct&gt;</th><th scope=col>&lt;fct&gt;</th><th scope=col>&lt;fct&gt;</th><th scope=col>&lt;fct&gt;</th></tr>\n",
       "</thead>\n",
       "<tbody>\n",
       "\t<tr><th scope=row>AAACCTGGTCAGTGGA-1-4834STDY7002879-fetal</th><td>fetal</td><td>F16</td><td>8</td><td>NaN</td><td>4834STDY7002879</td><td>LYVE1++ macrophage                  </td><td>nan</td><td>fetal_LYVE1++ macrophage                  </td><td>SC3Pv2</td><td>male</td><td>CD45P</td></tr>\n",
       "\t<tr><th scope=row>AAAGATGGTCGATTGT-1-4834STDY7002879-fetal</th><td>fetal</td><td>F16</td><td>8</td><td>NaN</td><td>4834STDY7002879</td><td>Monocyte (activated/differentiating)</td><td>nan</td><td>fetal_Monocyte (activated/differentiating)</td><td>SC3Pv2</td><td>male</td><td>CD45P</td></tr>\n",
       "\t<tr><th scope=row>AAAGCAAAGATGTGGC-1-4834STDY7002879-fetal</th><td>fetal</td><td>F16</td><td>8</td><td>NaN</td><td>4834STDY7002879</td><td>LYVE1++ macrophage                  </td><td>nan</td><td>fetal_LYVE1++ macrophage                  </td><td>SC3Pv2</td><td>male</td><td>CD45P</td></tr>\n",
       "\t<tr><th scope=row>AAAGTAGCAGATCGGA-1-4834STDY7002879-fetal</th><td>fetal</td><td>F16</td><td>8</td><td>NaN</td><td>4834STDY7002879</td><td>Eo/baso/mast cell progenitor        </td><td>nan</td><td>fetal_Eo/baso/mast cell progenitor        </td><td>SC3Pv2</td><td>male</td><td>CD45P</td></tr>\n",
       "\t<tr><th scope=row>AAAGTAGTCCGCATCT-1-4834STDY7002879-fetal</th><td>fetal</td><td>F16</td><td>8</td><td>NaN</td><td>4834STDY7002879</td><td>LYVE1++ macrophage                  </td><td>nan</td><td>fetal_LYVE1++ macrophage                  </td><td>SC3Pv2</td><td>male</td><td>CD45P</td></tr>\n",
       "</tbody>\n",
       "</table>\n"
      ],
      "text/latex": [
       "A data.frame: 5 × 11\n",
       "\\begin{tabular}{r|lllllllllll}\n",
       "  & dataset & donor & pcw & day & sample\\_id & fetal\\_annot & organoid\\_annot & pooled\\_annot & chemistry & gender & sorting\\\\\n",
       "  & <fct> & <fct> & <int> & <dbl> & <fct> & <fct> & <fct> & <fct> & <fct> & <fct> & <fct>\\\\\n",
       "\\hline\n",
       "\tAAACCTGGTCAGTGGA-1-4834STDY7002879-fetal & fetal & F16 & 8 & NaN & 4834STDY7002879 & LYVE1++ macrophage                   & nan & fetal\\_LYVE1++ macrophage                   & SC3Pv2 & male & CD45P\\\\\n",
       "\tAAAGATGGTCGATTGT-1-4834STDY7002879-fetal & fetal & F16 & 8 & NaN & 4834STDY7002879 & Monocyte (activated/differentiating) & nan & fetal\\_Monocyte (activated/differentiating) & SC3Pv2 & male & CD45P\\\\\n",
       "\tAAAGCAAAGATGTGGC-1-4834STDY7002879-fetal & fetal & F16 & 8 & NaN & 4834STDY7002879 & LYVE1++ macrophage                   & nan & fetal\\_LYVE1++ macrophage                   & SC3Pv2 & male & CD45P\\\\\n",
       "\tAAAGTAGCAGATCGGA-1-4834STDY7002879-fetal & fetal & F16 & 8 & NaN & 4834STDY7002879 & Eo/baso/mast cell progenitor         & nan & fetal\\_Eo/baso/mast cell progenitor         & SC3Pv2 & male & CD45P\\\\\n",
       "\tAAAGTAGTCCGCATCT-1-4834STDY7002879-fetal & fetal & F16 & 8 & NaN & 4834STDY7002879 & LYVE1++ macrophage                   & nan & fetal\\_LYVE1++ macrophage                   & SC3Pv2 & male & CD45P\\\\\n",
       "\\end{tabular}\n"
      ],
      "text/markdown": [
       "\n",
       "A data.frame: 5 × 11\n",
       "\n",
       "| <!--/--> | dataset &lt;fct&gt; | donor &lt;fct&gt; | pcw &lt;int&gt; | day &lt;dbl&gt; | sample_id &lt;fct&gt; | fetal_annot &lt;fct&gt; | organoid_annot &lt;fct&gt; | pooled_annot &lt;fct&gt; | chemistry &lt;fct&gt; | gender &lt;fct&gt; | sorting &lt;fct&gt; |\n",
       "|---|---|---|---|---|---|---|---|---|---|---|---|\n",
       "| AAACCTGGTCAGTGGA-1-4834STDY7002879-fetal | fetal | F16 | 8 | NaN | 4834STDY7002879 | LYVE1++ macrophage                   | nan | fetal_LYVE1++ macrophage                   | SC3Pv2 | male | CD45P |\n",
       "| AAAGATGGTCGATTGT-1-4834STDY7002879-fetal | fetal | F16 | 8 | NaN | 4834STDY7002879 | Monocyte (activated/differentiating) | nan | fetal_Monocyte (activated/differentiating) | SC3Pv2 | male | CD45P |\n",
       "| AAAGCAAAGATGTGGC-1-4834STDY7002879-fetal | fetal | F16 | 8 | NaN | 4834STDY7002879 | LYVE1++ macrophage                   | nan | fetal_LYVE1++ macrophage                   | SC3Pv2 | male | CD45P |\n",
       "| AAAGTAGCAGATCGGA-1-4834STDY7002879-fetal | fetal | F16 | 8 | NaN | 4834STDY7002879 | Eo/baso/mast cell progenitor         | nan | fetal_Eo/baso/mast cell progenitor         | SC3Pv2 | male | CD45P |\n",
       "| AAAGTAGTCCGCATCT-1-4834STDY7002879-fetal | fetal | F16 | 8 | NaN | 4834STDY7002879 | LYVE1++ macrophage                   | nan | fetal_LYVE1++ macrophage                   | SC3Pv2 | male | CD45P |\n",
       "\n"
      ],
      "text/plain": [
       "                                         dataset donor pcw day sample_id      \n",
       "AAACCTGGTCAGTGGA-1-4834STDY7002879-fetal fetal   F16   8   NaN 4834STDY7002879\n",
       "AAAGATGGTCGATTGT-1-4834STDY7002879-fetal fetal   F16   8   NaN 4834STDY7002879\n",
       "AAAGCAAAGATGTGGC-1-4834STDY7002879-fetal fetal   F16   8   NaN 4834STDY7002879\n",
       "AAAGTAGCAGATCGGA-1-4834STDY7002879-fetal fetal   F16   8   NaN 4834STDY7002879\n",
       "AAAGTAGTCCGCATCT-1-4834STDY7002879-fetal fetal   F16   8   NaN 4834STDY7002879\n",
       "                                         fetal_annot                         \n",
       "AAACCTGGTCAGTGGA-1-4834STDY7002879-fetal LYVE1++ macrophage                  \n",
       "AAAGATGGTCGATTGT-1-4834STDY7002879-fetal Monocyte (activated/differentiating)\n",
       "AAAGCAAAGATGTGGC-1-4834STDY7002879-fetal LYVE1++ macrophage                  \n",
       "AAAGTAGCAGATCGGA-1-4834STDY7002879-fetal Eo/baso/mast cell progenitor        \n",
       "AAAGTAGTCCGCATCT-1-4834STDY7002879-fetal LYVE1++ macrophage                  \n",
       "                                         organoid_annot\n",
       "AAACCTGGTCAGTGGA-1-4834STDY7002879-fetal nan           \n",
       "AAAGATGGTCGATTGT-1-4834STDY7002879-fetal nan           \n",
       "AAAGCAAAGATGTGGC-1-4834STDY7002879-fetal nan           \n",
       "AAAGTAGCAGATCGGA-1-4834STDY7002879-fetal nan           \n",
       "AAAGTAGTCCGCATCT-1-4834STDY7002879-fetal nan           \n",
       "                                         pooled_annot                              \n",
       "AAACCTGGTCAGTGGA-1-4834STDY7002879-fetal fetal_LYVE1++ macrophage                  \n",
       "AAAGATGGTCGATTGT-1-4834STDY7002879-fetal fetal_Monocyte (activated/differentiating)\n",
       "AAAGCAAAGATGTGGC-1-4834STDY7002879-fetal fetal_LYVE1++ macrophage                  \n",
       "AAAGTAGCAGATCGGA-1-4834STDY7002879-fetal fetal_Eo/baso/mast cell progenitor        \n",
       "AAAGTAGTCCGCATCT-1-4834STDY7002879-fetal fetal_LYVE1++ macrophage                  \n",
       "                                         chemistry gender sorting\n",
       "AAACCTGGTCAGTGGA-1-4834STDY7002879-fetal SC3Pv2    male   CD45P  \n",
       "AAAGATGGTCGATTGT-1-4834STDY7002879-fetal SC3Pv2    male   CD45P  \n",
       "AAAGCAAAGATGTGGC-1-4834STDY7002879-fetal SC3Pv2    male   CD45P  \n",
       "AAAGTAGCAGATCGGA-1-4834STDY7002879-fetal SC3Pv2    male   CD45P  \n",
       "AAAGTAGTCCGCATCT-1-4834STDY7002879-fetal SC3Pv2    male   CD45P  "
      ]
     },
     "metadata": {},
     "output_type": "display_data"
    }
   ],
   "source": [
    "head(ligand_target_matrix@meta.data, 5)"
   ]
  },
  {
   "cell_type": "code",
   "execution_count": 5,
   "id": "roman-stevens",
   "metadata": {
    "execution": {
     "iopub.execute_input": "2023-01-19T12:15:12.653448Z",
     "iopub.status.busy": "2023-01-19T12:15:12.651909Z",
     "iopub.status.idle": "2023-01-19T12:15:12.680935Z",
     "shell.execute_reply": "2023-01-19T12:15:12.679196Z"
    }
   },
   "outputs": [
    {
     "data": {
      "text/plain": [
       "An object of class Seurat \n",
       "46794 features across 310368 samples within 1 assay \n",
       "Active assay: RNA (46794 features, 0 variable features)"
      ]
     },
     "metadata": {},
     "output_type": "display_data"
    }
   ],
   "source": [
    "ligand_target_matrix"
   ]
  },
  {
   "cell_type": "code",
   "execution_count": 6,
   "id": "satellite-worship",
   "metadata": {
    "execution": {
     "iopub.execute_input": "2023-01-19T12:16:05.279000Z",
     "iopub.status.busy": "2023-01-19T12:16:05.277110Z",
     "iopub.status.idle": "2023-01-19T12:16:32.943471Z",
     "shell.execute_reply": "2023-01-19T12:16:32.941745Z"
    },
    "tags": []
   },
   "outputs": [
    {
     "data": {
      "text/plain": [
       "An object of class Seurat \n",
       "46794 features across 186533 samples within 1 assay \n",
       "Active assay: RNA (46794 features, 0 variable features)"
      ]
     },
     "metadata": {},
     "output_type": "display_data"
    }
   ],
   "source": [
    "ligand_fetal_matrix = ligand_target_matrix[, ligand_target_matrix$dataset==\"fetal\"]\n",
    "ligand_fetal_matrix"
   ]
  },
  {
   "cell_type": "code",
   "execution_count": 121,
   "id": "broad-injection",
   "metadata": {
    "collapsed": true,
    "execution": {
     "iopub.execute_input": "2023-01-17T12:43:41.207016Z",
     "iopub.status.busy": "2023-01-17T12:43:41.204858Z",
     "iopub.status.idle": "2023-01-17T12:46:17.406443Z",
     "shell.execute_reply": "2023-01-17T12:46:17.404778Z"
    },
    "jupyter": {
     "outputs_hidden": true
    },
    "tags": []
   },
   "outputs": [
    {
     "name": "stderr",
     "output_type": "stream",
     "text": [
      "When using repel, set xnudge and ynudge to 0 for optimal results\n",
      "\n",
      "Warning message:\n",
      "“\u001b[1m\u001b[22mTransformation introduced infinite values in continuous x-axis”\n",
      "Warning message:\n",
      "“ggrepel: 7 unlabeled data points (too many overlaps). Consider increasing max.overlaps”\n"
     ]
    },
    {
     "data": {
      "image/png": "[encoded data removed]",
      "text/plain": [
       "plot without title"
      ]
     },
     "metadata": {
      "image/png": {
       "height": 420,
       "width": 420
      }
     },
     "output_type": "display_data"
    }
   ],
   "source": [
    "suppressWarnings(suppressMessages(alldata <- FindVariableFeatures(ligand_target_matrix, selection.method = \"vst\",\n",
    "    nfeatures = 2000, verbose = FALSE, assay = \"RNA\")))\n",
    "top20 <- head(VariableFeatures(alldata), 20)\n",
    "\n",
    "LabelPoints(plot = VariableFeaturePlot(alldata), points = top20, repel = TRUE)"
   ]
  },
  {
   "cell_type": "code",
   "execution_count": 122,
   "id": "extraordinary-seeking",
   "metadata": {
    "collapsed": true,
    "execution": {
     "iopub.execute_input": "2023-01-17T12:47:39.709805Z",
     "iopub.status.busy": "2023-01-17T12:47:39.707979Z",
     "iopub.status.idle": "2023-01-17T12:47:50.181544Z",
     "shell.execute_reply": "2023-01-17T12:47:50.179568Z"
    },
    "jupyter": {
     "outputs_hidden": true
    },
    "tags": []
   },
   "outputs": [
    {
     "ename": "ERROR",
     "evalue": "Error: None of the requested variables to regress are present in the object.\n",
     "output_type": "error",
     "traceback": [
      "Error: None of the requested variables to regress are present in the object.\nTraceback:\n",
      "1. ScaleData(alldata, vars.to.regress = c(\"percent_mito\", \"nFeature_RNA\"), \n .     assay = \"RNA\")",
      "2. ScaleData.Seurat(alldata, vars.to.regress = c(\"percent_mito\", \n .     \"nFeature_RNA\"), assay = \"RNA\")",
      "3. ScaleData(object = assay.data, features = features, vars.to.regress = vars.to.regress, \n .     latent.data = latent.data, split.by = split.by, model.use = model.use, \n .     use.umi = use.umi, do.scale = do.scale, do.center = do.center, \n .     scale.max = scale.max, block.size = block.size, min.cells.to.block = min.cells.to.block, \n .     verbose = verbose, ...)",
      "4. ScaleData.Assay(object = assay.data, features = features, vars.to.regress = vars.to.regress, \n .     latent.data = latent.data, split.by = split.by, model.use = model.use, \n .     use.umi = use.umi, do.scale = do.scale, do.center = do.center, \n .     scale.max = scale.max, block.size = block.size, min.cells.to.block = min.cells.to.block, \n .     verbose = verbose, ...)",
      "5. SetAssayData(object = object, slot = \"scale.data\", new.data = ScaleData(object = GetAssayData(object = object, \n .     slot = slot.use), features = features, vars.to.regress = vars.to.regress, \n .     latent.data = latent.data, split.by = split.by, model.use = model.use, \n .     use.umi = use.umi, do.scale = do.scale, do.center = do.center, \n .     scale.max = scale.max, block.size = block.size, min.cells.to.block = min.cells.to.block, \n .     verbose = verbose, ...))",
      "6. SetAssayData.Assay(object = object, slot = \"scale.data\", new.data = ScaleData(object = GetAssayData(object = object, \n .     slot = slot.use), features = features, vars.to.regress = vars.to.regress, \n .     latent.data = latent.data, split.by = split.by, model.use = model.use, \n .     use.umi = use.umi, do.scale = do.scale, do.center = do.center, \n .     scale.max = scale.max, block.size = block.size, min.cells.to.block = min.cells.to.block, \n .     verbose = verbose, ...))",
      "7. IsMatrixEmpty(x = new.data)",
      "8. ScaleData(object = GetAssayData(object = object, slot = slot.use), \n .     features = features, vars.to.regress = vars.to.regress, latent.data = latent.data, \n .     split.by = split.by, model.use = model.use, use.umi = use.umi, \n .     do.scale = do.scale, do.center = do.center, scale.max = scale.max, \n .     block.size = block.size, min.cells.to.block = min.cells.to.block, \n .     verbose = verbose, ...)",
      "9. ScaleData.default(object = GetAssayData(object = object, slot = slot.use), \n .     features = features, vars.to.regress = vars.to.regress, latent.data = latent.data, \n .     split.by = split.by, model.use = model.use, use.umi = use.umi, \n .     do.scale = do.scale, do.center = do.center, scale.max = scale.max, \n .     block.size = block.size, min.cells.to.block = min.cells.to.block, \n .     verbose = verbose, ...)",
      "10. stop(\"None of the requested variables to regress are present in the object.\", \n  .     call. = FALSE)"
     ]
    }
   ],
   "source": [
    "alldata <- ScaleData(alldata, vars.to.regress = c(\"percent_mito\", \"nFeature_RNA\"),\n",
    "    assay = \"RNA\")"
   ]
  },
  {
   "cell_type": "code",
   "execution_count": 120,
   "id": "everyday-elder",
   "metadata": {
    "execution": {
     "iopub.execute_input": "2023-01-17T12:37:38.440465Z",
     "iopub.status.busy": "2023-01-17T12:37:38.438590Z",
     "iopub.status.idle": "2023-01-17T12:37:38.461147Z",
     "shell.execute_reply": "2023-01-17T12:37:38.459178Z"
    },
    "tags": []
   },
   "outputs": [
    {
     "ename": "ERROR",
     "evalue": "Error: Cannot find 'PCA' in this Seurat object\n",
     "output_type": "error",
     "traceback": [
      "Error: Cannot find 'PCA' in this Seurat object\nTraceback:\n",
      "1. DimPlot(ligand_target_matrix, reduction = \"PCA\")",
      "2. Embeddings(object = object[[reduction]])",
      "3. object[[reduction]]",
      "4. `[[.Seurat`(object, reduction)",
      "5. stop(\"Cannot find '\", i, \"' in this Seurat object\", call. = FALSE)"
     ]
    }
   ],
   "source": [
    "DimPlot(ligand_target_matrix, reduction = \"PCA\")"
   ]
  },
  {
   "cell_type": "code",
   "execution_count": 106,
   "id": "gentle-tractor",
   "metadata": {
    "execution": {
     "iopub.execute_input": "2023-01-17T11:32:57.918411Z",
     "iopub.status.busy": "2023-01-17T11:32:57.916645Z",
     "iopub.status.idle": "2023-01-17T11:32:57.933345Z",
     "shell.execute_reply": "2023-01-17T11:32:57.931592Z"
    },
    "tags": []
   },
   "outputs": [],
   "source": [
    "endo_cells_patts = c(\"Postcapillary venule\", \"Capillary\", \"Tip cell\", \"Arterial\")\n",
    "endo_cells_patts = paste(endo_cells_patts, collapse=\"|\")"
   ]
  },
  {
   "cell_type": "code",
   "execution_count": 107,
   "id": "central-target",
   "metadata": {
    "execution": {
     "iopub.execute_input": "2023-01-17T11:32:58.338436Z",
     "iopub.status.busy": "2023-01-17T11:32:58.336681Z",
     "iopub.status.idle": "2023-01-17T11:32:58.990856Z",
     "shell.execute_reply": "2023-01-17T11:32:58.988878Z"
    },
    "tags": []
   },
   "outputs": [],
   "source": [
    "fetal_endo_cells_patts <- unique(ligand_target_matrix$pooled_annot[grepl(sr_cells_patts, ligand_target_matrix$pooled_annot) & \n",
    "                                                                 grepl(\"fetal\", ligand_target_matrix$pooled_annot)])\n",
    "fetal_mac_cells_patts <- unique(ligand_target_matrix$pooled_annot[grepl(\"macrophage\", ligand_target_matrix$pooled_annot) & \n",
    "                                                                 grepl(\"fetal\", ligand_target_matrix$pooled_annot)])"
   ]
  },
  {
   "cell_type": "code",
   "execution_count": 110,
   "id": "ordered-chorus",
   "metadata": {
    "execution": {
     "iopub.execute_input": "2023-01-17T11:33:24.267445Z",
     "iopub.status.busy": "2023-01-17T11:33:24.265639Z",
     "iopub.status.idle": "2023-01-17T11:33:24.297519Z",
     "shell.execute_reply": "2023-01-17T11:33:24.295742Z"
    }
   },
   "outputs": [
    {
     "data": {
      "text/plain": [
       "An object of class Seurat \n",
       "46794 features across 310368 samples within 1 assay \n",
       "Active assay: RNA (46794 features, 0 variable features)"
      ]
     },
     "metadata": {},
     "output_type": "display_data"
    }
   ],
   "source": [
    "ligand_target_matrix"
   ]
  },
  {
   "cell_type": "code",
   "execution_count": 108,
   "id": "marked-proportion",
   "metadata": {
    "execution": {
     "iopub.execute_input": "2023-01-17T11:33:00.784571Z",
     "iopub.status.busy": "2023-01-17T11:33:00.782734Z",
     "iopub.status.idle": "2023-01-17T11:33:05.880688Z",
     "shell.execute_reply": "2023-01-17T11:33:05.879001Z"
    },
    "tags": []
   },
   "outputs": [
    {
     "data": {
      "text/plain": [
       "An object of class Seurat \n",
       "46794 features across 25842 samples within 1 assay \n",
       "Active assay: RNA (46794 features, 0 variable features)"
      ]
     },
     "metadata": {},
     "output_type": "display_data"
    }
   ],
   "source": [
    "ligand_target_matrix[, ligand_target_matrix$pooled_annot %in% fetal_endo_cells_patts]"
   ]
  },
  {
   "cell_type": "code",
   "execution_count": 109,
   "id": "leading-insulin",
   "metadata": {
    "execution": {
     "iopub.execute_input": "2023-01-17T11:33:11.099540Z",
     "iopub.status.busy": "2023-01-17T11:33:11.097712Z",
     "iopub.status.idle": "2023-01-17T11:33:15.936649Z",
     "shell.execute_reply": "2023-01-17T11:33:15.934817Z"
    },
    "tags": []
   },
   "outputs": [
    {
     "data": {
      "text/plain": [
       "An object of class Seurat \n",
       "46794 features across 24392 samples within 1 assay \n",
       "Active assay: RNA (46794 features, 0 variable features)"
      ]
     },
     "metadata": {},
     "output_type": "display_data"
    }
   ],
   "source": [
    "ligand_target_matrix[, ligand_target_matrix$pooled_annot %in% fetal_mac_cells_patts]"
   ]
  },
  {
   "cell_type": "code",
   "execution_count": 115,
   "id": "strong-majority",
   "metadata": {
    "execution": {
     "iopub.execute_input": "2023-01-17T11:36:15.837311Z",
     "iopub.status.busy": "2023-01-17T11:36:15.835737Z",
     "iopub.status.idle": "2023-01-17T11:36:20.725914Z",
     "shell.execute_reply": "2023-01-17T11:36:20.724326Z"
    },
    "tags": []
   },
   "outputs": [
    {
     "data": {
      "text/html": [
       "<style>\n",
       ".list-inline {list-style: none; margin:0; padding: 0}\n",
       ".list-inline>li {display: inline-block}\n",
       ".list-inline>li:not(:last-child)::after {content: \"\\00b7\"; padding: 0 .5ex}\n",
       "</style>\n",
       "<ol class=list-inline><li>fetal_LYVE1++ macrophage</li><li>fetal_TREM2+ macrophage</li><li>fetal_Iron-recycling macrophage</li><li>fetal_MHCII+ macrophage</li><li>fetal_Capillary (venular tip)</li><li>fetal_Tip cell (arterial)</li><li>fetal_Capillary/postcapillary venule</li><li>fetal_Arterial</li><li>fetal_Postcapillary venule</li></ol>\n",
       "\n",
       "<details>\n",
       "\t<summary style=display:list-item;cursor:pointer>\n",
       "\t\t<strong>Levels</strong>:\n",
       "\t</summary>\n",
       "\t<style>\n",
       "\t.list-inline {list-style: none; margin:0; padding: 0}\n",
       "\t.list-inline>li {display: inline-block}\n",
       "\t.list-inline>li:not(:last-child)::after {content: \"\\00b7\"; padding: 0 .5ex}\n",
       "\t</style>\n",
       "\t<ol class=list-inline><li>'fetal_ASDC'</li><li>'fetal_Adipocytes'</li><li>'fetal_Arterial'</li><li>'fetal_B cell'</li><li>'fetal_Basal'</li><li>'fetal_CD4 T cell'</li><li>'fetal_CD8 T cell'</li><li>'fetal_Capillary (venular tip)'</li><li>'fetal_Capillary/postcapillary venule'</li><li>'fetal_Companion layer'</li><li>'fetal_Cuticle/cortex'</li><li>'fetal_DC1'</li><li>'fetal_DC2'</li><li>'fetal_Dermal condensate'</li><li>'fetal_Dermal papillia'</li><li>'fetal_Early LE'</li><li>'fetal_Early endothelial cell'</li><li>'fetal_Early erythroid'</li><li>'fetal_Early erythroid (embryonic)'</li><li>'fetal_Early myocytes'</li><li>'fetal_Eo/baso/mast cell progenitor'</li><li>'fetal_Erythroid (embryonic)'</li><li>'fetal_Erythroid (fetal)'</li><li>'fetal_FRZB+ early fibroblast'</li><li>'fetal_HOXC5+ early fibroblast'</li><li>'fetal_HSC'</li><li>'fetal_ILC2'</li><li>'fetal_ILC3'</li><li>'fetal_Immature basal'</li><li>'fetal_Immature suprabasal'</li><li>'fetal_Inflammatory DC'</li><li>'fetal_Innate T type1'</li><li>'fetal_Innate T type3'</li><li>'fetal_Inner root sheath'</li><li>'fetal_Iron-recycling macrophage'</li><li>'fetal_LC'</li><li>'fetal_LE'</li><li>'fetal_LMCD1+ mural cell'</li><li>'fetal_LTi'</li><li>'fetal_LYVE1++ macrophage'</li><li>'fetal_Lymphoid progenitor'</li><li>'fetal_MEMP - Early erythroid'</li><li>'fetal_MEMP - Megak'</li><li>'fetal_MHCII+ macrophage'</li><li>'fetal_Mast cell (earliest)'</li><li>'fetal_Mast cell (medium)'</li><li>'fetal_Mast cell (most mature)'</li><li>'fetal_Matrix/placode'</li><li>'fetal_Megakaryocyte'</li><li>'fetal_Melanoblast'</li><li>'fetal_Melanocyte'</li><li>'fetal_Monocyte'</li><li>'fetal_Monocyte (activated/differentiating)'</li><li>'fetal_Monocyte precursor'</li><li>'fetal_Myelinating Schwann cells'</li><li>'fetal_Myoblasts'</li><li>'fetal_Myocytes'</li><li>'fetal_Myofibroblasts'</li><li>'fetal_NK cell'</li><li>'fetal_Neuroendocrine'</li><li>'fetal_Neuron progenitors'</li><li>'fetal_Neutrophil1'</li><li>'fetal_Neutrophil2'</li><li>'fetal_Outer root sheath'</li><li>'fetal_PEAR1+ fibroblast'</li><li>'fetal_PID1+ schwann cellls'</li><li>'fetal_PLN+ mural cell'</li><li>'fetal_POSTN+ basal'</li><li>'fetal_Pericytes'</li><li>'fetal_Periderm'</li><li>'fetal_Postcapillary venule'</li><li>'fetal_Pre B cell'</li><li>'fetal_Pre pro B cell'</li><li>'fetal_Pre-dermal condensate'</li><li>'fetal_Pro B cell'</li><li>'fetal_SPP1+ proliferating neuron proneitors'</li><li>'fetal_Schwann/Schwann precursors'</li><li>'fetal_Suprabasal IFE'</li><li>'fetal_TREM2+ macrophage'</li><li>'fetal_Tip cell (arterial)'</li><li>'fetal_Treg'</li><li>'fetal_WNT2+ fibroblast'</li><li>'fetal_pDC'</li><li>'organoid_Adipocytes'</li><li>'organoid_Basal'</li><li>'organoid_Companion layer'</li><li>'organoid_Cuticle/cortex'</li><li>'organoid_Dermal condensate'</li><li>'organoid_Dermal papillia'</li><li>'organoid_Early myocytes'</li><li>'organoid_FRZB+ early fibroblast'</li><li>'organoid_HOXC5+ early fibroblast'</li><li>'organoid_Immature basal'</li><li>'organoid_Immature suprabasal'</li><li>'organoid_Inner root sheath'</li><li>'organoid_Matrix/placode'</li><li>'organoid_Melanoblast'</li><li>'organoid_Melanocyte'</li><li>'organoid_Merkel cells'</li><li>'organoid_Mural cell'</li><li>'organoid_Myelinating Schwann cells'</li><li>'organoid_Myoblasts'</li><li>'organoid_Myocytes'</li><li>'organoid_Neuroepithelial cells'</li><li>'organoid_Neuron progenitors'</li><li>'organoid_Outer root sheath'</li><li>'organoid_POSTN+ basal'</li><li>'organoid_POSTN+ fibroblast'</li><li>'organoid_Periderm'</li><li>'organoid_Pre-dermal condensate'</li><li>'organoid_Proliferating melanoblasts'</li><li>'organoid_SPP1+ proliferating neuron proneitors'</li><li>'organoid_Schwann/Schwann precursors'</li><li>'organoid_Secreting neuron'</li><li>'organoid_Suprabasal IFE'</li><li>'organoid_Tip cell (arterial)'</li><li>'organoid_Uncertain'</li></ol>\n",
       "</details>"
      ],
      "text/latex": [
       "\\begin{enumerate*}\n",
       "\\item fetal\\_LYVE1++ macrophage\n",
       "\\item fetal\\_TREM2+ macrophage\n",
       "\\item fetal\\_Iron-recycling macrophage\n",
       "\\item fetal\\_MHCII+ macrophage\n",
       "\\item fetal\\_Capillary (venular tip)\n",
       "\\item fetal\\_Tip cell (arterial)\n",
       "\\item fetal\\_Capillary/postcapillary venule\n",
       "\\item fetal\\_Arterial\n",
       "\\item fetal\\_Postcapillary venule\n",
       "\\end{enumerate*}\n",
       "\n",
       "\\emph{Levels}: \\begin{enumerate*}\n",
       "\\item 'fetal\\_ASDC'\n",
       "\\item 'fetal\\_Adipocytes'\n",
       "\\item 'fetal\\_Arterial'\n",
       "\\item 'fetal\\_B cell'\n",
       "\\item 'fetal\\_Basal'\n",
       "\\item 'fetal\\_CD4 T cell'\n",
       "\\item 'fetal\\_CD8 T cell'\n",
       "\\item 'fetal\\_Capillary (venular tip)'\n",
       "\\item 'fetal\\_Capillary/postcapillary venule'\n",
       "\\item 'fetal\\_Companion layer'\n",
       "\\item 'fetal\\_Cuticle/cortex'\n",
       "\\item 'fetal\\_DC1'\n",
       "\\item 'fetal\\_DC2'\n",
       "\\item 'fetal\\_Dermal condensate'\n",
       "\\item 'fetal\\_Dermal papillia'\n",
       "\\item 'fetal\\_Early LE'\n",
       "\\item 'fetal\\_Early endothelial cell'\n",
       "\\item 'fetal\\_Early erythroid'\n",
       "\\item 'fetal\\_Early erythroid (embryonic)'\n",
       "\\item 'fetal\\_Early myocytes'\n",
       "\\item 'fetal\\_Eo/baso/mast cell progenitor'\n",
       "\\item 'fetal\\_Erythroid (embryonic)'\n",
       "\\item 'fetal\\_Erythroid (fetal)'\n",
       "\\item 'fetal\\_FRZB+ early fibroblast'\n",
       "\\item 'fetal\\_HOXC5+ early fibroblast'\n",
       "\\item 'fetal\\_HSC'\n",
       "\\item 'fetal\\_ILC2'\n",
       "\\item 'fetal\\_ILC3'\n",
       "\\item 'fetal\\_Immature basal'\n",
       "\\item 'fetal\\_Immature suprabasal'\n",
       "\\item 'fetal\\_Inflammatory DC'\n",
       "\\item 'fetal\\_Innate T type1'\n",
       "\\item 'fetal\\_Innate T type3'\n",
       "\\item 'fetal\\_Inner root sheath'\n",
       "\\item 'fetal\\_Iron-recycling macrophage'\n",
       "\\item 'fetal\\_LC'\n",
       "\\item 'fetal\\_LE'\n",
       "\\item 'fetal\\_LMCD1+ mural cell'\n",
       "\\item 'fetal\\_LTi'\n",
       "\\item 'fetal\\_LYVE1++ macrophage'\n",
       "\\item 'fetal\\_Lymphoid progenitor'\n",
       "\\item 'fetal\\_MEMP - Early erythroid'\n",
       "\\item 'fetal\\_MEMP - Megak'\n",
       "\\item 'fetal\\_MHCII+ macrophage'\n",
       "\\item 'fetal\\_Mast cell (earliest)'\n",
       "\\item 'fetal\\_Mast cell (medium)'\n",
       "\\item 'fetal\\_Mast cell (most mature)'\n",
       "\\item 'fetal\\_Matrix/placode'\n",
       "\\item 'fetal\\_Megakaryocyte'\n",
       "\\item 'fetal\\_Melanoblast'\n",
       "\\item 'fetal\\_Melanocyte'\n",
       "\\item 'fetal\\_Monocyte'\n",
       "\\item 'fetal\\_Monocyte (activated/differentiating)'\n",
       "\\item 'fetal\\_Monocyte precursor'\n",
       "\\item 'fetal\\_Myelinating Schwann cells'\n",
       "\\item 'fetal\\_Myoblasts'\n",
       "\\item 'fetal\\_Myocytes'\n",
       "\\item 'fetal\\_Myofibroblasts'\n",
       "\\item 'fetal\\_NK cell'\n",
       "\\item 'fetal\\_Neuroendocrine'\n",
       "\\item 'fetal\\_Neuron progenitors'\n",
       "\\item 'fetal\\_Neutrophil1'\n",
       "\\item 'fetal\\_Neutrophil2'\n",
       "\\item 'fetal\\_Outer root sheath'\n",
       "\\item 'fetal\\_PEAR1+ fibroblast'\n",
       "\\item 'fetal\\_PID1+ schwann cellls'\n",
       "\\item 'fetal\\_PLN+ mural cell'\n",
       "\\item 'fetal\\_POSTN+ basal'\n",
       "\\item 'fetal\\_Pericytes'\n",
       "\\item 'fetal\\_Periderm'\n",
       "\\item 'fetal\\_Postcapillary venule'\n",
       "\\item 'fetal\\_Pre B cell'\n",
       "\\item 'fetal\\_Pre pro B cell'\n",
       "\\item 'fetal\\_Pre-dermal condensate'\n",
       "\\item 'fetal\\_Pro B cell'\n",
       "\\item 'fetal\\_SPP1+ proliferating neuron proneitors'\n",
       "\\item 'fetal\\_Schwann/Schwann precursors'\n",
       "\\item 'fetal\\_Suprabasal IFE'\n",
       "\\item 'fetal\\_TREM2+ macrophage'\n",
       "\\item 'fetal\\_Tip cell (arterial)'\n",
       "\\item 'fetal\\_Treg'\n",
       "\\item 'fetal\\_WNT2+ fibroblast'\n",
       "\\item 'fetal\\_pDC'\n",
       "\\item 'organoid\\_Adipocytes'\n",
       "\\item 'organoid\\_Basal'\n",
       "\\item 'organoid\\_Companion layer'\n",
       "\\item 'organoid\\_Cuticle/cortex'\n",
       "\\item 'organoid\\_Dermal condensate'\n",
       "\\item 'organoid\\_Dermal papillia'\n",
       "\\item 'organoid\\_Early myocytes'\n",
       "\\item 'organoid\\_FRZB+ early fibroblast'\n",
       "\\item 'organoid\\_HOXC5+ early fibroblast'\n",
       "\\item 'organoid\\_Immature basal'\n",
       "\\item 'organoid\\_Immature suprabasal'\n",
       "\\item 'organoid\\_Inner root sheath'\n",
       "\\item 'organoid\\_Matrix/placode'\n",
       "\\item 'organoid\\_Melanoblast'\n",
       "\\item 'organoid\\_Melanocyte'\n",
       "\\item 'organoid\\_Merkel cells'\n",
       "\\item 'organoid\\_Mural cell'\n",
       "\\item 'organoid\\_Myelinating Schwann cells'\n",
       "\\item 'organoid\\_Myoblasts'\n",
       "\\item 'organoid\\_Myocytes'\n",
       "\\item 'organoid\\_Neuroepithelial cells'\n",
       "\\item 'organoid\\_Neuron progenitors'\n",
       "\\item 'organoid\\_Outer root sheath'\n",
       "\\item 'organoid\\_POSTN+ basal'\n",
       "\\item 'organoid\\_POSTN+ fibroblast'\n",
       "\\item 'organoid\\_Periderm'\n",
       "\\item 'organoid\\_Pre-dermal condensate'\n",
       "\\item 'organoid\\_Proliferating melanoblasts'\n",
       "\\item 'organoid\\_SPP1+ proliferating neuron proneitors'\n",
       "\\item 'organoid\\_Schwann/Schwann precursors'\n",
       "\\item 'organoid\\_Secreting neuron'\n",
       "\\item 'organoid\\_Suprabasal IFE'\n",
       "\\item 'organoid\\_Tip cell (arterial)'\n",
       "\\item 'organoid\\_Uncertain'\n",
       "\\end{enumerate*}\n"
      ],
      "text/markdown": [
       "1. fetal_LYVE1++ macrophage\n",
       "2. fetal_TREM2+ macrophage\n",
       "3. fetal_Iron-recycling macrophage\n",
       "4. fetal_MHCII+ macrophage\n",
       "5. fetal_Capillary (venular tip)\n",
       "6. fetal_Tip cell (arterial)\n",
       "7. fetal_Capillary/postcapillary venule\n",
       "8. fetal_Arterial\n",
       "9. fetal_Postcapillary venule\n",
       "\n",
       "\n",
       "\n",
       "**Levels**: 1. 'fetal_ASDC'\n",
       "2. 'fetal_Adipocytes'\n",
       "3. 'fetal_Arterial'\n",
       "4. 'fetal_B cell'\n",
       "5. 'fetal_Basal'\n",
       "6. 'fetal_CD4 T cell'\n",
       "7. 'fetal_CD8 T cell'\n",
       "8. 'fetal_Capillary (venular tip)'\n",
       "9. 'fetal_Capillary/postcapillary venule'\n",
       "10. 'fetal_Companion layer'\n",
       "11. 'fetal_Cuticle/cortex'\n",
       "12. 'fetal_DC1'\n",
       "13. 'fetal_DC2'\n",
       "14. 'fetal_Dermal condensate'\n",
       "15. 'fetal_Dermal papillia'\n",
       "16. 'fetal_Early LE'\n",
       "17. 'fetal_Early endothelial cell'\n",
       "18. 'fetal_Early erythroid'\n",
       "19. 'fetal_Early erythroid (embryonic)'\n",
       "20. 'fetal_Early myocytes'\n",
       "21. 'fetal_Eo/baso/mast cell progenitor'\n",
       "22. 'fetal_Erythroid (embryonic)'\n",
       "23. 'fetal_Erythroid (fetal)'\n",
       "24. 'fetal_FRZB+ early fibroblast'\n",
       "25. 'fetal_HOXC5+ early fibroblast'\n",
       "26. 'fetal_HSC'\n",
       "27. 'fetal_ILC2'\n",
       "28. 'fetal_ILC3'\n",
       "29. 'fetal_Immature basal'\n",
       "30. 'fetal_Immature suprabasal'\n",
       "31. 'fetal_Inflammatory DC'\n",
       "32. 'fetal_Innate T type1'\n",
       "33. 'fetal_Innate T type3'\n",
       "34. 'fetal_Inner root sheath'\n",
       "35. 'fetal_Iron-recycling macrophage'\n",
       "36. 'fetal_LC'\n",
       "37. 'fetal_LE'\n",
       "38. 'fetal_LMCD1+ mural cell'\n",
       "39. 'fetal_LTi'\n",
       "40. 'fetal_LYVE1++ macrophage'\n",
       "41. 'fetal_Lymphoid progenitor'\n",
       "42. 'fetal_MEMP - Early erythroid'\n",
       "43. 'fetal_MEMP - Megak'\n",
       "44. 'fetal_MHCII+ macrophage'\n",
       "45. 'fetal_Mast cell (earliest)'\n",
       "46. 'fetal_Mast cell (medium)'\n",
       "47. 'fetal_Mast cell (most mature)'\n",
       "48. 'fetal_Matrix/placode'\n",
       "49. 'fetal_Megakaryocyte'\n",
       "50. 'fetal_Melanoblast'\n",
       "51. 'fetal_Melanocyte'\n",
       "52. 'fetal_Monocyte'\n",
       "53. 'fetal_Monocyte (activated/differentiating)'\n",
       "54. 'fetal_Monocyte precursor'\n",
       "55. 'fetal_Myelinating Schwann cells'\n",
       "56. 'fetal_Myoblasts'\n",
       "57. 'fetal_Myocytes'\n",
       "58. 'fetal_Myofibroblasts'\n",
       "59. 'fetal_NK cell'\n",
       "60. 'fetal_Neuroendocrine'\n",
       "61. 'fetal_Neuron progenitors'\n",
       "62. 'fetal_Neutrophil1'\n",
       "63. 'fetal_Neutrophil2'\n",
       "64. 'fetal_Outer root sheath'\n",
       "65. 'fetal_PEAR1+ fibroblast'\n",
       "66. 'fetal_PID1+ schwann cellls'\n",
       "67. 'fetal_PLN+ mural cell'\n",
       "68. 'fetal_POSTN+ basal'\n",
       "69. 'fetal_Pericytes'\n",
       "70. 'fetal_Periderm'\n",
       "71. 'fetal_Postcapillary venule'\n",
       "72. 'fetal_Pre B cell'\n",
       "73. 'fetal_Pre pro B cell'\n",
       "74. 'fetal_Pre-dermal condensate'\n",
       "75. 'fetal_Pro B cell'\n",
       "76. 'fetal_SPP1+ proliferating neuron proneitors'\n",
       "77. 'fetal_Schwann/Schwann precursors'\n",
       "78. 'fetal_Suprabasal IFE'\n",
       "79. 'fetal_TREM2+ macrophage'\n",
       "80. 'fetal_Tip cell (arterial)'\n",
       "81. 'fetal_Treg'\n",
       "82. 'fetal_WNT2+ fibroblast'\n",
       "83. 'fetal_pDC'\n",
       "84. 'organoid_Adipocytes'\n",
       "85. 'organoid_Basal'\n",
       "86. 'organoid_Companion layer'\n",
       "87. 'organoid_Cuticle/cortex'\n",
       "88. 'organoid_Dermal condensate'\n",
       "89. 'organoid_Dermal papillia'\n",
       "90. 'organoid_Early myocytes'\n",
       "91. 'organoid_FRZB+ early fibroblast'\n",
       "92. 'organoid_HOXC5+ early fibroblast'\n",
       "93. 'organoid_Immature basal'\n",
       "94. 'organoid_Immature suprabasal'\n",
       "95. 'organoid_Inner root sheath'\n",
       "96. 'organoid_Matrix/placode'\n",
       "97. 'organoid_Melanoblast'\n",
       "98. 'organoid_Melanocyte'\n",
       "99. 'organoid_Merkel cells'\n",
       "100. 'organoid_Mural cell'\n",
       "101. 'organoid_Myelinating Schwann cells'\n",
       "102. 'organoid_Myoblasts'\n",
       "103. 'organoid_Myocytes'\n",
       "104. 'organoid_Neuroepithelial cells'\n",
       "105. 'organoid_Neuron progenitors'\n",
       "106. 'organoid_Outer root sheath'\n",
       "107. 'organoid_POSTN+ basal'\n",
       "108. 'organoid_POSTN+ fibroblast'\n",
       "109. 'organoid_Periderm'\n",
       "110. 'organoid_Pre-dermal condensate'\n",
       "111. 'organoid_Proliferating melanoblasts'\n",
       "112. 'organoid_SPP1+ proliferating neuron proneitors'\n",
       "113. 'organoid_Schwann/Schwann precursors'\n",
       "114. 'organoid_Secreting neuron'\n",
       "115. 'organoid_Suprabasal IFE'\n",
       "116. 'organoid_Tip cell (arterial)'\n",
       "117. 'organoid_Uncertain'\n",
       "\n",
       "\n"
      ],
      "text/plain": [
       "[1] fetal_LYVE1++ macrophage             fetal_TREM2+ macrophage             \n",
       "[3] fetal_Iron-recycling macrophage      fetal_MHCII+ macrophage             \n",
       "[5] fetal_Capillary (venular tip)        fetal_Tip cell (arterial)           \n",
       "[7] fetal_Capillary/postcapillary venule fetal_Arterial                      \n",
       "[9] fetal_Postcapillary venule          \n",
       "117 Levels: fetal_ASDC fetal_Adipocytes fetal_Arterial ... organoid_Uncertain"
      ]
     },
     "metadata": {},
     "output_type": "display_data"
    }
   ],
   "source": [
    "unique(ligand_target_matrix[, (ligand_target_matrix$pooled_annot %in% fetal_endo_cells_patts | \n",
    "                               ligand_target_matrix$pooled_annot %in% fetal_mac_cells_patts)]$pooled_annot)"
   ]
  },
  {
   "cell_type": "raw",
   "id": "another-nicholas",
   "metadata": {},
   "source": [
    "##                 CXCL1        CXCL2        CXCL3        CXCL5         PPBP\n",
    "## A1BG     3.534343e-04 4.041324e-04 3.729920e-04 3.080640e-04 2.628388e-04\n",
    "## A1BG-AS1 1.650894e-04 1.509213e-04 1.583594e-04 1.317253e-04 1.231819e-04\n",
    "## A1CF     5.787175e-04 4.596295e-04 3.895907e-04 3.293275e-04 3.211944e-04\n",
    "## A2M      6.027058e-04 5.996617e-04 5.164365e-04 4.517236e-04 4.590521e-04\n",
    "## A2M-AS1  8.898724e-05 8.243341e-05 7.484018e-05 4.912514e-05 5.120439e-05"
   ]
  },
  {
   "cell_type": "markdown",
   "id": "abroad-cloud",
   "metadata": {},
   "source": [
    "Expression data of interacting cells: publicly available single-cell\n",
    "data from CAF and malignant cells from HNSCC tumors:"
   ]
  },
  {
   "cell_type": "markdown",
   "id": "engaged-maryland",
   "metadata": {},
   "source": [
    "hnscc_expression = readRDS(url(\"https://zenodo.org/record/3260758/files/hnscc_expression.rds\"))\n",
    "expression = hnscc_expression$expression\n",
    "sample_info = hnscc_expression$sample_info # contains meta-information about the cells"
   ]
  },
  {
   "cell_type": "markdown",
   "id": "postal-thirty",
   "metadata": {},
   "source": [
    "## Step 1: Define expressed genes in sender and receiver cell populations\n",
    "\n",
    "Our research question is to prioritize which ligands expressed by CAFs\n",
    "can induce p-EMT in neighboring malignant cells. Therefore, CAFs are the\n",
    "sender cells in this example and malignant cells are the receiver cells.\n",
    "This is an example of paracrine signaling. Note that autocrine signaling\n",
    "can be considered if sender and receiver cell type are the same.\n",
    "\n",
    "Now, we will determine which genes are expressed in the sender cells\n",
    "(CAFs) and receiver cells (malignant cells) from high quality primary\n",
    "tumors. Therefore, we wil not consider cells from tumor samples of less\n",
    "quality or from lymph node metastases.\n",
    "\n",
    "To determine expressed genes in this case study, we use the definition\n",
    "used by Puram et al. (the authors of this dataset), which is: Ea, the\n",
    "aggregate expression of each gene i across the k cells, calculated as\n",
    "Ea(i) = log2(average(TPM(i)1…k)+1), should be \\>= 4. We recommend users\n",
    "to define expressed genes in the way that they consider to be most\n",
    "appropriate for their dataset. For single-cell data generated by the 10x\n",
    "platform in our lab, we don’t use the definition used here, but we\n",
    "consider genes to be expressed in a cell type when they have non-zero\n",
    "values in at least 10% of the cells from that cell type. This is\n",
    "described as well in the other vignette [Perform NicheNet analysis\n",
    "starting from a Seurat object: step-by-step\n",
    "analysis](seurat_steps.md):`vignette(\"seurat_steps\",\n",
    "package=\"nichenetr\")`."
   ]
  },
  {
   "cell_type": "code",
   "execution_count": null,
   "id": "important-steam",
   "metadata": {},
   "outputs": [],
   "source": [
    "tumors_remove = c(\"HN10\",\"HN\",\"HN12\", \"HN13\", \"HN24\", \"HN7\", \"HN8\",\"HN23\")\n",
    "\n",
    "CAF_ids = sample_info %>% filter(`Lymph node` == 0 & !(tumor %in% tumors_remove) & `non-cancer cell type` == \"CAF\") %>% pull(cell)\n",
    "malignant_ids = sample_info %>% filter(`Lymph node` == 0 & !(tumor %in% tumors_remove) & `classified  as cancer cell` == 1) %>% pull(cell)\n",
    "\n",
    "expressed_genes_sender = expression[CAF_ids,] %>% apply(2,function(x){10*(2**x - 1)}) %>% apply(2,function(x){log2(mean(x) + 1)}) %>% .[. >= 4] %>% names()\n",
    "expressed_genes_receiver = expression[malignant_ids,] %>% apply(2,function(x){10*(2**x - 1)}) %>% apply(2,function(x){log2(mean(x) + 1)}) %>% .[. >= 4] %>% names()\n",
    "\n",
    "# Check the number of expressed genes: should be a 'reasonable' number of total expressed genes in a cell type, e.g. between 5000-10000 (and not 500 or 20000)\n",
    "length(expressed_genes_sender)\n",
    "## [1] 6706\n",
    "length(expressed_genes_receiver)\n",
    "## [1] 6351"
   ]
  },
  {
   "cell_type": "markdown",
   "id": "legal-beads",
   "metadata": {},
   "source": [
    "## Step 2: Define the gene set of interest and a background of genes\n",
    "\n",
    "As gene set of interest, we consider the genes of which the expression\n",
    "is possibly affected due to communication with other cells. The\n",
    "definition of this gene set depends on your research question and is a\n",
    "crucial step in the use of NicheNet.\n",
    "\n",
    "Because we here want to investigate how CAFs regulate the expression of\n",
    "p-EMT genes in malignant cells, we will use the p-EMT gene set defined\n",
    "by Puram et al. as gene set of interest and use all genes expressed in\n",
    "malignant cells as background of genes."
   ]
  },
  {
   "cell_type": "code",
   "execution_count": null,
   "id": "detected-survey",
   "metadata": {},
   "outputs": [],
   "source": [
    "geneset_oi = readr::read_tsv(url(\"https://zenodo.org/record/3260758/files/pemt_signature.txt\"), col_names = \"gene\") %>% pull(gene) %>% .[. %in% rownames(ligand_target_matrix)] # only consider genes also present in the NicheNet model - this excludes genes from the gene list for which the official HGNC symbol was not used by Puram et al.\n",
    "head(geneset_oi)\n",
    "## [1] \"SERPINE1\" \"TGFBI\"    \"MMP10\"    \"LAMC2\"    \"P4HA2\"    \"PDPN\"\n",
    "\n",
    "background_expressed_genes = expressed_genes_receiver %>% .[. %in% rownames(ligand_target_matrix)]\n",
    "head(background_expressed_genes)\n",
    "## [1] \"RPS11\"   \"ELMO2\"   \"PNMA1\"   \"MMP2\"    \"TMEM216\" \"ERCC5\""
   ]
  },
  {
   "cell_type": "markdown",
   "id": "legendary-explanation",
   "metadata": {},
   "source": [
    "## Step 3: Define a set of potential ligands\n",
    "\n",
    "As potentially active ligands, we will use ligands that are 1) expressed\n",
    "by CAFs and 2) can bind a (putative) receptor expressed by malignant\n",
    "cells. Putative ligand-receptor links were gathered from NicheNet’s\n",
    "ligand-receptor data sources."
   ]
  },
  {
   "cell_type": "code",
   "execution_count": null,
   "id": "successful-trace",
   "metadata": {},
   "outputs": [],
   "source": [
    "lr_network = readRDS(url(\"https://zenodo.org/record/3260758/files/lr_network.rds\"))\n",
    "\n",
    "# If wanted, users can remove ligand-receptor interactions that were predicted based on protein-protein interactions and only keep ligand-receptor interactions that are described in curated databases. To do this: uncomment following line of code:\n",
    "# lr_network = lr_network %>% filter(database != \"ppi_prediction_go\" & database != \"ppi_prediction\")\n",
    "\n",
    "ligands = lr_network %>% pull(from) %>% unique()\n",
    "expressed_ligands = intersect(ligands,expressed_genes_sender)\n",
    "\n",
    "receptors = lr_network %>% pull(to) %>% unique()\n",
    "expressed_receptors = intersect(receptors,expressed_genes_receiver)\n",
    "\n",
    "lr_network_expressed = lr_network %>% filter(from %in% expressed_ligands & to %in% expressed_receptors) \n",
    "head(lr_network_expressed)"
   ]
  },
  {
   "cell_type": "markdown",
   "id": "popular-insertion",
   "metadata": {},
   "source": [
    "## # A tibble: 6 x 4\n",
    "##   from    to        source         database\n",
    "##   <chr>   <chr>     <chr>          <chr>   \n",
    "## 1 HGF     MET       kegg_cytokines kegg    \n",
    "## 2 TNFSF10 TNFRSF10A kegg_cytokines kegg    \n",
    "## 3 TNFSF10 TNFRSF10B kegg_cytokines kegg    \n",
    "## 4 TGFB2   TGFBR1    kegg_cytokines kegg    \n",
    "## 5 TGFB3   TGFBR1    kegg_cytokines kegg    \n",
    "## 6 INHBA   ACVR2A    kegg_cytokines kegg"
   ]
  },
  {
   "cell_type": "markdown",
   "id": "photographic-script",
   "metadata": {},
   "source": [
    "This ligand-receptor network contains the expressed ligand-receptor\n",
    "interactions. As potentially active ligands for the NicheNet analysis,\n",
    "we will consider the ligands from this network."
   ]
  },
  {
   "cell_type": "markdown",
   "id": "trained-roller",
   "metadata": {},
   "source": [
    "potential_ligands = lr_network_expressed %>% pull(from) %>% unique()\n",
    "head(potential_ligands)\n",
    "## [1] \"HGF\"     \"TNFSF10\" \"TGFB2\"   \"TGFB3\"   \"INHBA\"   \"CD99\""
   ]
  },
  {
   "cell_type": "markdown",
   "id": "supreme-accent",
   "metadata": {},
   "source": [
    "## Step 4: Perform NicheNet’s ligand activity analysis on the gene set of interest\n",
    "\n",
    "Now perform the ligand activity analysis: in this analysis, we will\n",
    "calculate the ligand activity of each ligand, or in other words, we will\n",
    "assess how well each CAF-ligand can predict the p-EMT gene set compared\n",
    "to the background of expressed genes (predict whether a gene belongs to\n",
    "the p-EMT program or not)."
   ]
  },
  {
   "cell_type": "markdown",
   "id": "operating-blood",
   "metadata": {},
   "source": [
    "ligand_activities = predict_ligand_activities(geneset = geneset_oi, background_expressed_genes = background_expressed_genes, ligand_target_matrix = ligand_target_matrix, potential_ligands = potential_ligands)"
   ]
  },
  {
   "cell_type": "markdown",
   "id": "matched-carrier",
   "metadata": {},
   "source": [
    "Now, we want to rank the ligands based on their ligand activity. In our\n",
    "validation study, we showed that the pearson correlation coefficient\n",
    "(PCC) between a ligand’s target predictions and the observed\n",
    "transcriptional response was the most informative measure to define\n",
    "ligand activity. Therefore, we will rank the ligands based on their\n",
    "pearson correlation coefficient. This allows us to prioritize\n",
    "p-EMT-regulating ligands."
   ]
  },
  {
   "cell_type": "markdown",
   "id": "amber-corner",
   "metadata": {},
   "source": [
    "ligand_activities %>% arrange(-pearson) "
   ]
  },
  {
   "cell_type": "markdown",
   "id": "toxic-baking",
   "metadata": {},
   "source": [
    "## # A tibble: 131 x 4\n",
    "##    test_ligand auroc   aupr pearson\n",
    "##    <chr>       <dbl>  <dbl>   <dbl>\n",
    "##  1 PTHLH       0.667 0.0720   0.128\n",
    "##  2 CXCL12      0.680 0.0507   0.123\n",
    "##  3 AGT         0.676 0.0581   0.120\n",
    "##  4 TGFB3       0.689 0.0454   0.117\n",
    "##  5 IL6         0.693 0.0510   0.115\n",
    "##  6 INHBA       0.695 0.0502   0.113\n",
    "##  7 ADAM17      0.672 0.0526   0.113\n",
    "##  8 TNC         0.700 0.0444   0.109\n",
    "##  9 CTGF        0.680 0.0473   0.108\n",
    "## 10 FN1         0.679 0.0505   0.108\n",
    "## # ... with 121 more rows"
   ]
  },
  {
   "cell_type": "markdown",
   "id": "blocked-slide",
   "metadata": {},
   "source": [
    "best_upstream_ligands = ligand_activities %>% top_n(20, pearson) %>% arrange(-pearson) %>% pull(test_ligand)\n",
    "head(best_upstream_ligands)"
   ]
  },
  {
   "cell_type": "markdown",
   "id": "european-salon",
   "metadata": {},
   "source": [
    "## [1] \"PTHLH\"  \"CXCL12\" \"AGT\"    \"TGFB3\"  \"IL6\"    \"INHBA\""
   ]
  },
  {
   "cell_type": "markdown",
   "id": "about-samoa",
   "metadata": {},
   "source": [
    "We see here that the performance metrics indicate that the 20 top-ranked\n",
    "ligands can predict the p-EMT genes reasonably, this implies that\n",
    "ranking of the ligands might be accurate as shown in our study. However,\n",
    "it is possible that for some gene sets, the target gene prediction\n",
    "performance of the top-ranked ligands would not be much better than\n",
    "random prediction. In that case, prioritization of ligands will be less\n",
    "trustworthy.\n",
    "\n",
    "Additional note: we looked at the top 20 ligands here and will continue\n",
    "the analysis by inferring p-EMT target genes of these 20 ligands.\n",
    "However, the choice of looking only at the 20 top-ranked ligands for\n",
    "further biological interpretation is based on biological intuition and\n",
    "is quite arbitrary. Therefore, users can decide to continue the analysis\n",
    "with a different number of ligands. We recommend to check the selected\n",
    "cutoff by looking at the distribution of the ligand activity values.\n",
    "Here, we show the ligand activity histogram (the score for the 20th\n",
    "ligand is indicated via the dashed line)."
   ]
  },
  {
   "cell_type": "markdown",
   "id": "pacific-reality",
   "metadata": {},
   "source": [
    "``` r"
   ]
  },
  {
   "cell_type": "markdown",
   "id": "about-reward",
   "metadata": {},
   "source": [
    "# show histogram of ligand activity scores\n",
    "p_hist_lig_activity = ggplot(ligand_activities, aes(x=pearson)) + \n",
    "  geom_histogram(color=\"black\", fill=\"darkorange\")  + \n",
    "  # geom_density(alpha=.1, fill=\"orange\") +\n",
    "  geom_vline(aes(xintercept=min(ligand_activities %>% top_n(20, pearson) %>% pull(pearson))), color=\"red\", linetype=\"dashed\", size=1) + \n",
    "  labs(x=\"ligand activity (PCC)\", y = \"# ligands\") +\n",
    "  theme_classic()\n",
    "p_hist_lig_activity"
   ]
  },
  {
   "cell_type": "markdown",
   "id": "buried-claim",
   "metadata": {},
   "source": [
    "```"
   ]
  },
  {
   "cell_type": "markdown",
   "id": "promising-destruction",
   "metadata": {},
   "source": [
    "![](ligand_activity_geneset_files/figure-gfm/unnamed-chunk-10-1.png)<!-- -->\n",
    "\n",
    "## Step 5: Infer target genes of top-ranked ligands and visualize in a heatmap\n",
    "\n",
    "Now we will show how you can look at the regulatory potential scores\n",
    "between ligands and target genes of interest. In this case, we will look\n",
    "at links between top-ranked p-EMT regulating ligands and p-EMT genes. In\n",
    "the ligand-target heatmaps, we show here regulatory potential scores for\n",
    "interactions between the 20 top-ranked ligands and following target\n",
    "genes: genes that belong to the gene set of interest and to the 250 most\n",
    "strongly predicted targets of at least one of the 20 top-ranked ligands\n",
    "(the top 250 targets according to the general prior model, so not the\n",
    "top 250 targets for this dataset). Consequently, genes of your gene set\n",
    "that are not a top target gene of one of the prioritized ligands, will\n",
    "not be shown on the heatmap."
   ]
  },
  {
   "cell_type": "markdown",
   "id": "requested-region",
   "metadata": {},
   "source": [
    "``` r"
   ]
  },
  {
   "cell_type": "markdown",
   "id": "stock-abraham",
   "metadata": {},
   "source": [
    "active_ligand_target_links_df = best_upstream_ligands %>% lapply(get_weighted_ligand_target_links,geneset = geneset_oi, ligand_target_matrix = ligand_target_matrix, n = 250) %>% bind_rows()\n",
    "\n",
    "nrow(active_ligand_target_links_df)"
   ]
  },
  {
   "cell_type": "markdown",
   "id": "fourth-entertainment",
   "metadata": {},
   "source": [
    "## [1] 143"
   ]
  },
  {
   "cell_type": "markdown",
   "id": "flying-solid",
   "metadata": {},
   "source": [
    "head(active_ligand_target_links_df)"
   ]
  },
  {
   "cell_type": "markdown",
   "id": "portuguese-yugoslavia",
   "metadata": {},
   "source": [
    "## # A tibble: 6 x 3\n",
    "##   ligand target  weight\n",
    "##   <chr>  <chr>    <dbl>\n",
    "## 1 PTHLH  COL1A1 0.00399\n",
    "## 2 PTHLH  MMP1   0.00425\n",
    "## 3 PTHLH  MMP2   0.00210\n",
    "## 4 PTHLH  MYH9   0.00116\n",
    "## 5 PTHLH  P4HA2  0.00190\n",
    "## 6 PTHLH  PLAU   0.00401"
   ]
  },
  {
   "cell_type": "markdown",
   "id": "conscious-cholesterol",
   "metadata": {},
   "source": [
    "```"
   ]
  },
  {
   "cell_type": "markdown",
   "id": "consolidated-compiler",
   "metadata": {},
   "source": [
    "For visualization purposes, we adapted the ligand-target regulatory\n",
    "potential matrix as follows. Regulatory potential scores were set as 0\n",
    "if their score was below a predefined threshold, which was here the 0.25\n",
    "quantile of scores of interactions between the 20 top-ranked ligands and\n",
    "each of their respective top targets (see the ligand-target network\n",
    "defined in the data frame)."
   ]
  },
  {
   "cell_type": "markdown",
   "id": "clinical-spouse",
   "metadata": {},
   "source": [
    "``` r"
   ]
  },
  {
   "cell_type": "markdown",
   "id": "arabic-reviewer",
   "metadata": {},
   "source": [
    "active_ligand_target_links = prepare_ligand_target_visualization(ligand_target_df = active_ligand_target_links_df, ligand_target_matrix = ligand_target_matrix, cutoff = 0.25)\n",
    "\n",
    "nrow(active_ligand_target_links_df)"
   ]
  },
  {
   "cell_type": "markdown",
   "id": "single-praise",
   "metadata": {},
   "source": [
    "## [1] 143\n",
    "head(active_ligand_target_links_df)"
   ]
  },
  {
   "cell_type": "markdown",
   "id": "forward-emphasis",
   "metadata": {},
   "source": [
    "## # A tibble: 6 x 3\n",
    "##   ligand target  weight\n",
    "##   <chr>  <chr>    <dbl>\n",
    "## 1 PTHLH  COL1A1 0.00399\n",
    "## 2 PTHLH  MMP1   0.00425\n",
    "## 3 PTHLH  MMP2   0.00210\n",
    "## 4 PTHLH  MYH9   0.00116\n",
    "## 5 PTHLH  P4HA2  0.00190\n",
    "## 6 PTHLH  PLAU   0.00401"
   ]
  },
  {
   "cell_type": "markdown",
   "id": "european-indie",
   "metadata": {},
   "source": [
    "```"
   ]
  },
  {
   "cell_type": "markdown",
   "id": "pointed-realtor",
   "metadata": {},
   "source": [
    "The putatively active ligand-target links will now be visualized in a\n",
    "heatmap. The order of the ligands accord to the ranking according to the\n",
    "ligand activity prediction."
   ]
  },
  {
   "cell_type": "markdown",
   "id": "median-plane",
   "metadata": {},
   "source": [
    "``` r"
   ]
  },
  {
   "cell_type": "markdown",
   "id": "breeding-outreach",
   "metadata": {},
   "source": [
    "order_ligands = intersect(best_upstream_ligands, colnames(active_ligand_target_links)) %>% rev()\n",
    "order_targets = active_ligand_target_links_df$target %>% unique()\n",
    "vis_ligand_target = active_ligand_target_links[order_targets,order_ligands] %>% t()\n",
    "\n",
    "p_ligand_target_network = vis_ligand_target %>% make_heatmap_ggplot(\"Prioritized CAF-ligands\",\"p-EMT genes in malignant cells\", color = \"purple\",legend_position = \"top\", x_axis_position = \"top\",legend_title = \"Regulatory potential\") + scale_fill_gradient2(low = \"whitesmoke\",  high = \"purple\", breaks = c(0,0.005,0.01)) + theme(axis.text.x = element_text(face = \"italic\"))\n",
    "\n",
    "p_ligand_target_network"
   ]
  },
  {
   "cell_type": "markdown",
   "id": "accompanied-model",
   "metadata": {},
   "source": [
    "```"
   ]
  },
  {
   "cell_type": "markdown",
   "id": "graduate-compound",
   "metadata": {},
   "source": [
    "![](ligand_activity_geneset_files/figure-gfm/unnamed-chunk-13-1.png)<!-- -->"
   ]
  },
  {
   "cell_type": "markdown",
   "id": "pretty-gates",
   "metadata": {},
   "source": [
    "Note that the choice of these cutoffs for visualization is quite\n",
    "arbitrary. We recommend users to test several cutoff values.\n",
    "\n",
    "If you would consider more than the top 250 targets based on prior\n",
    "information, you will infer more, but less confident, ligand-target\n",
    "links; by considering less than 250 targets, you will be more stringent.\n",
    "\n",
    "If you would change the quantile cutoff that is used to set scores to 0\n",
    "(for visualization purposes), lowering this cutoff will result in a more\n",
    "dense heatmap, whereas highering this cutoff will result in a more\n",
    "sparse heatmap."
   ]
  },
  {
   "cell_type": "markdown",
   "id": "infinite-quantity",
   "metadata": {},
   "source": [
    "## Follow-up analysis 1: Ligand-receptor network inference for top-ranked ligands\n",
    "\n",
    "One type of follow-up analysis is looking at which receptors of the\n",
    "receiver cell population (here: malignant cells) can potentially bind to\n",
    "the prioritized ligands from the sender cell population (here: CAFs).\n",
    "\n",
    "So, we will now infer the predicted ligand-receptor interactions of the\n",
    "top-ranked ligands and visualize these in a heatmap."
   ]
  },
  {
   "cell_type": "markdown",
   "id": "maritime-villa",
   "metadata": {},
   "source": [
    "``` r"
   ]
  },
  {
   "cell_type": "markdown",
   "id": "attractive-referral",
   "metadata": {},
   "source": [
    "# get the ligand-receptor network of the top-ranked ligands\n",
    "lr_network_top = lr_network %>% filter(from %in% best_upstream_ligands & to %in% expressed_receptors) %>% distinct(from,to)\n",
    "best_upstream_receptors = lr_network_top %>% pull(to) %>% unique()\n",
    "\n",
    "# get the weights of the ligand-receptor interactions as used in the NicheNet model\n",
    "weighted_networks = readRDS(url(\"https://zenodo.org/record/3260758/files/weighted_networks.rds\"))\n",
    "lr_network_top_df = weighted_networks$lr_sig %>% filter(from %in% best_upstream_ligands & to %in% best_upstream_receptors)\n",
    "\n",
    "# convert to a matrix\n",
    "lr_network_top_df = lr_network_top_df %>% spread(\"from\",\"weight\",fill = 0)\n",
    "lr_network_top_matrix = lr_network_top_df %>% select(-to) %>% as.matrix() %>% magrittr::set_rownames(lr_network_top_df$to)\n",
    "\n",
    "# perform hierarchical clustering to order the ligands and receptors\n",
    "dist_receptors = dist(lr_network_top_matrix, method = \"binary\")\n",
    "hclust_receptors = hclust(dist_receptors, method = \"ward.D2\")\n",
    "order_receptors = hclust_receptors$labels[hclust_receptors$order]\n",
    "\n",
    "dist_ligands = dist(lr_network_top_matrix %>% t(), method = \"binary\")\n",
    "hclust_ligands = hclust(dist_ligands, method = \"ward.D2\")\n",
    "order_ligands_receptor = hclust_ligands$labels[hclust_ligands$order]"
   ]
  },
  {
   "cell_type": "markdown",
   "id": "advance-henry",
   "metadata": {},
   "source": [
    "```"
   ]
  },
  {
   "cell_type": "markdown",
   "id": "empirical-vatican",
   "metadata": {},
   "source": [
    "Show a heatmap of the ligand-receptor interactions"
   ]
  },
  {
   "cell_type": "markdown",
   "id": "endless-shelf",
   "metadata": {},
   "source": [
    "``` r"
   ]
  },
  {
   "cell_type": "markdown",
   "id": "resident-german",
   "metadata": {},
   "source": [
    "vis_ligand_receptor_network = lr_network_top_matrix[order_receptors, order_ligands_receptor]\n",
    "p_ligand_receptor_network = vis_ligand_receptor_network %>% t() %>% make_heatmap_ggplot(\"Prioritized CAF-ligands\",\"Receptors expressed by malignant cells\", color = \"mediumvioletred\", x_axis_position = \"top\",legend_title = \"Prior interaction potential\")\n",
    "p_ligand_receptor_network"
   ]
  },
  {
   "cell_type": "markdown",
   "id": "least-chile",
   "metadata": {},
   "source": [
    "```"
   ]
  },
  {
   "cell_type": "markdown",
   "id": "unnecessary-classics",
   "metadata": {},
   "source": [
    "![](ligand_activity_geneset_files/figure-gfm/unnamed-chunk-15-1.png)<!-- -->"
   ]
  },
  {
   "cell_type": "markdown",
   "id": "loved-consistency",
   "metadata": {},
   "source": [
    "## Follow-up analysis 2: Visualize expression of top-predicted ligands and their target genes in a combined heatmap\n",
    "\n",
    "NicheNet only considers expressed ligands of sender cells, but does not\n",
    "take into account their expression for ranking the ligands. The ranking\n",
    "is purely based on the potential that a ligand might regulate the gene\n",
    "set of interest, given prior knowledge. Because it is also useful to\n",
    "further look into expression of ligands and their target genes, we\n",
    "demonstrate here how you could make a combined figure showing ligand\n",
    "activity, ligand expression, target gene expression and ligand-target\n",
    "regulatory potential.\n",
    "\n",
    "#### Load additional packages required for the visualization:"
   ]
  },
  {
   "cell_type": "markdown",
   "id": "residential-simulation",
   "metadata": {},
   "source": [
    "``` r"
   ]
  },
  {
   "cell_type": "code",
   "execution_count": null,
   "id": "capable-savage",
   "metadata": {},
   "outputs": [],
   "source": [
    "library(RColorBrewer)\n",
    "library(cowplot)\n",
    "library(ggpubr)"
   ]
  },
  {
   "cell_type": "markdown",
   "id": "specific-tunnel",
   "metadata": {},
   "source": [
    "```"
   ]
  },
  {
   "cell_type": "markdown",
   "id": "spread-wrestling",
   "metadata": {},
   "source": [
    "#### Prepare the ligand activity matrix"
   ]
  },
  {
   "cell_type": "markdown",
   "id": "passing-campaign",
   "metadata": {},
   "source": [
    "``` r"
   ]
  },
  {
   "cell_type": "markdown",
   "id": "senior-listing",
   "metadata": {},
   "source": [
    "ligand_pearson_matrix = ligand_activities %>% select(pearson) %>% as.matrix() %>% magrittr::set_rownames(ligand_activities$test_ligand)\n",
    "\n",
    "vis_ligand_pearson = ligand_pearson_matrix[order_ligands, ] %>% as.matrix(ncol = 1) %>% magrittr::set_colnames(\"Pearson\")"
   ]
  },
  {
   "cell_type": "markdown",
   "id": "fabulous-badge",
   "metadata": {},
   "source": [
    "```"
   ]
  },
  {
   "cell_type": "markdown",
   "id": "interior-story",
   "metadata": {},
   "source": []
  },
  {
   "cell_type": "markdown",
   "id": "photographic-reunion",
   "metadata": {},
   "source": [
    "``` r"
   ]
  },
  {
   "cell_type": "markdown",
   "id": "frequent-brown",
   "metadata": {},
   "source": [
    "p_ligand_pearson = vis_ligand_pearson %>% make_heatmap_ggplot(\"Prioritized CAF-ligands\",\"Ligand activity\", color = \"darkorange\",legend_position = \"top\", x_axis_position = \"top\", legend_title = \"Pearson correlation coefficient\\ntarget gene prediction ability)\")\n",
    "p_ligand_pearson"
   ]
  },
  {
   "cell_type": "markdown",
   "id": "impressed-virginia",
   "metadata": {},
   "source": [
    "```"
   ]
  },
  {
   "cell_type": "markdown",
   "id": "pregnant-florida",
   "metadata": {},
   "source": [
    "![](ligand_activity_geneset_files/figure-gfm/unnamed-chunk-18-1.png)<!-- -->\n",
    "\n",
    "#### Prepare expression of ligands in fibroblast per tumor\n",
    "\n",
    "Because the single-cell data was collected from multiple tumors, we will\n",
    "show here the average expression of the ligands per tumor."
   ]
  },
  {
   "cell_type": "markdown",
   "id": "governmental-newman",
   "metadata": {},
   "source": [
    "``` r"
   ]
  },
  {
   "cell_type": "markdown",
   "id": "expanded-logan",
   "metadata": {},
   "source": [
    "expression_df_CAF = expression[CAF_ids,order_ligands] %>% data.frame() %>% rownames_to_column(\"cell\") %>% as_tibble() %>% inner_join(sample_info %>% select(cell,tumor), by =  \"cell\")\n",
    "\n",
    "aggregated_expression_CAF = expression_df_CAF %>% group_by(tumor) %>% select(-cell) %>% summarise_all(mean)\n",
    "\n",
    "aggregated_expression_df_CAF = aggregated_expression_CAF %>% select(-tumor) %>% t() %>% magrittr::set_colnames(aggregated_expression_CAF$tumor) %>% data.frame() %>% rownames_to_column(\"ligand\") %>% as_tibble() \n",
    "\n",
    "aggregated_expression_matrix_CAF = aggregated_expression_df_CAF %>% select(-ligand) %>% as.matrix() %>% magrittr::set_rownames(aggregated_expression_df_CAF$ligand)\n",
    "\n",
    "order_tumors = c(\"HN6\",\"HN20\",\"HN26\",\"HN28\",\"HN22\",\"HN25\",\"HN5\",\"HN18\",\"HN17\",\"HN16\") # this order was determined based on the paper from Puram et al. Tumors are ordered according to p-EMT score.\n",
    "vis_ligand_tumor_expression = aggregated_expression_matrix_CAF[order_ligands,order_tumors]"
   ]
  },
  {
   "cell_type": "markdown",
   "id": "south-geography",
   "metadata": {},
   "source": [
    "```\n",
    "\n",
    "``` r"
   ]
  },
  {
   "cell_type": "code",
   "execution_count": null,
   "id": "expressed-version",
   "metadata": {},
   "outputs": [],
   "source": [
    "library(RColorBrewer)\n",
    "color = colorRampPalette(rev(brewer.pal(n = 7, name =\"RdYlBu\")))(100)\n",
    "p_ligand_tumor_expression = vis_ligand_tumor_expression %>% make_heatmap_ggplot(\"Prioritized CAF-ligands\",\"Tumor\", color = color[100],legend_position = \"top\", x_axis_position = \"top\", legend_title = \"Expression\\n(averaged over\\nsingle cells)\") + theme(axis.text.y = element_text(face = \"italic\"))\n",
    "p_ligand_tumor_expression"
   ]
  },
  {
   "cell_type": "markdown",
   "id": "breeding-witness",
   "metadata": {},
   "source": [
    "```"
   ]
  },
  {
   "cell_type": "markdown",
   "id": "organized-entrance",
   "metadata": {},
   "source": [
    "![](ligand_activity_geneset_files/figure-gfm/unnamed-chunk-20-1.png)<!-- -->"
   ]
  },
  {
   "cell_type": "markdown",
   "id": "afraid-kentucky",
   "metadata": {},
   "source": [
    "#### Prepare expression of target genes in malignant cells per tumor"
   ]
  },
  {
   "cell_type": "markdown",
   "id": "light-nothing",
   "metadata": {},
   "source": [
    "``` r"
   ]
  },
  {
   "cell_type": "markdown",
   "id": "paperback-price",
   "metadata": {},
   "source": [
    "expression_df_target = expression[malignant_ids,geneset_oi] %>% data.frame() %>% rownames_to_column(\"cell\") %>% as_tibble() %>% inner_join(sample_info %>% select(cell,tumor), by =  \"cell\") \n",
    "\n",
    "aggregated_expression_target = expression_df_target %>% group_by(tumor) %>% select(-cell) %>% summarise_all(mean)\n",
    "\n",
    "aggregated_expression_df_target = aggregated_expression_target %>% select(-tumor) %>% t() %>% magrittr::set_colnames(aggregated_expression_target$tumor) %>% data.frame() %>% rownames_to_column(\"target\") %>% as_tibble() \n",
    "\n",
    "aggregated_expression_matrix_target = aggregated_expression_df_target %>% select(-target) %>% as.matrix() %>% magrittr::set_rownames(aggregated_expression_df_target$target)\n",
    "\n",
    "vis_target_tumor_expression_scaled = aggregated_expression_matrix_target %>% t() %>% scale_quantile() %>% .[order_tumors,order_targets]"
   ]
  },
  {
   "cell_type": "markdown",
   "id": "accessory-yellow",
   "metadata": {},
   "source": [
    "```\n",
    "\n",
    "``` r"
   ]
  },
  {
   "cell_type": "markdown",
   "id": "pleasant-equivalent",
   "metadata": {},
   "source": [
    "p_target_tumor_scaled_expression = vis_target_tumor_expression_scaled  %>% make_threecolor_heatmap_ggplot(\"Tumor\",\"Target\", low_color = color[1],mid_color = color[50], mid = 0.5, high_color = color[100], legend_position = \"top\", x_axis_position = \"top\" , legend_title = \"Scaled expression\\n(averaged over\\nsingle cells)\") + theme(axis.text.x = element_text(face = \"italic\"))\n",
    "p_target_tumor_scaled_expression"
   ]
  },
  {
   "cell_type": "markdown",
   "id": "informed-authentication",
   "metadata": {},
   "source": [
    "```"
   ]
  },
  {
   "cell_type": "markdown",
   "id": "activated-suggestion",
   "metadata": {},
   "source": [
    "![](ligand_activity_geneset_files/figure-gfm/unnamed-chunk-22-1.png)<!-- -->"
   ]
  },
  {
   "cell_type": "markdown",
   "id": "healthy-ethics",
   "metadata": {},
   "source": [
    "#### Combine the different heatmaps in one overview figure"
   ]
  },
  {
   "cell_type": "markdown",
   "id": "imperial-stand",
   "metadata": {},
   "source": [
    "``` r"
   ]
  },
  {
   "cell_type": "markdown",
   "id": "fleet-garage",
   "metadata": {},
   "source": [
    "figures_without_legend = plot_grid(\n",
    "  p_ligand_pearson + theme(legend.position = \"none\", axis.ticks = element_blank()) + theme(axis.title.x = element_text()),\n",
    "  p_ligand_tumor_expression + theme(legend.position = \"none\", axis.ticks = element_blank()) + theme(axis.title.x = element_text()) + ylab(\"\"),\n",
    "  p_ligand_target_network + theme(legend.position = \"none\", axis.ticks = element_blank()) + ylab(\"\"), \n",
    "  NULL,\n",
    "  NULL,\n",
    "  p_target_tumor_scaled_expression + theme(legend.position = \"none\", axis.ticks = element_blank()) + xlab(\"\"), \n",
    "  align = \"hv\",\n",
    "  nrow = 2,\n",
    "  rel_widths = c(ncol(vis_ligand_pearson)+ 4.5, ncol(vis_ligand_tumor_expression), ncol(vis_ligand_target)) -2,\n",
    "  rel_heights = c(nrow(vis_ligand_pearson), nrow(vis_target_tumor_expression_scaled) + 3)) \n",
    "\n",
    "legends = plot_grid(\n",
    "  as_ggplot(get_legend(p_ligand_pearson)),\n",
    "  as_ggplot(get_legend(p_ligand_tumor_expression)),\n",
    "  as_ggplot(get_legend(p_ligand_target_network)),\n",
    "  as_ggplot(get_legend(p_target_tumor_scaled_expression)),\n",
    "  nrow = 2,\n",
    "  align = \"h\")\n",
    "\n",
    "plot_grid(figures_without_legend, \n",
    "          legends, \n",
    "          rel_heights = c(10,2), nrow = 2, align = \"hv\")"
   ]
  },
  {
   "cell_type": "markdown",
   "id": "enclosed-cross",
   "metadata": {},
   "source": [
    "```"
   ]
  },
  {
   "cell_type": "markdown",
   "id": "dynamic-librarian",
   "metadata": {},
   "source": [
    "![](ligand_activity_geneset_files/figure-gfm/unnamed-chunk-23-1.png)<!-- -->"
   ]
  },
  {
   "cell_type": "markdown",
   "id": "alleged-daisy",
   "metadata": {},
   "source": [
    "## Other follow-up analyses:"
   ]
  },
  {
   "cell_type": "markdown",
   "id": "general-softball",
   "metadata": {},
   "source": [
    "As another follow-up analysis, you can infer possible signaling paths\n",
    "between ligands and targets of interest. You can read how to do this in\n",
    "the following vignette [Inferring ligand-to-target signaling\n",
    "paths](ligand_target_signaling_path.md):`vignette(\"ligand_target_signaling_path\",\n",
    "package=\"nichenetr\")`.\n",
    "\n",
    "Another follow-up analysis is getting a “tangible” measure of how well\n",
    "top-ranked ligands predict the gene set of interest and assess which\n",
    "genes of the gene set can be predicted well. You can read how to do this\n",
    "in the following vignette [Assess how well top-ranked ligands can\n",
    "predict a gene set of\n",
    "interest](target_prediction_evaluation_geneset.md):`vignette(\"target_prediction_evaluation_geneset\",\n",
    "package=\"nichenetr\")`.\n",
    "\n",
    "In case you want to visualize ligand-target links between multiple\n",
    "interacting cells, you can make an appealing circos plot as shown in\n",
    "vignette [Circos plot visualization to show active ligand-target links\n",
    "between interacting cells](circos.md):`vignette(\"circos\",\n",
    "package=\"nichenetr\")`."
   ]
  },
  {
   "cell_type": "markdown",
   "id": "apart-peeing",
   "metadata": {},
   "source": [
    "## References\n",
    "\n",
    "<div id=\"refs\" class=\"references\">\n",
    "\n",
    "<div id=\"ref-puram_single-cell_2017\">\n",
    "\n",
    "Puram, Sidharth V., Itay Tirosh, Anuraag S. Parikh, Anoop P. Patel,\n",
    "Keren Yizhak, Shawn Gillespie, Christopher Rodman, et al. 2017.\n",
    "“Single-Cell Transcriptomic Analysis of Primary and Metastatic Tumor\n",
    "Ecosystems in Head and Neck Cancer.” *Cell* 171 (7): 1611–1624.e24.\n",
    "<https://doi.org/10.1016/j.cell.2017.10.044>.\n",
    "\n",
    "</div>\n",
    "\n",
    "</div>"
   ]
  },
  {
   "cell_type": "code",
   "execution_count": null,
   "id": "regulation-assistant",
   "metadata": {},
   "outputs": [],
   "source": []
  }
 ],
 "metadata": {
  "kernelspec": {
   "display_name": "nichenet",
   "language": "R",
   "name": "nichenet"
  },
  "language_info": {
   "codemirror_mode": "r",
   "file_extension": ".r",
   "mimetype": "text/x-r-source",
   "name": "R",
   "pygments_lexer": "r",
   "version": "4.0.5"
  },
  "widgets": {
   "application/vnd.jupyter.widget-state+json": {
    "state": {},
    "version_major": 2,
    "version_minor": 0
   }
  }
 },
 "nbformat": 4,
 "nbformat_minor": 5
}
