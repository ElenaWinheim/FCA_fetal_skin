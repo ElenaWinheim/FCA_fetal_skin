{
 "cells": [
  {
   "cell_type": "markdown",
   "metadata": {},
   "source": [
    "Differential NicheNet analysis between conditions of interest \n",
    "================ \n",
    "Robin Browaeys \n",
    "2022-01-12 \n",
    " \n",
    "<!-- github markdown built using  \n",
    "rmarkdown::render(\"vignettes/differential_nichenet_pEMT.Rmd\", output_format = \"github_document\") \n",
    "--> \n",
    " \n",
    "Remark: this is a beta version of a new extension of NicheNet, namely \n",
    "Differential NicheNet. Short-term improvements will include scalability, \n",
    "visualization and documentation of this vignette and the underlying \n",
    "functions (january 2022). \n",
    " \n",
    "The goal of Differential NicheNet is to predict ligand-receptors pairs \n",
    "that are both differentially expressed and active between different \n",
    "niches of interest. \n",
    " \n",
    "This vignette guides you in detail through all the steps of a \n",
    "Differential NicheNet analysis. As example expression data of \n",
    "interacting cells, we will use data from Puram et al. to explore \n",
    "intercellular communication in the tumor microenvironment in head and \n",
    "neck squamous cell carcinoma (HNSCC) (Puram et al. 2017). More \n",
    "specifically, we will look at cell-cell communication differences \n",
    "between pEMT-high and pEMT-low tumors (pEMT = partial \n",
    "epithelial-mesenschymal transition). In this data, we thus have 2 \n",
    "conditions/niches, but this pipeline is also usable for more \n",
    "conditions/niches. \n",
    " \n",
    "The used ligand-receptor network and ligand-target matrix can be \n",
    "downloaded from Zenodo \n",
    "[![DOI](https://zenodo.org/badge/DOI/10.5281/zenodo.3260758.svg)](https://doi.org/10.5281/zenodo.3260758). \n",
    "The Seurat object containing expression data of interacting cells in \n",
    "HNSCC can also be downloaded from Zenodo \n",
    "[![DOI](https://zenodo.org/badge/DOI/10.5281/zenodo.4675430.svg)](https://doi.org/10.5281/zenodo.4675430). \n",
    " \n",
    "# 0. Read in the expression data of interest, and the NicheNet ligand-receptor network and ligand-target matrix \n",
    " \n",
    "## Load in packages \n",
    " \n"
   ]
  },
  {
   "cell_type": "code",
   "execution_count": null,
   "metadata": {},
   "outputs": [],
   "source": [
    "library(nichenetr) \n",
    "library(RColorBrewer) \n",
    "library(tidyverse) \n",
    "library(Seurat) # \n"
   ]
  },
  {
   "cell_type": "markdown",
   "metadata": {},
   "source": [
    " \n",
    "## Read in the expression data \n",
    " \n",
    "In this case study, we want to study differences in cell-cell \n",
    "communication patterns between pEMT-high and pEMT-low tumors. The meta \n",
    "data columns that indicate the pEMT status of tumors are ‘pEMT’, and the \n",
    "cell type is indicated in the ‘celltype’ column. \n",
    " \n"
   ]
  },
  {
   "cell_type": "code",
   "execution_count": null,
   "metadata": {},
   "outputs": [],
   "source": [
    "seurat_obj = readRDS(url(\"https://zenodo.org/record/4675430/files/seurat_obj_hnscc.rds\")) \n",
    "DimPlot(seurat_obj, group.by = \"celltype\") # user adaptation required on own dataset \n"
   ]
  },
  {
   "cell_type": "markdown",
   "metadata": {},
   "source": [
    " \n",
    "![](differential_nichenet_pEMT_files/figure-gfm/unnamed-chunk-2-1.png)<!-- --> \n",
    " \n"
   ]
  },
  {
   "cell_type": "code",
   "execution_count": null,
   "metadata": {},
   "outputs": [],
   "source": [
    "DimPlot(seurat_obj, group.by = \"pEMT\") # user adaptation required on own dataset \n",
    "\n"
   ]
  },
  {
   "cell_type": "markdown",
   "metadata": {},
   "source": [
    " \n",
    "![](differential_nichenet_pEMT_files/figure-gfm/unnamed-chunk-2-2.png)<!-- --> \n",
    " \n",
    "We will now also check the number of cells per cell type condition \n",
    "combination \n",
    " \n"
   ]
  },
  {
   "cell_type": "code",
   "execution_count": null,
   "metadata": {},
   "outputs": [],
   "source": [
    "table(seurat_obj@meta.data$celltype, seurat_obj@meta.data$pEMT) # cell types vs conditions # user adaptation required on own dataset \n",
    "##                 \n",
    "##                 High  Low \n",
    "##   CAF            396  104 \n",
    "##   Endothelial    105   53 \n",
    "##   Malignant     1093  549 \n",
    "##   Myeloid         92    7 \n",
    "##   myofibroblast  382   61 \n",
    "##   T.cell         689    3 \n"
   ]
  },
  {
   "cell_type": "markdown",
   "metadata": {},
   "source": [
    " \n",
    "For the Differential NicheNet, we need to compare at least 2 niches or \n",
    "conditions to each other. In this case, the 2 niches are the \n",
    "pEMT-high-niche and the pEMT-low-niche. We will adapt the names of the \n",
    "cell types based on their niche of origin. \n",
    " \n"
   ]
  },
  {
   "cell_type": "code",
   "execution_count": null,
   "metadata": {},
   "outputs": [],
   "source": [
    "seurat_obj@meta.data$celltype_aggregate = paste(seurat_obj@meta.data$celltype, seurat_obj@meta.data$pEMT,sep = \"_\") # user adaptation required on own dataset \n",
    "DimPlot(seurat_obj, group.by = \"celltype_aggregate\") \n"
   ]
  },
  {
   "cell_type": "markdown",
   "metadata": {},
   "source": [
    " \n",
    "![](differential_nichenet_pEMT_files/figure-gfm/unnamed-chunk-4-1.png)<!-- --> \n",
    " \n"
   ]
  },
  {
   "cell_type": "code",
   "execution_count": null,
   "metadata": {},
   "outputs": [],
   "source": [
    "seurat_obj@meta.data$celltype_aggregate %>% table() %>% sort(decreasing = TRUE) \n",
    "## . \n",
    "##     Malignant_High        T.cell_High      Malignant_Low           CAF_High myofibroblast_High   Endothelial_High            CAF_Low  \n",
    "##               1093                689                549                396                382                105                104  \n",
    "##       Myeloid_High  myofibroblast_Low    Endothelial_Low        Myeloid_Low         T.cell_Low  \n",
    "##                 92                 61                 53                  7                  3 \n"
   ]
  },
  {
   "cell_type": "markdown",
   "metadata": {},
   "source": [
    " \n"
   ]
  },
  {
   "cell_type": "code",
   "execution_count": null,
   "metadata": {},
   "outputs": [],
   "source": [
    "celltype_id = \"celltype_aggregate\" # metadata column name of the cell type of interest \n",
    "seurat_obj = SetIdent(seurat_obj, value = seurat_obj[[celltype_id]]) \n"
   ]
  },
  {
   "cell_type": "markdown",
   "metadata": {},
   "source": [
    " \n",
    "## Read in the NicheNet ligand-receptor network and ligand-target matrix \n",
    " \n"
   ]
  },
  {
   "cell_type": "code",
   "execution_count": null,
   "metadata": {},
   "outputs": [],
   "source": [
    "ligand_target_matrix = readRDS(url(\"https://zenodo.org/record/3260758/files/ligand_target_matrix.rds\")) \n",
    "ligand_target_matrix[1:5,1:5] # target genes in rows, ligands in columns \n",
    "##                 CXCL1        CXCL2        CXCL3        CXCL5         PPBP \n",
    "## A1BG     3.534343e-04 4.041324e-04 3.729920e-04 3.080640e-04 2.628388e-04 \n",
    "## A1BG-AS1 1.650894e-04 1.509213e-04 1.583594e-04 1.317253e-04 1.231819e-04 \n",
    "## A1CF     5.787175e-04 4.596295e-04 3.895907e-04 3.293275e-04 3.211944e-04 \n",
    "## A2M      6.027058e-04 5.996617e-04 5.164365e-04 4.517236e-04 4.590521e-04 \n",
    "## A2M-AS1  8.898724e-05 8.243341e-05 7.484018e-05 4.912514e-05 5.120439e-05 \n"
   ]
  },
  {
   "cell_type": "markdown",
   "metadata": {},
   "source": [
    " \n"
   ]
  },
  {
   "cell_type": "code",
   "execution_count": null,
   "metadata": {},
   "outputs": [],
   "source": [
    "lr_network = readRDS(url(\"https://zenodo.org/record/3260758/files/lr_network.rds\")) \n",
    "lr_network = lr_network %>% mutate(bonafide = ! database %in% c(\"ppi_prediction\",\"ppi_prediction_go\")) \n",
    "lr_network = lr_network %>% dplyr::rename(ligand = from, receptor = to) %>% distinct(ligand, receptor, bonafide) \n",
    " \n",
    "head(lr_network) \n",
    "## # A tibble: 6 x 3 \n",
    "##   ligand receptor bonafide \n",
    "##   <chr>  <chr>    <lgl>    \n",
    "## 1 CXCL1  CXCR2    TRUE     \n",
    "## 2 CXCL2  CXCR2    TRUE     \n",
    "## 3 CXCL3  CXCR2    TRUE     \n",
    "## 4 CXCL5  CXCR2    TRUE     \n",
    "## 5 PPBP   CXCR2    TRUE     \n",
    "## 6 CXCL6  CXCR2    TRUE \n"
   ]
  },
  {
   "cell_type": "markdown",
   "metadata": {},
   "source": [
    " \n",
    "Note: if your data is of mouse origin: convert human gene symbols to \n",
    "their one-to-one orthologs \n",
    " \n"
   ]
  },
  {
   "cell_type": "code",
   "execution_count": null,
   "metadata": {},
   "outputs": [],
   "source": [
    "organism = \"human\" # user adaptation required on own dataset \n",
    "\n"
   ]
  },
  {
   "cell_type": "markdown",
   "metadata": {},
   "source": [
    " \n"
   ]
  },
  {
   "cell_type": "code",
   "execution_count": null,
   "metadata": {},
   "outputs": [],
   "source": [
    "if(organism == \"mouse\"){ \n",
    "  lr_network = lr_network %>% mutate(ligand = convert_human_to_mouse_symbols(ligand), receptor = convert_human_to_mouse_symbols(receptor)) %>% drop_na() \n",
    " \n",
    "  colnames(ligand_target_matrix) = ligand_target_matrix %>% colnames() %>% convert_human_to_mouse_symbols() \n",
    "  rownames(ligand_target_matrix) = ligand_target_matrix %>% rownames() %>% convert_human_to_mouse_symbols() \n",
    "  ligand_target_matrix = ligand_target_matrix %>% .[!is.na(rownames(ligand_target_matrix)), !is.na(colnames(ligand_target_matrix))] \n",
    "} \n"
   ]
  },
  {
   "cell_type": "markdown",
   "metadata": {},
   "source": [
    " \n",
    "# 1. Define the niches/microenvironments of interest \n",
    " \n",
    "Each niche should have at least one “sender/niche” cell population and \n",
    "one “receiver/target” cell population (present in your expression data) \n",
    " \n",
    "In this case study, we are interested to find differences in cell-cell \n",
    "interactions to malignant cells between pEMT high and pEMT low tumors. \n",
    "The receiver cell population in the pEMT-High niche is thus the \n",
    "“Malignant_High” cell type, and in the pEMT-Low niche this is \n",
    "“Malignant_Low”. The sender cell populations of interest are \n",
    "myofibroblasts, Endothelial, CAF, T.cell, and Myeloid. Importantly, we \n",
    "only include T.Cell and Myeloid in the pEMT-High niche, because there \n",
    "are too few cells of these populations present in the pEMT-low niche. \n",
    "Hereby, we demonstrate the possibility to include a condition-specific \n",
    "cell type in the analysis - which is possible because we calculate DE \n",
    "compared to all sender cells of the other niche, and not only to the \n",
    "pEMT-low group of cells of the same cell type. \n",
    " \n",
    "! Important: your receiver cell type should consist of 1 cluster! \n",
    " \n"
   ]
  },
  {
   "cell_type": "code",
   "execution_count": null,
   "metadata": {},
   "outputs": [],
   "source": [
    "niches = list( \n",
    "  \"pEMT_High_niche\" = list( \n",
    "    \"sender\" = c(\"myofibroblast_High\", \"Endothelial_High\", \"CAF_High\", \"T.cell_High\", \"Myeloid_High\"), \n",
    "    \"receiver\" = c(\"Malignant_High\")), \n",
    "  \"pEMT_Low_niche\" = list( \n",
    "    \"sender\" = c(\"myofibroblast_Low\",  \"Endothelial_Low\", \"CAF_Low\"), \n",
    "    \"receiver\" = c(\"Malignant_Low\")) \n",
    "  ) # user adaptation required on own dataset \n"
   ]
  },
  {
   "cell_type": "markdown",
   "metadata": {},
   "source": [
    " \n",
    "# 2. Calculate differential expression between the niches \n",
    " \n",
    "In this step, we will determine DE between the different niches for both \n",
    "senders and receivers to define the DE of L-R pairs. \n",
    " \n",
    "### Calculate DE \n",
    " \n",
    "The method to calculate the differential expression is here the standard \n",
    "Seurat Wilcoxon test, but this can be replaced if wanted by the user \n",
    "(only requirement: output tables `DE_sender_processed` and \n",
    "`DE_receiver_processed` should be in the same format as shown here). \n",
    " \n",
    "DE will be calculated for each pairwise sender (or receiver) cell type \n",
    "comparision between the niches (so across niches, not within niche). In \n",
    "our case study, this means that DE of myofibroblast_High ligands will be \n",
    "calculated by DE analysis of myofibroblast_High vs myofibroblast_Low; \n",
    "myofibroblast_High vs Endothelial_Low; and myofibroblast_High vs \n",
    "CAF_Low. We split the cells per cell type instead of merging all cells \n",
    "from the other niche to avoid that the DE analysis will be driven by the \n",
    "most abundant cell types. \n",
    " \n"
   ]
  },
  {
   "cell_type": "code",
   "execution_count": null,
   "metadata": {},
   "outputs": [],
   "source": [
    "assay_oi = \"SCT\" # other possibilities: RNA,... \n",
    "DE_sender = calculate_niche_de(seurat_obj = seurat_obj %>% subset(features = lr_network$ligand %>% unique()), niches = niches, type = \"sender\", assay_oi = assay_oi) # only ligands important for sender cell types \n",
    "## [1] \"Calculate Sender DE between: myofibroblast_High and myofibroblast_Low\" \n",
    "## [2] \"Calculate Sender DE between: myofibroblast_High and Endothelial_Low\"   \n",
    "## [3] \"Calculate Sender DE between: myofibroblast_High and CAF_Low\"           \n",
    "## [1] \"Calculate Sender DE between: Endothelial_High and myofibroblast_Low\" \n",
    "## [2] \"Calculate Sender DE between: Endothelial_High and Endothelial_Low\"   \n",
    "## [3] \"Calculate Sender DE between: Endothelial_High and CAF_Low\"           \n",
    "## [1] \"Calculate Sender DE between: CAF_High and myofibroblast_Low\" \"Calculate Sender DE between: CAF_High and Endothelial_Low\"   \n",
    "## [3] \"Calculate Sender DE between: CAF_High and CAF_Low\"           \n",
    "## [1] \"Calculate Sender DE between: T.cell_High and myofibroblast_Low\" \"Calculate Sender DE between: T.cell_High and Endothelial_Low\"   \n",
    "## [3] \"Calculate Sender DE between: T.cell_High and CAF_Low\"           \n",
    "## [1] \"Calculate Sender DE between: Myeloid_High and myofibroblast_Low\" \"Calculate Sender DE between: Myeloid_High and Endothelial_Low\"   \n",
    "## [3] \"Calculate Sender DE between: Myeloid_High and CAF_Low\"           \n",
    "## [1] \"Calculate Sender DE between: myofibroblast_Low and myofibroblast_High\" \n",
    "## [2] \"Calculate Sender DE between: myofibroblast_Low and Endothelial_High\"   \n",
    "## [3] \"Calculate Sender DE between: myofibroblast_Low and CAF_High\"           \n",
    "## [4] \"Calculate Sender DE between: myofibroblast_Low and T.cell_High\"        \n",
    "## [5] \"Calculate Sender DE between: myofibroblast_Low and Myeloid_High\"       \n",
    "## [1] \"Calculate Sender DE between: Endothelial_Low and myofibroblast_High\" \n",
    "## [2] \"Calculate Sender DE between: Endothelial_Low and Endothelial_High\"   \n",
    "## [3] \"Calculate Sender DE between: Endothelial_Low and CAF_High\"           \n",
    "## [4] \"Calculate Sender DE between: Endothelial_Low and T.cell_High\"        \n",
    "## [5] \"Calculate Sender DE between: Endothelial_Low and Myeloid_High\"       \n",
    "## [1] \"Calculate Sender DE between: CAF_Low and myofibroblast_High\" \"Calculate Sender DE between: CAF_Low and Endothelial_High\"   \n",
    "## [3] \"Calculate Sender DE between: CAF_Low and CAF_High\"           \"Calculate Sender DE between: CAF_Low and T.cell_High\"        \n",
    "## [5] \"Calculate Sender DE between: CAF_Low and Myeloid_High\" \n",
    "DE_receiver = calculate_niche_de(seurat_obj = seurat_obj %>% subset(features = lr_network$receptor %>% unique()), niches = niches, type = \"receiver\", assay_oi = assay_oi) # only receptors now, later on: DE analysis to find targets \n",
    "## # A tibble: 1 x 2 \n",
    "##   receiver       receiver_other_niche \n",
    "##   <chr>          <chr>                \n",
    "## 1 Malignant_High Malignant_Low        \n",
    "## [1] \"Calculate receiver DE between: Malignant_High and Malignant_Low\" \n",
    "## [1] \"Calculate receiver DE between: Malignant_Low and Malignant_High\" \n",
    "DE_sender = DE_sender %>% mutate(avg_log2FC = ifelse(avg_log2FC == Inf, max(avg_log2FC[is.finite(avg_log2FC)]), ifelse(avg_log2FC == -Inf, min(avg_log2FC[is.finite(avg_log2FC)]), avg_log2FC))) \n",
    "DE_receiver = DE_receiver %>% mutate(avg_log2FC = ifelse(avg_log2FC == Inf, max(avg_log2FC[is.finite(avg_log2FC)]), ifelse(avg_log2FC == -Inf, min(avg_log2FC[is.finite(avg_log2FC)]), avg_log2FC))) \n"
   ]
  },
  {
   "cell_type": "markdown",
   "metadata": {},
   "source": [
    " \n",
    "### Process DE results: \n",
    " \n"
   ]
  },
  {
   "cell_type": "code",
   "execution_count": null,
   "metadata": {},
   "outputs": [],
   "source": [
    "expression_pct = 0.10 \n",
    "DE_sender_processed = process_niche_de(DE_table = DE_sender, niches = niches, expression_pct = expression_pct, type = \"sender\") \n",
    "DE_receiver_processed = process_niche_de(DE_table = DE_receiver, niches = niches, expression_pct = expression_pct, type = \"receiver\") \n"
   ]
  },
  {
   "cell_type": "markdown",
   "metadata": {},
   "source": [
    " \n",
    "### Combine sender-receiver DE based on L-R pairs: \n",
    " \n",
    "As mentioned above, DE of ligands from one sender cell type is \n",
    "determined be calculating DE between that cell type, and all the sender \n",
    "cell types of the other niche. To summarize the DE of ligands of that \n",
    "cell type we have several options: we could take the average LFC, but \n",
    "also the minimum LFC compared to the other niche. We recommend using the \n",
    "minimum LFC, because this is the strongest specificity measure of ligand \n",
    "expression, because a high min LFC means that a ligand is more strongly \n",
    "expressed in the cell type of niche 1 compared to all cell types of \n",
    "niche 2 (in contrast to a high average LFC, which does not exclude that \n",
    "one or more cell types in niche 2 also strongly express that ligand). \n",
    " \n"
   ]
  },
  {
   "cell_type": "code",
   "execution_count": null,
   "metadata": {},
   "outputs": [],
   "source": [
    "specificity_score_LR_pairs = \"min_lfc\" \n",
    "DE_sender_receiver = combine_sender_receiver_de(DE_sender_processed, DE_receiver_processed, lr_network, specificity_score = specificity_score_LR_pairs) \n"
   ]
  },
  {
   "cell_type": "markdown",
   "metadata": {},
   "source": [
    " \n",
    "# 3. Optional: Calculate differential expression between the different spatial regions \n",
    " \n",
    "To improve the cell-cell interaction predictions, you can consider \n",
    "spatial information if possible and applicable. Spatial information can \n",
    "come from microscopy data, or from spatial transcriptomics data such as \n",
    "Visium. \n",
    " \n",
    "There are several ways to incorporate spatial information in the \n",
    "Differential NicheNet pipeline. First, you can only consider cell types \n",
    "as belonging to the same niche if they are in the same spatial location. \n",
    "Another way is including spatial differential expression of \n",
    "ligand-receptor pairs within one cell type in the prioritization \n",
    "framework. \n",
    " \n",
    "For example: We have a cell type X, located in regions A and B, and we \n",
    "want to study cell-cell communication in region A. We first add only \n",
    "celltypeX of regionA in the niche definition, and then calculate DE \n",
    "between celltypeX-regionA and celltypeX-regionB to give higher \n",
    "prioritization weight to regionA-specific ligands. \n",
    " \n",
    "In this case study, our region of interest is the tumor leading edge, \n",
    "since Puram et al defined this region as important regarding the pEMT \n",
    "process. Puram et al also defined CAFs as the fibroblasts that are close \n",
    "to leading edge, whereas the other fibroblasts (myofibroblasts) were not \n",
    "preferentially located in the tumor leading edge. We can thus now \n",
    "prioritize fibroblast ligands further by looking at ligands that are DE \n",
    "between leading-edge fibroblasts (=CAFs) and non-leading-edge \n",
    "fibroblasts (myofibroblasts). \n",
    " \n",
    "We do this as follows, by first defining a ‘spatial info’ dataframe. If \n",
    "no spatial information in your data: set the following two parameters to \n",
    "FALSE, and make a mock ‘spatial_info’ data frame. \n",
    " \n"
   ]
  },
  {
   "cell_type": "code",
   "execution_count": null,
   "metadata": {},
   "outputs": [],
   "source": [
    "include_spatial_info_sender = TRUE # if not spatial info to include: put this to false # user adaptation required on own dataset \n",
    "include_spatial_info_receiver = FALSE # if spatial info to include: put this to true # user adaptation required on own dataset \n"
   ]
  },
  {
   "cell_type": "markdown",
   "metadata": {},
   "source": [
    " \n"
   ]
  },
  {
   "cell_type": "code",
   "execution_count": null,
   "metadata": {},
   "outputs": [],
   "source": [
    "spatial_info = tibble(celltype_region_oi = \"CAF_High\", celltype_other_region = \"myofibroblast_High\", niche =  \"pEMT_High_niche\", celltype_type = \"sender\") # user adaptation required on own dataset \n",
    "specificity_score_spatial = \"lfc\" \n"
   ]
  },
  {
   "cell_type": "markdown",
   "metadata": {},
   "source": [
    " \n"
   ]
  },
  {
   "cell_type": "code",
   "execution_count": null,
   "metadata": {},
   "outputs": [],
   "source": [
    "# this is how this should be defined if you don't have spatial info \n",
    "# mock spatial info \n",
    "if(include_spatial_info_sender == FALSE & include_spatial_info_receiver == FALSE){ \n",
    "    spatial_info = tibble(celltype_region_oi = NA, celltype_other_region = NA) %>% mutate(niche =  niches %>% names() %>% head(1), celltype_type = \"sender\") \n",
    "}  \n"
   ]
  },
  {
   "cell_type": "markdown",
   "metadata": {},
   "source": [
    " \n"
   ]
  },
  {
   "cell_type": "code",
   "execution_count": null,
   "metadata": {},
   "outputs": [],
   "source": [
    "if(include_spatial_info_sender == TRUE){ \n",
    "  sender_spatial_DE = calculate_spatial_DE(seurat_obj = seurat_obj %>% subset(features = lr_network$ligand %>% unique()), spatial_info = spatial_info %>% filter(celltype_type == \"sender\")) \n",
    "  sender_spatial_DE_processed = process_spatial_de(DE_table = sender_spatial_DE, type = \"sender\", lr_network = lr_network, expression_pct = expression_pct, specificity_score = specificity_score_spatial) \n",
    " \n",
    "  # add a neutral spatial score for sender celltypes in which the spatial is not known / not of importance \n",
    "  sender_spatial_DE_others = get_non_spatial_de(niches = niches, spatial_info = spatial_info, type = \"sender\", lr_network = lr_network) \n",
    "  sender_spatial_DE_processed = sender_spatial_DE_processed %>% bind_rows(sender_spatial_DE_others) \n",
    " \n",
    "  sender_spatial_DE_processed = sender_spatial_DE_processed %>% mutate(scaled_ligand_score_spatial = scale_quantile_adapted(ligand_score_spatial)) \n",
    " \n",
    "} else { \n",
    "  # # add a neutral spatial score for all sender celltypes (for none of them, spatial is relevant in this case) \n",
    "  sender_spatial_DE_processed = get_non_spatial_de(niches = niches, spatial_info = spatial_info, type = \"sender\", lr_network = lr_network) \n",
    "  sender_spatial_DE_processed = sender_spatial_DE_processed %>% mutate(scaled_ligand_score_spatial = scale_quantile_adapted(ligand_score_spatial))   \n",
    " \n",
    "} \n",
    "## [1] \"Calculate Spatial DE between: CAF_High and myofibroblast_High\" \n"
   ]
  },
  {
   "cell_type": "markdown",
   "metadata": {},
   "source": [
    " \n"
   ]
  },
  {
   "cell_type": "code",
   "execution_count": null,
   "metadata": {},
   "outputs": [],
   "source": [
    "if(include_spatial_info_receiver == TRUE){ \n",
    "  receiver_spatial_DE = calculate_spatial_DE(seurat_obj = seurat_obj %>% subset(features = lr_network$receptor %>% unique()), spatial_info = spatial_info %>% filter(celltype_type == \"receiver\")) \n",
    "  receiver_spatial_DE_processed = process_spatial_de(DE_table = receiver_spatial_DE, type = \"receiver\", lr_network = lr_network, expression_pct = expression_pct, specificity_score = specificity_score_spatial) \n",
    " \n",
    "  # add a neutral spatial score for receiver celltypes in which the spatial is not known / not of importance \n",
    "  receiver_spatial_DE_others = get_non_spatial_de(niches = niches, spatial_info = spatial_info, type = \"receiver\", lr_network = lr_network) \n",
    "  receiver_spatial_DE_processed = receiver_spatial_DE_processed %>% bind_rows(receiver_spatial_DE_others) \n",
    " \n",
    "  receiver_spatial_DE_processed = receiver_spatial_DE_processed %>% mutate(scaled_receptor_score_spatial = scale_quantile_adapted(receptor_score_spatial)) \n",
    " \n",
    "} else { \n",
    "    # # add a neutral spatial score for all receiver celltypes (for none of them, spatial is relevant in this case) \n",
    "  receiver_spatial_DE_processed = get_non_spatial_de(niches = niches, spatial_info = spatial_info, type = \"receiver\", lr_network = lr_network) \n",
    "  receiver_spatial_DE_processed = receiver_spatial_DE_processed %>% mutate(scaled_receptor_score_spatial = scale_quantile_adapted(receptor_score_spatial)) \n",
    "} \n"
   ]
  },
  {
   "cell_type": "markdown",
   "metadata": {},
   "source": [
    " \n",
    "# 4. Calculate ligand activities and infer active ligand-target links \n",
    " \n",
    "In this step, we will predict ligand activities of each ligand for each \n",
    "of the receiver cell types across the different niches. This is similar \n",
    "to the ligand activity analysis done in the normal NicheNet pipeline. \n",
    " \n",
    "To calculate ligand activities, we first need to define a geneset of \n",
    "interest for each niche. In this case study, the geneset of interest for \n",
    "the pEMT-high niche are the genes upregulated in pEMT-high tumors \n",
    "compared to pEMT-low tumors, and vice versa. \n",
    " \n",
    "Note that you can also define these geneset of interest in a different \n",
    "way! (eg pathway-based geneset etc) \n",
    " \n",
    "Ligand-target links are inferred in the same way as described in the \n",
    "basic NicheNet vignettes. \n",
    " \n"
   ]
  },
  {
   "cell_type": "code",
   "execution_count": null,
   "metadata": {},
   "outputs": [],
   "source": [
    "lfc_cutoff = 0.15 # recommended for 10x as min_lfc cutoff.  \n",
    "specificity_score_targets = \"min_lfc\" \n",
    " \n",
    "DE_receiver_targets = calculate_niche_de_targets(seurat_obj = seurat_obj, niches = niches, lfc_cutoff = lfc_cutoff, expression_pct = expression_pct, assay_oi = assay_oi)  \n",
    "## [1] \"Calculate receiver DE between: Malignant_High and Malignant_Low\" \n",
    "## [1] \"Calculate receiver DE between: Malignant_Low and Malignant_High\" \n",
    "DE_receiver_processed_targets = process_receiver_target_de(DE_receiver_targets = DE_receiver_targets, niches = niches, expression_pct = expression_pct, specificity_score = specificity_score_targets) \n",
    " \n",
    "background = DE_receiver_processed_targets  %>% pull(target) %>% unique() \n",
    "geneset_niche1 = DE_receiver_processed_targets %>% filter(receiver == niches[[1]]$receiver & target_score >= lfc_cutoff & target_significant == 1 & target_present == 1) %>% pull(target) %>% unique() \n",
    "geneset_niche2 = DE_receiver_processed_targets %>% filter(receiver == niches[[2]]$receiver & target_score >= lfc_cutoff & target_significant == 1 & target_present == 1) %>% pull(target) %>% unique() \n",
    "   \n",
    "# Good idea to check which genes will be left out of the ligand activity analysis (=when not present in the rownames of the ligand-target matrix). \n",
    "# If many genes are left out, this might point to some issue in the gene naming (eg gene aliases and old gene symbols, bad human-mouse mapping) \n",
    "geneset_niche1 %>% setdiff(rownames(ligand_target_matrix)) \n",
    "##  [1] \"ANXA8L2\"       \"PRKCDBP\"       \"IL8\"           \"PTRF\"          \"SEPP1\"         \"C1orf186\"      \"CCDC109B\"      \"C10orf54\"      \n",
    "##  [9] \"LEPREL1\"       \"ZNF812\"        \"LOC645638\"     \"LOC401397\"     \"LINC00162\"     \"DFNA5\"         \"PLK1S1\"        \"ZMYM6NB\"       \n",
    "## [17] \"C19orf10\"      \"CTSL1\"         \"SQRDL\"         \"LOC375295\"     \"WBP5\"          \"LOC100505633\"  \"AIM1\"          \"C1orf63\"       \n",
    "## [25] \"LOC100507463\"  \"GPR115\"        \"VIMP\"          \"SEP15\"         \"C1orf172\"      \"NAPRT1\"        \"LHFP\"          \"KRT16P1\"       \n",
    "## [33] \"C7orf10\"       \"PTPLA\"         \"GRAMD3\"        \"CPSF3L\"        \"MESDC2\"        \"C10orf10\"      \"KIAA1609\"      \"CCDC53\"        \n",
    "## [41] \"TXLNG2P\"       \"NGFRAP1\"       \"ERO1L\"         \"FAM134A\"       \"LSMD1\"         \"TCEB2\"         \"B3GALTL\"       \"HN1L\"          \n",
    "## [49] \"LOC550643\"     \"KIAA0922\"      \"GLT25D1\"       \"FAM127A\"       \"C1orf151-NBL1\" \"SEPW1\"         \"GPR126\"        \"LOC100505806\"  \n",
    "## [57] \"LINC00478\"     \"TCEB1\"         \"GRAMD2\"        \"GNB2L1\"        \"KIRREL\" \n",
    "geneset_niche2 %>% setdiff(rownames(ligand_target_matrix)) \n",
    "##   [1] \"LOC344887\"    \"AGPAT9\"       \"C1orf110\"     \"KIAA1467\"     \"LOC100292680\" \"EPT1\"         \"CT45A4\"       \"LOC654433\"    \n",
    "##   [9] \"UPK3BL\"       \"LINC00340\"    \"LOC100128338\" \"FAM60A\"       \"CCDC144C\"     \"LOC401109\"    \"LOC286467\"    \"LEPREL4\"      \n",
    "##  [17] \"LOC731275\"    \"LOC642236\"    \"LINC00516\"    \"LOC101101776\" \"SC5DL\"        \"PVRL4\"        \"LOC100130093\" \"LINC00338\"    \n",
    "##  [25] \"LOC100132891\" \"PPAP2C\"       \"C6orf1\"       \"C2orf47\"      \"WHSC1L1\"      \"LOC100289019\" \"SETD8\"        \"KDM5B-AS1\"    \n",
    "##  [33] \"SPG20\"        \"CXCR7\"        \"LOC100216479\" \"LOC100505761\" \"MGC57346\"     \"LPHN3\"        \"CENPC1\"       \"C11orf93\"     \n",
    "##  [41] \"C14orf169\"    \"LOC100506060\" \"FLJ31485\"     \"LOC440905\"    \"MLF1IP\"       \"TMEM194A\"     \"RRP7B\"        \"REXO1L1\"      \n",
    "##  [49] \"LOC100129269\" \"KIAA1715\"     \"CTAGE5\"       \"LOC202781\"    \"LOC100506714\" \"LOC401164\"    \"UTS2D\"        \"LOC146880\"    \n",
    "##  [57] \"KIAA1804\"     \"C5orf55\"      \"C21orf119\"    \"PRUNE\"        \"LRRC16A\"      \"LOC339240\"    \"FLJ35024\"     \"C5orf28\"      \n",
    "##  [65] \"LOC100505876\" \"MGC21881\"     \"LOC100133985\" \"PPAPDC2\"      \"FRG1B\"        \"CECR5\"        \"LOC100129361\" \"CCBL1\"        \n",
    "##  [73] \"PTPLAD1\"      \"MST4\"         \"LOC550112\"    \"LOC389791\"    \"CCDC90A\"      \"KIAA0195\"     \"LOC100506469\" \"LOC100133161\" \n",
    "##  [81] \"LOC646719\"    \"LOC728819\"    \"BRE\"          \"LOC284581\"    \"LOC441081\"    \"LOC728377\"    \"LOC100134229\" \"C3orf65\"      \n",
    "##  [89] \"SMEK2\"        \"KIAA1737\"     \"C17orf70\"     \"PLEKHM1P\"     \"LOC338758\"    \"PCNXL2\"       \"LOC91948\"     \"C17orf89\"     \n",
    "##  [97] \"LOC100505783\" \"SMCR7L\"       \"C8orf4\"       \"GPR56\"        \"ATHL1\"        \"LOC339535\"    \"PPAPDC1B\"     \"DAK\"          \n",
    "## [105] \"LOC100507173\" \"CRHR1-IT1\"    \"PPAP2B\"       \"ADCK4\"        \"KIAA0146\"     \"GYLTL1B\"      \"LOC100272216\" \"LOC400027\"    \n",
    "## [113] \"WHSC1\"        \"LOC100130855\" \"C7orf55\"      \"C19orf40\"     \"ADCK3\"        \"C9orf142\"     \"SGOL1\"        \"LOC90834\"     \n",
    "## [121] \"PTPLAD2\"      \"KIAA1967\"     \"LOC100132352\" \"LOC100630918\" \"ADRBK2\"       \"LINC00263\"    \"FAM64A\"       \"LOC401074\"    \n",
    "## [129] \"FAM179B\"      \"RP1-177G6.2\"  \"METTL21D\"     \"ERO1LB\"       \"FLJ45445\"     \"NADKD1\"       \"LOC100506233\" \"LOC100652772\" \n",
    "## [137] \"FAM175A\"      \"LINC00630\"    \"C11orf82\"     \"SETD5-AS1\"    \"SGK196\"       \"FLJ14186\"     \"CCDC104\"      \"FAM63A\"       \n",
    "## [145] \"NARG2\"        \"MTERFD1\"      \"CCDC74B-AS1\"  \"LOC286186\"    \"WDR67\"        \"C12orf52\"     \"FLJ30403\"     \"KIAA2018\"     \n",
    "## [153] \"GCN1L1\"       \"FLJ43681\"     \"LOC152217\"    \"FONG\"         \"C18orf8\"      \"ALG1L9P\"      \"GTDC2\"        \"LOC100507217\" \n",
    "## [161] \"NBPF24\"       \"WBSCR27\"      \"C14orf1\"      \"LOC284889\"    \"KIAA0317\"     \"FAM65A\"       \"PMS2L2\"       \"LUST\"         \n",
    "## [169] \"C15orf52\"     \"FAM195A\"      \"LOC399744\"    \"PYCRL\"        \"LOC338799\"    \"LOC100506190\" \"C9orf91\"      \"FLJ45340\"     \n",
    "## [177] \"LOC349196\"    \"LOC100128881\" \"TOMM70A\"      \"ALS2CR8\"      \"LDOC1L\"       \"HDGFRP3\"      \"ZNF767\"       \"LOC728558\"    \n",
    "## [185] \"LOC283693\"    \"LEPREL2\"      \"QTRTD1\"       \"SELM\"         \"C6orf25\"      \"C1orf86\"      \"HNRPLL\"       \"LOC145820\"    \n",
    "## [193] \"LOC100289341\" \"C17orf85\"     \"C3orf72\"      \"C14orf64\"     \"C9orf9\"       \"LOC100506394\" \n",
    " \n",
    "length(geneset_niche1) \n",
    "## [1] 1668 \n",
    "length(geneset_niche2) \n",
    "## [1] 2889 \n"
   ]
  },
  {
   "cell_type": "markdown",
   "metadata": {},
   "source": [
    " \n",
    "It is always useful to check the number of genes in the geneset before \n",
    "doing the ligand activity analysis. We recommend having between 20 and \n",
    "1000 genes in the geneset of interest, and a background of at least 5000 \n",
    "genes for a proper ligand activity analysis. If you retrieve too many DE \n",
    "genes, it is recommended to use a higher `lfc_cutoff` threshold. We \n",
    "recommend using a cutoff of 0.15 if you have \\> 2 receiver cells/niches \n",
    "to compare and use the min_lfc as specificity score. If you have only 2 \n",
    "receivers/niche, we recommend using a higher threshold (such as using \n",
    "0.25). If you have single-cell data like Smart-seq2 with high sequencing \n",
    "depth, we recommend to also use higher threshold. \n",
    " \n",
    "As we see here, we have Smart-seq2 data and only 2 niches to compare, so \n",
    "we will use a stronger LFC threshold to keep less DE genes, but more \n",
    "trustworthy ones. \n",
    " \n"
   ]
  },
  {
   "cell_type": "code",
   "execution_count": null,
   "metadata": {},
   "outputs": [],
   "source": [
    "lfc_cutoff = 0.75  \n",
    " \n",
    "specificity_score_targets = \"min_lfc\" \n",
    " \n",
    "DE_receiver_processed_targets = process_receiver_target_de(DE_receiver_targets = DE_receiver_targets, niches = niches, expression_pct = expression_pct, specificity_score = specificity_score_targets) \n",
    "   \n",
    "background = DE_receiver_processed_targets  %>% pull(target) %>% unique() \n",
    "geneset_niche1 = DE_receiver_processed_targets %>% filter(receiver == niches[[1]]$receiver & target_score >= lfc_cutoff & target_significant == 1 & target_present == 1) %>% pull(target) %>% unique() \n",
    "geneset_niche2 = DE_receiver_processed_targets %>% filter(receiver == niches[[2]]$receiver & target_score >= lfc_cutoff & target_significant == 1 & target_present == 1) %>% pull(target) %>% unique() \n",
    "   \n",
    "# Good idea to check which genes will be left out of the ligand activity analysis (=when not present in the rownames of the ligand-target matrix). \n",
    "# If many genes are left out, this might point to some issue in the gene naming (eg gene aliases and old gene symbols, bad human-mouse mapping) \n",
    "geneset_niche1 %>% setdiff(rownames(ligand_target_matrix)) \n",
    "## [1] \"ANXA8L2\"  \"PRKCDBP\"  \"IL8\"      \"PTRF\"     \"SEPP1\"    \"C1orf186\" \n",
    "geneset_niche2 %>% setdiff(rownames(ligand_target_matrix)) \n",
    "## [1] \"LOC344887\"    \"AGPAT9\"       \"C1orf110\"     \"KIAA1467\"     \"LOC100292680\" \"EPT1\"         \"CT45A4\" \n",
    " \n",
    "length(geneset_niche1) \n",
    "## [1] 169 \n",
    "length(geneset_niche2) \n",
    "## [1] 136 \n"
   ]
  },
  {
   "cell_type": "markdown",
   "metadata": {},
   "source": [
    " \n"
   ]
  },
  {
   "cell_type": "code",
   "execution_count": null,
   "metadata": {},
   "outputs": [],
   "source": [
    "top_n_target = 250 \n",
    " \n",
    "niche_geneset_list = list( \n",
    "  \"pEMT_High_niche\" = list( \n",
    "    \"receiver\" = niches[[1]]$receiver, \n",
    "    \"geneset\" = geneset_niche1, \n",
    "    \"background\" = background), \n",
    "  \"pEMT_Low_niche\" = list( \n",
    "    \"receiver\" = niches[[2]]$receiver, \n",
    "    \"geneset\" = geneset_niche2 , \n",
    "    \"background\" = background) \n",
    "  ) \n",
    "   \n",
    "ligand_activities_targets = get_ligand_activities_targets(niche_geneset_list = niche_geneset_list, ligand_target_matrix = ligand_target_matrix, top_n_target = top_n_target) \n",
    "## [1] \"Calculate Ligand activities for: Malignant_High\" \n",
    "## [1] \"Calculate Ligand activities for: Malignant_Low\" \n"
   ]
  },
  {
   "cell_type": "markdown",
   "metadata": {},
   "source": [
    " \n",
    "# 5. Calculate (scaled) expression of ligands, receptors and targets across cell types of interest (log expression values and expression fractions) \n",
    " \n",
    "In this step, we will calculate average (scaled) expression, and \n",
    "fraction of expression, of ligands, receptors, and target genes across \n",
    "all cell types of interest. Now this is here demonstrated via the \n",
    "DotPlot function of Seurat, but this can also be done via other ways of \n",
    "course. \n",
    " \n"
   ]
  },
  {
   "cell_type": "code",
   "execution_count": null,
   "metadata": {},
   "outputs": [],
   "source": [
    "features_oi = union(lr_network$ligand, lr_network$receptor) %>% union(ligand_activities_targets$target) %>% setdiff(NA) \n",
    "   \n",
    "dotplot = suppressWarnings(Seurat::DotPlot(seurat_obj %>% subset(idents = niches %>% unlist() %>% unique()), features = features_oi, assay = assay_oi)) \n",
    "exprs_tbl = dotplot$data %>% as_tibble() \n",
    "exprs_tbl = exprs_tbl %>% rename(celltype = id, gene = features.plot, expression = avg.exp, expression_scaled = avg.exp.scaled, fraction = pct.exp) %>% \n",
    "    mutate(fraction = fraction/100) %>% as_tibble() %>% select(celltype, gene, expression, expression_scaled, fraction) %>% distinct() %>% arrange(gene) %>% mutate(gene = as.character(gene)) \n",
    "   \n",
    "exprs_tbl_ligand = exprs_tbl %>% filter(gene %in% lr_network$ligand) %>% rename(sender = celltype, ligand = gene, ligand_expression = expression, ligand_expression_scaled = expression_scaled, ligand_fraction = fraction)  \n",
    "exprs_tbl_receptor = exprs_tbl %>% filter(gene %in% lr_network$receptor) %>% rename(receiver = celltype, receptor = gene, receptor_expression = expression, receptor_expression_scaled = expression_scaled, receptor_fraction = fraction) \n",
    "exprs_tbl_target = exprs_tbl %>% filter(gene %in% ligand_activities_targets$target) %>% rename(receiver = celltype, target = gene, target_expression = expression, target_expression_scaled = expression_scaled, target_fraction = fraction) \n"
   ]
  },
  {
   "cell_type": "markdown",
   "metadata": {},
   "source": [
    " \n"
   ]
  },
  {
   "cell_type": "code",
   "execution_count": null,
   "metadata": {},
   "outputs": [],
   "source": [
    "exprs_tbl_ligand = exprs_tbl_ligand %>%  mutate(scaled_ligand_expression_scaled = scale_quantile_adapted(ligand_expression_scaled)) %>% mutate(ligand_fraction_adapted = ligand_fraction) %>% mutate_cond(ligand_fraction >= expression_pct, ligand_fraction_adapted = expression_pct)  %>% mutate(scaled_ligand_fraction_adapted = scale_quantile_adapted(ligand_fraction_adapted)) \n",
    " \n",
    "exprs_tbl_receptor = exprs_tbl_receptor %>% mutate(scaled_receptor_expression_scaled = scale_quantile_adapted(receptor_expression_scaled))  %>% mutate(receptor_fraction_adapted = receptor_fraction) %>% mutate_cond(receptor_fraction >= expression_pct, receptor_fraction_adapted = expression_pct)  %>% mutate(scaled_receptor_fraction_adapted = scale_quantile_adapted(receptor_fraction_adapted)) \n"
   ]
  },
  {
   "cell_type": "markdown",
   "metadata": {},
   "source": [
    " \n",
    "# 6. Expression fraction and receptor \n",
    " \n",
    "In this step, we will score ligand-receptor interactions based on \n",
    "expression strength of the receptor, in such a way that we give higher \n",
    "scores to the most strongly expressed receptor of a certain ligand, in a \n",
    "certain celltype. This will not effect the rank of individual ligands \n",
    "later on, but will help in prioritizing the most important receptors per \n",
    "ligand (next to other factors regarding the receptor - see later). \n",
    " \n"
   ]
  },
  {
   "cell_type": "code",
   "execution_count": null,
   "metadata": {},
   "outputs": [],
   "source": [
    "exprs_sender_receiver = lr_network %>%  \n",
    "  inner_join(exprs_tbl_ligand, by = c(\"ligand\")) %>%  \n",
    "  inner_join(exprs_tbl_receptor, by = c(\"receptor\")) %>% inner_join(DE_sender_receiver %>% distinct(niche, sender, receiver)) \n",
    "   \n",
    "ligand_scaled_receptor_expression_fraction_df = exprs_sender_receiver %>% group_by(ligand, receiver) %>% mutate(rank_receptor_expression = dense_rank(receptor_expression), rank_receptor_fraction  = dense_rank(receptor_fraction)) %>% mutate(ligand_scaled_receptor_expression_fraction = 0.5*( (rank_receptor_fraction / max(rank_receptor_fraction)) + ((rank_receptor_expression / max(rank_receptor_expression))) ) )  %>% distinct(ligand, receptor, receiver, ligand_scaled_receptor_expression_fraction, bonafide) %>% distinct() %>% ungroup()  \n"
   ]
  },
  {
   "cell_type": "markdown",
   "metadata": {},
   "source": [
    " \n",
    "# 7. Prioritization of ligand-receptor and ligand-target links \n",
    " \n",
    "In this step, we will combine all the above calculated information to \n",
    "prioritize ligand-receptor-target links. We scale every property of \n",
    "interest between 0 and 1, and the final prioritization score is a \n",
    "weighted sum of the scaled scores of all the properties of interest. \n",
    " \n",
    "We provide the user the option to consider the following properties for \n",
    "prioritization (of which the weights are defined in \n",
    "`prioritizing_weights`) : \n",
    " \n",
    "-   Ligand DE score: niche-specific expression of the ligand: by \n",
    "    default, this the minimum logFC between the sender of interest and \n",
    "    all the senders of the other niche(s). The higher the min logFC, the \n",
    "    higher the niche-specificity of the ligand. Therefore we recommend \n",
    "    to give this factor a very high weight. `prioritizing_weights` \n",
    "    argument: `\"scaled_ligand_score\"`. Recommended weight: 5 (at least \n",
    "    1, max 5). \n",
    " \n",
    "-   Scaled ligand expression: scaled expression of a ligand in one \n",
    "    sender compared to the other cell types in the dataset. This might \n",
    "    be useful to rescue potentially interesting ligands that have a high \n",
    "    scaled expression value, but a relatively small min logFC compared \n",
    "    to the other niche. One reason why this logFC might be small occurs \n",
    "    when (some) genes are not picked up efficiently by the used \n",
    "    sequencing technology (or other reasons for low RNA expression of \n",
    "    ligands). For example, we have observed that many ligands from the \n",
    "    Tgf-beta/BMP family are not picked up efficiently with single-nuclei \n",
    "    RNA sequencing compared to single-cell sequencing. \n",
    "    `prioritizing_weights` argument: \n",
    "    `\"scaled_ligand_expression_scaled\"`. Recommended weight: 1 (unless \n",
    "    technical reason for lower gene detection such as while using \n",
    "    Nuc-seq: then recommended to use a higher weight: 2). \n",
    " \n",
    "-   Ligand expression fraction: Ligands that are expressed in a smaller \n",
    "    fraction of cells of a cell type than defined by \n",
    "    `exprs_cutoff`(default: 0.10) will get a lower ranking, proportional \n",
    "    to their fraction (eg ligand expressed in 9% of cells will be ranked \n",
    "    higher than ligand expressed in 0.5% of cells). We opted for this \n",
    "    weighting based on fraction, instead of removing ligands that are \n",
    "    not expressed in more cells than this cutoff, because some \n",
    "    interesting ligands could be removed that way. Fraction of \n",
    "    expression is not taken into account for the prioritization if it is \n",
    "    already higher than the cutoff. `prioritizing_weights` argument: \n",
    "    `\"ligand_fraction\"`. Recommended weight: 1. \n",
    " \n",
    "-   Ligand spatial DE score: spatial expression specificity of the \n",
    "    ligand. If the niche of interest is at a specific tissue location, \n",
    "    but some of the sender cell types of that niche are also present in \n",
    "    other locations, it can be very informative to further prioritize \n",
    "    ligands of that sender by looking how they are DE between the \n",
    "    spatial location of interest compared to the other locations. \n",
    "    `prioritizing_weights` argument: `\"scaled_ligand_score_spatial\"`. \n",
    "    Recommended weight: 2 (or 0 if not applicable). \n",
    " \n",
    "-   Receptor DE score: niche-specific expression of the receptor: by \n",
    "    default, this the minimum logFC between the receiver of interest and \n",
    "    all the receiver of the other niche(s). The higher the min logFC, \n",
    "    the higher the niche-specificity of the receptor. Based on our \n",
    "    experience, we don’t suggest to give this as high importance as the \n",
    "    ligand DE, but this might depend on the specific case study. \n",
    "    `prioritizing_weights` argument: `\"scaled_receptor_score\"`. \n",
    "    Recommended weight: 0.5 (at least 0.5, and lower than \n",
    "    `\"scaled_ligand_score\"`). \n",
    " \n",
    "-   Scaled receptor expression: scaled expression of a receptor in one \n",
    "    receiver compared to the other cell types in the dataset. This might \n",
    "    be useful to rescue potentially interesting receptors that have a \n",
    "    high scaled expression value, but a relatively small min logFC \n",
    "    compared to the other niche. One reason why this logFC might be \n",
    "    small occurs when (some) genes are not picked up efficiently by the \n",
    "    used sequencing technology. `prioritizing_weights` argument: \n",
    "    `\"scaled_receptor_expression_scaled\"`. Recommended weight: 0.5. \n",
    " \n",
    "-   Receptor expression fraction: Receptors that are expressed in a \n",
    "    smaller fraction of cells of a cell type than defined by \n",
    "    `exprs_cutoff`(default: 0.10) will get a lower ranking, proportional \n",
    "    to their fraction (eg receptor expressed in 9% of cells will be \n",
    "    ranked higher than receptor expressed in 0.5% of cells). We opted \n",
    "    for this weighting based on fraction, instead of removing receptors \n",
    "    that are not expressed in more cells than this cutoff, because some \n",
    "    interesting receptors could be removed that way. Fraction of \n",
    "    expression is not taken into account for the prioritization if it is \n",
    "    already higher than the cutoff. `prioritizing_weights` argument: \n",
    "    `\"receptor_fraction\"`. Recommended weight: 1. \n",
    " \n",
    "-   Receptor expression strength: this factor let us give higher weights \n",
    "    to the most highly expressed receptor of a ligand in the receiver. \n",
    "    This let us rank higher one member of a receptor family if it higher \n",
    "    expressed than the other members. `prioritizing_weights` argument: \n",
    "    `\"ligand_scaled_receptor_expression_fraction\"`. Recommended value: 1 \n",
    "    (minimum: 0.5). \n",
    " \n",
    "-   Receptor spatial DE score: spatial expression specificity of the \n",
    "    receptor. If the niche of interest is at a specific tissue location, \n",
    "    but the receiver cell type of that niche is also present in other \n",
    "    locations, it can be very informative to further prioritize \n",
    "    receptors of that receiver by looking how they are DE between the \n",
    "    spatial location of interest compared to the other locations. \n",
    "    `prioritizing_weights` argument: `\"scaled_receptor_score_spatial\"`. \n",
    "    Recommended weight: 1 (or 0 if not applicable). \n",
    " \n",
    "-   Absolute ligand activity: to further prioritize ligand-receptor \n",
    "    pairs based on their predicted effect of the ligand-receptor \n",
    "    interaction on the gene expression in the receiver cell type - \n",
    "    absolute ligand activity accords to ‘absolute’ enrichment of target \n",
    "    genes of a ligand within the affected receiver genes. \n",
    "    `prioritizing_weights` argument: `\"scaled_activity\"`. Recommended \n",
    "    weight: 0, unless absolute enrichment of target genes is of specific \n",
    "    interest. \n",
    " \n",
    "-   Normalized ligand activity: to further prioritize ligand-receptor \n",
    "    pairs based on their predicted effect of the ligand-receptor \n",
    "    interaction on the gene expression in the receiver cell type - \n",
    "    normalization of activity is done because we found that some \n",
    "    datasets/conditions/niches have higher baseline activity values than \n",
    "    others - normalized ligand activity accords to ‘relative’ enrichment \n",
    "    of target genes of a ligand within the affected receiver genes. \n",
    "    `prioritizing_weights` argument: `\"scaled_activity_normalized\"`. \n",
    "    Recommended weight: at least 1. \n",
    " \n",
    "-   Prior knowledge quality of the L-R interaction: the NicheNet LR \n",
    "    network consists of two types of interactions: L-R pairs documented \n",
    "    in curated databases, and L-R pairs predicted based on gene \n",
    "    annotation and PPIs. The former are categorized as ‘bona fide’ \n",
    "    interactions. To rank bona fide interactions higher, but not exlude \n",
    "    potentially interesting non-bona-fide ones, we give bona fide \n",
    "    interactions a score of 1, and non-bona-fide interactions a score \n",
    "    fof 0.5. `prioritizing_weights` argument: `\"bona_fide\"` Recommend \n",
    "    weight: at least 1. \n",
    " \n"
   ]
  },
  {
   "cell_type": "code",
   "execution_count": null,
   "metadata": {},
   "outputs": [],
   "source": [
    "prioritizing_weights = c(\"scaled_ligand_score\" = 5, \n",
    "                         \"scaled_ligand_expression_scaled\" = 1, \n",
    "                         \"ligand_fraction\" = 1, \n",
    "                         \"scaled_ligand_score_spatial\" = 2,  \n",
    "                         \"scaled_receptor_score\" = 0.5, \n",
    "                         \"scaled_receptor_expression_scaled\" = 0.5, \n",
    "                          \"receptor_fraction\" = 1,  \n",
    "                         \"ligand_scaled_receptor_expression_fraction\" = 1, \n",
    "                         \"scaled_receptor_score_spatial\" = 0, \n",
    "                         \"scaled_activity\" = 0, \n",
    "                         \"scaled_activity_normalized\" = 1, \n",
    "                         \"bona_fide\" = 1) \n"
   ]
  },
  {
   "cell_type": "markdown",
   "metadata": {},
   "source": [
    " \n",
    "Note: these settings will give substantially more weight to DE \n",
    "ligand-receptor pairs compared to activity. Users can change this if \n",
    "wanted, just like other settings can be changed if that would be better \n",
    "to tackle the specific biological question you want to address. \n",
    " \n"
   ]
  },
  {
   "cell_type": "code",
   "execution_count": null,
   "metadata": {},
   "outputs": [],
   "source": [
    "output = list(DE_sender_receiver = DE_sender_receiver, ligand_scaled_receptor_expression_fraction_df = ligand_scaled_receptor_expression_fraction_df, sender_spatial_DE_processed = sender_spatial_DE_processed, receiver_spatial_DE_processed = receiver_spatial_DE_processed, \n",
    "         ligand_activities_targets = ligand_activities_targets, DE_receiver_processed_targets = DE_receiver_processed_targets, exprs_tbl_ligand = exprs_tbl_ligand,  exprs_tbl_receptor = exprs_tbl_receptor, exprs_tbl_target = exprs_tbl_target) \n",
    "prioritization_tables = get_prioritization_tables(output, prioritizing_weights) \n",
    " \n",
    "prioritization_tables$prioritization_tbl_ligand_receptor %>% filter(receiver == niches[[1]]$receiver) %>% head(10) \n",
    "## # A tibble: 10 x 37 \n",
    "##    niche           receiver  sender ligand_receptor ligand receptor bonafide ligand_score ligand_signific~ ligand_present ligand_expressi~ \n",
    "##    <chr>           <chr>     <chr>  <chr>           <chr>  <chr>    <lgl>           <dbl>            <dbl>          <dbl>            <dbl> \n",
    "##  1 pEMT_High_niche Malignan~ T.cel~ PTPRC--MET      PTPRC  MET      FALSE            3.22                1              1             9.32 \n",
    "##  2 pEMT_High_niche Malignan~ T.cel~ PTPRC--EGFR     PTPRC  EGFR     FALSE            3.22                1              1             9.32 \n",
    "##  3 pEMT_High_niche Malignan~ T.cel~ PTPRC--CD44     PTPRC  CD44     FALSE            3.22                1              1             9.32 \n",
    "##  4 pEMT_High_niche Malignan~ T.cel~ PTPRC--ERBB2    PTPRC  ERBB2    FALSE            3.22                1              1             9.32 \n",
    "##  5 pEMT_High_niche Malignan~ T.cel~ PTPRC--IFNAR1   PTPRC  IFNAR1   FALSE            3.22                1              1             9.32 \n",
    "##  6 pEMT_High_niche Malignan~ T.cel~ TNF--TNFRSF21   TNF    TNFRSF21 TRUE             1.74                1              1             2.34 \n",
    "##  7 pEMT_High_niche Malignan~ Myelo~ SERPINA1--LRP1  SERPI~ LRP1     TRUE             2.52                1              1             4.83 \n",
    "##  8 pEMT_High_niche Malignan~ Myelo~ IL1B--IL1RAP    IL1B   IL1RAP   TRUE             1.50                1              1             1.93 \n",
    "##  9 pEMT_High_niche Malignan~ Myelo~ IL1RN--IL1R2    IL1RN  IL1R2    TRUE             1.62                1              1             2.07 \n",
    "## 10 pEMT_High_niche Malignan~ T.cel~ PTPRC--INSR     PTPRC  INSR     FALSE            3.22                1              1             9.32 \n",
    "## # ... with 26 more variables: ligand_expression_scaled <dbl>, ligand_fraction <dbl>, ligand_score_spatial <dbl>, receptor_score <dbl>, \n",
    "## #   receptor_significant <dbl>, receptor_present <dbl>, receptor_expression <dbl>, receptor_expression_scaled <dbl>, \n",
    "## #   receptor_fraction <dbl>, receptor_score_spatial <dbl>, ligand_scaled_receptor_expression_fraction <dbl>, \n",
    "## #   avg_score_ligand_receptor <dbl>, activity <dbl>, activity_normalized <dbl>, scaled_ligand_score <dbl>, \n",
    "## #   scaled_ligand_expression_scaled <dbl>, scaled_receptor_score <dbl>, scaled_receptor_expression_scaled <dbl>, \n",
    "## #   scaled_avg_score_ligand_receptor <dbl>, scaled_ligand_score_spatial <dbl>, scaled_receptor_score_spatial <dbl>, \n",
    "## #   scaled_ligand_fraction_adapted <dbl>, scaled_receptor_fraction_adapted <dbl>, scaled_activity <dbl>, ... \n",
    "prioritization_tables$prioritization_tbl_ligand_target %>% filter(receiver == niches[[1]]$receiver) %>% head(10) \n",
    "## # A tibble: 10 x 20 \n",
    "##    niche   receiver  sender  ligand_receptor ligand receptor bonafide target target_score target_signific~ target_present target_expressi~ \n",
    "##    <chr>   <chr>     <chr>   <chr>           <chr>  <chr>    <lgl>    <chr>         <dbl>            <dbl>          <dbl>            <dbl> \n",
    "##  1 pEMT_H~ Malignan~ T.cell~ PTPRC--MET      PTPRC  MET      FALSE    EHF           1.04                 1              1             1.88 \n",
    "##  2 pEMT_H~ Malignan~ T.cell~ PTPRC--MET      PTPRC  MET      FALSE    GADD4~        0.836                1              1             2.42 \n",
    "##  3 pEMT_H~ Malignan~ T.cell~ PTPRC--MET      PTPRC  MET      FALSE    SERPI~        0.889                1              1             1.79 \n",
    "##  4 pEMT_H~ Malignan~ T.cell~ PTPRC--EGFR     PTPRC  EGFR     FALSE    EHF           1.04                 1              1             1.88 \n",
    "##  5 pEMT_H~ Malignan~ T.cell~ PTPRC--EGFR     PTPRC  EGFR     FALSE    GADD4~        0.836                1              1             2.42 \n",
    "##  6 pEMT_H~ Malignan~ T.cell~ PTPRC--EGFR     PTPRC  EGFR     FALSE    SERPI~        0.889                1              1             1.79 \n",
    "##  7 pEMT_H~ Malignan~ T.cell~ PTPRC--CD44     PTPRC  CD44     FALSE    EHF           1.04                 1              1             1.88 \n",
    "##  8 pEMT_H~ Malignan~ T.cell~ PTPRC--CD44     PTPRC  CD44     FALSE    GADD4~        0.836                1              1             2.42 \n",
    "##  9 pEMT_H~ Malignan~ T.cell~ PTPRC--CD44     PTPRC  CD44     FALSE    SERPI~        0.889                1              1             1.79 \n",
    "## 10 pEMT_H~ Malignan~ T.cell~ PTPRC--ERBB2    PTPRC  ERBB2    FALSE    EHF           1.04                 1              1             1.88 \n",
    "## # ... with 8 more variables: target_expression_scaled <dbl>, target_fraction <dbl>, ligand_target_weight <dbl>, activity <dbl>, \n",
    "## #   activity_normalized <dbl>, scaled_activity <dbl>, scaled_activity_normalized <dbl>, prioritization_score <dbl> \n",
    " \n",
    "prioritization_tables$prioritization_tbl_ligand_receptor %>% filter(receiver == niches[[2]]$receiver) %>% head(10) \n",
    "## # A tibble: 10 x 37 \n",
    "##    niche          receiver  sender  ligand_receptor ligand receptor bonafide ligand_score ligand_signific~ ligand_present ligand_expressi~ \n",
    "##    <chr>          <chr>     <chr>   <chr>           <chr>  <chr>    <lgl>           <dbl>            <dbl>          <dbl>            <dbl> \n",
    "##  1 pEMT_Low_niche Malignan~ Endoth~ F8--LRP1        F8     LRP1     TRUE            0.952              1                1            2.17  \n",
    "##  2 pEMT_Low_niche Malignan~ Endoth~ PLAT--LRP1      PLAT   LRP1     TRUE            0.913              1                1            2.70  \n",
    "##  3 pEMT_Low_niche Malignan~ CAF_Low FGF10--FGFR2    FGF10  FGFR2    TRUE            0.385              0.8              1            1.07  \n",
    "##  4 pEMT_Low_niche Malignan~ CAF_Low NLGN2--NRXN3    NLGN2  NRXN3    TRUE            0.140              0.2              1            0.269 \n",
    "##  5 pEMT_Low_niche Malignan~ CAF_Low RSPO3--LGR6     RSPO3  LGR6     TRUE            0.557              0.8              1            1.27  \n",
    "##  6 pEMT_Low_niche Malignan~ CAF_Low COMP--SDC1      COMP   SDC1     TRUE            0.290              0.8              1            1.27  \n",
    "##  7 pEMT_Low_niche Malignan~ CAF_Low SEMA3C--NRP2    SEMA3C NRP2     TRUE            0.652              1                1            1.73  \n",
    "##  8 pEMT_Low_niche Malignan~ CAF_Low SLIT2--SDC1     SLIT2  SDC1     TRUE            0.494              1                1            0.846 \n",
    "##  9 pEMT_Low_niche Malignan~ Endoth~ IL33--IL1RAP    IL33   IL1RAP   FALSE           1.34               1                1            2.75  \n",
    "## 10 pEMT_Low_niche Malignan~ CAF_Low C3--LRP1        C3     LRP1     TRUE            0.480              1                1            4.79  \n",
    "## # ... with 26 more variables: ligand_expression_scaled <dbl>, ligand_fraction <dbl>, ligand_score_spatial <dbl>, receptor_score <dbl>, \n",
    "## #   receptor_significant <dbl>, receptor_present <dbl>, receptor_expression <dbl>, receptor_expression_scaled <dbl>, \n",
    "## #   receptor_fraction <dbl>, receptor_score_spatial <dbl>, ligand_scaled_receptor_expression_fraction <dbl>, \n",
    "## #   avg_score_ligand_receptor <dbl>, activity <dbl>, activity_normalized <dbl>, scaled_ligand_score <dbl>, \n",
    "## #   scaled_ligand_expression_scaled <dbl>, scaled_receptor_score <dbl>, scaled_receptor_expression_scaled <dbl>, \n",
    "## #   scaled_avg_score_ligand_receptor <dbl>, scaled_ligand_score_spatial <dbl>, scaled_receptor_score_spatial <dbl>, \n",
    "## #   scaled_ligand_fraction_adapted <dbl>, scaled_receptor_fraction_adapted <dbl>, scaled_activity <dbl>, ... \n",
    "prioritization_tables$prioritization_tbl_ligand_target %>% filter(receiver == niches[[2]]$receiver) %>% head(10) \n",
    "## # A tibble: 10 x 20 \n",
    "##    niche   receiver  sender  ligand_receptor ligand receptor bonafide target target_score target_signific~ target_present target_expressi~ \n",
    "##    <chr>   <chr>     <chr>   <chr>           <chr>  <chr>    <lgl>    <chr>         <dbl>            <dbl>          <dbl>            <dbl> \n",
    "##  1 pEMT_L~ Malignan~ Endoth~ F8--LRP1        F8     LRP1     TRUE     ETV4          0.771                1              1            1.00  \n",
    "##  2 pEMT_L~ Malignan~ Endoth~ PLAT--LRP1      PLAT   LRP1     TRUE     CLDN7         0.835                1              1            2.30  \n",
    "##  3 pEMT_L~ Malignan~ Endoth~ PLAT--LRP1      PLAT   LRP1     TRUE     ETV4          0.771                1              1            1.00  \n",
    "##  4 pEMT_L~ Malignan~ CAF_Low FGF10--FGFR2    FGF10  FGFR2    TRUE     ETV4          0.771                1              1            1.00  \n",
    "##  5 pEMT_L~ Malignan~ CAF_Low FGF10--FGFR2    FGF10  FGFR2    TRUE     WNT5A         1.40                 1              1            2.01  \n",
    "##  6 pEMT_L~ Malignan~ CAF_Low NLGN2--NRXN3    NLGN2  NRXN3    TRUE     CLDN5         0.979                1              1            0.991 \n",
    "##  7 pEMT_L~ Malignan~ CAF_Low NLGN2--NRXN3    NLGN2  NRXN3    TRUE     ETV4          0.771                1              1            1.00  \n",
    "##  8 pEMT_L~ Malignan~ CAF_Low RSPO3--LGR6     RSPO3  LGR6     TRUE     DDC           0.832                1              1            0.785 \n",
    "##  9 pEMT_L~ Malignan~ CAF_Low RSPO3--LGR6     RSPO3  LGR6     TRUE     EGFL7         0.763                1              1            1.09  \n",
    "## 10 pEMT_L~ Malignan~ CAF_Low COMP--SDC1      COMP   SDC1     TRUE     CLDN7         0.835                1              1            2.30  \n",
    "## # ... with 8 more variables: target_expression_scaled <dbl>, target_fraction <dbl>, ligand_target_weight <dbl>, activity <dbl>, \n",
    "## #   activity_normalized <dbl>, scaled_activity <dbl>, scaled_activity_normalized <dbl>, prioritization_score <dbl> \n"
   ]
  },
  {
   "cell_type": "markdown",
   "metadata": {},
   "source": [
    " \n",
    "# 8. Visualization of the Differential NicheNet output \n",
    " \n",
    "## Differential expression of ligand and expression \n",
    " \n",
    "Before visualization, we need to define the most important \n",
    "ligand-receptor pairs per niche. We will do this by first determining \n",
    "for which niche the highest score is found for each \n",
    "ligand/ligand-receptor pair. And then getting the top 50 ligands per \n",
    "niche. \n",
    " \n"
   ]
  },
  {
   "cell_type": "code",
   "execution_count": null,
   "metadata": {},
   "outputs": [],
   "source": [
    "top_ligand_niche_df = prioritization_tables$prioritization_tbl_ligand_receptor %>% select(niche, sender, receiver, ligand, receptor, prioritization_score) %>% group_by(ligand) %>% top_n(1, prioritization_score) %>% ungroup() %>% select(ligand, receptor, niche) %>% rename(top_niche = niche) \n",
    "top_ligand_receptor_niche_df = prioritization_tables$prioritization_tbl_ligand_receptor %>% select(niche, sender, receiver, ligand, receptor, prioritization_score) %>% group_by(ligand, receptor) %>% top_n(1, prioritization_score) %>% ungroup() %>% select(ligand, receptor, niche) %>% rename(top_niche = niche) \n",
    " \n",
    "ligand_prioritized_tbl_oi = prioritization_tables$prioritization_tbl_ligand_receptor %>% select(niche, sender, receiver, ligand, prioritization_score) %>% group_by(ligand, niche) %>% top_n(1, prioritization_score) %>% ungroup() %>% distinct() %>% inner_join(top_ligand_niche_df) %>% filter(niche == top_niche) %>% group_by(niche) %>% top_n(50, prioritization_score) %>% ungroup() # get the top50 ligands per niche \n"
   ]
  },
  {
   "cell_type": "markdown",
   "metadata": {},
   "source": [
    " \n",
    "Now we will look first at the top ligand-receptor pairs for KCs (here, \n",
    "we will take the top 2 scoring receptors per prioritized ligand) \n",
    " \n"
   ]
  },
  {
   "cell_type": "code",
   "execution_count": null,
   "metadata": {},
   "outputs": [],
   "source": [
    "receiver_oi = \"Malignant_High\"  \n",
    " \n",
    "filtered_ligands = ligand_prioritized_tbl_oi %>% filter(receiver == receiver_oi) %>% pull(ligand) %>% unique() \n",
    " \n",
    "prioritized_tbl_oi = prioritization_tables$prioritization_tbl_ligand_receptor %>% filter(ligand %in% filtered_ligands) %>% select(niche, sender, receiver, ligand,  receptor, ligand_receptor, prioritization_score) %>% distinct() %>% inner_join(top_ligand_receptor_niche_df) %>% group_by(ligand) %>% filter(receiver == receiver_oi) %>% top_n(2, prioritization_score) %>% ungroup()  \n"
   ]
  },
  {
   "cell_type": "markdown",
   "metadata": {},
   "source": [
    " \n",
    "Visualization: minimum LFC compared to other niches \n",
    " \n"
   ]
  },
  {
   "cell_type": "code",
   "execution_count": null,
   "metadata": {},
   "outputs": [],
   "source": [
    "lfc_plot = make_ligand_receptor_lfc_plot(receiver_oi, prioritized_tbl_oi, prioritization_tables$prioritization_tbl_ligand_receptor, plot_legend = FALSE, heights = NULL, widths = NULL) \n",
    "lfc_plot \n"
   ]
  },
  {
   "cell_type": "markdown",
   "metadata": {},
   "source": [
    " \n",
    "![](differential_nichenet_pEMT_files/figure-gfm/unnamed-chunk-29-1.png)<!-- --> \n",
    " \n",
    "Show the spatialDE as additional information \n",
    " \n"
   ]
  },
  {
   "cell_type": "code",
   "execution_count": null,
   "metadata": {},
   "outputs": [],
   "source": [
    "lfc_plot_spatial = make_ligand_receptor_lfc_spatial_plot(receiver_oi, prioritized_tbl_oi, prioritization_tables$prioritization_tbl_ligand_receptor, ligand_spatial = include_spatial_info_sender, receptor_spatial = include_spatial_info_receiver, plot_legend = FALSE, heights = NULL, widths = NULL) \n",
    "lfc_plot_spatial \n"
   ]
  },
  {
   "cell_type": "markdown",
   "metadata": {},
   "source": [
    " \n",
    "![](differential_nichenet_pEMT_files/figure-gfm/unnamed-chunk-30-1.png)<!-- --> \n",
    " \n",
    "## Ligand expression, activity and target genes \n",
    " \n",
    "Active target gene inference - cf Default NicheNet \n",
    " \n",
    "Now: visualization of ligand activity and ligand-target links \n",
    " \n"
   ]
  },
  {
   "cell_type": "code",
   "execution_count": null,
   "metadata": {},
   "outputs": [],
   "source": [
    "exprs_activity_target_plot = make_ligand_activity_target_exprs_plot(receiver_oi, prioritized_tbl_oi,  prioritization_tables$prioritization_tbl_ligand_receptor,  prioritization_tables$prioritization_tbl_ligand_target, output$exprs_tbl_ligand,  output$exprs_tbl_target, lfc_cutoff, ligand_target_matrix, plot_legend = FALSE, heights = NULL, widths = NULL) \n",
    "exprs_activity_target_plot$combined_plot \n"
   ]
  },
  {
   "cell_type": "markdown",
   "metadata": {},
   "source": [
    " \n",
    "![](differential_nichenet_pEMT_files/figure-gfm/unnamed-chunk-31-1.png)<!-- --> \n",
    "Based on this plot, we can infer many hypotheses such as the following: \n",
    "“Interestingly, IL1 family ligands seem to have activity in inducing the \n",
    "DE genes between high pEMT and low pEMT malignant cells; and they are \n",
    "mainly expressed by myeloid cells, a cell type unique for pEMT-high \n",
    "tumors”. \n",
    " \n",
    "**important: ligand-receptor pairs with both high differential \n",
    "expression (or condition-specificity) and ligand activity (=target gene \n",
    "enrichment) are very interesting predictions as key regulators of your \n",
    "intercellular communication process of interest !** \n",
    " \n",
    "If this plot contains too much information because we look at many hits \n",
    "(top 50 ligands), you can make this plot of course for less ligands as \n",
    "well, eg for the top20. \n",
    " \n"
   ]
  },
  {
   "cell_type": "code",
   "execution_count": null,
   "metadata": {},
   "outputs": [],
   "source": [
    "filtered_ligands = ligand_prioritized_tbl_oi %>% filter(receiver == receiver_oi) %>% top_n(20, prioritization_score) %>% pull(ligand) %>% unique() \n",
    " \n",
    "prioritized_tbl_oi = prioritization_tables$prioritization_tbl_ligand_receptor %>% filter(ligand %in% filtered_ligands) %>% select(niche, sender, receiver, ligand,  receptor, ligand_receptor, prioritization_score) %>% distinct() %>% inner_join(top_ligand_receptor_niche_df) %>% group_by(ligand) %>% filter(receiver == receiver_oi) %>% top_n(2, prioritization_score) %>% ungroup()  \n",
    " \n",
    "exprs_activity_target_plot = make_ligand_activity_target_exprs_plot(receiver_oi, prioritized_tbl_oi,  prioritization_tables$prioritization_tbl_ligand_receptor,  prioritization_tables$prioritization_tbl_ligand_target, output$exprs_tbl_ligand,  output$exprs_tbl_target, lfc_cutoff, ligand_target_matrix, plot_legend = FALSE, heights = NULL, widths = NULL) \n",
    "exprs_activity_target_plot$combined_plot \n"
   ]
  },
  {
   "cell_type": "markdown",
   "metadata": {},
   "source": [
    " \n",
    "![](differential_nichenet_pEMT_files/figure-gfm/unnamed-chunk-32-1.png)<!-- --> \n",
    " \n",
    "## Circos plot of prioritized ligand-receptor pairs \n",
    " \n",
    "Because a top50 is too much to visualize in a circos plot, we will only \n",
    "visualize the top 15. \n",
    " \n"
   ]
  },
  {
   "cell_type": "code",
   "execution_count": null,
   "metadata": {},
   "outputs": [],
   "source": [
    "filtered_ligands = ligand_prioritized_tbl_oi %>% filter(receiver == receiver_oi) %>% top_n(15, prioritization_score) %>% pull(ligand) %>% unique() \n",
    " \n",
    "prioritized_tbl_oi = prioritization_tables$prioritization_tbl_ligand_receptor %>% filter(ligand %in% filtered_ligands) %>% select(niche, sender, receiver, ligand,  receptor, ligand_receptor, prioritization_score) %>% distinct() %>% inner_join(top_ligand_receptor_niche_df) %>% group_by(ligand) %>% filter(receiver == receiver_oi) %>% top_n(2, prioritization_score) %>% ungroup()  \n",
    " \n",
    "colors_sender = brewer.pal(n = prioritized_tbl_oi$sender %>% unique() %>% sort() %>% length(), name = 'Spectral') %>% magrittr::set_names(prioritized_tbl_oi$sender %>% unique() %>% sort()) \n",
    "colors_receiver = c(\"lavender\")  %>% magrittr::set_names(prioritized_tbl_oi$receiver %>% unique() %>% sort()) \n",
    " \n",
    "circos_output = make_circos_lr(prioritized_tbl_oi, colors_sender, colors_receiver) \n"
   ]
  },
  {
   "cell_type": "markdown",
   "metadata": {},
   "source": [
    " \n",
    "![](differential_nichenet_pEMT_files/figure-gfm/unnamed-chunk-33-1.png)<!-- -->![](differential_nichenet_pEMT_files/figure-gfm/unnamed-chunk-33-2.png)<!-- --> \n",
    " \n",
    "## Interpretation of these results \n",
    " \n",
    "Most top-ranked differential L-R pairs seem to come from the cell types \n",
    "that are only present in the pEMT-high tumors. This might be partially \n",
    "due to biology (unique cell types in one condition, are likely to be \n",
    "very important), but might also be due to the way of prioritizing and \n",
    "the fact that those unique cell types don’t have a ‘counterpart’ in the \n",
    "other niche(s). \n",
    " \n",
    "Because myeloid cells and T cells are very different from the other \n",
    "cells in the tumor microenvironment, their ligands will show strong \n",
    "differential expression. This differential expression (myeloid/tcell vs \n",
    "myofibroblasts/CAFs/Endothelial cells in low-pEMT) is likely to be more \n",
    "pronounced compared to differential expression between cells from the \n",
    "same cell type but different niche/condition (CAF in pEMT-high vs CAF in \n",
    "pEMT-low). So conclusion: it is an advantage of Differential NicheNet \n",
    "that it can cope with condition-specifc cell types, but the user should \n",
    "be aware that the final general score might be biased towards \n",
    "condition-specific sender cell types. Therefore we suggest to also have \n",
    "a look at the top LR pairs per sender cell type (as we did here for the \n",
    "first figures) if you have a case study in which some sender cell types \n",
    "are condition-specific. \n",
    " \n",
    "## Visualization for the other condition: pEMT-low \n",
    " \n"
   ]
  },
  {
   "cell_type": "code",
   "execution_count": null,
   "metadata": {},
   "outputs": [],
   "source": [
    "receiver_oi = \"Malignant_Low\"   \n",
    "filtered_ligands = ligand_prioritized_tbl_oi %>% filter(receiver == receiver_oi) %>% top_n(50, prioritization_score) %>% pull(ligand) %>% unique() \n",
    " \n",
    "prioritized_tbl_oi = prioritization_tables$prioritization_tbl_ligand_receptor %>% filter(ligand %in% filtered_ligands) %>% select(niche, sender, receiver, ligand,  receptor, ligand_receptor, prioritization_score) %>% distinct() %>% inner_join(top_ligand_receptor_niche_df) %>% group_by(ligand) %>% filter(receiver == receiver_oi) %>% top_n(2, prioritization_score) %>% ungroup()  \n",
    " \n",
    "lfc_plot = make_ligand_receptor_lfc_plot(receiver_oi, prioritized_tbl_oi, prioritization_tables$prioritization_tbl_ligand_receptor, plot_legend = FALSE, heights = NULL, widths = NULL) \n",
    "lfc_plot \n"
   ]
  },
  {
   "cell_type": "markdown",
   "metadata": {},
   "source": [
    " \n",
    "![](differential_nichenet_pEMT_files/figure-gfm/unnamed-chunk-34-1.png)<!-- --> \n",
    " \n",
    "# Notes, limitations, and comparison to default NicheNet. \n",
    " \n",
    "In the default NicheNet pipeline, expressed ligand-receptor pairs are \n",
    "prioritized based on their ligand activity alone. Here, in the \n",
    "Differential NicheNet pipeline, we also draw information based on \n",
    "differential expression of the L-R pairs compared to other niches (and \n",
    "if applicable: other spatial locations.) \n",
    " \n",
    "Because we here focus on differential expression of ligand-receptor \n",
    "pairs, and by using the default prioritizations weights more on DE than \n",
    "activity, we tend to find many different hits than with the default \n",
    "NicheNet pipeline. With Differential NicheNet, we tend to find more \n",
    "high-DE, low-activity hits, whereas with default NicheNet we find more \n",
    "low-DE, high-activity hits. \n",
    " \n",
    "It should be noted that some of the high-DE, low-activity hits might be \n",
    "really important because they just have low NicheNet activities due to \n",
    "limitations in the NicheNet activity prediction (eg improper/incomplete \n",
    "prior knowledge within NicheNet for that ligand), but some of them might \n",
    "also be high in DE but not in activity because they don’t have strong \n",
    "signaling effects (eg ligands involved in cell adhesion only). \n",
    " \n",
    "For the opposite pairs with low-DE and high-activity that are not \n",
    "strongly prioritized by Differential NicheNet, the following should be \n",
    "considered: 1) some ligands are regulated post-transcriptionally, and \n",
    "that the high predicted activities might still reflect true signaling; \n",
    "2) high predicted activity values might be due to limitations of \n",
    "NicheNet (inaccurate prior knowledge) and these lowDE ligands are not \n",
    "important in the biological process of interest (although a highDE \n",
    "family member of this ligand may! since signaling between family members \n",
    "tends to be very similar); 3) high activity in one condition might be \n",
    "due to downregulation in the other condition, leading to high activity \n",
    "but low DE. Currently, ligand activities are automatically calculated on \n",
    "upregulated genes per condition, but downregulated genes could also be a \n",
    "sign of ligand activity. \n",
    " \n",
    "When Ligand-Receptor pairs have both high DE and high activity, we can \n",
    "consider them to be very good candidates in regulating the process of \n",
    "interest, and we recommend testing these candidates for further \n",
    "experimental validation. \n",
    " \n",
    "# References \n",
    " \n",
    "Browaeys, R., Saelens, W. & Saeys, Y. NicheNet: modeling intercellular \n",
    "communication by linking ligands to target genes. Nat Methods (2019) \n",
    "<doi:10.1038/s41592-019-0667-5> \n",
    " \n",
    "Guilliams et al. Spatial proteogenomics reveals distinct and \n",
    "evolutionarily conserved hepatic macrophage niches. Cell (2022) \n",
    "<doi:10.1016/j.cell.2021.12.018> \n",
    " \n",
    "<div id=\"refs\" class=\"references csl-bib-body hanging-indent\"> \n",
    " \n",
    "<div id=\"ref-puram_single-cell_2017\" class=\"csl-entry\"> \n",
    " \n",
    "Puram, Sidharth V., Itay Tirosh, Anuraag S. Parikh, Anoop P. Patel, \n",
    "Keren Yizhak, Shawn Gillespie, Christopher Rodman, et al. 2017. \n",
    "“Single-Cell Transcriptomic Analysis of Primary and Metastatic Tumor \n",
    "Ecosystems in Head and Neck Cancer.” *Cell* 171 (7): 1611–1624.e24. \n",
    "<https://doi.org/10.1016/j.cell.2017.10.044>. \n",
    " \n",
    "</div> \n",
    " \n",
    "</div> \n"
   ]
  }
 ],
 "metadata": {
  "anaconda-cloud": "",
  "kernelspec": {
   "display_name": "R",
   "language": "R",
   "name": "ir"
  },
  "language_info": {
   "codemirror_mode": "r",
   "file_extension": ".r",
   "mimetype": "text/x-r-source",
   "name": "R",
   "pygments_lexer": "r",
   "version": "4.1.1"
  },
  "widgets": {
   "application/vnd.jupyter.widget-state+json": {
    "state": {},
    "version_major": 2,
    "version_minor": 0
   }
  }
 },
 "nbformat": 4,
 "nbformat_minor": 4
}
