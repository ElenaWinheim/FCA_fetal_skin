{
 "cells": [
  {
   "cell_type": "markdown",
   "id": "recorded-arrangement",
   "metadata": {
    "collapsed": false,
    "pycharm": {
     "name": "#%% md\n"
    }
   },
   "source": [
    "# Import and settings"
   ]
  },
  {
   "cell_type": "code",
   "execution_count": null,
   "id": "related-amendment",
   "metadata": {
    "collapsed": false,
    "pycharm": {
     "name": "#%%\n"
    }
   },
   "outputs": [],
   "source": [
    "%load_ext autoreload\n",
    "%autoreload 2"
   ]
  },
  {
   "cell_type": "code",
   "execution_count": null,
   "id": "afraid-transcript",
   "metadata": {
    "collapsed": false,
    "pycharm": {
     "name": "#%%\n"
    }
   },
   "outputs": [],
   "source": [
    "import warnings\n",
    "\n",
    "warnings.simplefilter(action=\"ignore\", category=FutureWarning)\n",
    "warnings.simplefilter(action=\"ignore\", category=DeprecationWarning)\n",
    "\n",
    "import os, sys, re, gc, joblib\n",
    "import numpy as np\n",
    "import numpy_groupies as npg\n",
    "import pandas as pd\n",
    "import scipy.sparse as sp\n",
    "\n",
    "import matplotlib.pyplot as plt\n",
    "from matplotlib import rcParams\n",
    "from matplotlib.colors import ListedColormap\n",
    "\n",
    "import seaborn as sn\n",
    "\n",
    "import anndata\n",
    "import scanpy as sc\n",
    "import sctk as sk\n",
    "\n",
    "\n",
    "rcParams[\"pdf.fonttype\"] = 42\n",
    "rcParams[\"ps.fonttype\"] = 42\n",
    "np.set_printoptions(linewidth=180)\n",
    "sc.settings.verbosity = 1\n",
    "sk.set_figsize((4, 4))\n",
    "expr_cmap = sk.expression_colormap()\n",
    "from pathlib import Path"
   ]
  },
  {
   "cell_type": "markdown",
   "id": "quick-least",
   "metadata": {
    "collapsed": false,
    "pycharm": {
     "name": "#%% md\n"
    }
   },
   "source": [
    "# Load data"
   ]
  },
  {
   "cell_type": "code",
   "execution_count": null,
   "id": "dress-jamaica",
   "metadata": {
    "collapsed": false,
    "pycharm": {
     "name": "#%%\n"
    }
   },
   "outputs": [],
   "source": [
    "data_root = Path('/lustre/scratch126/cellgen/team205/nh3/skin').resolve()\n",
    "proj_root = Path('~/FCA_Fetal_Skin_priv/').expanduser()\n",
    "os.chdir(proj_root)\n",
    "!pwd"
   ]
  },
  {
   "cell_type": "code",
   "execution_count": null,
   "id": "purple-elephant",
   "metadata": {
    "collapsed": false,
    "pycharm": {
     "name": "#%%\n"
    }
   },
   "outputs": [],
   "source": [
    "fetal_ad = sc.read(Path(data_root, \"20210611_final_object/fetal_skin.norm.maternal_removed.20220202.h5ad\"))"
   ]
  },
  {
   "cell_type": "code",
   "execution_count": null,
   "id": "laughing-delicious",
   "metadata": {
    "collapsed": false,
    "pycharm": {
     "name": "#%%\n"
    }
   },
   "outputs": [],
   "source": [
    "fetal_ad.X.data"
   ]
  },
  {
   "cell_type": "code",
   "execution_count": null,
   "id": "improving-barcelona",
   "metadata": {
    "collapsed": false,
    "pycharm": {
     "name": "#%%\n"
    }
   },
   "outputs": [],
   "source": [
    "fetal_ad.obs.joint_annotation_20220202.cat.categories.tolist()"
   ]
  },
  {
   "cell_type": "markdown",
   "id": "worth-jamaica",
   "metadata": {
    "collapsed": false,
    "pycharm": {
     "name": "#%% md\n"
    }
   },
   "source": [
    "# Process"
   ]
  },
  {
   "cell_type": "markdown",
   "id": "developing-raising",
   "metadata": {
    "collapsed": false,
    "pycharm": {
     "name": "#%% md\n"
    }
   },
   "source": [
    "## Subset, prepare variables"
   ]
  },
  {
   "cell_type": "code",
   "execution_count": null,
   "id": "naked-aircraft",
   "metadata": {
    "collapsed": false,
    "pycharm": {
     "name": "#%%\n"
    }
   },
   "outputs": [],
   "source": [
    "nonHF_KCs = [\n",
    "    \"Periderm\",\n",
    "    \"Immature basal\",\n",
    "    \"Immature suprabasal\",\n",
    "    \"POSTN+ basal\",\n",
    "    \"Basal\",\n",
    "    \"Suprabasal IFE\",\n",
    "]"
   ]
  },
  {
   "cell_type": "code",
   "execution_count": null,
   "id": "fatal-wyoming",
   "metadata": {
    "collapsed": false,
    "pycharm": {
     "name": "#%%\n"
    }
   },
   "outputs": [],
   "source": [
    "stages = [\"7-8\", \"9-11\", \"12-16\"]"
   ]
  },
  {
   "cell_type": "code",
   "execution_count": null,
   "id": "greenhouse-cliff",
   "metadata": {
    "collapsed": false,
    "pycharm": {
     "name": "#%%\n"
    }
   },
   "outputs": [],
   "source": [
    "genes = [\n",
    "    \"HES1\",\n",
    "    \"SPP1\",\n",
    "    \"SLC2A3\",\n",
    "    \"SVIL\",\n",
    "    \"KRT18\",\n",
    "    \"ITM2C\",\n",
    "    \"PCP4\",\n",
    "    \"ELF3\",\n",
    "    \"EGLN3\",\n",
    "    \"CLDN4\",\n",
    "    \"KRT13\",\n",
    "    \"RTN1\",\n",
    "    \"LUM\",\n",
    "    \"C2orf40\",\n",
    "    \"BST1\",\n",
    "    \"SFRP2\",\n",
    "    \"PHACTR3\",\n",
    "    \"KRTDAP\",\n",
    "    \"MAL2\",\n",
    "    \"TTR\",\n",
    "    \"ABI3BP\",\n",
    "    \"GABARAP\",\n",
    "    \"TM4SF1\",\n",
    "    \"WIF1\",\n",
    "    \"COL14A1\",\n",
    "    \"EMP2\",\n",
    "    \"KRT14\",\n",
    "    \"PTCH2\",\n",
    "    \"PCBP2\",\n",
    "    \"ATP6V0C\",\n",
    "]"
   ]
  },
  {
   "cell_type": "code",
   "execution_count": null,
   "id": "hollow-digit",
   "metadata": {
    "collapsed": false,
    "pycharm": {
     "name": "#%%\n"
    }
   },
   "outputs": [],
   "source": [
    "k_nonHF_KC = fetal_ad.obs.joint_annotation_20220202.isin(nonHF_KCs)"
   ]
  },
  {
   "cell_type": "code",
   "execution_count": null,
   "id": "normal-facial",
   "metadata": {
    "collapsed": false,
    "pycharm": {
     "name": "#%%\n"
    }
   },
   "outputs": [],
   "source": [
    "ad1 = fetal_ad[k_nonHF_KC]"
   ]
  },
  {
   "cell_type": "code",
   "execution_count": null,
   "id": "comfortable-brooklyn",
   "metadata": {
    "collapsed": false,
    "pycharm": {
     "name": "#%%\n"
    }
   },
   "outputs": [],
   "source": [
    "ad1.obs[\"joint_annotation_20220202\"] = ad1.obs.joint_annotation_20220202.cat.reorder_categories(\n",
    "    nonHF_KCs\n",
    ")"
   ]
  },
  {
   "cell_type": "code",
   "execution_count": null,
   "id": "center-colors",
   "metadata": {
    "collapsed": false,
    "pycharm": {
     "name": "#%%\n"
    }
   },
   "outputs": [],
   "source": [
    "sorted(list(fetal_ad.obs.pcw.unique()))"
   ]
  },
  {
   "cell_type": "code",
   "execution_count": null,
   "id": "lucky-mitchell",
   "metadata": {
    "collapsed": false,
    "pycharm": {
     "name": "#%%\n"
    }
   },
   "outputs": [],
   "source": [
    "sorted(list(ad1.obs.pcw.unique()))"
   ]
  },
  {
   "cell_type": "code",
   "execution_count": null,
   "id": "limiting-nickname",
   "metadata": {
    "collapsed": false,
    "pycharm": {
     "name": "#%%\n"
    }
   },
   "outputs": [],
   "source": [
    "ad1.obs[\"pcw_text\"] = ad1.obs.pcw.astype(str)\n",
    "\n",
    "ad1.obs[\"stage\"] = sk.regroup(\n",
    "    ad1,\n",
    "    groupby=\"pcw_text\",\n",
    "    regroups={\n",
    "        \"7-8\": [\"7\", \"8\"],\n",
    "        \"9-11\": [\"9\", \"11\"],\n",
    "        \"12-16\": [\"14\", \"15\", \"16\"],\n",
    "    },\n",
    ")"
   ]
  },
  {
   "cell_type": "markdown",
   "id": "circular-thousand",
   "metadata": {
    "collapsed": false,
    "pycharm": {
     "name": "#%% md\n"
    }
   },
   "source": [
    "## Extract and prepare data to plot"
   ]
  },
  {
   "cell_type": "code",
   "execution_count": null,
   "id": "interior-portsmouth",
   "metadata": {
    "collapsed": false,
    "pycharm": {
     "name": "#%%\n"
    }
   },
   "outputs": [],
   "source": [
    "X = (\n",
    "    pd.concat(\n",
    "        [pd.Series(ad1.obs_vector(g), index=ad1.obs_names) for g in genes],\n",
    "        axis=1,\n",
    "    )\n",
    "    .rename(columns={i: g for i, g in enumerate(genes)})\n",
    "    .assign(annot=ad1.obs.joint_annotation_20220202, stage=ad1.obs.stage)\n",
    ")"
   ]
  },
  {
   "cell_type": "code",
   "execution_count": null,
   "id": "julian-berry",
   "metadata": {
    "collapsed": false,
    "pycharm": {
     "name": "#%%\n"
    }
   },
   "outputs": [],
   "source": [
    "ct_df = (\n",
    "    X.melt(id_vars=[\"annot\", \"stage\"], var_name=\"gene\", value_name=\"expression\")\n",
    "    .groupby([\"annot\", \"gene\"])\n",
    "    .agg(\n",
    "        mean=pd.NamedAgg(column=\"expression\", aggfunc=\"mean\"),\n",
    "        frac=pd.NamedAgg(column=\"expression\", aggfunc=lambda x: (x > 0).mean()),\n",
    "    )\n",
    "    .reset_index()\n",
    ")\n",
    "ct_df[\"gene\"] = ct_df[\"gene\"].astype(pd.CategoricalDtype(categories=genes, ordered=True))\n",
    "ct_df[\"x\"] = ct_df.gene.cat.codes\n",
    "ct_df[\"annot\"] = ct_df[\"annot\"].astype(\n",
    "    pd.CategoricalDtype(categories=nonHF_KCs[::-1], ordered=True)\n",
    ")\n",
    "ct_df[\"y\"] = ct_df.annot.cat.codes\n",
    "ct_df = ct_df.merge(\n",
    "    ct_df.groupby(\"gene\")[\"mean\"].max().rename(\"max_mean\"),\n",
    "    how=\"left\",\n",
    "    left_on=\"gene\",\n",
    "    right_index=True,\n",
    ")\n",
    "ct_df[\"mean2\"] = ct_df[\"mean\"] / ct_df[\"max_mean\"]"
   ]
  },
  {
   "cell_type": "code",
   "execution_count": null,
   "id": "mathematical-hands",
   "metadata": {
    "collapsed": false,
    "pycharm": {
     "name": "#%%\n"
    }
   },
   "outputs": [],
   "source": [
    "st_df = (\n",
    "    X.melt(id_vars=[\"annot\", \"stage\"], var_name=\"gene\", value_name=\"expression\")\n",
    "    .groupby([\"stage\", \"gene\"])\n",
    "    .agg(\n",
    "        mean=pd.NamedAgg(column=\"expression\", aggfunc=\"mean\"),\n",
    "        frac=pd.NamedAgg(column=\"expression\", aggfunc=lambda x: (x > 0).mean()),\n",
    "    )\n",
    "    .reset_index()\n",
    ")\n",
    "st_df[\"gene\"] = st_df[\"gene\"].astype(pd.CategoricalDtype(categories=genes, ordered=True))\n",
    "st_df[\"x\"] = st_df.gene.cat.codes\n",
    "st_df[\"stage\"] = st_df[\"stage\"].astype(pd.CategoricalDtype(categories=stages[::-1], ordered=True))\n",
    "st_df[\"y\"] = st_df.stage.cat.codes\n",
    "st_df = st_df.merge(\n",
    "    st_df.groupby(\"gene\")[\"mean\"].max().rename(\"max_mean\"),\n",
    "    how=\"left\",\n",
    "    left_on=\"gene\",\n",
    "    right_index=True,\n",
    ")\n",
    "st_df[\"mean2\"] = st_df[\"mean\"] / st_df[\"max_mean\"]"
   ]
  },
  {
   "cell_type": "code",
   "execution_count": null,
   "id": "funky-ultimate",
   "metadata": {
    "collapsed": false,
    "pycharm": {
     "name": "#%%\n"
    }
   },
   "outputs": [],
   "source": [
    "df = pd.concat(\n",
    "    [\n",
    "        st_df.melt(id_vars=[\"gene\", \"mean\", \"max_mean\", \"mean2\", \"frac\", \"x\", \"y\"]),\n",
    "        ct_df.melt(id_vars=[\"gene\", \"mean\", \"max_mean\", \"mean2\", \"frac\", \"x\", \"y\"]),\n",
    "    ]\n",
    ")"
   ]
  },
  {
   "cell_type": "markdown",
   "id": "green-struggle",
   "metadata": {
    "collapsed": false,
    "pycharm": {
     "name": "#%% md\n"
    }
   },
   "source": [
    "## Plot"
   ]
  },
  {
   "cell_type": "code",
   "execution_count": null,
   "id": "missing-potter",
   "metadata": {
    "collapsed": false,
    "pycharm": {
     "name": "#%%\n"
    }
   },
   "outputs": [],
   "source": [
    "# Main axes\n",
    "g = sn.relplot(\n",
    "    data=df,\n",
    "    x=\"x\",\n",
    "    y=\"y\",\n",
    "    hue=\"mean2\",\n",
    "    size=\"frac\",\n",
    "    sizes=(0, 200),\n",
    "    edgecolor=\"k\",\n",
    "    row=\"variable\",\n",
    "    facet_kws={\n",
    "        \"sharex\": False,\n",
    "        \"sharey\": False,\n",
    "        \"gridspec_kws\": dict(hspace=0.05, height_ratios=[0.333, 0.667]),\n",
    "    },\n",
    "    legend=False,\n",
    "    height=1.6,\n",
    "    aspect=6,\n",
    "    palette=\"OrRd\",\n",
    ")\n",
    "g.set_titles(\"\")\n",
    "sn.despine(fig=g.fig, right=False, top=False)\n",
    "\n",
    "g.axes[0, 0].margins(0.02, 0.25)\n",
    "g.axes[0, 0].set_xticks([])\n",
    "g.axes[0, 0].set_yticks(np.arange(len(stages)))\n",
    "g.axes[0, 0].set_yticklabels(stages[::-1])\n",
    "g.axes[0, 0].set_ylabel(\"PCW\", labelpad=20, rotation=0, va=\"center_baseline\")\n",
    "\n",
    "g.axes[1, 0].margins(0.02, 0.125)\n",
    "g.axes[1, 0].set_xticks(np.arange(len(genes)))\n",
    "g.axes[1, 0].set_xticklabels(genes, rotation=90)\n",
    "g.axes[1, 0].set_xlabel(\"\")\n",
    "g.axes[1, 0].set_yticks(np.arange(len(nonHF_KCs)))\n",
    "g.axes[1, 0].set_yticklabels(nonHF_KCs[::-1])\n",
    "g.axes[1, 0].set_ylabel(\"\")\n",
    "\n",
    "# Make legend\n",
    "fig = g.fig\n",
    "main_width = 0.875\n",
    "gap_width = 0.015\n",
    "fig.subplots_adjust(right=main_width)\n",
    "\n",
    "# Dot size legend\n",
    "dlg_ax = fig.add_axes([main_width + gap_width, 0.55, 1 - main_width - gap_width, 0.1])\n",
    "sn.scatterplot(\n",
    "    x=[20, 40, 60, 80, 100],\n",
    "    y=[0, 0, 0, 0, 0],\n",
    "    size=[20, 40, 60, 80, 100],\n",
    "    sizes=(40, 200),\n",
    "    color=[(0.5, 0.5, 0.5)],\n",
    "    edgecolor=\"black\",\n",
    "    ax=dlg_ax,\n",
    "    legend=False,\n",
    ")\n",
    "sn.despine(ax=dlg_ax, left=True, bottom=True)\n",
    "dlg_ax.get_yaxis().set_visible(False)\n",
    "dlg_ax.set_xticks([20, 40, 60, 80, 100])\n",
    "dlg_ax.set_xticklabels([20, 40, 60, 80, 100], size=8)\n",
    "dlg_ax.set_xlim(10, 110)\n",
    "dlg_ax.set_title(\"Fraction of cells\\nin group (%)\", size=10)\n",
    "\n",
    "# Colorbar\n",
    "cb_ax = fig.add_axes([main_width + gap_width, 0.25, 1 - main_width - gap_width, 0.03])\n",
    "fig.colorbar(\n",
    "    plt.cm.ScalarMappable(\n",
    "        cmap=\"OrRd\",\n",
    "    ),\n",
    "    cax=cb_ax,\n",
    "    orientation=\"horizontal\",\n",
    ")\n",
    "sn.despine(ax=cb_ax, left=True, bottom=True)\n",
    "cb_ax.get_yaxis().set_visible(False)\n",
    "cb_ax.set_xticks([0, 0.5, 1])\n",
    "cb_ax.set_xticklabels([0.0, 0.5, 1.0], size=8)\n",
    "cb_ax.set_title(\"Mean expression\\nin group\", size=10);"
   ]
  },
  {
   "cell_type": "code",
   "execution_count": null,
   "id": "surrounded-silicon",
   "metadata": {
    "collapsed": false,
    "pycharm": {
     "name": "#%%\n"
    }
   },
   "outputs": [],
   "source": [
    "fig.savefig(Path(proj_root, \"figures/fig2C.20220906.pdf\"), bbox_inches=\"tight\")"
   ]
  },
  {
   "cell_type": "code",
   "execution_count": null,
   "id": "freelance-vision",
   "metadata": {
    "collapsed": false,
    "pycharm": {
     "name": "#%%\n"
    }
   },
   "outputs": [],
   "source": [
    "# !rclone copy --drive-shared-with-me figures/fig2C.20220906.pdf \"google:/Fetal Skin/Figures/Figs_from_Ni/\""
   ]
  }
 ],
 "metadata": {
  "kernelspec": {
   "display_name": "FCA_base",
   "language": "python",
   "name": "fca_base"
  },
  "language_info": {
   "codemirror_mode": {
    "name": "ipython",
    "version": 3
   },
   "file_extension": ".py",
   "mimetype": "text/x-python",
   "name": "python",
   "nbconvert_exporter": "python",
   "pygments_lexer": "ipython3",
   "version": "3.9.13"
  },
  "widgets": {
   "application/vnd.jupyter.widget-state+json": {
    "state": {},
    "version_major": 2,
    "version_minor": 0
   }
  }
 },
 "nbformat": 4,
 "nbformat_minor": 5
}
