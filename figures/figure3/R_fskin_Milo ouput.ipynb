{
 "cells": [
  {
   "cell_type": "code",
   "execution_count": 1,
   "id": "assisted-unknown",
   "metadata": {
    "collapsed": true,
    "jupyter": {
     "outputs_hidden": true
    },
    "tags": []
   },
   "outputs": [
    {
     "name": "stderr",
     "output_type": "stream",
     "text": [
      "Loading required package: edgeR\n",
      "\n",
      "Loading required package: limma\n",
      "\n",
      "Loading required package: SummarizedExperiment\n",
      "\n",
      "Loading required package: MatrixGenerics\n",
      "\n",
      "Loading required package: matrixStats\n",
      "\n",
      "\n",
      "Attaching package: ‘MatrixGenerics’\n",
      "\n",
      "\n",
      "The following objects are masked from ‘package:matrixStats’:\n",
      "\n",
      "    colAlls, colAnyNAs, colAnys, colAvgsPerRowSet, colCollapse,\n",
      "    colCounts, colCummaxs, colCummins, colCumprods, colCumsums,\n",
      "    colDiffs, colIQRDiffs, colIQRs, colLogSumExps, colMadDiffs,\n",
      "    colMads, colMaxs, colMeans2, colMedians, colMins, colOrderStats,\n",
      "    colProds, colQuantiles, colRanges, colRanks, colSdDiffs, colSds,\n",
      "    colSums2, colTabulates, colVarDiffs, colVars, colWeightedMads,\n",
      "    colWeightedMeans, colWeightedMedians, colWeightedSds,\n",
      "    colWeightedVars, rowAlls, rowAnyNAs, rowAnys, rowAvgsPerColSet,\n",
      "    rowCollapse, rowCounts, rowCummaxs, rowCummins, rowCumprods,\n",
      "    rowCumsums, rowDiffs, rowIQRDiffs, rowIQRs, rowLogSumExps,\n",
      "    rowMadDiffs, rowMads, rowMaxs, rowMeans2, rowMedians, rowMins,\n",
      "    rowOrderStats, rowProds, rowQuantiles, rowRanges, rowRanks,\n",
      "    rowSdDiffs, rowSds, rowSums2, rowTabulates, rowVarDiffs, rowVars,\n",
      "    rowWeightedMads, rowWeightedMeans, rowWeightedMedians,\n",
      "    rowWeightedSds, rowWeightedVars\n",
      "\n",
      "\n",
      "Loading required package: GenomicRanges\n",
      "\n",
      "Loading required package: stats4\n",
      "\n",
      "Loading required package: BiocGenerics\n",
      "\n",
      "\n",
      "Attaching package: ‘BiocGenerics’\n",
      "\n",
      "\n",
      "The following object is masked from ‘package:limma’:\n",
      "\n",
      "    plotMA\n",
      "\n",
      "\n",
      "The following objects are masked from ‘package:stats’:\n",
      "\n",
      "    IQR, mad, sd, var, xtabs\n",
      "\n",
      "\n",
      "The following objects are masked from ‘package:base’:\n",
      "\n",
      "    anyDuplicated, append, as.data.frame, basename, cbind, colnames,\n",
      "    dirname, do.call, duplicated, eval, evalq, Filter, Find, get, grep,\n",
      "    grepl, intersect, is.unsorted, lapply, Map, mapply, match, mget,\n",
      "    order, paste, pmax, pmax.int, pmin, pmin.int, Position, rank,\n",
      "    rbind, Reduce, rownames, sapply, setdiff, sort, table, tapply,\n",
      "    union, unique, unsplit, which.max, which.min\n",
      "\n",
      "\n",
      "Loading required package: S4Vectors\n",
      "\n",
      "\n",
      "Attaching package: ‘S4Vectors’\n",
      "\n",
      "\n",
      "The following objects are masked from ‘package:base’:\n",
      "\n",
      "    expand.grid, I, unname\n",
      "\n",
      "\n",
      "Loading required package: IRanges\n",
      "\n",
      "Loading required package: GenomeInfoDb\n",
      "\n",
      "Loading required package: Biobase\n",
      "\n",
      "Welcome to Bioconductor\n",
      "\n",
      "    Vignettes contain introductory material; view with\n",
      "    'browseVignettes()'. To cite Bioconductor, see\n",
      "    'citation(\"Biobase\")', and for packages 'citation(\"pkgname\")'.\n",
      "\n",
      "\n",
      "\n",
      "Attaching package: ‘Biobase’\n",
      "\n",
      "\n",
      "The following object is masked from ‘package:MatrixGenerics’:\n",
      "\n",
      "    rowMedians\n",
      "\n",
      "\n",
      "The following objects are masked from ‘package:matrixStats’:\n",
      "\n",
      "    anyMissing, rowMedians\n",
      "\n",
      "\n",
      "\n",
      "Attaching package: ‘SingleCellExperiment’\n",
      "\n",
      "\n",
      "The following object is masked from ‘package:edgeR’:\n",
      "\n",
      "    cpm\n",
      "\n",
      "\n",
      "\n",
      "Attaching package: ‘dplyr’\n",
      "\n",
      "\n",
      "The following object is masked from ‘package:Biobase’:\n",
      "\n",
      "    combine\n",
      "\n",
      "\n",
      "The following objects are masked from ‘package:GenomicRanges’:\n",
      "\n",
      "    intersect, setdiff, union\n",
      "\n",
      "\n",
      "The following object is masked from ‘package:GenomeInfoDb’:\n",
      "\n",
      "    intersect\n",
      "\n",
      "\n",
      "The following objects are masked from ‘package:IRanges’:\n",
      "\n",
      "    collapse, desc, intersect, setdiff, slice, union\n",
      "\n",
      "\n",
      "The following objects are masked from ‘package:S4Vectors’:\n",
      "\n",
      "    first, intersect, rename, setdiff, setequal, union\n",
      "\n",
      "\n",
      "The following objects are masked from ‘package:BiocGenerics’:\n",
      "\n",
      "    combine, intersect, setdiff, union\n",
      "\n",
      "\n",
      "The following object is masked from ‘package:matrixStats’:\n",
      "\n",
      "    count\n",
      "\n",
      "\n",
      "The following objects are masked from ‘package:stats’:\n",
      "\n",
      "    filter, lag\n",
      "\n",
      "\n",
      "The following objects are masked from ‘package:base’:\n",
      "\n",
      "    intersect, setdiff, setequal, union\n",
      "\n",
      "\n",
      "Attaching SeuratObject\n",
      "\n",
      "Attaching sp\n",
      "\n",
      "\n",
      "Attaching package: ‘Seurat’\n",
      "\n",
      "\n",
      "The following object is masked from ‘package:SummarizedExperiment’:\n",
      "\n",
      "    Assays\n",
      "\n",
      "\n"
     ]
    },
    {
     "ename": "ERROR",
     "evalue": "Error in library(SeuratDisk): there is no package called ‘SeuratDisk’\n",
     "output_type": "error",
     "traceback": [
      "Error in library(SeuratDisk): there is no package called ‘SeuratDisk’\nTraceback:\n",
      "1. library(SeuratDisk)"
     ]
    }
   ],
   "source": [
    "library(miloR)\n",
    "library(SingleCellExperiment)\n",
    "#library(scater)\n",
    "#library(scran)\n",
    "library(dplyr)\n",
    "library(patchwork)\n",
    "library(Seurat)\n",
    "#library(SeuratData)\n",
    "library(SeuratDisk)\n",
    "library(sceasy)\n",
    "#library(tidyverse)"
   ]
  },
  {
   "cell_type": "code",
   "execution_count": 21,
   "id": "direct-calgary",
   "metadata": {
    "collapsed": true,
    "jupyter": {
     "outputs_hidden": true
    },
    "tags": []
   },
   "outputs": [
    {
     "name": "stderr",
     "output_type": "stream",
     "text": [
      "Warning message in system(\"timedatectl\", intern = TRUE):\n",
      "“running command 'timedatectl' had status 1”\n",
      "── \u001b[1mAttaching packages\u001b[22m ─────────────────────────────────────── tidyverse 1.3.2 ──\n",
      "\u001b[32m✔\u001b[39m \u001b[34mggplot2\u001b[39m 3.3.6     \u001b[32m✔\u001b[39m \u001b[34mpurrr  \u001b[39m 0.3.4\n",
      "\u001b[32m✔\u001b[39m \u001b[34mtibble \u001b[39m 3.1.7     \u001b[32m✔\u001b[39m \u001b[34mstringr\u001b[39m 1.4.0\n",
      "\u001b[32m✔\u001b[39m \u001b[34mtidyr  \u001b[39m 1.2.0     \u001b[32m✔\u001b[39m \u001b[34mforcats\u001b[39m 0.5.1\n",
      "\u001b[32m✔\u001b[39m \u001b[34mreadr  \u001b[39m 2.1.2     \n",
      "Warning message:\n",
      "“package ‘tidyr’ was built under R version 4.1.2”\n",
      "Warning message:\n",
      "“package ‘readr’ was built under R version 4.1.2”\n",
      "── \u001b[1mConflicts\u001b[22m ────────────────────────────────────────── tidyverse_conflicts() ──\n",
      "\u001b[31m✖\u001b[39m \u001b[34mdplyr\u001b[39m::\u001b[32mcollapse()\u001b[39m   masks \u001b[34mIRanges\u001b[39m::collapse()\n",
      "\u001b[31m✖\u001b[39m \u001b[34mdplyr\u001b[39m::\u001b[32mcombine()\u001b[39m    masks \u001b[34mBiobase\u001b[39m::combine(), \u001b[34mBiocGenerics\u001b[39m::combine()\n",
      "\u001b[31m✖\u001b[39m \u001b[34mdplyr\u001b[39m::\u001b[32mcount()\u001b[39m      masks \u001b[34mmatrixStats\u001b[39m::count()\n",
      "\u001b[31m✖\u001b[39m \u001b[34mdplyr\u001b[39m::\u001b[32mdesc()\u001b[39m       masks \u001b[34mIRanges\u001b[39m::desc()\n",
      "\u001b[31m✖\u001b[39m \u001b[34mtidyr\u001b[39m::\u001b[32mexpand()\u001b[39m     masks \u001b[34mS4Vectors\u001b[39m::expand()\n",
      "\u001b[31m✖\u001b[39m \u001b[34mdplyr\u001b[39m::\u001b[32mfilter()\u001b[39m     masks \u001b[34mstats\u001b[39m::filter()\n",
      "\u001b[31m✖\u001b[39m \u001b[34mdplyr\u001b[39m::\u001b[32mfirst()\u001b[39m      masks \u001b[34mS4Vectors\u001b[39m::first()\n",
      "\u001b[31m✖\u001b[39m \u001b[34mdplyr\u001b[39m::\u001b[32mlag()\u001b[39m        masks \u001b[34mstats\u001b[39m::lag()\n",
      "\u001b[31m✖\u001b[39m \u001b[34mggplot2\u001b[39m::\u001b[32mPosition()\u001b[39m masks \u001b[34mBiocGenerics\u001b[39m::Position(), \u001b[34mbase\u001b[39m::Position()\n",
      "\u001b[31m✖\u001b[39m \u001b[34mpurrr\u001b[39m::\u001b[32mreduce()\u001b[39m     masks \u001b[34mGenomicRanges\u001b[39m::reduce(), \u001b[34mIRanges\u001b[39m::reduce()\n",
      "\u001b[31m✖\u001b[39m \u001b[34mdplyr\u001b[39m::\u001b[32mrename()\u001b[39m     masks \u001b[34mS4Vectors\u001b[39m::rename()\n",
      "\u001b[31m✖\u001b[39m \u001b[34mdplyr\u001b[39m::\u001b[32mslice()\u001b[39m      masks \u001b[34mIRanges\u001b[39m::slice()\n"
     ]
    }
   ],
   "source": [
    "library(tidyverse)"
   ]
  },
  {
   "cell_type": "code",
   "execution_count": 2,
   "id": "reliable-tablet",
   "metadata": {},
   "outputs": [],
   "source": [
    "#read in milo rds object \n",
    "rdata <- readRDS(file = \"/home/jovyan/projects/skin/fetal_skin/Data/fetalskinmilo.rds\")"
   ]
  },
  {
   "cell_type": "code",
   "execution_count": 3,
   "id": "controversial-annotation",
   "metadata": {},
   "outputs": [
    {
     "data": {
      "text/plain": [
       "class: Milo \n",
       "dim: 28885 186533 \n",
       "metadata(7): _scvi donor_colors ... neighbors umap\n",
       "assays(1): logcounts\n",
       "rownames(28885): RP11-34P13.3 RP11-34P13.7 ... AC240274.1 AC213203.1\n",
       "rowData names(7): gene_ids mito ... cc n_counts\n",
       "colnames(186533): AAACCTGGTCAGTGGA-1-4834STDY7002879\n",
       "  AAAGATGGTCGATTGT-1-4834STDY7002879 ...\n",
       "  TTTGTCATCGCAAGCC-1-FCAImmP7964510 TTTGTCATCTGCTTGC-1-FCAImmP7964510\n",
       "colData names(29): sanger_id chemistry ... X_scvi_batch X_scvi_labels\n",
       "reducedDimNames(2): X_scvi_donor X_umap_donor\n",
       "mainExpName: NULL\n",
       "altExpNames(0):\n",
       "nhoods dimensions(2): 186533 8605\n",
       "nhoodCounts dimensions(2): 8605 45\n",
       "nhoodDistances dimension(1): 8605\n",
       "graph names(1): graph\n",
       "nhoodIndex names(1): 8605\n",
       "nhoodExpression dimension(2): 1 1\n",
       "nhoodReducedDim names(0):\n",
       "nhoodGraph names(0):\n",
       "nhoodAdjacency dimension(2): 1 1"
      ]
     },
     "metadata": {},
     "output_type": "display_data"
    }
   ],
   "source": [
    "rdata"
   ]
  },
  {
   "cell_type": "code",
   "execution_count": 4,
   "id": "strategic-daily",
   "metadata": {},
   "outputs": [
    {
     "data": {
      "text/html": [
       "<style>\n",
       ".list-inline {list-style: none; margin:0; padding: 0}\n",
       ".list-inline>li {display: inline-block}\n",
       ".list-inline>li:not(:last-child)::after {content: \"\\00b7\"; padding: 0 .5ex}\n",
       "</style>\n",
       "<ol class=list-inline><li>186533</li><li>8605</li></ol>\n"
      ],
      "text/latex": [
       "\\begin{enumerate*}\n",
       "\\item 186533\n",
       "\\item 8605\n",
       "\\end{enumerate*}\n"
      ],
      "text/markdown": [
       "1. 186533\n",
       "2. 8605\n",
       "\n",
       "\n"
      ],
      "text/plain": [
       "[1] 186533   8605"
      ]
     },
     "metadata": {},
     "output_type": "display_data"
    }
   ],
   "source": [
    "dim(rdata@nhoods)"
   ]
  },
  {
   "cell_type": "code",
   "execution_count": 5,
   "id": "endless-necessity",
   "metadata": {
    "collapsed": true,
    "jupyter": {
     "outputs_hidden": true
    },
    "tags": []
   },
   "outputs": [
    {
     "data": {
      "text/plain": [
       "DataFrame with 186533 rows and 29 columns\n",
       "                                         sanger_id chemistry    donor   gender\n",
       "                                          <factor>  <factor> <factor> <factor>\n",
       "AAACCTGGTCAGTGGA-1-4834STDY7002879 4834STDY7002879    SC3Pv2      F16     male\n",
       "AAAGATGGTCGATTGT-1-4834STDY7002879 4834STDY7002879    SC3Pv2      F16     male\n",
       "AAAGCAAAGATGTGGC-1-4834STDY7002879 4834STDY7002879    SC3Pv2      F16     male\n",
       "AAAGTAGCAGATCGGA-1-4834STDY7002879 4834STDY7002879    SC3Pv2      F16     male\n",
       "AAAGTAGTCCGCATCT-1-4834STDY7002879 4834STDY7002879    SC3Pv2      F16     male\n",
       "...                                            ...       ...      ...      ...\n",
       "TTTGTCAAGTGAACGC-1-FCAImmP7964510   FCAImmP7964510   SC5P-R2      F71   female\n",
       "TTTGTCAGTGCGAAAC-1-FCAImmP7964510   FCAImmP7964510   SC5P-R2      F71   female\n",
       "TTTGTCATCCATGAGT-1-FCAImmP7964510   FCAImmP7964510   SC5P-R2      F71   female\n",
       "TTTGTCATCGCAAGCC-1-FCAImmP7964510   FCAImmP7964510   SC5P-R2      F71   female\n",
       "TTTGTCATCTGCTTGC-1-FCAImmP7964510   FCAImmP7964510   SC5P-R2      F71   female\n",
       "                                         pcw  sorting             sample\n",
       "                                   <numeric> <factor>           <factor>\n",
       "AAACCTGGTCAGTGGA-1-4834STDY7002879         8    CD45P    F16_male_8+1PCW\n",
       "AAAGATGGTCGATTGT-1-4834STDY7002879         8    CD45P    F16_male_8+1PCW\n",
       "AAAGCAAAGATGTGGC-1-4834STDY7002879         8    CD45P    F16_male_8+1PCW\n",
       "AAAGTAGCAGATCGGA-1-4834STDY7002879         8    CD45P    F16_male_8+1PCW\n",
       "AAAGTAGTCCGCATCT-1-4834STDY7002879         8    CD45P    F16_male_8+1PCW\n",
       "...                                      ...      ...                ...\n",
       "TTTGTCAAGTGAACGC-1-FCAImmP7964510         14   CD45en F71-GEX_5_SKI_45en\n",
       "TTTGTCAGTGCGAAAC-1-FCAImmP7964510         14   CD45en F71-GEX_5_SKI_45en\n",
       "TTTGTCATCCATGAGT-1-FCAImmP7964510         14   CD45en F71-GEX_5_SKI_45en\n",
       "TTTGTCATCGCAAGCC-1-FCAImmP7964510         14   CD45en F71-GEX_5_SKI_45en\n",
       "TTTGTCATCTGCTTGC-1-FCAImmP7964510         14   CD45en F71-GEX_5_SKI_45en\n",
       "                                   chemistry_sorting cell_caller scrublet_score\n",
       "                                            <factor>    <factor>      <numeric>\n",
       "AAACCTGGTCAGTGGA-1-4834STDY7002879      SC3Pv2_CD45P        Both       0.225806\n",
       "AAAGATGGTCGATTGT-1-4834STDY7002879      SC3Pv2_CD45P        Both       0.149606\n",
       "AAAGCAAAGATGTGGC-1-4834STDY7002879      SC3Pv2_CD45P        Both       0.201970\n",
       "AAAGTAGCAGATCGGA-1-4834STDY7002879      SC3Pv2_CD45P        Both       0.164557\n",
       "AAAGTAGTCCGCATCT-1-4834STDY7002879      SC3Pv2_CD45P        Both       0.181818\n",
       "...                                              ...         ...            ...\n",
       "TTTGTCAAGTGAACGC-1-FCAImmP7964510     SC5P-R2_CD45en        Both      0.0859375\n",
       "TTTGTCAGTGCGAAAC-1-FCAImmP7964510     SC5P-R2_CD45en        Both      0.1257783\n",
       "TTTGTCATCCATGAGT-1-FCAImmP7964510     SC5P-R2_CD45en        Both      0.0347003\n",
       "TTTGTCATCGCAAGCC-1-FCAImmP7964510     SC5P-R2_CD45en        Both      0.0526316\n",
       "TTTGTCATCTGCTTGC-1-FCAImmP7964510     SC5P-R2_CD45en        Both      0.0256410\n",
       "                                   cluster_scrublet_score doublet_pval\n",
       "                                                <numeric>    <numeric>\n",
       "AAACCTGGTCAGTGGA-1-4834STDY7002879               0.157082     0.500000\n",
       "AAAGATGGTCGATTGT-1-4834STDY7002879               0.157082     0.500000\n",
       "AAAGCAAAGATGTGGC-1-4834STDY7002879               0.225806     0.150885\n",
       "AAAGTAGCAGATCGGA-1-4834STDY7002879               0.164557     0.455284\n",
       "AAAGTAGTCCGCATCT-1-4834STDY7002879               0.201970     0.250000\n",
       "...                                                   ...          ...\n",
       "TTTGTCAAGTGAACGC-1-FCAImmP7964510               0.1097372     0.314770\n",
       "TTTGTCAGTGCGAAAC-1-FCAImmP7964510               0.1257783     0.231265\n",
       "TTTGTCATCCATGAGT-1-FCAImmP7964510               0.0248307     0.803208\n",
       "TTTGTCATCGCAAGCC-1-FCAImmP7964510               0.0446927     0.705651\n",
       "TTTGTCATCTGCTTGC-1-FCAImmP7964510               0.0256410     0.799655\n",
       "                                   bh_doublet_pval  n_counts   n_genes\n",
       "                                         <numeric> <numeric> <numeric>\n",
       "AAACCTGGTCAGTGGA-1-4834STDY7002879        0.907861      5917      1776\n",
       "AAAGATGGTCGATTGT-1-4834STDY7002879        0.907861     10261      2750\n",
       "AAAGCAAAGATGTGGC-1-4834STDY7002879        0.882352      7749      2308\n",
       "AAAGTAGCAGATCGGA-1-4834STDY7002879        0.907861     14791      3099\n",
       "AAAGTAGTCCGCATCT-1-4834STDY7002879        0.882352      7434      2283\n",
       "...                                            ...       ...       ...\n",
       "TTTGTCAAGTGAACGC-1-FCAImmP7964510         0.851322      5094      1875\n",
       "TTTGTCAGTGCGAAAC-1-FCAImmP7964510         0.851322      6906      2161\n",
       "TTTGTCATCCATGAGT-1-FCAImmP7964510         0.851322      8526       658\n",
       "TTTGTCATCGCAAGCC-1-FCAImmP7964510         0.851322     10911      3368\n",
       "TTTGTCATCTGCTTGC-1-FCAImmP7964510         0.851322      8575       609\n",
       "                                   percent_mito percent_ribo  percent_hb\n",
       "                                      <numeric>    <numeric>   <numeric>\n",
       "AAACCTGGTCAGTGGA-1-4834STDY7002879      6.25317      26.2295   0.1352036\n",
       "AAAGATGGTCGATTGT-1-4834STDY7002879      3.08937      24.8806   0.1559302\n",
       "AAAGCAAAGATGTGGC-1-4834STDY7002879      1.26468      22.5836   0.1290489\n",
       "AAAGTAGCAGATCGGA-1-4834STDY7002879      1.74430      34.5818   0.1081739\n",
       "AAAGTAGTCCGCATCT-1-4834STDY7002879      4.14313      22.1146   0.0807102\n",
       "...                                         ...          ...         ...\n",
       "TTTGTCAAGTGAACGC-1-FCAImmP7964510      2.787593    30.349430  0.00000000\n",
       "TTTGTCAGTGCGAAAC-1-FCAImmP7964510      3.895164    29.438171  0.01448016\n",
       "TTTGTCATCCATGAGT-1-FCAImmP7964510      1.208069     0.621628 78.81773376\n",
       "TTTGTCATCGCAAGCC-1-FCAImmP7964510      5.334066    15.598936  0.00916506\n",
       "TTTGTCATCTGCTTGC-1-FCAImmP7964510      0.769679     0.489796 80.10495758\n",
       "                                   independent_annotation_refined\n",
       "                                                      <character>\n",
       "AAACCTGGTCAGTGGA-1-4834STDY7002879             LYVE1++ macrophage\n",
       "AAAGATGGTCGATTGT-1-4834STDY7002879         Monocyte (activated/..\n",
       "AAAGCAAAGATGTGGC-1-4834STDY7002879             LYVE1++ macrophage\n",
       "AAAGTAGCAGATCGGA-1-4834STDY7002879         Eo/baso/mast cell pr..\n",
       "AAAGTAGTCCGCATCT-1-4834STDY7002879             LYVE1++ macrophage\n",
       "...                                                           ...\n",
       "TTTGTCAAGTGAACGC-1-FCAImmP7964510                       Pericytes\n",
       "TTTGTCAGTGCGAAAC-1-FCAImmP7964510                       Pericytes\n",
       "TTTGTCATCCATGAGT-1-FCAImmP7964510                 Early erythroid\n",
       "TTTGTCATCGCAAGCC-1-FCAImmP7964510                              LE\n",
       "TTTGTCATCTGCTTGC-1-FCAImmP7964510                 Early erythroid\n",
       "                                   independent_annotation_broad1\n",
       "                                                        <factor>\n",
       "AAACCTGGTCAGTGGA-1-4834STDY7002879        Macrophage            \n",
       "AAAGATGGTCGATTGT-1-4834STDY7002879        Monocyte              \n",
       "AAAGCAAAGATGTGGC-1-4834STDY7002879        Macrophage            \n",
       "AAAGTAGCAGATCGGA-1-4834STDY7002879        Granulocyte progenitor\n",
       "AAAGTAGTCCGCATCT-1-4834STDY7002879        Macrophage            \n",
       "...                                                          ...\n",
       "TTTGTCAAGTGAACGC-1-FCAImmP7964510          Pericyte             \n",
       "TTTGTCAGTGCGAAAC-1-FCAImmP7964510          Pericyte             \n",
       "TTTGTCATCCATGAGT-1-FCAImmP7964510          Early erythroid      \n",
       "TTTGTCATCGCAAGCC-1-FCAImmP7964510          Lymphatic endothelium\n",
       "TTTGTCATCTGCTTGC-1-FCAImmP7964510          Early erythroid      \n",
       "                                   independent_annotation_broad2\n",
       "                                                        <factor>\n",
       "AAACCTGGTCAGTGGA-1-4834STDY7002879        Macrophage            \n",
       "AAAGATGGTCGATTGT-1-4834STDY7002879        Monocyte              \n",
       "AAAGCAAAGATGTGGC-1-4834STDY7002879        Macrophage            \n",
       "AAAGTAGCAGATCGGA-1-4834STDY7002879        Granulocyte progenitor\n",
       "AAAGTAGTCCGCATCT-1-4834STDY7002879        Macrophage            \n",
       "...                                                          ...\n",
       "TTTGTCAAGTGAACGC-1-FCAImmP7964510          Pericyte             \n",
       "TTTGTCAGTGCGAAAC-1-FCAImmP7964510          Pericyte             \n",
       "TTTGTCATCCATGAGT-1-FCAImmP7964510          Erythroid            \n",
       "TTTGTCATCGCAAGCC-1-FCAImmP7964510          Lymphatic endothelium\n",
       "TTTGTCATCTGCTTGC-1-FCAImmP7964510          Erythroid            \n",
       "                                   independent_annotation_broad3\n",
       "                                                        <factor>\n",
       "AAACCTGGTCAGTGGA-1-4834STDY7002879        Macrophage            \n",
       "AAAGATGGTCGATTGT-1-4834STDY7002879        Monocyte              \n",
       "AAAGCAAAGATGTGGC-1-4834STDY7002879        Macrophage            \n",
       "AAAGTAGCAGATCGGA-1-4834STDY7002879        Granulocyte progenitor\n",
       "AAAGTAGTCCGCATCT-1-4834STDY7002879        Macrophage            \n",
       "...                                                          ...\n",
       "TTTGTCAAGTGAACGC-1-FCAImmP7964510          Pericyte             \n",
       "TTTGTCAGTGCGAAAC-1-FCAImmP7964510          Pericyte             \n",
       "TTTGTCATCCATGAGT-1-FCAImmP7964510          Erythroid            \n",
       "TTTGTCATCGCAAGCC-1-FCAImmP7964510          Lymphatic endothelium\n",
       "TTTGTCATCTGCTTGC-1-FCAImmP7964510          Erythroid            \n",
       "                                   independent_annotation_broad4\n",
       "                                                        <factor>\n",
       "AAACCTGGTCAGTGGA-1-4834STDY7002879      Antigen Presenting Cells\n",
       "AAAGATGGTCGATTGT-1-4834STDY7002879      Antigen Presenting Cells\n",
       "AAAGCAAAGATGTGGC-1-4834STDY7002879      Antigen Presenting Cells\n",
       "AAAGTAGCAGATCGGA-1-4834STDY7002879      Other blood cells       \n",
       "AAAGTAGTCCGCATCT-1-4834STDY7002879      Antigen Presenting Cells\n",
       "...                                                          ...\n",
       "TTTGTCAAGTGAACGC-1-FCAImmP7964510                    Muscle     \n",
       "TTTGTCAGTGCGAAAC-1-FCAImmP7964510                    Muscle     \n",
       "TTTGTCATCCATGAGT-1-FCAImmP7964510                    Erythroid  \n",
       "TTTGTCATCGCAAGCC-1-FCAImmP7964510                    Endothelium\n",
       "TTTGTCATCTGCTTGC-1-FCAImmP7964510                    Erythroid  \n",
       "                                   independent_annotation_broad5\n",
       "                                                        <factor>\n",
       "AAACCTGGTCAGTGGA-1-4834STDY7002879                        Immune\n",
       "AAAGATGGTCGATTGT-1-4834STDY7002879                        Immune\n",
       "AAAGCAAAGATGTGGC-1-4834STDY7002879                        Immune\n",
       "AAAGTAGCAGATCGGA-1-4834STDY7002879                        Immune\n",
       "AAAGTAGTCCGCATCT-1-4834STDY7002879                        Immune\n",
       "...                                                          ...\n",
       "TTTGTCAAGTGAACGC-1-FCAImmP7964510                      Stroma   \n",
       "TTTGTCAGTGCGAAAC-1-FCAImmP7964510                      Stroma   \n",
       "TTTGTCATCCATGAGT-1-FCAImmP7964510                      Erythroid\n",
       "TTTGTCATCGCAAGCC-1-FCAImmP7964510                      Stroma   \n",
       "TTTGTCATCTGCTTGC-1-FCAImmP7964510                      Erythroid\n",
       "                                                       joint_annotation\n",
       "                                                               <factor>\n",
       "AAACCTGGTCAGTGGA-1-4834STDY7002879 Macrophage1                         \n",
       "AAAGATGGTCGATTGT-1-4834STDY7002879 Monocyte (activated/differentiating)\n",
       "AAAGCAAAGATGTGGC-1-4834STDY7002879 Macrophage1                         \n",
       "AAAGTAGCAGATCGGA-1-4834STDY7002879 Eo/baso/mast cell progenitor        \n",
       "AAAGTAGTCCGCATCT-1-4834STDY7002879 Macrophage1                         \n",
       "...                                                                 ...\n",
       "TTTGTCAAGTGAACGC-1-FCAImmP7964510                       Pericytes      \n",
       "TTTGTCAGTGCGAAAC-1-FCAImmP7964510                       Pericytes      \n",
       "TTTGTCATCCATGAGT-1-FCAImmP7964510                       Early erythroid\n",
       "TTTGTCATCGCAAGCC-1-FCAImmP7964510                       LE             \n",
       "TTTGTCATCTGCTTGC-1-FCAImmP7964510                       Early erythroid\n",
       "                                   is_maternal      fig1b_annotation\n",
       "                                     <logical>              <factor>\n",
       "AAACCTGGTCAGTGGA-1-4834STDY7002879       FALSE      Macrophage      \n",
       "AAAGATGGTCGATTGT-1-4834STDY7002879       FALSE      Monocyte        \n",
       "AAAGCAAAGATGTGGC-1-4834STDY7002879       FALSE      Macrophage      \n",
       "AAAGTAGCAGATCGGA-1-4834STDY7002879       FALSE      Haem progenitors\n",
       "AAAGTAGTCCGCATCT-1-4834STDY7002879       FALSE      Macrophage      \n",
       "...                                        ...                   ...\n",
       "TTTGTCAAGTGAACGC-1-FCAImmP7964510        FALSE Mural cell           \n",
       "TTTGTCAGTGCGAAAC-1-FCAImmP7964510        FALSE Mural cell           \n",
       "TTTGTCATCCATGAGT-1-FCAImmP7964510        FALSE Erythroid            \n",
       "TTTGTCATCGCAAGCC-1-FCAImmP7964510        FALSE Lymphatic endothelium\n",
       "TTTGTCATCTGCTTGC-1-FCAImmP7964510        FALSE Erythroid            \n",
       "                                   X_scvi_batch X_scvi_labels\n",
       "                                      <integer>     <integer>\n",
       "AAACCTGGTCAGTGGA-1-4834STDY7002879            0             0\n",
       "AAAGATGGTCGATTGT-1-4834STDY7002879            0             0\n",
       "AAAGCAAAGATGTGGC-1-4834STDY7002879            0             0\n",
       "AAAGTAGCAGATCGGA-1-4834STDY7002879            0             0\n",
       "AAAGTAGTCCGCATCT-1-4834STDY7002879            0             0\n",
       "...                                         ...           ...\n",
       "TTTGTCAAGTGAACGC-1-FCAImmP7964510            14             0\n",
       "TTTGTCAGTGCGAAAC-1-FCAImmP7964510            14             0\n",
       "TTTGTCATCCATGAGT-1-FCAImmP7964510            14             0\n",
       "TTTGTCATCGCAAGCC-1-FCAImmP7964510            14             0\n",
       "TTTGTCATCTGCTTGC-1-FCAImmP7964510            14             0"
      ]
     },
     "metadata": {},
     "output_type": "display_data"
    }
   ],
   "source": [
    "#access metadata in r onject or could also use colData(sce) if using SingleCellExperiment object\n",
    "#this gives a df (rows,columns)\n",
    "rdata@colData"
   ]
  },
  {
   "cell_type": "code",
   "execution_count": 6,
   "id": "detailed-alfred",
   "metadata": {
    "collapsed": true,
    "jupyter": {
     "outputs_hidden": true
    },
    "tags": []
   },
   "outputs": [
    {
     "data": {
      "text/plain": [
       "DataFrame with 6 rows and 29 columns\n",
       "                                         sanger_id chemistry    donor   gender\n",
       "                                          <factor>  <factor> <factor> <factor>\n",
       "AAACCTGGTCAGTGGA-1-4834STDY7002879 4834STDY7002879    SC3Pv2      F16     male\n",
       "AAAGATGGTCGATTGT-1-4834STDY7002879 4834STDY7002879    SC3Pv2      F16     male\n",
       "AAAGCAAAGATGTGGC-1-4834STDY7002879 4834STDY7002879    SC3Pv2      F16     male\n",
       "AAAGTAGCAGATCGGA-1-4834STDY7002879 4834STDY7002879    SC3Pv2      F16     male\n",
       "AAAGTAGTCCGCATCT-1-4834STDY7002879 4834STDY7002879    SC3Pv2      F16     male\n",
       "AAATGCCAGCTGCCCA-1-4834STDY7002879 4834STDY7002879    SC3Pv2      F16     male\n",
       "                                         pcw  sorting          sample\n",
       "                                   <numeric> <factor>        <factor>\n",
       "AAACCTGGTCAGTGGA-1-4834STDY7002879         8    CD45P F16_male_8+1PCW\n",
       "AAAGATGGTCGATTGT-1-4834STDY7002879         8    CD45P F16_male_8+1PCW\n",
       "AAAGCAAAGATGTGGC-1-4834STDY7002879         8    CD45P F16_male_8+1PCW\n",
       "AAAGTAGCAGATCGGA-1-4834STDY7002879         8    CD45P F16_male_8+1PCW\n",
       "AAAGTAGTCCGCATCT-1-4834STDY7002879         8    CD45P F16_male_8+1PCW\n",
       "AAATGCCAGCTGCCCA-1-4834STDY7002879         8    CD45P F16_male_8+1PCW\n",
       "                                   chemistry_sorting cell_caller scrublet_score\n",
       "                                            <factor>    <factor>      <numeric>\n",
       "AAACCTGGTCAGTGGA-1-4834STDY7002879      SC3Pv2_CD45P        Both       0.225806\n",
       "AAAGATGGTCGATTGT-1-4834STDY7002879      SC3Pv2_CD45P        Both       0.149606\n",
       "AAAGCAAAGATGTGGC-1-4834STDY7002879      SC3Pv2_CD45P        Both       0.201970\n",
       "AAAGTAGCAGATCGGA-1-4834STDY7002879      SC3Pv2_CD45P        Both       0.164557\n",
       "AAAGTAGTCCGCATCT-1-4834STDY7002879      SC3Pv2_CD45P        Both       0.181818\n",
       "AAATGCCAGCTGCCCA-1-4834STDY7002879      SC3Pv2_CD45P        Both       0.254438\n",
       "                                   cluster_scrublet_score doublet_pval\n",
       "                                                <numeric>    <numeric>\n",
       "AAACCTGGTCAGTGGA-1-4834STDY7002879               0.157082     0.500000\n",
       "AAAGATGGTCGATTGT-1-4834STDY7002879               0.157082     0.500000\n",
       "AAAGCAAAGATGTGGC-1-4834STDY7002879               0.225806     0.150885\n",
       "AAAGTAGCAGATCGGA-1-4834STDY7002879               0.164557     0.455284\n",
       "AAAGTAGTCCGCATCT-1-4834STDY7002879               0.201970     0.250000\n",
       "AAATGCCAGCTGCCCA-1-4834STDY7002879               0.213888     0.196672\n",
       "                                   bh_doublet_pval  n_counts   n_genes\n",
       "                                         <numeric> <numeric> <numeric>\n",
       "AAACCTGGTCAGTGGA-1-4834STDY7002879        0.907861      5917      1776\n",
       "AAAGATGGTCGATTGT-1-4834STDY7002879        0.907861     10261      2750\n",
       "AAAGCAAAGATGTGGC-1-4834STDY7002879        0.882352      7749      2308\n",
       "AAAGTAGCAGATCGGA-1-4834STDY7002879        0.907861     14791      3099\n",
       "AAAGTAGTCCGCATCT-1-4834STDY7002879        0.882352      7434      2283\n",
       "AAATGCCAGCTGCCCA-1-4834STDY7002879        0.882352      5157      1899\n",
       "                                   percent_mito percent_ribo percent_hb\n",
       "                                      <numeric>    <numeric>  <numeric>\n",
       "AAACCTGGTCAGTGGA-1-4834STDY7002879      6.25317      26.2295  0.1352036\n",
       "AAAGATGGTCGATTGT-1-4834STDY7002879      3.08937      24.8806  0.1559302\n",
       "AAAGCAAAGATGTGGC-1-4834STDY7002879      1.26468      22.5836  0.1290489\n",
       "AAAGTAGCAGATCGGA-1-4834STDY7002879      1.74430      34.5818  0.1081739\n",
       "AAAGTAGTCCGCATCT-1-4834STDY7002879      4.14313      22.1146  0.0807102\n",
       "AAATGCCAGCTGCCCA-1-4834STDY7002879      3.43223      15.4741  0.0969556\n",
       "                                   independent_annotation_refined\n",
       "                                                      <character>\n",
       "AAACCTGGTCAGTGGA-1-4834STDY7002879             LYVE1++ macrophage\n",
       "AAAGATGGTCGATTGT-1-4834STDY7002879         Monocyte (activated/..\n",
       "AAAGCAAAGATGTGGC-1-4834STDY7002879             LYVE1++ macrophage\n",
       "AAAGTAGCAGATCGGA-1-4834STDY7002879         Eo/baso/mast cell pr..\n",
       "AAAGTAGTCCGCATCT-1-4834STDY7002879             LYVE1++ macrophage\n",
       "AAATGCCAGCTGCCCA-1-4834STDY7002879             LYVE1++ macrophage\n",
       "                                   independent_annotation_broad1\n",
       "                                                        <factor>\n",
       "AAACCTGGTCAGTGGA-1-4834STDY7002879        Macrophage            \n",
       "AAAGATGGTCGATTGT-1-4834STDY7002879        Monocyte              \n",
       "AAAGCAAAGATGTGGC-1-4834STDY7002879        Macrophage            \n",
       "AAAGTAGCAGATCGGA-1-4834STDY7002879        Granulocyte progenitor\n",
       "AAAGTAGTCCGCATCT-1-4834STDY7002879        Macrophage            \n",
       "AAATGCCAGCTGCCCA-1-4834STDY7002879        Macrophage            \n",
       "                                   independent_annotation_broad2\n",
       "                                                        <factor>\n",
       "AAACCTGGTCAGTGGA-1-4834STDY7002879        Macrophage            \n",
       "AAAGATGGTCGATTGT-1-4834STDY7002879        Monocyte              \n",
       "AAAGCAAAGATGTGGC-1-4834STDY7002879        Macrophage            \n",
       "AAAGTAGCAGATCGGA-1-4834STDY7002879        Granulocyte progenitor\n",
       "AAAGTAGTCCGCATCT-1-4834STDY7002879        Macrophage            \n",
       "AAATGCCAGCTGCCCA-1-4834STDY7002879        Macrophage            \n",
       "                                   independent_annotation_broad3\n",
       "                                                        <factor>\n",
       "AAACCTGGTCAGTGGA-1-4834STDY7002879        Macrophage            \n",
       "AAAGATGGTCGATTGT-1-4834STDY7002879        Monocyte              \n",
       "AAAGCAAAGATGTGGC-1-4834STDY7002879        Macrophage            \n",
       "AAAGTAGCAGATCGGA-1-4834STDY7002879        Granulocyte progenitor\n",
       "AAAGTAGTCCGCATCT-1-4834STDY7002879        Macrophage            \n",
       "AAATGCCAGCTGCCCA-1-4834STDY7002879        Macrophage            \n",
       "                                   independent_annotation_broad4\n",
       "                                                        <factor>\n",
       "AAACCTGGTCAGTGGA-1-4834STDY7002879      Antigen Presenting Cells\n",
       "AAAGATGGTCGATTGT-1-4834STDY7002879      Antigen Presenting Cells\n",
       "AAAGCAAAGATGTGGC-1-4834STDY7002879      Antigen Presenting Cells\n",
       "AAAGTAGCAGATCGGA-1-4834STDY7002879      Other blood cells       \n",
       "AAAGTAGTCCGCATCT-1-4834STDY7002879      Antigen Presenting Cells\n",
       "AAATGCCAGCTGCCCA-1-4834STDY7002879      Antigen Presenting Cells\n",
       "                                   independent_annotation_broad5\n",
       "                                                        <factor>\n",
       "AAACCTGGTCAGTGGA-1-4834STDY7002879                        Immune\n",
       "AAAGATGGTCGATTGT-1-4834STDY7002879                        Immune\n",
       "AAAGCAAAGATGTGGC-1-4834STDY7002879                        Immune\n",
       "AAAGTAGCAGATCGGA-1-4834STDY7002879                        Immune\n",
       "AAAGTAGTCCGCATCT-1-4834STDY7002879                        Immune\n",
       "AAATGCCAGCTGCCCA-1-4834STDY7002879                        Immune\n",
       "                                                       joint_annotation\n",
       "                                                               <factor>\n",
       "AAACCTGGTCAGTGGA-1-4834STDY7002879 Macrophage1                         \n",
       "AAAGATGGTCGATTGT-1-4834STDY7002879 Monocyte (activated/differentiating)\n",
       "AAAGCAAAGATGTGGC-1-4834STDY7002879 Macrophage1                         \n",
       "AAAGTAGCAGATCGGA-1-4834STDY7002879 Eo/baso/mast cell progenitor        \n",
       "AAAGTAGTCCGCATCT-1-4834STDY7002879 Macrophage1                         \n",
       "AAATGCCAGCTGCCCA-1-4834STDY7002879 Macrophage1                         \n",
       "                                   is_maternal fig1b_annotation X_scvi_batch\n",
       "                                     <logical>         <factor>    <integer>\n",
       "AAACCTGGTCAGTGGA-1-4834STDY7002879       FALSE Macrophage                  0\n",
       "AAAGATGGTCGATTGT-1-4834STDY7002879       FALSE Monocyte                    0\n",
       "AAAGCAAAGATGTGGC-1-4834STDY7002879       FALSE Macrophage                  0\n",
       "AAAGTAGCAGATCGGA-1-4834STDY7002879       FALSE Haem progenitors            0\n",
       "AAAGTAGTCCGCATCT-1-4834STDY7002879       FALSE Macrophage                  0\n",
       "AAATGCCAGCTGCCCA-1-4834STDY7002879       FALSE Macrophage                  0\n",
       "                                   X_scvi_labels\n",
       "                                       <integer>\n",
       "AAACCTGGTCAGTGGA-1-4834STDY7002879             0\n",
       "AAAGATGGTCGATTGT-1-4834STDY7002879             0\n",
       "AAAGCAAAGATGTGGC-1-4834STDY7002879             0\n",
       "AAAGTAGCAGATCGGA-1-4834STDY7002879             0\n",
       "AAAGTAGTCCGCATCT-1-4834STDY7002879             0\n",
       "AAATGCCAGCTGCCCA-1-4834STDY7002879             0"
      ]
     },
     "metadata": {},
     "output_type": "display_data"
    }
   ],
   "source": [
    "#same as above instead of passing it to df, top 6 rows\n",
    "head(rdata@colData)"
   ]
  },
  {
   "cell_type": "code",
   "execution_count": 8,
   "id": "earned-visiting",
   "metadata": {
    "collapsed": true,
    "jupyter": {
     "outputs_hidden": true
    },
    "tags": []
   },
   "outputs": [
    {
     "data": {
      "text/html": [
       "<table class=\"dataframe\">\n",
       "<caption>A data.frame: 6 × 11</caption>\n",
       "<thead>\n",
       "\t<tr><th></th><th scope=col>X</th><th scope=col>logFC</th><th scope=col>logCPM</th><th scope=col>F</th><th scope=col>PValue</th><th scope=col>FDR</th><th scope=col>Nhood</th><th scope=col>SpatialFDR</th><th scope=col>independent_annotation_refined</th><th scope=col>independent_annotation_refined_fraction</th><th scope=col>nhood_annotation</th></tr>\n",
       "\t<tr><th></th><th scope=col>&lt;int&gt;</th><th scope=col>&lt;dbl&gt;</th><th scope=col>&lt;dbl&gt;</th><th scope=col>&lt;dbl&gt;</th><th scope=col>&lt;dbl&gt;</th><th scope=col>&lt;dbl&gt;</th><th scope=col>&lt;int&gt;</th><th scope=col>&lt;dbl&gt;</th><th scope=col>&lt;chr&gt;</th><th scope=col>&lt;dbl&gt;</th><th scope=col>&lt;chr&gt;</th></tr>\n",
       "</thead>\n",
       "<tbody>\n",
       "\t<tr><th scope=row>1</th><td>1</td><td>-0.31046510</td><td> 8.877515</td><td> 7.624325031</td><td>7.429170e-03</td><td>1.342743e-02</td><td>1</td><td>1.318867e-02</td><td>FRZB+ early fibroblast        </td><td>0.8888889</td><td>FRZB+ early fibroblast        </td></tr>\n",
       "\t<tr><th scope=row>2</th><td>2</td><td> 0.36928187</td><td> 9.072579</td><td>10.303219339</td><td>2.021745e-03</td><td>4.281841e-03</td><td>2</td><td>4.176239e-03</td><td>Capillary/postcapillary venule</td><td>0.7551020</td><td>Capillary/postcapillary venule</td></tr>\n",
       "\t<tr><th scope=row>3</th><td>3</td><td>-0.03736604</td><td> 9.289934</td><td> 0.009506297</td><td>9.226213e-01</td><td>9.465336e-01</td><td>3</td><td>9.460883e-01</td><td>WNT2+ fibroblast              </td><td>1.0000000</td><td>WNT2+ fibroblast              </td></tr>\n",
       "\t<tr><th scope=row>4</th><td>4</td><td> 0.27456933</td><td>10.193661</td><td> 2.875312061</td><td>9.659633e-02</td><td>1.319383e-01</td><td>4</td><td>1.311576e-01</td><td>LYVE1++ macrophage            </td><td>1.0000000</td><td>LYVE1++ macrophage            </td></tr>\n",
       "\t<tr><th scope=row>5</th><td>5</td><td> 0.22625022</td><td> 9.295381</td><td> 2.886573676</td><td>9.596484e-02</td><td>1.312007e-01</td><td>5</td><td>1.304208e-01</td><td>LYVE1++ macrophage            </td><td>0.9750000</td><td>LYVE1++ macrophage            </td></tr>\n",
       "\t<tr><th scope=row>6</th><td>6</td><td> 0.44026466</td><td> 8.752118</td><td>23.610803784</td><td>2.489778e-05</td><td>9.331244e-05</td><td>6</td><td>8.879591e-05</td><td>Pre-dermal condensate         </td><td>1.0000000</td><td>Pre-dermal condensate         </td></tr>\n",
       "</tbody>\n",
       "</table>\n"
      ],
      "text/latex": [
       "A data.frame: 6 × 11\n",
       "\\begin{tabular}{r|lllllllllll}\n",
       "  & X & logFC & logCPM & F & PValue & FDR & Nhood & SpatialFDR & independent\\_annotation\\_refined & independent\\_annotation\\_refined\\_fraction & nhood\\_annotation\\\\\n",
       "  & <int> & <dbl> & <dbl> & <dbl> & <dbl> & <dbl> & <int> & <dbl> & <chr> & <dbl> & <chr>\\\\\n",
       "\\hline\n",
       "\t1 & 1 & -0.31046510 &  8.877515 &  7.624325031 & 7.429170e-03 & 1.342743e-02 & 1 & 1.318867e-02 & FRZB+ early fibroblast         & 0.8888889 & FRZB+ early fibroblast        \\\\\n",
       "\t2 & 2 &  0.36928187 &  9.072579 & 10.303219339 & 2.021745e-03 & 4.281841e-03 & 2 & 4.176239e-03 & Capillary/postcapillary venule & 0.7551020 & Capillary/postcapillary venule\\\\\n",
       "\t3 & 3 & -0.03736604 &  9.289934 &  0.009506297 & 9.226213e-01 & 9.465336e-01 & 3 & 9.460883e-01 & WNT2+ fibroblast               & 1.0000000 & WNT2+ fibroblast              \\\\\n",
       "\t4 & 4 &  0.27456933 & 10.193661 &  2.875312061 & 9.659633e-02 & 1.319383e-01 & 4 & 1.311576e-01 & LYVE1++ macrophage             & 1.0000000 & LYVE1++ macrophage            \\\\\n",
       "\t5 & 5 &  0.22625022 &  9.295381 &  2.886573676 & 9.596484e-02 & 1.312007e-01 & 5 & 1.304208e-01 & LYVE1++ macrophage             & 0.9750000 & LYVE1++ macrophage            \\\\\n",
       "\t6 & 6 &  0.44026466 &  8.752118 & 23.610803784 & 2.489778e-05 & 9.331244e-05 & 6 & 8.879591e-05 & Pre-dermal condensate          & 1.0000000 & Pre-dermal condensate         \\\\\n",
       "\\end{tabular}\n"
      ],
      "text/markdown": [
       "\n",
       "A data.frame: 6 × 11\n",
       "\n",
       "| <!--/--> | X &lt;int&gt; | logFC &lt;dbl&gt; | logCPM &lt;dbl&gt; | F &lt;dbl&gt; | PValue &lt;dbl&gt; | FDR &lt;dbl&gt; | Nhood &lt;int&gt; | SpatialFDR &lt;dbl&gt; | independent_annotation_refined &lt;chr&gt; | independent_annotation_refined_fraction &lt;dbl&gt; | nhood_annotation &lt;chr&gt; |\n",
       "|---|---|---|---|---|---|---|---|---|---|---|---|\n",
       "| 1 | 1 | -0.31046510 |  8.877515 |  7.624325031 | 7.429170e-03 | 1.342743e-02 | 1 | 1.318867e-02 | FRZB+ early fibroblast         | 0.8888889 | FRZB+ early fibroblast         |\n",
       "| 2 | 2 |  0.36928187 |  9.072579 | 10.303219339 | 2.021745e-03 | 4.281841e-03 | 2 | 4.176239e-03 | Capillary/postcapillary venule | 0.7551020 | Capillary/postcapillary venule |\n",
       "| 3 | 3 | -0.03736604 |  9.289934 |  0.009506297 | 9.226213e-01 | 9.465336e-01 | 3 | 9.460883e-01 | WNT2+ fibroblast               | 1.0000000 | WNT2+ fibroblast               |\n",
       "| 4 | 4 |  0.27456933 | 10.193661 |  2.875312061 | 9.659633e-02 | 1.319383e-01 | 4 | 1.311576e-01 | LYVE1++ macrophage             | 1.0000000 | LYVE1++ macrophage             |\n",
       "| 5 | 5 |  0.22625022 |  9.295381 |  2.886573676 | 9.596484e-02 | 1.312007e-01 | 5 | 1.304208e-01 | LYVE1++ macrophage             | 0.9750000 | LYVE1++ macrophage             |\n",
       "| 6 | 6 |  0.44026466 |  8.752118 | 23.610803784 | 2.489778e-05 | 9.331244e-05 | 6 | 8.879591e-05 | Pre-dermal condensate          | 1.0000000 | Pre-dermal condensate          |\n",
       "\n"
      ],
      "text/plain": [
       "  X logFC       logCPM    F            PValue       FDR          Nhood\n",
       "1 1 -0.31046510  8.877515  7.624325031 7.429170e-03 1.342743e-02 1    \n",
       "2 2  0.36928187  9.072579 10.303219339 2.021745e-03 4.281841e-03 2    \n",
       "3 3 -0.03736604  9.289934  0.009506297 9.226213e-01 9.465336e-01 3    \n",
       "4 4  0.27456933 10.193661  2.875312061 9.659633e-02 1.319383e-01 4    \n",
       "5 5  0.22625022  9.295381  2.886573676 9.596484e-02 1.312007e-01 5    \n",
       "6 6  0.44026466  8.752118 23.610803784 2.489778e-05 9.331244e-05 6    \n",
       "  SpatialFDR   independent_annotation_refined\n",
       "1 1.318867e-02 FRZB+ early fibroblast        \n",
       "2 4.176239e-03 Capillary/postcapillary venule\n",
       "3 9.460883e-01 WNT2+ fibroblast              \n",
       "4 1.311576e-01 LYVE1++ macrophage            \n",
       "5 1.304208e-01 LYVE1++ macrophage            \n",
       "6 8.879591e-05 Pre-dermal condensate         \n",
       "  independent_annotation_refined_fraction nhood_annotation              \n",
       "1 0.8888889                               FRZB+ early fibroblast        \n",
       "2 0.7551020                               Capillary/postcapillary venule\n",
       "3 1.0000000                               WNT2+ fibroblast              \n",
       "4 1.0000000                               LYVE1++ macrophage            \n",
       "5 0.9750000                               LYVE1++ macrophage            \n",
       "6 1.0000000                               Pre-dermal condensate         "
      ]
     },
     "metadata": {},
     "output_type": "display_data"
    }
   ],
   "source": [
    "#import the results(da_results) output from milo\n",
    "results_refined <- read.csv(file = \"/home/jovyan/projects/skin/fetal_skin/csv files/milo_refined_independent.csv\")\n",
    "head(results_refined)"
   ]
  },
  {
   "cell_type": "code",
   "execution_count": 9,
   "id": "enhanced-springer",
   "metadata": {
    "collapsed": true,
    "jupyter": {
     "outputs_hidden": true
    },
    "tags": []
   },
   "outputs": [
    {
     "data": {
      "text/html": [
       "<table class=\"dataframe\">\n",
       "<caption>A data.frame: 8605 × 11</caption>\n",
       "<thead>\n",
       "\t<tr><th scope=col>X</th><th scope=col>logFC</th><th scope=col>logCPM</th><th scope=col>F</th><th scope=col>PValue</th><th scope=col>FDR</th><th scope=col>Nhood</th><th scope=col>SpatialFDR</th><th scope=col>independent_annotation_refined</th><th scope=col>independent_annotation_refined_fraction</th><th scope=col>nhood_annotation</th></tr>\n",
       "\t<tr><th scope=col>&lt;int&gt;</th><th scope=col>&lt;dbl&gt;</th><th scope=col>&lt;dbl&gt;</th><th scope=col>&lt;dbl&gt;</th><th scope=col>&lt;dbl&gt;</th><th scope=col>&lt;dbl&gt;</th><th scope=col>&lt;int&gt;</th><th scope=col>&lt;dbl&gt;</th><th scope=col>&lt;chr&gt;</th><th scope=col>&lt;dbl&gt;</th><th scope=col>&lt;chr&gt;</th></tr>\n",
       "</thead>\n",
       "<tbody>\n",
       "\t<tr><td> 1</td><td>-0.31046510</td><td> 8.877515</td><td>7.624325e+00</td><td>7.429170e-03</td><td>1.342743e-02</td><td> 1</td><td>1.318867e-02</td><td>FRZB+ early fibroblast        </td><td>0.8888889</td><td>FRZB+ early fibroblast        </td></tr>\n",
       "\t<tr><td> 2</td><td> 0.36928187</td><td> 9.072579</td><td>1.030322e+01</td><td>2.021745e-03</td><td>4.281841e-03</td><td> 2</td><td>4.176239e-03</td><td>Capillary/postcapillary venule</td><td>0.7551020</td><td>Capillary/postcapillary venule</td></tr>\n",
       "\t<tr><td> 3</td><td>-0.03736604</td><td> 9.289934</td><td>9.506297e-03</td><td>9.226213e-01</td><td>9.465336e-01</td><td> 3</td><td>9.460883e-01</td><td>WNT2+ fibroblast              </td><td>1.0000000</td><td>WNT2+ fibroblast              </td></tr>\n",
       "\t<tr><td> 4</td><td> 0.27456933</td><td>10.193661</td><td>2.875312e+00</td><td>9.659633e-02</td><td>1.319383e-01</td><td> 4</td><td>1.311576e-01</td><td>LYVE1++ macrophage            </td><td>1.0000000</td><td>LYVE1++ macrophage            </td></tr>\n",
       "\t<tr><td> 5</td><td> 0.22625022</td><td> 9.295381</td><td>2.886574e+00</td><td>9.596484e-02</td><td>1.312007e-01</td><td> 5</td><td>1.304208e-01</td><td>LYVE1++ macrophage            </td><td>0.9750000</td><td>LYVE1++ macrophage            </td></tr>\n",
       "\t<tr><td> 6</td><td> 0.44026466</td><td> 8.752118</td><td>2.361080e+01</td><td>2.489778e-05</td><td>9.331244e-05</td><td> 6</td><td>8.879591e-05</td><td>Pre-dermal condensate         </td><td>1.0000000</td><td>Pre-dermal condensate         </td></tr>\n",
       "\t<tr><td> 7</td><td>-0.18768244</td><td> 9.083060</td><td>2.715848e+00</td><td>1.060596e-01</td><td>1.434973e-01</td><td> 7</td><td>1.427321e-01</td><td>NK cell                       </td><td>1.0000000</td><td>NK cell                       </td></tr>\n",
       "\t<tr><td> 8</td><td> 0.17804990</td><td> 8.718636</td><td>4.257297e+00</td><td>4.292842e-02</td><td>6.409839e-02</td><td> 8</td><td>6.350475e-02</td><td>Pre-dermal condensate         </td><td>0.4375000</td><td>Mixed                         </td></tr>\n",
       "\t<tr><td> 9</td><td> 0.47156604</td><td> 9.082989</td><td>1.406187e+01</td><td>4.865504e-04</td><td>1.222057e-03</td><td> 9</td><td>1.182650e-03</td><td>PEAR1+ fibroblast             </td><td>0.7804878</td><td>PEAR1+ fibroblast             </td></tr>\n",
       "\t<tr><td>10</td><td>-0.62018498</td><td> 9.136850</td><td>3.512294e+01</td><td>7.168815e-07</td><td>1.364771e-05</td><td>10</td><td>1.319449e-05</td><td>HOXC5+ early fibroblast       </td><td>1.0000000</td><td>HOXC5+ early fibroblast       </td></tr>\n",
       "\t<tr><td>11</td><td>-0.23062581</td><td> 8.788474</td><td>3.906372e+00</td><td>5.401795e-02</td><td>7.868892e-02</td><td>11</td><td>7.803543e-02</td><td>Pre-dermal condensate         </td><td>0.6500000</td><td>Mixed                         </td></tr>\n",
       "\t<tr><td>12</td><td> 0.33175797</td><td> 8.962471</td><td>7.999960e+00</td><td>6.794200e-03</td><td>1.246303e-02</td><td>12</td><td>1.222645e-02</td><td>Pericytes                     </td><td>0.9756098</td><td>Pericytes                     </td></tr>\n",
       "\t<tr><td>13</td><td> 0.36091095</td><td> 9.106006</td><td>1.041734e+01</td><td>2.271501e-03</td><td>4.741938e-03</td><td>13</td><td>4.625475e-03</td><td>Mast cell (medium)            </td><td>0.6000000</td><td>Mixed                         </td></tr>\n",
       "\t<tr><td>14</td><td> 0.11649249</td><td> 8.813529</td><td>8.898159e-01</td><td>3.809910e-01</td><td>4.517607e-01</td><td>14</td><td>4.510670e-01</td><td>Myofibroblasts                </td><td>0.8148148</td><td>Myofibroblasts                </td></tr>\n",
       "\t<tr><td>15</td><td>-0.00857502</td><td> 8.969524</td><td>8.899807e-04</td><td>9.762896e-01</td><td>9.839849e-01</td><td>15</td><td>9.837023e-01</td><td>Myofibroblasts                </td><td>1.0000000</td><td>Myofibroblasts                </td></tr>\n",
       "\t<tr><td>16</td><td>-0.50934480</td><td> 8.866012</td><td>2.582780e+01</td><td>9.235520e-06</td><td>4.543174e-05</td><td>16</td><td>4.293296e-05</td><td>HOXC5+ early fibroblast       </td><td>1.0000000</td><td>HOXC5+ early fibroblast       </td></tr>\n",
       "\t<tr><td>17</td><td> 0.50645133</td><td> 8.817661</td><td>3.111487e+01</td><td>1.113306e-06</td><td>1.744990e-05</td><td>17</td><td>1.682508e-05</td><td>Adipocytes                    </td><td>0.7916667</td><td>Adipocytes                    </td></tr>\n",
       "\t<tr><td>18</td><td> 0.41170940</td><td> 9.083662</td><td>1.294705e+01</td><td>5.998027e-04</td><td>1.470038e-03</td><td>18</td><td>1.424179e-03</td><td>LE                            </td><td>1.0000000</td><td>LE                            </td></tr>\n",
       "\t<tr><td>19</td><td> 0.33470039</td><td> 8.816370</td><td>1.141145e+01</td><td>1.452896e-03</td><td>3.203220e-03</td><td>19</td><td>3.119938e-03</td><td>Pericytes                     </td><td>0.9722222</td><td>Pericytes                     </td></tr>\n",
       "\t<tr><td>20</td><td> 0.18538951</td><td> 9.041889</td><td>2.712588e+00</td><td>1.042140e-01</td><td>1.413781e-01</td><td>20</td><td>1.405770e-01</td><td>WNT2+ fibroblast              </td><td>0.6136364</td><td>Mixed                         </td></tr>\n",
       "\t<tr><td>21</td><td> 0.41280119</td><td> 9.148776</td><td>1.302251e+01</td><td>7.458101e-04</td><td>1.781209e-03</td><td>21</td><td>1.728088e-03</td><td>LYVE1++ macrophage            </td><td>0.5000000</td><td>Mixed                         </td></tr>\n",
       "\t<tr><td>22</td><td> 0.32910463</td><td> 8.791517</td><td>1.124769e+01</td><td>1.572238e-03</td><td>3.427695e-03</td><td>22</td><td>3.340692e-03</td><td>WNT2+ fibroblast              </td><td>0.5238095</td><td>Mixed                         </td></tr>\n",
       "\t<tr><td>23</td><td>-0.45771026</td><td> 8.962567</td><td>1.280847e+01</td><td>6.485314e-04</td><td>1.575109e-03</td><td>23</td><td>1.526732e-03</td><td>WNT2+ fibroblast              </td><td>1.0000000</td><td>WNT2+ fibroblast              </td></tr>\n",
       "\t<tr><td>24</td><td> 0.06562220</td><td> 9.535982</td><td>2.146988e-01</td><td>6.452585e-01</td><td>7.140496e-01</td><td>24</td><td>7.143830e-01</td><td>Monocyte                      </td><td>0.5245902</td><td>Mixed                         </td></tr>\n",
       "\t<tr><td>25</td><td> 0.19314543</td><td> 9.021248</td><td>2.544671e+00</td><td>1.174036e-01</td><td>1.570919e-01</td><td>25</td><td>1.562977e-01</td><td>NK cell                       </td><td>0.9473684</td><td>NK cell                       </td></tr>\n",
       "\t<tr><td>26</td><td> 0.27159152</td><td> 9.247961</td><td>3.001320e+00</td><td>8.780813e-02</td><td>1.212045e-01</td><td>26</td><td>1.204342e-01</td><td>LYVE1++ macrophage            </td><td>1.0000000</td><td>LYVE1++ macrophage            </td></tr>\n",
       "\t<tr><td>27</td><td>-0.27176621</td><td> 8.769037</td><td>6.519439e+00</td><td>1.399258e-02</td><td>2.370667e-02</td><td>27</td><td>2.337454e-02</td><td>Pre-dermal condensate         </td><td>0.5294118</td><td>Mixed                         </td></tr>\n",
       "\t<tr><td>28</td><td>-0.02584221</td><td> 9.328765</td><td>4.285190e-02</td><td>8.369031e-01</td><td>8.786666e-01</td><td>28</td><td>8.781646e-01</td><td>LYVE1++ macrophage            </td><td>1.0000000</td><td>LYVE1++ macrophage            </td></tr>\n",
       "\t<tr><td>29</td><td> 0.49091425</td><td> 9.197817</td><td>1.903725e+01</td><td>6.977464e-05</td><td>2.278599e-04</td><td>29</td><td>2.182255e-04</td><td>NK cell                       </td><td>1.0000000</td><td>NK cell                       </td></tr>\n",
       "\t<tr><td>30</td><td>-0.45756230</td><td> 8.942172</td><td>1.158602e+01</td><td>1.127760e-03</td><td>2.552439e-03</td><td>30</td><td>2.482010e-03</td><td>WNT2+ fibroblast              </td><td>1.0000000</td><td>WNT2+ fibroblast              </td></tr>\n",
       "\t<tr><td>⋮</td><td>⋮</td><td>⋮</td><td>⋮</td><td>⋮</td><td>⋮</td><td>⋮</td><td>⋮</td><td>⋮</td><td>⋮</td><td>⋮</td></tr>\n",
       "\t<tr><td>8576</td><td>-0.530661936</td><td>8.846311</td><td>34.003861840</td><td>3.233516e-07</td><td>8.383465e-06</td><td>8576</td><td>8.168754e-06</td><td>WNT2+ fibroblast         </td><td>0.9166667</td><td>WNT2+ fibroblast       </td></tr>\n",
       "\t<tr><td>8577</td><td>-0.183104000</td><td>8.816673</td><td> 2.046115261</td><td>1.592431e-01</td><td>2.063064e-01</td><td>8577</td><td>2.054178e-01</td><td>Pre-dermal condensate    </td><td>1.0000000</td><td>Pre-dermal condensate  </td></tr>\n",
       "\t<tr><td>8578</td><td> 0.222313090</td><td>9.138230</td><td> 3.559044911</td><td>6.543934e-02</td><td>9.327571e-02</td><td>8578</td><td>9.257540e-02</td><td>MHCII+ macrophage        </td><td>0.5185185</td><td>Mixed                  </td></tr>\n",
       "\t<tr><td>8579</td><td> 0.219020476</td><td>9.484466</td><td> 2.541991228</td><td>1.175919e-01</td><td>1.573194e-01</td><td>8579</td><td>1.565216e-01</td><td>NK cell                  </td><td>0.9782609</td><td>NK cell                </td></tr>\n",
       "\t<tr><td>8580</td><td> 0.278902838</td><td>9.274003</td><td> 4.788613142</td><td>3.367933e-02</td><td>5.156773e-02</td><td>8580</td><td>5.106596e-02</td><td>CD4 T cell               </td><td>0.9487179</td><td>CD4 T cell             </td></tr>\n",
       "\t<tr><td>8581</td><td> 0.359933947</td><td>9.267850</td><td> 9.889442416</td><td>2.469123e-03</td><td>5.101274e-03</td><td>8581</td><td>4.980778e-03</td><td>WNT2+ fibroblast         </td><td>0.9870130</td><td>WNT2+ fibroblast       </td></tr>\n",
       "\t<tr><td>8582</td><td> 0.457792281</td><td>9.031901</td><td>16.157294471</td><td>2.080009e-04</td><td>5.839633e-04</td><td>8582</td><td>5.628577e-04</td><td>Pre-dermal condensate    </td><td>0.9183673</td><td>Pre-dermal condensate  </td></tr>\n",
       "\t<tr><td>8583</td><td> 0.005906878</td><td>8.799092</td><td> 0.003730342</td><td>9.515531e-01</td><td>9.677478e-01</td><td>8583</td><td>9.673817e-01</td><td>Myoblasts                </td><td>1.0000000</td><td>Myoblasts              </td></tr>\n",
       "\t<tr><td>8584</td><td> 0.221235620</td><td>9.703294</td><td> 2.298159870</td><td>1.362582e-01</td><td>1.796662e-01</td><td>8584</td><td>1.788109e-01</td><td>LYVE1++ macrophage       </td><td>1.0000000</td><td>LYVE1++ macrophage     </td></tr>\n",
       "\t<tr><td>8585</td><td>-0.023457495</td><td>9.242952</td><td> 0.034289183</td><td>8.538938e-01</td><td>8.930185e-01</td><td>8585</td><td>8.925331e-01</td><td>MHCII+ macrophage        </td><td>0.7027027</td><td>MHCII+ macrophage      </td></tr>\n",
       "\t<tr><td>8586</td><td> 0.488244039</td><td>9.164347</td><td>16.625509002</td><td>1.754258e-04</td><td>5.063869e-04</td><td>8586</td><td>4.880312e-04</td><td>Monocyte                 </td><td>1.0000000</td><td>Monocyte               </td></tr>\n",
       "\t<tr><td>8587</td><td>-0.209960855</td><td>8.779173</td><td> 3.444820752</td><td>6.784736e-02</td><td>9.642057e-02</td><td>8587</td><td>9.570251e-02</td><td>Pre-dermal condensate    </td><td>0.6500000</td><td>Mixed                  </td></tr>\n",
       "\t<tr><td>8588</td><td> 0.171355752</td><td>8.920621</td><td> 2.228287542</td><td>1.422202e-01</td><td>1.867549e-01</td><td>8588</td><td>1.859008e-01</td><td>CD4 T cell               </td><td>0.8500000</td><td>CD4 T cell             </td></tr>\n",
       "\t<tr><td>8589</td><td> 0.513433090</td><td>8.874419</td><td>38.571591232</td><td>3.516774e-08</td><td>2.446934e-06</td><td>8589</td><td>2.388535e-06</td><td>PLN+ mural cell          </td><td>0.9705882</td><td>PLN+ mural cell        </td></tr>\n",
       "\t<tr><td>8590</td><td> 0.225301662</td><td>9.480179</td><td> 2.539809391</td><td>1.177454e-01</td><td>1.575003e-01</td><td>8590</td><td>1.567009e-01</td><td>LYVE1++ macrophage       </td><td>0.9782609</td><td>LYVE1++ macrophage     </td></tr>\n",
       "\t<tr><td>8591</td><td> 0.274463931</td><td>8.998033</td><td> 6.431614335</td><td>1.455805e-02</td><td>2.454870e-02</td><td>8591</td><td>2.421115e-02</td><td>LYVE1++ macrophage       </td><td>0.8500000</td><td>LYVE1++ macrophage     </td></tr>\n",
       "\t<tr><td>8592</td><td> 0.722528378</td><td>9.230629</td><td>41.335234367</td><td>6.136130e-08</td><td>3.145590e-06</td><td>8592</td><td>3.078972e-06</td><td>Adipocytes               </td><td>1.0000000</td><td>Adipocytes             </td></tr>\n",
       "\t<tr><td>8593</td><td>-0.214990575</td><td>9.001194</td><td> 2.801486897</td><td>1.008537e-01</td><td>1.372740e-01</td><td>8593</td><td>1.364763e-01</td><td>HOXC5+ early fibroblast  </td><td>0.4358974</td><td>Mixed                  </td></tr>\n",
       "\t<tr><td>8594</td><td>-0.538786396</td><td>8.898498</td><td>33.387739490</td><td>2.372562e-06</td><td>2.188199e-05</td><td>8594</td><td>2.041409e-05</td><td>FRZB+ early fibroblast   </td><td>1.0000000</td><td>FRZB+ early fibroblast </td></tr>\n",
       "\t<tr><td>8595</td><td>-0.413930078</td><td>8.729215</td><td>23.881248860</td><td>1.292761e-05</td><td>5.637588e-05</td><td>8595</td><td>5.340311e-05</td><td>HOXC5+ early fibroblast  </td><td>1.0000000</td><td>HOXC5+ early fibroblast</td></tr>\n",
       "\t<tr><td>8596</td><td>-0.163248069</td><td>8.725743</td><td> 3.077866500</td><td>8.384222e-02</td><td>1.163720e-01</td><td>8596</td><td>1.156122e-01</td><td>PID1+ schwann cellls     </td><td>0.4666667</td><td>Mixed                  </td></tr>\n",
       "\t<tr><td>8597</td><td> 0.126425393</td><td>9.295166</td><td> 0.611103467</td><td>4.370985e-01</td><td>5.097211e-01</td><td>8597</td><td>5.092748e-01</td><td>WNT2+ fibroblast         </td><td>1.0000000</td><td>WNT2+ fibroblast       </td></tr>\n",
       "\t<tr><td>8598</td><td>-0.032421669</td><td>8.946621</td><td> 4.986736455</td><td>3.351098e-02</td><td>5.134650e-02</td><td>8598</td><td>5.084870e-02</td><td>Early myocytes           </td><td>1.0000000</td><td>Early myocytes         </td></tr>\n",
       "\t<tr><td>8599</td><td> 0.604810001</td><td>9.449976</td><td>26.922888499</td><td>7.467424e-06</td><td>3.932261e-05</td><td>8599</td><td>3.714939e-05</td><td>CD8 T cell               </td><td>0.9761905</td><td>CD8 T cell             </td></tr>\n",
       "\t<tr><td>8600</td><td> 0.517715289</td><td>8.849209</td><td>37.253896282</td><td>1.049633e-07</td><td>4.467069e-06</td><td>8600</td><td>4.372320e-06</td><td>PEAR1+ fibroblast        </td><td>1.0000000</td><td>PEAR1+ fibroblast      </td></tr>\n",
       "\t<tr><td>8601</td><td> 0.429586649</td><td>8.783239</td><td>26.141969133</td><td>2.802654e-06</td><td>2.310042e-05</td><td>8601</td><td>2.159676e-05</td><td>WNT2+ fibroblast         </td><td>0.9523810</td><td>WNT2+ fibroblast       </td></tr>\n",
       "\t<tr><td>8602</td><td> 0.471407246</td><td>9.235145</td><td>16.370150922</td><td>1.906436e-04</td><td>5.416733e-04</td><td>8602</td><td>5.219472e-04</td><td>NK cell                  </td><td>1.0000000</td><td>NK cell                </td></tr>\n",
       "\t<tr><td>8603</td><td> 0.518100599</td><td>9.084367</td><td>25.128418800</td><td>1.375801e-05</td><td>5.895800e-05</td><td>8603</td><td>5.585896e-05</td><td>Mast cell (most mature)  </td><td>1.0000000</td><td>Mast cell (most mature)</td></tr>\n",
       "\t<tr><td>8604</td><td> 0.178360916</td><td>8.933911</td><td> 2.492925149</td><td>1.209901e-01</td><td>1.614891e-01</td><td>8604</td><td>1.606824e-01</td><td>Pre-dermal condensate    </td><td>0.7777778</td><td>Pre-dermal condensate  </td></tr>\n",
       "\t<tr><td>8605</td><td> 0.039848746</td><td>8.710387</td><td> 0.169569787</td><td>6.823365e-01</td><td>7.473913e-01</td><td>8605</td><td>7.476198e-01</td><td>Myelinating Schwann cells</td><td>0.6250000</td><td>Mixed                  </td></tr>\n",
       "</tbody>\n",
       "</table>\n"
      ],
      "text/latex": [
       "A data.frame: 8605 × 11\n",
       "\\begin{tabular}{lllllllllll}\n",
       " X & logFC & logCPM & F & PValue & FDR & Nhood & SpatialFDR & independent\\_annotation\\_refined & independent\\_annotation\\_refined\\_fraction & nhood\\_annotation\\\\\n",
       " <int> & <dbl> & <dbl> & <dbl> & <dbl> & <dbl> & <int> & <dbl> & <chr> & <dbl> & <chr>\\\\\n",
       "\\hline\n",
       "\t  1 & -0.31046510 &  8.877515 & 7.624325e+00 & 7.429170e-03 & 1.342743e-02 &  1 & 1.318867e-02 & FRZB+ early fibroblast         & 0.8888889 & FRZB+ early fibroblast        \\\\\n",
       "\t  2 &  0.36928187 &  9.072579 & 1.030322e+01 & 2.021745e-03 & 4.281841e-03 &  2 & 4.176239e-03 & Capillary/postcapillary venule & 0.7551020 & Capillary/postcapillary venule\\\\\n",
       "\t  3 & -0.03736604 &  9.289934 & 9.506297e-03 & 9.226213e-01 & 9.465336e-01 &  3 & 9.460883e-01 & WNT2+ fibroblast               & 1.0000000 & WNT2+ fibroblast              \\\\\n",
       "\t  4 &  0.27456933 & 10.193661 & 2.875312e+00 & 9.659633e-02 & 1.319383e-01 &  4 & 1.311576e-01 & LYVE1++ macrophage             & 1.0000000 & LYVE1++ macrophage            \\\\\n",
       "\t  5 &  0.22625022 &  9.295381 & 2.886574e+00 & 9.596484e-02 & 1.312007e-01 &  5 & 1.304208e-01 & LYVE1++ macrophage             & 0.9750000 & LYVE1++ macrophage            \\\\\n",
       "\t  6 &  0.44026466 &  8.752118 & 2.361080e+01 & 2.489778e-05 & 9.331244e-05 &  6 & 8.879591e-05 & Pre-dermal condensate          & 1.0000000 & Pre-dermal condensate         \\\\\n",
       "\t  7 & -0.18768244 &  9.083060 & 2.715848e+00 & 1.060596e-01 & 1.434973e-01 &  7 & 1.427321e-01 & NK cell                        & 1.0000000 & NK cell                       \\\\\n",
       "\t  8 &  0.17804990 &  8.718636 & 4.257297e+00 & 4.292842e-02 & 6.409839e-02 &  8 & 6.350475e-02 & Pre-dermal condensate          & 0.4375000 & Mixed                         \\\\\n",
       "\t  9 &  0.47156604 &  9.082989 & 1.406187e+01 & 4.865504e-04 & 1.222057e-03 &  9 & 1.182650e-03 & PEAR1+ fibroblast              & 0.7804878 & PEAR1+ fibroblast             \\\\\n",
       "\t 10 & -0.62018498 &  9.136850 & 3.512294e+01 & 7.168815e-07 & 1.364771e-05 & 10 & 1.319449e-05 & HOXC5+ early fibroblast        & 1.0000000 & HOXC5+ early fibroblast       \\\\\n",
       "\t 11 & -0.23062581 &  8.788474 & 3.906372e+00 & 5.401795e-02 & 7.868892e-02 & 11 & 7.803543e-02 & Pre-dermal condensate          & 0.6500000 & Mixed                         \\\\\n",
       "\t 12 &  0.33175797 &  8.962471 & 7.999960e+00 & 6.794200e-03 & 1.246303e-02 & 12 & 1.222645e-02 & Pericytes                      & 0.9756098 & Pericytes                     \\\\\n",
       "\t 13 &  0.36091095 &  9.106006 & 1.041734e+01 & 2.271501e-03 & 4.741938e-03 & 13 & 4.625475e-03 & Mast cell (medium)             & 0.6000000 & Mixed                         \\\\\n",
       "\t 14 &  0.11649249 &  8.813529 & 8.898159e-01 & 3.809910e-01 & 4.517607e-01 & 14 & 4.510670e-01 & Myofibroblasts                 & 0.8148148 & Myofibroblasts                \\\\\n",
       "\t 15 & -0.00857502 &  8.969524 & 8.899807e-04 & 9.762896e-01 & 9.839849e-01 & 15 & 9.837023e-01 & Myofibroblasts                 & 1.0000000 & Myofibroblasts                \\\\\n",
       "\t 16 & -0.50934480 &  8.866012 & 2.582780e+01 & 9.235520e-06 & 4.543174e-05 & 16 & 4.293296e-05 & HOXC5+ early fibroblast        & 1.0000000 & HOXC5+ early fibroblast       \\\\\n",
       "\t 17 &  0.50645133 &  8.817661 & 3.111487e+01 & 1.113306e-06 & 1.744990e-05 & 17 & 1.682508e-05 & Adipocytes                     & 0.7916667 & Adipocytes                    \\\\\n",
       "\t 18 &  0.41170940 &  9.083662 & 1.294705e+01 & 5.998027e-04 & 1.470038e-03 & 18 & 1.424179e-03 & LE                             & 1.0000000 & LE                            \\\\\n",
       "\t 19 &  0.33470039 &  8.816370 & 1.141145e+01 & 1.452896e-03 & 3.203220e-03 & 19 & 3.119938e-03 & Pericytes                      & 0.9722222 & Pericytes                     \\\\\n",
       "\t 20 &  0.18538951 &  9.041889 & 2.712588e+00 & 1.042140e-01 & 1.413781e-01 & 20 & 1.405770e-01 & WNT2+ fibroblast               & 0.6136364 & Mixed                         \\\\\n",
       "\t 21 &  0.41280119 &  9.148776 & 1.302251e+01 & 7.458101e-04 & 1.781209e-03 & 21 & 1.728088e-03 & LYVE1++ macrophage             & 0.5000000 & Mixed                         \\\\\n",
       "\t 22 &  0.32910463 &  8.791517 & 1.124769e+01 & 1.572238e-03 & 3.427695e-03 & 22 & 3.340692e-03 & WNT2+ fibroblast               & 0.5238095 & Mixed                         \\\\\n",
       "\t 23 & -0.45771026 &  8.962567 & 1.280847e+01 & 6.485314e-04 & 1.575109e-03 & 23 & 1.526732e-03 & WNT2+ fibroblast               & 1.0000000 & WNT2+ fibroblast              \\\\\n",
       "\t 24 &  0.06562220 &  9.535982 & 2.146988e-01 & 6.452585e-01 & 7.140496e-01 & 24 & 7.143830e-01 & Monocyte                       & 0.5245902 & Mixed                         \\\\\n",
       "\t 25 &  0.19314543 &  9.021248 & 2.544671e+00 & 1.174036e-01 & 1.570919e-01 & 25 & 1.562977e-01 & NK cell                        & 0.9473684 & NK cell                       \\\\\n",
       "\t 26 &  0.27159152 &  9.247961 & 3.001320e+00 & 8.780813e-02 & 1.212045e-01 & 26 & 1.204342e-01 & LYVE1++ macrophage             & 1.0000000 & LYVE1++ macrophage            \\\\\n",
       "\t 27 & -0.27176621 &  8.769037 & 6.519439e+00 & 1.399258e-02 & 2.370667e-02 & 27 & 2.337454e-02 & Pre-dermal condensate          & 0.5294118 & Mixed                         \\\\\n",
       "\t 28 & -0.02584221 &  9.328765 & 4.285190e-02 & 8.369031e-01 & 8.786666e-01 & 28 & 8.781646e-01 & LYVE1++ macrophage             & 1.0000000 & LYVE1++ macrophage            \\\\\n",
       "\t 29 &  0.49091425 &  9.197817 & 1.903725e+01 & 6.977464e-05 & 2.278599e-04 & 29 & 2.182255e-04 & NK cell                        & 1.0000000 & NK cell                       \\\\\n",
       "\t 30 & -0.45756230 &  8.942172 & 1.158602e+01 & 1.127760e-03 & 2.552439e-03 & 30 & 2.482010e-03 & WNT2+ fibroblast               & 1.0000000 & WNT2+ fibroblast              \\\\\n",
       "\t ⋮ & ⋮ & ⋮ & ⋮ & ⋮ & ⋮ & ⋮ & ⋮ & ⋮ & ⋮ & ⋮\\\\\n",
       "\t 8576 & -0.530661936 & 8.846311 & 34.003861840 & 3.233516e-07 & 8.383465e-06 & 8576 & 8.168754e-06 & WNT2+ fibroblast          & 0.9166667 & WNT2+ fibroblast       \\\\\n",
       "\t 8577 & -0.183104000 & 8.816673 &  2.046115261 & 1.592431e-01 & 2.063064e-01 & 8577 & 2.054178e-01 & Pre-dermal condensate     & 1.0000000 & Pre-dermal condensate  \\\\\n",
       "\t 8578 &  0.222313090 & 9.138230 &  3.559044911 & 6.543934e-02 & 9.327571e-02 & 8578 & 9.257540e-02 & MHCII+ macrophage         & 0.5185185 & Mixed                  \\\\\n",
       "\t 8579 &  0.219020476 & 9.484466 &  2.541991228 & 1.175919e-01 & 1.573194e-01 & 8579 & 1.565216e-01 & NK cell                   & 0.9782609 & NK cell                \\\\\n",
       "\t 8580 &  0.278902838 & 9.274003 &  4.788613142 & 3.367933e-02 & 5.156773e-02 & 8580 & 5.106596e-02 & CD4 T cell                & 0.9487179 & CD4 T cell             \\\\\n",
       "\t 8581 &  0.359933947 & 9.267850 &  9.889442416 & 2.469123e-03 & 5.101274e-03 & 8581 & 4.980778e-03 & WNT2+ fibroblast          & 0.9870130 & WNT2+ fibroblast       \\\\\n",
       "\t 8582 &  0.457792281 & 9.031901 & 16.157294471 & 2.080009e-04 & 5.839633e-04 & 8582 & 5.628577e-04 & Pre-dermal condensate     & 0.9183673 & Pre-dermal condensate  \\\\\n",
       "\t 8583 &  0.005906878 & 8.799092 &  0.003730342 & 9.515531e-01 & 9.677478e-01 & 8583 & 9.673817e-01 & Myoblasts                 & 1.0000000 & Myoblasts              \\\\\n",
       "\t 8584 &  0.221235620 & 9.703294 &  2.298159870 & 1.362582e-01 & 1.796662e-01 & 8584 & 1.788109e-01 & LYVE1++ macrophage        & 1.0000000 & LYVE1++ macrophage     \\\\\n",
       "\t 8585 & -0.023457495 & 9.242952 &  0.034289183 & 8.538938e-01 & 8.930185e-01 & 8585 & 8.925331e-01 & MHCII+ macrophage         & 0.7027027 & MHCII+ macrophage      \\\\\n",
       "\t 8586 &  0.488244039 & 9.164347 & 16.625509002 & 1.754258e-04 & 5.063869e-04 & 8586 & 4.880312e-04 & Monocyte                  & 1.0000000 & Monocyte               \\\\\n",
       "\t 8587 & -0.209960855 & 8.779173 &  3.444820752 & 6.784736e-02 & 9.642057e-02 & 8587 & 9.570251e-02 & Pre-dermal condensate     & 0.6500000 & Mixed                  \\\\\n",
       "\t 8588 &  0.171355752 & 8.920621 &  2.228287542 & 1.422202e-01 & 1.867549e-01 & 8588 & 1.859008e-01 & CD4 T cell                & 0.8500000 & CD4 T cell             \\\\\n",
       "\t 8589 &  0.513433090 & 8.874419 & 38.571591232 & 3.516774e-08 & 2.446934e-06 & 8589 & 2.388535e-06 & PLN+ mural cell           & 0.9705882 & PLN+ mural cell        \\\\\n",
       "\t 8590 &  0.225301662 & 9.480179 &  2.539809391 & 1.177454e-01 & 1.575003e-01 & 8590 & 1.567009e-01 & LYVE1++ macrophage        & 0.9782609 & LYVE1++ macrophage     \\\\\n",
       "\t 8591 &  0.274463931 & 8.998033 &  6.431614335 & 1.455805e-02 & 2.454870e-02 & 8591 & 2.421115e-02 & LYVE1++ macrophage        & 0.8500000 & LYVE1++ macrophage     \\\\\n",
       "\t 8592 &  0.722528378 & 9.230629 & 41.335234367 & 6.136130e-08 & 3.145590e-06 & 8592 & 3.078972e-06 & Adipocytes                & 1.0000000 & Adipocytes             \\\\\n",
       "\t 8593 & -0.214990575 & 9.001194 &  2.801486897 & 1.008537e-01 & 1.372740e-01 & 8593 & 1.364763e-01 & HOXC5+ early fibroblast   & 0.4358974 & Mixed                  \\\\\n",
       "\t 8594 & -0.538786396 & 8.898498 & 33.387739490 & 2.372562e-06 & 2.188199e-05 & 8594 & 2.041409e-05 & FRZB+ early fibroblast    & 1.0000000 & FRZB+ early fibroblast \\\\\n",
       "\t 8595 & -0.413930078 & 8.729215 & 23.881248860 & 1.292761e-05 & 5.637588e-05 & 8595 & 5.340311e-05 & HOXC5+ early fibroblast   & 1.0000000 & HOXC5+ early fibroblast\\\\\n",
       "\t 8596 & -0.163248069 & 8.725743 &  3.077866500 & 8.384222e-02 & 1.163720e-01 & 8596 & 1.156122e-01 & PID1+ schwann cellls      & 0.4666667 & Mixed                  \\\\\n",
       "\t 8597 &  0.126425393 & 9.295166 &  0.611103467 & 4.370985e-01 & 5.097211e-01 & 8597 & 5.092748e-01 & WNT2+ fibroblast          & 1.0000000 & WNT2+ fibroblast       \\\\\n",
       "\t 8598 & -0.032421669 & 8.946621 &  4.986736455 & 3.351098e-02 & 5.134650e-02 & 8598 & 5.084870e-02 & Early myocytes            & 1.0000000 & Early myocytes         \\\\\n",
       "\t 8599 &  0.604810001 & 9.449976 & 26.922888499 & 7.467424e-06 & 3.932261e-05 & 8599 & 3.714939e-05 & CD8 T cell                & 0.9761905 & CD8 T cell             \\\\\n",
       "\t 8600 &  0.517715289 & 8.849209 & 37.253896282 & 1.049633e-07 & 4.467069e-06 & 8600 & 4.372320e-06 & PEAR1+ fibroblast         & 1.0000000 & PEAR1+ fibroblast      \\\\\n",
       "\t 8601 &  0.429586649 & 8.783239 & 26.141969133 & 2.802654e-06 & 2.310042e-05 & 8601 & 2.159676e-05 & WNT2+ fibroblast          & 0.9523810 & WNT2+ fibroblast       \\\\\n",
       "\t 8602 &  0.471407246 & 9.235145 & 16.370150922 & 1.906436e-04 & 5.416733e-04 & 8602 & 5.219472e-04 & NK cell                   & 1.0000000 & NK cell                \\\\\n",
       "\t 8603 &  0.518100599 & 9.084367 & 25.128418800 & 1.375801e-05 & 5.895800e-05 & 8603 & 5.585896e-05 & Mast cell (most mature)   & 1.0000000 & Mast cell (most mature)\\\\\n",
       "\t 8604 &  0.178360916 & 8.933911 &  2.492925149 & 1.209901e-01 & 1.614891e-01 & 8604 & 1.606824e-01 & Pre-dermal condensate     & 0.7777778 & Pre-dermal condensate  \\\\\n",
       "\t 8605 &  0.039848746 & 8.710387 &  0.169569787 & 6.823365e-01 & 7.473913e-01 & 8605 & 7.476198e-01 & Myelinating Schwann cells & 0.6250000 & Mixed                  \\\\\n",
       "\\end{tabular}\n"
      ],
      "text/markdown": [
       "\n",
       "A data.frame: 8605 × 11\n",
       "\n",
       "| X &lt;int&gt; | logFC &lt;dbl&gt; | logCPM &lt;dbl&gt; | F &lt;dbl&gt; | PValue &lt;dbl&gt; | FDR &lt;dbl&gt; | Nhood &lt;int&gt; | SpatialFDR &lt;dbl&gt; | independent_annotation_refined &lt;chr&gt; | independent_annotation_refined_fraction &lt;dbl&gt; | nhood_annotation &lt;chr&gt; |\n",
       "|---|---|---|---|---|---|---|---|---|---|---|\n",
       "|  1 | -0.31046510 |  8.877515 | 7.624325e+00 | 7.429170e-03 | 1.342743e-02 |  1 | 1.318867e-02 | FRZB+ early fibroblast         | 0.8888889 | FRZB+ early fibroblast         |\n",
       "|  2 |  0.36928187 |  9.072579 | 1.030322e+01 | 2.021745e-03 | 4.281841e-03 |  2 | 4.176239e-03 | Capillary/postcapillary venule | 0.7551020 | Capillary/postcapillary venule |\n",
       "|  3 | -0.03736604 |  9.289934 | 9.506297e-03 | 9.226213e-01 | 9.465336e-01 |  3 | 9.460883e-01 | WNT2+ fibroblast               | 1.0000000 | WNT2+ fibroblast               |\n",
       "|  4 |  0.27456933 | 10.193661 | 2.875312e+00 | 9.659633e-02 | 1.319383e-01 |  4 | 1.311576e-01 | LYVE1++ macrophage             | 1.0000000 | LYVE1++ macrophage             |\n",
       "|  5 |  0.22625022 |  9.295381 | 2.886574e+00 | 9.596484e-02 | 1.312007e-01 |  5 | 1.304208e-01 | LYVE1++ macrophage             | 0.9750000 | LYVE1++ macrophage             |\n",
       "|  6 |  0.44026466 |  8.752118 | 2.361080e+01 | 2.489778e-05 | 9.331244e-05 |  6 | 8.879591e-05 | Pre-dermal condensate          | 1.0000000 | Pre-dermal condensate          |\n",
       "|  7 | -0.18768244 |  9.083060 | 2.715848e+00 | 1.060596e-01 | 1.434973e-01 |  7 | 1.427321e-01 | NK cell                        | 1.0000000 | NK cell                        |\n",
       "|  8 |  0.17804990 |  8.718636 | 4.257297e+00 | 4.292842e-02 | 6.409839e-02 |  8 | 6.350475e-02 | Pre-dermal condensate          | 0.4375000 | Mixed                          |\n",
       "|  9 |  0.47156604 |  9.082989 | 1.406187e+01 | 4.865504e-04 | 1.222057e-03 |  9 | 1.182650e-03 | PEAR1+ fibroblast              | 0.7804878 | PEAR1+ fibroblast              |\n",
       "| 10 | -0.62018498 |  9.136850 | 3.512294e+01 | 7.168815e-07 | 1.364771e-05 | 10 | 1.319449e-05 | HOXC5+ early fibroblast        | 1.0000000 | HOXC5+ early fibroblast        |\n",
       "| 11 | -0.23062581 |  8.788474 | 3.906372e+00 | 5.401795e-02 | 7.868892e-02 | 11 | 7.803543e-02 | Pre-dermal condensate          | 0.6500000 | Mixed                          |\n",
       "| 12 |  0.33175797 |  8.962471 | 7.999960e+00 | 6.794200e-03 | 1.246303e-02 | 12 | 1.222645e-02 | Pericytes                      | 0.9756098 | Pericytes                      |\n",
       "| 13 |  0.36091095 |  9.106006 | 1.041734e+01 | 2.271501e-03 | 4.741938e-03 | 13 | 4.625475e-03 | Mast cell (medium)             | 0.6000000 | Mixed                          |\n",
       "| 14 |  0.11649249 |  8.813529 | 8.898159e-01 | 3.809910e-01 | 4.517607e-01 | 14 | 4.510670e-01 | Myofibroblasts                 | 0.8148148 | Myofibroblasts                 |\n",
       "| 15 | -0.00857502 |  8.969524 | 8.899807e-04 | 9.762896e-01 | 9.839849e-01 | 15 | 9.837023e-01 | Myofibroblasts                 | 1.0000000 | Myofibroblasts                 |\n",
       "| 16 | -0.50934480 |  8.866012 | 2.582780e+01 | 9.235520e-06 | 4.543174e-05 | 16 | 4.293296e-05 | HOXC5+ early fibroblast        | 1.0000000 | HOXC5+ early fibroblast        |\n",
       "| 17 |  0.50645133 |  8.817661 | 3.111487e+01 | 1.113306e-06 | 1.744990e-05 | 17 | 1.682508e-05 | Adipocytes                     | 0.7916667 | Adipocytes                     |\n",
       "| 18 |  0.41170940 |  9.083662 | 1.294705e+01 | 5.998027e-04 | 1.470038e-03 | 18 | 1.424179e-03 | LE                             | 1.0000000 | LE                             |\n",
       "| 19 |  0.33470039 |  8.816370 | 1.141145e+01 | 1.452896e-03 | 3.203220e-03 | 19 | 3.119938e-03 | Pericytes                      | 0.9722222 | Pericytes                      |\n",
       "| 20 |  0.18538951 |  9.041889 | 2.712588e+00 | 1.042140e-01 | 1.413781e-01 | 20 | 1.405770e-01 | WNT2+ fibroblast               | 0.6136364 | Mixed                          |\n",
       "| 21 |  0.41280119 |  9.148776 | 1.302251e+01 | 7.458101e-04 | 1.781209e-03 | 21 | 1.728088e-03 | LYVE1++ macrophage             | 0.5000000 | Mixed                          |\n",
       "| 22 |  0.32910463 |  8.791517 | 1.124769e+01 | 1.572238e-03 | 3.427695e-03 | 22 | 3.340692e-03 | WNT2+ fibroblast               | 0.5238095 | Mixed                          |\n",
       "| 23 | -0.45771026 |  8.962567 | 1.280847e+01 | 6.485314e-04 | 1.575109e-03 | 23 | 1.526732e-03 | WNT2+ fibroblast               | 1.0000000 | WNT2+ fibroblast               |\n",
       "| 24 |  0.06562220 |  9.535982 | 2.146988e-01 | 6.452585e-01 | 7.140496e-01 | 24 | 7.143830e-01 | Monocyte                       | 0.5245902 | Mixed                          |\n",
       "| 25 |  0.19314543 |  9.021248 | 2.544671e+00 | 1.174036e-01 | 1.570919e-01 | 25 | 1.562977e-01 | NK cell                        | 0.9473684 | NK cell                        |\n",
       "| 26 |  0.27159152 |  9.247961 | 3.001320e+00 | 8.780813e-02 | 1.212045e-01 | 26 | 1.204342e-01 | LYVE1++ macrophage             | 1.0000000 | LYVE1++ macrophage             |\n",
       "| 27 | -0.27176621 |  8.769037 | 6.519439e+00 | 1.399258e-02 | 2.370667e-02 | 27 | 2.337454e-02 | Pre-dermal condensate          | 0.5294118 | Mixed                          |\n",
       "| 28 | -0.02584221 |  9.328765 | 4.285190e-02 | 8.369031e-01 | 8.786666e-01 | 28 | 8.781646e-01 | LYVE1++ macrophage             | 1.0000000 | LYVE1++ macrophage             |\n",
       "| 29 |  0.49091425 |  9.197817 | 1.903725e+01 | 6.977464e-05 | 2.278599e-04 | 29 | 2.182255e-04 | NK cell                        | 1.0000000 | NK cell                        |\n",
       "| 30 | -0.45756230 |  8.942172 | 1.158602e+01 | 1.127760e-03 | 2.552439e-03 | 30 | 2.482010e-03 | WNT2+ fibroblast               | 1.0000000 | WNT2+ fibroblast               |\n",
       "| ⋮ | ⋮ | ⋮ | ⋮ | ⋮ | ⋮ | ⋮ | ⋮ | ⋮ | ⋮ | ⋮ |\n",
       "| 8576 | -0.530661936 | 8.846311 | 34.003861840 | 3.233516e-07 | 8.383465e-06 | 8576 | 8.168754e-06 | WNT2+ fibroblast          | 0.9166667 | WNT2+ fibroblast        |\n",
       "| 8577 | -0.183104000 | 8.816673 |  2.046115261 | 1.592431e-01 | 2.063064e-01 | 8577 | 2.054178e-01 | Pre-dermal condensate     | 1.0000000 | Pre-dermal condensate   |\n",
       "| 8578 |  0.222313090 | 9.138230 |  3.559044911 | 6.543934e-02 | 9.327571e-02 | 8578 | 9.257540e-02 | MHCII+ macrophage         | 0.5185185 | Mixed                   |\n",
       "| 8579 |  0.219020476 | 9.484466 |  2.541991228 | 1.175919e-01 | 1.573194e-01 | 8579 | 1.565216e-01 | NK cell                   | 0.9782609 | NK cell                 |\n",
       "| 8580 |  0.278902838 | 9.274003 |  4.788613142 | 3.367933e-02 | 5.156773e-02 | 8580 | 5.106596e-02 | CD4 T cell                | 0.9487179 | CD4 T cell              |\n",
       "| 8581 |  0.359933947 | 9.267850 |  9.889442416 | 2.469123e-03 | 5.101274e-03 | 8581 | 4.980778e-03 | WNT2+ fibroblast          | 0.9870130 | WNT2+ fibroblast        |\n",
       "| 8582 |  0.457792281 | 9.031901 | 16.157294471 | 2.080009e-04 | 5.839633e-04 | 8582 | 5.628577e-04 | Pre-dermal condensate     | 0.9183673 | Pre-dermal condensate   |\n",
       "| 8583 |  0.005906878 | 8.799092 |  0.003730342 | 9.515531e-01 | 9.677478e-01 | 8583 | 9.673817e-01 | Myoblasts                 | 1.0000000 | Myoblasts               |\n",
       "| 8584 |  0.221235620 | 9.703294 |  2.298159870 | 1.362582e-01 | 1.796662e-01 | 8584 | 1.788109e-01 | LYVE1++ macrophage        | 1.0000000 | LYVE1++ macrophage      |\n",
       "| 8585 | -0.023457495 | 9.242952 |  0.034289183 | 8.538938e-01 | 8.930185e-01 | 8585 | 8.925331e-01 | MHCII+ macrophage         | 0.7027027 | MHCII+ macrophage       |\n",
       "| 8586 |  0.488244039 | 9.164347 | 16.625509002 | 1.754258e-04 | 5.063869e-04 | 8586 | 4.880312e-04 | Monocyte                  | 1.0000000 | Monocyte                |\n",
       "| 8587 | -0.209960855 | 8.779173 |  3.444820752 | 6.784736e-02 | 9.642057e-02 | 8587 | 9.570251e-02 | Pre-dermal condensate     | 0.6500000 | Mixed                   |\n",
       "| 8588 |  0.171355752 | 8.920621 |  2.228287542 | 1.422202e-01 | 1.867549e-01 | 8588 | 1.859008e-01 | CD4 T cell                | 0.8500000 | CD4 T cell              |\n",
       "| 8589 |  0.513433090 | 8.874419 | 38.571591232 | 3.516774e-08 | 2.446934e-06 | 8589 | 2.388535e-06 | PLN+ mural cell           | 0.9705882 | PLN+ mural cell         |\n",
       "| 8590 |  0.225301662 | 9.480179 |  2.539809391 | 1.177454e-01 | 1.575003e-01 | 8590 | 1.567009e-01 | LYVE1++ macrophage        | 0.9782609 | LYVE1++ macrophage      |\n",
       "| 8591 |  0.274463931 | 8.998033 |  6.431614335 | 1.455805e-02 | 2.454870e-02 | 8591 | 2.421115e-02 | LYVE1++ macrophage        | 0.8500000 | LYVE1++ macrophage      |\n",
       "| 8592 |  0.722528378 | 9.230629 | 41.335234367 | 6.136130e-08 | 3.145590e-06 | 8592 | 3.078972e-06 | Adipocytes                | 1.0000000 | Adipocytes              |\n",
       "| 8593 | -0.214990575 | 9.001194 |  2.801486897 | 1.008537e-01 | 1.372740e-01 | 8593 | 1.364763e-01 | HOXC5+ early fibroblast   | 0.4358974 | Mixed                   |\n",
       "| 8594 | -0.538786396 | 8.898498 | 33.387739490 | 2.372562e-06 | 2.188199e-05 | 8594 | 2.041409e-05 | FRZB+ early fibroblast    | 1.0000000 | FRZB+ early fibroblast  |\n",
       "| 8595 | -0.413930078 | 8.729215 | 23.881248860 | 1.292761e-05 | 5.637588e-05 | 8595 | 5.340311e-05 | HOXC5+ early fibroblast   | 1.0000000 | HOXC5+ early fibroblast |\n",
       "| 8596 | -0.163248069 | 8.725743 |  3.077866500 | 8.384222e-02 | 1.163720e-01 | 8596 | 1.156122e-01 | PID1+ schwann cellls      | 0.4666667 | Mixed                   |\n",
       "| 8597 |  0.126425393 | 9.295166 |  0.611103467 | 4.370985e-01 | 5.097211e-01 | 8597 | 5.092748e-01 | WNT2+ fibroblast          | 1.0000000 | WNT2+ fibroblast        |\n",
       "| 8598 | -0.032421669 | 8.946621 |  4.986736455 | 3.351098e-02 | 5.134650e-02 | 8598 | 5.084870e-02 | Early myocytes            | 1.0000000 | Early myocytes          |\n",
       "| 8599 |  0.604810001 | 9.449976 | 26.922888499 | 7.467424e-06 | 3.932261e-05 | 8599 | 3.714939e-05 | CD8 T cell                | 0.9761905 | CD8 T cell              |\n",
       "| 8600 |  0.517715289 | 8.849209 | 37.253896282 | 1.049633e-07 | 4.467069e-06 | 8600 | 4.372320e-06 | PEAR1+ fibroblast         | 1.0000000 | PEAR1+ fibroblast       |\n",
       "| 8601 |  0.429586649 | 8.783239 | 26.141969133 | 2.802654e-06 | 2.310042e-05 | 8601 | 2.159676e-05 | WNT2+ fibroblast          | 0.9523810 | WNT2+ fibroblast        |\n",
       "| 8602 |  0.471407246 | 9.235145 | 16.370150922 | 1.906436e-04 | 5.416733e-04 | 8602 | 5.219472e-04 | NK cell                   | 1.0000000 | NK cell                 |\n",
       "| 8603 |  0.518100599 | 9.084367 | 25.128418800 | 1.375801e-05 | 5.895800e-05 | 8603 | 5.585896e-05 | Mast cell (most mature)   | 1.0000000 | Mast cell (most mature) |\n",
       "| 8604 |  0.178360916 | 8.933911 |  2.492925149 | 1.209901e-01 | 1.614891e-01 | 8604 | 1.606824e-01 | Pre-dermal condensate     | 0.7777778 | Pre-dermal condensate   |\n",
       "| 8605 |  0.039848746 | 8.710387 |  0.169569787 | 6.823365e-01 | 7.473913e-01 | 8605 | 7.476198e-01 | Myelinating Schwann cells | 0.6250000 | Mixed                   |\n",
       "\n"
      ],
      "text/plain": [
       "     X    logFC        logCPM    F            PValue       FDR          Nhood\n",
       "1     1   -0.31046510   8.877515 7.624325e+00 7.429170e-03 1.342743e-02  1   \n",
       "2     2    0.36928187   9.072579 1.030322e+01 2.021745e-03 4.281841e-03  2   \n",
       "3     3   -0.03736604   9.289934 9.506297e-03 9.226213e-01 9.465336e-01  3   \n",
       "4     4    0.27456933  10.193661 2.875312e+00 9.659633e-02 1.319383e-01  4   \n",
       "5     5    0.22625022   9.295381 2.886574e+00 9.596484e-02 1.312007e-01  5   \n",
       "6     6    0.44026466   8.752118 2.361080e+01 2.489778e-05 9.331244e-05  6   \n",
       "7     7   -0.18768244   9.083060 2.715848e+00 1.060596e-01 1.434973e-01  7   \n",
       "8     8    0.17804990   8.718636 4.257297e+00 4.292842e-02 6.409839e-02  8   \n",
       "9     9    0.47156604   9.082989 1.406187e+01 4.865504e-04 1.222057e-03  9   \n",
       "10   10   -0.62018498   9.136850 3.512294e+01 7.168815e-07 1.364771e-05 10   \n",
       "11   11   -0.23062581   8.788474 3.906372e+00 5.401795e-02 7.868892e-02 11   \n",
       "12   12    0.33175797   8.962471 7.999960e+00 6.794200e-03 1.246303e-02 12   \n",
       "13   13    0.36091095   9.106006 1.041734e+01 2.271501e-03 4.741938e-03 13   \n",
       "14   14    0.11649249   8.813529 8.898159e-01 3.809910e-01 4.517607e-01 14   \n",
       "15   15   -0.00857502   8.969524 8.899807e-04 9.762896e-01 9.839849e-01 15   \n",
       "16   16   -0.50934480   8.866012 2.582780e+01 9.235520e-06 4.543174e-05 16   \n",
       "17   17    0.50645133   8.817661 3.111487e+01 1.113306e-06 1.744990e-05 17   \n",
       "18   18    0.41170940   9.083662 1.294705e+01 5.998027e-04 1.470038e-03 18   \n",
       "19   19    0.33470039   8.816370 1.141145e+01 1.452896e-03 3.203220e-03 19   \n",
       "20   20    0.18538951   9.041889 2.712588e+00 1.042140e-01 1.413781e-01 20   \n",
       "21   21    0.41280119   9.148776 1.302251e+01 7.458101e-04 1.781209e-03 21   \n",
       "22   22    0.32910463   8.791517 1.124769e+01 1.572238e-03 3.427695e-03 22   \n",
       "23   23   -0.45771026   8.962567 1.280847e+01 6.485314e-04 1.575109e-03 23   \n",
       "24   24    0.06562220   9.535982 2.146988e-01 6.452585e-01 7.140496e-01 24   \n",
       "25   25    0.19314543   9.021248 2.544671e+00 1.174036e-01 1.570919e-01 25   \n",
       "26   26    0.27159152   9.247961 3.001320e+00 8.780813e-02 1.212045e-01 26   \n",
       "27   27   -0.27176621   8.769037 6.519439e+00 1.399258e-02 2.370667e-02 27   \n",
       "28   28   -0.02584221   9.328765 4.285190e-02 8.369031e-01 8.786666e-01 28   \n",
       "29   29    0.49091425   9.197817 1.903725e+01 6.977464e-05 2.278599e-04 29   \n",
       "30   30   -0.45756230   8.942172 1.158602e+01 1.127760e-03 2.552439e-03 30   \n",
       "⋮    ⋮    ⋮            ⋮         ⋮            ⋮            ⋮            ⋮    \n",
       "8576 8576 -0.530661936 8.846311  34.003861840 3.233516e-07 8.383465e-06 8576 \n",
       "8577 8577 -0.183104000 8.816673   2.046115261 1.592431e-01 2.063064e-01 8577 \n",
       "8578 8578  0.222313090 9.138230   3.559044911 6.543934e-02 9.327571e-02 8578 \n",
       "8579 8579  0.219020476 9.484466   2.541991228 1.175919e-01 1.573194e-01 8579 \n",
       "8580 8580  0.278902838 9.274003   4.788613142 3.367933e-02 5.156773e-02 8580 \n",
       "8581 8581  0.359933947 9.267850   9.889442416 2.469123e-03 5.101274e-03 8581 \n",
       "8582 8582  0.457792281 9.031901  16.157294471 2.080009e-04 5.839633e-04 8582 \n",
       "8583 8583  0.005906878 8.799092   0.003730342 9.515531e-01 9.677478e-01 8583 \n",
       "8584 8584  0.221235620 9.703294   2.298159870 1.362582e-01 1.796662e-01 8584 \n",
       "8585 8585 -0.023457495 9.242952   0.034289183 8.538938e-01 8.930185e-01 8585 \n",
       "8586 8586  0.488244039 9.164347  16.625509002 1.754258e-04 5.063869e-04 8586 \n",
       "8587 8587 -0.209960855 8.779173   3.444820752 6.784736e-02 9.642057e-02 8587 \n",
       "8588 8588  0.171355752 8.920621   2.228287542 1.422202e-01 1.867549e-01 8588 \n",
       "8589 8589  0.513433090 8.874419  38.571591232 3.516774e-08 2.446934e-06 8589 \n",
       "8590 8590  0.225301662 9.480179   2.539809391 1.177454e-01 1.575003e-01 8590 \n",
       "8591 8591  0.274463931 8.998033   6.431614335 1.455805e-02 2.454870e-02 8591 \n",
       "8592 8592  0.722528378 9.230629  41.335234367 6.136130e-08 3.145590e-06 8592 \n",
       "8593 8593 -0.214990575 9.001194   2.801486897 1.008537e-01 1.372740e-01 8593 \n",
       "8594 8594 -0.538786396 8.898498  33.387739490 2.372562e-06 2.188199e-05 8594 \n",
       "8595 8595 -0.413930078 8.729215  23.881248860 1.292761e-05 5.637588e-05 8595 \n",
       "8596 8596 -0.163248069 8.725743   3.077866500 8.384222e-02 1.163720e-01 8596 \n",
       "8597 8597  0.126425393 9.295166   0.611103467 4.370985e-01 5.097211e-01 8597 \n",
       "8598 8598 -0.032421669 8.946621   4.986736455 3.351098e-02 5.134650e-02 8598 \n",
       "8599 8599  0.604810001 9.449976  26.922888499 7.467424e-06 3.932261e-05 8599 \n",
       "8600 8600  0.517715289 8.849209  37.253896282 1.049633e-07 4.467069e-06 8600 \n",
       "8601 8601  0.429586649 8.783239  26.141969133 2.802654e-06 2.310042e-05 8601 \n",
       "8602 8602  0.471407246 9.235145  16.370150922 1.906436e-04 5.416733e-04 8602 \n",
       "8603 8603  0.518100599 9.084367  25.128418800 1.375801e-05 5.895800e-05 8603 \n",
       "8604 8604  0.178360916 8.933911   2.492925149 1.209901e-01 1.614891e-01 8604 \n",
       "8605 8605  0.039848746 8.710387   0.169569787 6.823365e-01 7.473913e-01 8605 \n",
       "     SpatialFDR   independent_annotation_refined\n",
       "1    1.318867e-02 FRZB+ early fibroblast        \n",
       "2    4.176239e-03 Capillary/postcapillary venule\n",
       "3    9.460883e-01 WNT2+ fibroblast              \n",
       "4    1.311576e-01 LYVE1++ macrophage            \n",
       "5    1.304208e-01 LYVE1++ macrophage            \n",
       "6    8.879591e-05 Pre-dermal condensate         \n",
       "7    1.427321e-01 NK cell                       \n",
       "8    6.350475e-02 Pre-dermal condensate         \n",
       "9    1.182650e-03 PEAR1+ fibroblast             \n",
       "10   1.319449e-05 HOXC5+ early fibroblast       \n",
       "11   7.803543e-02 Pre-dermal condensate         \n",
       "12   1.222645e-02 Pericytes                     \n",
       "13   4.625475e-03 Mast cell (medium)            \n",
       "14   4.510670e-01 Myofibroblasts                \n",
       "15   9.837023e-01 Myofibroblasts                \n",
       "16   4.293296e-05 HOXC5+ early fibroblast       \n",
       "17   1.682508e-05 Adipocytes                    \n",
       "18   1.424179e-03 LE                            \n",
       "19   3.119938e-03 Pericytes                     \n",
       "20   1.405770e-01 WNT2+ fibroblast              \n",
       "21   1.728088e-03 LYVE1++ macrophage            \n",
       "22   3.340692e-03 WNT2+ fibroblast              \n",
       "23   1.526732e-03 WNT2+ fibroblast              \n",
       "24   7.143830e-01 Monocyte                      \n",
       "25   1.562977e-01 NK cell                       \n",
       "26   1.204342e-01 LYVE1++ macrophage            \n",
       "27   2.337454e-02 Pre-dermal condensate         \n",
       "28   8.781646e-01 LYVE1++ macrophage            \n",
       "29   2.182255e-04 NK cell                       \n",
       "30   2.482010e-03 WNT2+ fibroblast              \n",
       "⋮    ⋮            ⋮                             \n",
       "8576 8.168754e-06 WNT2+ fibroblast              \n",
       "8577 2.054178e-01 Pre-dermal condensate         \n",
       "8578 9.257540e-02 MHCII+ macrophage             \n",
       "8579 1.565216e-01 NK cell                       \n",
       "8580 5.106596e-02 CD4 T cell                    \n",
       "8581 4.980778e-03 WNT2+ fibroblast              \n",
       "8582 5.628577e-04 Pre-dermal condensate         \n",
       "8583 9.673817e-01 Myoblasts                     \n",
       "8584 1.788109e-01 LYVE1++ macrophage            \n",
       "8585 8.925331e-01 MHCII+ macrophage             \n",
       "8586 4.880312e-04 Monocyte                      \n",
       "8587 9.570251e-02 Pre-dermal condensate         \n",
       "8588 1.859008e-01 CD4 T cell                    \n",
       "8589 2.388535e-06 PLN+ mural cell               \n",
       "8590 1.567009e-01 LYVE1++ macrophage            \n",
       "8591 2.421115e-02 LYVE1++ macrophage            \n",
       "8592 3.078972e-06 Adipocytes                    \n",
       "8593 1.364763e-01 HOXC5+ early fibroblast       \n",
       "8594 2.041409e-05 FRZB+ early fibroblast        \n",
       "8595 5.340311e-05 HOXC5+ early fibroblast       \n",
       "8596 1.156122e-01 PID1+ schwann cellls          \n",
       "8597 5.092748e-01 WNT2+ fibroblast              \n",
       "8598 5.084870e-02 Early myocytes                \n",
       "8599 3.714939e-05 CD8 T cell                    \n",
       "8600 4.372320e-06 PEAR1+ fibroblast             \n",
       "8601 2.159676e-05 WNT2+ fibroblast              \n",
       "8602 5.219472e-04 NK cell                       \n",
       "8603 5.585896e-05 Mast cell (most mature)       \n",
       "8604 1.606824e-01 Pre-dermal condensate         \n",
       "8605 7.476198e-01 Myelinating Schwann cells     \n",
       "     independent_annotation_refined_fraction nhood_annotation              \n",
       "1    0.8888889                               FRZB+ early fibroblast        \n",
       "2    0.7551020                               Capillary/postcapillary venule\n",
       "3    1.0000000                               WNT2+ fibroblast              \n",
       "4    1.0000000                               LYVE1++ macrophage            \n",
       "5    0.9750000                               LYVE1++ macrophage            \n",
       "6    1.0000000                               Pre-dermal condensate         \n",
       "7    1.0000000                               NK cell                       \n",
       "8    0.4375000                               Mixed                         \n",
       "9    0.7804878                               PEAR1+ fibroblast             \n",
       "10   1.0000000                               HOXC5+ early fibroblast       \n",
       "11   0.6500000                               Mixed                         \n",
       "12   0.9756098                               Pericytes                     \n",
       "13   0.6000000                               Mixed                         \n",
       "14   0.8148148                               Myofibroblasts                \n",
       "15   1.0000000                               Myofibroblasts                \n",
       "16   1.0000000                               HOXC5+ early fibroblast       \n",
       "17   0.7916667                               Adipocytes                    \n",
       "18   1.0000000                               LE                            \n",
       "19   0.9722222                               Pericytes                     \n",
       "20   0.6136364                               Mixed                         \n",
       "21   0.5000000                               Mixed                         \n",
       "22   0.5238095                               Mixed                         \n",
       "23   1.0000000                               WNT2+ fibroblast              \n",
       "24   0.5245902                               Mixed                         \n",
       "25   0.9473684                               NK cell                       \n",
       "26   1.0000000                               LYVE1++ macrophage            \n",
       "27   0.5294118                               Mixed                         \n",
       "28   1.0000000                               LYVE1++ macrophage            \n",
       "29   1.0000000                               NK cell                       \n",
       "30   1.0000000                               WNT2+ fibroblast              \n",
       "⋮    ⋮                                       ⋮                             \n",
       "8576 0.9166667                               WNT2+ fibroblast              \n",
       "8577 1.0000000                               Pre-dermal condensate         \n",
       "8578 0.5185185                               Mixed                         \n",
       "8579 0.9782609                               NK cell                       \n",
       "8580 0.9487179                               CD4 T cell                    \n",
       "8581 0.9870130                               WNT2+ fibroblast              \n",
       "8582 0.9183673                               Pre-dermal condensate         \n",
       "8583 1.0000000                               Myoblasts                     \n",
       "8584 1.0000000                               LYVE1++ macrophage            \n",
       "8585 0.7027027                               MHCII+ macrophage             \n",
       "8586 1.0000000                               Monocyte                      \n",
       "8587 0.6500000                               Mixed                         \n",
       "8588 0.8500000                               CD4 T cell                    \n",
       "8589 0.9705882                               PLN+ mural cell               \n",
       "8590 0.9782609                               LYVE1++ macrophage            \n",
       "8591 0.8500000                               LYVE1++ macrophage            \n",
       "8592 1.0000000                               Adipocytes                    \n",
       "8593 0.4358974                               Mixed                         \n",
       "8594 1.0000000                               FRZB+ early fibroblast        \n",
       "8595 1.0000000                               HOXC5+ early fibroblast       \n",
       "8596 0.4666667                               Mixed                         \n",
       "8597 1.0000000                               WNT2+ fibroblast              \n",
       "8598 1.0000000                               Early myocytes                \n",
       "8599 0.9761905                               CD8 T cell                    \n",
       "8600 1.0000000                               PEAR1+ fibroblast             \n",
       "8601 0.9523810                               WNT2+ fibroblast              \n",
       "8602 1.0000000                               NK cell                       \n",
       "8603 1.0000000                               Mast cell (most mature)       \n",
       "8604 0.7777778                               Pre-dermal condensate         \n",
       "8605 0.6250000                               Mixed                         "
      ]
     },
     "metadata": {},
     "output_type": "display_data"
    }
   ],
   "source": [
    "results_refined"
   ]
  },
  {
   "cell_type": "code",
   "execution_count": 10,
   "id": "therapeutic-custody",
   "metadata": {},
   "outputs": [],
   "source": [
    "#filter the results by FDR and logFC (here to get early enriched) and select which column Nhood to output (here only 1 column selected)\n",
    "#unlist converts it from a df to a different class - here integer\n",
    "# use.names whether to keep the names of the rows\n",
    "early_nhoods <- tibble(results_refined) %>% filter (FDR < 0.05, logFC < 0) %>% select(Nhood) %>% unlist(use.names = F)"
   ]
  },
  {
   "cell_type": "code",
   "execution_count": 11,
   "id": "black-phrase",
   "metadata": {},
   "outputs": [
    {
     "data": {
      "text/html": [
       "'integer'"
      ],
      "text/latex": [
       "'integer'"
      ],
      "text/markdown": [
       "'integer'"
      ],
      "text/plain": [
       "[1] \"integer\""
      ]
     },
     "metadata": {},
     "output_type": "display_data"
    }
   ],
   "source": [
    "class(early_nhoods)"
   ]
  },
  {
   "cell_type": "code",
   "execution_count": 12,
   "id": "potential-baker",
   "metadata": {},
   "outputs": [
    {
     "data": {
      "text/html": [
       "<style>\n",
       ".list-inline {list-style: none; margin:0; padding: 0}\n",
       ".list-inline>li {display: inline-block}\n",
       ".list-inline>li:not(:last-child)::after {content: \"\\00b7\"; padding: 0 .5ex}\n",
       "</style>\n",
       "<ol class=list-inline><li>186533</li><li>2105</li></ol>\n"
      ],
      "text/latex": [
       "\\begin{enumerate*}\n",
       "\\item 186533\n",
       "\\item 2105\n",
       "\\end{enumerate*}\n"
      ],
      "text/markdown": [
       "1. 186533\n",
       "2. 2105\n",
       "\n",
       "\n"
      ],
      "text/plain": [
       "[1] 186533   2105"
      ]
     },
     "metadata": {},
     "output_type": "display_data"
    }
   ],
   "source": [
    "#?how many nhoods in rdata are in early\n",
    "rdata@nhoods[, early_nhoods] %>% dim()"
   ]
  },
  {
   "cell_type": "code",
   "execution_count": 13,
   "id": "beginning-olive",
   "metadata": {},
   "outputs": [],
   "source": [
    "early_rowsums <- Matrix::rowSums(rdata@nhoods[, early_nhoods])"
   ]
  },
  {
   "cell_type": "code",
   "execution_count": 14,
   "id": "black-panic",
   "metadata": {
    "tags": []
   },
   "outputs": [
    {
     "data": {
      "text/plain": [
       "early_rowsums\n",
       "     0      1      2      3      4      5      6      7      8      9     10 \n",
       "145602  22368  11216   4736   1737    578    197     63     21      8      6 \n",
       "    12 \n",
       "     1 "
      ]
     },
     "metadata": {},
     "output_type": "display_data"
    }
   ],
   "source": [
    "#see how many cells at least in each of a neighbourhood, eg, at 22368 cells are in 1 early nhood, 145602 are not in early nhoods\n",
    "table(early_rowsums)"
   ]
  },
  {
   "cell_type": "code",
   "execution_count": 15,
   "id": "prospective-survival",
   "metadata": {
    "tags": []
   },
   "outputs": [
    {
     "data": {
      "text/plain": [
       "\n",
       " FALSE   TRUE   <NA> \n",
       "167970  18563      0 "
      ]
     },
     "metadata": {},
     "output_type": "display_data"
    }
   ],
   "source": [
    "table(early_rowsums > 1, useNA='always')"
   ]
  },
  {
   "cell_type": "code",
   "execution_count": 16,
   "id": "confident-projection",
   "metadata": {
    "tags": []
   },
   "outputs": [
    {
     "data": {
      "text/plain": [
       "\n",
       " FALSE   TRUE   <NA> \n",
       "145602  40931      0 "
      ]
     },
     "metadata": {},
     "output_type": "display_data"
    }
   ],
   "source": [
    "table(early_rowsums >= 1, useNA='always')"
   ]
  },
  {
   "cell_type": "code",
   "execution_count": 17,
   "id": "distinguished-saver",
   "metadata": {},
   "outputs": [],
   "source": [
    "early_cells <- colnames(rdata)[Matrix::rowSums(rdata@nhoods[, early_nhoods]) >= 1]"
   ]
  },
  {
   "cell_type": "code",
   "execution_count": 22,
   "id": "featured-pocket",
   "metadata": {},
   "outputs": [],
   "source": [
    "#write.table(early_cells, '/home/jovyan/projects/skin/fetal_skin/milo csv/milo_refined_independent_early_cells.list', row.names = F, col.names = F, quote = F)"
   ]
  },
  {
   "cell_type": "code",
   "execution_count": 18,
   "id": "danish-tuition",
   "metadata": {
    "collapsed": true,
    "jupyter": {
     "outputs_hidden": true
    },
    "tags": []
   },
   "outputs": [
    {
     "data": {
      "text/plain": [
       "\n",
       "                           Adipocytes                              Basal KC \n",
       "                                   48                                     2 \n",
       "              Capillary (venular tip)        Capillary/postcapillary venule \n",
       "                                    9                                    19 \n",
       "                           CD4 T cell                            CD8 T cell \n",
       "                                   17                                     2 \n",
       "                                  DC1                                   DC2 \n",
       "                                    2                                    56 \n",
       "                    Dermal condensate                       Dermal papillia \n",
       "                                  170                                    24 \n",
       "               Early endothelial cell                       Early erythroid \n",
       "                                  110                                    47 \n",
       "          Early erythroid (embryonic)                  Early KC (stem cell) \n",
       "                                  267                                    22 \n",
       "                       Early myocytes          Eo/baso/mast cell progenitor \n",
       "                                   26                                     1 \n",
       "                Erythroid (embryonic)                     Erythroid (fetal) \n",
       "                                  478                                    38 \n",
       "               FRZB+ early fibroblast               HOXC5+ early fibroblast \n",
       "                                 8048                                 11011 \n",
       "                                  HSC                                  ILC2 \n",
       "                                    2                                     9 \n",
       "                                 ILC3                       Inflammatory DC \n",
       "                                  671                                     2 \n",
       "                       Innate T type1                        Innate T type3 \n",
       "                                   23                                     5 \n",
       "            Iron-recycling macrophage                                    LC \n",
       "                                   11                                   114 \n",
       "                    LMCD1+ mural cell                              LTi cell \n",
       "                                   31                                   132 \n",
       "                  Lymphoid progenitor                    LYVE1++ macrophage \n",
       "                                   52                                  2827 \n",
       "                 Mast cell (earliest)                    Mast cell (medium) \n",
       "                                   23                                     4 \n",
       "              Mast cell (most mature)                         Megakaryocyte \n",
       "                                    2                                    74 \n",
       "                          Melanoblast                            Melanocyte \n",
       "                                   51                                    25 \n",
       "                         MEMP - Megak                     MHCII+ macrophage \n",
       "                                   17                                   213 \n",
       "                             Monocyte  Monocyte (activated/differentiating) \n",
       "                                   19                                    38 \n",
       "                   Monocyte precursor             Myelinating Schwann cells \n",
       "                                   20                                   142 \n",
       "                            Myoblasts                              Myocytes \n",
       "                                  558                                     1 \n",
       "                       Myofibroblasts                        Neuroendocrine \n",
       "                                  208                                   238 \n",
       "                   Neuron progenitors                           Neutrophil1 \n",
       "                                  470                                     1 \n",
       "                          Neutrophil2                               NK cell \n",
       "                                   36                                   806 \n",
       "                    PEAR1+ fibroblast                             Pericytes \n",
       "                                   90                                   233 \n",
       "                             Periderm                  PID1+ schwann cellls \n",
       "                                   87                                    26 \n",
       "                      PLN+ mural cell                        Pre pro B cell \n",
       "                                   45                                     5 \n",
       "                Pre-dermal condensate            Schwann/Schwann precursors \n",
       "                                 5393                                   322 \n",
       "SPP1+ proliferating neuron proneitors                            Suprabasal \n",
       "                                  573                                     5 \n",
       "                  Tip cell (arterial)                     TREM2+ macrophage \n",
       "                                    2                                  1031 \n",
       "                     WNT2+ fibroblast \n",
       "                                 5897 "
      ]
     },
     "metadata": {},
     "output_type": "display_data"
    }
   ],
   "source": [
    "#number of cells in each each independent annotation for early\n",
    "table(rdata@colData[early_cells, \"independent_annotation_refined\"])"
   ]
  },
  {
   "cell_type": "code",
   "execution_count": 19,
   "id": "confused-introduction",
   "metadata": {
    "collapsed": true,
    "jupyter": {
     "outputs_hidden": true
    },
    "tags": []
   },
   "outputs": [
    {
     "data": {
      "text/plain": [
       "DataFrame with 40931 rows and 29 columns\n",
       "                                         sanger_id chemistry    donor   gender\n",
       "                                          <factor>  <factor> <factor> <factor>\n",
       "AAAGTAGCAGATCGGA-1-4834STDY7002879 4834STDY7002879    SC3Pv2      F16     male\n",
       "AACACGTAGAGAGCTC-1-4834STDY7002879 4834STDY7002879    SC3Pv2      F16     male\n",
       "AACCATGGTGCCTTGG-1-4834STDY7002879 4834STDY7002879    SC3Pv2      F16     male\n",
       "AACTCAGCAGGACGTA-1-4834STDY7002879 4834STDY7002879    SC3Pv2      F16     male\n",
       "AACTCAGGTCAGCTAT-1-4834STDY7002879 4834STDY7002879    SC3Pv2      F16     male\n",
       "...                                            ...       ...      ...      ...\n",
       "TGGGAAGAGGCTAGGT-1-FCAImmP7964510   FCAImmP7964510   SC5P-R2      F71   female\n",
       "TGGGCGTGTGTAAGTA-1-FCAImmP7964510   FCAImmP7964510   SC5P-R2      F71   female\n",
       "TGTTCCGGTGATGTCT-1-FCAImmP7964510   FCAImmP7964510   SC5P-R2      F71   female\n",
       "TTAGGACAGGCCCGTT-1-FCAImmP7964510   FCAImmP7964510   SC5P-R2      F71   female\n",
       "TTGCCGTTCTGCCCTA-1-FCAImmP7964510   FCAImmP7964510   SC5P-R2      F71   female\n",
       "                                         pcw  sorting             sample\n",
       "                                   <numeric> <factor>           <factor>\n",
       "AAAGTAGCAGATCGGA-1-4834STDY7002879         8    CD45P    F16_male_8+1PCW\n",
       "AACACGTAGAGAGCTC-1-4834STDY7002879         8    CD45P    F16_male_8+1PCW\n",
       "AACCATGGTGCCTTGG-1-4834STDY7002879         8    CD45P    F16_male_8+1PCW\n",
       "AACTCAGCAGGACGTA-1-4834STDY7002879         8    CD45P    F16_male_8+1PCW\n",
       "AACTCAGGTCAGCTAT-1-4834STDY7002879         8    CD45P    F16_male_8+1PCW\n",
       "...                                      ...      ...                ...\n",
       "TGGGAAGAGGCTAGGT-1-FCAImmP7964510         14   CD45en F71-GEX_5_SKI_45en\n",
       "TGGGCGTGTGTAAGTA-1-FCAImmP7964510         14   CD45en F71-GEX_5_SKI_45en\n",
       "TGTTCCGGTGATGTCT-1-FCAImmP7964510         14   CD45en F71-GEX_5_SKI_45en\n",
       "TTAGGACAGGCCCGTT-1-FCAImmP7964510         14   CD45en F71-GEX_5_SKI_45en\n",
       "TTGCCGTTCTGCCCTA-1-FCAImmP7964510         14   CD45en F71-GEX_5_SKI_45en\n",
       "                                   chemistry_sorting cell_caller scrublet_score\n",
       "                                            <factor>    <factor>      <numeric>\n",
       "AAAGTAGCAGATCGGA-1-4834STDY7002879      SC3Pv2_CD45P        Both       0.164557\n",
       "AACACGTAGAGAGCTC-1-4834STDY7002879      SC3Pv2_CD45P        Both       0.333333\n",
       "AACCATGGTGCCTTGG-1-4834STDY7002879      SC3Pv2_CD45P        Both       0.201970\n",
       "AACTCAGCAGGACGTA-1-4834STDY7002879      SC3Pv2_CD45P        Both       0.105590\n",
       "AACTCAGGTCAGCTAT-1-4834STDY7002879      SC3Pv2_CD45P        Both       0.389831\n",
       "...                                              ...         ...            ...\n",
       "TGGGAAGAGGCTAGGT-1-FCAImmP7964510     SC5P-R2_CD45en        Both      0.0962343\n",
       "TGGGCGTGTGTAAGTA-1-FCAImmP7964510     SC5P-R2_CD45en        Both      0.0990415\n",
       "TGTTCCGGTGATGTCT-1-FCAImmP7964510     SC5P-R2_CD45en        Both      0.0485156\n",
       "TTAGGACAGGCCCGTT-1-FCAImmP7964510     SC5P-R2_CD45en        Both      0.2116788\n",
       "TTGCCGTTCTGCCCTA-1-FCAImmP7964510     SC5P-R2_CD45en        Both      0.1382979\n",
       "                                   cluster_scrublet_score doublet_pval\n",
       "                                                <numeric>    <numeric>\n",
       "AAAGTAGCAGATCGGA-1-4834STDY7002879               0.164557     0.455284\n",
       "AACACGTAGAGAGCTC-1-4834STDY7002879               0.225806     0.150885\n",
       "AACCATGGTGCCTTGG-1-4834STDY7002879               0.201970     0.250000\n",
       "AACTCAGCAGGACGTA-1-4834STDY7002879               0.157082     0.500000\n",
       "AACTCAGGTCAGCTAT-1-4834STDY7002879               0.201970     0.250000\n",
       "...                                                   ...          ...\n",
       "TGGGAAGAGGCTAGGT-1-FCAImmP7964510               0.0883813     0.441778\n",
       "TGGGCGTGTGTAAGTA-1-FCAImmP7964510               0.0922171     0.418084\n",
       "TGTTCCGGTGATGTCT-1-FCAImmP7964510               0.0367505     0.747182\n",
       "TTAGGACAGGCCCGTT-1-FCAImmP7964510               0.1382979     0.175769\n",
       "TTGCCGTTCTGCCCTA-1-FCAImmP7964510               0.1339402     0.194050\n",
       "                                   bh_doublet_pval  n_counts   n_genes\n",
       "                                         <numeric> <numeric> <numeric>\n",
       "AAAGTAGCAGATCGGA-1-4834STDY7002879        0.907861     14791      3099\n",
       "AACACGTAGAGAGCTC-1-4834STDY7002879        0.882352     28096      4891\n",
       "AACCATGGTGCCTTGG-1-4834STDY7002879        0.882352     10369      2686\n",
       "AACTCAGCAGGACGTA-1-4834STDY7002879        0.907861      4452      1586\n",
       "AACTCAGGTCAGCTAT-1-4834STDY7002879        0.882352     10810      2824\n",
       "...                                            ...       ...       ...\n",
       "TGGGAAGAGGCTAGGT-1-FCAImmP7964510         0.851322      4566      1812\n",
       "TGGGCGTGTGTAAGTA-1-FCAImmP7964510         0.851322      4234      1529\n",
       "TGTTCCGGTGATGTCT-1-FCAImmP7964510         0.851322      5236      2015\n",
       "TTAGGACAGGCCCGTT-1-FCAImmP7964510         0.851322     20268      4504\n",
       "TTGCCGTTCTGCCCTA-1-FCAImmP7964510         0.851322      8422      2555\n",
       "                                   percent_mito percent_ribo percent_hb\n",
       "                                      <numeric>    <numeric>  <numeric>\n",
       "AAAGTAGCAGATCGGA-1-4834STDY7002879      1.74430     34.58184  0.1081739\n",
       "AACACGTAGAGAGCTC-1-4834STDY7002879      2.56264     30.05766  0.0854214\n",
       "AACCATGGTGCCTTGG-1-4834STDY7002879      4.82207     22.92410  0.1543061\n",
       "AACTCAGCAGGACGTA-1-4834STDY7002879      3.05481      9.74843  0.1572327\n",
       "AACTCAGGTCAGCTAT-1-4834STDY7002879      3.51526     25.88344  0.1017576\n",
       "...                                         ...          ...        ...\n",
       "TGGGAAGAGGCTAGGT-1-FCAImmP7964510       2.71572      21.7696  0.0000000\n",
       "TGGGCGTGTGTAAGTA-1-FCAImmP7964510       5.78649      28.4365  0.0472367\n",
       "TGTTCCGGTGATGTCT-1-FCAImmP7964510       2.99847      21.1230  0.0954927\n",
       "TTAGGACAGGCCCGTT-1-FCAImmP7964510       3.65108      23.1843  0.0148017\n",
       "TTGCCGTTCTGCCCTA-1-FCAImmP7964510       4.09641      27.0720  0.0237473\n",
       "                                   independent_annotation_refined\n",
       "                                                      <character>\n",
       "AAAGTAGCAGATCGGA-1-4834STDY7002879         Eo/baso/mast cell pr..\n",
       "AACACGTAGAGAGCTC-1-4834STDY7002879                            DC2\n",
       "AACCATGGTGCCTTGG-1-4834STDY7002879             LYVE1++ macrophage\n",
       "AACTCAGCAGGACGTA-1-4834STDY7002879              TREM2+ macrophage\n",
       "AACTCAGGTCAGCTAT-1-4834STDY7002879             LYVE1++ macrophage\n",
       "...                                                           ...\n",
       "TGGGAAGAGGCTAGGT-1-FCAImmP7964510                       Pericytes\n",
       "TGGGCGTGTGTAAGTA-1-FCAImmP7964510                       Pericytes\n",
       "TGTTCCGGTGATGTCT-1-FCAImmP7964510          Schwann/Schwann prec..\n",
       "TTAGGACAGGCCCGTT-1-FCAImmP7964510               LMCD1+ mural cell\n",
       "TTGCCGTTCTGCCCTA-1-FCAImmP7964510                 PLN+ mural cell\n",
       "                                   independent_annotation_broad1\n",
       "                                                        <factor>\n",
       "AAAGTAGCAGATCGGA-1-4834STDY7002879        Granulocyte progenitor\n",
       "AACACGTAGAGAGCTC-1-4834STDY7002879        DC2                   \n",
       "AACCATGGTGCCTTGG-1-4834STDY7002879        Macrophage            \n",
       "AACTCAGCAGGACGTA-1-4834STDY7002879        Microglia             \n",
       "AACTCAGGTCAGCTAT-1-4834STDY7002879        Macrophage            \n",
       "...                                                          ...\n",
       "TGGGAAGAGGCTAGGT-1-FCAImmP7964510                  Pericyte     \n",
       "TGGGCGTGTGTAAGTA-1-FCAImmP7964510                  Pericyte     \n",
       "TGTTCCGGTGATGTCT-1-FCAImmP7964510                  Schwann cell \n",
       "TTAGGACAGGCCCGTT-1-FCAImmP7964510                  Smooth muscle\n",
       "TTGCCGTTCTGCCCTA-1-FCAImmP7964510                  Smooth muscle\n",
       "                                   independent_annotation_broad2\n",
       "                                                        <factor>\n",
       "AAAGTAGCAGATCGGA-1-4834STDY7002879        Granulocyte progenitor\n",
       "AACACGTAGAGAGCTC-1-4834STDY7002879        cDC                   \n",
       "AACCATGGTGCCTTGG-1-4834STDY7002879        Macrophage            \n",
       "AACTCAGCAGGACGTA-1-4834STDY7002879        Microglia             \n",
       "AACTCAGGTCAGCTAT-1-4834STDY7002879        Macrophage            \n",
       "...                                                          ...\n",
       "TGGGAAGAGGCTAGGT-1-FCAImmP7964510                  Pericyte     \n",
       "TGGGCGTGTGTAAGTA-1-FCAImmP7964510                  Pericyte     \n",
       "TGTTCCGGTGATGTCT-1-FCAImmP7964510                  Schwann cell \n",
       "TTAGGACAGGCCCGTT-1-FCAImmP7964510                  Smooth muscle\n",
       "TTGCCGTTCTGCCCTA-1-FCAImmP7964510                  Smooth muscle\n",
       "                                   independent_annotation_broad3\n",
       "                                                        <factor>\n",
       "AAAGTAGCAGATCGGA-1-4834STDY7002879        Granulocyte progenitor\n",
       "AACACGTAGAGAGCTC-1-4834STDY7002879        DC                    \n",
       "AACCATGGTGCCTTGG-1-4834STDY7002879        Macrophage            \n",
       "AACTCAGCAGGACGTA-1-4834STDY7002879        Microglia             \n",
       "AACTCAGGTCAGCTAT-1-4834STDY7002879        Macrophage            \n",
       "...                                                          ...\n",
       "TGGGAAGAGGCTAGGT-1-FCAImmP7964510                 Pericyte      \n",
       "TGGGCGTGTGTAAGTA-1-FCAImmP7964510                 Pericyte      \n",
       "TGTTCCGGTGATGTCT-1-FCAImmP7964510                 Neuronal cells\n",
       "TTAGGACAGGCCCGTT-1-FCAImmP7964510                 Muscle        \n",
       "TTGCCGTTCTGCCCTA-1-FCAImmP7964510                 Muscle        \n",
       "                                   independent_annotation_broad4\n",
       "                                                        <factor>\n",
       "AAAGTAGCAGATCGGA-1-4834STDY7002879      Other blood cells       \n",
       "AACACGTAGAGAGCTC-1-4834STDY7002879      Antigen Presenting Cells\n",
       "AACCATGGTGCCTTGG-1-4834STDY7002879      Antigen Presenting Cells\n",
       "AACTCAGCAGGACGTA-1-4834STDY7002879      Antigen Presenting Cells\n",
       "AACTCAGGTCAGCTAT-1-4834STDY7002879      Antigen Presenting Cells\n",
       "...                                                          ...\n",
       "TGGGAAGAGGCTAGGT-1-FCAImmP7964510                 Muscle        \n",
       "TGGGCGTGTGTAAGTA-1-FCAImmP7964510                 Muscle        \n",
       "TGTTCCGGTGATGTCT-1-FCAImmP7964510                 Neuronal cells\n",
       "TTAGGACAGGCCCGTT-1-FCAImmP7964510                 Muscle        \n",
       "TTGCCGTTCTGCCCTA-1-FCAImmP7964510                 Muscle        \n",
       "                                   independent_annotation_broad5\n",
       "                                                        <factor>\n",
       "AAAGTAGCAGATCGGA-1-4834STDY7002879                        Immune\n",
       "AACACGTAGAGAGCTC-1-4834STDY7002879                        Immune\n",
       "AACCATGGTGCCTTGG-1-4834STDY7002879                        Immune\n",
       "AACTCAGCAGGACGTA-1-4834STDY7002879                        Immune\n",
       "AACTCAGGTCAGCTAT-1-4834STDY7002879                        Immune\n",
       "...                                                          ...\n",
       "TGGGAAGAGGCTAGGT-1-FCAImmP7964510                         Stroma\n",
       "TGGGCGTGTGTAAGTA-1-FCAImmP7964510                         Stroma\n",
       "TGTTCCGGTGATGTCT-1-FCAImmP7964510                         Stroma\n",
       "TTAGGACAGGCCCGTT-1-FCAImmP7964510                         Stroma\n",
       "TTGCCGTTCTGCCCTA-1-FCAImmP7964510                         Stroma\n",
       "                                               joint_annotation is_maternal\n",
       "                                                       <factor>   <logical>\n",
       "AAAGTAGCAGATCGGA-1-4834STDY7002879 Eo/baso/mast cell progenitor       FALSE\n",
       "AACACGTAGAGAGCTC-1-4834STDY7002879 DC2                                FALSE\n",
       "AACCATGGTGCCTTGG-1-4834STDY7002879 Macrophage1                        FALSE\n",
       "AACTCAGCAGGACGTA-1-4834STDY7002879 Microglia                          FALSE\n",
       "AACTCAGGTCAGCTAT-1-4834STDY7002879 Macrophage1                        FALSE\n",
       "...                                                         ...         ...\n",
       "TGGGAAGAGGCTAGGT-1-FCAImmP7964510    Pericytes                        FALSE\n",
       "TGGGCGTGTGTAAGTA-1-FCAImmP7964510    Pericytes                        FALSE\n",
       "TGTTCCGGTGATGTCT-1-FCAImmP7964510    Schwann/Schwann precursors       FALSE\n",
       "TTAGGACAGGCCCGTT-1-FCAImmP7964510    Smooth muscle LMCD1+             FALSE\n",
       "TTGCCGTTCTGCCCTA-1-FCAImmP7964510    Smooth muscle PLN+               FALSE\n",
       "                                   fig1b_annotation X_scvi_batch X_scvi_labels\n",
       "                                           <factor>    <integer>     <integer>\n",
       "AAAGTAGCAGATCGGA-1-4834STDY7002879 Haem progenitors            0             0\n",
       "AACACGTAGAGAGCTC-1-4834STDY7002879 cDC                         0             0\n",
       "AACCATGGTGCCTTGG-1-4834STDY7002879 Macrophage                  0             0\n",
       "AACTCAGCAGGACGTA-1-4834STDY7002879 Macrophage                  0             0\n",
       "AACTCAGGTCAGCTAT-1-4834STDY7002879 Macrophage                  0             0\n",
       "...                                             ...          ...           ...\n",
       "TGGGAAGAGGCTAGGT-1-FCAImmP7964510      Mural cell             14             0\n",
       "TGGGCGTGTGTAAGTA-1-FCAImmP7964510      Mural cell             14             0\n",
       "TGTTCCGGTGATGTCT-1-FCAImmP7964510      Schwann cell           14             0\n",
       "TTAGGACAGGCCCGTT-1-FCAImmP7964510      Mural cell             14             0\n",
       "TTGCCGTTCTGCCCTA-1-FCAImmP7964510      Mural cell             14             0"
      ]
     },
     "metadata": {},
     "output_type": "display_data"
    }
   ],
   "source": [
    "early_cells_all <- rdata@colData[early_cells, ]\n",
    "early_cells_all"
   ]
  },
  {
   "cell_type": "code",
   "execution_count": 28,
   "id": "approved-witch",
   "metadata": {},
   "outputs": [],
   "source": [
    "#write.table(early_cells_all, '/home/jovyan/projects/skin/fetal_skin/milo csv/early_cells_all.csv', row.names=T, col.names=T, quote=T, sep=',')"
   ]
  },
  {
   "cell_type": "code",
   "execution_count": null,
   "id": "broken-object",
   "metadata": {},
   "outputs": [],
   "source": [
    "#library(tidyverse)"
   ]
  },
  {
   "cell_type": "code",
   "execution_count": 37,
   "id": "typical-establishment",
   "metadata": {},
   "outputs": [],
   "source": [
    "early_cells_all <- early_cells_all %>% as.data.frame %>% add_column(Enrichment = \"Early\")\n",
    "early_cells_all"
   ]
  },
  {
   "cell_type": "code",
   "execution_count": 39,
   "id": "infrared-robert",
   "metadata": {},
   "outputs": [],
   "source": [
    "#write.csv(early_cells_all, '/home/jovyan/projects/skin/fetal_skin/milo csv/early_cells_all.csv')"
   ]
  },
  {
   "cell_type": "code",
   "execution_count": 22,
   "id": "exciting-indiana",
   "metadata": {},
   "outputs": [],
   "source": [
    "late_nhoods <- tibble(results_refined) %>% filter (FDR < 0.05, logFC > 0) %>% select(Nhood) %>% unlist(use.names = F)"
   ]
  },
  {
   "cell_type": "code",
   "execution_count": 23,
   "id": "minor-planet",
   "metadata": {},
   "outputs": [],
   "source": [
    "late_cells <- colnames(rdata)[Matrix::rowSums(rdata@nhoods[, late_nhoods]) >= 1]"
   ]
  },
  {
   "cell_type": "code",
   "execution_count": 36,
   "id": "civic-aspect",
   "metadata": {},
   "outputs": [
    {
     "data": {
      "text/html": [
       "'character'"
      ],
      "text/latex": [
       "'character'"
      ],
      "text/markdown": [
       "'character'"
      ],
      "text/plain": [
       "[1] \"character\""
      ]
     },
     "metadata": {},
     "output_type": "display_data"
    }
   ],
   "source": [
    "class(late_cells)"
   ]
  },
  {
   "cell_type": "code",
   "execution_count": 24,
   "id": "relative-providence",
   "metadata": {},
   "outputs": [
    {
     "data": {
      "text/html": [
       "<style>\n",
       ".list-inline {list-style: none; margin:0; padding: 0}\n",
       ".list-inline>li {display: inline-block}\n",
       ".list-inline>li:not(:last-child)::after {content: \"\\00b7\"; padding: 0 .5ex}\n",
       "</style>\n",
       "<ol class=list-inline><li>65119</li><li>29</li></ol>\n"
      ],
      "text/latex": [
       "\\begin{enumerate*}\n",
       "\\item 65119\n",
       "\\item 29\n",
       "\\end{enumerate*}\n"
      ],
      "text/markdown": [
       "1. 65119\n",
       "2. 29\n",
       "\n",
       "\n"
      ],
      "text/plain": [
       "[1] 65119    29"
      ]
     },
     "metadata": {},
     "output_type": "display_data"
    }
   ],
   "source": [
    "dim(rdata@colData[late_cells, ])"
   ]
  },
  {
   "cell_type": "code",
   "execution_count": 25,
   "id": "matched-springer",
   "metadata": {},
   "outputs": [],
   "source": [
    "late_rowsums <- Matrix::rowSums(rdata@nhoods[, late_nhoods])"
   ]
  },
  {
   "cell_type": "code",
   "execution_count": 26,
   "id": "variable-intake",
   "metadata": {},
   "outputs": [
    {
     "data": {
      "text/html": [
       "<style>\n",
       ".list-inline {list-style: none; margin:0; padding: 0}\n",
       ".list-inline>li {display: inline-block}\n",
       ".list-inline>li:not(:last-child)::after {content: \"\\00b7\"; padding: 0 .5ex}\n",
       "</style>\n",
       "<ol class=list-inline><li>0</li><li>1</li><li>0</li><li>0</li><li>0</li><li>0</li></ol>\n"
      ],
      "text/latex": [
       "\\begin{enumerate*}\n",
       "\\item 0\n",
       "\\item 1\n",
       "\\item 0\n",
       "\\item 0\n",
       "\\item 0\n",
       "\\item 0\n",
       "\\end{enumerate*}\n"
      ],
      "text/markdown": [
       "1. 0\n",
       "2. 1\n",
       "3. 0\n",
       "4. 0\n",
       "5. 0\n",
       "6. 0\n",
       "\n",
       "\n"
      ],
      "text/plain": [
       "[1] 0 1 0 0 0 0"
      ]
     },
     "metadata": {},
     "output_type": "display_data"
    }
   ],
   "source": [
    "head(late_rowsums)"
   ]
  },
  {
   "cell_type": "code",
   "execution_count": 27,
   "id": "static-plain",
   "metadata": {
    "tags": []
   },
   "outputs": [
    {
     "data": {
      "text/plain": [
       "late_rowsums\n",
       "     0      1      2      3      4      5      6      7      8      9     10 \n",
       "121414  33516  18637   8176   3143   1077    368    134     37     18      9 \n",
       "    11     13     14 \n",
       "     2      1      1 "
      ]
     },
     "metadata": {},
     "output_type": "display_data"
    }
   ],
   "source": [
    "#see how many cells at least in each of a neighbourhood\n",
    "table(late_rowsums)"
   ]
  },
  {
   "cell_type": "code",
   "execution_count": 34,
   "id": "demonstrated-plate",
   "metadata": {},
   "outputs": [],
   "source": [
    "late_cells_all <- rdata@colData[late_cells, ]"
   ]
  },
  {
   "cell_type": "code",
   "execution_count": 71,
   "id": "frozen-fence",
   "metadata": {},
   "outputs": [],
   "source": [
    "late_cells_all <- late_cells_all %>% as.data.frame %>% add_column(Enrichment = \"Late\")"
   ]
  },
  {
   "cell_type": "code",
   "execution_count": 72,
   "id": "preliminary-scoop",
   "metadata": {},
   "outputs": [],
   "source": [
    "#write.csv(late_cells_all, '/home/jovyan/projects/skin/fetal_skin/milo csv/late_cells_all.csv')"
   ]
  },
  {
   "cell_type": "code",
   "execution_count": 73,
   "id": "independent-madrid",
   "metadata": {},
   "outputs": [],
   "source": [
    "allcells_milo <- rbind(early_cells_all, late_cells_all)"
   ]
  },
  {
   "cell_type": "code",
   "execution_count": 76,
   "id": "equal-passion",
   "metadata": {},
   "outputs": [
    {
     "data": {
      "text/html": [
       "<style>\n",
       ".list-inline {list-style: none; margin:0; padding: 0}\n",
       ".list-inline>li {display: inline-block}\n",
       ".list-inline>li:not(:last-child)::after {content: \"\\00b7\"; padding: 0 .5ex}\n",
       "</style>\n",
       "<ol class=list-inline><li>40931</li><li>30</li></ol>\n"
      ],
      "text/latex": [
       "\\begin{enumerate*}\n",
       "\\item 40931\n",
       "\\item 30\n",
       "\\end{enumerate*}\n"
      ],
      "text/markdown": [
       "1. 40931\n",
       "2. 30\n",
       "\n",
       "\n"
      ],
      "text/plain": [
       "[1] 40931    30"
      ]
     },
     "metadata": {},
     "output_type": "display_data"
    }
   ],
   "source": [
    "dim(early_cells_all)"
   ]
  },
  {
   "cell_type": "code",
   "execution_count": 74,
   "id": "binding-carpet",
   "metadata": {},
   "outputs": [
    {
     "data": {
      "text/html": [
       "<style>\n",
       ".list-inline {list-style: none; margin:0; padding: 0}\n",
       ".list-inline>li {display: inline-block}\n",
       ".list-inline>li:not(:last-child)::after {content: \"\\00b7\"; padding: 0 .5ex}\n",
       "</style>\n",
       "<ol class=list-inline><li>65119</li><li>30</li></ol>\n"
      ],
      "text/latex": [
       "\\begin{enumerate*}\n",
       "\\item 65119\n",
       "\\item 30\n",
       "\\end{enumerate*}\n"
      ],
      "text/markdown": [
       "1. 65119\n",
       "2. 30\n",
       "\n",
       "\n"
      ],
      "text/plain": [
       "[1] 65119    30"
      ]
     },
     "metadata": {},
     "output_type": "display_data"
    }
   ],
   "source": [
    "dim(late_cells_all)"
   ]
  },
  {
   "cell_type": "code",
   "execution_count": 75,
   "id": "significant-prospect",
   "metadata": {},
   "outputs": [
    {
     "data": {
      "text/html": [
       "<style>\n",
       ".list-inline {list-style: none; margin:0; padding: 0}\n",
       ".list-inline>li {display: inline-block}\n",
       ".list-inline>li:not(:last-child)::after {content: \"\\00b7\"; padding: 0 .5ex}\n",
       "</style>\n",
       "<ol class=list-inline><li>106050</li><li>30</li></ol>\n"
      ],
      "text/latex": [
       "\\begin{enumerate*}\n",
       "\\item 106050\n",
       "\\item 30\n",
       "\\end{enumerate*}\n"
      ],
      "text/markdown": [
       "1. 106050\n",
       "2. 30\n",
       "\n",
       "\n"
      ],
      "text/plain": [
       "[1] 106050     30"
      ]
     },
     "metadata": {},
     "output_type": "display_data"
    }
   ],
   "source": [
    "dim(allcells_milo)"
   ]
  },
  {
   "cell_type": "code",
   "execution_count": 77,
   "id": "ultimate-labor",
   "metadata": {},
   "outputs": [],
   "source": [
    "#write.csv(allcells_milo, '/home/jovyan/projects/skin/fetal_skin/milo csv/allcells_milo_combined.csv')"
   ]
  },
  {
   "cell_type": "code",
   "execution_count": 38,
   "id": "alive-pillow",
   "metadata": {},
   "outputs": [],
   "source": [
    "list1 = early_cells %>% as.vector"
   ]
  },
  {
   "cell_type": "code",
   "execution_count": 42,
   "id": "personalized-recycling",
   "metadata": {},
   "outputs": [],
   "source": [
    "list2 = late_cells %>% as.vector"
   ]
  },
  {
   "cell_type": "code",
   "execution_count": 46,
   "id": "engaged-double",
   "metadata": {},
   "outputs": [
    {
     "data": {
      "text/html": [
       "936"
      ],
      "text/latex": [
       "936"
      ],
      "text/markdown": [
       "936"
      ],
      "text/plain": [
       "[1] 936"
      ]
     },
     "metadata": {},
     "output_type": "display_data"
    }
   ],
   "source": [
    "length(intersect(list1, list2))"
   ]
  },
  {
   "cell_type": "code",
   "execution_count": 50,
   "id": "north-sunset",
   "metadata": {},
   "outputs": [],
   "source": [
    "intersect_list = (intersect(list1, list2))"
   ]
  },
  {
   "cell_type": "code",
   "execution_count": 51,
   "id": "confirmed-texture",
   "metadata": {},
   "outputs": [
    {
     "data": {
      "text/html": [
       "936"
      ],
      "text/latex": [
       "936"
      ],
      "text/markdown": [
       "936"
      ],
      "text/plain": [
       "[1] 936"
      ]
     },
     "metadata": {},
     "output_type": "display_data"
    }
   ],
   "source": [
    "length(intersect_list)"
   ]
  },
  {
   "cell_type": "code",
   "execution_count": 52,
   "id": "exterior-albuquerque",
   "metadata": {},
   "outputs": [
    {
     "data": {
      "text/html": [
       "'character'"
      ],
      "text/latex": [
       "'character'"
      ],
      "text/markdown": [
       "'character'"
      ],
      "text/plain": [
       "[1] \"character\""
      ]
     },
     "metadata": {},
     "output_type": "display_data"
    }
   ],
   "source": [
    "class(intersect_list)"
   ]
  },
  {
   "cell_type": "code",
   "execution_count": 53,
   "id": "sitting-premises",
   "metadata": {},
   "outputs": [],
   "source": [
    "idx = which(early_cells %in% intersect_list)"
   ]
  },
  {
   "cell_type": "code",
   "execution_count": 54,
   "id": "intellectual-explorer",
   "metadata": {},
   "outputs": [],
   "source": [
    "early_cell_unique = early_cells[-idx]"
   ]
  },
  {
   "cell_type": "code",
   "execution_count": 57,
   "id": "german-newspaper",
   "metadata": {},
   "outputs": [
    {
     "data": {
      "text/html": [
       "39995"
      ],
      "text/latex": [
       "39995"
      ],
      "text/markdown": [
       "39995"
      ],
      "text/plain": [
       "[1] 39995"
      ]
     },
     "metadata": {},
     "output_type": "display_data"
    }
   ],
   "source": [
    "length(early_cell_unique)"
   ]
  },
  {
   "cell_type": "code",
   "execution_count": 58,
   "id": "successful-coaching",
   "metadata": {},
   "outputs": [],
   "source": [
    "early_cells_df <- rdata@colData[early_cell_unique, ]"
   ]
  },
  {
   "cell_type": "code",
   "execution_count": 59,
   "id": "north-catholic",
   "metadata": {},
   "outputs": [
    {
     "data": {
      "text/html": [
       "<style>\n",
       ".list-inline {list-style: none; margin:0; padding: 0}\n",
       ".list-inline>li {display: inline-block}\n",
       ".list-inline>li:not(:last-child)::after {content: \"\\00b7\"; padding: 0 .5ex}\n",
       "</style>\n",
       "<ol class=list-inline><li>39995</li><li>29</li></ol>\n"
      ],
      "text/latex": [
       "\\begin{enumerate*}\n",
       "\\item 39995\n",
       "\\item 29\n",
       "\\end{enumerate*}\n"
      ],
      "text/markdown": [
       "1. 39995\n",
       "2. 29\n",
       "\n",
       "\n"
      ],
      "text/plain": [
       "[1] 39995    29"
      ]
     },
     "metadata": {},
     "output_type": "display_data"
    }
   ],
   "source": [
    "dim(early_cells_df)"
   ]
  },
  {
   "cell_type": "code",
   "execution_count": 60,
   "id": "bottom-parcel",
   "metadata": {
    "collapsed": true,
    "jupyter": {
     "outputs_hidden": true
    },
    "tags": []
   },
   "outputs": [
    {
     "data": {
      "text/plain": [
       "DataFrame with 6 rows and 29 columns\n",
       "                                         sanger_id chemistry    donor   gender\n",
       "                                          <factor>  <factor> <factor> <factor>\n",
       "AAAGTAGCAGATCGGA-1-4834STDY7002879 4834STDY7002879    SC3Pv2      F16     male\n",
       "AACACGTAGAGAGCTC-1-4834STDY7002879 4834STDY7002879    SC3Pv2      F16     male\n",
       "AACCATGGTGCCTTGG-1-4834STDY7002879 4834STDY7002879    SC3Pv2      F16     male\n",
       "AACTCAGCAGGACGTA-1-4834STDY7002879 4834STDY7002879    SC3Pv2      F16     male\n",
       "AACTCAGGTCAGCTAT-1-4834STDY7002879 4834STDY7002879    SC3Pv2      F16     male\n",
       "ACAGCTAGTAAACGCG-1-4834STDY7002879 4834STDY7002879    SC3Pv2      F16     male\n",
       "                                         pcw  sorting          sample\n",
       "                                   <numeric> <factor>        <factor>\n",
       "AAAGTAGCAGATCGGA-1-4834STDY7002879         8    CD45P F16_male_8+1PCW\n",
       "AACACGTAGAGAGCTC-1-4834STDY7002879         8    CD45P F16_male_8+1PCW\n",
       "AACCATGGTGCCTTGG-1-4834STDY7002879         8    CD45P F16_male_8+1PCW\n",
       "AACTCAGCAGGACGTA-1-4834STDY7002879         8    CD45P F16_male_8+1PCW\n",
       "AACTCAGGTCAGCTAT-1-4834STDY7002879         8    CD45P F16_male_8+1PCW\n",
       "ACAGCTAGTAAACGCG-1-4834STDY7002879         8    CD45P F16_male_8+1PCW\n",
       "                                   chemistry_sorting cell_caller scrublet_score\n",
       "                                            <factor>    <factor>      <numeric>\n",
       "AAAGTAGCAGATCGGA-1-4834STDY7002879      SC3Pv2_CD45P        Both       0.164557\n",
       "AACACGTAGAGAGCTC-1-4834STDY7002879      SC3Pv2_CD45P        Both       0.333333\n",
       "AACCATGGTGCCTTGG-1-4834STDY7002879      SC3Pv2_CD45P        Both       0.201970\n",
       "AACTCAGCAGGACGTA-1-4834STDY7002879      SC3Pv2_CD45P        Both       0.105590\n",
       "AACTCAGGTCAGCTAT-1-4834STDY7002879      SC3Pv2_CD45P        Both       0.389831\n",
       "ACAGCTAGTAAACGCG-1-4834STDY7002879      SC3Pv2_CD45P        Both       0.333333\n",
       "                                   cluster_scrublet_score doublet_pval\n",
       "                                                <numeric>    <numeric>\n",
       "AAAGTAGCAGATCGGA-1-4834STDY7002879               0.164557     0.455284\n",
       "AACACGTAGAGAGCTC-1-4834STDY7002879               0.225806     0.150885\n",
       "AACCATGGTGCCTTGG-1-4834STDY7002879               0.201970     0.250000\n",
       "AACTCAGCAGGACGTA-1-4834STDY7002879               0.157082     0.500000\n",
       "AACTCAGGTCAGCTAT-1-4834STDY7002879               0.201970     0.250000\n",
       "ACAGCTAGTAAACGCG-1-4834STDY7002879               0.225806     0.150885\n",
       "                                   bh_doublet_pval  n_counts   n_genes\n",
       "                                         <numeric> <numeric> <numeric>\n",
       "AAAGTAGCAGATCGGA-1-4834STDY7002879        0.907861     14791      3099\n",
       "AACACGTAGAGAGCTC-1-4834STDY7002879        0.882352     28096      4891\n",
       "AACCATGGTGCCTTGG-1-4834STDY7002879        0.882352     10369      2686\n",
       "AACTCAGCAGGACGTA-1-4834STDY7002879        0.907861      4452      1586\n",
       "AACTCAGGTCAGCTAT-1-4834STDY7002879        0.882352     10810      2824\n",
       "ACAGCTAGTAAACGCG-1-4834STDY7002879        0.882352     13050      3076\n",
       "                                   percent_mito percent_ribo percent_hb\n",
       "                                      <numeric>    <numeric>  <numeric>\n",
       "AAAGTAGCAGATCGGA-1-4834STDY7002879      1.74430     34.58184  0.1081739\n",
       "AACACGTAGAGAGCTC-1-4834STDY7002879      2.56264     30.05766  0.0854214\n",
       "AACCATGGTGCCTTGG-1-4834STDY7002879      4.82207     22.92410  0.1543061\n",
       "AACTCAGCAGGACGTA-1-4834STDY7002879      3.05481      9.74843  0.1572327\n",
       "AACTCAGGTCAGCTAT-1-4834STDY7002879      3.51526     25.88344  0.1017576\n",
       "ACAGCTAGTAAACGCG-1-4834STDY7002879      2.24521     40.19157  0.1072797\n",
       "                                   independent_annotation_refined\n",
       "                                                      <character>\n",
       "AAAGTAGCAGATCGGA-1-4834STDY7002879         Eo/baso/mast cell pr..\n",
       "AACACGTAGAGAGCTC-1-4834STDY7002879                            DC2\n",
       "AACCATGGTGCCTTGG-1-4834STDY7002879             LYVE1++ macrophage\n",
       "AACTCAGCAGGACGTA-1-4834STDY7002879              TREM2+ macrophage\n",
       "AACTCAGGTCAGCTAT-1-4834STDY7002879             LYVE1++ macrophage\n",
       "ACAGCTAGTAAACGCG-1-4834STDY7002879                        NK cell\n",
       "                                   independent_annotation_broad1\n",
       "                                                        <factor>\n",
       "AAAGTAGCAGATCGGA-1-4834STDY7002879        Granulocyte progenitor\n",
       "AACACGTAGAGAGCTC-1-4834STDY7002879        DC2                   \n",
       "AACCATGGTGCCTTGG-1-4834STDY7002879        Macrophage            \n",
       "AACTCAGCAGGACGTA-1-4834STDY7002879        Microglia             \n",
       "AACTCAGGTCAGCTAT-1-4834STDY7002879        Macrophage            \n",
       "ACAGCTAGTAAACGCG-1-4834STDY7002879        NK cell               \n",
       "                                   independent_annotation_broad2\n",
       "                                                        <factor>\n",
       "AAAGTAGCAGATCGGA-1-4834STDY7002879        Granulocyte progenitor\n",
       "AACACGTAGAGAGCTC-1-4834STDY7002879        cDC                   \n",
       "AACCATGGTGCCTTGG-1-4834STDY7002879        Macrophage            \n",
       "AACTCAGCAGGACGTA-1-4834STDY7002879        Microglia             \n",
       "AACTCAGGTCAGCTAT-1-4834STDY7002879        Macrophage            \n",
       "ACAGCTAGTAAACGCG-1-4834STDY7002879        NK cell               \n",
       "                                   independent_annotation_broad3\n",
       "                                                        <factor>\n",
       "AAAGTAGCAGATCGGA-1-4834STDY7002879        Granulocyte progenitor\n",
       "AACACGTAGAGAGCTC-1-4834STDY7002879        DC                    \n",
       "AACCATGGTGCCTTGG-1-4834STDY7002879        Macrophage            \n",
       "AACTCAGCAGGACGTA-1-4834STDY7002879        Microglia             \n",
       "AACTCAGGTCAGCTAT-1-4834STDY7002879        Macrophage            \n",
       "ACAGCTAGTAAACGCG-1-4834STDY7002879        NK cell               \n",
       "                                   independent_annotation_broad4\n",
       "                                                        <factor>\n",
       "AAAGTAGCAGATCGGA-1-4834STDY7002879      Other blood cells       \n",
       "AACACGTAGAGAGCTC-1-4834STDY7002879      Antigen Presenting Cells\n",
       "AACCATGGTGCCTTGG-1-4834STDY7002879      Antigen Presenting Cells\n",
       "AACTCAGCAGGACGTA-1-4834STDY7002879      Antigen Presenting Cells\n",
       "AACTCAGGTCAGCTAT-1-4834STDY7002879      Antigen Presenting Cells\n",
       "ACAGCTAGTAAACGCG-1-4834STDY7002879      Lymphocytes             \n",
       "                                   independent_annotation_broad5\n",
       "                                                        <factor>\n",
       "AAAGTAGCAGATCGGA-1-4834STDY7002879                        Immune\n",
       "AACACGTAGAGAGCTC-1-4834STDY7002879                        Immune\n",
       "AACCATGGTGCCTTGG-1-4834STDY7002879                        Immune\n",
       "AACTCAGCAGGACGTA-1-4834STDY7002879                        Immune\n",
       "AACTCAGGTCAGCTAT-1-4834STDY7002879                        Immune\n",
       "ACAGCTAGTAAACGCG-1-4834STDY7002879                        Immune\n",
       "                                               joint_annotation is_maternal\n",
       "                                                       <factor>   <logical>\n",
       "AAAGTAGCAGATCGGA-1-4834STDY7002879 Eo/baso/mast cell progenitor       FALSE\n",
       "AACACGTAGAGAGCTC-1-4834STDY7002879 DC2                                FALSE\n",
       "AACCATGGTGCCTTGG-1-4834STDY7002879 Macrophage1                        FALSE\n",
       "AACTCAGCAGGACGTA-1-4834STDY7002879 Microglia                          FALSE\n",
       "AACTCAGGTCAGCTAT-1-4834STDY7002879 Macrophage1                        FALSE\n",
       "ACAGCTAGTAAACGCG-1-4834STDY7002879 NK cell                            FALSE\n",
       "                                   fig1b_annotation X_scvi_batch X_scvi_labels\n",
       "                                           <factor>    <integer>     <integer>\n",
       "AAAGTAGCAGATCGGA-1-4834STDY7002879 Haem progenitors            0             0\n",
       "AACACGTAGAGAGCTC-1-4834STDY7002879 cDC                         0             0\n",
       "AACCATGGTGCCTTGG-1-4834STDY7002879 Macrophage                  0             0\n",
       "AACTCAGCAGGACGTA-1-4834STDY7002879 Macrophage                  0             0\n",
       "AACTCAGGTCAGCTAT-1-4834STDY7002879 Macrophage                  0             0\n",
       "ACAGCTAGTAAACGCG-1-4834STDY7002879 ILC                         0             0"
      ]
     },
     "metadata": {},
     "output_type": "display_data"
    }
   ],
   "source": [
    "head(early_cells_df)"
   ]
  },
  {
   "cell_type": "code",
   "execution_count": 64,
   "id": "sunrise-theology",
   "metadata": {},
   "outputs": [],
   "source": [
    "early_cells_df <- early_cells_df %>% as.data.frame %>% add_column(Enrichment = \"Early\")"
   ]
  },
  {
   "cell_type": "code",
   "execution_count": 65,
   "id": "recognized-draft",
   "metadata": {
    "collapsed": true,
    "jupyter": {
     "outputs_hidden": true
    },
    "tags": []
   },
   "outputs": [
    {
     "data": {
      "text/html": [
       "<table class=\"dataframe\">\n",
       "<caption>A data.frame: 6 × 30</caption>\n",
       "<thead>\n",
       "\t<tr><th></th><th scope=col>sanger_id</th><th scope=col>chemistry</th><th scope=col>donor</th><th scope=col>gender</th><th scope=col>pcw</th><th scope=col>sorting</th><th scope=col>sample</th><th scope=col>chemistry_sorting</th><th scope=col>cell_caller</th><th scope=col>scrublet_score</th><th scope=col>⋯</th><th scope=col>independent_annotation_broad2</th><th scope=col>independent_annotation_broad3</th><th scope=col>independent_annotation_broad4</th><th scope=col>independent_annotation_broad5</th><th scope=col>joint_annotation</th><th scope=col>is_maternal</th><th scope=col>fig1b_annotation</th><th scope=col>X_scvi_batch</th><th scope=col>X_scvi_labels</th><th scope=col>Enrichment</th></tr>\n",
       "\t<tr><th></th><th scope=col>&lt;fct&gt;</th><th scope=col>&lt;fct&gt;</th><th scope=col>&lt;fct&gt;</th><th scope=col>&lt;fct&gt;</th><th scope=col>&lt;dbl&gt;</th><th scope=col>&lt;fct&gt;</th><th scope=col>&lt;fct&gt;</th><th scope=col>&lt;fct&gt;</th><th scope=col>&lt;fct&gt;</th><th scope=col>&lt;dbl&gt;</th><th scope=col>⋯</th><th scope=col>&lt;fct&gt;</th><th scope=col>&lt;fct&gt;</th><th scope=col>&lt;fct&gt;</th><th scope=col>&lt;fct&gt;</th><th scope=col>&lt;fct&gt;</th><th scope=col>&lt;lgl&gt;</th><th scope=col>&lt;fct&gt;</th><th scope=col>&lt;int&gt;</th><th scope=col>&lt;int&gt;</th><th scope=col>&lt;chr&gt;</th></tr>\n",
       "</thead>\n",
       "<tbody>\n",
       "\t<tr><th scope=row>AAAGTAGCAGATCGGA-1-4834STDY7002879</th><td>4834STDY7002879</td><td>SC3Pv2</td><td>F16</td><td>male</td><td>8</td><td>CD45P</td><td>F16_male_8+1PCW</td><td>SC3Pv2_CD45P</td><td>Both</td><td>0.1645570</td><td>⋯</td><td>Granulocyte progenitor</td><td>Granulocyte progenitor</td><td>Other blood cells       </td><td>Immune</td><td>Eo/baso/mast cell progenitor</td><td>FALSE</td><td>Haem progenitors</td><td>0</td><td>0</td><td>Early</td></tr>\n",
       "\t<tr><th scope=row>AACACGTAGAGAGCTC-1-4834STDY7002879</th><td>4834STDY7002879</td><td>SC3Pv2</td><td>F16</td><td>male</td><td>8</td><td>CD45P</td><td>F16_male_8+1PCW</td><td>SC3Pv2_CD45P</td><td>Both</td><td>0.3333333</td><td>⋯</td><td>cDC                   </td><td>DC                    </td><td>Antigen Presenting Cells</td><td>Immune</td><td>DC2                         </td><td>FALSE</td><td>cDC             </td><td>0</td><td>0</td><td>Early</td></tr>\n",
       "\t<tr><th scope=row>AACCATGGTGCCTTGG-1-4834STDY7002879</th><td>4834STDY7002879</td><td>SC3Pv2</td><td>F16</td><td>male</td><td>8</td><td>CD45P</td><td>F16_male_8+1PCW</td><td>SC3Pv2_CD45P</td><td>Both</td><td>0.2019704</td><td>⋯</td><td>Macrophage            </td><td>Macrophage            </td><td>Antigen Presenting Cells</td><td>Immune</td><td>Macrophage1                 </td><td>FALSE</td><td>Macrophage      </td><td>0</td><td>0</td><td>Early</td></tr>\n",
       "\t<tr><th scope=row>AACTCAGCAGGACGTA-1-4834STDY7002879</th><td>4834STDY7002879</td><td>SC3Pv2</td><td>F16</td><td>male</td><td>8</td><td>CD45P</td><td>F16_male_8+1PCW</td><td>SC3Pv2_CD45P</td><td>Both</td><td>0.1055901</td><td>⋯</td><td>Microglia             </td><td>Microglia             </td><td>Antigen Presenting Cells</td><td>Immune</td><td>Microglia                   </td><td>FALSE</td><td>Macrophage      </td><td>0</td><td>0</td><td>Early</td></tr>\n",
       "\t<tr><th scope=row>AACTCAGGTCAGCTAT-1-4834STDY7002879</th><td>4834STDY7002879</td><td>SC3Pv2</td><td>F16</td><td>male</td><td>8</td><td>CD45P</td><td>F16_male_8+1PCW</td><td>SC3Pv2_CD45P</td><td>Both</td><td>0.3898305</td><td>⋯</td><td>Macrophage            </td><td>Macrophage            </td><td>Antigen Presenting Cells</td><td>Immune</td><td>Macrophage1                 </td><td>FALSE</td><td>Macrophage      </td><td>0</td><td>0</td><td>Early</td></tr>\n",
       "\t<tr><th scope=row>ACAGCTAGTAAACGCG-1-4834STDY7002879</th><td>4834STDY7002879</td><td>SC3Pv2</td><td>F16</td><td>male</td><td>8</td><td>CD45P</td><td>F16_male_8+1PCW</td><td>SC3Pv2_CD45P</td><td>Both</td><td>0.3333333</td><td>⋯</td><td>NK cell               </td><td>NK cell               </td><td>Lymphocytes             </td><td>Immune</td><td>NK cell                     </td><td>FALSE</td><td>ILC             </td><td>0</td><td>0</td><td>Early</td></tr>\n",
       "</tbody>\n",
       "</table>\n"
      ],
      "text/latex": [
       "A data.frame: 6 × 30\n",
       "\\begin{tabular}{r|lllllllllllllllllllll}\n",
       "  & sanger\\_id & chemistry & donor & gender & pcw & sorting & sample & chemistry\\_sorting & cell\\_caller & scrublet\\_score & ⋯ & independent\\_annotation\\_broad2 & independent\\_annotation\\_broad3 & independent\\_annotation\\_broad4 & independent\\_annotation\\_broad5 & joint\\_annotation & is\\_maternal & fig1b\\_annotation & X\\_scvi\\_batch & X\\_scvi\\_labels & Enrichment\\\\\n",
       "  & <fct> & <fct> & <fct> & <fct> & <dbl> & <fct> & <fct> & <fct> & <fct> & <dbl> & ⋯ & <fct> & <fct> & <fct> & <fct> & <fct> & <lgl> & <fct> & <int> & <int> & <chr>\\\\\n",
       "\\hline\n",
       "\tAAAGTAGCAGATCGGA-1-4834STDY7002879 & 4834STDY7002879 & SC3Pv2 & F16 & male & 8 & CD45P & F16\\_male\\_8+1PCW & SC3Pv2\\_CD45P & Both & 0.1645570 & ⋯ & Granulocyte progenitor & Granulocyte progenitor & Other blood cells        & Immune & Eo/baso/mast cell progenitor & FALSE & Haem progenitors & 0 & 0 & Early\\\\\n",
       "\tAACACGTAGAGAGCTC-1-4834STDY7002879 & 4834STDY7002879 & SC3Pv2 & F16 & male & 8 & CD45P & F16\\_male\\_8+1PCW & SC3Pv2\\_CD45P & Both & 0.3333333 & ⋯ & cDC                    & DC                     & Antigen Presenting Cells & Immune & DC2                          & FALSE & cDC              & 0 & 0 & Early\\\\\n",
       "\tAACCATGGTGCCTTGG-1-4834STDY7002879 & 4834STDY7002879 & SC3Pv2 & F16 & male & 8 & CD45P & F16\\_male\\_8+1PCW & SC3Pv2\\_CD45P & Both & 0.2019704 & ⋯ & Macrophage             & Macrophage             & Antigen Presenting Cells & Immune & Macrophage1                  & FALSE & Macrophage       & 0 & 0 & Early\\\\\n",
       "\tAACTCAGCAGGACGTA-1-4834STDY7002879 & 4834STDY7002879 & SC3Pv2 & F16 & male & 8 & CD45P & F16\\_male\\_8+1PCW & SC3Pv2\\_CD45P & Both & 0.1055901 & ⋯ & Microglia              & Microglia              & Antigen Presenting Cells & Immune & Microglia                    & FALSE & Macrophage       & 0 & 0 & Early\\\\\n",
       "\tAACTCAGGTCAGCTAT-1-4834STDY7002879 & 4834STDY7002879 & SC3Pv2 & F16 & male & 8 & CD45P & F16\\_male\\_8+1PCW & SC3Pv2\\_CD45P & Both & 0.3898305 & ⋯ & Macrophage             & Macrophage             & Antigen Presenting Cells & Immune & Macrophage1                  & FALSE & Macrophage       & 0 & 0 & Early\\\\\n",
       "\tACAGCTAGTAAACGCG-1-4834STDY7002879 & 4834STDY7002879 & SC3Pv2 & F16 & male & 8 & CD45P & F16\\_male\\_8+1PCW & SC3Pv2\\_CD45P & Both & 0.3333333 & ⋯ & NK cell                & NK cell                & Lymphocytes              & Immune & NK cell                      & FALSE & ILC              & 0 & 0 & Early\\\\\n",
       "\\end{tabular}\n"
      ],
      "text/markdown": [
       "\n",
       "A data.frame: 6 × 30\n",
       "\n",
       "| <!--/--> | sanger_id &lt;fct&gt; | chemistry &lt;fct&gt; | donor &lt;fct&gt; | gender &lt;fct&gt; | pcw &lt;dbl&gt; | sorting &lt;fct&gt; | sample &lt;fct&gt; | chemistry_sorting &lt;fct&gt; | cell_caller &lt;fct&gt; | scrublet_score &lt;dbl&gt; | ⋯ ⋯ | independent_annotation_broad2 &lt;fct&gt; | independent_annotation_broad3 &lt;fct&gt; | independent_annotation_broad4 &lt;fct&gt; | independent_annotation_broad5 &lt;fct&gt; | joint_annotation &lt;fct&gt; | is_maternal &lt;lgl&gt; | fig1b_annotation &lt;fct&gt; | X_scvi_batch &lt;int&gt; | X_scvi_labels &lt;int&gt; | Enrichment &lt;chr&gt; |\n",
       "|---|---|---|---|---|---|---|---|---|---|---|---|---|---|---|---|---|---|---|---|---|---|\n",
       "| AAAGTAGCAGATCGGA-1-4834STDY7002879 | 4834STDY7002879 | SC3Pv2 | F16 | male | 8 | CD45P | F16_male_8+1PCW | SC3Pv2_CD45P | Both | 0.1645570 | ⋯ | Granulocyte progenitor | Granulocyte progenitor | Other blood cells        | Immune | Eo/baso/mast cell progenitor | FALSE | Haem progenitors | 0 | 0 | Early |\n",
       "| AACACGTAGAGAGCTC-1-4834STDY7002879 | 4834STDY7002879 | SC3Pv2 | F16 | male | 8 | CD45P | F16_male_8+1PCW | SC3Pv2_CD45P | Both | 0.3333333 | ⋯ | cDC                    | DC                     | Antigen Presenting Cells | Immune | DC2                          | FALSE | cDC              | 0 | 0 | Early |\n",
       "| AACCATGGTGCCTTGG-1-4834STDY7002879 | 4834STDY7002879 | SC3Pv2 | F16 | male | 8 | CD45P | F16_male_8+1PCW | SC3Pv2_CD45P | Both | 0.2019704 | ⋯ | Macrophage             | Macrophage             | Antigen Presenting Cells | Immune | Macrophage1                  | FALSE | Macrophage       | 0 | 0 | Early |\n",
       "| AACTCAGCAGGACGTA-1-4834STDY7002879 | 4834STDY7002879 | SC3Pv2 | F16 | male | 8 | CD45P | F16_male_8+1PCW | SC3Pv2_CD45P | Both | 0.1055901 | ⋯ | Microglia              | Microglia              | Antigen Presenting Cells | Immune | Microglia                    | FALSE | Macrophage       | 0 | 0 | Early |\n",
       "| AACTCAGGTCAGCTAT-1-4834STDY7002879 | 4834STDY7002879 | SC3Pv2 | F16 | male | 8 | CD45P | F16_male_8+1PCW | SC3Pv2_CD45P | Both | 0.3898305 | ⋯ | Macrophage             | Macrophage             | Antigen Presenting Cells | Immune | Macrophage1                  | FALSE | Macrophage       | 0 | 0 | Early |\n",
       "| ACAGCTAGTAAACGCG-1-4834STDY7002879 | 4834STDY7002879 | SC3Pv2 | F16 | male | 8 | CD45P | F16_male_8+1PCW | SC3Pv2_CD45P | Both | 0.3333333 | ⋯ | NK cell                | NK cell                | Lymphocytes              | Immune | NK cell                      | FALSE | ILC              | 0 | 0 | Early |\n",
       "\n"
      ],
      "text/plain": [
       "                                   sanger_id       chemistry donor gender pcw\n",
       "AAAGTAGCAGATCGGA-1-4834STDY7002879 4834STDY7002879 SC3Pv2    F16   male   8  \n",
       "AACACGTAGAGAGCTC-1-4834STDY7002879 4834STDY7002879 SC3Pv2    F16   male   8  \n",
       "AACCATGGTGCCTTGG-1-4834STDY7002879 4834STDY7002879 SC3Pv2    F16   male   8  \n",
       "AACTCAGCAGGACGTA-1-4834STDY7002879 4834STDY7002879 SC3Pv2    F16   male   8  \n",
       "AACTCAGGTCAGCTAT-1-4834STDY7002879 4834STDY7002879 SC3Pv2    F16   male   8  \n",
       "ACAGCTAGTAAACGCG-1-4834STDY7002879 4834STDY7002879 SC3Pv2    F16   male   8  \n",
       "                                   sorting sample          chemistry_sorting\n",
       "AAAGTAGCAGATCGGA-1-4834STDY7002879 CD45P   F16_male_8+1PCW SC3Pv2_CD45P     \n",
       "AACACGTAGAGAGCTC-1-4834STDY7002879 CD45P   F16_male_8+1PCW SC3Pv2_CD45P     \n",
       "AACCATGGTGCCTTGG-1-4834STDY7002879 CD45P   F16_male_8+1PCW SC3Pv2_CD45P     \n",
       "AACTCAGCAGGACGTA-1-4834STDY7002879 CD45P   F16_male_8+1PCW SC3Pv2_CD45P     \n",
       "AACTCAGGTCAGCTAT-1-4834STDY7002879 CD45P   F16_male_8+1PCW SC3Pv2_CD45P     \n",
       "ACAGCTAGTAAACGCG-1-4834STDY7002879 CD45P   F16_male_8+1PCW SC3Pv2_CD45P     \n",
       "                                   cell_caller scrublet_score ⋯\n",
       "AAAGTAGCAGATCGGA-1-4834STDY7002879 Both        0.1645570      ⋯\n",
       "AACACGTAGAGAGCTC-1-4834STDY7002879 Both        0.3333333      ⋯\n",
       "AACCATGGTGCCTTGG-1-4834STDY7002879 Both        0.2019704      ⋯\n",
       "AACTCAGCAGGACGTA-1-4834STDY7002879 Both        0.1055901      ⋯\n",
       "AACTCAGGTCAGCTAT-1-4834STDY7002879 Both        0.3898305      ⋯\n",
       "ACAGCTAGTAAACGCG-1-4834STDY7002879 Both        0.3333333      ⋯\n",
       "                                   independent_annotation_broad2\n",
       "AAAGTAGCAGATCGGA-1-4834STDY7002879 Granulocyte progenitor       \n",
       "AACACGTAGAGAGCTC-1-4834STDY7002879 cDC                          \n",
       "AACCATGGTGCCTTGG-1-4834STDY7002879 Macrophage                   \n",
       "AACTCAGCAGGACGTA-1-4834STDY7002879 Microglia                    \n",
       "AACTCAGGTCAGCTAT-1-4834STDY7002879 Macrophage                   \n",
       "ACAGCTAGTAAACGCG-1-4834STDY7002879 NK cell                      \n",
       "                                   independent_annotation_broad3\n",
       "AAAGTAGCAGATCGGA-1-4834STDY7002879 Granulocyte progenitor       \n",
       "AACACGTAGAGAGCTC-1-4834STDY7002879 DC                           \n",
       "AACCATGGTGCCTTGG-1-4834STDY7002879 Macrophage                   \n",
       "AACTCAGCAGGACGTA-1-4834STDY7002879 Microglia                    \n",
       "AACTCAGGTCAGCTAT-1-4834STDY7002879 Macrophage                   \n",
       "ACAGCTAGTAAACGCG-1-4834STDY7002879 NK cell                      \n",
       "                                   independent_annotation_broad4\n",
       "AAAGTAGCAGATCGGA-1-4834STDY7002879 Other blood cells            \n",
       "AACACGTAGAGAGCTC-1-4834STDY7002879 Antigen Presenting Cells     \n",
       "AACCATGGTGCCTTGG-1-4834STDY7002879 Antigen Presenting Cells     \n",
       "AACTCAGCAGGACGTA-1-4834STDY7002879 Antigen Presenting Cells     \n",
       "AACTCAGGTCAGCTAT-1-4834STDY7002879 Antigen Presenting Cells     \n",
       "ACAGCTAGTAAACGCG-1-4834STDY7002879 Lymphocytes                  \n",
       "                                   independent_annotation_broad5\n",
       "AAAGTAGCAGATCGGA-1-4834STDY7002879 Immune                       \n",
       "AACACGTAGAGAGCTC-1-4834STDY7002879 Immune                       \n",
       "AACCATGGTGCCTTGG-1-4834STDY7002879 Immune                       \n",
       "AACTCAGCAGGACGTA-1-4834STDY7002879 Immune                       \n",
       "AACTCAGGTCAGCTAT-1-4834STDY7002879 Immune                       \n",
       "ACAGCTAGTAAACGCG-1-4834STDY7002879 Immune                       \n",
       "                                   joint_annotation             is_maternal\n",
       "AAAGTAGCAGATCGGA-1-4834STDY7002879 Eo/baso/mast cell progenitor FALSE      \n",
       "AACACGTAGAGAGCTC-1-4834STDY7002879 DC2                          FALSE      \n",
       "AACCATGGTGCCTTGG-1-4834STDY7002879 Macrophage1                  FALSE      \n",
       "AACTCAGCAGGACGTA-1-4834STDY7002879 Microglia                    FALSE      \n",
       "AACTCAGGTCAGCTAT-1-4834STDY7002879 Macrophage1                  FALSE      \n",
       "ACAGCTAGTAAACGCG-1-4834STDY7002879 NK cell                      FALSE      \n",
       "                                   fig1b_annotation X_scvi_batch X_scvi_labels\n",
       "AAAGTAGCAGATCGGA-1-4834STDY7002879 Haem progenitors 0            0            \n",
       "AACACGTAGAGAGCTC-1-4834STDY7002879 cDC              0            0            \n",
       "AACCATGGTGCCTTGG-1-4834STDY7002879 Macrophage       0            0            \n",
       "AACTCAGCAGGACGTA-1-4834STDY7002879 Macrophage       0            0            \n",
       "AACTCAGGTCAGCTAT-1-4834STDY7002879 Macrophage       0            0            \n",
       "ACAGCTAGTAAACGCG-1-4834STDY7002879 ILC              0            0            \n",
       "                                   Enrichment\n",
       "AAAGTAGCAGATCGGA-1-4834STDY7002879 Early     \n",
       "AACACGTAGAGAGCTC-1-4834STDY7002879 Early     \n",
       "AACCATGGTGCCTTGG-1-4834STDY7002879 Early     \n",
       "AACTCAGCAGGACGTA-1-4834STDY7002879 Early     \n",
       "AACTCAGGTCAGCTAT-1-4834STDY7002879 Early     \n",
       "ACAGCTAGTAAACGCG-1-4834STDY7002879 Early     "
      ]
     },
     "metadata": {},
     "output_type": "display_data"
    }
   ],
   "source": [
    "head(early_cells_df)"
   ]
  },
  {
   "cell_type": "code",
   "execution_count": 66,
   "id": "healthy-religious",
   "metadata": {},
   "outputs": [
    {
     "data": {
      "text/html": [
       "<style>\n",
       ".list-inline {list-style: none; margin:0; padding: 0}\n",
       ".list-inline>li {display: inline-block}\n",
       ".list-inline>li:not(:last-child)::after {content: \"\\00b7\"; padding: 0 .5ex}\n",
       "</style>\n",
       "<ol class=list-inline><li>39995</li><li>30</li></ol>\n"
      ],
      "text/latex": [
       "\\begin{enumerate*}\n",
       "\\item 39995\n",
       "\\item 30\n",
       "\\end{enumerate*}\n"
      ],
      "text/markdown": [
       "1. 39995\n",
       "2. 30\n",
       "\n",
       "\n"
      ],
      "text/plain": [
       "[1] 39995    30"
      ]
     },
     "metadata": {},
     "output_type": "display_data"
    }
   ],
   "source": [
    "dim(early_cells_df)"
   ]
  },
  {
   "cell_type": "code",
   "execution_count": 67,
   "id": "framed-emphasis",
   "metadata": {},
   "outputs": [
    {
     "data": {
      "text/html": [
       "65119"
      ],
      "text/latex": [
       "65119"
      ],
      "text/markdown": [
       "65119"
      ],
      "text/plain": [
       "[1] 65119"
      ]
     },
     "metadata": {},
     "output_type": "display_data"
    }
   ],
   "source": [
    "length(late_cells)"
   ]
  },
  {
   "cell_type": "code",
   "execution_count": 68,
   "id": "objective-vietnam",
   "metadata": {},
   "outputs": [],
   "source": [
    "idx2 = which(late_cells %in% intersect_list)"
   ]
  },
  {
   "cell_type": "code",
   "execution_count": 69,
   "id": "subsequent-intensity",
   "metadata": {},
   "outputs": [],
   "source": [
    "late_cell_unique = late_cells[-idx2]"
   ]
  },
  {
   "cell_type": "code",
   "execution_count": 70,
   "id": "mounted-latitude",
   "metadata": {},
   "outputs": [
    {
     "data": {
      "text/html": [
       "64183"
      ],
      "text/latex": [
       "64183"
      ],
      "text/markdown": [
       "64183"
      ],
      "text/plain": [
       "[1] 64183"
      ]
     },
     "metadata": {},
     "output_type": "display_data"
    }
   ],
   "source": [
    "length(late_cell_unique)"
   ]
  },
  {
   "cell_type": "code",
   "execution_count": 71,
   "id": "amino-testament",
   "metadata": {},
   "outputs": [],
   "source": [
    "late_cells_df <- rdata@colData[late_cell_unique, ]"
   ]
  },
  {
   "cell_type": "code",
   "execution_count": 72,
   "id": "advised-undergraduate",
   "metadata": {},
   "outputs": [
    {
     "data": {
      "text/html": [
       "<style>\n",
       ".list-inline {list-style: none; margin:0; padding: 0}\n",
       ".list-inline>li {display: inline-block}\n",
       ".list-inline>li:not(:last-child)::after {content: \"\\00b7\"; padding: 0 .5ex}\n",
       "</style>\n",
       "<ol class=list-inline><li>64183</li><li>29</li></ol>\n"
      ],
      "text/latex": [
       "\\begin{enumerate*}\n",
       "\\item 64183\n",
       "\\item 29\n",
       "\\end{enumerate*}\n"
      ],
      "text/markdown": [
       "1. 64183\n",
       "2. 29\n",
       "\n",
       "\n"
      ],
      "text/plain": [
       "[1] 64183    29"
      ]
     },
     "metadata": {},
     "output_type": "display_data"
    }
   ],
   "source": [
    "dim(late_cells_df)"
   ]
  },
  {
   "cell_type": "code",
   "execution_count": 73,
   "id": "banner-concentration",
   "metadata": {},
   "outputs": [],
   "source": [
    "late_cells_df <- late_cells_df %>% as.data.frame %>% add_column(Enrichment = \"Late\")"
   ]
  },
  {
   "cell_type": "code",
   "execution_count": 74,
   "id": "amended-walter",
   "metadata": {
    "collapsed": true,
    "jupyter": {
     "outputs_hidden": true
    },
    "tags": []
   },
   "outputs": [
    {
     "data": {
      "text/html": [
       "<table class=\"dataframe\">\n",
       "<caption>A data.frame: 6 × 30</caption>\n",
       "<thead>\n",
       "\t<tr><th></th><th scope=col>sanger_id</th><th scope=col>chemistry</th><th scope=col>donor</th><th scope=col>gender</th><th scope=col>pcw</th><th scope=col>sorting</th><th scope=col>sample</th><th scope=col>chemistry_sorting</th><th scope=col>cell_caller</th><th scope=col>scrublet_score</th><th scope=col>⋯</th><th scope=col>independent_annotation_broad2</th><th scope=col>independent_annotation_broad3</th><th scope=col>independent_annotation_broad4</th><th scope=col>independent_annotation_broad5</th><th scope=col>joint_annotation</th><th scope=col>is_maternal</th><th scope=col>fig1b_annotation</th><th scope=col>X_scvi_batch</th><th scope=col>X_scvi_labels</th><th scope=col>Enrichment</th></tr>\n",
       "\t<tr><th></th><th scope=col>&lt;fct&gt;</th><th scope=col>&lt;fct&gt;</th><th scope=col>&lt;fct&gt;</th><th scope=col>&lt;fct&gt;</th><th scope=col>&lt;dbl&gt;</th><th scope=col>&lt;fct&gt;</th><th scope=col>&lt;fct&gt;</th><th scope=col>&lt;fct&gt;</th><th scope=col>&lt;fct&gt;</th><th scope=col>&lt;dbl&gt;</th><th scope=col>⋯</th><th scope=col>&lt;fct&gt;</th><th scope=col>&lt;fct&gt;</th><th scope=col>&lt;fct&gt;</th><th scope=col>&lt;fct&gt;</th><th scope=col>&lt;fct&gt;</th><th scope=col>&lt;lgl&gt;</th><th scope=col>&lt;fct&gt;</th><th scope=col>&lt;int&gt;</th><th scope=col>&lt;int&gt;</th><th scope=col>&lt;chr&gt;</th></tr>\n",
       "</thead>\n",
       "<tbody>\n",
       "\t<tr><th scope=row>AAAGATGGTCGATTGT-1-4834STDY7002879</th><td>4834STDY7002879</td><td>SC3Pv2</td><td>F16</td><td>male</td><td>8</td><td>CD45P</td><td>F16_male_8+1PCW</td><td>SC3Pv2_CD45P</td><td>Both</td><td>0.1496063</td><td>⋯</td><td>Monocyte  </td><td>Monocyte  </td><td>Antigen Presenting Cells</td><td>Immune</td><td>Monocyte (activated/differentiating)</td><td>FALSE</td><td>Monocyte  </td><td>0</td><td>0</td><td>Late</td></tr>\n",
       "\t<tr><th scope=row>ACACCAATCCTCTAGC-1-4834STDY7002879</th><td>4834STDY7002879</td><td>SC3Pv2</td><td>F16</td><td>male</td><td>8</td><td>CD45P</td><td>F16_male_8+1PCW</td><td>SC3Pv2_CD45P</td><td>Both</td><td>0.1496063</td><td>⋯</td><td>Monocyte  </td><td>Monocyte  </td><td>Antigen Presenting Cells</td><td>Immune</td><td>Monocyte                            </td><td>FALSE</td><td>Monocyte  </td><td>0</td><td>0</td><td>Late</td></tr>\n",
       "\t<tr><th scope=row>ACGGGTCCAGTGAGTG-1-4834STDY7002879</th><td>4834STDY7002879</td><td>SC3Pv2</td><td>F16</td><td>male</td><td>8</td><td>CD45P</td><td>F16_male_8+1PCW</td><td>SC3Pv2_CD45P</td><td>Both</td><td>0.2258065</td><td>⋯</td><td>Macrophage</td><td>Macrophage</td><td>Antigen Presenting Cells</td><td>Immune</td><td>Macrophage1                         </td><td>FALSE</td><td>Macrophage</td><td>0</td><td>0</td><td>Late</td></tr>\n",
       "\t<tr><th scope=row>ACTTTCATCCGAGCCA-1-4834STDY7002879</th><td>4834STDY7002879</td><td>SC3Pv2</td><td>F16</td><td>male</td><td>8</td><td>CD45P</td><td>F16_male_8+1PCW</td><td>SC3Pv2_CD45P</td><td>Both</td><td>0.2258065</td><td>⋯</td><td>B cell    </td><td>B cell    </td><td>Lymphocytes             </td><td>Immune</td><td>B cell                              </td><td>FALSE</td><td>B cell    </td><td>0</td><td>0</td><td>Late</td></tr>\n",
       "\t<tr><th scope=row>ATCGAGTGTAAATGAC-1-4834STDY7002879</th><td>4834STDY7002879</td><td>SC3Pv2</td><td>F16</td><td>male</td><td>8</td><td>CD45P</td><td>F16_male_8+1PCW</td><td>SC3Pv2_CD45P</td><td>Empt</td><td>0.1250000</td><td>⋯</td><td>Macrophage</td><td>Macrophage</td><td>Antigen Presenting Cells</td><td>Immune</td><td>Macrophage2                         </td><td>FALSE</td><td>Macrophage</td><td>0</td><td>0</td><td>Late</td></tr>\n",
       "\t<tr><th scope=row>ATGGGAGAGTAGGTGC-1-4834STDY7002879</th><td>4834STDY7002879</td><td>SC3Pv2</td><td>F16</td><td>male</td><td>8</td><td>CD45P</td><td>F16_male_8+1PCW</td><td>SC3Pv2_CD45P</td><td>Both</td><td>0.1818182</td><td>⋯</td><td>NK cell   </td><td>NK cell   </td><td>Lymphocytes             </td><td>Immune</td><td>NK cell                             </td><td>FALSE</td><td>ILC       </td><td>0</td><td>0</td><td>Late</td></tr>\n",
       "</tbody>\n",
       "</table>\n"
      ],
      "text/latex": [
       "A data.frame: 6 × 30\n",
       "\\begin{tabular}{r|lllllllllllllllllllll}\n",
       "  & sanger\\_id & chemistry & donor & gender & pcw & sorting & sample & chemistry\\_sorting & cell\\_caller & scrublet\\_score & ⋯ & independent\\_annotation\\_broad2 & independent\\_annotation\\_broad3 & independent\\_annotation\\_broad4 & independent\\_annotation\\_broad5 & joint\\_annotation & is\\_maternal & fig1b\\_annotation & X\\_scvi\\_batch & X\\_scvi\\_labels & Enrichment\\\\\n",
       "  & <fct> & <fct> & <fct> & <fct> & <dbl> & <fct> & <fct> & <fct> & <fct> & <dbl> & ⋯ & <fct> & <fct> & <fct> & <fct> & <fct> & <lgl> & <fct> & <int> & <int> & <chr>\\\\\n",
       "\\hline\n",
       "\tAAAGATGGTCGATTGT-1-4834STDY7002879 & 4834STDY7002879 & SC3Pv2 & F16 & male & 8 & CD45P & F16\\_male\\_8+1PCW & SC3Pv2\\_CD45P & Both & 0.1496063 & ⋯ & Monocyte   & Monocyte   & Antigen Presenting Cells & Immune & Monocyte (activated/differentiating) & FALSE & Monocyte   & 0 & 0 & Late\\\\\n",
       "\tACACCAATCCTCTAGC-1-4834STDY7002879 & 4834STDY7002879 & SC3Pv2 & F16 & male & 8 & CD45P & F16\\_male\\_8+1PCW & SC3Pv2\\_CD45P & Both & 0.1496063 & ⋯ & Monocyte   & Monocyte   & Antigen Presenting Cells & Immune & Monocyte                             & FALSE & Monocyte   & 0 & 0 & Late\\\\\n",
       "\tACGGGTCCAGTGAGTG-1-4834STDY7002879 & 4834STDY7002879 & SC3Pv2 & F16 & male & 8 & CD45P & F16\\_male\\_8+1PCW & SC3Pv2\\_CD45P & Both & 0.2258065 & ⋯ & Macrophage & Macrophage & Antigen Presenting Cells & Immune & Macrophage1                          & FALSE & Macrophage & 0 & 0 & Late\\\\\n",
       "\tACTTTCATCCGAGCCA-1-4834STDY7002879 & 4834STDY7002879 & SC3Pv2 & F16 & male & 8 & CD45P & F16\\_male\\_8+1PCW & SC3Pv2\\_CD45P & Both & 0.2258065 & ⋯ & B cell     & B cell     & Lymphocytes              & Immune & B cell                               & FALSE & B cell     & 0 & 0 & Late\\\\\n",
       "\tATCGAGTGTAAATGAC-1-4834STDY7002879 & 4834STDY7002879 & SC3Pv2 & F16 & male & 8 & CD45P & F16\\_male\\_8+1PCW & SC3Pv2\\_CD45P & Empt & 0.1250000 & ⋯ & Macrophage & Macrophage & Antigen Presenting Cells & Immune & Macrophage2                          & FALSE & Macrophage & 0 & 0 & Late\\\\\n",
       "\tATGGGAGAGTAGGTGC-1-4834STDY7002879 & 4834STDY7002879 & SC3Pv2 & F16 & male & 8 & CD45P & F16\\_male\\_8+1PCW & SC3Pv2\\_CD45P & Both & 0.1818182 & ⋯ & NK cell    & NK cell    & Lymphocytes              & Immune & NK cell                              & FALSE & ILC        & 0 & 0 & Late\\\\\n",
       "\\end{tabular}\n"
      ],
      "text/markdown": [
       "\n",
       "A data.frame: 6 × 30\n",
       "\n",
       "| <!--/--> | sanger_id &lt;fct&gt; | chemistry &lt;fct&gt; | donor &lt;fct&gt; | gender &lt;fct&gt; | pcw &lt;dbl&gt; | sorting &lt;fct&gt; | sample &lt;fct&gt; | chemistry_sorting &lt;fct&gt; | cell_caller &lt;fct&gt; | scrublet_score &lt;dbl&gt; | ⋯ ⋯ | independent_annotation_broad2 &lt;fct&gt; | independent_annotation_broad3 &lt;fct&gt; | independent_annotation_broad4 &lt;fct&gt; | independent_annotation_broad5 &lt;fct&gt; | joint_annotation &lt;fct&gt; | is_maternal &lt;lgl&gt; | fig1b_annotation &lt;fct&gt; | X_scvi_batch &lt;int&gt; | X_scvi_labels &lt;int&gt; | Enrichment &lt;chr&gt; |\n",
       "|---|---|---|---|---|---|---|---|---|---|---|---|---|---|---|---|---|---|---|---|---|---|\n",
       "| AAAGATGGTCGATTGT-1-4834STDY7002879 | 4834STDY7002879 | SC3Pv2 | F16 | male | 8 | CD45P | F16_male_8+1PCW | SC3Pv2_CD45P | Both | 0.1496063 | ⋯ | Monocyte   | Monocyte   | Antigen Presenting Cells | Immune | Monocyte (activated/differentiating) | FALSE | Monocyte   | 0 | 0 | Late |\n",
       "| ACACCAATCCTCTAGC-1-4834STDY7002879 | 4834STDY7002879 | SC3Pv2 | F16 | male | 8 | CD45P | F16_male_8+1PCW | SC3Pv2_CD45P | Both | 0.1496063 | ⋯ | Monocyte   | Monocyte   | Antigen Presenting Cells | Immune | Monocyte                             | FALSE | Monocyte   | 0 | 0 | Late |\n",
       "| ACGGGTCCAGTGAGTG-1-4834STDY7002879 | 4834STDY7002879 | SC3Pv2 | F16 | male | 8 | CD45P | F16_male_8+1PCW | SC3Pv2_CD45P | Both | 0.2258065 | ⋯ | Macrophage | Macrophage | Antigen Presenting Cells | Immune | Macrophage1                          | FALSE | Macrophage | 0 | 0 | Late |\n",
       "| ACTTTCATCCGAGCCA-1-4834STDY7002879 | 4834STDY7002879 | SC3Pv2 | F16 | male | 8 | CD45P | F16_male_8+1PCW | SC3Pv2_CD45P | Both | 0.2258065 | ⋯ | B cell     | B cell     | Lymphocytes              | Immune | B cell                               | FALSE | B cell     | 0 | 0 | Late |\n",
       "| ATCGAGTGTAAATGAC-1-4834STDY7002879 | 4834STDY7002879 | SC3Pv2 | F16 | male | 8 | CD45P | F16_male_8+1PCW | SC3Pv2_CD45P | Empt | 0.1250000 | ⋯ | Macrophage | Macrophage | Antigen Presenting Cells | Immune | Macrophage2                          | FALSE | Macrophage | 0 | 0 | Late |\n",
       "| ATGGGAGAGTAGGTGC-1-4834STDY7002879 | 4834STDY7002879 | SC3Pv2 | F16 | male | 8 | CD45P | F16_male_8+1PCW | SC3Pv2_CD45P | Both | 0.1818182 | ⋯ | NK cell    | NK cell    | Lymphocytes              | Immune | NK cell                              | FALSE | ILC        | 0 | 0 | Late |\n",
       "\n"
      ],
      "text/plain": [
       "                                   sanger_id       chemistry donor gender pcw\n",
       "AAAGATGGTCGATTGT-1-4834STDY7002879 4834STDY7002879 SC3Pv2    F16   male   8  \n",
       "ACACCAATCCTCTAGC-1-4834STDY7002879 4834STDY7002879 SC3Pv2    F16   male   8  \n",
       "ACGGGTCCAGTGAGTG-1-4834STDY7002879 4834STDY7002879 SC3Pv2    F16   male   8  \n",
       "ACTTTCATCCGAGCCA-1-4834STDY7002879 4834STDY7002879 SC3Pv2    F16   male   8  \n",
       "ATCGAGTGTAAATGAC-1-4834STDY7002879 4834STDY7002879 SC3Pv2    F16   male   8  \n",
       "ATGGGAGAGTAGGTGC-1-4834STDY7002879 4834STDY7002879 SC3Pv2    F16   male   8  \n",
       "                                   sorting sample          chemistry_sorting\n",
       "AAAGATGGTCGATTGT-1-4834STDY7002879 CD45P   F16_male_8+1PCW SC3Pv2_CD45P     \n",
       "ACACCAATCCTCTAGC-1-4834STDY7002879 CD45P   F16_male_8+1PCW SC3Pv2_CD45P     \n",
       "ACGGGTCCAGTGAGTG-1-4834STDY7002879 CD45P   F16_male_8+1PCW SC3Pv2_CD45P     \n",
       "ACTTTCATCCGAGCCA-1-4834STDY7002879 CD45P   F16_male_8+1PCW SC3Pv2_CD45P     \n",
       "ATCGAGTGTAAATGAC-1-4834STDY7002879 CD45P   F16_male_8+1PCW SC3Pv2_CD45P     \n",
       "ATGGGAGAGTAGGTGC-1-4834STDY7002879 CD45P   F16_male_8+1PCW SC3Pv2_CD45P     \n",
       "                                   cell_caller scrublet_score ⋯\n",
       "AAAGATGGTCGATTGT-1-4834STDY7002879 Both        0.1496063      ⋯\n",
       "ACACCAATCCTCTAGC-1-4834STDY7002879 Both        0.1496063      ⋯\n",
       "ACGGGTCCAGTGAGTG-1-4834STDY7002879 Both        0.2258065      ⋯\n",
       "ACTTTCATCCGAGCCA-1-4834STDY7002879 Both        0.2258065      ⋯\n",
       "ATCGAGTGTAAATGAC-1-4834STDY7002879 Empt        0.1250000      ⋯\n",
       "ATGGGAGAGTAGGTGC-1-4834STDY7002879 Both        0.1818182      ⋯\n",
       "                                   independent_annotation_broad2\n",
       "AAAGATGGTCGATTGT-1-4834STDY7002879 Monocyte                     \n",
       "ACACCAATCCTCTAGC-1-4834STDY7002879 Monocyte                     \n",
       "ACGGGTCCAGTGAGTG-1-4834STDY7002879 Macrophage                   \n",
       "ACTTTCATCCGAGCCA-1-4834STDY7002879 B cell                       \n",
       "ATCGAGTGTAAATGAC-1-4834STDY7002879 Macrophage                   \n",
       "ATGGGAGAGTAGGTGC-1-4834STDY7002879 NK cell                      \n",
       "                                   independent_annotation_broad3\n",
       "AAAGATGGTCGATTGT-1-4834STDY7002879 Monocyte                     \n",
       "ACACCAATCCTCTAGC-1-4834STDY7002879 Monocyte                     \n",
       "ACGGGTCCAGTGAGTG-1-4834STDY7002879 Macrophage                   \n",
       "ACTTTCATCCGAGCCA-1-4834STDY7002879 B cell                       \n",
       "ATCGAGTGTAAATGAC-1-4834STDY7002879 Macrophage                   \n",
       "ATGGGAGAGTAGGTGC-1-4834STDY7002879 NK cell                      \n",
       "                                   independent_annotation_broad4\n",
       "AAAGATGGTCGATTGT-1-4834STDY7002879 Antigen Presenting Cells     \n",
       "ACACCAATCCTCTAGC-1-4834STDY7002879 Antigen Presenting Cells     \n",
       "ACGGGTCCAGTGAGTG-1-4834STDY7002879 Antigen Presenting Cells     \n",
       "ACTTTCATCCGAGCCA-1-4834STDY7002879 Lymphocytes                  \n",
       "ATCGAGTGTAAATGAC-1-4834STDY7002879 Antigen Presenting Cells     \n",
       "ATGGGAGAGTAGGTGC-1-4834STDY7002879 Lymphocytes                  \n",
       "                                   independent_annotation_broad5\n",
       "AAAGATGGTCGATTGT-1-4834STDY7002879 Immune                       \n",
       "ACACCAATCCTCTAGC-1-4834STDY7002879 Immune                       \n",
       "ACGGGTCCAGTGAGTG-1-4834STDY7002879 Immune                       \n",
       "ACTTTCATCCGAGCCA-1-4834STDY7002879 Immune                       \n",
       "ATCGAGTGTAAATGAC-1-4834STDY7002879 Immune                       \n",
       "ATGGGAGAGTAGGTGC-1-4834STDY7002879 Immune                       \n",
       "                                   joint_annotation                    \n",
       "AAAGATGGTCGATTGT-1-4834STDY7002879 Monocyte (activated/differentiating)\n",
       "ACACCAATCCTCTAGC-1-4834STDY7002879 Monocyte                            \n",
       "ACGGGTCCAGTGAGTG-1-4834STDY7002879 Macrophage1                         \n",
       "ACTTTCATCCGAGCCA-1-4834STDY7002879 B cell                              \n",
       "ATCGAGTGTAAATGAC-1-4834STDY7002879 Macrophage2                         \n",
       "ATGGGAGAGTAGGTGC-1-4834STDY7002879 NK cell                             \n",
       "                                   is_maternal fig1b_annotation X_scvi_batch\n",
       "AAAGATGGTCGATTGT-1-4834STDY7002879 FALSE       Monocyte         0           \n",
       "ACACCAATCCTCTAGC-1-4834STDY7002879 FALSE       Monocyte         0           \n",
       "ACGGGTCCAGTGAGTG-1-4834STDY7002879 FALSE       Macrophage       0           \n",
       "ACTTTCATCCGAGCCA-1-4834STDY7002879 FALSE       B cell           0           \n",
       "ATCGAGTGTAAATGAC-1-4834STDY7002879 FALSE       Macrophage       0           \n",
       "ATGGGAGAGTAGGTGC-1-4834STDY7002879 FALSE       ILC              0           \n",
       "                                   X_scvi_labels Enrichment\n",
       "AAAGATGGTCGATTGT-1-4834STDY7002879 0             Late      \n",
       "ACACCAATCCTCTAGC-1-4834STDY7002879 0             Late      \n",
       "ACGGGTCCAGTGAGTG-1-4834STDY7002879 0             Late      \n",
       "ACTTTCATCCGAGCCA-1-4834STDY7002879 0             Late      \n",
       "ATCGAGTGTAAATGAC-1-4834STDY7002879 0             Late      \n",
       "ATGGGAGAGTAGGTGC-1-4834STDY7002879 0             Late      "
      ]
     },
     "metadata": {},
     "output_type": "display_data"
    }
   ],
   "source": [
    "head(late_cells_df)"
   ]
  },
  {
   "cell_type": "code",
   "execution_count": 75,
   "id": "domestic-setup",
   "metadata": {},
   "outputs": [],
   "source": [
    "#check\n",
    "list3 = early_cell_unique %>% as.vector\n",
    "list4 = late_cell_unique %>% as.vector\n",
    "length(intersect(list3, list4))"
   ]
  },
  {
   "cell_type": "code",
   "execution_count": 78,
   "id": "administrative-shoot",
   "metadata": {},
   "outputs": [],
   "source": [
    "write.csv(late_cells_df, '/home/jovyan/projects/skin/fetal_skin/milo csv/late_cells_allnew.csv')"
   ]
  },
  {
   "cell_type": "code",
   "execution_count": 79,
   "id": "automated-print",
   "metadata": {},
   "outputs": [],
   "source": [
    "write.csv(early_cells_df, '/home/jovyan/projects/skin/fetal_skin/milo csv/early_cells_allnew.csv')"
   ]
  },
  {
   "cell_type": "code",
   "execution_count": 80,
   "id": "recognized-selection",
   "metadata": {},
   "outputs": [],
   "source": [
    "allcells_milo_unique <- rbind(early_cells_df, late_cells_df)"
   ]
  },
  {
   "cell_type": "code",
   "execution_count": 81,
   "id": "romantic-characterization",
   "metadata": {},
   "outputs": [
    {
     "data": {
      "text/html": [
       "<style>\n",
       ".list-inline {list-style: none; margin:0; padding: 0}\n",
       ".list-inline>li {display: inline-block}\n",
       ".list-inline>li:not(:last-child)::after {content: \"\\00b7\"; padding: 0 .5ex}\n",
       "</style>\n",
       "<ol class=list-inline><li>104178</li><li>30</li></ol>\n"
      ],
      "text/latex": [
       "\\begin{enumerate*}\n",
       "\\item 104178\n",
       "\\item 30\n",
       "\\end{enumerate*}\n"
      ],
      "text/markdown": [
       "1. 104178\n",
       "2. 30\n",
       "\n",
       "\n"
      ],
      "text/plain": [
       "[1] 104178     30"
      ]
     },
     "metadata": {},
     "output_type": "display_data"
    }
   ],
   "source": [
    "dim(allcells_milo_unique)"
   ]
  },
  {
   "cell_type": "code",
   "execution_count": 82,
   "id": "experimental-stopping",
   "metadata": {},
   "outputs": [],
   "source": [
    "write.csv(allcells_milo_unique, '/home/jovyan/projects/skin/fetal_skin/milo csv/milo_cells_allnew.csv')"
   ]
  }
 ],
 "metadata": {
  "kernelspec": {
   "display_name": "R 4.1.1new",
   "language": "R",
   "name": "ir411new"
  },
  "language_info": {
   "codemirror_mode": "r",
   "file_extension": ".r",
   "mimetype": "text/x-r-source",
   "name": "R",
   "pygments_lexer": "r",
   "version": "4.1.1"
  }
 },
 "nbformat": 4,
 "nbformat_minor": 5
}
