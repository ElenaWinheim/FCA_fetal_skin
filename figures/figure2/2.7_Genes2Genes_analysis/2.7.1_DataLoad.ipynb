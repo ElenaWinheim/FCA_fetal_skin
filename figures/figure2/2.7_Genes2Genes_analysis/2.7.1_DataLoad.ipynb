{
 "cells": [
  {
   "cell_type": "markdown",
   "id": "distinct-pennsylvania",
   "metadata": {},
   "source": [
    "# Data load and preperation to construct scvi embeddings of lineages"
   ]
  },
  {
   "cell_type": "code",
   "execution_count": null,
   "id": "ruled-divide",
   "metadata": {},
   "outputs": [],
   "source": [
    "import numpy as np\n",
    "import pandas as pd\n",
    "import scanpy as sc\n",
    "import anndata"
   ]
  },
  {
   "cell_type": "code",
   "execution_count": 26,
   "id": "listed-meter",
   "metadata": {},
   "outputs": [],
   "source": [
    "adata = anndata.read_h5ad('fetal_skin.norm.maternal_removed.20220202.h5ad')"
   ]
  },
  {
   "cell_type": "code",
   "execution_count": 43,
   "id": "lovely-familiar",
   "metadata": {},
   "outputs": [
    {
     "data": {
      "text/plain": [
       "AnnData object with n_obs × n_vars = 186533 × 28885\n",
       "    obs: 'sanger_id', 'chemistry', 'donor', 'gender', 'pcw', 'sorting', 'sample', 'chemistry_sorting', 'cell_caller', 'scrublet_score', 'cluster_scrublet_score', 'doublet_pval', 'bh_doublet_pval', 'n_counts', 'n_genes', 'percent_mito', 'percent_ribo', 'percent_hb', 'independent_annotation_refined', 'independent_annotation_broad1', 'independent_annotation_broad2', 'independent_annotation_broad3', 'independent_annotation_broad4', 'independent_annotation_broad5', 'joint_annotation', 'is_maternal', 'fig1b_annotation', 'independent_annotation_refined_20220201a', 'independent_annotation_refined_20220201b', 'independent_annotation_broad1_20220201', 'independent_annotation_broad2_20220201', 'independent_annotation_broad3_20220201', 'joint_annotation_20220201a', 'joint_annotation_20220201b', 'fig1b_annotation_20220201', 'fig1b_annotation_20220202', 'joint_annotation_20220202', 'fig1b_annotation_v2', 'independent_annotation_refined_20220202'\n",
       "    var: 'gene_ids', 'mito', 'ribo', 'hb', 'n_cells', 'cc', 'n_counts'\n",
       "    uns: 'fig1b_annotation_20220202_colors'\n",
       "    obsm: 'X_umap1', 'X_umap2'"
      ]
     },
     "execution_count": 43,
     "metadata": {},
     "output_type": "execute_result"
    }
   ],
   "source": [
    "adata"
   ]
  },
  {
   "cell_type": "code",
   "execution_count": null,
   "id": "generous-access",
   "metadata": {},
   "outputs": [],
   "source": [
    "# get raw count data \n",
    "#adata_raw = anndata.read_h5ad('/lustre/scratch126/cellgen/team298/SharedFolders/fetal_skin/data_for_Issac/fetal_skin_raw.h5ad')\n",
    "#print(np.unique([c in adata_raw.obs_names for c in adata.obs_names]))\n",
    "#adata_raw = adata_raw[adata.obs_names, adata.var_names]\n",
    "#adata.layers['counts'] = adata_raw.X\n",
    "#adata = adata_raw"
   ]
  },
  {
   "cell_type": "code",
   "execution_count": 41,
   "id": "republican-advertising",
   "metadata": {},
   "outputs": [
    {
     "name": "stdout",
     "output_type": "stream",
     "text": [
      "Fibroblasts ------------ \n",
      "['Dermal condensate' 'Dermal papilla' 'FRZB+ early fibroblast'\n",
      " 'HOXC5+ early fibroblast' 'Myofibroblasts' 'PEAR1+ fibroblast'\n",
      " 'Pre-dermal condensate' 'WNT2+ fibroblast']\n",
      "Keratinocytes ------------ \n",
      "['Companion layer' 'Cuticle/cortex' 'DPYSL2+ basal' 'Immature basal'\n",
      " 'Immature suprabasal' 'Inner root sheath' 'Outer root sheath'\n",
      " 'POSTN+ basal' 'Periderm' 'Placode/matrix' 'Suprabasal IFE']\n",
      "Vascular Endothelium ------------ \n",
      "['Arterioles' 'Capillaries' 'Capillary arterioles' 'Early LE'\n",
      " 'Early endothelial cells' 'LE' 'Postcapillary venules' 'Venules']\n"
     ]
    }
   ],
   "source": [
    "fib_ctypes = {\n",
    "'FRZB+ early fibroblast': 'Fibroblast',\n",
    "'HOXC5+ early fibroblast': 'Fibroblast',\n",
    "'WNT2+ fibroblast': 'Fibroblast',\n",
    "'PEAR1+ fibroblast': 'Fibroblast',\n",
    "'Pre-dermal condensate': 'Fibroblast',\n",
    "'Dermal condensate': 'Fibroblast',\n",
    "'Dermal papilla': 'Fibroblast',\n",
    "'Myofibroblasts': 'Fibroblast'\n",
    "}\n",
    "\n",
    "kera_ctypes = {\n",
    "  'Periderm': 'Keratinocyte', \n",
    "'Immature basal': 'Keratinocyte',\n",
    "'Immature suprabasal': 'Keratinocyte',\n",
    "'POSTN+ basal': 'Keratinocyte',\n",
    "'DPYSL2+ basal': 'Keratinocyte',\n",
    "'Suprabasal IFE': 'Keratinocyte',\n",
    "'Outer root sheath': 'Keratinocyte',\n",
    "'Companion layer': 'Keratinocyte',\n",
    "'Placode/matrix': 'Keratinocyte',\n",
    "'Inner root sheath': 'Keratinocyte',\n",
    "'Cuticle/cortex': 'Keratinocyte'} \n",
    "\n",
    "endo_ctypes = {\n",
    " 'Early LE': 'Lymphatic endothelium',\n",
    "'LE': 'Lymphatic endothelium',\n",
    "'Early endothelial cells': 'Vascular endothelium',\n",
    "'Capillary arterioles': 'Vascular endothelium',\n",
    "'Arterioles': 'Vascular endothelium',\n",
    "'Capillaries': 'Vascular endothelium',\n",
    "'Postcapillary venules': 'Vascular endothelium',\n",
    "'Venules': 'Vascular endothelium'}\n",
    "\n",
    "ANNO_COLNAME = 'joint_annotation_20220202'\n",
    "\n",
    "def subset_adata(adata, ctypes):\n",
    "    adata_sub = adata[[x in list(ctypes.keys()) for x in adata.obs[ANNO_COLNAME]]] \n",
    "    print(np.unique(adata_sub.obs[ANNO_COLNAME]))\n",
    "    return adata_sub\n",
    "    \n",
    "print('Fibroblasts ------------ ')\n",
    "adata_Fibro = subset_adata(adata, fib_ctypes)\n",
    "print('Keratinocytes ------------ ')\n",
    "adata_Keratino = subset_adata(adata, kera_ctypes)\n",
    "print('Vascular Endothelium ------------ ')\n",
    "adata_Endo = subset_adata(adata, endo_ctypes)"
   ]
  },
  {
   "cell_type": "code",
   "execution_count": 42,
   "id": "loved-underwear",
   "metadata": {},
   "outputs": [
    {
     "name": "stdout",
     "output_type": "stream",
     "text": [
      "(95576, 28885)\n",
      "(2173, 28885)\n",
      "(1469, 28885)\n"
     ]
    }
   ],
   "source": [
    "print(adata_Fibro.shape)\n",
    "print(adata_Endo.shape)\n",
    "print(adata_Keratino.shape)"
   ]
  },
  {
   "cell_type": "code",
   "execution_count": 170,
   "id": "ideal-exclusion",
   "metadata": {},
   "outputs": [],
   "source": [
    "adata_Fibro.write_h5ad('adata_Fibro.h5ad')\n",
    "adata_Keratino.write_h5ad('adata_Keratino.h5ad')\n",
    "adata_Endo.write_h5ad('adata_Endo.h5ad')"
   ]
  }
 ],
 "metadata": {
  "environment": {
   "kernel": "genes2genes-env",
   "name": "pytorch-gpu.1-9.m82",
   "type": "gcloud",
   "uri": "gcr.io/deeplearning-platform-release/pytorch-gpu.1-9:m82"
  },
  "kernelspec": {
   "display_name": "genes2genes-env",
   "language": "python",
   "name": "genes2genes-env"
  },
  "language_info": {
   "codemirror_mode": {
    "name": "ipython",
    "version": 3
   },
   "file_extension": ".py",
   "mimetype": "text/x-python",
   "name": "python",
   "nbconvert_exporter": "python",
   "pygments_lexer": "ipython3",
   "version": "3.8.16"
  }
 },
 "nbformat": 4,
 "nbformat_minor": 5
}
