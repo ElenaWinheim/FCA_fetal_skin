{
 "cells": [
  {
   "cell_type": "markdown",
   "id": "streaming-munich",
   "metadata": {},
   "source": [
    "# Import and settings"
   ]
  },
  {
   "cell_type": "code",
   "execution_count": 1,
   "id": "purple-compact",
   "metadata": {
    "execution": {
     "iopub.execute_input": "2022-10-10T09:15:40.932219Z",
     "iopub.status.busy": "2022-10-10T09:15:40.931920Z",
     "iopub.status.idle": "2022-10-10T09:15:40.945355Z",
     "shell.execute_reply": "2022-10-10T09:15:40.944622Z",
     "shell.execute_reply.started": "2022-10-10T09:15:40.932186Z"
    },
    "tags": []
   },
   "outputs": [],
   "source": [
    "%load_ext autoreload\n",
    "%autoreload 2"
   ]
  },
  {
   "cell_type": "code",
   "execution_count": 2,
   "id": "surgical-practitioner",
   "metadata": {
    "execution": {
     "iopub.execute_input": "2022-10-10T09:15:42.153358Z",
     "iopub.status.busy": "2022-10-10T09:15:42.153127Z",
     "iopub.status.idle": "2022-10-10T09:15:45.112450Z",
     "shell.execute_reply": "2022-10-10T09:15:45.111584Z",
     "shell.execute_reply.started": "2022-10-10T09:15:42.153335Z"
    },
    "tags": []
   },
   "outputs": [],
   "source": [
    "import warnings\n",
    "\n",
    "warnings.simplefilter(action=\"ignore\", category=FutureWarning)\n",
    "warnings.simplefilter(action=\"ignore\", category=DeprecationWarning)\n",
    "\n",
    "import os, sys, re, gc, joblib\n",
    "import numpy as np\n",
    "import numpy_groupies as npg\n",
    "import pandas as pd\n",
    "import scipy.sparse as sp\n",
    "\n",
    "import matplotlib.pyplot as plt\n",
    "from matplotlib import rcParams\n",
    "from matplotlib.colors import ListedColormap\n",
    "\n",
    "import seaborn as sn\n",
    "\n",
    "import anndata\n",
    "import scanpy as sc\n",
    "import sctk as sk\n",
    "\n",
    "\n",
    "rcParams[\"pdf.fonttype\"] = 42\n",
    "rcParams[\"ps.fonttype\"] = 42\n",
    "np.set_printoptions(linewidth=180)\n",
    "sc.settings.verbosity = 1\n",
    "sk.set_figsize((4, 4))\n",
    "expr_cmap = sk.expression_colormap()"
   ]
  },
  {
   "cell_type": "markdown",
   "id": "amended-windsor",
   "metadata": {},
   "source": [
    "# Load data"
   ]
  },
  {
   "cell_type": "code",
   "execution_count": 3,
   "id": "described-radio",
   "metadata": {
    "execution": {
     "iopub.execute_input": "2022-10-10T09:16:47.211376Z",
     "iopub.status.busy": "2022-10-10T09:16:47.211089Z",
     "iopub.status.idle": "2022-10-10T09:17:21.785651Z",
     "shell.execute_reply": "2022-10-10T09:17:21.784781Z",
     "shell.execute_reply.started": "2022-10-10T09:16:47.211351Z"
    },
    "tags": []
   },
   "outputs": [],
   "source": [
    "pooled_ad = sc.read(\"h5ad/pooled_fetal_organoid.count_with_annot.h5ad\")"
   ]
  },
  {
   "cell_type": "code",
   "execution_count": 4,
   "id": "dietary-metro",
   "metadata": {
    "execution": {
     "iopub.execute_input": "2022-10-10T09:17:21.786951Z",
     "iopub.status.busy": "2022-10-10T09:17:21.786758Z",
     "iopub.status.idle": "2022-10-10T09:17:21.808822Z",
     "shell.execute_reply": "2022-10-10T09:17:21.808105Z",
     "shell.execute_reply.started": "2022-10-10T09:17:21.786929Z"
    },
    "tags": []
   },
   "outputs": [
    {
     "data": {
      "text/plain": [
       "AnnData object with n_obs × n_vars = 310368 × 46794\n",
       "    obs: 'dataset', 'donor', 'pcw', 'day', 'sample_id', 'fetal_annot', 'organoid_annot', 'pooled_annot', 'chemistry', 'gender', 'sorting'\n",
       "    var: 'mito', 'ribo', 'hb', 'n_counts', 'n_cells'"
      ]
     },
     "execution_count": 4,
     "metadata": {},
     "output_type": "execute_result"
    }
   ],
   "source": [
    "pooled_ad"
   ]
  },
  {
   "cell_type": "code",
   "execution_count": 5,
   "id": "celtic-surface",
   "metadata": {
    "execution": {
     "iopub.execute_input": "2022-10-10T09:17:21.810110Z",
     "iopub.status.busy": "2022-10-10T09:17:21.809930Z",
     "iopub.status.idle": "2022-10-10T09:17:21.830977Z",
     "shell.execute_reply": "2022-10-10T09:17:21.830352Z",
     "shell.execute_reply.started": "2022-10-10T09:17:21.810089Z"
    },
    "tags": []
   },
   "outputs": [
    {
     "data": {
      "text/plain": [
       "array([5., 1., 1., ..., 1., 1., 1.], dtype=float32)"
      ]
     },
     "execution_count": 5,
     "metadata": {},
     "output_type": "execute_result"
    }
   ],
   "source": [
    "pooled_ad.X.data"
   ]
  },
  {
   "cell_type": "code",
   "execution_count": 6,
   "id": "seven-fisher",
   "metadata": {
    "execution": {
     "iopub.execute_input": "2022-10-10T09:17:21.832046Z",
     "iopub.status.busy": "2022-10-10T09:17:21.831840Z",
     "iopub.status.idle": "2022-10-10T09:17:21.850756Z",
     "shell.execute_reply": "2022-10-10T09:17:21.850161Z",
     "shell.execute_reply.started": "2022-10-10T09:17:21.832026Z"
    },
    "tags": []
   },
   "outputs": [
    {
     "data": {
      "text/plain": [
       "['fetal_ASDC',\n",
       " 'fetal_Adipocytes',\n",
       " 'fetal_Arterial',\n",
       " 'fetal_B cell',\n",
       " 'fetal_Basal',\n",
       " 'fetal_CD4 T cell',\n",
       " 'fetal_CD8 T cell',\n",
       " 'fetal_Capillary (venular tip)',\n",
       " 'fetal_Capillary/postcapillary venule',\n",
       " 'fetal_Companion layer',\n",
       " 'fetal_Cuticle/cortex',\n",
       " 'fetal_DC1',\n",
       " 'fetal_DC2',\n",
       " 'fetal_Dermal condensate',\n",
       " 'fetal_Dermal papillia',\n",
       " 'fetal_Early LE',\n",
       " 'fetal_Early endothelial cell',\n",
       " 'fetal_Early erythroid',\n",
       " 'fetal_Early erythroid (embryonic)',\n",
       " 'fetal_Early myocytes',\n",
       " 'fetal_Eo/baso/mast cell progenitor',\n",
       " 'fetal_Erythroid (embryonic)',\n",
       " 'fetal_Erythroid (fetal)',\n",
       " 'fetal_FRZB+ early fibroblast',\n",
       " 'fetal_HOXC5+ early fibroblast',\n",
       " 'fetal_HSC',\n",
       " 'fetal_ILC2',\n",
       " 'fetal_ILC3',\n",
       " 'fetal_Immature basal',\n",
       " 'fetal_Immature suprabasal',\n",
       " 'fetal_Inflammatory DC',\n",
       " 'fetal_Innate T type1',\n",
       " 'fetal_Innate T type3',\n",
       " 'fetal_Inner root sheath',\n",
       " 'fetal_Iron-recycling macrophage',\n",
       " 'fetal_LC',\n",
       " 'fetal_LE',\n",
       " 'fetal_LMCD1+ mural cell',\n",
       " 'fetal_LTi',\n",
       " 'fetal_LYVE1++ macrophage',\n",
       " 'fetal_Lymphoid progenitor',\n",
       " 'fetal_MEMP - Early erythroid',\n",
       " 'fetal_MEMP - Megak',\n",
       " 'fetal_MHCII+ macrophage',\n",
       " 'fetal_Mast cell (earliest)',\n",
       " 'fetal_Mast cell (medium)',\n",
       " 'fetal_Mast cell (most mature)',\n",
       " 'fetal_Matrix/placode',\n",
       " 'fetal_Megakaryocyte',\n",
       " 'fetal_Melanoblast',\n",
       " 'fetal_Melanocyte',\n",
       " 'fetal_Monocyte',\n",
       " 'fetal_Monocyte (activated/differentiating)',\n",
       " 'fetal_Monocyte precursor',\n",
       " 'fetal_Myelinating Schwann cells',\n",
       " 'fetal_Myoblasts',\n",
       " 'fetal_Myocytes',\n",
       " 'fetal_Myofibroblasts',\n",
       " 'fetal_NK cell',\n",
       " 'fetal_Neuroendocrine',\n",
       " 'fetal_Neuron progenitors',\n",
       " 'fetal_Neutrophil1',\n",
       " 'fetal_Neutrophil2',\n",
       " 'fetal_Outer root sheath',\n",
       " 'fetal_PEAR1+ fibroblast',\n",
       " 'fetal_PID1+ schwann cellls',\n",
       " 'fetal_PLN+ mural cell',\n",
       " 'fetal_POSTN+ basal',\n",
       " 'fetal_Pericytes',\n",
       " 'fetal_Periderm',\n",
       " 'fetal_Postcapillary venule',\n",
       " 'fetal_Pre B cell',\n",
       " 'fetal_Pre pro B cell',\n",
       " 'fetal_Pre-dermal condensate',\n",
       " 'fetal_Pro B cell',\n",
       " 'fetal_SPP1+ proliferating neuron proneitors',\n",
       " 'fetal_Schwann/Schwann precursors',\n",
       " 'fetal_Suprabasal IFE',\n",
       " 'fetal_TREM2+ macrophage',\n",
       " 'fetal_Tip cell (arterial)',\n",
       " 'fetal_Treg',\n",
       " 'fetal_WNT2+ fibroblast',\n",
       " 'fetal_pDC',\n",
       " 'organoid_Adipocytes',\n",
       " 'organoid_Basal',\n",
       " 'organoid_Companion layer',\n",
       " 'organoid_Cuticle/cortex',\n",
       " 'organoid_Dermal condensate',\n",
       " 'organoid_Dermal papillia',\n",
       " 'organoid_Early myocytes',\n",
       " 'organoid_FRZB+ early fibroblast',\n",
       " 'organoid_HOXC5+ early fibroblast',\n",
       " 'organoid_Immature basal',\n",
       " 'organoid_Immature suprabasal',\n",
       " 'organoid_Inner root sheath',\n",
       " 'organoid_Matrix/placode',\n",
       " 'organoid_Melanoblast',\n",
       " 'organoid_Melanocyte',\n",
       " 'organoid_Merkel cells',\n",
       " 'organoid_Mural cell',\n",
       " 'organoid_Myelinating Schwann cells',\n",
       " 'organoid_Myoblasts',\n",
       " 'organoid_Myocytes',\n",
       " 'organoid_Neuroepithelial cells',\n",
       " 'organoid_Neuron progenitors',\n",
       " 'organoid_Outer root sheath',\n",
       " 'organoid_POSTN+ basal',\n",
       " 'organoid_POSTN+ fibroblast',\n",
       " 'organoid_Periderm',\n",
       " 'organoid_Pre-dermal condensate',\n",
       " 'organoid_Proliferating melanoblasts',\n",
       " 'organoid_SPP1+ proliferating neuron proneitors',\n",
       " 'organoid_Schwann/Schwann precursors',\n",
       " 'organoid_Secreting neuron',\n",
       " 'organoid_Suprabasal IFE',\n",
       " 'organoid_Tip cell (arterial)',\n",
       " 'organoid_Uncertain']"
      ]
     },
     "execution_count": 6,
     "metadata": {},
     "output_type": "execute_result"
    }
   ],
   "source": [
    "pooled_ad.obs.pooled_annot.cat.categories.tolist()"
   ]
  },
  {
   "cell_type": "markdown",
   "id": "owned-marketplace",
   "metadata": {},
   "source": [
    "# Process"
   ]
  },
  {
   "cell_type": "markdown",
   "id": "mechanical-winter",
   "metadata": {},
   "source": [
    "## Subset, split, normalise, etc"
   ]
  },
  {
   "cell_type": "code",
   "execution_count": 7,
   "id": "brief-despite",
   "metadata": {
    "execution": {
     "iopub.execute_input": "2022-10-10T09:18:37.355787Z",
     "iopub.status.busy": "2022-10-10T09:18:37.355488Z",
     "iopub.status.idle": "2022-10-10T09:18:37.378684Z",
     "shell.execute_reply": "2022-10-10T09:18:37.377974Z",
     "shell.execute_reply.started": "2022-10-10T09:18:37.355763Z"
    },
    "tags": []
   },
   "outputs": [],
   "source": [
    "pooled_ad.obs.pooled_annot.cat.rename_categories(\n",
    "    {\"organoid_POSTN+ fibroblast\": \"organoid_WNT2+ fibroblast\"}, inplace=True\n",
    ")"
   ]
  },
  {
   "cell_type": "code",
   "execution_count": 8,
   "id": "threaded-russell",
   "metadata": {
    "execution": {
     "iopub.execute_input": "2022-10-10T09:25:40.397312Z",
     "iopub.status.busy": "2022-10-10T09:25:40.397012Z",
     "iopub.status.idle": "2022-10-10T09:25:40.425928Z",
     "shell.execute_reply": "2022-10-10T09:25:40.425102Z",
     "shell.execute_reply.started": "2022-10-10T09:25:40.397286Z"
    },
    "tags": []
   },
   "outputs": [],
   "source": [
    "k_included = pooled_ad.obs.pooled_annot.isin(\n",
    "    [\n",
    "        \"fetal_Basal\",\n",
    "        \"fetal_Companion layer\",\n",
    "        \"fetal_Cuticle/cortex\",\n",
    "        \"fetal_Immature basal\",\n",
    "        \"fetal_Immature suprabasal\",\n",
    "        \"fetal_Inner root sheath\",\n",
    "        \"fetal_Matrix/placode\",\n",
    "        \"fetal_Outer root sheath\",\n",
    "        \"fetal_Periderm\",\n",
    "        \"fetal_POSTN+ basal\",\n",
    "        \"fetal_Suprabasal IFE\",\n",
    "        \"fetal_FRZB+ early fibroblast\",\n",
    "        \"fetal_HOXC5+ early fibroblast\",\n",
    "        \"fetal_WNT2+ fibroblast\",\n",
    "        \"fetal_PEAR1+ fibroblast\",\n",
    "        \"fetal_Pre-dermal condensate\",\n",
    "        \"fetal_Dermal condensate\",\n",
    "        \"fetal_Dermal papillia\",\n",
    "        \"organoid_Basal\",\n",
    "        \"organoid_Companion layer\",\n",
    "        \"organoid_Cuticle/cortex\",\n",
    "        \"organoid_Immature basal\",\n",
    "        \"organoid_Immature suprabasal\",\n",
    "        \"organoid_Inner root sheath\",\n",
    "        \"organoid_Matrix/placode\",\n",
    "        \"organoid_Outer root sheath\",\n",
    "        \"organoid_Periderm\",\n",
    "        \"organoid_POSTN+ basal\",\n",
    "        \"organoid_Suprabasal IFE\",\n",
    "        \"organoid_FRZB+ early fibroblast\",\n",
    "        \"organoid_HOXC5+ early fibroblast\",\n",
    "        \"organoid_WNT2+ fibroblast\",\n",
    "        \"organoid_PEAR1+ fibroblast\",\n",
    "        \"organoid_Pre-dermal condensate\",\n",
    "        \"organoid_Dermal condensate\",\n",
    "        \"organoid_Dermal papillia\",\n",
    "    ]\n",
    ")"
   ]
  },
  {
   "cell_type": "code",
   "execution_count": 9,
   "id": "desirable-appraisal",
   "metadata": {
    "execution": {
     "iopub.execute_input": "2022-10-10T09:25:42.114012Z",
     "iopub.status.busy": "2022-10-10T09:25:42.113807Z",
     "iopub.status.idle": "2022-10-10T09:25:42.195533Z",
     "shell.execute_reply": "2022-10-10T09:25:42.194434Z",
     "shell.execute_reply.started": "2022-10-10T09:25:42.113974Z"
    },
    "tags": []
   },
   "outputs": [],
   "source": [
    "ad1 = pooled_ad[k_included]"
   ]
  },
  {
   "cell_type": "code",
   "execution_count": 10,
   "id": "wireless-ideal",
   "metadata": {
    "execution": {
     "iopub.execute_input": "2022-10-10T09:25:47.029193Z",
     "iopub.status.busy": "2022-10-10T09:25:47.028970Z",
     "iopub.status.idle": "2022-10-10T09:25:50.300148Z",
     "shell.execute_reply": "2022-10-10T09:25:50.299057Z",
     "shell.execute_reply.started": "2022-10-10T09:25:47.029170Z"
    },
    "tags": []
   },
   "outputs": [],
   "source": [
    "ads = sk.split_by_group(ad1, groupby=\"dataset\")"
   ]
  },
  {
   "cell_type": "code",
   "execution_count": 11,
   "id": "oriental-failing",
   "metadata": {
    "execution": {
     "iopub.execute_input": "2022-10-10T09:25:50.301680Z",
     "iopub.status.busy": "2022-10-10T09:25:50.301444Z",
     "iopub.status.idle": "2022-10-10T09:25:50.323021Z",
     "shell.execute_reply": "2022-10-10T09:25:50.322291Z",
     "shell.execute_reply.started": "2022-10-10T09:25:50.301644Z"
    },
    "tags": []
   },
   "outputs": [
    {
     "data": {
      "text/plain": [
       "{'fetal': AnnData object with n_obs × n_vars = 93891 × 46794\n",
       "     obs: 'dataset', 'donor', 'pcw', 'day', 'sample_id', 'fetal_annot', 'organoid_annot', 'pooled_annot', 'chemistry', 'gender', 'sorting'\n",
       "     var: 'mito', 'ribo', 'hb', 'n_counts', 'n_cells',\n",
       " 'organoid': AnnData object with n_obs × n_vars = 105303 × 46794\n",
       "     obs: 'dataset', 'donor', 'pcw', 'day', 'sample_id', 'fetal_annot', 'organoid_annot', 'pooled_annot', 'chemistry', 'gender', 'sorting'\n",
       "     var: 'mito', 'ribo', 'hb', 'n_counts', 'n_cells'}"
      ]
     },
     "execution_count": 11,
     "metadata": {},
     "output_type": "execute_result"
    }
   ],
   "source": [
    "ads"
   ]
  },
  {
   "cell_type": "code",
   "execution_count": 12,
   "id": "grateful-israeli",
   "metadata": {
    "execution": {
     "iopub.execute_input": "2022-10-10T09:26:10.937909Z",
     "iopub.status.busy": "2022-10-10T09:26:10.937563Z",
     "iopub.status.idle": "2022-10-10T09:26:24.946526Z",
     "shell.execute_reply": "2022-10-10T09:26:24.945400Z",
     "shell.execute_reply.started": "2022-10-10T09:26:10.937883Z"
    },
    "tags": []
   },
   "outputs": [],
   "source": [
    "for name, ad in ads.items():\n",
    "    sc.pp.filter_genes(ad, min_counts=1)\n",
    "    sc.pp.normalize_total(ad, target_sum=1e4)\n",
    "    sc.pp.log1p(ad)"
   ]
  },
  {
   "cell_type": "code",
   "execution_count": 13,
   "id": "collaborative-aggregate",
   "metadata": {
    "execution": {
     "iopub.execute_input": "2022-10-10T09:26:37.007460Z",
     "iopub.status.busy": "2022-10-10T09:26:37.007049Z",
     "iopub.status.idle": "2022-10-10T09:26:37.029020Z",
     "shell.execute_reply": "2022-10-10T09:26:37.028355Z",
     "shell.execute_reply.started": "2022-10-10T09:26:37.007433Z"
    },
    "tags": []
   },
   "outputs": [
    {
     "data": {
      "text/plain": [
       "array([0.43932745, 0.43932745, 0.9764408 , ..., 1.5827801 , 1.5827801 , 1.5827801 ], dtype=float32)"
      ]
     },
     "execution_count": 13,
     "metadata": {},
     "output_type": "execute_result"
    }
   ],
   "source": [
    "ads[\"fetal\"].X.data"
   ]
  },
  {
   "cell_type": "markdown",
   "id": "effective-intro",
   "metadata": {},
   "source": [
    "## Extract and prepare data to plot"
   ]
  },
  {
   "cell_type": "code",
   "execution_count": 14,
   "id": "thermal-taylor",
   "metadata": {
    "execution": {
     "iopub.execute_input": "2022-10-10T09:30:31.985004Z",
     "iopub.status.busy": "2022-10-10T09:30:31.984602Z",
     "iopub.status.idle": "2022-10-10T09:30:32.006710Z",
     "shell.execute_reply": "2022-10-10T09:30:32.006244Z",
     "shell.execute_reply.started": "2022-10-10T09:30:31.984975Z"
    },
    "tags": []
   },
   "outputs": [],
   "source": [
    "fetal_genes = [\n",
    "    \"KRT5\",\n",
    "    \"KRT14\",\n",
    "    \"KLHL24\",\n",
    "    \"DST\",\n",
    "    \"EXPH5\",\n",
    "    \"PLEC\",\n",
    "    \"CD151\",\n",
    "    \"COL17A1\",\n",
    "    \"ITGA3\",\n",
    "    \"ITGA6\",\n",
    "    \"ITGB4\",\n",
    "    \"LAMA3\",\n",
    "    \"LAMB3\",\n",
    "    \"LAMC2\",\n",
    "    \"COL7A1\",\n",
    "    \"FERMT1\",\n",
    "]\n",
    "organoid_genes = fetal_genes"
   ]
  },
  {
   "cell_type": "code",
   "execution_count": 38,
   "id": "hourly-orchestra",
   "metadata": {
    "execution": {
     "iopub.execute_input": "2022-10-10T09:52:23.787702Z",
     "iopub.status.busy": "2022-10-10T09:52:23.787456Z",
     "iopub.status.idle": "2022-10-10T09:52:24.255510Z",
     "shell.execute_reply": "2022-10-10T09:52:24.254560Z",
     "shell.execute_reply.started": "2022-10-10T09:52:23.787678Z"
    },
    "tags": []
   },
   "outputs": [],
   "source": [
    "fetal_df = sk.summarise_expression_by_group(ads[\"fetal\"], groupby=\"pooled_annot\", genes=fetal_genes)\n",
    "fetal_df[\"group\"] = fetal_df[\"group\"].astype(str).str.replace(\"fetal_\", \"\")\n",
    "fetal_df[\"dataset\"] = \"fetal\""
   ]
  },
  {
   "cell_type": "code",
   "execution_count": 39,
   "id": "severe-mathematics",
   "metadata": {
    "execution": {
     "iopub.execute_input": "2022-10-10T09:52:27.660815Z",
     "iopub.status.busy": "2022-10-10T09:52:27.660606Z",
     "iopub.status.idle": "2022-10-10T09:52:27.691267Z",
     "shell.execute_reply": "2022-10-10T09:52:27.690454Z",
     "shell.execute_reply.started": "2022-10-10T09:52:27.660792Z"
    },
    "tags": []
   },
   "outputs": [
    {
     "data": {
      "text/html": [
       "<div>\n",
       "<style scoped>\n",
       "    .dataframe tbody tr th:only-of-type {\n",
       "        vertical-align: middle;\n",
       "    }\n",
       "\n",
       "    .dataframe tbody tr th {\n",
       "        vertical-align: top;\n",
       "    }\n",
       "\n",
       "    .dataframe thead th {\n",
       "        text-align: right;\n",
       "    }\n",
       "</style>\n",
       "<table border=\"1\" class=\"dataframe\">\n",
       "  <thead>\n",
       "    <tr style=\"text-align: right;\">\n",
       "      <th></th>\n",
       "      <th>gene</th>\n",
       "      <th>group</th>\n",
       "      <th>frac</th>\n",
       "      <th>avg</th>\n",
       "      <th>dataset</th>\n",
       "    </tr>\n",
       "  </thead>\n",
       "  <tbody>\n",
       "    <tr>\n",
       "      <th>0</th>\n",
       "      <td>CD151</td>\n",
       "      <td>Basal</td>\n",
       "      <td>0.835583</td>\n",
       "      <td>0.945127</td>\n",
       "      <td>fetal</td>\n",
       "    </tr>\n",
       "    <tr>\n",
       "      <th>1</th>\n",
       "      <td>CD151</td>\n",
       "      <td>Companion layer</td>\n",
       "      <td>0.888889</td>\n",
       "      <td>1.068020</td>\n",
       "      <td>fetal</td>\n",
       "    </tr>\n",
       "    <tr>\n",
       "      <th>2</th>\n",
       "      <td>CD151</td>\n",
       "      <td>Cuticle/cortex</td>\n",
       "      <td>0.809524</td>\n",
       "      <td>0.996445</td>\n",
       "      <td>fetal</td>\n",
       "    </tr>\n",
       "    <tr>\n",
       "      <th>3</th>\n",
       "      <td>CD151</td>\n",
       "      <td>Dermal condensate</td>\n",
       "      <td>0.315380</td>\n",
       "      <td>0.366148</td>\n",
       "      <td>fetal</td>\n",
       "    </tr>\n",
       "    <tr>\n",
       "      <th>4</th>\n",
       "      <td>CD151</td>\n",
       "      <td>Dermal papillia</td>\n",
       "      <td>0.353025</td>\n",
       "      <td>0.495246</td>\n",
       "      <td>fetal</td>\n",
       "    </tr>\n",
       "    <tr>\n",
       "      <th>...</th>\n",
       "      <td>...</td>\n",
       "      <td>...</td>\n",
       "      <td>...</td>\n",
       "      <td>...</td>\n",
       "      <td>...</td>\n",
       "    </tr>\n",
       "    <tr>\n",
       "      <th>283</th>\n",
       "      <td>PLEC</td>\n",
       "      <td>POSTN+ basal</td>\n",
       "      <td>0.434783</td>\n",
       "      <td>0.470148</td>\n",
       "      <td>fetal</td>\n",
       "    </tr>\n",
       "    <tr>\n",
       "      <th>284</th>\n",
       "      <td>PLEC</td>\n",
       "      <td>Periderm</td>\n",
       "      <td>0.267974</td>\n",
       "      <td>0.221562</td>\n",
       "      <td>fetal</td>\n",
       "    </tr>\n",
       "    <tr>\n",
       "      <th>285</th>\n",
       "      <td>PLEC</td>\n",
       "      <td>Pre-dermal condensate</td>\n",
       "      <td>0.104603</td>\n",
       "      <td>0.093817</td>\n",
       "      <td>fetal</td>\n",
       "    </tr>\n",
       "    <tr>\n",
       "      <th>286</th>\n",
       "      <td>PLEC</td>\n",
       "      <td>Suprabasal IFE</td>\n",
       "      <td>0.133333</td>\n",
       "      <td>0.147472</td>\n",
       "      <td>fetal</td>\n",
       "    </tr>\n",
       "    <tr>\n",
       "      <th>287</th>\n",
       "      <td>PLEC</td>\n",
       "      <td>WNT2+ fibroblast</td>\n",
       "      <td>0.246419</td>\n",
       "      <td>0.211600</td>\n",
       "      <td>fetal</td>\n",
       "    </tr>\n",
       "  </tbody>\n",
       "</table>\n",
       "<p>288 rows × 5 columns</p>\n",
       "</div>"
      ],
      "text/plain": [
       "      gene                  group      frac       avg dataset\n",
       "0    CD151                  Basal  0.835583  0.945127   fetal\n",
       "1    CD151        Companion layer  0.888889  1.068020   fetal\n",
       "2    CD151         Cuticle/cortex  0.809524  0.996445   fetal\n",
       "3    CD151      Dermal condensate  0.315380  0.366148   fetal\n",
       "4    CD151        Dermal papillia  0.353025  0.495246   fetal\n",
       "..     ...                    ...       ...       ...     ...\n",
       "283   PLEC           POSTN+ basal  0.434783  0.470148   fetal\n",
       "284   PLEC               Periderm  0.267974  0.221562   fetal\n",
       "285   PLEC  Pre-dermal condensate  0.104603  0.093817   fetal\n",
       "286   PLEC         Suprabasal IFE  0.133333  0.147472   fetal\n",
       "287   PLEC       WNT2+ fibroblast  0.246419  0.211600   fetal\n",
       "\n",
       "[288 rows x 5 columns]"
      ]
     },
     "execution_count": 39,
     "metadata": {},
     "output_type": "execute_result"
    }
   ],
   "source": [
    "fetal_df"
   ]
  },
  {
   "cell_type": "code",
   "execution_count": 40,
   "id": "former-entry",
   "metadata": {
    "execution": {
     "iopub.execute_input": "2022-10-10T09:52:40.260424Z",
     "iopub.status.busy": "2022-10-10T09:52:40.260169Z",
     "iopub.status.idle": "2022-10-10T09:52:40.753933Z",
     "shell.execute_reply": "2022-10-10T09:52:40.752867Z",
     "shell.execute_reply.started": "2022-10-10T09:52:40.260400Z"
    },
    "tags": []
   },
   "outputs": [],
   "source": [
    "organoid_df = sk.summarise_expression_by_group(\n",
    "    ads[\"organoid\"], groupby=\"pooled_annot\", genes=fetal_genes\n",
    ")\n",
    "organoid_df[\"group\"] = organoid_df[\"group\"].astype(str).str.replace(\"organoid_\", \"\")\n",
    "organoid_df[\"dataset\"] = \"organoid\""
   ]
  },
  {
   "cell_type": "code",
   "execution_count": 41,
   "id": "adolescent-michael",
   "metadata": {
    "execution": {
     "iopub.execute_input": "2022-10-10T09:52:41.095904Z",
     "iopub.status.busy": "2022-10-10T09:52:41.095672Z",
     "iopub.status.idle": "2022-10-10T09:52:41.127351Z",
     "shell.execute_reply": "2022-10-10T09:52:41.126681Z",
     "shell.execute_reply.started": "2022-10-10T09:52:41.095880Z"
    },
    "tags": []
   },
   "outputs": [
    {
     "data": {
      "text/html": [
       "<div>\n",
       "<style scoped>\n",
       "    .dataframe tbody tr th:only-of-type {\n",
       "        vertical-align: middle;\n",
       "    }\n",
       "\n",
       "    .dataframe tbody tr th {\n",
       "        vertical-align: top;\n",
       "    }\n",
       "\n",
       "    .dataframe thead th {\n",
       "        text-align: right;\n",
       "    }\n",
       "</style>\n",
       "<table border=\"1\" class=\"dataframe\">\n",
       "  <thead>\n",
       "    <tr style=\"text-align: right;\">\n",
       "      <th></th>\n",
       "      <th>gene</th>\n",
       "      <th>group</th>\n",
       "      <th>frac</th>\n",
       "      <th>avg</th>\n",
       "      <th>dataset</th>\n",
       "    </tr>\n",
       "  </thead>\n",
       "  <tbody>\n",
       "    <tr>\n",
       "      <th>0</th>\n",
       "      <td>CD151</td>\n",
       "      <td>Basal</td>\n",
       "      <td>0.712405</td>\n",
       "      <td>0.852125</td>\n",
       "      <td>organoid</td>\n",
       "    </tr>\n",
       "    <tr>\n",
       "      <th>1</th>\n",
       "      <td>CD151</td>\n",
       "      <td>Companion layer</td>\n",
       "      <td>0.705293</td>\n",
       "      <td>0.704219</td>\n",
       "      <td>organoid</td>\n",
       "    </tr>\n",
       "    <tr>\n",
       "      <th>2</th>\n",
       "      <td>CD151</td>\n",
       "      <td>Cuticle/cortex</td>\n",
       "      <td>0.856507</td>\n",
       "      <td>0.826898</td>\n",
       "      <td>organoid</td>\n",
       "    </tr>\n",
       "    <tr>\n",
       "      <th>3</th>\n",
       "      <td>CD151</td>\n",
       "      <td>Dermal condensate</td>\n",
       "      <td>0.486087</td>\n",
       "      <td>0.484598</td>\n",
       "      <td>organoid</td>\n",
       "    </tr>\n",
       "    <tr>\n",
       "      <th>4</th>\n",
       "      <td>CD151</td>\n",
       "      <td>Dermal papillia</td>\n",
       "      <td>0.377051</td>\n",
       "      <td>0.475307</td>\n",
       "      <td>organoid</td>\n",
       "    </tr>\n",
       "    <tr>\n",
       "      <th>...</th>\n",
       "      <td>...</td>\n",
       "      <td>...</td>\n",
       "      <td>...</td>\n",
       "      <td>...</td>\n",
       "      <td>...</td>\n",
       "    </tr>\n",
       "    <tr>\n",
       "      <th>267</th>\n",
       "      <td>PLEC</td>\n",
       "      <td>POSTN+ basal</td>\n",
       "      <td>0.221971</td>\n",
       "      <td>0.204220</td>\n",
       "      <td>organoid</td>\n",
       "    </tr>\n",
       "    <tr>\n",
       "      <th>268</th>\n",
       "      <td>PLEC</td>\n",
       "      <td>WNT2+ fibroblast</td>\n",
       "      <td>0.143161</td>\n",
       "      <td>0.127338</td>\n",
       "      <td>organoid</td>\n",
       "    </tr>\n",
       "    <tr>\n",
       "      <th>269</th>\n",
       "      <td>PLEC</td>\n",
       "      <td>Periderm</td>\n",
       "      <td>0.316956</td>\n",
       "      <td>0.233664</td>\n",
       "      <td>organoid</td>\n",
       "    </tr>\n",
       "    <tr>\n",
       "      <th>270</th>\n",
       "      <td>PLEC</td>\n",
       "      <td>Pre-dermal condensate</td>\n",
       "      <td>0.141010</td>\n",
       "      <td>0.120699</td>\n",
       "      <td>organoid</td>\n",
       "    </tr>\n",
       "    <tr>\n",
       "      <th>271</th>\n",
       "      <td>PLEC</td>\n",
       "      <td>Suprabasal IFE</td>\n",
       "      <td>0.204922</td>\n",
       "      <td>0.160122</td>\n",
       "      <td>organoid</td>\n",
       "    </tr>\n",
       "  </tbody>\n",
       "</table>\n",
       "<p>272 rows × 5 columns</p>\n",
       "</div>"
      ],
      "text/plain": [
       "      gene                  group      frac       avg   dataset\n",
       "0    CD151                  Basal  0.712405  0.852125  organoid\n",
       "1    CD151        Companion layer  0.705293  0.704219  organoid\n",
       "2    CD151         Cuticle/cortex  0.856507  0.826898  organoid\n",
       "3    CD151      Dermal condensate  0.486087  0.484598  organoid\n",
       "4    CD151        Dermal papillia  0.377051  0.475307  organoid\n",
       "..     ...                    ...       ...       ...       ...\n",
       "267   PLEC           POSTN+ basal  0.221971  0.204220  organoid\n",
       "268   PLEC       WNT2+ fibroblast  0.143161  0.127338  organoid\n",
       "269   PLEC               Periderm  0.316956  0.233664  organoid\n",
       "270   PLEC  Pre-dermal condensate  0.141010  0.120699  organoid\n",
       "271   PLEC         Suprabasal IFE  0.204922  0.160122  organoid\n",
       "\n",
       "[272 rows x 5 columns]"
      ]
     },
     "execution_count": 41,
     "metadata": {},
     "output_type": "execute_result"
    }
   ],
   "source": [
    "organoid_df"
   ]
  },
  {
   "cell_type": "code",
   "execution_count": 42,
   "id": "metropolitan-thompson",
   "metadata": {
    "execution": {
     "iopub.execute_input": "2022-10-10T09:52:42.223704Z",
     "iopub.status.busy": "2022-10-10T09:52:42.223450Z",
     "iopub.status.idle": "2022-10-10T09:52:42.247226Z",
     "shell.execute_reply": "2022-10-10T09:52:42.246604Z",
     "shell.execute_reply.started": "2022-10-10T09:52:42.223679Z"
    },
    "tags": []
   },
   "outputs": [],
   "source": [
    "df = pd.concat([fetal_df, organoid_df])"
   ]
  },
  {
   "cell_type": "code",
   "execution_count": 43,
   "id": "judicial-easter",
   "metadata": {
    "execution": {
     "iopub.execute_input": "2022-10-10T09:52:42.889567Z",
     "iopub.status.busy": "2022-10-10T09:52:42.889354Z",
     "iopub.status.idle": "2022-10-10T09:52:42.918582Z",
     "shell.execute_reply": "2022-10-10T09:52:42.917924Z",
     "shell.execute_reply.started": "2022-10-10T09:52:42.889545Z"
    },
    "tags": []
   },
   "outputs": [
    {
     "data": {
      "text/html": [
       "<div>\n",
       "<style scoped>\n",
       "    .dataframe tbody tr th:only-of-type {\n",
       "        vertical-align: middle;\n",
       "    }\n",
       "\n",
       "    .dataframe tbody tr th {\n",
       "        vertical-align: top;\n",
       "    }\n",
       "\n",
       "    .dataframe thead th {\n",
       "        text-align: right;\n",
       "    }\n",
       "</style>\n",
       "<table border=\"1\" class=\"dataframe\">\n",
       "  <thead>\n",
       "    <tr style=\"text-align: right;\">\n",
       "      <th></th>\n",
       "      <th>gene</th>\n",
       "      <th>group</th>\n",
       "      <th>frac</th>\n",
       "      <th>avg</th>\n",
       "      <th>dataset</th>\n",
       "    </tr>\n",
       "  </thead>\n",
       "  <tbody>\n",
       "    <tr>\n",
       "      <th>0</th>\n",
       "      <td>CD151</td>\n",
       "      <td>Basal</td>\n",
       "      <td>0.835583</td>\n",
       "      <td>0.945127</td>\n",
       "      <td>fetal</td>\n",
       "    </tr>\n",
       "    <tr>\n",
       "      <th>1</th>\n",
       "      <td>CD151</td>\n",
       "      <td>Companion layer</td>\n",
       "      <td>0.888889</td>\n",
       "      <td>1.068020</td>\n",
       "      <td>fetal</td>\n",
       "    </tr>\n",
       "    <tr>\n",
       "      <th>2</th>\n",
       "      <td>CD151</td>\n",
       "      <td>Cuticle/cortex</td>\n",
       "      <td>0.809524</td>\n",
       "      <td>0.996445</td>\n",
       "      <td>fetal</td>\n",
       "    </tr>\n",
       "    <tr>\n",
       "      <th>3</th>\n",
       "      <td>CD151</td>\n",
       "      <td>Dermal condensate</td>\n",
       "      <td>0.315380</td>\n",
       "      <td>0.366148</td>\n",
       "      <td>fetal</td>\n",
       "    </tr>\n",
       "    <tr>\n",
       "      <th>4</th>\n",
       "      <td>CD151</td>\n",
       "      <td>Dermal papillia</td>\n",
       "      <td>0.353025</td>\n",
       "      <td>0.495246</td>\n",
       "      <td>fetal</td>\n",
       "    </tr>\n",
       "    <tr>\n",
       "      <th>...</th>\n",
       "      <td>...</td>\n",
       "      <td>...</td>\n",
       "      <td>...</td>\n",
       "      <td>...</td>\n",
       "      <td>...</td>\n",
       "    </tr>\n",
       "    <tr>\n",
       "      <th>267</th>\n",
       "      <td>PLEC</td>\n",
       "      <td>POSTN+ basal</td>\n",
       "      <td>0.221971</td>\n",
       "      <td>0.204220</td>\n",
       "      <td>organoid</td>\n",
       "    </tr>\n",
       "    <tr>\n",
       "      <th>268</th>\n",
       "      <td>PLEC</td>\n",
       "      <td>WNT2+ fibroblast</td>\n",
       "      <td>0.143161</td>\n",
       "      <td>0.127338</td>\n",
       "      <td>organoid</td>\n",
       "    </tr>\n",
       "    <tr>\n",
       "      <th>269</th>\n",
       "      <td>PLEC</td>\n",
       "      <td>Periderm</td>\n",
       "      <td>0.316956</td>\n",
       "      <td>0.233664</td>\n",
       "      <td>organoid</td>\n",
       "    </tr>\n",
       "    <tr>\n",
       "      <th>270</th>\n",
       "      <td>PLEC</td>\n",
       "      <td>Pre-dermal condensate</td>\n",
       "      <td>0.141010</td>\n",
       "      <td>0.120699</td>\n",
       "      <td>organoid</td>\n",
       "    </tr>\n",
       "    <tr>\n",
       "      <th>271</th>\n",
       "      <td>PLEC</td>\n",
       "      <td>Suprabasal IFE</td>\n",
       "      <td>0.204922</td>\n",
       "      <td>0.160122</td>\n",
       "      <td>organoid</td>\n",
       "    </tr>\n",
       "  </tbody>\n",
       "</table>\n",
       "<p>560 rows × 5 columns</p>\n",
       "</div>"
      ],
      "text/plain": [
       "      gene                  group      frac       avg   dataset\n",
       "0    CD151                  Basal  0.835583  0.945127     fetal\n",
       "1    CD151        Companion layer  0.888889  1.068020     fetal\n",
       "2    CD151         Cuticle/cortex  0.809524  0.996445     fetal\n",
       "3    CD151      Dermal condensate  0.315380  0.366148     fetal\n",
       "4    CD151        Dermal papillia  0.353025  0.495246     fetal\n",
       "..     ...                    ...       ...       ...       ...\n",
       "267   PLEC           POSTN+ basal  0.221971  0.204220  organoid\n",
       "268   PLEC       WNT2+ fibroblast  0.143161  0.127338  organoid\n",
       "269   PLEC               Periderm  0.316956  0.233664  organoid\n",
       "270   PLEC  Pre-dermal condensate  0.141010  0.120699  organoid\n",
       "271   PLEC         Suprabasal IFE  0.204922  0.160122  organoid\n",
       "\n",
       "[560 rows x 5 columns]"
      ]
     },
     "execution_count": 43,
     "metadata": {},
     "output_type": "execute_result"
    }
   ],
   "source": [
    "df"
   ]
  },
  {
   "cell_type": "code",
   "execution_count": 44,
   "id": "periodic-third",
   "metadata": {
    "execution": {
     "iopub.execute_input": "2022-10-10T09:52:46.918898Z",
     "iopub.status.busy": "2022-10-10T09:52:46.918656Z",
     "iopub.status.idle": "2022-10-10T09:52:46.943131Z",
     "shell.execute_reply": "2022-10-10T09:52:46.942514Z",
     "shell.execute_reply.started": "2022-10-10T09:52:46.918874Z"
    },
    "tags": []
   },
   "outputs": [],
   "source": [
    "df[\"gene2\"] = df.dataset.astype(str) + \" \" + df.gene.astype(str)"
   ]
  },
  {
   "cell_type": "code",
   "execution_count": 47,
   "id": "computational-ontario",
   "metadata": {
    "execution": {
     "iopub.execute_input": "2022-10-10T09:54:49.532995Z",
     "iopub.status.busy": "2022-10-10T09:54:49.532697Z",
     "iopub.status.idle": "2022-10-10T09:54:49.563148Z",
     "shell.execute_reply": "2022-10-10T09:54:49.562456Z",
     "shell.execute_reply.started": "2022-10-10T09:54:49.532968Z"
    },
    "tags": []
   },
   "outputs": [],
   "source": [
    "df[\"annot\"] = df[\"group\"].astype(\n",
    "    pd.CategoricalDtype(\n",
    "        categories=[\n",
    "            \"Periderm\",\n",
    "            \"Immature basal\",\n",
    "            \"Immature suprabasal\",\n",
    "            \"POSTN+ basal\",\n",
    "            \"Basal\",\n",
    "            \"Suprabasal IFE\",\n",
    "            \"Outer root sheath\",\n",
    "            \"Companion layer\",\n",
    "            \"Inner root sheath\",\n",
    "            \"Matrix/placode\",\n",
    "            \"Cuticle/cortex\",\n",
    "            \"FRZB+ early fibroblast\",\n",
    "            \"HOXC5+ early fibroblast\",\n",
    "            \"WNT2+ fibroblast\",\n",
    "            \"PEAR1+ fibroblast\",\n",
    "            \"Pre-dermal condensate\",\n",
    "            \"Dermal condensate\",\n",
    "            \"Dermal papillia\",\n",
    "        ],\n",
    "        ordered=True,\n",
    "    )\n",
    ")\n",
    "df[\"x\"] = df.annot.cat.codes\n",
    "df[\"gene2\"] = df[\"gene2\"].astype(\n",
    "    pd.CategoricalDtype(\n",
    "        categories=[f\"{ds} {g}\" for g in fetal_genes for ds in (\"fetal\", \"organoid\")],\n",
    "        ordered=True,\n",
    "    )\n",
    ")\n",
    "df[\"y\"] = df.gene2.cat.codes"
   ]
  },
  {
   "cell_type": "code",
   "execution_count": 49,
   "id": "productive-bradley",
   "metadata": {
    "execution": {
     "iopub.execute_input": "2022-10-10T09:55:16.858642Z",
     "iopub.status.busy": "2022-10-10T09:55:16.858345Z",
     "iopub.status.idle": "2022-10-10T09:55:16.890774Z",
     "shell.execute_reply": "2022-10-10T09:55:16.890032Z",
     "shell.execute_reply.started": "2022-10-10T09:55:16.858615Z"
    },
    "tags": []
   },
   "outputs": [],
   "source": [
    "df = df.merge(\n",
    "    df.groupby(\"gene2\")[\"avg\"].max().rename(\"max_mean\"),\n",
    "    how=\"left\",\n",
    "    left_on=\"gene2\",\n",
    "    right_index=True,\n",
    ")\n",
    "df[\"mean2\"] = df[\"avg\"] / df[\"max_mean\"]"
   ]
  },
  {
   "cell_type": "code",
   "execution_count": 50,
   "id": "joint-documentation",
   "metadata": {
    "execution": {
     "iopub.execute_input": "2022-10-10T09:55:21.803955Z",
     "iopub.status.busy": "2022-10-10T09:55:21.803679Z",
     "iopub.status.idle": "2022-10-10T09:55:21.828596Z",
     "shell.execute_reply": "2022-10-10T09:55:21.827851Z",
     "shell.execute_reply.started": "2022-10-10T09:55:21.803929Z"
    },
    "tags": []
   },
   "outputs": [
    {
     "data": {
      "text/plain": [
       "Index(['Periderm', 'Immature basal', 'Immature suprabasal', 'POSTN+ basal',\n",
       "       'Basal', 'Suprabasal IFE', 'Outer root sheath', 'Companion layer',\n",
       "       'Inner root sheath', 'Matrix/placode', 'Cuticle/cortex',\n",
       "       'FRZB+ early fibroblast', 'HOXC5+ early fibroblast', 'WNT2+ fibroblast',\n",
       "       'PEAR1+ fibroblast', 'Pre-dermal condensate', 'Dermal condensate',\n",
       "       'Dermal papillia'],\n",
       "      dtype='object')"
      ]
     },
     "execution_count": 50,
     "metadata": {},
     "output_type": "execute_result"
    }
   ],
   "source": [
    "df.annot.cat.categories"
   ]
  },
  {
   "cell_type": "code",
   "execution_count": 51,
   "id": "ignored-camera",
   "metadata": {
    "execution": {
     "iopub.execute_input": "2022-10-10T09:55:23.319704Z",
     "iopub.status.busy": "2022-10-10T09:55:23.319524Z",
     "iopub.status.idle": "2022-10-10T09:55:23.351477Z",
     "shell.execute_reply": "2022-10-10T09:55:23.350693Z",
     "shell.execute_reply.started": "2022-10-10T09:55:23.319683Z"
    },
    "tags": []
   },
   "outputs": [
    {
     "data": {
      "text/html": [
       "<div>\n",
       "<style scoped>\n",
       "    .dataframe tbody tr th:only-of-type {\n",
       "        vertical-align: middle;\n",
       "    }\n",
       "\n",
       "    .dataframe tbody tr th {\n",
       "        vertical-align: top;\n",
       "    }\n",
       "\n",
       "    .dataframe thead th {\n",
       "        text-align: right;\n",
       "    }\n",
       "</style>\n",
       "<table border=\"1\" class=\"dataframe\">\n",
       "  <thead>\n",
       "    <tr style=\"text-align: right;\">\n",
       "      <th></th>\n",
       "      <th>gene</th>\n",
       "      <th>group</th>\n",
       "      <th>frac</th>\n",
       "      <th>avg</th>\n",
       "      <th>dataset</th>\n",
       "      <th>gene2</th>\n",
       "      <th>annot</th>\n",
       "      <th>x</th>\n",
       "      <th>y</th>\n",
       "      <th>max_mean</th>\n",
       "      <th>mean2</th>\n",
       "    </tr>\n",
       "  </thead>\n",
       "  <tbody>\n",
       "    <tr>\n",
       "      <th>0</th>\n",
       "      <td>CD151</td>\n",
       "      <td>Basal</td>\n",
       "      <td>0.835583</td>\n",
       "      <td>0.945127</td>\n",
       "      <td>fetal</td>\n",
       "      <td>fetal CD151</td>\n",
       "      <td>Basal</td>\n",
       "      <td>4</td>\n",
       "      <td>12</td>\n",
       "      <td>1.13242</td>\n",
       "      <td>0.834608</td>\n",
       "    </tr>\n",
       "    <tr>\n",
       "      <th>1</th>\n",
       "      <td>CD151</td>\n",
       "      <td>Companion layer</td>\n",
       "      <td>0.888889</td>\n",
       "      <td>1.068020</td>\n",
       "      <td>fetal</td>\n",
       "      <td>fetal CD151</td>\n",
       "      <td>Companion layer</td>\n",
       "      <td>7</td>\n",
       "      <td>12</td>\n",
       "      <td>1.13242</td>\n",
       "      <td>0.943131</td>\n",
       "    </tr>\n",
       "    <tr>\n",
       "      <th>2</th>\n",
       "      <td>CD151</td>\n",
       "      <td>Cuticle/cortex</td>\n",
       "      <td>0.809524</td>\n",
       "      <td>0.996445</td>\n",
       "      <td>fetal</td>\n",
       "      <td>fetal CD151</td>\n",
       "      <td>Cuticle/cortex</td>\n",
       "      <td>10</td>\n",
       "      <td>12</td>\n",
       "      <td>1.13242</td>\n",
       "      <td>0.879925</td>\n",
       "    </tr>\n",
       "    <tr>\n",
       "      <th>3</th>\n",
       "      <td>CD151</td>\n",
       "      <td>Dermal condensate</td>\n",
       "      <td>0.315380</td>\n",
       "      <td>0.366148</td>\n",
       "      <td>fetal</td>\n",
       "      <td>fetal CD151</td>\n",
       "      <td>Dermal condensate</td>\n",
       "      <td>16</td>\n",
       "      <td>12</td>\n",
       "      <td>1.13242</td>\n",
       "      <td>0.323332</td>\n",
       "    </tr>\n",
       "    <tr>\n",
       "      <th>4</th>\n",
       "      <td>CD151</td>\n",
       "      <td>Dermal papillia</td>\n",
       "      <td>0.353025</td>\n",
       "      <td>0.495246</td>\n",
       "      <td>fetal</td>\n",
       "      <td>fetal CD151</td>\n",
       "      <td>Dermal papillia</td>\n",
       "      <td>17</td>\n",
       "      <td>12</td>\n",
       "      <td>1.13242</td>\n",
       "      <td>0.437335</td>\n",
       "    </tr>\n",
       "  </tbody>\n",
       "</table>\n",
       "</div>"
      ],
      "text/plain": [
       "    gene              group      frac       avg dataset        gene2  \\\n",
       "0  CD151              Basal  0.835583  0.945127   fetal  fetal CD151   \n",
       "1  CD151    Companion layer  0.888889  1.068020   fetal  fetal CD151   \n",
       "2  CD151     Cuticle/cortex  0.809524  0.996445   fetal  fetal CD151   \n",
       "3  CD151  Dermal condensate  0.315380  0.366148   fetal  fetal CD151   \n",
       "4  CD151    Dermal papillia  0.353025  0.495246   fetal  fetal CD151   \n",
       "\n",
       "               annot   x   y  max_mean     mean2  \n",
       "0              Basal   4  12   1.13242  0.834608  \n",
       "1    Companion layer   7  12   1.13242  0.943131  \n",
       "2     Cuticle/cortex  10  12   1.13242  0.879925  \n",
       "3  Dermal condensate  16  12   1.13242  0.323332  \n",
       "4    Dermal papillia  17  12   1.13242  0.437335  "
      ]
     },
     "execution_count": 51,
     "metadata": {},
     "output_type": "execute_result"
    }
   ],
   "source": [
    "df.head()"
   ]
  },
  {
   "cell_type": "markdown",
   "id": "false-guard",
   "metadata": {},
   "source": [
    "## Plot"
   ]
  },
  {
   "cell_type": "code",
   "execution_count": 64,
   "id": "welsh-vienna",
   "metadata": {
    "execution": {
     "iopub.execute_input": "2022-10-10T10:02:16.192466Z",
     "iopub.status.busy": "2022-10-10T10:02:16.192209Z",
     "iopub.status.idle": "2022-10-10T10:02:16.791674Z",
     "shell.execute_reply": "2022-10-10T10:02:16.790894Z",
     "shell.execute_reply.started": "2022-10-10T10:02:16.192441Z"
    },
    "tags": []
   },
   "outputs": [
    {
     "data": {
      "image/png": "[encoded data removed]",
      "text/plain": [
       "<Figure size 576x720 with 3 Axes>"
      ]
     },
     "metadata": {
      "needs_background": "light"
     },
     "output_type": "display_data"
    }
   ],
   "source": [
    "sk.set_figsize((8, 10))\n",
    "\n",
    "# Main axes\n",
    "ax = sn.scatterplot(\n",
    "    data=df,\n",
    "    x=\"x\",\n",
    "    y=\"y\",\n",
    "    hue=\"mean2\",\n",
    "    size=\"frac\",\n",
    "    palette=\"OrRd\",\n",
    "    edgecolor=\"k\",\n",
    "    sizes=(0, 200),\n",
    "    legend=False,\n",
    ")\n",
    "ax.set_xticks(np.arange(df.annot.cat.categories.size))\n",
    "ax.set_xticklabels(df.annot.cat.categories, rotation=90)\n",
    "ax.set_yticks(np.arange(df.gene2.cat.categories.size))\n",
    "ax.set_yticklabels(df.gene2.cat.categories)\n",
    "ax.set_ylim(df.gene2.cat.categories.size - 0.5, -0.5)\n",
    "for ypos in [i - 0.5 for i in range(df.gene2.cat.categories.size) if i > 0 and i % 2 == 0]:\n",
    "    ax.axhline(y=ypos, linewidth=1, c=\"k\", linestyle=\"--\")\n",
    "ax.set_xlabel(\"\")\n",
    "ax.set_ylabel(\"\")\n",
    "\n",
    "# Make legend\n",
    "fig = ax.get_figure()\n",
    "main_width = 0.825\n",
    "gap_width = 0.025\n",
    "fig.subplots_adjust(right=main_width)\n",
    "\n",
    "# Dot size legend\n",
    "dlg_ax = fig.add_axes([main_width + gap_width, 0.25, 1 - main_width - gap_width, 0.02])\n",
    "sn.scatterplot(\n",
    "    x=[20, 40, 60, 80, 100],\n",
    "    y=[0, 0, 0, 0, 0],\n",
    "    size=[20, 40, 60, 80, 100],\n",
    "    sizes=(40, 200),\n",
    "    color=[(0.5, 0.5, 0.5)],\n",
    "    edgecolor=\"black\",\n",
    "    ax=dlg_ax,\n",
    "    legend=False,\n",
    ")\n",
    "sn.despine(ax=dlg_ax, left=True, bottom=True)\n",
    "dlg_ax.get_yaxis().set_visible(False)\n",
    "dlg_ax.set_xticks([20, 40, 60, 80, 100])\n",
    "dlg_ax.set_xlim(10, 110)\n",
    "dlg_ax.set_title(\"Fraction of cells\\nin group (%)\")\n",
    "\n",
    "# Colorbar\n",
    "cb_ax = fig.add_axes([main_width + gap_width, 0.15, 1 - main_width - gap_width, 0.01])\n",
    "cb_ax.set_title(\"Mean expression\\nin group\")\n",
    "fig.colorbar(\n",
    "    plt.cm.ScalarMappable(\n",
    "        cmap=\"OrRd\",\n",
    "    ),\n",
    "    cax=cb_ax,\n",
    "    orientation=\"horizontal\",\n",
    ")\n",
    "sn.despine(ax=cb_ax, left=True, bottom=True)\n",
    "cb_ax.get_yaxis().set_visible(False)"
   ]
  },
  {
   "cell_type": "code",
   "execution_count": 65,
   "id": "plain-excuse",
   "metadata": {
    "execution": {
     "iopub.execute_input": "2022-10-10T10:03:36.031558Z",
     "iopub.status.busy": "2022-10-10T10:03:36.031281Z",
     "iopub.status.idle": "2022-10-10T10:03:36.589223Z",
     "shell.execute_reply": "2022-10-10T10:03:36.588211Z",
     "shell.execute_reply.started": "2022-10-10T10:03:36.031532Z"
    },
    "tags": []
   },
   "outputs": [],
   "source": [
    "fig.savefig(\"figures/figS2L.20221010.pdf\", bbox_inches=\"tight\")"
   ]
  },
  {
   "cell_type": "code",
   "execution_count": 66,
   "id": "vocational-consciousness",
   "metadata": {
    "execution": {
     "iopub.execute_input": "2022-10-10T10:03:37.264347Z",
     "iopub.status.busy": "2022-10-10T10:03:37.264147Z",
     "iopub.status.idle": "2022-10-10T10:03:40.929766Z",
     "shell.execute_reply": "2022-10-10T10:03:40.928541Z",
     "shell.execute_reply.started": "2022-10-10T10:03:37.264306Z"
    },
    "tags": []
   },
   "outputs": [],
   "source": [
    "!rclone copy --drive-shared-with-me figures/figS2L.20221010.pdf \"google:/Fetal Skin/Figures/Figs_from_Ni/\""
   ]
  },
  {
   "cell_type": "code",
   "execution_count": null,
   "id": "horizontal-rabbit",
   "metadata": {},
   "outputs": [],
   "source": []
  }
 ],
 "metadata": {
  "kernelspec": {
   "display_name": "FCA_base",
   "language": "python",
   "name": "fca_base"
  },
  "language_info": {
   "codemirror_mode": {
    "name": "ipython",
    "version": 3
   },
   "file_extension": ".py",
   "mimetype": "text/x-python",
   "name": "python",
   "nbconvert_exporter": "python",
   "pygments_lexer": "ipython3",
   "version": "3.9.13"
  },
  "widgets": {
   "application/vnd.jupyter.widget-state+json": {
    "state": {},
    "version_major": 2,
    "version_minor": 0
   }
  }
 },
 "nbformat": 4,
 "nbformat_minor": 5
}
