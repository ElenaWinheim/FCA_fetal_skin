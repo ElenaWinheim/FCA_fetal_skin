{
 "cells": [
  {
   "cell_type": "markdown",
   "id": "cardiovascular-abraham",
   "metadata": {},
   "source": [
    "# Import and settings"
   ]
  },
  {
   "cell_type": "code",
   "execution_count": 1,
   "id": "tracked-barrier",
   "metadata": {
    "execution": {
     "iopub.execute_input": "2022-11-12T16:21:46.060229Z",
     "iopub.status.busy": "2022-11-12T16:21:46.059966Z",
     "iopub.status.idle": "2022-11-12T16:21:46.074993Z",
     "shell.execute_reply": "2022-11-12T16:21:46.074163Z",
     "shell.execute_reply.started": "2022-11-12T16:21:46.060162Z"
    },
    "tags": []
   },
   "outputs": [],
   "source": [
    "%load_ext autoreload\n",
    "%autoreload 2"
   ]
  },
  {
   "cell_type": "code",
   "execution_count": 2,
   "id": "lonely-reason",
   "metadata": {
    "execution": {
     "iopub.execute_input": "2022-11-12T16:21:46.076158Z",
     "iopub.status.busy": "2022-11-12T16:21:46.075940Z",
     "iopub.status.idle": "2022-11-12T16:21:47.885893Z",
     "shell.execute_reply": "2022-11-12T16:21:47.884616Z",
     "shell.execute_reply.started": "2022-11-12T16:21:46.076137Z"
    },
    "tags": []
   },
   "outputs": [],
   "source": [
    "import warnings\n",
    "\n",
    "warnings.simplefilter(action=\"ignore\", category=FutureWarning)\n",
    "warnings.simplefilter(action=\"ignore\", category=DeprecationWarning)\n",
    "\n",
    "import os, sys, re, gc, joblib\n",
    "from pathlib import Path\n",
    "import numpy as np\n",
    "import numpy_groupies as npg\n",
    "import pandas as pd\n",
    "import scipy.sparse as sp\n",
    "\n",
    "import matplotlib.pyplot as plt\n",
    "from matplotlib import rcParams\n",
    "from matplotlib.colors import ListedColormap\n",
    "\n",
    "import seaborn as sn\n",
    "\n",
    "import anndata\n",
    "import scanpy as sc\n",
    "import sctk as sk\n",
    "\n",
    "\n",
    "rcParams[\"pdf.fonttype\"] = 42\n",
    "rcParams[\"ps.fonttype\"] = 42\n",
    "np.set_printoptions(linewidth=180)\n",
    "sc.settings.verbosity = 1\n",
    "sk.set_figsize((4, 4))\n",
    "expr_cmap = sk.expression_colormap()"
   ]
  },
  {
   "cell_type": "code",
   "execution_count": 3,
   "id": "annoying-vertex",
   "metadata": {
    "execution": {
     "iopub.execute_input": "2022-11-12T16:21:47.888962Z",
     "iopub.status.busy": "2022-11-12T16:21:47.888335Z",
     "iopub.status.idle": "2022-11-12T16:21:48.559325Z",
     "shell.execute_reply": "2022-11-12T16:21:48.558018Z",
     "shell.execute_reply.started": "2022-11-12T16:21:47.888933Z"
    }
   },
   "outputs": [
    {
     "name": "stdout",
     "output_type": "stream",
     "text": [
      "/home/jovyan/FCA_Fetal_Skin_priv\n"
     ]
    }
   ],
   "source": [
    "data_root = Path('/lustre/scratch126/cellgen/team205/nh3/skin').resolve()\n",
    "proj_root = Path('~/FCA_Fetal_Skin_priv/').expanduser()\n",
    "os.chdir(proj_root)\n",
    "!pwd"
   ]
  },
  {
   "cell_type": "markdown",
   "id": "juvenile-desert",
   "metadata": {},
   "source": [
    "# Load data"
   ]
  },
  {
   "cell_type": "code",
   "execution_count": 4,
   "id": "employed-strain",
   "metadata": {
    "execution": {
     "iopub.execute_input": "2022-11-12T16:21:48.561119Z",
     "iopub.status.busy": "2022-11-12T16:21:48.560849Z",
     "iopub.status.idle": "2022-11-12T16:22:13.990829Z",
     "shell.execute_reply": "2022-11-12T16:22:13.989777Z",
     "shell.execute_reply.started": "2022-11-12T16:21:48.561086Z"
    },
    "tags": []
   },
   "outputs": [],
   "source": [
    "pooled_ad = sc.read(Path(data_root, \"20211022_final_figures/h5ad/pooled_fetal_organoid.count_with_annot.h5ad\"))"
   ]
  },
  {
   "cell_type": "code",
   "execution_count": 5,
   "id": "latin-board",
   "metadata": {
    "execution": {
     "iopub.execute_input": "2022-11-12T16:22:13.992530Z",
     "iopub.status.busy": "2022-11-12T16:22:13.992242Z",
     "iopub.status.idle": "2022-11-12T16:22:14.024583Z",
     "shell.execute_reply": "2022-11-12T16:22:14.023689Z",
     "shell.execute_reply.started": "2022-11-12T16:22:13.992504Z"
    },
    "tags": []
   },
   "outputs": [
    {
     "data": {
      "text/plain": [
       "AnnData object with n_obs × n_vars = 310368 × 46794\n",
       "    obs: 'dataset', 'donor', 'pcw', 'day', 'sample_id', 'fetal_annot', 'organoid_annot', 'pooled_annot', 'chemistry', 'gender', 'sorting'\n",
       "    var: 'mito', 'ribo', 'hb', 'n_counts', 'n_cells'"
      ]
     },
     "execution_count": 5,
     "metadata": {},
     "output_type": "execute_result"
    }
   ],
   "source": [
    "pooled_ad"
   ]
  },
  {
   "cell_type": "code",
   "execution_count": 6,
   "id": "intimate-worry",
   "metadata": {
    "execution": {
     "iopub.execute_input": "2022-11-12T16:22:14.025821Z",
     "iopub.status.busy": "2022-11-12T16:22:14.025551Z",
     "iopub.status.idle": "2022-11-12T16:22:14.083592Z",
     "shell.execute_reply": "2022-11-12T16:22:14.082791Z",
     "shell.execute_reply.started": "2022-11-12T16:22:14.025799Z"
    },
    "tags": []
   },
   "outputs": [
    {
     "data": {
      "text/plain": [
       "array([5., 1., 1., ..., 1., 1., 1.], dtype=float32)"
      ]
     },
     "execution_count": 6,
     "metadata": {},
     "output_type": "execute_result"
    }
   ],
   "source": [
    "pooled_ad.X.data"
   ]
  },
  {
   "cell_type": "code",
   "execution_count": 7,
   "id": "organized-relation",
   "metadata": {
    "execution": {
     "iopub.execute_input": "2022-11-12T16:22:14.084757Z",
     "iopub.status.busy": "2022-11-12T16:22:14.084488Z",
     "iopub.status.idle": "2022-11-12T16:22:14.114860Z",
     "shell.execute_reply": "2022-11-12T16:22:14.114099Z",
     "shell.execute_reply.started": "2022-11-12T16:22:14.084710Z"
    },
    "tags": []
   },
   "outputs": [
    {
     "data": {
      "text/plain": [
       "['fetal_ASDC',\n",
       " 'fetal_Adipocytes',\n",
       " 'fetal_Arterial',\n",
       " 'fetal_B cell',\n",
       " 'fetal_Basal',\n",
       " 'fetal_CD4 T cell',\n",
       " 'fetal_CD8 T cell',\n",
       " 'fetal_Capillary (venular tip)',\n",
       " 'fetal_Capillary/postcapillary venule',\n",
       " 'fetal_Companion layer',\n",
       " 'fetal_Cuticle/cortex',\n",
       " 'fetal_DC1',\n",
       " 'fetal_DC2',\n",
       " 'fetal_Dermal condensate',\n",
       " 'fetal_Dermal papillia',\n",
       " 'fetal_Early LE',\n",
       " 'fetal_Early endothelial cell',\n",
       " 'fetal_Early erythroid',\n",
       " 'fetal_Early erythroid (embryonic)',\n",
       " 'fetal_Early myocytes',\n",
       " 'fetal_Eo/baso/mast cell progenitor',\n",
       " 'fetal_Erythroid (embryonic)',\n",
       " 'fetal_Erythroid (fetal)',\n",
       " 'fetal_FRZB+ early fibroblast',\n",
       " 'fetal_HOXC5+ early fibroblast',\n",
       " 'fetal_HSC',\n",
       " 'fetal_ILC2',\n",
       " 'fetal_ILC3',\n",
       " 'fetal_Immature basal',\n",
       " 'fetal_Immature suprabasal',\n",
       " 'fetal_Inflammatory DC',\n",
       " 'fetal_Innate T type1',\n",
       " 'fetal_Innate T type3',\n",
       " 'fetal_Inner root sheath',\n",
       " 'fetal_Iron-recycling macrophage',\n",
       " 'fetal_LC',\n",
       " 'fetal_LE',\n",
       " 'fetal_LMCD1+ mural cell',\n",
       " 'fetal_LTi',\n",
       " 'fetal_LYVE1++ macrophage',\n",
       " 'fetal_Lymphoid progenitor',\n",
       " 'fetal_MEMP - Early erythroid',\n",
       " 'fetal_MEMP - Megak',\n",
       " 'fetal_MHCII+ macrophage',\n",
       " 'fetal_Mast cell (earliest)',\n",
       " 'fetal_Mast cell (medium)',\n",
       " 'fetal_Mast cell (most mature)',\n",
       " 'fetal_Matrix/placode',\n",
       " 'fetal_Megakaryocyte',\n",
       " 'fetal_Melanoblast',\n",
       " 'fetal_Melanocyte',\n",
       " 'fetal_Monocyte',\n",
       " 'fetal_Monocyte (activated/differentiating)',\n",
       " 'fetal_Monocyte precursor',\n",
       " 'fetal_Myelinating Schwann cells',\n",
       " 'fetal_Myoblasts',\n",
       " 'fetal_Myocytes',\n",
       " 'fetal_Myofibroblasts',\n",
       " 'fetal_NK cell',\n",
       " 'fetal_Neuroendocrine',\n",
       " 'fetal_Neuron progenitors',\n",
       " 'fetal_Neutrophil1',\n",
       " 'fetal_Neutrophil2',\n",
       " 'fetal_Outer root sheath',\n",
       " 'fetal_PEAR1+ fibroblast',\n",
       " 'fetal_PID1+ schwann cellls',\n",
       " 'fetal_PLN+ mural cell',\n",
       " 'fetal_POSTN+ basal',\n",
       " 'fetal_Pericytes',\n",
       " 'fetal_Periderm',\n",
       " 'fetal_Postcapillary venule',\n",
       " 'fetal_Pre B cell',\n",
       " 'fetal_Pre pro B cell',\n",
       " 'fetal_Pre-dermal condensate',\n",
       " 'fetal_Pro B cell',\n",
       " 'fetal_SPP1+ proliferating neuron proneitors',\n",
       " 'fetal_Schwann/Schwann precursors',\n",
       " 'fetal_Suprabasal IFE',\n",
       " 'fetal_TREM2+ macrophage',\n",
       " 'fetal_Tip cell (arterial)',\n",
       " 'fetal_Treg',\n",
       " 'fetal_WNT2+ fibroblast',\n",
       " 'fetal_pDC',\n",
       " 'organoid_Adipocytes',\n",
       " 'organoid_Basal',\n",
       " 'organoid_Companion layer',\n",
       " 'organoid_Cuticle/cortex',\n",
       " 'organoid_Dermal condensate',\n",
       " 'organoid_Dermal papillia',\n",
       " 'organoid_Early myocytes',\n",
       " 'organoid_FRZB+ early fibroblast',\n",
       " 'organoid_HOXC5+ early fibroblast',\n",
       " 'organoid_Immature basal',\n",
       " 'organoid_Immature suprabasal',\n",
       " 'organoid_Inner root sheath',\n",
       " 'organoid_Matrix/placode',\n",
       " 'organoid_Melanoblast',\n",
       " 'organoid_Melanocyte',\n",
       " 'organoid_Merkel cells',\n",
       " 'organoid_Mural cell',\n",
       " 'organoid_Myelinating Schwann cells',\n",
       " 'organoid_Myoblasts',\n",
       " 'organoid_Myocytes',\n",
       " 'organoid_Neuroepithelial cells',\n",
       " 'organoid_Neuron progenitors',\n",
       " 'organoid_Outer root sheath',\n",
       " 'organoid_POSTN+ basal',\n",
       " 'organoid_POSTN+ fibroblast',\n",
       " 'organoid_Periderm',\n",
       " 'organoid_Pre-dermal condensate',\n",
       " 'organoid_Proliferating melanoblasts',\n",
       " 'organoid_SPP1+ proliferating neuron proneitors',\n",
       " 'organoid_Schwann/Schwann precursors',\n",
       " 'organoid_Secreting neuron',\n",
       " 'organoid_Suprabasal IFE',\n",
       " 'organoid_Tip cell (arterial)',\n",
       " 'organoid_Uncertain']"
      ]
     },
     "execution_count": 7,
     "metadata": {},
     "output_type": "execute_result"
    }
   ],
   "source": [
    "pooled_ad.obs.pooled_annot.cat.categories.tolist()"
   ]
  },
  {
   "cell_type": "markdown",
   "id": "marked-footwear",
   "metadata": {},
   "source": [
    "# Process"
   ]
  },
  {
   "cell_type": "markdown",
   "id": "aquatic-conspiracy",
   "metadata": {},
   "source": [
    "## Subset, split, normalise, etc"
   ]
  },
  {
   "cell_type": "code",
   "execution_count": 8,
   "id": "convertible-debut",
   "metadata": {
    "execution": {
     "iopub.execute_input": "2022-11-12T16:22:14.115954Z",
     "iopub.status.busy": "2022-11-12T16:22:14.115713Z",
     "iopub.status.idle": "2022-11-12T16:22:14.136917Z",
     "shell.execute_reply": "2022-11-12T16:22:14.136082Z",
     "shell.execute_reply.started": "2022-11-12T16:22:14.115925Z"
    },
    "tags": []
   },
   "outputs": [],
   "source": [
    "pooled_ad.obs.pooled_annot.cat.rename_categories(\n",
    "    {\"organoid_POSTN+ fibroblast\": \"organoid_WNT2+ fibroblast\"}, inplace=True\n",
    ")"
   ]
  },
  {
   "cell_type": "code",
   "execution_count": 9,
   "id": "incredible-nepal",
   "metadata": {
    "execution": {
     "iopub.execute_input": "2022-11-12T16:22:14.138175Z",
     "iopub.status.busy": "2022-11-12T16:22:14.137926Z",
     "iopub.status.idle": "2022-11-12T16:22:14.165348Z",
     "shell.execute_reply": "2022-11-12T16:22:14.164275Z",
     "shell.execute_reply.started": "2022-11-12T16:22:14.138154Z"
    },
    "tags": []
   },
   "outputs": [],
   "source": [
    "k_included = pooled_ad.obs.pooled_annot.isin(\n",
    "    [\n",
    "        \"fetal_Basal\",\n",
    "        \"fetal_Companion layer\",\n",
    "        \"fetal_Cuticle/cortex\",\n",
    "        \"fetal_Immature basal\",\n",
    "        \"fetal_Immature suprabasal\",\n",
    "        \"fetal_Inner root sheath\",\n",
    "        \"fetal_Matrix/placode\",\n",
    "        \"fetal_Outer root sheath\",\n",
    "        \"fetal_Periderm\",\n",
    "        \"fetal_POSTN+ basal\",\n",
    "        \"fetal_Suprabasal IFE\",\n",
    "        \"fetal_FRZB+ early fibroblast\",\n",
    "        \"fetal_HOXC5+ early fibroblast\",\n",
    "        \"fetal_WNT2+ fibroblast\",\n",
    "        # \"fetal_PEAR1+ fibroblast\",\n",
    "        \"fetal_Pre-dermal condensate\",\n",
    "        \"fetal_Dermal condensate\",\n",
    "        \"fetal_Dermal papillia\",\n",
    "        \"organoid_Basal\",\n",
    "        \"organoid_Companion layer\",\n",
    "        \"organoid_Cuticle/cortex\",\n",
    "        \"organoid_Immature basal\",\n",
    "        \"organoid_Immature suprabasal\",\n",
    "        \"organoid_Inner root sheath\",\n",
    "        \"organoid_Matrix/placode\",\n",
    "        \"organoid_Outer root sheath\",\n",
    "        \"organoid_Periderm\",\n",
    "        \"organoid_POSTN+ basal\",\n",
    "        \"organoid_Suprabasal IFE\",\n",
    "        \"organoid_FRZB+ early fibroblast\",\n",
    "        \"organoid_HOXC5+ early fibroblast\",\n",
    "        \"organoid_WNT2+ fibroblast\",\n",
    "        # \"organoid_PEAR1+ fibroblast\",\n",
    "        \"organoid_Pre-dermal condensate\",\n",
    "        \"organoid_Dermal condensate\",\n",
    "        \"organoid_Dermal papillia\",\n",
    "    ]\n",
    ")"
   ]
  },
  {
   "cell_type": "raw",
   "id": "signal-hours",
   "metadata": {
    "execution": {
     "iopub.execute_input": "2022-09-20T09:24:59.338351Z",
     "iopub.status.busy": "2022-09-20T09:24:59.338179Z",
     "iopub.status.idle": "2022-09-20T09:24:59.361710Z",
     "shell.execute_reply": "2022-09-20T09:24:59.361042Z",
     "shell.execute_reply.started": "2022-09-20T09:24:59.338331Z"
    },
    "tags": []
   },
   "source": [
    "k_keratinocytes = pooled_ad.obs.pooled_annot.isin(\n",
    "    [\n",
    "        \"fetal_Basal\",\n",
    "        \"fetal_Companion layer\",\n",
    "        \"fetal_Cuticle/cortex\",\n",
    "        \"fetal_Immature basal\",\n",
    "        \"fetal_Immature suprabasal\",\n",
    "        \"fetal_Inner root sheath\",\n",
    "        \"fetal_Matrix/placode\",\n",
    "        \"fetal_Outer root sheath\",\n",
    "        \"fetal_Periderm\",\n",
    "        \"fetal_POSTN+ basal\",\n",
    "        \"fetal_Suprabasal IFE\",\n",
    "        \"organoid_Basal\",\n",
    "        \"organoid_Companion layer\",\n",
    "        \"organoid_Cuticle/cortex\",\n",
    "        \"organoid_Immature basal\",\n",
    "        \"organoid_Immature suprabasal\",\n",
    "        \"organoid_Inner root sheath\",\n",
    "        \"organoid_Matrix/placode\",\n",
    "        \"organoid_Outer root sheath\",\n",
    "        \"organoid_Periderm\",\n",
    "        \"organoid_POSTN+ basal\",\n",
    "        \"organoid_Suprabasal IFE\",\n",
    "    ]\n",
    ")"
   ]
  },
  {
   "cell_type": "code",
   "execution_count": 10,
   "id": "sexual-stream",
   "metadata": {
    "execution": {
     "iopub.execute_input": "2022-11-12T16:22:14.166571Z",
     "iopub.status.busy": "2022-11-12T16:22:14.166351Z",
     "iopub.status.idle": "2022-11-12T16:22:14.244833Z",
     "shell.execute_reply": "2022-11-12T16:22:14.243459Z",
     "shell.execute_reply.started": "2022-11-12T16:22:14.166550Z"
    },
    "tags": []
   },
   "outputs": [],
   "source": [
    "ad1 = pooled_ad[k_included]"
   ]
  },
  {
   "cell_type": "code",
   "execution_count": 11,
   "id": "necessary-afternoon",
   "metadata": {
    "execution": {
     "iopub.execute_input": "2022-11-12T16:22:14.246186Z",
     "iopub.status.busy": "2022-11-12T16:22:14.245906Z",
     "iopub.status.idle": "2022-11-12T16:22:17.772659Z",
     "shell.execute_reply": "2022-11-12T16:22:17.771767Z",
     "shell.execute_reply.started": "2022-11-12T16:22:14.246165Z"
    },
    "tags": []
   },
   "outputs": [],
   "source": [
    "ads = sk.split_by_group(ad1, groupby=\"dataset\")"
   ]
  },
  {
   "cell_type": "code",
   "execution_count": 12,
   "id": "precise-despite",
   "metadata": {
    "execution": {
     "iopub.execute_input": "2022-11-12T16:22:17.775984Z",
     "iopub.status.busy": "2022-11-12T16:22:17.775720Z",
     "iopub.status.idle": "2022-11-12T16:22:17.802128Z",
     "shell.execute_reply": "2022-11-12T16:22:17.801234Z",
     "shell.execute_reply.started": "2022-11-12T16:22:17.775959Z"
    },
    "tags": []
   },
   "outputs": [
    {
     "data": {
      "text/plain": [
       "{'fetal': AnnData object with n_obs × n_vars = 90104 × 46794\n",
       "     obs: 'dataset', 'donor', 'pcw', 'day', 'sample_id', 'fetal_annot', 'organoid_annot', 'pooled_annot', 'chemistry', 'gender', 'sorting'\n",
       "     var: 'mito', 'ribo', 'hb', 'n_counts', 'n_cells',\n",
       " 'organoid': AnnData object with n_obs × n_vars = 105303 × 46794\n",
       "     obs: 'dataset', 'donor', 'pcw', 'day', 'sample_id', 'fetal_annot', 'organoid_annot', 'pooled_annot', 'chemistry', 'gender', 'sorting'\n",
       "     var: 'mito', 'ribo', 'hb', 'n_counts', 'n_cells'}"
      ]
     },
     "execution_count": 12,
     "metadata": {},
     "output_type": "execute_result"
    }
   ],
   "source": [
    "ads"
   ]
  },
  {
   "cell_type": "code",
   "execution_count": 13,
   "id": "laden-manner",
   "metadata": {
    "execution": {
     "iopub.execute_input": "2022-11-12T16:22:17.803274Z",
     "iopub.status.busy": "2022-11-12T16:22:17.802997Z",
     "iopub.status.idle": "2022-11-12T16:22:31.824532Z",
     "shell.execute_reply": "2022-11-12T16:22:31.823486Z",
     "shell.execute_reply.started": "2022-11-12T16:22:17.803252Z"
    },
    "tags": []
   },
   "outputs": [],
   "source": [
    "for name, ad in ads.items():\n",
    "    sc.pp.filter_genes(ad, min_counts=1)\n",
    "    sc.pp.normalize_total(ad, target_sum=1e4)\n",
    "    sc.pp.log1p(ad)"
   ]
  },
  {
   "cell_type": "code",
   "execution_count": 14,
   "id": "about-charge",
   "metadata": {
    "execution": {
     "iopub.execute_input": "2022-11-12T16:22:31.826688Z",
     "iopub.status.busy": "2022-11-12T16:22:31.825813Z",
     "iopub.status.idle": "2022-11-12T16:22:31.856123Z",
     "shell.execute_reply": "2022-11-12T16:22:31.855165Z",
     "shell.execute_reply.started": "2022-11-12T16:22:31.826660Z"
    },
    "tags": []
   },
   "outputs": [
    {
     "data": {
      "text/plain": [
       "array([0.43932745, 0.43932745, 0.9764408 , ..., 1.5827801 , 1.5827801 , 1.5827801 ], dtype=float32)"
      ]
     },
     "execution_count": 14,
     "metadata": {},
     "output_type": "execute_result"
    }
   ],
   "source": [
    "ads[\"fetal\"].X.data"
   ]
  },
  {
   "cell_type": "markdown",
   "id": "piano-intensity",
   "metadata": {},
   "source": [
    "## Extract and prepare data to plot"
   ]
  },
  {
   "cell_type": "code",
   "execution_count": 15,
   "id": "reported-aquarium",
   "metadata": {
    "execution": {
     "iopub.execute_input": "2022-11-12T16:22:31.857236Z",
     "iopub.status.busy": "2022-11-12T16:22:31.857017Z",
     "iopub.status.idle": "2022-11-12T16:22:31.887605Z",
     "shell.execute_reply": "2022-11-12T16:22:31.886791Z",
     "shell.execute_reply.started": "2022-11-12T16:22:31.857215Z"
    },
    "tags": []
   },
   "outputs": [],
   "source": [
    "fetal_genes = [\"DSC3\", \"DSP\", \"GJB6\", \"PVRL4\"]\n",
    "organoid_genes = [\"DSC3\", \"DSP\", \"GJB6\", \"NECTIN4\"]"
   ]
  },
  {
   "cell_type": "code",
   "execution_count": 16,
   "id": "improving-force",
   "metadata": {
    "execution": {
     "iopub.execute_input": "2022-11-12T16:22:31.888779Z",
     "iopub.status.busy": "2022-11-12T16:22:31.888505Z",
     "iopub.status.idle": "2022-11-12T16:22:33.112578Z",
     "shell.execute_reply": "2022-11-12T16:22:33.111130Z",
     "shell.execute_reply.started": "2022-11-12T16:22:31.888757Z"
    },
    "tags": []
   },
   "outputs": [],
   "source": [
    "fetal_x = (\n",
    "    pd.concat(\n",
    "        [pd.Series(ads[\"fetal\"].obs_vector(g), index=ads[\"fetal\"].obs_names) for g in fetal_genes],\n",
    "        axis=1,\n",
    "    )\n",
    "    .rename(columns={i: g for i, g in enumerate(fetal_genes)})\n",
    "    .assign(annot=ads[\"fetal\"].obs.pooled_annot.str.replace(\"fetal_\", \"\"))\n",
    ")"
   ]
  },
  {
   "cell_type": "code",
   "execution_count": 17,
   "id": "downtown-dance",
   "metadata": {
    "execution": {
     "iopub.execute_input": "2022-11-12T16:22:33.114131Z",
     "iopub.status.busy": "2022-11-12T16:22:33.113861Z",
     "iopub.status.idle": "2022-11-12T16:22:33.234228Z",
     "shell.execute_reply": "2022-11-12T16:22:33.232821Z",
     "shell.execute_reply.started": "2022-11-12T16:22:33.114107Z"
    },
    "tags": []
   },
   "outputs": [],
   "source": [
    "fetal_df = (\n",
    "    fetal_x.melt(id_vars=[\"annot\"], var_name=\"gene\", value_name=\"expression\")\n",
    "    .groupby([\"annot\", \"gene\"])\n",
    "    .agg(\n",
    "        mean=pd.NamedAgg(column=\"expression\", aggfunc=\"mean\"),\n",
    "        frac=pd.NamedAgg(column=\"expression\", aggfunc=lambda x: (x > 0).mean()),\n",
    "    )\n",
    "    .reset_index()\n",
    "    .assign(dataset=\"fetal\")\n",
    ")"
   ]
  },
  {
   "cell_type": "code",
   "execution_count": 18,
   "id": "jewish-winning",
   "metadata": {
    "execution": {
     "iopub.execute_input": "2022-11-12T16:22:33.235571Z",
     "iopub.status.busy": "2022-11-12T16:22:33.235335Z",
     "iopub.status.idle": "2022-11-12T16:22:34.576325Z",
     "shell.execute_reply": "2022-11-12T16:22:34.575296Z",
     "shell.execute_reply.started": "2022-11-12T16:22:33.235547Z"
    },
    "tags": []
   },
   "outputs": [],
   "source": [
    "organoid_x = (\n",
    "    pd.concat(\n",
    "        [\n",
    "            pd.Series(ads[\"organoid\"].obs_vector(g), index=ads[\"organoid\"].obs_names)\n",
    "            for g in organoid_genes\n",
    "        ],\n",
    "        axis=1,\n",
    "    )\n",
    "    .rename(columns={i: g for i, g in enumerate(organoid_genes)})\n",
    "    .assign(annot=ads[\"organoid\"].obs.pooled_annot.str.replace(\"organoid_\", \"\"))\n",
    ")"
   ]
  },
  {
   "cell_type": "code",
   "execution_count": 19,
   "id": "honey-logic",
   "metadata": {
    "execution": {
     "iopub.execute_input": "2022-11-12T16:22:34.577799Z",
     "iopub.status.busy": "2022-11-12T16:22:34.577531Z",
     "iopub.status.idle": "2022-11-12T16:22:34.696596Z",
     "shell.execute_reply": "2022-11-12T16:22:34.695538Z",
     "shell.execute_reply.started": "2022-11-12T16:22:34.577776Z"
    },
    "tags": []
   },
   "outputs": [],
   "source": [
    "organoid_df = (\n",
    "    organoid_x.melt(id_vars=[\"annot\"], var_name=\"gene\", value_name=\"expression\")\n",
    "    .groupby([\"annot\", \"gene\"])\n",
    "    .agg(\n",
    "        mean=pd.NamedAgg(column=\"expression\", aggfunc=\"mean\"),\n",
    "        frac=pd.NamedAgg(column=\"expression\", aggfunc=lambda x: (x > 0).mean()),\n",
    "    )\n",
    "    .reset_index()\n",
    "    .assign(dataset=\"organoid\")\n",
    ")"
   ]
  },
  {
   "cell_type": "code",
   "execution_count": 20,
   "id": "starting-bobby",
   "metadata": {
    "execution": {
     "iopub.execute_input": "2022-11-12T16:22:34.698018Z",
     "iopub.status.busy": "2022-11-12T16:22:34.697737Z",
     "iopub.status.idle": "2022-11-12T16:22:34.723700Z",
     "shell.execute_reply": "2022-11-12T16:22:34.722681Z",
     "shell.execute_reply.started": "2022-11-12T16:22:34.697994Z"
    },
    "tags": []
   },
   "outputs": [],
   "source": [
    "df = pd.concat([fetal_df, organoid_df])"
   ]
  },
  {
   "cell_type": "code",
   "execution_count": 21,
   "id": "satellite-maker",
   "metadata": {
    "execution": {
     "iopub.execute_input": "2022-11-12T16:22:34.724983Z",
     "iopub.status.busy": "2022-11-12T16:22:34.724742Z",
     "iopub.status.idle": "2022-11-12T16:22:34.746671Z",
     "shell.execute_reply": "2022-11-12T16:22:34.745954Z",
     "shell.execute_reply.started": "2022-11-12T16:22:34.724961Z"
    },
    "tags": []
   },
   "outputs": [],
   "source": [
    "df[\"gene2\"] = df.dataset.astype(str) + \" \" + df.gene.astype(str)"
   ]
  },
  {
   "cell_type": "code",
   "execution_count": 22,
   "id": "drawn-weight",
   "metadata": {
    "execution": {
     "iopub.execute_input": "2022-11-12T16:22:34.747920Z",
     "iopub.status.busy": "2022-11-12T16:22:34.747675Z",
     "iopub.status.idle": "2022-11-12T16:22:34.773676Z",
     "shell.execute_reply": "2022-11-12T16:22:34.772748Z",
     "shell.execute_reply.started": "2022-11-12T16:22:34.747899Z"
    },
    "tags": []
   },
   "outputs": [],
   "source": [
    "df[\"annot\"] = df[\"annot\"].astype(\n",
    "    pd.CategoricalDtype(\n",
    "        categories=[\n",
    "            \"Periderm\",\n",
    "            \"Immature basal\",\n",
    "            \"Immature suprabasal\",\n",
    "            \"POSTN+ basal\",\n",
    "            \"Basal\",\n",
    "            \"Suprabasal IFE\",\n",
    "            \"Outer root sheath\",\n",
    "            \"Companion layer\",\n",
    "            \"Inner root sheath\",\n",
    "            \"Matrix/placode\",\n",
    "            \"Cuticle/cortex\",\n",
    "            \"FRZB+ early fibroblast\",\n",
    "            \"HOXC5+ early fibroblast\",\n",
    "            \"WNT2+ fibroblast\",\n",
    "            # \"PEAR1+ fibroblast\",\n",
    "            \"Pre-dermal condensate\",\n",
    "            \"Dermal condensate\",\n",
    "            \"Dermal papillia\",\n",
    "        ],\n",
    "        ordered=True,\n",
    "    )\n",
    ")\n",
    "df[\"x\"] = df.annot.cat.codes\n",
    "df[\"gene2\"] = df[\"gene2\"].astype(\n",
    "    pd.CategoricalDtype(\n",
    "        categories=[\n",
    "            \"fetal DSC3\",\n",
    "            \"organoid DSC3\",\n",
    "            \"fetal DSP\",\n",
    "            \"organoid DSP\",\n",
    "            \"fetal GJB6\",\n",
    "            \"organoid GJB6\",\n",
    "            \"fetal PVRL4\",\n",
    "            \"organoid NECTIN4\",\n",
    "        ],\n",
    "        ordered=True,\n",
    "    )\n",
    ")\n",
    "df[\"y\"] = df.gene2.cat.codes"
   ]
  },
  {
   "cell_type": "code",
   "execution_count": 23,
   "id": "false-movement",
   "metadata": {
    "execution": {
     "iopub.execute_input": "2022-11-12T16:22:34.774858Z",
     "iopub.status.busy": "2022-11-12T16:22:34.774600Z",
     "iopub.status.idle": "2022-11-12T16:22:34.802778Z",
     "shell.execute_reply": "2022-11-12T16:22:34.801616Z",
     "shell.execute_reply.started": "2022-11-12T16:22:34.774825Z"
    },
    "tags": []
   },
   "outputs": [],
   "source": [
    "df = df.merge(\n",
    "    df.groupby(\"gene2\")[\"mean\"].max().rename(\"max_mean\"),\n",
    "    how=\"left\",\n",
    "    left_on=\"gene2\",\n",
    "    right_index=True,\n",
    ")\n",
    "df[\"mean2\"] = df[\"mean\"] / df[\"max_mean\"]"
   ]
  },
  {
   "cell_type": "code",
   "execution_count": 24,
   "id": "potential-relevance",
   "metadata": {
    "execution": {
     "iopub.execute_input": "2022-11-12T16:22:34.803970Z",
     "iopub.status.busy": "2022-11-12T16:22:34.803716Z",
     "iopub.status.idle": "2022-11-12T16:22:34.827234Z",
     "shell.execute_reply": "2022-11-12T16:22:34.826406Z",
     "shell.execute_reply.started": "2022-11-12T16:22:34.803948Z"
    },
    "tags": []
   },
   "outputs": [
    {
     "data": {
      "text/plain": [
       "Index(['Periderm', 'Immature basal', 'Immature suprabasal', 'POSTN+ basal',\n",
       "       'Basal', 'Suprabasal IFE', 'Outer root sheath', 'Companion layer',\n",
       "       'Inner root sheath', 'Matrix/placode', 'Cuticle/cortex',\n",
       "       'FRZB+ early fibroblast', 'HOXC5+ early fibroblast', 'WNT2+ fibroblast',\n",
       "       'Pre-dermal condensate', 'Dermal condensate', 'Dermal papillia'],\n",
       "      dtype='object')"
      ]
     },
     "execution_count": 24,
     "metadata": {},
     "output_type": "execute_result"
    }
   ],
   "source": [
    "df.annot.cat.categories"
   ]
  },
  {
   "cell_type": "code",
   "execution_count": 25,
   "id": "compact-stupid",
   "metadata": {
    "execution": {
     "iopub.execute_input": "2022-11-12T16:22:34.828399Z",
     "iopub.status.busy": "2022-11-12T16:22:34.828174Z",
     "iopub.status.idle": "2022-11-12T16:22:34.859441Z",
     "shell.execute_reply": "2022-11-12T16:22:34.858780Z",
     "shell.execute_reply.started": "2022-11-12T16:22:34.828378Z"
    },
    "tags": []
   },
   "outputs": [
    {
     "data": {
      "text/html": [
       "<div>\n",
       "<style scoped>\n",
       "    .dataframe tbody tr th:only-of-type {\n",
       "        vertical-align: middle;\n",
       "    }\n",
       "\n",
       "    .dataframe tbody tr th {\n",
       "        vertical-align: top;\n",
       "    }\n",
       "\n",
       "    .dataframe thead th {\n",
       "        text-align: right;\n",
       "    }\n",
       "</style>\n",
       "<table border=\"1\" class=\"dataframe\">\n",
       "  <thead>\n",
       "    <tr style=\"text-align: right;\">\n",
       "      <th></th>\n",
       "      <th>annot</th>\n",
       "      <th>gene</th>\n",
       "      <th>mean</th>\n",
       "      <th>frac</th>\n",
       "      <th>dataset</th>\n",
       "      <th>gene2</th>\n",
       "      <th>x</th>\n",
       "      <th>y</th>\n",
       "      <th>max_mean</th>\n",
       "      <th>mean2</th>\n",
       "    </tr>\n",
       "  </thead>\n",
       "  <tbody>\n",
       "    <tr>\n",
       "      <th>0</th>\n",
       "      <td>Basal</td>\n",
       "      <td>DSC3</td>\n",
       "      <td>0.500099</td>\n",
       "      <td>0.557055</td>\n",
       "      <td>fetal</td>\n",
       "      <td>fetal DSC3</td>\n",
       "      <td>4</td>\n",
       "      <td>0</td>\n",
       "      <td>2.148966</td>\n",
       "      <td>0.232716</td>\n",
       "    </tr>\n",
       "    <tr>\n",
       "      <th>1</th>\n",
       "      <td>Basal</td>\n",
       "      <td>DSP</td>\n",
       "      <td>1.120920</td>\n",
       "      <td>0.869939</td>\n",
       "      <td>fetal</td>\n",
       "      <td>fetal DSP</td>\n",
       "      <td>4</td>\n",
       "      <td>2</td>\n",
       "      <td>3.022784</td>\n",
       "      <td>0.370824</td>\n",
       "    </tr>\n",
       "    <tr>\n",
       "      <th>2</th>\n",
       "      <td>Basal</td>\n",
       "      <td>GJB6</td>\n",
       "      <td>1.486292</td>\n",
       "      <td>0.883436</td>\n",
       "      <td>fetal</td>\n",
       "      <td>fetal GJB6</td>\n",
       "      <td>4</td>\n",
       "      <td>4</td>\n",
       "      <td>1.611308</td>\n",
       "      <td>0.922413</td>\n",
       "    </tr>\n",
       "    <tr>\n",
       "      <th>3</th>\n",
       "      <td>Basal</td>\n",
       "      <td>PVRL4</td>\n",
       "      <td>0.025657</td>\n",
       "      <td>0.040491</td>\n",
       "      <td>fetal</td>\n",
       "      <td>fetal PVRL4</td>\n",
       "      <td>4</td>\n",
       "      <td>6</td>\n",
       "      <td>1.557022</td>\n",
       "      <td>0.016478</td>\n",
       "    </tr>\n",
       "    <tr>\n",
       "      <th>4</th>\n",
       "      <td>Companion layer</td>\n",
       "      <td>DSC3</td>\n",
       "      <td>1.560662</td>\n",
       "      <td>0.777778</td>\n",
       "      <td>fetal</td>\n",
       "      <td>fetal DSC3</td>\n",
       "      <td>7</td>\n",
       "      <td>0</td>\n",
       "      <td>2.148966</td>\n",
       "      <td>0.726239</td>\n",
       "    </tr>\n",
       "  </tbody>\n",
       "</table>\n",
       "</div>"
      ],
      "text/plain": [
       "             annot   gene      mean      frac dataset        gene2  x  y  \\\n",
       "0            Basal   DSC3  0.500099  0.557055   fetal   fetal DSC3  4  0   \n",
       "1            Basal    DSP  1.120920  0.869939   fetal    fetal DSP  4  2   \n",
       "2            Basal   GJB6  1.486292  0.883436   fetal   fetal GJB6  4  4   \n",
       "3            Basal  PVRL4  0.025657  0.040491   fetal  fetal PVRL4  4  6   \n",
       "4  Companion layer   DSC3  1.560662  0.777778   fetal   fetal DSC3  7  0   \n",
       "\n",
       "   max_mean     mean2  \n",
       "0  2.148966  0.232716  \n",
       "1  3.022784  0.370824  \n",
       "2  1.611308  0.922413  \n",
       "3  1.557022  0.016478  \n",
       "4  2.148966  0.726239  "
      ]
     },
     "execution_count": 25,
     "metadata": {},
     "output_type": "execute_result"
    }
   ],
   "source": [
    "df.head()"
   ]
  },
  {
   "cell_type": "markdown",
   "id": "overhead-andorra",
   "metadata": {},
   "source": [
    "## Plot"
   ]
  },
  {
   "cell_type": "code",
   "execution_count": 26,
   "id": "parliamentary-faculty",
   "metadata": {
    "execution": {
     "iopub.execute_input": "2022-11-12T16:22:34.860618Z",
     "iopub.status.busy": "2022-11-12T16:22:34.860369Z",
     "iopub.status.idle": "2022-11-12T16:22:35.321969Z",
     "shell.execute_reply": "2022-11-12T16:22:35.321136Z",
     "shell.execute_reply.started": "2022-11-12T16:22:34.860596Z"
    },
    "tags": []
   },
   "outputs": [
    {
     "data": {
      "image/png": "[encoded data removed]",
      "text/plain": [
       "<Figure size 800x300 with 3 Axes>"
      ]
     },
     "metadata": {},
     "output_type": "display_data"
    }
   ],
   "source": [
    "sk.set_figsize((8, 3))\n",
    "\n",
    "# Main axes\n",
    "ax = sn.scatterplot(\n",
    "    data=df,\n",
    "    x=\"x\",\n",
    "    y=\"y\",\n",
    "    hue=\"mean2\",\n",
    "    size=\"frac\",\n",
    "    palette=\"OrRd\",\n",
    "    edgecolor=\"k\",\n",
    "    sizes=(0, 200),\n",
    "    legend=False,\n",
    ")\n",
    "ax.set_xticks(np.arange(17))\n",
    "ax.set_xticklabels(df.annot.cat.categories, rotation=90)\n",
    "ax.set_yticks([0, 1, 2, 3, 4, 5, 6, 7])\n",
    "ax.set_yticklabels(df.gene2.cat.categories)\n",
    "# ax.legend(loc=\"center left\", bbox_to_anchor=(1, 0.5), ncol=1)\n",
    "ax.set_ylim(7.5, -0.5)\n",
    "for ypos in (1.5, 3.5, 5.5):\n",
    "    ax.axhline(y=ypos, linewidth=1, c=\"k\", linestyle=\"--\")\n",
    "ax.set_xlabel(\"\")\n",
    "ax.set_ylabel(\"\")\n",
    "\n",
    "# Make legend\n",
    "fig = ax.get_figure()\n",
    "fig.subplots_adjust(right=0.7)\n",
    "\n",
    "# Dot size legend\n",
    "dlg_ax = fig.add_axes([0.75, 0.55, 0.25, 0.1])\n",
    "sn.scatterplot(\n",
    "    x=[20, 40, 60, 80, 100],\n",
    "    y=[0, 0, 0, 0, 0],\n",
    "    size=[20, 40, 60, 80, 100],\n",
    "    sizes=(40, 200),\n",
    "    color=[(0.5, 0.5, 0.5)],\n",
    "    edgecolor=\"black\",\n",
    "    ax=dlg_ax,\n",
    "    legend=False,\n",
    ")\n",
    "sn.despine(ax=dlg_ax, left=True, bottom=True)\n",
    "dlg_ax.get_yaxis().set_visible(False)\n",
    "dlg_ax.set_xticks([20, 40, 60, 80, 100])\n",
    "dlg_ax.set_xlim(10, 110)\n",
    "dlg_ax.set_title(\"Fraction of cells\\nin group (%)\")\n",
    "\n",
    "# Colorbar\n",
    "cb_ax = fig.add_axes([0.75, 0.25, 0.25, 0.05])\n",
    "cb_ax.set_title(\"Mean expression\\nin group\")\n",
    "fig.colorbar(\n",
    "    plt.cm.ScalarMappable(\n",
    "        cmap=\"OrRd\",\n",
    "    ),\n",
    "    cax=cb_ax,\n",
    "    orientation=\"horizontal\",\n",
    ")\n",
    "sn.despine(ax=cb_ax, left=True, bottom=True)\n",
    "cb_ax.get_yaxis().set_visible(False)"
   ]
  },
  {
   "cell_type": "code",
   "execution_count": 27,
   "id": "promising-apparatus",
   "metadata": {
    "execution": {
     "iopub.execute_input": "2022-11-12T16:22:35.323220Z",
     "iopub.status.busy": "2022-11-12T16:22:35.322983Z",
     "iopub.status.idle": "2022-11-12T16:22:35.877837Z",
     "shell.execute_reply": "2022-11-12T16:22:35.876941Z",
     "shell.execute_reply.started": "2022-11-12T16:22:35.323196Z"
    },
    "tags": []
   },
   "outputs": [],
   "source": [
    "fig.savefig(\"figures/final/figS2M.20220920.pdf\", bbox_inches=\"tight\")"
   ]
  }
 ],
 "metadata": {
  "kernelspec": {
   "display_name": "FCA_base",
   "language": "python",
   "name": "fca_base"
  },
  "language_info": {
   "codemirror_mode": {
    "name": "ipython",
    "version": 3
   },
   "file_extension": ".py",
   "mimetype": "text/x-python",
   "name": "python",
   "nbconvert_exporter": "python",
   "pygments_lexer": "ipython3",
   "version": "3.9.13"
  },
  "widgets": {
   "application/vnd.jupyter.widget-state+json": {
    "state": {},
    "version_major": 2,
    "version_minor": 0
   }
  }
 },
 "nbformat": 4,
 "nbformat_minor": 5
}
