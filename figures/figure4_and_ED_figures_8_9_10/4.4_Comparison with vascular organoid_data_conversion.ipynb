{
 "cells": [
  {
   "cell_type": "code",
   "execution_count": 1,
   "id": "unexpected-manual",
   "metadata": {},
   "outputs": [
    {
     "ename": "ERROR",
     "evalue": "Error in library(scran): there is no package called ‘scran’\n",
     "output_type": "error",
     "traceback": [
      "Error in library(scran): there is no package called ‘scran’\nTraceback:\n",
      "1. suppressPackageStartupMessages(library(scran))",
      "2. withCallingHandlers(expr, packageStartupMessage = function(c) tryInvokeRestart(\"muffleMessage\"))",
      "3. library(scran)"
     ]
    }
   ],
   "source": [
    "options(warn = -1)\n",
    "suppressPackageStartupMessages(library(Seurat))\n",
    "suppressPackageStartupMessages(library(scran))\n",
    "suppressPackageStartupMessages(library(scater))\n",
    "suppressPackageStartupMessages(library(emmeans))\n",
    "suppressPackageStartupMessages(library(ggplot2))\n",
    "suppressPackageStartupMessages(library(ggpubr))\n",
    "suppressPackageStartupMessages(library(lmerTest))\n",
    "suppressPackageStartupMessages(library(msigdbr))\n",
    "suppressPackageStartupMessages(library(dplyr))"
   ]
  },
  {
   "cell_type": "code",
   "execution_count": 2,
   "id": "hindu-bottom",
   "metadata": {},
   "outputs": [
    {
     "name": "stderr",
     "output_type": "stream",
     "text": [
      "Registered S3 method overwritten by 'SeuratDisk':\n",
      "  method            from  \n",
      "  as.sparse.H5Group Seurat\n",
      "\n"
     ]
    }
   ],
   "source": [
    "library(Seurat)\n",
    "library(SeuratDisk)\n",
    "library(SeuratData)"
   ]
  },
  {
   "cell_type": "code",
   "execution_count": 3,
   "id": "saved-comfort",
   "metadata": {},
   "outputs": [],
   "source": [
    "#vascular organoid data from: doi: https://doi.org/10.1101/2022.03.23.485329\n",
    "seu_obj <- readRDS('/home/jovyan/mount_farm/nfs/nfs/team298/wt1/handover_skin/data/endothelial_organoid_timepoints.rds')"
   ]
  },
  {
   "cell_type": "code",
   "execution_count": 4,
   "id": "identical-words",
   "metadata": {},
   "outputs": [
    {
     "data": {
      "text/plain": [
       "An object of class Seurat \n",
       "34626 features across 52680 samples within 4 assays \n",
       "Active assay: RNA (33538 features, 4935 variable features)\n",
       " 3 other assays present: regulome_diffused, regulome_smoothed, signlaing_pc1\n",
       " 9 dimensional reductions calculated: pca, umap, css, css_pca, umap_css, umap3d_css, mnn, umap_mnn, umap3d_mnn"
      ]
     },
     "metadata": {},
     "output_type": "display_data"
    }
   ],
   "source": [
    "seu_obj"
   ]
  },
  {
   "cell_type": "code",
   "execution_count": 4,
   "id": "following-black",
   "metadata": {},
   "outputs": [
    {
     "data": {
      "text/html": [
       "<style>\n",
       ".list-inline {list-style: none; margin:0; padding: 0}\n",
       ".list-inline>li {display: inline-block}\n",
       ".list-inline>li:not(:last-child)::after {content: \"\\00b7\"; padding: 0 .5ex}\n",
       "</style>\n",
       "<ol class=list-inline><li>33538</li><li>52680</li></ol>\n"
      ],
      "text/latex": [
       "\\begin{enumerate*}\n",
       "\\item 33538\n",
       "\\item 52680\n",
       "\\end{enumerate*}\n"
      ],
      "text/markdown": [
       "1. 33538\n",
       "2. 52680\n",
       "\n",
       "\n"
      ],
      "text/plain": [
       "[1] 33538 52680"
      ]
     },
     "metadata": {},
     "output_type": "display_data"
    }
   ],
   "source": [
    "# raw\n",
    "dim(seu_obj@assays$RNA@counts)"
   ]
  },
  {
   "cell_type": "code",
   "execution_count": 5,
   "id": "supreme-argument",
   "metadata": {},
   "outputs": [
    {
     "data": {
      "text/html": [
       "<style>\n",
       ".list-inline {list-style: none; margin:0; padding: 0}\n",
       ".list-inline>li {display: inline-block}\n",
       ".list-inline>li:not(:last-child)::after {content: \"\\00b7\"; padding: 0 .5ex}\n",
       "</style>\n",
       "<ol class=list-inline><li>33538</li><li>52680</li></ol>\n"
      ],
      "text/latex": [
       "\\begin{enumerate*}\n",
       "\\item 33538\n",
       "\\item 52680\n",
       "\\end{enumerate*}\n"
      ],
      "text/markdown": [
       "1. 33538\n",
       "2. 52680\n",
       "\n",
       "\n"
      ],
      "text/plain": [
       "[1] 33538 52680"
      ]
     },
     "metadata": {},
     "output_type": "display_data"
    }
   ],
   "source": [
    "# normalised\n",
    "dim(seu_obj@assays$RNA@data)"
   ]
  },
  {
   "cell_type": "code",
   "execution_count": 6,
   "id": "painted-metadata",
   "metadata": {},
   "outputs": [
    {
     "data": {
      "text/html": [
       "<style>\n",
       ".list-inline {list-style: none; margin:0; padding: 0}\n",
       ".list-inline>li {display: inline-block}\n",
       ".list-inline>li:not(:last-child)::after {content: \"\\00b7\"; padding: 0 .5ex}\n",
       "</style>\n",
       "<ol class=list-inline><li>4935</li><li>52680</li></ol>\n"
      ],
      "text/latex": [
       "\\begin{enumerate*}\n",
       "\\item 4935\n",
       "\\item 52680\n",
       "\\end{enumerate*}\n"
      ],
      "text/markdown": [
       "1. 4935\n",
       "2. 52680\n",
       "\n",
       "\n"
      ],
      "text/plain": [
       "[1]  4935 52680"
      ]
     },
     "metadata": {},
     "output_type": "display_data"
    }
   ],
   "source": [
    "# normalised, scaled ?high var\n",
    "dim(seu_obj@assays$RNA@scale.data)"
   ]
  },
  {
   "cell_type": "code",
   "execution_count": 7,
   "id": "assigned-casting",
   "metadata": {},
   "outputs": [],
   "source": [
    "#removed scaled data, kept raw and normalised\n",
    "seu_obj_diet <- DietSeurat(\n",
    "  seu_obj,\n",
    "  counts = TRUE,\n",
    "  data = TRUE,\n",
    "  scale.data = FALSE,\n",
    "  features = NULL,\n",
    "  assays = NULL,\n",
    "  dimreducs = NULL,\n",
    "  graphs = NULL,\n",
    "  misc = TRUE\n",
    ")"
   ]
  },
  {
   "cell_type": "code",
   "execution_count": 8,
   "id": "private-clinton",
   "metadata": {},
   "outputs": [],
   "source": [
    "setwd('/home/jovyan/mount_farm/nfs/nfs/team298/hg6/Fetal_skin/')"
   ]
  },
  {
   "cell_type": "code",
   "execution_count": 9,
   "id": "aggregate-september",
   "metadata": {},
   "outputs": [
    {
     "name": "stderr",
     "output_type": "stream",
     "text": [
      "Creating h5Seurat file for version 3.1.5.9900\n",
      "\n",
      "Adding counts for RNA\n",
      "\n",
      "Adding data for RNA\n",
      "\n",
      "Adding variable features for RNA\n",
      "\n",
      "Adding feature-level metadata for RNA\n",
      "\n",
      "Adding data for regulome_diffused\n",
      "\n",
      "No variable features found for regulome_diffused\n",
      "\n",
      "No feature-level metadata found for regulome_diffused\n",
      "\n",
      "Adding data for regulome_smoothed\n",
      "\n",
      "No variable features found for regulome_smoothed\n",
      "\n",
      "No feature-level metadata found for regulome_smoothed\n",
      "\n",
      "Adding data for signlaing_pc1\n",
      "\n",
      "No variable features found for signlaing_pc1\n",
      "\n",
      "No feature-level metadata found for signlaing_pc1\n",
      "\n"
     ]
    }
   ],
   "source": [
    "SaveH5Seurat(seu_obj_diet, filename = \"vasc_org.h5Seurat\")"
   ]
  },
  {
   "cell_type": "code",
   "execution_count": 10,
   "id": "pointed-allah",
   "metadata": {},
   "outputs": [
    {
     "name": "stderr",
     "output_type": "stream",
     "text": [
      "Validating h5Seurat file\n",
      "\n",
      "Adding data from RNA as X\n",
      "\n",
      "Transfering meta.features to var\n",
      "\n",
      "Adding counts from RNA as raw\n",
      "\n",
      "Transfering meta.features to raw/var\n",
      "\n",
      "Transfering meta.data to obs\n",
      "\n"
     ]
    }
   ],
   "source": [
    "Convert(\"vasc_org.h5Seurat\", dest = \"h5ad\")"
   ]
  },
  {
   "cell_type": "code",
   "execution_count": null,
   "id": "afraid-timothy",
   "metadata": {},
   "outputs": [],
   "source": []
  },
  {
   "cell_type": "code",
   "execution_count": null,
   "id": "female-experiment",
   "metadata": {},
   "outputs": [],
   "source": []
  }
 ],
 "metadata": {
  "kernelspec": {
   "display_name": "R_4.2",
   "language": "R",
   "name": "renv_4_2"
  },
  "language_info": {
   "codemirror_mode": "r",
   "file_extension": ".r",
   "mimetype": "text/x-r-source",
   "name": "R",
   "pygments_lexer": "r",
   "version": "4.2.2"
  }
 },
 "nbformat": 4,
 "nbformat_minor": 5
}
