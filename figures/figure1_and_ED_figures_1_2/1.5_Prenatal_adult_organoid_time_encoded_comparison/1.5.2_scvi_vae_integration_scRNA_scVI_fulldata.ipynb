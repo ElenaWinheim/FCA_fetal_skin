{
 "cells": [
  {
   "cell_type": "markdown",
   "id": "future-functionality",
   "metadata": {},
   "source": [
    "# Method\n",
    "- We include batches but purposefully do not include a time encoding in bacthes as we want to learn time-related differences\n",
    "- For organoi, we include cell-line but not time\n",
    "- We train a VAE model to learn some combination of high dimensional features which represent cell-cell variation, correcting for donors, dataset and chemistry.\n",
    "- We learn some featrure of time-relationships between the data."
   ]
  },
  {
   "cell_type": "markdown",
   "id": "crazy-wagon",
   "metadata": {},
   "source": [
    "# Fskin - scVI data integration"
   ]
  },
  {
   "cell_type": "code",
   "execution_count": 2,
   "id": "rubber-equipment",
   "metadata": {},
   "outputs": [],
   "source": [
    "import sys,os\n",
    "import scvi\n",
    "import anndata\n",
    "import matplotlib\n",
    "import seaborn as sns\n",
    "from matplotlib import colors\n",
    "import matplotlib.pyplot as plt\n",
    "from matplotlib import rcParams\n",
    "from matplotlib.colors import LinearSegmentedColormap\n",
    "import numpy as np3\n",
    "import pandas as pd\n",
    "import scanpy as sc\n",
    "import numpy.random as random\n",
    "import scipy.sparse\n",
    "import anndata\n",
    "import numpy as np"
   ]
  },
  {
   "cell_type": "code",
   "execution_count": 3,
   "id": "imported-acrylic",
   "metadata": {},
   "outputs": [],
   "source": [
    "import torch\n",
    "device = torch.device(\"cuda\")"
   ]
  },
  {
   "cell_type": "code",
   "execution_count": 4,
   "id": "minor-nursing",
   "metadata": {},
   "outputs": [],
   "source": [
    "# /nfs/team205/ig7/work_backups/backup_210306/projects/YS/YS_data/mikola_hannah_agm/IG_datasets/combined_datasets_by_organ/YS_vt_combined_hannah_mikola_all_tp.h5ad\n",
    "# /nfs/team205/ig7/work_backups/backup_210306/projects/YS/YS_030522_notebooks/Integrating_HM_data_030522/YS_logit/YS_vt_HM_YS_LR_raw.h5ad"
   ]
  },
  {
   "cell_type": "code",
   "execution_count": 5,
   "id": "filled-delhi",
   "metadata": {},
   "outputs": [],
   "source": [
    "# scp -o ProxyCommand=\"ssh -W %h:%p ig7@ssh.sanger.ac.uk\" ig7@farm5-login.internal.sanger.ac.uk:/nfs/team205/ig7/work_backups/backup_210306/projects/YS/YS_data/mikola_hannah_agm/IG_datasets/combined_datasets_by_organ/YS_vt_combined_hannah_mikola_all_tp.h5ad ./\n",
    "# scp -o ProxyCommand=\"ssh -W %h:%p ig7@ssh.sanger.ac.uk\" ig7@farm5-login.internal.sanger.ac.uk:/nfs/team205/ig7/work_backups/backup_210306/projects/YS/YS_030522_notebooks/Integrating_HM_data_030522/YS_logit/YS_vt_HM_YS_LR_raw.h5ad ./"
   ]
  },
  {
   "cell_type": "code",
   "execution_count": 6,
   "id": "contemporary-framework",
   "metadata": {},
   "outputs": [],
   "source": [
    "# scp -o ProxyCommand=\"ssh -W %h:%p ig7@ssh.sanger.ac.uk\" ig7@farm5-login.internal.sanger.ac.uk:/nfs/team205/ig7/work_backups/backup_210306/projects/YS/YS_data/mikola_hannah_agm/IG_datasets/combined_datasets_by_organ/YolkSac_CS14_mikola_1.h5ad ./\n",
    "# scp -o ProxyCommand=\"ssh -W %h:%p ig7@ssh.sanger.ac.uk\" ig7@farm5-login.internal.sanger.ac.uk:/nfs/team205/ig7/work_backups/backup_210306/projects/YS/YS_data/mikola_hannah_agm/IG_datasets/combined_datasets_by_organ/VitellineV_CS14_mikola_1.h5ad ./"
   ]
  },
  {
   "cell_type": "code",
   "execution_count": 7,
   "id": "every-visiting",
   "metadata": {},
   "outputs": [
    {
     "name": "stdout",
     "output_type": "stream",
     "text": [
      "1.0.0\n"
     ]
    }
   ],
   "source": [
    " print(scvi.__version__)"
   ]
  },
  {
   "cell_type": "code",
   "execution_count": 8,
   "id": "congressional-possibility",
   "metadata": {},
   "outputs": [
    {
     "name": "stdout",
     "output_type": "stream",
     "text": [
      "1.9.3\n"
     ]
    }
   ],
   "source": [
    " print(sc.__version__)"
   ]
  },
  {
   "cell_type": "code",
   "execution_count": 9,
   "id": "offshore-repeat",
   "metadata": {},
   "outputs": [
    {
     "name": "stdout",
     "output_type": "stream",
     "text": [
      "0.9.1\n"
     ]
    }
   ],
   "source": [
    " print(anndata.__version__)"
   ]
  },
  {
   "cell_type": "markdown",
   "id": "meaning-carpet",
   "metadata": {},
   "source": [
    "# metadata fixing/pruning"
   ]
  },
  {
   "cell_type": "code",
   "execution_count": 10,
   "id": "different-guest",
   "metadata": {},
   "outputs": [],
   "source": [
    "data = {\n",
    "'fski':'/lustre/scratch126/cellgen/team298/SharedFolders/fetal_skin/data_for_Issac/fetal_skin_raw.h5ad',\n",
    "'org':'/lustre/scratch126/cellgen/team298/SharedFolders/fetal_skin/data_for_Issac/FS_organoid_raw_count_annot.h5ad',\n",
    "'adt':'/lustre/scratch126/cellgen/team298/SharedFolders/fetal_skin/data_for_Issac/Healthy_all_data.h5ad',\n",
    "}\n",
    "\n",
    "data = {\n",
    "'fski':'/lustre/scratch126/cellgen/team298/SharedFolders/fetal_skin/data_for_Issac/FS_new_Gene_raw_sliced_processed.h5ad', \n",
    "'org':'/lustre/scratch126/cellgen/team298/SharedFolders/fetal_skin/data_for_Issac/Organoid_new/Organoid_new_Gene_raw_sliced_processed_noday13.h5ad',\n",
    "'adt':'/lustre/scratch126/cellgen/team298/SharedFolders/fetal_skin/data_for_Issac/Healthy_all_data.h5ad', \n",
    "}\n",
    "\n",
    "data_pool = {'ski_pool':'/lustre/scratch126/cellgen/team298/SharedFolders/fetal_skin/data_for_Issac/pooled_fetal_organoid_adult.processed.h5ad',\n",
    "}"
   ]
  },
  {
   "cell_type": "code",
   "execution_count": null,
   "id": "short-prompt",
   "metadata": {},
   "outputs": [],
   "source": [
    "\n",
    "adata_adt_pl = sc.read(data_pool['ski_pool'],backed='r')"
   ]
  },
  {
   "cell_type": "code",
   "execution_count": null,
   "id": "ultimate-gallery",
   "metadata": {},
   "outputs": [],
   "source": [
    "# #Extract labels for adt from data_pool\n",
    "# adata_adt_pl = sc.read(data_pool['ski_pool'],backed='r')\n",
    "# adata_adt = sc.read(data['adt'],backed='r')\n",
    "# obs = adata_adt_pl.obs.copy()\n",
    "# obs.index = obs.index.str.replace('-adult','')\n",
    "# obs = obs[obs.index.isin(adata_adt.obs.index)]\n",
    "# obs['donor'] = adata_adt.obs['donor_id'].copy()\n",
    "# adata_adt_sv = adata_adt[adata_adt.obs.index.isin(obs.index)].to_memory()\n",
    "# adata_adt_sv.obs = obs\n",
    "# adata_adt_sv.write('/nfs/team205/ig7/projects/fetal_skin/160523_probabillistic_projection_organoid_adt_fetl/data/adult_healthy/Healthy_adt_qc_raw_sk_annot.h5ad')"
   ]
  },
  {
   "cell_type": "code",
   "execution_count": null,
   "id": "changing-advancement",
   "metadata": {},
   "outputs": [],
   "source": [
    "# extract and update fskin data\n",
    "adata_fsk = sc.read(data['fski'],backed='r')\n",
    "obs = adata_adt_pl.obs.copy()\n",
    "obs.index = obs.index.str.replace('-fetal','')\n",
    "obs = obs[obs.index.isin(adata_fsk.obs.index)] \n",
    "obs['donor'] = adata_fsk.obs['donor'].copy()\n",
    "adata_fsk = adata_fsk[adata_fsk.obs.index.isin(obs.index)].to_memory()\n",
    "adata_fsk.obs = obs\n",
    "adata_fsk.write('/nfs/team205/ig7/projects/fetal_skin/3_160523_probabillistic_projection_organoid_adt_fetl/data/fskin/fetal_qc_sk_raw_annot_v2.h5ad')"
   ]
  },
  {
   "cell_type": "code",
   "execution_count": null,
   "id": "smart-eleven",
   "metadata": {},
   "outputs": [],
   "source": [
    "obs[obs.index.isin(adata_org.obs.index)] "
   ]
  },
  {
   "cell_type": "code",
   "execution_count": null,
   "id": "iraqi-appearance",
   "metadata": {},
   "outputs": [],
   "source": [
    "# extract and update organoid data\n",
    "adata_org = sc.read(data['org'],backed='r')\n",
    "obs = adata_adt_pl.obs.copy()\n",
    "adata_org = adata_org.to_memory() #[adata_org.obs.index.str.contains('-organoid')]\n",
    "obs = obs[obs.index.isin(adata_org.obs.index)] \n",
    "obs['donor'] = adata_org.obs['donor'].copy()\n",
    "adata_org = adata_org[adata_org.obs.index.isin(obs.index)]\n",
    "adata_org.obs['dataset'] = 'organoid'\n",
    "obs.index = obs.index.str.replace('-organoid','')\n",
    "adata_org.obs = obs\n",
    "adata_org.write('/nfs/team205/ig7/projects/fetal_skin/3_160523_probabillistic_projection_organoid_adt_fetl/data/organoid/organoid_qc_sk_raw_annot_v2.h5ad')"
   ]
  },
  {
   "cell_type": "code",
   "execution_count": null,
   "id": "average-reunion",
   "metadata": {},
   "outputs": [],
   "source": [
    "adata_org"
   ]
  },
  {
   "cell_type": "markdown",
   "id": "former-magnitude",
   "metadata": {},
   "source": [
    "# Prepare dataset mergers"
   ]
  },
  {
   "cell_type": "code",
   "execution_count": null,
   "id": "mathematical-pledge",
   "metadata": {},
   "outputs": [],
   "source": [
    "run_id = 'A1_V2_vae_scvi_ski_updated_org_adt_build_donor_source_corrected_160523'\n",
    "# Required: Introduce the path you'd like to save figures or data to \n",
    "save_path = \"/nfs/team205/ig7/projects/fetal_skin/3_160523_probabillistic_projection_organoid_adt_fetl/data/\""
   ]
  },
  {
   "cell_type": "code",
   "execution_count": null,
   "id": "rental-requirement",
   "metadata": {},
   "outputs": [],
   "source": [
    "# #Raw obj paths\n",
    "data_updated = {\n",
    "'-fetal':'/nfs/team205/ig7/projects/fetal_skin/3_160523_probabillistic_projection_organoid_adt_fetl/data/fskin/fetal_qc_sk_raw_annot_v2.h5ad',\n",
    "'-organoid':'/nfs/team205/ig7/projects/fetal_skin/3_160523_probabillistic_projection_organoid_adt_fetl/data/organoid/organoid_qc_sk_raw_annot_v2.h5ad',\n",
    "'-adult':'/nfs/team205/ig7/projects/fetal_skin/3_160523_probabillistic_projection_organoid_adt_fetl/data/adult_healthy/Healthy_adt_qc_raw_sk_annot.h5ad',\n",
    "}\n",
    "data_merge = True\n",
    "QC_normalise = False\n",
    "data_key_use = None"
   ]
  },
  {
   "cell_type": "code",
   "execution_count": null,
   "id": "grateful-plenty",
   "metadata": {},
   "outputs": [],
   "source": [
    "def load_adatas(adatas_dict,data_merge, data_key_use,QC_normalise):\n",
    "    if data_merge == True:\n",
    "        # Read\n",
    "        gene_intersect = {} # unused here\n",
    "        adatas = {}\n",
    "        for dataset in adatas_dict.keys():\n",
    "            if 'https' in adatas_dict[dataset]:\n",
    "                print('Loading anndata from web source')\n",
    "                adatas[dataset] = sc.read('./temp_adata.h5ad',backup_url=adatas_dict[dataset])\n",
    "            print('Loading anndata {} from local source'.format(dataset))\n",
    "            adatas[dataset] = sc.read(adatas_dict[dataset])\n",
    "            adatas[dataset].var_names_make_unique()\n",
    "            adatas[dataset].obs['dataset_merge'] = dataset\n",
    "            adatas[dataset].obs['dataset_merge'] = dataset\n",
    "            adatas[dataset].obs.index = adatas[dataset].obs.index + dataset\n",
    "            gene_intersect[dataset] = list(adatas[dataset].var.index)\n",
    "            print('All datasets successfully read into a dictionary')\n",
    "        print('Attempting to collapse dictionary into single joint concatenation')\n",
    "        adata = list(adatas.values())[0].concatenate(list(adatas.values())[1:],join='inner',index_unique=None) # consider only genes that are intersecting\n",
    "        return adatas, adata\n",
    "    elif data_merge == False:\n",
    "        if 'https' in adatas_dict[data_key_use]:\n",
    "            print('Loading anndata from web source')\n",
    "            adata = sc.read('./temp_adata.h5ad',backup_url=adatas_dict[data_key_use])\n",
    "        else: \n",
    "            adata = sc.read(adatas_dict[data_key_use])\n",
    "    if QC_normalise == True:\n",
    "        print('option to apply standardisation to data detected, performing basic QC filtering')\n",
    "        adata.raw = adata[:]\n",
    "        sc.pp.filter_cells(adata, min_genes=200)\n",
    "        sc.pp.filter_genes(adata, min_cells=3)\n",
    "        sc.pp.normalize_per_cell(adata, counts_per_cell_after=1e4)\n",
    "        sc.pp.log1p(adata)\n",
    "    return adata\n",
    "\n",
    "# Read\n",
    "adatas , adata_raw = load_adatas(data_updated, data_merge ,data_key_use, QC_normalise)\n",
    "adata_raw.write(save_path+run_id+'_raw_concatenated_full_features.h5ad')"
   ]
  },
  {
   "cell_type": "markdown",
   "id": "accomplished-elizabeth",
   "metadata": {},
   "source": [
    "## Load and prep data"
   ]
  },
  {
   "cell_type": "code",
   "execution_count": 11,
   "id": "special-falls",
   "metadata": {},
   "outputs": [
    {
     "ename": "FileNotFoundError",
     "evalue": "[Errno 2] Unable to open file (unable to open file: name = '/nfs/team205/ig7/projects/fetal_skin/160523_probabillistic_projection_organoid_adt_fetl/A1_V1_ldvae_scvi_ski_updated_org_adt_build_donor_source_corrected_160523_raw_concatenated_full_features.h5ad', errno = 2, error message = 'No such file or directory', flags = 0, o_flags = 0)",
     "output_type": "error",
     "traceback": [
      "\u001b[0;31m---------------------------------------------------------------------------\u001b[0m",
      "\u001b[0;31mFileNotFoundError\u001b[0m                         Traceback (most recent call last)",
      "Input \u001b[0;32mIn [11]\u001b[0m, in \u001b[0;36m<cell line: 1>\u001b[0;34m()\u001b[0m\n\u001b[0;32m----> 1\u001b[0m adata_raw \u001b[38;5;241m=\u001b[39m \u001b[43msc\u001b[49m\u001b[38;5;241;43m.\u001b[39;49m\u001b[43mread\u001b[49m\u001b[43m(\u001b[49m\u001b[38;5;124;43m\"\u001b[39;49m\u001b[38;5;124;43m/nfs/team205/ig7/projects/fetal_skin/160523_probabillistic_projection_organoid_adt_fetl/A1_V1_ldvae_scvi_ski_updated_org_adt_build_donor_source_corrected_160523_raw_concatenated_full_features.h5ad\u001b[39;49m\u001b[38;5;124;43m\"\u001b[39;49m\u001b[43m)\u001b[49m\n",
      "File \u001b[0;32m~/my-conda-envs/workhorse/lib/python3.9/site-packages/scanpy/readwrite.py:112\u001b[0m, in \u001b[0;36mread\u001b[0;34m(filename, backed, sheet, ext, delimiter, first_column_names, backup_url, cache, cache_compression, **kwargs)\u001b[0m\n\u001b[1;32m    110\u001b[0m filename \u001b[38;5;241m=\u001b[39m Path(filename)  \u001b[38;5;66;03m# allow passing strings\u001b[39;00m\n\u001b[1;32m    111\u001b[0m \u001b[38;5;28;01mif\u001b[39;00m is_valid_filename(filename):\n\u001b[0;32m--> 112\u001b[0m     \u001b[38;5;28;01mreturn\u001b[39;00m \u001b[43m_read\u001b[49m\u001b[43m(\u001b[49m\n\u001b[1;32m    113\u001b[0m \u001b[43m        \u001b[49m\u001b[43mfilename\u001b[49m\u001b[43m,\u001b[49m\n\u001b[1;32m    114\u001b[0m \u001b[43m        \u001b[49m\u001b[43mbacked\u001b[49m\u001b[38;5;241;43m=\u001b[39;49m\u001b[43mbacked\u001b[49m\u001b[43m,\u001b[49m\n\u001b[1;32m    115\u001b[0m \u001b[43m        \u001b[49m\u001b[43msheet\u001b[49m\u001b[38;5;241;43m=\u001b[39;49m\u001b[43msheet\u001b[49m\u001b[43m,\u001b[49m\n\u001b[1;32m    116\u001b[0m \u001b[43m        \u001b[49m\u001b[43mext\u001b[49m\u001b[38;5;241;43m=\u001b[39;49m\u001b[43mext\u001b[49m\u001b[43m,\u001b[49m\n\u001b[1;32m    117\u001b[0m \u001b[43m        \u001b[49m\u001b[43mdelimiter\u001b[49m\u001b[38;5;241;43m=\u001b[39;49m\u001b[43mdelimiter\u001b[49m\u001b[43m,\u001b[49m\n\u001b[1;32m    118\u001b[0m \u001b[43m        \u001b[49m\u001b[43mfirst_column_names\u001b[49m\u001b[38;5;241;43m=\u001b[39;49m\u001b[43mfirst_column_names\u001b[49m\u001b[43m,\u001b[49m\n\u001b[1;32m    119\u001b[0m \u001b[43m        \u001b[49m\u001b[43mbackup_url\u001b[49m\u001b[38;5;241;43m=\u001b[39;49m\u001b[43mbackup_url\u001b[49m\u001b[43m,\u001b[49m\n\u001b[1;32m    120\u001b[0m \u001b[43m        \u001b[49m\u001b[43mcache\u001b[49m\u001b[38;5;241;43m=\u001b[39;49m\u001b[43mcache\u001b[49m\u001b[43m,\u001b[49m\n\u001b[1;32m    121\u001b[0m \u001b[43m        \u001b[49m\u001b[43mcache_compression\u001b[49m\u001b[38;5;241;43m=\u001b[39;49m\u001b[43mcache_compression\u001b[49m\u001b[43m,\u001b[49m\n\u001b[1;32m    122\u001b[0m \u001b[43m        \u001b[49m\u001b[38;5;241;43m*\u001b[39;49m\u001b[38;5;241;43m*\u001b[39;49m\u001b[43mkwargs\u001b[49m\u001b[43m,\u001b[49m\n\u001b[1;32m    123\u001b[0m \u001b[43m    \u001b[49m\u001b[43m)\u001b[49m\n\u001b[1;32m    124\u001b[0m \u001b[38;5;66;03m# generate filename and read to dict\u001b[39;00m\n\u001b[1;32m    125\u001b[0m filekey \u001b[38;5;241m=\u001b[39m \u001b[38;5;28mstr\u001b[39m(filename)\n",
      "File \u001b[0;32m~/my-conda-envs/workhorse/lib/python3.9/site-packages/scanpy/readwrite.py:722\u001b[0m, in \u001b[0;36m_read\u001b[0;34m(filename, backed, sheet, ext, delimiter, first_column_names, backup_url, cache, cache_compression, suppress_cache_warning, **kwargs)\u001b[0m\n\u001b[1;32m    720\u001b[0m \u001b[38;5;28;01mif\u001b[39;00m ext \u001b[38;5;129;01min\u001b[39;00m {\u001b[38;5;124m'\u001b[39m\u001b[38;5;124mh5\u001b[39m\u001b[38;5;124m'\u001b[39m, \u001b[38;5;124m'\u001b[39m\u001b[38;5;124mh5ad\u001b[39m\u001b[38;5;124m'\u001b[39m}:\n\u001b[1;32m    721\u001b[0m     \u001b[38;5;28;01mif\u001b[39;00m sheet \u001b[38;5;129;01mis\u001b[39;00m \u001b[38;5;28;01mNone\u001b[39;00m:\n\u001b[0;32m--> 722\u001b[0m         \u001b[38;5;28;01mreturn\u001b[39;00m \u001b[43mread_h5ad\u001b[49m\u001b[43m(\u001b[49m\u001b[43mfilename\u001b[49m\u001b[43m,\u001b[49m\u001b[43m \u001b[49m\u001b[43mbacked\u001b[49m\u001b[38;5;241;43m=\u001b[39;49m\u001b[43mbacked\u001b[49m\u001b[43m)\u001b[49m\n\u001b[1;32m    723\u001b[0m     \u001b[38;5;28;01melse\u001b[39;00m:\n\u001b[1;32m    724\u001b[0m         logg\u001b[38;5;241m.\u001b[39mdebug(\u001b[38;5;124mf\u001b[39m\u001b[38;5;124m'\u001b[39m\u001b[38;5;124mreading sheet \u001b[39m\u001b[38;5;132;01m{\u001b[39;00msheet\u001b[38;5;132;01m}\u001b[39;00m\u001b[38;5;124m from file \u001b[39m\u001b[38;5;132;01m{\u001b[39;00mfilename\u001b[38;5;132;01m}\u001b[39;00m\u001b[38;5;124m'\u001b[39m)\n",
      "File \u001b[0;32m~/my-conda-envs/workhorse/lib/python3.9/site-packages/anndata/_io/h5ad.py:219\u001b[0m, in \u001b[0;36mread_h5ad\u001b[0;34m(filename, backed, as_sparse, as_sparse_fmt, chunk_size)\u001b[0m\n\u001b[1;32m    211\u001b[0m         \u001b[38;5;28;01mraise\u001b[39;00m \u001b[38;5;167;01mNotImplementedError\u001b[39;00m(\n\u001b[1;32m    212\u001b[0m             \u001b[38;5;124m\"\u001b[39m\u001b[38;5;124mCurrently only `X` and `raw/X` can be read as sparse.\u001b[39m\u001b[38;5;124m\"\u001b[39m\n\u001b[1;32m    213\u001b[0m         )\n\u001b[1;32m    215\u001b[0m rdasp \u001b[38;5;241m=\u001b[39m partial(\n\u001b[1;32m    216\u001b[0m     read_dense_as_sparse, sparse_format\u001b[38;5;241m=\u001b[39mas_sparse_fmt, axis_chunk\u001b[38;5;241m=\u001b[39mchunk_size\n\u001b[1;32m    217\u001b[0m )\n\u001b[0;32m--> 219\u001b[0m \u001b[38;5;28;01mwith\u001b[39;00m \u001b[43mh5py\u001b[49m\u001b[38;5;241;43m.\u001b[39;49m\u001b[43mFile\u001b[49m\u001b[43m(\u001b[49m\u001b[43mfilename\u001b[49m\u001b[43m,\u001b[49m\u001b[43m \u001b[49m\u001b[38;5;124;43m\"\u001b[39;49m\u001b[38;5;124;43mr\u001b[39;49m\u001b[38;5;124;43m\"\u001b[39;49m\u001b[43m)\u001b[49m \u001b[38;5;28;01mas\u001b[39;00m f:\n\u001b[1;32m    221\u001b[0m     \u001b[38;5;28;01mdef\u001b[39;00m \u001b[38;5;21mcallback\u001b[39m(func, elem_name: \u001b[38;5;28mstr\u001b[39m, elem, iospec):\n\u001b[1;32m    222\u001b[0m         \u001b[38;5;28;01mif\u001b[39;00m iospec\u001b[38;5;241m.\u001b[39mencoding_type \u001b[38;5;241m==\u001b[39m \u001b[38;5;124m\"\u001b[39m\u001b[38;5;124manndata\u001b[39m\u001b[38;5;124m\"\u001b[39m \u001b[38;5;129;01mor\u001b[39;00m elem_name\u001b[38;5;241m.\u001b[39mendswith(\u001b[38;5;124m\"\u001b[39m\u001b[38;5;124m/\u001b[39m\u001b[38;5;124m\"\u001b[39m):\n",
      "File \u001b[0;32m~/my-conda-envs/workhorse/lib/python3.9/site-packages/h5py/_hl/files.py:567\u001b[0m, in \u001b[0;36mFile.__init__\u001b[0;34m(self, name, mode, driver, libver, userblock_size, swmr, rdcc_nslots, rdcc_nbytes, rdcc_w0, track_order, fs_strategy, fs_persist, fs_threshold, fs_page_size, page_buf_size, min_meta_keep, min_raw_keep, locking, alignment_threshold, alignment_interval, meta_block_size, **kwds)\u001b[0m\n\u001b[1;32m    558\u001b[0m     fapl \u001b[38;5;241m=\u001b[39m make_fapl(driver, libver, rdcc_nslots, rdcc_nbytes, rdcc_w0,\n\u001b[1;32m    559\u001b[0m                      locking, page_buf_size, min_meta_keep, min_raw_keep,\n\u001b[1;32m    560\u001b[0m                      alignment_threshold\u001b[38;5;241m=\u001b[39malignment_threshold,\n\u001b[1;32m    561\u001b[0m                      alignment_interval\u001b[38;5;241m=\u001b[39malignment_interval,\n\u001b[1;32m    562\u001b[0m                      meta_block_size\u001b[38;5;241m=\u001b[39mmeta_block_size,\n\u001b[1;32m    563\u001b[0m                      \u001b[38;5;241m*\u001b[39m\u001b[38;5;241m*\u001b[39mkwds)\n\u001b[1;32m    564\u001b[0m     fcpl \u001b[38;5;241m=\u001b[39m make_fcpl(track_order\u001b[38;5;241m=\u001b[39mtrack_order, fs_strategy\u001b[38;5;241m=\u001b[39mfs_strategy,\n\u001b[1;32m    565\u001b[0m                      fs_persist\u001b[38;5;241m=\u001b[39mfs_persist, fs_threshold\u001b[38;5;241m=\u001b[39mfs_threshold,\n\u001b[1;32m    566\u001b[0m                      fs_page_size\u001b[38;5;241m=\u001b[39mfs_page_size)\n\u001b[0;32m--> 567\u001b[0m     fid \u001b[38;5;241m=\u001b[39m \u001b[43mmake_fid\u001b[49m\u001b[43m(\u001b[49m\u001b[43mname\u001b[49m\u001b[43m,\u001b[49m\u001b[43m \u001b[49m\u001b[43mmode\u001b[49m\u001b[43m,\u001b[49m\u001b[43m \u001b[49m\u001b[43muserblock_size\u001b[49m\u001b[43m,\u001b[49m\u001b[43m \u001b[49m\u001b[43mfapl\u001b[49m\u001b[43m,\u001b[49m\u001b[43m \u001b[49m\u001b[43mfcpl\u001b[49m\u001b[43m,\u001b[49m\u001b[43m \u001b[49m\u001b[43mswmr\u001b[49m\u001b[38;5;241;43m=\u001b[39;49m\u001b[43mswmr\u001b[49m\u001b[43m)\u001b[49m\n\u001b[1;32m    569\u001b[0m \u001b[38;5;28;01mif\u001b[39;00m \u001b[38;5;28misinstance\u001b[39m(libver, \u001b[38;5;28mtuple\u001b[39m):\n\u001b[1;32m    570\u001b[0m     \u001b[38;5;28mself\u001b[39m\u001b[38;5;241m.\u001b[39m_libver \u001b[38;5;241m=\u001b[39m libver\n",
      "File \u001b[0;32m~/my-conda-envs/workhorse/lib/python3.9/site-packages/h5py/_hl/files.py:231\u001b[0m, in \u001b[0;36mmake_fid\u001b[0;34m(name, mode, userblock_size, fapl, fcpl, swmr)\u001b[0m\n\u001b[1;32m    229\u001b[0m     \u001b[38;5;28;01mif\u001b[39;00m swmr \u001b[38;5;129;01mand\u001b[39;00m swmr_support:\n\u001b[1;32m    230\u001b[0m         flags \u001b[38;5;241m|\u001b[39m\u001b[38;5;241m=\u001b[39m h5f\u001b[38;5;241m.\u001b[39mACC_SWMR_READ\n\u001b[0;32m--> 231\u001b[0m     fid \u001b[38;5;241m=\u001b[39m \u001b[43mh5f\u001b[49m\u001b[38;5;241;43m.\u001b[39;49m\u001b[43mopen\u001b[49m\u001b[43m(\u001b[49m\u001b[43mname\u001b[49m\u001b[43m,\u001b[49m\u001b[43m \u001b[49m\u001b[43mflags\u001b[49m\u001b[43m,\u001b[49m\u001b[43m \u001b[49m\u001b[43mfapl\u001b[49m\u001b[38;5;241;43m=\u001b[39;49m\u001b[43mfapl\u001b[49m\u001b[43m)\u001b[49m\n\u001b[1;32m    232\u001b[0m \u001b[38;5;28;01melif\u001b[39;00m mode \u001b[38;5;241m==\u001b[39m \u001b[38;5;124m'\u001b[39m\u001b[38;5;124mr+\u001b[39m\u001b[38;5;124m'\u001b[39m:\n\u001b[1;32m    233\u001b[0m     fid \u001b[38;5;241m=\u001b[39m h5f\u001b[38;5;241m.\u001b[39mopen(name, h5f\u001b[38;5;241m.\u001b[39mACC_RDWR, fapl\u001b[38;5;241m=\u001b[39mfapl)\n",
      "File \u001b[0;32mh5py/_objects.pyx:54\u001b[0m, in \u001b[0;36mh5py._objects.with_phil.wrapper\u001b[0;34m()\u001b[0m\n",
      "File \u001b[0;32mh5py/_objects.pyx:55\u001b[0m, in \u001b[0;36mh5py._objects.with_phil.wrapper\u001b[0;34m()\u001b[0m\n",
      "File \u001b[0;32mh5py/h5f.pyx:106\u001b[0m, in \u001b[0;36mh5py.h5f.open\u001b[0;34m()\u001b[0m\n",
      "\u001b[0;31mFileNotFoundError\u001b[0m: [Errno 2] Unable to open file (unable to open file: name = '/nfs/team205/ig7/projects/fetal_skin/160523_probabillistic_projection_organoid_adt_fetl/A1_V1_ldvae_scvi_ski_updated_org_adt_build_donor_source_corrected_160523_raw_concatenated_full_features.h5ad', errno = 2, error message = 'No such file or directory', flags = 0, o_flags = 0)"
     ]
    }
   ],
   "source": [
    "adata_raw = sc.read(\"/nfs/team205/ig7/projects/fetal_skin/160523_probabillistic_projection_organoid_adt_fetl/A1_V1_ldvae_scvi_ski_updated_org_adt_build_donor_source_corrected_160523_raw_concatenated_full_features.h5ad\")"
   ]
  },
  {
   "cell_type": "code",
   "execution_count": null,
   "id": "conservative-eleven",
   "metadata": {},
   "outputs": [],
   "source": [
    "adata = adata_raw[:]"
   ]
  },
  {
   "cell_type": "markdown",
   "id": "crazy-manual",
   "metadata": {},
   "source": [
    "# High var"
   ]
  },
  {
   "cell_type": "code",
   "execution_count": null,
   "id": "centered-opportunity",
   "metadata": {},
   "outputs": [],
   "source": [
    "#adata_raw.write(save_path + '/run_'+ run_id+'_raw_feature_selected.h5ad')"
   ]
  },
  {
   "cell_type": "code",
   "execution_count": null,
   "id": "occupied-acrylic",
   "metadata": {},
   "outputs": [],
   "source": [
    "sc.pp.filter_cells(adata, min_genes=200)\n",
    "sc.pp.filter_genes(adata, min_cells=10)"
   ]
  },
  {
   "cell_type": "code",
   "execution_count": null,
   "id": "balanced-blind",
   "metadata": {},
   "outputs": [],
   "source": [
    "adata.var['mt'] = adata.var_names.str.startswith('MT-')  # annotate the group of mitochondrial genes as 'mt'\n",
    "sc.pp.calculate_qc_metrics(adata, qc_vars=['mt'], percent_top=None, log1p=False, inplace=True)"
   ]
  },
  {
   "cell_type": "code",
   "execution_count": null,
   "id": "opposite-mention",
   "metadata": {},
   "outputs": [],
   "source": [
    "sc.pl.scatter(adata, x='total_counts', y='pct_counts_mt')\n",
    "sc.pl.scatter(adata, x='total_counts', y='n_genes_by_counts')"
   ]
  },
  {
   "cell_type": "code",
   "execution_count": null,
   "id": "opposed-insider",
   "metadata": {},
   "outputs": [],
   "source": [
    "# adata = adata[adata.obs.n_genes_by_counts < 5000, :]\n",
    "# adata = adata[adata.obs.pct_counts_mt < 5, :]\n",
    "adata"
   ]
  },
  {
   "cell_type": "code",
   "execution_count": null,
   "id": "brave-learning",
   "metadata": {},
   "outputs": [],
   "source": [
    "#sc.pp.filter_genes(adata, min_cells=5)\n",
    "sc.pp.normalize_per_cell(adata, counts_per_cell_after=1e4)\n",
    "sc.pp.log1p(adata)\n",
    "sc.pp.highly_variable_genes(adata, batch_key = \"donor\", subset=False)\n",
    "sc.pl.highly_variable_genes(adata)"
   ]
  },
  {
   "cell_type": "markdown",
   "id": "ready-relationship",
   "metadata": {},
   "source": [
    "### Add batch key\n",
    "Here we concatenate library prep method and donor of origin"
   ]
  },
  {
   "cell_type": "markdown",
   "id": "martial-singapore",
   "metadata": {},
   "source": [
    "## Param sweep for feature selection"
   ]
  },
  {
   "cell_type": "code",
   "execution_count": null,
   "id": "insured-maria",
   "metadata": {},
   "outputs": [],
   "source": [
    "import torch\n",
    "device = torch.device(\"cuda\")\n",
    "\n",
    "def subset_top_hvgs(adata_lognorm, n_top_genes):\n",
    "    dispersion_norm = adata_lognorm.var['dispersions_norm'].values.astype('float32')\n",
    "\n",
    "    dispersion_norm = dispersion_norm[~np.isnan(dispersion_norm)]\n",
    "    dispersion_norm[\n",
    "                ::-1\n",
    "            ].sort()  # interestingly, np.argpartition is slightly slower\n",
    "\n",
    "    disp_cut_off = dispersion_norm[n_top_genes - 1]\n",
    "    gene_subset = adata_lognorm.var['dispersions_norm'].values >= disp_cut_off\n",
    "    return(adata_lognorm[:,gene_subset])\n",
    "\n",
    "def prep_scVI(adata, \n",
    "              n_hvgs = 5000,\n",
    "              remove_cc_genes = True,\n",
    "              remove_tcr_bcr_genes = False\n",
    "             ):\n",
    "    ## Remove cell cycle genes\n",
    "    if remove_cc_genes:\n",
    "        adata = panfetal_utils.remove_geneset(adata,genes.cc_genes)\n",
    "\n",
    "    ## Remove TCR/BCR genes\n",
    "    if remove_tcr_bcr_genes:\n",
    "        adata = panfetal_utils.remove_geneset(adata, genes.IG_genes)\n",
    "        adata = panfetal_utils.remove_geneset(adata, genes.TCR_genes)\n",
    "        \n",
    "    ## HVG selection\n",
    "    adata = subset_top_hvgs(adata, n_top_genes=n_hvgs)\n",
    "    return(adata)\n",
    "\n",
    "def train_scVI(adata, n_dims=20):\n",
    "    adata = scvi.data.setup_anndata(adata, batch_key = \"bbk\", copy=True)\n",
    "    vae = scvi.model.SCVI(adata, n_latent=n_dims)\n",
    "    vae.train(use_gpu=True, batch_size=256) ## increasing batch size as in retina atlas\n",
    "    return(vae.get_latent_representation())\n",
    "    \n",
    "def save_scVI(adata, \n",
    "              timestamp,\n",
    "              n_hvgs = 5000,\n",
    "              remove_cc_genes = True,\n",
    "                remove_tcr_bcr_genes = False,\n",
    "                n_dims=20\n",
    "             ):\n",
    "    outname = \"YS_project\".format(t=timestamp, h=n_hvgs, cc=cc, tcr=tcr, n=n_dims)\n",
    "    np.save(data_dir + outname, adata.obsm[\"X_scVI\"])\n",
    "\n",
    "def train_ldvae(adata, labels_key,batch, n_dims=20):\n",
    "    arches_params = dict(\n",
    "    encode_covariates=True,\n",
    "    dropout_rate=0.2,\n",
    "    n_layers=2,\n",
    "    n_hidden=256)\n",
    "    \n",
    "    scvi.model.LinearSCVI.setup_anndata(\n",
    "    adata,\n",
    "    labels_key = labels_key,\n",
    "    layer=None,\n",
    "    batch_key=batch)\n",
    "    \n",
    "    vae = scvi.model.LinearSCVI(adata, n_latent=30, **arches_params)\n",
    "    #vae = scvi.model.SCVI(adata, n_latent=30,n_hidden=256, **arches_params)\n",
    "    vae.train(early_stopping=True,\n",
    "        train_size=0.9,\n",
    "        early_stopping_patience=45,\n",
    "        max_epochs=500, \n",
    "        batch_size=1024, \n",
    "        limit_train_batches=20\n",
    "       )\n",
    "    X_scvi = vae.get_latent_representation()\n",
    "    X_loading = vae.get_loadings()\n",
    "    adata.obsm['X_scvi'] = X_scvi\n",
    "    adata.varm['X_scvi'] = X_loading\n",
    "    sc.pp.neighbors(adata,n_neighbors=15, use_rep='X_scvi', n_pcs = 30)\n",
    "    return adata \n"
   ]
  },
  {
   "cell_type": "code",
   "execution_count": null,
   "id": "worse-trash",
   "metadata": {},
   "outputs": [],
   "source": [
    "nhvgs = [5000,7500,10000]\n",
    "dims = [10,20,30]"
   ]
  },
  {
   "cell_type": "code",
   "execution_count": null,
   "id": "blocked-scroll",
   "metadata": {},
   "outputs": [],
   "source": [
    "# for n in nhvgs:\n",
    "#     for r in remove:\n",
    "#         adata1 = prep_scVI(adata_raw, n_hvgs=n, remove_cc_genes=None, remove_tcr_bcr_genes=None)\n",
    "#         for d in dims:\n",
    "            \n",
    "#             adata1.obsm[\"X_scVI\"] = train_scVI(adata1, n_dims=d)\n",
    "#             save_scVI(adata1, timestamp=timestamp, n_hvgs=n, None, remove_tcr_bcr_genes=None, n_dims=d)\n",
    "#         del adata1\n",
    "#         gc.collect()"
   ]
  },
  {
   "cell_type": "markdown",
   "id": "flush-married",
   "metadata": {},
   "source": [
    "# Subset_HVGS"
   ]
  },
  {
   "cell_type": "code",
   "execution_count": null,
   "id": "cardiovascular-trance",
   "metadata": {},
   "outputs": [],
   "source": [
    "# adata = adata_raw[:]"
   ]
  },
  {
   "cell_type": "code",
   "execution_count": null,
   "id": "entitled-salvation",
   "metadata": {},
   "outputs": [],
   "source": [
    "# sc.pp.normalize_per_cell(adata, counts_per_cell_after=1e4)\n",
    "# sc.pp.log1p(adata)\n",
    "# sc.pp.highly_variable_genes(adata, batch_key = \"fetal.ids\", subset=False)\n",
    "# sc.pl.highly_variable_genes(adata)"
   ]
  },
  {
   "cell_type": "code",
   "execution_count": null,
   "id": "expired-inspiration",
   "metadata": {},
   "outputs": [],
   "source": [
    "adata = subset_top_hvgs(adata,15000)\n",
    "var_genes = pd.DataFrame(list(adata.var.index))\n",
    "#var_genes.to_csv(save_path + '/run_'+ run_id+'_var_genes.csv')\n",
    "#adata.write(save_path + '/run_'+ run_id+'_norm_feature_selected.h5ad')\n",
    "\n",
    "adata_raw = adata_raw[:, adata_raw.var_names.isin(list(var_genes.iloc[:,0]))]\n",
    "adata_raw.layers['raw_counts'] = adata_raw.X.copy()\n",
    "#adata_raw.write(save_path + '/run_'+ run_id+'_raw_feature_selected.h5ad')"
   ]
  },
  {
   "cell_type": "code",
   "execution_count": null,
   "id": "public-struggle",
   "metadata": {},
   "outputs": [],
   "source": [
    "adata_raw"
   ]
  },
  {
   "cell_type": "markdown",
   "id": "derived-friendly",
   "metadata": {},
   "source": [
    "## Run scVI integration\n",
    "We train using parameters optimized for online update with `scArches`, to be able to add query datasets in the future. Following the [scvi-tools vignette](https://docs.scvi-tools.org/en/stable/user_guide/notebooks/scarches_scvi_tools.html?highlight=encode_covariates#Train-reference)."
   ]
  },
  {
   "cell_type": "code",
   "execution_count": null,
   "id": "acceptable-negotiation",
   "metadata": {},
   "outputs": [],
   "source": [
    "adata = adata_raw.copy()"
   ]
  },
  {
   "cell_type": "code",
   "execution_count": null,
   "id": "powerful-gasoline",
   "metadata": {},
   "outputs": [],
   "source": [
    "adata.write(save_path+run_id+'_raw_concatenated_HVG_features.h5ad')"
   ]
  },
  {
   "cell_type": "code",
   "execution_count": null,
   "id": "romantic-knowing",
   "metadata": {},
   "outputs": [],
   "source": [
    "# adata = sc.read('/home/jupyter/mount/gdrive/g_cloud/projects/YS/data/A5_V1_YS_build_120522/run_A5_V1_YS_build_120522_norm_feature_selected.h5ad')\n",
    "# adata_raw = sc.read('/home/jupyter/mount/gdrive/g_cloud/projects/YS/data/A5_V1_YS_build_120522/run_A5_V1_YS_build_120522_raw_feature_selected.h5ad')"
   ]
  },
  {
   "cell_type": "code",
   "execution_count": null,
   "id": "romantic-partnership",
   "metadata": {},
   "outputs": [],
   "source": [
    "adata_raw.var"
   ]
  },
  {
   "cell_type": "code",
   "execution_count": null,
   "id": "effective-greeting",
   "metadata": {},
   "outputs": [],
   "source": [
    "# adata_raw.write('/home/jupyter/mount/gdrive/g_cloud/projects/YS/data/A5_V1_YS_build_120522/run_A5_V3_YS_build_120522_raw_feature_selected_high_var.h5ad')"
   ]
  },
  {
   "cell_type": "code",
   "execution_count": null,
   "id": "whole-elizabeth",
   "metadata": {},
   "outputs": [],
   "source": [
    "# adata = prep_scVI(adata_raw, n_hvgs=7500, remove_cc_genes=True, remove_tcr_bcr_genes=True)"
   ]
  },
  {
   "cell_type": "code",
   "execution_count": null,
   "id": "earlier-republican",
   "metadata": {},
   "outputs": [],
   "source": [
    "# adata.obs['chemistry_ver'] = 'V1'\n",
    "# adata.obs.loc[adata.obs['orig.dataset'].isin(['YS_WE']),'chemistry_ver'] = 'V2'\n",
    "# adata.obs['lr_batch'] = adata.obs['fetal.ids'].astype(str) + '_' + adata.obs['chemistry_ver'].astype(str)  + '_' + adata.obs['donor'].astype(str) "
   ]
  },
  {
   "cell_type": "code",
   "execution_count": null,
   "id": "enhanced-processor",
   "metadata": {},
   "outputs": [],
   "source": [
    "batches = ['chemistry','donor','dataset']\n",
    "lin_vae = False"
   ]
  },
  {
   "cell_type": "code",
   "execution_count": null,
   "id": "sharing-cliff",
   "metadata": {},
   "outputs": [],
   "source": [
    "adata.obs['dataset'] = adata.obs['dataset'].astype(str)\n",
    "adata.obs.loc[adata.obs.index.str.contains('organoid'),'dataset'] = 'organoid'\n",
    "adata.obs.loc[adata.obs['chemistry'].isin(['nan']),'chemistry'] = np.nan\n",
    "adata.obs['chemistry'] = adata.obs['chemistry'].fillna('nan')\n",
    "adata.obs['chemistry'].unique()"
   ]
  },
  {
   "cell_type": "code",
   "execution_count": null,
   "id": "quarterly-relation",
   "metadata": {
    "tags": []
   },
   "outputs": [],
   "source": [
    "if lin_vae == True:\n",
    "    arches_params = dict(\n",
    "    encode_covariates=True,\n",
    "    dropout_rate=0.2,\n",
    "    n_layers=2,\n",
    "    n_hidden=256)\n",
    "\n",
    "    scvi.model.LinearSCVI.setup_anndata(\n",
    "    adata,\n",
    "    labels_key = 'LVL3',\n",
    "    layer=None,\n",
    "    batch_key='lr_batch')\n",
    "\n",
    "    vae = scvi.model.LinearSCVI(adata, n_latent=30, **arches_params)\n",
    "    #vae = scvi.model.SCVI(adata, n_latent=30,n_hidden=256, **arches_params)\n",
    "    vae.train(early_stopping=True,\n",
    "        train_size=0.9,\n",
    "        early_stopping_patience=45,\n",
    "        max_epochs=500, \n",
    "        batch_size=1024, \n",
    "        limit_train_batches=20\n",
    "       )\n",
    "    X_scvi = vae.get_latent_representation()\n",
    "    X_loading = vae.get_loadings()\n",
    "    adata.obsm['X_scvi'] = X_scvi\n",
    "    adata.varm['X_scvi'] = X_loading\n",
    "else:\n",
    "    scvi.model.SCVI.setup_anndata(\n",
    "    adata,\n",
    "    layer=None,\n",
    "    categorical_covariate_keys = batches,\n",
    "    )\n",
    "    arches_params = dict(\n",
    "    encode_covariates=True,\n",
    "    dropout_rate=0.2,\n",
    "    n_layers=2,\n",
    "    n_hidden=256\n",
    "    )\n",
    "    vae = scvi.model.SCVI(adata, n_latent=30,**arches_params)\n",
    "    vae.train(early_stopping=True,\n",
    "            train_size=0.9,\n",
    "            early_stopping_patience=45,\n",
    "            max_epochs=250, \n",
    "            batch_size=1024, \n",
    "            limit_train_batches=20\n",
    "           )\n",
    "    X_scvi = vae.get_latent_representation()\n",
    "    adata.obsm['X_scvi'] = X_scvi"
   ]
  },
  {
   "cell_type": "code",
   "execution_count": null,
   "id": "economic-collection",
   "metadata": {},
   "outputs": [],
   "source": [
    "pd.DataFrame(X_scvi).to_csv('./ldvae_X_scvi.csv')\n",
    "#pd.DataFrame(X_loading).to_csv('./ldvae_X_scvi_weights.csv')"
   ]
  },
  {
   "cell_type": "code",
   "execution_count": null,
   "id": "straight-crawford",
   "metadata": {},
   "outputs": [],
   "source": [
    "sc.pp.neighbors(adata,n_neighbors=30, use_rep='X_scvi', n_pcs = 30)"
   ]
  },
  {
   "cell_type": "code",
   "execution_count": null,
   "id": "atmospheric-fairy",
   "metadata": {},
   "outputs": [],
   "source": [
    "adata.write(save_path+run_id+'_raw_concatenated_xscvi_features.h5ad')"
   ]
  },
  {
   "cell_type": "code",
   "execution_count": null,
   "id": "growing-inspector",
   "metadata": {},
   "outputs": [],
   "source": [
    "adata"
   ]
  },
  {
   "cell_type": "markdown",
   "id": "labeled-oasis",
   "metadata": {},
   "source": [
    "### Check convergence"
   ]
  },
  {
   "cell_type": "code",
   "execution_count": null,
   "id": "posted-trader",
   "metadata": {},
   "outputs": [],
   "source": [
    "data_dir = save_path\n",
    "timestamp = '20220906'"
   ]
  },
  {
   "cell_type": "code",
   "execution_count": null,
   "id": "russian-rocket",
   "metadata": {},
   "outputs": [],
   "source": [
    "sns.set_context(\"talk\")\n",
    "plt.plot(vae.history[\"elbo_train\"], label=\"Training\");\n",
    "plt.plot(vae.history[\"elbo_validation\"], label=\"Validation\");\n",
    "plt.legend();\n",
    "plt.xlabel(\"epoch\");\n",
    "plt.ylabel(\"ELBO\");\n",
    "plt.savefig(\"./scvi_training_elbo.pdf\", bbox_inches=\"tight\")"
   ]
  },
  {
   "cell_type": "code",
   "execution_count": null,
   "id": "varying-breathing",
   "metadata": {},
   "outputs": [],
   "source": [
    "sns.set_context(\"talk\")\n",
    "plt.plot(vae.history[\"train_loss_step\"], label=\"train\");\n",
    "# plt.plot(vae.history[\"reconstruction_loss_validation\"], label=\"validation\");\n",
    "plt.xlabel(\"epoch\");\n",
    "plt.ylabel(\"Train loss\");"
   ]
  },
  {
   "cell_type": "code",
   "execution_count": null,
   "id": "previous-drove",
   "metadata": {},
   "outputs": [],
   "source": [
    "## Save embedding\n",
    "x_scvi = vae.get_latent_representation()\n",
    "outname = './'+run_id+\".npy\"\n",
    "np.save(outname, x_scvi)"
   ]
  },
  {
   "cell_type": "code",
   "execution_count": null,
   "id": "pursuant-annual",
   "metadata": {},
   "outputs": [],
   "source": [
    "model_dir = '/nfs/team205/ig7/projects/fetal_skin/160523_probabillistic_projection_organoid_adt_fetl/data/'"
   ]
  },
  {
   "cell_type": "code",
   "execution_count": null,
   "id": "modular-employee",
   "metadata": {},
   "outputs": [],
   "source": [
    "# save the reference model\n",
    "vae.save(dir_path = (save_path + run_id), overwrite=False, save_anndata=False)\n",
    "vae.save(dir_path = (model_dir + run_id), overwrite=False, save_anndata=False)"
   ]
  },
  {
   "cell_type": "code",
   "execution_count": null,
   "id": "buried-commercial",
   "metadata": {},
   "outputs": [],
   "source": [
    "## Save the obs\n",
    "adata.obs.to_csv('./'+run_id+\".csv\")"
   ]
  },
  {
   "cell_type": "code",
   "execution_count": null,
   "id": "appropriate-pharmaceutical",
   "metadata": {},
   "outputs": [],
   "source": [
    "## Save training stats\n",
    "model_history = vae.history.copy()\n",
    "model_history.pop('train_loss_step')\n",
    "pd.DataFrame.from_dict({k:v[k] for k,v in model_history.items()}).to_csv(\"panf_data_raw_count.{t}.scVI_out.train_history.csv\".format(t=timestamp))"
   ]
  },
  {
   "cell_type": "code",
   "execution_count": null,
   "id": "prompt-shoot",
   "metadata": {},
   "outputs": [],
   "source": [
    "# save the reference model\n",
    "model_dir = 'scvi_PFI_model/'\n",
    "if not os.path.exists(data_dir + model_dir):\n",
    "    os.mkdir(data_dir + model_dir)\n",
    "vae.save(data_dir + model_dir, overwrite=True)"
   ]
  },
  {
   "cell_type": "markdown",
   "id": "studied-history",
   "metadata": {},
   "source": [
    "## Explore output"
   ]
  },
  {
   "cell_type": "code",
   "execution_count": null,
   "id": "indian-tobacco",
   "metadata": {},
   "outputs": [],
   "source": [
    "# adata.obsm['X_scvi'] = vae.get_latent_representation() \n",
    "sc.pp.neighbors(adata, n_neighbors=30,use_rep='X_scvi')\n",
    "sc.tl.umap(adata, min_dist = 0.01)\n",
    "# Clustering\n",
    "# res = 5\n",
    "sc.pl.umap(adata,color = 'cell.labels',size =10)\n",
    "sc.pl.umap(adata,color = 'organ',size =10)\n",
    "\n",
    "adata.write(save_path+run_id+'_raw_concatenated_xscvi_features.h5ad')"
   ]
  },
  {
   "cell_type": "code",
   "execution_count": null,
   "id": "sensitive-processor",
   "metadata": {},
   "outputs": [],
   "source": [
    "sc.pl.umap(adata,color = 'organ',size =10)"
   ]
  },
  {
   "cell_type": "code",
   "execution_count": null,
   "id": "technological-skirt",
   "metadata": {},
   "outputs": [],
   "source": [
    "sc.pl.umap(adata,color = 'organ',size =10)"
   ]
  },
  {
   "cell_type": "code",
   "execution_count": null,
   "id": "trained-lewis",
   "metadata": {},
   "outputs": [],
   "source": [
    "var = \"organ\"\n",
    "#Create color dictionary_cell\n",
    "cells = list(adata.obs[var].cat.categories)\n",
    "col = list(range(0, len(adata.obs[var].cat.categories)))\n",
    "#col = adata.uns['cell.labels_colors']\n",
    "dic = dict(zip(cells,col))\n",
    "\n",
    "#Create a mappable field\n",
    "adata.obs['num'] = adata.obs[var]\n",
    "#map to adata.obs.col to create a caterorical column\n",
    "adata.obs['num'] = adata.obs['num'].map(dic)\n",
    "\n",
    "##Map to a pallete to use with umap\n",
    "#cells_list = pd.DataFrame(adata.obs[\"cell.labels\"].cat.categories)\n",
    "#cells_list['col'] = cells_list[0].map(dic)\n",
    "#col_pal = list(cells_list['col'])\n",
    "adata.obs['num'] = adata.obs['num'].astype(str)\n",
    "adata.obs[var+'_num'] = adata.obs['num'].astype(str) + \" : \" + adata.obs[var].astype(str)\n",
    "\n",
    "col_pal = ['#ff0000',    '#94BFB1',    '#B49EC8',    '#E0EE70',    '#EE943E',    '#4C7BAB',    '#E78AB8',    '#AFBFCC',    '#FF993F',    \"#FFFF00\", \"#1CE6FF\", \"#FF34FF\", \"#FF4A46\", \"#008941\", \"#006FA6\", \"#A30059\",    \"#FFDBE5\", \"#7A4900\", \"#0000A6\", \"#63FFAC\", \"#B79762\", \"#004D43\", \"#8FB0FF\", \"#997D87\",    \"#5A0007\", \"#809693\", \"#6A3A4C\", \"#1B4400\", \"#4FC601\", \"#3B5DFF\"]\n",
    "\n",
    "import matplotlib\n",
    "matplotlib.rcdefaults() #Reset matplot lb deafults as seaborne tends to mess with this\n",
    "fig, (ax1, ax2,) = plt.subplots(1,2, figsize=(10,10), gridspec_kw={'wspace':0,'width_ratios': [1,0]})\n",
    "p2 = sc.pl.umap(adata, color = (var+'_num') ,ax=ax2,show=False,title=\"\", palette= col_pal) #title=i\n",
    "p3 = sc.pl.umap(adata, color = \"num\",legend_loc=\"on data\",size=2,legend_fontsize='small',ax=ax1,show=False,title=\"Myeloid_broad\", palette= col_pal) #title=i\n",
    "\n",
    "fig.savefig('./'+var+\"_num.pdf\",bbox_inches='tight')"
   ]
  },
  {
   "cell_type": "code",
   "execution_count": null,
   "id": "based-judge",
   "metadata": {},
   "outputs": [],
   "source": [
    "var = \"celltype_annotation\"\n",
    "#Create color dictionary_cell\n",
    "cells = list(adata.obs[var].cat.categories)\n",
    "col = list(range(0, len(adata.obs[var].cat.categories)))\n",
    "#col = adata.uns['cell.labels_colors']\n",
    "dic = dict(zip(cells,col))\n",
    "\n",
    "#Create a mappable field\n",
    "adata.obs['num'] = adata.obs[var]\n",
    "#map to adata.obs.col to create a caterorical column\n",
    "adata.obs['num'] = adata.obs['num'].map(dic)\n",
    "\n",
    "##Map to a pallete to use with umap\n",
    "#cells_list = pd.DataFrame(adata.obs[\"cell.labels\"].cat.categories)\n",
    "#cells_list['col'] = cells_list[0].map(dic)\n",
    "#col_pal = list(cells_list['col'])\n",
    "adata.obs['num'] = adata.obs['num'].astype(str)\n",
    "adata.obs[var+'_num'] = adata.obs['num'].astype(str) + \" : \" + adata.obs[var].astype(str)\n",
    "\n",
    "col_pal = ['#ff0000',    '#94BFB1',    '#B49EC8',    '#E0EE70',    '#EE943E',    '#4C7BAB',    '#E78AB8',    '#AFBFCC',    '#FF993F',    \"#FFFF00\", \"#1CE6FF\", \"#FF34FF\", \"#FF4A46\", \"#008941\", \"#006FA6\", \"#A30059\",    \"#FFDBE5\", \"#7A4900\", \"#0000A6\", \"#63FFAC\", \"#B79762\", \"#004D43\", \"#8FB0FF\", \"#997D87\",    \"#5A0007\", \"#809693\", \"#6A3A4C\", \"#1B4400\", \"#4FC601\", \"#3B5DFF\"]\n",
    "\n",
    "import matplotlib\n",
    "matplotlib.rcdefaults() #Reset matplot lb deafults as seaborne tends to mess with this\n",
    "fig, (ax1, ax2,) = plt.subplots(1,2, figsize=(10,10), gridspec_kw={'wspace':0,'width_ratios': [1,0]})\n",
    "p2 = sc.pl.umap(adata, color = (var+'_num') ,ax=ax2,show=False,title=\"\", palette= col_pal) #title=i\n",
    "p3 = sc.pl.umap(adata, color = \"num\",legend_loc=\"on data\",size=2,legend_fontsize='small',ax=ax1,show=False,title=\"Myeloid_broad\", palette= col_pal) #title=i\n",
    "\n",
    "fig.savefig('./'+var+\"_num.pdf\",bbox_inches='tight')"
   ]
  },
  {
   "cell_type": "code",
   "execution_count": null,
   "id": "unknown-closure",
   "metadata": {},
   "outputs": [],
   "source": [
    "adata.write(save_path + run_id + '.h5ad')"
   ]
  },
  {
   "cell_type": "code",
   "execution_count": null,
   "id": "metropolitan-hartford",
   "metadata": {},
   "outputs": [],
   "source": [
    "sc.pp.pca(adata)\n",
    "sc.pp.neighbors(adata, n_neighbors=15, n_pcs = 50)\n",
    "sc.tl.umap(adata)\n",
    "# Clustering\n",
    "# res = 5\n",
    "sc.pl.umap(adata,color = 'cell.labels',size =10)\n",
    "sc.pl.umap(adata,color = 'tissue',size =10)"
   ]
  },
  {
   "cell_type": "code",
   "execution_count": 11,
   "id": "precious-rebound",
   "metadata": {},
   "outputs": [],
   "source": [
    "# adata = sc.read(save_path + run_id + '.h5ad')"
   ]
  },
  {
   "cell_type": "code",
   "execution_count": null,
   "id": "placed-cabin",
   "metadata": {},
   "outputs": [],
   "source": [
    "adata.obsm"
   ]
  },
  {
   "cell_type": "code",
   "execution_count": 12,
   "id": "proud-investor",
   "metadata": {},
   "outputs": [
    {
     "ename": "KeyError",
     "evalue": "\"Could not find 'umap' or 'X_umap' in .obsm\"",
     "output_type": "error",
     "traceback": [
      "\u001b[0;31m---------------------------------------------------------------------------\u001b[0m",
      "\u001b[0;31mKeyError\u001b[0m                                  Traceback (most recent call last)",
      "\u001b[0;32m/tmp/ipykernel_14031/989085615.py\u001b[0m in \u001b[0;36m<module>\u001b[0;34m\u001b[0m\n\u001b[0;32m----> 1\u001b[0;31m \u001b[0msc\u001b[0m\u001b[0;34m.\u001b[0m\u001b[0mpl\u001b[0m\u001b[0;34m.\u001b[0m\u001b[0mumap\u001b[0m\u001b[0;34m(\u001b[0m\u001b[0madata\u001b[0m\u001b[0;34m,\u001b[0m\u001b[0mcolor\u001b[0m \u001b[0;34m=\u001b[0m \u001b[0;34m'cell.labels'\u001b[0m\u001b[0;34m,\u001b[0m\u001b[0msize\u001b[0m \u001b[0;34m=\u001b[0m\u001b[0;36m10\u001b[0m\u001b[0;34m)\u001b[0m\u001b[0;34m\u001b[0m\u001b[0;34m\u001b[0m\u001b[0m\n\u001b[0m\u001b[1;32m      2\u001b[0m \u001b[0msc\u001b[0m\u001b[0;34m.\u001b[0m\u001b[0mpl\u001b[0m\u001b[0;34m.\u001b[0m\u001b[0mumap\u001b[0m\u001b[0;34m(\u001b[0m\u001b[0madata\u001b[0m\u001b[0;34m,\u001b[0m\u001b[0mcolor\u001b[0m \u001b[0;34m=\u001b[0m \u001b[0;34m'organ'\u001b[0m\u001b[0;34m,\u001b[0m\u001b[0msize\u001b[0m \u001b[0;34m=\u001b[0m\u001b[0;36m10\u001b[0m\u001b[0;34m)\u001b[0m\u001b[0;34m\u001b[0m\u001b[0;34m\u001b[0m\u001b[0m\n",
      "\u001b[0;32m/opt/conda/lib/python3.7/site-packages/scanpy/plotting/_tools/scatterplots.py\u001b[0m in \u001b[0;36mumap\u001b[0;34m(adata, **kwargs)\u001b[0m\n\u001b[1;32m    667\u001b[0m     \u001b[0mtl\u001b[0m\u001b[0;34m.\u001b[0m\u001b[0mumap\u001b[0m\u001b[0;34m\u001b[0m\u001b[0;34m\u001b[0m\u001b[0m\n\u001b[1;32m    668\u001b[0m     \"\"\"\n\u001b[0;32m--> 669\u001b[0;31m     \u001b[0;32mreturn\u001b[0m \u001b[0membedding\u001b[0m\u001b[0;34m(\u001b[0m\u001b[0madata\u001b[0m\u001b[0;34m,\u001b[0m \u001b[0;34m'umap'\u001b[0m\u001b[0;34m,\u001b[0m \u001b[0;34m**\u001b[0m\u001b[0mkwargs\u001b[0m\u001b[0;34m)\u001b[0m\u001b[0;34m\u001b[0m\u001b[0;34m\u001b[0m\u001b[0m\n\u001b[0m\u001b[1;32m    670\u001b[0m \u001b[0;34m\u001b[0m\u001b[0m\n\u001b[1;32m    671\u001b[0m \u001b[0;34m\u001b[0m\u001b[0m\n",
      "\u001b[0;32m/opt/conda/lib/python3.7/site-packages/scanpy/plotting/_tools/scatterplots.py\u001b[0m in \u001b[0;36membedding\u001b[0;34m(adata, basis, color, gene_symbols, use_raw, sort_order, edges, edges_width, edges_color, neighbors_key, arrows, arrows_kwds, groups, components, dimensions, layer, projection, scale_factor, color_map, cmap, palette, na_color, na_in_legend, size, frameon, legend_fontsize, legend_fontweight, legend_loc, legend_fontoutline, colorbar_loc, vmax, vmin, vcenter, norm, add_outline, outline_width, outline_color, ncols, hspace, wspace, title, show, save, ax, return_fig, **kwargs)\u001b[0m\n\u001b[1;32m    131\u001b[0m     \u001b[0msanitize_anndata\u001b[0m\u001b[0;34m(\u001b[0m\u001b[0madata\u001b[0m\u001b[0;34m)\u001b[0m\u001b[0;34m\u001b[0m\u001b[0;34m\u001b[0m\u001b[0m\n\u001b[1;32m    132\u001b[0m \u001b[0;34m\u001b[0m\u001b[0m\n\u001b[0;32m--> 133\u001b[0;31m     \u001b[0mbasis_values\u001b[0m \u001b[0;34m=\u001b[0m \u001b[0m_get_basis\u001b[0m\u001b[0;34m(\u001b[0m\u001b[0madata\u001b[0m\u001b[0;34m,\u001b[0m \u001b[0mbasis\u001b[0m\u001b[0;34m)\u001b[0m\u001b[0;34m\u001b[0m\u001b[0;34m\u001b[0m\u001b[0m\n\u001b[0m\u001b[1;32m    134\u001b[0m     dimensions = _components_to_dimensions(\n\u001b[1;32m    135\u001b[0m         \u001b[0mcomponents\u001b[0m\u001b[0;34m,\u001b[0m \u001b[0mdimensions\u001b[0m\u001b[0;34m,\u001b[0m \u001b[0mprojection\u001b[0m\u001b[0;34m=\u001b[0m\u001b[0mprojection\u001b[0m\u001b[0;34m,\u001b[0m \u001b[0mtotal_dims\u001b[0m\u001b[0;34m=\u001b[0m\u001b[0mbasis_values\u001b[0m\u001b[0;34m.\u001b[0m\u001b[0mshape\u001b[0m\u001b[0;34m[\u001b[0m\u001b[0;36m1\u001b[0m\u001b[0;34m]\u001b[0m\u001b[0;34m\u001b[0m\u001b[0;34m\u001b[0m\u001b[0m\n",
      "\u001b[0;32m/opt/conda/lib/python3.7/site-packages/scanpy/plotting/_tools/scatterplots.py\u001b[0m in \u001b[0;36m_get_basis\u001b[0;34m(adata, basis)\u001b[0m\n\u001b[1;32m   1140\u001b[0m         \u001b[0;32mreturn\u001b[0m \u001b[0madata\u001b[0m\u001b[0;34m.\u001b[0m\u001b[0mobsm\u001b[0m\u001b[0;34m[\u001b[0m\u001b[0;34mf\"X_{basis}\"\u001b[0m\u001b[0;34m]\u001b[0m\u001b[0;34m\u001b[0m\u001b[0;34m\u001b[0m\u001b[0m\n\u001b[1;32m   1141\u001b[0m     \u001b[0;32melse\u001b[0m\u001b[0;34m:\u001b[0m\u001b[0;34m\u001b[0m\u001b[0;34m\u001b[0m\u001b[0m\n\u001b[0;32m-> 1142\u001b[0;31m         \u001b[0;32mraise\u001b[0m \u001b[0mKeyError\u001b[0m\u001b[0;34m(\u001b[0m\u001b[0;34mf\"Could not find '{basis}' or 'X_{basis}' in .obsm\"\u001b[0m\u001b[0;34m)\u001b[0m\u001b[0;34m\u001b[0m\u001b[0;34m\u001b[0m\u001b[0m\n\u001b[0m\u001b[1;32m   1143\u001b[0m \u001b[0;34m\u001b[0m\u001b[0m\n\u001b[1;32m   1144\u001b[0m \u001b[0;34m\u001b[0m\u001b[0m\n",
      "\u001b[0;31mKeyError\u001b[0m: \"Could not find 'umap' or 'X_umap' in .obsm\""
     ]
    }
   ],
   "source": [
    "sc.pl.umap(adata,color = 'cell.labels',size =10)\n",
    "sc.pl.umap(adata,color = 'organ',size =10)"
   ]
  },
  {
   "cell_type": "code",
   "execution_count": null,
   "id": "ranging-typing",
   "metadata": {},
   "outputs": [],
   "source": [
    "adata.write(save_path + run_id + '.h5ad')"
   ]
  },
  {
   "cell_type": "code",
   "execution_count": null,
   "id": "impossible-fundamental",
   "metadata": {},
   "outputs": [],
   "source": [
    "adata.obsm['X_scvi'] = vae.get_latent_representation() \n",
    "sc.pp.neighbors(adata, n_neighbors=10,use_rep='X_scvi', n_pcs = 15)\n",
    "sc.tl.umap(adata)\n",
    "# Clustering\n",
    "# res = 5\n",
    "sc.pl.umap(adata,color = 'cell.labels',size =10)\n",
    "sc.pl.umap(adata,color = 'tissue',size =10)"
   ]
  },
  {
   "cell_type": "code",
   "execution_count": null,
   "id": "solid-nepal",
   "metadata": {},
   "outputs": [],
   "source": [
    "adata.write('./A2_V8_YS_EL_build_scvi_220522_10_15.h5ad')"
   ]
  },
  {
   "cell_type": "code",
   "execution_count": null,
   "id": "swedish-simon",
   "metadata": {},
   "outputs": [],
   "source": [
    "adata.obsm['X_scvi'] = vae.get_latent_representation() \n",
    "sc.pp.neighbors(adata, n_neighbors=10,use_rep='X_scvi', n_pcs = 20)\n",
    "sc.tl.umap(adata)\n",
    "# Clustering\n",
    "# res = 5\n",
    "sc.pl.umap(adata,color = 'cell.labels',size =10)\n",
    "sc.pl.umap(adata,color = 'tissue',size =10)"
   ]
  },
  {
   "cell_type": "code",
   "execution_count": null,
   "id": "functional-arthur",
   "metadata": {},
   "outputs": [],
   "source": [
    "adata.write('./A2_V8_YS_EL_build_scvi_220522_10_20.h5ad')"
   ]
  },
  {
   "cell_type": "code",
   "execution_count": null,
   "id": "exotic-endorsement",
   "metadata": {},
   "outputs": [],
   "source": [
    "sc.pl.umap(adata,color = 'tissue',size =10)"
   ]
  }
 ],
 "metadata": {
  "environment": {
   "kernel": "workhorse",
   "name": "pytorch-gpu.1-11.m91",
   "type": "gcloud",
   "uri": "gcr.io/deeplearning-platform-release/pytorch-gpu.1-11:m91"
  },
  "kernelspec": {
   "display_name": "workhorse",
   "language": "python",
   "name": "workhorse"
  },
  "language_info": {
   "codemirror_mode": {
    "name": "ipython",
    "version": 3
   },
   "file_extension": ".py",
   "mimetype": "text/x-python",
   "name": "python",
   "nbconvert_exporter": "python",
   "pygments_lexer": "ipython3",
   "version": "3.8.6"
  }
 },
 "nbformat": 4,
 "nbformat_minor": 5
}
