{
 "cells": [
  {
   "cell_type": "code",
   "execution_count": 1,
   "id": "given-appointment",
   "metadata": {},
   "outputs": [],
   "source": [
    "#my_new_env_clone2\n",
    "\n",
    "%load_ext autoreload\n",
    "%autoreload 2\n",
    "\n",
    "import warnings\n",
    "\n",
    "warnings.simplefilter(action=\"ignore\", category=FutureWarning)\n",
    "warnings.simplefilter(action=\"ignore\", category=DeprecationWarning)\n",
    "\n",
    "import os, sys\n",
    "#re, gc, joblib\n",
    "import numpy as np\n",
    "#import numpy_groupies as npg\n",
    "import pandas as pd\n",
    "import scipy.sparse as sp\n",
    "\n",
    "import matplotlib.pyplot as plt\n",
    "from matplotlib import rcParams\n",
    "from matplotlib.colors import ListedColormap\n",
    "\n",
    "import seaborn as sn\n",
    "\n",
    "import anndata\n",
    "import scanpy as sc\n",
    "#import sctk as sk\n",
    "\n",
    "\n",
    "rcParams[\"pdf.fonttype\"] = 42\n",
    "rcParams[\"ps.fonttype\"] = 42\n",
    "np.set_printoptions(linewidth=180)\n",
    "sc.settings.verbosity = 1\n",
    "#sk.set_figsize((4, 4))\n",
    "#expr_cmap = sk.expression_colormap()"
   ]
  },
  {
   "cell_type": "code",
   "execution_count": 2,
   "id": "binding-colombia",
   "metadata": {},
   "outputs": [
    {
     "name": "stderr",
     "output_type": "stream",
     "text": [
      "2023-05-24 21:33:29.511278: W tensorflow/stream_executor/platform/default/dso_loader.cc:64] Could not load dynamic library 'libcudart.so.11.0'; dlerror: libcudart.so.11.0: cannot open shared object file: No such file or directory; LD_LIBRARY_PATH: /usr/lib/R/lib:/lib:/usr/lib/x86_64-linux-gnu:/usr/lib/jvm/java-8-openjdk-amd64/jre/lib/amd64/server\n",
      "2023-05-24 21:33:29.511341: I tensorflow/stream_executor/cuda/cudart_stub.cc:29] Ignore above cudart dlerror if you do not have a GPU set up on your machine.\n"
     ]
    },
    {
     "name": "stdout",
     "output_type": "stream",
     "text": [
      "scanpy==1.8.1 anndata==0.7.6 umap==0.5.1 numpy==1.21.1 scipy==1.8.1 pandas==1.3.1 scikit-learn==0.24.2 statsmodels==0.13.2 python-igraph==0.9.6 pynndescent==0.5.4\n"
     ]
    }
   ],
   "source": [
    "sc.settings.verbosity = 3  # verbosity: errors (0), warnings (1), info (2), hints (3)\n",
    "sc.logging.print_header()"
   ]
  },
  {
   "cell_type": "code",
   "execution_count": 3,
   "id": "expanded-monthly",
   "metadata": {},
   "outputs": [],
   "source": [
    "root_path = '/lustre/scratch126/cellgen/team298/hg6/Fetal_skin/data/final/'\n",
    "save_path = '/home/jovyan/projects/skin/fetal_skin/'\n",
    "sc.settings.figdir = save_path + 'figures/other plots/'"
   ]
  },
  {
   "cell_type": "markdown",
   "id": "handmade-submission",
   "metadata": {},
   "source": [
    "# Load and configure data object"
   ]
  },
  {
   "cell_type": "code",
   "execution_count": 4,
   "id": "sunrise-yukon",
   "metadata": {},
   "outputs": [
    {
     "data": {
      "text/plain": [
       "AnnData object with n_obs × n_vars = 506107 × 46794\n",
       "    obs: 'sanger_id', 'chemistry', 'batch', 'gender', 'pcw', 'sorting', 'sample', 'chemistry_sorting', 'cell_caller', 'scrublet_score', 'cluster_scrublet_score', 'doublet_pval', 'bh_doublet_pval', 'n_counts', 'n_genes', 'percent_mito', 'percent_ribo', 'percent_hb', 'independent_annotation_refined', 'independent_annotation_broad1', 'independent_annotation_broad2', 'independent_annotation_broad3', 'independent_annotation_broad4', 'independent_annotation_broad5', 'joint_annotation', 'is_maternal', 'fig1b_annotation', 'independent_annotation_refined_20220201a', 'independent_annotation_refined_20220201b', 'independent_annotation_broad1_20220201', 'independent_annotation_broad2_20220201', 'independent_annotation_broad3_20220201', 'joint_annotation_20220201a', 'joint_annotation_20220201b', 'fig1b_annotation_20220201', 'day', 'sample_id', 'version', 'week', 'nh3_annot1', 'log1p_n_counts', 'log1p_n_genes', 'n_counts_mito', 'n_counts_ribo', 'n_counts_hb', 'percent_top50', 'pass_auto_filter', 'scrublet_score_z', 'bh_pval', 'scrublet_done', 'doublet', 'seurat_clusters', 'fsk_annot1_min30', 'fsk_annot1_min30_prob', 'fsk_annot2_min30', 'fsk_annot2_min30_prob', 'day8to13', 'org_annot0_prob', 'org_annot30', 'org_annot30_prob', 'fsk_annot0', 'fsk_annot0_prob', 'fsk_annot30', 'fsk_annot30_prob', 'mad_prd', 'Status', 'Site', 'Site_old', 'Tissue', 'Enrichment', 'Location', 'Sex', 'Age', 'stage', 'anno_final', 'final', 'dataset', 'log2pcw', 'annot_early_late', 'annot_early_late2', 'joint_annotation_20220202', 'fig1b_annotation_v2', 'independent_annotation_refined_20220202', 'annot', 'org_annot0'\n",
       "    var: 'mito', 'ribo', 'hb', 'n_counts', 'n_cells'\n",
       "    uns: 'annot_colors', 'dataset_colors', 'neighbors_project', 'umap'\n",
       "    obsm: 'X_pca_project', 'X_umap'\n",
       "    obsp: 'neighbors_project_connectivities', 'neighbors_project_distances'"
      ]
     },
     "execution_count": 4,
     "metadata": {},
     "output_type": "execute_result"
    }
   ],
   "source": [
    "#load pooled prenatal skin, healthy adult and skin organoid object\n",
    "\n",
    "pooled_object = 'pooled_fetal_organoid_adult.processed.h5ad'\n",
    "pooled_path = root_path + pooled_object\n",
    "pdata = sc.read(pooled_path)\n",
    "pdata"
   ]
  },
  {
   "cell_type": "code",
   "execution_count": 5,
   "id": "handed-sheet",
   "metadata": {},
   "outputs": [
    {
     "name": "stdout",
     "output_type": "stream",
     "text": [
      "['fetal', 'organoid', 'adult']\n"
     ]
    }
   ],
   "source": [
    "print(list(pdata.obs['dataset'].unique()))"
   ]
  },
  {
   "cell_type": "code",
   "execution_count": 6,
   "id": "crucial-riding",
   "metadata": {},
   "outputs": [
    {
     "name": "stdout",
     "output_type": "stream",
     "text": [
      "filtered out 18015 genes that are detected in less than 1 counts\n"
     ]
    },
    {
     "name": "stderr",
     "output_type": "stream",
     "text": [
      "Trying to set attribute `.var` of view, copying.\n"
     ]
    },
    {
     "data": {
      "text/plain": [
       "AnnData object with n_obs × n_vars = 186533 × 28779\n",
       "    obs: 'sanger_id', 'chemistry', 'batch', 'gender', 'pcw', 'sorting', 'sample', 'chemistry_sorting', 'cell_caller', 'scrublet_score', 'cluster_scrublet_score', 'doublet_pval', 'bh_doublet_pval', 'n_counts', 'n_genes', 'percent_mito', 'percent_ribo', 'percent_hb', 'independent_annotation_refined', 'independent_annotation_broad1', 'independent_annotation_broad2', 'independent_annotation_broad3', 'independent_annotation_broad4', 'independent_annotation_broad5', 'joint_annotation', 'is_maternal', 'fig1b_annotation', 'independent_annotation_refined_20220201a', 'independent_annotation_refined_20220201b', 'independent_annotation_broad1_20220201', 'independent_annotation_broad2_20220201', 'independent_annotation_broad3_20220201', 'joint_annotation_20220201a', 'joint_annotation_20220201b', 'fig1b_annotation_20220201', 'day', 'sample_id', 'version', 'week', 'nh3_annot1', 'log1p_n_counts', 'log1p_n_genes', 'n_counts_mito', 'n_counts_ribo', 'n_counts_hb', 'percent_top50', 'pass_auto_filter', 'scrublet_score_z', 'bh_pval', 'scrublet_done', 'doublet', 'seurat_clusters', 'fsk_annot1_min30', 'fsk_annot1_min30_prob', 'fsk_annot2_min30', 'fsk_annot2_min30_prob', 'day8to13', 'org_annot0_prob', 'org_annot30', 'org_annot30_prob', 'fsk_annot0', 'fsk_annot0_prob', 'fsk_annot30', 'fsk_annot30_prob', 'mad_prd', 'Status', 'Site', 'Site_old', 'Tissue', 'Enrichment', 'Location', 'Sex', 'Age', 'stage', 'anno_final', 'final', 'dataset', 'log2pcw', 'annot_early_late', 'annot_early_late2', 'joint_annotation_20220202', 'fig1b_annotation_v2', 'independent_annotation_refined_20220202', 'annot', 'org_annot0'\n",
       "    var: 'mito', 'ribo', 'hb', 'n_counts', 'n_cells'\n",
       "    uns: 'dataset_colors', 'neighbors_project', 'umap'\n",
       "    obsm: 'X_pca_project', 'X_umap'\n",
       "    obsp: 'neighbors_project_connectivities', 'neighbors_project_distances'"
      ]
     },
     "execution_count": 6,
     "metadata": {},
     "output_type": "execute_result"
    }
   ],
   "source": [
    "#slice to prenetal/fetal skin only and remove genes with counts<1\n",
    "keep1 = ['fetal']\n",
    "pdata_fetal = pdata[pdata.obs['dataset'].isin(keep1)]\n",
    "sc.pp.filter_genes(pdata_fetal, min_counts=1, min_cells=None, inplace=True)\n",
    "pdata_fetal"
   ]
  },
  {
   "cell_type": "code",
   "execution_count": 7,
   "id": "competitive-committee",
   "metadata": {},
   "outputs": [
    {
     "name": "stdout",
     "output_type": "stream",
     "text": [
      "['day-133', 'day-29', 'day-48', 'day-85', 'day-13']\n"
     ]
    }
   ],
   "source": [
    "#slice to organoid skin only and check 'day'\n",
    "keep2 = ['organoid']\n",
    "pdata_org = pdata[pdata.obs['dataset'].isin(keep2)]\n",
    "print(list(pdata_org.obs['day'].unique()))"
   ]
  },
  {
   "cell_type": "code",
   "execution_count": 8,
   "id": "requested-cathedral",
   "metadata": {},
   "outputs": [
    {
     "name": "stdout",
     "output_type": "stream",
     "text": [
      "['day-133', 'day-29', 'day-48', 'day-85']\n",
      "filtered out 18681 genes that are detected in less than 1 counts\n"
     ]
    },
    {
     "name": "stderr",
     "output_type": "stream",
     "text": [
      "Trying to set attribute `.var` of view, copying.\n"
     ]
    },
    {
     "data": {
      "text/plain": [
       "AnnData object with n_obs × n_vars = 114278 × 28113\n",
       "    obs: 'sanger_id', 'chemistry', 'batch', 'gender', 'pcw', 'sorting', 'sample', 'chemistry_sorting', 'cell_caller', 'scrublet_score', 'cluster_scrublet_score', 'doublet_pval', 'bh_doublet_pval', 'n_counts', 'n_genes', 'percent_mito', 'percent_ribo', 'percent_hb', 'independent_annotation_refined', 'independent_annotation_broad1', 'independent_annotation_broad2', 'independent_annotation_broad3', 'independent_annotation_broad4', 'independent_annotation_broad5', 'joint_annotation', 'is_maternal', 'fig1b_annotation', 'independent_annotation_refined_20220201a', 'independent_annotation_refined_20220201b', 'independent_annotation_broad1_20220201', 'independent_annotation_broad2_20220201', 'independent_annotation_broad3_20220201', 'joint_annotation_20220201a', 'joint_annotation_20220201b', 'fig1b_annotation_20220201', 'day', 'sample_id', 'version', 'week', 'nh3_annot1', 'log1p_n_counts', 'log1p_n_genes', 'n_counts_mito', 'n_counts_ribo', 'n_counts_hb', 'percent_top50', 'pass_auto_filter', 'scrublet_score_z', 'bh_pval', 'scrublet_done', 'doublet', 'seurat_clusters', 'fsk_annot1_min30', 'fsk_annot1_min30_prob', 'fsk_annot2_min30', 'fsk_annot2_min30_prob', 'day8to13', 'org_annot0_prob', 'org_annot30', 'org_annot30_prob', 'fsk_annot0', 'fsk_annot0_prob', 'fsk_annot30', 'fsk_annot30_prob', 'mad_prd', 'Status', 'Site', 'Site_old', 'Tissue', 'Enrichment', 'Location', 'Sex', 'Age', 'stage', 'anno_final', 'final', 'dataset', 'log2pcw', 'annot_early_late', 'annot_early_late2', 'joint_annotation_20220202', 'fig1b_annotation_v2', 'independent_annotation_refined_20220202', 'annot', 'org_annot0'\n",
       "    var: 'mito', 'ribo', 'hb', 'n_counts', 'n_cells'\n",
       "    uns: 'dataset_colors', 'neighbors_project', 'umap'\n",
       "    obsm: 'X_pca_project', 'X_umap'\n",
       "    obsp: 'neighbors_project_connectivities', 'neighbors_project_distances'"
      ]
     },
     "execution_count": 8,
     "metadata": {},
     "output_type": "execute_result"
    }
   ],
   "source": [
    "#slice skin organoid object to remove day-13 only and and remove genes with counts<1\n",
    "pdata_org = pdata_org[pdata_org.obs['day']!='day-13']\n",
    "print(list(pdata_org.obs['day'].unique()))\n",
    "sc.pp.filter_genes(pdata_org, min_counts=1, min_cells=None, inplace=True)\n",
    "pdata_org"
   ]
  },
  {
   "cell_type": "code",
   "execution_count": 9,
   "id": "ambient-magic",
   "metadata": {},
   "outputs": [
    {
     "data": {
      "text/plain": [
       "array([2.2455943, 0.989481 , 0.989481 , ..., 1.6292564, 1.6292564, 1.6292564], dtype=float32)"
      ]
     },
     "execution_count": 9,
     "metadata": {},
     "output_type": "execute_result"
    }
   ],
   "source": [
    "#check data counts\n",
    "pdata_fetal.X.data"
   ]
  },
  {
   "cell_type": "code",
   "execution_count": 10,
   "id": "bronze-participation",
   "metadata": {},
   "outputs": [
    {
     "data": {
      "text/plain": [
       "11.004526"
      ]
     },
     "execution_count": 10,
     "metadata": {},
     "output_type": "execute_result"
    }
   ],
   "source": [
    "pdata_fetal.X.max()"
   ]
  },
  {
   "cell_type": "code",
   "execution_count": 11,
   "id": "associate-helping",
   "metadata": {},
   "outputs": [
    {
     "data": {
      "text/plain": [
       "array([0.6374563, 0.6374563, 0.6374563, ..., 1.36667  , 1.36667  , 1.36667  ], dtype=float32)"
      ]
     },
     "execution_count": 11,
     "metadata": {},
     "output_type": "execute_result"
    }
   ],
   "source": [
    "pdata_org.X.data"
   ]
  },
  {
   "cell_type": "code",
   "execution_count": 12,
   "id": "included-engineer",
   "metadata": {},
   "outputs": [
    {
     "data": {
      "text/plain": [
       "8.528311"
      ]
     },
     "execution_count": 12,
     "metadata": {},
     "output_type": "execute_result"
    }
   ],
   "source": [
    "pdata_org.X.max()"
   ]
  },
  {
   "cell_type": "code",
   "execution_count": 13,
   "id": "dutch-ethernet",
   "metadata": {},
   "outputs": [
    {
     "data": {
      "text/plain": [
       "AnnData object with n_obs × n_vars = 300811 × 19372\n",
       "    obs: 'sanger_id', 'chemistry', 'batch', 'gender', 'pcw', 'sorting', 'sample', 'chemistry_sorting', 'cell_caller', 'scrublet_score', 'cluster_scrublet_score', 'doublet_pval', 'bh_doublet_pval', 'n_counts', 'n_genes', 'percent_mito', 'percent_ribo', 'percent_hb', 'independent_annotation_refined', 'independent_annotation_broad1', 'independent_annotation_broad2', 'independent_annotation_broad3', 'independent_annotation_broad4', 'independent_annotation_broad5', 'joint_annotation', 'is_maternal', 'fig1b_annotation', 'independent_annotation_refined_20220201a', 'independent_annotation_refined_20220201b', 'independent_annotation_broad1_20220201', 'independent_annotation_broad2_20220201', 'independent_annotation_broad3_20220201', 'joint_annotation_20220201a', 'joint_annotation_20220201b', 'fig1b_annotation_20220201', 'day', 'sample_id', 'version', 'week', 'nh3_annot1', 'log1p_n_counts', 'log1p_n_genes', 'n_counts_mito', 'n_counts_ribo', 'n_counts_hb', 'percent_top50', 'pass_auto_filter', 'scrublet_score_z', 'bh_pval', 'scrublet_done', 'doublet', 'seurat_clusters', 'fsk_annot1_min30', 'fsk_annot1_min30_prob', 'fsk_annot2_min30', 'fsk_annot2_min30_prob', 'day8to13', 'org_annot0_prob', 'org_annot30', 'org_annot30_prob', 'fsk_annot0', 'fsk_annot0_prob', 'fsk_annot30', 'fsk_annot30_prob', 'mad_prd', 'Status', 'Site', 'Site_old', 'Tissue', 'Enrichment', 'Location', 'Sex', 'Age', 'stage', 'anno_final', 'final', 'dataset', 'log2pcw', 'annot_early_late', 'annot_early_late2', 'joint_annotation_20220202', 'fig1b_annotation_v2', 'independent_annotation_refined_20220202', 'annot', 'org_annot0'\n",
       "    obsm: 'X_pca_project', 'X_umap'"
      ]
     },
     "execution_count": 13,
     "metadata": {},
     "output_type": "execute_result"
    }
   ],
   "source": [
    "#re concatenate data to have prenatal skin/organoid object keeping only intersect of genes\n",
    "import anndata as ad\n",
    "\n",
    "pdata2 = ad.concat([pdata_fetal, pdata_org])\n",
    "pdata2"
   ]
  },
  {
   "cell_type": "code",
   "execution_count": 14,
   "id": "moral-rings",
   "metadata": {
    "collapsed": true,
    "jupyter": {
     "outputs_hidden": true
    },
    "tags": []
   },
   "outputs": [
    {
     "data": {
      "text/html": [
       "<div>\n",
       "<style scoped>\n",
       "    .dataframe tbody tr th:only-of-type {\n",
       "        vertical-align: middle;\n",
       "    }\n",
       "\n",
       "    .dataframe tbody tr th {\n",
       "        vertical-align: top;\n",
       "    }\n",
       "\n",
       "    .dataframe thead th {\n",
       "        text-align: right;\n",
       "    }\n",
       "</style>\n",
       "<table border=\"1\" class=\"dataframe\">\n",
       "  <thead>\n",
       "    <tr style=\"text-align: right;\">\n",
       "      <th></th>\n",
       "      <th>sanger_id</th>\n",
       "      <th>chemistry</th>\n",
       "      <th>batch</th>\n",
       "      <th>gender</th>\n",
       "      <th>pcw</th>\n",
       "      <th>sorting</th>\n",
       "      <th>sample</th>\n",
       "      <th>chemistry_sorting</th>\n",
       "      <th>cell_caller</th>\n",
       "      <th>scrublet_score</th>\n",
       "      <th>...</th>\n",
       "      <th>final</th>\n",
       "      <th>dataset</th>\n",
       "      <th>log2pcw</th>\n",
       "      <th>annot_early_late</th>\n",
       "      <th>annot_early_late2</th>\n",
       "      <th>joint_annotation_20220202</th>\n",
       "      <th>fig1b_annotation_v2</th>\n",
       "      <th>independent_annotation_refined_20220202</th>\n",
       "      <th>annot</th>\n",
       "      <th>org_annot0</th>\n",
       "    </tr>\n",
       "  </thead>\n",
       "  <tbody>\n",
       "    <tr>\n",
       "      <th>AAACCTGGTCAGTGGA-1-4834STDY7002879-fetal</th>\n",
       "      <td>4834STDY7002879</td>\n",
       "      <td>SC3Pv2</td>\n",
       "      <td>F16</td>\n",
       "      <td>male</td>\n",
       "      <td>8</td>\n",
       "      <td>CD45P</td>\n",
       "      <td>F16_male_8+1PCW</td>\n",
       "      <td>SC3Pv2_CD45P</td>\n",
       "      <td>Both</td>\n",
       "      <td>0.225806</td>\n",
       "      <td>...</td>\n",
       "      <td>nan</td>\n",
       "      <td>fetal</td>\n",
       "      <td>3.000000</td>\n",
       "      <td>fetal_Macrophage</td>\n",
       "      <td>fetal_Macrophage</td>\n",
       "      <td>LYVE1++ macrophage</td>\n",
       "      <td>Macrophage</td>\n",
       "      <td>LYVE1++ macrophage</td>\n",
       "      <td>fetal_Macrophage</td>\n",
       "      <td>nan</td>\n",
       "    </tr>\n",
       "    <tr>\n",
       "      <th>AAAGATGGTCGATTGT-1-4834STDY7002879-fetal</th>\n",
       "      <td>4834STDY7002879</td>\n",
       "      <td>SC3Pv2</td>\n",
       "      <td>F16</td>\n",
       "      <td>male</td>\n",
       "      <td>8</td>\n",
       "      <td>CD45P</td>\n",
       "      <td>F16_male_8+1PCW</td>\n",
       "      <td>SC3Pv2_CD45P</td>\n",
       "      <td>Both</td>\n",
       "      <td>0.149606</td>\n",
       "      <td>...</td>\n",
       "      <td>nan</td>\n",
       "      <td>fetal</td>\n",
       "      <td>3.000000</td>\n",
       "      <td>fetal_Monocyte</td>\n",
       "      <td>fetal_Monocyte</td>\n",
       "      <td>Monocyte (activated/differentiating)</td>\n",
       "      <td>Monocyte</td>\n",
       "      <td>Monocyte (activated/differentiating)</td>\n",
       "      <td>fetal_Monocyte</td>\n",
       "      <td>nan</td>\n",
       "    </tr>\n",
       "    <tr>\n",
       "      <th>AAAGCAAAGATGTGGC-1-4834STDY7002879-fetal</th>\n",
       "      <td>4834STDY7002879</td>\n",
       "      <td>SC3Pv2</td>\n",
       "      <td>F16</td>\n",
       "      <td>male</td>\n",
       "      <td>8</td>\n",
       "      <td>CD45P</td>\n",
       "      <td>F16_male_8+1PCW</td>\n",
       "      <td>SC3Pv2_CD45P</td>\n",
       "      <td>Both</td>\n",
       "      <td>0.201970</td>\n",
       "      <td>...</td>\n",
       "      <td>nan</td>\n",
       "      <td>fetal</td>\n",
       "      <td>3.000000</td>\n",
       "      <td>fetal_Macrophage</td>\n",
       "      <td>fetal_Macrophage</td>\n",
       "      <td>LYVE1++ macrophage</td>\n",
       "      <td>Macrophage</td>\n",
       "      <td>LYVE1++ macrophage</td>\n",
       "      <td>fetal_Macrophage</td>\n",
       "      <td>nan</td>\n",
       "    </tr>\n",
       "    <tr>\n",
       "      <th>AAAGTAGCAGATCGGA-1-4834STDY7002879-fetal</th>\n",
       "      <td>4834STDY7002879</td>\n",
       "      <td>SC3Pv2</td>\n",
       "      <td>F16</td>\n",
       "      <td>male</td>\n",
       "      <td>8</td>\n",
       "      <td>CD45P</td>\n",
       "      <td>F16_male_8+1PCW</td>\n",
       "      <td>SC3Pv2_CD45P</td>\n",
       "      <td>Both</td>\n",
       "      <td>0.164557</td>\n",
       "      <td>...</td>\n",
       "      <td>nan</td>\n",
       "      <td>fetal</td>\n",
       "      <td>3.000000</td>\n",
       "      <td>fetal_Progenitor</td>\n",
       "      <td>fetal_Progenitor</td>\n",
       "      <td>Eo/baso/mast cell progenitor</td>\n",
       "      <td>Haem progenitor</td>\n",
       "      <td>Eo/baso/mast cell progenitor</td>\n",
       "      <td>fetal_Haem progenitor</td>\n",
       "      <td>nan</td>\n",
       "    </tr>\n",
       "    <tr>\n",
       "      <th>AAAGTAGTCCGCATCT-1-4834STDY7002879-fetal</th>\n",
       "      <td>4834STDY7002879</td>\n",
       "      <td>SC3Pv2</td>\n",
       "      <td>F16</td>\n",
       "      <td>male</td>\n",
       "      <td>8</td>\n",
       "      <td>CD45P</td>\n",
       "      <td>F16_male_8+1PCW</td>\n",
       "      <td>SC3Pv2_CD45P</td>\n",
       "      <td>Both</td>\n",
       "      <td>0.181818</td>\n",
       "      <td>...</td>\n",
       "      <td>nan</td>\n",
       "      <td>fetal</td>\n",
       "      <td>3.000000</td>\n",
       "      <td>fetal_Macrophage</td>\n",
       "      <td>fetal_Macrophage</td>\n",
       "      <td>LYVE1++ macrophage</td>\n",
       "      <td>Macrophage</td>\n",
       "      <td>LYVE1++ macrophage</td>\n",
       "      <td>fetal_Macrophage</td>\n",
       "      <td>nan</td>\n",
       "    </tr>\n",
       "    <tr>\n",
       "      <th>...</th>\n",
       "      <td>...</td>\n",
       "      <td>...</td>\n",
       "      <td>...</td>\n",
       "      <td>...</td>\n",
       "      <td>...</td>\n",
       "      <td>...</td>\n",
       "      <td>...</td>\n",
       "      <td>...</td>\n",
       "      <td>...</td>\n",
       "      <td>...</td>\n",
       "      <td>...</td>\n",
       "      <td>...</td>\n",
       "      <td>...</td>\n",
       "      <td>...</td>\n",
       "      <td>...</td>\n",
       "      <td>...</td>\n",
       "      <td>...</td>\n",
       "      <td>...</td>\n",
       "      <td>...</td>\n",
       "      <td>...</td>\n",
       "      <td>...</td>\n",
       "    </tr>\n",
       "    <tr>\n",
       "      <th>TTTGTCACAGCGAACA-1-11-organoid</th>\n",
       "      <td>nan</td>\n",
       "      <td>nan</td>\n",
       "      <td>WA25</td>\n",
       "      <td>nan</td>\n",
       "      <td>12</td>\n",
       "      <td>nan</td>\n",
       "      <td>nan</td>\n",
       "      <td>nan</td>\n",
       "      <td>nan</td>\n",
       "      <td>0.062500</td>\n",
       "      <td>...</td>\n",
       "      <td>nan</td>\n",
       "      <td>organoid</td>\n",
       "      <td>3.584963</td>\n",
       "      <td>organoid_Fibroblast</td>\n",
       "      <td>organoid_Fibroblast</td>\n",
       "      <td>nan</td>\n",
       "      <td>nan</td>\n",
       "      <td>nan</td>\n",
       "      <td>organoid_Fibroblast</td>\n",
       "      <td>organoid_Pre-dermal condensate</td>\n",
       "    </tr>\n",
       "    <tr>\n",
       "      <th>TTTGTCACATGACATC-1-11-organoid</th>\n",
       "      <td>nan</td>\n",
       "      <td>nan</td>\n",
       "      <td>WA25</td>\n",
       "      <td>nan</td>\n",
       "      <td>12</td>\n",
       "      <td>nan</td>\n",
       "      <td>nan</td>\n",
       "      <td>nan</td>\n",
       "      <td>nan</td>\n",
       "      <td>0.073298</td>\n",
       "      <td>...</td>\n",
       "      <td>nan</td>\n",
       "      <td>organoid</td>\n",
       "      <td>3.584963</td>\n",
       "      <td>organoid_Fibroblast</td>\n",
       "      <td>organoid_Fibroblast</td>\n",
       "      <td>nan</td>\n",
       "      <td>nan</td>\n",
       "      <td>nan</td>\n",
       "      <td>organoid_Fibroblast</td>\n",
       "      <td>organoid_Fibroblasts POSTN+</td>\n",
       "    </tr>\n",
       "    <tr>\n",
       "      <th>TTTGTCACATGCCCGA-1-11-organoid</th>\n",
       "      <td>nan</td>\n",
       "      <td>nan</td>\n",
       "      <td>WA25</td>\n",
       "      <td>nan</td>\n",
       "      <td>12</td>\n",
       "      <td>nan</td>\n",
       "      <td>nan</td>\n",
       "      <td>nan</td>\n",
       "      <td>nan</td>\n",
       "      <td>0.111111</td>\n",
       "      <td>...</td>\n",
       "      <td>nan</td>\n",
       "      <td>organoid</td>\n",
       "      <td>3.584963</td>\n",
       "      <td>organoid_Fibroblast</td>\n",
       "      <td>organoid_Fibroblast</td>\n",
       "      <td>nan</td>\n",
       "      <td>nan</td>\n",
       "      <td>nan</td>\n",
       "      <td>organoid_Fibroblast</td>\n",
       "      <td>organoid_Fibroblasts POSTN+</td>\n",
       "    </tr>\n",
       "    <tr>\n",
       "      <th>TTTGTCATCAGGCAAG-1-11-organoid</th>\n",
       "      <td>nan</td>\n",
       "      <td>nan</td>\n",
       "      <td>WA25</td>\n",
       "      <td>nan</td>\n",
       "      <td>12</td>\n",
       "      <td>nan</td>\n",
       "      <td>nan</td>\n",
       "      <td>nan</td>\n",
       "      <td>nan</td>\n",
       "      <td>0.043069</td>\n",
       "      <td>...</td>\n",
       "      <td>nan</td>\n",
       "      <td>organoid</td>\n",
       "      <td>3.584963</td>\n",
       "      <td>organoid_Fibroblast</td>\n",
       "      <td>organoid_Fibroblast</td>\n",
       "      <td>nan</td>\n",
       "      <td>nan</td>\n",
       "      <td>nan</td>\n",
       "      <td>organoid_Fibroblast</td>\n",
       "      <td>organoid_Pre-dermal condensate</td>\n",
       "    </tr>\n",
       "    <tr>\n",
       "      <th>TTTGTCATCTTGTACT-1-11-organoid</th>\n",
       "      <td>nan</td>\n",
       "      <td>nan</td>\n",
       "      <td>WA25</td>\n",
       "      <td>nan</td>\n",
       "      <td>12</td>\n",
       "      <td>nan</td>\n",
       "      <td>nan</td>\n",
       "      <td>nan</td>\n",
       "      <td>nan</td>\n",
       "      <td>0.192691</td>\n",
       "      <td>...</td>\n",
       "      <td>nan</td>\n",
       "      <td>organoid</td>\n",
       "      <td>3.584963</td>\n",
       "      <td>organoid_Fibroblast</td>\n",
       "      <td>organoid_Fibroblast</td>\n",
       "      <td>nan</td>\n",
       "      <td>nan</td>\n",
       "      <td>nan</td>\n",
       "      <td>organoid_Fibroblast</td>\n",
       "      <td>organoid_Fibroblasts POSTN+</td>\n",
       "    </tr>\n",
       "  </tbody>\n",
       "</table>\n",
       "<p>300811 rows × 85 columns</p>\n",
       "</div>"
      ],
      "text/plain": [
       "                                                sanger_id chemistry batch  \\\n",
       "AAACCTGGTCAGTGGA-1-4834STDY7002879-fetal  4834STDY7002879    SC3Pv2   F16   \n",
       "AAAGATGGTCGATTGT-1-4834STDY7002879-fetal  4834STDY7002879    SC3Pv2   F16   \n",
       "AAAGCAAAGATGTGGC-1-4834STDY7002879-fetal  4834STDY7002879    SC3Pv2   F16   \n",
       "AAAGTAGCAGATCGGA-1-4834STDY7002879-fetal  4834STDY7002879    SC3Pv2   F16   \n",
       "AAAGTAGTCCGCATCT-1-4834STDY7002879-fetal  4834STDY7002879    SC3Pv2   F16   \n",
       "...                                                   ...       ...   ...   \n",
       "TTTGTCACAGCGAACA-1-11-organoid                        nan       nan  WA25   \n",
       "TTTGTCACATGACATC-1-11-organoid                        nan       nan  WA25   \n",
       "TTTGTCACATGCCCGA-1-11-organoid                        nan       nan  WA25   \n",
       "TTTGTCATCAGGCAAG-1-11-organoid                        nan       nan  WA25   \n",
       "TTTGTCATCTTGTACT-1-11-organoid                        nan       nan  WA25   \n",
       "\n",
       "                                         gender  pcw sorting           sample  \\\n",
       "AAACCTGGTCAGTGGA-1-4834STDY7002879-fetal   male    8   CD45P  F16_male_8+1PCW   \n",
       "AAAGATGGTCGATTGT-1-4834STDY7002879-fetal   male    8   CD45P  F16_male_8+1PCW   \n",
       "AAAGCAAAGATGTGGC-1-4834STDY7002879-fetal   male    8   CD45P  F16_male_8+1PCW   \n",
       "AAAGTAGCAGATCGGA-1-4834STDY7002879-fetal   male    8   CD45P  F16_male_8+1PCW   \n",
       "AAAGTAGTCCGCATCT-1-4834STDY7002879-fetal   male    8   CD45P  F16_male_8+1PCW   \n",
       "...                                         ...  ...     ...              ...   \n",
       "TTTGTCACAGCGAACA-1-11-organoid              nan   12     nan              nan   \n",
       "TTTGTCACATGACATC-1-11-organoid              nan   12     nan              nan   \n",
       "TTTGTCACATGCCCGA-1-11-organoid              nan   12     nan              nan   \n",
       "TTTGTCATCAGGCAAG-1-11-organoid              nan   12     nan              nan   \n",
       "TTTGTCATCTTGTACT-1-11-organoid              nan   12     nan              nan   \n",
       "\n",
       "                                         chemistry_sorting cell_caller  \\\n",
       "AAACCTGGTCAGTGGA-1-4834STDY7002879-fetal      SC3Pv2_CD45P        Both   \n",
       "AAAGATGGTCGATTGT-1-4834STDY7002879-fetal      SC3Pv2_CD45P        Both   \n",
       "AAAGCAAAGATGTGGC-1-4834STDY7002879-fetal      SC3Pv2_CD45P        Both   \n",
       "AAAGTAGCAGATCGGA-1-4834STDY7002879-fetal      SC3Pv2_CD45P        Both   \n",
       "AAAGTAGTCCGCATCT-1-4834STDY7002879-fetal      SC3Pv2_CD45P        Both   \n",
       "...                                                    ...         ...   \n",
       "TTTGTCACAGCGAACA-1-11-organoid                         nan         nan   \n",
       "TTTGTCACATGACATC-1-11-organoid                         nan         nan   \n",
       "TTTGTCACATGCCCGA-1-11-organoid                         nan         nan   \n",
       "TTTGTCATCAGGCAAG-1-11-organoid                         nan         nan   \n",
       "TTTGTCATCTTGTACT-1-11-organoid                         nan         nan   \n",
       "\n",
       "                                          scrublet_score  ...  final  \\\n",
       "AAACCTGGTCAGTGGA-1-4834STDY7002879-fetal        0.225806  ...    nan   \n",
       "AAAGATGGTCGATTGT-1-4834STDY7002879-fetal        0.149606  ...    nan   \n",
       "AAAGCAAAGATGTGGC-1-4834STDY7002879-fetal        0.201970  ...    nan   \n",
       "AAAGTAGCAGATCGGA-1-4834STDY7002879-fetal        0.164557  ...    nan   \n",
       "AAAGTAGTCCGCATCT-1-4834STDY7002879-fetal        0.181818  ...    nan   \n",
       "...                                                  ...  ...    ...   \n",
       "TTTGTCACAGCGAACA-1-11-organoid                  0.062500  ...    nan   \n",
       "TTTGTCACATGACATC-1-11-organoid                  0.073298  ...    nan   \n",
       "TTTGTCACATGCCCGA-1-11-organoid                  0.111111  ...    nan   \n",
       "TTTGTCATCAGGCAAG-1-11-organoid                  0.043069  ...    nan   \n",
       "TTTGTCATCTTGTACT-1-11-organoid                  0.192691  ...    nan   \n",
       "\n",
       "                                           dataset   log2pcw  \\\n",
       "AAACCTGGTCAGTGGA-1-4834STDY7002879-fetal     fetal  3.000000   \n",
       "AAAGATGGTCGATTGT-1-4834STDY7002879-fetal     fetal  3.000000   \n",
       "AAAGCAAAGATGTGGC-1-4834STDY7002879-fetal     fetal  3.000000   \n",
       "AAAGTAGCAGATCGGA-1-4834STDY7002879-fetal     fetal  3.000000   \n",
       "AAAGTAGTCCGCATCT-1-4834STDY7002879-fetal     fetal  3.000000   \n",
       "...                                            ...       ...   \n",
       "TTTGTCACAGCGAACA-1-11-organoid            organoid  3.584963   \n",
       "TTTGTCACATGACATC-1-11-organoid            organoid  3.584963   \n",
       "TTTGTCACATGCCCGA-1-11-organoid            organoid  3.584963   \n",
       "TTTGTCATCAGGCAAG-1-11-organoid            organoid  3.584963   \n",
       "TTTGTCATCTTGTACT-1-11-organoid            organoid  3.584963   \n",
       "\n",
       "                                             annot_early_late  \\\n",
       "AAACCTGGTCAGTGGA-1-4834STDY7002879-fetal     fetal_Macrophage   \n",
       "AAAGATGGTCGATTGT-1-4834STDY7002879-fetal       fetal_Monocyte   \n",
       "AAAGCAAAGATGTGGC-1-4834STDY7002879-fetal     fetal_Macrophage   \n",
       "AAAGTAGCAGATCGGA-1-4834STDY7002879-fetal     fetal_Progenitor   \n",
       "AAAGTAGTCCGCATCT-1-4834STDY7002879-fetal     fetal_Macrophage   \n",
       "...                                                       ...   \n",
       "TTTGTCACAGCGAACA-1-11-organoid            organoid_Fibroblast   \n",
       "TTTGTCACATGACATC-1-11-organoid            organoid_Fibroblast   \n",
       "TTTGTCACATGCCCGA-1-11-organoid            organoid_Fibroblast   \n",
       "TTTGTCATCAGGCAAG-1-11-organoid            organoid_Fibroblast   \n",
       "TTTGTCATCTTGTACT-1-11-organoid            organoid_Fibroblast   \n",
       "\n",
       "                                            annot_early_late2  \\\n",
       "AAACCTGGTCAGTGGA-1-4834STDY7002879-fetal     fetal_Macrophage   \n",
       "AAAGATGGTCGATTGT-1-4834STDY7002879-fetal       fetal_Monocyte   \n",
       "AAAGCAAAGATGTGGC-1-4834STDY7002879-fetal     fetal_Macrophage   \n",
       "AAAGTAGCAGATCGGA-1-4834STDY7002879-fetal     fetal_Progenitor   \n",
       "AAAGTAGTCCGCATCT-1-4834STDY7002879-fetal     fetal_Macrophage   \n",
       "...                                                       ...   \n",
       "TTTGTCACAGCGAACA-1-11-organoid            organoid_Fibroblast   \n",
       "TTTGTCACATGACATC-1-11-organoid            organoid_Fibroblast   \n",
       "TTTGTCACATGCCCGA-1-11-organoid            organoid_Fibroblast   \n",
       "TTTGTCATCAGGCAAG-1-11-organoid            organoid_Fibroblast   \n",
       "TTTGTCATCTTGTACT-1-11-organoid            organoid_Fibroblast   \n",
       "\n",
       "                                                     joint_annotation_20220202  \\\n",
       "AAACCTGGTCAGTGGA-1-4834STDY7002879-fetal                    LYVE1++ macrophage   \n",
       "AAAGATGGTCGATTGT-1-4834STDY7002879-fetal  Monocyte (activated/differentiating)   \n",
       "AAAGCAAAGATGTGGC-1-4834STDY7002879-fetal                    LYVE1++ macrophage   \n",
       "AAAGTAGCAGATCGGA-1-4834STDY7002879-fetal          Eo/baso/mast cell progenitor   \n",
       "AAAGTAGTCCGCATCT-1-4834STDY7002879-fetal                    LYVE1++ macrophage   \n",
       "...                                                                        ...   \n",
       "TTTGTCACAGCGAACA-1-11-organoid                                             nan   \n",
       "TTTGTCACATGACATC-1-11-organoid                                             nan   \n",
       "TTTGTCACATGCCCGA-1-11-organoid                                             nan   \n",
       "TTTGTCATCAGGCAAG-1-11-organoid                                             nan   \n",
       "TTTGTCATCTTGTACT-1-11-organoid                                             nan   \n",
       "\n",
       "                                          fig1b_annotation_v2  \\\n",
       "AAACCTGGTCAGTGGA-1-4834STDY7002879-fetal           Macrophage   \n",
       "AAAGATGGTCGATTGT-1-4834STDY7002879-fetal             Monocyte   \n",
       "AAAGCAAAGATGTGGC-1-4834STDY7002879-fetal           Macrophage   \n",
       "AAAGTAGCAGATCGGA-1-4834STDY7002879-fetal      Haem progenitor   \n",
       "AAAGTAGTCCGCATCT-1-4834STDY7002879-fetal           Macrophage   \n",
       "...                                                       ...   \n",
       "TTTGTCACAGCGAACA-1-11-organoid                            nan   \n",
       "TTTGTCACATGACATC-1-11-organoid                            nan   \n",
       "TTTGTCACATGCCCGA-1-11-organoid                            nan   \n",
       "TTTGTCATCAGGCAAG-1-11-organoid                            nan   \n",
       "TTTGTCATCTTGTACT-1-11-organoid                            nan   \n",
       "\n",
       "                                          independent_annotation_refined_20220202  \\\n",
       "AAACCTGGTCAGTGGA-1-4834STDY7002879-fetal                       LYVE1++ macrophage   \n",
       "AAAGATGGTCGATTGT-1-4834STDY7002879-fetal     Monocyte (activated/differentiating)   \n",
       "AAAGCAAAGATGTGGC-1-4834STDY7002879-fetal                       LYVE1++ macrophage   \n",
       "AAAGTAGCAGATCGGA-1-4834STDY7002879-fetal             Eo/baso/mast cell progenitor   \n",
       "AAAGTAGTCCGCATCT-1-4834STDY7002879-fetal                       LYVE1++ macrophage   \n",
       "...                                                                           ...   \n",
       "TTTGTCACAGCGAACA-1-11-organoid                                                nan   \n",
       "TTTGTCACATGACATC-1-11-organoid                                                nan   \n",
       "TTTGTCACATGCCCGA-1-11-organoid                                                nan   \n",
       "TTTGTCATCAGGCAAG-1-11-organoid                                                nan   \n",
       "TTTGTCATCTTGTACT-1-11-organoid                                                nan   \n",
       "\n",
       "                                                          annot  \\\n",
       "AAACCTGGTCAGTGGA-1-4834STDY7002879-fetal       fetal_Macrophage   \n",
       "AAAGATGGTCGATTGT-1-4834STDY7002879-fetal         fetal_Monocyte   \n",
       "AAAGCAAAGATGTGGC-1-4834STDY7002879-fetal       fetal_Macrophage   \n",
       "AAAGTAGCAGATCGGA-1-4834STDY7002879-fetal  fetal_Haem progenitor   \n",
       "AAAGTAGTCCGCATCT-1-4834STDY7002879-fetal       fetal_Macrophage   \n",
       "...                                                         ...   \n",
       "TTTGTCACAGCGAACA-1-11-organoid              organoid_Fibroblast   \n",
       "TTTGTCACATGACATC-1-11-organoid              organoid_Fibroblast   \n",
       "TTTGTCACATGCCCGA-1-11-organoid              organoid_Fibroblast   \n",
       "TTTGTCATCAGGCAAG-1-11-organoid              organoid_Fibroblast   \n",
       "TTTGTCATCTTGTACT-1-11-organoid              organoid_Fibroblast   \n",
       "\n",
       "                                                              org_annot0  \n",
       "AAACCTGGTCAGTGGA-1-4834STDY7002879-fetal                             nan  \n",
       "AAAGATGGTCGATTGT-1-4834STDY7002879-fetal                             nan  \n",
       "AAAGCAAAGATGTGGC-1-4834STDY7002879-fetal                             nan  \n",
       "AAAGTAGCAGATCGGA-1-4834STDY7002879-fetal                             nan  \n",
       "AAAGTAGTCCGCATCT-1-4834STDY7002879-fetal                             nan  \n",
       "...                                                                  ...  \n",
       "TTTGTCACAGCGAACA-1-11-organoid            organoid_Pre-dermal condensate  \n",
       "TTTGTCACATGACATC-1-11-organoid               organoid_Fibroblasts POSTN+  \n",
       "TTTGTCACATGCCCGA-1-11-organoid               organoid_Fibroblasts POSTN+  \n",
       "TTTGTCATCAGGCAAG-1-11-organoid            organoid_Pre-dermal condensate  \n",
       "TTTGTCATCTTGTACT-1-11-organoid               organoid_Fibroblasts POSTN+  \n",
       "\n",
       "[300811 rows x 85 columns]"
      ]
     },
     "execution_count": 14,
     "metadata": {},
     "output_type": "execute_result"
    }
   ],
   "source": [
    "pdata2.obs"
   ]
  },
  {
   "cell_type": "code",
   "execution_count": 15,
   "id": "funny-bench",
   "metadata": {},
   "outputs": [],
   "source": [
    "#drop unnecessary metadata columns\n",
    "pdata2.obs.drop(columns=['cell_caller', 'scrublet_score', 'cluster_scrublet_score', 'doublet_pval', 'bh_doublet_pval', \n",
    "                         'n_counts', 'n_genes', 'percent_mito', 'percent_ribo', 'percent_hb',\n",
    "                         'independent_annotation_refined', 'independent_annotation_broad1', 'independent_annotation_broad2', \n",
    "                         'independent_annotation_broad3', 'independent_annotation_broad4', 'independent_annotation_broad5', \n",
    "                         'joint_annotation', 'is_maternal', 'fig1b_annotation', 'independent_annotation_refined_20220201a', \n",
    "                         'independent_annotation_refined_20220201b', 'independent_annotation_broad1_20220201', \n",
    "                         'independent_annotation_broad2_20220201', 'independent_annotation_broad3_20220201', \n",
    "                         'joint_annotation_20220201a', 'joint_annotation_20220201b', 'fig1b_annotation_20220201',\n",
    "                         'nh3_annot1', 'log1p_n_counts', 'log1p_n_genes', 'n_counts_mito', 'n_counts_ribo', 'n_counts_hb', \n",
    "                         'percent_top50', 'pass_auto_filter', 'scrublet_score_z', 'bh_pval', 'scrublet_done', 'doublet', 'seurat_clusters',\n",
    "                        'fsk_annot1_min30', 'fsk_annot1_min30_prob', 'fsk_annot2_min30', 'fsk_annot2_min30_prob', 'day8to13', \n",
    "                         'org_annot0_prob',  'org_annot30_prob', 'fsk_annot0', 'fsk_annot0_prob', 'fsk_annot30', 'fsk_annot30_prob',\n",
    "                         'mad_prd', 'Status', 'Site', 'Site_old', 'Tissue', 'Enrichment', 'Location', 'Sex', 'Age', 'stage',\n",
    "                         'anno_final', 'final','log2pcw', 'annot_early_late', 'annot_early_late2',\n",
    "                        ], inplace=True)"
   ]
  },
  {
   "cell_type": "code",
   "execution_count": 16,
   "id": "charged-rebound",
   "metadata": {},
   "outputs": [
    {
     "data": {
      "text/plain": [
       "AnnData object with n_obs × n_vars = 300811 × 19372\n",
       "    obs: 'sanger_id', 'chemistry', 'batch', 'gender', 'pcw', 'sorting', 'sample', 'chemistry_sorting', 'day', 'sample_id', 'version', 'week', 'org_annot30', 'dataset', 'joint_annotation_20220202', 'fig1b_annotation_v2', 'independent_annotation_refined_20220202', 'annot', 'org_annot0'\n",
       "    obsm: 'X_pca_project', 'X_umap'"
      ]
     },
     "execution_count": 16,
     "metadata": {},
     "output_type": "execute_result"
    }
   ],
   "source": [
    "pdata2"
   ]
  },
  {
   "cell_type": "code",
   "execution_count": 17,
   "id": "another-barbados",
   "metadata": {},
   "outputs": [
    {
     "name": "stdout",
     "output_type": "stream",
     "text": [
      "['LYVE1++ macrophage', 'Monocyte (activated/differentiating)', 'Eo/baso/mast cell progenitor', 'DC2', 'TREM2+ macrophage', 'Monocyte precursor', 'Monocyte', 'WNT2+ fibroblast', 'Iron-recycling macrophage', 'NK cell', 'B cell', 'LTi', 'ILC3', 'Inflammatory DC', 'MEMP - Early erythroid', 'CD4 T cell', 'Pro B cell', 'HSC', 'Pre B cell', 'MHCII+ macrophage', 'LE', 'Pre pro B cell', 'Innate T type1', 'CD8 T cell', 'Myocytes', 'pDC', 'Mast cell (most mature)', 'DC1', 'Mast cell (medium)', 'Capillaries', 'Neutrophil2', 'Capillary arterioles', 'LC', 'Megakaryocyte', 'MEMP - Megak', 'Mast cell (earliest)', 'Erythroid (fetal)', 'Myoblasts', 'Myofibroblasts', 'Pre-dermal condensate', 'HOXC5+ early fibroblast', 'PEAR1+ fibroblast', 'Pericytes', 'FRZB+ early fibroblast', 'Early erythroid (embryonic)', 'Early myocytes', 'Neuron progenitors', 'Myelinating Schwann cells', 'Schwann/Schwann precursors', 'LMCD1+ mural cell', 'PLN+ mural cell', 'ILC2', 'Lymphoid progenitor', 'SPP1+ proliferating neuron progenitors', 'Adipocytes', 'Neutrophil1', 'Postcapillary venules', 'PID1+ schwann cellls', 'Early LE', 'Neuroendocrine', 'Innate T type3', 'Treg', 'ASDC', 'Early endothelial cells', 'Periderm', 'Melanocyte', 'Melanoblast', 'Dermal condensate', 'Arterioles', 'Immature basal', 'Early erythroid', 'Immature suprabasal', 'Erythroid (embryonic)', 'Venules', 'Dermal papilla', 'DPYSL2+ basal', 'Outer root sheath', 'Cuticle/cortex', 'Placode/matrix', 'POSTN+ basal', 'Suprabasal IFE', 'Companion layer', 'Inner root sheath', 'nan']\n",
      "['nan', 'organoid_Fibroblasts POSTN+', 'organoid_Dermal condensate', 'organoid_Pre-dermal condensate', 'organoid_Placode/matrix', 'organoid_Basal', 'organoid_Outer root sheath', 'organoid_Basal POSTN+', 'organoid_Adipocytes', 'organoid_Inner root sheath', 'organoid_Dermal papilla', 'organoid_Cuticle/cortex', 'organoid_Suprabasal IFE', 'organoid_Companion layer', 'organoid_Smooth muscle/Pericytes', 'organoid_Melanoblasts', 'organoid_Melanocytes', 'organoid_Secreting neuron', 'organoid_Proliferating melanoblasts', 'organoid_Early fibroblasts HOXC5+', 'organoid_Schwann cells/Schwann precursors', 'organoid_Myelinating Schwann cells', 'organoid_Immature basal', 'organoid_Myocytes', 'organoid_Early fibroblasts FRZB+', 'organoid_Capillary arterioles', 'organoid_Neuron progenitors SPP1+', 'organoid_Periderm', 'organoid_Neuroepithelial cells', 'organoid_Immature suprabasal', 'organoid_Merkel cells', 'organoid_Early myocytes', 'organoid_Neuron progenitors', 'organoid_Myoblasts']\n"
     ]
    }
   ],
   "source": [
    "# check annotations\n",
    "print(list(pdata2.obs['joint_annotation_20220202'].unique()))\n",
    "print(list(pdata2.obs['org_annot0'].unique()))"
   ]
  },
  {
   "cell_type": "code",
   "execution_count": 18,
   "id": "julian-sense",
   "metadata": {},
   "outputs": [
    {
     "name": "stdout",
     "output_type": "stream",
     "text": [
      "['fetal_LYVE1++ macrophage', 'fetal_Monocyte (activated/differentiating)', 'fetal_Eo/baso/mast cell progenitor', 'fetal_DC2', 'fetal_TREM2+ macrophage', 'fetal_Monocyte precursor', 'fetal_Monocyte', 'fetal_WNT2+ fibroblast', 'fetal_Iron-recycling macrophage', 'fetal_NK cell', 'fetal_B cell', 'fetal_LTi', 'fetal_ILC3', 'fetal_Inflammatory DC', 'fetal_MEMP - Early erythroid', 'fetal_CD4 T cell', 'fetal_Pro B cell', 'fetal_HSC', 'fetal_Pre B cell', 'fetal_MHCII+ macrophage', 'fetal_LE', 'fetal_Pre pro B cell', 'fetal_Innate T type1', 'fetal_CD8 T cell', 'fetal_Myocytes', 'fetal_pDC', 'fetal_Mast cell (most mature)', 'fetal_DC1', 'fetal_Mast cell (medium)', 'fetal_Capillaries', 'fetal_Neutrophil2', 'fetal_Capillary arterioles', 'fetal_LC', 'fetal_Megakaryocyte', 'fetal_MEMP - Megak', 'fetal_Mast cell (earliest)', 'fetal_Erythroid (fetal)', 'fetal_Myoblasts', 'fetal_Myofibroblasts', 'fetal_Pre-dermal condensate', 'fetal_HOXC5+ early fibroblast', 'fetal_PEAR1+ fibroblast', 'fetal_Pericytes', 'fetal_FRZB+ early fibroblast', 'fetal_Early erythroid (embryonic)', 'fetal_Early myocytes', 'fetal_Neuron progenitors', 'fetal_Myelinating Schwann cells', 'fetal_Schwann/Schwann precursors', 'fetal_LMCD1+ mural cell', 'fetal_PLN+ mural cell', 'fetal_ILC2', 'fetal_Lymphoid progenitor', 'fetal_SPP1+ proliferating neuron progenitors', 'fetal_Adipocytes', 'fetal_Neutrophil1', 'fetal_Postcapillary venules', 'fetal_PID1+ schwann cellls', 'fetal_Early LE', 'fetal_Neuroendocrine', 'fetal_Innate T type3', 'fetal_Treg', 'fetal_ASDC', 'fetal_Early endothelial cells', 'fetal_Periderm', 'fetal_Melanocyte', 'fetal_Melanoblast', 'fetal_Dermal condensate', 'fetal_Arterioles', 'fetal_Immature basal', 'fetal_Early erythroid', 'fetal_Immature suprabasal', 'fetal_Erythroid (embryonic)', 'fetal_Venules', 'fetal_Dermal papilla', 'fetal_DPYSL2+ basal', 'fetal_Outer root sheath', 'fetal_Cuticle/cortex', 'fetal_Placode/matrix', 'fetal_POSTN+ basal', 'fetal_Suprabasal IFE', 'fetal_Companion layer', 'fetal_Inner root sheath', 'organoid_Fibroblasts POSTN+', 'organoid_Dermal condensate', 'organoid_Pre-dermal condensate', 'organoid_Placode/matrix', 'organoid_Basal', 'organoid_Outer root sheath', 'organoid_Basal POSTN+', 'organoid_Adipocytes', 'organoid_Inner root sheath', 'organoid_Dermal papilla', 'organoid_Cuticle/cortex', 'organoid_Suprabasal IFE', 'organoid_Companion layer', 'organoid_Smooth muscle/Pericytes', 'organoid_Melanoblasts', 'organoid_Melanocytes', 'organoid_Secreting neuron', 'organoid_Proliferating melanoblasts', 'organoid_Early fibroblasts HOXC5+', 'organoid_Schwann cells/Schwann precursors', 'organoid_Myelinating Schwann cells', 'organoid_Immature basal', 'organoid_Myocytes', 'organoid_Early fibroblasts FRZB+', 'organoid_Capillary arterioles', 'organoid_Neuron progenitors SPP1+', 'organoid_Periderm', 'organoid_Neuroepithelial cells', 'organoid_Immature suprabasal', 'organoid_Merkel cells', 'organoid_Early myocytes', 'organoid_Neuron progenitors', 'organoid_Myoblasts']\n"
     ]
    }
   ],
   "source": [
    "#create combined annotation column\n",
    "pdata2.obs['pooled_annot'] = pdata2.obs['org_annot0']\n",
    "cond = (pdata2.obs['pooled_annot'] == 'nan')\n",
    "pdata2.obs.loc[cond, 'pooled_annot'] = 'fetal_' + pdata2.obs['joint_annotation_20220202']\n",
    "print(list(pdata2.obs['pooled_annot'].unique()))"
   ]
  },
  {
   "cell_type": "code",
   "execution_count": 19,
   "id": "proof-retreat",
   "metadata": {},
   "outputs": [
    {
     "data": {
      "text/plain": [
       "AnnData object with n_obs × n_vars = 300811 × 19372\n",
       "    obs: 'sanger_id', 'chemistry', 'batch', 'gender', 'pcw', 'sorting', 'sample', 'chemistry_sorting', 'day', 'sample_id', 'version', 'week', 'org_annot30', 'dataset', 'joint_annotation_20220202', 'fig1b_annotation_v2', 'independent_annotation_refined_20220202', 'annot', 'org_annot0', 'pooled_annot'"
      ]
     },
     "execution_count": 19,
     "metadata": {},
     "output_type": "execute_result"
    }
   ],
   "source": [
    "del pdata2.obsm['X_pca_project']\n",
    "del pdata2.obsm['X_umap']\n",
    "pdata2"
   ]
  },
  {
   "cell_type": "code",
   "execution_count": 20,
   "id": "soviet-female",
   "metadata": {
    "tags": []
   },
   "outputs": [
    {
     "name": "stderr",
     "output_type": "stream",
     "text": [
      "... storing 'sanger_id' as categorical\n",
      "... storing 'chemistry' as categorical\n",
      "... storing 'batch' as categorical\n",
      "... storing 'gender' as categorical\n",
      "... storing 'sorting' as categorical\n",
      "... storing 'sample' as categorical\n",
      "... storing 'chemistry_sorting' as categorical\n",
      "... storing 'day' as categorical\n",
      "... storing 'sample_id' as categorical\n",
      "... storing 'version' as categorical\n",
      "... storing 'week' as categorical\n",
      "... storing 'org_annot30' as categorical\n",
      "... storing 'dataset' as categorical\n",
      "... storing 'joint_annotation_20220202' as categorical\n",
      "... storing 'fig1b_annotation_v2' as categorical\n",
      "... storing 'independent_annotation_refined_20220202' as categorical\n",
      "... storing 'annot' as categorical\n",
      "... storing 'org_annot0' as categorical\n",
      "... storing 'pooled_annot' as categorical\n"
     ]
    }
   ],
   "source": [
    "#save data object to be converted from h5ad to rds\n",
    "pdata2.write_h5ad('/nfs/team298/hg6/Fetal_skin/data/FS_organoid_Nichenet.h5ad')"
   ]
  },
  {
   "cell_type": "code",
   "execution_count": null,
   "id": "typical-graduation",
   "metadata": {},
   "outputs": [],
   "source": []
  }
 ],
 "metadata": {
  "kernelspec": {
   "display_name": "my_new_env_clone2",
   "language": "python",
   "name": "my_new_env_clone2"
  },
  "language_info": {
   "codemirror_mode": {
    "name": "ipython",
    "version": 3
   },
   "file_extension": ".py",
   "mimetype": "text/x-python",
   "name": "python",
   "nbconvert_exporter": "python",
   "pygments_lexer": "ipython3",
   "version": "3.9.6"
  }
 },
 "nbformat": 4,
 "nbformat_minor": 5
}
